{
 "cells": [
  {
   "cell_type": "code",
   "execution_count": 6,
   "id": "db4cb0c0-1302-42d0-b9ed-b1ab9a392233",
   "metadata": {},
   "outputs": [],
   "source": [
    "from Modules.CleanData import get_data\n",
    "from qualifier.utils.SQL import add_new_table"
   ]
  },
  {
   "cell_type": "code",
   "execution_count": 7,
   "id": "5f3de3a6-0ca0-4b4c-ad27-e10450f85627",
   "metadata": {},
   "outputs": [],
   "source": [
    "a = get_data('09-14-2022')\n",
    "\n"
   ]
  },
  {
   "cell_type": "code",
   "execution_count": 8,
   "id": "15031ff2-6032-4f0d-997a-fabf99b2de94",
   "metadata": {},
   "outputs": [
    {
     "data": {
      "text/html": [
       "<div>\n",
       "<style scoped>\n",
       "    .dataframe tbody tr th:only-of-type {\n",
       "        vertical-align: middle;\n",
       "    }\n",
       "\n",
       "    .dataframe tbody tr th {\n",
       "        vertical-align: top;\n",
       "    }\n",
       "\n",
       "    .dataframe thead th {\n",
       "        text-align: right;\n",
       "    }\n",
       "</style>\n",
       "<table border=\"1\" class=\"dataframe\">\n",
       "  <thead>\n",
       "    <tr style=\"text-align: right;\">\n",
       "      <th></th>\n",
       "      <th>Symbol</th>\n",
       "      <th>Price</th>\n",
       "      <th>Type</th>\n",
       "      <th>Strike</th>\n",
       "      <th>Exp Date</th>\n",
       "      <th>DTE</th>\n",
       "      <th>Bid</th>\n",
       "      <th>Midpoint</th>\n",
       "      <th>Ask</th>\n",
       "      <th>Last</th>\n",
       "      <th>Volume</th>\n",
       "      <th>Open Int</th>\n",
       "      <th>OI Chg</th>\n",
       "      <th>IV</th>\n",
       "      <th>Time</th>\n",
       "    </tr>\n",
       "  </thead>\n",
       "  <tbody>\n",
       "    <tr>\n",
       "      <th>1907</th>\n",
       "      <td>AA</td>\n",
       "      <td>44.81</td>\n",
       "      <td>Put</td>\n",
       "      <td>43.0</td>\n",
       "      <td>2022-09-16</td>\n",
       "      <td>2.0</td>\n",
       "      <td>0.40</td>\n",
       "      <td>0.43</td>\n",
       "      <td>0.45</td>\n",
       "      <td>0.41</td>\n",
       "      <td>600.0</td>\n",
       "      <td>188.0</td>\n",
       "      <td>-19</td>\n",
       "      <td>83.62%</td>\n",
       "      <td>2022-09-14</td>\n",
       "    </tr>\n",
       "    <tr>\n",
       "      <th>1839</th>\n",
       "      <td>AA</td>\n",
       "      <td>44.81</td>\n",
       "      <td>Put</td>\n",
       "      <td>45.0</td>\n",
       "      <td>2022-09-16</td>\n",
       "      <td>2.0</td>\n",
       "      <td>1.16</td>\n",
       "      <td>1.20</td>\n",
       "      <td>1.24</td>\n",
       "      <td>1.19</td>\n",
       "      <td>1360.0</td>\n",
       "      <td>2098.0</td>\n",
       "      <td>-27</td>\n",
       "      <td>82.53%</td>\n",
       "      <td>2022-09-14</td>\n",
       "    </tr>\n",
       "    <tr>\n",
       "      <th>155</th>\n",
       "      <td>AAL</td>\n",
       "      <td>14.03</td>\n",
       "      <td>Call</td>\n",
       "      <td>14.0</td>\n",
       "      <td>2022-09-16</td>\n",
       "      <td>2.0</td>\n",
       "      <td>0.26</td>\n",
       "      <td>0.27</td>\n",
       "      <td>0.27</td>\n",
       "      <td>0.26</td>\n",
       "      <td>10637.0</td>\n",
       "      <td>22188.0</td>\n",
       "      <td>+2,212</td>\n",
       "      <td>58.91%</td>\n",
       "      <td>2022-09-14</td>\n",
       "    </tr>\n",
       "    <tr>\n",
       "      <th>159</th>\n",
       "      <td>AAL</td>\n",
       "      <td>14.03</td>\n",
       "      <td>Put</td>\n",
       "      <td>14.0</td>\n",
       "      <td>2022-09-16</td>\n",
       "      <td>2.0</td>\n",
       "      <td>0.23</td>\n",
       "      <td>0.24</td>\n",
       "      <td>0.25</td>\n",
       "      <td>0.24</td>\n",
       "      <td>1931.0</td>\n",
       "      <td>16516.0</td>\n",
       "      <td>+2,156</td>\n",
       "      <td>61.74%</td>\n",
       "      <td>2022-09-14</td>\n",
       "    </tr>\n",
       "    <tr>\n",
       "      <th>1237</th>\n",
       "      <td>AAPL</td>\n",
       "      <td>155.31</td>\n",
       "      <td>Call</td>\n",
       "      <td>140.0</td>\n",
       "      <td>2022-09-16</td>\n",
       "      <td>2.0</td>\n",
       "      <td>15.25</td>\n",
       "      <td>15.40</td>\n",
       "      <td>15.55</td>\n",
       "      <td>15.54</td>\n",
       "      <td>674.0</td>\n",
       "      <td>21206.0</td>\n",
       "      <td>-399</td>\n",
       "      <td>75.41%</td>\n",
       "      <td>2022-09-14</td>\n",
       "    </tr>\n",
       "  </tbody>\n",
       "</table>\n",
       "<p>847 rows × 15 columns</p>\n",
       "</div>"
      ],
      "text/plain": [

       "     Symbol   Price  Type  Strike  ... Open Int  OI Chg      IV        Time\n",
       "1907     AA   44.81   Put    43.0  ...    188.0     -19  83.62%  2022-09-14\n",
       "1839     AA   44.81   Put    45.0  ...   2098.0     -27  82.53%  2022-09-14\n",
       "155     AAL   14.03  Call    14.0  ...  22188.0  +2,212  58.91%  2022-09-14\n",
       "159     AAL   14.03   Put    14.0  ...  16516.0  +2,156  61.74%  2022-09-14\n",
       "1237   AAPL  155.31  Call   140.0  ...  21206.0    -399  75.41%  2022-09-14\n",
       "\n",
       "[5 rows x 15 columns]"

      ]
     },
     "execution_count": 8,
     "metadata": {},
     "output_type": "execute_result"
    }
   ],
   "source": [
    "a"
   ]
  },
  {
   "cell_type": "code",
   "execution_count": 4,
   "id": "a9025aaa-6615-4395-8479-dcfa2c01ef23",
   "metadata": {},
   "outputs": [
    {
     "name": "stdout",
     "output_type": "stream",
     "text": [
      "2022-09-14 23:15:20,178 INFO sqlalchemy.engine.Engine PRAGMA main.table_info(\"2022-09-14\")\n",
      "2022-09-14 23:15:20,179 INFO sqlalchemy.engine.Engine [raw sql] ()\n",
      "2022-09-14 23:15:20,180 INFO sqlalchemy.engine.Engine PRAGMA temp.table_info(\"2022-09-14\")\n",
      "2022-09-14 23:15:20,180 INFO sqlalchemy.engine.Engine [raw sql] ()\n",
      "2022-09-14 23:15:20,183 INFO sqlalchemy.engine.Engine BEGIN (implicit)\n",
      "2022-09-14 23:15:20,184 INFO sqlalchemy.engine.Engine \n",
      "CREATE TABLE \"2022-09-14\" (\n",
      "\t\"Symbol\" TEXT, \n",
      "\t\"Price\" FLOAT, \n",
      "\t\"Type\" TEXT, \n",
      "\t\"Strike\" FLOAT, \n",
      "\t\"Exp Date\" TEXT, \n",
      "\t\"DTE\" FLOAT, \n",
      "\t\"Bid\" FLOAT, \n",
      "\t\"Midpoint\" FLOAT, \n",
      "\t\"Ask\" FLOAT, \n",
      "\t\"Last\" FLOAT, \n",
      "\t\"Volume\" FLOAT, \n",
      "\t\"Open Int\" FLOAT, \n",
      "\t\"OI Chg\" TEXT, \n",
      "\t\"IV\" TEXT, \n",
      "\t\"Time\" TEXT\n",
      ")\n",
      "\n",
      "\n",
      "2022-09-14 23:15:20,185 INFO sqlalchemy.engine.Engine [no key 0.00068s] ()\n",
      "2022-09-14 23:15:20,188 INFO sqlalchemy.engine.Engine COMMIT\n",
      "2022-09-14 23:15:20,191 INFO sqlalchemy.engine.Engine BEGIN (implicit)\n",
      "2022-09-14 23:15:20,211 INFO sqlalchemy.engine.Engine INSERT INTO \"2022-09-14\" (\"Symbol\", \"Price\", \"Type\", \"Strike\", \"Exp Date\", \"DTE\", \"Bid\", \"Midpoint\", \"Ask\", \"Last\", \"Volume\", \"Open Int\", \"OI Chg\", \"IV\", \"Time\") VALUES (?, ?, ?, ?, ?, ?, ?, ?, ?, ?, ?, ?, ?, ?, ?)\n",
      "2022-09-14 23:15:20,212 INFO sqlalchemy.engine.Engine [generated in 0.01763s] (('AA', 44.81, 'Put', 43.0, '2022-09-16', 2.0, 0.4, 0.43, 0.45, 0.41, 600.0, 188.0, '-19', '83.62%', '2022-09-14'), ('AA', 44.81, 'Put', 45.0, '2022-09-16', 2.0, 1.16, 1.2, 1.24, 1.19, 1360.0, 2098.0, '-27', '82.53%', '2022-09-14'), ('AAL', 14.03, 'Call', 14.0, '2022-09-16', 2.0, 0.26, 0.27, 0.27, 0.26, 10637.0, 22188.0, '+2,212', '58.91%', '2022-09-14'), ('AAL', 14.03, 'Put', 14.0, '2022-09-16', 2.0, 0.23, 0.24, 0.25, 0.24, 1931.0, 16516.0, '+2,156', '61.74%', '2022-09-14'), ('AAPL', 155.31, 'Call', 140.0, '2022-09-16', 2.0, 15.25, 15.4, 15.55, 15.54, 674.0, 21206.0, '-399', '75.41%', '2022-09-14'), ('AAPL', 155.31, 'Call', 150.0, '2022-09-16', 2.0, 5.45, 5.65, 5.85, 5.8, 3846.0, 48536.0, '-941', '44.45%', '2022-09-14'), ('AAPL', 155.31, 'Call', 152.5, '2022-09-16', 2.0, 3.5, 3.58, 3.65, 3.6, 9040.0, 17736.0, '+645', '38.43%', '2022-09-14'), ('AAPL', 155.31, 'Call', 155.0, '2022-09-16', 2.0, 1.88, 1.89, 1.9, 1.9, 80360.0, 48254.0, '-773', '36.40%', '2022-09-14')  ... displaying 10 of 847 total bound parameter sets ...  ('Z', 35.66, 'Call', 35.0, '2022-09-16', 2.0, 1.1, 1.14, 1.17, 1.13, 698.0, 1124.0, '-30', '72.05%', '2022-09-14'), ('ZIM', 31.53, 'Call', 32.0, '2022-09-16', 2.0, 0.55, 0.6, 0.65, 0.5, 2724.0, 354.0, '-32', '89.76%', '2022-09-14'))\n",
      "2022-09-14 23:15:20,215 INFO sqlalchemy.engine.Engine COMMIT\n",
      "2022-09-14 23:15:20,218 INFO sqlalchemy.engine.Engine SELECT name FROM sqlite_master WHERE type='table' ORDER BY name\n",
      "2022-09-14 23:15:20,218 INFO sqlalchemy.engine.Engine [raw sql] ()\n",
      "2022-09-14 23:15:20,220 INFO sqlalchemy.engine.Engine SELECT name FROM sqlite_master WHERE type='table' ORDER BY name\n",
      "2022-09-14 23:15:20,221 INFO sqlalchemy.engine.Engine [raw sql] ()\n"
     ]
    },
    {
     "data": {
      "text/plain": [
       "['2022-09-14']"
      ]
     },
     "execution_count": 4,
     "metadata": {},
     "output_type": "execute_result"
    }
   ],
   "source": [
    "add_new_table(a)"
   ]
  },
  {
   "cell_type": "code",
   "execution_count": null,
   "id": "8de05a39",
   "metadata": {},
   "outputs": [],
   "source": []
  }
 ],
 "metadata": {
  "kernelspec": {
   "display_name": "Python 3.7.13 ('dev')",
   "language": "python",
   "name": "python3"
  },
  "language_info": {
   "codemirror_mode": {
    "name": "ipython",
    "version": 3
   },
   "file_extension": ".py",
   "mimetype": "text/x-python",
   "name": "python",
   "nbconvert_exporter": "python",
   "pygments_lexer": "ipython3",
   "version": "3.7.13"
  },
  "vscode": {
   "interpreter": {
    "hash": "c15db3377afa3dcb659dfa4a45bef3fc6c9aec87eaa6dcb1828c53c173a1512b"
   }
  }
 },
 "nbformat": 4,
 "nbformat_minor": 5
}
