{
 "cells": [
  {
   "cell_type": "code",
   "execution_count": 37,
   "metadata": {},
   "outputs": [],
   "source": [
    "import fire\n",
    "import os\n",
    "import requests\n",
    "import pandas as pd\n",
    "from dotenv import load_dotenv\n",
    "load_dotenv()\n",
    "import numpy as np\n",
    "import alpaca_trade_api as alpaca\n",
    "import questionary\n",
    "import hvplot.pandas\n",
    "\n",
    "from qualifier.utils.alpaca_api import alpaca_func\n",
    "\n",
    "from qualifier.utils.analysis import largest_20_OI\n",
    "from qualifier.utils.analysis import largest_20_OI_plot\n",
    "from qualifier.utils.analysis import options_call_bar\n",
    "from qualifier.utils.analysis import options_put_bar\n",
    "from qualifier.utils.analysis import put_stats\n",
    "from qualifier.utils.analysis import call_stats\n",
    "from qualifier.utils.analysis import ticker_report\n",
    "from qualifier.utils.analysis import option_change_top_20\n",
    "\n",
    "from Modules.CleanData import get_data\n",
    "from qualifier.utils.SQL import add_new_table"
   ]
  },
  {
   "cell_type": "markdown",
   "metadata": {},
   "source": [
    "# Alpaca API"
   ]
  },
  {
   "cell_type": "code",
   "execution_count": 38,
   "metadata": {},
   "outputs": [],
   "source": [
    "# Gets Alpaca key and secret from .env.\n",
    "alpaca_key = os.getenv(\"ALPACA_API_KEY\")\n",
    "alpaca_secret = os.getenv(\"ALPACA_SECRET_KEY\")\n",
    "\n",
    "# Specify dates for Alpaca API.\n",
    "start_date = \"2022-09-12\"\n",
    "end_date = \"2022-09-16\"\n",
    "\n",
    "# Specify ticker of stock to get info from Alpaca API.\n",
    "stock = \"AAPL\""
   ]
  },
  {
   "cell_type": "code",
   "execution_count": 39,
   "metadata": {},
   "outputs": [
    {
     "data": {
      "text/html": [
       "<div>\n",
       "<style scoped>\n",
       "    .dataframe tbody tr th:only-of-type {\n",
       "        vertical-align: middle;\n",
       "    }\n",
       "\n",
       "    .dataframe tbody tr th {\n",
       "        vertical-align: top;\n",
       "    }\n",
       "\n",
       "    .dataframe thead th {\n",
       "        text-align: right;\n",
       "    }\n",
       "</style>\n",
       "<table border=\"1\" class=\"dataframe\">\n",
       "  <thead>\n",
       "    <tr style=\"text-align: right;\">\n",
       "      <th></th>\n",
       "      <th>open</th>\n",
       "      <th>high</th>\n",
       "      <th>low</th>\n",
       "      <th>close</th>\n",
       "      <th>volume</th>\n",
       "      <th>trade_count</th>\n",
       "      <th>vwap</th>\n",
       "    </tr>\n",
       "    <tr>\n",
       "      <th>timestamp</th>\n",
       "      <th></th>\n",
       "      <th></th>\n",
       "      <th></th>\n",
       "      <th></th>\n",
       "      <th></th>\n",
       "      <th></th>\n",
       "      <th></th>\n",
       "    </tr>\n",
       "  </thead>\n",
       "  <tbody>\n",
       "    <tr>\n",
       "      <th>2022-09-12 04:00:00+00:00</th>\n",
       "      <td>159.57</td>\n",
       "      <td>164.26</td>\n",
       "      <td>159.3000</td>\n",
       "      <td>163.43</td>\n",
       "      <td>104955951</td>\n",
       "      <td>801510</td>\n",
       "      <td>162.476350</td>\n",
       "    </tr>\n",
       "    <tr>\n",
       "      <th>2022-09-13 04:00:00+00:00</th>\n",
       "      <td>160.00</td>\n",
       "      <td>160.54</td>\n",
       "      <td>153.3700</td>\n",
       "      <td>153.84</td>\n",
       "      <td>122534825</td>\n",
       "      <td>1016901</td>\n",
       "      <td>156.155955</td>\n",
       "    </tr>\n",
       "    <tr>\n",
       "      <th>2022-09-14 04:00:00+00:00</th>\n",
       "      <td>154.79</td>\n",
       "      <td>157.10</td>\n",
       "      <td>153.6106</td>\n",
       "      <td>155.31</td>\n",
       "      <td>87944110</td>\n",
       "      <td>715880</td>\n",
       "      <td>155.261313</td>\n",
       "    </tr>\n",
       "    <tr>\n",
       "      <th>2022-09-15 04:00:00+00:00</th>\n",
       "      <td>154.70</td>\n",
       "      <td>155.24</td>\n",
       "      <td>151.3800</td>\n",
       "      <td>152.37</td>\n",
       "      <td>90353619</td>\n",
       "      <td>740014</td>\n",
       "      <td>153.006880</td>\n",
       "    </tr>\n",
       "    <tr>\n",
       "      <th>2022-09-16 04:00:00+00:00</th>\n",
       "      <td>151.33</td>\n",
       "      <td>151.35</td>\n",
       "      <td>148.3700</td>\n",
       "      <td>150.70</td>\n",
       "      <td>163574426</td>\n",
       "      <td>850046</td>\n",
       "      <td>150.227405</td>\n",
       "    </tr>\n",
       "  </tbody>\n",
       "</table>\n",
       "</div>"
      ],
      "text/plain": [
       "                             open    high       low   close     volume  \\\n",
       "timestamp                                                                \n",
       "2022-09-12 04:00:00+00:00  159.57  164.26  159.3000  163.43  104955951   \n",
       "2022-09-13 04:00:00+00:00  160.00  160.54  153.3700  153.84  122534825   \n",
       "2022-09-14 04:00:00+00:00  154.79  157.10  153.6106  155.31   87944110   \n",
       "2022-09-15 04:00:00+00:00  154.70  155.24  151.3800  152.37   90353619   \n",
       "2022-09-16 04:00:00+00:00  151.33  151.35  148.3700  150.70  163574426   \n",
       "\n",
       "                           trade_count        vwap  \n",
       "timestamp                                           \n",
       "2022-09-12 04:00:00+00:00       801510  162.476350  \n",
       "2022-09-13 04:00:00+00:00      1016901  156.155955  \n",
       "2022-09-14 04:00:00+00:00       715880  155.261313  \n",
       "2022-09-15 04:00:00+00:00       740014  153.006880  \n",
       "2022-09-16 04:00:00+00:00       850046  150.227405  "
      ]
     },
     "execution_count": 39,
     "metadata": {},
     "output_type": "execute_result"
    }
   ],
   "source": [
    "# Calling alpaca_func\n",
    "alpaca_func(alpaca_key, alpaca_secret, start_date, end_date, stock)"
   ]
  },
  {
   "cell_type": "markdown",
   "metadata": {},
   "source": [
    "# Tao's Code"
   ]
  },
  {
   "cell_type": "code",
   "execution_count": 40,
   "metadata": {},
   "outputs": [],
   "source": [
    "# Specify date for Tao's code.\n",
    "# Tao's code takes year at the end.\n",
    "\n",
    "date = \"09-16-2022\""
   ]
  },
  {
   "cell_type": "code",
   "execution_count": 41,
   "metadata": {},
   "outputs": [],
   "source": [
    "# Calling get_data()\n",
    "df = get_data(date)\n"
   ]
  },
  {
   "cell_type": "code",
   "execution_count": 42,
   "metadata": {},
   "outputs": [
    {
     "data": {},
     "metadata": {},
     "output_type": "display_data"
    },
    {
     "data": {
      "application/vnd.holoviews_exec.v0+json": "",
      "text/html": [
       "<div id='3635'>\n",
       "  <div class=\"bk-root\" id=\"bb453fcf-2a1a-4b33-ad90-a4fdba3925c1\" data-root-id=\"3635\"></div>\n",
       "</div>\n",
       "<script type=\"application/javascript\">(function(root) {\n",
       "  function embed_document(root) {\n",
       "    var docs_json = {\"8d4e230d-46de-4714-b044-2e35375d4d6f\":{\"defs\":[{\"extends\":null,\"module\":null,\"name\":\"ReactiveHTML1\",\"overrides\":[],\"properties\":[]},{\"extends\":null,\"module\":null,\"name\":\"FlexBox1\",\"overrides\":[],\"properties\":[{\"default\":\"flex-start\",\"kind\":null,\"name\":\"align_content\"},{\"default\":\"flex-start\",\"kind\":null,\"name\":\"align_items\"},{\"default\":\"row\",\"kind\":null,\"name\":\"flex_direction\"},{\"default\":\"wrap\",\"kind\":null,\"name\":\"flex_wrap\"},{\"default\":\"flex-start\",\"kind\":null,\"name\":\"justify_content\"}]},{\"extends\":null,\"module\":null,\"name\":\"GridStack1\",\"overrides\":[],\"properties\":[{\"default\":\"warn\",\"kind\":null,\"name\":\"mode\"},{\"default\":null,\"kind\":null,\"name\":\"ncols\"},{\"default\":null,\"kind\":null,\"name\":\"nrows\"},{\"default\":true,\"kind\":null,\"name\":\"allow_resize\"},{\"default\":true,\"kind\":null,\"name\":\"allow_drag\"},{\"default\":[],\"kind\":null,\"name\":\"state\"}]},{\"extends\":null,\"module\":null,\"name\":\"click1\",\"overrides\":[],\"properties\":[{\"default\":\"\",\"kind\":null,\"name\":\"terminal_output\"},{\"default\":\"\",\"kind\":null,\"name\":\"debug_name\"},{\"default\":0,\"kind\":null,\"name\":\"clears\"}]},{\"extends\":null,\"module\":null,\"name\":\"NotificationAreaBase1\",\"overrides\":[],\"properties\":[{\"default\":\"bottom-right\",\"kind\":null,\"name\":\"position\"},{\"default\":0,\"kind\":null,\"name\":\"_clear\"}]},{\"extends\":null,\"module\":null,\"name\":\"NotificationArea1\",\"overrides\":[],\"properties\":[{\"default\":[],\"kind\":null,\"name\":\"notifications\"},{\"default\":\"bottom-right\",\"kind\":null,\"name\":\"position\"},{\"default\":0,\"kind\":null,\"name\":\"_clear\"},{\"default\":[{\"background\":\"#ffc107\",\"icon\":{\"className\":\"fas fa-exclamation-triangle\",\"color\":\"white\",\"tagName\":\"i\"},\"type\":\"warning\"},{\"background\":\"#007bff\",\"icon\":{\"className\":\"fas fa-info-circle\",\"color\":\"white\",\"tagName\":\"i\"},\"type\":\"info\"}],\"kind\":null,\"name\":\"types\"}]},{\"extends\":null,\"module\":null,\"name\":\"Notification\",\"overrides\":[],\"properties\":[{\"default\":null,\"kind\":null,\"name\":\"background\"},{\"default\":3000,\"kind\":null,\"name\":\"duration\"},{\"default\":null,\"kind\":null,\"name\":\"icon\"},{\"default\":\"\",\"kind\":null,\"name\":\"message\"},{\"default\":null,\"kind\":null,\"name\":\"notification_type\"},{\"default\":false,\"kind\":null,\"name\":\"_destroyed\"}]},{\"extends\":null,\"module\":null,\"name\":\"TemplateActions1\",\"overrides\":[],\"properties\":[{\"default\":0,\"kind\":null,\"name\":\"open_modal\"},{\"default\":0,\"kind\":null,\"name\":\"close_modal\"}]},{\"extends\":null,\"module\":null,\"name\":\"MaterialTemplateActions1\",\"overrides\":[],\"properties\":[{\"default\":0,\"kind\":null,\"name\":\"open_modal\"},{\"default\":0,\"kind\":null,\"name\":\"close_modal\"}]}],\"roots\":{\"references\":[{\"attributes\":{\"margin\":[5,5,5,5],\"name\":\"HSpacer10241\",\"sizing_mode\":\"stretch_width\"},\"id\":\"3697\",\"type\":\"Spacer\"},{\"attributes\":{\"bottom_units\":\"screen\",\"coordinates\":null,\"fill_alpha\":0.5,\"fill_color\":\"lightgrey\",\"group\":null,\"left_units\":\"screen\",\"level\":\"overlay\",\"line_alpha\":1.0,\"line_color\":\"black\",\"line_dash\":[4,4],\"line_width\":2,\"right_units\":\"screen\",\"syncable\":false,\"top_units\":\"screen\"},\"id\":\"3661\",\"type\":\"BoxAnnotation\"},{\"attributes\":{\"coordinates\":null,\"data_source\":{\"id\":\"3670\"},\"glyph\":{\"id\":\"3673\"},\"group\":null,\"hover_glyph\":null,\"muted_glyph\":{\"id\":\"3675\"},\"nonselection_glyph\":{\"id\":\"3674\"},\"selection_glyph\":{\"id\":\"3678\"},\"view\":{\"id\":\"3677\"}},\"id\":\"3676\",\"type\":\"GlyphRenderer\"},{\"attributes\":{},\"id\":\"3658\",\"type\":\"WheelZoomTool\"},{\"attributes\":{\"data\":{\"Open_Int\":{\"__ndarray__\":\"AAAAAEjtAUEAAAAAgCnCQAAAAACQePxAAAAAAABx30AAAAAAIJ3rQAAAAACAUcVAAAAAAEC840AAAAAAwJXTQAAAAABgFuFAAAAAAABk3kAAAAAAAOnmQAAAAADAsNNAAAAAAABTuEAAAAAAwPLWQAAAAAAA1rZAAAAAAABxtkAAAAAAwJzfQAAAAAAA1LVAAAAAAADXwEAAAAAAAN+3QAAAAAAAUb9AAAAAAAA6vUAAAAAAAK/TQAAAAAAA6b5AAAAAAABYoEAAAAAAAJyyQAAAAAAA2LhAAAAAAIAtxEAAAAAAgNbCQAAAAABAjNlAAAAAAABn30AAAAAAQEXaQAAAAAAAurlAAAAAAADSxUAAAAAAAAa5QAAAAABA/tRAAAAAAEBj3UAAAAAAAHnUQAAAAAAAc85AAAAAAABgqUAAAAAAAHivQAAAAAAA58BAAAAAAGCH4UAAAAAAANW8QAAAAACApOdAAAAAAABEoEAAAAAAAM/PQAAAAAAAYKpAAAAAAAAhxUAAAAAAgNPDQAAAAACAus1AAAAAAAAvz0AAAAAAALSiQAAAAABAQtJAAAAAAADDukAAAAAAAFWxQAAAAACA+8NAAAAAAAC2vUAAAAAAwHvXQAAAAABAV9FAAAAAAADepUAAAAAAAHPLQAAAAAAAPqhAAAAAAADonUAAAAAAACSTQAAAAACABMZAAAAAAACytUAAAAAAgOXDQAAAAACA7MdAAAAAAADMqkAAAAAAAA6oQAAAAAAA4J9AAAAAAMDN3EAAAAAAAB+xQAAAAAAARbZAAAAAAIDTykAAAAAAAKW1QAAAAADA0eJAAAAAAABomkAAAAAAgPjUQAAAAACAHNNAAAAAAAC4kkAAAAAAgM3bQAAAAAAAIKhAAAAAAABknkAAAAAAAHKkQAAAAACAbMZAAAAAAAB8pUAAAAAAQNnRQAAAAAAA4qlAAAAAAMBa1UAAAAAAADTDQAAAAAAAWJxAAAAAAABGokAAAAAAwKzcQAAAAADA9thAAAAAAIARyUAAAAAAABThQAAAAAAARMxAAAAAAAD500AAAAAAANK9QAAAAAAABMpAAAAAAECS1EAAAAAAAMexQAAAAAAQhvRAAAAAAAACpUAAAAAAgLjeQAAAAAAAwG1AAAAAAADKwkAAAAAAwLLgQAAAAAAAbLJAAAAAAACqq0AAAAAAABqnQAAAAACAvsRAAAAAAAC+o0AAAAAAAKW4QAAAAAAACKZAAAAAAAAuoEAAAAAAALalQAAAAAAAZMBAAAAAAACkn0AAAAAAADSzQAAAAAAASLdAAAAAAIBcykAAAAAAANy8QAAAAAAALrdAAAAAAAB4rkAAAAAAgAnDQAAAAABgR+FAAAAAAAC6zUAAAAAAADnhQAAAAAAAAqhAAAAAAKA+40AAAAAAAAiQQAAAAAAASrFAAAAAAAA6sUAAAAAAAOTSQAAAAAAA+KJAAAAAAIBlxUAAAAAAACrBQAAAAAAAIK9AAAAAAAC/wEAAAAAAAMPRQAAAAAAAVqNAAAAAAACSrUAAAAAAANSnQAAAAAAAkJBAAAAAAABgdUAAAAAAABqxQAAAAAAA8KZAAAAAAAB9tUAAAAAAAPCWQAAAAAAAJJFAAAAAAABIn0AAAAAAALSuQAAAAAAAyKBAAAAAAADAa0AAAAAAAOq7QAAAAAAA/s5AAAAAAEBj2UAAAAAAANy4QAAAAAAA+bhAAAAAAADB1UAAAAAAAIW5QAAAAAAgEeNAAAAAAIC1xUAAAAAAANCVQAAAAAAAwKxAAAAAAACYz0AAAAAAAPKlQAAAAAAAL8xA\",\"dtype\":\"float64\",\"order\":\"little\",\"shape\":[171]},\"Symbol\":[\"F\",\"F\",\"F\",\"AAPL\",\"AAPL\",\"AAPL\",\"AAPL\",\"AAPL\",\"AAPL\",\"AAPL\",\"AMZN\",\"AMZN\",\"AMZN\",\"AMZN\",\"AMZN\",\"AMZN\",\"AMZN\",\"AMZN\",\"AMZN\",\"AMZN\",\"AMZN\",\"AMZN\",\"AMZN\",\"AMZN\",\"TSLA\",\"TSLA\",\"TSLA\",\"TSLA\",\"TSLA\",\"META\",\"META\",\"META\",\"META\",\"META\",\"META\",\"META\",\"AMD\",\"AMD\",\"AMD\",\"AMD\",\"AMD\",\"AMD\",\"BAC\",\"BAC\",\"AAL\",\"AAL\",\"AAL\",\"NIO\",\"NIO\",\"NIO\",\"NIO\",\"MSFT\",\"MSFT\",\"MSFT\",\"MSFT\",\"MSFT\",\"MSFT\",\"MSFT\",\"GOOGL\",\"GOOGL\",\"GOOGL\",\"GOOGL\",\"GOOGL\",\"GOOGL\",\"GOOGL\",\"NVDA\",\"NVDA\",\"NVDA\",\"NVDA\",\"NVDA\",\"NVDA\",\"NVDA\",\"INTC\",\"INTC\",\"INTC\",\"INTC\",\"INTC\",\"T\",\"T\",\"T\",\"BABA\",\"BABA\",\"BABA\",\"BABA\",\"BABA\",\"TWTR\",\"TWTR\",\"TWTR\",\"UBER\",\"CCL\",\"SNAP\",\"SNAP\",\"SBUX\",\"F\",\"F\",\"F\",\"F\",\"AAPL\",\"AAPL\",\"AAPL\",\"AAPL\",\"AAPL\",\"AAPL\",\"AMZN\",\"AMZN\",\"AMZN\",\"AMZN\",\"AMZN\",\"TSLA\",\"TSLA\",\"TSLA\",\"TSLA\",\"TSLA\",\"TSLA\",\"TSLA\",\"TSLA\",\"TSLA\",\"TSLA\",\"TSLA\",\"TSLA\",\"TSLA\",\"TSLA\",\"TSLA\",\"TSLA\",\"TSLA\",\"TSLA\",\"TSLA\",\"TSLA\",\"TSLA\",\"TSLA\",\"TSLA\",\"TSLA\",\"TSLA\",\"META\",\"AMD\",\"AMD\",\"BAC\",\"BAC\",\"BAC\",\"BAC\",\"AAL\",\"AAL\",\"NIO\",\"NIO\",\"NIO\",\"NIO\",\"NIO\",\"GOOGL\",\"NVDA\",\"NVDA\",\"NVDA\",\"NVDA\",\"NVDA\",\"NVDA\",\"INTC\",\"INTC\",\"BABA\",\"BABA\",\"TWTR\",\"TWTR\",\"UBER\",\"UBER\",\"UBER\",\"CCL\",\"CCL\",\"SNAP\",\"SNAP\",\"SBUX\",\"SBUX\",\"SBUX\",\"SBUX\"],\"Type\":[\"Put\",\"Put\",\"Put\",\"Put\",\"Put\",\"Put\",\"Put\",\"Put\",\"Put\",\"Put\",\"Put\",\"Put\",\"Put\",\"Put\",\"Put\",\"Put\",\"Put\",\"Put\",\"Put\",\"Put\",\"Put\",\"Put\",\"Put\",\"Put\",\"Put\",\"Put\",\"Put\",\"Put\",\"Put\",\"Put\",\"Put\",\"Put\",\"Put\",\"Put\",\"Put\",\"Put\",\"Put\",\"Put\",\"Put\",\"Put\",\"Put\",\"Put\",\"Put\",\"Put\",\"Put\",\"Put\",\"Put\",\"Put\",\"Put\",\"Put\",\"Put\",\"Put\",\"Put\",\"Put\",\"Put\",\"Put\",\"Put\",\"Put\",\"Put\",\"Put\",\"Put\",\"Put\",\"Put\",\"Put\",\"Put\",\"Put\",\"Put\",\"Put\",\"Put\",\"Put\",\"Put\",\"Put\",\"Put\",\"Put\",\"Put\",\"Put\",\"Put\",\"Put\",\"Put\",\"Put\",\"Put\",\"Put\",\"Put\",\"Put\",\"Put\",\"Put\",\"Put\",\"Put\",\"Put\",\"Put\",\"Put\",\"Put\",\"Put\",\"Call\",\"Call\",\"Call\",\"Call\",\"Call\",\"Call\",\"Call\",\"Call\",\"Call\",\"Call\",\"Call\",\"Call\",\"Call\",\"Call\",\"Call\",\"Call\",\"Call\",\"Call\",\"Call\",\"Call\",\"Call\",\"Call\",\"Call\",\"Call\",\"Call\",\"Call\",\"Call\",\"Call\",\"Call\",\"Call\",\"Call\",\"Call\",\"Call\",\"Call\",\"Call\",\"Call\",\"Call\",\"Call\",\"Call\",\"Call\",\"Call\",\"Call\",\"Call\",\"Call\",\"Call\",\"Call\",\"Call\",\"Call\",\"Call\",\"Call\",\"Call\",\"Call\",\"Call\",\"Call\",\"Call\",\"Call\",\"Call\",\"Call\",\"Call\",\"Call\",\"Call\",\"Call\",\"Call\",\"Call\",\"Call\",\"Call\",\"Call\",\"Call\",\"Call\",\"Call\",\"Call\",\"Call\",\"Call\",\"Call\",\"Call\",\"Call\",\"Call\",\"Call\"],\"xoffsets\":[[\"F\",\"Put\"],[\"F\",\"Put\"],[\"F\",\"Put\"],[\"AAPL\",\"Put\"],[\"AAPL\",\"Put\"],[\"AAPL\",\"Put\"],[\"AAPL\",\"Put\"],[\"AAPL\",\"Put\"],[\"AAPL\",\"Put\"],[\"AAPL\",\"Put\"],[\"AMZN\",\"Put\"],[\"AMZN\",\"Put\"],[\"AMZN\",\"Put\"],[\"AMZN\",\"Put\"],[\"AMZN\",\"Put\"],[\"AMZN\",\"Put\"],[\"AMZN\",\"Put\"],[\"AMZN\",\"Put\"],[\"AMZN\",\"Put\"],[\"AMZN\",\"Put\"],[\"AMZN\",\"Put\"],[\"AMZN\",\"Put\"],[\"AMZN\",\"Put\"],[\"AMZN\",\"Put\"],[\"TSLA\",\"Put\"],[\"TSLA\",\"Put\"],[\"TSLA\",\"Put\"],[\"TSLA\",\"Put\"],[\"TSLA\",\"Put\"],[\"META\",\"Put\"],[\"META\",\"Put\"],[\"META\",\"Put\"],[\"META\",\"Put\"],[\"META\",\"Put\"],[\"META\",\"Put\"],[\"META\",\"Put\"],[\"AMD\",\"Put\"],[\"AMD\",\"Put\"],[\"AMD\",\"Put\"],[\"AMD\",\"Put\"],[\"AMD\",\"Put\"],[\"AMD\",\"Put\"],[\"BAC\",\"Put\"],[\"BAC\",\"Put\"],[\"AAL\",\"Put\"],[\"AAL\",\"Put\"],[\"AAL\",\"Put\"],[\"NIO\",\"Put\"],[\"NIO\",\"Put\"],[\"NIO\",\"Put\"],[\"NIO\",\"Put\"],[\"MSFT\",\"Put\"],[\"MSFT\",\"Put\"],[\"MSFT\",\"Put\"],[\"MSFT\",\"Put\"],[\"MSFT\",\"Put\"],[\"MSFT\",\"Put\"],[\"MSFT\",\"Put\"],[\"GOOGL\",\"Put\"],[\"GOOGL\",\"Put\"],[\"GOOGL\",\"Put\"],[\"GOOGL\",\"Put\"],[\"GOOGL\",\"Put\"],[\"GOOGL\",\"Put\"],[\"GOOGL\",\"Put\"],[\"NVDA\",\"Put\"],[\"NVDA\",\"Put\"],[\"NVDA\",\"Put\"],[\"NVDA\",\"Put\"],[\"NVDA\",\"Put\"],[\"NVDA\",\"Put\"],[\"NVDA\",\"Put\"],[\"INTC\",\"Put\"],[\"INTC\",\"Put\"],[\"INTC\",\"Put\"],[\"INTC\",\"Put\"],[\"INTC\",\"Put\"],[\"T\",\"Put\"],[\"T\",\"Put\"],[\"T\",\"Put\"],[\"BABA\",\"Put\"],[\"BABA\",\"Put\"],[\"BABA\",\"Put\"],[\"BABA\",\"Put\"],[\"BABA\",\"Put\"],[\"TWTR\",\"Put\"],[\"TWTR\",\"Put\"],[\"TWTR\",\"Put\"],[\"UBER\",\"Put\"],[\"CCL\",\"Put\"],[\"SNAP\",\"Put\"],[\"SNAP\",\"Put\"],[\"SBUX\",\"Put\"],[\"F\",\"Call\"],[\"F\",\"Call\"],[\"F\",\"Call\"],[\"F\",\"Call\"],[\"AAPL\",\"Call\"],[\"AAPL\",\"Call\"],[\"AAPL\",\"Call\"],[\"AAPL\",\"Call\"],[\"AAPL\",\"Call\"],[\"AAPL\",\"Call\"],[\"AMZN\",\"Call\"],[\"AMZN\",\"Call\"],[\"AMZN\",\"Call\"],[\"AMZN\",\"Call\"],[\"AMZN\",\"Call\"],[\"TSLA\",\"Call\"],[\"TSLA\",\"Call\"],[\"TSLA\",\"Call\"],[\"TSLA\",\"Call\"],[\"TSLA\",\"Call\"],[\"TSLA\",\"Call\"],[\"TSLA\",\"Call\"],[\"TSLA\",\"Call\"],[\"TSLA\",\"Call\"],[\"TSLA\",\"Call\"],[\"TSLA\",\"Call\"],[\"TSLA\",\"Call\"],[\"TSLA\",\"Call\"],[\"TSLA\",\"Call\"],[\"TSLA\",\"Call\"],[\"TSLA\",\"Call\"],[\"TSLA\",\"Call\"],[\"TSLA\",\"Call\"],[\"TSLA\",\"Call\"],[\"TSLA\",\"Call\"],[\"TSLA\",\"Call\"],[\"TSLA\",\"Call\"],[\"TSLA\",\"Call\"],[\"TSLA\",\"Call\"],[\"TSLA\",\"Call\"],[\"META\",\"Call\"],[\"AMD\",\"Call\"],[\"AMD\",\"Call\"],[\"BAC\",\"Call\"],[\"BAC\",\"Call\"],[\"BAC\",\"Call\"],[\"BAC\",\"Call\"],[\"AAL\",\"Call\"],[\"AAL\",\"Call\"],[\"NIO\",\"Call\"],[\"NIO\",\"Call\"],[\"NIO\",\"Call\"],[\"NIO\",\"Call\"],[\"NIO\",\"Call\"],[\"GOOGL\",\"Call\"],[\"NVDA\",\"Call\"],[\"NVDA\",\"Call\"],[\"NVDA\",\"Call\"],[\"NVDA\",\"Call\"],[\"NVDA\",\"Call\"],[\"NVDA\",\"Call\"],[\"INTC\",\"Call\"],[\"INTC\",\"Call\"],[\"BABA\",\"Call\"],[\"BABA\",\"Call\"],[\"TWTR\",\"Call\"],[\"TWTR\",\"Call\"],[\"UBER\",\"Call\"],[\"UBER\",\"Call\"],[\"UBER\",\"Call\"],[\"CCL\",\"Call\"],[\"CCL\",\"Call\"],[\"SNAP\",\"Call\"],[\"SNAP\",\"Call\"],[\"SBUX\",\"Call\"],[\"SBUX\",\"Call\"],[\"SBUX\",\"Call\"],[\"SBUX\",\"Call\"]]},\"selected\":{\"id\":\"3671\"},\"selection_policy\":{\"id\":\"3694\"}},\"id\":\"3670\",\"type\":\"ColumnDataSource\"},{\"attributes\":{\"overlay\":{\"id\":\"3661\"}},\"id\":\"3659\",\"type\":\"BoxZoomTool\"},{\"attributes\":{},\"id\":\"3685\",\"type\":\"AllLabels\"},{\"attributes\":{},\"id\":\"3681\",\"type\":\"CategoricalTickFormatter\"},{\"attributes\":{\"bottom\":{\"value\":0},\"fill_alpha\":{\"value\":1.0},\"fill_color\":{\"field\":\"Type\",\"transform\":{\"id\":\"3669\"}},\"hatch_alpha\":{\"value\":1.0},\"hatch_color\":{\"field\":\"Type\",\"transform\":{\"id\":\"3669\"}},\"hatch_scale\":{\"value\":12.0},\"hatch_weight\":{\"value\":1.0},\"line_alpha\":{\"value\":1.0},\"line_cap\":{\"value\":\"butt\"},\"line_color\":{\"value\":\"black\"},\"line_dash\":{\"value\":[]},\"line_dash_offset\":{\"value\":0},\"line_join\":{\"value\":\"bevel\"},\"line_width\":{\"value\":1},\"top\":{\"field\":\"Open_Int\"},\"width\":{\"value\":0.8},\"x\":{\"field\":\"xoffsets\"}},\"id\":\"3678\",\"type\":\"VBar\"},{\"attributes\":{\"tools\":[{\"id\":\"3639\"},{\"id\":\"3656\"},{\"id\":\"3657\"},{\"id\":\"3658\"},{\"id\":\"3659\"},{\"id\":\"3660\"}]},\"id\":\"3662\",\"type\":\"Toolbar\"},{\"attributes\":{},\"id\":\"3653\",\"type\":\"BasicTicker\"},{\"attributes\":{},\"id\":\"3650\",\"type\":\"CategoricalTicker\"},{\"attributes\":{},\"id\":\"3645\",\"type\":\"CategoricalScale\"},{\"attributes\":{},\"id\":\"3682\",\"type\":\"AllLabels\"},{\"attributes\":{\"source\":{\"id\":\"3670\"}},\"id\":\"3677\",\"type\":\"CDSView\"},{\"attributes\":{\"children\":[{\"id\":\"3636\"},{\"id\":\"3640\"},{\"id\":\"3697\"}],\"margin\":[0,0,0,0],\"name\":\"Row10236\",\"tags\":[\"embedded\"]},\"id\":\"3635\",\"type\":\"Row\"},{\"attributes\":{\"fill_color\":{\"field\":\"Type\",\"transform\":{\"id\":\"3669\"}},\"hatch_color\":{\"field\":\"Type\",\"transform\":{\"id\":\"3669\"}},\"top\":{\"field\":\"Open_Int\"},\"width\":{\"value\":0.8},\"x\":{\"field\":\"xoffsets\"}},\"id\":\"3673\",\"type\":\"VBar\"},{\"attributes\":{},\"id\":\"3647\",\"type\":\"LinearScale\"},{\"attributes\":{\"factors\":[[\"F\",\"Call\"],[\"F\",\"Put\"],[\"AAPL\",\"Call\"],[\"AAPL\",\"Put\"],[\"AMZN\",\"Call\"],[\"AMZN\",\"Put\"],[\"TSLA\",\"Call\"],[\"TSLA\",\"Put\"],[\"META\",\"Call\"],[\"META\",\"Put\"],[\"AMD\",\"Call\"],[\"AMD\",\"Put\"],[\"BAC\",\"Call\"],[\"BAC\",\"Put\"],[\"AAL\",\"Call\"],[\"AAL\",\"Put\"],[\"NIO\",\"Call\"],[\"NIO\",\"Put\"],[\"MSFT\",\"Call\"],[\"MSFT\",\"Put\"],[\"GOOGL\",\"Call\"],[\"GOOGL\",\"Put\"],[\"NVDA\",\"Call\"],[\"NVDA\",\"Put\"],[\"INTC\",\"Call\"],[\"INTC\",\"Put\"],[\"T\",\"Call\"],[\"T\",\"Put\"],[\"BABA\",\"Call\"],[\"BABA\",\"Put\"],[\"TWTR\",\"Call\"],[\"TWTR\",\"Put\"],[\"UBER\",\"Call\"],[\"UBER\",\"Put\"],[\"CCL\",\"Call\"],[\"CCL\",\"Put\"],[\"SNAP\",\"Call\"],[\"SNAP\",\"Put\"],[\"SBUX\",\"Call\"],[\"SBUX\",\"Put\"]],\"tags\":[[[\"Symbol\",\"Symbol\",null],[\"Type\",\"Type\",null]]]},\"id\":\"3637\",\"type\":\"FactorRange\"},{\"attributes\":{\"axis\":{\"id\":\"3652\"},\"coordinates\":null,\"dimension\":1,\"grid_line_color\":null,\"group\":null,\"ticker\":null},\"id\":\"3655\",\"type\":\"Grid\"},{\"attributes\":{\"axis\":{\"id\":\"3649\"},\"coordinates\":null,\"grid_line_color\":null,\"group\":null,\"ticker\":null},\"id\":\"3651\",\"type\":\"Grid\"},{\"attributes\":{\"factors\":[\"Put\",\"Call\"],\"palette\":[\"#30a2da\",\"#fc4f30\"]},\"id\":\"3669\",\"type\":\"CategoricalColorMapper\"},{\"attributes\":{\"format\":\"%0f\"},\"id\":\"3679\",\"type\":\"PrintfTickFormatter\"},{\"attributes\":{\"end\":161520.5,\"reset_end\":161520.5,\"reset_start\":0.0,\"tags\":[[[\"Open Int\",\"Open Int\",null]]]},\"id\":\"3638\",\"type\":\"Range1d\"},{\"attributes\":{\"fill_alpha\":{\"value\":0.2},\"fill_color\":{\"field\":\"Type\",\"transform\":{\"id\":\"3669\"}},\"hatch_alpha\":{\"value\":0.2},\"hatch_color\":{\"field\":\"Type\",\"transform\":{\"id\":\"3669\"}},\"line_alpha\":{\"value\":0.2},\"top\":{\"field\":\"Open_Int\"},\"width\":{\"value\":0.8},\"x\":{\"field\":\"xoffsets\"}},\"id\":\"3675\",\"type\":\"VBar\"},{\"attributes\":{\"margin\":[5,5,5,5],\"name\":\"HSpacer10240\",\"sizing_mode\":\"stretch_width\"},\"id\":\"3636\",\"type\":\"Spacer\"},{\"attributes\":{},\"id\":\"3656\",\"type\":\"SaveTool\"},{\"attributes\":{},\"id\":\"3657\",\"type\":\"PanTool\"},{\"attributes\":{\"axis_label\":\"Open Interests\",\"coordinates\":null,\"formatter\":{\"id\":\"3679\"},\"group\":null,\"major_label_policy\":{\"id\":\"3685\"},\"ticker\":{\"id\":\"3653\"}},\"id\":\"3652\",\"type\":\"LinearAxis\"},{\"attributes\":{},\"id\":\"3694\",\"type\":\"UnionRenderers\"},{\"attributes\":{\"coordinates\":null,\"group\":null,\"text\":\"Tickers Call / Put Open Interests comparison\",\"text_color\":\"black\",\"text_font_size\":\"12pt\"},\"id\":\"3641\",\"type\":\"Title\"},{\"attributes\":{},\"id\":\"3660\",\"type\":\"ResetTool\"},{\"attributes\":{\"fill_alpha\":{\"value\":0.1},\"fill_color\":{\"field\":\"Type\",\"transform\":{\"id\":\"3669\"}},\"hatch_alpha\":{\"value\":0.1},\"hatch_color\":{\"field\":\"Type\",\"transform\":{\"id\":\"3669\"}},\"line_alpha\":{\"value\":0.1},\"top\":{\"field\":\"Open_Int\"},\"width\":{\"value\":0.8},\"x\":{\"field\":\"xoffsets\"}},\"id\":\"3674\",\"type\":\"VBar\"},{\"attributes\":{\"callback\":null,\"renderers\":[{\"id\":\"3676\"}],\"tags\":[\"hv_created\"],\"tooltips\":[[\"Symbol\",\"@{Symbol}\"],[\"Type\",\"@{Type}\"],[\"Open Int\",\"@{Open_Int}\"]]},\"id\":\"3639\",\"type\":\"HoverTool\"},{\"attributes\":{},\"id\":\"3671\",\"type\":\"Selection\"},{\"attributes\":{\"axis_label\":\"Tickers by Call and Put\",\"coordinates\":null,\"formatter\":{\"id\":\"3681\"},\"group\":null,\"major_label_orientation\":0.7853981633974483,\"major_label_policy\":{\"id\":\"3682\"},\"ticker\":{\"id\":\"3650\"}},\"id\":\"3649\",\"type\":\"CategoricalAxis\"},{\"attributes\":{\"below\":[{\"id\":\"3649\"}],\"center\":[{\"id\":\"3651\"},{\"id\":\"3655\"}],\"height\":500,\"left\":[{\"id\":\"3652\"}],\"margin\":[5,5,5,5],\"min_border_bottom\":10,\"min_border_left\":10,\"min_border_right\":10,\"min_border_top\":10,\"renderers\":[{\"id\":\"3676\"}],\"sizing_mode\":\"fixed\",\"title\":{\"id\":\"3641\"},\"toolbar\":{\"id\":\"3662\"},\"width\":1300,\"x_range\":{\"id\":\"3637\"},\"x_scale\":{\"id\":\"3645\"},\"y_range\":{\"id\":\"3638\"},\"y_scale\":{\"id\":\"3647\"}},\"id\":\"3640\",\"subtype\":\"Figure\",\"type\":\"Plot\"}],\"root_ids\":[\"3635\"]},\"title\":\"Bokeh Application\",\"version\":\"2.4.3\"}};\n",
       "    var render_items = [{\"docid\":\"8d4e230d-46de-4714-b044-2e35375d4d6f\",\"root_ids\":[\"3635\"],\"roots\":{\"3635\":\"bb453fcf-2a1a-4b33-ad90-a4fdba3925c1\"}}];\n",
       "    root.Bokeh.embed.embed_items_notebook(docs_json, render_items);\n",
       "  }\n",
       "  if (root.Bokeh !== undefined && root.Bokeh.Panel !== undefined) {\n",
       "    embed_document(root);\n",
       "  } else {\n",
       "    var attempts = 0;\n",
       "    var timer = setInterval(function(root) {\n",
       "      if (root.Bokeh !== undefined && root.Bokeh.Panel !== undefined) {\n",
       "        clearInterval(timer);\n",
       "        embed_document(root);\n",
       "      } else if (document.readyState == \"complete\") {\n",
       "        attempts++;\n",
       "        if (attempts > 200) {\n",
       "          clearInterval(timer);\n",
       "          console.log(\"Bokeh: ERROR: Unable to run BokehJS code because BokehJS library is missing\");\n",
       "        }\n",
       "      }\n",
       "    }, 25, root)\n",
       "  }\n",
       "})(window);</script>"
      ],
      "text/plain": [
       ":Bars   [Symbol,Type]   (Open Int)"
      ]
     },
     "execution_count": 42,
     "metadata": {
      "application/vnd.holoviews_exec.v0+json": {
       "id": "3635"
      }
     },
     "output_type": "execute_result"
    }
   ],
   "source": [
    "# Calling largest_25_OI\n",
    "largest_20_OI_plot(df)"
   ]
  },
  {
   "cell_type": "code",
   "execution_count": 43,
   "metadata": {},
   "outputs": [
    {
     "data": {
      "text/html": [
       "<div>\n",
       "<style scoped>\n",
       "    .dataframe tbody tr th:only-of-type {\n",
       "        vertical-align: middle;\n",
       "    }\n",
       "\n",
       "    .dataframe tbody tr th {\n",
       "        vertical-align: top;\n",
       "    }\n",
       "\n",
       "    .dataframe thead th {\n",
       "        text-align: right;\n",
       "    }\n",
       "</style>\n",
       "<table border=\"1\" class=\"dataframe\">\n",
       "  <thead>\n",
       "    <tr style=\"text-align: right;\">\n",
       "      <th></th>\n",
       "      <th></th>\n",
       "      <th></th>\n",
       "      <th>Price</th>\n",
       "      <th>Exp Date</th>\n",
       "      <th>DTE</th>\n",
       "      <th>Bid</th>\n",
       "      <th>Midpoint</th>\n",
       "      <th>Ask</th>\n",
       "      <th>Last</th>\n",
       "      <th>Volume</th>\n",
       "      <th>Open Int</th>\n",
       "      <th>OI Chg</th>\n",
       "      <th>IV</th>\n",
       "      <th>Time</th>\n",
       "    </tr>\n",
       "    <tr>\n",
       "      <th>Symbol</th>\n",
       "      <th>Type</th>\n",
       "      <th>Strike</th>\n",
       "      <th></th>\n",
       "      <th></th>\n",
       "      <th></th>\n",
       "      <th></th>\n",
       "      <th></th>\n",
       "      <th></th>\n",
       "      <th></th>\n",
       "      <th></th>\n",
       "      <th></th>\n",
       "      <th></th>\n",
       "      <th></th>\n",
       "      <th></th>\n",
       "    </tr>\n",
       "  </thead>\n",
       "  <tbody>\n",
       "    <tr>\n",
       "      <th rowspan=\"5\" valign=\"top\">F</th>\n",
       "      <th rowspan=\"3\" valign=\"top\">Put</th>\n",
       "      <th>16.0</th>\n",
       "      <td>14.72</td>\n",
       "      <td>2022-09-16</td>\n",
       "      <td>0.0</td>\n",
       "      <td>1.25</td>\n",
       "      <td>1.29</td>\n",
       "      <td>1.33</td>\n",
       "      <td>1.32</td>\n",
       "      <td>1484.0</td>\n",
       "      <td>146857.0</td>\n",
       "      <td>-363.0</td>\n",
       "      <td>1.1944</td>\n",
       "      <td>2022-09-16</td>\n",
       "    </tr>\n",
       "    <tr>\n",
       "      <th>15.5</th>\n",
       "      <td>14.72</td>\n",
       "      <td>2022-09-16</td>\n",
       "      <td>0.0</td>\n",
       "      <td>0.75</td>\n",
       "      <td>0.78</td>\n",
       "      <td>0.82</td>\n",
       "      <td>0.78</td>\n",
       "      <td>1593.0</td>\n",
       "      <td>9299.0</td>\n",
       "      <td>-540.0</td>\n",
       "      <td>0.8476</td>\n",
       "      <td>2022-09-16</td>\n",
       "    </tr>\n",
       "    <tr>\n",
       "      <th>15.0</th>\n",
       "      <td>14.72</td>\n",
       "      <td>2022-09-16</td>\n",
       "      <td>0.0</td>\n",
       "      <td>0.27</td>\n",
       "      <td>0.31</td>\n",
       "      <td>0.34</td>\n",
       "      <td>0.28</td>\n",
       "      <td>53975.0</td>\n",
       "      <td>116617.0</td>\n",
       "      <td>-9042.0</td>\n",
       "      <td>0.5279</td>\n",
       "      <td>2022-09-16</td>\n",
       "    </tr>\n",
       "    <tr>\n",
       "      <th rowspan=\"2\" valign=\"top\">Call</th>\n",
       "      <th>14.5</th>\n",
       "      <td>14.72</td>\n",
       "      <td>2022-09-16</td>\n",
       "      <td>0.0</td>\n",
       "      <td>0.17</td>\n",
       "      <td>0.22</td>\n",
       "      <td>0.26</td>\n",
       "      <td>0.22</td>\n",
       "      <td>11530.0</td>\n",
       "      <td>2339.0</td>\n",
       "      <td>-857.0</td>\n",
       "      <td>0.3949</td>\n",
       "      <td>2022-09-16</td>\n",
       "    </tr>\n",
       "    <tr>\n",
       "      <th>14.0</th>\n",
       "      <td>14.72</td>\n",
       "      <td>2022-09-16</td>\n",
       "      <td>0.0</td>\n",
       "      <td>0.67</td>\n",
       "      <td>0.72</td>\n",
       "      <td>0.76</td>\n",
       "      <td>0.73</td>\n",
       "      <td>3157.0</td>\n",
       "      <td>29363.0</td>\n",
       "      <td>-485.0</td>\n",
       "      <td>0.6033</td>\n",
       "      <td>2022-09-16</td>\n",
       "    </tr>\n",
       "  </tbody>\n",
       "</table>\n",
       "</div>"
      ],
      "text/plain": [
       "                    Price    Exp Date  DTE   Bid  Midpoint   Ask  Last  \\\n",
       "Symbol Type Strike                                                       \n",
       "F      Put  16.0    14.72  2022-09-16  0.0  1.25      1.29  1.33  1.32   \n",
       "            15.5    14.72  2022-09-16  0.0  0.75      0.78  0.82  0.78   \n",
       "            15.0    14.72  2022-09-16  0.0  0.27      0.31  0.34  0.28   \n",
       "       Call 14.5    14.72  2022-09-16  0.0  0.17      0.22  0.26  0.22   \n",
       "            14.0    14.72  2022-09-16  0.0  0.67      0.72  0.76  0.73   \n",
       "\n",
       "                     Volume  Open Int  OI Chg      IV        Time  \n",
       "Symbol Type Strike                                                 \n",
       "F      Put  16.0     1484.0  146857.0  -363.0  1.1944  2022-09-16  \n",
       "            15.5     1593.0    9299.0  -540.0  0.8476  2022-09-16  \n",
       "            15.0    53975.0  116617.0 -9042.0  0.5279  2022-09-16  \n",
       "       Call 14.5    11530.0    2339.0  -857.0  0.3949  2022-09-16  \n",
       "            14.0     3157.0   29363.0  -485.0  0.6033  2022-09-16  "
      ]
     },
     "metadata": {},
     "output_type": "display_data"
    }
   ],
   "source": [
    "top_OI = largest_20_OI(df).head()\n",
    "display(top_OI)"
   ]
  },
  {
   "cell_type": "code",
   "execution_count": 44,
   "metadata": {},
   "outputs": [
    {
     "data": {},
     "metadata": {},
     "output_type": "display_data"
    },
    {
     "data": {
      "application/vnd.holoviews_exec.v0+json": "",
      "text/html": [
       "<div id='3744'>\n",
       "  <div class=\"bk-root\" id=\"5fdfda7f-dcef-4c90-81f5-b2bbe65a78f5\" data-root-id=\"3744\"></div>\n",
       "</div>\n",
       "<script type=\"application/javascript\">(function(root) {\n",
       "  function embed_document(root) {\n",
       "    var docs_json = {\"374fb515-31b7-4426-b6b1-1cd7ffa59590\":{\"defs\":[{\"extends\":null,\"module\":null,\"name\":\"ReactiveHTML1\",\"overrides\":[],\"properties\":[]},{\"extends\":null,\"module\":null,\"name\":\"FlexBox1\",\"overrides\":[],\"properties\":[{\"default\":\"flex-start\",\"kind\":null,\"name\":\"align_content\"},{\"default\":\"flex-start\",\"kind\":null,\"name\":\"align_items\"},{\"default\":\"row\",\"kind\":null,\"name\":\"flex_direction\"},{\"default\":\"wrap\",\"kind\":null,\"name\":\"flex_wrap\"},{\"default\":\"flex-start\",\"kind\":null,\"name\":\"justify_content\"}]},{\"extends\":null,\"module\":null,\"name\":\"GridStack1\",\"overrides\":[],\"properties\":[{\"default\":\"warn\",\"kind\":null,\"name\":\"mode\"},{\"default\":null,\"kind\":null,\"name\":\"ncols\"},{\"default\":null,\"kind\":null,\"name\":\"nrows\"},{\"default\":true,\"kind\":null,\"name\":\"allow_resize\"},{\"default\":true,\"kind\":null,\"name\":\"allow_drag\"},{\"default\":[],\"kind\":null,\"name\":\"state\"}]},{\"extends\":null,\"module\":null,\"name\":\"click1\",\"overrides\":[],\"properties\":[{\"default\":\"\",\"kind\":null,\"name\":\"terminal_output\"},{\"default\":\"\",\"kind\":null,\"name\":\"debug_name\"},{\"default\":0,\"kind\":null,\"name\":\"clears\"}]},{\"extends\":null,\"module\":null,\"name\":\"NotificationAreaBase1\",\"overrides\":[],\"properties\":[{\"default\":\"bottom-right\",\"kind\":null,\"name\":\"position\"},{\"default\":0,\"kind\":null,\"name\":\"_clear\"}]},{\"extends\":null,\"module\":null,\"name\":\"NotificationArea1\",\"overrides\":[],\"properties\":[{\"default\":[],\"kind\":null,\"name\":\"notifications\"},{\"default\":\"bottom-right\",\"kind\":null,\"name\":\"position\"},{\"default\":0,\"kind\":null,\"name\":\"_clear\"},{\"default\":[{\"background\":\"#ffc107\",\"icon\":{\"className\":\"fas fa-exclamation-triangle\",\"color\":\"white\",\"tagName\":\"i\"},\"type\":\"warning\"},{\"background\":\"#007bff\",\"icon\":{\"className\":\"fas fa-info-circle\",\"color\":\"white\",\"tagName\":\"i\"},\"type\":\"info\"}],\"kind\":null,\"name\":\"types\"}]},{\"extends\":null,\"module\":null,\"name\":\"Notification\",\"overrides\":[],\"properties\":[{\"default\":null,\"kind\":null,\"name\":\"background\"},{\"default\":3000,\"kind\":null,\"name\":\"duration\"},{\"default\":null,\"kind\":null,\"name\":\"icon\"},{\"default\":\"\",\"kind\":null,\"name\":\"message\"},{\"default\":null,\"kind\":null,\"name\":\"notification_type\"},{\"default\":false,\"kind\":null,\"name\":\"_destroyed\"}]},{\"extends\":null,\"module\":null,\"name\":\"TemplateActions1\",\"overrides\":[],\"properties\":[{\"default\":0,\"kind\":null,\"name\":\"open_modal\"},{\"default\":0,\"kind\":null,\"name\":\"close_modal\"}]},{\"extends\":null,\"module\":null,\"name\":\"MaterialTemplateActions1\",\"overrides\":[],\"properties\":[{\"default\":0,\"kind\":null,\"name\":\"open_modal\"},{\"default\":0,\"kind\":null,\"name\":\"close_modal\"}]}],\"roots\":{\"references\":[{\"attributes\":{\"end\":7741.3,\"reset_end\":7741.3,\"reset_start\":-26870.3,\"start\":-26870.3,\"tags\":[[[\"OI Chg\",\"OI Chg\",null]]]},\"id\":\"3747\",\"type\":\"Range1d\"},{\"attributes\":{},\"id\":\"3754\",\"type\":\"CategoricalScale\"},{\"attributes\":{\"fill_alpha\":{\"value\":0.2},\"fill_color\":{\"field\":\"Type\",\"transform\":{\"id\":\"3778\"}},\"hatch_alpha\":{\"value\":0.2},\"hatch_color\":{\"field\":\"Type\",\"transform\":{\"id\":\"3778\"}},\"line_alpha\":{\"value\":0.2},\"top\":{\"field\":\"OI_Chg\"},\"width\":{\"value\":0.8},\"x\":{\"field\":\"xoffsets\"}},\"id\":\"3784\",\"type\":\"VBar\"},{\"attributes\":{\"axis\":{\"id\":\"3761\"},\"coordinates\":null,\"dimension\":1,\"grid_line_color\":null,\"group\":null,\"ticker\":null},\"id\":\"3764\",\"type\":\"Grid\"},{\"attributes\":{\"children\":[{\"id\":\"3745\"},{\"id\":\"3749\"},{\"id\":\"3806\"}],\"margin\":[0,0,0,0],\"name\":\"Row10487\",\"tags\":[\"embedded\"]},\"id\":\"3744\",\"type\":\"Row\"},{\"attributes\":{\"coordinates\":null,\"group\":null,\"text\":\"Tickers Call / Put Open Interests comparison\",\"text_color\":\"black\",\"text_font_size\":\"12pt\"},\"id\":\"3750\",\"type\":\"Title\"},{\"attributes\":{},\"id\":\"3803\",\"type\":\"UnionRenderers\"},{\"attributes\":{},\"id\":\"3769\",\"type\":\"ResetTool\"},{\"attributes\":{},\"id\":\"3794\",\"type\":\"AllLabels\"},{\"attributes\":{},\"id\":\"3791\",\"type\":\"AllLabels\"},{\"attributes\":{\"axis_label\":\"Tickers by Call and Put\",\"coordinates\":null,\"formatter\":{\"id\":\"3790\"},\"group\":null,\"major_label_orientation\":0.7853981633974483,\"major_label_policy\":{\"id\":\"3791\"},\"ticker\":{\"id\":\"3759\"}},\"id\":\"3758\",\"type\":\"CategoricalAxis\"},{\"attributes\":{\"margin\":[5,5,5,5],\"name\":\"HSpacer10491\",\"sizing_mode\":\"stretch_width\"},\"id\":\"3745\",\"type\":\"Spacer\"},{\"attributes\":{},\"id\":\"3767\",\"type\":\"WheelZoomTool\"},{\"attributes\":{\"factors\":[[\"F\",\"Call\"],[\"F\",\"Put\"],[\"AAPL\",\"Call\"],[\"AAPL\",\"Put\"],[\"AMZN\",\"Call\"],[\"AMZN\",\"Put\"],[\"TSLA\",\"Call\"],[\"TSLA\",\"Put\"],[\"META\",\"Call\"],[\"META\",\"Put\"],[\"AMD\",\"Call\"],[\"AMD\",\"Put\"],[\"BAC\",\"Call\"],[\"BAC\",\"Put\"],[\"AAL\",\"Call\"],[\"AAL\",\"Put\"],[\"NIO\",\"Call\"],[\"NIO\",\"Put\"],[\"MSFT\",\"Call\"],[\"MSFT\",\"Put\"],[\"GOOGL\",\"Call\"],[\"GOOGL\",\"Put\"],[\"NVDA\",\"Call\"],[\"NVDA\",\"Put\"],[\"INTC\",\"Call\"],[\"INTC\",\"Put\"],[\"T\",\"Call\"],[\"T\",\"Put\"],[\"BABA\",\"Call\"],[\"BABA\",\"Put\"],[\"TWTR\",\"Call\"],[\"TWTR\",\"Put\"],[\"UBER\",\"Call\"],[\"UBER\",\"Put\"],[\"CCL\",\"Call\"],[\"CCL\",\"Put\"],[\"SNAP\",\"Call\"],[\"SNAP\",\"Put\"],[\"SBUX\",\"Call\"],[\"SBUX\",\"Put\"]],\"tags\":[[[\"Symbol\",\"Symbol\",null],[\"Type\",\"Type\",null]]]},\"id\":\"3746\",\"type\":\"FactorRange\"},{\"attributes\":{\"coordinates\":null,\"data_source\":{\"id\":\"3779\"},\"glyph\":{\"id\":\"3782\"},\"group\":null,\"hover_glyph\":null,\"muted_glyph\":{\"id\":\"3784\"},\"nonselection_glyph\":{\"id\":\"3783\"},\"selection_glyph\":{\"id\":\"3787\"},\"view\":{\"id\":\"3786\"}},\"id\":\"3785\",\"type\":\"GlyphRenderer\"},{\"attributes\":{\"tools\":[{\"id\":\"3748\"},{\"id\":\"3765\"},{\"id\":\"3766\"},{\"id\":\"3767\"},{\"id\":\"3768\"},{\"id\":\"3769\"}]},\"id\":\"3771\",\"type\":\"Toolbar\"},{\"attributes\":{\"below\":[{\"id\":\"3758\"}],\"center\":[{\"id\":\"3760\"},{\"id\":\"3764\"}],\"height\":500,\"left\":[{\"id\":\"3761\"}],\"margin\":[5,5,5,5],\"min_border_bottom\":10,\"min_border_left\":10,\"min_border_right\":10,\"min_border_top\":10,\"renderers\":[{\"id\":\"3785\"}],\"sizing_mode\":\"fixed\",\"title\":{\"id\":\"3750\"},\"toolbar\":{\"id\":\"3771\"},\"width\":1300,\"x_range\":{\"id\":\"3746\"},\"x_scale\":{\"id\":\"3754\"},\"y_range\":{\"id\":\"3747\"},\"y_scale\":{\"id\":\"3756\"}},\"id\":\"3749\",\"subtype\":\"Figure\",\"type\":\"Plot\"},{\"attributes\":{\"data\":{\"OI_Chg\":{\"__ndarray__\":\"AAAAAACwdsAAAAAAAOCAwAAAAAAAqcHAAAAAAABAasAAAAAAALmzwAAAAAAAcIzAAAAAAAAus8AAAAAAABCowAAAAACAbNfAAAAAAACescAAAAAAAJSQwAAAAAAAtJXAAAAAAACwdsAAAAAAAGBkwAAAAAAA0IzAAAAAAAAgYcAAAAAAAEe2wAAAAAAAEIJAAAAAAACIlUAAAAAAACBwwAAAAAAA2IBAAAAAAABAj0AAAAAAANiHwAAAAAAAwF/AAAAAAAAANMAAAAAAAHiOQAAAAAAA2IdAAAAAAAD5skAAAAAAAP6wQAAAAAAAQGDAAAAAAAAgaMAAAAAAAOiHwAAAAAAAkHDAAAAAAADQkcAAAAAAAOB6wAAAAAAAQqnAAAAAAACATMAAAAAAAPCCwAAAAAAAKJXAAAAAAAAgecAAAAAAAFSTQAAAAAAAIIfAAAAAAAAAi8AAAAAAALiBQAAAAAAAYIHAAAAAAAA8kUAAAAAAAESQQAAAAAAAOIXAAAAAAAAAVsAAAAAAAMB1wAAAAAAAgI/AAAAAAADQfcAAAAAAALBywAAAAAAASIvAAAAAAABYi8AAAAAAAACGwAAAAAAACKHAAAAAAADAUsAAAAAAAEBawAAAAAAAgGfAAAAAAABQfsAAAAAAADCTwAAAAAAAYHXAAAAAAABgccAAAAAAAABwwAAAAAAAwIHAAAAAAADgccAAAAAAAJiEwAAAAAAAkJzAAAAAAADogcAAAAAAAEBfwAAAAAAAQFjAAAAAAAAEkMAAAAAAANB2wAAAAAAAwFLAAAAAAADMk8AAAAAAADiGQAAAAAAA8HjAAAAAAABgZcAAAAAAAMBVwAAAAAAAwF7AAAAAAADgdUAAAAAAAFiPwAAAAAAAIGfAAAAAAAAgZsAAAAAAAAAswAAAAAAAXJzAAAAAAADAfsAAAAAAAPBywAAAAAAAbqNAAAAAAAAAd0AAAAAAAHCQQAAAAAAAuINAAAAAAADIisAAAAAAAFB+wAAAAAAA0HfAAAAAAAAAaMAAAAAAgO3IwAAAAAAAwGHAAAAAAAAAbMAAAAAAAABbwAAAAAAAwGPAAAAAAABAXcAAAAAAAABfwAAAAAAAoHrAAAAAAAAAMsAAAAAAAOBkwAAAAAAAQFPAAAAAAAAwjcAAAAAAAOC6wAAAAAAAYI7AAAAAAAAwdsAAAAAAAEBzwAAAAAAAaJzAAAAAAACATcAAAAAAACBiwAAAAAAAoIjAAAAAAACAQ8AAAAAAAIBLwAAAAAAAZJDAAAAAAAAAOcAAAAAAAMBbwAAAAAAAEHXAAAAAAABAYsAAAAAAABB1wAAAAAAAAE7AAAAAAADwcMAAAAAAAMBSwAAAAAAAAGbAAAAAAAAAT8AAAAAAAIBfwAAAAAAAAFjAAAAAAACAYMAAAAAAABCOwAAAAAAAjK5AAAAAAAB4mkAAAAAAAF+2wAAAAAAAAFHAAAAAAAAeosAAAAAAABB8wAAAAAAAsHfAAAAAAAAAXsAAAAAAAJiDwAAAAAAAAEfAAAAAAACAR8AAAAAAAABNwAAAAAAAADvAAAAAAACAUsAAAAAAAEiiQAAAAAAAKJVAAAAAAACklkAAAAAAAHiCQAAAAAAA0IRAAAAAAAAAM8AAAAAAAJSYQAAAAAAADJFAAAAAAAAAMcAAAAAAALinwAAAAAAAIGDAAAAAAAAAMMAAAAAAAAAywAAAAAAAAE7AAAAAAABAesAAAAAAAMCUwAAAAAAAHJPAAAAAAABUlcAAAAAAAAAkwAAAAAAAAC7AAAAAAABAYsAAAAAAAAAywAAAAAAAAD3A\",\"dtype\":\"float64\",\"order\":\"little\",\"shape\":[171]},\"Symbol\":[\"F\",\"F\",\"F\",\"AAPL\",\"AAPL\",\"AAPL\",\"AAPL\",\"AAPL\",\"AAPL\",\"AAPL\",\"AMZN\",\"AMZN\",\"AMZN\",\"AMZN\",\"AMZN\",\"AMZN\",\"AMZN\",\"AMZN\",\"AMZN\",\"AMZN\",\"AMZN\",\"AMZN\",\"AMZN\",\"AMZN\",\"TSLA\",\"TSLA\",\"TSLA\",\"TSLA\",\"TSLA\",\"META\",\"META\",\"META\",\"META\",\"META\",\"META\",\"META\",\"AMD\",\"AMD\",\"AMD\",\"AMD\",\"AMD\",\"AMD\",\"BAC\",\"BAC\",\"AAL\",\"AAL\",\"AAL\",\"NIO\",\"NIO\",\"NIO\",\"NIO\",\"MSFT\",\"MSFT\",\"MSFT\",\"MSFT\",\"MSFT\",\"MSFT\",\"MSFT\",\"GOOGL\",\"GOOGL\",\"GOOGL\",\"GOOGL\",\"GOOGL\",\"GOOGL\",\"GOOGL\",\"NVDA\",\"NVDA\",\"NVDA\",\"NVDA\",\"NVDA\",\"NVDA\",\"NVDA\",\"INTC\",\"INTC\",\"INTC\",\"INTC\",\"INTC\",\"T\",\"T\",\"T\",\"BABA\",\"BABA\",\"BABA\",\"BABA\",\"BABA\",\"TWTR\",\"TWTR\",\"TWTR\",\"UBER\",\"CCL\",\"SNAP\",\"SNAP\",\"SBUX\",\"F\",\"F\",\"F\",\"F\",\"AAPL\",\"AAPL\",\"AAPL\",\"AAPL\",\"AAPL\",\"AAPL\",\"AMZN\",\"AMZN\",\"AMZN\",\"AMZN\",\"AMZN\",\"TSLA\",\"TSLA\",\"TSLA\",\"TSLA\",\"TSLA\",\"TSLA\",\"TSLA\",\"TSLA\",\"TSLA\",\"TSLA\",\"TSLA\",\"TSLA\",\"TSLA\",\"TSLA\",\"TSLA\",\"TSLA\",\"TSLA\",\"TSLA\",\"TSLA\",\"TSLA\",\"TSLA\",\"TSLA\",\"TSLA\",\"TSLA\",\"TSLA\",\"META\",\"AMD\",\"AMD\",\"BAC\",\"BAC\",\"BAC\",\"BAC\",\"AAL\",\"AAL\",\"NIO\",\"NIO\",\"NIO\",\"NIO\",\"NIO\",\"GOOGL\",\"NVDA\",\"NVDA\",\"NVDA\",\"NVDA\",\"NVDA\",\"NVDA\",\"INTC\",\"INTC\",\"BABA\",\"BABA\",\"TWTR\",\"TWTR\",\"UBER\",\"UBER\",\"UBER\",\"CCL\",\"CCL\",\"SNAP\",\"SNAP\",\"SBUX\",\"SBUX\",\"SBUX\",\"SBUX\"],\"Type\":[\"Put\",\"Put\",\"Put\",\"Put\",\"Put\",\"Put\",\"Put\",\"Put\",\"Put\",\"Put\",\"Put\",\"Put\",\"Put\",\"Put\",\"Put\",\"Put\",\"Put\",\"Put\",\"Put\",\"Put\",\"Put\",\"Put\",\"Put\",\"Put\",\"Put\",\"Put\",\"Put\",\"Put\",\"Put\",\"Put\",\"Put\",\"Put\",\"Put\",\"Put\",\"Put\",\"Put\",\"Put\",\"Put\",\"Put\",\"Put\",\"Put\",\"Put\",\"Put\",\"Put\",\"Put\",\"Put\",\"Put\",\"Put\",\"Put\",\"Put\",\"Put\",\"Put\",\"Put\",\"Put\",\"Put\",\"Put\",\"Put\",\"Put\",\"Put\",\"Put\",\"Put\",\"Put\",\"Put\",\"Put\",\"Put\",\"Put\",\"Put\",\"Put\",\"Put\",\"Put\",\"Put\",\"Put\",\"Put\",\"Put\",\"Put\",\"Put\",\"Put\",\"Put\",\"Put\",\"Put\",\"Put\",\"Put\",\"Put\",\"Put\",\"Put\",\"Put\",\"Put\",\"Put\",\"Put\",\"Put\",\"Put\",\"Put\",\"Put\",\"Call\",\"Call\",\"Call\",\"Call\",\"Call\",\"Call\",\"Call\",\"Call\",\"Call\",\"Call\",\"Call\",\"Call\",\"Call\",\"Call\",\"Call\",\"Call\",\"Call\",\"Call\",\"Call\",\"Call\",\"Call\",\"Call\",\"Call\",\"Call\",\"Call\",\"Call\",\"Call\",\"Call\",\"Call\",\"Call\",\"Call\",\"Call\",\"Call\",\"Call\",\"Call\",\"Call\",\"Call\",\"Call\",\"Call\",\"Call\",\"Call\",\"Call\",\"Call\",\"Call\",\"Call\",\"Call\",\"Call\",\"Call\",\"Call\",\"Call\",\"Call\",\"Call\",\"Call\",\"Call\",\"Call\",\"Call\",\"Call\",\"Call\",\"Call\",\"Call\",\"Call\",\"Call\",\"Call\",\"Call\",\"Call\",\"Call\",\"Call\",\"Call\",\"Call\",\"Call\",\"Call\",\"Call\",\"Call\",\"Call\",\"Call\",\"Call\",\"Call\",\"Call\"],\"xoffsets\":[[\"F\",\"Put\"],[\"F\",\"Put\"],[\"F\",\"Put\"],[\"AAPL\",\"Put\"],[\"AAPL\",\"Put\"],[\"AAPL\",\"Put\"],[\"AAPL\",\"Put\"],[\"AAPL\",\"Put\"],[\"AAPL\",\"Put\"],[\"AAPL\",\"Put\"],[\"AMZN\",\"Put\"],[\"AMZN\",\"Put\"],[\"AMZN\",\"Put\"],[\"AMZN\",\"Put\"],[\"AMZN\",\"Put\"],[\"AMZN\",\"Put\"],[\"AMZN\",\"Put\"],[\"AMZN\",\"Put\"],[\"AMZN\",\"Put\"],[\"AMZN\",\"Put\"],[\"AMZN\",\"Put\"],[\"AMZN\",\"Put\"],[\"AMZN\",\"Put\"],[\"AMZN\",\"Put\"],[\"TSLA\",\"Put\"],[\"TSLA\",\"Put\"],[\"TSLA\",\"Put\"],[\"TSLA\",\"Put\"],[\"TSLA\",\"Put\"],[\"META\",\"Put\"],[\"META\",\"Put\"],[\"META\",\"Put\"],[\"META\",\"Put\"],[\"META\",\"Put\"],[\"META\",\"Put\"],[\"META\",\"Put\"],[\"AMD\",\"Put\"],[\"AMD\",\"Put\"],[\"AMD\",\"Put\"],[\"AMD\",\"Put\"],[\"AMD\",\"Put\"],[\"AMD\",\"Put\"],[\"BAC\",\"Put\"],[\"BAC\",\"Put\"],[\"AAL\",\"Put\"],[\"AAL\",\"Put\"],[\"AAL\",\"Put\"],[\"NIO\",\"Put\"],[\"NIO\",\"Put\"],[\"NIO\",\"Put\"],[\"NIO\",\"Put\"],[\"MSFT\",\"Put\"],[\"MSFT\",\"Put\"],[\"MSFT\",\"Put\"],[\"MSFT\",\"Put\"],[\"MSFT\",\"Put\"],[\"MSFT\",\"Put\"],[\"MSFT\",\"Put\"],[\"GOOGL\",\"Put\"],[\"GOOGL\",\"Put\"],[\"GOOGL\",\"Put\"],[\"GOOGL\",\"Put\"],[\"GOOGL\",\"Put\"],[\"GOOGL\",\"Put\"],[\"GOOGL\",\"Put\"],[\"NVDA\",\"Put\"],[\"NVDA\",\"Put\"],[\"NVDA\",\"Put\"],[\"NVDA\",\"Put\"],[\"NVDA\",\"Put\"],[\"NVDA\",\"Put\"],[\"NVDA\",\"Put\"],[\"INTC\",\"Put\"],[\"INTC\",\"Put\"],[\"INTC\",\"Put\"],[\"INTC\",\"Put\"],[\"INTC\",\"Put\"],[\"T\",\"Put\"],[\"T\",\"Put\"],[\"T\",\"Put\"],[\"BABA\",\"Put\"],[\"BABA\",\"Put\"],[\"BABA\",\"Put\"],[\"BABA\",\"Put\"],[\"BABA\",\"Put\"],[\"TWTR\",\"Put\"],[\"TWTR\",\"Put\"],[\"TWTR\",\"Put\"],[\"UBER\",\"Put\"],[\"CCL\",\"Put\"],[\"SNAP\",\"Put\"],[\"SNAP\",\"Put\"],[\"SBUX\",\"Put\"],[\"F\",\"Call\"],[\"F\",\"Call\"],[\"F\",\"Call\"],[\"F\",\"Call\"],[\"AAPL\",\"Call\"],[\"AAPL\",\"Call\"],[\"AAPL\",\"Call\"],[\"AAPL\",\"Call\"],[\"AAPL\",\"Call\"],[\"AAPL\",\"Call\"],[\"AMZN\",\"Call\"],[\"AMZN\",\"Call\"],[\"AMZN\",\"Call\"],[\"AMZN\",\"Call\"],[\"AMZN\",\"Call\"],[\"TSLA\",\"Call\"],[\"TSLA\",\"Call\"],[\"TSLA\",\"Call\"],[\"TSLA\",\"Call\"],[\"TSLA\",\"Call\"],[\"TSLA\",\"Call\"],[\"TSLA\",\"Call\"],[\"TSLA\",\"Call\"],[\"TSLA\",\"Call\"],[\"TSLA\",\"Call\"],[\"TSLA\",\"Call\"],[\"TSLA\",\"Call\"],[\"TSLA\",\"Call\"],[\"TSLA\",\"Call\"],[\"TSLA\",\"Call\"],[\"TSLA\",\"Call\"],[\"TSLA\",\"Call\"],[\"TSLA\",\"Call\"],[\"TSLA\",\"Call\"],[\"TSLA\",\"Call\"],[\"TSLA\",\"Call\"],[\"TSLA\",\"Call\"],[\"TSLA\",\"Call\"],[\"TSLA\",\"Call\"],[\"TSLA\",\"Call\"],[\"META\",\"Call\"],[\"AMD\",\"Call\"],[\"AMD\",\"Call\"],[\"BAC\",\"Call\"],[\"BAC\",\"Call\"],[\"BAC\",\"Call\"],[\"BAC\",\"Call\"],[\"AAL\",\"Call\"],[\"AAL\",\"Call\"],[\"NIO\",\"Call\"],[\"NIO\",\"Call\"],[\"NIO\",\"Call\"],[\"NIO\",\"Call\"],[\"NIO\",\"Call\"],[\"GOOGL\",\"Call\"],[\"NVDA\",\"Call\"],[\"NVDA\",\"Call\"],[\"NVDA\",\"Call\"],[\"NVDA\",\"Call\"],[\"NVDA\",\"Call\"],[\"NVDA\",\"Call\"],[\"INTC\",\"Call\"],[\"INTC\",\"Call\"],[\"BABA\",\"Call\"],[\"BABA\",\"Call\"],[\"TWTR\",\"Call\"],[\"TWTR\",\"Call\"],[\"UBER\",\"Call\"],[\"UBER\",\"Call\"],[\"UBER\",\"Call\"],[\"CCL\",\"Call\"],[\"CCL\",\"Call\"],[\"SNAP\",\"Call\"],[\"SNAP\",\"Call\"],[\"SBUX\",\"Call\"],[\"SBUX\",\"Call\"],[\"SBUX\",\"Call\"],[\"SBUX\",\"Call\"]]},\"selected\":{\"id\":\"3780\"},\"selection_policy\":{\"id\":\"3803\"}},\"id\":\"3779\",\"type\":\"ColumnDataSource\"},{\"attributes\":{\"axis_label\":\"Open Interest Change\",\"coordinates\":null,\"formatter\":{\"id\":\"3788\"},\"group\":null,\"major_label_policy\":{\"id\":\"3794\"},\"ticker\":{\"id\":\"3762\"}},\"id\":\"3761\",\"type\":\"LinearAxis\"},{\"attributes\":{\"callback\":null,\"renderers\":[{\"id\":\"3785\"}],\"tags\":[\"hv_created\"],\"tooltips\":[[\"Symbol\",\"@{Symbol}\"],[\"Type\",\"@{Type}\"],[\"OI Chg\",\"@{OI_Chg}\"]]},\"id\":\"3748\",\"type\":\"HoverTool\"},{\"attributes\":{},\"id\":\"3766\",\"type\":\"PanTool\"},{\"attributes\":{\"source\":{\"id\":\"3779\"}},\"id\":\"3786\",\"type\":\"CDSView\"},{\"attributes\":{},\"id\":\"3790\",\"type\":\"CategoricalTickFormatter\"},{\"attributes\":{\"bottom_units\":\"screen\",\"coordinates\":null,\"fill_alpha\":0.5,\"fill_color\":\"lightgrey\",\"group\":null,\"left_units\":\"screen\",\"level\":\"overlay\",\"line_alpha\":1.0,\"line_color\":\"black\",\"line_dash\":[4,4],\"line_width\":2,\"right_units\":\"screen\",\"syncable\":false,\"top_units\":\"screen\"},\"id\":\"3770\",\"type\":\"BoxAnnotation\"},{\"attributes\":{\"format\":\"%0f\"},\"id\":\"3788\",\"type\":\"PrintfTickFormatter\"},{\"attributes\":{},\"id\":\"3780\",\"type\":\"Selection\"},{\"attributes\":{},\"id\":\"3756\",\"type\":\"LinearScale\"},{\"attributes\":{\"fill_alpha\":{\"value\":0.1},\"fill_color\":{\"field\":\"Type\",\"transform\":{\"id\":\"3778\"}},\"hatch_alpha\":{\"value\":0.1},\"hatch_color\":{\"field\":\"Type\",\"transform\":{\"id\":\"3778\"}},\"line_alpha\":{\"value\":0.1},\"top\":{\"field\":\"OI_Chg\"},\"width\":{\"value\":0.8},\"x\":{\"field\":\"xoffsets\"}},\"id\":\"3783\",\"type\":\"VBar\"},{\"attributes\":{\"axis\":{\"id\":\"3758\"},\"coordinates\":null,\"grid_line_color\":null,\"group\":null,\"ticker\":null},\"id\":\"3760\",\"type\":\"Grid\"},{\"attributes\":{\"factors\":[\"Put\",\"Call\"],\"palette\":[\"#30a2da\",\"#fc4f30\"]},\"id\":\"3778\",\"type\":\"CategoricalColorMapper\"},{\"attributes\":{\"margin\":[5,5,5,5],\"name\":\"HSpacer10492\",\"sizing_mode\":\"stretch_width\"},\"id\":\"3806\",\"type\":\"Spacer\"},{\"attributes\":{},\"id\":\"3765\",\"type\":\"SaveTool\"},{\"attributes\":{},\"id\":\"3762\",\"type\":\"BasicTicker\"},{\"attributes\":{\"bottom\":{\"value\":0},\"fill_alpha\":{\"value\":1.0},\"fill_color\":{\"field\":\"Type\",\"transform\":{\"id\":\"3778\"}},\"hatch_alpha\":{\"value\":1.0},\"hatch_color\":{\"field\":\"Type\",\"transform\":{\"id\":\"3778\"}},\"hatch_scale\":{\"value\":12.0},\"hatch_weight\":{\"value\":1.0},\"line_alpha\":{\"value\":1.0},\"line_cap\":{\"value\":\"butt\"},\"line_color\":{\"value\":\"black\"},\"line_dash\":{\"value\":[]},\"line_dash_offset\":{\"value\":0},\"line_join\":{\"value\":\"bevel\"},\"line_width\":{\"value\":1},\"top\":{\"field\":\"OI_Chg\"},\"width\":{\"value\":0.8},\"x\":{\"field\":\"xoffsets\"}},\"id\":\"3787\",\"type\":\"VBar\"},{\"attributes\":{},\"id\":\"3759\",\"type\":\"CategoricalTicker\"},{\"attributes\":{\"overlay\":{\"id\":\"3770\"}},\"id\":\"3768\",\"type\":\"BoxZoomTool\"},{\"attributes\":{\"fill_color\":{\"field\":\"Type\",\"transform\":{\"id\":\"3778\"}},\"hatch_color\":{\"field\":\"Type\",\"transform\":{\"id\":\"3778\"}},\"top\":{\"field\":\"OI_Chg\"},\"width\":{\"value\":0.8},\"x\":{\"field\":\"xoffsets\"}},\"id\":\"3782\",\"type\":\"VBar\"}],\"root_ids\":[\"3744\"]},\"title\":\"Bokeh Application\",\"version\":\"2.4.3\"}};\n",
       "    var render_items = [{\"docid\":\"374fb515-31b7-4426-b6b1-1cd7ffa59590\",\"root_ids\":[\"3744\"],\"roots\":{\"3744\":\"5fdfda7f-dcef-4c90-81f5-b2bbe65a78f5\"}}];\n",
       "    root.Bokeh.embed.embed_items_notebook(docs_json, render_items);\n",
       "  }\n",
       "  if (root.Bokeh !== undefined && root.Bokeh.Panel !== undefined) {\n",
       "    embed_document(root);\n",
       "  } else {\n",
       "    var attempts = 0;\n",
       "    var timer = setInterval(function(root) {\n",
       "      if (root.Bokeh !== undefined && root.Bokeh.Panel !== undefined) {\n",
       "        clearInterval(timer);\n",
       "        embed_document(root);\n",
       "      } else if (document.readyState == \"complete\") {\n",
       "        attempts++;\n",
       "        if (attempts > 200) {\n",
       "          clearInterval(timer);\n",
       "          console.log(\"Bokeh: ERROR: Unable to run BokehJS code because BokehJS library is missing\");\n",
       "        }\n",
       "      }\n",
       "    }, 25, root)\n",
       "  }\n",
       "})(window);</script>"
      ],
      "text/plain": [
       ":Bars   [Symbol,Type]   (OI Chg)"
      ]
     },
     "execution_count": 44,
     "metadata": {
      "application/vnd.holoviews_exec.v0+json": {
       "id": "3744"
      }
     },
     "output_type": "execute_result"
    }
   ],
   "source": [
    "option_change_top_20(largest_20_OI(df))"
   ]
  },
  {
   "cell_type": "code",
   "execution_count": 45,
   "metadata": {},
   "outputs": [
    {
     "data": {},
     "metadata": {},
     "output_type": "display_data"
    },
    {
     "data": {
      "application/vnd.holoviews_exec.v0+json": "",
      "text/html": [
       "<div id='3853'>\n",
       "  <div class=\"bk-root\" id=\"851706e8-395a-401e-8780-45e09324030c\" data-root-id=\"3853\"></div>\n",
       "</div>\n",
       "<script type=\"application/javascript\">(function(root) {\n",
       "  function embed_document(root) {\n",
       "    var docs_json = {\"0dc13a1d-6240-4e26-b47b-47dfe6f8f969\":{\"defs\":[{\"extends\":null,\"module\":null,\"name\":\"ReactiveHTML1\",\"overrides\":[],\"properties\":[]},{\"extends\":null,\"module\":null,\"name\":\"FlexBox1\",\"overrides\":[],\"properties\":[{\"default\":\"flex-start\",\"kind\":null,\"name\":\"align_content\"},{\"default\":\"flex-start\",\"kind\":null,\"name\":\"align_items\"},{\"default\":\"row\",\"kind\":null,\"name\":\"flex_direction\"},{\"default\":\"wrap\",\"kind\":null,\"name\":\"flex_wrap\"},{\"default\":\"flex-start\",\"kind\":null,\"name\":\"justify_content\"}]},{\"extends\":null,\"module\":null,\"name\":\"GridStack1\",\"overrides\":[],\"properties\":[{\"default\":\"warn\",\"kind\":null,\"name\":\"mode\"},{\"default\":null,\"kind\":null,\"name\":\"ncols\"},{\"default\":null,\"kind\":null,\"name\":\"nrows\"},{\"default\":true,\"kind\":null,\"name\":\"allow_resize\"},{\"default\":true,\"kind\":null,\"name\":\"allow_drag\"},{\"default\":[],\"kind\":null,\"name\":\"state\"}]},{\"extends\":null,\"module\":null,\"name\":\"click1\",\"overrides\":[],\"properties\":[{\"default\":\"\",\"kind\":null,\"name\":\"terminal_output\"},{\"default\":\"\",\"kind\":null,\"name\":\"debug_name\"},{\"default\":0,\"kind\":null,\"name\":\"clears\"}]},{\"extends\":null,\"module\":null,\"name\":\"NotificationAreaBase1\",\"overrides\":[],\"properties\":[{\"default\":\"bottom-right\",\"kind\":null,\"name\":\"position\"},{\"default\":0,\"kind\":null,\"name\":\"_clear\"}]},{\"extends\":null,\"module\":null,\"name\":\"NotificationArea1\",\"overrides\":[],\"properties\":[{\"default\":[],\"kind\":null,\"name\":\"notifications\"},{\"default\":\"bottom-right\",\"kind\":null,\"name\":\"position\"},{\"default\":0,\"kind\":null,\"name\":\"_clear\"},{\"default\":[{\"background\":\"#ffc107\",\"icon\":{\"className\":\"fas fa-exclamation-triangle\",\"color\":\"white\",\"tagName\":\"i\"},\"type\":\"warning\"},{\"background\":\"#007bff\",\"icon\":{\"className\":\"fas fa-info-circle\",\"color\":\"white\",\"tagName\":\"i\"},\"type\":\"info\"}],\"kind\":null,\"name\":\"types\"}]},{\"extends\":null,\"module\":null,\"name\":\"Notification\",\"overrides\":[],\"properties\":[{\"default\":null,\"kind\":null,\"name\":\"background\"},{\"default\":3000,\"kind\":null,\"name\":\"duration\"},{\"default\":null,\"kind\":null,\"name\":\"icon\"},{\"default\":\"\",\"kind\":null,\"name\":\"message\"},{\"default\":null,\"kind\":null,\"name\":\"notification_type\"},{\"default\":false,\"kind\":null,\"name\":\"_destroyed\"}]},{\"extends\":null,\"module\":null,\"name\":\"TemplateActions1\",\"overrides\":[],\"properties\":[{\"default\":0,\"kind\":null,\"name\":\"open_modal\"},{\"default\":0,\"kind\":null,\"name\":\"close_modal\"}]},{\"extends\":null,\"module\":null,\"name\":\"MaterialTemplateActions1\",\"overrides\":[],\"properties\":[{\"default\":0,\"kind\":null,\"name\":\"open_modal\"},{\"default\":0,\"kind\":null,\"name\":\"close_modal\"}]}],\"roots\":{\"references\":[{\"attributes\":{},\"id\":\"3875\",\"type\":\"PanTool\"},{\"attributes\":{},\"id\":\"3900\",\"type\":\"AllLabels\"},{\"attributes\":{\"axis_label\":\"Open Int\",\"coordinates\":null,\"formatter\":{\"id\":\"3897\"},\"group\":null,\"major_label_policy\":{\"id\":\"3903\"},\"ticker\":{\"id\":\"3871\"}},\"id\":\"3870\",\"type\":\"LinearAxis\"},{\"attributes\":{\"axis\":{\"id\":\"3870\"},\"coordinates\":null,\"dimension\":1,\"grid_line_color\":null,\"group\":null,\"ticker\":null},\"id\":\"3873\",\"type\":\"Grid\"},{\"attributes\":{},\"id\":\"3903\",\"type\":\"AllLabels\"},{\"attributes\":{\"callback\":null,\"renderers\":[{\"id\":\"3894\"}],\"tags\":[\"hv_created\"],\"tooltips\":[[\"Symbol\",\"@{Symbol}\"],[\"Strike\",\"@{Strike}\"],[\"Open Int\",\"@{Open_Int}\"]]},\"id\":\"3857\",\"type\":\"HoverTool\"},{\"attributes\":{},\"id\":\"3868\",\"type\":\"CategoricalTicker\"},{\"attributes\":{\"bottom\":{\"field\":\"bottom\"},\"fill_color\":{\"field\":\"Strike\",\"transform\":{\"id\":\"3887\"}},\"hatch_color\":{\"field\":\"Strike\",\"transform\":{\"id\":\"3887\"}},\"top\":{\"field\":\"top\"},\"width\":{\"value\":0.8},\"x\":{\"field\":\"Symbol\"}},\"id\":\"3891\",\"type\":\"VBar\"},{\"attributes\":{\"format\":\"%.0f\"},\"id\":\"3897\",\"type\":\"PrintfTickFormatter\"},{\"attributes\":{},\"id\":\"3912\",\"type\":\"UnionRenderers\"},{\"attributes\":{\"axis_label\":\"Symbol\",\"coordinates\":null,\"formatter\":{\"id\":\"3899\"},\"group\":null,\"major_label_orientation\":1.5707963267948966,\"major_label_policy\":{\"id\":\"3900\"},\"ticker\":{\"id\":\"3868\"}},\"id\":\"3867\",\"type\":\"CategoricalAxis\"},{\"attributes\":{\"bottom\":{\"field\":\"bottom\"},\"fill_alpha\":{\"value\":0.1},\"fill_color\":{\"field\":\"Strike\",\"transform\":{\"id\":\"3887\"}},\"hatch_alpha\":{\"value\":0.1},\"hatch_color\":{\"field\":\"Strike\",\"transform\":{\"id\":\"3887\"}},\"line_alpha\":{\"value\":0.1},\"top\":{\"field\":\"top\"},\"width\":{\"value\":0.8},\"x\":{\"field\":\"Symbol\"}},\"id\":\"3892\",\"type\":\"VBar\"},{\"attributes\":{\"tools\":[{\"id\":\"3857\"},{\"id\":\"3874\"},{\"id\":\"3875\"},{\"id\":\"3876\"},{\"id\":\"3877\"},{\"id\":\"3878\"}]},\"id\":\"3880\",\"type\":\"Toolbar\"},{\"attributes\":{\"data\":{\"Open_Int\":{\"__ndarray__\":\"AAAAAECS1EAAAAAAAEifQAAAAAAAfbVAAAAAAAAEykAAAAAAANK9QAAAAAAA+dNAAAAAAABEzEAAAAAAABThQAAAAACAFs1AAAAAAADAbUAAAAAAADLIQAAAAACAuN5AAAAAAACmpkAAAAAAAAKlQAAAAAAQhvRAAAAAAADHsUAAAAAAACrBQAAAAACAZcVAAAAAAAD4okAAAAAAAOTSQAAAAAAgEeNAAAAAAACFuUAAAAAAABG0QAAAAAAAkJBAAAAAAICxxEAAAAAAAP3DQAAAAAAAYcdAAAAAAADUp0AAAAAAAOSxQAAAAACAEclAAAAAAMD22EAAAAAAgDraQAAAAADArNxAAAAAAABGokAAAAAAADWyQAAAAAAAQIhAAAAAAAD90UAAAAAAgGrIQAAAAAAAIJFAAAAAAABIqUAAAAAAAKK8QAAAAAAAsJtAAAAAAAC3t0AAAAAAAJKtQAAAAAAAVqNAAAAAAADD0UAAAAAAACSRQAAAAAAA8JZAAAAAAADwpkAAAAAAABqxQAAAAAAAAMNAAAAAAACwxkAAAAAAAJjPQAAAAACAj9RAAAAAAABqpUAAAAAAALiSQAAAAAAAL8xAAAAAAADypUAAAAAAAMCsQAAAAACgPuNAAAAAAAACqEAAAAAAADnhQAAAAAAAus1AAAAAAGBH4UAAAAAAgAnDQAAAAAAAeK5AAAAAAAAut0AAAAAAANy8QAAAAACAXMpAAAAAAABIt0AAAAAAADSzQAAAAAAApJ9AAAAAAABkwEAAAAAAALalQAAAAAAALqBAAAAAAAAIpkAAAAAAAKW4QAAAAAAAvqNAAAAAAIC+xEAAAAAAABqnQAAAAAAAqqtAAAAAAABsskAAAAAAwLLgQAAAAAAAysJAAAAAAEBj2UAAAAAAAP7OQAAAAAAAwdVAAAAAAAD5uEAAAAAAANy4QA==\",\"dtype\":\"float64\",\"order\":\"little\",\"shape\":[89]},\"Strike\":[\"125\",\"125\",\"130\",\"130\",\"135\",\"140\",\"145\",\"150\",\"150\",\"70\",\"115\",\"115\",\"117\",\"117\",\"120\",\"123\",\"32\",\"33\",\"33.5\",\"34\",\"10\",\"10.5\",\"16\",\"17\",\"17\",\"17.5\",\"18\",\"18\",\"18.5\",\"12\",\"13\",\"13\",\"14\",\"14.5\",\"110\",\"116\",\"38\",\"225\",\"227.5\",\"230\",\"235\",\"237.5\",\"240\",\"19\",\"19.5\",\"20\",\"128\",\"129\",\"131\",\"132\",\"90\",\"90\",\"90\",\"92.5\",\"92.5\",\"94\",\"87.5\",\"88\",\"91\",\"166.67\",\"203.33\",\"250\",\"260\",\"266.67\",\"270\",\"275\",\"276.67\",\"280\",\"283.33\",\"285\",\"286.67\",\"288.33\",\"290\",\"290.83\",\"291.67\",\"292.5\",\"293.33\",\"294.17\",\"295\",\"295.83\",\"296.67\",\"298.33\",\"300\",\"301.67\",\"40\",\"41\",\"30\",\"31\",\"31.5\"],\"Symbol\":[\"AAPL\",\"NVDA\",\"NVDA\",\"AAPL\",\"AAPL\",\"AAPL\",\"AAPL\",\"AAPL\",\"AXP\",\"AMZN\",\"JPM\",\"AMZN\",\"JPM\",\"AMZN\",\"AMZN\",\"AMZN\",\"BAC\",\"BAC\",\"BAC\",\"BAC\",\"CCL\",\"CCL\",\"CHPT\",\"NIO\",\"CHPT\",\"DKNG\",\"DKNG\",\"NIO\",\"DKNG\",\"F\",\"F\",\"PCG\",\"F\",\"F\",\"JPM\",\"JPM\",\"LVS\",\"NFLX\",\"NFLX\",\"NFLX\",\"NFLX\",\"NFLX\",\"NFLX\",\"NIO\",\"NIO\",\"NIO\",\"NVDA\",\"NVDA\",\"NVDA\",\"NVDA\",\"XOM\",\"PYPL\",\"SBUX\",\"XOM\",\"PYPL\",\"PYPL\",\"SBUX\",\"SBUX\",\"SBUX\",\"TSLA\",\"TSLA\",\"TSLA\",\"TSLA\",\"TSLA\",\"TSLA\",\"TSLA\",\"TSLA\",\"TSLA\",\"TSLA\",\"TSLA\",\"TSLA\",\"TSLA\",\"TSLA\",\"TSLA\",\"TSLA\",\"TSLA\",\"TSLA\",\"TSLA\",\"TSLA\",\"TSLA\",\"TSLA\",\"TSLA\",\"TSLA\",\"TSLA\",\"TWTR\",\"TWTR\",\"UBER\",\"UBER\",\"UBER\"],\"bottom\":{\"__ndarray__\":\"AAAAAAAAAAAAAAAAAAAAAAAAAAAASJ9AAAAAAECS1EAAAAAAIMrgQAAAAABghORAAAAAAOCA7kAAAAAA8MjyQAAAAAAAAAAAAAAAAAAAAAAAAAAAAAAAAAAAAAAAwG1AAAAAAAAyyEAAAAAAAPTeQAAAAAAgyuBAAAAAACDr/EAAAAAAAAAAAAAAAAAAKsFAAAAAAMBH00AAAAAAwKbVQAAAAAAAAAAAAAAAACAR40AAAAAAAAAAAAAAAAAAAAAAAAAAAAARtEAAAAAAAAAAAAAAAAAA/cNAAAAAAACQkEAAAAAAAK/VQAAAAAAAAAAAAAAAAIARyUAAAAAAAAAAAAAAAADAv+JAAAAAABCL8EAAAAAAgNvNQAAAAAAAe9NAAAAAAAAAAAAAAAAAAAAAAAAAAACAashAAAAAAICOykAAAAAAQHDQQAAAAADAmNdAAAAAAMBT2UAAAAAAAA6wQAAAAAAA175AAAAAAABBxEAAAAAAAE+9QAAAAAAAzMBAAAAAAACqw0AAAAAAAGbJQAAAAAAAAAAAAAAAAAAAAAAAAAAAAAAAAAAAAAAAAMNAAAAAAACwxkAAAAAAgArMQAAAAAAAmM9AAAAAAIDj3UAAAAAA4FDgQAAAAAAAAAAAAAAAAKA+40AAAAAAwL7kQAAAAADg+/JAAAAAACCz9kAAAAAA0Fb/QAAAAAAA3ABBAAAAAOBVAUEAAAAAUA8CQQAAAAAw9gJBAAAAAPibBEEAAAAAOFYFQQAAAADY7wVBAAAAACAvBkEAAAAAYDUHQQAAAAA4jAdBAAAAAPDMB0EAAAAAECUIQQAAAAA46ghBAAAAADA5CUEAAAAAGIUKQQAAAACA4QpBAAAAAChQC0EAAAAAiOMLQQAAAAAcCBBBAAAAAAAAAAAAAAAAQGPZQAAAAAAAAAAAAAAAAADB1UAAAAAAQP/bQA==\",\"dtype\":\"float64\",\"order\":\"little\",\"shape\":[89]},\"top\":{\"__ndarray__\":\"AAAAAECS1EAAAAAAAEifQAAAAAAAT71AAAAAACDK4EAAAAAAYITkQAAAAADggO5AAAAAAPDI8kAAAAAA8FL7QAAAAACAFs1AAAAAAADAbUAAAAAAADLIQAAAAAAA9N5AAAAAAIDbzUAAAAAAIMrgQAAAAAAg6/xAAAAAAJAH/kAAAAAAACrBQAAAAADAR9NAAAAAAMCm1UAAAAAAYEXkQAAAAAAgEeNAAAAAAMBB5kAAAAAAABG0QAAAAAAAkJBAAAAAAAC6zkAAAAAAAP3DQAAAAAAAr9VAAAAAAAAOsEAAAAAAACjaQAAAAACAEclAAAAAAMC/4kAAAAAAgDraQAAAAAAQi/BAAAAAAEAd8UAAAAAAAHvTQAAAAAAAPdRAAAAAAAD90UAAAAAAgGrIQAAAAACAjspAAAAAAEBw0EAAAAAAwJjXQAAAAADAU9lAAAAAAIBB30AAAAAAANe+QAAAAAAAQcRAAAAAAIDj20AAAAAAAMzAQAAAAAAAqsNAAAAAAABmyUAAAAAAgPnQQAAAAAAAAMNAAAAAAACwxkAAAAAAAJjPQAAAAACAD95AAAAAAIAKzEAAAAAAgGHOQAAAAACA491AAAAAAOBQ4EAAAAAA4BziQAAAAACgPuNAAAAAAMC+5EAAAAAA4PvyQAAAAAAgs/ZAAAAAANBW/0AAAAAAANwAQQAAAADgVQFBAAAAAFAPAkEAAAAAMPYCQQAAAAD4mwRBAAAAADhWBUEAAAAA2O8FQQAAAAAgLwZBAAAAAGA1B0EAAAAAOIwHQQAAAADwzAdBAAAAABAlCEEAAAAAOOoIQQAAAAAwOQlBAAAAABiFCkEAAAAAgOEKQQAAAAAoUAtBAAAAAIjjC0EAAAAAHAgQQQAAAABsnhBBAAAAAEBj2UAAAAAAIHHkQAAAAAAAwdVAAAAAAED/20AAAAAAIBvhQA==\",\"dtype\":\"float64\",\"order\":\"little\",\"shape\":[89]}},\"selected\":{\"id\":\"3889\"},\"selection_policy\":{\"id\":\"3912\"}},\"id\":\"3888\",\"type\":\"ColumnDataSource\"},{\"attributes\":{},\"id\":\"3876\",\"type\":\"WheelZoomTool\"},{\"attributes\":{\"factors\":[\"AAPL\",\"AMZN\",\"AXP\",\"BAC\",\"CCL\",\"CHPT\",\"DKNG\",\"F\",\"JPM\",\"LVS\",\"NFLX\",\"NIO\",\"NVDA\",\"PCG\",\"PYPL\",\"SBUX\",\"TSLA\",\"TWTR\",\"UBER\",\"XOM\"],\"tags\":[[[\"Symbol\",\"Symbol\",null]]]},\"id\":\"3855\",\"type\":\"FactorRange\"},{\"attributes\":{\"axis\":{\"id\":\"3867\"},\"coordinates\":null,\"grid_line_color\":null,\"group\":null,\"ticker\":null},\"id\":\"3869\",\"type\":\"Grid\"},{\"attributes\":{},\"id\":\"3899\",\"type\":\"CategoricalTickFormatter\"},{\"attributes\":{},\"id\":\"3874\",\"type\":\"SaveTool\"},{\"attributes\":{\"coordinates\":null,\"data_source\":{\"id\":\"3888\"},\"glyph\":{\"id\":\"3891\"},\"group\":null,\"hover_glyph\":null,\"muted_glyph\":{\"id\":\"3893\"},\"nonselection_glyph\":{\"id\":\"3892\"},\"selection_glyph\":{\"id\":\"3896\"},\"view\":{\"id\":\"3895\"}},\"id\":\"3894\",\"type\":\"GlyphRenderer\"},{\"attributes\":{\"below\":[{\"id\":\"3867\"}],\"center\":[{\"id\":\"3869\"},{\"id\":\"3873\"}],\"height\":800,\"left\":[{\"id\":\"3870\"}],\"margin\":[5,5,5,5],\"min_border_bottom\":10,\"min_border_left\":10,\"min_border_right\":10,\"min_border_top\":10,\"renderers\":[{\"id\":\"3894\"}],\"sizing_mode\":\"fixed\",\"title\":{\"id\":\"3859\"},\"toolbar\":{\"id\":\"3880\"},\"width\":1000,\"x_range\":{\"id\":\"3855\"},\"x_scale\":{\"id\":\"3863\"},\"y_range\":{\"id\":\"3856\"},\"y_scale\":{\"id\":\"3865\"}},\"id\":\"3858\",\"subtype\":\"Figure\",\"type\":\"Plot\"},{\"attributes\":{\"children\":[{\"id\":\"3854\"},{\"id\":\"3858\"},{\"id\":\"3915\"}],\"margin\":[0,0,0,0],\"name\":\"Row10727\",\"tags\":[\"embedded\"]},\"id\":\"3853\",\"type\":\"Row\"},{\"attributes\":{},\"id\":\"3863\",\"type\":\"CategoricalScale\"},{\"attributes\":{\"coordinates\":null,\"group\":null,\"text\":\"Call\",\"text_color\":\"black\",\"text_font_size\":\"12pt\"},\"id\":\"3859\",\"type\":\"Title\"},{\"attributes\":{},\"id\":\"3865\",\"type\":\"LinearScale\"},{\"attributes\":{\"bottom\":{\"field\":\"bottom\"},\"fill_alpha\":{\"value\":1.0},\"fill_color\":{\"field\":\"Strike\",\"transform\":{\"id\":\"3887\"}},\"hatch_alpha\":{\"value\":1.0},\"hatch_color\":{\"field\":\"Strike\",\"transform\":{\"id\":\"3887\"}},\"hatch_scale\":{\"value\":12.0},\"hatch_weight\":{\"value\":1.0},\"line_alpha\":{\"value\":1.0},\"line_cap\":{\"value\":\"butt\"},\"line_color\":{\"value\":\"black\"},\"line_dash\":{\"value\":[]},\"line_dash_offset\":{\"value\":0},\"line_join\":{\"value\":\"bevel\"},\"line_width\":{\"value\":1},\"top\":{\"field\":\"top\"},\"width\":{\"value\":0.8},\"x\":{\"field\":\"Symbol\"}},\"id\":\"3896\",\"type\":\"VBar\"},{\"attributes\":{\"source\":{\"id\":\"3888\"}},\"id\":\"3895\",\"type\":\"CDSView\"},{\"attributes\":{},\"id\":\"3878\",\"type\":\"ResetTool\"},{\"attributes\":{},\"id\":\"3871\",\"type\":\"BasicTicker\"},{\"attributes\":{\"end\":298022.0,\"reset_end\":298022.0,\"reset_start\":0.0,\"tags\":[[[\"Open Int\",\"Open Int\",null]]]},\"id\":\"3856\",\"type\":\"Range1d\"},{\"attributes\":{\"bottom\":{\"field\":\"bottom\"},\"fill_alpha\":{\"value\":0.2},\"fill_color\":{\"field\":\"Strike\",\"transform\":{\"id\":\"3887\"}},\"hatch_alpha\":{\"value\":0.2},\"hatch_color\":{\"field\":\"Strike\",\"transform\":{\"id\":\"3887\"}},\"line_alpha\":{\"value\":0.2},\"top\":{\"field\":\"top\"},\"width\":{\"value\":0.8},\"x\":{\"field\":\"Symbol\"}},\"id\":\"3893\",\"type\":\"VBar\"},{\"attributes\":{},\"id\":\"3889\",\"type\":\"Selection\"},{\"attributes\":{\"margin\":[5,5,5,5],\"name\":\"HSpacer10732\",\"sizing_mode\":\"stretch_width\"},\"id\":\"3915\",\"type\":\"Spacer\"},{\"attributes\":{\"factors\":[\"125\",\"130\",\"135\",\"140\",\"145\",\"150\",\"70\",\"115\",\"117\",\"120\",\"123\",\"32\",\"33\",\"33.5\",\"34\",\"10\",\"10.5\",\"16\",\"17\",\"17.5\",\"18\",\"18.5\",\"12\",\"13\",\"14\",\"14.5\",\"110\",\"116\",\"38\",\"225\",\"227.5\",\"230\",\"235\",\"237.5\",\"240\",\"19\",\"19.5\",\"20\",\"128\",\"129\",\"131\",\"132\",\"90\",\"92.5\",\"94\",\"87.5\",\"88\",\"91\",\"166.67\",\"203.33\",\"250\",\"260\",\"266.67\",\"270\",\"275\",\"276.67\",\"280\",\"283.33\",\"285\",\"286.67\",\"288.33\",\"290\",\"290.83\",\"291.67\",\"292.5\",\"293.33\",\"294.17\",\"295\",\"295.83\",\"296.67\",\"298.33\",\"300\",\"301.67\",\"40\",\"41\",\"30\",\"31\",\"31.5\"],\"palette\":[\"#259646\",\"#259646\",\"#259646\",\"#259646\",\"#259646\",\"#259646\",\"#259646\",\"#259646\",\"#259646\",\"#259646\",\"#259646\",\"#259646\",\"#259646\",\"#259646\",\"#259646\",\"#259646\",\"#259646\",\"#259646\",\"#259646\",\"#259646\",\"#259646\",\"#259646\",\"#259646\",\"#259646\",\"#259646\",\"#259646\",\"#259646\",\"#259646\",\"#259646\",\"#259646\",\"#259646\",\"#259646\",\"#259646\",\"#259646\",\"#259646\",\"#259646\",\"#259646\",\"#259646\",\"#259646\",\"#259646\",\"#259646\",\"#259646\",\"#259646\",\"#259646\",\"#259646\",\"#259646\",\"#259646\",\"#259646\",\"#259646\",\"#259646\",\"#259646\",\"#259646\",\"#259646\",\"#259646\",\"#259646\",\"#259646\",\"#259646\",\"#259646\",\"#259646\",\"#259646\",\"#259646\",\"#259646\",\"#259646\",\"#259646\",\"#259646\",\"#259646\",\"#259646\",\"#259646\",\"#259646\",\"#259646\",\"#259646\",\"#259646\",\"#259646\",\"#259646\",\"#259646\",\"#259646\",\"#259646\",\"#259646\"]},\"id\":\"3887\",\"type\":\"CategoricalColorMapper\"},{\"attributes\":{\"bottom_units\":\"screen\",\"coordinates\":null,\"fill_alpha\":0.5,\"fill_color\":\"lightgrey\",\"group\":null,\"left_units\":\"screen\",\"level\":\"overlay\",\"line_alpha\":1.0,\"line_color\":\"black\",\"line_dash\":[4,4],\"line_width\":2,\"right_units\":\"screen\",\"syncable\":false,\"top_units\":\"screen\"},\"id\":\"3879\",\"type\":\"BoxAnnotation\"},{\"attributes\":{\"overlay\":{\"id\":\"3879\"}},\"id\":\"3877\",\"type\":\"BoxZoomTool\"},{\"attributes\":{\"margin\":[5,5,5,5],\"name\":\"HSpacer10731\",\"sizing_mode\":\"stretch_width\"},\"id\":\"3854\",\"type\":\"Spacer\"}],\"root_ids\":[\"3853\"]},\"title\":\"Bokeh Application\",\"version\":\"2.4.3\"}};\n",
       "    var render_items = [{\"docid\":\"0dc13a1d-6240-4e26-b47b-47dfe6f8f969\",\"root_ids\":[\"3853\"],\"roots\":{\"3853\":\"851706e8-395a-401e-8780-45e09324030c\"}}];\n",
       "    root.Bokeh.embed.embed_items_notebook(docs_json, render_items);\n",
       "  }\n",
       "  if (root.Bokeh !== undefined && root.Bokeh.Panel !== undefined) {\n",
       "    embed_document(root);\n",
       "  } else {\n",
       "    var attempts = 0;\n",
       "    var timer = setInterval(function(root) {\n",
       "      if (root.Bokeh !== undefined && root.Bokeh.Panel !== undefined) {\n",
       "        clearInterval(timer);\n",
       "        embed_document(root);\n",
       "      } else if (document.readyState == \"complete\") {\n",
       "        attempts++;\n",
       "        if (attempts > 200) {\n",
       "          clearInterval(timer);\n",
       "          console.log(\"Bokeh: ERROR: Unable to run BokehJS code because BokehJS library is missing\");\n",
       "        }\n",
       "      }\n",
       "    }, 25, root)\n",
       "  }\n",
       "})(window);</script>"
      ],
      "text/plain": [
       ":Bars   [Symbol,Strike]   (Open Int)"
      ]
     },
     "execution_count": 45,
     "metadata": {
      "application/vnd.holoviews_exec.v0+json": {
       "id": "3853"
      }
     },
     "output_type": "execute_result"
    }
   ],
   "source": [
    "# Calling options_call_bar\n",
    "options_call_bar(df)"
   ]
  },
  {
   "cell_type": "code",
   "execution_count": 46,
   "metadata": {},
   "outputs": [
    {
     "data": {},
     "metadata": {},
     "output_type": "display_data"
    },
    {
     "data": {
      "application/vnd.holoviews_exec.v0+json": "",
      "text/html": [
       "<div id='3962'>\n",
       "  <div class=\"bk-root\" id=\"4e417140-3eda-46a8-9ffa-9bb17fd7e2fd\" data-root-id=\"3962\"></div>\n",
       "</div>\n",
       "<script type=\"application/javascript\">(function(root) {\n",
       "  function embed_document(root) {\n",
       "    var docs_json = {\"0feaf5dd-b56c-41a8-9781-745615092e7d\":{\"defs\":[{\"extends\":null,\"module\":null,\"name\":\"ReactiveHTML1\",\"overrides\":[],\"properties\":[]},{\"extends\":null,\"module\":null,\"name\":\"FlexBox1\",\"overrides\":[],\"properties\":[{\"default\":\"flex-start\",\"kind\":null,\"name\":\"align_content\"},{\"default\":\"flex-start\",\"kind\":null,\"name\":\"align_items\"},{\"default\":\"row\",\"kind\":null,\"name\":\"flex_direction\"},{\"default\":\"wrap\",\"kind\":null,\"name\":\"flex_wrap\"},{\"default\":\"flex-start\",\"kind\":null,\"name\":\"justify_content\"}]},{\"extends\":null,\"module\":null,\"name\":\"GridStack1\",\"overrides\":[],\"properties\":[{\"default\":\"warn\",\"kind\":null,\"name\":\"mode\"},{\"default\":null,\"kind\":null,\"name\":\"ncols\"},{\"default\":null,\"kind\":null,\"name\":\"nrows\"},{\"default\":true,\"kind\":null,\"name\":\"allow_resize\"},{\"default\":true,\"kind\":null,\"name\":\"allow_drag\"},{\"default\":[],\"kind\":null,\"name\":\"state\"}]},{\"extends\":null,\"module\":null,\"name\":\"click1\",\"overrides\":[],\"properties\":[{\"default\":\"\",\"kind\":null,\"name\":\"terminal_output\"},{\"default\":\"\",\"kind\":null,\"name\":\"debug_name\"},{\"default\":0,\"kind\":null,\"name\":\"clears\"}]},{\"extends\":null,\"module\":null,\"name\":\"NotificationAreaBase1\",\"overrides\":[],\"properties\":[{\"default\":\"bottom-right\",\"kind\":null,\"name\":\"position\"},{\"default\":0,\"kind\":null,\"name\":\"_clear\"}]},{\"extends\":null,\"module\":null,\"name\":\"NotificationArea1\",\"overrides\":[],\"properties\":[{\"default\":[],\"kind\":null,\"name\":\"notifications\"},{\"default\":\"bottom-right\",\"kind\":null,\"name\":\"position\"},{\"default\":0,\"kind\":null,\"name\":\"_clear\"},{\"default\":[{\"background\":\"#ffc107\",\"icon\":{\"className\":\"fas fa-exclamation-triangle\",\"color\":\"white\",\"tagName\":\"i\"},\"type\":\"warning\"},{\"background\":\"#007bff\",\"icon\":{\"className\":\"fas fa-info-circle\",\"color\":\"white\",\"tagName\":\"i\"},\"type\":\"info\"}],\"kind\":null,\"name\":\"types\"}]},{\"extends\":null,\"module\":null,\"name\":\"Notification\",\"overrides\":[],\"properties\":[{\"default\":null,\"kind\":null,\"name\":\"background\"},{\"default\":3000,\"kind\":null,\"name\":\"duration\"},{\"default\":null,\"kind\":null,\"name\":\"icon\"},{\"default\":\"\",\"kind\":null,\"name\":\"message\"},{\"default\":null,\"kind\":null,\"name\":\"notification_type\"},{\"default\":false,\"kind\":null,\"name\":\"_destroyed\"}]},{\"extends\":null,\"module\":null,\"name\":\"TemplateActions1\",\"overrides\":[],\"properties\":[{\"default\":0,\"kind\":null,\"name\":\"open_modal\"},{\"default\":0,\"kind\":null,\"name\":\"close_modal\"}]},{\"extends\":null,\"module\":null,\"name\":\"MaterialTemplateActions1\",\"overrides\":[],\"properties\":[{\"default\":0,\"kind\":null,\"name\":\"open_modal\"},{\"default\":0,\"kind\":null,\"name\":\"close_modal\"}]}],\"roots\":{\"references\":[{\"attributes\":{\"factors\":[\"AAL\",\"AAPL\",\"AMD\",\"AMZN\",\"ATUS\",\"BABA\",\"BAC\",\"C\",\"F\",\"GOOG\",\"GOOGL\",\"INTC\",\"META\",\"MSFT\",\"NIO\",\"NVDA\",\"RBLX\",\"SNAP\",\"T\",\"TSLA\"],\"tags\":[[[\"Symbol\",\"Symbol\",null]]]},\"id\":\"3964\",\"type\":\"FactorRange\"},{\"attributes\":{},\"id\":\"3983\",\"type\":\"SaveTool\"},{\"attributes\":{\"bottom_units\":\"screen\",\"coordinates\":null,\"fill_alpha\":0.5,\"fill_color\":\"lightgrey\",\"group\":null,\"left_units\":\"screen\",\"level\":\"overlay\",\"line_alpha\":1.0,\"line_color\":\"black\",\"line_dash\":[4,4],\"line_width\":2,\"right_units\":\"screen\",\"syncable\":false,\"top_units\":\"screen\"},\"id\":\"3988\",\"type\":\"BoxAnnotation\"},{\"attributes\":{\"coordinates\":null,\"group\":null,\"text\":\"Puts\",\"text_color\":\"black\",\"text_font_size\":\"12pt\"},\"id\":\"3968\",\"type\":\"Title\"},{\"attributes\":{\"axis_label\":\"Open Int\",\"coordinates\":null,\"formatter\":{\"id\":\"4006\"},\"group\":null,\"major_label_policy\":{\"id\":\"4012\"},\"ticker\":{\"id\":\"3980\"}},\"id\":\"3979\",\"type\":\"LinearAxis\"},{\"attributes\":{},\"id\":\"3977\",\"type\":\"CategoricalTicker\"},{\"attributes\":{\"factors\":[\"14\",\"14.5\",\"15\",\"152.5\",\"155\",\"157.5\",\"160\",\"162.5\",\"165\",\"170\",\"77.5\",\"78\",\"79\",\"80\",\"85\",\"90\",\"124\",\"125\",\"126\",\"127\",\"127.5\",\"128\",\"129\",\"130\",\"131\",\"132\",\"132.5\",\"133\",\"135\",\"140\",\"9\",\"88\",\"89\",\"91\",\"95\",\"34.5\",\"35\",\"50\",\"15.5\",\"16\",\"108\",\"110\",\"103.25\",\"103.5\",\"104.5\",\"105\",\"106\",\"115\",\"29.5\",\"30\",\"30.5\",\"32\",\"150\",\"245\",\"250\",\"252.5\",\"255\",\"260\",\"262.5\",\"270\",\"20.5\",\"21\",\"21.5\",\"22\",\"134\",\"145\",\"40\",\"40.5\",\"41\",\"42\",\"43\",\"45\",\"11.5\",\"12\",\"17\",\"17.5\",\"18\",\"303.33\",\"305\",\"306.67\",\"310\",\"313.33\"],\"palette\":[\"#C01234\",\"#C01234\",\"#C01234\",\"#C01234\",\"#C01234\",\"#C01234\",\"#C01234\",\"#C01234\",\"#C01234\",\"#C01234\",\"#C01234\",\"#C01234\",\"#C01234\",\"#C01234\",\"#C01234\",\"#C01234\",\"#C01234\",\"#C01234\",\"#C01234\",\"#C01234\",\"#C01234\",\"#C01234\",\"#C01234\",\"#C01234\",\"#C01234\",\"#C01234\",\"#C01234\",\"#C01234\",\"#C01234\",\"#C01234\",\"#C01234\",\"#C01234\",\"#C01234\",\"#C01234\",\"#C01234\",\"#C01234\",\"#C01234\",\"#C01234\",\"#C01234\",\"#C01234\",\"#C01234\",\"#C01234\",\"#C01234\",\"#C01234\",\"#C01234\",\"#C01234\",\"#C01234\",\"#C01234\",\"#C01234\",\"#C01234\",\"#C01234\",\"#C01234\",\"#C01234\",\"#C01234\",\"#C01234\",\"#C01234\",\"#C01234\",\"#C01234\",\"#C01234\",\"#C01234\",\"#C01234\",\"#C01234\",\"#C01234\",\"#C01234\",\"#C01234\",\"#C01234\",\"#C01234\",\"#C01234\",\"#C01234\",\"#C01234\",\"#C01234\",\"#C01234\",\"#C01234\",\"#C01234\",\"#C01234\",\"#C01234\",\"#C01234\",\"#C01234\",\"#C01234\",\"#C01234\",\"#C01234\",\"#C01234\"]},\"id\":\"3996\",\"type\":\"CategoricalColorMapper\"},{\"attributes\":{\"margin\":[5,5,5,5],\"name\":\"HSpacer10945\",\"sizing_mode\":\"stretch_width\"},\"id\":\"3963\",\"type\":\"Spacer\"},{\"attributes\":{\"format\":\"%.0f\"},\"id\":\"4006\",\"type\":\"PrintfTickFormatter\"},{\"attributes\":{},\"id\":\"3998\",\"type\":\"Selection\"},{\"attributes\":{},\"id\":\"3974\",\"type\":\"LinearScale\"},{\"attributes\":{\"source\":{\"id\":\"3997\"}},\"id\":\"4004\",\"type\":\"CDSView\"},{\"attributes\":{},\"id\":\"3985\",\"type\":\"WheelZoomTool\"},{\"attributes\":{\"overlay\":{\"id\":\"3988\"}},\"id\":\"3986\",\"type\":\"BoxZoomTool\"},{\"attributes\":{\"axis\":{\"id\":\"3976\"},\"coordinates\":null,\"grid_line_color\":null,\"group\":null,\"ticker\":null},\"id\":\"3978\",\"type\":\"Grid\"},{\"attributes\":{},\"id\":\"3980\",\"type\":\"BasicTicker\"},{\"attributes\":{\"margin\":[5,5,5,5],\"name\":\"HSpacer10946\",\"sizing_mode\":\"stretch_width\"},\"id\":\"4024\",\"type\":\"Spacer\"},{\"attributes\":{\"end\":296963.1,\"reset_end\":296963.1,\"reset_start\":0.0,\"tags\":[[[\"Open Int\",\"Open Int\",null]]]},\"id\":\"3965\",\"type\":\"Range1d\"},{\"attributes\":{},\"id\":\"3987\",\"type\":\"ResetTool\"},{\"attributes\":{\"tools\":[{\"id\":\"3966\"},{\"id\":\"3983\"},{\"id\":\"3984\"},{\"id\":\"3985\"},{\"id\":\"3986\"},{\"id\":\"3987\"}]},\"id\":\"3989\",\"type\":\"Toolbar\"},{\"attributes\":{},\"id\":\"4021\",\"type\":\"UnionRenderers\"},{\"attributes\":{\"children\":[{\"id\":\"3963\"},{\"id\":\"3967\"},{\"id\":\"4024\"}],\"margin\":[0,0,0,0],\"name\":\"Row10941\",\"tags\":[\"embedded\"]},\"id\":\"3962\",\"type\":\"Row\"},{\"attributes\":{\"bottom\":{\"field\":\"bottom\"},\"fill_alpha\":{\"value\":0.1},\"fill_color\":{\"field\":\"Strike\",\"transform\":{\"id\":\"3996\"}},\"hatch_alpha\":{\"value\":0.1},\"hatch_color\":{\"field\":\"Strike\",\"transform\":{\"id\":\"3996\"}},\"line_alpha\":{\"value\":0.1},\"top\":{\"field\":\"top\"},\"width\":{\"value\":0.8},\"x\":{\"field\":\"Symbol\"}},\"id\":\"4001\",\"type\":\"VBar\"},{\"attributes\":{\"data\":{\"Open_Int\":{\"__ndarray__\":\"AAAAAADPz0AAAAAAAESgQAAAAACApOdAAAAAAJB4/EAAAAAAAGTeQAAAAAAABrlAAAAAAGAW4UAAAAAAANLFQAAAAAAAurlAAAAAAMCV00AAAAAAQEXaQAAAAABAvONAAAAAAIBRxUAAAAAAAGffQAAAAAAgnetAAAAAAECM2UAAAAAAAHHfQAAAAAAA58BAAAAAAAB4r0AAAAAAAGCpQAAAAAAAc85AAAAAAAB51EAAAAAAQGPdQAAAAACAzdtAAAAAAADpvkAAAAAAAK/TQAAAAAAAOr1AAAAAAABRv0AAAAAAAN+3QAAAAAAA18BAAAAAAADUtUAAAAAAwJzfQAAAAAAAcbZAAAAAAADWtkAAAAAAAOCfQAAAAADA8tZAAAAAAABTuEAAAAAAAA6oQAAAAACA7MdAAAAAAMCw00AAAAAAgOXDQAAAAAAA6eZAAAAAAMAa30AAAAAAAGSeQAAAAAAAIKhAAAAAAAC4kkAAAAAAgBzTQAAAAAAA1bxAAAAAAMDN3EAAAAAAYIfhQAAAAABA3N9AAAAAAIApwkAAAAAASO0BQQAAAAAAsKdAAAAAAEBX0UAAAAAAQNLcQAAAAAAAJJNAAAAAAADonUAAAAAAAD6oQAAAAAAAc8tAAAAAAADepUAAAAAAwHvXQAAAAAAApbVAAAAAAIDTykAAAAAAAEW2QAAAAAAAH7FAAAAAAIAExkAAAAAAQP7UQAAAAAAAtr1AAAAAAID7w0AAAAAAAFWxQAAAAAAAw7pAAAAAAEBC0kAAAAAAALSiQAAAAAAAL89AAAAAAIC6zUAAAAAAgNPDQAAAAAAAIcVAAAAAAABgqkAAAAAAAMyqQAAAAAAAsrVAAAAAAICNwkAAAAAAAJquQAAAAAAA0JFAAAAAAAD6pEAAAAAAAGqjQAAAAAAAxcVAAAAAAAA0w0AAAAAAwFrVQAAAAACA+NRAAAAAAABomkAAAAAAwNHiQAAAAACA1sJAAAAAAIAtxEAAAAAAANi4QAAAAAAAnLJAAAAAAABYoEA=\",\"dtype\":\"float64\",\"order\":\"little\",\"shape\":[97]},\"Strike\":[\"14\",\"14.5\",\"15\",\"15\",\"152.5\",\"152.5\",\"155\",\"155\",\"157.5\",\"157.5\",\"160\",\"160\",\"162.5\",\"165\",\"165\",\"170\",\"170\",\"77.5\",\"78\",\"79\",\"80\",\"85\",\"90\",\"90\",\"124\",\"125\",\"126\",\"127\",\"127.5\",\"128\",\"129\",\"130\",\"131\",\"132\",\"132\",\"132.5\",\"133\",\"133\",\"135\",\"135\",\"140\",\"140\",\"9\",\"88\",\"89\",\"91\",\"95\",\"34.5\",\"35\",\"35\",\"50\",\"15.5\",\"16\",\"108\",\"110\",\"110\",\"103.25\",\"103.5\",\"104.5\",\"105\",\"106\",\"115\",\"29.5\",\"30\",\"30.5\",\"32\",\"150\",\"150\",\"245\",\"250\",\"252.5\",\"255\",\"260\",\"262.5\",\"270\",\"20.5\",\"21\",\"21.5\",\"22\",\"134\",\"145\",\"40\",\"40.5\",\"41\",\"42\",\"43\",\"45\",\"11.5\",\"12\",\"17\",\"17.5\",\"18\",\"303.33\",\"305\",\"306.67\",\"310\",\"313.33\"],\"Symbol\":[\"AAL\",\"AAL\",\"AAL\",\"F\",\"AAPL\",\"META\",\"AAPL\",\"META\",\"META\",\"AAPL\",\"META\",\"AAPL\",\"AAPL\",\"META\",\"AAPL\",\"META\",\"AAPL\",\"AMD\",\"AMD\",\"AMD\",\"AMD\",\"AMD\",\"AMD\",\"BABA\",\"AMZN\",\"AMZN\",\"AMZN\",\"AMZN\",\"AMZN\",\"AMZN\",\"AMZN\",\"AMZN\",\"AMZN\",\"AMZN\",\"NVDA\",\"AMZN\",\"AMZN\",\"NVDA\",\"NVDA\",\"AMZN\",\"NVDA\",\"AMZN\",\"ATUS\",\"BABA\",\"BABA\",\"BABA\",\"BABA\",\"BAC\",\"INTC\",\"BAC\",\"C\",\"F\",\"F\",\"GOOG\",\"GOOGL\",\"GOOG\",\"GOOGL\",\"GOOGL\",\"GOOGL\",\"GOOGL\",\"GOOGL\",\"GOOGL\",\"INTC\",\"INTC\",\"INTC\",\"INTC\",\"NVDA\",\"META\",\"MSFT\",\"MSFT\",\"MSFT\",\"MSFT\",\"MSFT\",\"MSFT\",\"MSFT\",\"NIO\",\"NIO\",\"NIO\",\"NIO\",\"NVDA\",\"NVDA\",\"RBLX\",\"RBLX\",\"RBLX\",\"RBLX\",\"RBLX\",\"RBLX\",\"SNAP\",\"SNAP\",\"T\",\"T\",\"T\",\"TSLA\",\"TSLA\",\"TSLA\",\"TSLA\",\"TSLA\"],\"bottom\":{\"__ndarray__\":\"AAAAAAAAAAAAAAAAAM/PQAAAAAAA8NFAAAAAAAAAAAAAAAAAAAAAAAAAAAAAAAAAAAAAAABk3kAAAAAAAAa5QAAAAACAKtFAAAAAADAk8EAAAAAAAJnXQAAAAACgCfVAAAAAAMDn/kAAAAAAIO/oQAAAAAD4yABBAAAAAFBR9EAAAAAAQLAHQQAAAAAAAAAAAAAAAADnwEAAAAAAAMXIQAAAAAAAHc9AAAAAAADI3kAAAAAAgKDpQAAAAAAAAAAAAAAAAAAAAAAAAAAAAOm+QAAAAABAadtAAAAAAOBb4UAAAAAAAEblQAAAAADgQehAAAAAAKB37EAAAAAAIDLvQAAAAABAgPdAAAAAAFDn+EAAAAAAAAAAAAAAAACwVPpAAAAAALAIAEEAAAAAAOCfQAAAAAAA/7NAAAAAAEjLAEEAAAAAAPbQQAAAAABgQQNBAAAAAAAAAAAAAAAAgM3bQAAAAADAs91AAAAAAOBb4EAAAAAAoPHgQAAAAAAAAAAAAAAAAAAAAAAAAAAAANW8QAAAAAAAAAAAAAAAAJB4/EAAAAAAwL3+QAAAAAAAAAAAAAAAAAAAAAAAAAAAALCnQAAAAABAV9FAAAAAAICJ0kAAAAAAAGjUQAAAAADAb9dAAAAAAKCU4kAAAAAAgPLjQAAAAADAzdxAAAAAAIAb4UAAAAAAYNDnQAAAAAAAmepAAAAAAMDo2kAAAAAAYLT6QAAAAAAAAAAAAAAAAAC2vUAAAAAAQGvRQAAAAACAwNVAAAAAAEBx3EAAAAAAwFnnQAAAAAAAhehAAAAAAAAAAAAAAAAAgLrNQAAAAAAAx9hAAAAAAMCr4UAAAAAAgPXiQAAAAABAouRAAAAAAAAAAAAAAAAAgI3CQAAAAAAANMpAAAAAAABuzEAAAAAAQNbQQAAAAACAQ9NAAAAAAAAAAAAAAAAAADTDQAAAAAAAAAAAAAAAAID41EAAAAAAAJ/WQAAAAAAAAAAAAAAAAIDWwkAAAAAAAILTQAAAAAAAuNlAAAAAAABf3kA=\",\"dtype\":\"float64\",\"order\":\"little\",\"shape\":[97]},\"top\":{\"__ndarray__\":\"AAAAAADPz0AAAAAAAPDRQAAAAABATvBAAAAAAJB4/EAAAAAAAGTeQAAAAAAABrlAAAAAADAk8EAAAAAAgCrRQAAAAAAAmddAAAAAAKAJ9UAAAAAAIO/oQAAAAADA5/5AAAAAAPjIAEEAAAAAUFH0QAAAAABAsAdBAAAAAGC0+kAAAAAAYJ4LQQAAAAAA58BAAAAAAADFyEAAAAAAAB3PQAAAAAAAyN5AAAAAAICg6UAAAAAAECn0QAAAAACAzdtAAAAAAADpvkAAAAAAQGnbQAAAAADgW+FAAAAAAABG5UAAAAAA4EHoQAAAAACgd+xAAAAAACAy70AAAAAAQID3QAAAAABQ5/hAAAAAALBU+kAAAAAAAOCfQAAAAACwCABBAAAAAEjLAEEAAAAAAP+zQAAAAAAA9tBAAAAAAGBBA0EAAAAAwOjaQAAAAACg+whBAAAAAMAa30AAAAAAwLPdQAAAAADgW+BAAAAAAKDx4EAAAAAA4H/qQAAAAAAA1bxAAAAAAMDN3EAAAAAAACLlQAAAAABA3N9AAAAAAMC9/kAAAAAAFKYQQQAAAAAAsKdAAAAAAEBX0UAAAAAAQMjfQAAAAACAidJAAAAAAABo1EAAAAAAwG/XQAAAAACglOJAAAAAAIDy40AAAAAAYLDvQAAAAACAG+FAAAAAAGDQ50AAAAAAAJnqQAAAAADgvOxAAAAAAID14kAAAAAA8PP/QAAAAAAAtr1AAAAAAEBr0UAAAAAAgMDVQAAAAABAcdxAAAAAAMBZ50AAAAAAAIXoQAAAAABgKPBAAAAAAIC6zUAAAAAAAMfYQAAAAADAq+FAAAAAAMBR40AAAAAAQKLkQAAAAACAWOdAAAAAAICNwkAAAAAAADTKQAAAAAAAbsxAAAAAAEDW0EAAAAAAgEPTQAAAAAAAJt5AAAAAAAA0w0AAAAAAwPTeQAAAAACA+NRAAAAAAACf1kAAAAAAQCHuQAAAAACA1sJAAAAAAACC00AAAAAAALjZQAAAAAAAX95AAAAAAAA14EA=\",\"dtype\":\"float64\",\"order\":\"little\",\"shape\":[97]}},\"selected\":{\"id\":\"3998\"},\"selection_policy\":{\"id\":\"4021\"}},\"id\":\"3997\",\"type\":\"ColumnDataSource\"},{\"attributes\":{\"below\":[{\"id\":\"3976\"}],\"center\":[{\"id\":\"3978\"},{\"id\":\"3982\"}],\"height\":800,\"left\":[{\"id\":\"3979\"}],\"margin\":[5,5,5,5],\"min_border_bottom\":10,\"min_border_left\":10,\"min_border_right\":10,\"min_border_top\":10,\"renderers\":[{\"id\":\"4003\"}],\"sizing_mode\":\"fixed\",\"title\":{\"id\":\"3968\"},\"toolbar\":{\"id\":\"3989\"},\"width\":1000,\"x_range\":{\"id\":\"3964\"},\"x_scale\":{\"id\":\"3972\"},\"y_range\":{\"id\":\"3965\"},\"y_scale\":{\"id\":\"3974\"}},\"id\":\"3967\",\"subtype\":\"Figure\",\"type\":\"Plot\"},{\"attributes\":{\"coordinates\":null,\"data_source\":{\"id\":\"3997\"},\"glyph\":{\"id\":\"4000\"},\"group\":null,\"hover_glyph\":null,\"muted_glyph\":{\"id\":\"4002\"},\"nonselection_glyph\":{\"id\":\"4001\"},\"selection_glyph\":{\"id\":\"4005\"},\"view\":{\"id\":\"4004\"}},\"id\":\"4003\",\"type\":\"GlyphRenderer\"},{\"attributes\":{},\"id\":\"4012\",\"type\":\"AllLabels\"},{\"attributes\":{\"bottom\":{\"field\":\"bottom\"},\"fill_alpha\":{\"value\":0.2},\"fill_color\":{\"field\":\"Strike\",\"transform\":{\"id\":\"3996\"}},\"hatch_alpha\":{\"value\":0.2},\"hatch_color\":{\"field\":\"Strike\",\"transform\":{\"id\":\"3996\"}},\"line_alpha\":{\"value\":0.2},\"top\":{\"field\":\"top\"},\"width\":{\"value\":0.8},\"x\":{\"field\":\"Symbol\"}},\"id\":\"4002\",\"type\":\"VBar\"},{\"attributes\":{},\"id\":\"3984\",\"type\":\"PanTool\"},{\"attributes\":{\"bottom\":{\"field\":\"bottom\"},\"fill_alpha\":{\"value\":1.0},\"fill_color\":{\"field\":\"Strike\",\"transform\":{\"id\":\"3996\"}},\"hatch_alpha\":{\"value\":1.0},\"hatch_color\":{\"field\":\"Strike\",\"transform\":{\"id\":\"3996\"}},\"hatch_scale\":{\"value\":12.0},\"hatch_weight\":{\"value\":1.0},\"line_alpha\":{\"value\":1.0},\"line_cap\":{\"value\":\"butt\"},\"line_color\":{\"value\":\"black\"},\"line_dash\":{\"value\":[]},\"line_dash_offset\":{\"value\":0},\"line_join\":{\"value\":\"bevel\"},\"line_width\":{\"value\":1},\"top\":{\"field\":\"top\"},\"width\":{\"value\":0.8},\"x\":{\"field\":\"Symbol\"}},\"id\":\"4005\",\"type\":\"VBar\"},{\"attributes\":{\"callback\":null,\"renderers\":[{\"id\":\"4003\"}],\"tags\":[\"hv_created\"],\"tooltips\":[[\"Symbol\",\"@{Symbol}\"],[\"Strike\",\"@{Strike}\"],[\"Open Int\",\"@{Open_Int}\"]]},\"id\":\"3966\",\"type\":\"HoverTool\"},{\"attributes\":{},\"id\":\"4009\",\"type\":\"AllLabels\"},{\"attributes\":{\"bottom\":{\"field\":\"bottom\"},\"fill_color\":{\"field\":\"Strike\",\"transform\":{\"id\":\"3996\"}},\"hatch_color\":{\"field\":\"Strike\",\"transform\":{\"id\":\"3996\"}},\"top\":{\"field\":\"top\"},\"width\":{\"value\":0.8},\"x\":{\"field\":\"Symbol\"}},\"id\":\"4000\",\"type\":\"VBar\"},{\"attributes\":{},\"id\":\"4008\",\"type\":\"CategoricalTickFormatter\"},{\"attributes\":{\"axis_label\":\"Symbol\",\"coordinates\":null,\"formatter\":{\"id\":\"4008\"},\"group\":null,\"major_label_orientation\":1.5707963267948966,\"major_label_policy\":{\"id\":\"4009\"},\"ticker\":{\"id\":\"3977\"}},\"id\":\"3976\",\"type\":\"CategoricalAxis\"},{\"attributes\":{\"axis\":{\"id\":\"3979\"},\"coordinates\":null,\"dimension\":1,\"grid_line_color\":null,\"group\":null,\"ticker\":null},\"id\":\"3982\",\"type\":\"Grid\"},{\"attributes\":{},\"id\":\"3972\",\"type\":\"CategoricalScale\"}],\"root_ids\":[\"3962\"]},\"title\":\"Bokeh Application\",\"version\":\"2.4.3\"}};\n",
       "    var render_items = [{\"docid\":\"0feaf5dd-b56c-41a8-9781-745615092e7d\",\"root_ids\":[\"3962\"],\"roots\":{\"3962\":\"4e417140-3eda-46a8-9ffa-9bb17fd7e2fd\"}}];\n",
       "    root.Bokeh.embed.embed_items_notebook(docs_json, render_items);\n",
       "  }\n",
       "  if (root.Bokeh !== undefined && root.Bokeh.Panel !== undefined) {\n",
       "    embed_document(root);\n",
       "  } else {\n",
       "    var attempts = 0;\n",
       "    var timer = setInterval(function(root) {\n",
       "      if (root.Bokeh !== undefined && root.Bokeh.Panel !== undefined) {\n",
       "        clearInterval(timer);\n",
       "        embed_document(root);\n",
       "      } else if (document.readyState == \"complete\") {\n",
       "        attempts++;\n",
       "        if (attempts > 200) {\n",
       "          clearInterval(timer);\n",
       "          console.log(\"Bokeh: ERROR: Unable to run BokehJS code because BokehJS library is missing\");\n",
       "        }\n",
       "      }\n",
       "    }, 25, root)\n",
       "  }\n",
       "})(window);</script>"
      ],
      "text/plain": [
       ":Bars   [Symbol,Strike]   (Open Int)"
      ]
     },
     "execution_count": 46,
     "metadata": {
      "application/vnd.holoviews_exec.v0+json": {
       "id": "3962"
      }
     },
     "output_type": "execute_result"
    }
   ],
   "source": [
    "# Calling options_put_bar\n",
    "options_put_bar(df)"
   ]
  },
  {
   "cell_type": "markdown",
   "metadata": {},
   "source": [
    "# Single Stock Report from DataFrame."
   ]
  },
  {
   "cell_type": "code",
   "execution_count": 47,
   "metadata": {},
   "outputs": [
    {
     "data": {},
     "metadata": {},
     "output_type": "display_data"
    },
    {
     "data": {
      "application/vnd.holoviews_exec.v0+json": "",
      "text/html": [
       "<div id='4071'>\n",
       "  <div class=\"bk-root\" id=\"be6c11dc-5fac-42b4-9ea5-12b61cd175a2\" data-root-id=\"4071\"></div>\n",
       "</div>\n",
       "<script type=\"application/javascript\">(function(root) {\n",
       "  function embed_document(root) {\n",
       "    var docs_json = {\"10f8f6e9-f105-4083-82d0-b88cc8e9158e\":{\"defs\":[{\"extends\":null,\"module\":null,\"name\":\"ReactiveHTML1\",\"overrides\":[],\"properties\":[]},{\"extends\":null,\"module\":null,\"name\":\"FlexBox1\",\"overrides\":[],\"properties\":[{\"default\":\"flex-start\",\"kind\":null,\"name\":\"align_content\"},{\"default\":\"flex-start\",\"kind\":null,\"name\":\"align_items\"},{\"default\":\"row\",\"kind\":null,\"name\":\"flex_direction\"},{\"default\":\"wrap\",\"kind\":null,\"name\":\"flex_wrap\"},{\"default\":\"flex-start\",\"kind\":null,\"name\":\"justify_content\"}]},{\"extends\":null,\"module\":null,\"name\":\"GridStack1\",\"overrides\":[],\"properties\":[{\"default\":\"warn\",\"kind\":null,\"name\":\"mode\"},{\"default\":null,\"kind\":null,\"name\":\"ncols\"},{\"default\":null,\"kind\":null,\"name\":\"nrows\"},{\"default\":true,\"kind\":null,\"name\":\"allow_resize\"},{\"default\":true,\"kind\":null,\"name\":\"allow_drag\"},{\"default\":[],\"kind\":null,\"name\":\"state\"}]},{\"extends\":null,\"module\":null,\"name\":\"click1\",\"overrides\":[],\"properties\":[{\"default\":\"\",\"kind\":null,\"name\":\"terminal_output\"},{\"default\":\"\",\"kind\":null,\"name\":\"debug_name\"},{\"default\":0,\"kind\":null,\"name\":\"clears\"}]},{\"extends\":null,\"module\":null,\"name\":\"NotificationAreaBase1\",\"overrides\":[],\"properties\":[{\"default\":\"bottom-right\",\"kind\":null,\"name\":\"position\"},{\"default\":0,\"kind\":null,\"name\":\"_clear\"}]},{\"extends\":null,\"module\":null,\"name\":\"NotificationArea1\",\"overrides\":[],\"properties\":[{\"default\":[],\"kind\":null,\"name\":\"notifications\"},{\"default\":\"bottom-right\",\"kind\":null,\"name\":\"position\"},{\"default\":0,\"kind\":null,\"name\":\"_clear\"},{\"default\":[{\"background\":\"#ffc107\",\"icon\":{\"className\":\"fas fa-exclamation-triangle\",\"color\":\"white\",\"tagName\":\"i\"},\"type\":\"warning\"},{\"background\":\"#007bff\",\"icon\":{\"className\":\"fas fa-info-circle\",\"color\":\"white\",\"tagName\":\"i\"},\"type\":\"info\"}],\"kind\":null,\"name\":\"types\"}]},{\"extends\":null,\"module\":null,\"name\":\"Notification\",\"overrides\":[],\"properties\":[{\"default\":null,\"kind\":null,\"name\":\"background\"},{\"default\":3000,\"kind\":null,\"name\":\"duration\"},{\"default\":null,\"kind\":null,\"name\":\"icon\"},{\"default\":\"\",\"kind\":null,\"name\":\"message\"},{\"default\":null,\"kind\":null,\"name\":\"notification_type\"},{\"default\":false,\"kind\":null,\"name\":\"_destroyed\"}]},{\"extends\":null,\"module\":null,\"name\":\"TemplateActions1\",\"overrides\":[],\"properties\":[{\"default\":0,\"kind\":null,\"name\":\"open_modal\"},{\"default\":0,\"kind\":null,\"name\":\"close_modal\"}]},{\"extends\":null,\"module\":null,\"name\":\"MaterialTemplateActions1\",\"overrides\":[],\"properties\":[{\"default\":0,\"kind\":null,\"name\":\"open_modal\"},{\"default\":0,\"kind\":null,\"name\":\"close_modal\"}]}],\"roots\":{\"references\":[{\"attributes\":{},\"id\":\"4130\",\"type\":\"UnionRenderers\"},{\"attributes\":{\"source\":{\"id\":\"4106\"}},\"id\":\"4113\",\"type\":\"CDSView\"},{\"attributes\":{\"fill_alpha\":{\"value\":0.2},\"fill_color\":{\"field\":\"Type\",\"transform\":{\"id\":\"4105\"}},\"hatch_alpha\":{\"value\":0.2},\"hatch_color\":{\"field\":\"Type\",\"transform\":{\"id\":\"4105\"}},\"line_alpha\":{\"value\":0.2},\"top\":{\"field\":\"Open_Int\"},\"width\":{\"value\":0.8},\"x\":{\"field\":\"xoffsets\"}},\"id\":\"4111\",\"type\":\"VBar\"},{\"attributes\":{\"margin\":[5,5,5,5],\"name\":\"HSpacer11298\",\"sizing_mode\":\"stretch_width\"},\"id\":\"4133\",\"type\":\"Spacer\"},{\"attributes\":{},\"id\":\"4094\",\"type\":\"WheelZoomTool\"},{\"attributes\":{\"factors\":[\"Call\",\"Put\"],\"palette\":[\"#30a2da\",\"#fc4f30\"]},\"id\":\"4105\",\"type\":\"CategoricalColorMapper\"},{\"attributes\":{\"end\":161308.8,\"reset_end\":161308.8,\"reset_start\":0.0,\"tags\":[[[\"Open Int\",\"Open Int\",null]]]},\"id\":\"4074\",\"type\":\"Range1d\"},{\"attributes\":{},\"id\":\"4092\",\"type\":\"SaveTool\"},{\"attributes\":{},\"id\":\"4117\",\"type\":\"CategoricalTickFormatter\"},{\"attributes\":{},\"id\":\"4081\",\"type\":\"CategoricalScale\"},{\"attributes\":{\"fill_alpha\":{\"value\":0.1},\"fill_color\":{\"field\":\"Type\",\"transform\":{\"id\":\"4105\"}},\"hatch_alpha\":{\"value\":0.1},\"hatch_color\":{\"field\":\"Type\",\"transform\":{\"id\":\"4105\"}},\"line_alpha\":{\"value\":0.1},\"top\":{\"field\":\"Open_Int\"},\"width\":{\"value\":0.8},\"x\":{\"field\":\"xoffsets\"}},\"id\":\"4110\",\"type\":\"VBar\"},{\"attributes\":{\"factors\":[[\"12\",\"Call\"],[\"12\",\"Put\"],[\"13\",\"Call\"],[\"13\",\"Put\"],[\"14\",\"Call\"],[\"14\",\"Put\"],[\"14.5\",\"Call\"],[\"14.5\",\"Put\"],[\"15\",\"Call\"],[\"15\",\"Put\"],[\"15.5\",\"Call\"],[\"15.5\",\"Put\"],[\"16\",\"Call\"],[\"16\",\"Put\"]],\"tags\":[[[\"Strike\",\"Strike\",null],[\"Type\",\"Type\",null]]]},\"id\":\"4073\",\"type\":\"FactorRange\"},{\"attributes\":{},\"id\":\"4118\",\"type\":\"AllLabels\"},{\"attributes\":{\"callback\":null,\"renderers\":[{\"id\":\"4112\"}],\"tags\":[\"hv_created\"],\"tooltips\":[[\"Strike\",\"@{Strike}\"],[\"Type\",\"@{Type}\"],[\"Open Int\",\"@{Open_Int}\"]]},\"id\":\"4075\",\"type\":\"HoverTool\"},{\"attributes\":{},\"id\":\"4086\",\"type\":\"CategoricalTicker\"},{\"attributes\":{\"axis\":{\"id\":\"4088\"},\"coordinates\":null,\"dimension\":1,\"grid_line_color\":null,\"group\":null,\"ticker\":null},\"id\":\"4091\",\"type\":\"Grid\"},{\"attributes\":{\"fill_color\":{\"field\":\"Type\",\"transform\":{\"id\":\"4105\"}},\"hatch_color\":{\"field\":\"Type\",\"transform\":{\"id\":\"4105\"}},\"top\":{\"field\":\"Open_Int\"},\"width\":{\"value\":0.8},\"x\":{\"field\":\"xoffsets\"}},\"id\":\"4109\",\"type\":\"VBar\"},{\"attributes\":{},\"id\":\"4121\",\"type\":\"AllLabels\"},{\"attributes\":{},\"id\":\"4096\",\"type\":\"ResetTool\"},{\"attributes\":{\"margin\":[5,5,5,5],\"name\":\"HSpacer11297\",\"sizing_mode\":\"stretch_width\"},\"id\":\"4072\",\"type\":\"Spacer\"},{\"attributes\":{\"coordinates\":null,\"group\":null,\"text\":\"Call / Put Open Interests Comparison\",\"text_color\":\"black\",\"text_font_size\":\"12pt\"},\"id\":\"4077\",\"type\":\"Title\"},{\"attributes\":{\"children\":[{\"id\":\"4072\"},{\"id\":\"4076\"},{\"id\":\"4133\"}],\"margin\":[0,0,0,0],\"name\":\"Row11293\",\"tags\":[\"embedded\"]},\"id\":\"4071\",\"type\":\"Row\"},{\"attributes\":{\"format\":\"%0f\"},\"id\":\"4115\",\"type\":\"PrintfTickFormatter\"},{\"attributes\":{\"coordinates\":null,\"data_source\":{\"id\":\"4106\"},\"glyph\":{\"id\":\"4109\"},\"group\":null,\"hover_glyph\":null,\"muted_glyph\":{\"id\":\"4111\"},\"nonselection_glyph\":{\"id\":\"4110\"},\"selection_glyph\":{\"id\":\"4114\"},\"view\":{\"id\":\"4113\"}},\"id\":\"4112\",\"type\":\"GlyphRenderer\"},{\"attributes\":{\"axis\":{\"id\":\"4085\"},\"coordinates\":null,\"grid_line_color\":null,\"group\":null,\"ticker\":null},\"id\":\"4087\",\"type\":\"Grid\"},{\"attributes\":{\"overlay\":{\"id\":\"4097\"}},\"id\":\"4095\",\"type\":\"BoxZoomTool\"},{\"attributes\":{},\"id\":\"4089\",\"type\":\"BasicTicker\"},{\"attributes\":{\"below\":[{\"id\":\"4085\"}],\"center\":[{\"id\":\"4087\"},{\"id\":\"4091\"}],\"height\":500,\"left\":[{\"id\":\"4088\"}],\"margin\":[5,5,5,5],\"min_border_bottom\":10,\"min_border_left\":10,\"min_border_right\":10,\"min_border_top\":10,\"renderers\":[{\"id\":\"4112\"}],\"sizing_mode\":\"fixed\",\"title\":{\"id\":\"4077\"},\"toolbar\":{\"id\":\"4098\"},\"width\":1300,\"x_range\":{\"id\":\"4073\"},\"x_scale\":{\"id\":\"4081\"},\"y_range\":{\"id\":\"4074\"},\"y_scale\":{\"id\":\"4083\"}},\"id\":\"4076\",\"subtype\":\"Figure\",\"type\":\"Plot\"},{\"attributes\":{\"tools\":[{\"id\":\"4075\"},{\"id\":\"4092\"},{\"id\":\"4093\"},{\"id\":\"4094\"},{\"id\":\"4095\"},{\"id\":\"4096\"}]},\"id\":\"4098\",\"type\":\"Toolbar\"},{\"attributes\":{\"bottom_units\":\"screen\",\"coordinates\":null,\"fill_alpha\":0.5,\"fill_color\":\"lightgrey\",\"group\":null,\"left_units\":\"screen\",\"level\":\"overlay\",\"line_alpha\":1.0,\"line_color\":\"black\",\"line_dash\":[4,4],\"line_width\":2,\"right_units\":\"screen\",\"syncable\":false,\"top_units\":\"screen\"},\"id\":\"4097\",\"type\":\"BoxAnnotation\"},{\"attributes\":{\"axis_label\":\"F\",\"coordinates\":null,\"formatter\":{\"id\":\"4117\"},\"group\":null,\"major_label_orientation\":1.5707963267948966,\"major_label_policy\":{\"id\":\"4118\"},\"ticker\":{\"id\":\"4086\"}},\"id\":\"4085\",\"type\":\"CategoricalAxis\"},{\"attributes\":{\"bottom\":{\"value\":0},\"fill_alpha\":{\"value\":1.0},\"fill_color\":{\"field\":\"Type\",\"transform\":{\"id\":\"4105\"}},\"hatch_alpha\":{\"value\":1.0},\"hatch_color\":{\"field\":\"Type\",\"transform\":{\"id\":\"4105\"}},\"hatch_scale\":{\"value\":12.0},\"hatch_weight\":{\"value\":1.0},\"line_alpha\":{\"value\":1.0},\"line_cap\":{\"value\":\"butt\"},\"line_color\":{\"value\":\"black\"},\"line_dash\":{\"value\":[]},\"line_dash_offset\":{\"value\":0},\"line_join\":{\"value\":\"bevel\"},\"line_width\":{\"value\":1},\"top\":{\"field\":\"Open_Int\"},\"width\":{\"value\":0.8},\"x\":{\"field\":\"xoffsets\"}},\"id\":\"4114\",\"type\":\"VBar\"},{\"attributes\":{\"data\":{\"Open_Int\":{\"__ndarray__\":\"AAAAAIARyUAAAAAAwPbYQAAAAADArNxAAAAAAABGokAAAAAAkHj8QAAAAACAKcJAAAAAAEjtAUE=\",\"dtype\":\"float64\",\"order\":\"little\",\"shape\":[7]},\"Strike\":[\"12\",\"13\",\"14\",\"14.5\",\"15\",\"15.5\",\"16\"],\"Type\":[\"Call\",\"Call\",\"Call\",\"Call\",\"Put\",\"Put\",\"Put\"],\"xoffsets\":[[\"12\",\"Call\"],[\"13\",\"Call\"],[\"14\",\"Call\"],[\"14.5\",\"Call\"],[\"15\",\"Put\"],[\"15.5\",\"Put\"],[\"16\",\"Put\"]]},\"selected\":{\"id\":\"4107\"},\"selection_policy\":{\"id\":\"4130\"}},\"id\":\"4106\",\"type\":\"ColumnDataSource\"},{\"attributes\":{},\"id\":\"4093\",\"type\":\"PanTool\"},{\"attributes\":{},\"id\":\"4107\",\"type\":\"Selection\"},{\"attributes\":{},\"id\":\"4083\",\"type\":\"LinearScale\"},{\"attributes\":{\"axis_label\":\"Open Interests\",\"coordinates\":null,\"formatter\":{\"id\":\"4115\"},\"group\":null,\"major_label_policy\":{\"id\":\"4121\"},\"ticker\":{\"id\":\"4089\"}},\"id\":\"4088\",\"type\":\"LinearAxis\"}],\"root_ids\":[\"4071\"]},\"title\":\"Bokeh Application\",\"version\":\"2.4.3\"}};\n",
       "    var render_items = [{\"docid\":\"10f8f6e9-f105-4083-82d0-b88cc8e9158e\",\"root_ids\":[\"4071\"],\"roots\":{\"4071\":\"be6c11dc-5fac-42b4-9ea5-12b61cd175a2\"}}];\n",
       "    root.Bokeh.embed.embed_items_notebook(docs_json, render_items);\n",
       "  }\n",
       "  if (root.Bokeh !== undefined && root.Bokeh.Panel !== undefined) {\n",
       "    embed_document(root);\n",
       "  } else {\n",
       "    var attempts = 0;\n",
       "    var timer = setInterval(function(root) {\n",
       "      if (root.Bokeh !== undefined && root.Bokeh.Panel !== undefined) {\n",
       "        clearInterval(timer);\n",
       "        embed_document(root);\n",
       "      } else if (document.readyState == \"complete\") {\n",
       "        attempts++;\n",
       "        if (attempts > 200) {\n",
       "          clearInterval(timer);\n",
       "          console.log(\"Bokeh: ERROR: Unable to run BokehJS code because BokehJS library is missing\");\n",
       "        }\n",
       "      }\n",
       "    }, 25, root)\n",
       "  }\n",
       "})(window);</script>"
      ],
      "text/plain": [
       ":Bars   [Strike,Type]   (Open Int)"
      ]
     },
     "metadata": {
      "application/vnd.holoviews_exec.v0+json": {
       "id": "4071"
      }
     },
     "output_type": "display_data"
    },
    {
     "data": {},
     "metadata": {},
     "output_type": "display_data"
    },
    {
     "data": {
      "application/vnd.holoviews_exec.v0+json": "",
      "text/html": [
       "<div id='4180'>\n",
       "  <div class=\"bk-root\" id=\"4b07fb93-88ae-49bb-9fe5-c51962956861\" data-root-id=\"4180\"></div>\n",
       "</div>\n",
       "<script type=\"application/javascript\">(function(root) {\n",
       "  function embed_document(root) {\n",
       "    var docs_json = {\"cc19e898-4d80-4aab-bb7a-63945cc9b0fa\":{\"defs\":[{\"extends\":null,\"module\":null,\"name\":\"ReactiveHTML1\",\"overrides\":[],\"properties\":[]},{\"extends\":null,\"module\":null,\"name\":\"FlexBox1\",\"overrides\":[],\"properties\":[{\"default\":\"flex-start\",\"kind\":null,\"name\":\"align_content\"},{\"default\":\"flex-start\",\"kind\":null,\"name\":\"align_items\"},{\"default\":\"row\",\"kind\":null,\"name\":\"flex_direction\"},{\"default\":\"wrap\",\"kind\":null,\"name\":\"flex_wrap\"},{\"default\":\"flex-start\",\"kind\":null,\"name\":\"justify_content\"}]},{\"extends\":null,\"module\":null,\"name\":\"GridStack1\",\"overrides\":[],\"properties\":[{\"default\":\"warn\",\"kind\":null,\"name\":\"mode\"},{\"default\":null,\"kind\":null,\"name\":\"ncols\"},{\"default\":null,\"kind\":null,\"name\":\"nrows\"},{\"default\":true,\"kind\":null,\"name\":\"allow_resize\"},{\"default\":true,\"kind\":null,\"name\":\"allow_drag\"},{\"default\":[],\"kind\":null,\"name\":\"state\"}]},{\"extends\":null,\"module\":null,\"name\":\"click1\",\"overrides\":[],\"properties\":[{\"default\":\"\",\"kind\":null,\"name\":\"terminal_output\"},{\"default\":\"\",\"kind\":null,\"name\":\"debug_name\"},{\"default\":0,\"kind\":null,\"name\":\"clears\"}]},{\"extends\":null,\"module\":null,\"name\":\"NotificationAreaBase1\",\"overrides\":[],\"properties\":[{\"default\":\"bottom-right\",\"kind\":null,\"name\":\"position\"},{\"default\":0,\"kind\":null,\"name\":\"_clear\"}]},{\"extends\":null,\"module\":null,\"name\":\"NotificationArea1\",\"overrides\":[],\"properties\":[{\"default\":[],\"kind\":null,\"name\":\"notifications\"},{\"default\":\"bottom-right\",\"kind\":null,\"name\":\"position\"},{\"default\":0,\"kind\":null,\"name\":\"_clear\"},{\"default\":[{\"background\":\"#ffc107\",\"icon\":{\"className\":\"fas fa-exclamation-triangle\",\"color\":\"white\",\"tagName\":\"i\"},\"type\":\"warning\"},{\"background\":\"#007bff\",\"icon\":{\"className\":\"fas fa-info-circle\",\"color\":\"white\",\"tagName\":\"i\"},\"type\":\"info\"}],\"kind\":null,\"name\":\"types\"}]},{\"extends\":null,\"module\":null,\"name\":\"Notification\",\"overrides\":[],\"properties\":[{\"default\":null,\"kind\":null,\"name\":\"background\"},{\"default\":3000,\"kind\":null,\"name\":\"duration\"},{\"default\":null,\"kind\":null,\"name\":\"icon\"},{\"default\":\"\",\"kind\":null,\"name\":\"message\"},{\"default\":null,\"kind\":null,\"name\":\"notification_type\"},{\"default\":false,\"kind\":null,\"name\":\"_destroyed\"}]},{\"extends\":null,\"module\":null,\"name\":\"TemplateActions1\",\"overrides\":[],\"properties\":[{\"default\":0,\"kind\":null,\"name\":\"open_modal\"},{\"default\":0,\"kind\":null,\"name\":\"close_modal\"}]},{\"extends\":null,\"module\":null,\"name\":\"MaterialTemplateActions1\",\"overrides\":[],\"properties\":[{\"default\":0,\"kind\":null,\"name\":\"open_modal\"},{\"default\":0,\"kind\":null,\"name\":\"close_modal\"}]}],\"roots\":{\"references\":[{\"attributes\":{},\"id\":\"4201\",\"type\":\"BasicTicker\"},{\"attributes\":{\"days\":[1,8,15,22]},\"id\":\"4246\",\"type\":\"DaysTicker\"},{\"attributes\":{},\"id\":\"4252\",\"type\":\"YearsTicker\"},{\"attributes\":{\"callback\":null,\"formatters\":{\"@{timestamp}\":\"datetime\"},\"renderers\":[{\"id\":\"4229\"},{\"id\":\"4262\"},{\"id\":\"4296\"}],\"tags\":[\"hv_created\"],\"tooltips\":[[\"Variable\",\"@{Variable}\"],[\"timestamp\",\"@{timestamp}{%F %T}\"],[\"value\",\"@{value}\"]]},\"id\":\"4184\",\"type\":\"HoverTool\"},{\"attributes\":{},\"id\":\"4257\",\"type\":\"Selection\"},{\"attributes\":{\"line_alpha\":0.2,\"line_color\":\"#30a2da\",\"line_width\":2,\"x\":{\"field\":\"timestamp\"},\"y\":{\"field\":\"value\"}},\"id\":\"4228\",\"type\":\"Line\"},{\"attributes\":{\"coordinates\":null,\"group\":null,\"text_color\":\"black\",\"text_font_size\":\"12pt\"},\"id\":\"4188\",\"type\":\"Title\"},{\"attributes\":{\"axis_label\":\"\",\"coordinates\":null,\"formatter\":{\"id\":\"4221\"},\"group\":null,\"major_label_policy\":{\"id\":\"4222\"},\"ticker\":{\"id\":\"4201\"}},\"id\":\"4200\",\"type\":\"LinearAxis\"},{\"attributes\":{\"months\":[0,6]},\"id\":\"4251\",\"type\":\"MonthsTicker\"},{\"attributes\":{},\"id\":\"4291\",\"type\":\"Selection\"},{\"attributes\":{\"coordinates\":null,\"data_source\":{\"id\":\"4256\"},\"glyph\":{\"id\":\"4259\"},\"group\":null,\"hover_glyph\":null,\"muted_glyph\":{\"id\":\"4261\"},\"nonselection_glyph\":{\"id\":\"4260\"},\"selection_glyph\":{\"id\":\"4289\"},\"view\":{\"id\":\"4263\"}},\"id\":\"4262\",\"type\":\"GlyphRenderer\"},{\"attributes\":{},\"id\":\"4208\",\"type\":\"ResetTool\"},{\"attributes\":{\"base\":60,\"mantissas\":[1,2,5,10,15,20,30],\"max_interval\":1800000.0,\"min_interval\":1000.0,\"num_minor_ticks\":0},\"id\":\"4242\",\"type\":\"AdaptiveTicker\"},{\"attributes\":{\"data\":{\"Variable\":[\"low\",\"low\",\"low\",\"low\",\"low\"],\"timestamp\":{\"__ndarray__\":\"AADgqf0yeEIAAKAPUDN4QgAAYHWiM3hCAAAg2/QzeEIAAOBARzR4Qg==\",\"dtype\":\"float64\",\"order\":\"little\",\"shape\":[5]},\"value\":{\"__ndarray__\":\"ZmZmZmbmLkBmZmZmZmYtQKRwPQrX4yxAXI/C9ShcLUBxPQrXo/AsQA==\",\"dtype\":\"float64\",\"order\":\"little\",\"shape\":[5]}},\"selected\":{\"id\":\"4291\"},\"selection_policy\":{\"id\":\"4309\"}},\"id\":\"4290\",\"type\":\"ColumnDataSource\"},{\"attributes\":{},\"id\":\"4204\",\"type\":\"SaveTool\"},{\"attributes\":{\"children\":[{\"id\":\"4181\"},{\"id\":\"4187\"},{\"id\":\"4352\"}],\"margin\":[0,0,0,0],\"name\":\"Row11385\",\"tags\":[\"embedded\"]},\"id\":\"4180\",\"type\":\"Row\"},{\"attributes\":{\"data\":{\"Variable\":[\"close\",\"close\",\"close\",\"close\",\"close\"],\"timestamp\":{\"__ndarray__\":\"AADgqf0yeEIAAKAPUDN4QgAAYHWiM3hCAAAg2/QzeEIAAOBARzR4Qg==\",\"dtype\":\"float64\",\"order\":\"little\",\"shape\":[5]},\"value\":{\"__ndarray__\":\"FK5H4XoUL0B7FK5H4XotQFK4HoXrUS1ASOF6FK7HLUBxPQrXo3AtQA==\",\"dtype\":\"float64\",\"order\":\"little\",\"shape\":[5]}},\"selected\":{\"id\":\"4224\"},\"selection_policy\":{\"id\":\"4238\"}},\"id\":\"4223\",\"type\":\"ColumnDataSource\"},{\"attributes\":{\"line_alpha\":0.1,\"line_color\":\"#fc4f30\",\"line_width\":2,\"x\":{\"field\":\"timestamp\"},\"y\":{\"field\":\"value\"}},\"id\":\"4260\",\"type\":\"Line\"},{\"attributes\":{},\"id\":\"4218\",\"type\":\"DatetimeTickFormatter\"},{\"attributes\":{\"line_color\":\"#e5ae38\",\"line_width\":2,\"x\":{\"field\":\"timestamp\"},\"y\":{\"field\":\"value\"}},\"id\":\"4293\",\"type\":\"Line\"},{\"attributes\":{\"months\":[0,1,2,3,4,5,6,7,8,9,10,11]},\"id\":\"4248\",\"type\":\"MonthsTicker\"},{\"attributes\":{\"below\":[{\"id\":\"4196\"}],\"center\":[{\"id\":\"4199\"},{\"id\":\"4203\"}],\"height\":300,\"left\":[{\"id\":\"4200\"}],\"margin\":[5,5,5,5],\"min_border_bottom\":10,\"min_border_left\":10,\"min_border_right\":10,\"min_border_top\":10,\"renderers\":[{\"id\":\"4229\"},{\"id\":\"4262\"},{\"id\":\"4296\"}],\"right\":[{\"id\":\"4253\"}],\"sizing_mode\":\"fixed\",\"title\":{\"id\":\"4188\"},\"toolbar\":{\"id\":\"4210\"},\"width\":700,\"x_range\":{\"id\":\"4182\"},\"x_scale\":{\"id\":\"4192\"},\"y_range\":{\"id\":\"4183\"},\"y_scale\":{\"id\":\"4194\"}},\"id\":\"4187\",\"subtype\":\"Figure\",\"type\":\"Plot\"},{\"attributes\":{\"line_color\":\"#fc4f30\",\"line_width\":2,\"x\":{\"field\":\"timestamp\"},\"y\":{\"field\":\"value\"}},\"id\":\"4289\",\"type\":\"Line\"},{\"attributes\":{\"axis_label\":\"timestamp\",\"coordinates\":null,\"formatter\":{\"id\":\"4218\"},\"group\":null,\"major_label_policy\":{\"id\":\"4219\"},\"ticker\":{\"id\":\"4197\"}},\"id\":\"4196\",\"type\":\"DatetimeAxis\"},{\"attributes\":{\"label\":{\"value\":\"close\"},\"renderers\":[{\"id\":\"4229\"}]},\"id\":\"4254\",\"type\":\"LegendItem\"},{\"attributes\":{\"coordinates\":null,\"data_source\":{\"id\":\"4223\"},\"glyph\":{\"id\":\"4226\"},\"group\":null,\"hover_glyph\":null,\"muted_glyph\":{\"id\":\"4228\"},\"nonselection_glyph\":{\"id\":\"4227\"},\"selection_glyph\":{\"id\":\"4255\"},\"view\":{\"id\":\"4230\"}},\"id\":\"4229\",\"type\":\"GlyphRenderer\"},{\"attributes\":{\"margin\":[5,5,5,5],\"name\":\"HSpacer11389\",\"sizing_mode\":\"stretch_width\"},\"id\":\"4181\",\"type\":\"Spacer\"},{\"attributes\":{\"line_color\":\"#30a2da\",\"line_width\":2,\"x\":{\"field\":\"timestamp\"},\"y\":{\"field\":\"value\"}},\"id\":\"4255\",\"type\":\"Line\"},{\"attributes\":{\"line_alpha\":0.1,\"line_color\":\"#30a2da\",\"line_width\":2,\"x\":{\"field\":\"timestamp\"},\"y\":{\"field\":\"value\"}},\"id\":\"4227\",\"type\":\"Line\"},{\"attributes\":{},\"id\":\"4205\",\"type\":\"PanTool\"},{\"attributes\":{},\"id\":\"4224\",\"type\":\"Selection\"},{\"attributes\":{\"axis\":{\"id\":\"4196\"},\"coordinates\":null,\"grid_line_color\":null,\"group\":null,\"ticker\":null},\"id\":\"4199\",\"type\":\"Grid\"},{\"attributes\":{\"overlay\":{\"id\":\"4209\"}},\"id\":\"4207\",\"type\":\"BoxZoomTool\"},{\"attributes\":{\"margin\":[5,5,5,5],\"name\":\"HSpacer11390\",\"sizing_mode\":\"stretch_width\"},\"id\":\"4352\",\"type\":\"Spacer\"},{\"attributes\":{\"mantissas\":[1,2,5],\"max_interval\":500.0,\"num_minor_ticks\":0},\"id\":\"4241\",\"type\":\"AdaptiveTicker\"},{\"attributes\":{\"days\":[1,2,3,4,5,6,7,8,9,10,11,12,13,14,15,16,17,18,19,20,21,22,23,24,25,26,27,28,29,30,31]},\"id\":\"4244\",\"type\":\"DaysTicker\"},{\"attributes\":{},\"id\":\"4206\",\"type\":\"WheelZoomTool\"},{\"attributes\":{},\"id\":\"4238\",\"type\":\"UnionRenderers\"},{\"attributes\":{\"months\":[0,4,8]},\"id\":\"4250\",\"type\":\"MonthsTicker\"},{\"attributes\":{},\"id\":\"4194\",\"type\":\"LinearScale\"},{\"attributes\":{\"line_color\":\"#e5ae38\",\"line_width\":2,\"x\":{\"field\":\"timestamp\"},\"y\":{\"field\":\"value\"}},\"id\":\"4325\",\"type\":\"Line\"},{\"attributes\":{},\"id\":\"4219\",\"type\":\"AllLabels\"},{\"attributes\":{\"line_color\":\"#fc4f30\",\"line_width\":2,\"x\":{\"field\":\"timestamp\"},\"y\":{\"field\":\"value\"}},\"id\":\"4259\",\"type\":\"Line\"},{\"attributes\":{\"label\":{\"value\":\"low\"},\"renderers\":[{\"id\":\"4296\"}]},\"id\":\"4324\",\"type\":\"LegendItem\"},{\"attributes\":{\"end\":1663300800000.0,\"reset_end\":1663300800000.0,\"reset_start\":1662955200000.0,\"start\":1662955200000.0,\"tags\":[[[\"timestamp\",\"timestamp\",null]]]},\"id\":\"4182\",\"type\":\"Range1d\"},{\"attributes\":{\"click_policy\":\"mute\",\"coordinates\":null,\"group\":null,\"items\":[{\"id\":\"4254\"},{\"id\":\"4288\"},{\"id\":\"4324\"}],\"location\":[0,0],\"title\":\"Variable\"},\"id\":\"4253\",\"type\":\"Legend\"},{\"attributes\":{\"line_alpha\":0.1,\"line_color\":\"#e5ae38\",\"line_width\":2,\"x\":{\"field\":\"timestamp\"},\"y\":{\"field\":\"value\"}},\"id\":\"4294\",\"type\":\"Line\"},{\"attributes\":{},\"id\":\"4221\",\"type\":\"BasicTickFormatter\"},{\"attributes\":{\"base\":24,\"mantissas\":[1,2,4,6,8,12],\"max_interval\":43200000.0,\"min_interval\":3600000.0,\"num_minor_ticks\":0},\"id\":\"4243\",\"type\":\"AdaptiveTicker\"},{\"attributes\":{\"source\":{\"id\":\"4290\"}},\"id\":\"4297\",\"type\":\"CDSView\"},{\"attributes\":{\"line_alpha\":0.2,\"line_color\":\"#fc4f30\",\"line_width\":2,\"x\":{\"field\":\"timestamp\"},\"y\":{\"field\":\"value\"}},\"id\":\"4261\",\"type\":\"Line\"},{\"attributes\":{\"days\":[1,15]},\"id\":\"4247\",\"type\":\"DaysTicker\"},{\"attributes\":{},\"id\":\"4222\",\"type\":\"AllLabels\"},{\"attributes\":{\"source\":{\"id\":\"4256\"}},\"id\":\"4263\",\"type\":\"CDSView\"},{\"attributes\":{\"line_color\":\"#30a2da\",\"line_width\":2,\"x\":{\"field\":\"timestamp\"},\"y\":{\"field\":\"value\"}},\"id\":\"4226\",\"type\":\"Line\"},{\"attributes\":{\"months\":[0,2,4,6,8,10]},\"id\":\"4249\",\"type\":\"MonthsTicker\"},{\"attributes\":{\"end\":15.8695,\"reset_end\":15.8695,\"reset_start\":14.3155,\"start\":14.3155,\"tags\":[[[\"value\",\"value\",null]]]},\"id\":\"4183\",\"type\":\"Range1d\"},{\"attributes\":{},\"id\":\"4309\",\"type\":\"UnionRenderers\"},{\"attributes\":{\"coordinates\":null,\"data_source\":{\"id\":\"4290\"},\"glyph\":{\"id\":\"4293\"},\"group\":null,\"hover_glyph\":null,\"muted_glyph\":{\"id\":\"4295\"},\"nonselection_glyph\":{\"id\":\"4294\"},\"selection_glyph\":{\"id\":\"4325\"},\"view\":{\"id\":\"4297\"}},\"id\":\"4296\",\"type\":\"GlyphRenderer\"},{\"attributes\":{},\"id\":\"4192\",\"type\":\"LinearScale\"},{\"attributes\":{\"label\":{\"value\":\"high\"},\"renderers\":[{\"id\":\"4262\"}]},\"id\":\"4288\",\"type\":\"LegendItem\"},{\"attributes\":{\"num_minor_ticks\":5,\"tickers\":[{\"id\":\"4241\"},{\"id\":\"4242\"},{\"id\":\"4243\"},{\"id\":\"4244\"},{\"id\":\"4245\"},{\"id\":\"4246\"},{\"id\":\"4247\"},{\"id\":\"4248\"},{\"id\":\"4249\"},{\"id\":\"4250\"},{\"id\":\"4251\"},{\"id\":\"4252\"}]},\"id\":\"4197\",\"type\":\"DatetimeTicker\"},{\"attributes\":{\"bottom_units\":\"screen\",\"coordinates\":null,\"fill_alpha\":0.5,\"fill_color\":\"lightgrey\",\"group\":null,\"left_units\":\"screen\",\"level\":\"overlay\",\"line_alpha\":1.0,\"line_color\":\"black\",\"line_dash\":[4,4],\"line_width\":2,\"right_units\":\"screen\",\"syncable\":false,\"top_units\":\"screen\"},\"id\":\"4209\",\"type\":\"BoxAnnotation\"},{\"attributes\":{\"tools\":[{\"id\":\"4184\"},{\"id\":\"4204\"},{\"id\":\"4205\"},{\"id\":\"4206\"},{\"id\":\"4207\"},{\"id\":\"4208\"}]},\"id\":\"4210\",\"type\":\"Toolbar\"},{\"attributes\":{\"source\":{\"id\":\"4223\"}},\"id\":\"4230\",\"type\":\"CDSView\"},{\"attributes\":{\"data\":{\"Variable\":[\"high\",\"high\",\"high\",\"high\",\"high\"],\"timestamp\":{\"__ndarray__\":\"AADgqf0yeEIAAKAPUDN4QgAAYHWiM3hCAAAg2/QzeEIAAOBARzR4Qg==\",\"dtype\":\"float64\",\"order\":\"little\",\"shape\":[5]},\"value\":{\"__ndarray__\":\"exSuR+F6L0DD9Shcj0IuQDMzMzMzsy1A7FG4HoVrLkB7FK5H4XotQA==\",\"dtype\":\"float64\",\"order\":\"little\",\"shape\":[5]}},\"selected\":{\"id\":\"4257\"},\"selection_policy\":{\"id\":\"4273\"}},\"id\":\"4256\",\"type\":\"ColumnDataSource\"},{\"attributes\":{\"line_alpha\":0.2,\"line_color\":\"#e5ae38\",\"line_width\":2,\"x\":{\"field\":\"timestamp\"},\"y\":{\"field\":\"value\"}},\"id\":\"4295\",\"type\":\"Line\"},{\"attributes\":{\"days\":[1,4,7,10,13,16,19,22,25,28]},\"id\":\"4245\",\"type\":\"DaysTicker\"},{\"attributes\":{},\"id\":\"4273\",\"type\":\"UnionRenderers\"},{\"attributes\":{\"axis\":{\"id\":\"4200\"},\"coordinates\":null,\"dimension\":1,\"grid_line_color\":null,\"group\":null,\"ticker\":null},\"id\":\"4203\",\"type\":\"Grid\"}],\"root_ids\":[\"4180\"]},\"title\":\"Bokeh Application\",\"version\":\"2.4.3\"}};\n",
       "    var render_items = [{\"docid\":\"cc19e898-4d80-4aab-bb7a-63945cc9b0fa\",\"root_ids\":[\"4180\"],\"roots\":{\"4180\":\"4b07fb93-88ae-49bb-9fe5-c51962956861\"}}];\n",
       "    root.Bokeh.embed.embed_items_notebook(docs_json, render_items);\n",
       "  }\n",
       "  if (root.Bokeh !== undefined && root.Bokeh.Panel !== undefined) {\n",
       "    embed_document(root);\n",
       "  } else {\n",
       "    var attempts = 0;\n",
       "    var timer = setInterval(function(root) {\n",
       "      if (root.Bokeh !== undefined && root.Bokeh.Panel !== undefined) {\n",
       "        clearInterval(timer);\n",
       "        embed_document(root);\n",
       "      } else if (document.readyState == \"complete\") {\n",
       "        attempts++;\n",
       "        if (attempts > 200) {\n",
       "          clearInterval(timer);\n",
       "          console.log(\"Bokeh: ERROR: Unable to run BokehJS code because BokehJS library is missing\");\n",
       "        }\n",
       "      }\n",
       "    }, 25, root)\n",
       "  }\n",
       "})(window);</script>"
      ],
      "text/plain": [
       ":NdOverlay   [Variable]\n",
       "   :Curve   [timestamp]   (value)"
      ]
     },
     "metadata": {
      "application/vnd.holoviews_exec.v0+json": {
       "id": "4180"
      }
     },
     "output_type": "display_data"
    },
    {
     "data": {
      "text/html": [
       "<div>\n",
       "<style scoped>\n",
       "    .dataframe tbody tr th:only-of-type {\n",
       "        vertical-align: middle;\n",
       "    }\n",
       "\n",
       "    .dataframe tbody tr th {\n",
       "        vertical-align: top;\n",
       "    }\n",
       "\n",
       "    .dataframe thead th {\n",
       "        text-align: right;\n",
       "    }\n",
       "</style>\n",
       "<table border=\"1\" class=\"dataframe\">\n",
       "  <thead>\n",
       "    <tr style=\"text-align: right;\">\n",
       "      <th></th>\n",
       "      <th>Open Int</th>\n",
       "    </tr>\n",
       "  </thead>\n",
       "  <tbody>\n",
       "    <tr>\n",
       "      <th>count</th>\n",
       "      <td>3.000000</td>\n",
       "    </tr>\n",
       "    <tr>\n",
       "      <th>mean</th>\n",
       "      <td>90924.333333</td>\n",
       "    </tr>\n",
       "    <tr>\n",
       "      <th>std</th>\n",
       "      <td>72288.558440</td>\n",
       "    </tr>\n",
       "    <tr>\n",
       "      <th>min</th>\n",
       "      <td>9299.000000</td>\n",
       "    </tr>\n",
       "    <tr>\n",
       "      <th>25%</th>\n",
       "      <td>62958.000000</td>\n",
       "    </tr>\n",
       "    <tr>\n",
       "      <th>50%</th>\n",
       "      <td>116617.000000</td>\n",
       "    </tr>\n",
       "    <tr>\n",
       "      <th>75%</th>\n",
       "      <td>131737.000000</td>\n",
       "    </tr>\n",
       "    <tr>\n",
       "      <th>max</th>\n",
       "      <td>146857.000000</td>\n",
       "    </tr>\n",
       "  </tbody>\n",
       "</table>\n",
       "</div>"
      ],
      "text/plain": [
       "            Open Int\n",
       "count       3.000000\n",
       "mean    90924.333333\n",
       "std     72288.558440\n",
       "min      9299.000000\n",
       "25%     62958.000000\n",
       "50%    116617.000000\n",
       "75%    131737.000000\n",
       "max    146857.000000"
      ]
     },
     "metadata": {},
     "output_type": "display_data"
    },
    {
     "data": {
      "text/html": [
       "<div>\n",
       "<style scoped>\n",
       "    .dataframe tbody tr th:only-of-type {\n",
       "        vertical-align: middle;\n",
       "    }\n",
       "\n",
       "    .dataframe tbody tr th {\n",
       "        vertical-align: top;\n",
       "    }\n",
       "\n",
       "    .dataframe thead th {\n",
       "        text-align: right;\n",
       "    }\n",
       "</style>\n",
       "<table border=\"1\" class=\"dataframe\">\n",
       "  <thead>\n",
       "    <tr style=\"text-align: right;\">\n",
       "      <th></th>\n",
       "      <th>Open Int</th>\n",
       "    </tr>\n",
       "  </thead>\n",
       "  <tbody>\n",
       "    <tr>\n",
       "      <th>count</th>\n",
       "      <td>3.000000</td>\n",
       "    </tr>\n",
       "    <tr>\n",
       "      <th>mean</th>\n",
       "      <td>90924.333333</td>\n",
       "    </tr>\n",
       "    <tr>\n",
       "      <th>std</th>\n",
       "      <td>72288.558440</td>\n",
       "    </tr>\n",
       "    <tr>\n",
       "      <th>min</th>\n",
       "      <td>9299.000000</td>\n",
       "    </tr>\n",
       "    <tr>\n",
       "      <th>25%</th>\n",
       "      <td>62958.000000</td>\n",
       "    </tr>\n",
       "    <tr>\n",
       "      <th>50%</th>\n",
       "      <td>116617.000000</td>\n",
       "    </tr>\n",
       "    <tr>\n",
       "      <th>75%</th>\n",
       "      <td>131737.000000</td>\n",
       "    </tr>\n",
       "    <tr>\n",
       "      <th>max</th>\n",
       "      <td>146857.000000</td>\n",
       "    </tr>\n",
       "  </tbody>\n",
       "</table>\n",
       "</div>"
      ],
      "text/plain": [
       "            Open Int\n",
       "count       3.000000\n",
       "mean    90924.333333\n",
       "std     72288.558440\n",
       "min      9299.000000\n",
       "25%     62958.000000\n",
       "50%    116617.000000\n",
       "75%    131737.000000\n",
       "max    146857.000000"
      ]
     },
     "metadata": {},
     "output_type": "display_data"
    }
   ],
   "source": [
    "# Specify dates for Alpaca API.\n",
    "start_date = \"2022-09-12\"\n",
    "end_date = \"2022-09-16\"\n",
    "\n",
    "# Specifies ticker from df above. Can single out any stock you like.\n",
    "ticker = \"F\"\n",
    "stock = ticker\n",
    "\n",
    "# Runs ticker report on single stock from data.\n",
    "report = ticker_report(ticker,df)\n",
    "\n",
    "# Creates ticker df from function\n",
    "ticker_df = alpaca_func(alpaca_key, alpaca_secret, start_date, end_date, stock)\n",
    "\n",
    "# Creates plot from prices\n",
    "prices = ticker_df.hvplot.line(x='timestamp', y=['close','high','low'])\n",
    "\n",
    "# Creates ticker call stats.\n",
    "calls = call_stats(ticker,df)\n",
    "\n",
    "# Creates ticker put stats.\n",
    "puts = put_stats(ticker,df)\n",
    "\n",
    "# Displays functions\n",
    "display(report)\n",
    "display(prices)\n",
    "display(calls)\n",
    "display(puts)"
   ]
  },
  {
   "cell_type": "code",
   "execution_count": null,
   "metadata": {},
   "outputs": [],
   "source": []
  },
  {
   "cell_type": "code",
   "execution_count": null,
   "metadata": {},
   "outputs": [],
   "source": []
  },
  {
   "cell_type": "code",
   "execution_count": null,
   "metadata": {},
   "outputs": [],
   "source": []
  }
 ],
 "metadata": {
  "kernelspec": {
   "display_name": "Python 3.7.13 ('dev')",
   "language": "python",
   "name": "python3"
  },
  "language_info": {
   "codemirror_mode": {
    "name": "ipython",
    "version": 3
   },
   "file_extension": ".py",
   "mimetype": "text/x-python",
   "name": "python",
   "nbconvert_exporter": "python",
   "pygments_lexer": "ipython3",
   "version": "3.7.13"
  },
  "orig_nbformat": 4,
  "vscode": {
   "interpreter": {
    "hash": "c15db3377afa3dcb659dfa4a45bef3fc6c9aec87eaa6dcb1828c53c173a1512b"
   }
  }
 },
 "nbformat": 4,
 "nbformat_minor": 2
}
