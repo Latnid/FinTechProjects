{
 "cells": [
  {
   "cell_type": "code",
   "execution_count": 15,
   "metadata": {},
   "outputs": [],
   "source": [
    "import fire\n",
    "import os\n",
    "import requests\n",
    "import pandas as pd\n",
    "from dotenv import load_dotenv\n",
    "load_dotenv()\n",
    "import numpy as np\n",
    "import alpaca_trade_api as alpaca\n",
    "import questionary\n",
    "\n",
    "from qualifier.utils.alpaca_api import alpaca_func\n",
    "from Modules.CleanData import get_data\n",
    "# from qualifier.utils.SQL import add_new_table\n",
    "\n",
    "# alpaca_func(key=alpaca_key, secret=alpaca_secret, START_DATE=START_DATE, END_DATE=END_DATE)\n",
    "# add_new_table(data=a)\n",
    "\n"
   ]
  },
  {
   "cell_type": "code",
   "execution_count": 16,
   "metadata": {},
   "outputs": [],
   "source": [
    "alpaca_key = os.getenv(\"ALPACA_API_KEY\")\n",
    "alpaca_secret = os.getenv(\"ALPACA_SECRET_KEY\")\n",
    "\n",
    "start_date = \"2022-01-01\"\n",
    "end_date = \"2022-05-30\""
   ]
  },
  {
   "cell_type": "code",
   "execution_count": 17,
   "metadata": {},
   "outputs": [
    {
     "name": "stdout",
     "output_type": "stream",
     "text": [
      "Successfully gathered data from API.\n"
     ]
    }
   ],
   "source": [
    "alpaca_func(alpaca_key, alpaca_secret, start_date, end_date)"
   ]
  },
  {
   "cell_type": "code",
   "execution_count": 18,
   "metadata": {},
   "outputs": [
    {
     "data": {
      "text/html": [
       "<div>\n",
       "<style scoped>\n",
       "    .dataframe tbody tr th:only-of-type {\n",
       "        vertical-align: middle;\n",
       "    }\n",
       "\n",
       "    .dataframe tbody tr th {\n",
       "        vertical-align: top;\n",
       "    }\n",
       "\n",
       "    .dataframe thead th {\n",
       "        text-align: right;\n",
       "    }\n",
       "</style>\n",
       "<table border=\"1\" class=\"dataframe\">\n",
       "  <thead>\n",
       "    <tr style=\"text-align: right;\">\n",
       "      <th></th>\n",
       "      <th>Symbol</th>\n",
       "      <th>Price</th>\n",
       "      <th>Type</th>\n",
       "      <th>Strike</th>\n",
       "      <th>Exp Date</th>\n",
       "      <th>DTE</th>\n",
       "      <th>Bid</th>\n",
       "      <th>Midpoint</th>\n",
       "      <th>Ask</th>\n",
       "      <th>Last</th>\n",
       "      <th>Volume</th>\n",
       "      <th>Open Int</th>\n",
       "      <th>OI Chg</th>\n",
       "      <th>IV</th>\n",
       "      <th>Time</th>\n",
       "    </tr>\n",
       "  </thead>\n",
       "  <tbody>\n",
       "    <tr>\n",
       "      <th>1907</th>\n",
       "      <td>AA</td>\n",
       "      <td>44.81</td>\n",
       "      <td>Put</td>\n",
       "      <td>43.0</td>\n",
       "      <td>2022-09-16</td>\n",
       "      <td>2.0</td>\n",
       "      <td>0.40</td>\n",
       "      <td>0.43</td>\n",
       "      <td>0.45</td>\n",
       "      <td>0.41</td>\n",
       "      <td>600.0</td>\n",
       "      <td>188.0</td>\n",
       "      <td>-19</td>\n",
       "      <td>83.62%</td>\n",
       "      <td>2022-09-14</td>\n",
       "    </tr>\n",
       "    <tr>\n",
       "      <th>1839</th>\n",
       "      <td>AA</td>\n",
       "      <td>44.81</td>\n",
       "      <td>Put</td>\n",
       "      <td>45.0</td>\n",
       "      <td>2022-09-16</td>\n",
       "      <td>2.0</td>\n",
       "      <td>1.16</td>\n",
       "      <td>1.20</td>\n",
       "      <td>1.24</td>\n",
       "      <td>1.19</td>\n",
       "      <td>1360.0</td>\n",
       "      <td>2098.0</td>\n",
       "      <td>-27</td>\n",
       "      <td>82.53%</td>\n",
       "      <td>2022-09-14</td>\n",
       "    </tr>\n",
       "    <tr>\n",
       "      <th>155</th>\n",
       "      <td>AAL</td>\n",
       "      <td>14.03</td>\n",
       "      <td>Call</td>\n",
       "      <td>14.0</td>\n",
       "      <td>2022-09-16</td>\n",
       "      <td>2.0</td>\n",
       "      <td>0.26</td>\n",
       "      <td>0.27</td>\n",
       "      <td>0.27</td>\n",
       "      <td>0.26</td>\n",
       "      <td>10637.0</td>\n",
       "      <td>22188.0</td>\n",
       "      <td>+2,212</td>\n",
       "      <td>58.91%</td>\n",
       "      <td>2022-09-14</td>\n",
       "    </tr>\n",
       "    <tr>\n",
       "      <th>159</th>\n",
       "      <td>AAL</td>\n",
       "      <td>14.03</td>\n",
       "      <td>Put</td>\n",
       "      <td>14.0</td>\n",
       "      <td>2022-09-16</td>\n",
       "      <td>2.0</td>\n",
       "      <td>0.23</td>\n",
       "      <td>0.24</td>\n",
       "      <td>0.25</td>\n",
       "      <td>0.24</td>\n",
       "      <td>1931.0</td>\n",
       "      <td>16516.0</td>\n",
       "      <td>+2,156</td>\n",
       "      <td>61.74%</td>\n",
       "      <td>2022-09-14</td>\n",
       "    </tr>\n",
       "    <tr>\n",
       "      <th>1237</th>\n",
       "      <td>AAPL</td>\n",
       "      <td>155.31</td>\n",
       "      <td>Call</td>\n",
       "      <td>140.0</td>\n",
       "      <td>2022-09-16</td>\n",
       "      <td>2.0</td>\n",
       "      <td>15.25</td>\n",
       "      <td>15.40</td>\n",
       "      <td>15.55</td>\n",
       "      <td>15.54</td>\n",
       "      <td>674.0</td>\n",
       "      <td>21206.0</td>\n",
       "      <td>-399</td>\n",
       "      <td>75.41%</td>\n",
       "      <td>2022-09-14</td>\n",
       "    </tr>\n",
       "  </tbody>\n",
       "</table>\n",
       "</div>"
      ],
      "text/plain": [
       "     Symbol   Price  Type  Strike    Exp Date  DTE    Bid  Midpoint    Ask  \\\n",
       "1907     AA   44.81   Put    43.0  2022-09-16  2.0   0.40      0.43   0.45   \n",
       "1839     AA   44.81   Put    45.0  2022-09-16  2.0   1.16      1.20   1.24   \n",
       "155     AAL   14.03  Call    14.0  2022-09-16  2.0   0.26      0.27   0.27   \n",
       "159     AAL   14.03   Put    14.0  2022-09-16  2.0   0.23      0.24   0.25   \n",
       "1237   AAPL  155.31  Call   140.0  2022-09-16  2.0  15.25     15.40  15.55   \n",
       "\n",
       "       Last   Volume  Open Int  OI Chg      IV        Time  \n",
       "1907   0.41    600.0     188.0     -19  83.62%  2022-09-14  \n",
       "1839   1.19   1360.0    2098.0     -27  82.53%  2022-09-14  \n",
       "155    0.26  10637.0   22188.0  +2,212  58.91%  2022-09-14  \n",
       "159    0.24   1931.0   16516.0  +2,156  61.74%  2022-09-14  \n",
       "1237  15.54    674.0   21206.0    -399  75.41%  2022-09-14  "
      ]
     },
     "execution_count": 18,
     "metadata": {},
     "output_type": "execute_result"
    }
   ],
   "source": [
    "df = get_data('09-14-2022')\n",
    "df.head()"
   ]
  },
  {
   "cell_type": "code",
   "execution_count": null,
   "metadata": {},
   "outputs": [],
   "source": []
  },
  {
   "cell_type": "code",
   "execution_count": null,
   "metadata": {},
   "outputs": [],
   "source": []
  },
  {
   "cell_type": "code",
   "execution_count": null,
   "metadata": {},
   "outputs": [],
   "source": []
  },
  {
   "cell_type": "code",
   "execution_count": null,
   "metadata": {},
   "outputs": [],
   "source": []
  }
 ],
 "metadata": {
  "kernelspec": {
   "display_name": "Python 3.7.13 ('dev')",
   "language": "python",
   "name": "python3"
  },
  "language_info": {
   "codemirror_mode": {
    "name": "ipython",
    "version": 3
   },
   "file_extension": ".py",
   "mimetype": "text/x-python",
   "name": "python",
   "nbconvert_exporter": "python",
   "pygments_lexer": "ipython3",
   "version": "3.7.13"
  },
  "orig_nbformat": 4,
  "vscode": {
   "interpreter": {
    "hash": "c15db3377afa3dcb659dfa4a45bef3fc6c9aec87eaa6dcb1828c53c173a1512b"
   }
  }
 },
 "nbformat": 4,
 "nbformat_minor": 2
}
