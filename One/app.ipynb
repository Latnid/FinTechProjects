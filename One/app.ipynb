{
 "cells": [
  {
   "cell_type": "code",
   "execution_count": 5,
   "metadata": {},
   "outputs": [],
   "source": [
    "import fire\n",
    "import os\n",
    "import requests\n",
    "import pandas as pd\n",
    "from dotenv import load_dotenv\n",
    "load_dotenv()\n",
    "import numpy as np\n",
    "import alpaca_trade_api as alpaca\n",
    "import questionary\n",
    "import hvplot.pandas\n",
    "import plotly.express as px\n",
    "\n",
    "from qualifier.utils.alpaca_api import alpaca_func\n",
    "\n",
    "from qualifier.utils.analysis import largest_20_OI\n",
    "from qualifier.utils.analysis import largest_20_OI_plot\n",
    "from qualifier.utils.analysis import options_call_bar\n",
    "from qualifier.utils.analysis import options_put_bar\n",
    "from qualifier.utils.analysis import put_stats\n",
    "from qualifier.utils.analysis import call_stats\n",
    "from qualifier.utils.analysis import ticker_report\n",
    "from qualifier.utils.analysis import option_change_top_20\n",
    "from qualifier.utils.analysis import plotted_3d\n",
    "\n",
    "from Modules.CleanData import get_data\n",
    "from qualifier.utils.SQL import add_new_table"
   ]
  },
  {
   "cell_type": "markdown",
   "metadata": {},
   "source": [
    "# Gathered Options Data"
   ]
  },
  {
   "cell_type": "code",
   "execution_count": 13,
   "metadata": {},
   "outputs": [
    {
     "data": {},
     "metadata": {},
     "output_type": "display_data"
    },
    {
     "data": {
      "application/vnd.holoviews_exec.v0+json": "",
      "text/html": [
       "<div id='2773'>\n",
       "  <div class=\"bk-root\" id=\"dce50919-c5e3-49a3-b02c-09e5bfe67371\" data-root-id=\"2773\"></div>\n",
       "</div>\n",
       "<script type=\"application/javascript\">(function(root) {\n",
       "  function embed_document(root) {\n",
       "    var docs_json = {\"447a939f-3460-4a48-9531-7c2ec6fc9804\":{\"defs\":[{\"extends\":null,\"module\":null,\"name\":\"ReactiveHTML1\",\"overrides\":[],\"properties\":[]},{\"extends\":null,\"module\":null,\"name\":\"FlexBox1\",\"overrides\":[],\"properties\":[{\"default\":\"flex-start\",\"kind\":null,\"name\":\"align_content\"},{\"default\":\"flex-start\",\"kind\":null,\"name\":\"align_items\"},{\"default\":\"row\",\"kind\":null,\"name\":\"flex_direction\"},{\"default\":\"wrap\",\"kind\":null,\"name\":\"flex_wrap\"},{\"default\":\"flex-start\",\"kind\":null,\"name\":\"justify_content\"}]},{\"extends\":null,\"module\":null,\"name\":\"GridStack1\",\"overrides\":[],\"properties\":[{\"default\":\"warn\",\"kind\":null,\"name\":\"mode\"},{\"default\":null,\"kind\":null,\"name\":\"ncols\"},{\"default\":null,\"kind\":null,\"name\":\"nrows\"},{\"default\":true,\"kind\":null,\"name\":\"allow_resize\"},{\"default\":true,\"kind\":null,\"name\":\"allow_drag\"},{\"default\":[],\"kind\":null,\"name\":\"state\"}]},{\"extends\":null,\"module\":null,\"name\":\"click1\",\"overrides\":[],\"properties\":[{\"default\":\"\",\"kind\":null,\"name\":\"terminal_output\"},{\"default\":\"\",\"kind\":null,\"name\":\"debug_name\"},{\"default\":0,\"kind\":null,\"name\":\"clears\"}]},{\"extends\":null,\"module\":null,\"name\":\"NotificationAreaBase1\",\"overrides\":[],\"properties\":[{\"default\":\"bottom-right\",\"kind\":null,\"name\":\"position\"},{\"default\":0,\"kind\":null,\"name\":\"_clear\"}]},{\"extends\":null,\"module\":null,\"name\":\"NotificationArea1\",\"overrides\":[],\"properties\":[{\"default\":[],\"kind\":null,\"name\":\"notifications\"},{\"default\":\"bottom-right\",\"kind\":null,\"name\":\"position\"},{\"default\":0,\"kind\":null,\"name\":\"_clear\"},{\"default\":[{\"background\":\"#ffc107\",\"icon\":{\"className\":\"fas fa-exclamation-triangle\",\"color\":\"white\",\"tagName\":\"i\"},\"type\":\"warning\"},{\"background\":\"#007bff\",\"icon\":{\"className\":\"fas fa-info-circle\",\"color\":\"white\",\"tagName\":\"i\"},\"type\":\"info\"}],\"kind\":null,\"name\":\"types\"}]},{\"extends\":null,\"module\":null,\"name\":\"Notification\",\"overrides\":[],\"properties\":[{\"default\":null,\"kind\":null,\"name\":\"background\"},{\"default\":3000,\"kind\":null,\"name\":\"duration\"},{\"default\":null,\"kind\":null,\"name\":\"icon\"},{\"default\":\"\",\"kind\":null,\"name\":\"message\"},{\"default\":null,\"kind\":null,\"name\":\"notification_type\"},{\"default\":false,\"kind\":null,\"name\":\"_destroyed\"}]},{\"extends\":null,\"module\":null,\"name\":\"TemplateActions1\",\"overrides\":[],\"properties\":[{\"default\":0,\"kind\":null,\"name\":\"open_modal\"},{\"default\":0,\"kind\":null,\"name\":\"close_modal\"}]},{\"extends\":null,\"module\":null,\"name\":\"MaterialTemplateActions1\",\"overrides\":[],\"properties\":[{\"default\":0,\"kind\":null,\"name\":\"open_modal\"},{\"default\":0,\"kind\":null,\"name\":\"close_modal\"}]}],\"roots\":{\"references\":[{\"attributes\":{},\"id\":\"2791\",\"type\":\"BasicTicker\"},{\"attributes\":{\"tools\":[{\"id\":\"2777\"},{\"id\":\"2794\"},{\"id\":\"2795\"},{\"id\":\"2796\"},{\"id\":\"2797\"},{\"id\":\"2798\"}]},\"id\":\"2800\",\"type\":\"Toolbar\"},{\"attributes\":{\"axis_label\":\"Open Interests\",\"coordinates\":null,\"formatter\":{\"id\":\"2817\"},\"group\":null,\"major_label_policy\":{\"id\":\"2823\"},\"ticker\":{\"id\":\"2791\"}},\"id\":\"2790\",\"type\":\"LinearAxis\"},{\"attributes\":{\"callback\":null,\"renderers\":[{\"id\":\"2814\"}],\"tags\":[\"hv_created\"],\"tooltips\":[[\"Symbol\",\"@{Symbol}\"],[\"Type\",\"@{Type}\"],[\"Open Int\",\"@{Open_Int}\"]]},\"id\":\"2777\",\"type\":\"HoverTool\"},{\"attributes\":{\"children\":[{\"id\":\"2774\"},{\"id\":\"2778\"},{\"id\":\"2835\"}],\"margin\":[0,0,0,0],\"name\":\"Row03558\",\"tags\":[\"embedded\"]},\"id\":\"2773\",\"type\":\"Row\"},{\"attributes\":{\"source\":{\"id\":\"2808\"}},\"id\":\"2815\",\"type\":\"CDSView\"},{\"attributes\":{},\"id\":\"2798\",\"type\":\"ResetTool\"},{\"attributes\":{\"bottom_units\":\"screen\",\"coordinates\":null,\"fill_alpha\":0.5,\"fill_color\":\"lightgrey\",\"group\":null,\"left_units\":\"screen\",\"level\":\"overlay\",\"line_alpha\":1.0,\"line_color\":\"black\",\"line_dash\":[4,4],\"line_width\":2,\"right_units\":\"screen\",\"syncable\":false,\"top_units\":\"screen\"},\"id\":\"2799\",\"type\":\"BoxAnnotation\"},{\"attributes\":{},\"id\":\"2819\",\"type\":\"CategoricalTickFormatter\"},{\"attributes\":{},\"id\":\"2832\",\"type\":\"UnionRenderers\"},{\"attributes\":{\"axis_label\":\"Tickers by Call and Put\",\"coordinates\":null,\"formatter\":{\"id\":\"2819\"},\"group\":null,\"major_label_orientation\":0.7853981633974483,\"major_label_policy\":{\"id\":\"2820\"},\"ticker\":{\"id\":\"2788\"}},\"id\":\"2787\",\"type\":\"CategoricalAxis\"},{\"attributes\":{\"factors\":[\"Put\",\"Call\"],\"palette\":[\"#30a2da\",\"#fc4f30\"]},\"id\":\"2807\",\"type\":\"CategoricalColorMapper\"},{\"attributes\":{\"margin\":[5,5,5,5],\"name\":\"HSpacer03563\",\"sizing_mode\":\"stretch_width\"},\"id\":\"2835\",\"type\":\"Spacer\"},{\"attributes\":{\"axis\":{\"id\":\"2790\"},\"coordinates\":null,\"dimension\":1,\"grid_line_color\":null,\"group\":null,\"ticker\":null},\"id\":\"2793\",\"type\":\"Grid\"},{\"attributes\":{\"bottom\":{\"value\":0},\"fill_alpha\":{\"value\":1.0},\"fill_color\":{\"field\":\"Type\",\"transform\":{\"id\":\"2807\"}},\"hatch_alpha\":{\"value\":1.0},\"hatch_color\":{\"field\":\"Type\",\"transform\":{\"id\":\"2807\"}},\"hatch_scale\":{\"value\":12.0},\"hatch_weight\":{\"value\":1.0},\"line_alpha\":{\"value\":1.0},\"line_cap\":{\"value\":\"butt\"},\"line_color\":{\"value\":\"black\"},\"line_dash\":{\"value\":[]},\"line_dash_offset\":{\"value\":0},\"line_join\":{\"value\":\"bevel\"},\"line_width\":{\"value\":1},\"top\":{\"field\":\"Open_Int\"},\"width\":{\"value\":0.8},\"x\":{\"field\":\"xoffsets\"}},\"id\":\"2816\",\"type\":\"VBar\"},{\"attributes\":{},\"id\":\"2820\",\"type\":\"AllLabels\"},{\"attributes\":{},\"id\":\"2788\",\"type\":\"CategoricalTicker\"},{\"attributes\":{},\"id\":\"2785\",\"type\":\"LinearScale\"},{\"attributes\":{\"overlay\":{\"id\":\"2799\"}},\"id\":\"2797\",\"type\":\"BoxZoomTool\"},{\"attributes\":{\"axis\":{\"id\":\"2787\"},\"coordinates\":null,\"grid_line_color\":null,\"group\":null,\"ticker\":null},\"id\":\"2789\",\"type\":\"Grid\"},{\"attributes\":{\"coordinates\":null,\"data_source\":{\"id\":\"2808\"},\"glyph\":{\"id\":\"2811\"},\"group\":null,\"hover_glyph\":null,\"muted_glyph\":{\"id\":\"2813\"},\"nonselection_glyph\":{\"id\":\"2812\"},\"selection_glyph\":{\"id\":\"2816\"},\"view\":{\"id\":\"2815\"}},\"id\":\"2814\",\"type\":\"GlyphRenderer\"},{\"attributes\":{},\"id\":\"2796\",\"type\":\"WheelZoomTool\"},{\"attributes\":{},\"id\":\"2795\",\"type\":\"PanTool\"},{\"attributes\":{},\"id\":\"2823\",\"type\":\"AllLabels\"},{\"attributes\":{\"coordinates\":null,\"group\":null,\"text\":\"Tickers Call / Put Open Interests comparison\",\"text_color\":\"black\",\"text_font_size\":\"12pt\"},\"id\":\"2779\",\"type\":\"Title\"},{\"attributes\":{\"format\":\"%0f\"},\"id\":\"2817\",\"type\":\"PrintfTickFormatter\"},{\"attributes\":{},\"id\":\"2794\",\"type\":\"SaveTool\"},{\"attributes\":{\"factors\":[[\"F\",\"Call\"],[\"F\",\"Put\"],[\"AAPL\",\"Call\"],[\"AAPL\",\"Put\"],[\"AMZN\",\"Call\"],[\"AMZN\",\"Put\"],[\"TSLA\",\"Call\"],[\"TSLA\",\"Put\"],[\"META\",\"Call\"],[\"META\",\"Put\"],[\"AMD\",\"Call\"],[\"AMD\",\"Put\"],[\"BAC\",\"Call\"],[\"BAC\",\"Put\"],[\"AAL\",\"Call\"],[\"AAL\",\"Put\"],[\"NIO\",\"Call\"],[\"NIO\",\"Put\"],[\"MSFT\",\"Call\"],[\"MSFT\",\"Put\"],[\"GOOGL\",\"Call\"],[\"GOOGL\",\"Put\"],[\"NVDA\",\"Call\"],[\"NVDA\",\"Put\"],[\"INTC\",\"Call\"],[\"INTC\",\"Put\"],[\"T\",\"Call\"],[\"T\",\"Put\"],[\"BABA\",\"Call\"],[\"BABA\",\"Put\"],[\"TWTR\",\"Call\"],[\"TWTR\",\"Put\"],[\"UBER\",\"Call\"],[\"UBER\",\"Put\"],[\"CCL\",\"Call\"],[\"CCL\",\"Put\"],[\"SNAP\",\"Call\"],[\"SNAP\",\"Put\"],[\"SBUX\",\"Call\"],[\"SBUX\",\"Put\"]],\"tags\":[[[\"Symbol\",\"Symbol\",null],[\"Type\",\"Type\",null]]]},\"id\":\"2775\",\"type\":\"FactorRange\"},{\"attributes\":{\"data\":{\"Open_Int\":{\"__ndarray__\":\"AAAAAEjtAUEAAAAAgCnCQAAAAACQePxAAAAAAABx30AAAAAAIJ3rQAAAAACAUcVAAAAAAEC840AAAAAAwJXTQAAAAABgFuFAAAAAAABk3kAAAAAAAOnmQAAAAADAsNNAAAAAAABTuEAAAAAAwPLWQAAAAAAA1rZAAAAAAABxtkAAAAAAwJzfQAAAAAAA1LVAAAAAAADXwEAAAAAAAN+3QAAAAAAAUb9AAAAAAAA6vUAAAAAAAK/TQAAAAAAA6b5AAAAAAABYoEAAAAAAAJyyQAAAAAAA2LhAAAAAAIAtxEAAAAAAgNbCQAAAAABAjNlAAAAAAABn30AAAAAAQEXaQAAAAAAAurlAAAAAAADSxUAAAAAAAAa5QAAAAABA/tRAAAAAAEBj3UAAAAAAAHnUQAAAAAAAc85AAAAAAABgqUAAAAAAAHivQAAAAAAA58BAAAAAAGCH4UAAAAAAANW8QAAAAACApOdAAAAAAABEoEAAAAAAAM/PQAAAAAAAYKpAAAAAAAAhxUAAAAAAgNPDQAAAAACAus1AAAAAAAAvz0AAAAAAALSiQAAAAABAQtJAAAAAAADDukAAAAAAAFWxQAAAAACA+8NAAAAAAAC2vUAAAAAAwHvXQAAAAABAV9FAAAAAAADepUAAAAAAAHPLQAAAAAAAPqhAAAAAAADonUAAAAAAACSTQAAAAACABMZAAAAAAACytUAAAAAAgOXDQAAAAACA7MdAAAAAAADMqkAAAAAAAA6oQAAAAAAA4J9AAAAAAMDN3EAAAAAAAB+xQAAAAAAARbZAAAAAAIDTykAAAAAAAKW1QAAAAADA0eJAAAAAAABomkAAAAAAgPjUQAAAAACAHNNAAAAAAAC4kkAAAAAAgM3bQAAAAAAAIKhAAAAAAABknkAAAAAAAHKkQAAAAACAbMZAAAAAAAB8pUAAAAAAQNnRQAAAAAAA4qlAAAAAAMBa1UAAAAAAADTDQAAAAAAAWJxAAAAAAABGokAAAAAAwKzcQAAAAADA9thAAAAAAIARyUAAAAAAABThQAAAAAAARMxAAAAAAAD500AAAAAAANK9QAAAAAAABMpAAAAAAECS1EAAAAAAAMexQAAAAAAQhvRAAAAAAAACpUAAAAAAgLjeQAAAAAAAwG1AAAAAAADKwkAAAAAAwLLgQAAAAAAAbLJAAAAAAACqq0AAAAAAABqnQAAAAACAvsRAAAAAAAC+o0AAAAAAAKW4QAAAAAAACKZAAAAAAAAuoEAAAAAAALalQAAAAAAAZMBAAAAAAACkn0AAAAAAADSzQAAAAAAASLdAAAAAAIBcykAAAAAAANy8QAAAAAAALrdAAAAAAAB4rkAAAAAAgAnDQAAAAABgR+FAAAAAAAC6zUAAAAAAADnhQAAAAAAAAqhAAAAAAKA+40AAAAAAAAiQQAAAAAAASrFAAAAAAAA6sUAAAAAAAOTSQAAAAAAA+KJAAAAAAIBlxUAAAAAAACrBQAAAAAAAIK9AAAAAAAC/wEAAAAAAAMPRQAAAAAAAVqNAAAAAAACSrUAAAAAAANSnQAAAAAAAkJBAAAAAAABgdUAAAAAAABqxQAAAAAAA8KZAAAAAAAB9tUAAAAAAAPCWQAAAAAAAJJFAAAAAAABIn0AAAAAAALSuQAAAAAAAyKBAAAAAAADAa0AAAAAAAOq7QAAAAAAA/s5AAAAAAEBj2UAAAAAAANy4QAAAAAAA+bhAAAAAAADB1UAAAAAAAIW5QAAAAAAgEeNAAAAAAIC1xUAAAAAAANCVQAAAAAAAwKxAAAAAAACYz0AAAAAAAPKlQAAAAAAAL8xA\",\"dtype\":\"float64\",\"order\":\"little\",\"shape\":[171]},\"Symbol\":[\"F\",\"F\",\"F\",\"AAPL\",\"AAPL\",\"AAPL\",\"AAPL\",\"AAPL\",\"AAPL\",\"AAPL\",\"AMZN\",\"AMZN\",\"AMZN\",\"AMZN\",\"AMZN\",\"AMZN\",\"AMZN\",\"AMZN\",\"AMZN\",\"AMZN\",\"AMZN\",\"AMZN\",\"AMZN\",\"AMZN\",\"TSLA\",\"TSLA\",\"TSLA\",\"TSLA\",\"TSLA\",\"META\",\"META\",\"META\",\"META\",\"META\",\"META\",\"META\",\"AMD\",\"AMD\",\"AMD\",\"AMD\",\"AMD\",\"AMD\",\"BAC\",\"BAC\",\"AAL\",\"AAL\",\"AAL\",\"NIO\",\"NIO\",\"NIO\",\"NIO\",\"MSFT\",\"MSFT\",\"MSFT\",\"MSFT\",\"MSFT\",\"MSFT\",\"MSFT\",\"GOOGL\",\"GOOGL\",\"GOOGL\",\"GOOGL\",\"GOOGL\",\"GOOGL\",\"GOOGL\",\"NVDA\",\"NVDA\",\"NVDA\",\"NVDA\",\"NVDA\",\"NVDA\",\"NVDA\",\"INTC\",\"INTC\",\"INTC\",\"INTC\",\"INTC\",\"T\",\"T\",\"T\",\"BABA\",\"BABA\",\"BABA\",\"BABA\",\"BABA\",\"TWTR\",\"TWTR\",\"TWTR\",\"UBER\",\"CCL\",\"SNAP\",\"SNAP\",\"SBUX\",\"F\",\"F\",\"F\",\"F\",\"AAPL\",\"AAPL\",\"AAPL\",\"AAPL\",\"AAPL\",\"AAPL\",\"AMZN\",\"AMZN\",\"AMZN\",\"AMZN\",\"AMZN\",\"TSLA\",\"TSLA\",\"TSLA\",\"TSLA\",\"TSLA\",\"TSLA\",\"TSLA\",\"TSLA\",\"TSLA\",\"TSLA\",\"TSLA\",\"TSLA\",\"TSLA\",\"TSLA\",\"TSLA\",\"TSLA\",\"TSLA\",\"TSLA\",\"TSLA\",\"TSLA\",\"TSLA\",\"TSLA\",\"TSLA\",\"TSLA\",\"TSLA\",\"META\",\"AMD\",\"AMD\",\"BAC\",\"BAC\",\"BAC\",\"BAC\",\"AAL\",\"AAL\",\"NIO\",\"NIO\",\"NIO\",\"NIO\",\"NIO\",\"GOOGL\",\"NVDA\",\"NVDA\",\"NVDA\",\"NVDA\",\"NVDA\",\"NVDA\",\"INTC\",\"INTC\",\"BABA\",\"BABA\",\"TWTR\",\"TWTR\",\"UBER\",\"UBER\",\"UBER\",\"CCL\",\"CCL\",\"SNAP\",\"SNAP\",\"SBUX\",\"SBUX\",\"SBUX\",\"SBUX\"],\"Type\":[\"Put\",\"Put\",\"Put\",\"Put\",\"Put\",\"Put\",\"Put\",\"Put\",\"Put\",\"Put\",\"Put\",\"Put\",\"Put\",\"Put\",\"Put\",\"Put\",\"Put\",\"Put\",\"Put\",\"Put\",\"Put\",\"Put\",\"Put\",\"Put\",\"Put\",\"Put\",\"Put\",\"Put\",\"Put\",\"Put\",\"Put\",\"Put\",\"Put\",\"Put\",\"Put\",\"Put\",\"Put\",\"Put\",\"Put\",\"Put\",\"Put\",\"Put\",\"Put\",\"Put\",\"Put\",\"Put\",\"Put\",\"Put\",\"Put\",\"Put\",\"Put\",\"Put\",\"Put\",\"Put\",\"Put\",\"Put\",\"Put\",\"Put\",\"Put\",\"Put\",\"Put\",\"Put\",\"Put\",\"Put\",\"Put\",\"Put\",\"Put\",\"Put\",\"Put\",\"Put\",\"Put\",\"Put\",\"Put\",\"Put\",\"Put\",\"Put\",\"Put\",\"Put\",\"Put\",\"Put\",\"Put\",\"Put\",\"Put\",\"Put\",\"Put\",\"Put\",\"Put\",\"Put\",\"Put\",\"Put\",\"Put\",\"Put\",\"Put\",\"Call\",\"Call\",\"Call\",\"Call\",\"Call\",\"Call\",\"Call\",\"Call\",\"Call\",\"Call\",\"Call\",\"Call\",\"Call\",\"Call\",\"Call\",\"Call\",\"Call\",\"Call\",\"Call\",\"Call\",\"Call\",\"Call\",\"Call\",\"Call\",\"Call\",\"Call\",\"Call\",\"Call\",\"Call\",\"Call\",\"Call\",\"Call\",\"Call\",\"Call\",\"Call\",\"Call\",\"Call\",\"Call\",\"Call\",\"Call\",\"Call\",\"Call\",\"Call\",\"Call\",\"Call\",\"Call\",\"Call\",\"Call\",\"Call\",\"Call\",\"Call\",\"Call\",\"Call\",\"Call\",\"Call\",\"Call\",\"Call\",\"Call\",\"Call\",\"Call\",\"Call\",\"Call\",\"Call\",\"Call\",\"Call\",\"Call\",\"Call\",\"Call\",\"Call\",\"Call\",\"Call\",\"Call\",\"Call\",\"Call\",\"Call\",\"Call\",\"Call\",\"Call\"],\"xoffsets\":[[\"F\",\"Put\"],[\"F\",\"Put\"],[\"F\",\"Put\"],[\"AAPL\",\"Put\"],[\"AAPL\",\"Put\"],[\"AAPL\",\"Put\"],[\"AAPL\",\"Put\"],[\"AAPL\",\"Put\"],[\"AAPL\",\"Put\"],[\"AAPL\",\"Put\"],[\"AMZN\",\"Put\"],[\"AMZN\",\"Put\"],[\"AMZN\",\"Put\"],[\"AMZN\",\"Put\"],[\"AMZN\",\"Put\"],[\"AMZN\",\"Put\"],[\"AMZN\",\"Put\"],[\"AMZN\",\"Put\"],[\"AMZN\",\"Put\"],[\"AMZN\",\"Put\"],[\"AMZN\",\"Put\"],[\"AMZN\",\"Put\"],[\"AMZN\",\"Put\"],[\"AMZN\",\"Put\"],[\"TSLA\",\"Put\"],[\"TSLA\",\"Put\"],[\"TSLA\",\"Put\"],[\"TSLA\",\"Put\"],[\"TSLA\",\"Put\"],[\"META\",\"Put\"],[\"META\",\"Put\"],[\"META\",\"Put\"],[\"META\",\"Put\"],[\"META\",\"Put\"],[\"META\",\"Put\"],[\"META\",\"Put\"],[\"AMD\",\"Put\"],[\"AMD\",\"Put\"],[\"AMD\",\"Put\"],[\"AMD\",\"Put\"],[\"AMD\",\"Put\"],[\"AMD\",\"Put\"],[\"BAC\",\"Put\"],[\"BAC\",\"Put\"],[\"AAL\",\"Put\"],[\"AAL\",\"Put\"],[\"AAL\",\"Put\"],[\"NIO\",\"Put\"],[\"NIO\",\"Put\"],[\"NIO\",\"Put\"],[\"NIO\",\"Put\"],[\"MSFT\",\"Put\"],[\"MSFT\",\"Put\"],[\"MSFT\",\"Put\"],[\"MSFT\",\"Put\"],[\"MSFT\",\"Put\"],[\"MSFT\",\"Put\"],[\"MSFT\",\"Put\"],[\"GOOGL\",\"Put\"],[\"GOOGL\",\"Put\"],[\"GOOGL\",\"Put\"],[\"GOOGL\",\"Put\"],[\"GOOGL\",\"Put\"],[\"GOOGL\",\"Put\"],[\"GOOGL\",\"Put\"],[\"NVDA\",\"Put\"],[\"NVDA\",\"Put\"],[\"NVDA\",\"Put\"],[\"NVDA\",\"Put\"],[\"NVDA\",\"Put\"],[\"NVDA\",\"Put\"],[\"NVDA\",\"Put\"],[\"INTC\",\"Put\"],[\"INTC\",\"Put\"],[\"INTC\",\"Put\"],[\"INTC\",\"Put\"],[\"INTC\",\"Put\"],[\"T\",\"Put\"],[\"T\",\"Put\"],[\"T\",\"Put\"],[\"BABA\",\"Put\"],[\"BABA\",\"Put\"],[\"BABA\",\"Put\"],[\"BABA\",\"Put\"],[\"BABA\",\"Put\"],[\"TWTR\",\"Put\"],[\"TWTR\",\"Put\"],[\"TWTR\",\"Put\"],[\"UBER\",\"Put\"],[\"CCL\",\"Put\"],[\"SNAP\",\"Put\"],[\"SNAP\",\"Put\"],[\"SBUX\",\"Put\"],[\"F\",\"Call\"],[\"F\",\"Call\"],[\"F\",\"Call\"],[\"F\",\"Call\"],[\"AAPL\",\"Call\"],[\"AAPL\",\"Call\"],[\"AAPL\",\"Call\"],[\"AAPL\",\"Call\"],[\"AAPL\",\"Call\"],[\"AAPL\",\"Call\"],[\"AMZN\",\"Call\"],[\"AMZN\",\"Call\"],[\"AMZN\",\"Call\"],[\"AMZN\",\"Call\"],[\"AMZN\",\"Call\"],[\"TSLA\",\"Call\"],[\"TSLA\",\"Call\"],[\"TSLA\",\"Call\"],[\"TSLA\",\"Call\"],[\"TSLA\",\"Call\"],[\"TSLA\",\"Call\"],[\"TSLA\",\"Call\"],[\"TSLA\",\"Call\"],[\"TSLA\",\"Call\"],[\"TSLA\",\"Call\"],[\"TSLA\",\"Call\"],[\"TSLA\",\"Call\"],[\"TSLA\",\"Call\"],[\"TSLA\",\"Call\"],[\"TSLA\",\"Call\"],[\"TSLA\",\"Call\"],[\"TSLA\",\"Call\"],[\"TSLA\",\"Call\"],[\"TSLA\",\"Call\"],[\"TSLA\",\"Call\"],[\"TSLA\",\"Call\"],[\"TSLA\",\"Call\"],[\"TSLA\",\"Call\"],[\"TSLA\",\"Call\"],[\"TSLA\",\"Call\"],[\"META\",\"Call\"],[\"AMD\",\"Call\"],[\"AMD\",\"Call\"],[\"BAC\",\"Call\"],[\"BAC\",\"Call\"],[\"BAC\",\"Call\"],[\"BAC\",\"Call\"],[\"AAL\",\"Call\"],[\"AAL\",\"Call\"],[\"NIO\",\"Call\"],[\"NIO\",\"Call\"],[\"NIO\",\"Call\"],[\"NIO\",\"Call\"],[\"NIO\",\"Call\"],[\"GOOGL\",\"Call\"],[\"NVDA\",\"Call\"],[\"NVDA\",\"Call\"],[\"NVDA\",\"Call\"],[\"NVDA\",\"Call\"],[\"NVDA\",\"Call\"],[\"NVDA\",\"Call\"],[\"INTC\",\"Call\"],[\"INTC\",\"Call\"],[\"BABA\",\"Call\"],[\"BABA\",\"Call\"],[\"TWTR\",\"Call\"],[\"TWTR\",\"Call\"],[\"UBER\",\"Call\"],[\"UBER\",\"Call\"],[\"UBER\",\"Call\"],[\"CCL\",\"Call\"],[\"CCL\",\"Call\"],[\"SNAP\",\"Call\"],[\"SNAP\",\"Call\"],[\"SBUX\",\"Call\"],[\"SBUX\",\"Call\"],[\"SBUX\",\"Call\"],[\"SBUX\",\"Call\"]]},\"selected\":{\"id\":\"2809\"},\"selection_policy\":{\"id\":\"2832\"}},\"id\":\"2808\",\"type\":\"ColumnDataSource\"},{\"attributes\":{\"below\":[{\"id\":\"2787\"}],\"center\":[{\"id\":\"2789\"},{\"id\":\"2793\"}],\"height\":500,\"left\":[{\"id\":\"2790\"}],\"margin\":[5,5,5,5],\"min_border_bottom\":10,\"min_border_left\":10,\"min_border_right\":10,\"min_border_top\":10,\"renderers\":[{\"id\":\"2814\"}],\"sizing_mode\":\"fixed\",\"title\":{\"id\":\"2779\"},\"toolbar\":{\"id\":\"2800\"},\"width\":1300,\"x_range\":{\"id\":\"2775\"},\"x_scale\":{\"id\":\"2783\"},\"y_range\":{\"id\":\"2776\"},\"y_scale\":{\"id\":\"2785\"}},\"id\":\"2778\",\"subtype\":\"Figure\",\"type\":\"Plot\"},{\"attributes\":{\"fill_color\":{\"field\":\"Type\",\"transform\":{\"id\":\"2807\"}},\"hatch_color\":{\"field\":\"Type\",\"transform\":{\"id\":\"2807\"}},\"top\":{\"field\":\"Open_Int\"},\"width\":{\"value\":0.8},\"x\":{\"field\":\"xoffsets\"}},\"id\":\"2811\",\"type\":\"VBar\"},{\"attributes\":{},\"id\":\"2783\",\"type\":\"CategoricalScale\"},{\"attributes\":{\"fill_alpha\":{\"value\":0.1},\"fill_color\":{\"field\":\"Type\",\"transform\":{\"id\":\"2807\"}},\"hatch_alpha\":{\"value\":0.1},\"hatch_color\":{\"field\":\"Type\",\"transform\":{\"id\":\"2807\"}},\"line_alpha\":{\"value\":0.1},\"top\":{\"field\":\"Open_Int\"},\"width\":{\"value\":0.8},\"x\":{\"field\":\"xoffsets\"}},\"id\":\"2812\",\"type\":\"VBar\"},{\"attributes\":{},\"id\":\"2809\",\"type\":\"Selection\"},{\"attributes\":{\"fill_alpha\":{\"value\":0.2},\"fill_color\":{\"field\":\"Type\",\"transform\":{\"id\":\"2807\"}},\"hatch_alpha\":{\"value\":0.2},\"hatch_color\":{\"field\":\"Type\",\"transform\":{\"id\":\"2807\"}},\"line_alpha\":{\"value\":0.2},\"top\":{\"field\":\"Open_Int\"},\"width\":{\"value\":0.8},\"x\":{\"field\":\"xoffsets\"}},\"id\":\"2813\",\"type\":\"VBar\"},{\"attributes\":{\"end\":161520.5,\"reset_end\":161520.5,\"reset_start\":0.0,\"tags\":[[[\"Open Int\",\"Open Int\",null]]]},\"id\":\"2776\",\"type\":\"Range1d\"},{\"attributes\":{\"margin\":[5,5,5,5],\"name\":\"HSpacer03562\",\"sizing_mode\":\"stretch_width\"},\"id\":\"2774\",\"type\":\"Spacer\"}],\"root_ids\":[\"2773\"]},\"title\":\"Bokeh Application\",\"version\":\"2.4.3\"}};\n",
       "    var render_items = [{\"docid\":\"447a939f-3460-4a48-9531-7c2ec6fc9804\",\"root_ids\":[\"2773\"],\"roots\":{\"2773\":\"dce50919-c5e3-49a3-b02c-09e5bfe67371\"}}];\n",
       "    root.Bokeh.embed.embed_items_notebook(docs_json, render_items);\n",
       "  }\n",
       "  if (root.Bokeh !== undefined && root.Bokeh.Panel !== undefined) {\n",
       "    embed_document(root);\n",
       "  } else {\n",
       "    var attempts = 0;\n",
       "    var timer = setInterval(function(root) {\n",
       "      if (root.Bokeh !== undefined && root.Bokeh.Panel !== undefined) {\n",
       "        clearInterval(timer);\n",
       "        embed_document(root);\n",
       "      } else if (document.readyState == \"complete\") {\n",
       "        attempts++;\n",
       "        if (attempts > 200) {\n",
       "          clearInterval(timer);\n",
       "          console.log(\"Bokeh: ERROR: Unable to run BokehJS code because BokehJS library is missing\");\n",
       "        }\n",
       "      }\n",
       "    }, 25, root)\n",
       "  }\n",
       "})(window);</script>"
      ],
      "text/plain": [
       ":Bars   [Symbol,Type]   (Open Int)"
      ]
     },
     "metadata": {
      "application/vnd.holoviews_exec.v0+json": {
       "id": "2773"
      }
     },
     "output_type": "display_data"
    },
    {
     "data": {},
     "metadata": {},
     "output_type": "display_data"
    },
    {
     "data": {
      "application/vnd.holoviews_exec.v0+json": "",
      "text/html": [
       "<div id='2882'>\n",
       "  <div class=\"bk-root\" id=\"b8a6e31c-1552-45f0-8340-92762b2a2b3d\" data-root-id=\"2882\"></div>\n",
       "</div>\n",
       "<script type=\"application/javascript\">(function(root) {\n",
       "  function embed_document(root) {\n",
       "    var docs_json = {\"7ae0f37b-fc22-4806-95bf-99ec141859db\":{\"defs\":[{\"extends\":null,\"module\":null,\"name\":\"ReactiveHTML1\",\"overrides\":[],\"properties\":[]},{\"extends\":null,\"module\":null,\"name\":\"FlexBox1\",\"overrides\":[],\"properties\":[{\"default\":\"flex-start\",\"kind\":null,\"name\":\"align_content\"},{\"default\":\"flex-start\",\"kind\":null,\"name\":\"align_items\"},{\"default\":\"row\",\"kind\":null,\"name\":\"flex_direction\"},{\"default\":\"wrap\",\"kind\":null,\"name\":\"flex_wrap\"},{\"default\":\"flex-start\",\"kind\":null,\"name\":\"justify_content\"}]},{\"extends\":null,\"module\":null,\"name\":\"GridStack1\",\"overrides\":[],\"properties\":[{\"default\":\"warn\",\"kind\":null,\"name\":\"mode\"},{\"default\":null,\"kind\":null,\"name\":\"ncols\"},{\"default\":null,\"kind\":null,\"name\":\"nrows\"},{\"default\":true,\"kind\":null,\"name\":\"allow_resize\"},{\"default\":true,\"kind\":null,\"name\":\"allow_drag\"},{\"default\":[],\"kind\":null,\"name\":\"state\"}]},{\"extends\":null,\"module\":null,\"name\":\"click1\",\"overrides\":[],\"properties\":[{\"default\":\"\",\"kind\":null,\"name\":\"terminal_output\"},{\"default\":\"\",\"kind\":null,\"name\":\"debug_name\"},{\"default\":0,\"kind\":null,\"name\":\"clears\"}]},{\"extends\":null,\"module\":null,\"name\":\"NotificationAreaBase1\",\"overrides\":[],\"properties\":[{\"default\":\"bottom-right\",\"kind\":null,\"name\":\"position\"},{\"default\":0,\"kind\":null,\"name\":\"_clear\"}]},{\"extends\":null,\"module\":null,\"name\":\"NotificationArea1\",\"overrides\":[],\"properties\":[{\"default\":[],\"kind\":null,\"name\":\"notifications\"},{\"default\":\"bottom-right\",\"kind\":null,\"name\":\"position\"},{\"default\":0,\"kind\":null,\"name\":\"_clear\"},{\"default\":[{\"background\":\"#ffc107\",\"icon\":{\"className\":\"fas fa-exclamation-triangle\",\"color\":\"white\",\"tagName\":\"i\"},\"type\":\"warning\"},{\"background\":\"#007bff\",\"icon\":{\"className\":\"fas fa-info-circle\",\"color\":\"white\",\"tagName\":\"i\"},\"type\":\"info\"}],\"kind\":null,\"name\":\"types\"}]},{\"extends\":null,\"module\":null,\"name\":\"Notification\",\"overrides\":[],\"properties\":[{\"default\":null,\"kind\":null,\"name\":\"background\"},{\"default\":3000,\"kind\":null,\"name\":\"duration\"},{\"default\":null,\"kind\":null,\"name\":\"icon\"},{\"default\":\"\",\"kind\":null,\"name\":\"message\"},{\"default\":null,\"kind\":null,\"name\":\"notification_type\"},{\"default\":false,\"kind\":null,\"name\":\"_destroyed\"}]},{\"extends\":null,\"module\":null,\"name\":\"TemplateActions1\",\"overrides\":[],\"properties\":[{\"default\":0,\"kind\":null,\"name\":\"open_modal\"},{\"default\":0,\"kind\":null,\"name\":\"close_modal\"}]},{\"extends\":null,\"module\":null,\"name\":\"MaterialTemplateActions1\",\"overrides\":[],\"properties\":[{\"default\":0,\"kind\":null,\"name\":\"open_modal\"},{\"default\":0,\"kind\":null,\"name\":\"close_modal\"}]}],\"roots\":{\"references\":[{\"attributes\":{\"below\":[{\"id\":\"2896\"}],\"center\":[{\"id\":\"2898\"},{\"id\":\"2902\"}],\"height\":500,\"left\":[{\"id\":\"2899\"}],\"margin\":[5,5,5,5],\"min_border_bottom\":10,\"min_border_left\":10,\"min_border_right\":10,\"min_border_top\":10,\"renderers\":[{\"id\":\"2923\"}],\"sizing_mode\":\"fixed\",\"title\":{\"id\":\"2888\"},\"toolbar\":{\"id\":\"2909\"},\"width\":1300,\"x_range\":{\"id\":\"2884\"},\"x_scale\":{\"id\":\"2892\"},\"y_range\":{\"id\":\"2885\"},\"y_scale\":{\"id\":\"2894\"}},\"id\":\"2887\",\"subtype\":\"Figure\",\"type\":\"Plot\"},{\"attributes\":{},\"id\":\"2918\",\"type\":\"Selection\"},{\"attributes\":{\"callback\":null,\"renderers\":[{\"id\":\"2923\"}],\"tags\":[\"hv_created\"],\"tooltips\":[[\"Symbol\",\"@{Symbol}\"],[\"Type\",\"@{Type}\"],[\"OI Chg\",\"@{OI_Chg}\"]]},\"id\":\"2886\",\"type\":\"HoverTool\"},{\"attributes\":{},\"id\":\"2894\",\"type\":\"LinearScale\"},{\"attributes\":{\"coordinates\":null,\"data_source\":{\"id\":\"2917\"},\"glyph\":{\"id\":\"2920\"},\"group\":null,\"hover_glyph\":null,\"muted_glyph\":{\"id\":\"2922\"},\"nonselection_glyph\":{\"id\":\"2921\"},\"selection_glyph\":{\"id\":\"2925\"},\"view\":{\"id\":\"2924\"}},\"id\":\"2923\",\"type\":\"GlyphRenderer\"},{\"attributes\":{\"fill_color\":{\"field\":\"Type\",\"transform\":{\"id\":\"2916\"}},\"hatch_color\":{\"field\":\"Type\",\"transform\":{\"id\":\"2916\"}},\"top\":{\"field\":\"OI_Chg\"},\"width\":{\"value\":0.8},\"x\":{\"field\":\"xoffsets\"}},\"id\":\"2920\",\"type\":\"VBar\"},{\"attributes\":{\"source\":{\"id\":\"2917\"}},\"id\":\"2924\",\"type\":\"CDSView\"},{\"attributes\":{\"fill_alpha\":{\"value\":0.1},\"fill_color\":{\"field\":\"Type\",\"transform\":{\"id\":\"2916\"}},\"hatch_alpha\":{\"value\":0.1},\"hatch_color\":{\"field\":\"Type\",\"transform\":{\"id\":\"2916\"}},\"line_alpha\":{\"value\":0.1},\"top\":{\"field\":\"OI_Chg\"},\"width\":{\"value\":0.8},\"x\":{\"field\":\"xoffsets\"}},\"id\":\"2921\",\"type\":\"VBar\"},{\"attributes\":{},\"id\":\"2941\",\"type\":\"UnionRenderers\"},{\"attributes\":{\"margin\":[5,5,5,5],\"name\":\"HSpacer03721\",\"sizing_mode\":\"stretch_width\"},\"id\":\"2944\",\"type\":\"Spacer\"},{\"attributes\":{},\"id\":\"2900\",\"type\":\"BasicTicker\"},{\"attributes\":{\"axis_label\":\"Open Interest Change\",\"coordinates\":null,\"formatter\":{\"id\":\"2926\"},\"group\":null,\"major_label_policy\":{\"id\":\"2932\"},\"ticker\":{\"id\":\"2900\"}},\"id\":\"2899\",\"type\":\"LinearAxis\"},{\"attributes\":{\"factors\":[[\"F\",\"Call\"],[\"F\",\"Put\"],[\"AAPL\",\"Call\"],[\"AAPL\",\"Put\"],[\"AMZN\",\"Call\"],[\"AMZN\",\"Put\"],[\"TSLA\",\"Call\"],[\"TSLA\",\"Put\"],[\"META\",\"Call\"],[\"META\",\"Put\"],[\"AMD\",\"Call\"],[\"AMD\",\"Put\"],[\"BAC\",\"Call\"],[\"BAC\",\"Put\"],[\"AAL\",\"Call\"],[\"AAL\",\"Put\"],[\"NIO\",\"Call\"],[\"NIO\",\"Put\"],[\"MSFT\",\"Call\"],[\"MSFT\",\"Put\"],[\"GOOGL\",\"Call\"],[\"GOOGL\",\"Put\"],[\"NVDA\",\"Call\"],[\"NVDA\",\"Put\"],[\"INTC\",\"Call\"],[\"INTC\",\"Put\"],[\"T\",\"Call\"],[\"T\",\"Put\"],[\"BABA\",\"Call\"],[\"BABA\",\"Put\"],[\"TWTR\",\"Call\"],[\"TWTR\",\"Put\"],[\"UBER\",\"Call\"],[\"UBER\",\"Put\"],[\"CCL\",\"Call\"],[\"CCL\",\"Put\"],[\"SNAP\",\"Call\"],[\"SNAP\",\"Put\"],[\"SBUX\",\"Call\"],[\"SBUX\",\"Put\"]],\"tags\":[[[\"Symbol\",\"Symbol\",null],[\"Type\",\"Type\",null]]]},\"id\":\"2884\",\"type\":\"FactorRange\"},{\"attributes\":{},\"id\":\"2897\",\"type\":\"CategoricalTicker\"},{\"attributes\":{\"axis\":{\"id\":\"2899\"},\"coordinates\":null,\"dimension\":1,\"grid_line_color\":null,\"group\":null,\"ticker\":null},\"id\":\"2902\",\"type\":\"Grid\"},{\"attributes\":{},\"id\":\"2928\",\"type\":\"CategoricalTickFormatter\"},{\"attributes\":{\"axis_label\":\"Tickers by Call and Put\",\"coordinates\":null,\"formatter\":{\"id\":\"2928\"},\"group\":null,\"major_label_orientation\":0.7853981633974483,\"major_label_policy\":{\"id\":\"2929\"},\"ticker\":{\"id\":\"2897\"}},\"id\":\"2896\",\"type\":\"CategoricalAxis\"},{\"attributes\":{\"bottom_units\":\"screen\",\"coordinates\":null,\"fill_alpha\":0.5,\"fill_color\":\"lightgrey\",\"group\":null,\"left_units\":\"screen\",\"level\":\"overlay\",\"line_alpha\":1.0,\"line_color\":\"black\",\"line_dash\":[4,4],\"line_width\":2,\"right_units\":\"screen\",\"syncable\":false,\"top_units\":\"screen\"},\"id\":\"2908\",\"type\":\"BoxAnnotation\"},{\"attributes\":{\"axis\":{\"id\":\"2896\"},\"coordinates\":null,\"grid_line_color\":null,\"group\":null,\"ticker\":null},\"id\":\"2898\",\"type\":\"Grid\"},{\"attributes\":{},\"id\":\"2932\",\"type\":\"AllLabels\"},{\"attributes\":{\"format\":\"%0f\"},\"id\":\"2926\",\"type\":\"PrintfTickFormatter\"},{\"attributes\":{\"coordinates\":null,\"group\":null,\"text\":\"Tickers Call / Put Open Interests comparison\",\"text_color\":\"black\",\"text_font_size\":\"12pt\"},\"id\":\"2888\",\"type\":\"Title\"},{\"attributes\":{},\"id\":\"2929\",\"type\":\"AllLabels\"},{\"attributes\":{\"margin\":[5,5,5,5],\"name\":\"HSpacer03720\",\"sizing_mode\":\"stretch_width\"},\"id\":\"2883\",\"type\":\"Spacer\"},{\"attributes\":{\"bottom\":{\"value\":0},\"fill_alpha\":{\"value\":1.0},\"fill_color\":{\"field\":\"Type\",\"transform\":{\"id\":\"2916\"}},\"hatch_alpha\":{\"value\":1.0},\"hatch_color\":{\"field\":\"Type\",\"transform\":{\"id\":\"2916\"}},\"hatch_scale\":{\"value\":12.0},\"hatch_weight\":{\"value\":1.0},\"line_alpha\":{\"value\":1.0},\"line_cap\":{\"value\":\"butt\"},\"line_color\":{\"value\":\"black\"},\"line_dash\":{\"value\":[]},\"line_dash_offset\":{\"value\":0},\"line_join\":{\"value\":\"bevel\"},\"line_width\":{\"value\":1},\"top\":{\"field\":\"OI_Chg\"},\"width\":{\"value\":0.8},\"x\":{\"field\":\"xoffsets\"}},\"id\":\"2925\",\"type\":\"VBar\"},{\"attributes\":{},\"id\":\"2907\",\"type\":\"ResetTool\"},{\"attributes\":{\"overlay\":{\"id\":\"2908\"}},\"id\":\"2906\",\"type\":\"BoxZoomTool\"},{\"attributes\":{\"data\":{\"OI_Chg\":{\"__ndarray__\":\"AAAAAACwdsAAAAAAAOCAwAAAAAAAqcHAAAAAAABAasAAAAAAALmzwAAAAAAAcIzAAAAAAAAus8AAAAAAABCowAAAAACAbNfAAAAAAACescAAAAAAAJSQwAAAAAAAtJXAAAAAAACwdsAAAAAAAGBkwAAAAAAA0IzAAAAAAAAgYcAAAAAAAEe2wAAAAAAAEIJAAAAAAACIlUAAAAAAACBwwAAAAAAA2IBAAAAAAABAj0AAAAAAANiHwAAAAAAAwF/AAAAAAAAANMAAAAAAAHiOQAAAAAAA2IdAAAAAAAD5skAAAAAAAP6wQAAAAAAAQGDAAAAAAAAgaMAAAAAAAOiHwAAAAAAAkHDAAAAAAADQkcAAAAAAAOB6wAAAAAAAQqnAAAAAAACATMAAAAAAAPCCwAAAAAAAKJXAAAAAAAAgecAAAAAAAFSTQAAAAAAAIIfAAAAAAAAAi8AAAAAAALiBQAAAAAAAYIHAAAAAAAA8kUAAAAAAAESQQAAAAAAAOIXAAAAAAAAAVsAAAAAAAMB1wAAAAAAAgI/AAAAAAADQfcAAAAAAALBywAAAAAAASIvAAAAAAABYi8AAAAAAAACGwAAAAAAACKHAAAAAAADAUsAAAAAAAEBawAAAAAAAgGfAAAAAAABQfsAAAAAAADCTwAAAAAAAYHXAAAAAAABgccAAAAAAAABwwAAAAAAAwIHAAAAAAADgccAAAAAAAJiEwAAAAAAAkJzAAAAAAADogcAAAAAAAEBfwAAAAAAAQFjAAAAAAAAEkMAAAAAAANB2wAAAAAAAwFLAAAAAAADMk8AAAAAAADiGQAAAAAAA8HjAAAAAAABgZcAAAAAAAMBVwAAAAAAAwF7AAAAAAADgdUAAAAAAAFiPwAAAAAAAIGfAAAAAAAAgZsAAAAAAAAAswAAAAAAAXJzAAAAAAADAfsAAAAAAAPBywAAAAAAAbqNAAAAAAAAAd0AAAAAAAHCQQAAAAAAAuINAAAAAAADIisAAAAAAAFB+wAAAAAAA0HfAAAAAAAAAaMAAAAAAgO3IwAAAAAAAwGHAAAAAAAAAbMAAAAAAAABbwAAAAAAAwGPAAAAAAABAXcAAAAAAAABfwAAAAAAAoHrAAAAAAAAAMsAAAAAAAOBkwAAAAAAAQFPAAAAAAAAwjcAAAAAAAOC6wAAAAAAAYI7AAAAAAAAwdsAAAAAAAEBzwAAAAAAAaJzAAAAAAACATcAAAAAAACBiwAAAAAAAoIjAAAAAAACAQ8AAAAAAAIBLwAAAAAAAZJDAAAAAAAAAOcAAAAAAAMBbwAAAAAAAEHXAAAAAAABAYsAAAAAAABB1wAAAAAAAAE7AAAAAAADwcMAAAAAAAMBSwAAAAAAAAGbAAAAAAAAAT8AAAAAAAIBfwAAAAAAAAFjAAAAAAACAYMAAAAAAABCOwAAAAAAAjK5AAAAAAAB4mkAAAAAAAF+2wAAAAAAAAFHAAAAAAAAeosAAAAAAABB8wAAAAAAAsHfAAAAAAAAAXsAAAAAAAJiDwAAAAAAAAEfAAAAAAACAR8AAAAAAAABNwAAAAAAAADvAAAAAAACAUsAAAAAAAEiiQAAAAAAAKJVAAAAAAACklkAAAAAAAHiCQAAAAAAA0IRAAAAAAAAAM8AAAAAAAJSYQAAAAAAADJFAAAAAAAAAMcAAAAAAALinwAAAAAAAIGDAAAAAAAAAMMAAAAAAAAAywAAAAAAAAE7AAAAAAABAesAAAAAAAMCUwAAAAAAAHJPAAAAAAABUlcAAAAAAAAAkwAAAAAAAAC7AAAAAAABAYsAAAAAAAAAywAAAAAAAAD3A\",\"dtype\":\"float64\",\"order\":\"little\",\"shape\":[171]},\"Symbol\":[\"F\",\"F\",\"F\",\"AAPL\",\"AAPL\",\"AAPL\",\"AAPL\",\"AAPL\",\"AAPL\",\"AAPL\",\"AMZN\",\"AMZN\",\"AMZN\",\"AMZN\",\"AMZN\",\"AMZN\",\"AMZN\",\"AMZN\",\"AMZN\",\"AMZN\",\"AMZN\",\"AMZN\",\"AMZN\",\"AMZN\",\"TSLA\",\"TSLA\",\"TSLA\",\"TSLA\",\"TSLA\",\"META\",\"META\",\"META\",\"META\",\"META\",\"META\",\"META\",\"AMD\",\"AMD\",\"AMD\",\"AMD\",\"AMD\",\"AMD\",\"BAC\",\"BAC\",\"AAL\",\"AAL\",\"AAL\",\"NIO\",\"NIO\",\"NIO\",\"NIO\",\"MSFT\",\"MSFT\",\"MSFT\",\"MSFT\",\"MSFT\",\"MSFT\",\"MSFT\",\"GOOGL\",\"GOOGL\",\"GOOGL\",\"GOOGL\",\"GOOGL\",\"GOOGL\",\"GOOGL\",\"NVDA\",\"NVDA\",\"NVDA\",\"NVDA\",\"NVDA\",\"NVDA\",\"NVDA\",\"INTC\",\"INTC\",\"INTC\",\"INTC\",\"INTC\",\"T\",\"T\",\"T\",\"BABA\",\"BABA\",\"BABA\",\"BABA\",\"BABA\",\"TWTR\",\"TWTR\",\"TWTR\",\"UBER\",\"CCL\",\"SNAP\",\"SNAP\",\"SBUX\",\"F\",\"F\",\"F\",\"F\",\"AAPL\",\"AAPL\",\"AAPL\",\"AAPL\",\"AAPL\",\"AAPL\",\"AMZN\",\"AMZN\",\"AMZN\",\"AMZN\",\"AMZN\",\"TSLA\",\"TSLA\",\"TSLA\",\"TSLA\",\"TSLA\",\"TSLA\",\"TSLA\",\"TSLA\",\"TSLA\",\"TSLA\",\"TSLA\",\"TSLA\",\"TSLA\",\"TSLA\",\"TSLA\",\"TSLA\",\"TSLA\",\"TSLA\",\"TSLA\",\"TSLA\",\"TSLA\",\"TSLA\",\"TSLA\",\"TSLA\",\"TSLA\",\"META\",\"AMD\",\"AMD\",\"BAC\",\"BAC\",\"BAC\",\"BAC\",\"AAL\",\"AAL\",\"NIO\",\"NIO\",\"NIO\",\"NIO\",\"NIO\",\"GOOGL\",\"NVDA\",\"NVDA\",\"NVDA\",\"NVDA\",\"NVDA\",\"NVDA\",\"INTC\",\"INTC\",\"BABA\",\"BABA\",\"TWTR\",\"TWTR\",\"UBER\",\"UBER\",\"UBER\",\"CCL\",\"CCL\",\"SNAP\",\"SNAP\",\"SBUX\",\"SBUX\",\"SBUX\",\"SBUX\"],\"Type\":[\"Put\",\"Put\",\"Put\",\"Put\",\"Put\",\"Put\",\"Put\",\"Put\",\"Put\",\"Put\",\"Put\",\"Put\",\"Put\",\"Put\",\"Put\",\"Put\",\"Put\",\"Put\",\"Put\",\"Put\",\"Put\",\"Put\",\"Put\",\"Put\",\"Put\",\"Put\",\"Put\",\"Put\",\"Put\",\"Put\",\"Put\",\"Put\",\"Put\",\"Put\",\"Put\",\"Put\",\"Put\",\"Put\",\"Put\",\"Put\",\"Put\",\"Put\",\"Put\",\"Put\",\"Put\",\"Put\",\"Put\",\"Put\",\"Put\",\"Put\",\"Put\",\"Put\",\"Put\",\"Put\",\"Put\",\"Put\",\"Put\",\"Put\",\"Put\",\"Put\",\"Put\",\"Put\",\"Put\",\"Put\",\"Put\",\"Put\",\"Put\",\"Put\",\"Put\",\"Put\",\"Put\",\"Put\",\"Put\",\"Put\",\"Put\",\"Put\",\"Put\",\"Put\",\"Put\",\"Put\",\"Put\",\"Put\",\"Put\",\"Put\",\"Put\",\"Put\",\"Put\",\"Put\",\"Put\",\"Put\",\"Put\",\"Put\",\"Put\",\"Call\",\"Call\",\"Call\",\"Call\",\"Call\",\"Call\",\"Call\",\"Call\",\"Call\",\"Call\",\"Call\",\"Call\",\"Call\",\"Call\",\"Call\",\"Call\",\"Call\",\"Call\",\"Call\",\"Call\",\"Call\",\"Call\",\"Call\",\"Call\",\"Call\",\"Call\",\"Call\",\"Call\",\"Call\",\"Call\",\"Call\",\"Call\",\"Call\",\"Call\",\"Call\",\"Call\",\"Call\",\"Call\",\"Call\",\"Call\",\"Call\",\"Call\",\"Call\",\"Call\",\"Call\",\"Call\",\"Call\",\"Call\",\"Call\",\"Call\",\"Call\",\"Call\",\"Call\",\"Call\",\"Call\",\"Call\",\"Call\",\"Call\",\"Call\",\"Call\",\"Call\",\"Call\",\"Call\",\"Call\",\"Call\",\"Call\",\"Call\",\"Call\",\"Call\",\"Call\",\"Call\",\"Call\",\"Call\",\"Call\",\"Call\",\"Call\",\"Call\",\"Call\"],\"xoffsets\":[[\"F\",\"Put\"],[\"F\",\"Put\"],[\"F\",\"Put\"],[\"AAPL\",\"Put\"],[\"AAPL\",\"Put\"],[\"AAPL\",\"Put\"],[\"AAPL\",\"Put\"],[\"AAPL\",\"Put\"],[\"AAPL\",\"Put\"],[\"AAPL\",\"Put\"],[\"AMZN\",\"Put\"],[\"AMZN\",\"Put\"],[\"AMZN\",\"Put\"],[\"AMZN\",\"Put\"],[\"AMZN\",\"Put\"],[\"AMZN\",\"Put\"],[\"AMZN\",\"Put\"],[\"AMZN\",\"Put\"],[\"AMZN\",\"Put\"],[\"AMZN\",\"Put\"],[\"AMZN\",\"Put\"],[\"AMZN\",\"Put\"],[\"AMZN\",\"Put\"],[\"AMZN\",\"Put\"],[\"TSLA\",\"Put\"],[\"TSLA\",\"Put\"],[\"TSLA\",\"Put\"],[\"TSLA\",\"Put\"],[\"TSLA\",\"Put\"],[\"META\",\"Put\"],[\"META\",\"Put\"],[\"META\",\"Put\"],[\"META\",\"Put\"],[\"META\",\"Put\"],[\"META\",\"Put\"],[\"META\",\"Put\"],[\"AMD\",\"Put\"],[\"AMD\",\"Put\"],[\"AMD\",\"Put\"],[\"AMD\",\"Put\"],[\"AMD\",\"Put\"],[\"AMD\",\"Put\"],[\"BAC\",\"Put\"],[\"BAC\",\"Put\"],[\"AAL\",\"Put\"],[\"AAL\",\"Put\"],[\"AAL\",\"Put\"],[\"NIO\",\"Put\"],[\"NIO\",\"Put\"],[\"NIO\",\"Put\"],[\"NIO\",\"Put\"],[\"MSFT\",\"Put\"],[\"MSFT\",\"Put\"],[\"MSFT\",\"Put\"],[\"MSFT\",\"Put\"],[\"MSFT\",\"Put\"],[\"MSFT\",\"Put\"],[\"MSFT\",\"Put\"],[\"GOOGL\",\"Put\"],[\"GOOGL\",\"Put\"],[\"GOOGL\",\"Put\"],[\"GOOGL\",\"Put\"],[\"GOOGL\",\"Put\"],[\"GOOGL\",\"Put\"],[\"GOOGL\",\"Put\"],[\"NVDA\",\"Put\"],[\"NVDA\",\"Put\"],[\"NVDA\",\"Put\"],[\"NVDA\",\"Put\"],[\"NVDA\",\"Put\"],[\"NVDA\",\"Put\"],[\"NVDA\",\"Put\"],[\"INTC\",\"Put\"],[\"INTC\",\"Put\"],[\"INTC\",\"Put\"],[\"INTC\",\"Put\"],[\"INTC\",\"Put\"],[\"T\",\"Put\"],[\"T\",\"Put\"],[\"T\",\"Put\"],[\"BABA\",\"Put\"],[\"BABA\",\"Put\"],[\"BABA\",\"Put\"],[\"BABA\",\"Put\"],[\"BABA\",\"Put\"],[\"TWTR\",\"Put\"],[\"TWTR\",\"Put\"],[\"TWTR\",\"Put\"],[\"UBER\",\"Put\"],[\"CCL\",\"Put\"],[\"SNAP\",\"Put\"],[\"SNAP\",\"Put\"],[\"SBUX\",\"Put\"],[\"F\",\"Call\"],[\"F\",\"Call\"],[\"F\",\"Call\"],[\"F\",\"Call\"],[\"AAPL\",\"Call\"],[\"AAPL\",\"Call\"],[\"AAPL\",\"Call\"],[\"AAPL\",\"Call\"],[\"AAPL\",\"Call\"],[\"AAPL\",\"Call\"],[\"AMZN\",\"Call\"],[\"AMZN\",\"Call\"],[\"AMZN\",\"Call\"],[\"AMZN\",\"Call\"],[\"AMZN\",\"Call\"],[\"TSLA\",\"Call\"],[\"TSLA\",\"Call\"],[\"TSLA\",\"Call\"],[\"TSLA\",\"Call\"],[\"TSLA\",\"Call\"],[\"TSLA\",\"Call\"],[\"TSLA\",\"Call\"],[\"TSLA\",\"Call\"],[\"TSLA\",\"Call\"],[\"TSLA\",\"Call\"],[\"TSLA\",\"Call\"],[\"TSLA\",\"Call\"],[\"TSLA\",\"Call\"],[\"TSLA\",\"Call\"],[\"TSLA\",\"Call\"],[\"TSLA\",\"Call\"],[\"TSLA\",\"Call\"],[\"TSLA\",\"Call\"],[\"TSLA\",\"Call\"],[\"TSLA\",\"Call\"],[\"TSLA\",\"Call\"],[\"TSLA\",\"Call\"],[\"TSLA\",\"Call\"],[\"TSLA\",\"Call\"],[\"TSLA\",\"Call\"],[\"META\",\"Call\"],[\"AMD\",\"Call\"],[\"AMD\",\"Call\"],[\"BAC\",\"Call\"],[\"BAC\",\"Call\"],[\"BAC\",\"Call\"],[\"BAC\",\"Call\"],[\"AAL\",\"Call\"],[\"AAL\",\"Call\"],[\"NIO\",\"Call\"],[\"NIO\",\"Call\"],[\"NIO\",\"Call\"],[\"NIO\",\"Call\"],[\"NIO\",\"Call\"],[\"GOOGL\",\"Call\"],[\"NVDA\",\"Call\"],[\"NVDA\",\"Call\"],[\"NVDA\",\"Call\"],[\"NVDA\",\"Call\"],[\"NVDA\",\"Call\"],[\"NVDA\",\"Call\"],[\"INTC\",\"Call\"],[\"INTC\",\"Call\"],[\"BABA\",\"Call\"],[\"BABA\",\"Call\"],[\"TWTR\",\"Call\"],[\"TWTR\",\"Call\"],[\"UBER\",\"Call\"],[\"UBER\",\"Call\"],[\"UBER\",\"Call\"],[\"CCL\",\"Call\"],[\"CCL\",\"Call\"],[\"SNAP\",\"Call\"],[\"SNAP\",\"Call\"],[\"SBUX\",\"Call\"],[\"SBUX\",\"Call\"],[\"SBUX\",\"Call\"],[\"SBUX\",\"Call\"]]},\"selected\":{\"id\":\"2918\"},\"selection_policy\":{\"id\":\"2941\"}},\"id\":\"2917\",\"type\":\"ColumnDataSource\"},{\"attributes\":{\"factors\":[\"Put\",\"Call\"],\"palette\":[\"#30a2da\",\"#fc4f30\"]},\"id\":\"2916\",\"type\":\"CategoricalColorMapper\"},{\"attributes\":{},\"id\":\"2892\",\"type\":\"CategoricalScale\"},{\"attributes\":{},\"id\":\"2903\",\"type\":\"SaveTool\"},{\"attributes\":{\"tools\":[{\"id\":\"2886\"},{\"id\":\"2903\"},{\"id\":\"2904\"},{\"id\":\"2905\"},{\"id\":\"2906\"},{\"id\":\"2907\"}]},\"id\":\"2909\",\"type\":\"Toolbar\"},{\"attributes\":{\"children\":[{\"id\":\"2883\"},{\"id\":\"2887\"},{\"id\":\"2944\"}],\"margin\":[0,0,0,0],\"name\":\"Row03716\",\"tags\":[\"embedded\"]},\"id\":\"2882\",\"type\":\"Row\"},{\"attributes\":{\"end\":7741.3,\"reset_end\":7741.3,\"reset_start\":-26870.3,\"start\":-26870.3,\"tags\":[[[\"OI Chg\",\"OI Chg\",null]]]},\"id\":\"2885\",\"type\":\"Range1d\"},{\"attributes\":{\"fill_alpha\":{\"value\":0.2},\"fill_color\":{\"field\":\"Type\",\"transform\":{\"id\":\"2916\"}},\"hatch_alpha\":{\"value\":0.2},\"hatch_color\":{\"field\":\"Type\",\"transform\":{\"id\":\"2916\"}},\"line_alpha\":{\"value\":0.2},\"top\":{\"field\":\"OI_Chg\"},\"width\":{\"value\":0.8},\"x\":{\"field\":\"xoffsets\"}},\"id\":\"2922\",\"type\":\"VBar\"},{\"attributes\":{},\"id\":\"2905\",\"type\":\"WheelZoomTool\"},{\"attributes\":{},\"id\":\"2904\",\"type\":\"PanTool\"}],\"root_ids\":[\"2882\"]},\"title\":\"Bokeh Application\",\"version\":\"2.4.3\"}};\n",
       "    var render_items = [{\"docid\":\"7ae0f37b-fc22-4806-95bf-99ec141859db\",\"root_ids\":[\"2882\"],\"roots\":{\"2882\":\"b8a6e31c-1552-45f0-8340-92762b2a2b3d\"}}];\n",
       "    root.Bokeh.embed.embed_items_notebook(docs_json, render_items);\n",
       "  }\n",
       "  if (root.Bokeh !== undefined && root.Bokeh.Panel !== undefined) {\n",
       "    embed_document(root);\n",
       "  } else {\n",
       "    var attempts = 0;\n",
       "    var timer = setInterval(function(root) {\n",
       "      if (root.Bokeh !== undefined && root.Bokeh.Panel !== undefined) {\n",
       "        clearInterval(timer);\n",
       "        embed_document(root);\n",
       "      } else if (document.readyState == \"complete\") {\n",
       "        attempts++;\n",
       "        if (attempts > 200) {\n",
       "          clearInterval(timer);\n",
       "          console.log(\"Bokeh: ERROR: Unable to run BokehJS code because BokehJS library is missing\");\n",
       "        }\n",
       "      }\n",
       "    }, 25, root)\n",
       "  }\n",
       "})(window);</script>"
      ],
      "text/plain": [
       ":Bars   [Symbol,Type]   (OI Chg)"
      ]
     },
     "metadata": {
      "application/vnd.holoviews_exec.v0+json": {
       "id": "2882"
      }
     },
     "output_type": "display_data"
    },
    {
     "data": {},
     "metadata": {},
     "output_type": "display_data"
    },
    {
     "data": {
      "application/vnd.holoviews_exec.v0+json": "",
      "text/html": [
       "<div id='2991'>\n",
       "  <div class=\"bk-root\" id=\"07f89c57-1e34-46ba-9047-a33b6acf7d62\" data-root-id=\"2991\"></div>\n",
       "</div>\n",
       "<script type=\"application/javascript\">(function(root) {\n",
       "  function embed_document(root) {\n",
       "    var docs_json = {\"00538f2c-1a22-4912-9d33-efc569a17238\":{\"defs\":[{\"extends\":null,\"module\":null,\"name\":\"ReactiveHTML1\",\"overrides\":[],\"properties\":[]},{\"extends\":null,\"module\":null,\"name\":\"FlexBox1\",\"overrides\":[],\"properties\":[{\"default\":\"flex-start\",\"kind\":null,\"name\":\"align_content\"},{\"default\":\"flex-start\",\"kind\":null,\"name\":\"align_items\"},{\"default\":\"row\",\"kind\":null,\"name\":\"flex_direction\"},{\"default\":\"wrap\",\"kind\":null,\"name\":\"flex_wrap\"},{\"default\":\"flex-start\",\"kind\":null,\"name\":\"justify_content\"}]},{\"extends\":null,\"module\":null,\"name\":\"GridStack1\",\"overrides\":[],\"properties\":[{\"default\":\"warn\",\"kind\":null,\"name\":\"mode\"},{\"default\":null,\"kind\":null,\"name\":\"ncols\"},{\"default\":null,\"kind\":null,\"name\":\"nrows\"},{\"default\":true,\"kind\":null,\"name\":\"allow_resize\"},{\"default\":true,\"kind\":null,\"name\":\"allow_drag\"},{\"default\":[],\"kind\":null,\"name\":\"state\"}]},{\"extends\":null,\"module\":null,\"name\":\"click1\",\"overrides\":[],\"properties\":[{\"default\":\"\",\"kind\":null,\"name\":\"terminal_output\"},{\"default\":\"\",\"kind\":null,\"name\":\"debug_name\"},{\"default\":0,\"kind\":null,\"name\":\"clears\"}]},{\"extends\":null,\"module\":null,\"name\":\"NotificationAreaBase1\",\"overrides\":[],\"properties\":[{\"default\":\"bottom-right\",\"kind\":null,\"name\":\"position\"},{\"default\":0,\"kind\":null,\"name\":\"_clear\"}]},{\"extends\":null,\"module\":null,\"name\":\"NotificationArea1\",\"overrides\":[],\"properties\":[{\"default\":[],\"kind\":null,\"name\":\"notifications\"},{\"default\":\"bottom-right\",\"kind\":null,\"name\":\"position\"},{\"default\":0,\"kind\":null,\"name\":\"_clear\"},{\"default\":[{\"background\":\"#ffc107\",\"icon\":{\"className\":\"fas fa-exclamation-triangle\",\"color\":\"white\",\"tagName\":\"i\"},\"type\":\"warning\"},{\"background\":\"#007bff\",\"icon\":{\"className\":\"fas fa-info-circle\",\"color\":\"white\",\"tagName\":\"i\"},\"type\":\"info\"}],\"kind\":null,\"name\":\"types\"}]},{\"extends\":null,\"module\":null,\"name\":\"Notification\",\"overrides\":[],\"properties\":[{\"default\":null,\"kind\":null,\"name\":\"background\"},{\"default\":3000,\"kind\":null,\"name\":\"duration\"},{\"default\":null,\"kind\":null,\"name\":\"icon\"},{\"default\":\"\",\"kind\":null,\"name\":\"message\"},{\"default\":null,\"kind\":null,\"name\":\"notification_type\"},{\"default\":false,\"kind\":null,\"name\":\"_destroyed\"}]},{\"extends\":null,\"module\":null,\"name\":\"TemplateActions1\",\"overrides\":[],\"properties\":[{\"default\":0,\"kind\":null,\"name\":\"open_modal\"},{\"default\":0,\"kind\":null,\"name\":\"close_modal\"}]},{\"extends\":null,\"module\":null,\"name\":\"MaterialTemplateActions1\",\"overrides\":[],\"properties\":[{\"default\":0,\"kind\":null,\"name\":\"open_modal\"},{\"default\":0,\"kind\":null,\"name\":\"close_modal\"}]}],\"roots\":{\"references\":[{\"attributes\":{},\"id\":\"3038\",\"type\":\"AllLabels\"},{\"attributes\":{\"margin\":[5,5,5,5],\"name\":\"HSpacer03879\",\"sizing_mode\":\"stretch_width\"},\"id\":\"3053\",\"type\":\"Spacer\"},{\"attributes\":{\"end\":298022.0,\"reset_end\":298022.0,\"reset_start\":0.0,\"tags\":[[[\"Open Int\",\"Open Int\",null]]]},\"id\":\"2994\",\"type\":\"Range1d\"},{\"attributes\":{},\"id\":\"3037\",\"type\":\"CategoricalTickFormatter\"},{\"attributes\":{\"coordinates\":null,\"group\":null,\"text\":\"Call\",\"text_color\":\"black\",\"text_font_size\":\"12pt\"},\"id\":\"2997\",\"type\":\"Title\"},{\"attributes\":{\"axis\":{\"id\":\"3005\"},\"coordinates\":null,\"grid_line_color\":null,\"group\":null,\"ticker\":null},\"id\":\"3007\",\"type\":\"Grid\"},{\"attributes\":{\"bottom_units\":\"screen\",\"coordinates\":null,\"fill_alpha\":0.5,\"fill_color\":\"lightgrey\",\"group\":null,\"left_units\":\"screen\",\"level\":\"overlay\",\"line_alpha\":1.0,\"line_color\":\"black\",\"line_dash\":[4,4],\"line_width\":2,\"right_units\":\"screen\",\"syncable\":false,\"top_units\":\"screen\"},\"id\":\"3017\",\"type\":\"BoxAnnotation\"},{\"attributes\":{\"factors\":[\"AAPL\",\"AMZN\",\"AXP\",\"BAC\",\"CCL\",\"CHPT\",\"DKNG\",\"F\",\"JPM\",\"LVS\",\"NFLX\",\"NIO\",\"NVDA\",\"PCG\",\"PYPL\",\"SBUX\",\"TSLA\",\"TWTR\",\"UBER\",\"XOM\"],\"tags\":[[[\"Symbol\",\"Symbol\",null]]]},\"id\":\"2993\",\"type\":\"FactorRange\"},{\"attributes\":{\"source\":{\"id\":\"3026\"}},\"id\":\"3033\",\"type\":\"CDSView\"},{\"attributes\":{\"axis\":{\"id\":\"3008\"},\"coordinates\":null,\"dimension\":1,\"grid_line_color\":null,\"group\":null,\"ticker\":null},\"id\":\"3011\",\"type\":\"Grid\"},{\"attributes\":{},\"id\":\"3001\",\"type\":\"CategoricalScale\"},{\"attributes\":{\"bottom\":{\"field\":\"bottom\"},\"fill_alpha\":{\"value\":1.0},\"fill_color\":{\"field\":\"Strike\",\"transform\":{\"id\":\"3025\"}},\"hatch_alpha\":{\"value\":1.0},\"hatch_color\":{\"field\":\"Strike\",\"transform\":{\"id\":\"3025\"}},\"hatch_scale\":{\"value\":12.0},\"hatch_weight\":{\"value\":1.0},\"line_alpha\":{\"value\":1.0},\"line_cap\":{\"value\":\"butt\"},\"line_color\":{\"value\":\"black\"},\"line_dash\":{\"value\":[]},\"line_dash_offset\":{\"value\":0},\"line_join\":{\"value\":\"bevel\"},\"line_width\":{\"value\":1},\"top\":{\"field\":\"top\"},\"width\":{\"value\":0.8},\"x\":{\"field\":\"Symbol\"}},\"id\":\"3034\",\"type\":\"VBar\"},{\"attributes\":{},\"id\":\"3006\",\"type\":\"CategoricalTicker\"},{\"attributes\":{\"overlay\":{\"id\":\"3017\"}},\"id\":\"3015\",\"type\":\"BoxZoomTool\"},{\"attributes\":{},\"id\":\"3009\",\"type\":\"BasicTicker\"},{\"attributes\":{\"margin\":[5,5,5,5],\"name\":\"HSpacer03878\",\"sizing_mode\":\"stretch_width\"},\"id\":\"2992\",\"type\":\"Spacer\"},{\"attributes\":{},\"id\":\"3013\",\"type\":\"PanTool\"},{\"attributes\":{},\"id\":\"3050\",\"type\":\"UnionRenderers\"},{\"attributes\":{\"callback\":null,\"renderers\":[{\"id\":\"3032\"}],\"tags\":[\"hv_created\"],\"tooltips\":[[\"Symbol\",\"@{Symbol}\"],[\"Strike\",\"@{Strike}\"],[\"Open Int\",\"@{Open_Int}\"]]},\"id\":\"2995\",\"type\":\"HoverTool\"},{\"attributes\":{\"axis_label\":\"Open Int\",\"coordinates\":null,\"formatter\":{\"id\":\"3035\"},\"group\":null,\"major_label_policy\":{\"id\":\"3041\"},\"ticker\":{\"id\":\"3009\"}},\"id\":\"3008\",\"type\":\"LinearAxis\"},{\"attributes\":{\"children\":[{\"id\":\"2992\"},{\"id\":\"2996\"},{\"id\":\"3053\"}],\"margin\":[0,0,0,0],\"name\":\"Row03874\",\"tags\":[\"embedded\"]},\"id\":\"2991\",\"type\":\"Row\"},{\"attributes\":{},\"id\":\"3014\",\"type\":\"WheelZoomTool\"},{\"attributes\":{\"below\":[{\"id\":\"3005\"}],\"center\":[{\"id\":\"3007\"},{\"id\":\"3011\"}],\"height\":800,\"left\":[{\"id\":\"3008\"}],\"margin\":[5,5,5,5],\"min_border_bottom\":10,\"min_border_left\":10,\"min_border_right\":10,\"min_border_top\":10,\"renderers\":[{\"id\":\"3032\"}],\"sizing_mode\":\"fixed\",\"title\":{\"id\":\"2997\"},\"toolbar\":{\"id\":\"3018\"},\"width\":1000,\"x_range\":{\"id\":\"2993\"},\"x_scale\":{\"id\":\"3001\"},\"y_range\":{\"id\":\"2994\"},\"y_scale\":{\"id\":\"3003\"}},\"id\":\"2996\",\"subtype\":\"Figure\",\"type\":\"Plot\"},{\"attributes\":{\"format\":\"%.0f\"},\"id\":\"3035\",\"type\":\"PrintfTickFormatter\"},{\"attributes\":{},\"id\":\"3003\",\"type\":\"LinearScale\"},{\"attributes\":{},\"id\":\"3027\",\"type\":\"Selection\"},{\"attributes\":{\"axis_label\":\"Symbol\",\"coordinates\":null,\"formatter\":{\"id\":\"3037\"},\"group\":null,\"major_label_orientation\":1.5707963267948966,\"major_label_policy\":{\"id\":\"3038\"},\"ticker\":{\"id\":\"3006\"}},\"id\":\"3005\",\"type\":\"CategoricalAxis\"},{\"attributes\":{\"tools\":[{\"id\":\"2995\"},{\"id\":\"3012\"},{\"id\":\"3013\"},{\"id\":\"3014\"},{\"id\":\"3015\"},{\"id\":\"3016\"}]},\"id\":\"3018\",\"type\":\"Toolbar\"},{\"attributes\":{\"bottom\":{\"field\":\"bottom\"},\"fill_alpha\":{\"value\":0.2},\"fill_color\":{\"field\":\"Strike\",\"transform\":{\"id\":\"3025\"}},\"hatch_alpha\":{\"value\":0.2},\"hatch_color\":{\"field\":\"Strike\",\"transform\":{\"id\":\"3025\"}},\"line_alpha\":{\"value\":0.2},\"top\":{\"field\":\"top\"},\"width\":{\"value\":0.8},\"x\":{\"field\":\"Symbol\"}},\"id\":\"3031\",\"type\":\"VBar\"},{\"attributes\":{\"bottom\":{\"field\":\"bottom\"},\"fill_color\":{\"field\":\"Strike\",\"transform\":{\"id\":\"3025\"}},\"hatch_color\":{\"field\":\"Strike\",\"transform\":{\"id\":\"3025\"}},\"top\":{\"field\":\"top\"},\"width\":{\"value\":0.8},\"x\":{\"field\":\"Symbol\"}},\"id\":\"3029\",\"type\":\"VBar\"},{\"attributes\":{\"bottom\":{\"field\":\"bottom\"},\"fill_alpha\":{\"value\":0.1},\"fill_color\":{\"field\":\"Strike\",\"transform\":{\"id\":\"3025\"}},\"hatch_alpha\":{\"value\":0.1},\"hatch_color\":{\"field\":\"Strike\",\"transform\":{\"id\":\"3025\"}},\"line_alpha\":{\"value\":0.1},\"top\":{\"field\":\"top\"},\"width\":{\"value\":0.8},\"x\":{\"field\":\"Symbol\"}},\"id\":\"3030\",\"type\":\"VBar\"},{\"attributes\":{\"factors\":[\"125\",\"130\",\"135\",\"140\",\"145\",\"150\",\"70\",\"115\",\"117\",\"120\",\"123\",\"32\",\"33\",\"33.5\",\"34\",\"10\",\"10.5\",\"16\",\"17\",\"17.5\",\"18\",\"18.5\",\"12\",\"13\",\"14\",\"14.5\",\"110\",\"116\",\"38\",\"225\",\"227.5\",\"230\",\"235\",\"237.5\",\"240\",\"19\",\"19.5\",\"20\",\"128\",\"129\",\"131\",\"132\",\"90\",\"92.5\",\"94\",\"87.5\",\"88\",\"91\",\"166.67\",\"203.33\",\"250\",\"260\",\"266.67\",\"270\",\"275\",\"276.67\",\"280\",\"283.33\",\"285\",\"286.67\",\"288.33\",\"290\",\"290.83\",\"291.67\",\"292.5\",\"293.33\",\"294.17\",\"295\",\"295.83\",\"296.67\",\"298.33\",\"300\",\"301.67\",\"40\",\"41\",\"30\",\"31\",\"31.5\"],\"palette\":[\"#259646\",\"#259646\",\"#259646\",\"#259646\",\"#259646\",\"#259646\",\"#259646\",\"#259646\",\"#259646\",\"#259646\",\"#259646\",\"#259646\",\"#259646\",\"#259646\",\"#259646\",\"#259646\",\"#259646\",\"#259646\",\"#259646\",\"#259646\",\"#259646\",\"#259646\",\"#259646\",\"#259646\",\"#259646\",\"#259646\",\"#259646\",\"#259646\",\"#259646\",\"#259646\",\"#259646\",\"#259646\",\"#259646\",\"#259646\",\"#259646\",\"#259646\",\"#259646\",\"#259646\",\"#259646\",\"#259646\",\"#259646\",\"#259646\",\"#259646\",\"#259646\",\"#259646\",\"#259646\",\"#259646\",\"#259646\",\"#259646\",\"#259646\",\"#259646\",\"#259646\",\"#259646\",\"#259646\",\"#259646\",\"#259646\",\"#259646\",\"#259646\",\"#259646\",\"#259646\",\"#259646\",\"#259646\",\"#259646\",\"#259646\",\"#259646\",\"#259646\",\"#259646\",\"#259646\",\"#259646\",\"#259646\",\"#259646\",\"#259646\",\"#259646\",\"#259646\",\"#259646\",\"#259646\",\"#259646\",\"#259646\"]},\"id\":\"3025\",\"type\":\"CategoricalColorMapper\"},{\"attributes\":{},\"id\":\"3012\",\"type\":\"SaveTool\"},{\"attributes\":{\"data\":{\"Open_Int\":{\"__ndarray__\":\"AAAAAECS1EAAAAAAAEifQAAAAAAAfbVAAAAAAAAEykAAAAAAANK9QAAAAAAA+dNAAAAAAABEzEAAAAAAABThQAAAAACAFs1AAAAAAADAbUAAAAAAADLIQAAAAACAuN5AAAAAAACmpkAAAAAAAAKlQAAAAAAQhvRAAAAAAADHsUAAAAAAACrBQAAAAACAZcVAAAAAAAD4okAAAAAAAOTSQAAAAAAgEeNAAAAAAACFuUAAAAAAABG0QAAAAAAAkJBAAAAAAICxxEAAAAAAAP3DQAAAAAAAYcdAAAAAAADUp0AAAAAAAOSxQAAAAACAEclAAAAAAMD22EAAAAAAgDraQAAAAADArNxAAAAAAABGokAAAAAAADWyQAAAAAAAQIhAAAAAAAD90UAAAAAAgGrIQAAAAAAAIJFAAAAAAABIqUAAAAAAAKK8QAAAAAAAsJtAAAAAAAC3t0AAAAAAAJKtQAAAAAAAVqNAAAAAAADD0UAAAAAAACSRQAAAAAAA8JZAAAAAAADwpkAAAAAAABqxQAAAAAAAAMNAAAAAAACwxkAAAAAAAJjPQAAAAACAj9RAAAAAAABqpUAAAAAAALiSQAAAAAAAL8xAAAAAAADypUAAAAAAAMCsQAAAAACgPuNAAAAAAAACqEAAAAAAADnhQAAAAAAAus1AAAAAAGBH4UAAAAAAgAnDQAAAAAAAeK5AAAAAAAAut0AAAAAAANy8QAAAAACAXMpAAAAAAABIt0AAAAAAADSzQAAAAAAApJ9AAAAAAABkwEAAAAAAALalQAAAAAAALqBAAAAAAAAIpkAAAAAAAKW4QAAAAAAAvqNAAAAAAIC+xEAAAAAAABqnQAAAAAAAqqtAAAAAAABsskAAAAAAwLLgQAAAAAAAysJAAAAAAEBj2UAAAAAAAP7OQAAAAAAAwdVAAAAAAAD5uEAAAAAAANy4QA==\",\"dtype\":\"float64\",\"order\":\"little\",\"shape\":[89]},\"Strike\":[\"125\",\"125\",\"130\",\"130\",\"135\",\"140\",\"145\",\"150\",\"150\",\"70\",\"115\",\"115\",\"117\",\"117\",\"120\",\"123\",\"32\",\"33\",\"33.5\",\"34\",\"10\",\"10.5\",\"16\",\"17\",\"17\",\"17.5\",\"18\",\"18\",\"18.5\",\"12\",\"13\",\"13\",\"14\",\"14.5\",\"110\",\"116\",\"38\",\"225\",\"227.5\",\"230\",\"235\",\"237.5\",\"240\",\"19\",\"19.5\",\"20\",\"128\",\"129\",\"131\",\"132\",\"90\",\"90\",\"90\",\"92.5\",\"92.5\",\"94\",\"87.5\",\"88\",\"91\",\"166.67\",\"203.33\",\"250\",\"260\",\"266.67\",\"270\",\"275\",\"276.67\",\"280\",\"283.33\",\"285\",\"286.67\",\"288.33\",\"290\",\"290.83\",\"291.67\",\"292.5\",\"293.33\",\"294.17\",\"295\",\"295.83\",\"296.67\",\"298.33\",\"300\",\"301.67\",\"40\",\"41\",\"30\",\"31\",\"31.5\"],\"Symbol\":[\"AAPL\",\"NVDA\",\"NVDA\",\"AAPL\",\"AAPL\",\"AAPL\",\"AAPL\",\"AAPL\",\"AXP\",\"AMZN\",\"JPM\",\"AMZN\",\"JPM\",\"AMZN\",\"AMZN\",\"AMZN\",\"BAC\",\"BAC\",\"BAC\",\"BAC\",\"CCL\",\"CCL\",\"CHPT\",\"NIO\",\"CHPT\",\"DKNG\",\"DKNG\",\"NIO\",\"DKNG\",\"F\",\"F\",\"PCG\",\"F\",\"F\",\"JPM\",\"JPM\",\"LVS\",\"NFLX\",\"NFLX\",\"NFLX\",\"NFLX\",\"NFLX\",\"NFLX\",\"NIO\",\"NIO\",\"NIO\",\"NVDA\",\"NVDA\",\"NVDA\",\"NVDA\",\"XOM\",\"PYPL\",\"SBUX\",\"XOM\",\"PYPL\",\"PYPL\",\"SBUX\",\"SBUX\",\"SBUX\",\"TSLA\",\"TSLA\",\"TSLA\",\"TSLA\",\"TSLA\",\"TSLA\",\"TSLA\",\"TSLA\",\"TSLA\",\"TSLA\",\"TSLA\",\"TSLA\",\"TSLA\",\"TSLA\",\"TSLA\",\"TSLA\",\"TSLA\",\"TSLA\",\"TSLA\",\"TSLA\",\"TSLA\",\"TSLA\",\"TSLA\",\"TSLA\",\"TSLA\",\"TWTR\",\"TWTR\",\"UBER\",\"UBER\",\"UBER\"],\"bottom\":{\"__ndarray__\":\"AAAAAAAAAAAAAAAAAAAAAAAAAAAASJ9AAAAAAECS1EAAAAAAIMrgQAAAAABghORAAAAAAOCA7kAAAAAA8MjyQAAAAAAAAAAAAAAAAAAAAAAAAAAAAAAAAAAAAAAAwG1AAAAAAAAyyEAAAAAAAPTeQAAAAAAgyuBAAAAAACDr/EAAAAAAAAAAAAAAAAAAKsFAAAAAAMBH00AAAAAAwKbVQAAAAAAAAAAAAAAAACAR40AAAAAAAAAAAAAAAAAAAAAAAAAAAAARtEAAAAAAAAAAAAAAAAAA/cNAAAAAAACQkEAAAAAAAK/VQAAAAAAAAAAAAAAAAIARyUAAAAAAAAAAAAAAAADAv+JAAAAAABCL8EAAAAAAgNvNQAAAAAAAe9NAAAAAAAAAAAAAAAAAAAAAAAAAAACAashAAAAAAICOykAAAAAAQHDQQAAAAADAmNdAAAAAAMBT2UAAAAAAAA6wQAAAAAAA175AAAAAAABBxEAAAAAAAE+9QAAAAAAAzMBAAAAAAACqw0AAAAAAAGbJQAAAAAAAAAAAAAAAAAAAAAAAAAAAAAAAAAAAAAAAAMNAAAAAAACwxkAAAAAAgArMQAAAAAAAmM9AAAAAAIDj3UAAAAAA4FDgQAAAAAAAAAAAAAAAAKA+40AAAAAAwL7kQAAAAADg+/JAAAAAACCz9kAAAAAA0Fb/QAAAAAAA3ABBAAAAAOBVAUEAAAAAUA8CQQAAAAAw9gJBAAAAAPibBEEAAAAAOFYFQQAAAADY7wVBAAAAACAvBkEAAAAAYDUHQQAAAAA4jAdBAAAAAPDMB0EAAAAAECUIQQAAAAA46ghBAAAAADA5CUEAAAAAGIUKQQAAAACA4QpBAAAAAChQC0EAAAAAiOMLQQAAAAAcCBBBAAAAAAAAAAAAAAAAQGPZQAAAAAAAAAAAAAAAAADB1UAAAAAAQP/bQA==\",\"dtype\":\"float64\",\"order\":\"little\",\"shape\":[89]},\"top\":{\"__ndarray__\":\"AAAAAECS1EAAAAAAAEifQAAAAAAAT71AAAAAACDK4EAAAAAAYITkQAAAAADggO5AAAAAAPDI8kAAAAAA8FL7QAAAAACAFs1AAAAAAADAbUAAAAAAADLIQAAAAAAA9N5AAAAAAIDbzUAAAAAAIMrgQAAAAAAg6/xAAAAAAJAH/kAAAAAAACrBQAAAAADAR9NAAAAAAMCm1UAAAAAAYEXkQAAAAAAgEeNAAAAAAMBB5kAAAAAAABG0QAAAAAAAkJBAAAAAAAC6zkAAAAAAAP3DQAAAAAAAr9VAAAAAAAAOsEAAAAAAACjaQAAAAACAEclAAAAAAMC/4kAAAAAAgDraQAAAAAAQi/BAAAAAAEAd8UAAAAAAAHvTQAAAAAAAPdRAAAAAAAD90UAAAAAAgGrIQAAAAACAjspAAAAAAEBw0EAAAAAAwJjXQAAAAADAU9lAAAAAAIBB30AAAAAAANe+QAAAAAAAQcRAAAAAAIDj20AAAAAAAMzAQAAAAAAAqsNAAAAAAABmyUAAAAAAgPnQQAAAAAAAAMNAAAAAAACwxkAAAAAAAJjPQAAAAACAD95AAAAAAIAKzEAAAAAAgGHOQAAAAACA491AAAAAAOBQ4EAAAAAA4BziQAAAAACgPuNAAAAAAMC+5EAAAAAA4PvyQAAAAAAgs/ZAAAAAANBW/0AAAAAAANwAQQAAAADgVQFBAAAAAFAPAkEAAAAAMPYCQQAAAAD4mwRBAAAAADhWBUEAAAAA2O8FQQAAAAAgLwZBAAAAAGA1B0EAAAAAOIwHQQAAAADwzAdBAAAAABAlCEEAAAAAOOoIQQAAAAAwOQlBAAAAABiFCkEAAAAAgOEKQQAAAAAoUAtBAAAAAIjjC0EAAAAAHAgQQQAAAABsnhBBAAAAAEBj2UAAAAAAIHHkQAAAAAAAwdVAAAAAAED/20AAAAAAIBvhQA==\",\"dtype\":\"float64\",\"order\":\"little\",\"shape\":[89]}},\"selected\":{\"id\":\"3027\"},\"selection_policy\":{\"id\":\"3050\"}},\"id\":\"3026\",\"type\":\"ColumnDataSource\"},{\"attributes\":{},\"id\":\"3016\",\"type\":\"ResetTool\"},{\"attributes\":{},\"id\":\"3041\",\"type\":\"AllLabels\"},{\"attributes\":{\"coordinates\":null,\"data_source\":{\"id\":\"3026\"},\"glyph\":{\"id\":\"3029\"},\"group\":null,\"hover_glyph\":null,\"muted_glyph\":{\"id\":\"3031\"},\"nonselection_glyph\":{\"id\":\"3030\"},\"selection_glyph\":{\"id\":\"3034\"},\"view\":{\"id\":\"3033\"}},\"id\":\"3032\",\"type\":\"GlyphRenderer\"}],\"root_ids\":[\"2991\"]},\"title\":\"Bokeh Application\",\"version\":\"2.4.3\"}};\n",
       "    var render_items = [{\"docid\":\"00538f2c-1a22-4912-9d33-efc569a17238\",\"root_ids\":[\"2991\"],\"roots\":{\"2991\":\"07f89c57-1e34-46ba-9047-a33b6acf7d62\"}}];\n",
       "    root.Bokeh.embed.embed_items_notebook(docs_json, render_items);\n",
       "  }\n",
       "  if (root.Bokeh !== undefined && root.Bokeh.Panel !== undefined) {\n",
       "    embed_document(root);\n",
       "  } else {\n",
       "    var attempts = 0;\n",
       "    var timer = setInterval(function(root) {\n",
       "      if (root.Bokeh !== undefined && root.Bokeh.Panel !== undefined) {\n",
       "        clearInterval(timer);\n",
       "        embed_document(root);\n",
       "      } else if (document.readyState == \"complete\") {\n",
       "        attempts++;\n",
       "        if (attempts > 200) {\n",
       "          clearInterval(timer);\n",
       "          console.log(\"Bokeh: ERROR: Unable to run BokehJS code because BokehJS library is missing\");\n",
       "        }\n",
       "      }\n",
       "    }, 25, root)\n",
       "  }\n",
       "})(window);</script>"
      ],
      "text/plain": [
       ":Bars   [Symbol,Strike]   (Open Int)"
      ]
     },
     "metadata": {
      "application/vnd.holoviews_exec.v0+json": {
       "id": "2991"
      }
     },
     "output_type": "display_data"
    },
    {
     "data": {},
     "metadata": {},
     "output_type": "display_data"
    },
    {
     "data": {
      "application/vnd.holoviews_exec.v0+json": "",
      "text/html": [
       "<div id='3100'>\n",
       "  <div class=\"bk-root\" id=\"16931ba4-1807-4433-8a01-7362bf93a694\" data-root-id=\"3100\"></div>\n",
       "</div>\n",
       "<script type=\"application/javascript\">(function(root) {\n",
       "  function embed_document(root) {\n",
       "    var docs_json = {\"d0ea229f-8b8b-403e-b856-bbc7f980a1c7\":{\"defs\":[{\"extends\":null,\"module\":null,\"name\":\"ReactiveHTML1\",\"overrides\":[],\"properties\":[]},{\"extends\":null,\"module\":null,\"name\":\"FlexBox1\",\"overrides\":[],\"properties\":[{\"default\":\"flex-start\",\"kind\":null,\"name\":\"align_content\"},{\"default\":\"flex-start\",\"kind\":null,\"name\":\"align_items\"},{\"default\":\"row\",\"kind\":null,\"name\":\"flex_direction\"},{\"default\":\"wrap\",\"kind\":null,\"name\":\"flex_wrap\"},{\"default\":\"flex-start\",\"kind\":null,\"name\":\"justify_content\"}]},{\"extends\":null,\"module\":null,\"name\":\"GridStack1\",\"overrides\":[],\"properties\":[{\"default\":\"warn\",\"kind\":null,\"name\":\"mode\"},{\"default\":null,\"kind\":null,\"name\":\"ncols\"},{\"default\":null,\"kind\":null,\"name\":\"nrows\"},{\"default\":true,\"kind\":null,\"name\":\"allow_resize\"},{\"default\":true,\"kind\":null,\"name\":\"allow_drag\"},{\"default\":[],\"kind\":null,\"name\":\"state\"}]},{\"extends\":null,\"module\":null,\"name\":\"click1\",\"overrides\":[],\"properties\":[{\"default\":\"\",\"kind\":null,\"name\":\"terminal_output\"},{\"default\":\"\",\"kind\":null,\"name\":\"debug_name\"},{\"default\":0,\"kind\":null,\"name\":\"clears\"}]},{\"extends\":null,\"module\":null,\"name\":\"NotificationAreaBase1\",\"overrides\":[],\"properties\":[{\"default\":\"bottom-right\",\"kind\":null,\"name\":\"position\"},{\"default\":0,\"kind\":null,\"name\":\"_clear\"}]},{\"extends\":null,\"module\":null,\"name\":\"NotificationArea1\",\"overrides\":[],\"properties\":[{\"default\":[],\"kind\":null,\"name\":\"notifications\"},{\"default\":\"bottom-right\",\"kind\":null,\"name\":\"position\"},{\"default\":0,\"kind\":null,\"name\":\"_clear\"},{\"default\":[{\"background\":\"#ffc107\",\"icon\":{\"className\":\"fas fa-exclamation-triangle\",\"color\":\"white\",\"tagName\":\"i\"},\"type\":\"warning\"},{\"background\":\"#007bff\",\"icon\":{\"className\":\"fas fa-info-circle\",\"color\":\"white\",\"tagName\":\"i\"},\"type\":\"info\"}],\"kind\":null,\"name\":\"types\"}]},{\"extends\":null,\"module\":null,\"name\":\"Notification\",\"overrides\":[],\"properties\":[{\"default\":null,\"kind\":null,\"name\":\"background\"},{\"default\":3000,\"kind\":null,\"name\":\"duration\"},{\"default\":null,\"kind\":null,\"name\":\"icon\"},{\"default\":\"\",\"kind\":null,\"name\":\"message\"},{\"default\":null,\"kind\":null,\"name\":\"notification_type\"},{\"default\":false,\"kind\":null,\"name\":\"_destroyed\"}]},{\"extends\":null,\"module\":null,\"name\":\"TemplateActions1\",\"overrides\":[],\"properties\":[{\"default\":0,\"kind\":null,\"name\":\"open_modal\"},{\"default\":0,\"kind\":null,\"name\":\"close_modal\"}]},{\"extends\":null,\"module\":null,\"name\":\"MaterialTemplateActions1\",\"overrides\":[],\"properties\":[{\"default\":0,\"kind\":null,\"name\":\"open_modal\"},{\"default\":0,\"kind\":null,\"name\":\"close_modal\"}]}],\"roots\":{\"references\":[{\"attributes\":{\"below\":[{\"id\":\"3114\"}],\"center\":[{\"id\":\"3116\"},{\"id\":\"3120\"}],\"height\":800,\"left\":[{\"id\":\"3117\"}],\"margin\":[5,5,5,5],\"min_border_bottom\":10,\"min_border_left\":10,\"min_border_right\":10,\"min_border_top\":10,\"renderers\":[{\"id\":\"3141\"}],\"sizing_mode\":\"fixed\",\"title\":{\"id\":\"3106\"},\"toolbar\":{\"id\":\"3127\"},\"width\":1000,\"x_range\":{\"id\":\"3102\"},\"x_scale\":{\"id\":\"3110\"},\"y_range\":{\"id\":\"3103\"},\"y_scale\":{\"id\":\"3112\"}},\"id\":\"3105\",\"subtype\":\"Figure\",\"type\":\"Plot\"},{\"attributes\":{\"factors\":[\"AAL\",\"AAPL\",\"AMD\",\"AMZN\",\"ATUS\",\"BABA\",\"BAC\",\"C\",\"F\",\"GOOG\",\"GOOGL\",\"INTC\",\"META\",\"MSFT\",\"NIO\",\"NVDA\",\"RBLX\",\"SNAP\",\"T\",\"TSLA\"],\"tags\":[[[\"Symbol\",\"Symbol\",null]]]},\"id\":\"3102\",\"type\":\"FactorRange\"},{\"attributes\":{\"axis_label\":\"Symbol\",\"coordinates\":null,\"formatter\":{\"id\":\"3146\"},\"group\":null,\"major_label_orientation\":1.5707963267948966,\"major_label_policy\":{\"id\":\"3147\"},\"ticker\":{\"id\":\"3115\"}},\"id\":\"3114\",\"type\":\"CategoricalAxis\"},{\"attributes\":{},\"id\":\"3115\",\"type\":\"CategoricalTicker\"},{\"attributes\":{\"data\":{\"Open_Int\":{\"__ndarray__\":\"AAAAAADPz0AAAAAAAESgQAAAAACApOdAAAAAAJB4/EAAAAAAAGTeQAAAAAAABrlAAAAAAGAW4UAAAAAAANLFQAAAAAAAurlAAAAAAMCV00AAAAAAQEXaQAAAAABAvONAAAAAAIBRxUAAAAAAAGffQAAAAAAgnetAAAAAAECM2UAAAAAAAHHfQAAAAAAA58BAAAAAAAB4r0AAAAAAAGCpQAAAAAAAc85AAAAAAAB51EAAAAAAQGPdQAAAAACAzdtAAAAAAADpvkAAAAAAAK/TQAAAAAAAOr1AAAAAAABRv0AAAAAAAN+3QAAAAAAA18BAAAAAAADUtUAAAAAAwJzfQAAAAAAAcbZAAAAAAADWtkAAAAAAAOCfQAAAAADA8tZAAAAAAABTuEAAAAAAAA6oQAAAAACA7MdAAAAAAMCw00AAAAAAgOXDQAAAAAAA6eZAAAAAAMAa30AAAAAAAGSeQAAAAAAAIKhAAAAAAAC4kkAAAAAAgBzTQAAAAAAA1bxAAAAAAMDN3EAAAAAAYIfhQAAAAABA3N9AAAAAAIApwkAAAAAASO0BQQAAAAAAsKdAAAAAAEBX0UAAAAAAQNLcQAAAAAAAJJNAAAAAAADonUAAAAAAAD6oQAAAAAAAc8tAAAAAAADepUAAAAAAwHvXQAAAAAAApbVAAAAAAIDTykAAAAAAAEW2QAAAAAAAH7FAAAAAAIAExkAAAAAAQP7UQAAAAAAAtr1AAAAAAID7w0AAAAAAAFWxQAAAAAAAw7pAAAAAAEBC0kAAAAAAALSiQAAAAAAAL89AAAAAAIC6zUAAAAAAgNPDQAAAAAAAIcVAAAAAAABgqkAAAAAAAMyqQAAAAAAAsrVAAAAAAICNwkAAAAAAAJquQAAAAAAA0JFAAAAAAAD6pEAAAAAAAGqjQAAAAAAAxcVAAAAAAAA0w0AAAAAAwFrVQAAAAACA+NRAAAAAAABomkAAAAAAwNHiQAAAAACA1sJAAAAAAIAtxEAAAAAAANi4QAAAAAAAnLJAAAAAAABYoEA=\",\"dtype\":\"float64\",\"order\":\"little\",\"shape\":[97]},\"Strike\":[\"14\",\"14.5\",\"15\",\"15\",\"152.5\",\"152.5\",\"155\",\"155\",\"157.5\",\"157.5\",\"160\",\"160\",\"162.5\",\"165\",\"165\",\"170\",\"170\",\"77.5\",\"78\",\"79\",\"80\",\"85\",\"90\",\"90\",\"124\",\"125\",\"126\",\"127\",\"127.5\",\"128\",\"129\",\"130\",\"131\",\"132\",\"132\",\"132.5\",\"133\",\"133\",\"135\",\"135\",\"140\",\"140\",\"9\",\"88\",\"89\",\"91\",\"95\",\"34.5\",\"35\",\"35\",\"50\",\"15.5\",\"16\",\"108\",\"110\",\"110\",\"103.25\",\"103.5\",\"104.5\",\"105\",\"106\",\"115\",\"29.5\",\"30\",\"30.5\",\"32\",\"150\",\"150\",\"245\",\"250\",\"252.5\",\"255\",\"260\",\"262.5\",\"270\",\"20.5\",\"21\",\"21.5\",\"22\",\"134\",\"145\",\"40\",\"40.5\",\"41\",\"42\",\"43\",\"45\",\"11.5\",\"12\",\"17\",\"17.5\",\"18\",\"303.33\",\"305\",\"306.67\",\"310\",\"313.33\"],\"Symbol\":[\"AAL\",\"AAL\",\"AAL\",\"F\",\"AAPL\",\"META\",\"AAPL\",\"META\",\"META\",\"AAPL\",\"META\",\"AAPL\",\"AAPL\",\"META\",\"AAPL\",\"META\",\"AAPL\",\"AMD\",\"AMD\",\"AMD\",\"AMD\",\"AMD\",\"AMD\",\"BABA\",\"AMZN\",\"AMZN\",\"AMZN\",\"AMZN\",\"AMZN\",\"AMZN\",\"AMZN\",\"AMZN\",\"AMZN\",\"AMZN\",\"NVDA\",\"AMZN\",\"AMZN\",\"NVDA\",\"NVDA\",\"AMZN\",\"NVDA\",\"AMZN\",\"ATUS\",\"BABA\",\"BABA\",\"BABA\",\"BABA\",\"BAC\",\"INTC\",\"BAC\",\"C\",\"F\",\"F\",\"GOOG\",\"GOOGL\",\"GOOG\",\"GOOGL\",\"GOOGL\",\"GOOGL\",\"GOOGL\",\"GOOGL\",\"GOOGL\",\"INTC\",\"INTC\",\"INTC\",\"INTC\",\"NVDA\",\"META\",\"MSFT\",\"MSFT\",\"MSFT\",\"MSFT\",\"MSFT\",\"MSFT\",\"MSFT\",\"NIO\",\"NIO\",\"NIO\",\"NIO\",\"NVDA\",\"NVDA\",\"RBLX\",\"RBLX\",\"RBLX\",\"RBLX\",\"RBLX\",\"RBLX\",\"SNAP\",\"SNAP\",\"T\",\"T\",\"T\",\"TSLA\",\"TSLA\",\"TSLA\",\"TSLA\",\"TSLA\"],\"bottom\":{\"__ndarray__\":\"AAAAAAAAAAAAAAAAAM/PQAAAAAAA8NFAAAAAAAAAAAAAAAAAAAAAAAAAAAAAAAAAAAAAAABk3kAAAAAAAAa5QAAAAACAKtFAAAAAADAk8EAAAAAAAJnXQAAAAACgCfVAAAAAAMDn/kAAAAAAIO/oQAAAAAD4yABBAAAAAFBR9EAAAAAAQLAHQQAAAAAAAAAAAAAAAADnwEAAAAAAAMXIQAAAAAAAHc9AAAAAAADI3kAAAAAAgKDpQAAAAAAAAAAAAAAAAAAAAAAAAAAAAOm+QAAAAABAadtAAAAAAOBb4UAAAAAAAEblQAAAAADgQehAAAAAAKB37EAAAAAAIDLvQAAAAABAgPdAAAAAAFDn+EAAAAAAAAAAAAAAAACwVPpAAAAAALAIAEEAAAAAAOCfQAAAAAAA/7NAAAAAAEjLAEEAAAAAAPbQQAAAAABgQQNBAAAAAAAAAAAAAAAAgM3bQAAAAADAs91AAAAAAOBb4EAAAAAAoPHgQAAAAAAAAAAAAAAAAAAAAAAAAAAAANW8QAAAAAAAAAAAAAAAAJB4/EAAAAAAwL3+QAAAAAAAAAAAAAAAAAAAAAAAAAAAALCnQAAAAABAV9FAAAAAAICJ0kAAAAAAAGjUQAAAAADAb9dAAAAAAKCU4kAAAAAAgPLjQAAAAADAzdxAAAAAAIAb4UAAAAAAYNDnQAAAAAAAmepAAAAAAMDo2kAAAAAAYLT6QAAAAAAAAAAAAAAAAAC2vUAAAAAAQGvRQAAAAACAwNVAAAAAAEBx3EAAAAAAwFnnQAAAAAAAhehAAAAAAAAAAAAAAAAAgLrNQAAAAAAAx9hAAAAAAMCr4UAAAAAAgPXiQAAAAABAouRAAAAAAAAAAAAAAAAAgI3CQAAAAAAANMpAAAAAAABuzEAAAAAAQNbQQAAAAACAQ9NAAAAAAAAAAAAAAAAAADTDQAAAAAAAAAAAAAAAAID41EAAAAAAAJ/WQAAAAAAAAAAAAAAAAIDWwkAAAAAAAILTQAAAAAAAuNlAAAAAAABf3kA=\",\"dtype\":\"float64\",\"order\":\"little\",\"shape\":[97]},\"top\":{\"__ndarray__\":\"AAAAAADPz0AAAAAAAPDRQAAAAABATvBAAAAAAJB4/EAAAAAAAGTeQAAAAAAABrlAAAAAADAk8EAAAAAAgCrRQAAAAAAAmddAAAAAAKAJ9UAAAAAAIO/oQAAAAADA5/5AAAAAAPjIAEEAAAAAUFH0QAAAAABAsAdBAAAAAGC0+kAAAAAAYJ4LQQAAAAAA58BAAAAAAADFyEAAAAAAAB3PQAAAAAAAyN5AAAAAAICg6UAAAAAAECn0QAAAAACAzdtAAAAAAADpvkAAAAAAQGnbQAAAAADgW+FAAAAAAABG5UAAAAAA4EHoQAAAAACgd+xAAAAAACAy70AAAAAAQID3QAAAAABQ5/hAAAAAALBU+kAAAAAAAOCfQAAAAACwCABBAAAAAEjLAEEAAAAAAP+zQAAAAAAA9tBAAAAAAGBBA0EAAAAAwOjaQAAAAACg+whBAAAAAMAa30AAAAAAwLPdQAAAAADgW+BAAAAAAKDx4EAAAAAA4H/qQAAAAAAA1bxAAAAAAMDN3EAAAAAAACLlQAAAAABA3N9AAAAAAMC9/kAAAAAAFKYQQQAAAAAAsKdAAAAAAEBX0UAAAAAAQMjfQAAAAACAidJAAAAAAABo1EAAAAAAwG/XQAAAAACglOJAAAAAAIDy40AAAAAAYLDvQAAAAACAG+FAAAAAAGDQ50AAAAAAAJnqQAAAAADgvOxAAAAAAID14kAAAAAA8PP/QAAAAAAAtr1AAAAAAEBr0UAAAAAAgMDVQAAAAABAcdxAAAAAAMBZ50AAAAAAAIXoQAAAAABgKPBAAAAAAIC6zUAAAAAAAMfYQAAAAADAq+FAAAAAAMBR40AAAAAAQKLkQAAAAACAWOdAAAAAAICNwkAAAAAAADTKQAAAAAAAbsxAAAAAAEDW0EAAAAAAgEPTQAAAAAAAJt5AAAAAAAA0w0AAAAAAwPTeQAAAAACA+NRAAAAAAACf1kAAAAAAQCHuQAAAAACA1sJAAAAAAACC00AAAAAAALjZQAAAAAAAX95AAAAAAAA14EA=\",\"dtype\":\"float64\",\"order\":\"little\",\"shape\":[97]}},\"selected\":{\"id\":\"3136\"},\"selection_policy\":{\"id\":\"3159\"}},\"id\":\"3135\",\"type\":\"ColumnDataSource\"},{\"attributes\":{\"factors\":[\"14\",\"14.5\",\"15\",\"152.5\",\"155\",\"157.5\",\"160\",\"162.5\",\"165\",\"170\",\"77.5\",\"78\",\"79\",\"80\",\"85\",\"90\",\"124\",\"125\",\"126\",\"127\",\"127.5\",\"128\",\"129\",\"130\",\"131\",\"132\",\"132.5\",\"133\",\"135\",\"140\",\"9\",\"88\",\"89\",\"91\",\"95\",\"34.5\",\"35\",\"50\",\"15.5\",\"16\",\"108\",\"110\",\"103.25\",\"103.5\",\"104.5\",\"105\",\"106\",\"115\",\"29.5\",\"30\",\"30.5\",\"32\",\"150\",\"245\",\"250\",\"252.5\",\"255\",\"260\",\"262.5\",\"270\",\"20.5\",\"21\",\"21.5\",\"22\",\"134\",\"145\",\"40\",\"40.5\",\"41\",\"42\",\"43\",\"45\",\"11.5\",\"12\",\"17\",\"17.5\",\"18\",\"303.33\",\"305\",\"306.67\",\"310\",\"313.33\"],\"palette\":[\"#C01234\",\"#C01234\",\"#C01234\",\"#C01234\",\"#C01234\",\"#C01234\",\"#C01234\",\"#C01234\",\"#C01234\",\"#C01234\",\"#C01234\",\"#C01234\",\"#C01234\",\"#C01234\",\"#C01234\",\"#C01234\",\"#C01234\",\"#C01234\",\"#C01234\",\"#C01234\",\"#C01234\",\"#C01234\",\"#C01234\",\"#C01234\",\"#C01234\",\"#C01234\",\"#C01234\",\"#C01234\",\"#C01234\",\"#C01234\",\"#C01234\",\"#C01234\",\"#C01234\",\"#C01234\",\"#C01234\",\"#C01234\",\"#C01234\",\"#C01234\",\"#C01234\",\"#C01234\",\"#C01234\",\"#C01234\",\"#C01234\",\"#C01234\",\"#C01234\",\"#C01234\",\"#C01234\",\"#C01234\",\"#C01234\",\"#C01234\",\"#C01234\",\"#C01234\",\"#C01234\",\"#C01234\",\"#C01234\",\"#C01234\",\"#C01234\",\"#C01234\",\"#C01234\",\"#C01234\",\"#C01234\",\"#C01234\",\"#C01234\",\"#C01234\",\"#C01234\",\"#C01234\",\"#C01234\",\"#C01234\",\"#C01234\",\"#C01234\",\"#C01234\",\"#C01234\",\"#C01234\",\"#C01234\",\"#C01234\",\"#C01234\",\"#C01234\",\"#C01234\",\"#C01234\",\"#C01234\",\"#C01234\",\"#C01234\"]},\"id\":\"3134\",\"type\":\"CategoricalColorMapper\"},{\"attributes\":{\"bottom\":{\"field\":\"bottom\"},\"fill_alpha\":{\"value\":0.2},\"fill_color\":{\"field\":\"Strike\",\"transform\":{\"id\":\"3134\"}},\"hatch_alpha\":{\"value\":0.2},\"hatch_color\":{\"field\":\"Strike\",\"transform\":{\"id\":\"3134\"}},\"line_alpha\":{\"value\":0.2},\"top\":{\"field\":\"top\"},\"width\":{\"value\":0.8},\"x\":{\"field\":\"Symbol\"}},\"id\":\"3140\",\"type\":\"VBar\"},{\"attributes\":{\"children\":[{\"id\":\"3101\"},{\"id\":\"3105\"},{\"id\":\"3162\"}],\"margin\":[0,0,0,0],\"name\":\"Row04006\",\"tags\":[\"embedded\"]},\"id\":\"3100\",\"type\":\"Row\"},{\"attributes\":{\"bottom\":{\"field\":\"bottom\"},\"fill_alpha\":{\"value\":0.1},\"fill_color\":{\"field\":\"Strike\",\"transform\":{\"id\":\"3134\"}},\"hatch_alpha\":{\"value\":0.1},\"hatch_color\":{\"field\":\"Strike\",\"transform\":{\"id\":\"3134\"}},\"line_alpha\":{\"value\":0.1},\"top\":{\"field\":\"top\"},\"width\":{\"value\":0.8},\"x\":{\"field\":\"Symbol\"}},\"id\":\"3139\",\"type\":\"VBar\"},{\"attributes\":{},\"id\":\"3123\",\"type\":\"WheelZoomTool\"},{\"attributes\":{},\"id\":\"3122\",\"type\":\"PanTool\"},{\"attributes\":{\"format\":\"%.0f\"},\"id\":\"3144\",\"type\":\"PrintfTickFormatter\"},{\"attributes\":{},\"id\":\"3136\",\"type\":\"Selection\"},{\"attributes\":{\"margin\":[5,5,5,5],\"name\":\"HSpacer04011\",\"sizing_mode\":\"stretch_width\"},\"id\":\"3162\",\"type\":\"Spacer\"},{\"attributes\":{\"margin\":[5,5,5,5],\"name\":\"HSpacer04010\",\"sizing_mode\":\"stretch_width\"},\"id\":\"3101\",\"type\":\"Spacer\"},{\"attributes\":{\"end\":296963.1,\"reset_end\":296963.1,\"reset_start\":0.0,\"tags\":[[[\"Open Int\",\"Open Int\",null]]]},\"id\":\"3103\",\"type\":\"Range1d\"},{\"attributes\":{\"axis_label\":\"Open Int\",\"coordinates\":null,\"formatter\":{\"id\":\"3144\"},\"group\":null,\"major_label_policy\":{\"id\":\"3150\"},\"ticker\":{\"id\":\"3118\"}},\"id\":\"3117\",\"type\":\"LinearAxis\"},{\"attributes\":{\"callback\":null,\"renderers\":[{\"id\":\"3141\"}],\"tags\":[\"hv_created\"],\"tooltips\":[[\"Symbol\",\"@{Symbol}\"],[\"Strike\",\"@{Strike}\"],[\"Open Int\",\"@{Open_Int}\"]]},\"id\":\"3104\",\"type\":\"HoverTool\"},{\"attributes\":{\"coordinates\":null,\"data_source\":{\"id\":\"3135\"},\"glyph\":{\"id\":\"3138\"},\"group\":null,\"hover_glyph\":null,\"muted_glyph\":{\"id\":\"3140\"},\"nonselection_glyph\":{\"id\":\"3139\"},\"selection_glyph\":{\"id\":\"3143\"},\"view\":{\"id\":\"3142\"}},\"id\":\"3141\",\"type\":\"GlyphRenderer\"},{\"attributes\":{\"bottom\":{\"field\":\"bottom\"},\"fill_color\":{\"field\":\"Strike\",\"transform\":{\"id\":\"3134\"}},\"hatch_color\":{\"field\":\"Strike\",\"transform\":{\"id\":\"3134\"}},\"top\":{\"field\":\"top\"},\"width\":{\"value\":0.8},\"x\":{\"field\":\"Symbol\"}},\"id\":\"3138\",\"type\":\"VBar\"},{\"attributes\":{\"axis\":{\"id\":\"3114\"},\"coordinates\":null,\"grid_line_color\":null,\"group\":null,\"ticker\":null},\"id\":\"3116\",\"type\":\"Grid\"},{\"attributes\":{\"source\":{\"id\":\"3135\"}},\"id\":\"3142\",\"type\":\"CDSView\"},{\"attributes\":{\"bottom_units\":\"screen\",\"coordinates\":null,\"fill_alpha\":0.5,\"fill_color\":\"lightgrey\",\"group\":null,\"left_units\":\"screen\",\"level\":\"overlay\",\"line_alpha\":1.0,\"line_color\":\"black\",\"line_dash\":[4,4],\"line_width\":2,\"right_units\":\"screen\",\"syncable\":false,\"top_units\":\"screen\"},\"id\":\"3126\",\"type\":\"BoxAnnotation\"},{\"attributes\":{},\"id\":\"3147\",\"type\":\"AllLabels\"},{\"attributes\":{},\"id\":\"3112\",\"type\":\"LinearScale\"},{\"attributes\":{},\"id\":\"3125\",\"type\":\"ResetTool\"},{\"attributes\":{\"tools\":[{\"id\":\"3104\"},{\"id\":\"3121\"},{\"id\":\"3122\"},{\"id\":\"3123\"},{\"id\":\"3124\"},{\"id\":\"3125\"}]},\"id\":\"3127\",\"type\":\"Toolbar\"},{\"attributes\":{\"axis\":{\"id\":\"3117\"},\"coordinates\":null,\"dimension\":1,\"grid_line_color\":null,\"group\":null,\"ticker\":null},\"id\":\"3120\",\"type\":\"Grid\"},{\"attributes\":{},\"id\":\"3110\",\"type\":\"CategoricalScale\"},{\"attributes\":{\"overlay\":{\"id\":\"3126\"}},\"id\":\"3124\",\"type\":\"BoxZoomTool\"},{\"attributes\":{},\"id\":\"3150\",\"type\":\"AllLabels\"},{\"attributes\":{},\"id\":\"3159\",\"type\":\"UnionRenderers\"},{\"attributes\":{},\"id\":\"3118\",\"type\":\"BasicTicker\"},{\"attributes\":{\"coordinates\":null,\"group\":null,\"text\":\"Puts\",\"text_color\":\"black\",\"text_font_size\":\"12pt\"},\"id\":\"3106\",\"type\":\"Title\"},{\"attributes\":{},\"id\":\"3121\",\"type\":\"SaveTool\"},{\"attributes\":{},\"id\":\"3146\",\"type\":\"CategoricalTickFormatter\"},{\"attributes\":{\"bottom\":{\"field\":\"bottom\"},\"fill_alpha\":{\"value\":1.0},\"fill_color\":{\"field\":\"Strike\",\"transform\":{\"id\":\"3134\"}},\"hatch_alpha\":{\"value\":1.0},\"hatch_color\":{\"field\":\"Strike\",\"transform\":{\"id\":\"3134\"}},\"hatch_scale\":{\"value\":12.0},\"hatch_weight\":{\"value\":1.0},\"line_alpha\":{\"value\":1.0},\"line_cap\":{\"value\":\"butt\"},\"line_color\":{\"value\":\"black\"},\"line_dash\":{\"value\":[]},\"line_dash_offset\":{\"value\":0},\"line_join\":{\"value\":\"bevel\"},\"line_width\":{\"value\":1},\"top\":{\"field\":\"top\"},\"width\":{\"value\":0.8},\"x\":{\"field\":\"Symbol\"}},\"id\":\"3143\",\"type\":\"VBar\"}],\"root_ids\":[\"3100\"]},\"title\":\"Bokeh Application\",\"version\":\"2.4.3\"}};\n",
       "    var render_items = [{\"docid\":\"d0ea229f-8b8b-403e-b856-bbc7f980a1c7\",\"root_ids\":[\"3100\"],\"roots\":{\"3100\":\"16931ba4-1807-4433-8a01-7362bf93a694\"}}];\n",
       "    root.Bokeh.embed.embed_items_notebook(docs_json, render_items);\n",
       "  }\n",
       "  if (root.Bokeh !== undefined && root.Bokeh.Panel !== undefined) {\n",
       "    embed_document(root);\n",
       "  } else {\n",
       "    var attempts = 0;\n",
       "    var timer = setInterval(function(root) {\n",
       "      if (root.Bokeh !== undefined && root.Bokeh.Panel !== undefined) {\n",
       "        clearInterval(timer);\n",
       "        embed_document(root);\n",
       "      } else if (document.readyState == \"complete\") {\n",
       "        attempts++;\n",
       "        if (attempts > 200) {\n",
       "          clearInterval(timer);\n",
       "          console.log(\"Bokeh: ERROR: Unable to run BokehJS code because BokehJS library is missing\");\n",
       "        }\n",
       "      }\n",
       "    }, 25, root)\n",
       "  }\n",
       "})(window);</script>"
      ],
      "text/plain": [
       ":Bars   [Symbol,Strike]   (Open Int)"
      ]
     },
     "metadata": {
      "application/vnd.holoviews_exec.v0+json": {
       "id": "3100"
      }
     },
     "output_type": "display_data"
    },
    {
     "data": {
      "application/vnd.plotly.v1+json": {
       "config": {
        "plotlyServerURL": "https://plot.ly"
       },
       "data": [
        {
         "hovertemplate": "Symbol=%{x}<br>Strike=%{y}<br>Open Int=%{marker.size}<extra></extra>",
         "legendgroup": "AAL",
         "marker": {
          "color": "#636efa",
          "size": [
           8574,
           3984,
           16286,
           2082,
           48420
          ],
          "sizemode": "area",
          "sizeref": 367.1425,
          "symbol": "circle"
         },
         "mode": "markers",
         "name": "AAL",
         "scene": "scene",
         "showlegend": true,
         "type": "scatter3d",
         "x": [
          "AAL",
          "AAL",
          "AAL",
          "AAL",
          "AAL"
         ],
         "y": [
          13,
          13.5,
          14,
          14.5,
          15
         ],
         "z": [
          8574,
          3984,
          16286,
          2082,
          48420
         ]
        },
        {
         "hovertemplate": "Symbol=%{x}<br>Strike=%{y}<br>Open Int=%{marker.size}<extra></extra>",
         "legendgroup": "AAPL",
         "marker": {
          "color": "#EF553B",
          "size": [
           21065,
           13320,
           7634,
           20452,
           14472,
           34976,
           31120,
           34995,
           20055,
           40418,
           10915,
           56553,
           32196
          ],
          "sizemode": "area",
          "sizeref": 367.1425,
          "symbol": "circle"
         },
         "mode": "markers",
         "name": "AAPL",
         "scene": "scene",
         "showlegend": true,
         "type": "scatter3d",
         "x": [
          "AAPL",
          "AAPL",
          "AAPL",
          "AAPL",
          "AAPL",
          "AAPL",
          "AAPL",
          "AAPL",
          "AAPL",
          "AAPL",
          "AAPL",
          "AAPL",
          "AAPL"
         ],
         "y": [
          125,
          130,
          135,
          140,
          145,
          150,
          152.5,
          155,
          157.5,
          160,
          162.5,
          165,
          170
         ],
         "z": [
          21065,
          13320,
          7634,
          20452,
          14472,
          34976,
          31120,
          34995,
          20055,
          40418,
          10915,
          56553,
          32196
         ]
        },
        {
         "hovertemplate": "Symbol=%{x}<br>Strike=%{y}<br>Open Int=%{marker.size}<extra></extra>",
         "legendgroup": "ABBV",
         "marker": {
          "color": "#00cc96",
          "size": [
           8133,
           1944
          ],
          "sizemode": "area",
          "sizeref": 367.1425,
          "symbol": "circle"
         },
         "mode": "markers",
         "name": "ABBV",
         "scene": "scene",
         "showlegend": true,
         "type": "scatter3d",
         "x": [
          "ABBV",
          "ABBV"
         ],
         "y": [
          140,
          142
         ],
         "z": [
          8133,
          1944
         ]
        },
        {
         "hovertemplate": "Symbol=%{x}<br>Strike=%{y}<br>Open Int=%{marker.size}<extra></extra>",
         "legendgroup": "ABNB",
         "marker": {
          "color": "#ab63fa",
          "size": [
           400
          ],
          "sizemode": "area",
          "sizeref": 367.1425,
          "symbol": "circle"
         },
         "mode": "markers",
         "name": "ABNB",
         "scene": "scene",
         "showlegend": true,
         "type": "scatter3d",
         "x": [
          "ABNB"
         ],
         "y": [
          119
         ],
         "z": [
          400
         ]
        },
        {
         "hovertemplate": "Symbol=%{x}<br>Strike=%{y}<br>Open Int=%{marker.size}<extra></extra>",
         "legendgroup": "ACI",
         "marker": {
          "color": "#FFA15A",
          "size": [
           2654
          ],
          "sizemode": "area",
          "sizeref": 367.1425,
          "symbol": "circle"
         },
         "mode": "markers",
         "name": "ACI",
         "scene": "scene",
         "showlegend": true,
         "type": "scatter3d",
         "x": [
          "ACI"
         ],
         "y": [
          28
         ],
         "z": [
          2654
         ]
        },
        {
         "hovertemplate": "Symbol=%{x}<br>Strike=%{y}<br>Open Int=%{marker.size}<extra></extra>",
         "legendgroup": "ACN",
         "marker": {
          "color": "#19d3f3",
          "size": [
           585,
           1007
          ],
          "sizemode": "area",
          "sizeref": 367.1425,
          "symbol": "circle"
         },
         "mode": "markers",
         "name": "ACN",
         "scene": "scene",
         "showlegend": true,
         "type": "scatter3d",
         "x": [
          "ACN",
          "ACN"
         ],
         "y": [
          275,
          280
         ],
         "z": [
          585,
          1007
         ]
        },
        {
         "hovertemplate": "Symbol=%{x}<br>Strike=%{y}<br>Open Int=%{marker.size}<extra></extra>",
         "legendgroup": "ADBE",
         "marker": {
          "color": "#FF6692",
          "size": [
           2146,
           940
          ],
          "sizemode": "area",
          "sizeref": 367.1425,
          "symbol": "circle"
         },
         "mode": "markers",
         "name": "ADBE",
         "scene": "scene",
         "showlegend": true,
         "type": "scatter3d",
         "x": [
          "ADBE",
          "ADBE"
         ],
         "y": [
          300,
          305
         ],
         "z": [
          2146,
          940
         ]
        },
        {
         "hovertemplate": "Symbol=%{x}<br>Strike=%{y}<br>Open Int=%{marker.size}<extra></extra>",
         "legendgroup": "ADMA",
         "marker": {
          "color": "#B6E880",
          "size": [
           2487
          ],
          "sizemode": "area",
          "sizeref": 367.1425,
          "symbol": "circle"
         },
         "mode": "markers",
         "name": "ADMA",
         "scene": "scene",
         "showlegend": true,
         "type": "scatter3d",
         "x": [
          "ADMA"
         ],
         "y": [
          2.5
         ],
         "z": [
          2487
         ]
        },
        {
         "hovertemplate": "Symbol=%{x}<br>Strike=%{y}<br>Open Int=%{marker.size}<extra></extra>",
         "legendgroup": "AEO",
         "marker": {
          "color": "#FF97FF",
          "size": [
           1841
          ],
          "sizemode": "area",
          "sizeref": 367.1425,
          "symbol": "circle"
         },
         "mode": "markers",
         "name": "AEO",
         "scene": "scene",
         "showlegend": true,
         "type": "scatter3d",
         "x": [
          "AEO"
         ],
         "y": [
          11
         ],
         "z": [
          1841
         ]
        },
        {
         "hovertemplate": "Symbol=%{x}<br>Strike=%{y}<br>Open Int=%{marker.size}<extra></extra>",
         "legendgroup": "AFRM",
         "marker": {
          "color": "#FECB52",
          "size": [
           2754,
           1009,
           3551
          ],
          "sizemode": "area",
          "sizeref": 367.1425,
          "symbol": "circle"
         },
         "mode": "markers",
         "name": "AFRM",
         "scene": "scene",
         "showlegend": true,
         "type": "scatter3d",
         "x": [
          "AFRM",
          "AFRM",
          "AFRM"
         ],
         "y": [
          23,
          23.5,
          24
         ],
         "z": [
          2754,
          1009,
          3551
         ]
        },
        {
         "hovertemplate": "Symbol=%{x}<br>Strike=%{y}<br>Open Int=%{marker.size}<extra></extra>",
         "legendgroup": "AG",
         "marker": {
          "color": "#636efa",
          "size": [
           1680
          ],
          "sizemode": "area",
          "sizeref": 367.1425,
          "symbol": "circle"
         },
         "mode": "markers",
         "name": "AG",
         "scene": "scene",
         "showlegend": true,
         "type": "scatter3d",
         "x": [
          "AG"
         ],
         "y": [
          8
         ],
         "z": [
          1680
         ]
        },
        {
         "hovertemplate": "Symbol=%{x}<br>Strike=%{y}<br>Open Int=%{marker.size}<extra></extra>",
         "legendgroup": "AM",
         "marker": {
          "color": "#EF553B",
          "size": [
           4105
          ],
          "sizemode": "area",
          "sizeref": 367.1425,
          "symbol": "circle"
         },
         "mode": "markers",
         "name": "AM",
         "scene": "scene",
         "showlegend": true,
         "type": "scatter3d",
         "x": [
          "AM"
         ],
         "y": [
          10
         ],
         "z": [
          4105
         ]
        },
        {
         "hovertemplate": "Symbol=%{x}<br>Strike=%{y}<br>Open Int=%{marker.size}<extra></extra>",
         "legendgroup": "AMAT",
         "marker": {
          "color": "#00cc96",
          "size": [
           3906,
           1275
          ],
          "sizemode": "area",
          "sizeref": 367.1425,
          "symbol": "circle"
         },
         "mode": "markers",
         "name": "AMAT",
         "scene": "scene",
         "showlegend": true,
         "type": "scatter3d",
         "x": [
          "AMAT",
          "AMAT"
         ],
         "y": [
          90,
          93
         ],
         "z": [
          3906,
          1275
         ]
        },
        {
         "hovertemplate": "Symbol=%{x}<br>Strike=%{y}<br>Open Int=%{marker.size}<extra></extra>",
         "legendgroup": "AMC",
         "marker": {
          "color": "#ab63fa",
          "size": [
           1309,
           5402
          ],
          "sizemode": "area",
          "sizeref": 367.1425,
          "symbol": "circle"
         },
         "mode": "markers",
         "name": "AMC",
         "scene": "scene",
         "showlegend": true,
         "type": "scatter3d",
         "x": [
          "AMC",
          "AMC"
         ],
         "y": [
          8,
          10
         ],
         "z": [
          1309,
          5402
         ]
        },
        {
         "hovertemplate": "Symbol=%{x}<br>Strike=%{y}<br>Open Int=%{marker.size}<extra></extra>",
         "legendgroup": "AMD",
         "marker": {
          "color": "#FFA15A",
          "size": [
           4410,
           4426,
           8654,
           4028,
           3248,
           15590,
           20964,
           30093
          ],
          "sizemode": "area",
          "sizeref": 367.1425,
          "symbol": "circle"
         },
         "mode": "markers",
         "name": "AMD",
         "scene": "scene",
         "showlegend": true,
         "type": "scatter3d",
         "x": [
          "AMD",
          "AMD",
          "AMD",
          "AMD",
          "AMD",
          "AMD",
          "AMD",
          "AMD"
         ],
         "y": [
          75,
          76,
          77.5,
          78,
          79,
          80,
          85,
          90
         ],
         "z": [
          4410,
          4426,
          8654,
          4028,
          3248,
          15590,
          20964,
          30093
         ]
        },
        {
         "hovertemplate": "Symbol=%{x}<br>Strike=%{y}<br>Open Int=%{marker.size}<extra></extra>",
         "legendgroup": "AMLX",
         "marker": {
          "color": "#19d3f3",
          "size": [
           2006
          ],
          "sizemode": "area",
          "sizeref": 367.1425,
          "symbol": "circle"
         },
         "mode": "markers",
         "name": "AMLX",
         "scene": "scene",
         "showlegend": true,
         "type": "scatter3d",
         "x": [
          "AMLX"
         ],
         "y": [
          30
         ],
         "z": [
          2006
         ]
        },
        {
         "hovertemplate": "Symbol=%{x}<br>Strike=%{y}<br>Open Int=%{marker.size}<extra></extra>",
         "legendgroup": "AMRS",
         "marker": {
          "color": "#FF6692",
          "size": [
           2384
          ],
          "sizemode": "area",
          "sizeref": 367.1425,
          "symbol": "circle"
         },
         "mode": "markers",
         "name": "AMRS",
         "scene": "scene",
         "showlegend": true,
         "type": "scatter3d",
         "x": [
          "AMRS"
         ],
         "y": [
          3
         ],
         "z": [
          2384
         ]
        },
        {
         "hovertemplate": "Symbol=%{x}<br>Strike=%{y}<br>Open Int=%{marker.size}<extra></extra>",
         "legendgroup": "AMZN",
         "marker": {
          "color": "#B6E880",
          "size": [
           238,
           31458,
           2689,
           84065,
           4551,
           7913,
           20156,
           7482,
           8017,
           6111,
           8622,
           5588,
           32371,
           5745,
           5846,
           23499,
           6227,
           20163,
           46920
          ],
          "sizemode": "area",
          "sizeref": 367.1425,
          "symbol": "circle"
         },
         "mode": "markers",
         "name": "AMZN",
         "scene": "scene",
         "showlegend": true,
         "type": "scatter3d",
         "x": [
          "AMZN",
          "AMZN",
          "AMZN",
          "AMZN",
          "AMZN",
          "AMZN",
          "AMZN",
          "AMZN",
          "AMZN",
          "AMZN",
          "AMZN",
          "AMZN",
          "AMZN",
          "AMZN",
          "AMZN",
          "AMZN",
          "AMZN",
          "AMZN",
          "AMZN"
         ],
         "y": [
          70,
          115,
          117,
          120,
          123,
          124,
          125,
          126,
          127,
          127.5,
          128,
          129,
          130,
          131,
          132,
          132.5,
          133,
          135,
          140
         ],
         "z": [
          238,
          31458,
          2689,
          84065,
          4551,
          7913,
          20156,
          7482,
          8017,
          6111,
          8622,
          5588,
          32371,
          5745,
          5846,
          23499,
          6227,
          20163,
          46920
         ]
        },
        {
         "hovertemplate": "Symbol=%{x}<br>Strike=%{y}<br>Open Int=%{marker.size}<extra></extra>",
         "legendgroup": "APA",
         "marker": {
          "color": "#FF97FF",
          "size": [
           2819,
           6921
          ],
          "sizemode": "area",
          "sizeref": 367.1425,
          "symbol": "circle"
         },
         "mode": "markers",
         "name": "APA",
         "scene": "scene",
         "showlegend": true,
         "type": "scatter3d",
         "x": [
          "APA",
          "APA"
         ],
         "y": [
          37.5,
          40
         ],
         "z": [
          2819,
          6921
         ]
        },
        {
         "hovertemplate": "Symbol=%{x}<br>Strike=%{y}<br>Open Int=%{marker.size}<extra></extra>",
         "legendgroup": "APDN",
         "marker": {
          "color": "#FECB52",
          "size": [
           2054
          ],
          "sizemode": "area",
          "sizeref": 367.1425,
          "symbol": "circle"
         },
         "mode": "markers",
         "name": "APDN",
         "scene": "scene",
         "showlegend": true,
         "type": "scatter3d",
         "x": [
          "APDN"
         ],
         "y": [
          2.5
         ],
         "z": [
          2054
         ]
        },
        {
         "hovertemplate": "Symbol=%{x}<br>Strike=%{y}<br>Open Int=%{marker.size}<extra></extra>",
         "legendgroup": "APRN",
         "marker": {
          "color": "#636efa",
          "size": [
           2193
          ],
          "sizemode": "area",
          "sizeref": 367.1425,
          "symbol": "circle"
         },
         "mode": "markers",
         "name": "APRN",
         "scene": "scene",
         "showlegend": true,
         "type": "scatter3d",
         "x": [
          "APRN"
         ],
         "y": [
          5
         ],
         "z": [
          2193
         ]
        },
        {
         "hovertemplate": "Symbol=%{x}<br>Strike=%{y}<br>Open Int=%{marker.size}<extra></extra>",
         "legendgroup": "ARCC",
         "marker": {
          "color": "#EF553B",
          "size": [
           18989
          ],
          "sizemode": "area",
          "sizeref": 367.1425,
          "symbol": "circle"
         },
         "mode": "markers",
         "name": "ARCC",
         "scene": "scene",
         "showlegend": true,
         "type": "scatter3d",
         "x": [
          "ARCC"
         ],
         "y": [
          19
         ],
         "z": [
          18989
         ]
        },
        {
         "hovertemplate": "Symbol=%{x}<br>Strike=%{y}<br>Open Int=%{marker.size}<extra></extra>",
         "legendgroup": "ASAN",
         "marker": {
          "color": "#00cc96",
          "size": [
           1143,
           2973
          ],
          "sizemode": "area",
          "sizeref": 367.1425,
          "symbol": "circle"
         },
         "mode": "markers",
         "name": "ASAN",
         "scene": "scene",
         "showlegend": true,
         "type": "scatter3d",
         "x": [
          "ASAN",
          "ASAN"
         ],
         "y": [
          22.5,
          25
         ],
         "z": [
          1143,
          2973
         ]
        },
        {
         "hovertemplate": "Symbol=%{x}<br>Strike=%{y}<br>Open Int=%{marker.size}<extra></extra>",
         "legendgroup": "ASTS",
         "marker": {
          "color": "#ab63fa",
          "size": [
           4288
          ],
          "sizemode": "area",
          "sizeref": 367.1425,
          "symbol": "circle"
         },
         "mode": "markers",
         "name": "ASTS",
         "scene": "scene",
         "showlegend": true,
         "type": "scatter3d",
         "x": [
          "ASTS"
         ],
         "y": [
          10
         ],
         "z": [
          4288
         ]
        },
        {
         "hovertemplate": "Symbol=%{x}<br>Strike=%{y}<br>Open Int=%{marker.size}<extra></extra>",
         "legendgroup": "ATUS",
         "marker": {
          "color": "#FFA15A",
          "size": [
           31851
          ],
          "sizemode": "area",
          "sizeref": 367.1425,
          "symbol": "circle"
         },
         "mode": "markers",
         "name": "ATUS",
         "scene": "scene",
         "showlegend": true,
         "type": "scatter3d",
         "x": [
          "ATUS"
         ],
         "y": [
          9
         ],
         "z": [
          31851
         ]
        },
        {
         "hovertemplate": "Symbol=%{x}<br>Strike=%{y}<br>Open Int=%{marker.size}<extra></extra>",
         "legendgroup": "ATVI",
         "marker": {
          "color": "#19d3f3",
          "size": [
           2956
          ],
          "sizemode": "area",
          "sizeref": 367.1425,
          "symbol": "circle"
         },
         "mode": "markers",
         "name": "ATVI",
         "scene": "scene",
         "showlegend": true,
         "type": "scatter3d",
         "x": [
          "ATVI"
         ],
         "y": [
          77
         ],
         "z": [
          2956
         ]
        },
        {
         "hovertemplate": "Symbol=%{x}<br>Strike=%{y}<br>Open Int=%{marker.size}<extra></extra>",
         "legendgroup": "AUPH",
         "marker": {
          "color": "#FF6692",
          "size": [
           1005
          ],
          "sizemode": "area",
          "sizeref": 367.1425,
          "symbol": "circle"
         },
         "mode": "markers",
         "name": "AUPH",
         "scene": "scene",
         "showlegend": true,
         "type": "scatter3d",
         "x": [
          "AUPH"
         ],
         "y": [
          7
         ],
         "z": [
          1005
         ]
        },
        {
         "hovertemplate": "Symbol=%{x}<br>Strike=%{y}<br>Open Int=%{marker.size}<extra></extra>",
         "legendgroup": "AVYA",
         "marker": {
          "color": "#B6E880",
          "size": [
           5533,
           5433
          ],
          "sizemode": "area",
          "sizeref": 367.1425,
          "symbol": "circle"
         },
         "mode": "markers",
         "name": "AVYA",
         "scene": "scene",
         "showlegend": true,
         "type": "scatter3d",
         "x": [
          "AVYA",
          "AVYA"
         ],
         "y": [
          1,
          1.5
         ],
         "z": [
          5533,
          5433
         ]
        },
        {
         "hovertemplate": "Symbol=%{x}<br>Strike=%{y}<br>Open Int=%{marker.size}<extra></extra>",
         "legendgroup": "AXP",
         "marker": {
          "color": "#FF97FF",
          "size": [
           14893
          ],
          "sizemode": "area",
          "sizeref": 367.1425,
          "symbol": "circle"
         },
         "mode": "markers",
         "name": "AXP",
         "scene": "scene",
         "showlegend": true,
         "type": "scatter3d",
         "x": [
          "AXP"
         ],
         "y": [
          150
         ],
         "z": [
          14893
         ]
        },
        {
         "hovertemplate": "Symbol=%{x}<br>Strike=%{y}<br>Open Int=%{marker.size}<extra></extra>",
         "legendgroup": "AZN",
         "marker": {
          "color": "#FECB52",
          "size": [
           2007
          ],
          "sizemode": "area",
          "sizeref": 367.1425,
          "symbol": "circle"
         },
         "mode": "markers",
         "name": "AZN",
         "scene": "scene",
         "showlegend": true,
         "type": "scatter3d",
         "x": [
          "AZN"
         ],
         "y": [
          58
         ],
         "z": [
          2007
         ]
        },
        {
         "hovertemplate": "Symbol=%{x}<br>Strike=%{y}<br>Open Int=%{marker.size}<extra></extra>",
         "legendgroup": "BA",
         "marker": {
          "color": "#636efa",
          "size": [
           3303,
           6076
          ],
          "sizemode": "area",
          "sizeref": 367.1425,
          "symbol": "circle"
         },
         "mode": "markers",
         "name": "BA",
         "scene": "scene",
         "showlegend": true,
         "type": "scatter3d",
         "x": [
          "BA",
          "BA"
         ],
         "y": [
          145,
          150
         ],
         "z": [
          3303,
          6076
         ]
        },
        {
         "hovertemplate": "Symbol=%{x}<br>Strike=%{y}<br>Open Int=%{marker.size}<extra></extra>",
         "legendgroup": "BABA",
         "marker": {
          "color": "#EF553B",
          "size": [
           7146,
           222,
           1945,
           3088,
           28470,
           1198,
           19570
          ],
          "sizemode": "area",
          "sizeref": 367.1425,
          "symbol": "circle"
         },
         "mode": "markers",
         "name": "BABA",
         "scene": "scene",
         "showlegend": true,
         "type": "scatter3d",
         "x": [
          "BABA",
          "BABA",
          "BABA",
          "BABA",
          "BABA",
          "BABA",
          "BABA"
         ],
         "y": [
          85,
          86,
          88,
          89,
          90,
          91,
          95
         ],
         "z": [
          7146,
          222,
          1945,
          3088,
          28470,
          1198,
          19570
         ]
        },
        {
         "hovertemplate": "Symbol=%{x}<br>Strike=%{y}<br>Open Int=%{marker.size}<extra></extra>",
         "legendgroup": "BAC",
         "marker": {
          "color": "#00cc96",
          "size": [
           8788,
           10955,
           2428,
           19344,
           7381,
           35899
          ],
          "sizemode": "area",
          "sizeref": 367.1425,
          "symbol": "circle"
         },
         "mode": "markers",
         "name": "BAC",
         "scene": "scene",
         "showlegend": true,
         "type": "scatter3d",
         "x": [
          "BAC",
          "BAC",
          "BAC",
          "BAC",
          "BAC",
          "BAC"
         ],
         "y": [
          32,
          33,
          33.5,
          34,
          34.5,
          35
         ],
         "z": [
          8788,
          10955,
          2428,
          19344,
          7381,
          35899
         ]
        },
        {
         "hovertemplate": "Symbol=%{x}<br>Strike=%{y}<br>Open Int=%{marker.size}<extra></extra>",
         "legendgroup": "BB",
         "marker": {
          "color": "#ab63fa",
          "size": [
           6364
          ],
          "sizemode": "area",
          "sizeref": 367.1425,
          "symbol": "circle"
         },
         "mode": "markers",
         "name": "BB",
         "scene": "scene",
         "showlegend": true,
         "type": "scatter3d",
         "x": [
          "BB"
         ],
         "y": [
          6
         ],
         "z": [
          6364
         ]
        },
        {
         "hovertemplate": "Symbol=%{x}<br>Strike=%{y}<br>Open Int=%{marker.size}<extra></extra>",
         "legendgroup": "BBBY",
         "marker": {
          "color": "#FFA15A",
          "size": [
           6055,
           8174,
           9750
          ],
          "sizemode": "area",
          "sizeref": 367.1425,
          "symbol": "circle"
         },
         "mode": "markers",
         "name": "BBBY",
         "scene": "scene",
         "showlegend": true,
         "type": "scatter3d",
         "x": [
          "BBBY",
          "BBBY",
          "BBBY"
         ],
         "y": [
          8.5,
          9,
          10
         ],
         "z": [
          6055,
          8174,
          9750
         ]
        },
        {
         "hovertemplate": "Symbol=%{x}<br>Strike=%{y}<br>Open Int=%{marker.size}<extra></extra>",
         "legendgroup": "BCRX",
         "marker": {
          "color": "#19d3f3",
          "size": [
           4786
          ],
          "sizemode": "area",
          "sizeref": 367.1425,
          "symbol": "circle"
         },
         "mode": "markers",
         "name": "BCRX",
         "scene": "scene",
         "showlegend": true,
         "type": "scatter3d",
         "x": [
          "BCRX"
         ],
         "y": [
          12
         ],
         "z": [
          4786
         ]
        },
        {
         "hovertemplate": "Symbol=%{x}<br>Strike=%{y}<br>Open Int=%{marker.size}<extra></extra>",
         "legendgroup": "BHC",
         "marker": {
          "color": "#FF6692",
          "size": [
           5126,
           1065
          ],
          "sizemode": "area",
          "sizeref": 367.1425,
          "symbol": "circle"
         },
         "mode": "markers",
         "name": "BHC",
         "scene": "scene",
         "showlegend": true,
         "type": "scatter3d",
         "x": [
          "BHC",
          "BHC"
         ],
         "y": [
          7,
          10
         ],
         "z": [
          5126,
          1065
         ]
        },
        {
         "hovertemplate": "Symbol=%{x}<br>Strike=%{y}<br>Open Int=%{marker.size}<extra></extra>",
         "legendgroup": "BHP",
         "marker": {
          "color": "#B6E880",
          "size": [
           6718
          ],
          "sizemode": "area",
          "sizeref": 367.1425,
          "symbol": "circle"
         },
         "mode": "markers",
         "name": "BHP",
         "scene": "scene",
         "showlegend": true,
         "type": "scatter3d",
         "x": [
          "BHP"
         ],
         "y": [
          52.5
         ],
         "z": [
          6718
         ]
        },
        {
         "hovertemplate": "Symbol=%{x}<br>Strike=%{y}<br>Open Int=%{marker.size}<extra></extra>",
         "legendgroup": "BKR",
         "marker": {
          "color": "#FF97FF",
          "size": [
           538
          ],
          "sizemode": "area",
          "sizeref": 367.1425,
          "symbol": "circle"
         },
         "mode": "markers",
         "name": "BKR",
         "scene": "scene",
         "showlegend": true,
         "type": "scatter3d",
         "x": [
          "BKR"
         ],
         "y": [
          24
         ],
         "z": [
          538
         ]
        },
        {
         "hovertemplate": "Symbol=%{x}<br>Strike=%{y}<br>Open Int=%{marker.size}<extra></extra>",
         "legendgroup": "BLNK",
         "marker": {
          "color": "#FECB52",
          "size": [
           538
          ],
          "sizemode": "area",
          "sizeref": 367.1425,
          "symbol": "circle"
         },
         "mode": "markers",
         "name": "BLNK",
         "scene": "scene",
         "showlegend": true,
         "type": "scatter3d",
         "x": [
          "BLNK"
         ],
         "y": [
          22
         ],
         "z": [
          538
         ]
        },
        {
         "hovertemplate": "Symbol=%{x}<br>Strike=%{y}<br>Open Int=%{marker.size}<extra></extra>",
         "legendgroup": "BLUE",
         "marker": {
          "color": "#636efa",
          "size": [
           2882,
           1410
          ],
          "sizemode": "area",
          "sizeref": 367.1425,
          "symbol": "circle"
         },
         "mode": "markers",
         "name": "BLUE",
         "scene": "scene",
         "showlegend": true,
         "type": "scatter3d",
         "x": [
          "BLUE",
          "BLUE"
         ],
         "y": [
          5,
          7.5
         ],
         "z": [
          2882,
          1410
         ]
        },
        {
         "hovertemplate": "Symbol=%{x}<br>Strike=%{y}<br>Open Int=%{marker.size}<extra></extra>",
         "legendgroup": "BRK.B",
         "marker": {
          "color": "#EF553B",
          "size": [
           3028,
           1211
          ],
          "sizemode": "area",
          "sizeref": 367.1425,
          "symbol": "circle"
         },
         "mode": "markers",
         "name": "BRK.B",
         "scene": "scene",
         "showlegend": true,
         "type": "scatter3d",
         "x": [
          "BRK.B",
          "BRK.B"
         ],
         "y": [
          280,
          282.5
         ],
         "z": [
          3028,
          1211
         ]
        },
        {
         "hovertemplate": "Symbol=%{x}<br>Strike=%{y}<br>Open Int=%{marker.size}<extra></extra>",
         "legendgroup": "BROS",
         "marker": {
          "color": "#00cc96",
          "size": [
           2986
          ],
          "sizemode": "area",
          "sizeref": 367.1425,
          "symbol": "circle"
         },
         "mode": "markers",
         "name": "BROS",
         "scene": "scene",
         "showlegend": true,
         "type": "scatter3d",
         "x": [
          "BROS"
         ],
         "y": [
          35
         ],
         "z": [
          2986
         ]
        },
        {
         "hovertemplate": "Symbol=%{x}<br>Strike=%{y}<br>Open Int=%{marker.size}<extra></extra>",
         "legendgroup": "BSM",
         "marker": {
          "color": "#ab63fa",
          "size": [
           3166
          ],
          "sizemode": "area",
          "sizeref": 367.1425,
          "symbol": "circle"
         },
         "mode": "markers",
         "name": "BSM",
         "scene": "scene",
         "showlegend": true,
         "type": "scatter3d",
         "x": [
          "BSM"
         ],
         "y": [
          15
         ],
         "z": [
          3166
         ]
        },
        {
         "hovertemplate": "Symbol=%{x}<br>Strike=%{y}<br>Open Int=%{marker.size}<extra></extra>",
         "legendgroup": "BTU",
         "marker": {
          "color": "#FFA15A",
          "size": [
           2465
          ],
          "sizemode": "area",
          "sizeref": 367.1425,
          "symbol": "circle"
         },
         "mode": "markers",
         "name": "BTU",
         "scene": "scene",
         "showlegend": true,
         "type": "scatter3d",
         "x": [
          "BTU"
         ],
         "y": [
          23
         ],
         "z": [
          2465
         ]
        },
        {
         "hovertemplate": "Symbol=%{x}<br>Strike=%{y}<br>Open Int=%{marker.size}<extra></extra>",
         "legendgroup": "BX",
         "marker": {
          "color": "#19d3f3",
          "size": [
           3050,
           3913
          ],
          "sizemode": "area",
          "sizeref": 367.1425,
          "symbol": "circle"
         },
         "mode": "markers",
         "name": "BX",
         "scene": "scene",
         "showlegend": true,
         "type": "scatter3d",
         "x": [
          "BX",
          "BX"
         ],
         "y": [
          93,
          95
         ],
         "z": [
          3050,
          3913
         ]
        },
        {
         "hovertemplate": "Symbol=%{x}<br>Strike=%{y}<br>Open Int=%{marker.size}<extra></extra>",
         "legendgroup": "BYND",
         "marker": {
          "color": "#FF6692",
          "size": [
           568,
           1218,
           3495,
           827
          ],
          "sizemode": "area",
          "sizeref": 367.1425,
          "symbol": "circle"
         },
         "mode": "markers",
         "name": "BYND",
         "scene": "scene",
         "showlegend": true,
         "type": "scatter3d",
         "x": [
          "BYND",
          "BYND",
          "BYND",
          "BYND"
         ],
         "y": [
          18.5,
          19,
          20,
          55
         ],
         "z": [
          568,
          1218,
          3495,
          827
         ]
        },
        {
         "hovertemplate": "Symbol=%{x}<br>Strike=%{y}<br>Open Int=%{marker.size}<extra></extra>",
         "legendgroup": "C",
         "marker": {
          "color": "#B6E880",
          "size": [
           4280,
           32625
          ],
          "sizemode": "area",
          "sizeref": 367.1425,
          "symbol": "circle"
         },
         "mode": "markers",
         "name": "C",
         "scene": "scene",
         "showlegend": true,
         "type": "scatter3d",
         "x": [
          "C",
          "C"
         ],
         "y": [
          47.5,
          50
         ],
         "z": [
          4280,
          32625
         ]
        },
        {
         "hovertemplate": "Symbol=%{x}<br>Strike=%{y}<br>Open Int=%{marker.size}<extra></extra>",
         "legendgroup": "CAL",
         "marker": {
          "color": "#FF97FF",
          "size": [
           1821
          ],
          "sizemode": "area",
          "sizeref": 367.1425,
          "symbol": "circle"
         },
         "mode": "markers",
         "name": "CAL",
         "scene": "scene",
         "showlegend": true,
         "type": "scatter3d",
         "x": [
          "CAL"
         ],
         "y": [
          25
         ],
         "z": [
          1821
         ]
        },
        {
         "hovertemplate": "Symbol=%{x}<br>Strike=%{y}<br>Open Int=%{marker.size}<extra></extra>",
         "legendgroup": "CALX",
         "marker": {
          "color": "#FECB52",
          "size": [
           1303
          ],
          "sizemode": "area",
          "sizeref": 367.1425,
          "symbol": "circle"
         },
         "mode": "markers",
         "name": "CALX",
         "scene": "scene",
         "showlegend": true,
         "type": "scatter3d",
         "x": [
          "CALX"
         ],
         "y": [
          55
         ],
         "z": [
          1303
         ]
        },
        {
         "hovertemplate": "Symbol=%{x}<br>Strike=%{y}<br>Open Int=%{marker.size}<extra></extra>",
         "legendgroup": "CAT",
         "marker": {
          "color": "#636efa",
          "size": [
           3864,
           5217
          ],
          "sizemode": "area",
          "sizeref": 367.1425,
          "symbol": "circle"
         },
         "mode": "markers",
         "name": "CAT",
         "scene": "scene",
         "showlegend": true,
         "type": "scatter3d",
         "x": [
          "CAT",
          "CAT"
         ],
         "y": [
          180,
          195
         ],
         "z": [
          3864,
          5217
         ]
        },
        {
         "hovertemplate": "Symbol=%{x}<br>Strike=%{y}<br>Open Int=%{marker.size}<extra></extra>",
         "legendgroup": "CCJ",
         "marker": {
          "color": "#EF553B",
          "size": [
           5408
          ],
          "sizemode": "area",
          "sizeref": 367.1425,
          "symbol": "circle"
         },
         "mode": "markers",
         "name": "CCJ",
         "scene": "scene",
         "showlegend": true,
         "type": "scatter3d",
         "x": [
          "CCJ"
         ],
         "y": [
          29
         ],
         "z": [
          5408
         ]
        },
        {
         "hovertemplate": "Symbol=%{x}<br>Strike=%{y}<br>Open Int=%{marker.size}<extra></extra>",
         "legendgroup": "CCL",
         "marker": {
          "color": "#00cc96",
          "size": [
           39049,
           6533,
           3313
          ],
          "sizemode": "area",
          "sizeref": 367.1425,
          "symbol": "circle"
         },
         "mode": "markers",
         "name": "CCL",
         "scene": "scene",
         "showlegend": true,
         "type": "scatter3d",
         "x": [
          "CCL",
          "CCL",
          "CCL"
         ],
         "y": [
          10,
          10.5,
          11
         ],
         "z": [
          39049,
          6533,
          3313
         ]
        },
        {
         "hovertemplate": "Symbol=%{x}<br>Strike=%{y}<br>Open Int=%{marker.size}<extra></extra>",
         "legendgroup": "CFVI",
         "marker": {
          "color": "#ab63fa",
          "size": [
           2131,
           4565
          ],
          "sizemode": "area",
          "sizeref": 367.1425,
          "symbol": "circle"
         },
         "mode": "markers",
         "name": "CFVI",
         "scene": "scene",
         "showlegend": true,
         "type": "scatter3d",
         "x": [
          "CFVI",
          "CFVI"
         ],
         "y": [
          10,
          12
         ],
         "z": [
          2131,
          4565
         ]
        },
        {
         "hovertemplate": "Symbol=%{x}<br>Strike=%{y}<br>Open Int=%{marker.size}<extra></extra>",
         "legendgroup": "CGC",
         "marker": {
          "color": "#FFA15A",
          "size": [
           2269
          ],
          "sizemode": "area",
          "sizeref": 367.1425,
          "symbol": "circle"
         },
         "mode": "markers",
         "name": "CGC",
         "scene": "scene",
         "showlegend": true,
         "type": "scatter3d",
         "x": [
          "CGC"
         ],
         "y": [
          3.5
         ],
         "z": [
          2269
         ]
        },
        {
         "hovertemplate": "Symbol=%{x}<br>Strike=%{y}<br>Open Int=%{marker.size}<extra></extra>",
         "legendgroup": "CHK",
         "marker": {
          "color": "#19d3f3",
          "size": [
           1909
          ],
          "sizemode": "area",
          "sizeref": 367.1425,
          "symbol": "circle"
         },
         "mode": "markers",
         "name": "CHK",
         "scene": "scene",
         "showlegend": true,
         "type": "scatter3d",
         "x": [
          "CHK"
         ],
         "y": [
          100
         ],
         "z": [
          1909
         ]
        },
        {
         "hovertemplate": "Symbol=%{x}<br>Strike=%{y}<br>Open Int=%{marker.size}<extra></extra>",
         "legendgroup": "CHPT",
         "marker": {
          "color": "#FF6692",
          "size": [
           5137,
           10595,
           470,
           16967
          ],
          "sizemode": "area",
          "sizeref": 367.1425,
          "symbol": "circle"
         },
         "mode": "markers",
         "name": "CHPT",
         "scene": "scene",
         "showlegend": true,
         "type": "scatter3d",
         "x": [
          "CHPT",
          "CHPT",
          "CHPT",
          "CHPT"
         ],
         "y": [
          16,
          17,
          18.5,
          19
         ],
         "z": [
          5137,
          10595,
          470,
          16967
         ]
        },
        {
         "hovertemplate": "Symbol=%{x}<br>Strike=%{y}<br>Open Int=%{marker.size}<extra></extra>",
         "legendgroup": "CHS",
         "marker": {
          "color": "#B6E880",
          "size": [
           10611
          ],
          "sizemode": "area",
          "sizeref": 367.1425,
          "symbol": "circle"
         },
         "mode": "markers",
         "name": "CHS",
         "scene": "scene",
         "showlegend": true,
         "type": "scatter3d",
         "x": [
          "CHS"
         ],
         "y": [
          5
         ],
         "z": [
          10611
         ]
        },
        {
         "hovertemplate": "Symbol=%{x}<br>Strike=%{y}<br>Open Int=%{marker.size}<extra></extra>",
         "legendgroup": "CI",
         "marker": {
          "color": "#FF97FF",
          "size": [
           1867,
           1773,
           572
          ],
          "sizemode": "area",
          "sizeref": 367.1425,
          "symbol": "circle"
         },
         "mode": "markers",
         "name": "CI",
         "scene": "scene",
         "showlegend": true,
         "type": "scatter3d",
         "x": [
          "CI",
          "CI",
          "CI"
         ],
         "y": [
          290,
          290,
          295
         ],
         "z": [
          1867,
          1773,
          572
         ]
        },
        {
         "hovertemplate": "Symbol=%{x}<br>Strike=%{y}<br>Open Int=%{marker.size}<extra></extra>",
         "legendgroup": "CLF",
         "marker": {
          "color": "#FECB52",
          "size": [
           1209,
           4050,
           6221
          ],
          "sizemode": "area",
          "sizeref": 367.1425,
          "symbol": "circle"
         },
         "mode": "markers",
         "name": "CLF",
         "scene": "scene",
         "showlegend": true,
         "type": "scatter3d",
         "x": [
          "CLF",
          "CLF",
          "CLF"
         ],
         "y": [
          15.5,
          16,
          17
         ],
         "z": [
          1209,
          4050,
          6221
         ]
        },
        {
         "hovertemplate": "Symbol=%{x}<br>Strike=%{y}<br>Open Int=%{marker.size}<extra></extra>",
         "legendgroup": "CLNE",
         "marker": {
          "color": "#636efa",
          "size": [
           1398
          ],
          "sizemode": "area",
          "sizeref": 367.1425,
          "symbol": "circle"
         },
         "mode": "markers",
         "name": "CLNE",
         "scene": "scene",
         "showlegend": true,
         "type": "scatter3d",
         "x": [
          "CLNE"
         ],
         "y": [
          6
         ],
         "z": [
          1398
         ]
        },
        {
         "hovertemplate": "Symbol=%{x}<br>Strike=%{y}<br>Open Int=%{marker.size}<extra></extra>",
         "legendgroup": "CLOV",
         "marker": {
          "color": "#EF553B",
          "size": [
           1090,
           3246
          ],
          "sizemode": "area",
          "sizeref": 367.1425,
          "symbol": "circle"
         },
         "mode": "markers",
         "name": "CLOV",
         "scene": "scene",
         "showlegend": true,
         "type": "scatter3d",
         "x": [
          "CLOV",
          "CLOV"
         ],
         "y": [
          2,
          2.5
         ],
         "z": [
          1090,
          3246
         ]
        },
        {
         "hovertemplate": "Symbol=%{x}<br>Strike=%{y}<br>Open Int=%{marker.size}<extra></extra>",
         "legendgroup": "CMCSA",
         "marker": {
          "color": "#00cc96",
          "size": [
           6794
          ],
          "sizemode": "area",
          "sizeref": 367.1425,
          "symbol": "circle"
         },
         "mode": "markers",
         "name": "CMCSA",
         "scene": "scene",
         "showlegend": true,
         "type": "scatter3d",
         "x": [
          "CMCSA"
         ],
         "y": [
          35
         ],
         "z": [
          6794
         ]
        },
        {
         "hovertemplate": "Symbol=%{x}<br>Strike=%{y}<br>Open Int=%{marker.size}<extra></extra>",
         "legendgroup": "COF",
         "marker": {
          "color": "#ab63fa",
          "size": [
           1105,
           894
          ],
          "sizemode": "area",
          "sizeref": 367.1425,
          "symbol": "circle"
         },
         "mode": "markers",
         "name": "COF",
         "scene": "scene",
         "showlegend": true,
         "type": "scatter3d",
         "x": [
          "COF",
          "COF"
         ],
         "y": [
          101,
          103
         ],
         "z": [
          1105,
          894
         ]
        },
        {
         "hovertemplate": "Symbol=%{x}<br>Strike=%{y}<br>Open Int=%{marker.size}<extra></extra>",
         "legendgroup": "COIN",
         "marker": {
          "color": "#FFA15A",
          "size": [
           506,
           1133,
           12669,
           1545,
           4820
          ],
          "sizemode": "area",
          "sizeref": 367.1425,
          "symbol": "circle"
         },
         "mode": "markers",
         "name": "COIN",
         "scene": "scene",
         "showlegend": true,
         "type": "scatter3d",
         "x": [
          "COIN",
          "COIN",
          "COIN",
          "COIN",
          "COIN"
         ],
         "y": [
          74,
          74,
          75,
          76,
          80
         ],
         "z": [
          506,
          1133,
          12669,
          1545,
          4820
         ]
        },
        {
         "hovertemplate": "Symbol=%{x}<br>Strike=%{y}<br>Open Int=%{marker.size}<extra></extra>",
         "legendgroup": "COP",
         "marker": {
          "color": "#19d3f3",
          "size": [
           6898,
           5166
          ],
          "sizemode": "area",
          "sizeref": 367.1425,
          "symbol": "circle"
         },
         "mode": "markers",
         "name": "COP",
         "scene": "scene",
         "showlegend": true,
         "type": "scatter3d",
         "x": [
          "COP",
          "COP"
         ],
         "y": [
          100,
          105
         ],
         "z": [
          6898,
          5166
         ]
        },
        {
         "hovertemplate": "Symbol=%{x}<br>Strike=%{y}<br>Open Int=%{marker.size}<extra></extra>",
         "legendgroup": "CORZ",
         "marker": {
          "color": "#FF6692",
          "size": [
           1518,
           6432,
           2316
          ],
          "sizemode": "area",
          "sizeref": 367.1425,
          "symbol": "circle"
         },
         "mode": "markers",
         "name": "CORZ",
         "scene": "scene",
         "showlegend": true,
         "type": "scatter3d",
         "x": [
          "CORZ",
          "CORZ",
          "CORZ"
         ],
         "y": [
          2,
          2.5,
          3
         ],
         "z": [
          1518,
          6432,
          2316
         ]
        },
        {
         "hovertemplate": "Symbol=%{x}<br>Strike=%{y}<br>Open Int=%{marker.size}<extra></extra>",
         "legendgroup": "COST",
         "marker": {
          "color": "#B6E880",
          "size": [
           627,
           993,
           2457
          ],
          "sizemode": "area",
          "sizeref": 367.1425,
          "symbol": "circle"
         },
         "mode": "markers",
         "name": "COST",
         "scene": "scene",
         "showlegend": true,
         "type": "scatter3d",
         "x": [
          "COST",
          "COST",
          "COST"
         ],
         "y": [
          505,
          510,
          535
         ],
         "z": [
          627,
          993,
          2457
         ]
        },
        {
         "hovertemplate": "Symbol=%{x}<br>Strike=%{y}<br>Open Int=%{marker.size}<extra></extra>",
         "legendgroup": "CPG",
         "marker": {
          "color": "#FF97FF",
          "size": [
           2123
          ],
          "sizemode": "area",
          "sizeref": 367.1425,
          "symbol": "circle"
         },
         "mode": "markers",
         "name": "CPG",
         "scene": "scene",
         "showlegend": true,
         "type": "scatter3d",
         "x": [
          "CPG"
         ],
         "y": [
          7.5
         ],
         "z": [
          2123
         ]
        },
        {
         "hovertemplate": "Symbol=%{x}<br>Strike=%{y}<br>Open Int=%{marker.size}<extra></extra>",
         "legendgroup": "CPNG",
         "marker": {
          "color": "#FECB52",
          "size": [
           3006
          ],
          "sizemode": "area",
          "sizeref": 367.1425,
          "symbol": "circle"
         },
         "mode": "markers",
         "name": "CPNG",
         "scene": "scene",
         "showlegend": true,
         "type": "scatter3d",
         "x": [
          "CPNG"
         ],
         "y": [
          17.5
         ],
         "z": [
          3006
         ]
        },
        {
         "hovertemplate": "Symbol=%{x}<br>Strike=%{y}<br>Open Int=%{marker.size}<extra></extra>",
         "legendgroup": "CRK",
         "marker": {
          "color": "#636efa",
          "size": [
           1150
          ],
          "sizemode": "area",
          "sizeref": 367.1425,
          "symbol": "circle"
         },
         "mode": "markers",
         "name": "CRK",
         "scene": "scene",
         "showlegend": true,
         "type": "scatter3d",
         "x": [
          "CRK"
         ],
         "y": [
          18
         ],
         "z": [
          1150
         ]
        },
        {
         "hovertemplate": "Symbol=%{x}<br>Strike=%{y}<br>Open Int=%{marker.size}<extra></extra>",
         "legendgroup": "CRM",
         "marker": {
          "color": "#EF553B",
          "size": [
           5080
          ],
          "sizemode": "area",
          "sizeref": 367.1425,
          "symbol": "circle"
         },
         "mode": "markers",
         "name": "CRM",
         "scene": "scene",
         "showlegend": true,
         "type": "scatter3d",
         "x": [
          "CRM"
         ],
         "y": [
          155
         ],
         "z": [
          5080
         ]
        },
        {
         "hovertemplate": "Symbol=%{x}<br>Strike=%{y}<br>Open Int=%{marker.size}<extra></extra>",
         "legendgroup": "CRWD",
         "marker": {
          "color": "#00cc96",
          "size": [
           3179
          ],
          "sizemode": "area",
          "sizeref": 367.1425,
          "symbol": "circle"
         },
         "mode": "markers",
         "name": "CRWD",
         "scene": "scene",
         "showlegend": true,
         "type": "scatter3d",
         "x": [
          "CRWD"
         ],
         "y": [
          180
         ],
         "z": [
          3179
         ]
        },
        {
         "hovertemplate": "Symbol=%{x}<br>Strike=%{y}<br>Open Int=%{marker.size}<extra></extra>",
         "legendgroup": "CSCO",
         "marker": {
          "color": "#ab63fa",
          "size": [
           3895
          ],
          "sizemode": "area",
          "sizeref": 367.1425,
          "symbol": "circle"
         },
         "mode": "markers",
         "name": "CSCO",
         "scene": "scene",
         "showlegend": true,
         "type": "scatter3d",
         "x": [
          "CSCO"
         ],
         "y": [
          44
         ],
         "z": [
          3895
         ]
        },
        {
         "hovertemplate": "Symbol=%{x}<br>Strike=%{y}<br>Open Int=%{marker.size}<extra></extra>",
         "legendgroup": "CVE",
         "marker": {
          "color": "#FFA15A",
          "size": [
           10873
          ],
          "sizemode": "area",
          "sizeref": 367.1425,
          "symbol": "circle"
         },
         "mode": "markers",
         "name": "CVE",
         "scene": "scene",
         "showlegend": true,
         "type": "scatter3d",
         "x": [
          "CVE"
         ],
         "y": [
          18
         ],
         "z": [
          10873
         ]
        },
        {
         "hovertemplate": "Symbol=%{x}<br>Strike=%{y}<br>Open Int=%{marker.size}<extra></extra>",
         "legendgroup": "CVNA",
         "marker": {
          "color": "#19d3f3",
          "size": [
           177,
           1324,
           3558,
           2816
          ],
          "sizemode": "area",
          "sizeref": 367.1425,
          "symbol": "circle"
         },
         "mode": "markers",
         "name": "CVNA",
         "scene": "scene",
         "showlegend": true,
         "type": "scatter3d",
         "x": [
          "CVNA",
          "CVNA",
          "CVNA",
          "CVNA"
         ],
         "y": [
          33,
          34,
          35,
          40
         ],
         "z": [
          177,
          1324,
          3558,
          2816
         ]
        },
        {
         "hovertemplate": "Symbol=%{x}<br>Strike=%{y}<br>Open Int=%{marker.size}<extra></extra>",
         "legendgroup": "CVS",
         "marker": {
          "color": "#FF6692",
          "size": [
           6775
          ],
          "sizemode": "area",
          "sizeref": 367.1425,
          "symbol": "circle"
         },
         "mode": "markers",
         "name": "CVS",
         "scene": "scene",
         "showlegend": true,
         "type": "scatter3d",
         "x": [
          "CVS"
         ],
         "y": [
          100
         ],
         "z": [
          6775
         ]
        },
        {
         "hovertemplate": "Symbol=%{x}<br>Strike=%{y}<br>Open Int=%{marker.size}<extra></extra>",
         "legendgroup": "CVX",
         "marker": {
          "color": "#B6E880",
          "size": [
           4408,
           5486
          ],
          "sizemode": "area",
          "sizeref": 367.1425,
          "symbol": "circle"
         },
         "mode": "markers",
         "name": "CVX",
         "scene": "scene",
         "showlegend": true,
         "type": "scatter3d",
         "x": [
          "CVX",
          "CVX"
         ],
         "y": [
          155,
          160
         ],
         "z": [
          4408,
          5486
         ]
        },
        {
         "hovertemplate": "Symbol=%{x}<br>Strike=%{y}<br>Open Int=%{marker.size}<extra></extra>",
         "legendgroup": "CWH",
         "marker": {
          "color": "#FF97FF",
          "size": [
           1428
          ],
          "sizemode": "area",
          "sizeref": 367.1425,
          "symbol": "circle"
         },
         "mode": "markers",
         "name": "CWH",
         "scene": "scene",
         "showlegend": true,
         "type": "scatter3d",
         "x": [
          "CWH"
         ],
         "y": [
          30
         ],
         "z": [
          1428
         ]
        },
        {
         "hovertemplate": "Symbol=%{x}<br>Strike=%{y}<br>Open Int=%{marker.size}<extra></extra>",
         "legendgroup": "CZR",
         "marker": {
          "color": "#FECB52",
          "size": [
           2425
          ],
          "sizemode": "area",
          "sizeref": 367.1425,
          "symbol": "circle"
         },
         "mode": "markers",
         "name": "CZR",
         "scene": "scene",
         "showlegend": true,
         "type": "scatter3d",
         "x": [
          "CZR"
         ],
         "y": [
          45
         ],
         "z": [
          2425
         ]
        },
        {
         "hovertemplate": "Symbol=%{x}<br>Strike=%{y}<br>Open Int=%{marker.size}<extra></extra>",
         "legendgroup": "DAL",
         "marker": {
          "color": "#636efa",
          "size": [
           1464,
           2744,
           13302
          ],
          "sizemode": "area",
          "sizeref": 367.1425,
          "symbol": "circle"
         },
         "mode": "markers",
         "name": "DAL",
         "scene": "scene",
         "showlegend": true,
         "type": "scatter3d",
         "x": [
          "DAL",
          "DAL",
          "DAL"
         ],
         "y": [
          31,
          32,
          33
         ],
         "z": [
          1464,
          2744,
          13302
         ]
        },
        {
         "hovertemplate": "Symbol=%{x}<br>Strike=%{y}<br>Open Int=%{marker.size}<extra></extra>",
         "legendgroup": "DASH",
         "marker": {
          "color": "#EF553B",
          "size": [
           1770,
           2166
          ],
          "sizemode": "area",
          "sizeref": 367.1425,
          "symbol": "circle"
         },
         "mode": "markers",
         "name": "DASH",
         "scene": "scene",
         "showlegend": true,
         "type": "scatter3d",
         "x": [
          "DASH",
          "DASH"
         ],
         "y": [
          60,
          70
         ],
         "z": [
          1770,
          2166
         ]
        },
        {
         "hovertemplate": "Symbol=%{x}<br>Strike=%{y}<br>Open Int=%{marker.size}<extra></extra>",
         "legendgroup": "DIS",
         "marker": {
          "color": "#00cc96",
          "size": [
           11308,
           2041
          ],
          "sizemode": "area",
          "sizeref": 367.1425,
          "symbol": "circle"
         },
         "mode": "markers",
         "name": "DIS",
         "scene": "scene",
         "showlegend": true,
         "type": "scatter3d",
         "x": [
          "DIS",
          "DIS"
         ],
         "y": [
          110,
          111
         ],
         "z": [
          11308,
          2041
         ]
        },
        {
         "hovertemplate": "Symbol=%{x}<br>Strike=%{y}<br>Open Int=%{marker.size}<extra></extra>",
         "legendgroup": "DISH",
         "marker": {
          "color": "#ab63fa",
          "size": [
           7152
          ],
          "sizemode": "area",
          "sizeref": 367.1425,
          "symbol": "circle"
         },
         "mode": "markers",
         "name": "DISH",
         "scene": "scene",
         "showlegend": true,
         "type": "scatter3d",
         "x": [
          "DISH"
         ],
         "y": [
          17.5
         ],
         "z": [
          7152
         ]
        },
        {
         "hovertemplate": "Symbol=%{x}<br>Strike=%{y}<br>Open Int=%{marker.size}<extra></extra>",
         "legendgroup": "DKNG",
         "marker": {
          "color": "#FFA15A",
          "size": [
           10234,
           11970,
           4580,
           1279,
           6278
          ],
          "sizemode": "area",
          "sizeref": 367.1425,
          "symbol": "circle"
         },
         "mode": "markers",
         "name": "DKNG",
         "scene": "scene",
         "showlegend": true,
         "type": "scatter3d",
         "x": [
          "DKNG",
          "DKNG",
          "DKNG",
          "DKNG",
          "DKNG"
         ],
         "y": [
          17.5,
          18,
          18.5,
          19,
          20
         ],
         "z": [
          10234,
          11970,
          4580,
          1279,
          6278
         ]
        },
        {
         "hovertemplate": "Symbol=%{x}<br>Strike=%{y}<br>Open Int=%{marker.size}<extra></extra>",
         "legendgroup": "DNA",
         "marker": {
          "color": "#19d3f3",
          "size": [
           684
          ],
          "sizemode": "area",
          "sizeref": 367.1425,
          "symbol": "circle"
         },
         "mode": "markers",
         "name": "DNA",
         "scene": "scene",
         "showlegend": true,
         "type": "scatter3d",
         "x": [
          "DNA"
         ],
         "y": [
          2.5
         ],
         "z": [
          684
         ]
        },
        {
         "hovertemplate": "Symbol=%{x}<br>Strike=%{y}<br>Open Int=%{marker.size}<extra></extra>",
         "legendgroup": "DOCU",
         "marker": {
          "color": "#FF6692",
          "size": [
           864,
           3027
          ],
          "sizemode": "area",
          "sizeref": 367.1425,
          "symbol": "circle"
         },
         "mode": "markers",
         "name": "DOCU",
         "scene": "scene",
         "showlegend": true,
         "type": "scatter3d",
         "x": [
          "DOCU",
          "DOCU"
         ],
         "y": [
          57,
          60
         ],
         "z": [
          864,
          3027
         ]
        },
        {
         "hovertemplate": "Symbol=%{x}<br>Strike=%{y}<br>Open Int=%{marker.size}<extra></extra>",
         "legendgroup": "DT",
         "marker": {
          "color": "#B6E880",
          "size": [
           3037
          ],
          "sizemode": "area",
          "sizeref": 367.1425,
          "symbol": "circle"
         },
         "mode": "markers",
         "name": "DT",
         "scene": "scene",
         "showlegend": true,
         "type": "scatter3d",
         "x": [
          "DT"
         ],
         "y": [
          40
         ],
         "z": [
          3037
         ]
        },
        {
         "hovertemplate": "Symbol=%{x}<br>Strike=%{y}<br>Open Int=%{marker.size}<extra></extra>",
         "legendgroup": "EMR",
         "marker": {
          "color": "#FF97FF",
          "size": [
           1282
          ],
          "sizemode": "area",
          "sizeref": 367.1425,
          "symbol": "circle"
         },
         "mode": "markers",
         "name": "EMR",
         "scene": "scene",
         "showlegend": true,
         "type": "scatter3d",
         "x": [
          "EMR"
         ],
         "y": [
          85
         ],
         "z": [
          1282
         ]
        },
        {
         "hovertemplate": "Symbol=%{x}<br>Strike=%{y}<br>Open Int=%{marker.size}<extra></extra>",
         "legendgroup": "ENPH",
         "marker": {
          "color": "#FECB52",
          "size": [
           389
          ],
          "sizemode": "area",
          "sizeref": 367.1425,
          "symbol": "circle"
         },
         "mode": "markers",
         "name": "ENPH",
         "scene": "scene",
         "showlegend": true,
         "type": "scatter3d",
         "x": [
          "ENPH"
         ],
         "y": [
          315
         ],
         "z": [
          389
         ]
        },
        {
         "hovertemplate": "Symbol=%{x}<br>Strike=%{y}<br>Open Int=%{marker.size}<extra></extra>",
         "legendgroup": "ENVX",
         "marker": {
          "color": "#636efa",
          "size": [
           6171,
           11074
          ],
          "sizemode": "area",
          "sizeref": 367.1425,
          "symbol": "circle"
         },
         "mode": "markers",
         "name": "ENVX",
         "scene": "scene",
         "showlegend": true,
         "type": "scatter3d",
         "x": [
          "ENVX",
          "ENVX"
         ],
         "y": [
          22.5,
          22.5
         ],
         "z": [
          6171,
          11074
         ]
        },
        {
         "hovertemplate": "Symbol=%{x}<br>Strike=%{y}<br>Open Int=%{marker.size}<extra></extra>",
         "legendgroup": "EOG",
         "marker": {
          "color": "#EF553B",
          "size": [
           2205
          ],
          "sizemode": "area",
          "sizeref": 367.1425,
          "symbol": "circle"
         },
         "mode": "markers",
         "name": "EOG",
         "scene": "scene",
         "showlegend": true,
         "type": "scatter3d",
         "x": [
          "EOG"
         ],
         "y": [
          118.5
         ],
         "z": [
          2205
         ]
        },
        {
         "hovertemplate": "Symbol=%{x}<br>Strike=%{y}<br>Open Int=%{marker.size}<extra></extra>",
         "legendgroup": "EPD",
         "marker": {
          "color": "#00cc96",
          "size": [
           1965
          ],
          "sizemode": "area",
          "sizeref": 367.1425,
          "symbol": "circle"
         },
         "mode": "markers",
         "name": "EPD",
         "scene": "scene",
         "showlegend": true,
         "type": "scatter3d",
         "x": [
          "EPD"
         ],
         "y": [
          26
         ],
         "z": [
          1965
         ]
        },
        {
         "hovertemplate": "Symbol=%{x}<br>Strike=%{y}<br>Open Int=%{marker.size}<extra></extra>",
         "legendgroup": "ET",
         "marker": {
          "color": "#ab63fa",
          "size": [
           1359,
           4514,
           5696
          ],
          "sizemode": "area",
          "sizeref": 367.1425,
          "symbol": "circle"
         },
         "mode": "markers",
         "name": "ET",
         "scene": "scene",
         "showlegend": true,
         "type": "scatter3d",
         "x": [
          "ET",
          "ET",
          "ET"
         ],
         "y": [
          10,
          11,
          11.5
         ],
         "z": [
          1359,
          4514,
          5696
         ]
        },
        {
         "hovertemplate": "Symbol=%{x}<br>Strike=%{y}<br>Open Int=%{marker.size}<extra></extra>",
         "legendgroup": "ETSY",
         "marker": {
          "color": "#FFA15A",
          "size": [
           2453,
           255
          ],
          "sizemode": "area",
          "sizeref": 367.1425,
          "symbol": "circle"
         },
         "mode": "markers",
         "name": "ETSY",
         "scene": "scene",
         "showlegend": true,
         "type": "scatter3d",
         "x": [
          "ETSY",
          "ETSY"
         ],
         "y": [
          105,
          108
         ],
         "z": [
          2453,
          255
         ]
        },
        {
         "hovertemplate": "Symbol=%{x}<br>Strike=%{y}<br>Open Int=%{marker.size}<extra></extra>",
         "legendgroup": "EVER",
         "marker": {
          "color": "#19d3f3",
          "size": [
           2051
          ],
          "sizemode": "area",
          "sizeref": 367.1425,
          "symbol": "circle"
         },
         "mode": "markers",
         "name": "EVER",
         "scene": "scene",
         "showlegend": true,
         "type": "scatter3d",
         "x": [
          "EVER"
         ],
         "y": [
          7.5
         ],
         "z": [
          2051
         ]
        },
        {
         "hovertemplate": "Symbol=%{x}<br>Strike=%{y}<br>Open Int=%{marker.size}<extra></extra>",
         "legendgroup": "EXPE",
         "marker": {
          "color": "#FF6692",
          "size": [
           670
          ],
          "sizemode": "area",
          "sizeref": 367.1425,
          "symbol": "circle"
         },
         "mode": "markers",
         "name": "EXPE",
         "scene": "scene",
         "showlegend": true,
         "type": "scatter3d",
         "x": [
          "EXPE"
         ],
         "y": [
          105
         ],
         "z": [
          670
         ]
        },
        {
         "hovertemplate": "Symbol=%{x}<br>Strike=%{y}<br>Open Int=%{marker.size}<extra></extra>",
         "legendgroup": "F",
         "marker": {
          "color": "#B6E880",
          "size": [
           12835,
           25563,
           29363,
           2339,
           116617,
           9299,
           146857
          ],
          "sizemode": "area",
          "sizeref": 367.1425,
          "symbol": "circle"
         },
         "mode": "markers",
         "name": "F",
         "scene": "scene",
         "showlegend": true,
         "type": "scatter3d",
         "x": [
          "F",
          "F",
          "F",
          "F",
          "F",
          "F",
          "F"
         ],
         "y": [
          12,
          13,
          14,
          14.5,
          15,
          15.5,
          16
         ],
         "z": [
          12835,
          25563,
          29363,
          2339,
          116617,
          9299,
          146857
         ]
        },
        {
         "hovertemplate": "Symbol=%{x}<br>Strike=%{y}<br>Open Int=%{marker.size}<extra></extra>",
         "legendgroup": "FAZE",
         "marker": {
          "color": "#FF97FF",
          "size": [
           971,
           2459,
           1374
          ],
          "sizemode": "area",
          "sizeref": 367.1425,
          "symbol": "circle"
         },
         "mode": "markers",
         "name": "FAZE",
         "scene": "scene",
         "showlegend": true,
         "type": "scatter3d",
         "x": [
          "FAZE",
          "FAZE",
          "FAZE"
         ],
         "y": [
          13.5,
          14,
          14.5
         ],
         "z": [
          971,
          2459,
          1374
         ]
        },
        {
         "hovertemplate": "Symbol=%{x}<br>Strike=%{y}<br>Open Int=%{marker.size}<extra></extra>",
         "legendgroup": "FCEL",
         "marker": {
          "color": "#FECB52",
          "size": [
           1210
          ],
          "sizemode": "area",
          "sizeref": 367.1425,
          "symbol": "circle"
         },
         "mode": "markers",
         "name": "FCEL",
         "scene": "scene",
         "showlegend": true,
         "type": "scatter3d",
         "x": [
          "FCEL"
         ],
         "y": [
          5
         ],
         "z": [
          1210
         ]
        },
        {
         "hovertemplate": "Symbol=%{x}<br>Strike=%{y}<br>Open Int=%{marker.size}<extra></extra>",
         "legendgroup": "FCX",
         "marker": {
          "color": "#636efa",
          "size": [
           1378,
           6762,
           6912
          ],
          "sizemode": "area",
          "sizeref": 367.1425,
          "symbol": "circle"
         },
         "mode": "markers",
         "name": "FCX",
         "scene": "scene",
         "showlegend": true,
         "type": "scatter3d",
         "x": [
          "FCX",
          "FCX",
          "FCX"
         ],
         "y": [
          29,
          29.5,
          30
         ],
         "z": [
          1378,
          6762,
          6912
         ]
        },
        {
         "hovertemplate": "Symbol=%{x}<br>Strike=%{y}<br>Open Int=%{marker.size}<extra></extra>",
         "legendgroup": "FDX",
         "marker": {
          "color": "#EF553B",
          "size": [
           1152,
           2163
          ],
          "sizemode": "area",
          "sizeref": 367.1425,
          "symbol": "circle"
         },
         "mode": "markers",
         "name": "FDX",
         "scene": "scene",
         "showlegend": true,
         "type": "scatter3d",
         "x": [
          "FDX",
          "FDX"
         ],
         "y": [
          175,
          200
         ],
         "z": [
          1152,
          2163
         ]
        },
        {
         "hovertemplate": "Symbol=%{x}<br>Strike=%{y}<br>Open Int=%{marker.size}<extra></extra>",
         "legendgroup": "FIGS",
         "marker": {
          "color": "#00cc96",
          "size": [
           3107
          ],
          "sizemode": "area",
          "sizeref": 367.1425,
          "symbol": "circle"
         },
         "mode": "markers",
         "name": "FIGS",
         "scene": "scene",
         "showlegend": true,
         "type": "scatter3d",
         "x": [
          "FIGS"
         ],
         "y": [
          10
         ],
         "z": [
          3107
         ]
        },
        {
         "hovertemplate": "Symbol=%{x}<br>Strike=%{y}<br>Open Int=%{marker.size}<extra></extra>",
         "legendgroup": "FREY",
         "marker": {
          "color": "#ab63fa",
          "size": [
           1726
          ],
          "sizemode": "area",
          "sizeref": 367.1425,
          "symbol": "circle"
         },
         "mode": "markers",
         "name": "FREY",
         "scene": "scene",
         "showlegend": true,
         "type": "scatter3d",
         "x": [
          "FREY"
         ],
         "y": [
          13
         ],
         "z": [
          1726
         ]
        },
        {
         "hovertemplate": "Symbol=%{x}<br>Strike=%{y}<br>Open Int=%{marker.size}<extra></extra>",
         "legendgroup": "FSLR",
         "marker": {
          "color": "#FFA15A",
          "size": [
           1850,
           891,
           190
          ],
          "sizemode": "area",
          "sizeref": 367.1425,
          "symbol": "circle"
         },
         "mode": "markers",
         "name": "FSLR",
         "scene": "scene",
         "showlegend": true,
         "type": "scatter3d",
         "x": [
          "FSLR",
          "FSLR",
          "FSLR"
         ],
         "y": [
          135,
          135,
          136
         ],
         "z": [
          1850,
          891,
          190
         ]
        },
        {
         "hovertemplate": "Symbol=%{x}<br>Strike=%{y}<br>Open Int=%{marker.size}<extra></extra>",
         "legendgroup": "FTCH",
         "marker": {
          "color": "#19d3f3",
          "size": [
           4115
          ],
          "sizemode": "area",
          "sizeref": 367.1425,
          "symbol": "circle"
         },
         "mode": "markers",
         "name": "FTCH",
         "scene": "scene",
         "showlegend": true,
         "type": "scatter3d",
         "x": [
          "FTCH"
         ],
         "y": [
          10
         ],
         "z": [
          4115
         ]
        },
        {
         "hovertemplate": "Symbol=%{x}<br>Strike=%{y}<br>Open Int=%{marker.size}<extra></extra>",
         "legendgroup": "FTNT",
         "marker": {
          "color": "#FF6692",
          "size": [
           3356
          ],
          "sizemode": "area",
          "sizeref": 367.1425,
          "symbol": "circle"
         },
         "mode": "markers",
         "name": "FTNT",
         "scene": "scene",
         "showlegend": true,
         "type": "scatter3d",
         "x": [
          "FTNT"
         ],
         "y": [
          50
         ],
         "z": [
          3356
         ]
        },
        {
         "hovertemplate": "Symbol=%{x}<br>Strike=%{y}<br>Open Int=%{marker.size}<extra></extra>",
         "legendgroup": "FUBO",
         "marker": {
          "color": "#B6E880",
          "size": [
           2060,
           4193,
           2888
          ],
          "sizemode": "area",
          "sizeref": 367.1425,
          "symbol": "circle"
         },
         "mode": "markers",
         "name": "FUBO",
         "scene": "scene",
         "showlegend": true,
         "type": "scatter3d",
         "x": [
          "FUBO",
          "FUBO",
          "FUBO"
         ],
         "y": [
          3.5,
          4,
          5
         ],
         "z": [
          2060,
          4193,
          2888
         ]
        },
        {
         "hovertemplate": "Symbol=%{x}<br>Strike=%{y}<br>Open Int=%{marker.size}<extra></extra>",
         "legendgroup": "GE",
         "marker": {
          "color": "#FF97FF",
          "size": [
           8269
          ],
          "sizemode": "area",
          "sizeref": 367.1425,
          "symbol": "circle"
         },
         "mode": "markers",
         "name": "GE",
         "scene": "scene",
         "showlegend": true,
         "type": "scatter3d",
         "x": [
          "GE"
         ],
         "y": [
          70
         ],
         "z": [
          8269
         ]
        },
        {
         "hovertemplate": "Symbol=%{x}<br>Strike=%{y}<br>Open Int=%{marker.size}<extra></extra>",
         "legendgroup": "GEO",
         "marker": {
          "color": "#FECB52",
          "size": [
           6570
          ],
          "sizemode": "area",
          "sizeref": 367.1425,
          "symbol": "circle"
         },
         "mode": "markers",
         "name": "GEO",
         "scene": "scene",
         "showlegend": true,
         "type": "scatter3d",
         "x": [
          "GEO"
         ],
         "y": [
          8
         ],
         "z": [
          6570
         ]
        },
        {
         "hovertemplate": "Symbol=%{x}<br>Strike=%{y}<br>Open Int=%{marker.size}<extra></extra>",
         "legendgroup": "GILD",
         "marker": {
          "color": "#636efa",
          "size": [
           4334
          ],
          "sizemode": "area",
          "sizeref": 367.1425,
          "symbol": "circle"
         },
         "mode": "markers",
         "name": "GILD",
         "scene": "scene",
         "showlegend": true,
         "type": "scatter3d",
         "x": [
          "GILD"
         ],
         "y": [
          65
         ],
         "z": [
          4334
         ]
        },
        {
         "hovertemplate": "Symbol=%{x}<br>Strike=%{y}<br>Open Int=%{marker.size}<extra></extra>",
         "legendgroup": "GILT",
         "marker": {
          "color": "#EF553B",
          "size": [
           945
          ],
          "sizemode": "area",
          "sizeref": 367.1425,
          "symbol": "circle"
         },
         "mode": "markers",
         "name": "GILT",
         "scene": "scene",
         "showlegend": true,
         "type": "scatter3d",
         "x": [
          "GILT"
         ],
         "y": [
          5
         ],
         "z": [
          945
         ]
        },
        {
         "hovertemplate": "Symbol=%{x}<br>Strike=%{y}<br>Open Int=%{marker.size}<extra></extra>",
         "legendgroup": "GM",
         "marker": {
          "color": "#00cc96",
          "size": [
           4208
          ],
          "sizemode": "area",
          "sizeref": 367.1425,
          "symbol": "circle"
         },
         "mode": "markers",
         "name": "GM",
         "scene": "scene",
         "showlegend": true,
         "type": "scatter3d",
         "x": [
          "GM"
         ],
         "y": [
          39
         ],
         "z": [
          4208
         ]
        },
        {
         "hovertemplate": "Symbol=%{x}<br>Strike=%{y}<br>Open Int=%{marker.size}<extra></extra>",
         "legendgroup": "GME",
         "marker": {
          "color": "#ab63fa",
          "size": [
           1563,
           2885
          ],
          "sizemode": "area",
          "sizeref": 367.1425,
          "symbol": "circle"
         },
         "mode": "markers",
         "name": "GME",
         "scene": "scene",
         "showlegend": true,
         "type": "scatter3d",
         "x": [
          "GME",
          "GME"
         ],
         "y": [
          25,
          28
         ],
         "z": [
          1563,
          2885
         ]
        },
        {
         "hovertemplate": "Symbol=%{x}<br>Strike=%{y}<br>Open Int=%{marker.size}<extra></extra>",
         "legendgroup": "GOLD",
         "marker": {
          "color": "#FFA15A",
          "size": [
           15490
          ],
          "sizemode": "area",
          "sizeref": 367.1425,
          "symbol": "circle"
         },
         "mode": "markers",
         "name": "GOLD",
         "scene": "scene",
         "showlegend": true,
         "type": "scatter3d",
         "x": [
          "GOLD"
         ],
         "y": [
          16
         ],
         "z": [
          15490
         ]
        },
        {
         "hovertemplate": "Symbol=%{x}<br>Strike=%{y}<br>Open Int=%{marker.size}<extra></extra>",
         "legendgroup": "GOOG",
         "marker": {
          "color": "#19d3f3",
          "size": [
           3032,
           29513
          ],
          "sizemode": "area",
          "sizeref": 367.1425,
          "symbol": "circle"
         },
         "mode": "markers",
         "name": "GOOG",
         "scene": "scene",
         "showlegend": true,
         "type": "scatter3d",
         "x": [
          "GOOG",
          "GOOG"
         ],
         "y": [
          108,
          110
         ],
         "z": [
          3032,
          29513
         ]
        },
        {
         "hovertemplate": "Symbol=%{x}<br>Strike=%{y}<br>Open Int=%{marker.size}<extra></extra>",
         "legendgroup": "GOOGL",
         "marker": {
          "color": "#FF6692",
          "size": [
           342,
           1225,
           1914,
           3103,
           14054,
           2799,
           17757,
           24047
          ],
          "sizemode": "area",
          "sizeref": 367.1425,
          "symbol": "circle"
         },
         "mode": "markers",
         "name": "GOOGL",
         "scene": "scene",
         "showlegend": true,
         "type": "scatter3d",
         "x": [
          "GOOGL",
          "GOOGL",
          "GOOGL",
          "GOOGL",
          "GOOGL",
          "GOOGL",
          "GOOGL",
          "GOOGL"
         ],
         "y": [
          101.5,
          103.25,
          103.5,
          104.5,
          105,
          106,
          110,
          115
         ],
         "z": [
          342,
          1225,
          1914,
          3103,
          14054,
          2799,
          17757,
          24047
         ]
        },
        {
         "hovertemplate": "Symbol=%{x}<br>Strike=%{y}<br>Open Int=%{marker.size}<extra></extra>",
         "legendgroup": "GPS",
         "marker": {
          "color": "#B6E880",
          "size": [
           2039
          ],
          "sizemode": "area",
          "sizeref": 367.1425,
          "symbol": "circle"
         },
         "mode": "markers",
         "name": "GPS",
         "scene": "scene",
         "showlegend": true,
         "type": "scatter3d",
         "x": [
          "GPS"
         ],
         "y": [
          9
         ],
         "z": [
          2039
         ]
        },
        {
         "hovertemplate": "Symbol=%{x}<br>Strike=%{y}<br>Open Int=%{marker.size}<extra></extra>",
         "legendgroup": "GS",
         "marker": {
          "color": "#FF97FF",
          "size": [
           651
          ],
          "sizemode": "area",
          "sizeref": 367.1425,
          "symbol": "circle"
         },
         "mode": "markers",
         "name": "GS",
         "scene": "scene",
         "showlegend": true,
         "type": "scatter3d",
         "x": [
          "GS"
         ],
         "y": [
          325
         ],
         "z": [
          651
         ]
        },
        {
         "hovertemplate": "Symbol=%{x}<br>Strike=%{y}<br>Open Int=%{marker.size}<extra></extra>",
         "legendgroup": "GSAT",
         "marker": {
          "color": "#FECB52",
          "size": [
           3647
          ],
          "sizemode": "area",
          "sizeref": 367.1425,
          "symbol": "circle"
         },
         "mode": "markers",
         "name": "GSAT",
         "scene": "scene",
         "showlegend": true,
         "type": "scatter3d",
         "x": [
          "GSAT"
         ],
         "y": [
          1.5
         ],
         "z": [
          3647
         ]
        },
        {
         "hovertemplate": "Symbol=%{x}<br>Strike=%{y}<br>Open Int=%{marker.size}<extra></extra>",
         "legendgroup": "GSK",
         "marker": {
          "color": "#636efa",
          "size": [
           3449
          ],
          "sizemode": "area",
          "sizeref": 367.1425,
          "symbol": "circle"
         },
         "mode": "markers",
         "name": "GSK",
         "scene": "scene",
         "showlegend": true,
         "type": "scatter3d",
         "x": [
          "GSK"
         ],
         "y": [
          33
         ],
         "z": [
          3449
         ]
        },
        {
         "hovertemplate": "Symbol=%{x}<br>Strike=%{y}<br>Open Int=%{marker.size}<extra></extra>",
         "legendgroup": "HCAT",
         "marker": {
          "color": "#EF553B",
          "size": [
           1041
          ],
          "sizemode": "area",
          "sizeref": 367.1425,
          "symbol": "circle"
         },
         "mode": "markers",
         "name": "HCAT",
         "scene": "scene",
         "showlegend": true,
         "type": "scatter3d",
         "x": [
          "HCAT"
         ],
         "y": [
          12.5
         ],
         "z": [
          1041
         ]
        },
        {
         "hovertemplate": "Symbol=%{x}<br>Strike=%{y}<br>Open Int=%{marker.size}<extra></extra>",
         "legendgroup": "HD",
         "marker": {
          "color": "#00cc96",
          "size": [
           1505
          ],
          "sizemode": "area",
          "sizeref": 367.1425,
          "symbol": "circle"
         },
         "mode": "markers",
         "name": "HD",
         "scene": "scene",
         "showlegend": true,
         "type": "scatter3d",
         "x": [
          "HD"
         ],
         "y": [
          280
         ],
         "z": [
          1505
         ]
        },
        {
         "hovertemplate": "Symbol=%{x}<br>Strike=%{y}<br>Open Int=%{marker.size}<extra></extra>",
         "legendgroup": "HOOD",
         "marker": {
          "color": "#ab63fa",
          "size": [
           9094,
           2818,
           2204
          ],
          "sizemode": "area",
          "sizeref": 367.1425,
          "symbol": "circle"
         },
         "mode": "markers",
         "name": "HOOD",
         "scene": "scene",
         "showlegend": true,
         "type": "scatter3d",
         "x": [
          "HOOD",
          "HOOD",
          "HOOD"
         ],
         "y": [
          10,
          10.5,
          11
         ],
         "z": [
          9094,
          2818,
          2204
         ]
        },
        {
         "hovertemplate": "Symbol=%{x}<br>Strike=%{y}<br>Open Int=%{marker.size}<extra></extra>",
         "legendgroup": "HPQ",
         "marker": {
          "color": "#FFA15A",
          "size": [
           4612
          ],
          "sizemode": "area",
          "sizeref": 367.1425,
          "symbol": "circle"
         },
         "mode": "markers",
         "name": "HPQ",
         "scene": "scene",
         "showlegend": true,
         "type": "scatter3d",
         "x": [
          "HPQ"
         ],
         "y": [
          28
         ],
         "z": [
          4612
         ]
        },
        {
         "hovertemplate": "Symbol=%{x}<br>Strike=%{y}<br>Open Int=%{marker.size}<extra></extra>",
         "legendgroup": "HUM",
         "marker": {
          "color": "#19d3f3",
          "size": [
           552
          ],
          "sizemode": "area",
          "sizeref": 367.1425,
          "symbol": "circle"
         },
         "mode": "markers",
         "name": "HUM",
         "scene": "scene",
         "showlegend": true,
         "type": "scatter3d",
         "x": [
          "HUM"
         ],
         "y": [
          500
         ],
         "z": [
          552
         ]
        },
        {
         "hovertemplate": "Symbol=%{x}<br>Strike=%{y}<br>Open Int=%{marker.size}<extra></extra>",
         "legendgroup": "IBM",
         "marker": {
          "color": "#FF6692",
          "size": [
           742,
           3141
          ],
          "sizemode": "area",
          "sizeref": 367.1425,
          "symbol": "circle"
         },
         "mode": "markers",
         "name": "IBM",
         "scene": "scene",
         "showlegend": true,
         "type": "scatter3d",
         "x": [
          "IBM",
          "IBM"
         ],
         "y": [
          127,
          130
         ],
         "z": [
          742,
          3141
         ]
        },
        {
         "hovertemplate": "Symbol=%{x}<br>Strike=%{y}<br>Open Int=%{marker.size}<extra></extra>",
         "legendgroup": "IEP",
         "marker": {
          "color": "#B6E880",
          "size": [
           988
          ],
          "sizemode": "area",
          "sizeref": 367.1425,
          "symbol": "circle"
         },
         "mode": "markers",
         "name": "IEP",
         "scene": "scene",
         "showlegend": true,
         "type": "scatter3d",
         "x": [
          "IEP"
         ],
         "y": [
          55
         ],
         "z": [
          988
         ]
        },
        {
         "hovertemplate": "Symbol=%{x}<br>Strike=%{y}<br>Open Int=%{marker.size}<extra></extra>",
         "legendgroup": "IMRA",
         "marker": {
          "color": "#FF97FF",
          "size": [
           4552
          ],
          "sizemode": "area",
          "sizeref": 367.1425,
          "symbol": "circle"
         },
         "mode": "markers",
         "name": "IMRA",
         "scene": "scene",
         "showlegend": true,
         "type": "scatter3d",
         "x": [
          "IMRA"
         ],
         "y": [
          2.5
         ],
         "z": [
          4552
         ]
        },
        {
         "hovertemplate": "Symbol=%{x}<br>Strike=%{y}<br>Open Int=%{marker.size}<extra></extra>",
         "legendgroup": "INTC",
         "marker": {
          "color": "#FECB52",
          "size": [
           2148,
           3930,
           5541,
           13735,
           5701,
           4383,
           29495
          ],
          "sizemode": "area",
          "sizeref": 367.1425,
          "symbol": "circle"
         },
         "mode": "markers",
         "name": "INTC",
         "scene": "scene",
         "showlegend": true,
         "type": "scatter3d",
         "x": [
          "INTC",
          "INTC",
          "INTC",
          "INTC",
          "INTC",
          "INTC",
          "INTC"
         ],
         "y": [
          28.5,
          29,
          29.5,
          30,
          30.5,
          32,
          35
         ],
         "z": [
          2148,
          3930,
          5541,
          13735,
          5701,
          4383,
          29495
         ]
        },
        {
         "hovertemplate": "Symbol=%{x}<br>Strike=%{y}<br>Open Int=%{marker.size}<extra></extra>",
         "legendgroup": "JBLU",
         "marker": {
          "color": "#636efa",
          "size": [
           1939,
           1554
          ],
          "sizemode": "area",
          "sizeref": 367.1425,
          "symbol": "circle"
         },
         "mode": "markers",
         "name": "JBLU",
         "scene": "scene",
         "showlegend": true,
         "type": "scatter3d",
         "x": [
          "JBLU",
          "JBLU"
         ],
         "y": [
          8,
          9
         ],
         "z": [
          1939,
          1554
         ]
        },
        {
         "hovertemplate": "Symbol=%{x}<br>Strike=%{y}<br>Open Int=%{marker.size}<extra></extra>",
         "legendgroup": "JD",
         "marker": {
          "color": "#EF553B",
          "size": [
           6251
          ],
          "sizemode": "area",
          "sizeref": 367.1425,
          "symbol": "circle"
         },
         "mode": "markers",
         "name": "JD",
         "scene": "scene",
         "showlegend": true,
         "type": "scatter3d",
         "x": [
          "JD"
         ],
         "y": [
          57.5
         ],
         "z": [
          6251
         ]
        },
        {
         "hovertemplate": "Symbol=%{x}<br>Strike=%{y}<br>Open Int=%{marker.size}<extra></extra>",
         "legendgroup": "JNJ",
         "marker": {
          "color": "#00cc96",
          "size": [
           4093
          ],
          "sizemode": "area",
          "sizeref": 367.1425,
          "symbol": "circle"
         },
         "mode": "markers",
         "name": "JNJ",
         "scene": "scene",
         "showlegend": true,
         "type": "scatter3d",
         "x": [
          "JNJ"
         ],
         "y": [
          165
         ],
         "z": [
          4093
         ]
        },
        {
         "hovertemplate": "Symbol=%{x}<br>Strike=%{y}<br>Open Int=%{marker.size}<extra></extra>",
         "legendgroup": "JPM",
         "marker": {
          "color": "#ab63fa",
          "size": [
           4661,
           12388,
           776,
           2899
          ],
          "sizemode": "area",
          "sizeref": 367.1425,
          "symbol": "circle"
         },
         "mode": "markers",
         "name": "JPM",
         "scene": "scene",
         "showlegend": true,
         "type": "scatter3d",
         "x": [
          "JPM",
          "JPM",
          "JPM",
          "JPM"
         ],
         "y": [
          110,
          115,
          116,
          117
         ],
         "z": [
          4661,
          12388,
          776,
          2899
         ]
        },
        {
         "hovertemplate": "Symbol=%{x}<br>Strike=%{y}<br>Open Int=%{marker.size}<extra></extra>",
         "legendgroup": "KO",
         "marker": {
          "color": "#FFA15A",
          "size": [
           10868
          ],
          "sizemode": "area",
          "sizeref": 367.1425,
          "symbol": "circle"
         },
         "mode": "markers",
         "name": "KO",
         "scene": "scene",
         "showlegend": true,
         "type": "scatter3d",
         "x": [
          "KO"
         ],
         "y": [
          60
         ],
         "z": [
          10868
         ]
        },
        {
         "hovertemplate": "Symbol=%{x}<br>Strike=%{y}<br>Open Int=%{marker.size}<extra></extra>",
         "legendgroup": "KOS",
         "marker": {
          "color": "#19d3f3",
          "size": [
           1187
          ],
          "sizemode": "area",
          "sizeref": 367.1425,
          "symbol": "circle"
         },
         "mode": "markers",
         "name": "KOS",
         "scene": "scene",
         "showlegend": true,
         "type": "scatter3d",
         "x": [
          "KOS"
         ],
         "y": [
          5
         ],
         "z": [
          1187
         ]
        },
        {
         "hovertemplate": "Symbol=%{x}<br>Strike=%{y}<br>Open Int=%{marker.size}<extra></extra>",
         "legendgroup": "KR",
         "marker": {
          "color": "#FF6692",
          "size": [
           2966
          ],
          "sizemode": "area",
          "sizeref": 367.1425,
          "symbol": "circle"
         },
         "mode": "markers",
         "name": "KR",
         "scene": "scene",
         "showlegend": true,
         "type": "scatter3d",
         "x": [
          "KR"
         ],
         "y": [
          48
         ],
         "z": [
          2966
         ]
        },
        {
         "hovertemplate": "Symbol=%{x}<br>Strike=%{y}<br>Open Int=%{marker.size}<extra></extra>",
         "legendgroup": "LAZR",
         "marker": {
          "color": "#B6E880",
          "size": [
           872
          ],
          "sizemode": "area",
          "sizeref": 367.1425,
          "symbol": "circle"
         },
         "mode": "markers",
         "name": "LAZR",
         "scene": "scene",
         "showlegend": true,
         "type": "scatter3d",
         "x": [
          "LAZR"
         ],
         "y": [
          8.5
         ],
         "z": [
          872
         ]
        },
        {
         "hovertemplate": "Symbol=%{x}<br>Strike=%{y}<br>Open Int=%{marker.size}<extra></extra>",
         "legendgroup": "LCID",
         "marker": {
          "color": "#FF97FF",
          "size": [
           2834,
           4460,
           5285,
           1446,
           577,
           2370
          ],
          "sizemode": "area",
          "sizeref": 367.1425,
          "symbol": "circle"
         },
         "mode": "markers",
         "name": "LCID",
         "scene": "scene",
         "showlegend": true,
         "type": "scatter3d",
         "x": [
          "LCID",
          "LCID",
          "LCID",
          "LCID",
          "LCID",
          "LCID"
         ],
         "y": [
          15,
          15.5,
          16,
          16.5,
          17.5,
          18
         ],
         "z": [
          2834,
          4460,
          5285,
          1446,
          577,
          2370
         ]
        },
        {
         "hovertemplate": "Symbol=%{x}<br>Strike=%{y}<br>Open Int=%{marker.size}<extra></extra>",
         "legendgroup": "LEN",
         "marker": {
          "color": "#FECB52",
          "size": [
           750
          ],
          "sizemode": "area",
          "sizeref": 367.1425,
          "symbol": "circle"
         },
         "mode": "markers",
         "name": "LEN",
         "scene": "scene",
         "showlegend": true,
         "type": "scatter3d",
         "x": [
          "LEN"
         ],
         "y": [
          76
         ],
         "z": [
          750
         ]
        },
        {
         "hovertemplate": "Symbol=%{x}<br>Strike=%{y}<br>Open Int=%{marker.size}<extra></extra>",
         "legendgroup": "LI",
         "marker": {
          "color": "#636efa",
          "size": [
           5187
          ],
          "sizemode": "area",
          "sizeref": 367.1425,
          "symbol": "circle"
         },
         "mode": "markers",
         "name": "LI",
         "scene": "scene",
         "showlegend": true,
         "type": "scatter3d",
         "x": [
          "LI"
         ],
         "y": [
          25
         ],
         "z": [
          5187
         ]
        },
        {
         "hovertemplate": "Symbol=%{x}<br>Strike=%{y}<br>Open Int=%{marker.size}<extra></extra>",
         "legendgroup": "LMND",
         "marker": {
          "color": "#EF553B",
          "size": [
           408
          ],
          "sizemode": "area",
          "sizeref": 367.1425,
          "symbol": "circle"
         },
         "mode": "markers",
         "name": "LMND",
         "scene": "scene",
         "showlegend": true,
         "type": "scatter3d",
         "x": [
          "LMND"
         ],
         "y": [
          25
         ],
         "z": [
          408
         ]
        },
        {
         "hovertemplate": "Symbol=%{x}<br>Strike=%{y}<br>Open Int=%{marker.size}<extra></extra>",
         "legendgroup": "LOW",
         "marker": {
          "color": "#00cc96",
          "size": [
           839,
           1289
          ],
          "sizemode": "area",
          "sizeref": 367.1425,
          "symbol": "circle"
         },
         "mode": "markers",
         "name": "LOW",
         "scene": "scene",
         "showlegend": true,
         "type": "scatter3d",
         "x": [
          "LOW",
          "LOW"
         ],
         "y": [
          192.5,
          195
         ],
         "z": [
          839,
          1289
         ]
        },
        {
         "hovertemplate": "Symbol=%{x}<br>Strike=%{y}<br>Open Int=%{marker.size}<extra></extra>",
         "legendgroup": "LVS",
         "marker": {
          "color": "#ab63fa",
          "size": [
           18420
          ],
          "sizemode": "area",
          "sizeref": 367.1425,
          "symbol": "circle"
         },
         "mode": "markers",
         "name": "LVS",
         "scene": "scene",
         "showlegend": true,
         "type": "scatter3d",
         "x": [
          "LVS"
         ],
         "y": [
          38
         ],
         "z": [
          18420
         ]
        },
        {
         "hovertemplate": "Symbol=%{x}<br>Strike=%{y}<br>Open Int=%{marker.size}<extra></extra>",
         "legendgroup": "LYFT",
         "marker": {
          "color": "#FFA15A",
          "size": [
           9396
          ],
          "sizemode": "area",
          "sizeref": 367.1425,
          "symbol": "circle"
         },
         "mode": "markers",
         "name": "LYFT",
         "scene": "scene",
         "showlegend": true,
         "type": "scatter3d",
         "x": [
          "LYFT"
         ],
         "y": [
          17
         ],
         "z": [
          9396
         ]
        },
        {
         "hovertemplate": "Symbol=%{x}<br>Strike=%{y}<br>Open Int=%{marker.size}<extra></extra>",
         "legendgroup": "M",
         "marker": {
          "color": "#19d3f3",
          "size": [
           3876
          ],
          "sizemode": "area",
          "sizeref": 367.1425,
          "symbol": "circle"
         },
         "mode": "markers",
         "name": "M",
         "scene": "scene",
         "showlegend": true,
         "type": "scatter3d",
         "x": [
          "M"
         ],
         "y": [
          17
         ],
         "z": [
          3876
         ]
        },
        {
         "hovertemplate": "Symbol=%{x}<br>Strike=%{y}<br>Open Int=%{marker.size}<extra></extra>",
         "legendgroup": "MA",
         "marker": {
          "color": "#FF6692",
          "size": [
           941
          ],
          "sizemode": "area",
          "sizeref": 367.1425,
          "symbol": "circle"
         },
         "mode": "markers",
         "name": "MA",
         "scene": "scene",
         "showlegend": true,
         "type": "scatter3d",
         "x": [
          "MA"
         ],
         "y": [
          315
         ],
         "z": [
          941
         ]
        },
        {
         "hovertemplate": "Symbol=%{x}<br>Strike=%{y}<br>Open Int=%{marker.size}<extra></extra>",
         "legendgroup": "MARA",
         "marker": {
          "color": "#B6E880",
          "size": [
           4278,
           3711,
           3327,
           16728
          ],
          "sizemode": "area",
          "sizeref": 367.1425,
          "symbol": "circle"
         },
         "mode": "markers",
         "name": "MARA",
         "scene": "scene",
         "showlegend": true,
         "type": "scatter3d",
         "x": [
          "MARA",
          "MARA",
          "MARA",
          "MARA"
         ],
         "y": [
          11.5,
          12,
          12.5,
          15
         ],
         "z": [
          4278,
          3711,
          3327,
          16728
         ]
        },
        {
         "hovertemplate": "Symbol=%{x}<br>Strike=%{y}<br>Open Int=%{marker.size}<extra></extra>",
         "legendgroup": "MCD",
         "marker": {
          "color": "#FF97FF",
          "size": [
           1575,
           1113
          ],
          "sizemode": "area",
          "sizeref": 367.1425,
          "symbol": "circle"
         },
         "mode": "markers",
         "name": "MCD",
         "scene": "scene",
         "showlegend": true,
         "type": "scatter3d",
         "x": [
          "MCD",
          "MCD"
         ],
         "y": [
          252.5,
          255
         ],
         "z": [
          1575,
          1113
         ]
        },
        {
         "hovertemplate": "Symbol=%{x}<br>Strike=%{y}<br>Open Int=%{marker.size}<extra></extra>",
         "legendgroup": "MDB",
         "marker": {
          "color": "#FECB52",
          "size": [
           1028
          ],
          "sizemode": "area",
          "sizeref": 367.1425,
          "symbol": "circle"
         },
         "mode": "markers",
         "name": "MDB",
         "scene": "scene",
         "showlegend": true,
         "type": "scatter3d",
         "x": [
          "MDB"
         ],
         "y": [
          220
         ],
         "z": [
          1028
         ]
        },
        {
         "hovertemplate": "Symbol=%{x}<br>Strike=%{y}<br>Open Int=%{marker.size}<extra></extra>",
         "legendgroup": "ME",
         "marker": {
          "color": "#636efa",
          "size": [
           929
          ],
          "sizemode": "area",
          "sizeref": 367.1425,
          "symbol": "circle"
         },
         "mode": "markers",
         "name": "ME",
         "scene": "scene",
         "showlegend": true,
         "type": "scatter3d",
         "x": [
          "ME"
         ],
         "y": [
          4
         ],
         "z": [
          929
         ]
        },
        {
         "hovertemplate": "Symbol=%{x}<br>Strike=%{y}<br>Open Int=%{marker.size}<extra></extra>",
         "legendgroup": "META",
         "marker": {
          "color": "#EF553B",
          "size": [
           1026,
           21497,
           6406,
           11172,
           6586,
           26901,
           32156,
           26161
          ],
          "sizemode": "area",
          "sizeref": 367.1425,
          "symbol": "circle"
         },
         "mode": "markers",
         "name": "META",
         "scene": "scene",
         "showlegend": true,
         "type": "scatter3d",
         "x": [
          "META",
          "META",
          "META",
          "META",
          "META",
          "META",
          "META",
          "META"
         ],
         "y": [
          145,
          150,
          152.5,
          155,
          157.5,
          160,
          165,
          170
         ],
         "z": [
          1026,
          21497,
          6406,
          11172,
          6586,
          26901,
          32156,
          26161
         ]
        },
        {
         "hovertemplate": "Symbol=%{x}<br>Strike=%{y}<br>Open Int=%{marker.size}<extra></extra>",
         "legendgroup": "MO",
         "marker": {
          "color": "#00cc96",
          "size": [
           1345
          ],
          "sizemode": "area",
          "sizeref": 367.1425,
          "symbol": "circle"
         },
         "mode": "markers",
         "name": "MO",
         "scene": "scene",
         "showlegend": true,
         "type": "scatter3d",
         "x": [
          "MO"
         ],
         "y": [
          37.5
         ],
         "z": [
          1345
         ]
        },
        {
         "hovertemplate": "Symbol=%{x}<br>Strike=%{y}<br>Open Int=%{marker.size}<extra></extra>",
         "legendgroup": "MOS",
         "marker": {
          "color": "#ab63fa",
          "size": [
           1467
          ],
          "sizemode": "area",
          "sizeref": 367.1425,
          "symbol": "circle"
         },
         "mode": "markers",
         "name": "MOS",
         "scene": "scene",
         "showlegend": true,
         "type": "scatter3d",
         "x": [
          "MOS"
         ],
         "y": [
          52
         ],
         "z": [
          1467
         ]
        },
        {
         "hovertemplate": "Symbol=%{x}<br>Strike=%{y}<br>Open Int=%{marker.size}<extra></extra>",
         "legendgroup": "MPC",
         "marker": {
          "color": "#FFA15A",
          "size": [
           2048,
           21542
          ],
          "sizemode": "area",
          "sizeref": 367.1425,
          "symbol": "circle"
         },
         "mode": "markers",
         "name": "MPC",
         "scene": "scene",
         "showlegend": true,
         "type": "scatter3d",
         "x": [
          "MPC",
          "MPC"
         ],
         "y": [
          95,
          98
         ],
         "z": [
          2048,
          21542
         ]
        },
        {
         "hovertemplate": "Symbol=%{x}<br>Strike=%{y}<br>Open Int=%{marker.size}<extra></extra>",
         "legendgroup": "MPW",
         "marker": {
          "color": "#19d3f3",
          "size": [
           5555,
           3891
          ],
          "sizemode": "area",
          "sizeref": 367.1425,
          "symbol": "circle"
         },
         "mode": "markers",
         "name": "MPW",
         "scene": "scene",
         "showlegend": true,
         "type": "scatter3d",
         "x": [
          "MPW",
          "MPW"
         ],
         "y": [
          14,
          15
         ],
         "z": [
          5555,
          3891
         ]
        },
        {
         "hovertemplate": "Symbol=%{x}<br>Strike=%{y}<br>Open Int=%{marker.size}<extra></extra>",
         "legendgroup": "MQ",
         "marker": {
          "color": "#FF6692",
          "size": [
           2076
          ],
          "sizemode": "area",
          "sizeref": 367.1425,
          "symbol": "circle"
         },
         "mode": "markers",
         "name": "MQ",
         "scene": "scene",
         "showlegend": true,
         "type": "scatter3d",
         "x": [
          "MQ"
         ],
         "y": [
          7.5
         ],
         "z": [
          2076
         ]
        },
        {
         "hovertemplate": "Symbol=%{x}<br>Strike=%{y}<br>Open Int=%{marker.size}<extra></extra>",
         "legendgroup": "MRNA",
         "marker": {
          "color": "#B6E880",
          "size": [
           294,
           871,
           472,
           2109
          ],
          "sizemode": "area",
          "sizeref": 367.1425,
          "symbol": "circle"
         },
         "mode": "markers",
         "name": "MRNA",
         "scene": "scene",
         "showlegend": true,
         "type": "scatter3d",
         "x": [
          "MRNA",
          "MRNA",
          "MRNA",
          "MRNA"
         ],
         "y": [
          137,
          138,
          138,
          140
         ],
         "z": [
          294,
          871,
          472,
          2109
         ]
        },
        {
         "hovertemplate": "Symbol=%{x}<br>Strike=%{y}<br>Open Int=%{marker.size}<extra></extra>",
         "legendgroup": "MRO",
         "marker": {
          "color": "#FF97FF",
          "size": [
           2706
          ],
          "sizemode": "area",
          "sizeref": 367.1425,
          "symbol": "circle"
         },
         "mode": "markers",
         "name": "MRO",
         "scene": "scene",
         "showlegend": true,
         "type": "scatter3d",
         "x": [
          "MRO"
         ],
         "y": [
          26
         ],
         "z": [
          2706
         ]
        },
        {
         "hovertemplate": "Symbol=%{x}<br>Strike=%{y}<br>Open Int=%{marker.size}<extra></extra>",
         "legendgroup": "MS",
         "marker": {
          "color": "#FECB52",
          "size": [
           4340
          ],
          "sizemode": "area",
          "sizeref": 367.1425,
          "symbol": "circle"
         },
         "mode": "markers",
         "name": "MS",
         "scene": "scene",
         "showlegend": true,
         "type": "scatter3d",
         "x": [
          "MS"
         ],
         "y": [
          87.5
         ],
         "z": [
          4340
         ]
        },
        {
         "hovertemplate": "Symbol=%{x}<br>Strike=%{y}<br>Open Int=%{marker.size}<extra></extra>",
         "legendgroup": "MSFT",
         "marker": {
          "color": "#636efa",
          "size": [
           7606,
           10231,
           4437,
           6851,
           18697,
           2394,
           15966
          ],
          "sizemode": "area",
          "sizeref": 367.1425,
          "symbol": "circle"
         },
         "mode": "markers",
         "name": "MSFT",
         "scene": "scene",
         "showlegend": true,
         "type": "scatter3d",
         "x": [
          "MSFT",
          "MSFT",
          "MSFT",
          "MSFT",
          "MSFT",
          "MSFT",
          "MSFT"
         ],
         "y": [
          245,
          250,
          252.5,
          255,
          260,
          262.5,
          270
         ],
         "z": [
          7606,
          10231,
          4437,
          6851,
          18697,
          2394,
          15966
         ]
        },
        {
         "hovertemplate": "Symbol=%{x}<br>Strike=%{y}<br>Open Int=%{marker.size}<extra></extra>",
         "legendgroup": "MSTR",
         "marker": {
          "color": "#EF553B",
          "size": [
           813
          ],
          "sizemode": "area",
          "sizeref": 367.1425,
          "symbol": "circle"
         },
         "mode": "markers",
         "name": "MSTR",
         "scene": "scene",
         "showlegend": true,
         "type": "scatter3d",
         "x": [
          "MSTR"
         ],
         "y": [
          210
         ],
         "z": [
          813
         ]
        },
        {
         "hovertemplate": "Symbol=%{x}<br>Strike=%{y}<br>Open Int=%{marker.size}<extra></extra>",
         "legendgroup": "MU",
         "marker": {
          "color": "#00cc96",
          "size": [
           2919,
           13874
          ],
          "sizemode": "area",
          "sizeref": 367.1425,
          "symbol": "circle"
         },
         "mode": "markers",
         "name": "MU",
         "scene": "scene",
         "showlegend": true,
         "type": "scatter3d",
         "x": [
          "MU",
          "MU"
         ],
         "y": [
          54,
          55
         ],
         "z": [
          2919,
          13874
         ]
        },
        {
         "hovertemplate": "Symbol=%{x}<br>Strike=%{y}<br>Open Int=%{marker.size}<extra></extra>",
         "legendgroup": "NAT",
         "marker": {
          "color": "#ab63fa",
          "size": [
           2577
          ],
          "sizemode": "area",
          "sizeref": 367.1425,
          "symbol": "circle"
         },
         "mode": "markers",
         "name": "NAT",
         "scene": "scene",
         "showlegend": true,
         "type": "scatter3d",
         "x": [
          "NAT"
         ],
         "y": [
          3
         ],
         "z": [
          2577
         ]
        },
        {
         "hovertemplate": "Symbol=%{x}<br>Strike=%{y}<br>Open Int=%{marker.size}<extra></extra>",
         "legendgroup": "NCLH",
         "marker": {
          "color": "#FFA15A",
          "size": [
           2139,
           10381,
           911
          ],
          "sizemode": "area",
          "sizeref": 367.1425,
          "symbol": "circle"
         },
         "mode": "markers",
         "name": "NCLH",
         "scene": "scene",
         "showlegend": true,
         "type": "scatter3d",
         "x": [
          "NCLH",
          "NCLH",
          "NCLH"
         ],
         "y": [
          14.5,
          15,
          15.5
         ],
         "z": [
          2139,
          10381,
          911
         ]
        },
        {
         "hovertemplate": "Symbol=%{x}<br>Strike=%{y}<br>Open Int=%{marker.size}<extra></extra>",
         "legendgroup": "NEE",
         "marker": {
          "color": "#19d3f3",
          "size": [
           3502
          ],
          "sizemode": "area",
          "sizeref": 367.1425,
          "symbol": "circle"
         },
         "mode": "markers",
         "name": "NEE",
         "scene": "scene",
         "showlegend": true,
         "type": "scatter3d",
         "x": [
          "NEE"
         ],
         "y": [
          85
         ],
         "z": [
          3502
         ]
        },
        {
         "hovertemplate": "Symbol=%{x}<br>Strike=%{y}<br>Open Int=%{marker.size}<extra></extra>",
         "legendgroup": "NEM",
         "marker": {
          "color": "#FF6692",
          "size": [
           331
          ],
          "sizemode": "area",
          "sizeref": 367.1425,
          "symbol": "circle"
         },
         "mode": "markers",
         "name": "NEM",
         "scene": "scene",
         "showlegend": true,
         "type": "scatter3d",
         "x": [
          "NEM"
         ],
         "y": [
          44
         ],
         "z": [
          331
         ]
        },
        {
         "hovertemplate": "Symbol=%{x}<br>Strike=%{y}<br>Open Int=%{marker.size}<extra></extra>",
         "legendgroup": "NET",
         "marker": {
          "color": "#B6E880",
          "size": [
           2816
          ],
          "sizemode": "area",
          "sizeref": 367.1425,
          "symbol": "circle"
         },
         "mode": "markers",
         "name": "NET",
         "scene": "scene",
         "showlegend": true,
         "type": "scatter3d",
         "x": [
          "NET"
         ],
         "y": [
          60
         ],
         "z": [
          2816
         ]
        },
        {
         "hovertemplate": "Symbol=%{x}<br>Strike=%{y}<br>Open Int=%{marker.size}<extra></extra>",
         "legendgroup": "NFLX",
         "marker": {
          "color": "#FF97FF",
          "size": [
           12501,
           1096,
           3236,
           7330,
           1772,
           6071
          ],
          "sizemode": "area",
          "sizeref": 367.1425,
          "symbol": "circle"
         },
         "mode": "markers",
         "name": "NFLX",
         "scene": "scene",
         "showlegend": true,
         "type": "scatter3d",
         "x": [
          "NFLX",
          "NFLX",
          "NFLX",
          "NFLX",
          "NFLX",
          "NFLX"
         ],
         "y": [
          225,
          227.5,
          230,
          235,
          237.5,
          240
         ],
         "z": [
          12501,
          1096,
          3236,
          7330,
          1772,
          6071
         ]
        },
        {
         "hovertemplate": "Symbol=%{x}<br>Strike=%{y}<br>Open Int=%{marker.size}<extra></extra>",
         "legendgroup": "NIO",
         "marker": {
          "color": "#FECB52",
          "size": [
           1060,
           3050,
           3785,
           2475,
           18188,
           15221,
           10151,
           10818,
           3376
          ],
          "sizemode": "area",
          "sizeref": 367.1425,
          "symbol": "circle"
         },
         "mode": "markers",
         "name": "NIO",
         "scene": "scene",
         "showlegend": true,
         "type": "scatter3d",
         "x": [
          "NIO",
          "NIO",
          "NIO",
          "NIO",
          "NIO",
          "NIO",
          "NIO",
          "NIO",
          "NIO"
         ],
         "y": [
          17,
          18,
          19,
          19.5,
          20,
          20.5,
          21,
          21.5,
          22
         ],
         "z": [
          1060,
          3050,
          3785,
          2475,
          18188,
          15221,
          10151,
          10818,
          3376
         ]
        },
        {
         "hovertemplate": "Symbol=%{x}<br>Strike=%{y}<br>Open Int=%{marker.size}<extra></extra>",
         "legendgroup": "NKE",
         "marker": {
          "color": "#636efa",
          "size": [
           3621
          ],
          "sizemode": "area",
          "sizeref": 367.1425,
          "symbol": "circle"
         },
         "mode": "markers",
         "name": "NKE",
         "scene": "scene",
         "showlegend": true,
         "type": "scatter3d",
         "x": [
          "NKE"
         ],
         "y": [
          105
         ],
         "z": [
          3621
         ]
        },
        {
         "hovertemplate": "Symbol=%{x}<br>Strike=%{y}<br>Open Int=%{marker.size}<extra></extra>",
         "legendgroup": "NKLA",
         "marker": {
          "color": "#EF553B",
          "size": [
           24992
          ],
          "sizemode": "area",
          "sizeref": 367.1425,
          "symbol": "circle"
         },
         "mode": "markers",
         "name": "NKLA",
         "scene": "scene",
         "showlegend": true,
         "type": "scatter3d",
         "x": [
          "NKLA"
         ],
         "y": [
          5.5
         ],
         "z": [
          24992
         ]
        },
        {
         "hovertemplate": "Symbol=%{x}<br>Strike=%{y}<br>Open Int=%{marker.size}<extra></extra>",
         "legendgroup": "NOV",
         "marker": {
          "color": "#00cc96",
          "size": [
           1821
          ],
          "sizemode": "area",
          "sizeref": 367.1425,
          "symbol": "circle"
         },
         "mode": "markers",
         "name": "NOV",
         "scene": "scene",
         "showlegend": true,
         "type": "scatter3d",
         "x": [
          "NOV"
         ],
         "y": [
          14
         ],
         "z": [
          1821
         ]
        },
        {
         "hovertemplate": "Symbol=%{x}<br>Strike=%{y}<br>Open Int=%{marker.size}<extra></extra>",
         "legendgroup": "NVAX",
         "marker": {
          "color": "#ab63fa",
          "size": [
           1414
          ],
          "sizemode": "area",
          "sizeref": 367.1425,
          "symbol": "circle"
         },
         "mode": "markers",
         "name": "NVAX",
         "scene": "scene",
         "showlegend": true,
         "type": "scatter3d",
         "x": [
          "NVAX"
         ],
         "y": [
          31.5
         ],
         "z": [
          1414
         ]
        },
        {
         "hovertemplate": "Symbol=%{x}<br>Strike=%{y}<br>Open Int=%{marker.size}<extra></extra>",
         "legendgroup": "NVDA",
         "marker": {
          "color": "#FFA15A",
          "size": [
           2002,
           1097,
           1468,
           5501,
           2936,
           4378,
           2040,
           3079,
           3430,
           12249,
           10187,
           5554,
           11273
          ],
          "sizemode": "area",
          "sizeref": 367.1425,
          "symbol": "circle"
         },
         "mode": "markers",
         "name": "NVDA",
         "scene": "scene",
         "showlegend": true,
         "type": "scatter3d",
         "x": [
          "NVDA",
          "NVDA",
          "NVDA",
          "NVDA",
          "NVDA",
          "NVDA",
          "NVDA",
          "NVDA",
          "NVDA",
          "NVDA",
          "NVDA",
          "NVDA",
          "NVDA"
         ],
         "y": [
          125,
          128,
          129,
          130,
          131,
          132,
          132,
          133,
          134,
          135,
          140,
          145,
          150
         ],
         "z": [
          2002,
          1097,
          1468,
          5501,
          2936,
          4378,
          2040,
          3079,
          3430,
          12249,
          10187,
          5554,
          11273
         ]
        },
        {
         "hovertemplate": "Symbol=%{x}<br>Strike=%{y}<br>Open Int=%{marker.size}<extra></extra>",
         "legendgroup": "NVTA",
         "marker": {
          "color": "#19d3f3",
          "size": [
           1748
          ],
          "sizemode": "area",
          "sizeref": 367.1425,
          "symbol": "circle"
         },
         "mode": "markers",
         "name": "NVTA",
         "scene": "scene",
         "showlegend": true,
         "type": "scatter3d",
         "x": [
          "NVTA"
         ],
         "y": [
          3.5
         ],
         "z": [
          1748
         ]
        },
        {
         "hovertemplate": "Symbol=%{x}<br>Strike=%{y}<br>Open Int=%{marker.size}<extra></extra>",
         "legendgroup": "NXPI",
         "marker": {
          "color": "#FF6692",
          "size": [
           1626
          ],
          "sizemode": "area",
          "sizeref": 367.1425,
          "symbol": "circle"
         },
         "mode": "markers",
         "name": "NXPI",
         "scene": "scene",
         "showlegend": true,
         "type": "scatter3d",
         "x": [
          "NXPI"
         ],
         "y": [
          155
         ],
         "z": [
          1626
         ]
        },
        {
         "hovertemplate": "Symbol=%{x}<br>Strike=%{y}<br>Open Int=%{marker.size}<extra></extra>",
         "legendgroup": "OKE",
         "marker": {
          "color": "#B6E880",
          "size": [
           914
          ],
          "sizemode": "area",
          "sizeref": 367.1425,
          "symbol": "circle"
         },
         "mode": "markers",
         "name": "OKE",
         "scene": "scene",
         "showlegend": true,
         "type": "scatter3d",
         "x": [
          "OKE"
         ],
         "y": [
          60
         ],
         "z": [
          914
         ]
        },
        {
         "hovertemplate": "Symbol=%{x}<br>Strike=%{y}<br>Open Int=%{marker.size}<extra></extra>",
         "legendgroup": "OKTA",
         "marker": {
          "color": "#FF97FF",
          "size": [
           336
          ],
          "sizemode": "area",
          "sizeref": 367.1425,
          "symbol": "circle"
         },
         "mode": "markers",
         "name": "OKTA",
         "scene": "scene",
         "showlegend": true,
         "type": "scatter3d",
         "x": [
          "OKTA"
         ],
         "y": [
          59
         ],
         "z": [
          336
         ]
        },
        {
         "hovertemplate": "Symbol=%{x}<br>Strike=%{y}<br>Open Int=%{marker.size}<extra></extra>",
         "legendgroup": "OPK",
         "marker": {
          "color": "#FECB52",
          "size": [
           915
          ],
          "sizemode": "area",
          "sizeref": 367.1425,
          "symbol": "circle"
         },
         "mode": "markers",
         "name": "OPK",
         "scene": "scene",
         "showlegend": true,
         "type": "scatter3d",
         "x": [
          "OPK"
         ],
         "y": [
          2.5
         ],
         "z": [
          915
         ]
        },
        {
         "hovertemplate": "Symbol=%{x}<br>Strike=%{y}<br>Open Int=%{marker.size}<extra></extra>",
         "legendgroup": "ORCL",
         "marker": {
          "color": "#636efa",
          "size": [
           1954,
           3318
          ],
          "sizemode": "area",
          "sizeref": 367.1425,
          "symbol": "circle"
         },
         "mode": "markers",
         "name": "ORCL",
         "scene": "scene",
         "showlegend": true,
         "type": "scatter3d",
         "x": [
          "ORCL",
          "ORCL"
         ],
         "y": [
          69,
          72
         ],
         "z": [
          1954,
          3318
         ]
        },
        {
         "hovertemplate": "Symbol=%{x}<br>Strike=%{y}<br>Open Int=%{marker.size}<extra></extra>",
         "legendgroup": "OXY",
         "marker": {
          "color": "#EF553B",
          "size": [
           2805,
           5280,
           2421
          ],
          "sizemode": "area",
          "sizeref": 367.1425,
          "symbol": "circle"
         },
         "mode": "markers",
         "name": "OXY",
         "scene": "scene",
         "showlegend": true,
         "type": "scatter3d",
         "x": [
          "OXY",
          "OXY",
          "OXY"
         ],
         "y": [
          57.5,
          60,
          66
         ],
         "z": [
          2805,
          5280,
          2421
         ]
        },
        {
         "hovertemplate": "Symbol=%{x}<br>Strike=%{y}<br>Open Int=%{marker.size}<extra></extra>",
         "legendgroup": "PANW",
         "marker": {
          "color": "#00cc96",
          "size": [
           1072,
           426,
           1171
          ],
          "sizemode": "area",
          "sizeref": 367.1425,
          "symbol": "circle"
         },
         "mode": "markers",
         "name": "PANW",
         "scene": "scene",
         "showlegend": true,
         "type": "scatter3d",
         "x": [
          "PANW",
          "PANW",
          "PANW"
         ],
         "y": [
          175,
          178.33,
          180
         ],
         "z": [
          1072,
          426,
          1171
         ]
        },
        {
         "hovertemplate": "Symbol=%{x}<br>Strike=%{y}<br>Open Int=%{marker.size}<extra></extra>",
         "legendgroup": "PARA",
         "marker": {
          "color": "#ab63fa",
          "size": [
           1460,
           1195,
           1025,
           3672
          ],
          "sizemode": "area",
          "sizeref": 367.1425,
          "symbol": "circle"
         },
         "mode": "markers",
         "name": "PARA",
         "scene": "scene",
         "showlegend": true,
         "type": "scatter3d",
         "x": [
          "PARA",
          "PARA",
          "PARA",
          "PARA"
         ],
         "y": [
          22,
          22.5,
          23,
          24
         ],
         "z": [
          1460,
          1195,
          1025,
          3672
         ]
        },
        {
         "hovertemplate": "Symbol=%{x}<br>Strike=%{y}<br>Open Int=%{marker.size}<extra></extra>",
         "legendgroup": "PATH",
         "marker": {
          "color": "#FFA15A",
          "size": [
           2120
          ],
          "sizemode": "area",
          "sizeref": 367.1425,
          "symbol": "circle"
         },
         "mode": "markers",
         "name": "PATH",
         "scene": "scene",
         "showlegend": true,
         "type": "scatter3d",
         "x": [
          "PATH"
         ],
         "y": [
          15
         ],
         "z": [
          2120
         ]
        },
        {
         "hovertemplate": "Symbol=%{x}<br>Strike=%{y}<br>Open Int=%{marker.size}<extra></extra>",
         "legendgroup": "PBR",
         "marker": {
          "color": "#19d3f3",
          "size": [
           2612,
           11214,
           14353
          ],
          "sizemode": "area",
          "sizeref": 367.1425,
          "symbol": "circle"
         },
         "mode": "markers",
         "name": "PBR",
         "scene": "scene",
         "showlegend": true,
         "type": "scatter3d",
         "x": [
          "PBR",
          "PBR",
          "PBR"
         ],
         "y": [
          13,
          14,
          15
         ],
         "z": [
          2612,
          11214,
          14353
         ]
        },
        {
         "hovertemplate": "Symbol=%{x}<br>Strike=%{y}<br>Open Int=%{marker.size}<extra></extra>",
         "legendgroup": "PCG",
         "marker": {
          "color": "#FF6692",
          "size": [
           26858
          ],
          "sizemode": "area",
          "sizeref": 367.1425,
          "symbol": "circle"
         },
         "mode": "markers",
         "name": "PCG",
         "scene": "scene",
         "showlegend": true,
         "type": "scatter3d",
         "x": [
          "PCG"
         ],
         "y": [
          13
         ],
         "z": [
          26858
         ]
        },
        {
         "hovertemplate": "Symbol=%{x}<br>Strike=%{y}<br>Open Int=%{marker.size}<extra></extra>",
         "legendgroup": "PDD",
         "marker": {
          "color": "#B6E880",
          "size": [
           1297
          ],
          "sizemode": "area",
          "sizeref": 367.1425,
          "symbol": "circle"
         },
         "mode": "markers",
         "name": "PDD",
         "scene": "scene",
         "showlegend": true,
         "type": "scatter3d",
         "x": [
          "PDD"
         ],
         "y": [
          68
         ],
         "z": [
          1297
         ]
        },
        {
         "hovertemplate": "Symbol=%{x}<br>Strike=%{y}<br>Open Int=%{marker.size}<extra></extra>",
         "legendgroup": "PFE",
         "marker": {
          "color": "#FF97FF",
          "size": [
           11166,
           959,
           16533
          ],
          "sizemode": "area",
          "sizeref": 367.1425,
          "symbol": "circle"
         },
         "mode": "markers",
         "name": "PFE",
         "scene": "scene",
         "showlegend": true,
         "type": "scatter3d",
         "x": [
          "PFE",
          "PFE",
          "PFE"
         ],
         "y": [
          45,
          46.5,
          47
         ],
         "z": [
          11166,
          959,
          16533
         ]
        },
        {
         "hovertemplate": "Symbol=%{x}<br>Strike=%{y}<br>Open Int=%{marker.size}<extra></extra>",
         "legendgroup": "PGR",
         "marker": {
          "color": "#FECB52",
          "size": [
           625
          ],
          "sizemode": "area",
          "sizeref": 367.1425,
          "symbol": "circle"
         },
         "mode": "markers",
         "name": "PGR",
         "scene": "scene",
         "showlegend": true,
         "type": "scatter3d",
         "x": [
          "PGR"
         ],
         "y": [
          125
         ],
         "z": [
          625
         ]
        },
        {
         "hovertemplate": "Symbol=%{x}<br>Strike=%{y}<br>Open Int=%{marker.size}<extra></extra>",
         "legendgroup": "PINS",
         "marker": {
          "color": "#636efa",
          "size": [
           4719
          ],
          "sizemode": "area",
          "sizeref": 367.1425,
          "symbol": "circle"
         },
         "mode": "markers",
         "name": "PINS",
         "scene": "scene",
         "showlegend": true,
         "type": "scatter3d",
         "x": [
          "PINS"
         ],
         "y": [
          25
         ],
         "z": [
          4719
         ]
        },
        {
         "hovertemplate": "Symbol=%{x}<br>Strike=%{y}<br>Open Int=%{marker.size}<extra></extra>",
         "legendgroup": "PLTR",
         "marker": {
          "color": "#EF553B",
          "size": [
           8534,
           11266,
           6379
          ],
          "sizemode": "area",
          "sizeref": 367.1425,
          "symbol": "circle"
         },
         "mode": "markers",
         "name": "PLTR",
         "scene": "scene",
         "showlegend": true,
         "type": "scatter3d",
         "x": [
          "PLTR",
          "PLTR",
          "PLTR"
         ],
         "y": [
          7.5,
          8,
          9
         ],
         "z": [
          8534,
          11266,
          6379
         ]
        },
        {
         "hovertemplate": "Symbol=%{x}<br>Strike=%{y}<br>Open Int=%{marker.size}<extra></extra>",
         "legendgroup": "PLUG",
         "marker": {
          "color": "#00cc96",
          "size": [
           12154,
           1088,
           1812,
           4846,
           1355
          ],
          "sizemode": "area",
          "sizeref": 367.1425,
          "symbol": "circle"
         },
         "mode": "markers",
         "name": "PLUG",
         "scene": "scene",
         "showlegend": true,
         "type": "scatter3d",
         "x": [
          "PLUG",
          "PLUG",
          "PLUG",
          "PLUG",
          "PLUG"
         ],
         "y": [
          25,
          28,
          29,
          30,
          30.5
         ],
         "z": [
          12154,
          1088,
          1812,
          4846,
          1355
         ]
        },
        {
         "hovertemplate": "Symbol=%{x}<br>Strike=%{y}<br>Open Int=%{marker.size}<extra></extra>",
         "legendgroup": "PTON",
         "marker": {
          "color": "#ab63fa",
          "size": [
           7479,
           2043
          ],
          "sizemode": "area",
          "sizeref": 367.1425,
          "symbol": "circle"
         },
         "mode": "markers",
         "name": "PTON",
         "scene": "scene",
         "showlegend": true,
         "type": "scatter3d",
         "x": [
          "PTON",
          "PTON"
         ],
         "y": [
          10,
          10.5
         ],
         "z": [
          7479,
          2043
         ]
        },
        {
         "hovertemplate": "Symbol=%{x}<br>Strike=%{y}<br>Open Int=%{marker.size}<extra></extra>",
         "legendgroup": "PYPL",
         "marker": {
          "color": "#FFA15A",
          "size": [
           11616,
           2741,
           1198,
           5322,
           6370
          ],
          "sizemode": "area",
          "sizeref": 367.1425,
          "symbol": "circle"
         },
         "mode": "markers",
         "name": "PYPL",
         "scene": "scene",
         "showlegend": true,
         "type": "scatter3d",
         "x": [
          "PYPL",
          "PYPL",
          "PYPL",
          "PYPL",
          "PYPL"
         ],
         "y": [
          90,
          92.5,
          94,
          94,
          95
         ],
         "z": [
          11616,
          2741,
          1198,
          5322,
          6370
         ]
        },
        {
         "hovertemplate": "Symbol=%{x}<br>Strike=%{y}<br>Open Int=%{marker.size}<extra></extra>",
         "legendgroup": "QCOM",
         "marker": {
          "color": "#19d3f3",
          "size": [
           3534,
           3568
          ],
          "sizemode": "area",
          "sizeref": 367.1425,
          "symbol": "circle"
         },
         "mode": "markers",
         "name": "QCOM",
         "scene": "scene",
         "showlegend": true,
         "type": "scatter3d",
         "x": [
          "QCOM",
          "QCOM"
         ],
         "y": [
          125,
          130
         ],
         "z": [
          3534,
          3568
         ]
        },
        {
         "hovertemplate": "Symbol=%{x}<br>Strike=%{y}<br>Open Int=%{marker.size}<extra></extra>",
         "legendgroup": "QS",
         "marker": {
          "color": "#FF6692",
          "size": [
           2719
          ],
          "sizemode": "area",
          "sizeref": 367.1425,
          "symbol": "circle"
         },
         "mode": "markers",
         "name": "QS",
         "scene": "scene",
         "showlegend": true,
         "type": "scatter3d",
         "x": [
          "QS"
         ],
         "y": [
          11
         ],
         "z": [
          2719
         ]
        },
        {
         "hovertemplate": "Symbol=%{x}<br>Strike=%{y}<br>Open Int=%{marker.size}<extra></extra>",
         "legendgroup": "QSR",
         "marker": {
          "color": "#B6E880",
          "size": [
           3994
          ],
          "sizemode": "area",
          "sizeref": 367.1425,
          "symbol": "circle"
         },
         "mode": "markers",
         "name": "QSR",
         "scene": "scene",
         "showlegend": true,
         "type": "scatter3d",
         "x": [
          "QSR"
         ],
         "y": [
          57.5
         ],
         "z": [
          3994
         ]
        },
        {
         "hovertemplate": "Symbol=%{x}<br>Strike=%{y}<br>Open Int=%{marker.size}<extra></extra>",
         "legendgroup": "RBLX",
         "marker": {
          "color": "#FF97FF",
          "size": [
           9499,
           3917,
           1140,
           2685,
           2485,
           11146
          ],
          "sizemode": "area",
          "sizeref": 367.1425,
          "symbol": "circle"
         },
         "mode": "markers",
         "name": "RBLX",
         "scene": "scene",
         "showlegend": true,
         "type": "scatter3d",
         "x": [
          "RBLX",
          "RBLX",
          "RBLX",
          "RBLX",
          "RBLX",
          "RBLX"
         ],
         "y": [
          40,
          40.5,
          41,
          42,
          43,
          45
         ],
         "z": [
          9499,
          3917,
          1140,
          2685,
          2485,
          11146
         ]
        },
        {
         "hovertemplate": "Symbol=%{x}<br>Strike=%{y}<br>Open Int=%{marker.size}<extra></extra>",
         "legendgroup": "RCL",
         "marker": {
          "color": "#FECB52",
          "size": [
           7498
          ],
          "sizemode": "area",
          "sizeref": 367.1425,
          "symbol": "circle"
         },
         "mode": "markers",
         "name": "RCL",
         "scene": "scene",
         "showlegend": true,
         "type": "scatter3d",
         "x": [
          "RCL"
         ],
         "y": [
          50
         ],
         "z": [
          7498
         ]
        },
        {
         "hovertemplate": "Symbol=%{x}<br>Strike=%{y}<br>Open Int=%{marker.size}<extra></extra>",
         "legendgroup": "RDFN",
         "marker": {
          "color": "#636efa",
          "size": [
           3444
          ],
          "sizemode": "area",
          "sizeref": 367.1425,
          "symbol": "circle"
         },
         "mode": "markers",
         "name": "RDFN",
         "scene": "scene",
         "showlegend": true,
         "type": "scatter3d",
         "x": [
          "RDFN"
         ],
         "y": [
          8
         ],
         "z": [
          3444
         ]
        },
        {
         "hovertemplate": "Symbol=%{x}<br>Strike=%{y}<br>Open Int=%{marker.size}<extra></extra>",
         "legendgroup": "REV",
         "marker": {
          "color": "#EF553B",
          "size": [
           922,
           771
          ],
          "sizemode": "area",
          "sizeref": 367.1425,
          "symbol": "circle"
         },
         "mode": "markers",
         "name": "REV",
         "scene": "scene",
         "showlegend": true,
         "type": "scatter3d",
         "x": [
          "REV",
          "REV"
         ],
         "y": [
          6,
          6.5
         ],
         "z": [
          922,
          771
         ]
        },
        {
         "hovertemplate": "Symbol=%{x}<br>Strike=%{y}<br>Open Int=%{marker.size}<extra></extra>",
         "legendgroup": "RIG",
         "marker": {
          "color": "#00cc96",
          "size": [
           14387
          ],
          "sizemode": "area",
          "sizeref": 367.1425,
          "symbol": "circle"
         },
         "mode": "markers",
         "name": "RIG",
         "scene": "scene",
         "showlegend": true,
         "type": "scatter3d",
         "x": [
          "RIG"
         ],
         "y": [
          3.5
         ],
         "z": [
          14387
         ]
        },
        {
         "hovertemplate": "Symbol=%{x}<br>Strike=%{y}<br>Open Int=%{marker.size}<extra></extra>",
         "legendgroup": "RIOT",
         "marker": {
          "color": "#ab63fa",
          "size": [
           6722,
           3473,
           3429
          ],
          "sizemode": "area",
          "sizeref": 367.1425,
          "symbol": "circle"
         },
         "mode": "markers",
         "name": "RIOT",
         "scene": "scene",
         "showlegend": true,
         "type": "scatter3d",
         "x": [
          "RIOT",
          "RIOT",
          "RIOT"
         ],
         "y": [
          7,
          7.5,
          8
         ],
         "z": [
          6722,
          3473,
          3429
         ]
        },
        {
         "hovertemplate": "Symbol=%{x}<br>Strike=%{y}<br>Open Int=%{marker.size}<extra></extra>",
         "legendgroup": "RIVN",
         "marker": {
          "color": "#FFA15A",
          "size": [
           6808,
           1342
          ],
          "sizemode": "area",
          "sizeref": 367.1425,
          "symbol": "circle"
         },
         "mode": "markers",
         "name": "RIVN",
         "scene": "scene",
         "showlegend": true,
         "type": "scatter3d",
         "x": [
          "RIVN",
          "RIVN"
         ],
         "y": [
          35,
          39
         ],
         "z": [
          6808,
          1342
         ]
        },
        {
         "hovertemplate": "Symbol=%{x}<br>Strike=%{y}<br>Open Int=%{marker.size}<extra></extra>",
         "legendgroup": "ROKU",
         "marker": {
          "color": "#19d3f3",
          "size": [
           2125,
           678,
           1794,
           1669
          ],
          "sizemode": "area",
          "sizeref": 367.1425,
          "symbol": "circle"
         },
         "mode": "markers",
         "name": "ROKU",
         "scene": "scene",
         "showlegend": true,
         "type": "scatter3d",
         "x": [
          "ROKU",
          "ROKU",
          "ROKU",
          "ROKU"
         ],
         "y": [
          70,
          71,
          72,
          73
         ],
         "z": [
          2125,
          678,
          1794,
          1669
         ]
        },
        {
         "hovertemplate": "Symbol=%{x}<br>Strike=%{y}<br>Open Int=%{marker.size}<extra></extra>",
         "legendgroup": "RUN",
         "marker": {
          "color": "#FF6692",
          "size": [
           5460
          ],
          "sizemode": "area",
          "sizeref": 367.1425,
          "symbol": "circle"
         },
         "mode": "markers",
         "name": "RUN",
         "scene": "scene",
         "showlegend": true,
         "type": "scatter3d",
         "x": [
          "RUN"
         ],
         "y": [
          35
         ],
         "z": [
          5460
         ]
        },
        {
         "hovertemplate": "Symbol=%{x}<br>Strike=%{y}<br>Open Int=%{marker.size}<extra></extra>",
         "legendgroup": "SAVA",
         "marker": {
          "color": "#B6E880",
          "size": [
           3401
          ],
          "sizemode": "area",
          "sizeref": 367.1425,
          "symbol": "circle"
         },
         "mode": "markers",
         "name": "SAVA",
         "scene": "scene",
         "showlegend": true,
         "type": "scatter3d",
         "x": [
          "SAVA"
         ],
         "y": [
          30
         ],
         "z": [
          3401
         ]
        },
        {
         "hovertemplate": "Symbol=%{x}<br>Strike=%{y}<br>Open Int=%{marker.size}<extra></extra>",
         "legendgroup": "SBSW",
         "marker": {
          "color": "#FF97FF",
          "size": [
           3431
          ],
          "sizemode": "area",
          "sizeref": 367.1425,
          "symbol": "circle"
         },
         "mode": "markers",
         "name": "SBSW",
         "scene": "scene",
         "showlegend": true,
         "type": "scatter3d",
         "x": [
          "SBSW"
         ],
         "y": [
          10
         ],
         "z": [
          3431
         ]
        },
        {
         "hovertemplate": "Symbol=%{x}<br>Strike=%{y}<br>Open Int=%{marker.size}<extra></extra>",
         "legendgroup": "SBUX",
         "marker": {
          "color": "#FECB52",
          "size": [
           14430,
           2809,
           16176,
           3680,
           1814
          ],
          "sizemode": "area",
          "sizeref": 367.1425,
          "symbol": "circle"
         },
         "mode": "markers",
         "name": "SBUX",
         "scene": "scene",
         "showlegend": true,
         "type": "scatter3d",
         "x": [
          "SBUX",
          "SBUX",
          "SBUX",
          "SBUX",
          "SBUX"
         ],
         "y": [
          87.5,
          88,
          90,
          91,
          92
         ],
         "z": [
          14430,
          2809,
          16176,
          3680,
          1814
         ]
        },
        {
         "hovertemplate": "Symbol=%{x}<br>Strike=%{y}<br>Open Int=%{marker.size}<extra></extra>",
         "legendgroup": "SCHW",
         "marker": {
          "color": "#636efa",
          "size": [
           2579
          ],
          "sizemode": "area",
          "sizeref": 367.1425,
          "symbol": "circle"
         },
         "mode": "markers",
         "name": "SCHW",
         "scene": "scene",
         "showlegend": true,
         "type": "scatter3d",
         "x": [
          "SCHW"
         ],
         "y": [
          70
         ],
         "z": [
          2579
         ]
        },
        {
         "hovertemplate": "Symbol=%{x}<br>Strike=%{y}<br>Open Int=%{marker.size}<extra></extra>",
         "legendgroup": "SE",
         "marker": {
          "color": "#EF553B",
          "size": [
           9795
          ],
          "sizemode": "area",
          "sizeref": 367.1425,
          "symbol": "circle"
         },
         "mode": "markers",
         "name": "SE",
         "scene": "scene",
         "showlegend": true,
         "type": "scatter3d",
         "x": [
          "SE"
         ],
         "y": [
          60
         ],
         "z": [
          9795
         ]
        },
        {
         "hovertemplate": "Symbol=%{x}<br>Strike=%{y}<br>Open Int=%{marker.size}<extra></extra>",
         "legendgroup": "SHOP",
         "marker": {
          "color": "#00cc96",
          "size": [
           1051,
           5991,
           12051,
           5280,
           5232
          ],
          "sizemode": "area",
          "sizeref": 367.1425,
          "symbol": "circle"
         },
         "mode": "markers",
         "name": "SHOP",
         "scene": "scene",
         "showlegend": true,
         "type": "scatter3d",
         "x": [
          "SHOP",
          "SHOP",
          "SHOP",
          "SHOP",
          "SHOP"
         ],
         "y": [
          31.5,
          32.5,
          33,
          34,
          35
         ],
         "z": [
          1051,
          5991,
          12051,
          5280,
          5232
         ]
        },
        {
         "hovertemplate": "Symbol=%{x}<br>Strike=%{y}<br>Open Int=%{marker.size}<extra></extra>",
         "legendgroup": "SLB",
         "marker": {
          "color": "#ab63fa",
          "size": [
           12462
          ],
          "sizemode": "area",
          "sizeref": 367.1425,
          "symbol": "circle"
         },
         "mode": "markers",
         "name": "SLB",
         "scene": "scene",
         "showlegend": true,
         "type": "scatter3d",
         "x": [
          "SLB"
         ],
         "y": [
          37.5
         ],
         "z": [
          12462
         ]
        },
        {
         "hovertemplate": "Symbol=%{x}<br>Strike=%{y}<br>Open Int=%{marker.size}<extra></extra>",
         "legendgroup": "SNAP",
         "marker": {
          "color": "#FFA15A",
          "size": [
           1396,
           11115,
           9832,
           21867
          ],
          "sizemode": "area",
          "sizeref": 367.1425,
          "symbol": "circle"
         },
         "mode": "markers",
         "name": "SNAP",
         "scene": "scene",
         "showlegend": true,
         "type": "scatter3d",
         "x": [
          "SNAP",
          "SNAP",
          "SNAP",
          "SNAP"
         ],
         "y": [
          10.5,
          11,
          11.5,
          12
         ],
         "z": [
          1396,
          11115,
          9832,
          21867
         ]
        },
        {
         "hovertemplate": "Symbol=%{x}<br>Strike=%{y}<br>Open Int=%{marker.size}<extra></extra>",
         "legendgroup": "SNOW",
         "marker": {
          "color": "#19d3f3",
          "size": [
           178,
           1131,
           1618,
           584
          ],
          "sizemode": "area",
          "sizeref": 367.1425,
          "symbol": "circle"
         },
         "mode": "markers",
         "name": "SNOW",
         "scene": "scene",
         "showlegend": true,
         "type": "scatter3d",
         "x": [
          "SNOW",
          "SNOW",
          "SNOW",
          "SNOW"
         ],
         "y": [
          182.5,
          185,
          185,
          192.5
         ],
         "z": [
          178,
          1131,
          1618,
          584
         ]
        },
        {
         "hovertemplate": "Symbol=%{x}<br>Strike=%{y}<br>Open Int=%{marker.size}<extra></extra>",
         "legendgroup": "SOFI",
         "marker": {
          "color": "#FF6692",
          "size": [
           7565,
           5121
          ],
          "sizemode": "area",
          "sizeref": 367.1425,
          "symbol": "circle"
         },
         "mode": "markers",
         "name": "SOFI",
         "scene": "scene",
         "showlegend": true,
         "type": "scatter3d",
         "x": [
          "SOFI",
          "SOFI"
         ],
         "y": [
          6.5,
          7
         ],
         "z": [
          7565,
          5121
         ]
        },
        {
         "hovertemplate": "Symbol=%{x}<br>Strike=%{y}<br>Open Int=%{marker.size}<extra></extra>",
         "legendgroup": "SPCE",
         "marker": {
          "color": "#B6E880",
          "size": [
           1576
          ],
          "sizemode": "area",
          "sizeref": 367.1425,
          "symbol": "circle"
         },
         "mode": "markers",
         "name": "SPCE",
         "scene": "scene",
         "showlegend": true,
         "type": "scatter3d",
         "x": [
          "SPCE"
         ],
         "y": [
          5.5
         ],
         "z": [
          1576
         ]
        },
        {
         "hovertemplate": "Symbol=%{x}<br>Strike=%{y}<br>Open Int=%{marker.size}<extra></extra>",
         "legendgroup": "SQ",
         "marker": {
          "color": "#FF97FF",
          "size": [
           6380,
           1701,
           1429,
           3407,
           11620
          ],
          "sizemode": "area",
          "sizeref": 367.1425,
          "symbol": "circle"
         },
         "mode": "markers",
         "name": "SQ",
         "scene": "scene",
         "showlegend": true,
         "type": "scatter3d",
         "x": [
          "SQ",
          "SQ",
          "SQ",
          "SQ",
          "SQ"
         ],
         "y": [
          65,
          66,
          67,
          67.5,
          70
         ],
         "z": [
          6380,
          1701,
          1429,
          3407,
          11620
         ]
        },
        {
         "hovertemplate": "Symbol=%{x}<br>Strike=%{y}<br>Open Int=%{marker.size}<extra></extra>",
         "legendgroup": "SRG",
         "marker": {
          "color": "#FECB52",
          "size": [
           6356
          ],
          "sizemode": "area",
          "sizeref": 367.1425,
          "symbol": "circle"
         },
         "mode": "markers",
         "name": "SRG",
         "scene": "scene",
         "showlegend": true,
         "type": "scatter3d",
         "x": [
          "SRG"
         ],
         "y": [
          12
         ],
         "z": [
          6356
         ]
        },
        {
         "hovertemplate": "Symbol=%{x}<br>Strike=%{y}<br>Open Int=%{marker.size}<extra></extra>",
         "legendgroup": "SSYS",
         "marker": {
          "color": "#636efa",
          "size": [
           833
          ],
          "sizemode": "area",
          "sizeref": 367.1425,
          "symbol": "circle"
         },
         "mode": "markers",
         "name": "SSYS",
         "scene": "scene",
         "showlegend": true,
         "type": "scatter3d",
         "x": [
          "SSYS"
         ],
         "y": [
          17.5
         ],
         "z": [
          833
         ]
        },
        {
         "hovertemplate": "Symbol=%{x}<br>Strike=%{y}<br>Open Int=%{marker.size}<extra></extra>",
         "legendgroup": "STLD",
         "marker": {
          "color": "#EF553B",
          "size": [
           2064
          ],
          "sizemode": "area",
          "sizeref": 367.1425,
          "symbol": "circle"
         },
         "mode": "markers",
         "name": "STLD",
         "scene": "scene",
         "showlegend": true,
         "type": "scatter3d",
         "x": [
          "STLD"
         ],
         "y": [
          80
         ],
         "z": [
          2064
         ]
        },
        {
         "hovertemplate": "Symbol=%{x}<br>Strike=%{y}<br>Open Int=%{marker.size}<extra></extra>",
         "legendgroup": "SWN",
         "marker": {
          "color": "#00cc96",
          "size": [
           8905,
           7482
          ],
          "sizemode": "area",
          "sizeref": 367.1425,
          "symbol": "circle"
         },
         "mode": "markers",
         "name": "SWN",
         "scene": "scene",
         "showlegend": true,
         "type": "scatter3d",
         "x": [
          "SWN",
          "SWN"
         ],
         "y": [
          7,
          8
         ],
         "z": [
          8905,
          7482
         ]
        },
        {
         "hovertemplate": "Symbol=%{x}<br>Strike=%{y}<br>Open Int=%{marker.size}<extra></extra>",
         "legendgroup": "T",
         "marker": {
          "color": "#ab63fa",
          "size": [
           21474,
           1690,
           38542
          ],
          "sizemode": "area",
          "sizeref": 367.1425,
          "symbol": "circle"
         },
         "mode": "markers",
         "name": "T",
         "scene": "scene",
         "showlegend": true,
         "type": "scatter3d",
         "x": [
          "T",
          "T",
          "T"
         ],
         "y": [
          17,
          17.5,
          18
         ],
         "z": [
          21474,
          1690,
          38542
         ]
        },
        {
         "hovertemplate": "Symbol=%{x}<br>Strike=%{y}<br>Open Int=%{marker.size}<extra></extra>",
         "legendgroup": "TCOM",
         "marker": {
          "color": "#FFA15A",
          "size": [
           14816
          ],
          "sizemode": "area",
          "sizeref": 367.1425,
          "symbol": "circle"
         },
         "mode": "markers",
         "name": "TCOM",
         "scene": "scene",
         "showlegend": true,
         "type": "scatter3d",
         "x": [
          "TCOM"
         ],
         "y": [
          25
         ],
         "z": [
          14816
         ]
        },
        {
         "hovertemplate": "Symbol=%{x}<br>Strike=%{y}<br>Open Int=%{marker.size}<extra></extra>",
         "legendgroup": "TCRT",
         "marker": {
          "color": "#19d3f3",
          "size": [
           1591
          ],
          "sizemode": "area",
          "sizeref": 367.1425,
          "symbol": "circle"
         },
         "mode": "markers",
         "name": "TCRT",
         "scene": "scene",
         "showlegend": true,
         "type": "scatter3d",
         "x": [
          "TCRT"
         ],
         "y": [
          2
         ],
         "z": [
          1591
         ]
        },
        {
         "hovertemplate": "Symbol=%{x}<br>Strike=%{y}<br>Open Int=%{marker.size}<extra></extra>",
         "legendgroup": "TEVA",
         "marker": {
          "color": "#FF6692",
          "size": [
           26748
          ],
          "sizemode": "area",
          "sizeref": 367.1425,
          "symbol": "circle"
         },
         "mode": "markers",
         "name": "TEVA",
         "scene": "scene",
         "showlegend": true,
         "type": "scatter3d",
         "x": [
          "TEVA"
         ],
         "y": [
          9
         ],
         "z": [
          26748
         ]
        },
        {
         "hovertemplate": "Symbol=%{x}<br>Strike=%{y}<br>Open Int=%{marker.size}<extra></extra>",
         "legendgroup": "TGT",
         "marker": {
          "color": "#B6E880",
          "size": [
           2591
          ],
          "sizemode": "area",
          "sizeref": 367.1425,
          "symbol": "circle"
         },
         "mode": "markers",
         "name": "TGT",
         "scene": "scene",
         "showlegend": true,
         "type": "scatter3d",
         "x": [
          "TGT"
         ],
         "y": [
          165
         ],
         "z": [
          2591
         ]
        },
        {
         "hovertemplate": "Symbol=%{x}<br>Strike=%{y}<br>Open Int=%{marker.size}<extra></extra>",
         "legendgroup": "TH",
         "marker": {
          "color": "#FF97FF",
          "size": [
           3279
          ],
          "sizemode": "area",
          "sizeref": 367.1425,
          "symbol": "circle"
         },
         "mode": "markers",
         "name": "TH",
         "scene": "scene",
         "showlegend": true,
         "type": "scatter3d",
         "x": [
          "TH"
         ],
         "y": [
          12.5
         ],
         "z": [
          3279
         ]
        },
        {
         "hovertemplate": "Symbol=%{x}<br>Strike=%{y}<br>Open Int=%{marker.size}<extra></extra>",
         "legendgroup": "TLRY",
         "marker": {
          "color": "#FECB52",
          "size": [
           5449
          ],
          "sizemode": "area",
          "sizeref": 367.1425,
          "symbol": "circle"
         },
         "mode": "markers",
         "name": "TLRY",
         "scene": "scene",
         "showlegend": true,
         "type": "scatter3d",
         "x": [
          "TLRY"
         ],
         "y": [
          3
         ],
         "z": [
          5449
         ]
        },
        {
         "hovertemplate": "Symbol=%{x}<br>Strike=%{y}<br>Open Int=%{marker.size}<extra></extra>",
         "legendgroup": "TMUS",
         "marker": {
          "color": "#636efa",
          "size": [
           3432
          ],
          "sizemode": "area",
          "sizeref": 367.1425,
          "symbol": "circle"
         },
         "mode": "markers",
         "name": "TMUS",
         "scene": "scene",
         "showlegend": true,
         "type": "scatter3d",
         "x": [
          "TMUS"
         ],
         "y": [
          140
         ],
         "z": [
          3432
         ]
        },
        {
         "hovertemplate": "Symbol=%{x}<br>Strike=%{y}<br>Open Int=%{marker.size}<extra></extra>",
         "legendgroup": "TSLA",
         "marker": {
          "color": "#EF553B",
          "size": [
           39413,
           3073,
           35272,
           15220,
           35387,
           9747,
           3900,
           5934,
           7388,
           13497,
           5960,
           4916,
           2025,
           8392,
           2779,
           2071,
           2820,
           6309,
           2527,
           10621,
           2957,
           3541,
           4716,
           34198,
           9620,
           9645,
           10331,
           6360,
           4764,
           2092
          ],
          "sizemode": "area",
          "sizeref": 367.1425,
          "symbol": "circle"
         },
         "mode": "markers",
         "name": "TSLA",
         "scene": "scene",
         "showlegend": true,
         "type": "scatter3d",
         "x": [
          "TSLA",
          "TSLA",
          "TSLA",
          "TSLA",
          "TSLA",
          "TSLA",
          "TSLA",
          "TSLA",
          "TSLA",
          "TSLA",
          "TSLA",
          "TSLA",
          "TSLA",
          "TSLA",
          "TSLA",
          "TSLA",
          "TSLA",
          "TSLA",
          "TSLA",
          "TSLA",
          "TSLA",
          "TSLA",
          "TSLA",
          "TSLA",
          "TSLA",
          "TSLA",
          "TSLA",
          "TSLA",
          "TSLA",
          "TSLA"
         ],
         "y": [
          166.67,
          203.33,
          250,
          260,
          266.67,
          270,
          275,
          276.67,
          280,
          283.33,
          285,
          286.67,
          288.33,
          290,
          290.83,
          291.67,
          292.5,
          293.33,
          294.17,
          295,
          295.83,
          296.67,
          298.33,
          300,
          301.67,
          303.33,
          305,
          306.67,
          310,
          313.33
         ],
         "z": [
          39413,
          3073,
          35272,
          15220,
          35387,
          9747,
          3900,
          5934,
          7388,
          13497,
          5960,
          4916,
          2025,
          8392,
          2779,
          2071,
          2820,
          6309,
          2527,
          10621,
          2957,
          3541,
          4716,
          34198,
          9620,
          9645,
          10331,
          6360,
          4764,
          2092
         ]
        },
        {
         "hovertemplate": "Symbol=%{x}<br>Strike=%{y}<br>Open Int=%{marker.size}<extra></extra>",
         "legendgroup": "TSM",
         "marker": {
          "color": "#00cc96",
          "size": [
           11069
          ],
          "sizemode": "area",
          "sizeref": 367.1425,
          "symbol": "circle"
         },
         "mode": "markers",
         "name": "TSM",
         "scene": "scene",
         "showlegend": true,
         "type": "scatter3d",
         "x": [
          "TSM"
         ],
         "y": [
          80
         ],
         "z": [
          11069
         ]
        },
        {
         "hovertemplate": "Symbol=%{x}<br>Strike=%{y}<br>Open Int=%{marker.size}<extra></extra>",
         "legendgroup": "TTD",
         "marker": {
          "color": "#ab63fa",
          "size": [
           1084
          ],
          "sizemode": "area",
          "sizeref": 367.1425,
          "symbol": "circle"
         },
         "mode": "markers",
         "name": "TTD",
         "scene": "scene",
         "showlegend": true,
         "type": "scatter3d",
         "x": [
          "TTD"
         ],
         "y": [
          55
         ],
         "z": [
          1084
         ]
        },
        {
         "hovertemplate": "Symbol=%{x}<br>Strike=%{y}<br>Open Int=%{marker.size}<extra></extra>",
         "legendgroup": "TTWO",
         "marker": {
          "color": "#FFA15A",
          "size": [
           567
          ],
          "sizemode": "area",
          "sizeref": 367.1425,
          "symbol": "circle"
         },
         "mode": "markers",
         "name": "TTWO",
         "scene": "scene",
         "showlegend": true,
         "type": "scatter3d",
         "x": [
          "TTWO"
         ],
         "y": [
          127
         ],
         "z": [
          567
         ]
        },
        {
         "hovertemplate": "Symbol=%{x}<br>Strike=%{y}<br>Open Int=%{marker.size}<extra></extra>",
         "legendgroup": "TWTR",
         "marker": {
          "color": "#19d3f3",
          "size": [
           25997,
           15868,
           2750,
           11481,
           2617
          ],
          "sizemode": "area",
          "sizeref": 367.1425,
          "symbol": "circle"
         },
         "mode": "markers",
         "name": "TWTR",
         "scene": "scene",
         "showlegend": true,
         "type": "scatter3d",
         "x": [
          "TWTR",
          "TWTR",
          "TWTR",
          "TWTR",
          "TWTR"
         ],
         "y": [
          40,
          41,
          41.5,
          42,
          43
         ],
         "z": [
          25997,
          15868,
          2750,
          11481,
          2617
         ]
        },
        {
         "hovertemplate": "Symbol=%{x}<br>Strike=%{y}<br>Open Int=%{marker.size}<extra></extra>",
         "legendgroup": "TXG",
         "marker": {
          "color": "#FF6692",
          "size": [
           2081
          ],
          "sizemode": "area",
          "sizeref": 367.1425,
          "symbol": "circle"
         },
         "mode": "markers",
         "name": "TXG",
         "scene": "scene",
         "showlegend": true,
         "type": "scatter3d",
         "x": [
          "TXG"
         ],
         "y": [
          40
         ],
         "z": [
          2081
         ]
        },
        {
         "hovertemplate": "Symbol=%{x}<br>Strike=%{y}<br>Open Int=%{marker.size}<extra></extra>",
         "legendgroup": "TXN",
         "marker": {
          "color": "#B6E880",
          "size": [
           2857
          ],
          "sizemode": "area",
          "sizeref": 367.1425,
          "symbol": "circle"
         },
         "mode": "markers",
         "name": "TXN",
         "scene": "scene",
         "showlegend": true,
         "type": "scatter3d",
         "x": [
          "TXN"
         ],
         "y": [
          165
         ],
         "z": [
          2857
         ]
        },
        {
         "hovertemplate": "Symbol=%{x}<br>Strike=%{y}<br>Open Int=%{marker.size}<extra></extra>",
         "legendgroup": "U",
         "marker": {
          "color": "#FF97FF",
          "size": [
           2391
          ],
          "sizemode": "area",
          "sizeref": 367.1425,
          "symbol": "circle"
         },
         "mode": "markers",
         "name": "U",
         "scene": "scene",
         "showlegend": true,
         "type": "scatter3d",
         "x": [
          "U"
         ],
         "y": [
          40
         ],
         "z": [
          2391
         ]
        },
        {
         "hovertemplate": "Symbol=%{x}<br>Strike=%{y}<br>Open Int=%{marker.size}<extra></extra>",
         "legendgroup": "UAL",
         "marker": {
          "color": "#FECB52",
          "size": [
           6869,
           12409,
           17336
          ],
          "sizemode": "area",
          "sizeref": 367.1425,
          "symbol": "circle"
         },
         "mode": "markers",
         "name": "UAL",
         "scene": "scene",
         "showlegend": true,
         "type": "scatter3d",
         "x": [
          "UAL",
          "UAL",
          "UAL"
         ],
         "y": [
          37,
          38,
          40
         ],
         "z": [
          6869,
          12409,
          17336
         ]
        },
        {
         "hovertemplate": "Symbol=%{x}<br>Strike=%{y}<br>Open Int=%{marker.size}<extra></extra>",
         "legendgroup": "UBER",
         "marker": {
          "color": "#636efa",
          "size": [
           22276,
           6393,
           6364,
           18277
          ],
          "sizemode": "area",
          "sizeref": 367.1425,
          "symbol": "circle"
         },
         "mode": "markers",
         "name": "UBER",
         "scene": "scene",
         "showlegend": true,
         "type": "scatter3d",
         "x": [
          "UBER",
          "UBER",
          "UBER",
          "UBER"
         ],
         "y": [
          30,
          31,
          31.5,
          32.5
         ],
         "z": [
          22276,
          6393,
          6364,
          18277
         ]
        },
        {
         "hovertemplate": "Symbol=%{x}<br>Strike=%{y}<br>Open Int=%{marker.size}<extra></extra>",
         "legendgroup": "UNM",
         "marker": {
          "color": "#EF553B",
          "size": [
           2923
          ],
          "sizemode": "area",
          "sizeref": 367.1425,
          "symbol": "circle"
         },
         "mode": "markers",
         "name": "UNM",
         "scene": "scene",
         "showlegend": true,
         "type": "scatter3d",
         "x": [
          "UNM"
         ],
         "y": [
          40
         ],
         "z": [
          2923
         ]
        },
        {
         "hovertemplate": "Symbol=%{x}<br>Strike=%{y}<br>Open Int=%{marker.size}<extra></extra>",
         "legendgroup": "UPLD",
         "marker": {
          "color": "#00cc96",
          "size": [
           6600
          ],
          "sizemode": "area",
          "sizeref": 367.1425,
          "symbol": "circle"
         },
         "mode": "markers",
         "name": "UPLD",
         "scene": "scene",
         "showlegend": true,
         "type": "scatter3d",
         "x": [
          "UPLD"
         ],
         "y": [
          10
         ],
         "z": [
          6600
         ]
        },
        {
         "hovertemplate": "Symbol=%{x}<br>Strike=%{y}<br>Open Int=%{marker.size}<extra></extra>",
         "legendgroup": "UPS",
         "marker": {
          "color": "#ab63fa",
          "size": [
           2395
          ],
          "sizemode": "area",
          "sizeref": 367.1425,
          "symbol": "circle"
         },
         "mode": "markers",
         "name": "UPS",
         "scene": "scene",
         "showlegend": true,
         "type": "scatter3d",
         "x": [
          "UPS"
         ],
         "y": [
          180
         ],
         "z": [
          2395
         ]
        },
        {
         "hovertemplate": "Symbol=%{x}<br>Strike=%{y}<br>Open Int=%{marker.size}<extra></extra>",
         "legendgroup": "V",
         "marker": {
          "color": "#FFA15A",
          "size": [
           3751,
           3767
          ],
          "sizemode": "area",
          "sizeref": 367.1425,
          "symbol": "circle"
         },
         "mode": "markers",
         "name": "V",
         "scene": "scene",
         "showlegend": true,
         "type": "scatter3d",
         "x": [
          "V",
          "V"
         ],
         "y": [
          195,
          200
         ],
         "z": [
          3751,
          3767
         ]
        },
        {
         "hovertemplate": "Symbol=%{x}<br>Strike=%{y}<br>Open Int=%{marker.size}<extra></extra>",
         "legendgroup": "VET",
         "marker": {
          "color": "#19d3f3",
          "size": [
           2717
          ],
          "sizemode": "area",
          "sizeref": 367.1425,
          "symbol": "circle"
         },
         "mode": "markers",
         "name": "VET",
         "scene": "scene",
         "showlegend": true,
         "type": "scatter3d",
         "x": [
          "VET"
         ],
         "y": [
          25
         ],
         "z": [
          2717
         ]
        },
        {
         "hovertemplate": "Symbol=%{x}<br>Strike=%{y}<br>Open Int=%{marker.size}<extra></extra>",
         "legendgroup": "VLO",
         "marker": {
          "color": "#FF6692",
          "size": [
           3569,
           6389
          ],
          "sizemode": "area",
          "sizeref": 367.1425,
          "symbol": "circle"
         },
         "mode": "markers",
         "name": "VLO",
         "scene": "scene",
         "showlegend": true,
         "type": "scatter3d",
         "x": [
          "VLO",
          "VLO"
         ],
         "y": [
          100,
          114
         ],
         "z": [
          3569,
          6389
         ]
        },
        {
         "hovertemplate": "Symbol=%{x}<br>Strike=%{y}<br>Open Int=%{marker.size}<extra></extra>",
         "legendgroup": "VTNR",
         "marker": {
          "color": "#B6E880",
          "size": [
           3789
          ],
          "sizemode": "area",
          "sizeref": 367.1425,
          "symbol": "circle"
         },
         "mode": "markers",
         "name": "VTNR",
         "scene": "scene",
         "showlegend": true,
         "type": "scatter3d",
         "x": [
          "VTNR"
         ],
         "y": [
          7.5
         ],
         "z": [
          3789
         ]
        },
        {
         "hovertemplate": "Symbol=%{x}<br>Strike=%{y}<br>Open Int=%{marker.size}<extra></extra>",
         "legendgroup": "VZ",
         "marker": {
          "color": "#FF97FF",
          "size": [
           1678,
           4399
          ],
          "sizemode": "area",
          "sizeref": 367.1425,
          "symbol": "circle"
         },
         "mode": "markers",
         "name": "VZ",
         "scene": "scene",
         "showlegend": true,
         "type": "scatter3d",
         "x": [
          "VZ",
          "VZ"
         ],
         "y": [
          41,
          42
         ],
         "z": [
          1678,
          4399
         ]
        },
        {
         "hovertemplate": "Symbol=%{x}<br>Strike=%{y}<br>Open Int=%{marker.size}<extra></extra>",
         "legendgroup": "VZIO",
         "marker": {
          "color": "#FECB52",
          "size": [
           1143
          ],
          "sizemode": "area",
          "sizeref": 367.1425,
          "symbol": "circle"
         },
         "mode": "markers",
         "name": "VZIO",
         "scene": "scene",
         "showlegend": true,
         "type": "scatter3d",
         "x": [
          "VZIO"
         ],
         "y": [
          11
         ],
         "z": [
          1143
         ]
        },
        {
         "hovertemplate": "Symbol=%{x}<br>Strike=%{y}<br>Open Int=%{marker.size}<extra></extra>",
         "legendgroup": "W",
         "marker": {
          "color": "#636efa",
          "size": [
           5343
          ],
          "sizemode": "area",
          "sizeref": 367.1425,
          "symbol": "circle"
         },
         "mode": "markers",
         "name": "W",
         "scene": "scene",
         "showlegend": true,
         "type": "scatter3d",
         "x": [
          "W"
         ],
         "y": [
          45
         ],
         "z": [
          5343
         ]
        },
        {
         "hovertemplate": "Symbol=%{x}<br>Strike=%{y}<br>Open Int=%{marker.size}<extra></extra>",
         "legendgroup": "WBA",
         "marker": {
          "color": "#EF553B",
          "size": [
           4040
          ],
          "sizemode": "area",
          "sizeref": 367.1425,
          "symbol": "circle"
         },
         "mode": "markers",
         "name": "WBA",
         "scene": "scene",
         "showlegend": true,
         "type": "scatter3d",
         "x": [
          "WBA"
         ],
         "y": [
          35.5
         ],
         "z": [
          4040
         ]
        },
        {
         "hovertemplate": "Symbol=%{x}<br>Strike=%{y}<br>Open Int=%{marker.size}<extra></extra>",
         "legendgroup": "WBD",
         "marker": {
          "color": "#00cc96",
          "size": [
           10243
          ],
          "sizemode": "area",
          "sizeref": 367.1425,
          "symbol": "circle"
         },
         "mode": "markers",
         "name": "WBD",
         "scene": "scene",
         "showlegend": true,
         "type": "scatter3d",
         "x": [
          "WBD"
         ],
         "y": [
          13
         ],
         "z": [
          10243
         ]
        },
        {
         "hovertemplate": "Symbol=%{x}<br>Strike=%{y}<br>Open Int=%{marker.size}<extra></extra>",
         "legendgroup": "WFC",
         "marker": {
          "color": "#ab63fa",
          "size": [
           3783,
           4610
          ],
          "sizemode": "area",
          "sizeref": 367.1425,
          "symbol": "circle"
         },
         "mode": "markers",
         "name": "WFC",
         "scene": "scene",
         "showlegend": true,
         "type": "scatter3d",
         "x": [
          "WFC",
          "WFC"
         ],
         "y": [
          40,
          43.5
         ],
         "z": [
          3783,
          4610
         ]
        },
        {
         "hovertemplate": "Symbol=%{x}<br>Strike=%{y}<br>Open Int=%{marker.size}<extra></extra>",
         "legendgroup": "WHR",
         "marker": {
          "color": "#FFA15A",
          "size": [
           2930
          ],
          "sizemode": "area",
          "sizeref": 367.1425,
          "symbol": "circle"
         },
         "mode": "markers",
         "name": "WHR",
         "scene": "scene",
         "showlegend": true,
         "type": "scatter3d",
         "x": [
          "WHR"
         ],
         "y": [
          155
         ],
         "z": [
          2930
         ]
        },
        {
         "hovertemplate": "Symbol=%{x}<br>Strike=%{y}<br>Open Int=%{marker.size}<extra></extra>",
         "legendgroup": "WMT",
         "marker": {
          "color": "#19d3f3",
          "size": [
           5218,
           323,
           1182,
           1843,
           6487
          ],
          "sizemode": "area",
          "sizeref": 367.1425,
          "symbol": "circle"
         },
         "mode": "markers",
         "name": "WMT",
         "scene": "scene",
         "showlegend": true,
         "type": "scatter3d",
         "x": [
          "WMT",
          "WMT",
          "WMT",
          "WMT",
          "WMT"
         ],
         "y": [
          130,
          132,
          133,
          134,
          135
         ],
         "z": [
          5218,
          323,
          1182,
          1843,
          6487
         ]
        },
        {
         "hovertemplate": "Symbol=%{x}<br>Strike=%{y}<br>Open Int=%{marker.size}<extra></extra>",
         "legendgroup": "WPM",
         "marker": {
          "color": "#FF6692",
          "size": [
           447
          ],
          "sizemode": "area",
          "sizeref": 367.1425,
          "symbol": "circle"
         },
         "mode": "markers",
         "name": "WPM",
         "scene": "scene",
         "showlegend": true,
         "type": "scatter3d",
         "x": [
          "WPM"
         ],
         "y": [
          32
         ],
         "z": [
          447
         ]
        },
        {
         "hovertemplate": "Symbol=%{x}<br>Strike=%{y}<br>Open Int=%{marker.size}<extra></extra>",
         "legendgroup": "X",
         "marker": {
          "color": "#B6E880",
          "size": [
           3779,
           3495
          ],
          "sizemode": "area",
          "sizeref": 367.1425,
          "symbol": "circle"
         },
         "mode": "markers",
         "name": "X",
         "scene": "scene",
         "showlegend": true,
         "type": "scatter3d",
         "x": [
          "X",
          "X"
         ],
         "y": [
          21,
          23
         ],
         "z": [
          3779,
          3495
         ]
        },
        {
         "hovertemplate": "Symbol=%{x}<br>Strike=%{y}<br>Open Int=%{marker.size}<extra></extra>",
         "legendgroup": "XOM",
         "marker": {
          "color": "#FF97FF",
          "size": [
           9728,
           21054,
           4541
          ],
          "sizemode": "area",
          "sizeref": 367.1425,
          "symbol": "circle"
         },
         "mode": "markers",
         "name": "XOM",
         "scene": "scene",
         "showlegend": true,
         "type": "scatter3d",
         "x": [
          "XOM",
          "XOM",
          "XOM"
         ],
         "y": [
          90,
          92.5,
          94
         ],
         "z": [
          9728,
          21054,
          4541
         ]
        },
        {
         "hovertemplate": "Symbol=%{x}<br>Strike=%{y}<br>Open Int=%{marker.size}<extra></extra>",
         "legendgroup": "ZIM",
         "marker": {
          "color": "#FECB52",
          "size": [
           4211,
           2558,
           3072
          ],
          "sizemode": "area",
          "sizeref": 367.1425,
          "symbol": "circle"
         },
         "mode": "markers",
         "name": "ZIM",
         "scene": "scene",
         "showlegend": true,
         "type": "scatter3d",
         "x": [
          "ZIM",
          "ZIM",
          "ZIM"
         ],
         "y": [
          30,
          33,
          45
         ],
         "z": [
          4211,
          2558,
          3072
         ]
        },
        {
         "hovertemplate": "Symbol=%{x}<br>Strike=%{y}<br>Open Int=%{marker.size}<extra></extra>",
         "legendgroup": "ZS",
         "marker": {
          "color": "#636efa",
          "size": [
           1415
          ],
          "sizemode": "area",
          "sizeref": 367.1425,
          "symbol": "circle"
         },
         "mode": "markers",
         "name": "ZS",
         "scene": "scene",
         "showlegend": true,
         "type": "scatter3d",
         "x": [
          "ZS"
         ],
         "y": [
          170
         ],
         "z": [
          1415
         ]
        }
       ],
       "layout": {
        "legend": {
         "itemsizing": "constant",
         "title": {
          "text": "Symbol"
         },
         "tracegroupgap": 0
        },
        "margin": {
         "t": 60
        },
        "scene": {
         "domain": {
          "x": [
           0,
           1
          ],
          "y": [
           0,
           1
          ]
         },
         "xaxis": {
          "categoryarray": [
           "AAL",
           "AAPL",
           "ABBV",
           "ABNB",
           "ACI",
           "ACN",
           "ADBE",
           "ADMA",
           "AEO",
           "AFRM",
           "AG",
           "AM",
           "AMAT",
           "AMC",
           "AMD",
           "AMLX",
           "AMRS",
           "AMZN",
           "APA",
           "APDN",
           "APRN",
           "ARCC",
           "ASAN",
           "ASTS",
           "ATUS",
           "ATVI",
           "AUPH",
           "AVYA",
           "AXP",
           "AZN",
           "BA",
           "BABA",
           "BAC",
           "BB",
           "BBBY",
           "BCRX",
           "BHC",
           "BHP",
           "BKR",
           "BLNK",
           "BLUE",
           "BRK.B",
           "BROS",
           "BSM",
           "BTU",
           "BX",
           "BYND",
           "C",
           "CAL",
           "CALX",
           "CAT",
           "CCJ",
           "CCL",
           "CFVI",
           "CGC",
           "CHK",
           "CHPT",
           "CHS",
           "CI",
           "CLF",
           "CLNE",
           "CLOV",
           "CMCSA",
           "COF",
           "COIN",
           "COP",
           "CORZ",
           "COST",
           "CPG",
           "CPNG",
           "CRK",
           "CRM",
           "CRWD",
           "CSCO",
           "CVE",
           "CVNA",
           "CVS",
           "CVX",
           "CWH",
           "CZR",
           "DAL",
           "DASH",
           "DIS",
           "DISH",
           "DKNG",
           "DNA",
           "DOCU",
           "DT",
           "EMR",
           "ENPH",
           "ENVX",
           "EOG",
           "EPD",
           "ET",
           "ETSY",
           "EVER",
           "EXPE",
           "F",
           "FAZE",
           "FCEL",
           "FCX",
           "FDX",
           "FIGS",
           "FREY",
           "FSLR",
           "FTCH",
           "FTNT",
           "FUBO",
           "GE",
           "GEO",
           "GILD",
           "GILT",
           "GM",
           "GME",
           "GOLD",
           "GOOG",
           "GOOGL",
           "GPS",
           "GS",
           "GSAT",
           "GSK",
           "HCAT",
           "HD",
           "HOOD",
           "HPQ",
           "HUM",
           "IBM",
           "IEP",
           "IMRA",
           "INTC",
           "JBLU",
           "JD",
           "JNJ",
           "JPM",
           "KO",
           "KOS",
           "KR",
           "LAZR",
           "LCID",
           "LEN",
           "LI",
           "LMND",
           "LOW",
           "LVS",
           "LYFT",
           "M",
           "MA",
           "MARA",
           "MCD",
           "MDB",
           "ME",
           "META",
           "MO",
           "MOS",
           "MPC",
           "MPW",
           "MQ",
           "MRNA",
           "MRO",
           "MS",
           "MSFT",
           "MSTR",
           "MU",
           "NAT",
           "NCLH",
           "NEE",
           "NEM",
           "NET",
           "NFLX",
           "NIO",
           "NKE",
           "NKLA",
           "NOV",
           "NVAX",
           "NVDA",
           "NVTA",
           "NXPI",
           "OKE",
           "OKTA",
           "OPK",
           "ORCL",
           "OXY",
           "PANW",
           "PARA",
           "PATH",
           "PBR",
           "PCG",
           "PDD",
           "PFE",
           "PGR",
           "PINS",
           "PLTR",
           "PLUG",
           "PTON",
           "PYPL",
           "QCOM",
           "QS",
           "QSR",
           "RBLX",
           "RCL",
           "RDFN",
           "REV",
           "RIG",
           "RIOT",
           "RIVN",
           "ROKU",
           "RUN",
           "SAVA",
           "SBSW",
           "SBUX",
           "SCHW",
           "SE",
           "SHOP",
           "SLB",
           "SNAP",
           "SNOW",
           "SOFI",
           "SPCE",
           "SQ",
           "SRG",
           "SSYS",
           "STLD",
           "SWN",
           "T",
           "TCOM",
           "TCRT",
           "TEVA",
           "TGT",
           "TH",
           "TLRY",
           "TMUS",
           "TSLA",
           "TSM",
           "TTD",
           "TTWO",
           "TWTR",
           "TXG",
           "TXN",
           "U",
           "UAL",
           "UBER",
           "UNM",
           "UPLD",
           "UPS",
           "V",
           "VET",
           "VLO",
           "VTNR",
           "VZ",
           "VZIO",
           "W",
           "WBA",
           "WBD",
           "WFC",
           "WHR",
           "WMT",
           "WPM",
           "X",
           "XOM",
           "ZIM",
           "ZS"
          ],
          "categoryorder": "array",
          "title": {
           "text": "Symbol"
          }
         },
         "yaxis": {
          "title": {
           "text": "Strike"
          }
         },
         "zaxis": {
          "title": {
           "text": "Open Int"
          }
         }
        },
        "template": {
         "data": {
          "bar": [
           {
            "error_x": {
             "color": "#2a3f5f"
            },
            "error_y": {
             "color": "#2a3f5f"
            },
            "marker": {
             "line": {
              "color": "#E5ECF6",
              "width": 0.5
             },
             "pattern": {
              "fillmode": "overlay",
              "size": 10,
              "solidity": 0.2
             }
            },
            "type": "bar"
           }
          ],
          "barpolar": [
           {
            "marker": {
             "line": {
              "color": "#E5ECF6",
              "width": 0.5
             },
             "pattern": {
              "fillmode": "overlay",
              "size": 10,
              "solidity": 0.2
             }
            },
            "type": "barpolar"
           }
          ],
          "carpet": [
           {
            "aaxis": {
             "endlinecolor": "#2a3f5f",
             "gridcolor": "white",
             "linecolor": "white",
             "minorgridcolor": "white",
             "startlinecolor": "#2a3f5f"
            },
            "baxis": {
             "endlinecolor": "#2a3f5f",
             "gridcolor": "white",
             "linecolor": "white",
             "minorgridcolor": "white",
             "startlinecolor": "#2a3f5f"
            },
            "type": "carpet"
           }
          ],
          "choropleth": [
           {
            "colorbar": {
             "outlinewidth": 0,
             "ticks": ""
            },
            "type": "choropleth"
           }
          ],
          "contour": [
           {
            "colorbar": {
             "outlinewidth": 0,
             "ticks": ""
            },
            "colorscale": [
             [
              0,
              "#0d0887"
             ],
             [
              0.1111111111111111,
              "#46039f"
             ],
             [
              0.2222222222222222,
              "#7201a8"
             ],
             [
              0.3333333333333333,
              "#9c179e"
             ],
             [
              0.4444444444444444,
              "#bd3786"
             ],
             [
              0.5555555555555556,
              "#d8576b"
             ],
             [
              0.6666666666666666,
              "#ed7953"
             ],
             [
              0.7777777777777778,
              "#fb9f3a"
             ],
             [
              0.8888888888888888,
              "#fdca26"
             ],
             [
              1,
              "#f0f921"
             ]
            ],
            "type": "contour"
           }
          ],
          "contourcarpet": [
           {
            "colorbar": {
             "outlinewidth": 0,
             "ticks": ""
            },
            "type": "contourcarpet"
           }
          ],
          "heatmap": [
           {
            "colorbar": {
             "outlinewidth": 0,
             "ticks": ""
            },
            "colorscale": [
             [
              0,
              "#0d0887"
             ],
             [
              0.1111111111111111,
              "#46039f"
             ],
             [
              0.2222222222222222,
              "#7201a8"
             ],
             [
              0.3333333333333333,
              "#9c179e"
             ],
             [
              0.4444444444444444,
              "#bd3786"
             ],
             [
              0.5555555555555556,
              "#d8576b"
             ],
             [
              0.6666666666666666,
              "#ed7953"
             ],
             [
              0.7777777777777778,
              "#fb9f3a"
             ],
             [
              0.8888888888888888,
              "#fdca26"
             ],
             [
              1,
              "#f0f921"
             ]
            ],
            "type": "heatmap"
           }
          ],
          "heatmapgl": [
           {
            "colorbar": {
             "outlinewidth": 0,
             "ticks": ""
            },
            "colorscale": [
             [
              0,
              "#0d0887"
             ],
             [
              0.1111111111111111,
              "#46039f"
             ],
             [
              0.2222222222222222,
              "#7201a8"
             ],
             [
              0.3333333333333333,
              "#9c179e"
             ],
             [
              0.4444444444444444,
              "#bd3786"
             ],
             [
              0.5555555555555556,
              "#d8576b"
             ],
             [
              0.6666666666666666,
              "#ed7953"
             ],
             [
              0.7777777777777778,
              "#fb9f3a"
             ],
             [
              0.8888888888888888,
              "#fdca26"
             ],
             [
              1,
              "#f0f921"
             ]
            ],
            "type": "heatmapgl"
           }
          ],
          "histogram": [
           {
            "marker": {
             "pattern": {
              "fillmode": "overlay",
              "size": 10,
              "solidity": 0.2
             }
            },
            "type": "histogram"
           }
          ],
          "histogram2d": [
           {
            "colorbar": {
             "outlinewidth": 0,
             "ticks": ""
            },
            "colorscale": [
             [
              0,
              "#0d0887"
             ],
             [
              0.1111111111111111,
              "#46039f"
             ],
             [
              0.2222222222222222,
              "#7201a8"
             ],
             [
              0.3333333333333333,
              "#9c179e"
             ],
             [
              0.4444444444444444,
              "#bd3786"
             ],
             [
              0.5555555555555556,
              "#d8576b"
             ],
             [
              0.6666666666666666,
              "#ed7953"
             ],
             [
              0.7777777777777778,
              "#fb9f3a"
             ],
             [
              0.8888888888888888,
              "#fdca26"
             ],
             [
              1,
              "#f0f921"
             ]
            ],
            "type": "histogram2d"
           }
          ],
          "histogram2dcontour": [
           {
            "colorbar": {
             "outlinewidth": 0,
             "ticks": ""
            },
            "colorscale": [
             [
              0,
              "#0d0887"
             ],
             [
              0.1111111111111111,
              "#46039f"
             ],
             [
              0.2222222222222222,
              "#7201a8"
             ],
             [
              0.3333333333333333,
              "#9c179e"
             ],
             [
              0.4444444444444444,
              "#bd3786"
             ],
             [
              0.5555555555555556,
              "#d8576b"
             ],
             [
              0.6666666666666666,
              "#ed7953"
             ],
             [
              0.7777777777777778,
              "#fb9f3a"
             ],
             [
              0.8888888888888888,
              "#fdca26"
             ],
             [
              1,
              "#f0f921"
             ]
            ],
            "type": "histogram2dcontour"
           }
          ],
          "mesh3d": [
           {
            "colorbar": {
             "outlinewidth": 0,
             "ticks": ""
            },
            "type": "mesh3d"
           }
          ],
          "parcoords": [
           {
            "line": {
             "colorbar": {
              "outlinewidth": 0,
              "ticks": ""
             }
            },
            "type": "parcoords"
           }
          ],
          "pie": [
           {
            "automargin": true,
            "type": "pie"
           }
          ],
          "scatter": [
           {
            "fillpattern": {
             "fillmode": "overlay",
             "size": 10,
             "solidity": 0.2
            },
            "type": "scatter"
           }
          ],
          "scatter3d": [
           {
            "line": {
             "colorbar": {
              "outlinewidth": 0,
              "ticks": ""
             }
            },
            "marker": {
             "colorbar": {
              "outlinewidth": 0,
              "ticks": ""
             }
            },
            "type": "scatter3d"
           }
          ],
          "scattercarpet": [
           {
            "marker": {
             "colorbar": {
              "outlinewidth": 0,
              "ticks": ""
             }
            },
            "type": "scattercarpet"
           }
          ],
          "scattergeo": [
           {
            "marker": {
             "colorbar": {
              "outlinewidth": 0,
              "ticks": ""
             }
            },
            "type": "scattergeo"
           }
          ],
          "scattergl": [
           {
            "marker": {
             "colorbar": {
              "outlinewidth": 0,
              "ticks": ""
             }
            },
            "type": "scattergl"
           }
          ],
          "scattermapbox": [
           {
            "marker": {
             "colorbar": {
              "outlinewidth": 0,
              "ticks": ""
             }
            },
            "type": "scattermapbox"
           }
          ],
          "scatterpolar": [
           {
            "marker": {
             "colorbar": {
              "outlinewidth": 0,
              "ticks": ""
             }
            },
            "type": "scatterpolar"
           }
          ],
          "scatterpolargl": [
           {
            "marker": {
             "colorbar": {
              "outlinewidth": 0,
              "ticks": ""
             }
            },
            "type": "scatterpolargl"
           }
          ],
          "scatterternary": [
           {
            "marker": {
             "colorbar": {
              "outlinewidth": 0,
              "ticks": ""
             }
            },
            "type": "scatterternary"
           }
          ],
          "surface": [
           {
            "colorbar": {
             "outlinewidth": 0,
             "ticks": ""
            },
            "colorscale": [
             [
              0,
              "#0d0887"
             ],
             [
              0.1111111111111111,
              "#46039f"
             ],
             [
              0.2222222222222222,
              "#7201a8"
             ],
             [
              0.3333333333333333,
              "#9c179e"
             ],
             [
              0.4444444444444444,
              "#bd3786"
             ],
             [
              0.5555555555555556,
              "#d8576b"
             ],
             [
              0.6666666666666666,
              "#ed7953"
             ],
             [
              0.7777777777777778,
              "#fb9f3a"
             ],
             [
              0.8888888888888888,
              "#fdca26"
             ],
             [
              1,
              "#f0f921"
             ]
            ],
            "type": "surface"
           }
          ],
          "table": [
           {
            "cells": {
             "fill": {
              "color": "#EBF0F8"
             },
             "line": {
              "color": "white"
             }
            },
            "header": {
             "fill": {
              "color": "#C8D4E3"
             },
             "line": {
              "color": "white"
             }
            },
            "type": "table"
           }
          ]
         },
         "layout": {
          "annotationdefaults": {
           "arrowcolor": "#2a3f5f",
           "arrowhead": 0,
           "arrowwidth": 1
          },
          "autotypenumbers": "strict",
          "coloraxis": {
           "colorbar": {
            "outlinewidth": 0,
            "ticks": ""
           }
          },
          "colorscale": {
           "diverging": [
            [
             0,
             "#8e0152"
            ],
            [
             0.1,
             "#c51b7d"
            ],
            [
             0.2,
             "#de77ae"
            ],
            [
             0.3,
             "#f1b6da"
            ],
            [
             0.4,
             "#fde0ef"
            ],
            [
             0.5,
             "#f7f7f7"
            ],
            [
             0.6,
             "#e6f5d0"
            ],
            [
             0.7,
             "#b8e186"
            ],
            [
             0.8,
             "#7fbc41"
            ],
            [
             0.9,
             "#4d9221"
            ],
            [
             1,
             "#276419"
            ]
           ],
           "sequential": [
            [
             0,
             "#0d0887"
            ],
            [
             0.1111111111111111,
             "#46039f"
            ],
            [
             0.2222222222222222,
             "#7201a8"
            ],
            [
             0.3333333333333333,
             "#9c179e"
            ],
            [
             0.4444444444444444,
             "#bd3786"
            ],
            [
             0.5555555555555556,
             "#d8576b"
            ],
            [
             0.6666666666666666,
             "#ed7953"
            ],
            [
             0.7777777777777778,
             "#fb9f3a"
            ],
            [
             0.8888888888888888,
             "#fdca26"
            ],
            [
             1,
             "#f0f921"
            ]
           ],
           "sequentialminus": [
            [
             0,
             "#0d0887"
            ],
            [
             0.1111111111111111,
             "#46039f"
            ],
            [
             0.2222222222222222,
             "#7201a8"
            ],
            [
             0.3333333333333333,
             "#9c179e"
            ],
            [
             0.4444444444444444,
             "#bd3786"
            ],
            [
             0.5555555555555556,
             "#d8576b"
            ],
            [
             0.6666666666666666,
             "#ed7953"
            ],
            [
             0.7777777777777778,
             "#fb9f3a"
            ],
            [
             0.8888888888888888,
             "#fdca26"
            ],
            [
             1,
             "#f0f921"
            ]
           ]
          },
          "colorway": [
           "#636efa",
           "#EF553B",
           "#00cc96",
           "#ab63fa",
           "#FFA15A",
           "#19d3f3",
           "#FF6692",
           "#B6E880",
           "#FF97FF",
           "#FECB52"
          ],
          "font": {
           "color": "#2a3f5f"
          },
          "geo": {
           "bgcolor": "white",
           "lakecolor": "white",
           "landcolor": "#E5ECF6",
           "showlakes": true,
           "showland": true,
           "subunitcolor": "white"
          },
          "hoverlabel": {
           "align": "left"
          },
          "hovermode": "closest",
          "mapbox": {
           "style": "light"
          },
          "paper_bgcolor": "white",
          "plot_bgcolor": "#E5ECF6",
          "polar": {
           "angularaxis": {
            "gridcolor": "white",
            "linecolor": "white",
            "ticks": ""
           },
           "bgcolor": "#E5ECF6",
           "radialaxis": {
            "gridcolor": "white",
            "linecolor": "white",
            "ticks": ""
           }
          },
          "scene": {
           "xaxis": {
            "backgroundcolor": "#E5ECF6",
            "gridcolor": "white",
            "gridwidth": 2,
            "linecolor": "white",
            "showbackground": true,
            "ticks": "",
            "zerolinecolor": "white"
           },
           "yaxis": {
            "backgroundcolor": "#E5ECF6",
            "gridcolor": "white",
            "gridwidth": 2,
            "linecolor": "white",
            "showbackground": true,
            "ticks": "",
            "zerolinecolor": "white"
           },
           "zaxis": {
            "backgroundcolor": "#E5ECF6",
            "gridcolor": "white",
            "gridwidth": 2,
            "linecolor": "white",
            "showbackground": true,
            "ticks": "",
            "zerolinecolor": "white"
           }
          },
          "shapedefaults": {
           "line": {
            "color": "#2a3f5f"
           }
          },
          "ternary": {
           "aaxis": {
            "gridcolor": "white",
            "linecolor": "white",
            "ticks": ""
           },
           "baxis": {
            "gridcolor": "white",
            "linecolor": "white",
            "ticks": ""
           },
           "bgcolor": "#E5ECF6",
           "caxis": {
            "gridcolor": "white",
            "linecolor": "white",
            "ticks": ""
           }
          },
          "title": {
           "x": 0.05
          },
          "xaxis": {
           "automargin": true,
           "gridcolor": "white",
           "linecolor": "white",
           "ticks": "",
           "title": {
            "standoff": 15
           },
           "zerolinecolor": "white",
           "zerolinewidth": 2
          },
          "yaxis": {
           "automargin": true,
           "gridcolor": "white",
           "linecolor": "white",
           "ticks": "",
           "title": {
            "standoff": 15
           },
           "zerolinecolor": "white",
           "zerolinewidth": 2
          }
         }
        }
       }
      }
     },
     "metadata": {},
     "output_type": "display_data"
    }
   ],
   "source": [
    "# Specify date for Tao's code.\n",
    "# Tao's code takes year at the end.\n",
    "date = \"09-16-2022\"\n",
    "\n",
    "# Calling get_data()\n",
    "df = get_data(date)\n",
    "\n",
    "# Calling largest_25_OI\n",
    "largest_plot_df = largest_20_OI_plot(df)\n",
    "\n",
    "# Creates a variable to find top OI\n",
    "top_dogs = option_change_top_20(largest_20_OI(df))\n",
    "\n",
    "# Calling options_call_bar\n",
    "calls = options_call_bar(df)\n",
    "\n",
    "# Calling options_put_bar\n",
    "puts = options_put_bar(df)\n",
    "\n",
    "# Creates variable for 3d plot\n",
    "plot = plotted_3d(df)\n",
    "\n",
    "# Creates displays\n",
    "display(largest_plot_df)\n",
    "display(top_dogs)\n",
    "display(calls)\n",
    "display(puts)\n",
    "display(plot)"
   ]
  },
  {
   "cell_type": "markdown",
   "metadata": {},
   "source": [
    "# Single Stock Report from DataFrame."
   ]
  },
  {
   "cell_type": "code",
   "execution_count": 7,
   "metadata": {},
   "outputs": [
    {
     "data": {
      "text/html": [
       "<div>\n",
       "<style scoped>\n",
       "    .dataframe tbody tr th:only-of-type {\n",
       "        vertical-align: middle;\n",
       "    }\n",
       "\n",
       "    .dataframe tbody tr th {\n",
       "        vertical-align: top;\n",
       "    }\n",
       "\n",
       "    .dataframe thead th {\n",
       "        text-align: right;\n",
       "    }\n",
       "</style>\n",
       "<table border=\"1\" class=\"dataframe\">\n",
       "  <thead>\n",
       "    <tr style=\"text-align: right;\">\n",
       "      <th></th>\n",
       "      <th></th>\n",
       "      <th></th>\n",
       "      <th>Price</th>\n",
       "      <th>Exp Date</th>\n",
       "      <th>DTE</th>\n",
       "      <th>Bid</th>\n",
       "      <th>Midpoint</th>\n",
       "      <th>Ask</th>\n",
       "      <th>Last</th>\n",
       "      <th>Volume</th>\n",
       "      <th>Open Int</th>\n",
       "      <th>OI Chg</th>\n",
       "      <th>IV</th>\n",
       "      <th>Time</th>\n",
       "    </tr>\n",
       "    <tr>\n",
       "      <th>Symbol</th>\n",
       "      <th>Type</th>\n",
       "      <th>Strike</th>\n",
       "      <th></th>\n",
       "      <th></th>\n",
       "      <th></th>\n",
       "      <th></th>\n",
       "      <th></th>\n",
       "      <th></th>\n",
       "      <th></th>\n",
       "      <th></th>\n",
       "      <th></th>\n",
       "      <th></th>\n",
       "      <th></th>\n",
       "      <th></th>\n",
       "    </tr>\n",
       "  </thead>\n",
       "  <tbody>\n",
       "    <tr>\n",
       "      <th rowspan=\"5\" valign=\"top\">F</th>\n",
       "      <th rowspan=\"3\" valign=\"top\">Put</th>\n",
       "      <th>16.0</th>\n",
       "      <td>14.72</td>\n",
       "      <td>2022-09-16</td>\n",
       "      <td>0.0</td>\n",
       "      <td>1.25</td>\n",
       "      <td>1.29</td>\n",
       "      <td>1.33</td>\n",
       "      <td>1.32</td>\n",
       "      <td>1484.0</td>\n",
       "      <td>146857.0</td>\n",
       "      <td>-363.0</td>\n",
       "      <td>1.1944</td>\n",
       "      <td>2022-09-16</td>\n",
       "    </tr>\n",
       "    <tr>\n",
       "      <th>15.5</th>\n",
       "      <td>14.72</td>\n",
       "      <td>2022-09-16</td>\n",
       "      <td>0.0</td>\n",
       "      <td>0.75</td>\n",
       "      <td>0.78</td>\n",
       "      <td>0.82</td>\n",
       "      <td>0.78</td>\n",
       "      <td>1593.0</td>\n",
       "      <td>9299.0</td>\n",
       "      <td>-540.0</td>\n",
       "      <td>0.8476</td>\n",
       "      <td>2022-09-16</td>\n",
       "    </tr>\n",
       "    <tr>\n",
       "      <th>15.0</th>\n",
       "      <td>14.72</td>\n",
       "      <td>2022-09-16</td>\n",
       "      <td>0.0</td>\n",
       "      <td>0.27</td>\n",
       "      <td>0.31</td>\n",
       "      <td>0.34</td>\n",
       "      <td>0.28</td>\n",
       "      <td>53975.0</td>\n",
       "      <td>116617.0</td>\n",
       "      <td>-9042.0</td>\n",
       "      <td>0.5279</td>\n",
       "      <td>2022-09-16</td>\n",
       "    </tr>\n",
       "    <tr>\n",
       "      <th rowspan=\"2\" valign=\"top\">Call</th>\n",
       "      <th>14.5</th>\n",
       "      <td>14.72</td>\n",
       "      <td>2022-09-16</td>\n",
       "      <td>0.0</td>\n",
       "      <td>0.17</td>\n",
       "      <td>0.22</td>\n",
       "      <td>0.26</td>\n",
       "      <td>0.22</td>\n",
       "      <td>11530.0</td>\n",
       "      <td>2339.0</td>\n",
       "      <td>-857.0</td>\n",
       "      <td>0.3949</td>\n",
       "      <td>2022-09-16</td>\n",
       "    </tr>\n",
       "    <tr>\n",
       "      <th>14.0</th>\n",
       "      <td>14.72</td>\n",
       "      <td>2022-09-16</td>\n",
       "      <td>0.0</td>\n",
       "      <td>0.67</td>\n",
       "      <td>0.72</td>\n",
       "      <td>0.76</td>\n",
       "      <td>0.73</td>\n",
       "      <td>3157.0</td>\n",
       "      <td>29363.0</td>\n",
       "      <td>-485.0</td>\n",
       "      <td>0.6033</td>\n",
       "      <td>2022-09-16</td>\n",
       "    </tr>\n",
       "  </tbody>\n",
       "</table>\n",
       "</div>"
      ],
      "text/plain": [
       "                    Price    Exp Date  DTE   Bid  Midpoint   Ask  Last  \\\n",
       "Symbol Type Strike                                                       \n",
       "F      Put  16.0    14.72  2022-09-16  0.0  1.25      1.29  1.33  1.32   \n",
       "            15.5    14.72  2022-09-16  0.0  0.75      0.78  0.82  0.78   \n",
       "            15.0    14.72  2022-09-16  0.0  0.27      0.31  0.34  0.28   \n",
       "       Call 14.5    14.72  2022-09-16  0.0  0.17      0.22  0.26  0.22   \n",
       "            14.0    14.72  2022-09-16  0.0  0.67      0.72  0.76  0.73   \n",
       "\n",
       "                     Volume  Open Int  OI Chg      IV        Time  \n",
       "Symbol Type Strike                                                 \n",
       "F      Put  16.0     1484.0  146857.0  -363.0  1.1944  2022-09-16  \n",
       "            15.5     1593.0    9299.0  -540.0  0.8476  2022-09-16  \n",
       "            15.0    53975.0  116617.0 -9042.0  0.5279  2022-09-16  \n",
       "       Call 14.5    11530.0    2339.0  -857.0  0.3949  2022-09-16  \n",
       "            14.0     3157.0   29363.0  -485.0  0.6033  2022-09-16  "
      ]
     },
     "metadata": {},
     "output_type": "display_data"
    }
   ],
   "source": [
    "# Creates variable to find top OI\n",
    "top_OI = largest_20_OI(df).head()\n",
    "\n",
    "# Display\n",
    "display(top_OI)"
   ]
  },
  {
   "cell_type": "code",
   "execution_count": 8,
   "metadata": {},
   "outputs": [
    {
     "data": {},
     "metadata": {},
     "output_type": "display_data"
    },
    {
     "data": {
      "application/vnd.holoviews_exec.v0+json": "",
      "text/html": [
       "<div id='1656'>\n",
       "  <div class=\"bk-root\" id=\"3a88aba3-a062-41f1-9a5f-7f6baaec8d80\" data-root-id=\"1656\"></div>\n",
       "</div>\n",
       "<script type=\"application/javascript\">(function(root) {\n",
       "  function embed_document(root) {\n",
       "    var docs_json = {\"60f44934-7147-4fbb-b049-4d449ff9ce36\":{\"defs\":[{\"extends\":null,\"module\":null,\"name\":\"ReactiveHTML1\",\"overrides\":[],\"properties\":[]},{\"extends\":null,\"module\":null,\"name\":\"FlexBox1\",\"overrides\":[],\"properties\":[{\"default\":\"flex-start\",\"kind\":null,\"name\":\"align_content\"},{\"default\":\"flex-start\",\"kind\":null,\"name\":\"align_items\"},{\"default\":\"row\",\"kind\":null,\"name\":\"flex_direction\"},{\"default\":\"wrap\",\"kind\":null,\"name\":\"flex_wrap\"},{\"default\":\"flex-start\",\"kind\":null,\"name\":\"justify_content\"}]},{\"extends\":null,\"module\":null,\"name\":\"GridStack1\",\"overrides\":[],\"properties\":[{\"default\":\"warn\",\"kind\":null,\"name\":\"mode\"},{\"default\":null,\"kind\":null,\"name\":\"ncols\"},{\"default\":null,\"kind\":null,\"name\":\"nrows\"},{\"default\":true,\"kind\":null,\"name\":\"allow_resize\"},{\"default\":true,\"kind\":null,\"name\":\"allow_drag\"},{\"default\":[],\"kind\":null,\"name\":\"state\"}]},{\"extends\":null,\"module\":null,\"name\":\"click1\",\"overrides\":[],\"properties\":[{\"default\":\"\",\"kind\":null,\"name\":\"terminal_output\"},{\"default\":\"\",\"kind\":null,\"name\":\"debug_name\"},{\"default\":0,\"kind\":null,\"name\":\"clears\"}]},{\"extends\":null,\"module\":null,\"name\":\"NotificationAreaBase1\",\"overrides\":[],\"properties\":[{\"default\":\"bottom-right\",\"kind\":null,\"name\":\"position\"},{\"default\":0,\"kind\":null,\"name\":\"_clear\"}]},{\"extends\":null,\"module\":null,\"name\":\"NotificationArea1\",\"overrides\":[],\"properties\":[{\"default\":[],\"kind\":null,\"name\":\"notifications\"},{\"default\":\"bottom-right\",\"kind\":null,\"name\":\"position\"},{\"default\":0,\"kind\":null,\"name\":\"_clear\"},{\"default\":[{\"background\":\"#ffc107\",\"icon\":{\"className\":\"fas fa-exclamation-triangle\",\"color\":\"white\",\"tagName\":\"i\"},\"type\":\"warning\"},{\"background\":\"#007bff\",\"icon\":{\"className\":\"fas fa-info-circle\",\"color\":\"white\",\"tagName\":\"i\"},\"type\":\"info\"}],\"kind\":null,\"name\":\"types\"}]},{\"extends\":null,\"module\":null,\"name\":\"Notification\",\"overrides\":[],\"properties\":[{\"default\":null,\"kind\":null,\"name\":\"background\"},{\"default\":3000,\"kind\":null,\"name\":\"duration\"},{\"default\":null,\"kind\":null,\"name\":\"icon\"},{\"default\":\"\",\"kind\":null,\"name\":\"message\"},{\"default\":null,\"kind\":null,\"name\":\"notification_type\"},{\"default\":false,\"kind\":null,\"name\":\"_destroyed\"}]},{\"extends\":null,\"module\":null,\"name\":\"TemplateActions1\",\"overrides\":[],\"properties\":[{\"default\":0,\"kind\":null,\"name\":\"open_modal\"},{\"default\":0,\"kind\":null,\"name\":\"close_modal\"}]},{\"extends\":null,\"module\":null,\"name\":\"MaterialTemplateActions1\",\"overrides\":[],\"properties\":[{\"default\":0,\"kind\":null,\"name\":\"open_modal\"},{\"default\":0,\"kind\":null,\"name\":\"close_modal\"}]}],\"roots\":{\"references\":[{\"attributes\":{\"axis_label\":\"Open Interests\",\"coordinates\":null,\"formatter\":{\"id\":\"1700\"},\"group\":null,\"major_label_policy\":{\"id\":\"1706\"},\"ticker\":{\"id\":\"1674\"}},\"id\":\"1673\",\"type\":\"LinearAxis\"},{\"attributes\":{\"axis\":{\"id\":\"1673\"},\"coordinates\":null,\"dimension\":1,\"grid_line_color\":null,\"group\":null,\"ticker\":null},\"id\":\"1676\",\"type\":\"Grid\"},{\"attributes\":{\"axis_label\":\"F\",\"coordinates\":null,\"formatter\":{\"id\":\"1702\"},\"group\":null,\"major_label_orientation\":1.5707963267948966,\"major_label_policy\":{\"id\":\"1703\"},\"ticker\":{\"id\":\"1671\"}},\"id\":\"1670\",\"type\":\"CategoricalAxis\"},{\"attributes\":{\"coordinates\":null,\"group\":null,\"text\":\"Call / Put Open Interests Comparison\",\"text_color\":\"black\",\"text_font_size\":\"12pt\"},\"id\":\"1662\",\"type\":\"Title\"},{\"attributes\":{\"below\":[{\"id\":\"1670\"}],\"center\":[{\"id\":\"1672\"},{\"id\":\"1676\"}],\"height\":500,\"left\":[{\"id\":\"1673\"}],\"margin\":[5,5,5,5],\"min_border_bottom\":10,\"min_border_left\":10,\"min_border_right\":10,\"min_border_top\":10,\"renderers\":[{\"id\":\"1697\"}],\"sizing_mode\":\"fixed\",\"title\":{\"id\":\"1662\"},\"toolbar\":{\"id\":\"1683\"},\"width\":1300,\"x_range\":{\"id\":\"1658\"},\"x_scale\":{\"id\":\"1666\"},\"y_range\":{\"id\":\"1659\"},\"y_scale\":{\"id\":\"1668\"}},\"id\":\"1661\",\"subtype\":\"Figure\",\"type\":\"Plot\"},{\"attributes\":{\"fill_color\":{\"field\":\"Type\",\"transform\":{\"id\":\"1690\"}},\"hatch_color\":{\"field\":\"Type\",\"transform\":{\"id\":\"1690\"}},\"top\":{\"field\":\"Open_Int\"},\"width\":{\"value\":0.8},\"x\":{\"field\":\"xoffsets\"}},\"id\":\"1694\",\"type\":\"VBar\"},{\"attributes\":{\"bottom_units\":\"screen\",\"coordinates\":null,\"fill_alpha\":0.5,\"fill_color\":\"lightgrey\",\"group\":null,\"left_units\":\"screen\",\"level\":\"overlay\",\"line_alpha\":1.0,\"line_color\":\"black\",\"line_dash\":[4,4],\"line_width\":2,\"right_units\":\"screen\",\"syncable\":false,\"top_units\":\"screen\"},\"id\":\"1682\",\"type\":\"BoxAnnotation\"},{\"attributes\":{\"margin\":[5,5,5,5],\"name\":\"HSpacer02642\",\"sizing_mode\":\"stretch_width\"},\"id\":\"1657\",\"type\":\"Spacer\"},{\"attributes\":{\"factors\":[[\"12\",\"Call\"],[\"12\",\"Put\"],[\"13\",\"Call\"],[\"13\",\"Put\"],[\"14\",\"Call\"],[\"14\",\"Put\"],[\"14.5\",\"Call\"],[\"14.5\",\"Put\"],[\"15\",\"Call\"],[\"15\",\"Put\"],[\"15.5\",\"Call\"],[\"15.5\",\"Put\"],[\"16\",\"Call\"],[\"16\",\"Put\"]],\"tags\":[[[\"Strike\",\"Strike\",null],[\"Type\",\"Type\",null]]]},\"id\":\"1658\",\"type\":\"FactorRange\"},{\"attributes\":{\"callback\":null,\"renderers\":[{\"id\":\"1697\"}],\"tags\":[\"hv_created\"],\"tooltips\":[[\"Strike\",\"@{Strike}\"],[\"Type\",\"@{Type}\"],[\"Open Int\",\"@{Open_Int}\"]]},\"id\":\"1660\",\"type\":\"HoverTool\"},{\"attributes\":{},\"id\":\"1674\",\"type\":\"BasicTicker\"},{\"attributes\":{\"coordinates\":null,\"data_source\":{\"id\":\"1691\"},\"glyph\":{\"id\":\"1694\"},\"group\":null,\"hover_glyph\":null,\"muted_glyph\":{\"id\":\"1696\"},\"nonselection_glyph\":{\"id\":\"1695\"},\"selection_glyph\":{\"id\":\"1699\"},\"view\":{\"id\":\"1698\"}},\"id\":\"1697\",\"type\":\"GlyphRenderer\"},{\"attributes\":{\"bottom\":{\"value\":0},\"fill_alpha\":{\"value\":1.0},\"fill_color\":{\"field\":\"Type\",\"transform\":{\"id\":\"1690\"}},\"hatch_alpha\":{\"value\":1.0},\"hatch_color\":{\"field\":\"Type\",\"transform\":{\"id\":\"1690\"}},\"hatch_scale\":{\"value\":12.0},\"hatch_weight\":{\"value\":1.0},\"line_alpha\":{\"value\":1.0},\"line_cap\":{\"value\":\"butt\"},\"line_color\":{\"value\":\"black\"},\"line_dash\":{\"value\":[]},\"line_dash_offset\":{\"value\":0},\"line_join\":{\"value\":\"bevel\"},\"line_width\":{\"value\":1},\"top\":{\"field\":\"Open_Int\"},\"width\":{\"value\":0.8},\"x\":{\"field\":\"xoffsets\"}},\"id\":\"1699\",\"type\":\"VBar\"},{\"attributes\":{},\"id\":\"1703\",\"type\":\"AllLabels\"},{\"attributes\":{},\"id\":\"1702\",\"type\":\"CategoricalTickFormatter\"},{\"attributes\":{},\"id\":\"1679\",\"type\":\"WheelZoomTool\"},{\"attributes\":{\"factors\":[\"Call\",\"Put\"],\"palette\":[\"#30a2da\",\"#fc4f30\"]},\"id\":\"1690\",\"type\":\"CategoricalColorMapper\"},{\"attributes\":{},\"id\":\"1677\",\"type\":\"SaveTool\"},{\"attributes\":{},\"id\":\"1692\",\"type\":\"Selection\"},{\"attributes\":{\"children\":[{\"id\":\"1657\"},{\"id\":\"1661\"},{\"id\":\"1718\"}],\"margin\":[0,0,0,0],\"name\":\"Row02638\",\"tags\":[\"embedded\"]},\"id\":\"1656\",\"type\":\"Row\"},{\"attributes\":{\"overlay\":{\"id\":\"1682\"}},\"id\":\"1680\",\"type\":\"BoxZoomTool\"},{\"attributes\":{},\"id\":\"1671\",\"type\":\"CategoricalTicker\"},{\"attributes\":{},\"id\":\"1666\",\"type\":\"CategoricalScale\"},{\"attributes\":{},\"id\":\"1715\",\"type\":\"UnionRenderers\"},{\"attributes\":{},\"id\":\"1668\",\"type\":\"LinearScale\"},{\"attributes\":{\"data\":{\"Open_Int\":{\"__ndarray__\":\"AAAAAIARyUAAAAAAwPbYQAAAAADArNxAAAAAAABGokAAAAAAkHj8QAAAAACAKcJAAAAAAEjtAUE=\",\"dtype\":\"float64\",\"order\":\"little\",\"shape\":[7]},\"Strike\":[\"12\",\"13\",\"14\",\"14.5\",\"15\",\"15.5\",\"16\"],\"Type\":[\"Call\",\"Call\",\"Call\",\"Call\",\"Put\",\"Put\",\"Put\"],\"xoffsets\":[[\"12\",\"Call\"],[\"13\",\"Call\"],[\"14\",\"Call\"],[\"14.5\",\"Call\"],[\"15\",\"Put\"],[\"15.5\",\"Put\"],[\"16\",\"Put\"]]},\"selected\":{\"id\":\"1692\"},\"selection_policy\":{\"id\":\"1715\"}},\"id\":\"1691\",\"type\":\"ColumnDataSource\"},{\"attributes\":{\"fill_alpha\":{\"value\":0.1},\"fill_color\":{\"field\":\"Type\",\"transform\":{\"id\":\"1690\"}},\"hatch_alpha\":{\"value\":0.1},\"hatch_color\":{\"field\":\"Type\",\"transform\":{\"id\":\"1690\"}},\"line_alpha\":{\"value\":0.1},\"top\":{\"field\":\"Open_Int\"},\"width\":{\"value\":0.8},\"x\":{\"field\":\"xoffsets\"}},\"id\":\"1695\",\"type\":\"VBar\"},{\"attributes\":{\"fill_alpha\":{\"value\":0.2},\"fill_color\":{\"field\":\"Type\",\"transform\":{\"id\":\"1690\"}},\"hatch_alpha\":{\"value\":0.2},\"hatch_color\":{\"field\":\"Type\",\"transform\":{\"id\":\"1690\"}},\"line_alpha\":{\"value\":0.2},\"top\":{\"field\":\"Open_Int\"},\"width\":{\"value\":0.8},\"x\":{\"field\":\"xoffsets\"}},\"id\":\"1696\",\"type\":\"VBar\"},{\"attributes\":{},\"id\":\"1678\",\"type\":\"PanTool\"},{\"attributes\":{},\"id\":\"1706\",\"type\":\"AllLabels\"},{\"attributes\":{\"axis\":{\"id\":\"1670\"},\"coordinates\":null,\"grid_line_color\":null,\"group\":null,\"ticker\":null},\"id\":\"1672\",\"type\":\"Grid\"},{\"attributes\":{\"margin\":[5,5,5,5],\"name\":\"HSpacer02643\",\"sizing_mode\":\"stretch_width\"},\"id\":\"1718\",\"type\":\"Spacer\"},{\"attributes\":{\"format\":\"%0f\"},\"id\":\"1700\",\"type\":\"PrintfTickFormatter\"},{\"attributes\":{\"end\":161308.8,\"reset_end\":161308.8,\"reset_start\":0.0,\"tags\":[[[\"Open Int\",\"Open Int\",null]]]},\"id\":\"1659\",\"type\":\"Range1d\"},{\"attributes\":{\"tools\":[{\"id\":\"1660\"},{\"id\":\"1677\"},{\"id\":\"1678\"},{\"id\":\"1679\"},{\"id\":\"1680\"},{\"id\":\"1681\"}]},\"id\":\"1683\",\"type\":\"Toolbar\"},{\"attributes\":{\"source\":{\"id\":\"1691\"}},\"id\":\"1698\",\"type\":\"CDSView\"},{\"attributes\":{},\"id\":\"1681\",\"type\":\"ResetTool\"}],\"root_ids\":[\"1656\"]},\"title\":\"Bokeh Application\",\"version\":\"2.4.3\"}};\n",
       "    var render_items = [{\"docid\":\"60f44934-7147-4fbb-b049-4d449ff9ce36\",\"root_ids\":[\"1656\"],\"roots\":{\"1656\":\"3a88aba3-a062-41f1-9a5f-7f6baaec8d80\"}}];\n",
       "    root.Bokeh.embed.embed_items_notebook(docs_json, render_items);\n",
       "  }\n",
       "  if (root.Bokeh !== undefined && root.Bokeh.Panel !== undefined) {\n",
       "    embed_document(root);\n",
       "  } else {\n",
       "    var attempts = 0;\n",
       "    var timer = setInterval(function(root) {\n",
       "      if (root.Bokeh !== undefined && root.Bokeh.Panel !== undefined) {\n",
       "        clearInterval(timer);\n",
       "        embed_document(root);\n",
       "      } else if (document.readyState == \"complete\") {\n",
       "        attempts++;\n",
       "        if (attempts > 200) {\n",
       "          clearInterval(timer);\n",
       "          console.log(\"Bokeh: ERROR: Unable to run BokehJS code because BokehJS library is missing\");\n",
       "        }\n",
       "      }\n",
       "    }, 25, root)\n",
       "  }\n",
       "})(window);</script>"
      ],
      "text/plain": [
       ":Bars   [Strike,Type]   (Open Int)"
      ]
     },
     "metadata": {
      "application/vnd.holoviews_exec.v0+json": {
       "id": "1656"
      }
     },
     "output_type": "display_data"
    },
    {
     "data": {},
     "metadata": {},
     "output_type": "display_data"
    },
    {
     "data": {
      "application/vnd.holoviews_exec.v0+json": "",
      "text/html": [
       "<div id='1765'>\n",
       "  <div class=\"bk-root\" id=\"2724c790-e782-4cee-a7b1-2be07ef772c4\" data-root-id=\"1765\"></div>\n",
       "</div>\n",
       "<script type=\"application/javascript\">(function(root) {\n",
       "  function embed_document(root) {\n",
       "    var docs_json = {\"3e4ffabc-cc8a-4965-912d-28ebd3f926c3\":{\"defs\":[{\"extends\":null,\"module\":null,\"name\":\"ReactiveHTML1\",\"overrides\":[],\"properties\":[]},{\"extends\":null,\"module\":null,\"name\":\"FlexBox1\",\"overrides\":[],\"properties\":[{\"default\":\"flex-start\",\"kind\":null,\"name\":\"align_content\"},{\"default\":\"flex-start\",\"kind\":null,\"name\":\"align_items\"},{\"default\":\"row\",\"kind\":null,\"name\":\"flex_direction\"},{\"default\":\"wrap\",\"kind\":null,\"name\":\"flex_wrap\"},{\"default\":\"flex-start\",\"kind\":null,\"name\":\"justify_content\"}]},{\"extends\":null,\"module\":null,\"name\":\"GridStack1\",\"overrides\":[],\"properties\":[{\"default\":\"warn\",\"kind\":null,\"name\":\"mode\"},{\"default\":null,\"kind\":null,\"name\":\"ncols\"},{\"default\":null,\"kind\":null,\"name\":\"nrows\"},{\"default\":true,\"kind\":null,\"name\":\"allow_resize\"},{\"default\":true,\"kind\":null,\"name\":\"allow_drag\"},{\"default\":[],\"kind\":null,\"name\":\"state\"}]},{\"extends\":null,\"module\":null,\"name\":\"click1\",\"overrides\":[],\"properties\":[{\"default\":\"\",\"kind\":null,\"name\":\"terminal_output\"},{\"default\":\"\",\"kind\":null,\"name\":\"debug_name\"},{\"default\":0,\"kind\":null,\"name\":\"clears\"}]},{\"extends\":null,\"module\":null,\"name\":\"NotificationAreaBase1\",\"overrides\":[],\"properties\":[{\"default\":\"bottom-right\",\"kind\":null,\"name\":\"position\"},{\"default\":0,\"kind\":null,\"name\":\"_clear\"}]},{\"extends\":null,\"module\":null,\"name\":\"NotificationArea1\",\"overrides\":[],\"properties\":[{\"default\":[],\"kind\":null,\"name\":\"notifications\"},{\"default\":\"bottom-right\",\"kind\":null,\"name\":\"position\"},{\"default\":0,\"kind\":null,\"name\":\"_clear\"},{\"default\":[{\"background\":\"#ffc107\",\"icon\":{\"className\":\"fas fa-exclamation-triangle\",\"color\":\"white\",\"tagName\":\"i\"},\"type\":\"warning\"},{\"background\":\"#007bff\",\"icon\":{\"className\":\"fas fa-info-circle\",\"color\":\"white\",\"tagName\":\"i\"},\"type\":\"info\"}],\"kind\":null,\"name\":\"types\"}]},{\"extends\":null,\"module\":null,\"name\":\"Notification\",\"overrides\":[],\"properties\":[{\"default\":null,\"kind\":null,\"name\":\"background\"},{\"default\":3000,\"kind\":null,\"name\":\"duration\"},{\"default\":null,\"kind\":null,\"name\":\"icon\"},{\"default\":\"\",\"kind\":null,\"name\":\"message\"},{\"default\":null,\"kind\":null,\"name\":\"notification_type\"},{\"default\":false,\"kind\":null,\"name\":\"_destroyed\"}]},{\"extends\":null,\"module\":null,\"name\":\"TemplateActions1\",\"overrides\":[],\"properties\":[{\"default\":0,\"kind\":null,\"name\":\"open_modal\"},{\"default\":0,\"kind\":null,\"name\":\"close_modal\"}]},{\"extends\":null,\"module\":null,\"name\":\"MaterialTemplateActions1\",\"overrides\":[],\"properties\":[{\"default\":0,\"kind\":null,\"name\":\"open_modal\"},{\"default\":0,\"kind\":null,\"name\":\"close_modal\"}]}],\"roots\":{\"references\":[{\"attributes\":{},\"id\":\"1894\",\"type\":\"UnionRenderers\"},{\"attributes\":{\"days\":[1,15]},\"id\":\"1832\",\"type\":\"DaysTicker\"},{\"attributes\":{\"line_alpha\":0.2,\"line_color\":\"#30a2da\",\"line_width\":2,\"x\":{\"field\":\"timestamp\"},\"y\":{\"field\":\"value\"}},\"id\":\"1813\",\"type\":\"Line\"},{\"attributes\":{\"line_alpha\":0.1,\"line_color\":\"#e5ae38\",\"line_width\":2,\"x\":{\"field\":\"timestamp\"},\"y\":{\"field\":\"value\"}},\"id\":\"1879\",\"type\":\"Line\"},{\"attributes\":{},\"id\":\"1809\",\"type\":\"Selection\"},{\"attributes\":{\"line_color\":\"#30a2da\",\"line_width\":2,\"x\":{\"field\":\"timestamp\"},\"y\":{\"field\":\"value\"}},\"id\":\"1811\",\"type\":\"Line\"},{\"attributes\":{},\"id\":\"1790\",\"type\":\"PanTool\"},{\"attributes\":{\"line_alpha\":0.1,\"line_color\":\"#30a2da\",\"line_width\":2,\"x\":{\"field\":\"timestamp\"},\"y\":{\"field\":\"value\"}},\"id\":\"1812\",\"type\":\"Line\"},{\"attributes\":{},\"id\":\"1807\",\"type\":\"AllLabels\"},{\"attributes\":{\"below\":[{\"id\":\"1781\"}],\"center\":[{\"id\":\"1784\"},{\"id\":\"1788\"}],\"height\":300,\"left\":[{\"id\":\"1785\"}],\"margin\":[5,5,5,5],\"min_border_bottom\":10,\"min_border_left\":10,\"min_border_right\":10,\"min_border_top\":10,\"renderers\":[{\"id\":\"1814\"},{\"id\":\"1847\"},{\"id\":\"1881\"}],\"right\":[{\"id\":\"1838\"}],\"sizing_mode\":\"fixed\",\"title\":{\"id\":\"1773\"},\"toolbar\":{\"id\":\"1795\"},\"width\":700,\"x_range\":{\"id\":\"1767\"},\"x_scale\":{\"id\":\"1777\"},\"y_range\":{\"id\":\"1768\"},\"y_scale\":{\"id\":\"1779\"}},\"id\":\"1772\",\"subtype\":\"Figure\",\"type\":\"Plot\"},{\"attributes\":{\"line_alpha\":0.2,\"line_color\":\"#e5ae38\",\"line_width\":2,\"x\":{\"field\":\"timestamp\"},\"y\":{\"field\":\"value\"}},\"id\":\"1880\",\"type\":\"Line\"},{\"attributes\":{\"overlay\":{\"id\":\"1794\"}},\"id\":\"1792\",\"type\":\"BoxZoomTool\"},{\"attributes\":{\"days\":[1,2,3,4,5,6,7,8,9,10,11,12,13,14,15,16,17,18,19,20,21,22,23,24,25,26,27,28,29,30,31]},\"id\":\"1829\",\"type\":\"DaysTicker\"},{\"attributes\":{},\"id\":\"1791\",\"type\":\"WheelZoomTool\"},{\"attributes\":{},\"id\":\"1786\",\"type\":\"BasicTicker\"},{\"attributes\":{\"label\":{\"value\":\"high\"},\"renderers\":[{\"id\":\"1847\"}]},\"id\":\"1873\",\"type\":\"LegendItem\"},{\"attributes\":{\"data\":{\"Variable\":[\"high\",\"high\",\"high\",\"high\",\"high\"],\"timestamp\":{\"__ndarray__\":\"AADgqf0yeEIAAKAPUDN4QgAAYHWiM3hCAAAg2/QzeEIAAOBARzR4Qg==\",\"dtype\":\"float64\",\"order\":\"little\",\"shape\":[5]},\"value\":{\"__ndarray__\":\"exSuR+F6L0DD9Shcj0IuQDMzMzMzsy1A7FG4HoVrLkB7FK5H4XotQA==\",\"dtype\":\"float64\",\"order\":\"little\",\"shape\":[5]}},\"selected\":{\"id\":\"1842\"},\"selection_policy\":{\"id\":\"1858\"}},\"id\":\"1841\",\"type\":\"ColumnDataSource\"},{\"attributes\":{\"line_color\":\"#fc4f30\",\"line_width\":2,\"x\":{\"field\":\"timestamp\"},\"y\":{\"field\":\"value\"}},\"id\":\"1844\",\"type\":\"Line\"},{\"attributes\":{\"margin\":[5,5,5,5],\"name\":\"HSpacer02735\",\"sizing_mode\":\"stretch_width\"},\"id\":\"1937\",\"type\":\"Spacer\"},{\"attributes\":{\"line_alpha\":0.1,\"line_color\":\"#fc4f30\",\"line_width\":2,\"x\":{\"field\":\"timestamp\"},\"y\":{\"field\":\"value\"}},\"id\":\"1845\",\"type\":\"Line\"},{\"attributes\":{\"days\":[1,4,7,10,13,16,19,22,25,28]},\"id\":\"1830\",\"type\":\"DaysTicker\"},{\"attributes\":{},\"id\":\"1876\",\"type\":\"Selection\"},{\"attributes\":{\"line_color\":\"#e5ae38\",\"line_width\":2,\"x\":{\"field\":\"timestamp\"},\"y\":{\"field\":\"value\"}},\"id\":\"1910\",\"type\":\"Line\"},{\"attributes\":{},\"id\":\"1823\",\"type\":\"UnionRenderers\"},{\"attributes\":{\"coordinates\":null,\"data_source\":{\"id\":\"1875\"},\"glyph\":{\"id\":\"1878\"},\"group\":null,\"hover_glyph\":null,\"muted_glyph\":{\"id\":\"1880\"},\"nonselection_glyph\":{\"id\":\"1879\"},\"selection_glyph\":{\"id\":\"1910\"},\"view\":{\"id\":\"1882\"}},\"id\":\"1881\",\"type\":\"GlyphRenderer\"},{\"attributes\":{\"num_minor_ticks\":5,\"tickers\":[{\"id\":\"1826\"},{\"id\":\"1827\"},{\"id\":\"1828\"},{\"id\":\"1829\"},{\"id\":\"1830\"},{\"id\":\"1831\"},{\"id\":\"1832\"},{\"id\":\"1833\"},{\"id\":\"1834\"},{\"id\":\"1835\"},{\"id\":\"1836\"},{\"id\":\"1837\"}]},\"id\":\"1782\",\"type\":\"DatetimeTicker\"},{\"attributes\":{\"base\":24,\"mantissas\":[1,2,4,6,8,12],\"max_interval\":43200000.0,\"min_interval\":3600000.0,\"num_minor_ticks\":0},\"id\":\"1828\",\"type\":\"AdaptiveTicker\"},{\"attributes\":{\"margin\":[5,5,5,5],\"name\":\"HSpacer02734\",\"sizing_mode\":\"stretch_width\"},\"id\":\"1766\",\"type\":\"Spacer\"},{\"attributes\":{\"line_color\":\"#e5ae38\",\"line_width\":2,\"x\":{\"field\":\"timestamp\"},\"y\":{\"field\":\"value\"}},\"id\":\"1878\",\"type\":\"Line\"},{\"attributes\":{},\"id\":\"1858\",\"type\":\"UnionRenderers\"},{\"attributes\":{\"coordinates\":null,\"group\":null,\"text_color\":\"black\",\"text_font_size\":\"12pt\"},\"id\":\"1773\",\"type\":\"Title\"},{\"attributes\":{\"source\":{\"id\":\"1841\"}},\"id\":\"1848\",\"type\":\"CDSView\"},{\"attributes\":{\"data\":{\"Variable\":[\"low\",\"low\",\"low\",\"low\",\"low\"],\"timestamp\":{\"__ndarray__\":\"AADgqf0yeEIAAKAPUDN4QgAAYHWiM3hCAAAg2/QzeEIAAOBARzR4Qg==\",\"dtype\":\"float64\",\"order\":\"little\",\"shape\":[5]},\"value\":{\"__ndarray__\":\"ZmZmZmbmLkBmZmZmZmYtQKRwPQrX4yxAXI/C9ShcLUBxPQrXo/AsQA==\",\"dtype\":\"float64\",\"order\":\"little\",\"shape\":[5]}},\"selected\":{\"id\":\"1876\"},\"selection_policy\":{\"id\":\"1894\"}},\"id\":\"1875\",\"type\":\"ColumnDataSource\"},{\"attributes\":{\"coordinates\":null,\"data_source\":{\"id\":\"1841\"},\"glyph\":{\"id\":\"1844\"},\"group\":null,\"hover_glyph\":null,\"muted_glyph\":{\"id\":\"1846\"},\"nonselection_glyph\":{\"id\":\"1845\"},\"selection_glyph\":{\"id\":\"1874\"},\"view\":{\"id\":\"1848\"}},\"id\":\"1847\",\"type\":\"GlyphRenderer\"},{\"attributes\":{},\"id\":\"1789\",\"type\":\"SaveTool\"},{\"attributes\":{\"label\":{\"value\":\"close\"},\"renderers\":[{\"id\":\"1814\"}]},\"id\":\"1839\",\"type\":\"LegendItem\"},{\"attributes\":{\"base\":60,\"mantissas\":[1,2,5,10,15,20,30],\"max_interval\":1800000.0,\"min_interval\":1000.0,\"num_minor_ticks\":0},\"id\":\"1827\",\"type\":\"AdaptiveTicker\"},{\"attributes\":{\"click_policy\":\"mute\",\"coordinates\":null,\"group\":null,\"items\":[{\"id\":\"1839\"},{\"id\":\"1873\"},{\"id\":\"1909\"}],\"location\":[0,0],\"title\":\"Variable\"},\"id\":\"1838\",\"type\":\"Legend\"},{\"attributes\":{\"days\":[1,8,15,22]},\"id\":\"1831\",\"type\":\"DaysTicker\"},{\"attributes\":{\"callback\":null,\"formatters\":{\"@{timestamp}\":\"datetime\"},\"renderers\":[{\"id\":\"1814\"},{\"id\":\"1847\"},{\"id\":\"1881\"}],\"tags\":[\"hv_created\"],\"tooltips\":[[\"Variable\",\"@{Variable}\"],[\"timestamp\",\"@{timestamp}{%F %T}\"],[\"value\",\"@{value}\"]]},\"id\":\"1769\",\"type\":\"HoverTool\"},{\"attributes\":{},\"id\":\"1842\",\"type\":\"Selection\"},{\"attributes\":{\"data\":{\"Variable\":[\"close\",\"close\",\"close\",\"close\",\"close\"],\"timestamp\":{\"__ndarray__\":\"AADgqf0yeEIAAKAPUDN4QgAAYHWiM3hCAAAg2/QzeEIAAOBARzR4Qg==\",\"dtype\":\"float64\",\"order\":\"little\",\"shape\":[5]},\"value\":{\"__ndarray__\":\"FK5H4XoUL0B7FK5H4XotQFK4HoXrUS1ASOF6FK7HLUBxPQrXo3AtQA==\",\"dtype\":\"float64\",\"order\":\"little\",\"shape\":[5]}},\"selected\":{\"id\":\"1809\"},\"selection_policy\":{\"id\":\"1823\"}},\"id\":\"1808\",\"type\":\"ColumnDataSource\"},{\"attributes\":{\"line_color\":\"#fc4f30\",\"line_width\":2,\"x\":{\"field\":\"timestamp\"},\"y\":{\"field\":\"value\"}},\"id\":\"1874\",\"type\":\"Line\"},{\"attributes\":{\"months\":[0,6]},\"id\":\"1836\",\"type\":\"MonthsTicker\"},{\"attributes\":{\"tools\":[{\"id\":\"1769\"},{\"id\":\"1789\"},{\"id\":\"1790\"},{\"id\":\"1791\"},{\"id\":\"1792\"},{\"id\":\"1793\"}]},\"id\":\"1795\",\"type\":\"Toolbar\"},{\"attributes\":{\"children\":[{\"id\":\"1766\"},{\"id\":\"1772\"},{\"id\":\"1937\"}],\"margin\":[0,0,0,0],\"name\":\"Row02730\",\"tags\":[\"embedded\"]},\"id\":\"1765\",\"type\":\"Row\"},{\"attributes\":{\"months\":[0,1,2,3,4,5,6,7,8,9,10,11]},\"id\":\"1833\",\"type\":\"MonthsTicker\"},{\"attributes\":{\"coordinates\":null,\"data_source\":{\"id\":\"1808\"},\"glyph\":{\"id\":\"1811\"},\"group\":null,\"hover_glyph\":null,\"muted_glyph\":{\"id\":\"1813\"},\"nonselection_glyph\":{\"id\":\"1812\"},\"selection_glyph\":{\"id\":\"1840\"},\"view\":{\"id\":\"1815\"}},\"id\":\"1814\",\"type\":\"GlyphRenderer\"},{\"attributes\":{},\"id\":\"1804\",\"type\":\"AllLabels\"},{\"attributes\":{\"months\":[0,2,4,6,8,10]},\"id\":\"1834\",\"type\":\"MonthsTicker\"},{\"attributes\":{},\"id\":\"1779\",\"type\":\"LinearScale\"},{\"attributes\":{},\"id\":\"1777\",\"type\":\"LinearScale\"},{\"attributes\":{\"source\":{\"id\":\"1875\"}},\"id\":\"1882\",\"type\":\"CDSView\"},{\"attributes\":{},\"id\":\"1806\",\"type\":\"BasicTickFormatter\"},{\"attributes\":{\"axis_label\":\"\",\"coordinates\":null,\"formatter\":{\"id\":\"1806\"},\"group\":null,\"major_label_policy\":{\"id\":\"1807\"},\"ticker\":{\"id\":\"1786\"}},\"id\":\"1785\",\"type\":\"LinearAxis\"},{\"attributes\":{},\"id\":\"1793\",\"type\":\"ResetTool\"},{\"attributes\":{\"end\":15.8695,\"reset_end\":15.8695,\"reset_start\":14.3155,\"start\":14.3155,\"tags\":[[[\"value\",\"value\",null]]]},\"id\":\"1768\",\"type\":\"Range1d\"},{\"attributes\":{\"mantissas\":[1,2,5],\"max_interval\":500.0,\"num_minor_ticks\":0},\"id\":\"1826\",\"type\":\"AdaptiveTicker\"},{\"attributes\":{},\"id\":\"1837\",\"type\":\"YearsTicker\"},{\"attributes\":{\"line_alpha\":0.2,\"line_color\":\"#fc4f30\",\"line_width\":2,\"x\":{\"field\":\"timestamp\"},\"y\":{\"field\":\"value\"}},\"id\":\"1846\",\"type\":\"Line\"},{\"attributes\":{\"axis_label\":\"timestamp\",\"coordinates\":null,\"formatter\":{\"id\":\"1803\"},\"group\":null,\"major_label_policy\":{\"id\":\"1804\"},\"ticker\":{\"id\":\"1782\"}},\"id\":\"1781\",\"type\":\"DatetimeAxis\"},{\"attributes\":{\"label\":{\"value\":\"low\"},\"renderers\":[{\"id\":\"1881\"}]},\"id\":\"1909\",\"type\":\"LegendItem\"},{\"attributes\":{\"source\":{\"id\":\"1808\"}},\"id\":\"1815\",\"type\":\"CDSView\"},{\"attributes\":{\"axis\":{\"id\":\"1781\"},\"coordinates\":null,\"grid_line_color\":null,\"group\":null,\"ticker\":null},\"id\":\"1784\",\"type\":\"Grid\"},{\"attributes\":{\"axis\":{\"id\":\"1785\"},\"coordinates\":null,\"dimension\":1,\"grid_line_color\":null,\"group\":null,\"ticker\":null},\"id\":\"1788\",\"type\":\"Grid\"},{\"attributes\":{\"bottom_units\":\"screen\",\"coordinates\":null,\"fill_alpha\":0.5,\"fill_color\":\"lightgrey\",\"group\":null,\"left_units\":\"screen\",\"level\":\"overlay\",\"line_alpha\":1.0,\"line_color\":\"black\",\"line_dash\":[4,4],\"line_width\":2,\"right_units\":\"screen\",\"syncable\":false,\"top_units\":\"screen\"},\"id\":\"1794\",\"type\":\"BoxAnnotation\"},{\"attributes\":{\"months\":[0,4,8]},\"id\":\"1835\",\"type\":\"MonthsTicker\"},{\"attributes\":{\"end\":1663300800000.0,\"reset_end\":1663300800000.0,\"reset_start\":1662955200000.0,\"start\":1662955200000.0,\"tags\":[[[\"timestamp\",\"timestamp\",null]]]},\"id\":\"1767\",\"type\":\"Range1d\"},{\"attributes\":{\"line_color\":\"#30a2da\",\"line_width\":2,\"x\":{\"field\":\"timestamp\"},\"y\":{\"field\":\"value\"}},\"id\":\"1840\",\"type\":\"Line\"},{\"attributes\":{},\"id\":\"1803\",\"type\":\"DatetimeTickFormatter\"}],\"root_ids\":[\"1765\"]},\"title\":\"Bokeh Application\",\"version\":\"2.4.3\"}};\n",
       "    var render_items = [{\"docid\":\"3e4ffabc-cc8a-4965-912d-28ebd3f926c3\",\"root_ids\":[\"1765\"],\"roots\":{\"1765\":\"2724c790-e782-4cee-a7b1-2be07ef772c4\"}}];\n",
       "    root.Bokeh.embed.embed_items_notebook(docs_json, render_items);\n",
       "  }\n",
       "  if (root.Bokeh !== undefined && root.Bokeh.Panel !== undefined) {\n",
       "    embed_document(root);\n",
       "  } else {\n",
       "    var attempts = 0;\n",
       "    var timer = setInterval(function(root) {\n",
       "      if (root.Bokeh !== undefined && root.Bokeh.Panel !== undefined) {\n",
       "        clearInterval(timer);\n",
       "        embed_document(root);\n",
       "      } else if (document.readyState == \"complete\") {\n",
       "        attempts++;\n",
       "        if (attempts > 200) {\n",
       "          clearInterval(timer);\n",
       "          console.log(\"Bokeh: ERROR: Unable to run BokehJS code because BokehJS library is missing\");\n",
       "        }\n",
       "      }\n",
       "    }, 25, root)\n",
       "  }\n",
       "})(window);</script>"
      ],
      "text/plain": [
       ":NdOverlay   [Variable]\n",
       "   :Curve   [timestamp]   (value)"
      ]
     },
     "metadata": {
      "application/vnd.holoviews_exec.v0+json": {
       "id": "1765"
      }
     },
     "output_type": "display_data"
    },
    {
     "data": {
      "text/html": [
       "<div>\n",
       "<style scoped>\n",
       "    .dataframe tbody tr th:only-of-type {\n",
       "        vertical-align: middle;\n",
       "    }\n",
       "\n",
       "    .dataframe tbody tr th {\n",
       "        vertical-align: top;\n",
       "    }\n",
       "\n",
       "    .dataframe thead th {\n",
       "        text-align: right;\n",
       "    }\n",
       "</style>\n",
       "<table border=\"1\" class=\"dataframe\">\n",
       "  <thead>\n",
       "    <tr style=\"text-align: right;\">\n",
       "      <th></th>\n",
       "      <th>Open Int</th>\n",
       "    </tr>\n",
       "  </thead>\n",
       "  <tbody>\n",
       "    <tr>\n",
       "      <th>count</th>\n",
       "      <td>3.000000</td>\n",
       "    </tr>\n",
       "    <tr>\n",
       "      <th>mean</th>\n",
       "      <td>90924.333333</td>\n",
       "    </tr>\n",
       "    <tr>\n",
       "      <th>std</th>\n",
       "      <td>72288.558440</td>\n",
       "    </tr>\n",
       "    <tr>\n",
       "      <th>min</th>\n",
       "      <td>9299.000000</td>\n",
       "    </tr>\n",
       "    <tr>\n",
       "      <th>25%</th>\n",
       "      <td>62958.000000</td>\n",
       "    </tr>\n",
       "    <tr>\n",
       "      <th>50%</th>\n",
       "      <td>116617.000000</td>\n",
       "    </tr>\n",
       "    <tr>\n",
       "      <th>75%</th>\n",
       "      <td>131737.000000</td>\n",
       "    </tr>\n",
       "    <tr>\n",
       "      <th>max</th>\n",
       "      <td>146857.000000</td>\n",
       "    </tr>\n",
       "  </tbody>\n",
       "</table>\n",
       "</div>"
      ],
      "text/plain": [
       "            Open Int\n",
       "count       3.000000\n",
       "mean    90924.333333\n",
       "std     72288.558440\n",
       "min      9299.000000\n",
       "25%     62958.000000\n",
       "50%    116617.000000\n",
       "75%    131737.000000\n",
       "max    146857.000000"
      ]
     },
     "metadata": {},
     "output_type": "display_data"
    },
    {
     "data": {
      "text/html": [
       "<div>\n",
       "<style scoped>\n",
       "    .dataframe tbody tr th:only-of-type {\n",
       "        vertical-align: middle;\n",
       "    }\n",
       "\n",
       "    .dataframe tbody tr th {\n",
       "        vertical-align: top;\n",
       "    }\n",
       "\n",
       "    .dataframe thead th {\n",
       "        text-align: right;\n",
       "    }\n",
       "</style>\n",
       "<table border=\"1\" class=\"dataframe\">\n",
       "  <thead>\n",
       "    <tr style=\"text-align: right;\">\n",
       "      <th></th>\n",
       "      <th>Open Int</th>\n",
       "    </tr>\n",
       "  </thead>\n",
       "  <tbody>\n",
       "    <tr>\n",
       "      <th>count</th>\n",
       "      <td>3.000000</td>\n",
       "    </tr>\n",
       "    <tr>\n",
       "      <th>mean</th>\n",
       "      <td>90924.333333</td>\n",
       "    </tr>\n",
       "    <tr>\n",
       "      <th>std</th>\n",
       "      <td>72288.558440</td>\n",
       "    </tr>\n",
       "    <tr>\n",
       "      <th>min</th>\n",
       "      <td>9299.000000</td>\n",
       "    </tr>\n",
       "    <tr>\n",
       "      <th>25%</th>\n",
       "      <td>62958.000000</td>\n",
       "    </tr>\n",
       "    <tr>\n",
       "      <th>50%</th>\n",
       "      <td>116617.000000</td>\n",
       "    </tr>\n",
       "    <tr>\n",
       "      <th>75%</th>\n",
       "      <td>131737.000000</td>\n",
       "    </tr>\n",
       "    <tr>\n",
       "      <th>max</th>\n",
       "      <td>146857.000000</td>\n",
       "    </tr>\n",
       "  </tbody>\n",
       "</table>\n",
       "</div>"
      ],
      "text/plain": [
       "            Open Int\n",
       "count       3.000000\n",
       "mean    90924.333333\n",
       "std     72288.558440\n",
       "min      9299.000000\n",
       "25%     62958.000000\n",
       "50%    116617.000000\n",
       "75%    131737.000000\n",
       "max    146857.000000"
      ]
     },
     "metadata": {},
     "output_type": "display_data"
    }
   ],
   "source": [
    "# Gets Alpaca key and secret from .env.\n",
    "alpaca_key = os.getenv(\"ALPACA_API_KEY\")\n",
    "alpaca_secret = os.getenv(\"ALPACA_SECRET_KEY\")\n",
    "\n",
    "\n",
    "# Specify dates for Alpaca API.\n",
    "start_date = \"2022-09-12\"\n",
    "end_date = \"2022-09-16\"\n",
    "\n",
    "# Specifies ticker from df above. Can single out any stock you like.\n",
    "ticker = \"F\"\n",
    "stock = ticker\n",
    "\n",
    "# Runs ticker report on single stock from data.\n",
    "report = ticker_report(ticker,df)\n",
    "\n",
    "# Creates ticker df from function\n",
    "ticker_df = alpaca_func(alpaca_key, alpaca_secret, start_date, end_date, stock)\n",
    "\n",
    "# Creates plot from prices\n",
    "prices = ticker_df.hvplot.line(x='timestamp', y=['close','high','low'])\n",
    "\n",
    "# Creates ticker call stats.\n",
    "calls = call_stats(ticker,df)\n",
    "\n",
    "# Creates ticker put stats.\n",
    "puts = put_stats(ticker,df)\n",
    "\n",
    "# Displays functions\n",
    "display(report)\n",
    "display(prices)\n",
    "display(calls)\n",
    "display(puts)"
   ]
  },
  {
   "cell_type": "code",
   "execution_count": 12,
   "metadata": {},
   "outputs": [
    {
     "data": {},
     "metadata": {},
     "output_type": "display_data"
    },
    {
     "data": {
      "application/vnd.holoviews_exec.v0+json": "",
      "text/html": [
       "<div id='2589'>\n",
       "  <div class=\"bk-root\" id=\"2fecd0cc-1cff-4e5a-9858-e081a3a64706\" data-root-id=\"2589\"></div>\n",
       "</div>\n",
       "<script type=\"application/javascript\">(function(root) {\n",
       "  function embed_document(root) {\n",
       "    var docs_json = {\"153b6fe0-9be8-4fae-8b7e-753a0442a335\":{\"defs\":[{\"extends\":null,\"module\":null,\"name\":\"ReactiveHTML1\",\"overrides\":[],\"properties\":[]},{\"extends\":null,\"module\":null,\"name\":\"FlexBox1\",\"overrides\":[],\"properties\":[{\"default\":\"flex-start\",\"kind\":null,\"name\":\"align_content\"},{\"default\":\"flex-start\",\"kind\":null,\"name\":\"align_items\"},{\"default\":\"row\",\"kind\":null,\"name\":\"flex_direction\"},{\"default\":\"wrap\",\"kind\":null,\"name\":\"flex_wrap\"},{\"default\":\"flex-start\",\"kind\":null,\"name\":\"justify_content\"}]},{\"extends\":null,\"module\":null,\"name\":\"GridStack1\",\"overrides\":[],\"properties\":[{\"default\":\"warn\",\"kind\":null,\"name\":\"mode\"},{\"default\":null,\"kind\":null,\"name\":\"ncols\"},{\"default\":null,\"kind\":null,\"name\":\"nrows\"},{\"default\":true,\"kind\":null,\"name\":\"allow_resize\"},{\"default\":true,\"kind\":null,\"name\":\"allow_drag\"},{\"default\":[],\"kind\":null,\"name\":\"state\"}]},{\"extends\":null,\"module\":null,\"name\":\"click1\",\"overrides\":[],\"properties\":[{\"default\":\"\",\"kind\":null,\"name\":\"terminal_output\"},{\"default\":\"\",\"kind\":null,\"name\":\"debug_name\"},{\"default\":0,\"kind\":null,\"name\":\"clears\"}]},{\"extends\":null,\"module\":null,\"name\":\"NotificationAreaBase1\",\"overrides\":[],\"properties\":[{\"default\":\"bottom-right\",\"kind\":null,\"name\":\"position\"},{\"default\":0,\"kind\":null,\"name\":\"_clear\"}]},{\"extends\":null,\"module\":null,\"name\":\"NotificationArea1\",\"overrides\":[],\"properties\":[{\"default\":[],\"kind\":null,\"name\":\"notifications\"},{\"default\":\"bottom-right\",\"kind\":null,\"name\":\"position\"},{\"default\":0,\"kind\":null,\"name\":\"_clear\"},{\"default\":[{\"background\":\"#ffc107\",\"icon\":{\"className\":\"fas fa-exclamation-triangle\",\"color\":\"white\",\"tagName\":\"i\"},\"type\":\"warning\"},{\"background\":\"#007bff\",\"icon\":{\"className\":\"fas fa-info-circle\",\"color\":\"white\",\"tagName\":\"i\"},\"type\":\"info\"}],\"kind\":null,\"name\":\"types\"}]},{\"extends\":null,\"module\":null,\"name\":\"Notification\",\"overrides\":[],\"properties\":[{\"default\":null,\"kind\":null,\"name\":\"background\"},{\"default\":3000,\"kind\":null,\"name\":\"duration\"},{\"default\":null,\"kind\":null,\"name\":\"icon\"},{\"default\":\"\",\"kind\":null,\"name\":\"message\"},{\"default\":null,\"kind\":null,\"name\":\"notification_type\"},{\"default\":false,\"kind\":null,\"name\":\"_destroyed\"}]},{\"extends\":null,\"module\":null,\"name\":\"TemplateActions1\",\"overrides\":[],\"properties\":[{\"default\":0,\"kind\":null,\"name\":\"open_modal\"},{\"default\":0,\"kind\":null,\"name\":\"close_modal\"}]},{\"extends\":null,\"module\":null,\"name\":\"MaterialTemplateActions1\",\"overrides\":[],\"properties\":[{\"default\":0,\"kind\":null,\"name\":\"open_modal\"},{\"default\":0,\"kind\":null,\"name\":\"close_modal\"}]}],\"roots\":{\"references\":[{\"attributes\":{},\"id\":\"2613\",\"type\":\"WheelZoomTool\"},{\"attributes\":{\"months\":[0,6]},\"id\":\"2659\",\"type\":\"MonthsTicker\"},{\"attributes\":{\"tools\":[{\"id\":\"2593\"},{\"id\":\"2611\"},{\"id\":\"2612\"},{\"id\":\"2613\"},{\"id\":\"2614\"},{\"id\":\"2615\"}]},\"id\":\"2617\",\"type\":\"Toolbar\"},{\"attributes\":{\"overlay\":{\"id\":\"2616\"}},\"id\":\"2614\",\"type\":\"BoxZoomTool\"},{\"attributes\":{\"months\":[0,4,8]},\"id\":\"2658\",\"type\":\"MonthsTicker\"},{\"attributes\":{},\"id\":\"2660\",\"type\":\"YearsTicker\"},{\"attributes\":{\"children\":[{\"id\":\"2590\"},{\"id\":\"2594\"},{\"id\":\"2661\"}],\"margin\":[0,0,0,0],\"name\":\"Row03183\",\"tags\":[\"embedded\"]},\"id\":\"2589\",\"type\":\"Row\"},{\"attributes\":{\"below\":[{\"id\":\"2603\"}],\"center\":[{\"id\":\"2606\"},{\"id\":\"2610\"}],\"height\":300,\"left\":[{\"id\":\"2607\"}],\"margin\":[5,5,5,5],\"min_border_bottom\":10,\"min_border_left\":10,\"min_border_right\":10,\"min_border_top\":10,\"renderers\":[{\"id\":\"2630\"}],\"sizing_mode\":\"fixed\",\"title\":{\"id\":\"2595\"},\"toolbar\":{\"id\":\"2617\"},\"width\":700,\"x_range\":{\"id\":\"2591\"},\"x_scale\":{\"id\":\"2599\"},\"y_range\":{\"id\":\"2592\"},\"y_scale\":{\"id\":\"2601\"}},\"id\":\"2594\",\"subtype\":\"Figure\",\"type\":\"Plot\"},{\"attributes\":{},\"id\":\"2638\",\"type\":\"AllLabels\"},{\"attributes\":{\"coordinates\":null,\"group\":null,\"text\":\"close\",\"text_color\":\"black\",\"text_font_size\":\"12pt\"},\"id\":\"2595\",\"type\":\"Title\"},{\"attributes\":{},\"id\":\"2615\",\"type\":\"ResetTool\"},{\"attributes\":{\"bottom_units\":\"screen\",\"coordinates\":null,\"fill_alpha\":0.5,\"fill_color\":\"lightgrey\",\"group\":null,\"left_units\":\"screen\",\"level\":\"overlay\",\"line_alpha\":1.0,\"line_color\":\"black\",\"line_dash\":[4,4],\"line_width\":2,\"right_units\":\"screen\",\"syncable\":false,\"top_units\":\"screen\"},\"id\":\"2616\",\"type\":\"BoxAnnotation\"},{\"attributes\":{},\"id\":\"2601\",\"type\":\"LinearScale\"},{\"attributes\":{\"line_alpha\":0.2,\"line_color\":\"#30a2da\",\"line_width\":2,\"x\":{\"field\":\"timestamp\"},\"y\":{\"field\":\"close\"}},\"id\":\"2629\",\"type\":\"Line\"},{\"attributes\":{\"end\":15.784999999999998,\"reset_end\":15.784999999999998,\"reset_start\":12.845,\"start\":12.845,\"tags\":[[[\"close\",\"close\",null]]]},\"id\":\"2592\",\"type\":\"Range1d\"},{\"attributes\":{\"num_minor_ticks\":5,\"tickers\":[{\"id\":\"2649\"},{\"id\":\"2650\"},{\"id\":\"2651\"},{\"id\":\"2652\"},{\"id\":\"2653\"},{\"id\":\"2654\"},{\"id\":\"2655\"},{\"id\":\"2656\"},{\"id\":\"2657\"},{\"id\":\"2658\"},{\"id\":\"2659\"},{\"id\":\"2660\"}]},\"id\":\"2604\",\"type\":\"DatetimeTicker\"},{\"attributes\":{\"coordinates\":null,\"data_source\":{\"id\":\"2624\"},\"glyph\":{\"id\":\"2627\"},\"group\":null,\"hover_glyph\":null,\"muted_glyph\":{\"id\":\"2629\"},\"nonselection_glyph\":{\"id\":\"2628\"},\"selection_glyph\":{\"id\":\"2632\"},\"view\":{\"id\":\"2631\"}},\"id\":\"2630\",\"type\":\"GlyphRenderer\"},{\"attributes\":{\"margin\":[5,5,5,5],\"name\":\"HSpacer03188\",\"sizing_mode\":\"stretch_width\"},\"id\":\"2661\",\"type\":\"Spacer\"},{\"attributes\":{},\"id\":\"2608\",\"type\":\"BasicTicker\"},{\"attributes\":{\"axis_label\":\"timestamp\",\"coordinates\":null,\"formatter\":{\"id\":\"2634\"},\"group\":null,\"major_label_policy\":{\"id\":\"2635\"},\"ticker\":{\"id\":\"2604\"}},\"id\":\"2603\",\"type\":\"DatetimeAxis\"},{\"attributes\":{\"line_color\":\"#30a2da\",\"line_width\":2,\"x\":{\"field\":\"timestamp\"},\"y\":{\"field\":\"close\"}},\"id\":\"2627\",\"type\":\"Line\"},{\"attributes\":{},\"id\":\"2599\",\"type\":\"LinearScale\"},{\"attributes\":{\"base\":60,\"mantissas\":[1,2,5,10,15,20,30],\"max_interval\":1800000.0,\"min_interval\":1000.0,\"num_minor_ticks\":0},\"id\":\"2650\",\"type\":\"AdaptiveTicker\"},{\"attributes\":{\"axis\":{\"id\":\"2603\"},\"coordinates\":null,\"grid_line_color\":null,\"group\":null,\"ticker\":null},\"id\":\"2606\",\"type\":\"Grid\"},{\"attributes\":{},\"id\":\"2646\",\"type\":\"UnionRenderers\"},{\"attributes\":{\"base\":24,\"mantissas\":[1,2,4,6,8,12],\"max_interval\":43200000.0,\"min_interval\":3600000.0,\"num_minor_ticks\":0},\"id\":\"2651\",\"type\":\"AdaptiveTicker\"},{\"attributes\":{\"axis\":{\"id\":\"2607\"},\"coordinates\":null,\"dimension\":1,\"grid_line_color\":null,\"group\":null,\"ticker\":null},\"id\":\"2610\",\"type\":\"Grid\"},{\"attributes\":{},\"id\":\"2612\",\"type\":\"PanTool\"},{\"attributes\":{},\"id\":\"2635\",\"type\":\"AllLabels\"},{\"attributes\":{\"axis_label\":\"\",\"coordinates\":null,\"formatter\":{\"id\":\"2637\"},\"group\":null,\"major_label_policy\":{\"id\":\"2638\"},\"ticker\":{\"id\":\"2608\"}},\"id\":\"2607\",\"type\":\"LinearAxis\"},{\"attributes\":{\"days\":[1,2,3,4,5,6,7,8,9,10,11,12,13,14,15,16,17,18,19,20,21,22,23,24,25,26,27,28,29,30,31]},\"id\":\"2652\",\"type\":\"DaysTicker\"},{\"attributes\":{\"days\":[1,4,7,10,13,16,19,22,25,28]},\"id\":\"2653\",\"type\":\"DaysTicker\"},{\"attributes\":{\"data\":{\"close\":{\"__ndarray__\":\"FK5H4XoUL0B7FK5H4XotQFK4HoXrUS1ASOF6FK7HLUBxPQrXo3AtQFyPwvUo3C1ArkfhehQuKkA=\",\"dtype\":\"float64\",\"order\":\"little\",\"shape\":[7]},\"timestamp\":{\"__ndarray__\":\"AADgqf0yeEIAAKAPUDN4QgAAYHWiM3hCAAAg2/QzeEIAAOBARzR4QgAAIHI+NXhCAADg15A1eEI=\",\"dtype\":\"float64\",\"order\":\"little\",\"shape\":[7]}},\"selected\":{\"id\":\"2625\"},\"selection_policy\":{\"id\":\"2646\"}},\"id\":\"2624\",\"type\":\"ColumnDataSource\"},{\"attributes\":{\"days\":[1,8,15,22]},\"id\":\"2654\",\"type\":\"DaysTicker\"},{\"attributes\":{\"mantissas\":[1,2,5],\"max_interval\":500.0,\"num_minor_ticks\":0},\"id\":\"2649\",\"type\":\"AdaptiveTicker\"},{\"attributes\":{\"line_alpha\":0.1,\"line_color\":\"#30a2da\",\"line_width\":2,\"x\":{\"field\":\"timestamp\"},\"y\":{\"field\":\"close\"}},\"id\":\"2628\",\"type\":\"Line\"},{\"attributes\":{\"days\":[1,15]},\"id\":\"2655\",\"type\":\"DaysTicker\"},{\"attributes\":{\"source\":{\"id\":\"2624\"}},\"id\":\"2631\",\"type\":\"CDSView\"},{\"attributes\":{\"end\":1663646400000.0,\"reset_end\":1663646400000.0,\"reset_start\":1662955200000.0,\"start\":1662955200000.0,\"tags\":[[[\"timestamp\",\"timestamp\",null]]]},\"id\":\"2591\",\"type\":\"Range1d\"},{\"attributes\":{\"months\":[0,1,2,3,4,5,6,7,8,9,10,11]},\"id\":\"2656\",\"type\":\"MonthsTicker\"},{\"attributes\":{\"callback\":null,\"formatters\":{\"@{timestamp}\":\"datetime\"},\"renderers\":[{\"id\":\"2630\"}],\"tags\":[\"hv_created\"],\"tooltips\":[[\"timestamp\",\"@{timestamp}{%F %T}\"],[\"close\",\"@{close}\"]]},\"id\":\"2593\",\"type\":\"HoverTool\"},{\"attributes\":{\"margin\":[5,5,5,5],\"name\":\"HSpacer03187\",\"sizing_mode\":\"stretch_width\"},\"id\":\"2590\",\"type\":\"Spacer\"},{\"attributes\":{},\"id\":\"2611\",\"type\":\"SaveTool\"},{\"attributes\":{},\"id\":\"2625\",\"type\":\"Selection\"},{\"attributes\":{\"months\":[0,2,4,6,8,10]},\"id\":\"2657\",\"type\":\"MonthsTicker\"},{\"attributes\":{},\"id\":\"2634\",\"type\":\"DatetimeTickFormatter\"},{\"attributes\":{\"line_color\":\"#30a2da\",\"line_width\":2,\"x\":{\"field\":\"timestamp\"},\"y\":{\"field\":\"close\"}},\"id\":\"2632\",\"type\":\"Line\"},{\"attributes\":{},\"id\":\"2637\",\"type\":\"BasicTickFormatter\"}],\"root_ids\":[\"2589\"]},\"title\":\"Bokeh Application\",\"version\":\"2.4.3\"}};\n",
       "    var render_items = [{\"docid\":\"153b6fe0-9be8-4fae-8b7e-753a0442a335\",\"root_ids\":[\"2589\"],\"roots\":{\"2589\":\"2fecd0cc-1cff-4e5a-9858-e081a3a64706\"}}];\n",
       "    root.Bokeh.embed.embed_items_notebook(docs_json, render_items);\n",
       "  }\n",
       "  if (root.Bokeh !== undefined && root.Bokeh.Panel !== undefined) {\n",
       "    embed_document(root);\n",
       "  } else {\n",
       "    var attempts = 0;\n",
       "    var timer = setInterval(function(root) {\n",
       "      if (root.Bokeh !== undefined && root.Bokeh.Panel !== undefined) {\n",
       "        clearInterval(timer);\n",
       "        embed_document(root);\n",
       "      } else if (document.readyState == \"complete\") {\n",
       "        attempts++;\n",
       "        if (attempts > 200) {\n",
       "          clearInterval(timer);\n",
       "          console.log(\"Bokeh: ERROR: Unable to run BokehJS code because BokehJS library is missing\");\n",
       "        }\n",
       "      }\n",
       "    }, 25, root)\n",
       "  }\n",
       "})(window);</script>"
      ],
      "text/plain": [
       ":Curve   [timestamp]   (close)"
      ]
     },
     "execution_count": 12,
     "metadata": {
      "application/vnd.holoviews_exec.v0+json": {
       "id": "2589"
      }
     },
     "output_type": "execute_result"
    }
   ],
   "source": [
    "# Specify dates for Alpaca API.\n",
    "start_date = \"2022-09-12\"\n",
    "end_date = \"2022-09-20\"\n",
    "\n",
    "alpaca_func(alpaca_key, alpaca_secret, start_date, end_date, stock)['close'].hvplot.line()"
   ]
  },
  {
   "cell_type": "code",
   "execution_count": null,
   "metadata": {},
   "outputs": [],
   "source": []
  },
  {
   "cell_type": "code",
   "execution_count": null,
   "metadata": {},
   "outputs": [],
   "source": []
  }
 ],
 "metadata": {
  "kernelspec": {
   "display_name": "Python 3.7.13 ('dev')",
   "language": "python",
   "name": "python3"
  },
  "language_info": {
   "codemirror_mode": {
    "name": "ipython",
    "version": 3
   },
   "file_extension": ".py",
   "mimetype": "text/x-python",
   "name": "python",
   "nbconvert_exporter": "python",
   "pygments_lexer": "ipython3",
   "version": "3.7.13"
  },
  "orig_nbformat": 4,
  "vscode": {
   "interpreter": {
    "hash": "c15db3377afa3dcb659dfa4a45bef3fc6c9aec87eaa6dcb1828c53c173a1512b"
   }
  }
 },
 "nbformat": 4,
 "nbformat_minor": 2
}
