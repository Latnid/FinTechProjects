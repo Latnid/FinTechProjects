{
 "cells": [
  {
   "cell_type": "code",
   "execution_count": 64,
   "metadata": {},
   "outputs": [],
   "source": [
    "import fire\n",
    "import os\n",
    "import requests\n",
    "import pandas as pd\n",
    "from dotenv import load_dotenv\n",
    "load_dotenv()\n",
    "import numpy as np\n",
    "import alpaca_trade_api as alpaca\n",
    "import questionary\n",
    "import hvplot.pandas\n",
    "\n",
    "from qualifier.utils.alpaca_api import alpaca_func\n",
    "\n",
    "from qualifier.utils.analysis import largest_25_OI\n",
    "from qualifier.utils.analysis import options_call_bar\n",
    "from qualifier.utils.analysis import options_put_bar\n",
    "from qualifier.utils.analysis import put_stats\n",
    "from qualifier.utils.analysis import call_stats\n",
    "\n",
    "from Modules.CleanData import get_data\n",
    "# from qualifier.utils.SQL import add_new_table\n",
    "\n",
    "# alpaca_func(key=alpaca_key, secret=alpaca_secret, START_DATE=START_DATE, END_DATE=END_DATE)\n",
    "# add_new_table(data=a)\n",
    "\n"
   ]
  },
  {
   "cell_type": "markdown",
   "metadata": {},
   "source": [
    "# Specifies variables needed tor app."
   ]
  },
  {
   "cell_type": "code",
   "execution_count": 65,
   "metadata": {},
   "outputs": [],
   "source": [
    "# Gets Alpaca key and secret from .env.\n",
    "alpaca_key = os.getenv(\"ALPACA_API_KEY\")\n",
    "alpaca_secret = os.getenv(\"ALPACA_SECRET_KEY\")\n",
    "\n",
    "# Specify dates for Alpaca API.\n",
    "start_date = \"2022-09-14\"\n",
    "end_date = start_date\n",
    "\n",
    "# Specify ticker of stock to get info from Alpaca API.\n",
    "stock = \"AAPL\"\n",
    "\n",
    "# Specify date for Tao's code.\n",
    "date = \"09-14-2022\""
   ]
  },
  {
   "cell_type": "markdown",
   "metadata": {},
   "source": [
    "# Alpaca API"
   ]
  },
  {
   "cell_type": "code",
   "execution_count": 66,
   "metadata": {},
   "outputs": [
    {
     "data": {
      "text/html": [
       "<div>\n",
       "<style scoped>\n",
       "    .dataframe tbody tr th:only-of-type {\n",
       "        vertical-align: middle;\n",
       "    }\n",
       "\n",
       "    .dataframe tbody tr th {\n",
       "        vertical-align: top;\n",
       "    }\n",
       "\n",
       "    .dataframe thead th {\n",
       "        text-align: right;\n",
       "    }\n",
       "</style>\n",
       "<table border=\"1\" class=\"dataframe\">\n",
       "  <thead>\n",
       "    <tr style=\"text-align: right;\">\n",
       "      <th></th>\n",
       "      <th>open</th>\n",
       "      <th>high</th>\n",
       "      <th>low</th>\n",
       "      <th>close</th>\n",
       "      <th>volume</th>\n",
       "      <th>trade_count</th>\n",
       "      <th>vwap</th>\n",
       "    </tr>\n",
       "    <tr>\n",
       "      <th>timestamp</th>\n",
       "      <th></th>\n",
       "      <th></th>\n",
       "      <th></th>\n",
       "      <th></th>\n",
       "      <th></th>\n",
       "      <th></th>\n",
       "      <th></th>\n",
       "    </tr>\n",
       "  </thead>\n",
       "  <tbody>\n",
       "    <tr>\n",
       "      <th>2022-09-14 04:00:00+00:00</th>\n",
       "      <td>154.79</td>\n",
       "      <td>157.1</td>\n",
       "      <td>153.6106</td>\n",
       "      <td>155.31</td>\n",
       "      <td>87944110</td>\n",
       "      <td>715880</td>\n",
       "      <td>155.261313</td>\n",
       "    </tr>\n",
       "  </tbody>\n",
       "</table>\n",
       "</div>"
      ],
      "text/plain": [
       "                             open   high       low   close    volume  \\\n",
       "timestamp                                                              \n",
       "2022-09-14 04:00:00+00:00  154.79  157.1  153.6106  155.31  87944110   \n",
       "\n",
       "                           trade_count        vwap  \n",
       "timestamp                                           \n",
       "2022-09-14 04:00:00+00:00       715880  155.261313  "
      ]
     },
     "execution_count": 66,
     "metadata": {},
     "output_type": "execute_result"
    }
   ],
   "source": [
    "# Calling alpaca_func\n",
    "alpaca_func(alpaca_key, alpaca_secret, start_date, end_date, stock)"
   ]
  },
  {
   "cell_type": "code",
   "execution_count": null,
   "metadata": {},
   "outputs": [],
   "source": []
  },
  {
   "cell_type": "code",
   "execution_count": null,
   "metadata": {},
   "outputs": [],
   "source": []
  },
  {
   "cell_type": "markdown",
   "metadata": {},
   "source": [
    "# Tao's Code"
   ]
  },
  {
   "cell_type": "code",
   "execution_count": 67,
   "metadata": {},
   "outputs": [],
   "source": [
    "# Calling get_data()\n",
    "# From the query, SELECT *\n",
    "df = get_data(date)\n"
   ]
  },
  {
   "cell_type": "code",
   "execution_count": 68,
   "metadata": {},
   "outputs": [
    {
     "data": {},
     "metadata": {},
     "output_type": "display_data"
    },
    {
     "data": {
      "application/vnd.holoviews_exec.v0+json": "",
      "text/html": [
       "<div id='1983'>\n",
       "  <div class=\"bk-root\" id=\"fa18cbb0-e95f-4699-b2d8-76fdc2f8971d\" data-root-id=\"1983\"></div>\n",
       "</div>\n",
       "<script type=\"application/javascript\">(function(root) {\n",
       "  function embed_document(root) {\n",
       "    var docs_json = {\"c211bf18-7434-4959-9450-3251c97f2354\":{\"defs\":[{\"extends\":null,\"module\":null,\"name\":\"ReactiveHTML1\",\"overrides\":[],\"properties\":[]},{\"extends\":null,\"module\":null,\"name\":\"FlexBox1\",\"overrides\":[],\"properties\":[{\"default\":\"flex-start\",\"kind\":null,\"name\":\"align_content\"},{\"default\":\"flex-start\",\"kind\":null,\"name\":\"align_items\"},{\"default\":\"row\",\"kind\":null,\"name\":\"flex_direction\"},{\"default\":\"wrap\",\"kind\":null,\"name\":\"flex_wrap\"},{\"default\":\"flex-start\",\"kind\":null,\"name\":\"justify_content\"}]},{\"extends\":null,\"module\":null,\"name\":\"GridStack1\",\"overrides\":[],\"properties\":[{\"default\":\"warn\",\"kind\":null,\"name\":\"mode\"},{\"default\":null,\"kind\":null,\"name\":\"ncols\"},{\"default\":null,\"kind\":null,\"name\":\"nrows\"},{\"default\":true,\"kind\":null,\"name\":\"allow_resize\"},{\"default\":true,\"kind\":null,\"name\":\"allow_drag\"},{\"default\":[],\"kind\":null,\"name\":\"state\"}]},{\"extends\":null,\"module\":null,\"name\":\"click1\",\"overrides\":[],\"properties\":[{\"default\":\"\",\"kind\":null,\"name\":\"terminal_output\"},{\"default\":\"\",\"kind\":null,\"name\":\"debug_name\"},{\"default\":0,\"kind\":null,\"name\":\"clears\"}]},{\"extends\":null,\"module\":null,\"name\":\"NotificationAreaBase1\",\"overrides\":[],\"properties\":[{\"default\":\"bottom-right\",\"kind\":null,\"name\":\"position\"},{\"default\":0,\"kind\":null,\"name\":\"_clear\"}]},{\"extends\":null,\"module\":null,\"name\":\"NotificationArea1\",\"overrides\":[],\"properties\":[{\"default\":[],\"kind\":null,\"name\":\"notifications\"},{\"default\":\"bottom-right\",\"kind\":null,\"name\":\"position\"},{\"default\":0,\"kind\":null,\"name\":\"_clear\"},{\"default\":[{\"background\":\"#ffc107\",\"icon\":{\"className\":\"fas fa-exclamation-triangle\",\"color\":\"white\",\"tagName\":\"i\"},\"type\":\"warning\"},{\"background\":\"#007bff\",\"icon\":{\"className\":\"fas fa-info-circle\",\"color\":\"white\",\"tagName\":\"i\"},\"type\":\"info\"}],\"kind\":null,\"name\":\"types\"}]},{\"extends\":null,\"module\":null,\"name\":\"Notification\",\"overrides\":[],\"properties\":[{\"default\":null,\"kind\":null,\"name\":\"background\"},{\"default\":3000,\"kind\":null,\"name\":\"duration\"},{\"default\":null,\"kind\":null,\"name\":\"icon\"},{\"default\":\"\",\"kind\":null,\"name\":\"message\"},{\"default\":null,\"kind\":null,\"name\":\"notification_type\"},{\"default\":false,\"kind\":null,\"name\":\"_destroyed\"}]},{\"extends\":null,\"module\":null,\"name\":\"TemplateActions1\",\"overrides\":[],\"properties\":[{\"default\":0,\"kind\":null,\"name\":\"open_modal\"},{\"default\":0,\"kind\":null,\"name\":\"close_modal\"}]},{\"extends\":null,\"module\":null,\"name\":\"MaterialTemplateActions1\",\"overrides\":[],\"properties\":[{\"default\":0,\"kind\":null,\"name\":\"open_modal\"},{\"default\":0,\"kind\":null,\"name\":\"close_modal\"}]}],\"roots\":{\"references\":[{\"attributes\":{\"fill_color\":{\"field\":\"Type\",\"transform\":{\"id\":\"2017\"}},\"hatch_color\":{\"field\":\"Type\",\"transform\":{\"id\":\"2017\"}},\"top\":{\"field\":\"Open_Int\"},\"width\":{\"value\":0.8},\"x\":{\"field\":\"xoffsets\"}},\"id\":\"2021\",\"type\":\"VBar\"},{\"attributes\":{},\"id\":\"1998\",\"type\":\"CategoricalTicker\"},{\"attributes\":{},\"id\":\"2006\",\"type\":\"WheelZoomTool\"},{\"attributes\":{\"fill_alpha\":{\"value\":0.1},\"fill_color\":{\"field\":\"Type\",\"transform\":{\"id\":\"2017\"}},\"hatch_alpha\":{\"value\":0.1},\"hatch_color\":{\"field\":\"Type\",\"transform\":{\"id\":\"2017\"}},\"line_alpha\":{\"value\":0.1},\"top\":{\"field\":\"Open_Int\"},\"width\":{\"value\":0.8},\"x\":{\"field\":\"xoffsets\"}},\"id\":\"2022\",\"type\":\"VBar\"},{\"attributes\":{\"end\":793622.4,\"reset_end\":793622.4,\"reset_start\":0.0,\"tags\":[[[\"Open Int\",\"Open Int\",null]]]},\"id\":\"1986\",\"type\":\"Range1d\"},{\"attributes\":{\"callback\":null,\"renderers\":[{\"id\":\"2024\"}],\"tags\":[\"hv_created\"],\"tooltips\":[[\"Symbol\",\"@{Symbol}\"],[\"Type\",\"@{Type}\"],[\"Open Int\",\"@{Open_Int}\"]]},\"id\":\"1987\",\"type\":\"HoverTool\"},{\"attributes\":{\"overlay\":{\"id\":\"2009\"}},\"id\":\"2007\",\"type\":\"BoxZoomTool\"},{\"attributes\":{},\"id\":\"2005\",\"type\":\"PanTool\"},{\"attributes\":{\"format\":\"%0f\"},\"id\":\"2027\",\"type\":\"PrintfTickFormatter\"},{\"attributes\":{},\"id\":\"2030\",\"type\":\"AllLabels\"},{\"attributes\":{\"axis_label\":\"Tickers by Call and Put\",\"coordinates\":null,\"formatter\":{\"id\":\"2029\"},\"group\":null,\"major_label_orientation\":1.5707963267948966,\"major_label_policy\":{\"id\":\"2030\"},\"ticker\":{\"id\":\"1998\"}},\"id\":\"1997\",\"type\":\"CategoricalAxis\"},{\"attributes\":{\"factors\":[\"Put\",\"Call\"],\"palette\":[\"#30a2da\",\"#fc4f30\"]},\"id\":\"2017\",\"type\":\"CategoricalColorMapper\"},{\"attributes\":{\"children\":[{\"id\":\"1984\"},{\"id\":\"1988\"},{\"id\":\"2045\"}],\"margin\":[0,0,0,0],\"name\":\"Row03166\",\"tags\":[\"embedded\"]},\"id\":\"1983\",\"type\":\"Row\"},{\"attributes\":{\"margin\":[5,5,5,5],\"name\":\"HSpacer03171\",\"sizing_mode\":\"stretch_width\"},\"id\":\"2045\",\"type\":\"Spacer\"},{\"attributes\":{},\"id\":\"2004\",\"type\":\"SaveTool\"},{\"attributes\":{\"margin\":[5,5,5,5],\"name\":\"HSpacer03170\",\"sizing_mode\":\"stretch_width\"},\"id\":\"1984\",\"type\":\"Spacer\"},{\"attributes\":{\"factors\":[[\"AAPL\",\"Call\"],[\"AAPL\",\"Put\"],[\"TSLA\",\"Call\"],[\"TSLA\",\"Put\"],[\"AMZN\",\"Call\"],[\"AMZN\",\"Put\"],[\"F\",\"Call\"],[\"F\",\"Put\"],[\"META\",\"Call\"],[\"META\",\"Put\"],[\"GOOGL\",\"Call\"],[\"GOOGL\",\"Put\"],[\"AMD\",\"Call\"],[\"AMD\",\"Put\"],[\"TWTR\",\"Call\"],[\"TWTR\",\"Put\"],[\"NVDA\",\"Call\"],[\"NVDA\",\"Put\"],[\"UBER\",\"Call\"],[\"UBER\",\"Put\"],[\"MSFT\",\"Call\"],[\"MSFT\",\"Put\"],[\"CCJ\",\"Call\"],[\"CCJ\",\"Put\"],[\"SWN\",\"Call\"],[\"SWN\",\"Put\"],[\"DKNG\",\"Call\"],[\"DKNG\",\"Put\"],[\"BAC\",\"Call\"],[\"BAC\",\"Put\"],[\"NIO\",\"Call\"],[\"NIO\",\"Put\"],[\"GOOG\",\"Call\"],[\"GOOG\",\"Put\"],[\"BABA\",\"Call\"],[\"BABA\",\"Put\"],[\"T\",\"Call\"],[\"T\",\"Put\"],[\"INTC\",\"Call\"],[\"INTC\",\"Put\"],[\"XOM\",\"Call\"],[\"XOM\",\"Put\"],[\"CHPT\",\"Call\"],[\"CHPT\",\"Put\"],[\"OXY\",\"Call\"],[\"OXY\",\"Put\"],[\"SBUX\",\"Call\"],[\"SBUX\",\"Put\"],[\"BBBY\",\"Call\"],[\"BBBY\",\"Put\"],[\"GM\",\"Call\"],[\"GM\",\"Put\"],[\"PFE\",\"Call\"],[\"PFE\",\"Put\"],[\"SNAP\",\"Call\"],[\"SNAP\",\"Put\"],[\"NFLX\",\"Call\"],[\"NFLX\",\"Put\"],[\"JPM\",\"Call\"],[\"JPM\",\"Put\"],[\"PLUG\",\"Call\"],[\"PLUG\",\"Put\"],[\"LAZR\",\"Call\"],[\"LAZR\",\"Put\"],[\"CCL\",\"Call\"],[\"CCL\",\"Put\"],[\"WBD\",\"Call\"],[\"WBD\",\"Put\"],[\"DIS\",\"Call\"],[\"DIS\",\"Put\"],[\"SHOP\",\"Call\"],[\"SHOP\",\"Put\"],[\"AMC\",\"Call\"],[\"AMC\",\"Put\"],[\"ET\",\"Call\"],[\"ET\",\"Put\"],[\"LCID\",\"Call\"],[\"LCID\",\"Put\"],[\"MU\",\"Call\"],[\"MU\",\"Put\"]],\"tags\":[[[\"Symbol\",\"Symbol\",null],[\"Type\",\"Type\",null]]]},\"id\":\"1985\",\"type\":\"FactorRange\"},{\"attributes\":{},\"id\":\"1995\",\"type\":\"LinearScale\"},{\"attributes\":{\"data\":{\"Open_Int\":{\"__ndarray__\":\"AAAAANgcJkEAAAAAeFQgQQAAAAC8ahhBAAAAAGrwJEEAAAAAoE8GQQAAAADgjwJBAAAAAKDPAEEAAAAAoCf/QAAAAADgR/5AAAAAANAx+EAAAAAAUA7xQAAAAACQu/ZAAAAAACDQ7kAAAAAAgMrwQAAAAABQ7vtAAAAAAECL60AAAAAA0A30QAAAAACgqOVAAAAAAAAT7EAAAAAAIM70QAAAAACAuOBAAAAAAGrwJEEAAAAA2BwmQQAAAAB4VCBBAAAAALxqGEEAAAAAIFT7QAAAAABAXv5AAAAAAEDX9kAAAAAAkDH3QAAAAACQwvNAAAAAAFDu+0AAAAAAsKvwQAAAAABgx+9AAAAAAJAH80AAAAAAoE8GQQAAAABgYOpAAAAAACDO9EAAAAAAQOTrQAAAAADAS/JAAAAAAEBu8EAAAAAAYKDsQAAAAAAAg+lAAAAAAADV5UAAAAAA0A30QAAAAACAyetAAAAAAECb5UAAAAAAQNLkQAAAAACgceZAAAAAAOCPAkEAAAAAoM8AQQ==\",\"dtype\":\"float64\",\"order\":\"little\",\"shape\":[50]},\"Symbol\":[\"AAPL\",\"AMZN\",\"F\",\"TSLA\",\"META\",\"GOOGL\",\"AMD\",\"NVDA\",\"MSFT\",\"BAC\",\"GOOG\",\"BABA\",\"T\",\"INTC\",\"NIO\",\"PFE\",\"NFLX\",\"WBD\",\"SHOP\",\"BBBY\",\"MU\",\"TSLA\",\"AAPL\",\"AMZN\",\"F\",\"TWTR\",\"UBER\",\"CCJ\",\"SWN\",\"DKNG\",\"NIO\",\"XOM\",\"CHPT\",\"OXY\",\"META\",\"SBUX\",\"BBBY\",\"GM\",\"SNAP\",\"JPM\",\"PLUG\",\"LAZR\",\"CCL\",\"NFLX\",\"DIS\",\"AMC\",\"ET\",\"LCID\",\"GOOGL\",\"AMD\"],\"Type\":[\"Put\",\"Put\",\"Put\",\"Put\",\"Put\",\"Put\",\"Put\",\"Put\",\"Put\",\"Put\",\"Put\",\"Put\",\"Put\",\"Put\",\"Put\",\"Put\",\"Put\",\"Put\",\"Put\",\"Put\",\"Put\",\"Call\",\"Call\",\"Call\",\"Call\",\"Call\",\"Call\",\"Call\",\"Call\",\"Call\",\"Call\",\"Call\",\"Call\",\"Call\",\"Call\",\"Call\",\"Call\",\"Call\",\"Call\",\"Call\",\"Call\",\"Call\",\"Call\",\"Call\",\"Call\",\"Call\",\"Call\",\"Call\",\"Call\",\"Call\"],\"xoffsets\":[[\"AAPL\",\"Put\"],[\"AMZN\",\"Put\"],[\"F\",\"Put\"],[\"TSLA\",\"Put\"],[\"META\",\"Put\"],[\"GOOGL\",\"Put\"],[\"AMD\",\"Put\"],[\"NVDA\",\"Put\"],[\"MSFT\",\"Put\"],[\"BAC\",\"Put\"],[\"GOOG\",\"Put\"],[\"BABA\",\"Put\"],[\"T\",\"Put\"],[\"INTC\",\"Put\"],[\"NIO\",\"Put\"],[\"PFE\",\"Put\"],[\"NFLX\",\"Put\"],[\"WBD\",\"Put\"],[\"SHOP\",\"Put\"],[\"BBBY\",\"Put\"],[\"MU\",\"Put\"],[\"TSLA\",\"Call\"],[\"AAPL\",\"Call\"],[\"AMZN\",\"Call\"],[\"F\",\"Call\"],[\"TWTR\",\"Call\"],[\"UBER\",\"Call\"],[\"CCJ\",\"Call\"],[\"SWN\",\"Call\"],[\"DKNG\",\"Call\"],[\"NIO\",\"Call\"],[\"XOM\",\"Call\"],[\"CHPT\",\"Call\"],[\"OXY\",\"Call\"],[\"META\",\"Call\"],[\"SBUX\",\"Call\"],[\"BBBY\",\"Call\"],[\"GM\",\"Call\"],[\"SNAP\",\"Call\"],[\"JPM\",\"Call\"],[\"PLUG\",\"Call\"],[\"LAZR\",\"Call\"],[\"CCL\",\"Call\"],[\"NFLX\",\"Call\"],[\"DIS\",\"Call\"],[\"AMC\",\"Call\"],[\"ET\",\"Call\"],[\"LCID\",\"Call\"],[\"GOOGL\",\"Call\"],[\"AMD\",\"Call\"]]},\"selected\":{\"id\":\"2019\"},\"selection_policy\":{\"id\":\"2042\"}},\"id\":\"2018\",\"type\":\"ColumnDataSource\"},{\"attributes\":{\"axis\":{\"id\":\"2000\"},\"coordinates\":null,\"dimension\":1,\"grid_line_color\":null,\"group\":null,\"ticker\":null},\"id\":\"2003\",\"type\":\"Grid\"},{\"attributes\":{\"coordinates\":null,\"data_source\":{\"id\":\"2018\"},\"glyph\":{\"id\":\"2021\"},\"group\":null,\"hover_glyph\":null,\"muted_glyph\":{\"id\":\"2023\"},\"nonselection_glyph\":{\"id\":\"2022\"},\"selection_glyph\":{\"id\":\"2026\"},\"view\":{\"id\":\"2025\"}},\"id\":\"2024\",\"type\":\"GlyphRenderer\"},{\"attributes\":{\"bottom\":{\"value\":0},\"fill_alpha\":{\"value\":1.0},\"fill_color\":{\"field\":\"Type\",\"transform\":{\"id\":\"2017\"}},\"hatch_alpha\":{\"value\":1.0},\"hatch_color\":{\"field\":\"Type\",\"transform\":{\"id\":\"2017\"}},\"hatch_scale\":{\"value\":12.0},\"hatch_weight\":{\"value\":1.0},\"line_alpha\":{\"value\":1.0},\"line_cap\":{\"value\":\"butt\"},\"line_color\":{\"value\":\"black\"},\"line_dash\":{\"value\":[]},\"line_dash_offset\":{\"value\":0},\"line_join\":{\"value\":\"bevel\"},\"line_width\":{\"value\":1},\"top\":{\"field\":\"Open_Int\"},\"width\":{\"value\":0.8},\"x\":{\"field\":\"xoffsets\"}},\"id\":\"2026\",\"type\":\"VBar\"},{\"attributes\":{\"bottom_units\":\"screen\",\"coordinates\":null,\"fill_alpha\":0.5,\"fill_color\":\"lightgrey\",\"group\":null,\"left_units\":\"screen\",\"level\":\"overlay\",\"line_alpha\":1.0,\"line_color\":\"black\",\"line_dash\":[4,4],\"line_width\":2,\"right_units\":\"screen\",\"syncable\":false,\"top_units\":\"screen\"},\"id\":\"2009\",\"type\":\"BoxAnnotation\"},{\"attributes\":{},\"id\":\"1993\",\"type\":\"CategoricalScale\"},{\"attributes\":{\"fill_alpha\":{\"value\":0.2},\"fill_color\":{\"field\":\"Type\",\"transform\":{\"id\":\"2017\"}},\"hatch_alpha\":{\"value\":0.2},\"hatch_color\":{\"field\":\"Type\",\"transform\":{\"id\":\"2017\"}},\"line_alpha\":{\"value\":0.2},\"top\":{\"field\":\"Open_Int\"},\"width\":{\"value\":0.8},\"x\":{\"field\":\"xoffsets\"}},\"id\":\"2023\",\"type\":\"VBar\"},{\"attributes\":{},\"id\":\"2033\",\"type\":\"AllLabels\"},{\"attributes\":{},\"id\":\"2042\",\"type\":\"UnionRenderers\"},{\"attributes\":{\"below\":[{\"id\":\"1997\"}],\"center\":[{\"id\":\"1999\"},{\"id\":\"2003\"}],\"height\":500,\"left\":[{\"id\":\"2000\"}],\"margin\":[5,5,5,5],\"min_border_bottom\":10,\"min_border_left\":10,\"min_border_right\":10,\"min_border_top\":10,\"renderers\":[{\"id\":\"2024\"}],\"sizing_mode\":\"fixed\",\"title\":{\"id\":\"1989\"},\"toolbar\":{\"id\":\"2010\"},\"width\":1300,\"x_range\":{\"id\":\"1985\"},\"x_scale\":{\"id\":\"1993\"},\"y_range\":{\"id\":\"1986\"},\"y_scale\":{\"id\":\"1995\"}},\"id\":\"1988\",\"subtype\":\"Figure\",\"type\":\"Plot\"},{\"attributes\":{},\"id\":\"2029\",\"type\":\"CategoricalTickFormatter\"},{\"attributes\":{},\"id\":\"2008\",\"type\":\"ResetTool\"},{\"attributes\":{},\"id\":\"2019\",\"type\":\"Selection\"},{\"attributes\":{\"axis_label\":\"Open Interests\",\"coordinates\":null,\"formatter\":{\"id\":\"2027\"},\"group\":null,\"major_label_policy\":{\"id\":\"2033\"},\"ticker\":{\"id\":\"2001\"}},\"id\":\"2000\",\"type\":\"LinearAxis\"},{\"attributes\":{},\"id\":\"2001\",\"type\":\"BasicTicker\"},{\"attributes\":{\"coordinates\":null,\"group\":null,\"text\":\"Tickers Call / Put Open Interests Comparison\",\"text_color\":\"black\",\"text_font_size\":\"12pt\"},\"id\":\"1989\",\"type\":\"Title\"},{\"attributes\":{\"source\":{\"id\":\"2018\"}},\"id\":\"2025\",\"type\":\"CDSView\"},{\"attributes\":{\"axis\":{\"id\":\"1997\"},\"coordinates\":null,\"grid_line_color\":null,\"group\":null,\"ticker\":null},\"id\":\"1999\",\"type\":\"Grid\"},{\"attributes\":{\"tools\":[{\"id\":\"1987\"},{\"id\":\"2004\"},{\"id\":\"2005\"},{\"id\":\"2006\"},{\"id\":\"2007\"},{\"id\":\"2008\"}]},\"id\":\"2010\",\"type\":\"Toolbar\"}],\"root_ids\":[\"1983\"]},\"title\":\"Bokeh Application\",\"version\":\"2.4.3\"}};\n",
       "    var render_items = [{\"docid\":\"c211bf18-7434-4959-9450-3251c97f2354\",\"root_ids\":[\"1983\"],\"roots\":{\"1983\":\"fa18cbb0-e95f-4699-b2d8-76fdc2f8971d\"}}];\n",
       "    root.Bokeh.embed.embed_items_notebook(docs_json, render_items);\n",
       "  }\n",
       "  if (root.Bokeh !== undefined && root.Bokeh.Panel !== undefined) {\n",
       "    embed_document(root);\n",
       "  } else {\n",
       "    var attempts = 0;\n",
       "    var timer = setInterval(function(root) {\n",
       "      if (root.Bokeh !== undefined && root.Bokeh.Panel !== undefined) {\n",
       "        clearInterval(timer);\n",
       "        embed_document(root);\n",
       "      } else if (document.readyState == \"complete\") {\n",
       "        attempts++;\n",
       "        if (attempts > 200) {\n",
       "          clearInterval(timer);\n",
       "          console.log(\"Bokeh: ERROR: Unable to run BokehJS code because BokehJS library is missing\");\n",
       "        }\n",
       "      }\n",
       "    }, 25, root)\n",
       "  }\n",
       "})(window);</script>"
      ],
      "text/plain": [
       ":Bars   [Symbol,Type]   (Open Int)"
      ]
     },
     "execution_count": 68,
     "metadata": {
      "application/vnd.holoviews_exec.v0+json": {
       "id": "1983"
      }
     },
     "output_type": "execute_result"
    }
   ],
   "source": [
    "# Calling largest_25_OI\n",
    "largest_25_OI(df)"
   ]
  },
  {
   "cell_type": "code",
   "execution_count": 69,
   "metadata": {},
   "outputs": [
    {
     "data": {},
     "metadata": {},
     "output_type": "display_data"
    },
    {
     "data": {
      "application/vnd.holoviews_exec.v0+json": "",
      "text/html": [
       "<div id='2092'>\n",
       "  <div class=\"bk-root\" id=\"37df6ee3-1bb3-4886-82fd-3359d2b0c4d6\" data-root-id=\"2092\"></div>\n",
       "</div>\n",
       "<script type=\"application/javascript\">(function(root) {\n",
       "  function embed_document(root) {\n",
       "    var docs_json = {\"b2d4a744-bb5b-48d0-b1c1-51ddf99abf35\":{\"defs\":[{\"extends\":null,\"module\":null,\"name\":\"ReactiveHTML1\",\"overrides\":[],\"properties\":[]},{\"extends\":null,\"module\":null,\"name\":\"FlexBox1\",\"overrides\":[],\"properties\":[{\"default\":\"flex-start\",\"kind\":null,\"name\":\"align_content\"},{\"default\":\"flex-start\",\"kind\":null,\"name\":\"align_items\"},{\"default\":\"row\",\"kind\":null,\"name\":\"flex_direction\"},{\"default\":\"wrap\",\"kind\":null,\"name\":\"flex_wrap\"},{\"default\":\"flex-start\",\"kind\":null,\"name\":\"justify_content\"}]},{\"extends\":null,\"module\":null,\"name\":\"GridStack1\",\"overrides\":[],\"properties\":[{\"default\":\"warn\",\"kind\":null,\"name\":\"mode\"},{\"default\":null,\"kind\":null,\"name\":\"ncols\"},{\"default\":null,\"kind\":null,\"name\":\"nrows\"},{\"default\":true,\"kind\":null,\"name\":\"allow_resize\"},{\"default\":true,\"kind\":null,\"name\":\"allow_drag\"},{\"default\":[],\"kind\":null,\"name\":\"state\"}]},{\"extends\":null,\"module\":null,\"name\":\"click1\",\"overrides\":[],\"properties\":[{\"default\":\"\",\"kind\":null,\"name\":\"terminal_output\"},{\"default\":\"\",\"kind\":null,\"name\":\"debug_name\"},{\"default\":0,\"kind\":null,\"name\":\"clears\"}]},{\"extends\":null,\"module\":null,\"name\":\"NotificationAreaBase1\",\"overrides\":[],\"properties\":[{\"default\":\"bottom-right\",\"kind\":null,\"name\":\"position\"},{\"default\":0,\"kind\":null,\"name\":\"_clear\"}]},{\"extends\":null,\"module\":null,\"name\":\"NotificationArea1\",\"overrides\":[],\"properties\":[{\"default\":[],\"kind\":null,\"name\":\"notifications\"},{\"default\":\"bottom-right\",\"kind\":null,\"name\":\"position\"},{\"default\":0,\"kind\":null,\"name\":\"_clear\"},{\"default\":[{\"background\":\"#ffc107\",\"icon\":{\"className\":\"fas fa-exclamation-triangle\",\"color\":\"white\",\"tagName\":\"i\"},\"type\":\"warning\"},{\"background\":\"#007bff\",\"icon\":{\"className\":\"fas fa-info-circle\",\"color\":\"white\",\"tagName\":\"i\"},\"type\":\"info\"}],\"kind\":null,\"name\":\"types\"}]},{\"extends\":null,\"module\":null,\"name\":\"Notification\",\"overrides\":[],\"properties\":[{\"default\":null,\"kind\":null,\"name\":\"background\"},{\"default\":3000,\"kind\":null,\"name\":\"duration\"},{\"default\":null,\"kind\":null,\"name\":\"icon\"},{\"default\":\"\",\"kind\":null,\"name\":\"message\"},{\"default\":null,\"kind\":null,\"name\":\"notification_type\"},{\"default\":false,\"kind\":null,\"name\":\"_destroyed\"}]},{\"extends\":null,\"module\":null,\"name\":\"TemplateActions1\",\"overrides\":[],\"properties\":[{\"default\":0,\"kind\":null,\"name\":\"open_modal\"},{\"default\":0,\"kind\":null,\"name\":\"close_modal\"}]},{\"extends\":null,\"module\":null,\"name\":\"MaterialTemplateActions1\",\"overrides\":[],\"properties\":[{\"default\":0,\"kind\":null,\"name\":\"open_modal\"},{\"default\":0,\"kind\":null,\"name\":\"close_modal\"}]}],\"roots\":{\"references\":[{\"attributes\":{\"factors\":[\"AAPL\",\"AMZN\",\"BBBY\",\"CCJ\",\"CHPT\",\"DKNG\",\"F\",\"GM\",\"JPM\",\"META\",\"NIO\",\"OXY\",\"PLUG\",\"SBUX\",\"SNAP\",\"SWN\",\"TSLA\",\"TWTR\",\"UBER\",\"XOM\"],\"tags\":[[[\"Symbol\",\"Symbol\",null]]]},\"id\":\"2094\",\"type\":\"FactorRange\"},{\"attributes\":{\"margin\":[5,5,5,5],\"name\":\"HSpacer03510\",\"sizing_mode\":\"stretch_width\"},\"id\":\"2093\",\"type\":\"Spacer\"},{\"attributes\":{},\"id\":\"2110\",\"type\":\"BasicTicker\"},{\"attributes\":{\"bottom\":{\"field\":\"bottom\"},\"fill_alpha\":{\"value\":1.0},\"fill_color\":{\"field\":\"Strike\",\"transform\":{\"id\":\"2126\"}},\"hatch_alpha\":{\"value\":1.0},\"hatch_color\":{\"field\":\"Strike\",\"transform\":{\"id\":\"2126\"}},\"hatch_scale\":{\"value\":12.0},\"hatch_weight\":{\"value\":1.0},\"line_alpha\":{\"value\":1.0},\"line_cap\":{\"value\":\"butt\"},\"line_color\":{\"value\":\"black\"},\"line_dash\":{\"value\":[]},\"line_dash_offset\":{\"value\":0},\"line_join\":{\"value\":\"bevel\"},\"line_width\":{\"value\":1},\"top\":{\"field\":\"top\"},\"width\":{\"value\":0.8},\"x\":{\"field\":\"Symbol\"}},\"id\":\"2135\",\"type\":\"VBar\"},{\"attributes\":{\"bottom\":{\"field\":\"bottom\"},\"fill_alpha\":{\"value\":0.2},\"fill_color\":{\"field\":\"Strike\",\"transform\":{\"id\":\"2126\"}},\"hatch_alpha\":{\"value\":0.2},\"hatch_color\":{\"field\":\"Strike\",\"transform\":{\"id\":\"2126\"}},\"line_alpha\":{\"value\":0.2},\"top\":{\"field\":\"top\"},\"width\":{\"value\":0.8},\"x\":{\"field\":\"Symbol\"}},\"id\":\"2132\",\"type\":\"VBar\"},{\"attributes\":{\"below\":[{\"id\":\"2106\"}],\"center\":[{\"id\":\"2108\"},{\"id\":\"2112\"}],\"height\":800,\"left\":[{\"id\":\"2109\"}],\"margin\":[5,5,5,5],\"min_border_bottom\":10,\"min_border_left\":10,\"min_border_right\":10,\"min_border_top\":10,\"renderers\":[{\"id\":\"2133\"}],\"sizing_mode\":\"fixed\",\"title\":{\"id\":\"2098\"},\"toolbar\":{\"id\":\"2119\"},\"width\":1000,\"x_range\":{\"id\":\"2094\"},\"x_scale\":{\"id\":\"2102\"},\"y_range\":{\"id\":\"2095\"},\"y_scale\":{\"id\":\"2104\"}},\"id\":\"2097\",\"subtype\":\"Figure\",\"type\":\"Plot\"},{\"attributes\":{\"tools\":[{\"id\":\"2096\"},{\"id\":\"2113\"},{\"id\":\"2114\"},{\"id\":\"2115\"},{\"id\":\"2116\"},{\"id\":\"2117\"}]},\"id\":\"2119\",\"type\":\"Toolbar\"},{\"attributes\":{\"callback\":null,\"renderers\":[{\"id\":\"2133\"}],\"tags\":[\"hv_created\"],\"tooltips\":[[\"Symbol\",\"@{Symbol}\"],[\"Strike\",\"@{Strike}\"],[\"Open Int\",\"@{Open_Int}\"]]},\"id\":\"2096\",\"type\":\"HoverTool\"},{\"attributes\":{},\"id\":\"2151\",\"type\":\"UnionRenderers\"},{\"attributes\":{\"coordinates\":null,\"group\":null,\"text\":\"Call\",\"text_color\":\"black\",\"text_font_size\":\"12pt\"},\"id\":\"2098\",\"type\":\"Title\"},{\"attributes\":{\"factors\":[\"140\",\"150\",\"152.5\",\"155\",\"157.5\",\"160\",\"120\",\"121\",\"125\",\"128\",\"129\",\"130\",\"131\",\"132\",\"132.5\",\"133\",\"134\",\"136\",\"7\",\"8\",\"8.5\",\"9\",\"9.5\",\"10\",\"10.5\",\"25\",\"30\",\"32\",\"33\",\"18\",\"18.5\",\"19\",\"19.5\",\"17.5\",\"20\",\"15\",\"38\",\"40\",\"41\",\"41.5\",\"115\",\"119\",\"162.5\",\"21\",\"22\",\"22.5\",\"23\",\"23.5\",\"66\",\"67\",\"67.5\",\"68\",\"69\",\"70\",\"71\",\"72\",\"27.5\",\"28.5\",\"30.5\",\"31\",\"31.5\",\"87.5\",\"88\",\"89\",\"90\",\"91\",\"92.5\",\"93\",\"95\",\"11.5\",\"12\",\"6\",\"6.5\",\"7.5\",\"233.33\",\"260\",\"266.67\",\"270\",\"280\",\"283.33\",\"285\",\"288.33\",\"289.17\",\"290\",\"290.83\",\"291.67\",\"292.5\",\"293.33\",\"294.17\",\"295\",\"295.83\",\"298.33\",\"300\",\"301.67\",\"303.33\",\"305\",\"306.67\",\"308.33\",\"310\",\"311.67\",\"315\",\"316.67\",\"320\",\"321.67\",\"325\",\"326.67\",\"330\",\"42\",\"42.5\",\"43\",\"32.5\",\"33.5\",\"97\",\"100\",\"101\"],\"palette\":[\"#259646\",\"#259646\",\"#259646\",\"#259646\",\"#259646\",\"#259646\",\"#259646\",\"#259646\",\"#259646\",\"#259646\",\"#259646\",\"#259646\",\"#259646\",\"#259646\",\"#259646\",\"#259646\",\"#259646\",\"#259646\",\"#259646\",\"#259646\",\"#259646\",\"#259646\",\"#259646\",\"#259646\",\"#259646\",\"#259646\",\"#259646\",\"#259646\",\"#259646\",\"#259646\",\"#259646\",\"#259646\",\"#259646\",\"#259646\",\"#259646\",\"#259646\",\"#259646\",\"#259646\",\"#259646\",\"#259646\",\"#259646\",\"#259646\",\"#259646\",\"#259646\",\"#259646\",\"#259646\",\"#259646\",\"#259646\",\"#259646\",\"#259646\",\"#259646\",\"#259646\",\"#259646\",\"#259646\",\"#259646\",\"#259646\",\"#259646\",\"#259646\",\"#259646\",\"#259646\",\"#259646\",\"#259646\",\"#259646\",\"#259646\",\"#259646\",\"#259646\",\"#259646\",\"#259646\",\"#259646\",\"#259646\",\"#259646\",\"#259646\",\"#259646\",\"#259646\",\"#259646\",\"#259646\",\"#259646\",\"#259646\",\"#259646\",\"#259646\",\"#259646\",\"#259646\",\"#259646\",\"#259646\",\"#259646\",\"#259646\",\"#259646\",\"#259646\",\"#259646\",\"#259646\",\"#259646\",\"#259646\",\"#259646\",\"#259646\",\"#259646\",\"#259646\",\"#259646\",\"#259646\",\"#259646\",\"#259646\",\"#259646\",\"#259646\",\"#259646\",\"#259646\",\"#259646\",\"#259646\",\"#259646\",\"#259646\",\"#259646\",\"#259646\",\"#259646\",\"#259646\",\"#259646\",\"#259646\",\"#259646\"]},\"id\":\"2126\",\"type\":\"CategoricalColorMapper\"},{\"attributes\":{\"format\":\"%.0f\"},\"id\":\"2136\",\"type\":\"PrintfTickFormatter\"},{\"attributes\":{\"end\":433927.9,\"reset_end\":433927.9,\"reset_start\":0.0,\"tags\":[[[\"Open Int\",\"Open Int\",null]]]},\"id\":\"2095\",\"type\":\"Range1d\"},{\"attributes\":{},\"id\":\"2138\",\"type\":\"CategoricalTickFormatter\"},{\"attributes\":{\"bottom\":{\"field\":\"bottom\"},\"fill_alpha\":{\"value\":0.1},\"fill_color\":{\"field\":\"Strike\",\"transform\":{\"id\":\"2126\"}},\"hatch_alpha\":{\"value\":0.1},\"hatch_color\":{\"field\":\"Strike\",\"transform\":{\"id\":\"2126\"}},\"line_alpha\":{\"value\":0.1},\"top\":{\"field\":\"top\"},\"width\":{\"value\":0.8},\"x\":{\"field\":\"Symbol\"}},\"id\":\"2131\",\"type\":\"VBar\"},{\"attributes\":{},\"id\":\"2113\",\"type\":\"SaveTool\"},{\"attributes\":{},\"id\":\"2114\",\"type\":\"PanTool\"},{\"attributes\":{\"axis_label\":\"Symbol\",\"coordinates\":null,\"formatter\":{\"id\":\"2138\"},\"group\":null,\"major_label_orientation\":1.5707963267948966,\"major_label_policy\":{\"id\":\"2139\"},\"ticker\":{\"id\":\"2107\"}},\"id\":\"2106\",\"type\":\"CategoricalAxis\"},{\"attributes\":{\"children\":[{\"id\":\"2093\"},{\"id\":\"2097\"},{\"id\":\"2154\"}],\"margin\":[0,0,0,0],\"name\":\"Row03506\",\"tags\":[\"embedded\"]},\"id\":\"2092\",\"type\":\"Row\"},{\"attributes\":{\"bottom\":{\"field\":\"bottom\"},\"fill_color\":{\"field\":\"Strike\",\"transform\":{\"id\":\"2126\"}},\"hatch_color\":{\"field\":\"Strike\",\"transform\":{\"id\":\"2126\"}},\"top\":{\"field\":\"top\"},\"width\":{\"value\":0.8},\"x\":{\"field\":\"Symbol\"}},\"id\":\"2130\",\"type\":\"VBar\"},{\"attributes\":{\"axis_label\":\"Open Int\",\"coordinates\":null,\"formatter\":{\"id\":\"2136\"},\"group\":null,\"major_label_policy\":{\"id\":\"2142\"},\"ticker\":{\"id\":\"2110\"}},\"id\":\"2109\",\"type\":\"LinearAxis\"},{\"attributes\":{},\"id\":\"2115\",\"type\":\"WheelZoomTool\"},{\"attributes\":{\"margin\":[5,5,5,5],\"name\":\"HSpacer03511\",\"sizing_mode\":\"stretch_width\"},\"id\":\"2154\",\"type\":\"Spacer\"},{\"attributes\":{},\"id\":\"2104\",\"type\":\"LinearScale\"},{\"attributes\":{\"bottom_units\":\"screen\",\"coordinates\":null,\"fill_alpha\":0.5,\"fill_color\":\"lightgrey\",\"group\":null,\"left_units\":\"screen\",\"level\":\"overlay\",\"line_alpha\":1.0,\"line_color\":\"black\",\"line_dash\":[4,4],\"line_width\":2,\"right_units\":\"screen\",\"syncable\":false,\"top_units\":\"screen\"},\"id\":\"2118\",\"type\":\"BoxAnnotation\"},{\"attributes\":{\"coordinates\":null,\"data_source\":{\"id\":\"2127\"},\"glyph\":{\"id\":\"2130\"},\"group\":null,\"hover_glyph\":null,\"muted_glyph\":{\"id\":\"2132\"},\"nonselection_glyph\":{\"id\":\"2131\"},\"selection_glyph\":{\"id\":\"2135\"},\"view\":{\"id\":\"2134\"}},\"id\":\"2133\",\"type\":\"GlyphRenderer\"},{\"attributes\":{},\"id\":\"2107\",\"type\":\"CategoricalTicker\"},{\"attributes\":{},\"id\":\"2102\",\"type\":\"CategoricalScale\"},{\"attributes\":{\"source\":{\"id\":\"2127\"}},\"id\":\"2134\",\"type\":\"CDSView\"},{\"attributes\":{\"overlay\":{\"id\":\"2118\"}},\"id\":\"2116\",\"type\":\"BoxZoomTool\"},{\"attributes\":{},\"id\":\"2117\",\"type\":\"ResetTool\"},{\"attributes\":{\"data\":{\"Open_Int\":{\"__ndarray__\":\"AAAAAIC11EAAAAAAALPnQAAAAAAAgJhAAAAAAABS0UAAAAAAACikQAAAAADAj+dAAAAAAABzukAAAAAAgInbQAAAAAAAzrZAAAAAAACd9kAAAAAAQDHdQAAAAADAbtpAAAAAAECz9EAAAAAAAPyqQAAAAADAAtFAAAAAAAAdtkAAAAAAAGqxQAAAAADAfeRAAAAAAAA8ukAAAAAAgHbGQAAAAAAAuLlAAAAAAACUuUAAAAAAACG8QAAAAACAwMxAAAAAAABLw0AAAAAAAFyiQAAAAADAmd5AAAAAAABYtUAAAAAAAISxQAAAAAAA8sNAAAAAAACutkAAAAAAQOLQQAAAAAAAubdAAAAAAIDq1EAAAAAAgFfWQAAAAABAP9tAAAAAAMB43UAAAAAAAIauQAAAAAAACsBAAAAAAABJtEAAAAAAADrgQAAAAACApcpAAAAAAEDb10AAAAAAwC7ZQAAAAACA0ttAAAAAAAA2skAAAAAAAAq1QAAAAAAAqrtAAAAAAABIgUAAAAAAgOzAQAAAAAAA/cRAAAAAAMBu10AAAAAAgI3SQAAAAABANftAAAAAAIAj1EAAAAAAwKbZQAAAAADAFdVAAAAAAACnvkAAAAAAAEyRQAAAAAAA3bdAAAAAAACqyEAAAAAAAJChQAAAAAAAWrlAAAAAAADWwkAAAAAAgOzDQAAAAACAIs1AAAAAAIBswUAAAAAAAP+yQAAAAAAAlKRAAAAAAABAsEAAAAAAgEDCQAAAAAAAWKpAAAAAAAACrEAAAAAAQJrUQAAAAAAA5LBAAAAAAAAZt0AAAAAAABynQAAAAAAAIINAAAAAAADQnkAAAAAAAMC5QAAAAAAAUKBAAAAAAADkmEAAAAAAAHy5QAAAAACAbcxAAAAAAADkqUAAAAAAAAypQAAAAAAAiMdAAAAAAEDu0EAAAAAAAMarQAAAAADAktJAAAAAAADsskAAAAAAACiOQAAAAAAA7rNAAAAAAAA1ukAAAAAAoE7hQAAAAADAs+RAAAAAAADojEAAAAAAAPynQAAAAACAVsZAAAAAAED/1EAAAAAAAO/lQAAAAAAAPM9AAAAAAABvvUAAAAAAADXLQAAAAAAAaLpAAAAAAADIn0AAAAAAAESXQAAAAACADMNAAAAAAADqpkAAAAAAANqiQAAAAAAAyqpAAAAAAACTukAAAAAAAOilQAAAAAAAl8ZAAAAAAADyqUAAAAAAAOmyQAAAAADAUuRAAAAAAAAKvUAAAAAAgHDOQAAAAAAAR9VAAAAAAICLwUAAAAAAAMuyQAAAAADAOddAAAAAAADHu0AAAAAAAGvQQAAAAABA19dAAAAAAIBfzkAAAAAAAJ6qQAAAAACAE9BAAAAAAADBu0AAAAAAAE3DQAAAAABA/dJAAAAAAAC3wEAAAAAAoBzjQAAAAAAAX+BAAAAAAADiu0AAAAAAAHyhQAAAAAAA/tZAAAAAAACapEA=\",\"dtype\":\"float64\",\"order\":\"little\",\"shape\":[139]},\"Strike\":[\"140\",\"150\",\"150\",\"152.5\",\"152.5\",\"155\",\"155\",\"157.5\",\"157.5\",\"160\",\"160\",\"120\",\"120\",\"121\",\"125\",\"128\",\"129\",\"130\",\"131\",\"132\",\"132.5\",\"133\",\"134\",\"136\",\"7\",\"7\",\"8\",\"8\",\"8.5\",\"9\",\"9.5\",\"10\",\"10.5\",\"25\",\"30\",\"30\",\"30\",\"32\",\"32\",\"32\",\"33\",\"33\",\"18\",\"18\",\"18.5\",\"18.5\",\"19\",\"19\",\"19.5\",\"19.5\",\"17.5\",\"20\",\"20\",\"15\",\"38\",\"40\",\"40\",\"41\",\"41.5\",\"41.5\",\"115\",\"119\",\"162.5\",\"21\",\"22\",\"22.5\",\"23\",\"23.5\",\"66\",\"67\",\"67.5\",\"68\",\"69\",\"70\",\"71\",\"72\",\"27.5\",\"28.5\",\"30.5\",\"31\",\"31\",\"31.5\",\"31.5\",\"87.5\",\"88\",\"89\",\"90\",\"90\",\"91\",\"92.5\",\"92.5\",\"93\",\"95\",\"11.5\",\"12\",\"6\",\"6.5\",\"7.5\",\"233.33\",\"260\",\"266.67\",\"270\",\"280\",\"283.33\",\"285\",\"288.33\",\"289.17\",\"290\",\"290.83\",\"291.67\",\"292.5\",\"293.33\",\"294.17\",\"295\",\"295.83\",\"298.33\",\"300\",\"301.67\",\"303.33\",\"305\",\"306.67\",\"308.33\",\"310\",\"311.67\",\"315\",\"316.67\",\"320\",\"321.67\",\"325\",\"326.67\",\"330\",\"42\",\"42.5\",\"43\",\"32.5\",\"33.5\",\"97\",\"100\",\"101\"],\"Symbol\":[\"AAPL\",\"AAPL\",\"META\",\"AAPL\",\"META\",\"AAPL\",\"META\",\"AAPL\",\"META\",\"AAPL\",\"META\",\"JPM\",\"AMZN\",\"AMZN\",\"AMZN\",\"AMZN\",\"AMZN\",\"AMZN\",\"AMZN\",\"AMZN\",\"AMZN\",\"AMZN\",\"AMZN\",\"AMZN\",\"SWN\",\"BBBY\",\"SWN\",\"BBBY\",\"BBBY\",\"BBBY\",\"BBBY\",\"BBBY\",\"BBBY\",\"CCJ\",\"UBER\",\"PLUG\",\"CCJ\",\"PLUG\",\"UBER\",\"CCJ\",\"CCJ\",\"UBER\",\"CHPT\",\"DKNG\",\"CHPT\",\"DKNG\",\"CHPT\",\"DKNG\",\"CHPT\",\"DKNG\",\"DKNG\",\"DKNG\",\"NIO\",\"F\",\"GM\",\"TWTR\",\"GM\",\"GM\",\"GM\",\"TWTR\",\"JPM\",\"JPM\",\"META\",\"NIO\",\"NIO\",\"NIO\",\"NIO\",\"NIO\",\"OXY\",\"OXY\",\"OXY\",\"OXY\",\"OXY\",\"OXY\",\"OXY\",\"OXY\",\"PLUG\",\"PLUG\",\"PLUG\",\"UBER\",\"PLUG\",\"PLUG\",\"UBER\",\"SBUX\",\"SBUX\",\"SBUX\",\"XOM\",\"SBUX\",\"SBUX\",\"XOM\",\"SBUX\",\"SBUX\",\"SBUX\",\"SNAP\",\"SNAP\",\"SWN\",\"SWN\",\"SWN\",\"TSLA\",\"TSLA\",\"TSLA\",\"TSLA\",\"TSLA\",\"TSLA\",\"TSLA\",\"TSLA\",\"TSLA\",\"TSLA\",\"TSLA\",\"TSLA\",\"TSLA\",\"TSLA\",\"TSLA\",\"TSLA\",\"TSLA\",\"TSLA\",\"TSLA\",\"TSLA\",\"TSLA\",\"TSLA\",\"TSLA\",\"TSLA\",\"TSLA\",\"TSLA\",\"TSLA\",\"TSLA\",\"TSLA\",\"TSLA\",\"TSLA\",\"TSLA\",\"TSLA\",\"TWTR\",\"TWTR\",\"TWTR\",\"UBER\",\"UBER\",\"XOM\",\"XOM\",\"XOM\"],\"bottom\":{\"__ndarray__\":\"AAAAAAAAAAAAAAAAgLXUQAAAAAAAAAAAAAAAAOAG8UAAAAAAAICYQAAAAABgW/VAAAAAAAA0sEAAAAAAoJEAQQAAAACAU8VAAAAAANACBEEAAAAAQF3QQAAAAAAAAAAAAAAAAAAAAAAAAAAAQLP0QAAAAAAgi/VAAAAAANDL+UAAAAAAoC37QAAAAABARPxAAAAAAJBBA0EAAAAAcBMEQQAAAADYegVBAAAAAJhIBkEAAAAAOBUHQQAAAABA9gdBAAAAAAAAAAAAAAAAAAAAAAAAAAAAS8NAAAAAAABcokAAAAAAAIa+QAAAAAAABchAAAAAAID71UAAAAAAAKfbQAAAAACgROZAAAAAAAAAAAAAAAAAAAAAAAAAAAAAAAAAAAAAAIDq1EAAAAAAQD/bQAAAAACAV9ZAAAAAAKAx6UAAAAAAwLrrQAAAAACAXN5AAAAAAAAAAAAAAAAAAAAAAAAAAABA29dAAAAAAMAu2UAAAAAA4NbpQAAAAABAvN1AAAAAACB47EAAAAAAYFPiQAAAAACAjuZAAAAAAMDN60AAAAAAAAAAAAAAAAAAAAAAAAAAAAAAAAAAAAAAAAAAAAAAAACAI9RAAAAAAKCc5EAAAAAAgHHoQAAAAADAptlAAAAAAMBu2kAAAAAA4GHjQAAAAABAx+ZAAAAAAICN0kAAAAAAgPjbQAAAAABg9+JAAAAAAABA6kAAAAAAIJvuQAAAAAAAAAAAAAAAAACUpEAAAAAAAIq6QAAAAACAhc9AAAAAAMAN00AAAAAAAI7WQAAAAAAglOVAAAAAAKCw50AAAAAAABDfQAAAAADA+eBAAAAAAEBG4UAAAAAAoNflQAAAAADAPOJAAAAAAMBB40AAAAAAoA/pQAAAAAAAAAAAAAAAAIBtzEAAAAAAQHPRQAAAAAAAAAAAAAAAAMCU1EAAAAAAgMHiQAAAAAAAiMdAAAAAAOB95EAAAAAAYNvmQAAAAAAAVOdAAAAAAAAAAAAAAAAAADW6QAAAAACgH+RAAAAAALBp9EAAAAAAgKP0QAAAAAAAAAAAAAAAAIBWxkAAAAAAQBXgQAAAAAAgAvNAAAAAAKDp9kAAAAAAkMD4QAAAAAAwJ/xAAAAAALDN/UAAAAAA0Ez+QAAAAADgqf5AAAAAALiFAEEAAAAAYOEAQQAAAADILAFBAAAAAPCXAUEAAAAAiGwCQQAAAAAoxAJBAAAAAJgtBEEAAAAAYJUEQQAAAACoLAVBAAAAAFhBCkEAAAAAqCkLQQAAAACwEA1BAAAAAJC5D0EAAAAAJGkQQQAAAABQtBBBAAAAAOwnEkEAAAAACJcSQQAAAAC4nRNBAAAAACwbFUEAAAAAKA4WQQAAAABkQxZBAAAAAJxEF0EAAAAAoLMXQQAAAAAAnt9AAAAAAKBN6UAAAAAAYHvtQAAAAAAgP+xAAAAAABBP9kAAAAAAwFbeQAAAAAAgQ+BAAAAAACDC60A=\",\"dtype\":\"float64\",\"order\":\"little\",\"shape\":[139]},\"top\":{\"__ndarray__\":\"AAAAAIC11EAAAAAA4AbxQAAAAAAAgJhAAAAAAGBb9UAAAAAAADSwQAAAAACgkQBBAAAAAIBTxUAAAAAA0AIEQQAAAABAXdBAAAAAAFBRD0EAAAAAQMfmQAAAAADAbtpAAAAAAECz9EAAAAAAIIv1QAAAAADQy/lAAAAAAKAt+0AAAAAAQET8QAAAAACQQQNBAAAAAHATBEEAAAAA2HoFQQAAAACYSAZBAAAAADgVB0EAAAAAQPYHQQAAAABIwglBAAAAAABLw0AAAAAAAFyiQAAAAACgH+RAAAAAAACGvkAAAAAAAAXIQAAAAACA+9VAAAAAAACn20AAAAAAoETmQAAAAADAO+lAAAAAAIDq1EAAAAAAgFfWQAAAAABAP9tAAAAAAKAx6UAAAAAAABDfQAAAAACAXN5AAAAAAMC660AAAAAAYPr1QAAAAACg1+VAAAAAAEDb10AAAAAAwC7ZQAAAAADg1ulAAAAAAEC83UAAAAAAIHjsQAAAAABgU+JAAAAAAEC97EAAAAAAgI7mQAAAAADAzetAAAAAAJDC80AAAAAAgI3SQAAAAABANftAAAAAAIAj1EAAAAAAwKbZQAAAAACgnORAAAAAAIBx6EAAAAAA4PvoQAAAAAAAnt9AAAAAAOBh40AAAAAA4HrkQAAAAACA8ulAAAAAAID420AAAAAAYPfiQAAAAAAAQOpAAAAAACCb7kAAAAAAgH3wQAAAAAAAlKRAAAAAAACKukAAAAAAgIXPQAAAAADADdNAAAAAAACO1kAAAAAAIJTlQAAAAACgsOdAAAAAAMCT6kAAAAAAwPngQAAAAABARuFAAAAAAMA84kAAAAAAoA/pQAAAAADAQeNAAAAAAOAI5EAAAAAAID/sQAAAAACAbcxAAAAAAEBz0UAAAAAAwJTUQAAAAAAAiMdAAAAAAIDB4kAAAAAA4H3kQAAAAADAVt5AAAAAAGDb5kAAAAAAAFTnQAAAAADA0elAAAAAAAA1ukAAAAAAQJXkQAAAAACwafRAAAAAAICj9EAAAAAAYGP1QAAAAACAVsZAAAAAAEAV4EAAAAAAIALzQAAAAACg6fZAAAAAAJDA+EAAAAAAMCf8QAAAAACwzf1AAAAAANBM/kAAAAAA4Kn+QAAAAAC4hQBBAAAAAGDhAEEAAAAAyCwBQQAAAADwlwFBAAAAAIhsAkEAAAAAKMQCQQAAAACYLQRBAAAAAGCVBEEAAAAAqCwFQQAAAABYQQpBAAAAAKgpC0EAAAAAsBANQQAAAACQuQ9BAAAAACRpEEEAAAAAULQQQQAAAADsJxJBAAAAAAiXEkEAAAAAuJ0TQQAAAAAsGxVBAAAAACgOFkEAAAAAZEMWQQAAAACcRBdBAAAAAKCzF0EAAAAACE4YQQAAAACgTelAAAAAAGB77UAAAAAAAEz4QAAAAAAQT/ZAAAAAADAN+EAAAAAAIEPgQAAAAAAgwutAAAAAAMAL7UA=\",\"dtype\":\"float64\",\"order\":\"little\",\"shape\":[139]}},\"selected\":{\"id\":\"2128\"},\"selection_policy\":{\"id\":\"2151\"}},\"id\":\"2127\",\"type\":\"ColumnDataSource\"},{\"attributes\":{},\"id\":\"2142\",\"type\":\"AllLabels\"},{\"attributes\":{},\"id\":\"2139\",\"type\":\"AllLabels\"},{\"attributes\":{\"axis\":{\"id\":\"2106\"},\"coordinates\":null,\"grid_line_color\":null,\"group\":null,\"ticker\":null},\"id\":\"2108\",\"type\":\"Grid\"},{\"attributes\":{},\"id\":\"2128\",\"type\":\"Selection\"},{\"attributes\":{\"axis\":{\"id\":\"2109\"},\"coordinates\":null,\"dimension\":1,\"grid_line_color\":null,\"group\":null,\"ticker\":null},\"id\":\"2112\",\"type\":\"Grid\"}],\"root_ids\":[\"2092\"]},\"title\":\"Bokeh Application\",\"version\":\"2.4.3\"}};\n",
       "    var render_items = [{\"docid\":\"b2d4a744-bb5b-48d0-b1c1-51ddf99abf35\",\"root_ids\":[\"2092\"],\"roots\":{\"2092\":\"37df6ee3-1bb3-4886-82fd-3359d2b0c4d6\"}}];\n",
       "    root.Bokeh.embed.embed_items_notebook(docs_json, render_items);\n",
       "  }\n",
       "  if (root.Bokeh !== undefined && root.Bokeh.Panel !== undefined) {\n",
       "    embed_document(root);\n",
       "  } else {\n",
       "    var attempts = 0;\n",
       "    var timer = setInterval(function(root) {\n",
       "      if (root.Bokeh !== undefined && root.Bokeh.Panel !== undefined) {\n",
       "        clearInterval(timer);\n",
       "        embed_document(root);\n",
       "      } else if (document.readyState == \"complete\") {\n",
       "        attempts++;\n",
       "        if (attempts > 200) {\n",
       "          clearInterval(timer);\n",
       "          console.log(\"Bokeh: ERROR: Unable to run BokehJS code because BokehJS library is missing\");\n",
       "        }\n",
       "      }\n",
       "    }, 25, root)\n",
       "  }\n",
       "})(window);</script>"
      ],
      "text/plain": [
       ":Bars   [Symbol,Strike]   (Open Int)"
      ]
     },
     "execution_count": 69,
     "metadata": {
      "application/vnd.holoviews_exec.v0+json": {
       "id": "2092"
      }
     },
     "output_type": "execute_result"
    }
   ],
   "source": [
    "# Calling options_call_bar\n",
    "options_call_bar(df)"
   ]
  },
  {
   "cell_type": "code",
   "execution_count": 70,
   "metadata": {},
   "outputs": [
    {
     "data": {},
     "metadata": {},
     "output_type": "display_data"
    },
    {
     "data": {
      "application/vnd.holoviews_exec.v0+json": "",
      "text/html": [
       "<div id='2201'>\n",
       "  <div class=\"bk-root\" id=\"36aaa706-a015-4e7b-abf0-1b006d5a8f09\" data-root-id=\"2201\"></div>\n",
       "</div>\n",
       "<script type=\"application/javascript\">(function(root) {\n",
       "  function embed_document(root) {\n",
       "    var docs_json = {\"4ca83805-e5c9-4e40-b280-17d14ef922d8\":{\"defs\":[{\"extends\":null,\"module\":null,\"name\":\"ReactiveHTML1\",\"overrides\":[],\"properties\":[]},{\"extends\":null,\"module\":null,\"name\":\"FlexBox1\",\"overrides\":[],\"properties\":[{\"default\":\"flex-start\",\"kind\":null,\"name\":\"align_content\"},{\"default\":\"flex-start\",\"kind\":null,\"name\":\"align_items\"},{\"default\":\"row\",\"kind\":null,\"name\":\"flex_direction\"},{\"default\":\"wrap\",\"kind\":null,\"name\":\"flex_wrap\"},{\"default\":\"flex-start\",\"kind\":null,\"name\":\"justify_content\"}]},{\"extends\":null,\"module\":null,\"name\":\"GridStack1\",\"overrides\":[],\"properties\":[{\"default\":\"warn\",\"kind\":null,\"name\":\"mode\"},{\"default\":null,\"kind\":null,\"name\":\"ncols\"},{\"default\":null,\"kind\":null,\"name\":\"nrows\"},{\"default\":true,\"kind\":null,\"name\":\"allow_resize\"},{\"default\":true,\"kind\":null,\"name\":\"allow_drag\"},{\"default\":[],\"kind\":null,\"name\":\"state\"}]},{\"extends\":null,\"module\":null,\"name\":\"click1\",\"overrides\":[],\"properties\":[{\"default\":\"\",\"kind\":null,\"name\":\"terminal_output\"},{\"default\":\"\",\"kind\":null,\"name\":\"debug_name\"},{\"default\":0,\"kind\":null,\"name\":\"clears\"}]},{\"extends\":null,\"module\":null,\"name\":\"NotificationAreaBase1\",\"overrides\":[],\"properties\":[{\"default\":\"bottom-right\",\"kind\":null,\"name\":\"position\"},{\"default\":0,\"kind\":null,\"name\":\"_clear\"}]},{\"extends\":null,\"module\":null,\"name\":\"NotificationArea1\",\"overrides\":[],\"properties\":[{\"default\":[],\"kind\":null,\"name\":\"notifications\"},{\"default\":\"bottom-right\",\"kind\":null,\"name\":\"position\"},{\"default\":0,\"kind\":null,\"name\":\"_clear\"},{\"default\":[{\"background\":\"#ffc107\",\"icon\":{\"className\":\"fas fa-exclamation-triangle\",\"color\":\"white\",\"tagName\":\"i\"},\"type\":\"warning\"},{\"background\":\"#007bff\",\"icon\":{\"className\":\"fas fa-info-circle\",\"color\":\"white\",\"tagName\":\"i\"},\"type\":\"info\"}],\"kind\":null,\"name\":\"types\"}]},{\"extends\":null,\"module\":null,\"name\":\"Notification\",\"overrides\":[],\"properties\":[{\"default\":null,\"kind\":null,\"name\":\"background\"},{\"default\":3000,\"kind\":null,\"name\":\"duration\"},{\"default\":null,\"kind\":null,\"name\":\"icon\"},{\"default\":\"\",\"kind\":null,\"name\":\"message\"},{\"default\":null,\"kind\":null,\"name\":\"notification_type\"},{\"default\":false,\"kind\":null,\"name\":\"_destroyed\"}]},{\"extends\":null,\"module\":null,\"name\":\"TemplateActions1\",\"overrides\":[],\"properties\":[{\"default\":0,\"kind\":null,\"name\":\"open_modal\"},{\"default\":0,\"kind\":null,\"name\":\"close_modal\"}]},{\"extends\":null,\"module\":null,\"name\":\"MaterialTemplateActions1\",\"overrides\":[],\"properties\":[{\"default\":0,\"kind\":null,\"name\":\"open_modal\"},{\"default\":0,\"kind\":null,\"name\":\"close_modal\"}]}],\"roots\":{\"references\":[{\"attributes\":{},\"id\":\"2260\",\"type\":\"UnionRenderers\"},{\"attributes\":{\"coordinates\":null,\"group\":null,\"text\":\"Puts\",\"text_color\":\"black\",\"text_font_size\":\"12pt\"},\"id\":\"2207\",\"type\":\"Title\"},{\"attributes\":{\"callback\":null,\"renderers\":[{\"id\":\"2242\"}],\"tags\":[\"hv_created\"],\"tooltips\":[[\"Symbol\",\"@{Symbol}\"],[\"Strike\",\"@{Strike}\"],[\"Open Int\",\"@{Open_Int}\"]]},\"id\":\"2205\",\"type\":\"HoverTool\"},{\"attributes\":{\"factors\":[\"147\",\"148\",\"149\",\"150\",\"152.5\",\"155\",\"157.5\",\"160\",\"162.5\",\"165\",\"170\",\"172.5\",\"175\",\"180\",\"185\",\"72\",\"73\",\"74\",\"75\",\"76\",\"77\",\"80\",\"81\",\"82.5\",\"85\",\"100\",\"105\",\"119\",\"120\",\"123\",\"124\",\"125\",\"126\",\"127\",\"128\",\"129\",\"130\",\"131\",\"132\",\"135\",\"140\",\"145\",\"151\",\"166.5\",\"86\",\"87\",\"88\",\"89\",\"90\",\"110\",\"115\",\"33\",\"33.5\",\"34.5\",\"35\",\"8\",\"9\",\"10\",\"14.5\",\"15\",\"16\",\"102\",\"115.5\",\"116\",\"116.5\",\"117\",\"117.5\",\"118\",\"118.5\",\"119.5\",\"120.5\",\"103.25\",\"103.75\",\"104\",\"104.25\",\"104.5\",\"104.75\",\"107\",\"122.5\",\"127.5\",\"28.5\",\"29\",\"29.5\",\"30\",\"37.5\",\"190\",\"195\",\"200\",\"215\",\"237.5\",\"242.5\",\"245\",\"247.5\",\"250\",\"252.5\",\"255\",\"257.5\",\"260\",\"265\",\"280\",\"205\",\"210\",\"212.5\",\"222.5\",\"225\",\"227.5\",\"232.5\",\"20.5\",\"21\",\"21.5\",\"22\",\"22.5\",\"23\",\"121\",\"133\",\"134\",\"136\",\"45\",\"47\",\"31\",\"32\",\"32.5\",\"17\",\"17.5\",\"18\",\"271.67\",\"273.33\",\"275\",\"276.67\",\"278.33\",\"281.67\",\"283.33\",\"285\",\"286.67\",\"288.33\",\"289.17\",\"290\",\"290.83\",\"291.67\",\"292.5\",\"293.33\",\"294.17\",\"295\",\"295.83\",\"296.67\",\"298.33\",\"300\",\"301.67\",\"303.33\",\"306.67\",\"310\",\"313.33\",\"315\",\"333.33\",\"341.67\",\"12.5\"],\"palette\":[\"#259646\",\"#259646\",\"#259646\",\"#259646\",\"#259646\",\"#259646\",\"#259646\",\"#259646\",\"#259646\",\"#259646\",\"#259646\",\"#259646\",\"#259646\",\"#259646\",\"#259646\",\"#259646\",\"#259646\",\"#259646\",\"#259646\",\"#259646\",\"#259646\",\"#259646\",\"#259646\",\"#259646\",\"#259646\",\"#259646\",\"#259646\",\"#259646\",\"#259646\",\"#259646\",\"#259646\",\"#259646\",\"#259646\",\"#259646\",\"#259646\",\"#259646\",\"#259646\",\"#259646\",\"#259646\",\"#259646\",\"#259646\",\"#259646\",\"#259646\",\"#259646\",\"#259646\",\"#259646\",\"#259646\",\"#259646\",\"#259646\",\"#259646\",\"#259646\",\"#259646\",\"#259646\",\"#259646\",\"#259646\",\"#259646\",\"#259646\",\"#259646\",\"#259646\",\"#259646\",\"#259646\",\"#259646\",\"#259646\",\"#259646\",\"#259646\",\"#259646\",\"#259646\",\"#259646\",\"#259646\",\"#259646\",\"#259646\",\"#259646\",\"#259646\",\"#259646\",\"#259646\",\"#259646\",\"#259646\",\"#259646\",\"#259646\",\"#259646\",\"#259646\",\"#259646\",\"#259646\",\"#259646\",\"#259646\",\"#259646\",\"#259646\",\"#259646\",\"#259646\",\"#259646\",\"#259646\",\"#259646\",\"#259646\",\"#259646\",\"#259646\",\"#259646\",\"#259646\",\"#259646\",\"#259646\",\"#259646\",\"#259646\",\"#259646\",\"#259646\",\"#259646\",\"#259646\",\"#259646\",\"#259646\",\"#259646\",\"#259646\",\"#259646\",\"#259646\",\"#259646\",\"#259646\",\"#259646\",\"#259646\",\"#259646\",\"#259646\",\"#259646\",\"#259646\",\"#259646\",\"#259646\",\"#259646\",\"#259646\",\"#259646\",\"#259646\",\"#259646\",\"#259646\",\"#259646\",\"#259646\",\"#259646\",\"#259646\",\"#259646\",\"#259646\",\"#259646\",\"#259646\",\"#259646\",\"#259646\",\"#259646\",\"#259646\",\"#259646\",\"#259646\",\"#259646\",\"#259646\",\"#259646\",\"#259646\",\"#259646\",\"#259646\",\"#259646\",\"#259646\",\"#259646\",\"#259646\",\"#259646\",\"#259646\",\"#259646\",\"#259646\",\"#259646\"]},\"id\":\"2235\",\"type\":\"CategoricalColorMapper\"},{\"attributes\":{\"axis_label\":\"Symbol\",\"coordinates\":null,\"formatter\":{\"id\":\"2247\"},\"group\":null,\"major_label_orientation\":1.5707963267948966,\"major_label_policy\":{\"id\":\"2248\"},\"ticker\":{\"id\":\"2216\"}},\"id\":\"2215\",\"type\":\"CategoricalAxis\"},{\"attributes\":{\"bottom\":{\"field\":\"bottom\"},\"fill_color\":{\"field\":\"Strike\",\"transform\":{\"id\":\"2235\"}},\"hatch_color\":{\"field\":\"Strike\",\"transform\":{\"id\":\"2235\"}},\"top\":{\"field\":\"top\"},\"width\":{\"value\":0.8},\"x\":{\"field\":\"Symbol\"}},\"id\":\"2239\",\"type\":\"VBar\"},{\"attributes\":{},\"id\":\"2251\",\"type\":\"AllLabels\"},{\"attributes\":{\"tools\":[{\"id\":\"2205\"},{\"id\":\"2222\"},{\"id\":\"2223\"},{\"id\":\"2224\"},{\"id\":\"2225\"},{\"id\":\"2226\"}]},\"id\":\"2228\",\"type\":\"Toolbar\"},{\"attributes\":{\"data\":{\"Open_Int\":{\"__ndarray__\":\"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\",\"dtype\":\"float64\",\"order\":\"little\",\"shape\":[200]},\"Strike\":[\"147\",\"148\",\"149\",\"149\",\"150\",\"150\",\"150\",\"152.5\",\"152.5\",\"152.5\",\"155\",\"155\",\"157.5\",\"157.5\",\"160\",\"160\",\"162.5\",\"162.5\",\"165\",\"170\",\"172.5\",\"175\",\"180\",\"185\",\"72\",\"73\",\"74\",\"75\",\"76\",\"77\",\"80\",\"81\",\"82.5\",\"85\",\"100\",\"100\",\"105\",\"105\",\"119\",\"119\",\"119\",\"120\",\"120\",\"120\",\"120\",\"120\",\"123\",\"123\",\"124\",\"124\",\"125\",\"125\",\"125\",\"125\",\"125\",\"126\",\"126\",\"127\",\"127\",\"128\",\"128\",\"129\",\"129\",\"130\",\"130\",\"130\",\"131\",\"132\",\"132\",\"135\",\"135\",\"140\",\"140\",\"140\",\"145\",\"145\",\"151\",\"166.5\",\"86\",\"87\",\"88\",\"89\",\"90\",\"110\",\"110\",\"115\",\"115\",\"33\",\"33\",\"33.5\",\"34.5\",\"35\",\"8\",\"9\",\"10\",\"14.5\",\"15\",\"16\",\"102\",\"102\",\"115.5\",\"116\",\"116.5\",\"117\",\"117.5\",\"118\",\"118.5\",\"119.5\",\"120.5\",\"103.25\",\"103.75\",\"104\",\"104.25\",\"104.5\",\"104.75\",\"107\",\"122.5\",\"122.5\",\"127.5\",\"28.5\",\"29\",\"29.5\",\"30\",\"37.5\",\"190\",\"195\",\"200\",\"215\",\"215\",\"237.5\",\"242.5\",\"245\",\"247.5\",\"250\",\"250\",\"252.5\",\"255\",\"257.5\",\"260\",\"260\",\"265\",\"265\",\"280\",\"280\",\"205\",\"210\",\"212.5\",\"222.5\",\"225\",\"227.5\",\"232.5\",\"20.5\",\"21\",\"21.5\",\"22\",\"22.5\",\"23\",\"121\",\"133\",\"134\",\"136\",\"45\",\"47\",\"31\",\"32\",\"32.5\",\"17\",\"17.5\",\"18\",\"271.67\",\"273.33\",\"275\",\"276.67\",\"278.33\",\"281.67\",\"283.33\",\"285\",\"286.67\",\"288.33\",\"289.17\",\"290\",\"290.83\",\"291.67\",\"292.5\",\"293.33\",\"294.17\",\"295\",\"295.83\",\"296.67\",\"298.33\",\"300\",\"301.67\",\"303.33\",\"306.67\",\"310\",\"313.33\",\"315\",\"333.33\",\"341.67\",\"12.5\"],\"Symbol\":[\"AAPL\",\"AAPL\",\"AMZN\",\"AAPL\",\"AAPL\",\"META\",\"AMZN\",\"AAPL\",\"META\",\"AMZN\",\"AAPL\",\"META\",\"AAPL\",\"META\",\"AAPL\",\"META\",\"META\",\"AAPL\",\"AAPL\",\"AAPL\",\"AAPL\",\"AAPL\",\"AAPL\",\"AAPL\",\"AMD\",\"AMD\",\"AMD\",\"AMD\",\"AMD\",\"AMD\",\"AMD\",\"AMD\",\"AMD\",\"AMD\",\"AMD\",\"GOOGL\",\"GOOGL\",\"AMD\",\"GOOG\",\"NVDA\",\"AMZN\",\"GOOGL\",\"NVDA\",\"GOOG\",\"BABA\",\"AMZN\",\"AMZN\",\"GOOGL\",\"NVDA\",\"AMZN\",\"GOOGL\",\"AMZN\",\"BABA\",\"GOOG\",\"NVDA\",\"NVDA\",\"AMZN\",\"NVDA\",\"AMZN\",\"NVDA\",\"AMZN\",\"AMZN\",\"NVDA\",\"GOOG\",\"NVDA\",\"AMZN\",\"AMZN\",\"AMZN\",\"NVDA\",\"NVDA\",\"AMZN\",\"META\",\"NVDA\",\"AMZN\",\"AMZN\",\"META\",\"AMZN\",\"AMZN\",\"BABA\",\"BABA\",\"BABA\",\"BABA\",\"BABA\",\"BABA\",\"GOOG\",\"BABA\",\"GOOG\",\"BAC\",\"SHOP\",\"BAC\",\"BAC\",\"BAC\",\"BBBY\",\"BBBY\",\"BBBY\",\"F\",\"F\",\"F\",\"GOOG\",\"GOOGL\",\"GOOG\",\"GOOG\",\"GOOG\",\"GOOG\",\"GOOG\",\"GOOG\",\"GOOG\",\"GOOG\",\"GOOG\",\"GOOGL\",\"GOOGL\",\"GOOGL\",\"GOOGL\",\"GOOGL\",\"GOOGL\",\"GOOGL\",\"GOOGL\",\"NVDA\",\"GOOGL\",\"INTC\",\"INTC\",\"INTC\",\"INTC\",\"INTC\",\"META\",\"META\",\"META\",\"META\",\"NFLX\",\"MSFT\",\"MSFT\",\"MSFT\",\"MSFT\",\"MSFT\",\"NFLX\",\"MSFT\",\"MSFT\",\"MSFT\",\"MSFT\",\"TSLA\",\"TSLA\",\"MSFT\",\"TSLA\",\"MSFT\",\"NFLX\",\"NFLX\",\"NFLX\",\"NFLX\",\"NFLX\",\"NFLX\",\"NFLX\",\"NIO\",\"NIO\",\"NIO\",\"NIO\",\"NIO\",\"NIO\",\"NVDA\",\"NVDA\",\"NVDA\",\"NVDA\",\"PFE\",\"PFE\",\"SHOP\",\"SHOP\",\"SHOP\",\"T\",\"T\",\"T\",\"TSLA\",\"TSLA\",\"TSLA\",\"TSLA\",\"TSLA\",\"TSLA\",\"TSLA\",\"TSLA\",\"TSLA\",\"TSLA\",\"TSLA\",\"TSLA\",\"TSLA\",\"TSLA\",\"TSLA\",\"TSLA\",\"TSLA\",\"TSLA\",\"TSLA\",\"TSLA\",\"TSLA\",\"TSLA\",\"TSLA\",\"TSLA\",\"TSLA\",\"TSLA\",\"TSLA\",\"TSLA\",\"TSLA\",\"TSLA\",\"WBD\"],\"bottom\":{\"__ndarray__\":\"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\",\"dtype\":\"float64\",\"order\":\"little\",\"shape\":[200]},\"top\":{\"__ndarray__\":\"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\",\"dtype\":\"float64\",\"order\":\"little\",\"shape\":[200]}},\"selected\":{\"id\":\"2237\"},\"selection_policy\":{\"id\":\"2260\"}},\"id\":\"2236\",\"type\":\"ColumnDataSource\"},{\"attributes\":{\"source\":{\"id\":\"2236\"}},\"id\":\"2243\",\"type\":\"CDSView\"},{\"attributes\":{\"bottom\":{\"field\":\"bottom\"},\"fill_alpha\":{\"value\":0.1},\"fill_color\":{\"field\":\"Strike\",\"transform\":{\"id\":\"2235\"}},\"hatch_alpha\":{\"value\":0.1},\"hatch_color\":{\"field\":\"Strike\",\"transform\":{\"id\":\"2235\"}},\"line_alpha\":{\"value\":0.1},\"top\":{\"field\":\"top\"},\"width\":{\"value\":0.8},\"x\":{\"field\":\"Symbol\"}},\"id\":\"2240\",\"type\":\"VBar\"},{\"attributes\":{\"children\":[{\"id\":\"2202\"},{\"id\":\"2206\"},{\"id\":\"2263\"}],\"margin\":[0,0,0,0],\"name\":\"Row03720\",\"tags\":[\"embedded\"]},\"id\":\"2201\",\"type\":\"Row\"},{\"attributes\":{},\"id\":\"2247\",\"type\":\"CategoricalTickFormatter\"},{\"attributes\":{},\"id\":\"2223\",\"type\":\"PanTool\"},{\"attributes\":{},\"id\":\"2248\",\"type\":\"AllLabels\"},{\"attributes\":{},\"id\":\"2219\",\"type\":\"BasicTicker\"},{\"attributes\":{\"overlay\":{\"id\":\"2227\"}},\"id\":\"2225\",\"type\":\"BoxZoomTool\"},{\"attributes\":{\"bottom\":{\"field\":\"bottom\"},\"fill_alpha\":{\"value\":0.2},\"fill_color\":{\"field\":\"Strike\",\"transform\":{\"id\":\"2235\"}},\"hatch_alpha\":{\"value\":0.2},\"hatch_color\":{\"field\":\"Strike\",\"transform\":{\"id\":\"2235\"}},\"line_alpha\":{\"value\":0.2},\"top\":{\"field\":\"top\"},\"width\":{\"value\":0.8},\"x\":{\"field\":\"Symbol\"}},\"id\":\"2241\",\"type\":\"VBar\"},{\"attributes\":{\"end\":511483.4,\"reset_end\":511483.4,\"reset_start\":0.0,\"tags\":[[[\"Open Int\",\"Open Int\",null]]]},\"id\":\"2204\",\"type\":\"Range1d\"},{\"attributes\":{},\"id\":\"2211\",\"type\":\"CategoricalScale\"},{\"attributes\":{\"axis\":{\"id\":\"2218\"},\"coordinates\":null,\"dimension\":1,\"grid_line_color\":null,\"group\":null,\"ticker\":null},\"id\":\"2221\",\"type\":\"Grid\"},{\"attributes\":{},\"id\":\"2237\",\"type\":\"Selection\"},{\"attributes\":{\"bottom\":{\"field\":\"bottom\"},\"fill_alpha\":{\"value\":1.0},\"fill_color\":{\"field\":\"Strike\",\"transform\":{\"id\":\"2235\"}},\"hatch_alpha\":{\"value\":1.0},\"hatch_color\":{\"field\":\"Strike\",\"transform\":{\"id\":\"2235\"}},\"hatch_scale\":{\"value\":12.0},\"hatch_weight\":{\"value\":1.0},\"line_alpha\":{\"value\":1.0},\"line_cap\":{\"value\":\"butt\"},\"line_color\":{\"value\":\"black\"},\"line_dash\":{\"value\":[]},\"line_dash_offset\":{\"value\":0},\"line_join\":{\"value\":\"bevel\"},\"line_width\":{\"value\":1},\"top\":{\"field\":\"top\"},\"width\":{\"value\":0.8},\"x\":{\"field\":\"Symbol\"}},\"id\":\"2244\",\"type\":\"VBar\"},{\"attributes\":{\"format\":\"%.0f\"},\"id\":\"2245\",\"type\":\"PrintfTickFormatter\"},{\"attributes\":{\"coordinates\":null,\"data_source\":{\"id\":\"2236\"},\"glyph\":{\"id\":\"2239\"},\"group\":null,\"hover_glyph\":null,\"muted_glyph\":{\"id\":\"2241\"},\"nonselection_glyph\":{\"id\":\"2240\"},\"selection_glyph\":{\"id\":\"2244\"},\"view\":{\"id\":\"2243\"}},\"id\":\"2242\",\"type\":\"GlyphRenderer\"},{\"attributes\":{},\"id\":\"2222\",\"type\":\"SaveTool\"},{\"attributes\":{},\"id\":\"2224\",\"type\":\"WheelZoomTool\"},{\"attributes\":{\"margin\":[5,5,5,5],\"name\":\"HSpacer03725\",\"sizing_mode\":\"stretch_width\"},\"id\":\"2263\",\"type\":\"Spacer\"},{\"attributes\":{},\"id\":\"2226\",\"type\":\"ResetTool\"},{\"attributes\":{\"factors\":[\"AAPL\",\"AMD\",\"AMZN\",\"BABA\",\"BAC\",\"BBBY\",\"F\",\"GOOG\",\"GOOGL\",\"INTC\",\"META\",\"MSFT\",\"NFLX\",\"NIO\",\"NVDA\",\"PFE\",\"SHOP\",\"T\",\"TSLA\",\"WBD\"],\"tags\":[[[\"Symbol\",\"Symbol\",null]]]},\"id\":\"2203\",\"type\":\"FactorRange\"},{\"attributes\":{},\"id\":\"2213\",\"type\":\"LinearScale\"},{\"attributes\":{\"axis\":{\"id\":\"2215\"},\"coordinates\":null,\"grid_line_color\":null,\"group\":null,\"ticker\":null},\"id\":\"2217\",\"type\":\"Grid\"},{\"attributes\":{\"bottom_units\":\"screen\",\"coordinates\":null,\"fill_alpha\":0.5,\"fill_color\":\"lightgrey\",\"group\":null,\"left_units\":\"screen\",\"level\":\"overlay\",\"line_alpha\":1.0,\"line_color\":\"black\",\"line_dash\":[4,4],\"line_width\":2,\"right_units\":\"screen\",\"syncable\":false,\"top_units\":\"screen\"},\"id\":\"2227\",\"type\":\"BoxAnnotation\"},{\"attributes\":{\"below\":[{\"id\":\"2215\"}],\"center\":[{\"id\":\"2217\"},{\"id\":\"2221\"}],\"height\":800,\"left\":[{\"id\":\"2218\"}],\"margin\":[5,5,5,5],\"min_border_bottom\":10,\"min_border_left\":10,\"min_border_right\":10,\"min_border_top\":10,\"renderers\":[{\"id\":\"2242\"}],\"sizing_mode\":\"fixed\",\"title\":{\"id\":\"2207\"},\"toolbar\":{\"id\":\"2228\"},\"width\":1000,\"x_range\":{\"id\":\"2203\"},\"x_scale\":{\"id\":\"2211\"},\"y_range\":{\"id\":\"2204\"},\"y_scale\":{\"id\":\"2213\"}},\"id\":\"2206\",\"subtype\":\"Figure\",\"type\":\"Plot\"},{\"attributes\":{},\"id\":\"2216\",\"type\":\"CategoricalTicker\"},{\"attributes\":{\"margin\":[5,5,5,5],\"name\":\"HSpacer03724\",\"sizing_mode\":\"stretch_width\"},\"id\":\"2202\",\"type\":\"Spacer\"},{\"attributes\":{\"axis_label\":\"Open Int\",\"coordinates\":null,\"formatter\":{\"id\":\"2245\"},\"group\":null,\"major_label_policy\":{\"id\":\"2251\"},\"ticker\":{\"id\":\"2219\"}},\"id\":\"2218\",\"type\":\"LinearAxis\"}],\"root_ids\":[\"2201\"]},\"title\":\"Bokeh Application\",\"version\":\"2.4.3\"}};\n",
       "    var render_items = [{\"docid\":\"4ca83805-e5c9-4e40-b280-17d14ef922d8\",\"root_ids\":[\"2201\"],\"roots\":{\"2201\":\"36aaa706-a015-4e7b-abf0-1b006d5a8f09\"}}];\n",
       "    root.Bokeh.embed.embed_items_notebook(docs_json, render_items);\n",
       "  }\n",
       "  if (root.Bokeh !== undefined && root.Bokeh.Panel !== undefined) {\n",
       "    embed_document(root);\n",
       "  } else {\n",
       "    var attempts = 0;\n",
       "    var timer = setInterval(function(root) {\n",
       "      if (root.Bokeh !== undefined && root.Bokeh.Panel !== undefined) {\n",
       "        clearInterval(timer);\n",
       "        embed_document(root);\n",
       "      } else if (document.readyState == \"complete\") {\n",
       "        attempts++;\n",
       "        if (attempts > 200) {\n",
       "          clearInterval(timer);\n",
       "          console.log(\"Bokeh: ERROR: Unable to run BokehJS code because BokehJS library is missing\");\n",
       "        }\n",
       "      }\n",
       "    }, 25, root)\n",
       "  }\n",
       "})(window);</script>"
      ],
      "text/plain": [
       ":Bars   [Symbol,Strike]   (Open Int)"
      ]
     },
     "execution_count": 70,
     "metadata": {
      "application/vnd.holoviews_exec.v0+json": {
       "id": "2201"
      }
     },
     "output_type": "execute_result"
    }
   ],
   "source": [
    "# Calling options_put_bar\n",
    "options_put_bar(df)"
   ]
  },
  {
   "cell_type": "code",
   "execution_count": null,
   "metadata": {},
   "outputs": [],
   "source": []
  },
  {
   "cell_type": "markdown",
   "metadata": {},
   "source": [
    "# Stats"
   ]
  },
  {
   "cell_type": "code",
   "execution_count": 71,
   "metadata": {},
   "outputs": [
    {
     "data": {
      "text/html": [
       "<div>\n",
       "<style scoped>\n",
       "    .dataframe tbody tr th:only-of-type {\n",
       "        vertical-align: middle;\n",
       "    }\n",
       "\n",
       "    .dataframe tbody tr th {\n",
       "        vertical-align: top;\n",
       "    }\n",
       "\n",
       "    .dataframe thead th {\n",
       "        text-align: right;\n",
       "    }\n",
       "</style>\n",
       "<table border=\"1\" class=\"dataframe\">\n",
       "  <thead>\n",
       "    <tr style=\"text-align: right;\">\n",
       "      <th></th>\n",
       "      <th>Open Int</th>\n",
       "    </tr>\n",
       "  </thead>\n",
       "  <tbody>\n",
       "    <tr>\n",
       "      <th>count</th>\n",
       "      <td>200.000000</td>\n",
       "    </tr>\n",
       "    <tr>\n",
       "      <th>mean</th>\n",
       "      <td>12447.475000</td>\n",
       "    </tr>\n",
       "    <tr>\n",
       "      <th>std</th>\n",
       "      <td>19423.264746</td>\n",
       "    </tr>\n",
       "    <tr>\n",
       "      <th>min</th>\n",
       "      <td>484.000000</td>\n",
       "    </tr>\n",
       "    <tr>\n",
       "      <th>25%</th>\n",
       "      <td>2447.500000</td>\n",
       "    </tr>\n",
       "    <tr>\n",
       "      <th>50%</th>\n",
       "      <td>5785.000000</td>\n",
       "    </tr>\n",
       "    <tr>\n",
       "      <th>75%</th>\n",
       "      <td>14204.750000</td>\n",
       "    </tr>\n",
       "    <tr>\n",
       "      <th>max</th>\n",
       "      <td>147818.000000</td>\n",
       "    </tr>\n",
       "  </tbody>\n",
       "</table>\n",
       "</div>"
      ],
      "text/plain": [
       "            Open Int\n",
       "count     200.000000\n",
       "mean    12447.475000\n",
       "std     19423.264746\n",
       "min       484.000000\n",
       "25%      2447.500000\n",
       "50%      5785.000000\n",
       "75%     14204.750000\n",
       "max    147818.000000"
      ]
     },
     "execution_count": 71,
     "metadata": {},
     "output_type": "execute_result"
    }
   ],
   "source": [
    "call_stats(df)"
   ]
  },
  {
   "cell_type": "code",
   "execution_count": 72,
   "metadata": {},
   "outputs": [
    {
     "data": {
      "text/html": [
       "<div>\n",
       "<style scoped>\n",
       "    .dataframe tbody tr th:only-of-type {\n",
       "        vertical-align: middle;\n",
       "    }\n",
       "\n",
       "    .dataframe tbody tr th {\n",
       "        vertical-align: top;\n",
       "    }\n",
       "\n",
       "    .dataframe thead th {\n",
       "        text-align: right;\n",
       "    }\n",
       "</style>\n",
       "<table border=\"1\" class=\"dataframe\">\n",
       "  <thead>\n",
       "    <tr style=\"text-align: right;\">\n",
       "      <th></th>\n",
       "      <th>Open Int</th>\n",
       "    </tr>\n",
       "  </thead>\n",
       "  <tbody>\n",
       "    <tr>\n",
       "      <th>count</th>\n",
       "      <td>200.000000</td>\n",
       "    </tr>\n",
       "    <tr>\n",
       "      <th>mean</th>\n",
       "      <td>12447.475000</td>\n",
       "    </tr>\n",
       "    <tr>\n",
       "      <th>std</th>\n",
       "      <td>19423.264746</td>\n",
       "    </tr>\n",
       "    <tr>\n",
       "      <th>min</th>\n",
       "      <td>484.000000</td>\n",
       "    </tr>\n",
       "    <tr>\n",
       "      <th>25%</th>\n",
       "      <td>2447.500000</td>\n",
       "    </tr>\n",
       "    <tr>\n",
       "      <th>50%</th>\n",
       "      <td>5785.000000</td>\n",
       "    </tr>\n",
       "    <tr>\n",
       "      <th>75%</th>\n",
       "      <td>14204.750000</td>\n",
       "    </tr>\n",
       "    <tr>\n",
       "      <th>max</th>\n",
       "      <td>147818.000000</td>\n",
       "    </tr>\n",
       "  </tbody>\n",
       "</table>\n",
       "</div>"
      ],
      "text/plain": [
       "            Open Int\n",
       "count     200.000000\n",
       "mean    12447.475000\n",
       "std     19423.264746\n",
       "min       484.000000\n",
       "25%      2447.500000\n",
       "50%      5785.000000\n",
       "75%     14204.750000\n",
       "max    147818.000000"
      ]
     },
     "execution_count": 72,
     "metadata": {},
     "output_type": "execute_result"
    }
   ],
   "source": [
    "put_stats(df)"
   ]
  },
  {
   "cell_type": "code",
   "execution_count": null,
   "metadata": {},
   "outputs": [],
   "source": []
  },
  {
   "cell_type": "markdown",
   "metadata": {},
   "source": [
    "# Cale's Code"
   ]
  },
  {
   "cell_type": "code",
   "execution_count": 73,
   "metadata": {},
   "outputs": [],
   "source": [
    "tickers_for_api = df['Symbol'].unique()\n",
    "stocks = tickers_for_api.tolist()\n",
    "stocks = stocks[:20]"
   ]
  },
  {
   "cell_type": "code",
   "execution_count": null,
   "metadata": {},
   "outputs": [],
   "source": []
  },
  {
   "cell_type": "code",
   "execution_count": null,
   "metadata": {},
   "outputs": [],
   "source": []
  },
  {
   "cell_type": "code",
   "execution_count": null,
   "metadata": {},
   "outputs": [],
   "source": []
  },
  {
   "cell_type": "code",
   "execution_count": null,
   "metadata": {},
   "outputs": [],
   "source": []
  },
  {
   "cell_type": "markdown",
   "metadata": {},
   "source": [
    "# Testing"
   ]
  },
  {
   "cell_type": "code",
   "execution_count": 74,
   "metadata": {},
   "outputs": [
    {
     "data": {
      "text/html": [
       "<div>\n",
       "<style scoped>\n",
       "    .dataframe tbody tr th:only-of-type {\n",
       "        vertical-align: middle;\n",
       "    }\n",
       "\n",
       "    .dataframe tbody tr th {\n",
       "        vertical-align: top;\n",
       "    }\n",
       "\n",
       "    .dataframe thead th {\n",
       "        text-align: right;\n",
       "    }\n",
       "</style>\n",
       "<table border=\"1\" class=\"dataframe\">\n",
       "  <thead>\n",
       "    <tr style=\"text-align: right;\">\n",
       "      <th></th>\n",
       "      <th>Symbol</th>\n",
       "      <th>Type</th>\n",
       "      <th>Strike</th>\n",
       "      <th>Exp Date</th>\n",
       "      <th>DTE</th>\n",
       "      <th>Bid</th>\n",
       "      <th>Midpoint</th>\n",
       "      <th>Ask</th>\n",
       "      <th>Last</th>\n",
       "      <th>Volume</th>\n",
       "      <th>Open Int</th>\n",
       "      <th>OI Chg</th>\n",
       "      <th>IV</th>\n",
       "      <th>Time</th>\n",
       "    </tr>\n",
       "  </thead>\n",
       "  <tbody>\n",
       "    <tr>\n",
       "      <th>155</th>\n",
       "      <td>AAL</td>\n",
       "      <td>Call</td>\n",
       "      <td>14.0</td>\n",
       "      <td>2022-09-16</td>\n",
       "      <td>2.0</td>\n",
       "      <td>0.26</td>\n",
       "      <td>0.27</td>\n",
       "      <td>0.27</td>\n",
       "      <td>0.26</td>\n",
       "      <td>10637.0</td>\n",
       "      <td>22188.0</td>\n",
       "      <td>+2,212</td>\n",
       "      <td>58.91%</td>\n",
       "      <td>2022-09-14</td>\n",
       "    </tr>\n",
       "    <tr>\n",
       "      <th>1237</th>\n",
       "      <td>AAPL</td>\n",
       "      <td>Call</td>\n",
       "      <td>140.0</td>\n",
       "      <td>2022-09-16</td>\n",
       "      <td>2.0</td>\n",
       "      <td>15.25</td>\n",
       "      <td>15.40</td>\n",
       "      <td>15.55</td>\n",
       "      <td>15.54</td>\n",
       "      <td>674.0</td>\n",
       "      <td>21206.0</td>\n",
       "      <td>-399</td>\n",
       "      <td>75.41%</td>\n",
       "      <td>2022-09-14</td>\n",
       "    </tr>\n",
       "    <tr>\n",
       "      <th>1119</th>\n",
       "      <td>AAPL</td>\n",
       "      <td>Call</td>\n",
       "      <td>150.0</td>\n",
       "      <td>2022-09-16</td>\n",
       "      <td>2.0</td>\n",
       "      <td>5.45</td>\n",
       "      <td>5.65</td>\n",
       "      <td>5.85</td>\n",
       "      <td>5.80</td>\n",
       "      <td>3846.0</td>\n",
       "      <td>48536.0</td>\n",
       "      <td>-941</td>\n",
       "      <td>44.45%</td>\n",
       "      <td>2022-09-14</td>\n",
       "    </tr>\n",
       "    <tr>\n",
       "      <th>689</th>\n",
       "      <td>AAPL</td>\n",
       "      <td>Call</td>\n",
       "      <td>152.5</td>\n",
       "      <td>2022-09-16</td>\n",
       "      <td>2.0</td>\n",
       "      <td>3.50</td>\n",
       "      <td>3.58</td>\n",
       "      <td>3.65</td>\n",
       "      <td>3.60</td>\n",
       "      <td>9040.0</td>\n",
       "      <td>17736.0</td>\n",
       "      <td>+645</td>\n",
       "      <td>38.43%</td>\n",
       "      <td>2022-09-14</td>\n",
       "    </tr>\n",
       "    <tr>\n",
       "      <th>1142</th>\n",
       "      <td>AAPL</td>\n",
       "      <td>Call</td>\n",
       "      <td>155.0</td>\n",
       "      <td>2022-09-16</td>\n",
       "      <td>2.0</td>\n",
       "      <td>1.88</td>\n",
       "      <td>1.89</td>\n",
       "      <td>1.90</td>\n",
       "      <td>1.90</td>\n",
       "      <td>80360.0</td>\n",
       "      <td>48254.0</td>\n",
       "      <td>-773</td>\n",
       "      <td>36.40%</td>\n",
       "      <td>2022-09-14</td>\n",
       "    </tr>\n",
       "  </tbody>\n",
       "</table>\n",
       "</div>"
      ],
      "text/plain": [
       "     Symbol  Type  Strike    Exp Date  DTE    Bid  Midpoint    Ask   Last  \\\n",
       "155     AAL  Call    14.0  2022-09-16  2.0   0.26      0.27   0.27   0.26   \n",
       "1237   AAPL  Call   140.0  2022-09-16  2.0  15.25     15.40  15.55  15.54   \n",
       "1119   AAPL  Call   150.0  2022-09-16  2.0   5.45      5.65   5.85   5.80   \n",
       "689    AAPL  Call   152.5  2022-09-16  2.0   3.50      3.58   3.65   3.60   \n",
       "1142   AAPL  Call   155.0  2022-09-16  2.0   1.88      1.89   1.90   1.90   \n",
       "\n",
       "       Volume  Open Int  OI Chg      IV        Time  \n",
       "155   10637.0   22188.0  +2,212  58.91%  2022-09-14  \n",
       "1237    674.0   21206.0    -399  75.41%  2022-09-14  \n",
       "1119   3846.0   48536.0    -941  44.45%  2022-09-14  \n",
       "689    9040.0   17736.0    +645  38.43%  2022-09-14  \n",
       "1142  80360.0   48254.0    -773  36.40%  2022-09-14  "
      ]
     },
     "execution_count": 74,
     "metadata": {},
     "output_type": "execute_result"
    }
   ],
   "source": [
    "calls = df[df['Type'] == 'Call'].drop(columns='Price')\n",
    "calls.head()"
   ]
  },
  {
   "cell_type": "code",
   "execution_count": 75,
   "metadata": {},
   "outputs": [
    {
     "data": {
      "text/html": [
       "<div>\n",
       "<style scoped>\n",
       "    .dataframe tbody tr th:only-of-type {\n",
       "        vertical-align: middle;\n",
       "    }\n",
       "\n",
       "    .dataframe tbody tr th {\n",
       "        vertical-align: top;\n",
       "    }\n",
       "\n",
       "    .dataframe thead th {\n",
       "        text-align: right;\n",
       "    }\n",
       "</style>\n",
       "<table border=\"1\" class=\"dataframe\">\n",
       "  <thead>\n",
       "    <tr style=\"text-align: right;\">\n",
       "      <th></th>\n",
       "      <th>Symbol</th>\n",
       "      <th>Type</th>\n",
       "      <th>Strike</th>\n",
       "      <th>Exp Date</th>\n",
       "      <th>DTE</th>\n",
       "      <th>Bid</th>\n",
       "      <th>Midpoint</th>\n",
       "      <th>Ask</th>\n",
       "      <th>Last</th>\n",
       "      <th>Volume</th>\n",
       "      <th>Open Int</th>\n",
       "      <th>OI Chg</th>\n",
       "      <th>IV</th>\n",
       "      <th>Time</th>\n",
       "    </tr>\n",
       "  </thead>\n",
       "  <tbody>\n",
       "    <tr>\n",
       "      <th>1907</th>\n",
       "      <td>AA</td>\n",
       "      <td>Put</td>\n",
       "      <td>43.0</td>\n",
       "      <td>2022-09-16</td>\n",
       "      <td>2.0</td>\n",
       "      <td>0.40</td>\n",
       "      <td>0.43</td>\n",
       "      <td>0.45</td>\n",
       "      <td>0.41</td>\n",
       "      <td>600.0</td>\n",
       "      <td>188.0</td>\n",
       "      <td>-19</td>\n",
       "      <td>83.62%</td>\n",
       "      <td>2022-09-14</td>\n",
       "    </tr>\n",
       "    <tr>\n",
       "      <th>1839</th>\n",
       "      <td>AA</td>\n",
       "      <td>Put</td>\n",
       "      <td>45.0</td>\n",
       "      <td>2022-09-16</td>\n",
       "      <td>2.0</td>\n",
       "      <td>1.16</td>\n",
       "      <td>1.20</td>\n",
       "      <td>1.24</td>\n",
       "      <td>1.19</td>\n",
       "      <td>1360.0</td>\n",
       "      <td>2098.0</td>\n",
       "      <td>-27</td>\n",
       "      <td>82.53%</td>\n",
       "      <td>2022-09-14</td>\n",
       "    </tr>\n",
       "    <tr>\n",
       "      <th>159</th>\n",
       "      <td>AAL</td>\n",
       "      <td>Put</td>\n",
       "      <td>14.0</td>\n",
       "      <td>2022-09-16</td>\n",
       "      <td>2.0</td>\n",
       "      <td>0.23</td>\n",
       "      <td>0.24</td>\n",
       "      <td>0.25</td>\n",
       "      <td>0.24</td>\n",
       "      <td>1931.0</td>\n",
       "      <td>16516.0</td>\n",
       "      <td>+2,156</td>\n",
       "      <td>61.74%</td>\n",
       "      <td>2022-09-14</td>\n",
       "    </tr>\n",
       "    <tr>\n",
       "      <th>112</th>\n",
       "      <td>AAPL</td>\n",
       "      <td>Put</td>\n",
       "      <td>147.0</td>\n",
       "      <td>2022-09-16</td>\n",
       "      <td>2.0</td>\n",
       "      <td>0.10</td>\n",
       "      <td>0.11</td>\n",
       "      <td>0.11</td>\n",
       "      <td>0.11</td>\n",
       "      <td>25360.0</td>\n",
       "      <td>18623.0</td>\n",
       "      <td>+2,786</td>\n",
       "      <td>46.11%</td>\n",
       "      <td>2022-09-14</td>\n",
       "    </tr>\n",
       "    <tr>\n",
       "      <th>117</th>\n",
       "      <td>AAPL</td>\n",
       "      <td>Put</td>\n",
       "      <td>148.0</td>\n",
       "      <td>2022-09-16</td>\n",
       "      <td>2.0</td>\n",
       "      <td>0.14</td>\n",
       "      <td>0.15</td>\n",
       "      <td>0.15</td>\n",
       "      <td>0.14</td>\n",
       "      <td>10389.0</td>\n",
       "      <td>5922.0</td>\n",
       "      <td>+2,731</td>\n",
       "      <td>43.82%</td>\n",
       "      <td>2022-09-14</td>\n",
       "    </tr>\n",
       "  </tbody>\n",
       "</table>\n",
       "</div>"
      ],
      "text/plain": [
       "     Symbol Type  Strike    Exp Date  DTE   Bid  Midpoint   Ask  Last  \\\n",
       "1907     AA  Put    43.0  2022-09-16  2.0  0.40      0.43  0.45  0.41   \n",
       "1839     AA  Put    45.0  2022-09-16  2.0  1.16      1.20  1.24  1.19   \n",
       "159     AAL  Put    14.0  2022-09-16  2.0  0.23      0.24  0.25  0.24   \n",
       "112    AAPL  Put   147.0  2022-09-16  2.0  0.10      0.11  0.11  0.11   \n",
       "117    AAPL  Put   148.0  2022-09-16  2.0  0.14      0.15  0.15  0.14   \n",
       "\n",
       "       Volume  Open Int  OI Chg      IV        Time  \n",
       "1907    600.0     188.0     -19  83.62%  2022-09-14  \n",
       "1839   1360.0    2098.0     -27  82.53%  2022-09-14  \n",
       "159    1931.0   16516.0  +2,156  61.74%  2022-09-14  \n",
       "112   25360.0   18623.0  +2,786  46.11%  2022-09-14  \n",
       "117   10389.0    5922.0  +2,731  43.82%  2022-09-14  "
      ]
     },
     "execution_count": 75,
     "metadata": {},
     "output_type": "execute_result"
    }
   ],
   "source": [
    "puts = df[df['Type'] == 'Put'].drop(columns='Price')\n",
    "puts.head()"
   ]
  },
  {
   "cell_type": "code",
   "execution_count": null,
   "metadata": {},
   "outputs": [],
   "source": []
  },
  {
   "cell_type": "code",
   "execution_count": 76,
   "metadata": {},
   "outputs": [],
   "source": [
    "df = get_data(date)\n",
    "\n",
    "\n",
    "calls = df[df['Type'] == 'Call'].drop(columns='Price')\n",
    "puts = df[df['Type'] == 'Put'].drop(columns='Price')\n"
   ]
  },
  {
   "cell_type": "code",
   "execution_count": 77,
   "metadata": {},
   "outputs": [
    {
     "data": {
      "text/html": [
       "<div>\n",
       "<style scoped>\n",
       "    .dataframe tbody tr th:only-of-type {\n",
       "        vertical-align: middle;\n",
       "    }\n",
       "\n",
       "    .dataframe tbody tr th {\n",
       "        vertical-align: top;\n",
       "    }\n",
       "\n",
       "    .dataframe thead th {\n",
       "        text-align: right;\n",
       "    }\n",
       "</style>\n",
       "<table border=\"1\" class=\"dataframe\">\n",
       "  <thead>\n",
       "    <tr style=\"text-align: right;\">\n",
       "      <th></th>\n",
       "      <th>Open Int</th>\n",
       "    </tr>\n",
       "  </thead>\n",
       "  <tbody>\n",
       "    <tr>\n",
       "      <th>count</th>\n",
       "      <td>200.000000</td>\n",
       "    </tr>\n",
       "    <tr>\n",
       "      <th>mean</th>\n",
       "      <td>12447.475000</td>\n",
       "    </tr>\n",
       "    <tr>\n",
       "      <th>std</th>\n",
       "      <td>19423.264746</td>\n",
       "    </tr>\n",
       "    <tr>\n",
       "      <th>min</th>\n",
       "      <td>484.000000</td>\n",
       "    </tr>\n",
       "    <tr>\n",
       "      <th>25%</th>\n",
       "      <td>2447.500000</td>\n",
       "    </tr>\n",
       "    <tr>\n",
       "      <th>50%</th>\n",
       "      <td>5785.000000</td>\n",
       "    </tr>\n",
       "    <tr>\n",
       "      <th>75%</th>\n",
       "      <td>14204.750000</td>\n",
       "    </tr>\n",
       "    <tr>\n",
       "      <th>max</th>\n",
       "      <td>147818.000000</td>\n",
       "    </tr>\n",
       "  </tbody>\n",
       "</table>\n",
       "</div>"
      ],
      "text/plain": [
       "            Open Int\n",
       "count     200.000000\n",
       "mean    12447.475000\n",
       "std     19423.264746\n",
       "min       484.000000\n",
       "25%      2447.500000\n",
       "50%      5785.000000\n",
       "75%     14204.750000\n",
       "max    147818.000000"
      ]
     },
     "execution_count": 77,
     "metadata": {},
     "output_type": "execute_result"
    }
   ],
   "source": [
    "# Gets data via DataFrame. \n",
    "df = df\n",
    "\n",
    "\n",
    "puts = df[df['Type'] == 'Put'].drop(columns='Price')\n",
    "\n",
    "\n",
    "puts['CnP'] = puts.groupby('Symbol')['Open Int'].transform('sum')\n",
    "\n",
    "\n",
    "tmp = puts.sort_values(by= 'CnP', ascending=False)\n",
    "\n",
    "\n",
    "tmp_top20 = tmp.groupby('Symbol').agg({'Open Int':'sum'}).sort_values(by= 'Open Int', ascending= False).iloc[:20]\n",
    "\n",
    "\n",
    "top20_puts = tmp[tmp.Symbol.isin(tmp_top20.index)]\\\n",
    ".sort_values(['Symbol','Type','Strike','Open Int'])[['Symbol','Type','Strike','Open Int']]\\\n",
    ".set_index(['Symbol','Type','Strike'])\n",
    "\n",
    "top20_puts.describe()\n"
   ]
  },
  {
   "cell_type": "code",
   "execution_count": null,
   "metadata": {},
   "outputs": [],
   "source": []
  },
  {
   "cell_type": "code",
   "execution_count": null,
   "metadata": {},
   "outputs": [],
   "source": []
  },
  {
   "cell_type": "code",
   "execution_count": null,
   "metadata": {},
   "outputs": [],
   "source": []
  },
  {
   "cell_type": "code",
   "execution_count": null,
   "metadata": {},
   "outputs": [],
   "source": [
    "\n"
   ]
  },
  {
   "cell_type": "code",
   "execution_count": null,
   "metadata": {},
   "outputs": [],
   "source": [
    "\n",
    "\n"
   ]
  },
  {
   "cell_type": "code",
   "execution_count": null,
   "metadata": {},
   "outputs": [],
   "source": [
    "\n"
   ]
  }
 ],
 "metadata": {
  "kernelspec": {
   "display_name": "Python 3.7.13 ('dev')",
   "language": "python",
   "name": "python3"
  },
  "language_info": {
   "codemirror_mode": {
    "name": "ipython",
    "version": 3
   },
   "file_extension": ".py",
   "mimetype": "text/x-python",
   "name": "python",
   "nbconvert_exporter": "python",
   "pygments_lexer": "ipython3",
   "version": "3.7.13"
  },
  "orig_nbformat": 4,
  "vscode": {
   "interpreter": {
    "hash": "c15db3377afa3dcb659dfa4a45bef3fc6c9aec87eaa6dcb1828c53c173a1512b"
   }
  }
 },
 "nbformat": 4,
 "nbformat_minor": 2
}
