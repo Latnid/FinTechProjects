{
 "cells": [
  {
   "cell_type": "code",
   "execution_count": 46,
   "metadata": {},
   "outputs": [],
   "source": [
    "import fire\n",
    "import os\n",
    "import requests\n",
    "import pandas as pd\n",
    "from dotenv import load_dotenv\n",
    "load_dotenv()\n",
    "import numpy as np\n",
    "import alpaca_trade_api as alpaca\n",
    "import questionary\n",
    "import hvplot.pandas\n",
    "\n",
    "from qualifier.utils.alpaca_api import alpaca_func\n",
    "\n",
    "from qualifier.utils.analysis import largest_25_OI\n",
    "from qualifier.utils.analysis import options_call_bar\n",
    "from qualifier.utils.analysis import options_put_bar\n",
    "from qualifier.utils.analysis import put_stats\n",
    "from qualifier.utils.analysis import call_stats\n",
    "from qualifier.utils.analysis import ticker_report\n",
    "\n",
    "from Modules.CleanData import get_data\n",
    "from qualifier.utils.SQL import add_new_table"
   ]
  },
  {
   "cell_type": "markdown",
   "metadata": {},
   "source": [
    "# Alpaca API"
   ]
  },
  {
   "cell_type": "code",
   "execution_count": 47,
   "metadata": {},
   "outputs": [],
   "source": [
    "# Gets Alpaca key and secret from .env.\n",
    "alpaca_key = os.getenv(\"ALPACA_API_KEY\")\n",
    "alpaca_secret = os.getenv(\"ALPACA_SECRET_KEY\")\n",
    "\n",
    "# Specify dates for Alpaca API.\n",
    "start_date = \"2022-09-16\"\n",
    "end_date = start_date\n",
    "\n",
    "# Specify ticker of stock to get info from Alpaca API.\n",
    "stock = \"AAPL\""
   ]
  },
  {
   "cell_type": "code",
   "execution_count": 48,
   "metadata": {},
   "outputs": [
    {
     "data": {
      "text/html": [
       "<div>\n",
       "<style scoped>\n",
       "    .dataframe tbody tr th:only-of-type {\n",
       "        vertical-align: middle;\n",
       "    }\n",
       "\n",
       "    .dataframe tbody tr th {\n",
       "        vertical-align: top;\n",
       "    }\n",
       "\n",
       "    .dataframe thead th {\n",
       "        text-align: right;\n",
       "    }\n",
       "</style>\n",
       "<table border=\"1\" class=\"dataframe\">\n",
       "  <thead>\n",
       "    <tr style=\"text-align: right;\">\n",
       "      <th></th>\n",
       "      <th>open</th>\n",
       "      <th>high</th>\n",
       "      <th>low</th>\n",
       "      <th>close</th>\n",
       "      <th>volume</th>\n",
       "      <th>trade_count</th>\n",
       "      <th>vwap</th>\n",
       "    </tr>\n",
       "    <tr>\n",
       "      <th>timestamp</th>\n",
       "      <th></th>\n",
       "      <th></th>\n",
       "      <th></th>\n",
       "      <th></th>\n",
       "      <th></th>\n",
       "      <th></th>\n",
       "      <th></th>\n",
       "    </tr>\n",
       "  </thead>\n",
       "  <tbody>\n",
       "    <tr>\n",
       "      <th>2022-09-16 04:00:00+00:00</th>\n",
       "      <td>151.33</td>\n",
       "      <td>151.35</td>\n",
       "      <td>148.37</td>\n",
       "      <td>150.7</td>\n",
       "      <td>163574426</td>\n",
       "      <td>850046</td>\n",
       "      <td>150.227405</td>\n",
       "    </tr>\n",
       "  </tbody>\n",
       "</table>\n",
       "</div>"
      ],
      "text/plain": [
       "                             open    high     low  close     volume  \\\n",
       "timestamp                                                             \n",
       "2022-09-16 04:00:00+00:00  151.33  151.35  148.37  150.7  163574426   \n",
       "\n",
       "                           trade_count        vwap  \n",
       "timestamp                                           \n",
       "2022-09-16 04:00:00+00:00       850046  150.227405  "
      ]
     },
     "execution_count": 48,
     "metadata": {},
     "output_type": "execute_result"
    }
   ],
   "source": [
    "# Calling alpaca_func\n",
    "alpaca_func(alpaca_key, alpaca_secret, start_date, end_date, stock)"
   ]
  },
  {
   "cell_type": "markdown",
   "metadata": {},
   "source": [
    "# Tao's Code"
   ]
  },
  {
   "cell_type": "code",
   "execution_count": 49,
   "metadata": {},
   "outputs": [],
   "source": [
    "# Specify date for Tao's code.\n",
    "# Tao's code takes year at the end.\n",
    "\n",
    "date = \"09-16-2022\""
   ]
  },
  {
   "cell_type": "code",
   "execution_count": 50,
   "metadata": {},
   "outputs": [],
   "source": [
    "# Calling get_data()\n",
    "df = get_data(date)\n"
   ]
  },
  {
   "cell_type": "code",
   "execution_count": 51,
   "metadata": {},
   "outputs": [
    {
     "data": {},
     "metadata": {},
     "output_type": "display_data"
    },
    {
     "data": {
      "application/vnd.holoviews_exec.v0+json": "",
      "text/html": [
       "<div id='1835'>\n",
       "  <div class=\"bk-root\" id=\"a5a829a7-2527-4f75-85ae-b4fe1d1fec9f\" data-root-id=\"1835\"></div>\n",
       "</div>\n",
       "<script type=\"application/javascript\">(function(root) {\n",
       "  function embed_document(root) {\n",
       "    var docs_json = {\"1586ea7f-f406-4de5-a480-0dabd2db28ea\":{\"defs\":[{\"extends\":null,\"module\":null,\"name\":\"ReactiveHTML1\",\"overrides\":[],\"properties\":[]},{\"extends\":null,\"module\":null,\"name\":\"FlexBox1\",\"overrides\":[],\"properties\":[{\"default\":\"flex-start\",\"kind\":null,\"name\":\"align_content\"},{\"default\":\"flex-start\",\"kind\":null,\"name\":\"align_items\"},{\"default\":\"row\",\"kind\":null,\"name\":\"flex_direction\"},{\"default\":\"wrap\",\"kind\":null,\"name\":\"flex_wrap\"},{\"default\":\"flex-start\",\"kind\":null,\"name\":\"justify_content\"}]},{\"extends\":null,\"module\":null,\"name\":\"GridStack1\",\"overrides\":[],\"properties\":[{\"default\":\"warn\",\"kind\":null,\"name\":\"mode\"},{\"default\":null,\"kind\":null,\"name\":\"ncols\"},{\"default\":null,\"kind\":null,\"name\":\"nrows\"},{\"default\":true,\"kind\":null,\"name\":\"allow_resize\"},{\"default\":true,\"kind\":null,\"name\":\"allow_drag\"},{\"default\":[],\"kind\":null,\"name\":\"state\"}]},{\"extends\":null,\"module\":null,\"name\":\"click1\",\"overrides\":[],\"properties\":[{\"default\":\"\",\"kind\":null,\"name\":\"terminal_output\"},{\"default\":\"\",\"kind\":null,\"name\":\"debug_name\"},{\"default\":0,\"kind\":null,\"name\":\"clears\"}]},{\"extends\":null,\"module\":null,\"name\":\"NotificationAreaBase1\",\"overrides\":[],\"properties\":[{\"default\":\"bottom-right\",\"kind\":null,\"name\":\"position\"},{\"default\":0,\"kind\":null,\"name\":\"_clear\"}]},{\"extends\":null,\"module\":null,\"name\":\"NotificationArea1\",\"overrides\":[],\"properties\":[{\"default\":[],\"kind\":null,\"name\":\"notifications\"},{\"default\":\"bottom-right\",\"kind\":null,\"name\":\"position\"},{\"default\":0,\"kind\":null,\"name\":\"_clear\"},{\"default\":[{\"background\":\"#ffc107\",\"icon\":{\"className\":\"fas fa-exclamation-triangle\",\"color\":\"white\",\"tagName\":\"i\"},\"type\":\"warning\"},{\"background\":\"#007bff\",\"icon\":{\"className\":\"fas fa-info-circle\",\"color\":\"white\",\"tagName\":\"i\"},\"type\":\"info\"}],\"kind\":null,\"name\":\"types\"}]},{\"extends\":null,\"module\":null,\"name\":\"Notification\",\"overrides\":[],\"properties\":[{\"default\":null,\"kind\":null,\"name\":\"background\"},{\"default\":3000,\"kind\":null,\"name\":\"duration\"},{\"default\":null,\"kind\":null,\"name\":\"icon\"},{\"default\":\"\",\"kind\":null,\"name\":\"message\"},{\"default\":null,\"kind\":null,\"name\":\"notification_type\"},{\"default\":false,\"kind\":null,\"name\":\"_destroyed\"}]},{\"extends\":null,\"module\":null,\"name\":\"TemplateActions1\",\"overrides\":[],\"properties\":[{\"default\":0,\"kind\":null,\"name\":\"open_modal\"},{\"default\":0,\"kind\":null,\"name\":\"close_modal\"}]},{\"extends\":null,\"module\":null,\"name\":\"MaterialTemplateActions1\",\"overrides\":[],\"properties\":[{\"default\":0,\"kind\":null,\"name\":\"open_modal\"},{\"default\":0,\"kind\":null,\"name\":\"close_modal\"}]}],\"roots\":{\"references\":[{\"attributes\":{\"axis\":{\"id\":\"1852\"},\"coordinates\":null,\"dimension\":1,\"grid_line_color\":null,\"group\":null,\"ticker\":null},\"id\":\"1855\",\"type\":\"Grid\"},{\"attributes\":{},\"id\":\"1882\",\"type\":\"AllLabels\"},{\"attributes\":{\"fill_color\":{\"field\":\"Type\",\"transform\":{\"id\":\"1869\"}},\"hatch_color\":{\"field\":\"Type\",\"transform\":{\"id\":\"1869\"}},\"top\":{\"field\":\"Open_Int\"},\"width\":{\"value\":0.8},\"x\":{\"field\":\"xoffsets\"}},\"id\":\"1873\",\"type\":\"VBar\"},{\"attributes\":{\"fill_alpha\":{\"value\":0.2},\"fill_color\":{\"field\":\"Type\",\"transform\":{\"id\":\"1869\"}},\"hatch_alpha\":{\"value\":0.2},\"hatch_color\":{\"field\":\"Type\",\"transform\":{\"id\":\"1869\"}},\"line_alpha\":{\"value\":0.2},\"top\":{\"field\":\"Open_Int\"},\"width\":{\"value\":0.8},\"x\":{\"field\":\"xoffsets\"}},\"id\":\"1875\",\"type\":\"VBar\"},{\"attributes\":{},\"id\":\"1885\",\"type\":\"AllLabels\"},{\"attributes\":{},\"id\":\"1857\",\"type\":\"PanTool\"},{\"attributes\":{\"bottom\":{\"value\":0},\"fill_alpha\":{\"value\":1.0},\"fill_color\":{\"field\":\"Type\",\"transform\":{\"id\":\"1869\"}},\"hatch_alpha\":{\"value\":1.0},\"hatch_color\":{\"field\":\"Type\",\"transform\":{\"id\":\"1869\"}},\"hatch_scale\":{\"value\":12.0},\"hatch_weight\":{\"value\":1.0},\"line_alpha\":{\"value\":1.0},\"line_cap\":{\"value\":\"butt\"},\"line_color\":{\"value\":\"black\"},\"line_dash\":{\"value\":[]},\"line_dash_offset\":{\"value\":0},\"line_join\":{\"value\":\"bevel\"},\"line_width\":{\"value\":1},\"top\":{\"field\":\"Open_Int\"},\"width\":{\"value\":0.8},\"x\":{\"field\":\"xoffsets\"}},\"id\":\"1878\",\"type\":\"VBar\"},{\"attributes\":{\"below\":[{\"id\":\"1849\"}],\"center\":[{\"id\":\"1851\"},{\"id\":\"1855\"}],\"height\":500,\"left\":[{\"id\":\"1852\"}],\"margin\":[5,5,5,5],\"min_border_bottom\":10,\"min_border_left\":10,\"min_border_right\":10,\"min_border_top\":10,\"renderers\":[{\"id\":\"1876\"}],\"sizing_mode\":\"fixed\",\"title\":{\"id\":\"1841\"},\"toolbar\":{\"id\":\"1862\"},\"width\":1300,\"x_range\":{\"id\":\"1837\"},\"x_scale\":{\"id\":\"1845\"},\"y_range\":{\"id\":\"1838\"},\"y_scale\":{\"id\":\"1847\"}},\"id\":\"1840\",\"subtype\":\"Figure\",\"type\":\"Plot\"},{\"attributes\":{},\"id\":\"1856\",\"type\":\"SaveTool\"},{\"attributes\":{\"data\":{\"Open_Int\":{\"__ndarray__\":\"AAAAAEjtAUEAAAAAgCnCQAAAAACQePxAAAAAAABx30AAAAAAIJ3rQAAAAACAUcVAAAAAAEC840AAAAAAwJXTQAAAAABgFuFAAAAAAABk3kAAAAAAAOnmQAAAAADAsNNAAAAAAABTuEAAAAAAwPLWQAAAAAAA1rZAAAAAAABxtkAAAAAAwJzfQAAAAAAA1LVAAAAAAADXwEAAAAAAAN+3QAAAAAAAUb9AAAAAAAA6vUAAAAAAAK/TQAAAAAAA6b5AAAAAAABYoEAAAAAAAJyyQAAAAAAA2LhAAAAAAIAtxEAAAAAAgNbCQAAAAABAjNlAAAAAAABn30AAAAAAQEXaQAAAAAAAurlAAAAAAADSxUAAAAAAAAa5QAAAAABA/tRAAAAAAEBj3UAAAAAAAHnUQAAAAAAAc85AAAAAAABgqUAAAAAAAHivQAAAAAAA58BAAAAAAGCH4UAAAAAAANW8QAAAAACApOdAAAAAAABEoEAAAAAAAM/PQAAAAAAAYKpAAAAAAAAhxUAAAAAAgNPDQAAAAACAus1AAAAAAAAvz0AAAAAAALSiQAAAAABAQtJAAAAAAADDukAAAAAAAFWxQAAAAACA+8NAAAAAAAC2vUAAAAAAwHvXQAAAAABAV9FAAAAAAADepUAAAAAAAHPLQAAAAAAAPqhAAAAAAADonUAAAAAAACSTQAAAAACABMZAAAAAAACytUAAAAAAgOXDQAAAAACA7MdAAAAAAADMqkAAAAAAAA6oQAAAAAAA4J9AAAAAAMDN3EAAAAAAAB+xQAAAAAAARbZAAAAAAIDTykAAAAAAAKW1QAAAAADA0eJAAAAAAABomkAAAAAAgPjUQAAAAACAHNNAAAAAAAC4kkAAAAAAgM3bQAAAAAAAIKhAAAAAAABknkAAAAAAAHKkQAAAAACAbMZAAAAAAAB8pUAAAAAAQNnRQAAAAAAA4qlAAAAAAMBa1UAAAAAAADTDQAAAAAAAWJxAAAAAAABGokAAAAAAwKzcQAAAAADA9thAAAAAAIARyUAAAAAAABThQAAAAAAARMxAAAAAAAD500AAAAAAANK9QAAAAAAABMpAAAAAAECS1EAAAAAAAMexQAAAAAAQhvRAAAAAAAACpUAAAAAAgLjeQAAAAAAAwG1AAAAAAADKwkAAAAAAwLLgQAAAAAAAbLJAAAAAAACqq0AAAAAAABqnQAAAAACAvsRAAAAAAAC+o0AAAAAAAKW4QAAAAAAACKZAAAAAAAAuoEAAAAAAALalQAAAAAAAZMBAAAAAAACkn0AAAAAAADSzQAAAAAAASLdAAAAAAIBcykAAAAAAANy8QAAAAAAALrdAAAAAAAB4rkAAAAAAgAnDQAAAAABgR+FAAAAAAAC6zUAAAAAAADnhQAAAAAAAAqhAAAAAAKA+40AAAAAAAAiQQAAAAAAASrFAAAAAAAA6sUAAAAAAAOTSQAAAAAAA+KJAAAAAAIBlxUAAAAAAACrBQAAAAAAAIK9AAAAAAAC/wEAAAAAAAMPRQAAAAAAAVqNAAAAAAACSrUAAAAAAANSnQAAAAAAAkJBAAAAAAABgdUAAAAAAABqxQAAAAAAA8KZAAAAAAAB9tUAAAAAAAPCWQAAAAAAAJJFAAAAAAABIn0AAAAAAALSuQAAAAAAAyKBAAAAAAADAa0AAAAAAAOq7QAAAAAAA/s5AAAAAAEBj2UAAAAAAANy4QAAAAAAA+bhAAAAAAADB1UAAAAAAAIW5QAAAAAAgEeNAAAAAAIC1xUAAAAAAANCVQAAAAAAAwKxAAAAAAACYz0AAAAAAAPKlQAAAAAAAL8xA\",\"dtype\":\"float64\",\"order\":\"little\",\"shape\":[171]},\"Symbol\":[\"F\",\"F\",\"F\",\"AAPL\",\"AAPL\",\"AAPL\",\"AAPL\",\"AAPL\",\"AAPL\",\"AAPL\",\"AMZN\",\"AMZN\",\"AMZN\",\"AMZN\",\"AMZN\",\"AMZN\",\"AMZN\",\"AMZN\",\"AMZN\",\"AMZN\",\"AMZN\",\"AMZN\",\"AMZN\",\"AMZN\",\"TSLA\",\"TSLA\",\"TSLA\",\"TSLA\",\"TSLA\",\"META\",\"META\",\"META\",\"META\",\"META\",\"META\",\"META\",\"AMD\",\"AMD\",\"AMD\",\"AMD\",\"AMD\",\"AMD\",\"BAC\",\"BAC\",\"AAL\",\"AAL\",\"AAL\",\"NIO\",\"NIO\",\"NIO\",\"NIO\",\"MSFT\",\"MSFT\",\"MSFT\",\"MSFT\",\"MSFT\",\"MSFT\",\"MSFT\",\"GOOGL\",\"GOOGL\",\"GOOGL\",\"GOOGL\",\"GOOGL\",\"GOOGL\",\"GOOGL\",\"NVDA\",\"NVDA\",\"NVDA\",\"NVDA\",\"NVDA\",\"NVDA\",\"NVDA\",\"INTC\",\"INTC\",\"INTC\",\"INTC\",\"INTC\",\"T\",\"T\",\"T\",\"BABA\",\"BABA\",\"BABA\",\"BABA\",\"BABA\",\"TWTR\",\"TWTR\",\"TWTR\",\"UBER\",\"CCL\",\"SNAP\",\"SNAP\",\"SBUX\",\"F\",\"F\",\"F\",\"F\",\"AAPL\",\"AAPL\",\"AAPL\",\"AAPL\",\"AAPL\",\"AAPL\",\"AMZN\",\"AMZN\",\"AMZN\",\"AMZN\",\"AMZN\",\"TSLA\",\"TSLA\",\"TSLA\",\"TSLA\",\"TSLA\",\"TSLA\",\"TSLA\",\"TSLA\",\"TSLA\",\"TSLA\",\"TSLA\",\"TSLA\",\"TSLA\",\"TSLA\",\"TSLA\",\"TSLA\",\"TSLA\",\"TSLA\",\"TSLA\",\"TSLA\",\"TSLA\",\"TSLA\",\"TSLA\",\"TSLA\",\"TSLA\",\"META\",\"AMD\",\"AMD\",\"BAC\",\"BAC\",\"BAC\",\"BAC\",\"AAL\",\"AAL\",\"NIO\",\"NIO\",\"NIO\",\"NIO\",\"NIO\",\"GOOGL\",\"NVDA\",\"NVDA\",\"NVDA\",\"NVDA\",\"NVDA\",\"NVDA\",\"INTC\",\"INTC\",\"BABA\",\"BABA\",\"TWTR\",\"TWTR\",\"UBER\",\"UBER\",\"UBER\",\"CCL\",\"CCL\",\"SNAP\",\"SNAP\",\"SBUX\",\"SBUX\",\"SBUX\",\"SBUX\"],\"Type\":[\"Put\",\"Put\",\"Put\",\"Put\",\"Put\",\"Put\",\"Put\",\"Put\",\"Put\",\"Put\",\"Put\",\"Put\",\"Put\",\"Put\",\"Put\",\"Put\",\"Put\",\"Put\",\"Put\",\"Put\",\"Put\",\"Put\",\"Put\",\"Put\",\"Put\",\"Put\",\"Put\",\"Put\",\"Put\",\"Put\",\"Put\",\"Put\",\"Put\",\"Put\",\"Put\",\"Put\",\"Put\",\"Put\",\"Put\",\"Put\",\"Put\",\"Put\",\"Put\",\"Put\",\"Put\",\"Put\",\"Put\",\"Put\",\"Put\",\"Put\",\"Put\",\"Put\",\"Put\",\"Put\",\"Put\",\"Put\",\"Put\",\"Put\",\"Put\",\"Put\",\"Put\",\"Put\",\"Put\",\"Put\",\"Put\",\"Put\",\"Put\",\"Put\",\"Put\",\"Put\",\"Put\",\"Put\",\"Put\",\"Put\",\"Put\",\"Put\",\"Put\",\"Put\",\"Put\",\"Put\",\"Put\",\"Put\",\"Put\",\"Put\",\"Put\",\"Put\",\"Put\",\"Put\",\"Put\",\"Put\",\"Put\",\"Put\",\"Put\",\"Call\",\"Call\",\"Call\",\"Call\",\"Call\",\"Call\",\"Call\",\"Call\",\"Call\",\"Call\",\"Call\",\"Call\",\"Call\",\"Call\",\"Call\",\"Call\",\"Call\",\"Call\",\"Call\",\"Call\",\"Call\",\"Call\",\"Call\",\"Call\",\"Call\",\"Call\",\"Call\",\"Call\",\"Call\",\"Call\",\"Call\",\"Call\",\"Call\",\"Call\",\"Call\",\"Call\",\"Call\",\"Call\",\"Call\",\"Call\",\"Call\",\"Call\",\"Call\",\"Call\",\"Call\",\"Call\",\"Call\",\"Call\",\"Call\",\"Call\",\"Call\",\"Call\",\"Call\",\"Call\",\"Call\",\"Call\",\"Call\",\"Call\",\"Call\",\"Call\",\"Call\",\"Call\",\"Call\",\"Call\",\"Call\",\"Call\",\"Call\",\"Call\",\"Call\",\"Call\",\"Call\",\"Call\",\"Call\",\"Call\",\"Call\",\"Call\",\"Call\",\"Call\"],\"xoffsets\":[[\"F\",\"Put\"],[\"F\",\"Put\"],[\"F\",\"Put\"],[\"AAPL\",\"Put\"],[\"AAPL\",\"Put\"],[\"AAPL\",\"Put\"],[\"AAPL\",\"Put\"],[\"AAPL\",\"Put\"],[\"AAPL\",\"Put\"],[\"AAPL\",\"Put\"],[\"AMZN\",\"Put\"],[\"AMZN\",\"Put\"],[\"AMZN\",\"Put\"],[\"AMZN\",\"Put\"],[\"AMZN\",\"Put\"],[\"AMZN\",\"Put\"],[\"AMZN\",\"Put\"],[\"AMZN\",\"Put\"],[\"AMZN\",\"Put\"],[\"AMZN\",\"Put\"],[\"AMZN\",\"Put\"],[\"AMZN\",\"Put\"],[\"AMZN\",\"Put\"],[\"AMZN\",\"Put\"],[\"TSLA\",\"Put\"],[\"TSLA\",\"Put\"],[\"TSLA\",\"Put\"],[\"TSLA\",\"Put\"],[\"TSLA\",\"Put\"],[\"META\",\"Put\"],[\"META\",\"Put\"],[\"META\",\"Put\"],[\"META\",\"Put\"],[\"META\",\"Put\"],[\"META\",\"Put\"],[\"META\",\"Put\"],[\"AMD\",\"Put\"],[\"AMD\",\"Put\"],[\"AMD\",\"Put\"],[\"AMD\",\"Put\"],[\"AMD\",\"Put\"],[\"AMD\",\"Put\"],[\"BAC\",\"Put\"],[\"BAC\",\"Put\"],[\"AAL\",\"Put\"],[\"AAL\",\"Put\"],[\"AAL\",\"Put\"],[\"NIO\",\"Put\"],[\"NIO\",\"Put\"],[\"NIO\",\"Put\"],[\"NIO\",\"Put\"],[\"MSFT\",\"Put\"],[\"MSFT\",\"Put\"],[\"MSFT\",\"Put\"],[\"MSFT\",\"Put\"],[\"MSFT\",\"Put\"],[\"MSFT\",\"Put\"],[\"MSFT\",\"Put\"],[\"GOOGL\",\"Put\"],[\"GOOGL\",\"Put\"],[\"GOOGL\",\"Put\"],[\"GOOGL\",\"Put\"],[\"GOOGL\",\"Put\"],[\"GOOGL\",\"Put\"],[\"GOOGL\",\"Put\"],[\"NVDA\",\"Put\"],[\"NVDA\",\"Put\"],[\"NVDA\",\"Put\"],[\"NVDA\",\"Put\"],[\"NVDA\",\"Put\"],[\"NVDA\",\"Put\"],[\"NVDA\",\"Put\"],[\"INTC\",\"Put\"],[\"INTC\",\"Put\"],[\"INTC\",\"Put\"],[\"INTC\",\"Put\"],[\"INTC\",\"Put\"],[\"T\",\"Put\"],[\"T\",\"Put\"],[\"T\",\"Put\"],[\"BABA\",\"Put\"],[\"BABA\",\"Put\"],[\"BABA\",\"Put\"],[\"BABA\",\"Put\"],[\"BABA\",\"Put\"],[\"TWTR\",\"Put\"],[\"TWTR\",\"Put\"],[\"TWTR\",\"Put\"],[\"UBER\",\"Put\"],[\"CCL\",\"Put\"],[\"SNAP\",\"Put\"],[\"SNAP\",\"Put\"],[\"SBUX\",\"Put\"],[\"F\",\"Call\"],[\"F\",\"Call\"],[\"F\",\"Call\"],[\"F\",\"Call\"],[\"AAPL\",\"Call\"],[\"AAPL\",\"Call\"],[\"AAPL\",\"Call\"],[\"AAPL\",\"Call\"],[\"AAPL\",\"Call\"],[\"AAPL\",\"Call\"],[\"AMZN\",\"Call\"],[\"AMZN\",\"Call\"],[\"AMZN\",\"Call\"],[\"AMZN\",\"Call\"],[\"AMZN\",\"Call\"],[\"TSLA\",\"Call\"],[\"TSLA\",\"Call\"],[\"TSLA\",\"Call\"],[\"TSLA\",\"Call\"],[\"TSLA\",\"Call\"],[\"TSLA\",\"Call\"],[\"TSLA\",\"Call\"],[\"TSLA\",\"Call\"],[\"TSLA\",\"Call\"],[\"TSLA\",\"Call\"],[\"TSLA\",\"Call\"],[\"TSLA\",\"Call\"],[\"TSLA\",\"Call\"],[\"TSLA\",\"Call\"],[\"TSLA\",\"Call\"],[\"TSLA\",\"Call\"],[\"TSLA\",\"Call\"],[\"TSLA\",\"Call\"],[\"TSLA\",\"Call\"],[\"TSLA\",\"Call\"],[\"TSLA\",\"Call\"],[\"TSLA\",\"Call\"],[\"TSLA\",\"Call\"],[\"TSLA\",\"Call\"],[\"TSLA\",\"Call\"],[\"META\",\"Call\"],[\"AMD\",\"Call\"],[\"AMD\",\"Call\"],[\"BAC\",\"Call\"],[\"BAC\",\"Call\"],[\"BAC\",\"Call\"],[\"BAC\",\"Call\"],[\"AAL\",\"Call\"],[\"AAL\",\"Call\"],[\"NIO\",\"Call\"],[\"NIO\",\"Call\"],[\"NIO\",\"Call\"],[\"NIO\",\"Call\"],[\"NIO\",\"Call\"],[\"GOOGL\",\"Call\"],[\"NVDA\",\"Call\"],[\"NVDA\",\"Call\"],[\"NVDA\",\"Call\"],[\"NVDA\",\"Call\"],[\"NVDA\",\"Call\"],[\"NVDA\",\"Call\"],[\"INTC\",\"Call\"],[\"INTC\",\"Call\"],[\"BABA\",\"Call\"],[\"BABA\",\"Call\"],[\"TWTR\",\"Call\"],[\"TWTR\",\"Call\"],[\"UBER\",\"Call\"],[\"UBER\",\"Call\"],[\"UBER\",\"Call\"],[\"CCL\",\"Call\"],[\"CCL\",\"Call\"],[\"SNAP\",\"Call\"],[\"SNAP\",\"Call\"],[\"SBUX\",\"Call\"],[\"SBUX\",\"Call\"],[\"SBUX\",\"Call\"],[\"SBUX\",\"Call\"]]},\"selected\":{\"id\":\"1871\"},\"selection_policy\":{\"id\":\"1894\"}},\"id\":\"1870\",\"type\":\"ColumnDataSource\"},{\"attributes\":{\"callback\":null,\"renderers\":[{\"id\":\"1876\"}],\"tags\":[\"hv_created\"],\"tooltips\":[[\"Symbol\",\"@{Symbol}\"],[\"Type\",\"@{Type}\"],[\"Open Int\",\"@{Open_Int}\"]]},\"id\":\"1839\",\"type\":\"HoverTool\"},{\"attributes\":{\"format\":\"%0f\"},\"id\":\"1879\",\"type\":\"PrintfTickFormatter\"},{\"attributes\":{\"factors\":[[\"F\",\"Call\"],[\"F\",\"Put\"],[\"AAPL\",\"Call\"],[\"AAPL\",\"Put\"],[\"AMZN\",\"Call\"],[\"AMZN\",\"Put\"],[\"TSLA\",\"Call\"],[\"TSLA\",\"Put\"],[\"META\",\"Call\"],[\"META\",\"Put\"],[\"AMD\",\"Call\"],[\"AMD\",\"Put\"],[\"BAC\",\"Call\"],[\"BAC\",\"Put\"],[\"AAL\",\"Call\"],[\"AAL\",\"Put\"],[\"NIO\",\"Call\"],[\"NIO\",\"Put\"],[\"MSFT\",\"Call\"],[\"MSFT\",\"Put\"],[\"GOOGL\",\"Call\"],[\"GOOGL\",\"Put\"],[\"NVDA\",\"Call\"],[\"NVDA\",\"Put\"],[\"INTC\",\"Call\"],[\"INTC\",\"Put\"],[\"T\",\"Call\"],[\"T\",\"Put\"],[\"BABA\",\"Call\"],[\"BABA\",\"Put\"],[\"TWTR\",\"Call\"],[\"TWTR\",\"Put\"],[\"UBER\",\"Call\"],[\"UBER\",\"Put\"],[\"CCL\",\"Call\"],[\"CCL\",\"Put\"],[\"SNAP\",\"Call\"],[\"SNAP\",\"Put\"],[\"SBUX\",\"Call\"],[\"SBUX\",\"Put\"]],\"tags\":[[[\"Symbol\",\"Symbol\",null],[\"Type\",\"Type\",null]]]},\"id\":\"1837\",\"type\":\"FactorRange\"},{\"attributes\":{\"tools\":[{\"id\":\"1839\"},{\"id\":\"1856\"},{\"id\":\"1857\"},{\"id\":\"1858\"},{\"id\":\"1859\"},{\"id\":\"1860\"}]},\"id\":\"1862\",\"type\":\"Toolbar\"},{\"attributes\":{\"overlay\":{\"id\":\"1861\"}},\"id\":\"1859\",\"type\":\"BoxZoomTool\"},{\"attributes\":{},\"id\":\"1858\",\"type\":\"WheelZoomTool\"},{\"attributes\":{\"margin\":[5,5,5,5],\"name\":\"HSpacer02834\",\"sizing_mode\":\"stretch_width\"},\"id\":\"1897\",\"type\":\"Spacer\"},{\"attributes\":{},\"id\":\"1871\",\"type\":\"Selection\"},{\"attributes\":{\"fill_alpha\":{\"value\":0.1},\"fill_color\":{\"field\":\"Type\",\"transform\":{\"id\":\"1869\"}},\"hatch_alpha\":{\"value\":0.1},\"hatch_color\":{\"field\":\"Type\",\"transform\":{\"id\":\"1869\"}},\"line_alpha\":{\"value\":0.1},\"top\":{\"field\":\"Open_Int\"},\"width\":{\"value\":0.8},\"x\":{\"field\":\"xoffsets\"}},\"id\":\"1874\",\"type\":\"VBar\"},{\"attributes\":{\"coordinates\":null,\"group\":null,\"text\":\"Tickers Call / Put Open Interests comparison\",\"text_color\":\"black\",\"text_font_size\":\"12pt\"},\"id\":\"1841\",\"type\":\"Title\"},{\"attributes\":{\"axis_label\":\"Open Interests\",\"coordinates\":null,\"formatter\":{\"id\":\"1879\"},\"group\":null,\"major_label_policy\":{\"id\":\"1885\"},\"ticker\":{\"id\":\"1853\"}},\"id\":\"1852\",\"type\":\"LinearAxis\"},{\"attributes\":{},\"id\":\"1894\",\"type\":\"UnionRenderers\"},{\"attributes\":{\"bottom_units\":\"screen\",\"coordinates\":null,\"fill_alpha\":0.5,\"fill_color\":\"lightgrey\",\"group\":null,\"left_units\":\"screen\",\"level\":\"overlay\",\"line_alpha\":1.0,\"line_color\":\"black\",\"line_dash\":[4,4],\"line_width\":2,\"right_units\":\"screen\",\"syncable\":false,\"top_units\":\"screen\"},\"id\":\"1861\",\"type\":\"BoxAnnotation\"},{\"attributes\":{},\"id\":\"1845\",\"type\":\"CategoricalScale\"},{\"attributes\":{\"coordinates\":null,\"data_source\":{\"id\":\"1870\"},\"glyph\":{\"id\":\"1873\"},\"group\":null,\"hover_glyph\":null,\"muted_glyph\":{\"id\":\"1875\"},\"nonselection_glyph\":{\"id\":\"1874\"},\"selection_glyph\":{\"id\":\"1878\"},\"view\":{\"id\":\"1877\"}},\"id\":\"1876\",\"type\":\"GlyphRenderer\"},{\"attributes\":{},\"id\":\"1853\",\"type\":\"BasicTicker\"},{\"attributes\":{\"children\":[{\"id\":\"1836\"},{\"id\":\"1840\"},{\"id\":\"1897\"}],\"margin\":[0,0,0,0],\"name\":\"Row02829\",\"tags\":[\"embedded\"]},\"id\":\"1835\",\"type\":\"Row\"},{\"attributes\":{\"end\":161520.5,\"reset_end\":161520.5,\"reset_start\":0.0,\"tags\":[[[\"Open Int\",\"Open Int\",null]]]},\"id\":\"1838\",\"type\":\"Range1d\"},{\"attributes\":{\"axis\":{\"id\":\"1849\"},\"coordinates\":null,\"grid_line_color\":null,\"group\":null,\"ticker\":null},\"id\":\"1851\",\"type\":\"Grid\"},{\"attributes\":{},\"id\":\"1860\",\"type\":\"ResetTool\"},{\"attributes\":{\"source\":{\"id\":\"1870\"}},\"id\":\"1877\",\"type\":\"CDSView\"},{\"attributes\":{\"margin\":[5,5,5,5],\"name\":\"HSpacer02833\",\"sizing_mode\":\"stretch_width\"},\"id\":\"1836\",\"type\":\"Spacer\"},{\"attributes\":{},\"id\":\"1850\",\"type\":\"CategoricalTicker\"},{\"attributes\":{\"axis_label\":\"Tickers by Call and Put\",\"coordinates\":null,\"formatter\":{\"id\":\"1881\"},\"group\":null,\"major_label_orientation\":0.7853981633974483,\"major_label_policy\":{\"id\":\"1882\"},\"ticker\":{\"id\":\"1850\"}},\"id\":\"1849\",\"type\":\"CategoricalAxis\"},{\"attributes\":{},\"id\":\"1881\",\"type\":\"CategoricalTickFormatter\"},{\"attributes\":{\"factors\":[\"Put\",\"Call\"],\"palette\":[\"#30a2da\",\"#fc4f30\"]},\"id\":\"1869\",\"type\":\"CategoricalColorMapper\"},{\"attributes\":{},\"id\":\"1847\",\"type\":\"LinearScale\"}],\"root_ids\":[\"1835\"]},\"title\":\"Bokeh Application\",\"version\":\"2.4.3\"}};\n",
       "    var render_items = [{\"docid\":\"1586ea7f-f406-4de5-a480-0dabd2db28ea\",\"root_ids\":[\"1835\"],\"roots\":{\"1835\":\"a5a829a7-2527-4f75-85ae-b4fe1d1fec9f\"}}];\n",
       "    root.Bokeh.embed.embed_items_notebook(docs_json, render_items);\n",
       "  }\n",
       "  if (root.Bokeh !== undefined && root.Bokeh.Panel !== undefined) {\n",
       "    embed_document(root);\n",
       "  } else {\n",
       "    var attempts = 0;\n",
       "    var timer = setInterval(function(root) {\n",
       "      if (root.Bokeh !== undefined && root.Bokeh.Panel !== undefined) {\n",
       "        clearInterval(timer);\n",
       "        embed_document(root);\n",
       "      } else if (document.readyState == \"complete\") {\n",
       "        attempts++;\n",
       "        if (attempts > 200) {\n",
       "          clearInterval(timer);\n",
       "          console.log(\"Bokeh: ERROR: Unable to run BokehJS code because BokehJS library is missing\");\n",
       "        }\n",
       "      }\n",
       "    }, 25, root)\n",
       "  }\n",
       "})(window);</script>"
      ],
      "text/plain": [
       ":Bars   [Symbol,Type]   (Open Int)"
      ]
     },
     "execution_count": 51,
     "metadata": {
      "application/vnd.holoviews_exec.v0+json": {
       "id": "1835"
      }
     },
     "output_type": "execute_result"
    }
   ],
   "source": [
    "# Calling largest_25_OI\n",
    "largest_25_OI(df)"
   ]
  },
  {
   "cell_type": "code",
   "execution_count": 52,
   "metadata": {},
   "outputs": [
    {
     "data": {},
     "metadata": {},
     "output_type": "display_data"
    },
    {
     "data": {
      "application/vnd.holoviews_exec.v0+json": "",
      "text/html": [
       "<div id='1944'>\n",
       "  <div class=\"bk-root\" id=\"60edf24a-1b54-4ad1-85b2-a72cff89fd57\" data-root-id=\"1944\"></div>\n",
       "</div>\n",
       "<script type=\"application/javascript\">(function(root) {\n",
       "  function embed_document(root) {\n",
       "    var docs_json = {\"1b738513-cf3d-40bf-b321-e388eaaaae9d\":{\"defs\":[{\"extends\":null,\"module\":null,\"name\":\"ReactiveHTML1\",\"overrides\":[],\"properties\":[]},{\"extends\":null,\"module\":null,\"name\":\"FlexBox1\",\"overrides\":[],\"properties\":[{\"default\":\"flex-start\",\"kind\":null,\"name\":\"align_content\"},{\"default\":\"flex-start\",\"kind\":null,\"name\":\"align_items\"},{\"default\":\"row\",\"kind\":null,\"name\":\"flex_direction\"},{\"default\":\"wrap\",\"kind\":null,\"name\":\"flex_wrap\"},{\"default\":\"flex-start\",\"kind\":null,\"name\":\"justify_content\"}]},{\"extends\":null,\"module\":null,\"name\":\"GridStack1\",\"overrides\":[],\"properties\":[{\"default\":\"warn\",\"kind\":null,\"name\":\"mode\"},{\"default\":null,\"kind\":null,\"name\":\"ncols\"},{\"default\":null,\"kind\":null,\"name\":\"nrows\"},{\"default\":true,\"kind\":null,\"name\":\"allow_resize\"},{\"default\":true,\"kind\":null,\"name\":\"allow_drag\"},{\"default\":[],\"kind\":null,\"name\":\"state\"}]},{\"extends\":null,\"module\":null,\"name\":\"click1\",\"overrides\":[],\"properties\":[{\"default\":\"\",\"kind\":null,\"name\":\"terminal_output\"},{\"default\":\"\",\"kind\":null,\"name\":\"debug_name\"},{\"default\":0,\"kind\":null,\"name\":\"clears\"}]},{\"extends\":null,\"module\":null,\"name\":\"NotificationAreaBase1\",\"overrides\":[],\"properties\":[{\"default\":\"bottom-right\",\"kind\":null,\"name\":\"position\"},{\"default\":0,\"kind\":null,\"name\":\"_clear\"}]},{\"extends\":null,\"module\":null,\"name\":\"NotificationArea1\",\"overrides\":[],\"properties\":[{\"default\":[],\"kind\":null,\"name\":\"notifications\"},{\"default\":\"bottom-right\",\"kind\":null,\"name\":\"position\"},{\"default\":0,\"kind\":null,\"name\":\"_clear\"},{\"default\":[{\"background\":\"#ffc107\",\"icon\":{\"className\":\"fas fa-exclamation-triangle\",\"color\":\"white\",\"tagName\":\"i\"},\"type\":\"warning\"},{\"background\":\"#007bff\",\"icon\":{\"className\":\"fas fa-info-circle\",\"color\":\"white\",\"tagName\":\"i\"},\"type\":\"info\"}],\"kind\":null,\"name\":\"types\"}]},{\"extends\":null,\"module\":null,\"name\":\"Notification\",\"overrides\":[],\"properties\":[{\"default\":null,\"kind\":null,\"name\":\"background\"},{\"default\":3000,\"kind\":null,\"name\":\"duration\"},{\"default\":null,\"kind\":null,\"name\":\"icon\"},{\"default\":\"\",\"kind\":null,\"name\":\"message\"},{\"default\":null,\"kind\":null,\"name\":\"notification_type\"},{\"default\":false,\"kind\":null,\"name\":\"_destroyed\"}]},{\"extends\":null,\"module\":null,\"name\":\"TemplateActions1\",\"overrides\":[],\"properties\":[{\"default\":0,\"kind\":null,\"name\":\"open_modal\"},{\"default\":0,\"kind\":null,\"name\":\"close_modal\"}]},{\"extends\":null,\"module\":null,\"name\":\"MaterialTemplateActions1\",\"overrides\":[],\"properties\":[{\"default\":0,\"kind\":null,\"name\":\"open_modal\"},{\"default\":0,\"kind\":null,\"name\":\"close_modal\"}]}],\"roots\":{\"references\":[{\"attributes\":{\"below\":[{\"id\":\"1958\"}],\"center\":[{\"id\":\"1960\"},{\"id\":\"1964\"}],\"height\":800,\"left\":[{\"id\":\"1961\"}],\"margin\":[5,5,5,5],\"min_border_bottom\":10,\"min_border_left\":10,\"min_border_right\":10,\"min_border_top\":10,\"renderers\":[{\"id\":\"1985\"}],\"sizing_mode\":\"fixed\",\"title\":{\"id\":\"1950\"},\"toolbar\":{\"id\":\"1971\"},\"width\":1000,\"x_range\":{\"id\":\"1946\"},\"x_scale\":{\"id\":\"1954\"},\"y_range\":{\"id\":\"1947\"},\"y_scale\":{\"id\":\"1956\"}},\"id\":\"1949\",\"subtype\":\"Figure\",\"type\":\"Plot\"},{\"attributes\":{},\"id\":\"1994\",\"type\":\"AllLabels\"},{\"attributes\":{},\"id\":\"2003\",\"type\":\"UnionRenderers\"},{\"attributes\":{\"end\":298022.0,\"reset_end\":298022.0,\"reset_start\":0.0,\"tags\":[[[\"Open Int\",\"Open Int\",null]]]},\"id\":\"1947\",\"type\":\"Range1d\"},{\"attributes\":{},\"id\":\"1956\",\"type\":\"LinearScale\"},{\"attributes\":{\"source\":{\"id\":\"1979\"}},\"id\":\"1986\",\"type\":\"CDSView\"},{\"attributes\":{\"coordinates\":null,\"group\":null,\"text\":\"Call\",\"text_color\":\"black\",\"text_font_size\":\"12pt\"},\"id\":\"1950\",\"type\":\"Title\"},{\"attributes\":{\"margin\":[5,5,5,5],\"name\":\"HSpacer03073\",\"sizing_mode\":\"stretch_width\"},\"id\":\"1945\",\"type\":\"Spacer\"},{\"attributes\":{},\"id\":\"1966\",\"type\":\"PanTool\"},{\"attributes\":{},\"id\":\"1991\",\"type\":\"AllLabels\"},{\"attributes\":{\"data\":{\"Open_Int\":{\"__ndarray__\":\"AAAAAECS1EAAAAAAAEifQAAAAAAAfbVAAAAAAAAEykAAAAAAANK9QAAAAAAA+dNAAAAAAABEzEAAAAAAABThQAAAAACAFs1AAAAAAADAbUAAAAAAADLIQAAAAACAuN5AAAAAAACmpkAAAAAAAAKlQAAAAAAQhvRAAAAAAADHsUAAAAAAACrBQAAAAACAZcVAAAAAAAD4okAAAAAAAOTSQAAAAAAgEeNAAAAAAACFuUAAAAAAABG0QAAAAAAAkJBAAAAAAICxxEAAAAAAAP3DQAAAAAAAYcdAAAAAAADUp0AAAAAAAOSxQAAAAACAEclAAAAAAMD22EAAAAAAgDraQAAAAADArNxAAAAAAABGokAAAAAAADWyQAAAAAAAQIhAAAAAAAD90UAAAAAAgGrIQAAAAAAAIJFAAAAAAABIqUAAAAAAAKK8QAAAAAAAsJtAAAAAAAC3t0AAAAAAAJKtQAAAAAAAVqNAAAAAAADD0UAAAAAAACSRQAAAAAAA8JZAAAAAAADwpkAAAAAAABqxQAAAAAAAAMNAAAAAAACwxkAAAAAAAJjPQAAAAACAj9RAAAAAAABqpUAAAAAAALiSQAAAAAAAL8xAAAAAAADypUAAAAAAAMCsQAAAAACgPuNAAAAAAAACqEAAAAAAADnhQAAAAAAAus1AAAAAAGBH4UAAAAAAgAnDQAAAAAAAeK5AAAAAAAAut0AAAAAAANy8QAAAAACAXMpAAAAAAABIt0AAAAAAADSzQAAAAAAApJ9AAAAAAABkwEAAAAAAALalQAAAAAAALqBAAAAAAAAIpkAAAAAAAKW4QAAAAAAAvqNAAAAAAIC+xEAAAAAAABqnQAAAAAAAqqtAAAAAAABsskAAAAAAwLLgQAAAAAAAysJAAAAAAEBj2UAAAAAAAP7OQAAAAAAAwdVAAAAAAAD5uEAAAAAAANy4QA==\",\"dtype\":\"float64\",\"order\":\"little\",\"shape\":[89]},\"Strike\":[\"125\",\"125\",\"130\",\"130\",\"135\",\"140\",\"145\",\"150\",\"150\",\"70\",\"115\",\"115\",\"117\",\"117\",\"120\",\"123\",\"32\",\"33\",\"33.5\",\"34\",\"10\",\"10.5\",\"16\",\"17\",\"17\",\"17.5\",\"18\",\"18\",\"18.5\",\"12\",\"13\",\"13\",\"14\",\"14.5\",\"110\",\"116\",\"38\",\"225\",\"227.5\",\"230\",\"235\",\"237.5\",\"240\",\"19\",\"19.5\",\"20\",\"128\",\"129\",\"131\",\"132\",\"90\",\"90\",\"90\",\"92.5\",\"92.5\",\"94\",\"87.5\",\"88\",\"91\",\"166.67\",\"203.33\",\"250\",\"260\",\"266.67\",\"270\",\"275\",\"276.67\",\"280\",\"283.33\",\"285\",\"286.67\",\"288.33\",\"290\",\"290.83\",\"291.67\",\"292.5\",\"293.33\",\"294.17\",\"295\",\"295.83\",\"296.67\",\"298.33\",\"300\",\"301.67\",\"40\",\"41\",\"30\",\"31\",\"31.5\"],\"Symbol\":[\"AAPL\",\"NVDA\",\"NVDA\",\"AAPL\",\"AAPL\",\"AAPL\",\"AAPL\",\"AAPL\",\"AXP\",\"AMZN\",\"JPM\",\"AMZN\",\"JPM\",\"AMZN\",\"AMZN\",\"AMZN\",\"BAC\",\"BAC\",\"BAC\",\"BAC\",\"CCL\",\"CCL\",\"CHPT\",\"NIO\",\"CHPT\",\"DKNG\",\"DKNG\",\"NIO\",\"DKNG\",\"F\",\"F\",\"PCG\",\"F\",\"F\",\"JPM\",\"JPM\",\"LVS\",\"NFLX\",\"NFLX\",\"NFLX\",\"NFLX\",\"NFLX\",\"NFLX\",\"NIO\",\"NIO\",\"NIO\",\"NVDA\",\"NVDA\",\"NVDA\",\"NVDA\",\"XOM\",\"PYPL\",\"SBUX\",\"XOM\",\"PYPL\",\"PYPL\",\"SBUX\",\"SBUX\",\"SBUX\",\"TSLA\",\"TSLA\",\"TSLA\",\"TSLA\",\"TSLA\",\"TSLA\",\"TSLA\",\"TSLA\",\"TSLA\",\"TSLA\",\"TSLA\",\"TSLA\",\"TSLA\",\"TSLA\",\"TSLA\",\"TSLA\",\"TSLA\",\"TSLA\",\"TSLA\",\"TSLA\",\"TSLA\",\"TSLA\",\"TSLA\",\"TSLA\",\"TSLA\",\"TWTR\",\"TWTR\",\"UBER\",\"UBER\",\"UBER\"],\"bottom\":{\"__ndarray__\":\"AAAAAAAAAAAAAAAAAAAAAAAAAAAASJ9AAAAAAECS1EAAAAAAIMrgQAAAAABghORAAAAAAOCA7kAAAAAA8MjyQAAAAAAAAAAAAAAAAAAAAAAAAAAAAAAAAAAAAAAAwG1AAAAAAAAyyEAAAAAAAPTeQAAAAAAgyuBAAAAAACDr/EAAAAAAAAAAAAAAAAAAKsFAAAAAAMBH00AAAAAAwKbVQAAAAAAAAAAAAAAAACAR40AAAAAAAAAAAAAAAAAAAAAAAAAAAAARtEAAAAAAAAAAAAAAAAAA/cNAAAAAAACQkEAAAAAAAK/VQAAAAAAAAAAAAAAAAIARyUAAAAAAAAAAAAAAAADAv+JAAAAAABCL8EAAAAAAgNvNQAAAAAAAe9NAAAAAAAAAAAAAAAAAAAAAAAAAAACAashAAAAAAICOykAAAAAAQHDQQAAAAADAmNdAAAAAAMBT2UAAAAAAAA6wQAAAAAAA175AAAAAAABBxEAAAAAAAE+9QAAAAAAAzMBAAAAAAACqw0AAAAAAAGbJQAAAAAAAAAAAAAAAAAAAAAAAAAAAAAAAAAAAAAAAAMNAAAAAAACwxkAAAAAAgArMQAAAAAAAmM9AAAAAAIDj3UAAAAAA4FDgQAAAAAAAAAAAAAAAAKA+40AAAAAAwL7kQAAAAADg+/JAAAAAACCz9kAAAAAA0Fb/QAAAAAAA3ABBAAAAAOBVAUEAAAAAUA8CQQAAAAAw9gJBAAAAAPibBEEAAAAAOFYFQQAAAADY7wVBAAAAACAvBkEAAAAAYDUHQQAAAAA4jAdBAAAAAPDMB0EAAAAAECUIQQAAAAA46ghBAAAAADA5CUEAAAAAGIUKQQAAAACA4QpBAAAAAChQC0EAAAAAiOMLQQAAAAAcCBBBAAAAAAAAAAAAAAAAQGPZQAAAAAAAAAAAAAAAAADB1UAAAAAAQP/bQA==\",\"dtype\":\"float64\",\"order\":\"little\",\"shape\":[89]},\"top\":{\"__ndarray__\":\"AAAAAECS1EAAAAAAAEifQAAAAAAAT71AAAAAACDK4EAAAAAAYITkQAAAAADggO5AAAAAAPDI8kAAAAAA8FL7QAAAAACAFs1AAAAAAADAbUAAAAAAADLIQAAAAAAA9N5AAAAAAIDbzUAAAAAAIMrgQAAAAAAg6/xAAAAAAJAH/kAAAAAAACrBQAAAAADAR9NAAAAAAMCm1UAAAAAAYEXkQAAAAAAgEeNAAAAAAMBB5kAAAAAAABG0QAAAAAAAkJBAAAAAAAC6zkAAAAAAAP3DQAAAAAAAr9VAAAAAAAAOsEAAAAAAACjaQAAAAACAEclAAAAAAMC/4kAAAAAAgDraQAAAAAAQi/BAAAAAAEAd8UAAAAAAAHvTQAAAAAAAPdRAAAAAAAD90UAAAAAAgGrIQAAAAACAjspAAAAAAEBw0EAAAAAAwJjXQAAAAADAU9lAAAAAAIBB30AAAAAAANe+QAAAAAAAQcRAAAAAAIDj20AAAAAAAMzAQAAAAAAAqsNAAAAAAABmyUAAAAAAgPnQQAAAAAAAAMNAAAAAAACwxkAAAAAAAJjPQAAAAACAD95AAAAAAIAKzEAAAAAAgGHOQAAAAACA491AAAAAAOBQ4EAAAAAA4BziQAAAAACgPuNAAAAAAMC+5EAAAAAA4PvyQAAAAAAgs/ZAAAAAANBW/0AAAAAAANwAQQAAAADgVQFBAAAAAFAPAkEAAAAAMPYCQQAAAAD4mwRBAAAAADhWBUEAAAAA2O8FQQAAAAAgLwZBAAAAAGA1B0EAAAAAOIwHQQAAAADwzAdBAAAAABAlCEEAAAAAOOoIQQAAAAAwOQlBAAAAABiFCkEAAAAAgOEKQQAAAAAoUAtBAAAAAIjjC0EAAAAAHAgQQQAAAABsnhBBAAAAAEBj2UAAAAAAIHHkQAAAAAAAwdVAAAAAAED/20AAAAAAIBvhQA==\",\"dtype\":\"float64\",\"order\":\"little\",\"shape\":[89]}},\"selected\":{\"id\":\"1980\"},\"selection_policy\":{\"id\":\"2003\"}},\"id\":\"1979\",\"type\":\"ColumnDataSource\"},{\"attributes\":{\"axis\":{\"id\":\"1958\"},\"coordinates\":null,\"grid_line_color\":null,\"group\":null,\"ticker\":null},\"id\":\"1960\",\"type\":\"Grid\"},{\"attributes\":{},\"id\":\"1965\",\"type\":\"SaveTool\"},{\"attributes\":{},\"id\":\"1962\",\"type\":\"BasicTicker\"},{\"attributes\":{},\"id\":\"1954\",\"type\":\"CategoricalScale\"},{\"attributes\":{\"children\":[{\"id\":\"1945\"},{\"id\":\"1949\"},{\"id\":\"2006\"}],\"margin\":[0,0,0,0],\"name\":\"Row03069\",\"tags\":[\"embedded\"]},\"id\":\"1944\",\"type\":\"Row\"},{\"attributes\":{\"format\":\"%.0f\"},\"id\":\"1988\",\"type\":\"PrintfTickFormatter\"},{\"attributes\":{},\"id\":\"1969\",\"type\":\"ResetTool\"},{\"attributes\":{},\"id\":\"1959\",\"type\":\"CategoricalTicker\"},{\"attributes\":{\"bottom\":{\"field\":\"bottom\"},\"fill_color\":{\"field\":\"Strike\",\"transform\":{\"id\":\"1978\"}},\"hatch_color\":{\"field\":\"Strike\",\"transform\":{\"id\":\"1978\"}},\"top\":{\"field\":\"top\"},\"width\":{\"value\":0.8},\"x\":{\"field\":\"Symbol\"}},\"id\":\"1982\",\"type\":\"VBar\"},{\"attributes\":{\"bottom_units\":\"screen\",\"coordinates\":null,\"fill_alpha\":0.5,\"fill_color\":\"lightgrey\",\"group\":null,\"left_units\":\"screen\",\"level\":\"overlay\",\"line_alpha\":1.0,\"line_color\":\"black\",\"line_dash\":[4,4],\"line_width\":2,\"right_units\":\"screen\",\"syncable\":false,\"top_units\":\"screen\"},\"id\":\"1970\",\"type\":\"BoxAnnotation\"},{\"attributes\":{\"axis_label\":\"Open Int\",\"coordinates\":null,\"formatter\":{\"id\":\"1988\"},\"group\":null,\"major_label_policy\":{\"id\":\"1994\"},\"ticker\":{\"id\":\"1962\"}},\"id\":\"1961\",\"type\":\"LinearAxis\"},{\"attributes\":{\"factors\":[\"AAPL\",\"AMZN\",\"AXP\",\"BAC\",\"CCL\",\"CHPT\",\"DKNG\",\"F\",\"JPM\",\"LVS\",\"NFLX\",\"NIO\",\"NVDA\",\"PCG\",\"PYPL\",\"SBUX\",\"TSLA\",\"TWTR\",\"UBER\",\"XOM\"],\"tags\":[[[\"Symbol\",\"Symbol\",null]]]},\"id\":\"1946\",\"type\":\"FactorRange\"},{\"attributes\":{},\"id\":\"1967\",\"type\":\"WheelZoomTool\"},{\"attributes\":{},\"id\":\"1990\",\"type\":\"CategoricalTickFormatter\"},{\"attributes\":{},\"id\":\"1980\",\"type\":\"Selection\"},{\"attributes\":{\"bottom\":{\"field\":\"bottom\"},\"fill_alpha\":{\"value\":0.2},\"fill_color\":{\"field\":\"Strike\",\"transform\":{\"id\":\"1978\"}},\"hatch_alpha\":{\"value\":0.2},\"hatch_color\":{\"field\":\"Strike\",\"transform\":{\"id\":\"1978\"}},\"line_alpha\":{\"value\":0.2},\"top\":{\"field\":\"top\"},\"width\":{\"value\":0.8},\"x\":{\"field\":\"Symbol\"}},\"id\":\"1984\",\"type\":\"VBar\"},{\"attributes\":{\"margin\":[5,5,5,5],\"name\":\"HSpacer03074\",\"sizing_mode\":\"stretch_width\"},\"id\":\"2006\",\"type\":\"Spacer\"},{\"attributes\":{\"factors\":[\"125\",\"130\",\"135\",\"140\",\"145\",\"150\",\"70\",\"115\",\"117\",\"120\",\"123\",\"32\",\"33\",\"33.5\",\"34\",\"10\",\"10.5\",\"16\",\"17\",\"17.5\",\"18\",\"18.5\",\"12\",\"13\",\"14\",\"14.5\",\"110\",\"116\",\"38\",\"225\",\"227.5\",\"230\",\"235\",\"237.5\",\"240\",\"19\",\"19.5\",\"20\",\"128\",\"129\",\"131\",\"132\",\"90\",\"92.5\",\"94\",\"87.5\",\"88\",\"91\",\"166.67\",\"203.33\",\"250\",\"260\",\"266.67\",\"270\",\"275\",\"276.67\",\"280\",\"283.33\",\"285\",\"286.67\",\"288.33\",\"290\",\"290.83\",\"291.67\",\"292.5\",\"293.33\",\"294.17\",\"295\",\"295.83\",\"296.67\",\"298.33\",\"300\",\"301.67\",\"40\",\"41\",\"30\",\"31\",\"31.5\"],\"palette\":[\"#259646\",\"#259646\",\"#259646\",\"#259646\",\"#259646\",\"#259646\",\"#259646\",\"#259646\",\"#259646\",\"#259646\",\"#259646\",\"#259646\",\"#259646\",\"#259646\",\"#259646\",\"#259646\",\"#259646\",\"#259646\",\"#259646\",\"#259646\",\"#259646\",\"#259646\",\"#259646\",\"#259646\",\"#259646\",\"#259646\",\"#259646\",\"#259646\",\"#259646\",\"#259646\",\"#259646\",\"#259646\",\"#259646\",\"#259646\",\"#259646\",\"#259646\",\"#259646\",\"#259646\",\"#259646\",\"#259646\",\"#259646\",\"#259646\",\"#259646\",\"#259646\",\"#259646\",\"#259646\",\"#259646\",\"#259646\",\"#259646\",\"#259646\",\"#259646\",\"#259646\",\"#259646\",\"#259646\",\"#259646\",\"#259646\",\"#259646\",\"#259646\",\"#259646\",\"#259646\",\"#259646\",\"#259646\",\"#259646\",\"#259646\",\"#259646\",\"#259646\",\"#259646\",\"#259646\",\"#259646\",\"#259646\",\"#259646\",\"#259646\",\"#259646\",\"#259646\",\"#259646\",\"#259646\",\"#259646\",\"#259646\"]},\"id\":\"1978\",\"type\":\"CategoricalColorMapper\"},{\"attributes\":{\"coordinates\":null,\"data_source\":{\"id\":\"1979\"},\"glyph\":{\"id\":\"1982\"},\"group\":null,\"hover_glyph\":null,\"muted_glyph\":{\"id\":\"1984\"},\"nonselection_glyph\":{\"id\":\"1983\"},\"selection_glyph\":{\"id\":\"1987\"},\"view\":{\"id\":\"1986\"}},\"id\":\"1985\",\"type\":\"GlyphRenderer\"},{\"attributes\":{\"bottom\":{\"field\":\"bottom\"},\"fill_alpha\":{\"value\":1.0},\"fill_color\":{\"field\":\"Strike\",\"transform\":{\"id\":\"1978\"}},\"hatch_alpha\":{\"value\":1.0},\"hatch_color\":{\"field\":\"Strike\",\"transform\":{\"id\":\"1978\"}},\"hatch_scale\":{\"value\":12.0},\"hatch_weight\":{\"value\":1.0},\"line_alpha\":{\"value\":1.0},\"line_cap\":{\"value\":\"butt\"},\"line_color\":{\"value\":\"black\"},\"line_dash\":{\"value\":[]},\"line_dash_offset\":{\"value\":0},\"line_join\":{\"value\":\"bevel\"},\"line_width\":{\"value\":1},\"top\":{\"field\":\"top\"},\"width\":{\"value\":0.8},\"x\":{\"field\":\"Symbol\"}},\"id\":\"1987\",\"type\":\"VBar\"},{\"attributes\":{\"axis_label\":\"Symbol\",\"coordinates\":null,\"formatter\":{\"id\":\"1990\"},\"group\":null,\"major_label_orientation\":1.5707963267948966,\"major_label_policy\":{\"id\":\"1991\"},\"ticker\":{\"id\":\"1959\"}},\"id\":\"1958\",\"type\":\"CategoricalAxis\"},{\"attributes\":{\"callback\":null,\"renderers\":[{\"id\":\"1985\"}],\"tags\":[\"hv_created\"],\"tooltips\":[[\"Symbol\",\"@{Symbol}\"],[\"Strike\",\"@{Strike}\"],[\"Open Int\",\"@{Open_Int}\"]]},\"id\":\"1948\",\"type\":\"HoverTool\"},{\"attributes\":{\"tools\":[{\"id\":\"1948\"},{\"id\":\"1965\"},{\"id\":\"1966\"},{\"id\":\"1967\"},{\"id\":\"1968\"},{\"id\":\"1969\"}]},\"id\":\"1971\",\"type\":\"Toolbar\"},{\"attributes\":{\"bottom\":{\"field\":\"bottom\"},\"fill_alpha\":{\"value\":0.1},\"fill_color\":{\"field\":\"Strike\",\"transform\":{\"id\":\"1978\"}},\"hatch_alpha\":{\"value\":0.1},\"hatch_color\":{\"field\":\"Strike\",\"transform\":{\"id\":\"1978\"}},\"line_alpha\":{\"value\":0.1},\"top\":{\"field\":\"top\"},\"width\":{\"value\":0.8},\"x\":{\"field\":\"Symbol\"}},\"id\":\"1983\",\"type\":\"VBar\"},{\"attributes\":{\"overlay\":{\"id\":\"1970\"}},\"id\":\"1968\",\"type\":\"BoxZoomTool\"},{\"attributes\":{\"axis\":{\"id\":\"1961\"},\"coordinates\":null,\"dimension\":1,\"grid_line_color\":null,\"group\":null,\"ticker\":null},\"id\":\"1964\",\"type\":\"Grid\"}],\"root_ids\":[\"1944\"]},\"title\":\"Bokeh Application\",\"version\":\"2.4.3\"}};\n",
       "    var render_items = [{\"docid\":\"1b738513-cf3d-40bf-b321-e388eaaaae9d\",\"root_ids\":[\"1944\"],\"roots\":{\"1944\":\"60edf24a-1b54-4ad1-85b2-a72cff89fd57\"}}];\n",
       "    root.Bokeh.embed.embed_items_notebook(docs_json, render_items);\n",
       "  }\n",
       "  if (root.Bokeh !== undefined && root.Bokeh.Panel !== undefined) {\n",
       "    embed_document(root);\n",
       "  } else {\n",
       "    var attempts = 0;\n",
       "    var timer = setInterval(function(root) {\n",
       "      if (root.Bokeh !== undefined && root.Bokeh.Panel !== undefined) {\n",
       "        clearInterval(timer);\n",
       "        embed_document(root);\n",
       "      } else if (document.readyState == \"complete\") {\n",
       "        attempts++;\n",
       "        if (attempts > 200) {\n",
       "          clearInterval(timer);\n",
       "          console.log(\"Bokeh: ERROR: Unable to run BokehJS code because BokehJS library is missing\");\n",
       "        }\n",
       "      }\n",
       "    }, 25, root)\n",
       "  }\n",
       "})(window);</script>"
      ],
      "text/plain": [
       ":Bars   [Symbol,Strike]   (Open Int)"
      ]
     },
     "execution_count": 52,
     "metadata": {
      "application/vnd.holoviews_exec.v0+json": {
       "id": "1944"
      }
     },
     "output_type": "execute_result"
    }
   ],
   "source": [
    "# Calling options_call_bar\n",
    "options_call_bar(df)"
   ]
  },
  {
   "cell_type": "code",
   "execution_count": 53,
   "metadata": {},
   "outputs": [
    {
     "data": {},
     "metadata": {},
     "output_type": "display_data"
    },
    {
     "data": {
      "application/vnd.holoviews_exec.v0+json": "",
      "text/html": [
       "<div id='2053'>\n",
       "  <div class=\"bk-root\" id=\"81dd497c-e4ff-416d-9faa-2a57106627d9\" data-root-id=\"2053\"></div>\n",
       "</div>\n",
       "<script type=\"application/javascript\">(function(root) {\n",
       "  function embed_document(root) {\n",
       "    var docs_json = {\"117eca9c-e11d-4f0e-93a3-2d855724a237\":{\"defs\":[{\"extends\":null,\"module\":null,\"name\":\"ReactiveHTML1\",\"overrides\":[],\"properties\":[]},{\"extends\":null,\"module\":null,\"name\":\"FlexBox1\",\"overrides\":[],\"properties\":[{\"default\":\"flex-start\",\"kind\":null,\"name\":\"align_content\"},{\"default\":\"flex-start\",\"kind\":null,\"name\":\"align_items\"},{\"default\":\"row\",\"kind\":null,\"name\":\"flex_direction\"},{\"default\":\"wrap\",\"kind\":null,\"name\":\"flex_wrap\"},{\"default\":\"flex-start\",\"kind\":null,\"name\":\"justify_content\"}]},{\"extends\":null,\"module\":null,\"name\":\"GridStack1\",\"overrides\":[],\"properties\":[{\"default\":\"warn\",\"kind\":null,\"name\":\"mode\"},{\"default\":null,\"kind\":null,\"name\":\"ncols\"},{\"default\":null,\"kind\":null,\"name\":\"nrows\"},{\"default\":true,\"kind\":null,\"name\":\"allow_resize\"},{\"default\":true,\"kind\":null,\"name\":\"allow_drag\"},{\"default\":[],\"kind\":null,\"name\":\"state\"}]},{\"extends\":null,\"module\":null,\"name\":\"click1\",\"overrides\":[],\"properties\":[{\"default\":\"\",\"kind\":null,\"name\":\"terminal_output\"},{\"default\":\"\",\"kind\":null,\"name\":\"debug_name\"},{\"default\":0,\"kind\":null,\"name\":\"clears\"}]},{\"extends\":null,\"module\":null,\"name\":\"NotificationAreaBase1\",\"overrides\":[],\"properties\":[{\"default\":\"bottom-right\",\"kind\":null,\"name\":\"position\"},{\"default\":0,\"kind\":null,\"name\":\"_clear\"}]},{\"extends\":null,\"module\":null,\"name\":\"NotificationArea1\",\"overrides\":[],\"properties\":[{\"default\":[],\"kind\":null,\"name\":\"notifications\"},{\"default\":\"bottom-right\",\"kind\":null,\"name\":\"position\"},{\"default\":0,\"kind\":null,\"name\":\"_clear\"},{\"default\":[{\"background\":\"#ffc107\",\"icon\":{\"className\":\"fas fa-exclamation-triangle\",\"color\":\"white\",\"tagName\":\"i\"},\"type\":\"warning\"},{\"background\":\"#007bff\",\"icon\":{\"className\":\"fas fa-info-circle\",\"color\":\"white\",\"tagName\":\"i\"},\"type\":\"info\"}],\"kind\":null,\"name\":\"types\"}]},{\"extends\":null,\"module\":null,\"name\":\"Notification\",\"overrides\":[],\"properties\":[{\"default\":null,\"kind\":null,\"name\":\"background\"},{\"default\":3000,\"kind\":null,\"name\":\"duration\"},{\"default\":null,\"kind\":null,\"name\":\"icon\"},{\"default\":\"\",\"kind\":null,\"name\":\"message\"},{\"default\":null,\"kind\":null,\"name\":\"notification_type\"},{\"default\":false,\"kind\":null,\"name\":\"_destroyed\"}]},{\"extends\":null,\"module\":null,\"name\":\"TemplateActions1\",\"overrides\":[],\"properties\":[{\"default\":0,\"kind\":null,\"name\":\"open_modal\"},{\"default\":0,\"kind\":null,\"name\":\"close_modal\"}]},{\"extends\":null,\"module\":null,\"name\":\"MaterialTemplateActions1\",\"overrides\":[],\"properties\":[{\"default\":0,\"kind\":null,\"name\":\"open_modal\"},{\"default\":0,\"kind\":null,\"name\":\"close_modal\"}]}],\"roots\":{\"references\":[{\"attributes\":{\"margin\":[5,5,5,5],\"name\":\"HSpacer03288\",\"sizing_mode\":\"stretch_width\"},\"id\":\"2115\",\"type\":\"Spacer\"},{\"attributes\":{},\"id\":\"2099\",\"type\":\"CategoricalTickFormatter\"},{\"attributes\":{\"coordinates\":null,\"group\":null,\"text\":\"Puts\",\"text_color\":\"black\",\"text_font_size\":\"12pt\"},\"id\":\"2059\",\"type\":\"Title\"},{\"attributes\":{\"source\":{\"id\":\"2088\"}},\"id\":\"2095\",\"type\":\"CDSView\"},{\"attributes\":{\"end\":296963.1,\"reset_end\":296963.1,\"reset_start\":0.0,\"tags\":[[[\"Open Int\",\"Open Int\",null]]]},\"id\":\"2056\",\"type\":\"Range1d\"},{\"attributes\":{\"callback\":null,\"renderers\":[{\"id\":\"2094\"}],\"tags\":[\"hv_created\"],\"tooltips\":[[\"Symbol\",\"@{Symbol}\"],[\"Strike\",\"@{Strike}\"],[\"Open Int\",\"@{Open_Int}\"]]},\"id\":\"2057\",\"type\":\"HoverTool\"},{\"attributes\":{},\"id\":\"2089\",\"type\":\"Selection\"},{\"attributes\":{\"below\":[{\"id\":\"2067\"}],\"center\":[{\"id\":\"2069\"},{\"id\":\"2073\"}],\"height\":800,\"left\":[{\"id\":\"2070\"}],\"margin\":[5,5,5,5],\"min_border_bottom\":10,\"min_border_left\":10,\"min_border_right\":10,\"min_border_top\":10,\"renderers\":[{\"id\":\"2094\"}],\"sizing_mode\":\"fixed\",\"title\":{\"id\":\"2059\"},\"toolbar\":{\"id\":\"2080\"},\"width\":1000,\"x_range\":{\"id\":\"2055\"},\"x_scale\":{\"id\":\"2063\"},\"y_range\":{\"id\":\"2056\"},\"y_scale\":{\"id\":\"2065\"}},\"id\":\"2058\",\"subtype\":\"Figure\",\"type\":\"Plot\"},{\"attributes\":{\"children\":[{\"id\":\"2054\"},{\"id\":\"2058\"},{\"id\":\"2115\"}],\"margin\":[0,0,0,0],\"name\":\"Row03283\",\"tags\":[\"embedded\"]},\"id\":\"2053\",\"type\":\"Row\"},{\"attributes\":{},\"id\":\"2063\",\"type\":\"CategoricalScale\"},{\"attributes\":{},\"id\":\"2100\",\"type\":\"AllLabels\"},{\"attributes\":{},\"id\":\"2065\",\"type\":\"LinearScale\"},{\"attributes\":{\"margin\":[5,5,5,5],\"name\":\"HSpacer03287\",\"sizing_mode\":\"stretch_width\"},\"id\":\"2054\",\"type\":\"Spacer\"},{\"attributes\":{\"coordinates\":null,\"data_source\":{\"id\":\"2088\"},\"glyph\":{\"id\":\"2091\"},\"group\":null,\"hover_glyph\":null,\"muted_glyph\":{\"id\":\"2093\"},\"nonselection_glyph\":{\"id\":\"2092\"},\"selection_glyph\":{\"id\":\"2096\"},\"view\":{\"id\":\"2095\"}},\"id\":\"2094\",\"type\":\"GlyphRenderer\"},{\"attributes\":{\"data\":{\"Open_Int\":{\"__ndarray__\":\"AAAAAADPz0AAAAAAAESgQAAAAACApOdAAAAAAJB4/EAAAAAAAGTeQAAAAAAABrlAAAAAAGAW4UAAAAAAANLFQAAAAAAAurlAAAAAAMCV00AAAAAAQEXaQAAAAABAvONAAAAAAIBRxUAAAAAAAGffQAAAAAAgnetAAAAAAECM2UAAAAAAAHHfQAAAAAAA58BAAAAAAAB4r0AAAAAAAGCpQAAAAAAAc85AAAAAAAB51EAAAAAAQGPdQAAAAACAzdtAAAAAAADpvkAAAAAAAK/TQAAAAAAAOr1AAAAAAABRv0AAAAAAAN+3QAAAAAAA18BAAAAAAADUtUAAAAAAwJzfQAAAAAAAcbZAAAAAAADWtkAAAAAAAOCfQAAAAADA8tZAAAAAAABTuEAAAAAAAA6oQAAAAACA7MdAAAAAAMCw00AAAAAAgOXDQAAAAAAA6eZAAAAAAMAa30AAAAAAAGSeQAAAAAAAIKhAAAAAAAC4kkAAAAAAgBzTQAAAAAAA1bxAAAAAAMDN3EAAAAAAYIfhQAAAAABA3N9AAAAAAIApwkAAAAAASO0BQQAAAAAAsKdAAAAAAEBX0UAAAAAAQNLcQAAAAAAAJJNAAAAAAADonUAAAAAAAD6oQAAAAAAAc8tAAAAAAADepUAAAAAAwHvXQAAAAAAApbVAAAAAAIDTykAAAAAAAEW2QAAAAAAAH7FAAAAAAIAExkAAAAAAQP7UQAAAAAAAtr1AAAAAAID7w0AAAAAAAFWxQAAAAAAAw7pAAAAAAEBC0kAAAAAAALSiQAAAAAAAL89AAAAAAIC6zUAAAAAAgNPDQAAAAAAAIcVAAAAAAABgqkAAAAAAAMyqQAAAAAAAsrVAAAAAAICNwkAAAAAAAJquQAAAAAAA0JFAAAAAAAD6pEAAAAAAAGqjQAAAAAAAxcVAAAAAAAA0w0AAAAAAwFrVQAAAAACA+NRAAAAAAABomkAAAAAAwNHiQAAAAACA1sJAAAAAAIAtxEAAAAAAANi4QAAAAAAAnLJAAAAAAABYoEA=\",\"dtype\":\"float64\",\"order\":\"little\",\"shape\":[97]},\"Strike\":[\"14\",\"14.5\",\"15\",\"15\",\"152.5\",\"152.5\",\"155\",\"155\",\"157.5\",\"157.5\",\"160\",\"160\",\"162.5\",\"165\",\"165\",\"170\",\"170\",\"77.5\",\"78\",\"79\",\"80\",\"85\",\"90\",\"90\",\"124\",\"125\",\"126\",\"127\",\"127.5\",\"128\",\"129\",\"130\",\"131\",\"132\",\"132\",\"132.5\",\"133\",\"133\",\"135\",\"135\",\"140\",\"140\",\"9\",\"88\",\"89\",\"91\",\"95\",\"34.5\",\"35\",\"35\",\"50\",\"15.5\",\"16\",\"108\",\"110\",\"110\",\"103.25\",\"103.5\",\"104.5\",\"105\",\"106\",\"115\",\"29.5\",\"30\",\"30.5\",\"32\",\"150\",\"150\",\"245\",\"250\",\"252.5\",\"255\",\"260\",\"262.5\",\"270\",\"20.5\",\"21\",\"21.5\",\"22\",\"134\",\"145\",\"40\",\"40.5\",\"41\",\"42\",\"43\",\"45\",\"11.5\",\"12\",\"17\",\"17.5\",\"18\",\"303.33\",\"305\",\"306.67\",\"310\",\"313.33\"],\"Symbol\":[\"AAL\",\"AAL\",\"AAL\",\"F\",\"AAPL\",\"META\",\"AAPL\",\"META\",\"META\",\"AAPL\",\"META\",\"AAPL\",\"AAPL\",\"META\",\"AAPL\",\"META\",\"AAPL\",\"AMD\",\"AMD\",\"AMD\",\"AMD\",\"AMD\",\"AMD\",\"BABA\",\"AMZN\",\"AMZN\",\"AMZN\",\"AMZN\",\"AMZN\",\"AMZN\",\"AMZN\",\"AMZN\",\"AMZN\",\"AMZN\",\"NVDA\",\"AMZN\",\"AMZN\",\"NVDA\",\"NVDA\",\"AMZN\",\"NVDA\",\"AMZN\",\"ATUS\",\"BABA\",\"BABA\",\"BABA\",\"BABA\",\"BAC\",\"INTC\",\"BAC\",\"C\",\"F\",\"F\",\"GOOG\",\"GOOGL\",\"GOOG\",\"GOOGL\",\"GOOGL\",\"GOOGL\",\"GOOGL\",\"GOOGL\",\"GOOGL\",\"INTC\",\"INTC\",\"INTC\",\"INTC\",\"NVDA\",\"META\",\"MSFT\",\"MSFT\",\"MSFT\",\"MSFT\",\"MSFT\",\"MSFT\",\"MSFT\",\"NIO\",\"NIO\",\"NIO\",\"NIO\",\"NVDA\",\"NVDA\",\"RBLX\",\"RBLX\",\"RBLX\",\"RBLX\",\"RBLX\",\"RBLX\",\"SNAP\",\"SNAP\",\"T\",\"T\",\"T\",\"TSLA\",\"TSLA\",\"TSLA\",\"TSLA\",\"TSLA\"],\"bottom\":{\"__ndarray__\":\"AAAAAAAAAAAAAAAAAM/PQAAAAAAA8NFAAAAAAAAAAAAAAAAAAAAAAAAAAAAAAAAAAAAAAABk3kAAAAAAAAa5QAAAAACAKtFAAAAAADAk8EAAAAAAAJnXQAAAAACgCfVAAAAAAMDn/kAAAAAAIO/oQAAAAAD4yABBAAAAAFBR9EAAAAAAQLAHQQAAAAAAAAAAAAAAAADnwEAAAAAAAMXIQAAAAAAAHc9AAAAAAADI3kAAAAAAgKDpQAAAAAAAAAAAAAAAAAAAAAAAAAAAAOm+QAAAAABAadtAAAAAAOBb4UAAAAAAAEblQAAAAADgQehAAAAAAKB37EAAAAAAIDLvQAAAAABAgPdAAAAAAFDn+EAAAAAAAAAAAAAAAACwVPpAAAAAALAIAEEAAAAAAOCfQAAAAAAA/7NAAAAAAEjLAEEAAAAAAPbQQAAAAABgQQNBAAAAAAAAAAAAAAAAgM3bQAAAAADAs91AAAAAAOBb4EAAAAAAoPHgQAAAAAAAAAAAAAAAAAAAAAAAAAAAANW8QAAAAAAAAAAAAAAAAJB4/EAAAAAAwL3+QAAAAAAAAAAAAAAAAAAAAAAAAAAAALCnQAAAAABAV9FAAAAAAICJ0kAAAAAAAGjUQAAAAADAb9dAAAAAAKCU4kAAAAAAgPLjQAAAAADAzdxAAAAAAIAb4UAAAAAAYNDnQAAAAAAAmepAAAAAAMDo2kAAAAAAYLT6QAAAAAAAAAAAAAAAAAC2vUAAAAAAQGvRQAAAAACAwNVAAAAAAEBx3EAAAAAAwFnnQAAAAAAAhehAAAAAAAAAAAAAAAAAgLrNQAAAAAAAx9hAAAAAAMCr4UAAAAAAgPXiQAAAAABAouRAAAAAAAAAAAAAAAAAgI3CQAAAAAAANMpAAAAAAABuzEAAAAAAQNbQQAAAAACAQ9NAAAAAAAAAAAAAAAAAADTDQAAAAAAAAAAAAAAAAID41EAAAAAAAJ/WQAAAAAAAAAAAAAAAAIDWwkAAAAAAAILTQAAAAAAAuNlAAAAAAABf3kA=\",\"dtype\":\"float64\",\"order\":\"little\",\"shape\":[97]},\"top\":{\"__ndarray__\":\"AAAAAADPz0AAAAAAAPDRQAAAAABATvBAAAAAAJB4/EAAAAAAAGTeQAAAAAAABrlAAAAAADAk8EAAAAAAgCrRQAAAAAAAmddAAAAAAKAJ9UAAAAAAIO/oQAAAAADA5/5AAAAAAPjIAEEAAAAAUFH0QAAAAABAsAdBAAAAAGC0+kAAAAAAYJ4LQQAAAAAA58BAAAAAAADFyEAAAAAAAB3PQAAAAAAAyN5AAAAAAICg6UAAAAAAECn0QAAAAACAzdtAAAAAAADpvkAAAAAAQGnbQAAAAADgW+FAAAAAAABG5UAAAAAA4EHoQAAAAACgd+xAAAAAACAy70AAAAAAQID3QAAAAABQ5/hAAAAAALBU+kAAAAAAAOCfQAAAAACwCABBAAAAAEjLAEEAAAAAAP+zQAAAAAAA9tBAAAAAAGBBA0EAAAAAwOjaQAAAAACg+whBAAAAAMAa30AAAAAAwLPdQAAAAADgW+BAAAAAAKDx4EAAAAAA4H/qQAAAAAAA1bxAAAAAAMDN3EAAAAAAACLlQAAAAABA3N9AAAAAAMC9/kAAAAAAFKYQQQAAAAAAsKdAAAAAAEBX0UAAAAAAQMjfQAAAAACAidJAAAAAAABo1EAAAAAAwG/XQAAAAACglOJAAAAAAIDy40AAAAAAYLDvQAAAAACAG+FAAAAAAGDQ50AAAAAAAJnqQAAAAADgvOxAAAAAAID14kAAAAAA8PP/QAAAAAAAtr1AAAAAAEBr0UAAAAAAgMDVQAAAAABAcdxAAAAAAMBZ50AAAAAAAIXoQAAAAABgKPBAAAAAAIC6zUAAAAAAAMfYQAAAAADAq+FAAAAAAMBR40AAAAAAQKLkQAAAAACAWOdAAAAAAICNwkAAAAAAADTKQAAAAAAAbsxAAAAAAEDW0EAAAAAAgEPTQAAAAAAAJt5AAAAAAAA0w0AAAAAAwPTeQAAAAACA+NRAAAAAAACf1kAAAAAAQCHuQAAAAACA1sJAAAAAAACC00AAAAAAALjZQAAAAAAAX95AAAAAAAA14EA=\",\"dtype\":\"float64\",\"order\":\"little\",\"shape\":[97]}},\"selected\":{\"id\":\"2089\"},\"selection_policy\":{\"id\":\"2112\"}},\"id\":\"2088\",\"type\":\"ColumnDataSource\"},{\"attributes\":{},\"id\":\"2071\",\"type\":\"BasicTicker\"},{\"attributes\":{\"format\":\"%.0f\"},\"id\":\"2097\",\"type\":\"PrintfTickFormatter\"},{\"attributes\":{},\"id\":\"2068\",\"type\":\"CategoricalTicker\"},{\"attributes\":{\"axis_label\":\"Symbol\",\"coordinates\":null,\"formatter\":{\"id\":\"2099\"},\"group\":null,\"major_label_orientation\":1.5707963267948966,\"major_label_policy\":{\"id\":\"2100\"},\"ticker\":{\"id\":\"2068\"}},\"id\":\"2067\",\"type\":\"CategoricalAxis\"},{\"attributes\":{\"bottom\":{\"field\":\"bottom\"},\"fill_color\":{\"field\":\"Strike\",\"transform\":{\"id\":\"2087\"}},\"hatch_color\":{\"field\":\"Strike\",\"transform\":{\"id\":\"2087\"}},\"top\":{\"field\":\"top\"},\"width\":{\"value\":0.8},\"x\":{\"field\":\"Symbol\"}},\"id\":\"2091\",\"type\":\"VBar\"},{\"attributes\":{\"bottom\":{\"field\":\"bottom\"},\"fill_alpha\":{\"value\":0.2},\"fill_color\":{\"field\":\"Strike\",\"transform\":{\"id\":\"2087\"}},\"hatch_alpha\":{\"value\":0.2},\"hatch_color\":{\"field\":\"Strike\",\"transform\":{\"id\":\"2087\"}},\"line_alpha\":{\"value\":0.2},\"top\":{\"field\":\"top\"},\"width\":{\"value\":0.8},\"x\":{\"field\":\"Symbol\"}},\"id\":\"2093\",\"type\":\"VBar\"},{\"attributes\":{\"bottom_units\":\"screen\",\"coordinates\":null,\"fill_alpha\":0.5,\"fill_color\":\"lightgrey\",\"group\":null,\"left_units\":\"screen\",\"level\":\"overlay\",\"line_alpha\":1.0,\"line_color\":\"black\",\"line_dash\":[4,4],\"line_width\":2,\"right_units\":\"screen\",\"syncable\":false,\"top_units\":\"screen\"},\"id\":\"2079\",\"type\":\"BoxAnnotation\"},{\"attributes\":{\"tools\":[{\"id\":\"2057\"},{\"id\":\"2074\"},{\"id\":\"2075\"},{\"id\":\"2076\"},{\"id\":\"2077\"},{\"id\":\"2078\"}]},\"id\":\"2080\",\"type\":\"Toolbar\"},{\"attributes\":{\"axis_label\":\"Open Int\",\"coordinates\":null,\"formatter\":{\"id\":\"2097\"},\"group\":null,\"major_label_policy\":{\"id\":\"2103\"},\"ticker\":{\"id\":\"2071\"}},\"id\":\"2070\",\"type\":\"LinearAxis\"},{\"attributes\":{\"axis\":{\"id\":\"2070\"},\"coordinates\":null,\"dimension\":1,\"grid_line_color\":null,\"group\":null,\"ticker\":null},\"id\":\"2073\",\"type\":\"Grid\"},{\"attributes\":{\"axis\":{\"id\":\"2067\"},\"coordinates\":null,\"grid_line_color\":null,\"group\":null,\"ticker\":null},\"id\":\"2069\",\"type\":\"Grid\"},{\"attributes\":{\"overlay\":{\"id\":\"2079\"}},\"id\":\"2077\",\"type\":\"BoxZoomTool\"},{\"attributes\":{\"factors\":[\"14\",\"14.5\",\"15\",\"152.5\",\"155\",\"157.5\",\"160\",\"162.5\",\"165\",\"170\",\"77.5\",\"78\",\"79\",\"80\",\"85\",\"90\",\"124\",\"125\",\"126\",\"127\",\"127.5\",\"128\",\"129\",\"130\",\"131\",\"132\",\"132.5\",\"133\",\"135\",\"140\",\"9\",\"88\",\"89\",\"91\",\"95\",\"34.5\",\"35\",\"50\",\"15.5\",\"16\",\"108\",\"110\",\"103.25\",\"103.5\",\"104.5\",\"105\",\"106\",\"115\",\"29.5\",\"30\",\"30.5\",\"32\",\"150\",\"245\",\"250\",\"252.5\",\"255\",\"260\",\"262.5\",\"270\",\"20.5\",\"21\",\"21.5\",\"22\",\"134\",\"145\",\"40\",\"40.5\",\"41\",\"42\",\"43\",\"45\",\"11.5\",\"12\",\"17\",\"17.5\",\"18\",\"303.33\",\"305\",\"306.67\",\"310\",\"313.33\"],\"palette\":[\"#C01234\",\"#C01234\",\"#C01234\",\"#C01234\",\"#C01234\",\"#C01234\",\"#C01234\",\"#C01234\",\"#C01234\",\"#C01234\",\"#C01234\",\"#C01234\",\"#C01234\",\"#C01234\",\"#C01234\",\"#C01234\",\"#C01234\",\"#C01234\",\"#C01234\",\"#C01234\",\"#C01234\",\"#C01234\",\"#C01234\",\"#C01234\",\"#C01234\",\"#C01234\",\"#C01234\",\"#C01234\",\"#C01234\",\"#C01234\",\"#C01234\",\"#C01234\",\"#C01234\",\"#C01234\",\"#C01234\",\"#C01234\",\"#C01234\",\"#C01234\",\"#C01234\",\"#C01234\",\"#C01234\",\"#C01234\",\"#C01234\",\"#C01234\",\"#C01234\",\"#C01234\",\"#C01234\",\"#C01234\",\"#C01234\",\"#C01234\",\"#C01234\",\"#C01234\",\"#C01234\",\"#C01234\",\"#C01234\",\"#C01234\",\"#C01234\",\"#C01234\",\"#C01234\",\"#C01234\",\"#C01234\",\"#C01234\",\"#C01234\",\"#C01234\",\"#C01234\",\"#C01234\",\"#C01234\",\"#C01234\",\"#C01234\",\"#C01234\",\"#C01234\",\"#C01234\",\"#C01234\",\"#C01234\",\"#C01234\",\"#C01234\",\"#C01234\",\"#C01234\",\"#C01234\",\"#C01234\",\"#C01234\",\"#C01234\"]},\"id\":\"2087\",\"type\":\"CategoricalColorMapper\"},{\"attributes\":{\"bottom\":{\"field\":\"bottom\"},\"fill_alpha\":{\"value\":1.0},\"fill_color\":{\"field\":\"Strike\",\"transform\":{\"id\":\"2087\"}},\"hatch_alpha\":{\"value\":1.0},\"hatch_color\":{\"field\":\"Strike\",\"transform\":{\"id\":\"2087\"}},\"hatch_scale\":{\"value\":12.0},\"hatch_weight\":{\"value\":1.0},\"line_alpha\":{\"value\":1.0},\"line_cap\":{\"value\":\"butt\"},\"line_color\":{\"value\":\"black\"},\"line_dash\":{\"value\":[]},\"line_dash_offset\":{\"value\":0},\"line_join\":{\"value\":\"bevel\"},\"line_width\":{\"value\":1},\"top\":{\"field\":\"top\"},\"width\":{\"value\":0.8},\"x\":{\"field\":\"Symbol\"}},\"id\":\"2096\",\"type\":\"VBar\"},{\"attributes\":{},\"id\":\"2076\",\"type\":\"WheelZoomTool\"},{\"attributes\":{},\"id\":\"2103\",\"type\":\"AllLabels\"},{\"attributes\":{},\"id\":\"2112\",\"type\":\"UnionRenderers\"},{\"attributes\":{\"bottom\":{\"field\":\"bottom\"},\"fill_alpha\":{\"value\":0.1},\"fill_color\":{\"field\":\"Strike\",\"transform\":{\"id\":\"2087\"}},\"hatch_alpha\":{\"value\":0.1},\"hatch_color\":{\"field\":\"Strike\",\"transform\":{\"id\":\"2087\"}},\"line_alpha\":{\"value\":0.1},\"top\":{\"field\":\"top\"},\"width\":{\"value\":0.8},\"x\":{\"field\":\"Symbol\"}},\"id\":\"2092\",\"type\":\"VBar\"},{\"attributes\":{},\"id\":\"2075\",\"type\":\"PanTool\"},{\"attributes\":{},\"id\":\"2074\",\"type\":\"SaveTool\"},{\"attributes\":{},\"id\":\"2078\",\"type\":\"ResetTool\"},{\"attributes\":{\"factors\":[\"AAL\",\"AAPL\",\"AMD\",\"AMZN\",\"ATUS\",\"BABA\",\"BAC\",\"C\",\"F\",\"GOOG\",\"GOOGL\",\"INTC\",\"META\",\"MSFT\",\"NIO\",\"NVDA\",\"RBLX\",\"SNAP\",\"T\",\"TSLA\"],\"tags\":[[[\"Symbol\",\"Symbol\",null]]]},\"id\":\"2055\",\"type\":\"FactorRange\"}],\"root_ids\":[\"2053\"]},\"title\":\"Bokeh Application\",\"version\":\"2.4.3\"}};\n",
       "    var render_items = [{\"docid\":\"117eca9c-e11d-4f0e-93a3-2d855724a237\",\"root_ids\":[\"2053\"],\"roots\":{\"2053\":\"81dd497c-e4ff-416d-9faa-2a57106627d9\"}}];\n",
       "    root.Bokeh.embed.embed_items_notebook(docs_json, render_items);\n",
       "  }\n",
       "  if (root.Bokeh !== undefined && root.Bokeh.Panel !== undefined) {\n",
       "    embed_document(root);\n",
       "  } else {\n",
       "    var attempts = 0;\n",
       "    var timer = setInterval(function(root) {\n",
       "      if (root.Bokeh !== undefined && root.Bokeh.Panel !== undefined) {\n",
       "        clearInterval(timer);\n",
       "        embed_document(root);\n",
       "      } else if (document.readyState == \"complete\") {\n",
       "        attempts++;\n",
       "        if (attempts > 200) {\n",
       "          clearInterval(timer);\n",
       "          console.log(\"Bokeh: ERROR: Unable to run BokehJS code because BokehJS library is missing\");\n",
       "        }\n",
       "      }\n",
       "    }, 25, root)\n",
       "  }\n",
       "})(window);</script>"
      ],
      "text/plain": [
       ":Bars   [Symbol,Strike]   (Open Int)"
      ]
     },
     "execution_count": 53,
     "metadata": {
      "application/vnd.holoviews_exec.v0+json": {
       "id": "2053"
      }
     },
     "output_type": "execute_result"
    }
   ],
   "source": [
    "# Calling options_put_bar\n",
    "options_put_bar(df)"
   ]
  },
  {
   "cell_type": "code",
   "execution_count": 54,
   "metadata": {},
   "outputs": [
    {
     "data": {},
     "metadata": {},
     "output_type": "display_data"
    },
    {
     "data": {
      "application/vnd.holoviews_exec.v0+json": "",
      "text/html": [
       "<div id='2162'>\n",
       "  <div class=\"bk-root\" id=\"2eb5c75c-2c30-438e-9ef7-ced894eacfd4\" data-root-id=\"2162\"></div>\n",
       "</div>\n",
       "<script type=\"application/javascript\">(function(root) {\n",
       "  function embed_document(root) {\n",
       "    var docs_json = {\"98d2e4da-6dca-4bfc-ae48-400f8a95d27a\":{\"defs\":[{\"extends\":null,\"module\":null,\"name\":\"ReactiveHTML1\",\"overrides\":[],\"properties\":[]},{\"extends\":null,\"module\":null,\"name\":\"FlexBox1\",\"overrides\":[],\"properties\":[{\"default\":\"flex-start\",\"kind\":null,\"name\":\"align_content\"},{\"default\":\"flex-start\",\"kind\":null,\"name\":\"align_items\"},{\"default\":\"row\",\"kind\":null,\"name\":\"flex_direction\"},{\"default\":\"wrap\",\"kind\":null,\"name\":\"flex_wrap\"},{\"default\":\"flex-start\",\"kind\":null,\"name\":\"justify_content\"}]},{\"extends\":null,\"module\":null,\"name\":\"GridStack1\",\"overrides\":[],\"properties\":[{\"default\":\"warn\",\"kind\":null,\"name\":\"mode\"},{\"default\":null,\"kind\":null,\"name\":\"ncols\"},{\"default\":null,\"kind\":null,\"name\":\"nrows\"},{\"default\":true,\"kind\":null,\"name\":\"allow_resize\"},{\"default\":true,\"kind\":null,\"name\":\"allow_drag\"},{\"default\":[],\"kind\":null,\"name\":\"state\"}]},{\"extends\":null,\"module\":null,\"name\":\"click1\",\"overrides\":[],\"properties\":[{\"default\":\"\",\"kind\":null,\"name\":\"terminal_output\"},{\"default\":\"\",\"kind\":null,\"name\":\"debug_name\"},{\"default\":0,\"kind\":null,\"name\":\"clears\"}]},{\"extends\":null,\"module\":null,\"name\":\"NotificationAreaBase1\",\"overrides\":[],\"properties\":[{\"default\":\"bottom-right\",\"kind\":null,\"name\":\"position\"},{\"default\":0,\"kind\":null,\"name\":\"_clear\"}]},{\"extends\":null,\"module\":null,\"name\":\"NotificationArea1\",\"overrides\":[],\"properties\":[{\"default\":[],\"kind\":null,\"name\":\"notifications\"},{\"default\":\"bottom-right\",\"kind\":null,\"name\":\"position\"},{\"default\":0,\"kind\":null,\"name\":\"_clear\"},{\"default\":[{\"background\":\"#ffc107\",\"icon\":{\"className\":\"fas fa-exclamation-triangle\",\"color\":\"white\",\"tagName\":\"i\"},\"type\":\"warning\"},{\"background\":\"#007bff\",\"icon\":{\"className\":\"fas fa-info-circle\",\"color\":\"white\",\"tagName\":\"i\"},\"type\":\"info\"}],\"kind\":null,\"name\":\"types\"}]},{\"extends\":null,\"module\":null,\"name\":\"Notification\",\"overrides\":[],\"properties\":[{\"default\":null,\"kind\":null,\"name\":\"background\"},{\"default\":3000,\"kind\":null,\"name\":\"duration\"},{\"default\":null,\"kind\":null,\"name\":\"icon\"},{\"default\":\"\",\"kind\":null,\"name\":\"message\"},{\"default\":null,\"kind\":null,\"name\":\"notification_type\"},{\"default\":false,\"kind\":null,\"name\":\"_destroyed\"}]},{\"extends\":null,\"module\":null,\"name\":\"TemplateActions1\",\"overrides\":[],\"properties\":[{\"default\":0,\"kind\":null,\"name\":\"open_modal\"},{\"default\":0,\"kind\":null,\"name\":\"close_modal\"}]},{\"extends\":null,\"module\":null,\"name\":\"MaterialTemplateActions1\",\"overrides\":[],\"properties\":[{\"default\":0,\"kind\":null,\"name\":\"open_modal\"},{\"default\":0,\"kind\":null,\"name\":\"close_modal\"}]}],\"roots\":{\"references\":[{\"attributes\":{\"children\":[{\"id\":\"2163\"},{\"id\":\"2168\"},{\"id\":\"2237\"}],\"margin\":[0,0,0,0],\"name\":\"Row03601\",\"tags\":[\"embedded\"]},\"id\":\"2162\",\"type\":\"Row\"},{\"attributes\":{},\"id\":\"2184\",\"type\":\"SaveTool\"},{\"attributes\":{\"coordinates\":null,\"data_source\":{\"id\":\"2217\"},\"glyph\":{\"id\":\"2220\"},\"group\":null,\"hover_glyph\":null,\"muted_glyph\":{\"id\":\"2222\"},\"nonselection_glyph\":{\"id\":\"2221\"},\"selection_glyph\":{\"id\":\"2225\"},\"view\":{\"id\":\"2224\"}},\"id\":\"2223\",\"type\":\"GlyphRenderer\"},{\"attributes\":{},\"id\":\"2203\",\"type\":\"AllLabels\"},{\"attributes\":{},\"id\":\"2232\",\"type\":\"UnionRenderers\"},{\"attributes\":{\"factors\":[\"AAPL\",\"AMZN\",\"AXP\",\"BAC\",\"CCL\",\"CHPT\",\"DKNG\",\"F\",\"JPM\",\"LVS\",\"NFLX\",\"NIO\",\"NVDA\",\"PCG\",\"PYPL\",\"SBUX\",\"TSLA\",\"TWTR\",\"UBER\",\"XOM\",\"AAL\",\"AMD\",\"ATUS\",\"BABA\",\"C\",\"GOOG\",\"GOOGL\",\"INTC\",\"META\",\"MSFT\",\"RBLX\",\"SNAP\",\"T\"],\"tags\":[[[\"Symbol\",\"Symbol\",null]]]},\"id\":\"2164\",\"type\":\"FactorRange\"},{\"attributes\":{\"end\":298561.0,\"reset_end\":298561.0,\"reset_start\":-10895.0,\"start\":-10895.0,\"tags\":[[[\"Open Int\",\"Open Int\",null]]]},\"id\":\"2165\",\"type\":\"Range1d\"},{\"attributes\":{\"bottom\":{\"field\":\"bottom\"},\"fill_alpha\":{\"value\":1.0},\"fill_color\":{\"field\":\"Strike\",\"transform\":{\"id\":\"2206\"}},\"hatch_alpha\":{\"value\":1.0},\"hatch_color\":{\"field\":\"Strike\",\"transform\":{\"id\":\"2206\"}},\"hatch_scale\":{\"value\":12.0},\"hatch_weight\":{\"value\":1.0},\"line_alpha\":{\"value\":1.0},\"line_cap\":{\"value\":\"butt\"},\"line_color\":{\"value\":\"black\"},\"line_dash\":{\"value\":[]},\"line_dash_offset\":{\"value\":0},\"line_join\":{\"value\":\"bevel\"},\"line_width\":{\"value\":1},\"top\":{\"field\":\"top\"},\"width\":{\"value\":0.8},\"x\":{\"field\":\"Symbol\"}},\"id\":\"2215\",\"type\":\"VBar\"},{\"attributes\":{\"bottom\":{\"field\":\"bottom\"},\"fill_alpha\":{\"value\":0.2},\"fill_color\":{\"field\":\"Strike\",\"transform\":{\"id\":\"2206\"}},\"hatch_alpha\":{\"value\":0.2},\"hatch_color\":{\"field\":\"Strike\",\"transform\":{\"id\":\"2206\"}},\"line_alpha\":{\"value\":0.2},\"top\":{\"field\":\"top\"},\"width\":{\"value\":0.8},\"x\":{\"field\":\"Symbol\"}},\"id\":\"2212\",\"type\":\"VBar\"},{\"attributes\":{},\"id\":\"2186\",\"type\":\"WheelZoomTool\"},{\"attributes\":{\"format\":\"%.0f\"},\"id\":\"2197\",\"type\":\"PrintfTickFormatter\"},{\"attributes\":{\"overlay\":{\"id\":\"2189\"}},\"id\":\"2187\",\"type\":\"BoxZoomTool\"},{\"attributes\":{\"data\":{\"Open_Int\":{\"__ndarray__\":\"AAAAAADPz0AAAAAAAESgQAAAAACApOdAAAAAAJB4/EAAAAAAAGTeQAAAAAAABrlAAAAAAGAW4UAAAAAAANLFQAAAAAAAurlAAAAAAMCV00AAAAAAQEXaQAAAAABAvONAAAAAAIBRxUAAAAAAAGffQAAAAAAgnetAAAAAAECM2UAAAAAAAHHfQAAAAAAA58BAAAAAAAB4r0AAAAAAAGCpQAAAAAAAc85AAAAAAAB51EAAAAAAQGPdQAAAAACAzdtAAAAAAADpvkAAAAAAAK/TQAAAAAAAOr1AAAAAAABRv0AAAAAAAN+3QAAAAAAA18BAAAAAAADUtUAAAAAAwJzfQAAAAAAAcbZAAAAAAADWtkAAAAAAAOCfQAAAAADA8tZAAAAAAABTuEAAAAAAAA6oQAAAAACA7MdAAAAAAMCw00AAAAAAgOXDQAAAAAAA6eZAAAAAAMAa30AAAAAAAGSeQAAAAAAAIKhAAAAAAAC4kkAAAAAAgBzTQAAAAAAA1bxAAAAAAMDN3EAAAAAAYIfhQAAAAABA3N9AAAAAAIApwkAAAAAASO0BQQAAAAAAsKdAAAAAAEBX0UAAAAAAQNLcQAAAAAAAJJNAAAAAAADonUAAAAAAAD6oQAAAAAAAc8tAAAAAAADepUAAAAAAwHvXQAAAAAAApbVAAAAAAIDTykAAAAAAAEW2QAAAAAAAH7FAAAAAAIAExkAAAAAAQP7UQAAAAAAAtr1AAAAAAID7w0AAAAAAAFWxQAAAAAAAw7pAAAAAAEBC0kAAAAAAALSiQAAAAAAAL89AAAAAAIC6zUAAAAAAgNPDQAAAAAAAIcVAAAAAAABgqkAAAAAAAMyqQAAAAAAAsrVAAAAAAICNwkAAAAAAAJquQAAAAAAA0JFAAAAAAAD6pEAAAAAAAGqjQAAAAAAAxcVAAAAAAAA0w0AAAAAAwFrVQAAAAACA+NRAAAAAAABomkAAAAAAwNHiQAAAAACA1sJAAAAAAIAtxEAAAAAAANi4QAAAAAAAnLJAAAAAAABYoEA=\",\"dtype\":\"float64\",\"order\":\"little\",\"shape\":[97]},\"Strike\":[\"14\",\"14.5\",\"15\",\"15\",\"152.5\",\"152.5\",\"155\",\"155\",\"157.5\",\"157.5\",\"160\",\"160\",\"162.5\",\"165\",\"165\",\"170\",\"170\",\"77.5\",\"78\",\"79\",\"80\",\"85\",\"90\",\"90\",\"124\",\"125\",\"126\",\"127\",\"127.5\",\"128\",\"129\",\"130\",\"131\",\"132\",\"132\",\"132.5\",\"133\",\"133\",\"135\",\"135\",\"140\",\"140\",\"9\",\"88\",\"89\",\"91\",\"95\",\"34.5\",\"35\",\"35\",\"50\",\"15.5\",\"16\",\"108\",\"110\",\"110\",\"103.25\",\"103.5\",\"104.5\",\"105\",\"106\",\"115\",\"29.5\",\"30\",\"30.5\",\"32\",\"150\",\"150\",\"245\",\"250\",\"252.5\",\"255\",\"260\",\"262.5\",\"270\",\"20.5\",\"21\",\"21.5\",\"22\",\"134\",\"145\",\"40\",\"40.5\",\"41\",\"42\",\"43\",\"45\",\"11.5\",\"12\",\"17\",\"17.5\",\"18\",\"303.33\",\"305\",\"306.67\",\"310\",\"313.33\"],\"Symbol\":[\"AAL\",\"AAL\",\"AAL\",\"F\",\"AAPL\",\"META\",\"AAPL\",\"META\",\"META\",\"AAPL\",\"META\",\"AAPL\",\"AAPL\",\"META\",\"AAPL\",\"META\",\"AAPL\",\"AMD\",\"AMD\",\"AMD\",\"AMD\",\"AMD\",\"AMD\",\"BABA\",\"AMZN\",\"AMZN\",\"AMZN\",\"AMZN\",\"AMZN\",\"AMZN\",\"AMZN\",\"AMZN\",\"AMZN\",\"AMZN\",\"NVDA\",\"AMZN\",\"AMZN\",\"NVDA\",\"NVDA\",\"AMZN\",\"NVDA\",\"AMZN\",\"ATUS\",\"BABA\",\"BABA\",\"BABA\",\"BABA\",\"BAC\",\"INTC\",\"BAC\",\"C\",\"F\",\"F\",\"GOOG\",\"GOOGL\",\"GOOG\",\"GOOGL\",\"GOOGL\",\"GOOGL\",\"GOOGL\",\"GOOGL\",\"GOOGL\",\"INTC\",\"INTC\",\"INTC\",\"INTC\",\"NVDA\",\"META\",\"MSFT\",\"MSFT\",\"MSFT\",\"MSFT\",\"MSFT\",\"MSFT\",\"MSFT\",\"NIO\",\"NIO\",\"NIO\",\"NIO\",\"NVDA\",\"NVDA\",\"RBLX\",\"RBLX\",\"RBLX\",\"RBLX\",\"RBLX\",\"RBLX\",\"SNAP\",\"SNAP\",\"T\",\"T\",\"T\",\"TSLA\",\"TSLA\",\"TSLA\",\"TSLA\",\"TSLA\"],\"bottom\":{\"__ndarray__\":\"AAAAAAAAAAAAAAAAAM/PQAAAAAAA8NFAAAAAAAAAAAAAAAAAAAAAAAAAAAAAAAAAAAAAAABk3kAAAAAAAAa5QAAAAACAKtFAAAAAADAk8EAAAAAAAJnXQAAAAACgCfVAAAAAAMDn/kAAAAAAIO/oQAAAAAD4yABBAAAAAFBR9EAAAAAAQLAHQQAAAAAAAAAAAAAAAADnwEAAAAAAAMXIQAAAAAAAHc9AAAAAAADI3kAAAAAAgKDpQAAAAAAAAAAAAAAAAAAAAAAAAAAAAOm+QAAAAABAadtAAAAAAOBb4UAAAAAAAEblQAAAAADgQehAAAAAAKB37EAAAAAAIDLvQAAAAABAgPdAAAAAAFDn+EAAAAAAAAAAAAAAAACwVPpAAAAAALAIAEEAAAAAAOCfQAAAAAAA/7NAAAAAAEjLAEEAAAAAAPbQQAAAAABgQQNBAAAAAAAAAAAAAAAAgM3bQAAAAADAs91AAAAAAOBb4EAAAAAAoPHgQAAAAAAAAAAAAAAAAAAAAAAAAAAAANW8QAAAAAAAAAAAAAAAAJB4/EAAAAAAwL3+QAAAAAAAAAAAAAAAAAAAAAAAAAAAALCnQAAAAABAV9FAAAAAAICJ0kAAAAAAAGjUQAAAAADAb9dAAAAAAKCU4kAAAAAAgPLjQAAAAADAzdxAAAAAAIAb4UAAAAAAYNDnQAAAAAAAmepAAAAAAMDo2kAAAAAAYLT6QAAAAAAAAAAAAAAAAAC2vUAAAAAAQGvRQAAAAACAwNVAAAAAAEBx3EAAAAAAwFnnQAAAAAAAhehAAAAAAAAAAAAAAAAAgLrNQAAAAAAAx9hAAAAAAMCr4UAAAAAAgPXiQAAAAABAouRAAAAAAAAAAAAAAAAAgI3CQAAAAAAANMpAAAAAAABuzEAAAAAAQNbQQAAAAACAQ9NAAAAAAAAAAAAAAAAAADTDQAAAAAAAAAAAAAAAAID41EAAAAAAAJ/WQAAAAAAAAAAAAAAAAIDWwkAAAAAAAILTQAAAAAAAuNlAAAAAAABf3kA=\",\"dtype\":\"float64\",\"order\":\"little\",\"shape\":[97]},\"top\":{\"__ndarray__\":\"AAAAAADPz0AAAAAAAPDRQAAAAABATvBAAAAAAJB4/EAAAAAAAGTeQAAAAAAABrlAAAAAADAk8EAAAAAAgCrRQAAAAAAAmddAAAAAAKAJ9UAAAAAAIO/oQAAAAADA5/5AAAAAAPjIAEEAAAAAUFH0QAAAAABAsAdBAAAAAGC0+kAAAAAAYJ4LQQAAAAAA58BAAAAAAADFyEAAAAAAAB3PQAAAAAAAyN5AAAAAAICg6UAAAAAAECn0QAAAAACAzdtAAAAAAADpvkAAAAAAQGnbQAAAAADgW+FAAAAAAABG5UAAAAAA4EHoQAAAAACgd+xAAAAAACAy70AAAAAAQID3QAAAAABQ5/hAAAAAALBU+kAAAAAAAOCfQAAAAACwCABBAAAAAEjLAEEAAAAAAP+zQAAAAAAA9tBAAAAAAGBBA0EAAAAAwOjaQAAAAACg+whBAAAAAMAa30AAAAAAwLPdQAAAAADgW+BAAAAAAKDx4EAAAAAA4H/qQAAAAAAA1bxAAAAAAMDN3EAAAAAAACLlQAAAAABA3N9AAAAAAMC9/kAAAAAAFKYQQQAAAAAAsKdAAAAAAEBX0UAAAAAAQMjfQAAAAACAidJAAAAAAABo1EAAAAAAwG/XQAAAAACglOJAAAAAAIDy40AAAAAAYLDvQAAAAACAG+FAAAAAAGDQ50AAAAAAAJnqQAAAAADgvOxAAAAAAID14kAAAAAA8PP/QAAAAAAAtr1AAAAAAEBr0UAAAAAAgMDVQAAAAABAcdxAAAAAAMBZ50AAAAAAAIXoQAAAAABgKPBAAAAAAIC6zUAAAAAAAMfYQAAAAADAq+FAAAAAAMBR40AAAAAAQKLkQAAAAACAWOdAAAAAAICNwkAAAAAAADTKQAAAAAAAbsxAAAAAAEDW0EAAAAAAgEPTQAAAAAAAJt5AAAAAAAA0w0AAAAAAwPTeQAAAAACA+NRAAAAAAACf1kAAAAAAQCHuQAAAAACA1sJAAAAAAACC00AAAAAAALjZQAAAAAAAX95AAAAAAAA14EA=\",\"dtype\":\"float64\",\"order\":\"little\",\"shape\":[97]}},\"selected\":{\"id\":\"2218\"},\"selection_policy\":{\"id\":\"2234\"}},\"id\":\"2217\",\"type\":\"ColumnDataSource\"},{\"attributes\":{},\"id\":\"2218\",\"type\":\"Selection\"},{\"attributes\":{\"bottom_units\":\"screen\",\"coordinates\":null,\"fill_alpha\":0.5,\"fill_color\":\"lightgrey\",\"group\":null,\"left_units\":\"screen\",\"level\":\"overlay\",\"line_alpha\":1.0,\"line_color\":\"black\",\"line_dash\":[4,4],\"line_width\":2,\"right_units\":\"screen\",\"syncable\":false,\"top_units\":\"screen\"},\"id\":\"2189\",\"type\":\"BoxAnnotation\"},{\"attributes\":{\"axis\":{\"id\":\"2177\"},\"coordinates\":null,\"grid_line_color\":null,\"group\":null,\"ticker\":null},\"id\":\"2179\",\"type\":\"Grid\"},{\"attributes\":{\"source\":{\"id\":\"2217\"}},\"id\":\"2224\",\"type\":\"CDSView\"},{\"attributes\":{},\"id\":\"2199\",\"type\":\"CategoricalTickFormatter\"},{\"attributes\":{\"bottom\":{\"field\":\"bottom\"},\"fill_alpha\":{\"value\":0.1},\"fill_color\":{\"field\":\"Strike\",\"transform\":{\"id\":\"2216\"}},\"hatch_alpha\":{\"value\":0.1},\"hatch_color\":{\"field\":\"Strike\",\"transform\":{\"id\":\"2216\"}},\"line_alpha\":{\"value\":0.1},\"top\":{\"field\":\"top\"},\"width\":{\"value\":0.8},\"x\":{\"field\":\"Symbol\"}},\"id\":\"2221\",\"type\":\"VBar\"},{\"attributes\":{},\"id\":\"2185\",\"type\":\"PanTool\"},{\"attributes\":{\"coordinates\":null,\"data_source\":{\"id\":\"2207\"},\"glyph\":{\"id\":\"2210\"},\"group\":null,\"hover_glyph\":null,\"muted_glyph\":{\"id\":\"2212\"},\"nonselection_glyph\":{\"id\":\"2211\"},\"selection_glyph\":{\"id\":\"2215\"},\"view\":{\"id\":\"2214\"}},\"id\":\"2213\",\"type\":\"GlyphRenderer\"},{\"attributes\":{\"data\":{\"Open_Int\":{\"__ndarray__\":\"AAAAAECS1EAAAAAAAEifQAAAAAAAfbVAAAAAAAAEykAAAAAAANK9QAAAAAAA+dNAAAAAAABEzEAAAAAAABThQAAAAACAFs1AAAAAAADAbUAAAAAAADLIQAAAAACAuN5AAAAAAACmpkAAAAAAAAKlQAAAAAAQhvRAAAAAAADHsUAAAAAAACrBQAAAAACAZcVAAAAAAAD4okAAAAAAAOTSQAAAAAAgEeNAAAAAAACFuUAAAAAAABG0QAAAAAAAkJBAAAAAAICxxEAAAAAAAP3DQAAAAAAAYcdAAAAAAADUp0AAAAAAAOSxQAAAAACAEclAAAAAAMD22EAAAAAAgDraQAAAAADArNxAAAAAAABGokAAAAAAADWyQAAAAAAAQIhAAAAAAAD90UAAAAAAgGrIQAAAAAAAIJFAAAAAAABIqUAAAAAAAKK8QAAAAAAAsJtAAAAAAAC3t0AAAAAAAJKtQAAAAAAAVqNAAAAAAADD0UAAAAAAACSRQAAAAAAA8JZAAAAAAADwpkAAAAAAABqxQAAAAAAAAMNAAAAAAACwxkAAAAAAAJjPQAAAAACAj9RAAAAAAABqpUAAAAAAALiSQAAAAAAAL8xAAAAAAADypUAAAAAAAMCsQAAAAACgPuNAAAAAAAACqEAAAAAAADnhQAAAAAAAus1AAAAAAGBH4UAAAAAAgAnDQAAAAAAAeK5AAAAAAAAut0AAAAAAANy8QAAAAACAXMpAAAAAAABIt0AAAAAAADSzQAAAAAAApJ9AAAAAAABkwEAAAAAAALalQAAAAAAALqBAAAAAAAAIpkAAAAAAAKW4QAAAAAAAvqNAAAAAAIC+xEAAAAAAABqnQAAAAAAAqqtAAAAAAABsskAAAAAAwLLgQAAAAAAAysJAAAAAAEBj2UAAAAAAAP7OQAAAAAAAwdVAAAAAAAD5uEAAAAAAANy4QA==\",\"dtype\":\"float64\",\"order\":\"little\",\"shape\":[89]},\"Strike\":[\"125\",\"125\",\"130\",\"130\",\"135\",\"140\",\"145\",\"150\",\"150\",\"70\",\"115\",\"115\",\"117\",\"117\",\"120\",\"123\",\"32\",\"33\",\"33.5\",\"34\",\"10\",\"10.5\",\"16\",\"17\",\"17\",\"17.5\",\"18\",\"18\",\"18.5\",\"12\",\"13\",\"13\",\"14\",\"14.5\",\"110\",\"116\",\"38\",\"225\",\"227.5\",\"230\",\"235\",\"237.5\",\"240\",\"19\",\"19.5\",\"20\",\"128\",\"129\",\"131\",\"132\",\"90\",\"90\",\"90\",\"92.5\",\"92.5\",\"94\",\"87.5\",\"88\",\"91\",\"166.67\",\"203.33\",\"250\",\"260\",\"266.67\",\"270\",\"275\",\"276.67\",\"280\",\"283.33\",\"285\",\"286.67\",\"288.33\",\"290\",\"290.83\",\"291.67\",\"292.5\",\"293.33\",\"294.17\",\"295\",\"295.83\",\"296.67\",\"298.33\",\"300\",\"301.67\",\"40\",\"41\",\"30\",\"31\",\"31.5\"],\"Symbol\":[\"AAPL\",\"NVDA\",\"NVDA\",\"AAPL\",\"AAPL\",\"AAPL\",\"AAPL\",\"AAPL\",\"AXP\",\"AMZN\",\"JPM\",\"AMZN\",\"JPM\",\"AMZN\",\"AMZN\",\"AMZN\",\"BAC\",\"BAC\",\"BAC\",\"BAC\",\"CCL\",\"CCL\",\"CHPT\",\"NIO\",\"CHPT\",\"DKNG\",\"DKNG\",\"NIO\",\"DKNG\",\"F\",\"F\",\"PCG\",\"F\",\"F\",\"JPM\",\"JPM\",\"LVS\",\"NFLX\",\"NFLX\",\"NFLX\",\"NFLX\",\"NFLX\",\"NFLX\",\"NIO\",\"NIO\",\"NIO\",\"NVDA\",\"NVDA\",\"NVDA\",\"NVDA\",\"XOM\",\"PYPL\",\"SBUX\",\"XOM\",\"PYPL\",\"PYPL\",\"SBUX\",\"SBUX\",\"SBUX\",\"TSLA\",\"TSLA\",\"TSLA\",\"TSLA\",\"TSLA\",\"TSLA\",\"TSLA\",\"TSLA\",\"TSLA\",\"TSLA\",\"TSLA\",\"TSLA\",\"TSLA\",\"TSLA\",\"TSLA\",\"TSLA\",\"TSLA\",\"TSLA\",\"TSLA\",\"TSLA\",\"TSLA\",\"TSLA\",\"TSLA\",\"TSLA\",\"TSLA\",\"TWTR\",\"TWTR\",\"UBER\",\"UBER\",\"UBER\"],\"bottom\":{\"__ndarray__\":\"AAAAAAAAAAAAAAAAAAAAAAAAAAAASJ9AAAAAAECS1EAAAAAAIMrgQAAAAABghORAAAAAAOCA7kAAAAAA8MjyQAAAAAAAAAAAAAAAAAAAAAAAAAAAAAAAAAAAAAAAwG1AAAAAAAAyyEAAAAAAAPTeQAAAAAAgyuBAAAAAACDr/EAAAAAAAAAAAAAAAAAAKsFAAAAAAMBH00AAAAAAwKbVQAAAAAAAAAAAAAAAACAR40AAAAAAAAAAAAAAAAAAAAAAAAAAAAARtEAAAAAAAAAAAAAAAAAA/cNAAAAAAACQkEAAAAAAAK/VQAAAAAAAAAAAAAAAAIARyUAAAAAAAAAAAAAAAADAv+JAAAAAABCL8EAAAAAAgNvNQAAAAAAAe9NAAAAAAAAAAAAAAAAAAAAAAAAAAACAashAAAAAAICOykAAAAAAQHDQQAAAAADAmNdAAAAAAMBT2UAAAAAAAA6wQAAAAAAA175AAAAAAABBxEAAAAAAAE+9QAAAAAAAzMBAAAAAAACqw0AAAAAAAGbJQAAAAAAAAAAAAAAAAAAAAAAAAAAAAAAAAAAAAAAAAMNAAAAAAACwxkAAAAAAgArMQAAAAAAAmM9AAAAAAIDj3UAAAAAA4FDgQAAAAAAAAAAAAAAAAKA+40AAAAAAwL7kQAAAAADg+/JAAAAAACCz9kAAAAAA0Fb/QAAAAAAA3ABBAAAAAOBVAUEAAAAAUA8CQQAAAAAw9gJBAAAAAPibBEEAAAAAOFYFQQAAAADY7wVBAAAAACAvBkEAAAAAYDUHQQAAAAA4jAdBAAAAAPDMB0EAAAAAECUIQQAAAAA46ghBAAAAADA5CUEAAAAAGIUKQQAAAACA4QpBAAAAAChQC0EAAAAAiOMLQQAAAAAcCBBBAAAAAAAAAAAAAAAAQGPZQAAAAAAAAAAAAAAAAADB1UAAAAAAQP/bQA==\",\"dtype\":\"float64\",\"order\":\"little\",\"shape\":[89]},\"top\":{\"__ndarray__\":\"AAAAAECS1EAAAAAAAEifQAAAAAAAT71AAAAAACDK4EAAAAAAYITkQAAAAADggO5AAAAAAPDI8kAAAAAA8FL7QAAAAACAFs1AAAAAAADAbUAAAAAAADLIQAAAAAAA9N5AAAAAAIDbzUAAAAAAIMrgQAAAAAAg6/xAAAAAAJAH/kAAAAAAACrBQAAAAADAR9NAAAAAAMCm1UAAAAAAYEXkQAAAAAAgEeNAAAAAAMBB5kAAAAAAABG0QAAAAAAAkJBAAAAAAAC6zkAAAAAAAP3DQAAAAAAAr9VAAAAAAAAOsEAAAAAAACjaQAAAAACAEclAAAAAAMC/4kAAAAAAgDraQAAAAAAQi/BAAAAAAEAd8UAAAAAAAHvTQAAAAAAAPdRAAAAAAAD90UAAAAAAgGrIQAAAAACAjspAAAAAAEBw0EAAAAAAwJjXQAAAAADAU9lAAAAAAIBB30AAAAAAANe+QAAAAAAAQcRAAAAAAIDj20AAAAAAAMzAQAAAAAAAqsNAAAAAAABmyUAAAAAAgPnQQAAAAAAAAMNAAAAAAACwxkAAAAAAAJjPQAAAAACAD95AAAAAAIAKzEAAAAAAgGHOQAAAAACA491AAAAAAOBQ4EAAAAAA4BziQAAAAACgPuNAAAAAAMC+5EAAAAAA4PvyQAAAAAAgs/ZAAAAAANBW/0AAAAAAANwAQQAAAADgVQFBAAAAAFAPAkEAAAAAMPYCQQAAAAD4mwRBAAAAADhWBUEAAAAA2O8FQQAAAAAgLwZBAAAAAGA1B0EAAAAAOIwHQQAAAADwzAdBAAAAABAlCEEAAAAAOOoIQQAAAAAwOQlBAAAAABiFCkEAAAAAgOEKQQAAAAAoUAtBAAAAAIjjC0EAAAAAHAgQQQAAAABsnhBBAAAAAEBj2UAAAAAAIHHkQAAAAAAAwdVAAAAAAED/20AAAAAAIBvhQA==\",\"dtype\":\"float64\",\"order\":\"little\",\"shape\":[89]}},\"selected\":{\"id\":\"2208\"},\"selection_policy\":{\"id\":\"2232\"}},\"id\":\"2207\",\"type\":\"ColumnDataSource\"},{\"attributes\":{\"coordinates\":null,\"group\":null,\"text\":\"Call to Put Comparison\",\"text_color\":\"black\",\"text_font_size\":\"12pt\"},\"id\":\"2169\",\"type\":\"Title\"},{\"attributes\":{\"source\":{\"id\":\"2207\"}},\"id\":\"2214\",\"type\":\"CDSView\"},{\"attributes\":{},\"id\":\"2234\",\"type\":\"UnionRenderers\"},{\"attributes\":{},\"id\":\"2175\",\"type\":\"LinearScale\"},{\"attributes\":{\"tools\":[{\"id\":\"2166\"},{\"id\":\"2184\"},{\"id\":\"2185\"},{\"id\":\"2186\"},{\"id\":\"2187\"},{\"id\":\"2188\"}]},\"id\":\"2190\",\"type\":\"Toolbar\"},{\"attributes\":{},\"id\":\"2178\",\"type\":\"CategoricalTicker\"},{\"attributes\":{\"factors\":[\"125\",\"130\",\"135\",\"140\",\"145\",\"150\",\"70\",\"115\",\"117\",\"120\",\"123\",\"32\",\"33\",\"33.5\",\"34\",\"10\",\"10.5\",\"16\",\"17\",\"17.5\",\"18\",\"18.5\",\"12\",\"13\",\"14\",\"14.5\",\"110\",\"116\",\"38\",\"225\",\"227.5\",\"230\",\"235\",\"237.5\",\"240\",\"19\",\"19.5\",\"20\",\"128\",\"129\",\"131\",\"132\",\"90\",\"92.5\",\"94\",\"87.5\",\"88\",\"91\",\"166.67\",\"203.33\",\"250\",\"260\",\"266.67\",\"270\",\"275\",\"276.67\",\"280\",\"283.33\",\"285\",\"286.67\",\"288.33\",\"290\",\"290.83\",\"291.67\",\"292.5\",\"293.33\",\"294.17\",\"295\",\"295.83\",\"296.67\",\"298.33\",\"300\",\"301.67\",\"40\",\"41\",\"30\",\"31\",\"31.5\"],\"palette\":[\"#259646\",\"#259646\",\"#259646\",\"#259646\",\"#259646\",\"#259646\",\"#259646\",\"#259646\",\"#259646\",\"#259646\",\"#259646\",\"#259646\",\"#259646\",\"#259646\",\"#259646\",\"#259646\",\"#259646\",\"#259646\",\"#259646\",\"#259646\",\"#259646\",\"#259646\",\"#259646\",\"#259646\",\"#259646\",\"#259646\",\"#259646\",\"#259646\",\"#259646\",\"#259646\",\"#259646\",\"#259646\",\"#259646\",\"#259646\",\"#259646\",\"#259646\",\"#259646\",\"#259646\",\"#259646\",\"#259646\",\"#259646\",\"#259646\",\"#259646\",\"#259646\",\"#259646\",\"#259646\",\"#259646\",\"#259646\",\"#259646\",\"#259646\",\"#259646\",\"#259646\",\"#259646\",\"#259646\",\"#259646\",\"#259646\",\"#259646\",\"#259646\",\"#259646\",\"#259646\",\"#259646\",\"#259646\",\"#259646\",\"#259646\",\"#259646\",\"#259646\",\"#259646\",\"#259646\",\"#259646\",\"#259646\",\"#259646\",\"#259646\",\"#259646\",\"#259646\",\"#259646\",\"#259646\",\"#259646\",\"#259646\"]},\"id\":\"2206\",\"type\":\"CategoricalColorMapper\"},{\"attributes\":{\"axis_label\":\"Symbol\",\"coordinates\":null,\"formatter\":{\"id\":\"2199\"},\"group\":null,\"major_label_orientation\":1.5707963267948966,\"major_label_policy\":{\"id\":\"2200\"},\"ticker\":{\"id\":\"2178\"}},\"id\":\"2177\",\"type\":\"CategoricalAxis\"},{\"attributes\":{\"callback\":null,\"renderers\":[{\"id\":\"2213\"},{\"id\":\"2223\"}],\"tags\":[\"hv_created\"],\"tooltips\":[[\"Symbol\",\"@{Symbol}\"],[\"Strike\",\"@{Strike}\"],[\"Open Int\",\"@{Open_Int}\"]]},\"id\":\"2166\",\"type\":\"HoverTool\"},{\"attributes\":{\"bottom\":{\"field\":\"bottom\"},\"fill_alpha\":{\"value\":0.1},\"fill_color\":{\"field\":\"Strike\",\"transform\":{\"id\":\"2206\"}},\"hatch_alpha\":{\"value\":0.1},\"hatch_color\":{\"field\":\"Strike\",\"transform\":{\"id\":\"2206\"}},\"line_alpha\":{\"value\":0.1},\"top\":{\"field\":\"top\"},\"width\":{\"value\":0.8},\"x\":{\"field\":\"Symbol\"}},\"id\":\"2211\",\"type\":\"VBar\"},{\"attributes\":{\"bottom\":{\"field\":\"bottom\"},\"fill_color\":{\"field\":\"Strike\",\"transform\":{\"id\":\"2216\"}},\"hatch_color\":{\"field\":\"Strike\",\"transform\":{\"id\":\"2216\"}},\"top\":{\"field\":\"top\"},\"width\":{\"value\":0.8},\"x\":{\"field\":\"Symbol\"}},\"id\":\"2220\",\"type\":\"VBar\"},{\"attributes\":{\"bottom\":{\"field\":\"bottom\"},\"fill_color\":{\"field\":\"Strike\",\"transform\":{\"id\":\"2206\"}},\"hatch_color\":{\"field\":\"Strike\",\"transform\":{\"id\":\"2206\"}},\"top\":{\"field\":\"top\"},\"width\":{\"value\":0.8},\"x\":{\"field\":\"Symbol\"}},\"id\":\"2210\",\"type\":\"VBar\"},{\"attributes\":{},\"id\":\"2181\",\"type\":\"BasicTicker\"},{\"attributes\":{},\"id\":\"2208\",\"type\":\"Selection\"},{\"attributes\":{\"axis\":{\"id\":\"2180\"},\"coordinates\":null,\"dimension\":1,\"grid_line_color\":null,\"group\":null,\"ticker\":null},\"id\":\"2183\",\"type\":\"Grid\"},{\"attributes\":{\"factors\":[\"14\",\"14.5\",\"15\",\"152.5\",\"155\",\"157.5\",\"160\",\"162.5\",\"165\",\"170\",\"77.5\",\"78\",\"79\",\"80\",\"85\",\"90\",\"124\",\"125\",\"126\",\"127\",\"127.5\",\"128\",\"129\",\"130\",\"131\",\"132\",\"132.5\",\"133\",\"135\",\"140\",\"9\",\"88\",\"89\",\"91\",\"95\",\"34.5\",\"35\",\"50\",\"15.5\",\"16\",\"108\",\"110\",\"103.25\",\"103.5\",\"104.5\",\"105\",\"106\",\"115\",\"29.5\",\"30\",\"30.5\",\"32\",\"150\",\"245\",\"250\",\"252.5\",\"255\",\"260\",\"262.5\",\"270\",\"20.5\",\"21\",\"21.5\",\"22\",\"134\",\"145\",\"40\",\"40.5\",\"41\",\"42\",\"43\",\"45\",\"11.5\",\"12\",\"17\",\"17.5\",\"18\",\"303.33\",\"305\",\"306.67\",\"310\",\"313.33\"],\"palette\":[\"#C01234\",\"#C01234\",\"#C01234\",\"#C01234\",\"#C01234\",\"#C01234\",\"#C01234\",\"#C01234\",\"#C01234\",\"#C01234\",\"#C01234\",\"#C01234\",\"#C01234\",\"#C01234\",\"#C01234\",\"#C01234\",\"#C01234\",\"#C01234\",\"#C01234\",\"#C01234\",\"#C01234\",\"#C01234\",\"#C01234\",\"#C01234\",\"#C01234\",\"#C01234\",\"#C01234\",\"#C01234\",\"#C01234\",\"#C01234\",\"#C01234\",\"#C01234\",\"#C01234\",\"#C01234\",\"#C01234\",\"#C01234\",\"#C01234\",\"#C01234\",\"#C01234\",\"#C01234\",\"#C01234\",\"#C01234\",\"#C01234\",\"#C01234\",\"#C01234\",\"#C01234\",\"#C01234\",\"#C01234\",\"#C01234\",\"#C01234\",\"#C01234\",\"#C01234\",\"#C01234\",\"#C01234\",\"#C01234\",\"#C01234\",\"#C01234\",\"#C01234\",\"#C01234\",\"#C01234\",\"#C01234\",\"#C01234\",\"#C01234\",\"#C01234\",\"#C01234\",\"#C01234\",\"#C01234\",\"#C01234\",\"#C01234\",\"#C01234\",\"#C01234\",\"#C01234\",\"#C01234\",\"#C01234\",\"#C01234\",\"#C01234\",\"#C01234\",\"#C01234\",\"#C01234\",\"#C01234\",\"#C01234\",\"#C01234\"]},\"id\":\"2216\",\"type\":\"CategoricalColorMapper\"},{\"attributes\":{},\"id\":\"2173\",\"type\":\"CategoricalScale\"},{\"attributes\":{},\"id\":\"2188\",\"type\":\"ResetTool\"},{\"attributes\":{\"below\":[{\"id\":\"2177\"}],\"center\":[{\"id\":\"2179\"},{\"id\":\"2183\"}],\"height\":800,\"left\":[{\"id\":\"2180\"}],\"margin\":[5,5,5,5],\"min_border_bottom\":10,\"min_border_left\":10,\"min_border_right\":10,\"min_border_top\":10,\"renderers\":[{\"id\":\"2213\"},{\"id\":\"2223\"}],\"sizing_mode\":\"fixed\",\"title\":{\"id\":\"2169\"},\"toolbar\":{\"id\":\"2190\"},\"width\":1000,\"x_range\":{\"id\":\"2164\"},\"x_scale\":{\"id\":\"2173\"},\"y_range\":{\"id\":\"2165\"},\"y_scale\":{\"id\":\"2175\"}},\"id\":\"2168\",\"subtype\":\"Figure\",\"type\":\"Plot\"},{\"attributes\":{\"margin\":[5,5,5,5],\"name\":\"HSpacer03606\",\"sizing_mode\":\"stretch_width\"},\"id\":\"2237\",\"type\":\"Spacer\"},{\"attributes\":{\"margin\":[5,5,5,5],\"name\":\"HSpacer03605\",\"sizing_mode\":\"stretch_width\"},\"id\":\"2163\",\"type\":\"Spacer\"},{\"attributes\":{\"bottom\":{\"field\":\"bottom\"},\"fill_alpha\":{\"value\":1.0},\"fill_color\":{\"field\":\"Strike\",\"transform\":{\"id\":\"2216\"}},\"hatch_alpha\":{\"value\":1.0},\"hatch_color\":{\"field\":\"Strike\",\"transform\":{\"id\":\"2216\"}},\"hatch_scale\":{\"value\":12.0},\"hatch_weight\":{\"value\":1.0},\"line_alpha\":{\"value\":1.0},\"line_cap\":{\"value\":\"butt\"},\"line_color\":{\"value\":\"black\"},\"line_dash\":{\"value\":[]},\"line_dash_offset\":{\"value\":0},\"line_join\":{\"value\":\"bevel\"},\"line_width\":{\"value\":1},\"top\":{\"field\":\"top\"},\"width\":{\"value\":0.8},\"x\":{\"field\":\"Symbol\"}},\"id\":\"2225\",\"type\":\"VBar\"},{\"attributes\":{\"bottom\":{\"field\":\"bottom\"},\"fill_alpha\":{\"value\":0.2},\"fill_color\":{\"field\":\"Strike\",\"transform\":{\"id\":\"2216\"}},\"hatch_alpha\":{\"value\":0.2},\"hatch_color\":{\"field\":\"Strike\",\"transform\":{\"id\":\"2216\"}},\"line_alpha\":{\"value\":0.2},\"top\":{\"field\":\"top\"},\"width\":{\"value\":0.8},\"x\":{\"field\":\"Symbol\"}},\"id\":\"2222\",\"type\":\"VBar\"},{\"attributes\":{},\"id\":\"2200\",\"type\":\"AllLabels\"},{\"attributes\":{\"axis_label\":\"Open Int\",\"coordinates\":null,\"formatter\":{\"id\":\"2197\"},\"group\":null,\"major_label_policy\":{\"id\":\"2203\"},\"ticker\":{\"id\":\"2181\"}},\"id\":\"2180\",\"type\":\"LinearAxis\"}],\"root_ids\":[\"2162\"]},\"title\":\"Bokeh Application\",\"version\":\"2.4.3\"}};\n",
       "    var render_items = [{\"docid\":\"98d2e4da-6dca-4bfc-ae48-400f8a95d27a\",\"root_ids\":[\"2162\"],\"roots\":{\"2162\":\"2eb5c75c-2c30-438e-9ef7-ced894eacfd4\"}}];\n",
       "    root.Bokeh.embed.embed_items_notebook(docs_json, render_items);\n",
       "  }\n",
       "  if (root.Bokeh !== undefined && root.Bokeh.Panel !== undefined) {\n",
       "    embed_document(root);\n",
       "  } else {\n",
       "    var attempts = 0;\n",
       "    var timer = setInterval(function(root) {\n",
       "      if (root.Bokeh !== undefined && root.Bokeh.Panel !== undefined) {\n",
       "        clearInterval(timer);\n",
       "        embed_document(root);\n",
       "      } else if (document.readyState == \"complete\") {\n",
       "        attempts++;\n",
       "        if (attempts > 200) {\n",
       "          clearInterval(timer);\n",
       "          console.log(\"Bokeh: ERROR: Unable to run BokehJS code because BokehJS library is missing\");\n",
       "        }\n",
       "      }\n",
       "    }, 25, root)\n",
       "  }\n",
       "})(window);</script>"
      ],
      "text/plain": [
       ":Overlay\n",
       "   .Bars.Call :Bars   [Symbol,Strike]   (Open Int)\n",
       "   .Bars.Puts :Bars   [Symbol,Strike]   (Open Int)"
      ]
     },
     "execution_count": 54,
     "metadata": {
      "application/vnd.holoviews_exec.v0+json": {
       "id": "2162"
      }
     },
     "output_type": "execute_result"
    }
   ],
   "source": [
    "options_call_bar(df) * options_put_bar(df).opts(\n",
    "    title= 'Call to Put Comparison'\n",
    ")"
   ]
  },
  {
   "cell_type": "code",
   "execution_count": 55,
   "metadata": {},
   "outputs": [
    {
     "data": {},
     "metadata": {},
     "output_type": "display_data"
    },
    {
     "data": {
      "application/vnd.holoviews_exec.v0+json": "",
      "text/html": [
       "<div id='2294'>\n",
       "  <div class=\"bk-root\" id=\"7cb6a57f-397a-42dc-9e4b-7c00a6a790ba\" data-root-id=\"2294\"></div>\n",
       "</div>\n",
       "<script type=\"application/javascript\">(function(root) {\n",
       "  function embed_document(root) {\n",
       "    var docs_json = {\"6e97f4ae-6a7e-403e-88c6-0ef2b671a0e5\":{\"defs\":[{\"extends\":null,\"module\":null,\"name\":\"ReactiveHTML1\",\"overrides\":[],\"properties\":[]},{\"extends\":null,\"module\":null,\"name\":\"FlexBox1\",\"overrides\":[],\"properties\":[{\"default\":\"flex-start\",\"kind\":null,\"name\":\"align_content\"},{\"default\":\"flex-start\",\"kind\":null,\"name\":\"align_items\"},{\"default\":\"row\",\"kind\":null,\"name\":\"flex_direction\"},{\"default\":\"wrap\",\"kind\":null,\"name\":\"flex_wrap\"},{\"default\":\"flex-start\",\"kind\":null,\"name\":\"justify_content\"}]},{\"extends\":null,\"module\":null,\"name\":\"GridStack1\",\"overrides\":[],\"properties\":[{\"default\":\"warn\",\"kind\":null,\"name\":\"mode\"},{\"default\":null,\"kind\":null,\"name\":\"ncols\"},{\"default\":null,\"kind\":null,\"name\":\"nrows\"},{\"default\":true,\"kind\":null,\"name\":\"allow_resize\"},{\"default\":true,\"kind\":null,\"name\":\"allow_drag\"},{\"default\":[],\"kind\":null,\"name\":\"state\"}]},{\"extends\":null,\"module\":null,\"name\":\"click1\",\"overrides\":[],\"properties\":[{\"default\":\"\",\"kind\":null,\"name\":\"terminal_output\"},{\"default\":\"\",\"kind\":null,\"name\":\"debug_name\"},{\"default\":0,\"kind\":null,\"name\":\"clears\"}]},{\"extends\":null,\"module\":null,\"name\":\"NotificationAreaBase1\",\"overrides\":[],\"properties\":[{\"default\":\"bottom-right\",\"kind\":null,\"name\":\"position\"},{\"default\":0,\"kind\":null,\"name\":\"_clear\"}]},{\"extends\":null,\"module\":null,\"name\":\"NotificationArea1\",\"overrides\":[],\"properties\":[{\"default\":[],\"kind\":null,\"name\":\"notifications\"},{\"default\":\"bottom-right\",\"kind\":null,\"name\":\"position\"},{\"default\":0,\"kind\":null,\"name\":\"_clear\"},{\"default\":[{\"background\":\"#ffc107\",\"icon\":{\"className\":\"fas fa-exclamation-triangle\",\"color\":\"white\",\"tagName\":\"i\"},\"type\":\"warning\"},{\"background\":\"#007bff\",\"icon\":{\"className\":\"fas fa-info-circle\",\"color\":\"white\",\"tagName\":\"i\"},\"type\":\"info\"}],\"kind\":null,\"name\":\"types\"}]},{\"extends\":null,\"module\":null,\"name\":\"Notification\",\"overrides\":[],\"properties\":[{\"default\":null,\"kind\":null,\"name\":\"background\"},{\"default\":3000,\"kind\":null,\"name\":\"duration\"},{\"default\":null,\"kind\":null,\"name\":\"icon\"},{\"default\":\"\",\"kind\":null,\"name\":\"message\"},{\"default\":null,\"kind\":null,\"name\":\"notification_type\"},{\"default\":false,\"kind\":null,\"name\":\"_destroyed\"}]},{\"extends\":null,\"module\":null,\"name\":\"TemplateActions1\",\"overrides\":[],\"properties\":[{\"default\":0,\"kind\":null,\"name\":\"open_modal\"},{\"default\":0,\"kind\":null,\"name\":\"close_modal\"}]},{\"extends\":null,\"module\":null,\"name\":\"MaterialTemplateActions1\",\"overrides\":[],\"properties\":[{\"default\":0,\"kind\":null,\"name\":\"open_modal\"},{\"default\":0,\"kind\":null,\"name\":\"close_modal\"}]}],\"roots\":{\"references\":[{\"attributes\":{\"end\":298561.0,\"reset_end\":298561.0,\"reset_start\":-10895.0,\"start\":-10895.0,\"tags\":[[[\"Open Int\",\"Open Int\",null]]]},\"id\":\"2297\",\"type\":\"Range1d\"},{\"attributes\":{},\"id\":\"2305\",\"type\":\"CategoricalScale\"},{\"attributes\":{\"data\":{\"Open_Int\":{\"__ndarray__\":\"AAAAAECS1EAAAAAAAEifQAAAAAAAfbVAAAAAAAAEykAAAAAAANK9QAAAAAAA+dNAAAAAAABEzEAAAAAAABThQAAAAACAFs1AAAAAAADAbUAAAAAAADLIQAAAAACAuN5AAAAAAACmpkAAAAAAAAKlQAAAAAAQhvRAAAAAAADHsUAAAAAAACrBQAAAAACAZcVAAAAAAAD4okAAAAAAAOTSQAAAAAAgEeNAAAAAAACFuUAAAAAAABG0QAAAAAAAkJBAAAAAAICxxEAAAAAAAP3DQAAAAAAAYcdAAAAAAADUp0AAAAAAAOSxQAAAAACAEclAAAAAAMD22EAAAAAAgDraQAAAAADArNxAAAAAAABGokAAAAAAADWyQAAAAAAAQIhAAAAAAAD90UAAAAAAgGrIQAAAAAAAIJFAAAAAAABIqUAAAAAAAKK8QAAAAAAAsJtAAAAAAAC3t0AAAAAAAJKtQAAAAAAAVqNAAAAAAADD0UAAAAAAACSRQAAAAAAA8JZAAAAAAADwpkAAAAAAABqxQAAAAAAAAMNAAAAAAACwxkAAAAAAAJjPQAAAAACAj9RAAAAAAABqpUAAAAAAALiSQAAAAAAAL8xAAAAAAADypUAAAAAAAMCsQAAAAACgPuNAAAAAAAACqEAAAAAAADnhQAAAAAAAus1AAAAAAGBH4UAAAAAAgAnDQAAAAAAAeK5AAAAAAAAut0AAAAAAANy8QAAAAACAXMpAAAAAAABIt0AAAAAAADSzQAAAAAAApJ9AAAAAAABkwEAAAAAAALalQAAAAAAALqBAAAAAAAAIpkAAAAAAAKW4QAAAAAAAvqNAAAAAAIC+xEAAAAAAABqnQAAAAAAAqqtAAAAAAABsskAAAAAAwLLgQAAAAAAAysJAAAAAAEBj2UAAAAAAAP7OQAAAAAAAwdVAAAAAAAD5uEAAAAAAANy4QA==\",\"dtype\":\"float64\",\"order\":\"little\",\"shape\":[89]},\"Strike\":[\"125\",\"125\",\"130\",\"130\",\"135\",\"140\",\"145\",\"150\",\"150\",\"70\",\"115\",\"115\",\"117\",\"117\",\"120\",\"123\",\"32\",\"33\",\"33.5\",\"34\",\"10\",\"10.5\",\"16\",\"17\",\"17\",\"17.5\",\"18\",\"18\",\"18.5\",\"12\",\"13\",\"13\",\"14\",\"14.5\",\"110\",\"116\",\"38\",\"225\",\"227.5\",\"230\",\"235\",\"237.5\",\"240\",\"19\",\"19.5\",\"20\",\"128\",\"129\",\"131\",\"132\",\"90\",\"90\",\"90\",\"92.5\",\"92.5\",\"94\",\"87.5\",\"88\",\"91\",\"166.67\",\"203.33\",\"250\",\"260\",\"266.67\",\"270\",\"275\",\"276.67\",\"280\",\"283.33\",\"285\",\"286.67\",\"288.33\",\"290\",\"290.83\",\"291.67\",\"292.5\",\"293.33\",\"294.17\",\"295\",\"295.83\",\"296.67\",\"298.33\",\"300\",\"301.67\",\"40\",\"41\",\"30\",\"31\",\"31.5\"],\"Symbol\":[\"AAPL\",\"NVDA\",\"NVDA\",\"AAPL\",\"AAPL\",\"AAPL\",\"AAPL\",\"AAPL\",\"AXP\",\"AMZN\",\"JPM\",\"AMZN\",\"JPM\",\"AMZN\",\"AMZN\",\"AMZN\",\"BAC\",\"BAC\",\"BAC\",\"BAC\",\"CCL\",\"CCL\",\"CHPT\",\"NIO\",\"CHPT\",\"DKNG\",\"DKNG\",\"NIO\",\"DKNG\",\"F\",\"F\",\"PCG\",\"F\",\"F\",\"JPM\",\"JPM\",\"LVS\",\"NFLX\",\"NFLX\",\"NFLX\",\"NFLX\",\"NFLX\",\"NFLX\",\"NIO\",\"NIO\",\"NIO\",\"NVDA\",\"NVDA\",\"NVDA\",\"NVDA\",\"XOM\",\"PYPL\",\"SBUX\",\"XOM\",\"PYPL\",\"PYPL\",\"SBUX\",\"SBUX\",\"SBUX\",\"TSLA\",\"TSLA\",\"TSLA\",\"TSLA\",\"TSLA\",\"TSLA\",\"TSLA\",\"TSLA\",\"TSLA\",\"TSLA\",\"TSLA\",\"TSLA\",\"TSLA\",\"TSLA\",\"TSLA\",\"TSLA\",\"TSLA\",\"TSLA\",\"TSLA\",\"TSLA\",\"TSLA\",\"TSLA\",\"TSLA\",\"TSLA\",\"TSLA\",\"TWTR\",\"TWTR\",\"UBER\",\"UBER\",\"UBER\"],\"bottom\":{\"__ndarray__\":\"AAAAAAAAAAAAAAAAAAAAAAAAAAAASJ9AAAAAAECS1EAAAAAAIMrgQAAAAABghORAAAAAAOCA7kAAAAAA8MjyQAAAAAAAAAAAAAAAAAAAAAAAAAAAAAAAAAAAAAAAwG1AAAAAAAAyyEAAAAAAAPTeQAAAAAAgyuBAAAAAACDr/EAAAAAAAAAAAAAAAAAAKsFAAAAAAMBH00AAAAAAwKbVQAAAAAAAAAAAAAAAACAR40AAAAAAAAAAAAAAAAAAAAAAAAAAAAARtEAAAAAAAAAAAAAAAAAA/cNAAAAAAACQkEAAAAAAAK/VQAAAAAAAAAAAAAAAAIARyUAAAAAAAAAAAAAAAADAv+JAAAAAABCL8EAAAAAAgNvNQAAAAAAAe9NAAAAAAAAAAAAAAAAAAAAAAAAAAACAashAAAAAAICOykAAAAAAQHDQQAAAAADAmNdAAAAAAMBT2UAAAAAAAA6wQAAAAAAA175AAAAAAABBxEAAAAAAAE+9QAAAAAAAzMBAAAAAAACqw0AAAAAAAGbJQAAAAAAAAAAAAAAAAAAAAAAAAAAAAAAAAAAAAAAAAMNAAAAAAACwxkAAAAAAgArMQAAAAAAAmM9AAAAAAIDj3UAAAAAA4FDgQAAAAAAAAAAAAAAAAKA+40AAAAAAwL7kQAAAAADg+/JAAAAAACCz9kAAAAAA0Fb/QAAAAAAA3ABBAAAAAOBVAUEAAAAAUA8CQQAAAAAw9gJBAAAAAPibBEEAAAAAOFYFQQAAAADY7wVBAAAAACAvBkEAAAAAYDUHQQAAAAA4jAdBAAAAAPDMB0EAAAAAECUIQQAAAAA46ghBAAAAADA5CUEAAAAAGIUKQQAAAACA4QpBAAAAAChQC0EAAAAAiOMLQQAAAAAcCBBBAAAAAAAAAAAAAAAAQGPZQAAAAAAAAAAAAAAAAADB1UAAAAAAQP/bQA==\",\"dtype\":\"float64\",\"order\":\"little\",\"shape\":[89]},\"top\":{\"__ndarray__\":\"AAAAAECS1EAAAAAAAEifQAAAAAAAT71AAAAAACDK4EAAAAAAYITkQAAAAADggO5AAAAAAPDI8kAAAAAA8FL7QAAAAACAFs1AAAAAAADAbUAAAAAAADLIQAAAAAAA9N5AAAAAAIDbzUAAAAAAIMrgQAAAAAAg6/xAAAAAAJAH/kAAAAAAACrBQAAAAADAR9NAAAAAAMCm1UAAAAAAYEXkQAAAAAAgEeNAAAAAAMBB5kAAAAAAABG0QAAAAAAAkJBAAAAAAAC6zkAAAAAAAP3DQAAAAAAAr9VAAAAAAAAOsEAAAAAAACjaQAAAAACAEclAAAAAAMC/4kAAAAAAgDraQAAAAAAQi/BAAAAAAEAd8UAAAAAAAHvTQAAAAAAAPdRAAAAAAAD90UAAAAAAgGrIQAAAAACAjspAAAAAAEBw0EAAAAAAwJjXQAAAAADAU9lAAAAAAIBB30AAAAAAANe+QAAAAAAAQcRAAAAAAIDj20AAAAAAAMzAQAAAAAAAqsNAAAAAAABmyUAAAAAAgPnQQAAAAAAAAMNAAAAAAACwxkAAAAAAAJjPQAAAAACAD95AAAAAAIAKzEAAAAAAgGHOQAAAAACA491AAAAAAOBQ4EAAAAAA4BziQAAAAACgPuNAAAAAAMC+5EAAAAAA4PvyQAAAAAAgs/ZAAAAAANBW/0AAAAAAANwAQQAAAADgVQFBAAAAAFAPAkEAAAAAMPYCQQAAAAD4mwRBAAAAADhWBUEAAAAA2O8FQQAAAAAgLwZBAAAAAGA1B0EAAAAAOIwHQQAAAADwzAdBAAAAABAlCEEAAAAAOOoIQQAAAAAwOQlBAAAAABiFCkEAAAAAgOEKQQAAAAAoUAtBAAAAAIjjC0EAAAAAHAgQQQAAAABsnhBBAAAAAEBj2UAAAAAAIHHkQAAAAAAAwdVAAAAAAED/20AAAAAAIBvhQA==\",\"dtype\":\"float64\",\"order\":\"little\",\"shape\":[89]}},\"selected\":{\"id\":\"2350\"},\"selection_policy\":{\"id\":\"2366\"}},\"id\":\"2349\",\"type\":\"ColumnDataSource\"},{\"attributes\":{\"bottom\":{\"field\":\"bottom\"},\"fill_alpha\":{\"value\":0.2},\"fill_color\":{\"field\":\"Strike\",\"transform\":{\"id\":\"2348\"}},\"hatch_alpha\":{\"value\":0.2},\"hatch_color\":{\"field\":\"Strike\",\"transform\":{\"id\":\"2348\"}},\"line_alpha\":{\"value\":0.2},\"top\":{\"field\":\"top\"},\"width\":{\"value\":0.8},\"x\":{\"field\":\"Symbol\"}},\"id\":\"2354\",\"type\":\"VBar\"},{\"attributes\":{},\"id\":\"2320\",\"type\":\"ResetTool\"},{\"attributes\":{\"source\":{\"id\":\"2339\"}},\"id\":\"2346\",\"type\":\"CDSView\"},{\"attributes\":{\"bottom\":{\"field\":\"bottom\"},\"fill_alpha\":{\"value\":0.2},\"fill_color\":{\"field\":\"Strike\",\"transform\":{\"id\":\"2338\"}},\"hatch_alpha\":{\"value\":0.2},\"hatch_color\":{\"field\":\"Strike\",\"transform\":{\"id\":\"2338\"}},\"line_alpha\":{\"value\":0.2},\"top\":{\"field\":\"top\"},\"width\":{\"value\":0.8},\"x\":{\"field\":\"Symbol\"}},\"id\":\"2344\",\"type\":\"VBar\"},{\"attributes\":{\"margin\":[5,5,5,5],\"name\":\"HSpacer04065\",\"sizing_mode\":\"stretch_width\"},\"id\":\"2295\",\"type\":\"Spacer\"},{\"attributes\":{\"source\":{\"id\":\"2349\"}},\"id\":\"2356\",\"type\":\"CDSView\"},{\"attributes\":{\"bottom\":{\"field\":\"bottom\"},\"fill_color\":{\"field\":\"Strike\",\"transform\":{\"id\":\"2338\"}},\"hatch_color\":{\"field\":\"Strike\",\"transform\":{\"id\":\"2338\"}},\"top\":{\"field\":\"top\"},\"width\":{\"value\":0.8},\"x\":{\"field\":\"Symbol\"}},\"id\":\"2342\",\"type\":\"VBar\"},{\"attributes\":{\"factors\":[\"AAL\",\"AAPL\",\"AMD\",\"AMZN\",\"ATUS\",\"BABA\",\"BAC\",\"C\",\"F\",\"GOOG\",\"GOOGL\",\"INTC\",\"META\",\"MSFT\",\"NIO\",\"NVDA\",\"RBLX\",\"SNAP\",\"T\",\"TSLA\",\"AXP\",\"CCL\",\"CHPT\",\"DKNG\",\"JPM\",\"LVS\",\"NFLX\",\"PCG\",\"PYPL\",\"SBUX\",\"TWTR\",\"UBER\",\"XOM\"],\"tags\":[[[\"Symbol\",\"Symbol\",null]]]},\"id\":\"2296\",\"type\":\"FactorRange\"},{\"attributes\":{},\"id\":\"2335\",\"type\":\"AllLabels\"},{\"attributes\":{\"tools\":[{\"id\":\"2298\"},{\"id\":\"2316\"},{\"id\":\"2317\"},{\"id\":\"2318\"},{\"id\":\"2319\"},{\"id\":\"2320\"}]},\"id\":\"2322\",\"type\":\"Toolbar\"},{\"attributes\":{},\"id\":\"2366\",\"type\":\"UnionRenderers\"},{\"attributes\":{\"axis\":{\"id\":\"2312\"},\"coordinates\":null,\"dimension\":1,\"grid_line_color\":null,\"group\":null,\"ticker\":null},\"id\":\"2315\",\"type\":\"Grid\"},{\"attributes\":{},\"id\":\"2364\",\"type\":\"UnionRenderers\"},{\"attributes\":{\"factors\":[\"14\",\"14.5\",\"15\",\"152.5\",\"155\",\"157.5\",\"160\",\"162.5\",\"165\",\"170\",\"77.5\",\"78\",\"79\",\"80\",\"85\",\"90\",\"124\",\"125\",\"126\",\"127\",\"127.5\",\"128\",\"129\",\"130\",\"131\",\"132\",\"132.5\",\"133\",\"135\",\"140\",\"9\",\"88\",\"89\",\"91\",\"95\",\"34.5\",\"35\",\"50\",\"15.5\",\"16\",\"108\",\"110\",\"103.25\",\"103.5\",\"104.5\",\"105\",\"106\",\"115\",\"29.5\",\"30\",\"30.5\",\"32\",\"150\",\"245\",\"250\",\"252.5\",\"255\",\"260\",\"262.5\",\"270\",\"20.5\",\"21\",\"21.5\",\"22\",\"134\",\"145\",\"40\",\"40.5\",\"41\",\"42\",\"43\",\"45\",\"11.5\",\"12\",\"17\",\"17.5\",\"18\",\"303.33\",\"305\",\"306.67\",\"310\",\"313.33\"],\"palette\":[\"#C01234\",\"#C01234\",\"#C01234\",\"#C01234\",\"#C01234\",\"#C01234\",\"#C01234\",\"#C01234\",\"#C01234\",\"#C01234\",\"#C01234\",\"#C01234\",\"#C01234\",\"#C01234\",\"#C01234\",\"#C01234\",\"#C01234\",\"#C01234\",\"#C01234\",\"#C01234\",\"#C01234\",\"#C01234\",\"#C01234\",\"#C01234\",\"#C01234\",\"#C01234\",\"#C01234\",\"#C01234\",\"#C01234\",\"#C01234\",\"#C01234\",\"#C01234\",\"#C01234\",\"#C01234\",\"#C01234\",\"#C01234\",\"#C01234\",\"#C01234\",\"#C01234\",\"#C01234\",\"#C01234\",\"#C01234\",\"#C01234\",\"#C01234\",\"#C01234\",\"#C01234\",\"#C01234\",\"#C01234\",\"#C01234\",\"#C01234\",\"#C01234\",\"#C01234\",\"#C01234\",\"#C01234\",\"#C01234\",\"#C01234\",\"#C01234\",\"#C01234\",\"#C01234\",\"#C01234\",\"#C01234\",\"#C01234\",\"#C01234\",\"#C01234\",\"#C01234\",\"#C01234\",\"#C01234\",\"#C01234\",\"#C01234\",\"#C01234\",\"#C01234\",\"#C01234\",\"#C01234\",\"#C01234\",\"#C01234\",\"#C01234\",\"#C01234\",\"#C01234\",\"#C01234\",\"#C01234\",\"#C01234\",\"#C01234\"]},\"id\":\"2338\",\"type\":\"CategoricalColorMapper\"},{\"attributes\":{\"coordinates\":null,\"group\":null,\"text\":\"Put to Call Comparison\",\"text_color\":\"black\",\"text_font_size\":\"12pt\"},\"id\":\"2301\",\"type\":\"Title\"},{\"attributes\":{\"axis_label\":\"Symbol\",\"coordinates\":null,\"formatter\":{\"id\":\"2331\"},\"group\":null,\"major_label_orientation\":1.5707963267948966,\"major_label_policy\":{\"id\":\"2332\"},\"ticker\":{\"id\":\"2310\"}},\"id\":\"2309\",\"type\":\"CategoricalAxis\"},{\"attributes\":{},\"id\":\"2350\",\"type\":\"Selection\"},{\"attributes\":{\"coordinates\":null,\"data_source\":{\"id\":\"2349\"},\"glyph\":{\"id\":\"2352\"},\"group\":null,\"hover_glyph\":null,\"muted_glyph\":{\"id\":\"2354\"},\"nonselection_glyph\":{\"id\":\"2353\"},\"selection_glyph\":{\"id\":\"2357\"},\"view\":{\"id\":\"2356\"}},\"id\":\"2355\",\"type\":\"GlyphRenderer\"},{\"attributes\":{\"data\":{\"Open_Int\":{\"__ndarray__\":\"AAAAAADPz0AAAAAAAESgQAAAAACApOdAAAAAAJB4/EAAAAAAAGTeQAAAAAAABrlAAAAAAGAW4UAAAAAAANLFQAAAAAAAurlAAAAAAMCV00AAAAAAQEXaQAAAAABAvONAAAAAAIBRxUAAAAAAAGffQAAAAAAgnetAAAAAAECM2UAAAAAAAHHfQAAAAAAA58BAAAAAAAB4r0AAAAAAAGCpQAAAAAAAc85AAAAAAAB51EAAAAAAQGPdQAAAAACAzdtAAAAAAADpvkAAAAAAAK/TQAAAAAAAOr1AAAAAAABRv0AAAAAAAN+3QAAAAAAA18BAAAAAAADUtUAAAAAAwJzfQAAAAAAAcbZAAAAAAADWtkAAAAAAAOCfQAAAAADA8tZAAAAAAABTuEAAAAAAAA6oQAAAAACA7MdAAAAAAMCw00AAAAAAgOXDQAAAAAAA6eZAAAAAAMAa30AAAAAAAGSeQAAAAAAAIKhAAAAAAAC4kkAAAAAAgBzTQAAAAAAA1bxAAAAAAMDN3EAAAAAAYIfhQAAAAABA3N9AAAAAAIApwkAAAAAASO0BQQAAAAAAsKdAAAAAAEBX0UAAAAAAQNLcQAAAAAAAJJNAAAAAAADonUAAAAAAAD6oQAAAAAAAc8tAAAAAAADepUAAAAAAwHvXQAAAAAAApbVAAAAAAIDTykAAAAAAAEW2QAAAAAAAH7FAAAAAAIAExkAAAAAAQP7UQAAAAAAAtr1AAAAAAID7w0AAAAAAAFWxQAAAAAAAw7pAAAAAAEBC0kAAAAAAALSiQAAAAAAAL89AAAAAAIC6zUAAAAAAgNPDQAAAAAAAIcVAAAAAAABgqkAAAAAAAMyqQAAAAAAAsrVAAAAAAICNwkAAAAAAAJquQAAAAAAA0JFAAAAAAAD6pEAAAAAAAGqjQAAAAAAAxcVAAAAAAAA0w0AAAAAAwFrVQAAAAACA+NRAAAAAAABomkAAAAAAwNHiQAAAAACA1sJAAAAAAIAtxEAAAAAAANi4QAAAAAAAnLJAAAAAAABYoEA=\",\"dtype\":\"float64\",\"order\":\"little\",\"shape\":[97]},\"Strike\":[\"14\",\"14.5\",\"15\",\"15\",\"152.5\",\"152.5\",\"155\",\"155\",\"157.5\",\"157.5\",\"160\",\"160\",\"162.5\",\"165\",\"165\",\"170\",\"170\",\"77.5\",\"78\",\"79\",\"80\",\"85\",\"90\",\"90\",\"124\",\"125\",\"126\",\"127\",\"127.5\",\"128\",\"129\",\"130\",\"131\",\"132\",\"132\",\"132.5\",\"133\",\"133\",\"135\",\"135\",\"140\",\"140\",\"9\",\"88\",\"89\",\"91\",\"95\",\"34.5\",\"35\",\"35\",\"50\",\"15.5\",\"16\",\"108\",\"110\",\"110\",\"103.25\",\"103.5\",\"104.5\",\"105\",\"106\",\"115\",\"29.5\",\"30\",\"30.5\",\"32\",\"150\",\"150\",\"245\",\"250\",\"252.5\",\"255\",\"260\",\"262.5\",\"270\",\"20.5\",\"21\",\"21.5\",\"22\",\"134\",\"145\",\"40\",\"40.5\",\"41\",\"42\",\"43\",\"45\",\"11.5\",\"12\",\"17\",\"17.5\",\"18\",\"303.33\",\"305\",\"306.67\",\"310\",\"313.33\"],\"Symbol\":[\"AAL\",\"AAL\",\"AAL\",\"F\",\"AAPL\",\"META\",\"AAPL\",\"META\",\"META\",\"AAPL\",\"META\",\"AAPL\",\"AAPL\",\"META\",\"AAPL\",\"META\",\"AAPL\",\"AMD\",\"AMD\",\"AMD\",\"AMD\",\"AMD\",\"AMD\",\"BABA\",\"AMZN\",\"AMZN\",\"AMZN\",\"AMZN\",\"AMZN\",\"AMZN\",\"AMZN\",\"AMZN\",\"AMZN\",\"AMZN\",\"NVDA\",\"AMZN\",\"AMZN\",\"NVDA\",\"NVDA\",\"AMZN\",\"NVDA\",\"AMZN\",\"ATUS\",\"BABA\",\"BABA\",\"BABA\",\"BABA\",\"BAC\",\"INTC\",\"BAC\",\"C\",\"F\",\"F\",\"GOOG\",\"GOOGL\",\"GOOG\",\"GOOGL\",\"GOOGL\",\"GOOGL\",\"GOOGL\",\"GOOGL\",\"GOOGL\",\"INTC\",\"INTC\",\"INTC\",\"INTC\",\"NVDA\",\"META\",\"MSFT\",\"MSFT\",\"MSFT\",\"MSFT\",\"MSFT\",\"MSFT\",\"MSFT\",\"NIO\",\"NIO\",\"NIO\",\"NIO\",\"NVDA\",\"NVDA\",\"RBLX\",\"RBLX\",\"RBLX\",\"RBLX\",\"RBLX\",\"RBLX\",\"SNAP\",\"SNAP\",\"T\",\"T\",\"T\",\"TSLA\",\"TSLA\",\"TSLA\",\"TSLA\",\"TSLA\"],\"bottom\":{\"__ndarray__\":\"AAAAAAAAAAAAAAAAAM/PQAAAAAAA8NFAAAAAAAAAAAAAAAAAAAAAAAAAAAAAAAAAAAAAAABk3kAAAAAAAAa5QAAAAACAKtFAAAAAADAk8EAAAAAAAJnXQAAAAACgCfVAAAAAAMDn/kAAAAAAIO/oQAAAAAD4yABBAAAAAFBR9EAAAAAAQLAHQQAAAAAAAAAAAAAAAADnwEAAAAAAAMXIQAAAAAAAHc9AAAAAAADI3kAAAAAAgKDpQAAAAAAAAAAAAAAAAAAAAAAAAAAAAOm+QAAAAABAadtAAAAAAOBb4UAAAAAAAEblQAAAAADgQehAAAAAAKB37EAAAAAAIDLvQAAAAABAgPdAAAAAAFDn+EAAAAAAAAAAAAAAAACwVPpAAAAAALAIAEEAAAAAAOCfQAAAAAAA/7NAAAAAAEjLAEEAAAAAAPbQQAAAAABgQQNBAAAAAAAAAAAAAAAAgM3bQAAAAADAs91AAAAAAOBb4EAAAAAAoPHgQAAAAAAAAAAAAAAAAAAAAAAAAAAAANW8QAAAAAAAAAAAAAAAAJB4/EAAAAAAwL3+QAAAAAAAAAAAAAAAAAAAAAAAAAAAALCnQAAAAABAV9FAAAAAAICJ0kAAAAAAAGjUQAAAAADAb9dAAAAAAKCU4kAAAAAAgPLjQAAAAADAzdxAAAAAAIAb4UAAAAAAYNDnQAAAAAAAmepAAAAAAMDo2kAAAAAAYLT6QAAAAAAAAAAAAAAAAAC2vUAAAAAAQGvRQAAAAACAwNVAAAAAAEBx3EAAAAAAwFnnQAAAAAAAhehAAAAAAAAAAAAAAAAAgLrNQAAAAAAAx9hAAAAAAMCr4UAAAAAAgPXiQAAAAABAouRAAAAAAAAAAAAAAAAAgI3CQAAAAAAANMpAAAAAAABuzEAAAAAAQNbQQAAAAACAQ9NAAAAAAAAAAAAAAAAAADTDQAAAAAAAAAAAAAAAAID41EAAAAAAAJ/WQAAAAAAAAAAAAAAAAIDWwkAAAAAAAILTQAAAAAAAuNlAAAAAAABf3kA=\",\"dtype\":\"float64\",\"order\":\"little\",\"shape\":[97]},\"top\":{\"__ndarray__\":\"AAAAAADPz0AAAAAAAPDRQAAAAABATvBAAAAAAJB4/EAAAAAAAGTeQAAAAAAABrlAAAAAADAk8EAAAAAAgCrRQAAAAAAAmddAAAAAAKAJ9UAAAAAAIO/oQAAAAADA5/5AAAAAAPjIAEEAAAAAUFH0QAAAAABAsAdBAAAAAGC0+kAAAAAAYJ4LQQAAAAAA58BAAAAAAADFyEAAAAAAAB3PQAAAAAAAyN5AAAAAAICg6UAAAAAAECn0QAAAAACAzdtAAAAAAADpvkAAAAAAQGnbQAAAAADgW+FAAAAAAABG5UAAAAAA4EHoQAAAAACgd+xAAAAAACAy70AAAAAAQID3QAAAAABQ5/hAAAAAALBU+kAAAAAAAOCfQAAAAACwCABBAAAAAEjLAEEAAAAAAP+zQAAAAAAA9tBAAAAAAGBBA0EAAAAAwOjaQAAAAACg+whBAAAAAMAa30AAAAAAwLPdQAAAAADgW+BAAAAAAKDx4EAAAAAA4H/qQAAAAAAA1bxAAAAAAMDN3EAAAAAAACLlQAAAAABA3N9AAAAAAMC9/kAAAAAAFKYQQQAAAAAAsKdAAAAAAEBX0UAAAAAAQMjfQAAAAACAidJAAAAAAABo1EAAAAAAwG/XQAAAAACglOJAAAAAAIDy40AAAAAAYLDvQAAAAACAG+FAAAAAAGDQ50AAAAAAAJnqQAAAAADgvOxAAAAAAID14kAAAAAA8PP/QAAAAAAAtr1AAAAAAEBr0UAAAAAAgMDVQAAAAABAcdxAAAAAAMBZ50AAAAAAAIXoQAAAAABgKPBAAAAAAIC6zUAAAAAAAMfYQAAAAADAq+FAAAAAAMBR40AAAAAAQKLkQAAAAACAWOdAAAAAAICNwkAAAAAAADTKQAAAAAAAbsxAAAAAAEDW0EAAAAAAgEPTQAAAAAAAJt5AAAAAAAA0w0AAAAAAwPTeQAAAAACA+NRAAAAAAACf1kAAAAAAQCHuQAAAAACA1sJAAAAAAACC00AAAAAAALjZQAAAAAAAX95AAAAAAAA14EA=\",\"dtype\":\"float64\",\"order\":\"little\",\"shape\":[97]}},\"selected\":{\"id\":\"2340\"},\"selection_policy\":{\"id\":\"2364\"}},\"id\":\"2339\",\"type\":\"ColumnDataSource\"},{\"attributes\":{\"bottom\":{\"field\":\"bottom\"},\"fill_alpha\":{\"value\":1.0},\"fill_color\":{\"field\":\"Strike\",\"transform\":{\"id\":\"2338\"}},\"hatch_alpha\":{\"value\":1.0},\"hatch_color\":{\"field\":\"Strike\",\"transform\":{\"id\":\"2338\"}},\"hatch_scale\":{\"value\":12.0},\"hatch_weight\":{\"value\":1.0},\"line_alpha\":{\"value\":1.0},\"line_cap\":{\"value\":\"butt\"},\"line_color\":{\"value\":\"black\"},\"line_dash\":{\"value\":[]},\"line_dash_offset\":{\"value\":0},\"line_join\":{\"value\":\"bevel\"},\"line_width\":{\"value\":1},\"top\":{\"field\":\"top\"},\"width\":{\"value\":0.8},\"x\":{\"field\":\"Symbol\"}},\"id\":\"2347\",\"type\":\"VBar\"},{\"attributes\":{\"bottom\":{\"field\":\"bottom\"},\"fill_alpha\":{\"value\":0.1},\"fill_color\":{\"field\":\"Strike\",\"transform\":{\"id\":\"2338\"}},\"hatch_alpha\":{\"value\":0.1},\"hatch_color\":{\"field\":\"Strike\",\"transform\":{\"id\":\"2338\"}},\"line_alpha\":{\"value\":0.1},\"top\":{\"field\":\"top\"},\"width\":{\"value\":0.8},\"x\":{\"field\":\"Symbol\"}},\"id\":\"2343\",\"type\":\"VBar\"},{\"attributes\":{\"bottom\":{\"field\":\"bottom\"},\"fill_alpha\":{\"value\":1.0},\"fill_color\":{\"field\":\"Strike\",\"transform\":{\"id\":\"2348\"}},\"hatch_alpha\":{\"value\":1.0},\"hatch_color\":{\"field\":\"Strike\",\"transform\":{\"id\":\"2348\"}},\"hatch_scale\":{\"value\":12.0},\"hatch_weight\":{\"value\":1.0},\"line_alpha\":{\"value\":1.0},\"line_cap\":{\"value\":\"butt\"},\"line_color\":{\"value\":\"black\"},\"line_dash\":{\"value\":[]},\"line_dash_offset\":{\"value\":0},\"line_join\":{\"value\":\"bevel\"},\"line_width\":{\"value\":1},\"top\":{\"field\":\"top\"},\"width\":{\"value\":0.8},\"x\":{\"field\":\"Symbol\"}},\"id\":\"2357\",\"type\":\"VBar\"},{\"attributes\":{},\"id\":\"2310\",\"type\":\"CategoricalTicker\"},{\"attributes\":{},\"id\":\"2340\",\"type\":\"Selection\"},{\"attributes\":{},\"id\":\"2316\",\"type\":\"SaveTool\"},{\"attributes\":{},\"id\":\"2318\",\"type\":\"WheelZoomTool\"},{\"attributes\":{\"factors\":[\"125\",\"130\",\"135\",\"140\",\"145\",\"150\",\"70\",\"115\",\"117\",\"120\",\"123\",\"32\",\"33\",\"33.5\",\"34\",\"10\",\"10.5\",\"16\",\"17\",\"17.5\",\"18\",\"18.5\",\"12\",\"13\",\"14\",\"14.5\",\"110\",\"116\",\"38\",\"225\",\"227.5\",\"230\",\"235\",\"237.5\",\"240\",\"19\",\"19.5\",\"20\",\"128\",\"129\",\"131\",\"132\",\"90\",\"92.5\",\"94\",\"87.5\",\"88\",\"91\",\"166.67\",\"203.33\",\"250\",\"260\",\"266.67\",\"270\",\"275\",\"276.67\",\"280\",\"283.33\",\"285\",\"286.67\",\"288.33\",\"290\",\"290.83\",\"291.67\",\"292.5\",\"293.33\",\"294.17\",\"295\",\"295.83\",\"296.67\",\"298.33\",\"300\",\"301.67\",\"40\",\"41\",\"30\",\"31\",\"31.5\"],\"palette\":[\"#259646\",\"#259646\",\"#259646\",\"#259646\",\"#259646\",\"#259646\",\"#259646\",\"#259646\",\"#259646\",\"#259646\",\"#259646\",\"#259646\",\"#259646\",\"#259646\",\"#259646\",\"#259646\",\"#259646\",\"#259646\",\"#259646\",\"#259646\",\"#259646\",\"#259646\",\"#259646\",\"#259646\",\"#259646\",\"#259646\",\"#259646\",\"#259646\",\"#259646\",\"#259646\",\"#259646\",\"#259646\",\"#259646\",\"#259646\",\"#259646\",\"#259646\",\"#259646\",\"#259646\",\"#259646\",\"#259646\",\"#259646\",\"#259646\",\"#259646\",\"#259646\",\"#259646\",\"#259646\",\"#259646\",\"#259646\",\"#259646\",\"#259646\",\"#259646\",\"#259646\",\"#259646\",\"#259646\",\"#259646\",\"#259646\",\"#259646\",\"#259646\",\"#259646\",\"#259646\",\"#259646\",\"#259646\",\"#259646\",\"#259646\",\"#259646\",\"#259646\",\"#259646\",\"#259646\",\"#259646\",\"#259646\",\"#259646\",\"#259646\",\"#259646\",\"#259646\",\"#259646\",\"#259646\",\"#259646\",\"#259646\"]},\"id\":\"2348\",\"type\":\"CategoricalColorMapper\"},{\"attributes\":{\"bottom\":{\"field\":\"bottom\"},\"fill_color\":{\"field\":\"Strike\",\"transform\":{\"id\":\"2348\"}},\"hatch_color\":{\"field\":\"Strike\",\"transform\":{\"id\":\"2348\"}},\"top\":{\"field\":\"top\"},\"width\":{\"value\":0.8},\"x\":{\"field\":\"Symbol\"}},\"id\":\"2352\",\"type\":\"VBar\"},{\"attributes\":{},\"id\":\"2317\",\"type\":\"PanTool\"},{\"attributes\":{\"format\":\"%.0f\"},\"id\":\"2329\",\"type\":\"PrintfTickFormatter\"},{\"attributes\":{\"children\":[{\"id\":\"2295\"},{\"id\":\"2300\"},{\"id\":\"2369\"}],\"margin\":[0,0,0,0],\"name\":\"Row04061\",\"tags\":[\"embedded\"]},\"id\":\"2294\",\"type\":\"Row\"},{\"attributes\":{\"axis\":{\"id\":\"2309\"},\"coordinates\":null,\"grid_line_color\":null,\"group\":null,\"ticker\":null},\"id\":\"2311\",\"type\":\"Grid\"},{\"attributes\":{},\"id\":\"2332\",\"type\":\"AllLabels\"},{\"attributes\":{\"axis_label\":\"Open Int\",\"coordinates\":null,\"formatter\":{\"id\":\"2329\"},\"group\":null,\"major_label_policy\":{\"id\":\"2335\"},\"ticker\":{\"id\":\"2313\"}},\"id\":\"2312\",\"type\":\"LinearAxis\"},{\"attributes\":{\"callback\":null,\"renderers\":[{\"id\":\"2345\"},{\"id\":\"2355\"}],\"tags\":[\"hv_created\"],\"tooltips\":[[\"Symbol\",\"@{Symbol}\"],[\"Strike\",\"@{Strike}\"],[\"Open Int\",\"@{Open_Int}\"]]},\"id\":\"2298\",\"type\":\"HoverTool\"},{\"attributes\":{\"margin\":[5,5,5,5],\"name\":\"HSpacer04066\",\"sizing_mode\":\"stretch_width\"},\"id\":\"2369\",\"type\":\"Spacer\"},{\"attributes\":{\"overlay\":{\"id\":\"2321\"}},\"id\":\"2319\",\"type\":\"BoxZoomTool\"},{\"attributes\":{},\"id\":\"2331\",\"type\":\"CategoricalTickFormatter\"},{\"attributes\":{\"bottom_units\":\"screen\",\"coordinates\":null,\"fill_alpha\":0.5,\"fill_color\":\"lightgrey\",\"group\":null,\"left_units\":\"screen\",\"level\":\"overlay\",\"line_alpha\":1.0,\"line_color\":\"black\",\"line_dash\":[4,4],\"line_width\":2,\"right_units\":\"screen\",\"syncable\":false,\"top_units\":\"screen\"},\"id\":\"2321\",\"type\":\"BoxAnnotation\"},{\"attributes\":{\"below\":[{\"id\":\"2309\"}],\"center\":[{\"id\":\"2311\"},{\"id\":\"2315\"}],\"height\":800,\"left\":[{\"id\":\"2312\"}],\"margin\":[5,5,5,5],\"min_border_bottom\":10,\"min_border_left\":10,\"min_border_right\":10,\"min_border_top\":10,\"renderers\":[{\"id\":\"2345\"},{\"id\":\"2355\"}],\"sizing_mode\":\"fixed\",\"title\":{\"id\":\"2301\"},\"toolbar\":{\"id\":\"2322\"},\"width\":1000,\"x_range\":{\"id\":\"2296\"},\"x_scale\":{\"id\":\"2305\"},\"y_range\":{\"id\":\"2297\"},\"y_scale\":{\"id\":\"2307\"}},\"id\":\"2300\",\"subtype\":\"Figure\",\"type\":\"Plot\"},{\"attributes\":{\"bottom\":{\"field\":\"bottom\"},\"fill_alpha\":{\"value\":0.1},\"fill_color\":{\"field\":\"Strike\",\"transform\":{\"id\":\"2348\"}},\"hatch_alpha\":{\"value\":0.1},\"hatch_color\":{\"field\":\"Strike\",\"transform\":{\"id\":\"2348\"}},\"line_alpha\":{\"value\":0.1},\"top\":{\"field\":\"top\"},\"width\":{\"value\":0.8},\"x\":{\"field\":\"Symbol\"}},\"id\":\"2353\",\"type\":\"VBar\"},{\"attributes\":{\"coordinates\":null,\"data_source\":{\"id\":\"2339\"},\"glyph\":{\"id\":\"2342\"},\"group\":null,\"hover_glyph\":null,\"muted_glyph\":{\"id\":\"2344\"},\"nonselection_glyph\":{\"id\":\"2343\"},\"selection_glyph\":{\"id\":\"2347\"},\"view\":{\"id\":\"2346\"}},\"id\":\"2345\",\"type\":\"GlyphRenderer\"},{\"attributes\":{},\"id\":\"2313\",\"type\":\"BasicTicker\"},{\"attributes\":{},\"id\":\"2307\",\"type\":\"LinearScale\"}],\"root_ids\":[\"2294\"]},\"title\":\"Bokeh Application\",\"version\":\"2.4.3\"}};\n",
       "    var render_items = [{\"docid\":\"6e97f4ae-6a7e-403e-88c6-0ef2b671a0e5\",\"root_ids\":[\"2294\"],\"roots\":{\"2294\":\"7cb6a57f-397a-42dc-9e4b-7c00a6a790ba\"}}];\n",
       "    root.Bokeh.embed.embed_items_notebook(docs_json, render_items);\n",
       "  }\n",
       "  if (root.Bokeh !== undefined && root.Bokeh.Panel !== undefined) {\n",
       "    embed_document(root);\n",
       "  } else {\n",
       "    var attempts = 0;\n",
       "    var timer = setInterval(function(root) {\n",
       "      if (root.Bokeh !== undefined && root.Bokeh.Panel !== undefined) {\n",
       "        clearInterval(timer);\n",
       "        embed_document(root);\n",
       "      } else if (document.readyState == \"complete\") {\n",
       "        attempts++;\n",
       "        if (attempts > 200) {\n",
       "          clearInterval(timer);\n",
       "          console.log(\"Bokeh: ERROR: Unable to run BokehJS code because BokehJS library is missing\");\n",
       "        }\n",
       "      }\n",
       "    }, 25, root)\n",
       "  }\n",
       "})(window);</script>"
      ],
      "text/plain": [
       ":Overlay\n",
       "   .Bars.Puts :Bars   [Symbol,Strike]   (Open Int)\n",
       "   .Bars.Call :Bars   [Symbol,Strike]   (Open Int)"
      ]
     },
     "execution_count": 55,
     "metadata": {
      "application/vnd.holoviews_exec.v0+json": {
       "id": "2294"
      }
     },
     "output_type": "execute_result"
    }
   ],
   "source": [
    "options_put_bar(df) * options_call_bar(df).opts(\n",
    "    title= 'Put to Call Comparison'\n",
    ")"
   ]
  },
  {
   "cell_type": "markdown",
   "metadata": {},
   "source": [
    "# Single Stock Report from DataFrame."
   ]
  },
  {
   "cell_type": "code",
   "execution_count": 71,
   "metadata": {},
   "outputs": [],
   "source": [
    "# Specify dates for Alpaca API.\n",
    "start_date = \"2022-09-12\"\n",
    "end_date = \"2022-09-16\"\n",
    "\n",
    "# Specifies ticker from df above. Can single out any stock you like.\n",
    "ticker = 'TSLA'\n",
    "stock = ticker"
   ]
  },
  {
   "cell_type": "code",
   "execution_count": 72,
   "metadata": {},
   "outputs": [],
   "source": [
    "# Runs ticker report on single stock from data.\n",
    "report = ticker_report(ticker,df)\n",
    "\n",
    "# Creates ticker df from function\n",
    "ticker_df = alpaca_func(alpaca_key, alpaca_secret, start_date, end_date, stock)\n",
    "\n",
    "# Creates plot from df\n",
    "plot = ticker_df['close'].hvplot.line(x='Time', y='close')\n",
    "\n",
    "# Creates side by side\n",
    "# report + plot"
   ]
  },
  {
   "cell_type": "code",
   "execution_count": 73,
   "metadata": {},
   "outputs": [
    {
     "data": {},
     "metadata": {},
     "output_type": "display_data"
    },
    {
     "data": {
      "application/vnd.holoviews_exec.v0+json": "",
      "text/html": [
       "<div id='3131'>\n",
       "  <div class=\"bk-root\" id=\"67ef0773-694d-43f6-b7c6-ef40c1ce99bf\" data-root-id=\"3131\"></div>\n",
       "</div>\n",
       "<script type=\"application/javascript\">(function(root) {\n",
       "  function embed_document(root) {\n",
       "    var docs_json = {\"23522cdd-1d8b-46b3-aad9-7f537883b5e9\":{\"defs\":[{\"extends\":null,\"module\":null,\"name\":\"ReactiveHTML1\",\"overrides\":[],\"properties\":[]},{\"extends\":null,\"module\":null,\"name\":\"FlexBox1\",\"overrides\":[],\"properties\":[{\"default\":\"flex-start\",\"kind\":null,\"name\":\"align_content\"},{\"default\":\"flex-start\",\"kind\":null,\"name\":\"align_items\"},{\"default\":\"row\",\"kind\":null,\"name\":\"flex_direction\"},{\"default\":\"wrap\",\"kind\":null,\"name\":\"flex_wrap\"},{\"default\":\"flex-start\",\"kind\":null,\"name\":\"justify_content\"}]},{\"extends\":null,\"module\":null,\"name\":\"GridStack1\",\"overrides\":[],\"properties\":[{\"default\":\"warn\",\"kind\":null,\"name\":\"mode\"},{\"default\":null,\"kind\":null,\"name\":\"ncols\"},{\"default\":null,\"kind\":null,\"name\":\"nrows\"},{\"default\":true,\"kind\":null,\"name\":\"allow_resize\"},{\"default\":true,\"kind\":null,\"name\":\"allow_drag\"},{\"default\":[],\"kind\":null,\"name\":\"state\"}]},{\"extends\":null,\"module\":null,\"name\":\"click1\",\"overrides\":[],\"properties\":[{\"default\":\"\",\"kind\":null,\"name\":\"terminal_output\"},{\"default\":\"\",\"kind\":null,\"name\":\"debug_name\"},{\"default\":0,\"kind\":null,\"name\":\"clears\"}]},{\"extends\":null,\"module\":null,\"name\":\"NotificationAreaBase1\",\"overrides\":[],\"properties\":[{\"default\":\"bottom-right\",\"kind\":null,\"name\":\"position\"},{\"default\":0,\"kind\":null,\"name\":\"_clear\"}]},{\"extends\":null,\"module\":null,\"name\":\"NotificationArea1\",\"overrides\":[],\"properties\":[{\"default\":[],\"kind\":null,\"name\":\"notifications\"},{\"default\":\"bottom-right\",\"kind\":null,\"name\":\"position\"},{\"default\":0,\"kind\":null,\"name\":\"_clear\"},{\"default\":[{\"background\":\"#ffc107\",\"icon\":{\"className\":\"fas fa-exclamation-triangle\",\"color\":\"white\",\"tagName\":\"i\"},\"type\":\"warning\"},{\"background\":\"#007bff\",\"icon\":{\"className\":\"fas fa-info-circle\",\"color\":\"white\",\"tagName\":\"i\"},\"type\":\"info\"}],\"kind\":null,\"name\":\"types\"}]},{\"extends\":null,\"module\":null,\"name\":\"Notification\",\"overrides\":[],\"properties\":[{\"default\":null,\"kind\":null,\"name\":\"background\"},{\"default\":3000,\"kind\":null,\"name\":\"duration\"},{\"default\":null,\"kind\":null,\"name\":\"icon\"},{\"default\":\"\",\"kind\":null,\"name\":\"message\"},{\"default\":null,\"kind\":null,\"name\":\"notification_type\"},{\"default\":false,\"kind\":null,\"name\":\"_destroyed\"}]},{\"extends\":null,\"module\":null,\"name\":\"TemplateActions1\",\"overrides\":[],\"properties\":[{\"default\":0,\"kind\":null,\"name\":\"open_modal\"},{\"default\":0,\"kind\":null,\"name\":\"close_modal\"}]},{\"extends\":null,\"module\":null,\"name\":\"MaterialTemplateActions1\",\"overrides\":[],\"properties\":[{\"default\":0,\"kind\":null,\"name\":\"open_modal\"},{\"default\":0,\"kind\":null,\"name\":\"close_modal\"}]}],\"roots\":{\"references\":[{\"attributes\":{},\"id\":\"3177\",\"type\":\"CategoricalTickFormatter\"},{\"attributes\":{\"coordinates\":null,\"data_source\":{\"id\":\"3166\"},\"glyph\":{\"id\":\"3169\"},\"group\":null,\"hover_glyph\":null,\"muted_glyph\":{\"id\":\"3171\"},\"nonselection_glyph\":{\"id\":\"3170\"},\"selection_glyph\":{\"id\":\"3174\"},\"view\":{\"id\":\"3173\"}},\"id\":\"3172\",\"type\":\"GlyphRenderer\"},{\"attributes\":{\"fill_alpha\":{\"value\":0.2},\"fill_color\":{\"field\":\"Type\",\"transform\":{\"id\":\"3165\"}},\"hatch_alpha\":{\"value\":0.2},\"hatch_color\":{\"field\":\"Type\",\"transform\":{\"id\":\"3165\"}},\"line_alpha\":{\"value\":0.2},\"top\":{\"field\":\"Open_Int\"},\"width\":{\"value\":0.8},\"x\":{\"field\":\"xoffsets\"}},\"id\":\"3171\",\"type\":\"VBar\"},{\"attributes\":{\"factors\":[[\"166.67\",\"Call\"],[\"166.67\",\"Put\"],[\"203.33\",\"Call\"],[\"203.33\",\"Put\"],[\"250\",\"Call\"],[\"250\",\"Put\"],[\"260\",\"Call\"],[\"260\",\"Put\"],[\"266.67\",\"Call\"],[\"266.67\",\"Put\"],[\"270\",\"Call\"],[\"270\",\"Put\"],[\"275\",\"Call\"],[\"275\",\"Put\"],[\"276.67\",\"Call\"],[\"276.67\",\"Put\"],[\"280\",\"Call\"],[\"280\",\"Put\"],[\"283.33\",\"Call\"],[\"283.33\",\"Put\"],[\"285\",\"Call\"],[\"285\",\"Put\"],[\"286.67\",\"Call\"],[\"286.67\",\"Put\"],[\"288.33\",\"Call\"],[\"288.33\",\"Put\"],[\"290\",\"Call\"],[\"290\",\"Put\"],[\"290.83\",\"Call\"],[\"290.83\",\"Put\"],[\"291.67\",\"Call\"],[\"291.67\",\"Put\"],[\"292.5\",\"Call\"],[\"292.5\",\"Put\"],[\"293.33\",\"Call\"],[\"293.33\",\"Put\"],[\"294.17\",\"Call\"],[\"294.17\",\"Put\"],[\"295\",\"Call\"],[\"295\",\"Put\"],[\"295.83\",\"Call\"],[\"295.83\",\"Put\"],[\"296.67\",\"Call\"],[\"296.67\",\"Put\"],[\"298.33\",\"Call\"],[\"298.33\",\"Put\"],[\"300\",\"Call\"],[\"300\",\"Put\"],[\"301.67\",\"Call\"],[\"301.67\",\"Put\"],[\"303.33\",\"Call\"],[\"303.33\",\"Put\"],[\"305\",\"Call\"],[\"305\",\"Put\"],[\"306.67\",\"Call\"],[\"306.67\",\"Put\"],[\"310\",\"Call\"],[\"310\",\"Put\"],[\"313.33\",\"Call\"],[\"313.33\",\"Put\"]],\"tags\":[[[\"Strike\",\"Strike\",null],[\"Type\",\"Type\",null]]]},\"id\":\"3133\",\"type\":\"FactorRange\"},{\"attributes\":{\"margin\":[5,5,5,5],\"name\":\"HSpacer05446\",\"sizing_mode\":\"stretch_width\"},\"id\":\"3132\",\"type\":\"Spacer\"},{\"attributes\":{\"format\":\"%0f\"},\"id\":\"3175\",\"type\":\"PrintfTickFormatter\"},{\"attributes\":{},\"id\":\"3167\",\"type\":\"Selection\"},{\"attributes\":{\"source\":{\"id\":\"3166\"}},\"id\":\"3173\",\"type\":\"CDSView\"},{\"attributes\":{\"margin\":[5,5,5,5],\"name\":\"HSpacer05447\",\"sizing_mode\":\"stretch_width\"},\"id\":\"3193\",\"type\":\"Spacer\"},{\"attributes\":{},\"id\":\"3152\",\"type\":\"SaveTool\"},{\"attributes\":{\"fill_alpha\":{\"value\":0.1},\"fill_color\":{\"field\":\"Type\",\"transform\":{\"id\":\"3165\"}},\"hatch_alpha\":{\"value\":0.1},\"hatch_color\":{\"field\":\"Type\",\"transform\":{\"id\":\"3165\"}},\"line_alpha\":{\"value\":0.1},\"top\":{\"field\":\"Open_Int\"},\"width\":{\"value\":0.8},\"x\":{\"field\":\"xoffsets\"}},\"id\":\"3170\",\"type\":\"VBar\"},{\"attributes\":{\"callback\":null,\"renderers\":[{\"id\":\"3172\"}],\"tags\":[\"hv_created\"],\"tooltips\":[[\"Strike\",\"@{Strike}\"],[\"Type\",\"@{Type}\"],[\"Open Int\",\"@{Open_Int}\"]]},\"id\":\"3135\",\"type\":\"HoverTool\"},{\"attributes\":{},\"id\":\"3153\",\"type\":\"PanTool\"},{\"attributes\":{\"below\":[{\"id\":\"3145\"}],\"center\":[{\"id\":\"3147\"},{\"id\":\"3151\"}],\"height\":500,\"left\":[{\"id\":\"3148\"}],\"margin\":[5,5,5,5],\"min_border_bottom\":10,\"min_border_left\":10,\"min_border_right\":10,\"min_border_top\":10,\"renderers\":[{\"id\":\"3172\"}],\"sizing_mode\":\"fixed\",\"title\":{\"id\":\"3137\"},\"toolbar\":{\"id\":\"3158\"},\"width\":1300,\"x_range\":{\"id\":\"3133\"},\"x_scale\":{\"id\":\"3141\"},\"y_range\":{\"id\":\"3134\"},\"y_scale\":{\"id\":\"3143\"}},\"id\":\"3136\",\"subtype\":\"Figure\",\"type\":\"Plot\"},{\"attributes\":{},\"id\":\"3154\",\"type\":\"WheelZoomTool\"},{\"attributes\":{\"tools\":[{\"id\":\"3135\"},{\"id\":\"3152\"},{\"id\":\"3153\"},{\"id\":\"3154\"},{\"id\":\"3155\"},{\"id\":\"3156\"}]},\"id\":\"3158\",\"type\":\"Toolbar\"},{\"attributes\":{\"overlay\":{\"id\":\"3157\"}},\"id\":\"3155\",\"type\":\"BoxZoomTool\"},{\"attributes\":{},\"id\":\"3141\",\"type\":\"CategoricalScale\"},{\"attributes\":{\"coordinates\":null,\"group\":null,\"text\":\"Call / Put Open Interests Comparison\",\"text_color\":\"black\",\"text_font_size\":\"12pt\"},\"id\":\"3137\",\"type\":\"Title\"},{\"attributes\":{},\"id\":\"3156\",\"type\":\"ResetTool\"},{\"attributes\":{\"axis\":{\"id\":\"3148\"},\"coordinates\":null,\"dimension\":1,\"grid_line_color\":null,\"group\":null,\"ticker\":null},\"id\":\"3151\",\"type\":\"Grid\"},{\"attributes\":{\"bottom_units\":\"screen\",\"coordinates\":null,\"fill_alpha\":0.5,\"fill_color\":\"lightgrey\",\"group\":null,\"left_units\":\"screen\",\"level\":\"overlay\",\"line_alpha\":1.0,\"line_color\":\"black\",\"line_dash\":[4,4],\"line_width\":2,\"right_units\":\"screen\",\"syncable\":false,\"top_units\":\"screen\"},\"id\":\"3157\",\"type\":\"BoxAnnotation\"},{\"attributes\":{},\"id\":\"3143\",\"type\":\"LinearScale\"},{\"attributes\":{\"factors\":[\"Call\",\"Put\"],\"palette\":[\"#30a2da\",\"#fc4f30\"]},\"id\":\"3165\",\"type\":\"CategoricalColorMapper\"},{\"attributes\":{\"axis_label\":\"TSLA\",\"coordinates\":null,\"formatter\":{\"id\":\"3177\"},\"group\":null,\"major_label_orientation\":1.5707963267948966,\"major_label_policy\":{\"id\":\"3178\"},\"ticker\":{\"id\":\"3146\"}},\"id\":\"3145\",\"type\":\"CategoricalAxis\"},{\"attributes\":{},\"id\":\"3190\",\"type\":\"UnionRenderers\"},{\"attributes\":{},\"id\":\"3146\",\"type\":\"CategoricalTicker\"},{\"attributes\":{},\"id\":\"3178\",\"type\":\"AllLabels\"},{\"attributes\":{\"children\":[{\"id\":\"3132\"},{\"id\":\"3136\"},{\"id\":\"3193\"}],\"margin\":[0,0,0,0],\"name\":\"Row05442\",\"tags\":[\"embedded\"]},\"id\":\"3131\",\"type\":\"Row\"},{\"attributes\":{\"end\":43151.8,\"reset_end\":43151.8,\"reset_start\":0.0,\"tags\":[[[\"Open Int\",\"Open Int\",null]]]},\"id\":\"3134\",\"type\":\"Range1d\"},{\"attributes\":{\"axis\":{\"id\":\"3145\"},\"coordinates\":null,\"grid_line_color\":null,\"group\":null,\"ticker\":null},\"id\":\"3147\",\"type\":\"Grid\"},{\"attributes\":{\"data\":{\"Open_Int\":{\"__ndarray__\":\"AAAAAKA+40AAAAAAAAKoQAAAAAAAOeFAAAAAAAC6zUAAAAAAYEfhQAAAAACACcNAAAAAAAB4rkAAAAAAAC63QAAAAAAA3LxAAAAAAIBcykAAAAAAAEi3QAAAAAAANLNAAAAAAACkn0AAAAAAAGTAQAAAAAAAtqVAAAAAAAAuoEAAAAAAAAimQAAAAAAApbhAAAAAAAC+o0AAAAAAgL7EQAAAAAAAGqdAAAAAAACqq0AAAAAAAGyyQAAAAADAsuBAAAAAAADKwkAAAAAAgNbCQAAAAACALcRAAAAAAADYuEAAAAAAAJyyQAAAAAAAWKBA\",\"dtype\":\"float64\",\"order\":\"little\",\"shape\":[30]},\"Strike\":[\"166.67\",\"203.33\",\"250\",\"260\",\"266.67\",\"270\",\"275\",\"276.67\",\"280\",\"283.33\",\"285\",\"286.67\",\"288.33\",\"290\",\"290.83\",\"291.67\",\"292.5\",\"293.33\",\"294.17\",\"295\",\"295.83\",\"296.67\",\"298.33\",\"300\",\"301.67\",\"303.33\",\"305\",\"306.67\",\"310\",\"313.33\"],\"Type\":[\"Call\",\"Call\",\"Call\",\"Call\",\"Call\",\"Call\",\"Call\",\"Call\",\"Call\",\"Call\",\"Call\",\"Call\",\"Call\",\"Call\",\"Call\",\"Call\",\"Call\",\"Call\",\"Call\",\"Call\",\"Call\",\"Call\",\"Call\",\"Call\",\"Call\",\"Put\",\"Put\",\"Put\",\"Put\",\"Put\"],\"xoffsets\":[[\"166.67\",\"Call\"],[\"203.33\",\"Call\"],[\"250\",\"Call\"],[\"260\",\"Call\"],[\"266.67\",\"Call\"],[\"270\",\"Call\"],[\"275\",\"Call\"],[\"276.67\",\"Call\"],[\"280\",\"Call\"],[\"283.33\",\"Call\"],[\"285\",\"Call\"],[\"286.67\",\"Call\"],[\"288.33\",\"Call\"],[\"290\",\"Call\"],[\"290.83\",\"Call\"],[\"291.67\",\"Call\"],[\"292.5\",\"Call\"],[\"293.33\",\"Call\"],[\"294.17\",\"Call\"],[\"295\",\"Call\"],[\"295.83\",\"Call\"],[\"296.67\",\"Call\"],[\"298.33\",\"Call\"],[\"300\",\"Call\"],[\"301.67\",\"Call\"],[\"303.33\",\"Put\"],[\"305\",\"Put\"],[\"306.67\",\"Put\"],[\"310\",\"Put\"],[\"313.33\",\"Put\"]]},\"selected\":{\"id\":\"3167\"},\"selection_policy\":{\"id\":\"3190\"}},\"id\":\"3166\",\"type\":\"ColumnDataSource\"},{\"attributes\":{\"bottom\":{\"value\":0},\"fill_alpha\":{\"value\":1.0},\"fill_color\":{\"field\":\"Type\",\"transform\":{\"id\":\"3165\"}},\"hatch_alpha\":{\"value\":1.0},\"hatch_color\":{\"field\":\"Type\",\"transform\":{\"id\":\"3165\"}},\"hatch_scale\":{\"value\":12.0},\"hatch_weight\":{\"value\":1.0},\"line_alpha\":{\"value\":1.0},\"line_cap\":{\"value\":\"butt\"},\"line_color\":{\"value\":\"black\"},\"line_dash\":{\"value\":[]},\"line_dash_offset\":{\"value\":0},\"line_join\":{\"value\":\"bevel\"},\"line_width\":{\"value\":1},\"top\":{\"field\":\"Open_Int\"},\"width\":{\"value\":0.8},\"x\":{\"field\":\"xoffsets\"}},\"id\":\"3174\",\"type\":\"VBar\"},{\"attributes\":{},\"id\":\"3149\",\"type\":\"BasicTicker\"},{\"attributes\":{\"axis_label\":\"Open Interests\",\"coordinates\":null,\"formatter\":{\"id\":\"3175\"},\"group\":null,\"major_label_policy\":{\"id\":\"3181\"},\"ticker\":{\"id\":\"3149\"}},\"id\":\"3148\",\"type\":\"LinearAxis\"},{\"attributes\":{},\"id\":\"3181\",\"type\":\"AllLabels\"},{\"attributes\":{\"fill_color\":{\"field\":\"Type\",\"transform\":{\"id\":\"3165\"}},\"hatch_color\":{\"field\":\"Type\",\"transform\":{\"id\":\"3165\"}},\"top\":{\"field\":\"Open_Int\"},\"width\":{\"value\":0.8},\"x\":{\"field\":\"xoffsets\"}},\"id\":\"3169\",\"type\":\"VBar\"}],\"root_ids\":[\"3131\"]},\"title\":\"Bokeh Application\",\"version\":\"2.4.3\"}};\n",
       "    var render_items = [{\"docid\":\"23522cdd-1d8b-46b3-aad9-7f537883b5e9\",\"root_ids\":[\"3131\"],\"roots\":{\"3131\":\"67ef0773-694d-43f6-b7c6-ef40c1ce99bf\"}}];\n",
       "    root.Bokeh.embed.embed_items_notebook(docs_json, render_items);\n",
       "  }\n",
       "  if (root.Bokeh !== undefined && root.Bokeh.Panel !== undefined) {\n",
       "    embed_document(root);\n",
       "  } else {\n",
       "    var attempts = 0;\n",
       "    var timer = setInterval(function(root) {\n",
       "      if (root.Bokeh !== undefined && root.Bokeh.Panel !== undefined) {\n",
       "        clearInterval(timer);\n",
       "        embed_document(root);\n",
       "      } else if (document.readyState == \"complete\") {\n",
       "        attempts++;\n",
       "        if (attempts > 200) {\n",
       "          clearInterval(timer);\n",
       "          console.log(\"Bokeh: ERROR: Unable to run BokehJS code because BokehJS library is missing\");\n",
       "        }\n",
       "      }\n",
       "    }, 25, root)\n",
       "  }\n",
       "})(window);</script>"
      ],
      "text/plain": [
       ":Bars   [Strike,Type]   (Open Int)"
      ]
     },
     "execution_count": 73,
     "metadata": {
      "application/vnd.holoviews_exec.v0+json": {
       "id": "3131"
      }
     },
     "output_type": "execute_result"
    }
   ],
   "source": [
    "report"
   ]
  },
  {
   "cell_type": "code",
   "execution_count": 74,
   "metadata": {},
   "outputs": [
    {
     "data": {},
     "metadata": {},
     "output_type": "display_data"
    },
    {
     "data": {
      "application/vnd.holoviews_exec.v0+json": "",
      "text/html": [
       "<div id='3240'>\n",
       "  <div class=\"bk-root\" id=\"4b09629e-1bf9-48eb-9e91-6c9b2a747a9d\" data-root-id=\"3240\"></div>\n",
       "</div>\n",
       "<script type=\"application/javascript\">(function(root) {\n",
       "  function embed_document(root) {\n",
       "    var docs_json = {\"18699d39-eaf7-4d62-a318-fe1887c0ac10\":{\"defs\":[{\"extends\":null,\"module\":null,\"name\":\"ReactiveHTML1\",\"overrides\":[],\"properties\":[]},{\"extends\":null,\"module\":null,\"name\":\"FlexBox1\",\"overrides\":[],\"properties\":[{\"default\":\"flex-start\",\"kind\":null,\"name\":\"align_content\"},{\"default\":\"flex-start\",\"kind\":null,\"name\":\"align_items\"},{\"default\":\"row\",\"kind\":null,\"name\":\"flex_direction\"},{\"default\":\"wrap\",\"kind\":null,\"name\":\"flex_wrap\"},{\"default\":\"flex-start\",\"kind\":null,\"name\":\"justify_content\"}]},{\"extends\":null,\"module\":null,\"name\":\"GridStack1\",\"overrides\":[],\"properties\":[{\"default\":\"warn\",\"kind\":null,\"name\":\"mode\"},{\"default\":null,\"kind\":null,\"name\":\"ncols\"},{\"default\":null,\"kind\":null,\"name\":\"nrows\"},{\"default\":true,\"kind\":null,\"name\":\"allow_resize\"},{\"default\":true,\"kind\":null,\"name\":\"allow_drag\"},{\"default\":[],\"kind\":null,\"name\":\"state\"}]},{\"extends\":null,\"module\":null,\"name\":\"click1\",\"overrides\":[],\"properties\":[{\"default\":\"\",\"kind\":null,\"name\":\"terminal_output\"},{\"default\":\"\",\"kind\":null,\"name\":\"debug_name\"},{\"default\":0,\"kind\":null,\"name\":\"clears\"}]},{\"extends\":null,\"module\":null,\"name\":\"NotificationAreaBase1\",\"overrides\":[],\"properties\":[{\"default\":\"bottom-right\",\"kind\":null,\"name\":\"position\"},{\"default\":0,\"kind\":null,\"name\":\"_clear\"}]},{\"extends\":null,\"module\":null,\"name\":\"NotificationArea1\",\"overrides\":[],\"properties\":[{\"default\":[],\"kind\":null,\"name\":\"notifications\"},{\"default\":\"bottom-right\",\"kind\":null,\"name\":\"position\"},{\"default\":0,\"kind\":null,\"name\":\"_clear\"},{\"default\":[{\"background\":\"#ffc107\",\"icon\":{\"className\":\"fas fa-exclamation-triangle\",\"color\":\"white\",\"tagName\":\"i\"},\"type\":\"warning\"},{\"background\":\"#007bff\",\"icon\":{\"className\":\"fas fa-info-circle\",\"color\":\"white\",\"tagName\":\"i\"},\"type\":\"info\"}],\"kind\":null,\"name\":\"types\"}]},{\"extends\":null,\"module\":null,\"name\":\"Notification\",\"overrides\":[],\"properties\":[{\"default\":null,\"kind\":null,\"name\":\"background\"},{\"default\":3000,\"kind\":null,\"name\":\"duration\"},{\"default\":null,\"kind\":null,\"name\":\"icon\"},{\"default\":\"\",\"kind\":null,\"name\":\"message\"},{\"default\":null,\"kind\":null,\"name\":\"notification_type\"},{\"default\":false,\"kind\":null,\"name\":\"_destroyed\"}]},{\"extends\":null,\"module\":null,\"name\":\"TemplateActions1\",\"overrides\":[],\"properties\":[{\"default\":0,\"kind\":null,\"name\":\"open_modal\"},{\"default\":0,\"kind\":null,\"name\":\"close_modal\"}]},{\"extends\":null,\"module\":null,\"name\":\"MaterialTemplateActions1\",\"overrides\":[],\"properties\":[{\"default\":0,\"kind\":null,\"name\":\"open_modal\"},{\"default\":0,\"kind\":null,\"name\":\"close_modal\"}]}],\"roots\":{\"references\":[{\"attributes\":{\"end\":4.0,\"reset_end\":4.0,\"reset_start\":0.0,\"tags\":[[[\"Time\",\"Time\",null]]]},\"id\":\"3242\",\"type\":\"Range1d\"},{\"attributes\":{\"coordinates\":null,\"data_source\":{\"id\":\"3275\"},\"glyph\":{\"id\":\"3278\"},\"group\":null,\"hover_glyph\":null,\"muted_glyph\":{\"id\":\"3280\"},\"nonselection_glyph\":{\"id\":\"3279\"},\"selection_glyph\":{\"id\":\"3283\"},\"view\":{\"id\":\"3282\"}},\"id\":\"3281\",\"type\":\"GlyphRenderer\"},{\"attributes\":{\"coordinates\":null,\"group\":null,\"text\":\"close\",\"text_color\":\"black\",\"text_font_size\":\"12pt\"},\"id\":\"3246\",\"type\":\"Title\"},{\"attributes\":{\"line_color\":\"#30a2da\",\"line_width\":2,\"x\":{\"field\":\"Time\"},\"y\":{\"field\":\"close\"}},\"id\":\"3283\",\"type\":\"Line\"},{\"attributes\":{\"margin\":[5,5,5,5],\"name\":\"HSpacer05653\",\"sizing_mode\":\"stretch_width\"},\"id\":\"3241\",\"type\":\"Spacer\"},{\"attributes\":{\"overlay\":{\"id\":\"3267\"}},\"id\":\"3265\",\"type\":\"BoxZoomTool\"},{\"attributes\":{},\"id\":\"3286\",\"type\":\"AllLabels\"},{\"attributes\":{\"axis\":{\"id\":\"3254\"},\"coordinates\":null,\"grid_line_color\":null,\"group\":null,\"ticker\":null},\"id\":\"3257\",\"type\":\"Grid\"},{\"attributes\":{\"callback\":null,\"renderers\":[{\"id\":\"3281\"}],\"tags\":[\"hv_created\"],\"tooltips\":[[\"Time\",\"@{Time}\"],[\"close\",\"@{close}\"]]},\"id\":\"3244\",\"type\":\"HoverTool\"},{\"attributes\":{},\"id\":\"3288\",\"type\":\"BasicTickFormatter\"},{\"attributes\":{},\"id\":\"3289\",\"type\":\"AllLabels\"},{\"attributes\":{},\"id\":\"3259\",\"type\":\"BasicTicker\"},{\"attributes\":{\"line_alpha\":0.1,\"line_color\":\"#30a2da\",\"line_width\":2,\"x\":{\"field\":\"Time\"},\"y\":{\"field\":\"close\"}},\"id\":\"3279\",\"type\":\"Line\"},{\"attributes\":{},\"id\":\"3255\",\"type\":\"BasicTicker\"},{\"attributes\":{\"below\":[{\"id\":\"3254\"}],\"center\":[{\"id\":\"3257\"},{\"id\":\"3261\"}],\"height\":300,\"left\":[{\"id\":\"3258\"}],\"margin\":[5,5,5,5],\"min_border_bottom\":10,\"min_border_left\":10,\"min_border_right\":10,\"min_border_top\":10,\"renderers\":[{\"id\":\"3281\"}],\"sizing_mode\":\"fixed\",\"title\":{\"id\":\"3246\"},\"toolbar\":{\"id\":\"3268\"},\"width\":700,\"x_range\":{\"id\":\"3242\"},\"x_scale\":{\"id\":\"3250\"},\"y_range\":{\"id\":\"3243\"},\"y_scale\":{\"id\":\"3252\"}},\"id\":\"3245\",\"subtype\":\"Figure\",\"type\":\"Plot\"},{\"attributes\":{\"end\":305.649,\"reset_end\":305.649,\"reset_start\":290.901,\"start\":290.901,\"tags\":[[[\"close\",\"close\",null]]]},\"id\":\"3243\",\"type\":\"Range1d\"},{\"attributes\":{\"axis_label\":\"Time\",\"coordinates\":null,\"formatter\":{\"id\":\"3285\"},\"group\":null,\"major_label_policy\":{\"id\":\"3286\"},\"ticker\":{\"id\":\"3255\"}},\"id\":\"3254\",\"type\":\"LinearAxis\"},{\"attributes\":{\"margin\":[5,5,5,5],\"name\":\"HSpacer05654\",\"sizing_mode\":\"stretch_width\"},\"id\":\"3300\",\"type\":\"Spacer\"},{\"attributes\":{},\"id\":\"3250\",\"type\":\"LinearScale\"},{\"attributes\":{\"line_color\":\"#30a2da\",\"line_width\":2,\"x\":{\"field\":\"Time\"},\"y\":{\"field\":\"close\"}},\"id\":\"3278\",\"type\":\"Line\"},{\"attributes\":{},\"id\":\"3262\",\"type\":\"SaveTool\"},{\"attributes\":{\"children\":[{\"id\":\"3241\"},{\"id\":\"3245\"},{\"id\":\"3300\"}],\"margin\":[0,0,0,0],\"name\":\"Row05649\",\"tags\":[\"embedded\"]},\"id\":\"3240\",\"type\":\"Row\"},{\"attributes\":{\"tools\":[{\"id\":\"3244\"},{\"id\":\"3262\"},{\"id\":\"3263\"},{\"id\":\"3264\"},{\"id\":\"3265\"},{\"id\":\"3266\"}]},\"id\":\"3268\",\"type\":\"Toolbar\"},{\"attributes\":{},\"id\":\"3297\",\"type\":\"UnionRenderers\"},{\"attributes\":{\"axis_label\":\"\",\"coordinates\":null,\"formatter\":{\"id\":\"3288\"},\"group\":null,\"major_label_policy\":{\"id\":\"3289\"},\"ticker\":{\"id\":\"3259\"}},\"id\":\"3258\",\"type\":\"LinearAxis\"},{\"attributes\":{},\"id\":\"3266\",\"type\":\"ResetTool\"},{\"attributes\":{\"line_alpha\":0.2,\"line_color\":\"#30a2da\",\"line_width\":2,\"x\":{\"field\":\"Time\"},\"y\":{\"field\":\"close\"}},\"id\":\"3280\",\"type\":\"Line\"},{\"attributes\":{},\"id\":\"3263\",\"type\":\"PanTool\"},{\"attributes\":{\"data\":{\"Time\":[0,1,2,3,4],\"close\":{\"__ndarray__\":\"H4XrUbgGc0CuR+F6FEJyQPYoXI/C6XJAAAAAAAD8ckCamZmZmfVyQA==\",\"dtype\":\"float64\",\"order\":\"little\",\"shape\":[5]}},\"selected\":{\"id\":\"3276\"},\"selection_policy\":{\"id\":\"3297\"}},\"id\":\"3275\",\"type\":\"ColumnDataSource\"},{\"attributes\":{\"source\":{\"id\":\"3275\"}},\"id\":\"3282\",\"type\":\"CDSView\"},{\"attributes\":{\"axis\":{\"id\":\"3258\"},\"coordinates\":null,\"dimension\":1,\"grid_line_color\":null,\"group\":null,\"ticker\":null},\"id\":\"3261\",\"type\":\"Grid\"},{\"attributes\":{},\"id\":\"3264\",\"type\":\"WheelZoomTool\"},{\"attributes\":{},\"id\":\"3276\",\"type\":\"Selection\"},{\"attributes\":{\"bottom_units\":\"screen\",\"coordinates\":null,\"fill_alpha\":0.5,\"fill_color\":\"lightgrey\",\"group\":null,\"left_units\":\"screen\",\"level\":\"overlay\",\"line_alpha\":1.0,\"line_color\":\"black\",\"line_dash\":[4,4],\"line_width\":2,\"right_units\":\"screen\",\"syncable\":false,\"top_units\":\"screen\"},\"id\":\"3267\",\"type\":\"BoxAnnotation\"},{\"attributes\":{},\"id\":\"3285\",\"type\":\"BasicTickFormatter\"},{\"attributes\":{},\"id\":\"3252\",\"type\":\"LinearScale\"}],\"root_ids\":[\"3240\"]},\"title\":\"Bokeh Application\",\"version\":\"2.4.3\"}};\n",
       "    var render_items = [{\"docid\":\"18699d39-eaf7-4d62-a318-fe1887c0ac10\",\"root_ids\":[\"3240\"],\"roots\":{\"3240\":\"4b09629e-1bf9-48eb-9e91-6c9b2a747a9d\"}}];\n",
       "    root.Bokeh.embed.embed_items_notebook(docs_json, render_items);\n",
       "  }\n",
       "  if (root.Bokeh !== undefined && root.Bokeh.Panel !== undefined) {\n",
       "    embed_document(root);\n",
       "  } else {\n",
       "    var attempts = 0;\n",
       "    var timer = setInterval(function(root) {\n",
       "      if (root.Bokeh !== undefined && root.Bokeh.Panel !== undefined) {\n",
       "        clearInterval(timer);\n",
       "        embed_document(root);\n",
       "      } else if (document.readyState == \"complete\") {\n",
       "        attempts++;\n",
       "        if (attempts > 200) {\n",
       "          clearInterval(timer);\n",
       "          console.log(\"Bokeh: ERROR: Unable to run BokehJS code because BokehJS library is missing\");\n",
       "        }\n",
       "      }\n",
       "    }, 25, root)\n",
       "  }\n",
       "})(window);</script>"
      ],
      "text/plain": [
       ":Curve   [Time]   (close)"
      ]
     },
     "execution_count": 74,
     "metadata": {
      "application/vnd.holoviews_exec.v0+json": {
       "id": "3240"
      }
     },
     "output_type": "execute_result"
    }
   ],
   "source": [
    "plot"
   ]
  },
  {
   "cell_type": "markdown",
   "metadata": {},
   "source": [
    "# Stats"
   ]
  },
  {
   "cell_type": "code",
   "execution_count": 60,
   "metadata": {},
   "outputs": [
    {
     "data": {
      "text/html": [
       "<div>\n",
       "<style scoped>\n",
       "    .dataframe tbody tr th:only-of-type {\n",
       "        vertical-align: middle;\n",
       "    }\n",
       "\n",
       "    .dataframe tbody tr th {\n",
       "        vertical-align: top;\n",
       "    }\n",
       "\n",
       "    .dataframe thead th {\n",
       "        text-align: right;\n",
       "    }\n",
       "</style>\n",
       "<table border=\"1\" class=\"dataframe\">\n",
       "  <thead>\n",
       "    <tr style=\"text-align: right;\">\n",
       "      <th></th>\n",
       "      <th>Open Int</th>\n",
       "    </tr>\n",
       "  </thead>\n",
       "  <tbody>\n",
       "    <tr>\n",
       "      <th>count</th>\n",
       "      <td>97.000000</td>\n",
       "    </tr>\n",
       "    <tr>\n",
       "      <th>mean</th>\n",
       "      <td>16631.793814</td>\n",
       "    </tr>\n",
       "    <tr>\n",
       "      <th>std</th>\n",
       "      <td>20918.616662</td>\n",
       "    </tr>\n",
       "    <tr>\n",
       "      <th>min</th>\n",
       "      <td>1140.000000</td>\n",
       "    </tr>\n",
       "    <tr>\n",
       "      <th>25%</th>\n",
       "      <td>4764.000000</td>\n",
       "    </tr>\n",
       "    <tr>\n",
       "      <th>50%</th>\n",
       "      <td>10151.000000</td>\n",
       "    </tr>\n",
       "    <tr>\n",
       "      <th>75%</th>\n",
       "      <td>21497.000000</td>\n",
       "    </tr>\n",
       "    <tr>\n",
       "      <th>max</th>\n",
       "      <td>146857.000000</td>\n",
       "    </tr>\n",
       "  </tbody>\n",
       "</table>\n",
       "</div>"
      ],
      "text/plain": [
       "            Open Int\n",
       "count      97.000000\n",
       "mean    16631.793814\n",
       "std     20918.616662\n",
       "min      1140.000000\n",
       "25%      4764.000000\n",
       "50%     10151.000000\n",
       "75%     21497.000000\n",
       "max    146857.000000"
      ]
     },
     "execution_count": 60,
     "metadata": {},
     "output_type": "execute_result"
    }
   ],
   "source": [
    "call_stats(df)"
   ]
  },
  {
   "cell_type": "code",
   "execution_count": 61,
   "metadata": {},
   "outputs": [
    {
     "data": {
      "text/html": [
       "<div>\n",
       "<style scoped>\n",
       "    .dataframe tbody tr th:only-of-type {\n",
       "        vertical-align: middle;\n",
       "    }\n",
       "\n",
       "    .dataframe tbody tr th {\n",
       "        vertical-align: top;\n",
       "    }\n",
       "\n",
       "    .dataframe thead th {\n",
       "        text-align: right;\n",
       "    }\n",
       "</style>\n",
       "<table border=\"1\" class=\"dataframe\">\n",
       "  <thead>\n",
       "    <tr style=\"text-align: right;\">\n",
       "      <th></th>\n",
       "      <th>Open Int</th>\n",
       "    </tr>\n",
       "  </thead>\n",
       "  <tbody>\n",
       "    <tr>\n",
       "      <th>count</th>\n",
       "      <td>97.000000</td>\n",
       "    </tr>\n",
       "    <tr>\n",
       "      <th>mean</th>\n",
       "      <td>16631.793814</td>\n",
       "    </tr>\n",
       "    <tr>\n",
       "      <th>std</th>\n",
       "      <td>20918.616662</td>\n",
       "    </tr>\n",
       "    <tr>\n",
       "      <th>min</th>\n",
       "      <td>1140.000000</td>\n",
       "    </tr>\n",
       "    <tr>\n",
       "      <th>25%</th>\n",
       "      <td>4764.000000</td>\n",
       "    </tr>\n",
       "    <tr>\n",
       "      <th>50%</th>\n",
       "      <td>10151.000000</td>\n",
       "    </tr>\n",
       "    <tr>\n",
       "      <th>75%</th>\n",
       "      <td>21497.000000</td>\n",
       "    </tr>\n",
       "    <tr>\n",
       "      <th>max</th>\n",
       "      <td>146857.000000</td>\n",
       "    </tr>\n",
       "  </tbody>\n",
       "</table>\n",
       "</div>"
      ],
      "text/plain": [
       "            Open Int\n",
       "count      97.000000\n",
       "mean    16631.793814\n",
       "std     20918.616662\n",
       "min      1140.000000\n",
       "25%      4764.000000\n",
       "50%     10151.000000\n",
       "75%     21497.000000\n",
       "max    146857.000000"
      ]
     },
     "execution_count": 61,
     "metadata": {},
     "output_type": "execute_result"
    }
   ],
   "source": [
    "put_stats(df)"
   ]
  },
  {
   "cell_type": "code",
   "execution_count": null,
   "metadata": {},
   "outputs": [],
   "source": []
  },
  {
   "cell_type": "code",
   "execution_count": null,
   "metadata": {},
   "outputs": [],
   "source": []
  },
  {
   "cell_type": "markdown",
   "metadata": {},
   "source": [
    "# Testing"
   ]
  },
  {
   "cell_type": "code",
   "execution_count": 62,
   "metadata": {},
   "outputs": [
    {
     "data": {
      "text/html": [
       "<div>\n",
       "<style scoped>\n",
       "    .dataframe tbody tr th:only-of-type {\n",
       "        vertical-align: middle;\n",
       "    }\n",
       "\n",
       "    .dataframe tbody tr th {\n",
       "        vertical-align: top;\n",
       "    }\n",
       "\n",
       "    .dataframe thead th {\n",
       "        text-align: right;\n",
       "    }\n",
       "</style>\n",
       "<table border=\"1\" class=\"dataframe\">\n",
       "  <thead>\n",
       "    <tr style=\"text-align: right;\">\n",
       "      <th></th>\n",
       "      <th>Symbol</th>\n",
       "      <th>Type</th>\n",
       "      <th>Strike</th>\n",
       "      <th>Exp Date</th>\n",
       "      <th>DTE</th>\n",
       "      <th>Bid</th>\n",
       "      <th>Midpoint</th>\n",
       "      <th>Ask</th>\n",
       "      <th>Last</th>\n",
       "      <th>Volume</th>\n",
       "      <th>Open Int</th>\n",
       "      <th>OI Chg</th>\n",
       "      <th>IV</th>\n",
       "      <th>Time</th>\n",
       "      <th>Total Open Int</th>\n",
       "    </tr>\n",
       "  </thead>\n",
       "  <tbody>\n",
       "    <tr>\n",
       "      <th>1427</th>\n",
       "      <td>AAL</td>\n",
       "      <td>Call</td>\n",
       "      <td>13.0</td>\n",
       "      <td>2022-09-16</td>\n",
       "      <td>0.0</td>\n",
       "      <td>0.71</td>\n",
       "      <td>0.76</td>\n",
       "      <td>0.80</td>\n",
       "      <td>0.77</td>\n",
       "      <td>937.0</td>\n",
       "      <td>8574.0</td>\n",
       "      <td>-120</td>\n",
       "      <td>76.72%</td>\n",
       "      <td>2022-09-16</td>\n",
       "      <td>79346.0</td>\n",
       "    </tr>\n",
       "    <tr>\n",
       "      <th>1195</th>\n",
       "      <td>AAL</td>\n",
       "      <td>Call</td>\n",
       "      <td>13.5</td>\n",
       "      <td>2022-09-16</td>\n",
       "      <td>0.0</td>\n",
       "      <td>0.21</td>\n",
       "      <td>0.28</td>\n",
       "      <td>0.34</td>\n",
       "      <td>0.26</td>\n",
       "      <td>1141.0</td>\n",
       "      <td>3984.0</td>\n",
       "      <td>-379</td>\n",
       "      <td>27.55%</td>\n",
       "      <td>2022-09-16</td>\n",
       "      <td>79346.0</td>\n",
       "    </tr>\n",
       "    <tr>\n",
       "      <th>1433</th>\n",
       "      <td>AAPL</td>\n",
       "      <td>Call</td>\n",
       "      <td>125.0</td>\n",
       "      <td>2022-09-16</td>\n",
       "      <td>0.0</td>\n",
       "      <td>24.80</td>\n",
       "      <td>25.83</td>\n",
       "      <td>26.85</td>\n",
       "      <td>25.75</td>\n",
       "      <td>968.0</td>\n",
       "      <td>21065.0</td>\n",
       "      <td>-117</td>\n",
       "      <td>158.24%</td>\n",
       "      <td>2022-09-16</td>\n",
       "      <td>338171.0</td>\n",
       "    </tr>\n",
       "    <tr>\n",
       "      <th>1365</th>\n",
       "      <td>AAPL</td>\n",
       "      <td>Call</td>\n",
       "      <td>130.0</td>\n",
       "      <td>2022-09-16</td>\n",
       "      <td>0.0</td>\n",
       "      <td>20.05</td>\n",
       "      <td>20.35</td>\n",
       "      <td>20.65</td>\n",
       "      <td>20.60</td>\n",
       "      <td>754.0</td>\n",
       "      <td>13320.0</td>\n",
       "      <td>-158</td>\n",
       "      <td>0.00%</td>\n",
       "      <td>2022-09-16</td>\n",
       "      <td>338171.0</td>\n",
       "    </tr>\n",
       "    <tr>\n",
       "      <th>1448</th>\n",
       "      <td>AAPL</td>\n",
       "      <td>Call</td>\n",
       "      <td>135.0</td>\n",
       "      <td>2022-09-16</td>\n",
       "      <td>0.0</td>\n",
       "      <td>14.80</td>\n",
       "      <td>15.75</td>\n",
       "      <td>16.70</td>\n",
       "      <td>15.50</td>\n",
       "      <td>566.0</td>\n",
       "      <td>7634.0</td>\n",
       "      <td>-108</td>\n",
       "      <td>193.51%</td>\n",
       "      <td>2022-09-16</td>\n",
       "      <td>338171.0</td>\n",
       "    </tr>\n",
       "  </tbody>\n",
       "</table>\n",
       "</div>"
      ],
      "text/plain": [
       "     Symbol  Type  Strike    Exp Date  DTE    Bid  Midpoint    Ask   Last  \\\n",
       "1427    AAL  Call    13.0  2022-09-16  0.0   0.71      0.76   0.80   0.77   \n",
       "1195    AAL  Call    13.5  2022-09-16  0.0   0.21      0.28   0.34   0.26   \n",
       "1433   AAPL  Call   125.0  2022-09-16  0.0  24.80     25.83  26.85  25.75   \n",
       "1365   AAPL  Call   130.0  2022-09-16  0.0  20.05     20.35  20.65  20.60   \n",
       "1448   AAPL  Call   135.0  2022-09-16  0.0  14.80     15.75  16.70  15.50   \n",
       "\n",
       "      Volume  Open Int OI Chg       IV        Time  Total Open Int  \n",
       "1427   937.0    8574.0   -120   76.72%  2022-09-16         79346.0  \n",
       "1195  1141.0    3984.0   -379   27.55%  2022-09-16         79346.0  \n",
       "1433   968.0   21065.0   -117  158.24%  2022-09-16        338171.0  \n",
       "1365   754.0   13320.0   -158    0.00%  2022-09-16        338171.0  \n",
       "1448   566.0    7634.0   -108  193.51%  2022-09-16        338171.0  "
      ]
     },
     "execution_count": 62,
     "metadata": {},
     "output_type": "execute_result"
    }
   ],
   "source": [
    "calls = df[df['Type'] == 'Call'].drop(columns='Price')\n",
    "calls.head()"
   ]
  },
  {
   "cell_type": "code",
   "execution_count": 63,
   "metadata": {},
   "outputs": [
    {
     "data": {
      "text/html": [
       "<div>\n",
       "<style scoped>\n",
       "    .dataframe tbody tr th:only-of-type {\n",
       "        vertical-align: middle;\n",
       "    }\n",
       "\n",
       "    .dataframe tbody tr th {\n",
       "        vertical-align: top;\n",
       "    }\n",
       "\n",
       "    .dataframe thead th {\n",
       "        text-align: right;\n",
       "    }\n",
       "</style>\n",
       "<table border=\"1\" class=\"dataframe\">\n",
       "  <thead>\n",
       "    <tr style=\"text-align: right;\">\n",
       "      <th></th>\n",
       "      <th>Symbol</th>\n",
       "      <th>Type</th>\n",
       "      <th>Strike</th>\n",
       "      <th>Exp Date</th>\n",
       "      <th>DTE</th>\n",
       "      <th>Bid</th>\n",
       "      <th>Midpoint</th>\n",
       "      <th>Ask</th>\n",
       "      <th>Last</th>\n",
       "      <th>Volume</th>\n",
       "      <th>Open Int</th>\n",
       "      <th>OI Chg</th>\n",
       "      <th>IV</th>\n",
       "      <th>Time</th>\n",
       "      <th>Total Open Int</th>\n",
       "    </tr>\n",
       "  </thead>\n",
       "  <tbody>\n",
       "    <tr>\n",
       "      <th>330</th>\n",
       "      <td>AAL</td>\n",
       "      <td>Put</td>\n",
       "      <td>14.0</td>\n",
       "      <td>2022-09-16</td>\n",
       "      <td>0.0</td>\n",
       "      <td>0.20</td>\n",
       "      <td>0.25</td>\n",
       "      <td>0.30</td>\n",
       "      <td>0.23</td>\n",
       "      <td>6970.0</td>\n",
       "      <td>16286.0</td>\n",
       "      <td>+1,041</td>\n",
       "      <td>49.33%</td>\n",
       "      <td>2022-09-16</td>\n",
       "      <td>79346.0</td>\n",
       "    </tr>\n",
       "    <tr>\n",
       "      <th>309</th>\n",
       "      <td>AAL</td>\n",
       "      <td>Put</td>\n",
       "      <td>14.5</td>\n",
       "      <td>2022-09-16</td>\n",
       "      <td>0.0</td>\n",
       "      <td>0.71</td>\n",
       "      <td>0.76</td>\n",
       "      <td>0.80</td>\n",
       "      <td>0.73</td>\n",
       "      <td>873.0</td>\n",
       "      <td>2082.0</td>\n",
       "      <td>+1,103</td>\n",
       "      <td>95.30%</td>\n",
       "      <td>2022-09-16</td>\n",
       "      <td>79346.0</td>\n",
       "    </tr>\n",
       "    <tr>\n",
       "      <th>1144</th>\n",
       "      <td>AAL</td>\n",
       "      <td>Put</td>\n",
       "      <td>15.0</td>\n",
       "      <td>2022-09-16</td>\n",
       "      <td>0.0</td>\n",
       "      <td>1.21</td>\n",
       "      <td>1.27</td>\n",
       "      <td>1.32</td>\n",
       "      <td>1.21</td>\n",
       "      <td>1374.0</td>\n",
       "      <td>48420.0</td>\n",
       "      <td>-556</td>\n",
       "      <td>147.68%</td>\n",
       "      <td>2022-09-16</td>\n",
       "      <td>79346.0</td>\n",
       "    </tr>\n",
       "    <tr>\n",
       "      <th>1016</th>\n",
       "      <td>AAPL</td>\n",
       "      <td>Put</td>\n",
       "      <td>152.5</td>\n",
       "      <td>2022-09-16</td>\n",
       "      <td>0.0</td>\n",
       "      <td>1.65</td>\n",
       "      <td>2.33</td>\n",
       "      <td>3.00</td>\n",
       "      <td>1.78</td>\n",
       "      <td>23955.0</td>\n",
       "      <td>31120.0</td>\n",
       "      <td>-4,510</td>\n",
       "      <td>62.85%</td>\n",
       "      <td>2022-09-16</td>\n",
       "      <td>338171.0</td>\n",
       "    </tr>\n",
       "    <tr>\n",
       "      <th>1001</th>\n",
       "      <td>AAPL</td>\n",
       "      <td>Put</td>\n",
       "      <td>155.0</td>\n",
       "      <td>2022-09-16</td>\n",
       "      <td>0.0</td>\n",
       "      <td>4.15</td>\n",
       "      <td>4.80</td>\n",
       "      <td>5.45</td>\n",
       "      <td>4.35</td>\n",
       "      <td>14856.0</td>\n",
       "      <td>34995.0</td>\n",
       "      <td>-23,986</td>\n",
       "      <td>32.94%</td>\n",
       "      <td>2022-09-16</td>\n",
       "      <td>338171.0</td>\n",
       "    </tr>\n",
       "  </tbody>\n",
       "</table>\n",
       "</div>"
      ],
      "text/plain": [
       "     Symbol Type  Strike    Exp Date  DTE   Bid  Midpoint   Ask  Last  \\\n",
       "330     AAL  Put    14.0  2022-09-16  0.0  0.20      0.25  0.30  0.23   \n",
       "309     AAL  Put    14.5  2022-09-16  0.0  0.71      0.76  0.80  0.73   \n",
       "1144    AAL  Put    15.0  2022-09-16  0.0  1.21      1.27  1.32  1.21   \n",
       "1016   AAPL  Put   152.5  2022-09-16  0.0  1.65      2.33  3.00  1.78   \n",
       "1001   AAPL  Put   155.0  2022-09-16  0.0  4.15      4.80  5.45  4.35   \n",
       "\n",
       "       Volume  Open Int   OI Chg       IV        Time  Total Open Int  \n",
       "330    6970.0   16286.0   +1,041   49.33%  2022-09-16         79346.0  \n",
       "309     873.0    2082.0   +1,103   95.30%  2022-09-16         79346.0  \n",
       "1144   1374.0   48420.0     -556  147.68%  2022-09-16         79346.0  \n",
       "1016  23955.0   31120.0   -4,510   62.85%  2022-09-16        338171.0  \n",
       "1001  14856.0   34995.0  -23,986   32.94%  2022-09-16        338171.0  "
      ]
     },
     "execution_count": 63,
     "metadata": {},
     "output_type": "execute_result"
    }
   ],
   "source": [
    "puts = df[df['Type'] == 'Put'].drop(columns='Price')\n",
    "puts.head()"
   ]
  },
  {
   "cell_type": "code",
   "execution_count": null,
   "metadata": {},
   "outputs": [],
   "source": []
  },
  {
   "cell_type": "code",
   "execution_count": null,
   "metadata": {},
   "outputs": [],
   "source": []
  },
  {
   "cell_type": "code",
   "execution_count": null,
   "metadata": {},
   "outputs": [],
   "source": []
  },
  {
   "cell_type": "code",
   "execution_count": null,
   "metadata": {},
   "outputs": [],
   "source": []
  },
  {
   "cell_type": "code",
   "execution_count": null,
   "metadata": {},
   "outputs": [],
   "source": [
    "\n"
   ]
  },
  {
   "cell_type": "code",
   "execution_count": null,
   "metadata": {},
   "outputs": [],
   "source": [
    "\n",
    "\n"
   ]
  },
  {
   "cell_type": "code",
   "execution_count": null,
   "metadata": {},
   "outputs": [],
   "source": [
    "\n"
   ]
  }
 ],
 "metadata": {
  "kernelspec": {
   "display_name": "Python 3.7.13 ('dev')",
   "language": "python",
   "name": "python3"
  },
  "language_info": {
   "codemirror_mode": {
    "name": "ipython",
    "version": 3
   },
   "file_extension": ".py",
   "mimetype": "text/x-python",
   "name": "python",
   "nbconvert_exporter": "python",
   "pygments_lexer": "ipython3",
   "version": "3.7.13"
  },
  "orig_nbformat": 4,
  "vscode": {
   "interpreter": {
    "hash": "c15db3377afa3dcb659dfa4a45bef3fc6c9aec87eaa6dcb1828c53c173a1512b"
   }
  }
 },
 "nbformat": 4,
 "nbformat_minor": 2
}
