{
 "cells": [
  {
   "cell_type": "code",
   "execution_count": 59,
   "metadata": {},
   "outputs": [],
   "source": [
    "import fire\n",
    "import os\n",
    "import requests\n",
    "import pandas as pd\n",
    "from dotenv import load_dotenv\n",
    "load_dotenv()\n",
    "import numpy as np\n",
    "import alpaca_trade_api as alpaca\n",
    "import questionary\n",
    "import hvplot.pandas\n",
    "\n",
    "from qualifier.utils.alpaca_api import alpaca_func\n",
    "\n",
    "from qualifier.utils.analysis import largest_20_OI\n",
    "from qualifier.utils.analysis import largest_20_OI_plot\n",
    "from qualifier.utils.analysis import options_call_bar\n",
    "from qualifier.utils.analysis import options_put_bar\n",
    "from qualifier.utils.analysis import put_stats\n",
    "from qualifier.utils.analysis import call_stats\n",
    "from qualifier.utils.analysis import ticker_report\n",
    "\n",
    "from Modules.CleanData import get_data\n",
    "from qualifier.utils.SQL import add_new_table"
   ]
  },
  {
   "cell_type": "markdown",
   "metadata": {},
   "source": [
    "# Alpaca API"
   ]
  },
  {
   "cell_type": "code",
   "execution_count": 60,
   "metadata": {},
   "outputs": [],
   "source": [
    "# Gets Alpaca key and secret from .env.\n",
    "alpaca_key = os.getenv(\"ALPACA_API_KEY\")\n",
    "alpaca_secret = os.getenv(\"ALPACA_SECRET_KEY\")\n",
    "\n",
    "# Specify dates for Alpaca API.\n",
    "start_date = \"2022-09-12\"\n",
    "end_date = \"2022-09-16\"\n",
    "\n",
    "# Specify ticker of stock to get info from Alpaca API.\n",
    "stock = \"AAPL\""
   ]
  },
  {
   "cell_type": "code",
   "execution_count": 61,
   "metadata": {},
   "outputs": [
    {
     "data": {
      "text/html": [
       "<div>\n",
       "<style scoped>\n",
       "    .dataframe tbody tr th:only-of-type {\n",
       "        vertical-align: middle;\n",
       "    }\n",
       "\n",
       "    .dataframe tbody tr th {\n",
       "        vertical-align: top;\n",
       "    }\n",
       "\n",
       "    .dataframe thead th {\n",
       "        text-align: right;\n",
       "    }\n",
       "</style>\n",
       "<table border=\"1\" class=\"dataframe\">\n",
       "  <thead>\n",
       "    <tr style=\"text-align: right;\">\n",
       "      <th></th>\n",
       "      <th>open</th>\n",
       "      <th>high</th>\n",
       "      <th>low</th>\n",
       "      <th>close</th>\n",
       "      <th>volume</th>\n",
       "      <th>trade_count</th>\n",
       "      <th>vwap</th>\n",
       "    </tr>\n",
       "    <tr>\n",
       "      <th>timestamp</th>\n",
       "      <th></th>\n",
       "      <th></th>\n",
       "      <th></th>\n",
       "      <th></th>\n",
       "      <th></th>\n",
       "      <th></th>\n",
       "      <th></th>\n",
       "    </tr>\n",
       "  </thead>\n",
       "  <tbody>\n",
       "    <tr>\n",
       "      <th>2022-09-12 04:00:00+00:00</th>\n",
       "      <td>159.57</td>\n",
       "      <td>164.26</td>\n",
       "      <td>159.3000</td>\n",
       "      <td>163.43</td>\n",
       "      <td>104955951</td>\n",
       "      <td>801510</td>\n",
       "      <td>162.476350</td>\n",
       "    </tr>\n",
       "    <tr>\n",
       "      <th>2022-09-13 04:00:00+00:00</th>\n",
       "      <td>160.00</td>\n",
       "      <td>160.54</td>\n",
       "      <td>153.3700</td>\n",
       "      <td>153.84</td>\n",
       "      <td>122534825</td>\n",
       "      <td>1016901</td>\n",
       "      <td>156.155955</td>\n",
       "    </tr>\n",
       "    <tr>\n",
       "      <th>2022-09-14 04:00:00+00:00</th>\n",
       "      <td>154.79</td>\n",
       "      <td>157.10</td>\n",
       "      <td>153.6106</td>\n",
       "      <td>155.31</td>\n",
       "      <td>87944110</td>\n",
       "      <td>715880</td>\n",
       "      <td>155.261313</td>\n",
       "    </tr>\n",
       "    <tr>\n",
       "      <th>2022-09-15 04:00:00+00:00</th>\n",
       "      <td>154.70</td>\n",
       "      <td>155.24</td>\n",
       "      <td>151.3800</td>\n",
       "      <td>152.37</td>\n",
       "      <td>90353619</td>\n",
       "      <td>740014</td>\n",
       "      <td>153.006880</td>\n",
       "    </tr>\n",
       "    <tr>\n",
       "      <th>2022-09-16 04:00:00+00:00</th>\n",
       "      <td>151.33</td>\n",
       "      <td>151.35</td>\n",
       "      <td>148.3700</td>\n",
       "      <td>150.70</td>\n",
       "      <td>163574426</td>\n",
       "      <td>850046</td>\n",
       "      <td>150.227405</td>\n",
       "    </tr>\n",
       "  </tbody>\n",
       "</table>\n",
       "</div>"
      ],
      "text/plain": [
       "                             open    high       low   close     volume  \\\n",
       "timestamp                                                                \n",
       "2022-09-12 04:00:00+00:00  159.57  164.26  159.3000  163.43  104955951   \n",
       "2022-09-13 04:00:00+00:00  160.00  160.54  153.3700  153.84  122534825   \n",
       "2022-09-14 04:00:00+00:00  154.79  157.10  153.6106  155.31   87944110   \n",
       "2022-09-15 04:00:00+00:00  154.70  155.24  151.3800  152.37   90353619   \n",
       "2022-09-16 04:00:00+00:00  151.33  151.35  148.3700  150.70  163574426   \n",
       "\n",
       "                           trade_count        vwap  \n",
       "timestamp                                           \n",
       "2022-09-12 04:00:00+00:00       801510  162.476350  \n",
       "2022-09-13 04:00:00+00:00      1016901  156.155955  \n",
       "2022-09-14 04:00:00+00:00       715880  155.261313  \n",
       "2022-09-15 04:00:00+00:00       740014  153.006880  \n",
       "2022-09-16 04:00:00+00:00       850046  150.227405  "
      ]
     },
     "execution_count": 61,
     "metadata": {},
     "output_type": "execute_result"
    }
   ],
   "source": [
    "# Calling alpaca_func\n",
    "alpaca_func(alpaca_key, alpaca_secret, start_date, end_date, stock)"
   ]
  },
  {
   "cell_type": "markdown",
   "metadata": {},
   "source": [
    "# Tao's Code"
   ]
  },
  {
   "cell_type": "code",
   "execution_count": 62,
   "metadata": {},
   "outputs": [],
   "source": [
    "# Specify date for Tao's code.\n",
    "# Tao's code takes year at the end.\n",
    "\n",
    "date = \"09-16-2022\""
   ]
  },
  {
   "cell_type": "code",
   "execution_count": 63,
   "metadata": {},
   "outputs": [],
   "source": [
    "# Calling get_data()\n",
    "df = get_data(date)\n"
   ]
  },
  {
   "cell_type": "code",
   "execution_count": 64,
   "metadata": {},
   "outputs": [
    {
     "data": {},
     "metadata": {},
     "output_type": "display_data"
    },
    {
     "data": {
      "application/vnd.holoviews_exec.v0+json": "",
      "text/html": [
       "<div id='4425'>\n",
       "  <div class=\"bk-root\" id=\"834df567-1ae6-4ff3-8158-c9c72e8ef362\" data-root-id=\"4425\"></div>\n",
       "</div>\n",
       "<script type=\"application/javascript\">(function(root) {\n",
       "  function embed_document(root) {\n",
       "    var docs_json = {\"026abed8-ca77-46e4-b641-e292e6ad0140\":{\"defs\":[{\"extends\":null,\"module\":null,\"name\":\"ReactiveHTML1\",\"overrides\":[],\"properties\":[]},{\"extends\":null,\"module\":null,\"name\":\"FlexBox1\",\"overrides\":[],\"properties\":[{\"default\":\"flex-start\",\"kind\":null,\"name\":\"align_content\"},{\"default\":\"flex-start\",\"kind\":null,\"name\":\"align_items\"},{\"default\":\"row\",\"kind\":null,\"name\":\"flex_direction\"},{\"default\":\"wrap\",\"kind\":null,\"name\":\"flex_wrap\"},{\"default\":\"flex-start\",\"kind\":null,\"name\":\"justify_content\"}]},{\"extends\":null,\"module\":null,\"name\":\"GridStack1\",\"overrides\":[],\"properties\":[{\"default\":\"warn\",\"kind\":null,\"name\":\"mode\"},{\"default\":null,\"kind\":null,\"name\":\"ncols\"},{\"default\":null,\"kind\":null,\"name\":\"nrows\"},{\"default\":true,\"kind\":null,\"name\":\"allow_resize\"},{\"default\":true,\"kind\":null,\"name\":\"allow_drag\"},{\"default\":[],\"kind\":null,\"name\":\"state\"}]},{\"extends\":null,\"module\":null,\"name\":\"click1\",\"overrides\":[],\"properties\":[{\"default\":\"\",\"kind\":null,\"name\":\"terminal_output\"},{\"default\":\"\",\"kind\":null,\"name\":\"debug_name\"},{\"default\":0,\"kind\":null,\"name\":\"clears\"}]},{\"extends\":null,\"module\":null,\"name\":\"NotificationAreaBase1\",\"overrides\":[],\"properties\":[{\"default\":\"bottom-right\",\"kind\":null,\"name\":\"position\"},{\"default\":0,\"kind\":null,\"name\":\"_clear\"}]},{\"extends\":null,\"module\":null,\"name\":\"NotificationArea1\",\"overrides\":[],\"properties\":[{\"default\":[],\"kind\":null,\"name\":\"notifications\"},{\"default\":\"bottom-right\",\"kind\":null,\"name\":\"position\"},{\"default\":0,\"kind\":null,\"name\":\"_clear\"},{\"default\":[{\"background\":\"#ffc107\",\"icon\":{\"className\":\"fas fa-exclamation-triangle\",\"color\":\"white\",\"tagName\":\"i\"},\"type\":\"warning\"},{\"background\":\"#007bff\",\"icon\":{\"className\":\"fas fa-info-circle\",\"color\":\"white\",\"tagName\":\"i\"},\"type\":\"info\"}],\"kind\":null,\"name\":\"types\"}]},{\"extends\":null,\"module\":null,\"name\":\"Notification\",\"overrides\":[],\"properties\":[{\"default\":null,\"kind\":null,\"name\":\"background\"},{\"default\":3000,\"kind\":null,\"name\":\"duration\"},{\"default\":null,\"kind\":null,\"name\":\"icon\"},{\"default\":\"\",\"kind\":null,\"name\":\"message\"},{\"default\":null,\"kind\":null,\"name\":\"notification_type\"},{\"default\":false,\"kind\":null,\"name\":\"_destroyed\"}]},{\"extends\":null,\"module\":null,\"name\":\"TemplateActions1\",\"overrides\":[],\"properties\":[{\"default\":0,\"kind\":null,\"name\":\"open_modal\"},{\"default\":0,\"kind\":null,\"name\":\"close_modal\"}]},{\"extends\":null,\"module\":null,\"name\":\"MaterialTemplateActions1\",\"overrides\":[],\"properties\":[{\"default\":0,\"kind\":null,\"name\":\"open_modal\"},{\"default\":0,\"kind\":null,\"name\":\"close_modal\"}]}],\"roots\":{\"references\":[{\"attributes\":{},\"id\":\"4484\",\"type\":\"UnionRenderers\"},{\"attributes\":{\"coordinates\":null,\"data_source\":{\"id\":\"4460\"},\"glyph\":{\"id\":\"4463\"},\"group\":null,\"hover_glyph\":null,\"muted_glyph\":{\"id\":\"4465\"},\"nonselection_glyph\":{\"id\":\"4464\"},\"selection_glyph\":{\"id\":\"4468\"},\"view\":{\"id\":\"4467\"}},\"id\":\"4466\",\"type\":\"GlyphRenderer\"},{\"attributes\":{},\"id\":\"4472\",\"type\":\"AllLabels\"},{\"attributes\":{\"coordinates\":null,\"group\":null,\"text\":\"Tickers Call / Put Open Interests comparison\",\"text_color\":\"black\",\"text_font_size\":\"12pt\"},\"id\":\"4431\",\"type\":\"Title\"},{\"attributes\":{\"callback\":null,\"renderers\":[{\"id\":\"4466\"}],\"tags\":[\"hv_created\"],\"tooltips\":[[\"Symbol\",\"@{Symbol}\"],[\"Type\",\"@{Type}\"],[\"Open Int\",\"@{Open_Int}\"]]},\"id\":\"4429\",\"type\":\"HoverTool\"},{\"attributes\":{},\"id\":\"4450\",\"type\":\"ResetTool\"},{\"attributes\":{\"children\":[{\"id\":\"4426\"},{\"id\":\"4430\"},{\"id\":\"4487\"}],\"margin\":[0,0,0,0],\"name\":\"Row05247\",\"tags\":[\"embedded\"]},\"id\":\"4425\",\"type\":\"Row\"},{\"attributes\":{},\"id\":\"4435\",\"type\":\"CategoricalScale\"},{\"attributes\":{\"data\":{\"Open_Int\":{\"__ndarray__\":\"AAAAAEjtAUEAAAAAgCnCQAAAAACQePxAAAAAAABx30AAAAAAIJ3rQAAAAACAUcVAAAAAAEC840AAAAAAwJXTQAAAAABgFuFAAAAAAABk3kAAAAAAAOnmQAAAAADAsNNAAAAAAABTuEAAAAAAwPLWQAAAAAAA1rZAAAAAAABxtkAAAAAAwJzfQAAAAAAA1LVAAAAAAADXwEAAAAAAAN+3QAAAAAAAUb9AAAAAAAA6vUAAAAAAAK/TQAAAAAAA6b5AAAAAAABYoEAAAAAAAJyyQAAAAAAA2LhAAAAAAIAtxEAAAAAAgNbCQAAAAABAjNlAAAAAAABn30AAAAAAQEXaQAAAAAAAurlAAAAAAADSxUAAAAAAAAa5QAAAAABA/tRAAAAAAEBj3UAAAAAAAHnUQAAAAAAAc85AAAAAAABgqUAAAAAAAHivQAAAAAAA58BAAAAAAGCH4UAAAAAAANW8QAAAAACApOdAAAAAAABEoEAAAAAAAM/PQAAAAAAAYKpAAAAAAAAhxUAAAAAAgNPDQAAAAACAus1AAAAAAAAvz0AAAAAAALSiQAAAAABAQtJAAAAAAADDukAAAAAAAFWxQAAAAACA+8NAAAAAAAC2vUAAAAAAwHvXQAAAAABAV9FAAAAAAADepUAAAAAAAHPLQAAAAAAAPqhAAAAAAADonUAAAAAAACSTQAAAAACABMZAAAAAAACytUAAAAAAgOXDQAAAAACA7MdAAAAAAADMqkAAAAAAAA6oQAAAAAAA4J9AAAAAAMDN3EAAAAAAAB+xQAAAAAAARbZAAAAAAIDTykAAAAAAAKW1QAAAAADA0eJAAAAAAABomkAAAAAAgPjUQAAAAACAHNNAAAAAAAC4kkAAAAAAgM3bQAAAAAAAIKhAAAAAAABknkAAAAAAAHKkQAAAAACAbMZAAAAAAAB8pUAAAAAAQNnRQAAAAAAA4qlAAAAAAMBa1UAAAAAAADTDQAAAAAAAWJxAAAAAAABGokAAAAAAwKzcQAAAAADA9thAAAAAAIARyUAAAAAAABThQAAAAAAARMxAAAAAAAD500AAAAAAANK9QAAAAAAABMpAAAAAAECS1EAAAAAAAMexQAAAAAAQhvRAAAAAAAACpUAAAAAAgLjeQAAAAAAAwG1AAAAAAADKwkAAAAAAwLLgQAAAAAAAbLJAAAAAAACqq0AAAAAAABqnQAAAAACAvsRAAAAAAAC+o0AAAAAAAKW4QAAAAAAACKZAAAAAAAAuoEAAAAAAALalQAAAAAAAZMBAAAAAAACkn0AAAAAAADSzQAAAAAAASLdAAAAAAIBcykAAAAAAANy8QAAAAAAALrdAAAAAAAB4rkAAAAAAgAnDQAAAAABgR+FAAAAAAAC6zUAAAAAAADnhQAAAAAAAAqhAAAAAAKA+40AAAAAAAAiQQAAAAAAASrFAAAAAAAA6sUAAAAAAAOTSQAAAAAAA+KJAAAAAAIBlxUAAAAAAACrBQAAAAAAAIK9AAAAAAAC/wEAAAAAAAMPRQAAAAAAAVqNAAAAAAACSrUAAAAAAANSnQAAAAAAAkJBAAAAAAABgdUAAAAAAABqxQAAAAAAA8KZAAAAAAAB9tUAAAAAAAPCWQAAAAAAAJJFAAAAAAABIn0AAAAAAALSuQAAAAAAAyKBAAAAAAADAa0AAAAAAAOq7QAAAAAAA/s5AAAAAAEBj2UAAAAAAANy4QAAAAAAA+bhAAAAAAADB1UAAAAAAAIW5QAAAAAAgEeNAAAAAAIC1xUAAAAAAANCVQAAAAAAAwKxAAAAAAACYz0AAAAAAAPKlQAAAAAAAL8xA\",\"dtype\":\"float64\",\"order\":\"little\",\"shape\":[171]},\"Symbol\":[\"F\",\"F\",\"F\",\"AAPL\",\"AAPL\",\"AAPL\",\"AAPL\",\"AAPL\",\"AAPL\",\"AAPL\",\"AMZN\",\"AMZN\",\"AMZN\",\"AMZN\",\"AMZN\",\"AMZN\",\"AMZN\",\"AMZN\",\"AMZN\",\"AMZN\",\"AMZN\",\"AMZN\",\"AMZN\",\"AMZN\",\"TSLA\",\"TSLA\",\"TSLA\",\"TSLA\",\"TSLA\",\"META\",\"META\",\"META\",\"META\",\"META\",\"META\",\"META\",\"AMD\",\"AMD\",\"AMD\",\"AMD\",\"AMD\",\"AMD\",\"BAC\",\"BAC\",\"AAL\",\"AAL\",\"AAL\",\"NIO\",\"NIO\",\"NIO\",\"NIO\",\"MSFT\",\"MSFT\",\"MSFT\",\"MSFT\",\"MSFT\",\"MSFT\",\"MSFT\",\"GOOGL\",\"GOOGL\",\"GOOGL\",\"GOOGL\",\"GOOGL\",\"GOOGL\",\"GOOGL\",\"NVDA\",\"NVDA\",\"NVDA\",\"NVDA\",\"NVDA\",\"NVDA\",\"NVDA\",\"INTC\",\"INTC\",\"INTC\",\"INTC\",\"INTC\",\"T\",\"T\",\"T\",\"BABA\",\"BABA\",\"BABA\",\"BABA\",\"BABA\",\"TWTR\",\"TWTR\",\"TWTR\",\"UBER\",\"CCL\",\"SNAP\",\"SNAP\",\"SBUX\",\"F\",\"F\",\"F\",\"F\",\"AAPL\",\"AAPL\",\"AAPL\",\"AAPL\",\"AAPL\",\"AAPL\",\"AMZN\",\"AMZN\",\"AMZN\",\"AMZN\",\"AMZN\",\"TSLA\",\"TSLA\",\"TSLA\",\"TSLA\",\"TSLA\",\"TSLA\",\"TSLA\",\"TSLA\",\"TSLA\",\"TSLA\",\"TSLA\",\"TSLA\",\"TSLA\",\"TSLA\",\"TSLA\",\"TSLA\",\"TSLA\",\"TSLA\",\"TSLA\",\"TSLA\",\"TSLA\",\"TSLA\",\"TSLA\",\"TSLA\",\"TSLA\",\"META\",\"AMD\",\"AMD\",\"BAC\",\"BAC\",\"BAC\",\"BAC\",\"AAL\",\"AAL\",\"NIO\",\"NIO\",\"NIO\",\"NIO\",\"NIO\",\"GOOGL\",\"NVDA\",\"NVDA\",\"NVDA\",\"NVDA\",\"NVDA\",\"NVDA\",\"INTC\",\"INTC\",\"BABA\",\"BABA\",\"TWTR\",\"TWTR\",\"UBER\",\"UBER\",\"UBER\",\"CCL\",\"CCL\",\"SNAP\",\"SNAP\",\"SBUX\",\"SBUX\",\"SBUX\",\"SBUX\"],\"Type\":[\"Put\",\"Put\",\"Put\",\"Put\",\"Put\",\"Put\",\"Put\",\"Put\",\"Put\",\"Put\",\"Put\",\"Put\",\"Put\",\"Put\",\"Put\",\"Put\",\"Put\",\"Put\",\"Put\",\"Put\",\"Put\",\"Put\",\"Put\",\"Put\",\"Put\",\"Put\",\"Put\",\"Put\",\"Put\",\"Put\",\"Put\",\"Put\",\"Put\",\"Put\",\"Put\",\"Put\",\"Put\",\"Put\",\"Put\",\"Put\",\"Put\",\"Put\",\"Put\",\"Put\",\"Put\",\"Put\",\"Put\",\"Put\",\"Put\",\"Put\",\"Put\",\"Put\",\"Put\",\"Put\",\"Put\",\"Put\",\"Put\",\"Put\",\"Put\",\"Put\",\"Put\",\"Put\",\"Put\",\"Put\",\"Put\",\"Put\",\"Put\",\"Put\",\"Put\",\"Put\",\"Put\",\"Put\",\"Put\",\"Put\",\"Put\",\"Put\",\"Put\",\"Put\",\"Put\",\"Put\",\"Put\",\"Put\",\"Put\",\"Put\",\"Put\",\"Put\",\"Put\",\"Put\",\"Put\",\"Put\",\"Put\",\"Put\",\"Put\",\"Call\",\"Call\",\"Call\",\"Call\",\"Call\",\"Call\",\"Call\",\"Call\",\"Call\",\"Call\",\"Call\",\"Call\",\"Call\",\"Call\",\"Call\",\"Call\",\"Call\",\"Call\",\"Call\",\"Call\",\"Call\",\"Call\",\"Call\",\"Call\",\"Call\",\"Call\",\"Call\",\"Call\",\"Call\",\"Call\",\"Call\",\"Call\",\"Call\",\"Call\",\"Call\",\"Call\",\"Call\",\"Call\",\"Call\",\"Call\",\"Call\",\"Call\",\"Call\",\"Call\",\"Call\",\"Call\",\"Call\",\"Call\",\"Call\",\"Call\",\"Call\",\"Call\",\"Call\",\"Call\",\"Call\",\"Call\",\"Call\",\"Call\",\"Call\",\"Call\",\"Call\",\"Call\",\"Call\",\"Call\",\"Call\",\"Call\",\"Call\",\"Call\",\"Call\",\"Call\",\"Call\",\"Call\",\"Call\",\"Call\",\"Call\",\"Call\",\"Call\",\"Call\"],\"xoffsets\":[[\"F\",\"Put\"],[\"F\",\"Put\"],[\"F\",\"Put\"],[\"AAPL\",\"Put\"],[\"AAPL\",\"Put\"],[\"AAPL\",\"Put\"],[\"AAPL\",\"Put\"],[\"AAPL\",\"Put\"],[\"AAPL\",\"Put\"],[\"AAPL\",\"Put\"],[\"AMZN\",\"Put\"],[\"AMZN\",\"Put\"],[\"AMZN\",\"Put\"],[\"AMZN\",\"Put\"],[\"AMZN\",\"Put\"],[\"AMZN\",\"Put\"],[\"AMZN\",\"Put\"],[\"AMZN\",\"Put\"],[\"AMZN\",\"Put\"],[\"AMZN\",\"Put\"],[\"AMZN\",\"Put\"],[\"AMZN\",\"Put\"],[\"AMZN\",\"Put\"],[\"AMZN\",\"Put\"],[\"TSLA\",\"Put\"],[\"TSLA\",\"Put\"],[\"TSLA\",\"Put\"],[\"TSLA\",\"Put\"],[\"TSLA\",\"Put\"],[\"META\",\"Put\"],[\"META\",\"Put\"],[\"META\",\"Put\"],[\"META\",\"Put\"],[\"META\",\"Put\"],[\"META\",\"Put\"],[\"META\",\"Put\"],[\"AMD\",\"Put\"],[\"AMD\",\"Put\"],[\"AMD\",\"Put\"],[\"AMD\",\"Put\"],[\"AMD\",\"Put\"],[\"AMD\",\"Put\"],[\"BAC\",\"Put\"],[\"BAC\",\"Put\"],[\"AAL\",\"Put\"],[\"AAL\",\"Put\"],[\"AAL\",\"Put\"],[\"NIO\",\"Put\"],[\"NIO\",\"Put\"],[\"NIO\",\"Put\"],[\"NIO\",\"Put\"],[\"MSFT\",\"Put\"],[\"MSFT\",\"Put\"],[\"MSFT\",\"Put\"],[\"MSFT\",\"Put\"],[\"MSFT\",\"Put\"],[\"MSFT\",\"Put\"],[\"MSFT\",\"Put\"],[\"GOOGL\",\"Put\"],[\"GOOGL\",\"Put\"],[\"GOOGL\",\"Put\"],[\"GOOGL\",\"Put\"],[\"GOOGL\",\"Put\"],[\"GOOGL\",\"Put\"],[\"GOOGL\",\"Put\"],[\"NVDA\",\"Put\"],[\"NVDA\",\"Put\"],[\"NVDA\",\"Put\"],[\"NVDA\",\"Put\"],[\"NVDA\",\"Put\"],[\"NVDA\",\"Put\"],[\"NVDA\",\"Put\"],[\"INTC\",\"Put\"],[\"INTC\",\"Put\"],[\"INTC\",\"Put\"],[\"INTC\",\"Put\"],[\"INTC\",\"Put\"],[\"T\",\"Put\"],[\"T\",\"Put\"],[\"T\",\"Put\"],[\"BABA\",\"Put\"],[\"BABA\",\"Put\"],[\"BABA\",\"Put\"],[\"BABA\",\"Put\"],[\"BABA\",\"Put\"],[\"TWTR\",\"Put\"],[\"TWTR\",\"Put\"],[\"TWTR\",\"Put\"],[\"UBER\",\"Put\"],[\"CCL\",\"Put\"],[\"SNAP\",\"Put\"],[\"SNAP\",\"Put\"],[\"SBUX\",\"Put\"],[\"F\",\"Call\"],[\"F\",\"Call\"],[\"F\",\"Call\"],[\"F\",\"Call\"],[\"AAPL\",\"Call\"],[\"AAPL\",\"Call\"],[\"AAPL\",\"Call\"],[\"AAPL\",\"Call\"],[\"AAPL\",\"Call\"],[\"AAPL\",\"Call\"],[\"AMZN\",\"Call\"],[\"AMZN\",\"Call\"],[\"AMZN\",\"Call\"],[\"AMZN\",\"Call\"],[\"AMZN\",\"Call\"],[\"TSLA\",\"Call\"],[\"TSLA\",\"Call\"],[\"TSLA\",\"Call\"],[\"TSLA\",\"Call\"],[\"TSLA\",\"Call\"],[\"TSLA\",\"Call\"],[\"TSLA\",\"Call\"],[\"TSLA\",\"Call\"],[\"TSLA\",\"Call\"],[\"TSLA\",\"Call\"],[\"TSLA\",\"Call\"],[\"TSLA\",\"Call\"],[\"TSLA\",\"Call\"],[\"TSLA\",\"Call\"],[\"TSLA\",\"Call\"],[\"TSLA\",\"Call\"],[\"TSLA\",\"Call\"],[\"TSLA\",\"Call\"],[\"TSLA\",\"Call\"],[\"TSLA\",\"Call\"],[\"TSLA\",\"Call\"],[\"TSLA\",\"Call\"],[\"TSLA\",\"Call\"],[\"TSLA\",\"Call\"],[\"TSLA\",\"Call\"],[\"META\",\"Call\"],[\"AMD\",\"Call\"],[\"AMD\",\"Call\"],[\"BAC\",\"Call\"],[\"BAC\",\"Call\"],[\"BAC\",\"Call\"],[\"BAC\",\"Call\"],[\"AAL\",\"Call\"],[\"AAL\",\"Call\"],[\"NIO\",\"Call\"],[\"NIO\",\"Call\"],[\"NIO\",\"Call\"],[\"NIO\",\"Call\"],[\"NIO\",\"Call\"],[\"GOOGL\",\"Call\"],[\"NVDA\",\"Call\"],[\"NVDA\",\"Call\"],[\"NVDA\",\"Call\"],[\"NVDA\",\"Call\"],[\"NVDA\",\"Call\"],[\"NVDA\",\"Call\"],[\"INTC\",\"Call\"],[\"INTC\",\"Call\"],[\"BABA\",\"Call\"],[\"BABA\",\"Call\"],[\"TWTR\",\"Call\"],[\"TWTR\",\"Call\"],[\"UBER\",\"Call\"],[\"UBER\",\"Call\"],[\"UBER\",\"Call\"],[\"CCL\",\"Call\"],[\"CCL\",\"Call\"],[\"SNAP\",\"Call\"],[\"SNAP\",\"Call\"],[\"SBUX\",\"Call\"],[\"SBUX\",\"Call\"],[\"SBUX\",\"Call\"],[\"SBUX\",\"Call\"]]},\"selected\":{\"id\":\"4461\"},\"selection_policy\":{\"id\":\"4484\"}},\"id\":\"4460\",\"type\":\"ColumnDataSource\"},{\"attributes\":{},\"id\":\"4471\",\"type\":\"CategoricalTickFormatter\"},{\"attributes\":{\"axis_label\":\"Open Interests\",\"coordinates\":null,\"formatter\":{\"id\":\"4469\"},\"group\":null,\"major_label_policy\":{\"id\":\"4475\"},\"ticker\":{\"id\":\"4443\"}},\"id\":\"4442\",\"type\":\"LinearAxis\"},{\"attributes\":{\"fill_color\":{\"field\":\"Type\",\"transform\":{\"id\":\"4459\"}},\"hatch_color\":{\"field\":\"Type\",\"transform\":{\"id\":\"4459\"}},\"top\":{\"field\":\"Open_Int\"},\"width\":{\"value\":0.8},\"x\":{\"field\":\"xoffsets\"}},\"id\":\"4463\",\"type\":\"VBar\"},{\"attributes\":{\"overlay\":{\"id\":\"4451\"}},\"id\":\"4449\",\"type\":\"BoxZoomTool\"},{\"attributes\":{\"factors\":[\"Put\",\"Call\"],\"palette\":[\"#30a2da\",\"#fc4f30\"]},\"id\":\"4459\",\"type\":\"CategoricalColorMapper\"},{\"attributes\":{},\"id\":\"4443\",\"type\":\"BasicTicker\"},{\"attributes\":{},\"id\":\"4448\",\"type\":\"WheelZoomTool\"},{\"attributes\":{\"source\":{\"id\":\"4460\"}},\"id\":\"4467\",\"type\":\"CDSView\"},{\"attributes\":{},\"id\":\"4475\",\"type\":\"AllLabels\"},{\"attributes\":{},\"id\":\"4447\",\"type\":\"PanTool\"},{\"attributes\":{},\"id\":\"4446\",\"type\":\"SaveTool\"},{\"attributes\":{\"format\":\"%0f\"},\"id\":\"4469\",\"type\":\"PrintfTickFormatter\"},{\"attributes\":{\"below\":[{\"id\":\"4439\"}],\"center\":[{\"id\":\"4441\"},{\"id\":\"4445\"}],\"height\":500,\"left\":[{\"id\":\"4442\"}],\"margin\":[5,5,5,5],\"min_border_bottom\":10,\"min_border_left\":10,\"min_border_right\":10,\"min_border_top\":10,\"renderers\":[{\"id\":\"4466\"}],\"sizing_mode\":\"fixed\",\"title\":{\"id\":\"4431\"},\"toolbar\":{\"id\":\"4452\"},\"width\":1300,\"x_range\":{\"id\":\"4427\"},\"x_scale\":{\"id\":\"4435\"},\"y_range\":{\"id\":\"4428\"},\"y_scale\":{\"id\":\"4437\"}},\"id\":\"4430\",\"subtype\":\"Figure\",\"type\":\"Plot\"},{\"attributes\":{\"fill_alpha\":{\"value\":0.2},\"fill_color\":{\"field\":\"Type\",\"transform\":{\"id\":\"4459\"}},\"hatch_alpha\":{\"value\":0.2},\"hatch_color\":{\"field\":\"Type\",\"transform\":{\"id\":\"4459\"}},\"line_alpha\":{\"value\":0.2},\"top\":{\"field\":\"Open_Int\"},\"width\":{\"value\":0.8},\"x\":{\"field\":\"xoffsets\"}},\"id\":\"4465\",\"type\":\"VBar\"},{\"attributes\":{\"tools\":[{\"id\":\"4429\"},{\"id\":\"4446\"},{\"id\":\"4447\"},{\"id\":\"4448\"},{\"id\":\"4449\"},{\"id\":\"4450\"}]},\"id\":\"4452\",\"type\":\"Toolbar\"},{\"attributes\":{\"axis\":{\"id\":\"4439\"},\"coordinates\":null,\"grid_line_color\":null,\"group\":null,\"ticker\":null},\"id\":\"4441\",\"type\":\"Grid\"},{\"attributes\":{\"end\":161520.5,\"reset_end\":161520.5,\"reset_start\":0.0,\"tags\":[[[\"Open Int\",\"Open Int\",null]]]},\"id\":\"4428\",\"type\":\"Range1d\"},{\"attributes\":{},\"id\":\"4461\",\"type\":\"Selection\"},{\"attributes\":{},\"id\":\"4440\",\"type\":\"CategoricalTicker\"},{\"attributes\":{\"margin\":[5,5,5,5],\"name\":\"HSpacer05252\",\"sizing_mode\":\"stretch_width\"},\"id\":\"4487\",\"type\":\"Spacer\"},{\"attributes\":{\"axis_label\":\"Tickers by Call and Put\",\"coordinates\":null,\"formatter\":{\"id\":\"4471\"},\"group\":null,\"major_label_orientation\":0.7853981633974483,\"major_label_policy\":{\"id\":\"4472\"},\"ticker\":{\"id\":\"4440\"}},\"id\":\"4439\",\"type\":\"CategoricalAxis\"},{\"attributes\":{\"margin\":[5,5,5,5],\"name\":\"HSpacer05251\",\"sizing_mode\":\"stretch_width\"},\"id\":\"4426\",\"type\":\"Spacer\"},{\"attributes\":{},\"id\":\"4437\",\"type\":\"LinearScale\"},{\"attributes\":{\"axis\":{\"id\":\"4442\"},\"coordinates\":null,\"dimension\":1,\"grid_line_color\":null,\"group\":null,\"ticker\":null},\"id\":\"4445\",\"type\":\"Grid\"},{\"attributes\":{\"bottom\":{\"value\":0},\"fill_alpha\":{\"value\":1.0},\"fill_color\":{\"field\":\"Type\",\"transform\":{\"id\":\"4459\"}},\"hatch_alpha\":{\"value\":1.0},\"hatch_color\":{\"field\":\"Type\",\"transform\":{\"id\":\"4459\"}},\"hatch_scale\":{\"value\":12.0},\"hatch_weight\":{\"value\":1.0},\"line_alpha\":{\"value\":1.0},\"line_cap\":{\"value\":\"butt\"},\"line_color\":{\"value\":\"black\"},\"line_dash\":{\"value\":[]},\"line_dash_offset\":{\"value\":0},\"line_join\":{\"value\":\"bevel\"},\"line_width\":{\"value\":1},\"top\":{\"field\":\"Open_Int\"},\"width\":{\"value\":0.8},\"x\":{\"field\":\"xoffsets\"}},\"id\":\"4468\",\"type\":\"VBar\"},{\"attributes\":{\"bottom_units\":\"screen\",\"coordinates\":null,\"fill_alpha\":0.5,\"fill_color\":\"lightgrey\",\"group\":null,\"left_units\":\"screen\",\"level\":\"overlay\",\"line_alpha\":1.0,\"line_color\":\"black\",\"line_dash\":[4,4],\"line_width\":2,\"right_units\":\"screen\",\"syncable\":false,\"top_units\":\"screen\"},\"id\":\"4451\",\"type\":\"BoxAnnotation\"},{\"attributes\":{\"factors\":[[\"F\",\"Call\"],[\"F\",\"Put\"],[\"AAPL\",\"Call\"],[\"AAPL\",\"Put\"],[\"AMZN\",\"Call\"],[\"AMZN\",\"Put\"],[\"TSLA\",\"Call\"],[\"TSLA\",\"Put\"],[\"META\",\"Call\"],[\"META\",\"Put\"],[\"AMD\",\"Call\"],[\"AMD\",\"Put\"],[\"BAC\",\"Call\"],[\"BAC\",\"Put\"],[\"AAL\",\"Call\"],[\"AAL\",\"Put\"],[\"NIO\",\"Call\"],[\"NIO\",\"Put\"],[\"MSFT\",\"Call\"],[\"MSFT\",\"Put\"],[\"GOOGL\",\"Call\"],[\"GOOGL\",\"Put\"],[\"NVDA\",\"Call\"],[\"NVDA\",\"Put\"],[\"INTC\",\"Call\"],[\"INTC\",\"Put\"],[\"T\",\"Call\"],[\"T\",\"Put\"],[\"BABA\",\"Call\"],[\"BABA\",\"Put\"],[\"TWTR\",\"Call\"],[\"TWTR\",\"Put\"],[\"UBER\",\"Call\"],[\"UBER\",\"Put\"],[\"CCL\",\"Call\"],[\"CCL\",\"Put\"],[\"SNAP\",\"Call\"],[\"SNAP\",\"Put\"],[\"SBUX\",\"Call\"],[\"SBUX\",\"Put\"]],\"tags\":[[[\"Symbol\",\"Symbol\",null],[\"Type\",\"Type\",null]]]},\"id\":\"4427\",\"type\":\"FactorRange\"},{\"attributes\":{\"fill_alpha\":{\"value\":0.1},\"fill_color\":{\"field\":\"Type\",\"transform\":{\"id\":\"4459\"}},\"hatch_alpha\":{\"value\":0.1},\"hatch_color\":{\"field\":\"Type\",\"transform\":{\"id\":\"4459\"}},\"line_alpha\":{\"value\":0.1},\"top\":{\"field\":\"Open_Int\"},\"width\":{\"value\":0.8},\"x\":{\"field\":\"xoffsets\"}},\"id\":\"4464\",\"type\":\"VBar\"}],\"root_ids\":[\"4425\"]},\"title\":\"Bokeh Application\",\"version\":\"2.4.3\"}};\n",
       "    var render_items = [{\"docid\":\"026abed8-ca77-46e4-b641-e292e6ad0140\",\"root_ids\":[\"4425\"],\"roots\":{\"4425\":\"834df567-1ae6-4ff3-8158-c9c72e8ef362\"}}];\n",
       "    root.Bokeh.embed.embed_items_notebook(docs_json, render_items);\n",
       "  }\n",
       "  if (root.Bokeh !== undefined && root.Bokeh.Panel !== undefined) {\n",
       "    embed_document(root);\n",
       "  } else {\n",
       "    var attempts = 0;\n",
       "    var timer = setInterval(function(root) {\n",
       "      if (root.Bokeh !== undefined && root.Bokeh.Panel !== undefined) {\n",
       "        clearInterval(timer);\n",
       "        embed_document(root);\n",
       "      } else if (document.readyState == \"complete\") {\n",
       "        attempts++;\n",
       "        if (attempts > 200) {\n",
       "          clearInterval(timer);\n",
       "          console.log(\"Bokeh: ERROR: Unable to run BokehJS code because BokehJS library is missing\");\n",
       "        }\n",
       "      }\n",
       "    }, 25, root)\n",
       "  }\n",
       "})(window);</script>"
      ],
      "text/plain": [
       ":Bars   [Symbol,Type]   (Open Int)"
      ]
     },
     "execution_count": 64,
     "metadata": {
      "application/vnd.holoviews_exec.v0+json": {
       "id": "4425"
      }
     },
     "output_type": "execute_result"
    }
   ],
   "source": [
    "# Calling largest_25_OI\n",
    "largest_20_OI_plot(df)"
   ]
  },
  {
   "cell_type": "code",
   "execution_count": 65,
   "metadata": {},
   "outputs": [
    {
     "data": {
      "text/html": [
       "<div>\n",
       "<style scoped>\n",
       "    .dataframe tbody tr th:only-of-type {\n",
       "        vertical-align: middle;\n",
       "    }\n",
       "\n",
       "    .dataframe tbody tr th {\n",
       "        vertical-align: top;\n",
       "    }\n",
       "\n",
       "    .dataframe thead th {\n",
       "        text-align: right;\n",
       "    }\n",
       "</style>\n",
       "<table border=\"1\" class=\"dataframe\">\n",
       "  <thead>\n",
       "    <tr style=\"text-align: right;\">\n",
       "      <th></th>\n",
       "      <th></th>\n",
       "      <th></th>\n",
       "      <th>Price</th>\n",
       "      <th>Exp Date</th>\n",
       "      <th>DTE</th>\n",
       "      <th>Bid</th>\n",
       "      <th>Midpoint</th>\n",
       "      <th>Ask</th>\n",
       "      <th>Last</th>\n",
       "      <th>Volume</th>\n",
       "      <th>Open Int</th>\n",
       "      <th>OI Chg</th>\n",
       "      <th>IV</th>\n",
       "      <th>Time</th>\n",
       "    </tr>\n",
       "    <tr>\n",
       "      <th>Symbol</th>\n",
       "      <th>Type</th>\n",
       "      <th>Strike</th>\n",
       "      <th></th>\n",
       "      <th></th>\n",
       "      <th></th>\n",
       "      <th></th>\n",
       "      <th></th>\n",
       "      <th></th>\n",
       "      <th></th>\n",
       "      <th></th>\n",
       "      <th></th>\n",
       "      <th></th>\n",
       "      <th></th>\n",
       "      <th></th>\n",
       "    </tr>\n",
       "  </thead>\n",
       "  <tbody>\n",
       "    <tr>\n",
       "      <th rowspan=\"5\" valign=\"top\">F</th>\n",
       "      <th rowspan=\"3\" valign=\"top\">Put</th>\n",
       "      <th>16.0</th>\n",
       "      <td>14.72</td>\n",
       "      <td>2022-09-16</td>\n",
       "      <td>0.0</td>\n",
       "      <td>1.25</td>\n",
       "      <td>1.29</td>\n",
       "      <td>1.33</td>\n",
       "      <td>1.32</td>\n",
       "      <td>1484.0</td>\n",
       "      <td>146857.0</td>\n",
       "      <td>-363</td>\n",
       "      <td>119.44%</td>\n",
       "      <td>2022-09-16</td>\n",
       "    </tr>\n",
       "    <tr>\n",
       "      <th>15.5</th>\n",
       "      <td>14.72</td>\n",
       "      <td>2022-09-16</td>\n",
       "      <td>0.0</td>\n",
       "      <td>0.75</td>\n",
       "      <td>0.78</td>\n",
       "      <td>0.82</td>\n",
       "      <td>0.78</td>\n",
       "      <td>1593.0</td>\n",
       "      <td>9299.0</td>\n",
       "      <td>-540</td>\n",
       "      <td>84.76%</td>\n",
       "      <td>2022-09-16</td>\n",
       "    </tr>\n",
       "    <tr>\n",
       "      <th>15.0</th>\n",
       "      <td>14.72</td>\n",
       "      <td>2022-09-16</td>\n",
       "      <td>0.0</td>\n",
       "      <td>0.27</td>\n",
       "      <td>0.31</td>\n",
       "      <td>0.34</td>\n",
       "      <td>0.28</td>\n",
       "      <td>53975.0</td>\n",
       "      <td>116617.0</td>\n",
       "      <td>-9,042</td>\n",
       "      <td>52.79%</td>\n",
       "      <td>2022-09-16</td>\n",
       "    </tr>\n",
       "    <tr>\n",
       "      <th rowspan=\"2\" valign=\"top\">Call</th>\n",
       "      <th>14.5</th>\n",
       "      <td>14.72</td>\n",
       "      <td>2022-09-16</td>\n",
       "      <td>0.0</td>\n",
       "      <td>0.17</td>\n",
       "      <td>0.22</td>\n",
       "      <td>0.26</td>\n",
       "      <td>0.22</td>\n",
       "      <td>11530.0</td>\n",
       "      <td>2339.0</td>\n",
       "      <td>-857</td>\n",
       "      <td>39.49%</td>\n",
       "      <td>2022-09-16</td>\n",
       "    </tr>\n",
       "    <tr>\n",
       "      <th>14.0</th>\n",
       "      <td>14.72</td>\n",
       "      <td>2022-09-16</td>\n",
       "      <td>0.0</td>\n",
       "      <td>0.67</td>\n",
       "      <td>0.72</td>\n",
       "      <td>0.76</td>\n",
       "      <td>0.73</td>\n",
       "      <td>3157.0</td>\n",
       "      <td>29363.0</td>\n",
       "      <td>-485</td>\n",
       "      <td>60.33%</td>\n",
       "      <td>2022-09-16</td>\n",
       "    </tr>\n",
       "  </tbody>\n",
       "</table>\n",
       "</div>"
      ],
      "text/plain": [
       "                    Price    Exp Date  DTE   Bid  Midpoint   Ask  Last  \\\n",
       "Symbol Type Strike                                                       \n",
       "F      Put  16.0    14.72  2022-09-16  0.0  1.25      1.29  1.33  1.32   \n",
       "            15.5    14.72  2022-09-16  0.0  0.75      0.78  0.82  0.78   \n",
       "            15.0    14.72  2022-09-16  0.0  0.27      0.31  0.34  0.28   \n",
       "       Call 14.5    14.72  2022-09-16  0.0  0.17      0.22  0.26  0.22   \n",
       "            14.0    14.72  2022-09-16  0.0  0.67      0.72  0.76  0.73   \n",
       "\n",
       "                     Volume  Open Int  OI Chg       IV        Time  \n",
       "Symbol Type Strike                                                  \n",
       "F      Put  16.0     1484.0  146857.0    -363  119.44%  2022-09-16  \n",
       "            15.5     1593.0    9299.0    -540   84.76%  2022-09-16  \n",
       "            15.0    53975.0  116617.0  -9,042   52.79%  2022-09-16  \n",
       "       Call 14.5    11530.0    2339.0    -857   39.49%  2022-09-16  \n",
       "            14.0     3157.0   29363.0    -485   60.33%  2022-09-16  "
      ]
     },
     "metadata": {},
     "output_type": "display_data"
    }
   ],
   "source": [
    "top_OI = largest_20_OI(df).head()\n",
    "display(top_OI)"
   ]
  },
  {
   "cell_type": "code",
   "execution_count": 66,
   "metadata": {},
   "outputs": [
    {
     "data": {},
     "metadata": {},
     "output_type": "display_data"
    },
    {
     "data": {
      "application/vnd.holoviews_exec.v0+json": "",
      "text/html": [
       "<div id='4534'>\n",
       "  <div class=\"bk-root\" id=\"c8d599eb-071f-4413-827c-5e1fe3940926\" data-root-id=\"4534\"></div>\n",
       "</div>\n",
       "<script type=\"application/javascript\">(function(root) {\n",
       "  function embed_document(root) {\n",
       "    var docs_json = {\"ebaa665e-95db-4bdd-abb9-d8e2aa624b3a\":{\"defs\":[{\"extends\":null,\"module\":null,\"name\":\"ReactiveHTML1\",\"overrides\":[],\"properties\":[]},{\"extends\":null,\"module\":null,\"name\":\"FlexBox1\",\"overrides\":[],\"properties\":[{\"default\":\"flex-start\",\"kind\":null,\"name\":\"align_content\"},{\"default\":\"flex-start\",\"kind\":null,\"name\":\"align_items\"},{\"default\":\"row\",\"kind\":null,\"name\":\"flex_direction\"},{\"default\":\"wrap\",\"kind\":null,\"name\":\"flex_wrap\"},{\"default\":\"flex-start\",\"kind\":null,\"name\":\"justify_content\"}]},{\"extends\":null,\"module\":null,\"name\":\"GridStack1\",\"overrides\":[],\"properties\":[{\"default\":\"warn\",\"kind\":null,\"name\":\"mode\"},{\"default\":null,\"kind\":null,\"name\":\"ncols\"},{\"default\":null,\"kind\":null,\"name\":\"nrows\"},{\"default\":true,\"kind\":null,\"name\":\"allow_resize\"},{\"default\":true,\"kind\":null,\"name\":\"allow_drag\"},{\"default\":[],\"kind\":null,\"name\":\"state\"}]},{\"extends\":null,\"module\":null,\"name\":\"click1\",\"overrides\":[],\"properties\":[{\"default\":\"\",\"kind\":null,\"name\":\"terminal_output\"},{\"default\":\"\",\"kind\":null,\"name\":\"debug_name\"},{\"default\":0,\"kind\":null,\"name\":\"clears\"}]},{\"extends\":null,\"module\":null,\"name\":\"NotificationAreaBase1\",\"overrides\":[],\"properties\":[{\"default\":\"bottom-right\",\"kind\":null,\"name\":\"position\"},{\"default\":0,\"kind\":null,\"name\":\"_clear\"}]},{\"extends\":null,\"module\":null,\"name\":\"NotificationArea1\",\"overrides\":[],\"properties\":[{\"default\":[],\"kind\":null,\"name\":\"notifications\"},{\"default\":\"bottom-right\",\"kind\":null,\"name\":\"position\"},{\"default\":0,\"kind\":null,\"name\":\"_clear\"},{\"default\":[{\"background\":\"#ffc107\",\"icon\":{\"className\":\"fas fa-exclamation-triangle\",\"color\":\"white\",\"tagName\":\"i\"},\"type\":\"warning\"},{\"background\":\"#007bff\",\"icon\":{\"className\":\"fas fa-info-circle\",\"color\":\"white\",\"tagName\":\"i\"},\"type\":\"info\"}],\"kind\":null,\"name\":\"types\"}]},{\"extends\":null,\"module\":null,\"name\":\"Notification\",\"overrides\":[],\"properties\":[{\"default\":null,\"kind\":null,\"name\":\"background\"},{\"default\":3000,\"kind\":null,\"name\":\"duration\"},{\"default\":null,\"kind\":null,\"name\":\"icon\"},{\"default\":\"\",\"kind\":null,\"name\":\"message\"},{\"default\":null,\"kind\":null,\"name\":\"notification_type\"},{\"default\":false,\"kind\":null,\"name\":\"_destroyed\"}]},{\"extends\":null,\"module\":null,\"name\":\"TemplateActions1\",\"overrides\":[],\"properties\":[{\"default\":0,\"kind\":null,\"name\":\"open_modal\"},{\"default\":0,\"kind\":null,\"name\":\"close_modal\"}]},{\"extends\":null,\"module\":null,\"name\":\"MaterialTemplateActions1\",\"overrides\":[],\"properties\":[{\"default\":0,\"kind\":null,\"name\":\"open_modal\"},{\"default\":0,\"kind\":null,\"name\":\"close_modal\"}]}],\"roots\":{\"references\":[{\"attributes\":{\"overlay\":{\"id\":\"4560\"}},\"id\":\"4558\",\"type\":\"BoxZoomTool\"},{\"attributes\":{},\"id\":\"4555\",\"type\":\"SaveTool\"},{\"attributes\":{\"margin\":[5,5,5,5],\"name\":\"HSpacer05491\",\"sizing_mode\":\"stretch_width\"},\"id\":\"4535\",\"type\":\"Spacer\"},{\"attributes\":{\"data\":{\"Open_Int\":{\"__ndarray__\":\"AAAAAECS1EAAAAAAAEifQAAAAAAAfbVAAAAAAAAEykAAAAAAANK9QAAAAAAA+dNAAAAAAABEzEAAAAAAABThQAAAAACAFs1AAAAAAADAbUAAAAAAADLIQAAAAACAuN5AAAAAAACmpkAAAAAAAAKlQAAAAAAQhvRAAAAAAADHsUAAAAAAACrBQAAAAACAZcVAAAAAAAD4okAAAAAAAOTSQAAAAAAgEeNAAAAAAACFuUAAAAAAABG0QAAAAAAAkJBAAAAAAICxxEAAAAAAAP3DQAAAAAAAYcdAAAAAAADUp0AAAAAAAOSxQAAAAACAEclAAAAAAMD22EAAAAAAgDraQAAAAADArNxAAAAAAABGokAAAAAAADWyQAAAAAAAQIhAAAAAAAD90UAAAAAAgGrIQAAAAAAAIJFAAAAAAABIqUAAAAAAAKK8QAAAAAAAsJtAAAAAAAC3t0AAAAAAAJKtQAAAAAAAVqNAAAAAAADD0UAAAAAAACSRQAAAAAAA8JZAAAAAAADwpkAAAAAAABqxQAAAAAAAAMNAAAAAAACwxkAAAAAAAJjPQAAAAACAj9RAAAAAAABqpUAAAAAAALiSQAAAAAAAL8xAAAAAAADypUAAAAAAAMCsQAAAAACgPuNAAAAAAAACqEAAAAAAADnhQAAAAAAAus1AAAAAAGBH4UAAAAAAgAnDQAAAAAAAeK5AAAAAAAAut0AAAAAAANy8QAAAAACAXMpAAAAAAABIt0AAAAAAADSzQAAAAAAApJ9AAAAAAABkwEAAAAAAALalQAAAAAAALqBAAAAAAAAIpkAAAAAAAKW4QAAAAAAAvqNAAAAAAIC+xEAAAAAAABqnQAAAAAAAqqtAAAAAAABsskAAAAAAwLLgQAAAAAAAysJAAAAAAEBj2UAAAAAAAP7OQAAAAAAAwdVAAAAAAAD5uEAAAAAAANy4QA==\",\"dtype\":\"float64\",\"order\":\"little\",\"shape\":[89]},\"Strike\":[\"125\",\"125\",\"130\",\"130\",\"135\",\"140\",\"145\",\"150\",\"150\",\"70\",\"115\",\"115\",\"117\",\"117\",\"120\",\"123\",\"32\",\"33\",\"33.5\",\"34\",\"10\",\"10.5\",\"16\",\"17\",\"17\",\"17.5\",\"18\",\"18\",\"18.5\",\"12\",\"13\",\"13\",\"14\",\"14.5\",\"110\",\"116\",\"38\",\"225\",\"227.5\",\"230\",\"235\",\"237.5\",\"240\",\"19\",\"19.5\",\"20\",\"128\",\"129\",\"131\",\"132\",\"90\",\"90\",\"90\",\"92.5\",\"92.5\",\"94\",\"87.5\",\"88\",\"91\",\"166.67\",\"203.33\",\"250\",\"260\",\"266.67\",\"270\",\"275\",\"276.67\",\"280\",\"283.33\",\"285\",\"286.67\",\"288.33\",\"290\",\"290.83\",\"291.67\",\"292.5\",\"293.33\",\"294.17\",\"295\",\"295.83\",\"296.67\",\"298.33\",\"300\",\"301.67\",\"40\",\"41\",\"30\",\"31\",\"31.5\"],\"Symbol\":[\"AAPL\",\"NVDA\",\"NVDA\",\"AAPL\",\"AAPL\",\"AAPL\",\"AAPL\",\"AAPL\",\"AXP\",\"AMZN\",\"JPM\",\"AMZN\",\"JPM\",\"AMZN\",\"AMZN\",\"AMZN\",\"BAC\",\"BAC\",\"BAC\",\"BAC\",\"CCL\",\"CCL\",\"CHPT\",\"NIO\",\"CHPT\",\"DKNG\",\"DKNG\",\"NIO\",\"DKNG\",\"F\",\"F\",\"PCG\",\"F\",\"F\",\"JPM\",\"JPM\",\"LVS\",\"NFLX\",\"NFLX\",\"NFLX\",\"NFLX\",\"NFLX\",\"NFLX\",\"NIO\",\"NIO\",\"NIO\",\"NVDA\",\"NVDA\",\"NVDA\",\"NVDA\",\"XOM\",\"PYPL\",\"SBUX\",\"XOM\",\"PYPL\",\"PYPL\",\"SBUX\",\"SBUX\",\"SBUX\",\"TSLA\",\"TSLA\",\"TSLA\",\"TSLA\",\"TSLA\",\"TSLA\",\"TSLA\",\"TSLA\",\"TSLA\",\"TSLA\",\"TSLA\",\"TSLA\",\"TSLA\",\"TSLA\",\"TSLA\",\"TSLA\",\"TSLA\",\"TSLA\",\"TSLA\",\"TSLA\",\"TSLA\",\"TSLA\",\"TSLA\",\"TSLA\",\"TSLA\",\"TWTR\",\"TWTR\",\"UBER\",\"UBER\",\"UBER\"],\"bottom\":{\"__ndarray__\":\"AAAAAAAAAAAAAAAAAAAAAAAAAAAASJ9AAAAAAECS1EAAAAAAIMrgQAAAAABghORAAAAAAOCA7kAAAAAA8MjyQAAAAAAAAAAAAAAAAAAAAAAAAAAAAAAAAAAAAAAAwG1AAAAAAAAyyEAAAAAAAPTeQAAAAAAgyuBAAAAAACDr/EAAAAAAAAAAAAAAAAAAKsFAAAAAAMBH00AAAAAAwKbVQAAAAAAAAAAAAAAAACAR40AAAAAAAAAAAAAAAAAAAAAAAAAAAAARtEAAAAAAAAAAAAAAAAAA/cNAAAAAAACQkEAAAAAAAK/VQAAAAAAAAAAAAAAAAIARyUAAAAAAAAAAAAAAAADAv+JAAAAAABCL8EAAAAAAgNvNQAAAAAAAe9NAAAAAAAAAAAAAAAAAAAAAAAAAAACAashAAAAAAICOykAAAAAAQHDQQAAAAADAmNdAAAAAAMBT2UAAAAAAAA6wQAAAAAAA175AAAAAAABBxEAAAAAAAE+9QAAAAAAAzMBAAAAAAACqw0AAAAAAAGbJQAAAAAAAAAAAAAAAAAAAAAAAAAAAAAAAAAAAAAAAAMNAAAAAAACwxkAAAAAAgArMQAAAAAAAmM9AAAAAAIDj3UAAAAAA4FDgQAAAAAAAAAAAAAAAAKA+40AAAAAAwL7kQAAAAADg+/JAAAAAACCz9kAAAAAA0Fb/QAAAAAAA3ABBAAAAAOBVAUEAAAAAUA8CQQAAAAAw9gJBAAAAAPibBEEAAAAAOFYFQQAAAADY7wVBAAAAACAvBkEAAAAAYDUHQQAAAAA4jAdBAAAAAPDMB0EAAAAAECUIQQAAAAA46ghBAAAAADA5CUEAAAAAGIUKQQAAAACA4QpBAAAAAChQC0EAAAAAiOMLQQAAAAAcCBBBAAAAAAAAAAAAAAAAQGPZQAAAAAAAAAAAAAAAAADB1UAAAAAAQP/bQA==\",\"dtype\":\"float64\",\"order\":\"little\",\"shape\":[89]},\"top\":{\"__ndarray__\":\"AAAAAECS1EAAAAAAAEifQAAAAAAAT71AAAAAACDK4EAAAAAAYITkQAAAAADggO5AAAAAAPDI8kAAAAAA8FL7QAAAAACAFs1AAAAAAADAbUAAAAAAADLIQAAAAAAA9N5AAAAAAIDbzUAAAAAAIMrgQAAAAAAg6/xAAAAAAJAH/kAAAAAAACrBQAAAAADAR9NAAAAAAMCm1UAAAAAAYEXkQAAAAAAgEeNAAAAAAMBB5kAAAAAAABG0QAAAAAAAkJBAAAAAAAC6zkAAAAAAAP3DQAAAAAAAr9VAAAAAAAAOsEAAAAAAACjaQAAAAACAEclAAAAAAMC/4kAAAAAAgDraQAAAAAAQi/BAAAAAAEAd8UAAAAAAAHvTQAAAAAAAPdRAAAAAAAD90UAAAAAAgGrIQAAAAACAjspAAAAAAEBw0EAAAAAAwJjXQAAAAADAU9lAAAAAAIBB30AAAAAAANe+QAAAAAAAQcRAAAAAAIDj20AAAAAAAMzAQAAAAAAAqsNAAAAAAABmyUAAAAAAgPnQQAAAAAAAAMNAAAAAAACwxkAAAAAAAJjPQAAAAACAD95AAAAAAIAKzEAAAAAAgGHOQAAAAACA491AAAAAAOBQ4EAAAAAA4BziQAAAAACgPuNAAAAAAMC+5EAAAAAA4PvyQAAAAAAgs/ZAAAAAANBW/0AAAAAAANwAQQAAAADgVQFBAAAAAFAPAkEAAAAAMPYCQQAAAAD4mwRBAAAAADhWBUEAAAAA2O8FQQAAAAAgLwZBAAAAAGA1B0EAAAAAOIwHQQAAAADwzAdBAAAAABAlCEEAAAAAOOoIQQAAAAAwOQlBAAAAABiFCkEAAAAAgOEKQQAAAAAoUAtBAAAAAIjjC0EAAAAAHAgQQQAAAABsnhBBAAAAAEBj2UAAAAAAIHHkQAAAAAAAwdVAAAAAAED/20AAAAAAIBvhQA==\",\"dtype\":\"float64\",\"order\":\"little\",\"shape\":[89]}},\"selected\":{\"id\":\"4570\"},\"selection_policy\":{\"id\":\"4593\"}},\"id\":\"4569\",\"type\":\"ColumnDataSource\"},{\"attributes\":{\"coordinates\":null,\"data_source\":{\"id\":\"4569\"},\"glyph\":{\"id\":\"4572\"},\"group\":null,\"hover_glyph\":null,\"muted_glyph\":{\"id\":\"4574\"},\"nonselection_glyph\":{\"id\":\"4573\"},\"selection_glyph\":{\"id\":\"4577\"},\"view\":{\"id\":\"4576\"}},\"id\":\"4575\",\"type\":\"GlyphRenderer\"},{\"attributes\":{},\"id\":\"4593\",\"type\":\"UnionRenderers\"},{\"attributes\":{\"bottom\":{\"field\":\"bottom\"},\"fill_alpha\":{\"value\":0.2},\"fill_color\":{\"field\":\"Strike\",\"transform\":{\"id\":\"4568\"}},\"hatch_alpha\":{\"value\":0.2},\"hatch_color\":{\"field\":\"Strike\",\"transform\":{\"id\":\"4568\"}},\"line_alpha\":{\"value\":0.2},\"top\":{\"field\":\"top\"},\"width\":{\"value\":0.8},\"x\":{\"field\":\"Symbol\"}},\"id\":\"4574\",\"type\":\"VBar\"},{\"attributes\":{},\"id\":\"4584\",\"type\":\"AllLabels\"},{\"attributes\":{\"callback\":null,\"renderers\":[{\"id\":\"4575\"}],\"tags\":[\"hv_created\"],\"tooltips\":[[\"Symbol\",\"@{Symbol}\"],[\"Strike\",\"@{Strike}\"],[\"Open Int\",\"@{Open_Int}\"]]},\"id\":\"4538\",\"type\":\"HoverTool\"},{\"attributes\":{\"axis_label\":\"Open Int\",\"coordinates\":null,\"formatter\":{\"id\":\"4578\"},\"group\":null,\"major_label_policy\":{\"id\":\"4584\"},\"ticker\":{\"id\":\"4552\"}},\"id\":\"4551\",\"type\":\"LinearAxis\"},{\"attributes\":{\"factors\":[\"AAPL\",\"AMZN\",\"AXP\",\"BAC\",\"CCL\",\"CHPT\",\"DKNG\",\"F\",\"JPM\",\"LVS\",\"NFLX\",\"NIO\",\"NVDA\",\"PCG\",\"PYPL\",\"SBUX\",\"TSLA\",\"TWTR\",\"UBER\",\"XOM\"],\"tags\":[[[\"Symbol\",\"Symbol\",null]]]},\"id\":\"4536\",\"type\":\"FactorRange\"},{\"attributes\":{\"bottom_units\":\"screen\",\"coordinates\":null,\"fill_alpha\":0.5,\"fill_color\":\"lightgrey\",\"group\":null,\"left_units\":\"screen\",\"level\":\"overlay\",\"line_alpha\":1.0,\"line_color\":\"black\",\"line_dash\":[4,4],\"line_width\":2,\"right_units\":\"screen\",\"syncable\":false,\"top_units\":\"screen\"},\"id\":\"4560\",\"type\":\"BoxAnnotation\"},{\"attributes\":{\"children\":[{\"id\":\"4535\"},{\"id\":\"4539\"},{\"id\":\"4596\"}],\"margin\":[0,0,0,0],\"name\":\"Row05487\",\"tags\":[\"embedded\"]},\"id\":\"4534\",\"type\":\"Row\"},{\"attributes\":{\"axis_label\":\"Symbol\",\"coordinates\":null,\"formatter\":{\"id\":\"4580\"},\"group\":null,\"major_label_orientation\":1.5707963267948966,\"major_label_policy\":{\"id\":\"4581\"},\"ticker\":{\"id\":\"4549\"}},\"id\":\"4548\",\"type\":\"CategoricalAxis\"},{\"attributes\":{\"factors\":[\"125\",\"130\",\"135\",\"140\",\"145\",\"150\",\"70\",\"115\",\"117\",\"120\",\"123\",\"32\",\"33\",\"33.5\",\"34\",\"10\",\"10.5\",\"16\",\"17\",\"17.5\",\"18\",\"18.5\",\"12\",\"13\",\"14\",\"14.5\",\"110\",\"116\",\"38\",\"225\",\"227.5\",\"230\",\"235\",\"237.5\",\"240\",\"19\",\"19.5\",\"20\",\"128\",\"129\",\"131\",\"132\",\"90\",\"92.5\",\"94\",\"87.5\",\"88\",\"91\",\"166.67\",\"203.33\",\"250\",\"260\",\"266.67\",\"270\",\"275\",\"276.67\",\"280\",\"283.33\",\"285\",\"286.67\",\"288.33\",\"290\",\"290.83\",\"291.67\",\"292.5\",\"293.33\",\"294.17\",\"295\",\"295.83\",\"296.67\",\"298.33\",\"300\",\"301.67\",\"40\",\"41\",\"30\",\"31\",\"31.5\"],\"palette\":[\"#259646\",\"#259646\",\"#259646\",\"#259646\",\"#259646\",\"#259646\",\"#259646\",\"#259646\",\"#259646\",\"#259646\",\"#259646\",\"#259646\",\"#259646\",\"#259646\",\"#259646\",\"#259646\",\"#259646\",\"#259646\",\"#259646\",\"#259646\",\"#259646\",\"#259646\",\"#259646\",\"#259646\",\"#259646\",\"#259646\",\"#259646\",\"#259646\",\"#259646\",\"#259646\",\"#259646\",\"#259646\",\"#259646\",\"#259646\",\"#259646\",\"#259646\",\"#259646\",\"#259646\",\"#259646\",\"#259646\",\"#259646\",\"#259646\",\"#259646\",\"#259646\",\"#259646\",\"#259646\",\"#259646\",\"#259646\",\"#259646\",\"#259646\",\"#259646\",\"#259646\",\"#259646\",\"#259646\",\"#259646\",\"#259646\",\"#259646\",\"#259646\",\"#259646\",\"#259646\",\"#259646\",\"#259646\",\"#259646\",\"#259646\",\"#259646\",\"#259646\",\"#259646\",\"#259646\",\"#259646\",\"#259646\",\"#259646\",\"#259646\",\"#259646\",\"#259646\",\"#259646\",\"#259646\",\"#259646\",\"#259646\"]},\"id\":\"4568\",\"type\":\"CategoricalColorMapper\"},{\"attributes\":{\"source\":{\"id\":\"4569\"}},\"id\":\"4576\",\"type\":\"CDSView\"},{\"attributes\":{},\"id\":\"4544\",\"type\":\"CategoricalScale\"},{\"attributes\":{\"below\":[{\"id\":\"4548\"}],\"center\":[{\"id\":\"4550\"},{\"id\":\"4554\"}],\"height\":800,\"left\":[{\"id\":\"4551\"}],\"margin\":[5,5,5,5],\"min_border_bottom\":10,\"min_border_left\":10,\"min_border_right\":10,\"min_border_top\":10,\"renderers\":[{\"id\":\"4575\"}],\"sizing_mode\":\"fixed\",\"title\":{\"id\":\"4540\"},\"toolbar\":{\"id\":\"4561\"},\"width\":1000,\"x_range\":{\"id\":\"4536\"},\"x_scale\":{\"id\":\"4544\"},\"y_range\":{\"id\":\"4537\"},\"y_scale\":{\"id\":\"4546\"}},\"id\":\"4539\",\"subtype\":\"Figure\",\"type\":\"Plot\"},{\"attributes\":{\"axis\":{\"id\":\"4548\"},\"coordinates\":null,\"grid_line_color\":null,\"group\":null,\"ticker\":null},\"id\":\"4550\",\"type\":\"Grid\"},{\"attributes\":{},\"id\":\"4556\",\"type\":\"PanTool\"},{\"attributes\":{},\"id\":\"4580\",\"type\":\"CategoricalTickFormatter\"},{\"attributes\":{\"bottom\":{\"field\":\"bottom\"},\"fill_alpha\":{\"value\":1.0},\"fill_color\":{\"field\":\"Strike\",\"transform\":{\"id\":\"4568\"}},\"hatch_alpha\":{\"value\":1.0},\"hatch_color\":{\"field\":\"Strike\",\"transform\":{\"id\":\"4568\"}},\"hatch_scale\":{\"value\":12.0},\"hatch_weight\":{\"value\":1.0},\"line_alpha\":{\"value\":1.0},\"line_cap\":{\"value\":\"butt\"},\"line_color\":{\"value\":\"black\"},\"line_dash\":{\"value\":[]},\"line_dash_offset\":{\"value\":0},\"line_join\":{\"value\":\"bevel\"},\"line_width\":{\"value\":1},\"top\":{\"field\":\"top\"},\"width\":{\"value\":0.8},\"x\":{\"field\":\"Symbol\"}},\"id\":\"4577\",\"type\":\"VBar\"},{\"attributes\":{\"tools\":[{\"id\":\"4538\"},{\"id\":\"4555\"},{\"id\":\"4556\"},{\"id\":\"4557\"},{\"id\":\"4558\"},{\"id\":\"4559\"}]},\"id\":\"4561\",\"type\":\"Toolbar\"},{\"attributes\":{},\"id\":\"4559\",\"type\":\"ResetTool\"},{\"attributes\":{\"margin\":[5,5,5,5],\"name\":\"HSpacer05492\",\"sizing_mode\":\"stretch_width\"},\"id\":\"4596\",\"type\":\"Spacer\"},{\"attributes\":{},\"id\":\"4581\",\"type\":\"AllLabels\"},{\"attributes\":{\"bottom\":{\"field\":\"bottom\"},\"fill_color\":{\"field\":\"Strike\",\"transform\":{\"id\":\"4568\"}},\"hatch_color\":{\"field\":\"Strike\",\"transform\":{\"id\":\"4568\"}},\"top\":{\"field\":\"top\"},\"width\":{\"value\":0.8},\"x\":{\"field\":\"Symbol\"}},\"id\":\"4572\",\"type\":\"VBar\"},{\"attributes\":{},\"id\":\"4552\",\"type\":\"BasicTicker\"},{\"attributes\":{\"format\":\"%.0f\"},\"id\":\"4578\",\"type\":\"PrintfTickFormatter\"},{\"attributes\":{},\"id\":\"4549\",\"type\":\"CategoricalTicker\"},{\"attributes\":{\"end\":298022.0,\"reset_end\":298022.0,\"reset_start\":0.0,\"tags\":[[[\"Open Int\",\"Open Int\",null]]]},\"id\":\"4537\",\"type\":\"Range1d\"},{\"attributes\":{\"coordinates\":null,\"group\":null,\"text\":\"Call\",\"text_color\":\"black\",\"text_font_size\":\"12pt\"},\"id\":\"4540\",\"type\":\"Title\"},{\"attributes\":{\"axis\":{\"id\":\"4551\"},\"coordinates\":null,\"dimension\":1,\"grid_line_color\":null,\"group\":null,\"ticker\":null},\"id\":\"4554\",\"type\":\"Grid\"},{\"attributes\":{},\"id\":\"4557\",\"type\":\"WheelZoomTool\"},{\"attributes\":{},\"id\":\"4546\",\"type\":\"LinearScale\"},{\"attributes\":{},\"id\":\"4570\",\"type\":\"Selection\"},{\"attributes\":{\"bottom\":{\"field\":\"bottom\"},\"fill_alpha\":{\"value\":0.1},\"fill_color\":{\"field\":\"Strike\",\"transform\":{\"id\":\"4568\"}},\"hatch_alpha\":{\"value\":0.1},\"hatch_color\":{\"field\":\"Strike\",\"transform\":{\"id\":\"4568\"}},\"line_alpha\":{\"value\":0.1},\"top\":{\"field\":\"top\"},\"width\":{\"value\":0.8},\"x\":{\"field\":\"Symbol\"}},\"id\":\"4573\",\"type\":\"VBar\"}],\"root_ids\":[\"4534\"]},\"title\":\"Bokeh Application\",\"version\":\"2.4.3\"}};\n",
       "    var render_items = [{\"docid\":\"ebaa665e-95db-4bdd-abb9-d8e2aa624b3a\",\"root_ids\":[\"4534\"],\"roots\":{\"4534\":\"c8d599eb-071f-4413-827c-5e1fe3940926\"}}];\n",
       "    root.Bokeh.embed.embed_items_notebook(docs_json, render_items);\n",
       "  }\n",
       "  if (root.Bokeh !== undefined && root.Bokeh.Panel !== undefined) {\n",
       "    embed_document(root);\n",
       "  } else {\n",
       "    var attempts = 0;\n",
       "    var timer = setInterval(function(root) {\n",
       "      if (root.Bokeh !== undefined && root.Bokeh.Panel !== undefined) {\n",
       "        clearInterval(timer);\n",
       "        embed_document(root);\n",
       "      } else if (document.readyState == \"complete\") {\n",
       "        attempts++;\n",
       "        if (attempts > 200) {\n",
       "          clearInterval(timer);\n",
       "          console.log(\"Bokeh: ERROR: Unable to run BokehJS code because BokehJS library is missing\");\n",
       "        }\n",
       "      }\n",
       "    }, 25, root)\n",
       "  }\n",
       "})(window);</script>"
      ],
      "text/plain": [
       ":Bars   [Symbol,Strike]   (Open Int)"
      ]
     },
     "execution_count": 66,
     "metadata": {
      "application/vnd.holoviews_exec.v0+json": {
       "id": "4534"
      }
     },
     "output_type": "execute_result"
    }
   ],
   "source": [
    "# Calling options_call_bar\n",
    "options_call_bar(df)"
   ]
  },
  {
   "cell_type": "code",
   "execution_count": 67,
   "metadata": {},
   "outputs": [
    {
     "data": {},
     "metadata": {},
     "output_type": "display_data"
    },
    {
     "data": {
      "application/vnd.holoviews_exec.v0+json": "",
      "text/html": [
       "<div id='4643'>\n",
       "  <div class=\"bk-root\" id=\"13491449-520c-410a-985f-e52e0adb090b\" data-root-id=\"4643\"></div>\n",
       "</div>\n",
       "<script type=\"application/javascript\">(function(root) {\n",
       "  function embed_document(root) {\n",
       "    var docs_json = {\"24c2b7cd-976e-4457-9e9d-5d3254f91400\":{\"defs\":[{\"extends\":null,\"module\":null,\"name\":\"ReactiveHTML1\",\"overrides\":[],\"properties\":[]},{\"extends\":null,\"module\":null,\"name\":\"FlexBox1\",\"overrides\":[],\"properties\":[{\"default\":\"flex-start\",\"kind\":null,\"name\":\"align_content\"},{\"default\":\"flex-start\",\"kind\":null,\"name\":\"align_items\"},{\"default\":\"row\",\"kind\":null,\"name\":\"flex_direction\"},{\"default\":\"wrap\",\"kind\":null,\"name\":\"flex_wrap\"},{\"default\":\"flex-start\",\"kind\":null,\"name\":\"justify_content\"}]},{\"extends\":null,\"module\":null,\"name\":\"GridStack1\",\"overrides\":[],\"properties\":[{\"default\":\"warn\",\"kind\":null,\"name\":\"mode\"},{\"default\":null,\"kind\":null,\"name\":\"ncols\"},{\"default\":null,\"kind\":null,\"name\":\"nrows\"},{\"default\":true,\"kind\":null,\"name\":\"allow_resize\"},{\"default\":true,\"kind\":null,\"name\":\"allow_drag\"},{\"default\":[],\"kind\":null,\"name\":\"state\"}]},{\"extends\":null,\"module\":null,\"name\":\"click1\",\"overrides\":[],\"properties\":[{\"default\":\"\",\"kind\":null,\"name\":\"terminal_output\"},{\"default\":\"\",\"kind\":null,\"name\":\"debug_name\"},{\"default\":0,\"kind\":null,\"name\":\"clears\"}]},{\"extends\":null,\"module\":null,\"name\":\"NotificationAreaBase1\",\"overrides\":[],\"properties\":[{\"default\":\"bottom-right\",\"kind\":null,\"name\":\"position\"},{\"default\":0,\"kind\":null,\"name\":\"_clear\"}]},{\"extends\":null,\"module\":null,\"name\":\"NotificationArea1\",\"overrides\":[],\"properties\":[{\"default\":[],\"kind\":null,\"name\":\"notifications\"},{\"default\":\"bottom-right\",\"kind\":null,\"name\":\"position\"},{\"default\":0,\"kind\":null,\"name\":\"_clear\"},{\"default\":[{\"background\":\"#ffc107\",\"icon\":{\"className\":\"fas fa-exclamation-triangle\",\"color\":\"white\",\"tagName\":\"i\"},\"type\":\"warning\"},{\"background\":\"#007bff\",\"icon\":{\"className\":\"fas fa-info-circle\",\"color\":\"white\",\"tagName\":\"i\"},\"type\":\"info\"}],\"kind\":null,\"name\":\"types\"}]},{\"extends\":null,\"module\":null,\"name\":\"Notification\",\"overrides\":[],\"properties\":[{\"default\":null,\"kind\":null,\"name\":\"background\"},{\"default\":3000,\"kind\":null,\"name\":\"duration\"},{\"default\":null,\"kind\":null,\"name\":\"icon\"},{\"default\":\"\",\"kind\":null,\"name\":\"message\"},{\"default\":null,\"kind\":null,\"name\":\"notification_type\"},{\"default\":false,\"kind\":null,\"name\":\"_destroyed\"}]},{\"extends\":null,\"module\":null,\"name\":\"TemplateActions1\",\"overrides\":[],\"properties\":[{\"default\":0,\"kind\":null,\"name\":\"open_modal\"},{\"default\":0,\"kind\":null,\"name\":\"close_modal\"}]},{\"extends\":null,\"module\":null,\"name\":\"MaterialTemplateActions1\",\"overrides\":[],\"properties\":[{\"default\":0,\"kind\":null,\"name\":\"open_modal\"},{\"default\":0,\"kind\":null,\"name\":\"close_modal\"}]}],\"roots\":{\"references\":[{\"attributes\":{\"children\":[{\"id\":\"4644\"},{\"id\":\"4648\"},{\"id\":\"4705\"}],\"margin\":[0,0,0,0],\"name\":\"Row05701\",\"tags\":[\"embedded\"]},\"id\":\"4643\",\"type\":\"Row\"},{\"attributes\":{},\"id\":\"4664\",\"type\":\"SaveTool\"},{\"attributes\":{\"bottom\":{\"field\":\"bottom\"},\"fill_color\":{\"field\":\"Strike\",\"transform\":{\"id\":\"4677\"}},\"hatch_color\":{\"field\":\"Strike\",\"transform\":{\"id\":\"4677\"}},\"top\":{\"field\":\"top\"},\"width\":{\"value\":0.8},\"x\":{\"field\":\"Symbol\"}},\"id\":\"4681\",\"type\":\"VBar\"},{\"attributes\":{\"coordinates\":null,\"data_source\":{\"id\":\"4678\"},\"glyph\":{\"id\":\"4681\"},\"group\":null,\"hover_glyph\":null,\"muted_glyph\":{\"id\":\"4683\"},\"nonselection_glyph\":{\"id\":\"4682\"},\"selection_glyph\":{\"id\":\"4686\"},\"view\":{\"id\":\"4685\"}},\"id\":\"4684\",\"type\":\"GlyphRenderer\"},{\"attributes\":{\"axis\":{\"id\":\"4657\"},\"coordinates\":null,\"grid_line_color\":null,\"group\":null,\"ticker\":null},\"id\":\"4659\",\"type\":\"Grid\"},{\"attributes\":{\"source\":{\"id\":\"4678\"}},\"id\":\"4685\",\"type\":\"CDSView\"},{\"attributes\":{\"below\":[{\"id\":\"4657\"}],\"center\":[{\"id\":\"4659\"},{\"id\":\"4663\"}],\"height\":800,\"left\":[{\"id\":\"4660\"}],\"margin\":[5,5,5,5],\"min_border_bottom\":10,\"min_border_left\":10,\"min_border_right\":10,\"min_border_top\":10,\"renderers\":[{\"id\":\"4684\"}],\"sizing_mode\":\"fixed\",\"title\":{\"id\":\"4649\"},\"toolbar\":{\"id\":\"4670\"},\"width\":1000,\"x_range\":{\"id\":\"4645\"},\"x_scale\":{\"id\":\"4653\"},\"y_range\":{\"id\":\"4646\"},\"y_scale\":{\"id\":\"4655\"}},\"id\":\"4648\",\"subtype\":\"Figure\",\"type\":\"Plot\"},{\"attributes\":{},\"id\":\"4661\",\"type\":\"BasicTicker\"},{\"attributes\":{},\"id\":\"4690\",\"type\":\"AllLabels\"},{\"attributes\":{\"axis_label\":\"Symbol\",\"coordinates\":null,\"formatter\":{\"id\":\"4689\"},\"group\":null,\"major_label_orientation\":1.5707963267948966,\"major_label_policy\":{\"id\":\"4690\"},\"ticker\":{\"id\":\"4658\"}},\"id\":\"4657\",\"type\":\"CategoricalAxis\"},{\"attributes\":{\"format\":\"%.0f\"},\"id\":\"4687\",\"type\":\"PrintfTickFormatter\"},{\"attributes\":{\"bottom\":{\"field\":\"bottom\"},\"fill_alpha\":{\"value\":0.2},\"fill_color\":{\"field\":\"Strike\",\"transform\":{\"id\":\"4677\"}},\"hatch_alpha\":{\"value\":0.2},\"hatch_color\":{\"field\":\"Strike\",\"transform\":{\"id\":\"4677\"}},\"line_alpha\":{\"value\":0.2},\"top\":{\"field\":\"top\"},\"width\":{\"value\":0.8},\"x\":{\"field\":\"Symbol\"}},\"id\":\"4683\",\"type\":\"VBar\"},{\"attributes\":{},\"id\":\"4665\",\"type\":\"PanTool\"},{\"attributes\":{},\"id\":\"4693\",\"type\":\"AllLabels\"},{\"attributes\":{},\"id\":\"4658\",\"type\":\"CategoricalTicker\"},{\"attributes\":{},\"id\":\"4689\",\"type\":\"CategoricalTickFormatter\"},{\"attributes\":{\"callback\":null,\"renderers\":[{\"id\":\"4684\"}],\"tags\":[\"hv_created\"],\"tooltips\":[[\"Symbol\",\"@{Symbol}\"],[\"Strike\",\"@{Strike}\"],[\"Open Int\",\"@{Open_Int}\"]]},\"id\":\"4647\",\"type\":\"HoverTool\"},{\"attributes\":{\"factors\":[\"14\",\"14.5\",\"15\",\"152.5\",\"155\",\"157.5\",\"160\",\"162.5\",\"165\",\"170\",\"77.5\",\"78\",\"79\",\"80\",\"85\",\"90\",\"124\",\"125\",\"126\",\"127\",\"127.5\",\"128\",\"129\",\"130\",\"131\",\"132\",\"132.5\",\"133\",\"135\",\"140\",\"9\",\"88\",\"89\",\"91\",\"95\",\"34.5\",\"35\",\"50\",\"15.5\",\"16\",\"108\",\"110\",\"103.25\",\"103.5\",\"104.5\",\"105\",\"106\",\"115\",\"29.5\",\"30\",\"30.5\",\"32\",\"150\",\"245\",\"250\",\"252.5\",\"255\",\"260\",\"262.5\",\"270\",\"20.5\",\"21\",\"21.5\",\"22\",\"134\",\"145\",\"40\",\"40.5\",\"41\",\"42\",\"43\",\"45\",\"11.5\",\"12\",\"17\",\"17.5\",\"18\",\"303.33\",\"305\",\"306.67\",\"310\",\"313.33\"],\"palette\":[\"#C01234\",\"#C01234\",\"#C01234\",\"#C01234\",\"#C01234\",\"#C01234\",\"#C01234\",\"#C01234\",\"#C01234\",\"#C01234\",\"#C01234\",\"#C01234\",\"#C01234\",\"#C01234\",\"#C01234\",\"#C01234\",\"#C01234\",\"#C01234\",\"#C01234\",\"#C01234\",\"#C01234\",\"#C01234\",\"#C01234\",\"#C01234\",\"#C01234\",\"#C01234\",\"#C01234\",\"#C01234\",\"#C01234\",\"#C01234\",\"#C01234\",\"#C01234\",\"#C01234\",\"#C01234\",\"#C01234\",\"#C01234\",\"#C01234\",\"#C01234\",\"#C01234\",\"#C01234\",\"#C01234\",\"#C01234\",\"#C01234\",\"#C01234\",\"#C01234\",\"#C01234\",\"#C01234\",\"#C01234\",\"#C01234\",\"#C01234\",\"#C01234\",\"#C01234\",\"#C01234\",\"#C01234\",\"#C01234\",\"#C01234\",\"#C01234\",\"#C01234\",\"#C01234\",\"#C01234\",\"#C01234\",\"#C01234\",\"#C01234\",\"#C01234\",\"#C01234\",\"#C01234\",\"#C01234\",\"#C01234\",\"#C01234\",\"#C01234\",\"#C01234\",\"#C01234\",\"#C01234\",\"#C01234\",\"#C01234\",\"#C01234\",\"#C01234\",\"#C01234\",\"#C01234\",\"#C01234\",\"#C01234\",\"#C01234\"]},\"id\":\"4677\",\"type\":\"CategoricalColorMapper\"},{\"attributes\":{\"coordinates\":null,\"group\":null,\"text\":\"Puts\",\"text_color\":\"black\",\"text_font_size\":\"12pt\"},\"id\":\"4649\",\"type\":\"Title\"},{\"attributes\":{},\"id\":\"4666\",\"type\":\"WheelZoomTool\"},{\"attributes\":{\"margin\":[5,5,5,5],\"name\":\"HSpacer05705\",\"sizing_mode\":\"stretch_width\"},\"id\":\"4644\",\"type\":\"Spacer\"},{\"attributes\":{\"bottom_units\":\"screen\",\"coordinates\":null,\"fill_alpha\":0.5,\"fill_color\":\"lightgrey\",\"group\":null,\"left_units\":\"screen\",\"level\":\"overlay\",\"line_alpha\":1.0,\"line_color\":\"black\",\"line_dash\":[4,4],\"line_width\":2,\"right_units\":\"screen\",\"syncable\":false,\"top_units\":\"screen\"},\"id\":\"4669\",\"type\":\"BoxAnnotation\"},{\"attributes\":{\"axis\":{\"id\":\"4660\"},\"coordinates\":null,\"dimension\":1,\"grid_line_color\":null,\"group\":null,\"ticker\":null},\"id\":\"4663\",\"type\":\"Grid\"},{\"attributes\":{},\"id\":\"4653\",\"type\":\"CategoricalScale\"},{\"attributes\":{\"tools\":[{\"id\":\"4647\"},{\"id\":\"4664\"},{\"id\":\"4665\"},{\"id\":\"4666\"},{\"id\":\"4667\"},{\"id\":\"4668\"}]},\"id\":\"4670\",\"type\":\"Toolbar\"},{\"attributes\":{\"data\":{\"Open_Int\":{\"__ndarray__\":\"AAAAAADPz0AAAAAAAESgQAAAAACApOdAAAAAAJB4/EAAAAAAAGTeQAAAAAAABrlAAAAAAGAW4UAAAAAAANLFQAAAAAAAurlAAAAAAMCV00AAAAAAQEXaQAAAAABAvONAAAAAAIBRxUAAAAAAAGffQAAAAAAgnetAAAAAAECM2UAAAAAAAHHfQAAAAAAA58BAAAAAAAB4r0AAAAAAAGCpQAAAAAAAc85AAAAAAAB51EAAAAAAQGPdQAAAAACAzdtAAAAAAADpvkAAAAAAAK/TQAAAAAAAOr1AAAAAAABRv0AAAAAAAN+3QAAAAAAA18BAAAAAAADUtUAAAAAAwJzfQAAAAAAAcbZAAAAAAADWtkAAAAAAAOCfQAAAAADA8tZAAAAAAABTuEAAAAAAAA6oQAAAAACA7MdAAAAAAMCw00AAAAAAgOXDQAAAAAAA6eZAAAAAAMAa30AAAAAAAGSeQAAAAAAAIKhAAAAAAAC4kkAAAAAAgBzTQAAAAAAA1bxAAAAAAMDN3EAAAAAAYIfhQAAAAABA3N9AAAAAAIApwkAAAAAASO0BQQAAAAAAsKdAAAAAAEBX0UAAAAAAQNLcQAAAAAAAJJNAAAAAAADonUAAAAAAAD6oQAAAAAAAc8tAAAAAAADepUAAAAAAwHvXQAAAAAAApbVAAAAAAIDTykAAAAAAAEW2QAAAAAAAH7FAAAAAAIAExkAAAAAAQP7UQAAAAAAAtr1AAAAAAID7w0AAAAAAAFWxQAAAAAAAw7pAAAAAAEBC0kAAAAAAALSiQAAAAAAAL89AAAAAAIC6zUAAAAAAgNPDQAAAAAAAIcVAAAAAAABgqkAAAAAAAMyqQAAAAAAAsrVAAAAAAICNwkAAAAAAAJquQAAAAAAA0JFAAAAAAAD6pEAAAAAAAGqjQAAAAAAAxcVAAAAAAAA0w0AAAAAAwFrVQAAAAACA+NRAAAAAAABomkAAAAAAwNHiQAAAAACA1sJAAAAAAIAtxEAAAAAAANi4QAAAAAAAnLJAAAAAAABYoEA=\",\"dtype\":\"float64\",\"order\":\"little\",\"shape\":[97]},\"Strike\":[\"14\",\"14.5\",\"15\",\"15\",\"152.5\",\"152.5\",\"155\",\"155\",\"157.5\",\"157.5\",\"160\",\"160\",\"162.5\",\"165\",\"165\",\"170\",\"170\",\"77.5\",\"78\",\"79\",\"80\",\"85\",\"90\",\"90\",\"124\",\"125\",\"126\",\"127\",\"127.5\",\"128\",\"129\",\"130\",\"131\",\"132\",\"132\",\"132.5\",\"133\",\"133\",\"135\",\"135\",\"140\",\"140\",\"9\",\"88\",\"89\",\"91\",\"95\",\"34.5\",\"35\",\"35\",\"50\",\"15.5\",\"16\",\"108\",\"110\",\"110\",\"103.25\",\"103.5\",\"104.5\",\"105\",\"106\",\"115\",\"29.5\",\"30\",\"30.5\",\"32\",\"150\",\"150\",\"245\",\"250\",\"252.5\",\"255\",\"260\",\"262.5\",\"270\",\"20.5\",\"21\",\"21.5\",\"22\",\"134\",\"145\",\"40\",\"40.5\",\"41\",\"42\",\"43\",\"45\",\"11.5\",\"12\",\"17\",\"17.5\",\"18\",\"303.33\",\"305\",\"306.67\",\"310\",\"313.33\"],\"Symbol\":[\"AAL\",\"AAL\",\"AAL\",\"F\",\"AAPL\",\"META\",\"AAPL\",\"META\",\"META\",\"AAPL\",\"META\",\"AAPL\",\"AAPL\",\"META\",\"AAPL\",\"META\",\"AAPL\",\"AMD\",\"AMD\",\"AMD\",\"AMD\",\"AMD\",\"AMD\",\"BABA\",\"AMZN\",\"AMZN\",\"AMZN\",\"AMZN\",\"AMZN\",\"AMZN\",\"AMZN\",\"AMZN\",\"AMZN\",\"AMZN\",\"NVDA\",\"AMZN\",\"AMZN\",\"NVDA\",\"NVDA\",\"AMZN\",\"NVDA\",\"AMZN\",\"ATUS\",\"BABA\",\"BABA\",\"BABA\",\"BABA\",\"BAC\",\"INTC\",\"BAC\",\"C\",\"F\",\"F\",\"GOOG\",\"GOOGL\",\"GOOG\",\"GOOGL\",\"GOOGL\",\"GOOGL\",\"GOOGL\",\"GOOGL\",\"GOOGL\",\"INTC\",\"INTC\",\"INTC\",\"INTC\",\"NVDA\",\"META\",\"MSFT\",\"MSFT\",\"MSFT\",\"MSFT\",\"MSFT\",\"MSFT\",\"MSFT\",\"NIO\",\"NIO\",\"NIO\",\"NIO\",\"NVDA\",\"NVDA\",\"RBLX\",\"RBLX\",\"RBLX\",\"RBLX\",\"RBLX\",\"RBLX\",\"SNAP\",\"SNAP\",\"T\",\"T\",\"T\",\"TSLA\",\"TSLA\",\"TSLA\",\"TSLA\",\"TSLA\"],\"bottom\":{\"__ndarray__\":\"AAAAAAAAAAAAAAAAAM/PQAAAAAAA8NFAAAAAAAAAAAAAAAAAAAAAAAAAAAAAAAAAAAAAAABk3kAAAAAAAAa5QAAAAACAKtFAAAAAADAk8EAAAAAAAJnXQAAAAACgCfVAAAAAAMDn/kAAAAAAIO/oQAAAAAD4yABBAAAAAFBR9EAAAAAAQLAHQQAAAAAAAAAAAAAAAADnwEAAAAAAAMXIQAAAAAAAHc9AAAAAAADI3kAAAAAAgKDpQAAAAAAAAAAAAAAAAAAAAAAAAAAAAOm+QAAAAABAadtAAAAAAOBb4UAAAAAAAEblQAAAAADgQehAAAAAAKB37EAAAAAAIDLvQAAAAABAgPdAAAAAAFDn+EAAAAAAAAAAAAAAAACwVPpAAAAAALAIAEEAAAAAAOCfQAAAAAAA/7NAAAAAAEjLAEEAAAAAAPbQQAAAAABgQQNBAAAAAAAAAAAAAAAAgM3bQAAAAADAs91AAAAAAOBb4EAAAAAAoPHgQAAAAAAAAAAAAAAAAAAAAAAAAAAAANW8QAAAAAAAAAAAAAAAAJB4/EAAAAAAwL3+QAAAAAAAAAAAAAAAAAAAAAAAAAAAALCnQAAAAABAV9FAAAAAAICJ0kAAAAAAAGjUQAAAAADAb9dAAAAAAKCU4kAAAAAAgPLjQAAAAADAzdxAAAAAAIAb4UAAAAAAYNDnQAAAAAAAmepAAAAAAMDo2kAAAAAAYLT6QAAAAAAAAAAAAAAAAAC2vUAAAAAAQGvRQAAAAACAwNVAAAAAAEBx3EAAAAAAwFnnQAAAAAAAhehAAAAAAAAAAAAAAAAAgLrNQAAAAAAAx9hAAAAAAMCr4UAAAAAAgPXiQAAAAABAouRAAAAAAAAAAAAAAAAAgI3CQAAAAAAANMpAAAAAAABuzEAAAAAAQNbQQAAAAACAQ9NAAAAAAAAAAAAAAAAAADTDQAAAAAAAAAAAAAAAAID41EAAAAAAAJ/WQAAAAAAAAAAAAAAAAIDWwkAAAAAAAILTQAAAAAAAuNlAAAAAAABf3kA=\",\"dtype\":\"float64\",\"order\":\"little\",\"shape\":[97]},\"top\":{\"__ndarray__\":\"AAAAAADPz0AAAAAAAPDRQAAAAABATvBAAAAAAJB4/EAAAAAAAGTeQAAAAAAABrlAAAAAADAk8EAAAAAAgCrRQAAAAAAAmddAAAAAAKAJ9UAAAAAAIO/oQAAAAADA5/5AAAAAAPjIAEEAAAAAUFH0QAAAAABAsAdBAAAAAGC0+kAAAAAAYJ4LQQAAAAAA58BAAAAAAADFyEAAAAAAAB3PQAAAAAAAyN5AAAAAAICg6UAAAAAAECn0QAAAAACAzdtAAAAAAADpvkAAAAAAQGnbQAAAAADgW+FAAAAAAABG5UAAAAAA4EHoQAAAAACgd+xAAAAAACAy70AAAAAAQID3QAAAAABQ5/hAAAAAALBU+kAAAAAAAOCfQAAAAACwCABBAAAAAEjLAEEAAAAAAP+zQAAAAAAA9tBAAAAAAGBBA0EAAAAAwOjaQAAAAACg+whBAAAAAMAa30AAAAAAwLPdQAAAAADgW+BAAAAAAKDx4EAAAAAA4H/qQAAAAAAA1bxAAAAAAMDN3EAAAAAAACLlQAAAAABA3N9AAAAAAMC9/kAAAAAAFKYQQQAAAAAAsKdAAAAAAEBX0UAAAAAAQMjfQAAAAACAidJAAAAAAABo1EAAAAAAwG/XQAAAAACglOJAAAAAAIDy40AAAAAAYLDvQAAAAACAG+FAAAAAAGDQ50AAAAAAAJnqQAAAAADgvOxAAAAAAID14kAAAAAA8PP/QAAAAAAAtr1AAAAAAEBr0UAAAAAAgMDVQAAAAABAcdxAAAAAAMBZ50AAAAAAAIXoQAAAAABgKPBAAAAAAIC6zUAAAAAAAMfYQAAAAADAq+FAAAAAAMBR40AAAAAAQKLkQAAAAACAWOdAAAAAAICNwkAAAAAAADTKQAAAAAAAbsxAAAAAAEDW0EAAAAAAgEPTQAAAAAAAJt5AAAAAAAA0w0AAAAAAwPTeQAAAAACA+NRAAAAAAACf1kAAAAAAQCHuQAAAAACA1sJAAAAAAACC00AAAAAAALjZQAAAAAAAX95AAAAAAAA14EA=\",\"dtype\":\"float64\",\"order\":\"little\",\"shape\":[97]}},\"selected\":{\"id\":\"4679\"},\"selection_policy\":{\"id\":\"4702\"}},\"id\":\"4678\",\"type\":\"ColumnDataSource\"},{\"attributes\":{},\"id\":\"4655\",\"type\":\"LinearScale\"},{\"attributes\":{\"bottom\":{\"field\":\"bottom\"},\"fill_alpha\":{\"value\":0.1},\"fill_color\":{\"field\":\"Strike\",\"transform\":{\"id\":\"4677\"}},\"hatch_alpha\":{\"value\":0.1},\"hatch_color\":{\"field\":\"Strike\",\"transform\":{\"id\":\"4677\"}},\"line_alpha\":{\"value\":0.1},\"top\":{\"field\":\"top\"},\"width\":{\"value\":0.8},\"x\":{\"field\":\"Symbol\"}},\"id\":\"4682\",\"type\":\"VBar\"},{\"attributes\":{\"factors\":[\"AAL\",\"AAPL\",\"AMD\",\"AMZN\",\"ATUS\",\"BABA\",\"BAC\",\"C\",\"F\",\"GOOG\",\"GOOGL\",\"INTC\",\"META\",\"MSFT\",\"NIO\",\"NVDA\",\"RBLX\",\"SNAP\",\"T\",\"TSLA\"],\"tags\":[[[\"Symbol\",\"Symbol\",null]]]},\"id\":\"4645\",\"type\":\"FactorRange\"},{\"attributes\":{\"end\":296963.1,\"reset_end\":296963.1,\"reset_start\":0.0,\"tags\":[[[\"Open Int\",\"Open Int\",null]]]},\"id\":\"4646\",\"type\":\"Range1d\"},{\"attributes\":{},\"id\":\"4702\",\"type\":\"UnionRenderers\"},{\"attributes\":{},\"id\":\"4668\",\"type\":\"ResetTool\"},{\"attributes\":{\"overlay\":{\"id\":\"4669\"}},\"id\":\"4667\",\"type\":\"BoxZoomTool\"},{\"attributes\":{\"margin\":[5,5,5,5],\"name\":\"HSpacer05706\",\"sizing_mode\":\"stretch_width\"},\"id\":\"4705\",\"type\":\"Spacer\"},{\"attributes\":{\"axis_label\":\"Open Int\",\"coordinates\":null,\"formatter\":{\"id\":\"4687\"},\"group\":null,\"major_label_policy\":{\"id\":\"4693\"},\"ticker\":{\"id\":\"4661\"}},\"id\":\"4660\",\"type\":\"LinearAxis\"},{\"attributes\":{},\"id\":\"4679\",\"type\":\"Selection\"},{\"attributes\":{\"bottom\":{\"field\":\"bottom\"},\"fill_alpha\":{\"value\":1.0},\"fill_color\":{\"field\":\"Strike\",\"transform\":{\"id\":\"4677\"}},\"hatch_alpha\":{\"value\":1.0},\"hatch_color\":{\"field\":\"Strike\",\"transform\":{\"id\":\"4677\"}},\"hatch_scale\":{\"value\":12.0},\"hatch_weight\":{\"value\":1.0},\"line_alpha\":{\"value\":1.0},\"line_cap\":{\"value\":\"butt\"},\"line_color\":{\"value\":\"black\"},\"line_dash\":{\"value\":[]},\"line_dash_offset\":{\"value\":0},\"line_join\":{\"value\":\"bevel\"},\"line_width\":{\"value\":1},\"top\":{\"field\":\"top\"},\"width\":{\"value\":0.8},\"x\":{\"field\":\"Symbol\"}},\"id\":\"4686\",\"type\":\"VBar\"}],\"root_ids\":[\"4643\"]},\"title\":\"Bokeh Application\",\"version\":\"2.4.3\"}};\n",
       "    var render_items = [{\"docid\":\"24c2b7cd-976e-4457-9e9d-5d3254f91400\",\"root_ids\":[\"4643\"],\"roots\":{\"4643\":\"13491449-520c-410a-985f-e52e0adb090b\"}}];\n",
       "    root.Bokeh.embed.embed_items_notebook(docs_json, render_items);\n",
       "  }\n",
       "  if (root.Bokeh !== undefined && root.Bokeh.Panel !== undefined) {\n",
       "    embed_document(root);\n",
       "  } else {\n",
       "    var attempts = 0;\n",
       "    var timer = setInterval(function(root) {\n",
       "      if (root.Bokeh !== undefined && root.Bokeh.Panel !== undefined) {\n",
       "        clearInterval(timer);\n",
       "        embed_document(root);\n",
       "      } else if (document.readyState == \"complete\") {\n",
       "        attempts++;\n",
       "        if (attempts > 200) {\n",
       "          clearInterval(timer);\n",
       "          console.log(\"Bokeh: ERROR: Unable to run BokehJS code because BokehJS library is missing\");\n",
       "        }\n",
       "      }\n",
       "    }, 25, root)\n",
       "  }\n",
       "})(window);</script>"
      ],
      "text/plain": [
       ":Bars   [Symbol,Strike]   (Open Int)"
      ]
     },
     "execution_count": 67,
     "metadata": {
      "application/vnd.holoviews_exec.v0+json": {
       "id": "4643"
      }
     },
     "output_type": "execute_result"
    }
   ],
   "source": [
    "# Calling options_put_bar\n",
    "options_put_bar(df)"
   ]
  },
  {
   "cell_type": "markdown",
   "metadata": {},
   "source": [
    "# Single Stock Report from DataFrame."
   ]
  },
  {
   "cell_type": "code",
   "execution_count": 68,
   "metadata": {},
   "outputs": [],
   "source": [
    "# Specify dates for Alpaca API.\n",
    "start_date = \"2022-09-12\"\n",
    "end_date = \"2022-09-16\"\n",
    "\n",
    "# Specifies ticker from df above. Can single out any stock you like.\n",
    "ticker = \"F\"\n",
    "stock = ticker"
   ]
  },
  {
   "cell_type": "code",
   "execution_count": 69,
   "metadata": {},
   "outputs": [],
   "source": [
    "# Runs ticker report on single stock from data.\n",
    "report = ticker_report(ticker,df)\n",
    "\n",
    "# Creates ticker df from function\n",
    "ticker_df = alpaca_func(alpaca_key, alpaca_secret, start_date, end_date, stock)\n",
    "\n",
    "# Creates plot from prices\n",
    "prices = ticker_df.hvplot.line(x='timestamp', y=['close','high','low'])"
   ]
  },
  {
   "cell_type": "code",
   "execution_count": 70,
   "metadata": {},
   "outputs": [
    {
     "data": {},
     "metadata": {},
     "output_type": "display_data"
    },
    {
     "data": {
      "application/vnd.holoviews_exec.v0+json": "",
      "text/html": [
       "<div id='4752'>\n",
       "  <div class=\"bk-root\" id=\"44f1c78a-df31-4d46-a5e7-b72a14113763\" data-root-id=\"4752\"></div>\n",
       "</div>\n",
       "<script type=\"application/javascript\">(function(root) {\n",
       "  function embed_document(root) {\n",
       "    var docs_json = {\"d07c6bcd-60d4-4405-b560-0edbced7e22c\":{\"defs\":[{\"extends\":null,\"module\":null,\"name\":\"ReactiveHTML1\",\"overrides\":[],\"properties\":[]},{\"extends\":null,\"module\":null,\"name\":\"FlexBox1\",\"overrides\":[],\"properties\":[{\"default\":\"flex-start\",\"kind\":null,\"name\":\"align_content\"},{\"default\":\"flex-start\",\"kind\":null,\"name\":\"align_items\"},{\"default\":\"row\",\"kind\":null,\"name\":\"flex_direction\"},{\"default\":\"wrap\",\"kind\":null,\"name\":\"flex_wrap\"},{\"default\":\"flex-start\",\"kind\":null,\"name\":\"justify_content\"}]},{\"extends\":null,\"module\":null,\"name\":\"GridStack1\",\"overrides\":[],\"properties\":[{\"default\":\"warn\",\"kind\":null,\"name\":\"mode\"},{\"default\":null,\"kind\":null,\"name\":\"ncols\"},{\"default\":null,\"kind\":null,\"name\":\"nrows\"},{\"default\":true,\"kind\":null,\"name\":\"allow_resize\"},{\"default\":true,\"kind\":null,\"name\":\"allow_drag\"},{\"default\":[],\"kind\":null,\"name\":\"state\"}]},{\"extends\":null,\"module\":null,\"name\":\"click1\",\"overrides\":[],\"properties\":[{\"default\":\"\",\"kind\":null,\"name\":\"terminal_output\"},{\"default\":\"\",\"kind\":null,\"name\":\"debug_name\"},{\"default\":0,\"kind\":null,\"name\":\"clears\"}]},{\"extends\":null,\"module\":null,\"name\":\"NotificationAreaBase1\",\"overrides\":[],\"properties\":[{\"default\":\"bottom-right\",\"kind\":null,\"name\":\"position\"},{\"default\":0,\"kind\":null,\"name\":\"_clear\"}]},{\"extends\":null,\"module\":null,\"name\":\"NotificationArea1\",\"overrides\":[],\"properties\":[{\"default\":[],\"kind\":null,\"name\":\"notifications\"},{\"default\":\"bottom-right\",\"kind\":null,\"name\":\"position\"},{\"default\":0,\"kind\":null,\"name\":\"_clear\"},{\"default\":[{\"background\":\"#ffc107\",\"icon\":{\"className\":\"fas fa-exclamation-triangle\",\"color\":\"white\",\"tagName\":\"i\"},\"type\":\"warning\"},{\"background\":\"#007bff\",\"icon\":{\"className\":\"fas fa-info-circle\",\"color\":\"white\",\"tagName\":\"i\"},\"type\":\"info\"}],\"kind\":null,\"name\":\"types\"}]},{\"extends\":null,\"module\":null,\"name\":\"Notification\",\"overrides\":[],\"properties\":[{\"default\":null,\"kind\":null,\"name\":\"background\"},{\"default\":3000,\"kind\":null,\"name\":\"duration\"},{\"default\":null,\"kind\":null,\"name\":\"icon\"},{\"default\":\"\",\"kind\":null,\"name\":\"message\"},{\"default\":null,\"kind\":null,\"name\":\"notification_type\"},{\"default\":false,\"kind\":null,\"name\":\"_destroyed\"}]},{\"extends\":null,\"module\":null,\"name\":\"TemplateActions1\",\"overrides\":[],\"properties\":[{\"default\":0,\"kind\":null,\"name\":\"open_modal\"},{\"default\":0,\"kind\":null,\"name\":\"close_modal\"}]},{\"extends\":null,\"module\":null,\"name\":\"MaterialTemplateActions1\",\"overrides\":[],\"properties\":[{\"default\":0,\"kind\":null,\"name\":\"open_modal\"},{\"default\":0,\"kind\":null,\"name\":\"close_modal\"}]}],\"roots\":{\"references\":[{\"attributes\":{\"bottom_units\":\"screen\",\"coordinates\":null,\"fill_alpha\":0.5,\"fill_color\":\"lightgrey\",\"group\":null,\"left_units\":\"screen\",\"level\":\"overlay\",\"line_alpha\":1.0,\"line_color\":\"black\",\"line_dash\":[4,4],\"line_width\":2,\"right_units\":\"screen\",\"syncable\":false,\"top_units\":\"screen\"},\"id\":\"4778\",\"type\":\"BoxAnnotation\"},{\"attributes\":{\"format\":\"%0f\"},\"id\":\"4796\",\"type\":\"PrintfTickFormatter\"},{\"attributes\":{\"data\":{\"Open_Int\":{\"__ndarray__\":\"AAAAAIARyUAAAAAAwPbYQAAAAADArNxAAAAAAABGokAAAAAAkHj8QAAAAACAKcJAAAAAAEjtAUE=\",\"dtype\":\"float64\",\"order\":\"little\",\"shape\":[7]},\"Strike\":[\"12\",\"13\",\"14\",\"14.5\",\"15\",\"15.5\",\"16\"],\"Type\":[\"Call\",\"Call\",\"Call\",\"Call\",\"Put\",\"Put\",\"Put\"],\"xoffsets\":[[\"12\",\"Call\"],[\"13\",\"Call\"],[\"14\",\"Call\"],[\"14.5\",\"Call\"],[\"15\",\"Put\"],[\"15.5\",\"Put\"],[\"16\",\"Put\"]]},\"selected\":{\"id\":\"4788\"},\"selection_policy\":{\"id\":\"4811\"}},\"id\":\"4787\",\"type\":\"ColumnDataSource\"},{\"attributes\":{\"axis_label\":\"Open Interests\",\"coordinates\":null,\"formatter\":{\"id\":\"4796\"},\"group\":null,\"major_label_policy\":{\"id\":\"4802\"},\"ticker\":{\"id\":\"4770\"}},\"id\":\"4769\",\"type\":\"LinearAxis\"},{\"attributes\":{},\"id\":\"4770\",\"type\":\"BasicTicker\"},{\"attributes\":{},\"id\":\"4811\",\"type\":\"UnionRenderers\"},{\"attributes\":{\"coordinates\":null,\"data_source\":{\"id\":\"4787\"},\"glyph\":{\"id\":\"4790\"},\"group\":null,\"hover_glyph\":null,\"muted_glyph\":{\"id\":\"4792\"},\"nonselection_glyph\":{\"id\":\"4791\"},\"selection_glyph\":{\"id\":\"4795\"},\"view\":{\"id\":\"4794\"}},\"id\":\"4793\",\"type\":\"GlyphRenderer\"},{\"attributes\":{\"axis\":{\"id\":\"4766\"},\"coordinates\":null,\"grid_line_color\":null,\"group\":null,\"ticker\":null},\"id\":\"4768\",\"type\":\"Grid\"},{\"attributes\":{\"factors\":[[\"12\",\"Call\"],[\"12\",\"Put\"],[\"13\",\"Call\"],[\"13\",\"Put\"],[\"14\",\"Call\"],[\"14\",\"Put\"],[\"14.5\",\"Call\"],[\"14.5\",\"Put\"],[\"15\",\"Call\"],[\"15\",\"Put\"],[\"15.5\",\"Call\"],[\"15.5\",\"Put\"],[\"16\",\"Call\"],[\"16\",\"Put\"]],\"tags\":[[[\"Strike\",\"Strike\",null],[\"Type\",\"Type\",null]]]},\"id\":\"4754\",\"type\":\"FactorRange\"},{\"attributes\":{},\"id\":\"4767\",\"type\":\"CategoricalTicker\"},{\"attributes\":{},\"id\":\"4762\",\"type\":\"CategoricalScale\"},{\"attributes\":{\"callback\":null,\"renderers\":[{\"id\":\"4793\"}],\"tags\":[\"hv_created\"],\"tooltips\":[[\"Strike\",\"@{Strike}\"],[\"Type\",\"@{Type}\"],[\"Open Int\",\"@{Open_Int}\"]]},\"id\":\"4756\",\"type\":\"HoverTool\"},{\"attributes\":{},\"id\":\"4788\",\"type\":\"Selection\"},{\"attributes\":{},\"id\":\"4774\",\"type\":\"PanTool\"},{\"attributes\":{\"end\":161308.8,\"reset_end\":161308.8,\"reset_start\":0.0,\"tags\":[[[\"Open Int\",\"Open Int\",null]]]},\"id\":\"4755\",\"type\":\"Range1d\"},{\"attributes\":{},\"id\":\"4775\",\"type\":\"WheelZoomTool\"},{\"attributes\":{\"overlay\":{\"id\":\"4778\"}},\"id\":\"4776\",\"type\":\"BoxZoomTool\"},{\"attributes\":{\"axis\":{\"id\":\"4769\"},\"coordinates\":null,\"dimension\":1,\"grid_line_color\":null,\"group\":null,\"ticker\":null},\"id\":\"4772\",\"type\":\"Grid\"},{\"attributes\":{},\"id\":\"4777\",\"type\":\"ResetTool\"},{\"attributes\":{\"coordinates\":null,\"group\":null,\"text\":\"Call / Put Open Interests Comparison\",\"text_color\":\"black\",\"text_font_size\":\"12pt\"},\"id\":\"4758\",\"type\":\"Title\"},{\"attributes\":{},\"id\":\"4764\",\"type\":\"LinearScale\"},{\"attributes\":{\"fill_color\":{\"field\":\"Type\",\"transform\":{\"id\":\"4786\"}},\"hatch_color\":{\"field\":\"Type\",\"transform\":{\"id\":\"4786\"}},\"top\":{\"field\":\"Open_Int\"},\"width\":{\"value\":0.8},\"x\":{\"field\":\"xoffsets\"}},\"id\":\"4790\",\"type\":\"VBar\"},{\"attributes\":{\"factors\":[\"Call\",\"Put\"],\"palette\":[\"#30a2da\",\"#fc4f30\"]},\"id\":\"4786\",\"type\":\"CategoricalColorMapper\"},{\"attributes\":{},\"id\":\"4798\",\"type\":\"CategoricalTickFormatter\"},{\"attributes\":{\"source\":{\"id\":\"4787\"}},\"id\":\"4794\",\"type\":\"CDSView\"},{\"attributes\":{\"tools\":[{\"id\":\"4756\"},{\"id\":\"4773\"},{\"id\":\"4774\"},{\"id\":\"4775\"},{\"id\":\"4776\"},{\"id\":\"4777\"}]},\"id\":\"4779\",\"type\":\"Toolbar\"},{\"attributes\":{\"margin\":[5,5,5,5],\"name\":\"HSpacer06058\",\"sizing_mode\":\"stretch_width\"},\"id\":\"4814\",\"type\":\"Spacer\"},{\"attributes\":{\"below\":[{\"id\":\"4766\"}],\"center\":[{\"id\":\"4768\"},{\"id\":\"4772\"}],\"height\":500,\"left\":[{\"id\":\"4769\"}],\"margin\":[5,5,5,5],\"min_border_bottom\":10,\"min_border_left\":10,\"min_border_right\":10,\"min_border_top\":10,\"renderers\":[{\"id\":\"4793\"}],\"sizing_mode\":\"fixed\",\"title\":{\"id\":\"4758\"},\"toolbar\":{\"id\":\"4779\"},\"width\":1300,\"x_range\":{\"id\":\"4754\"},\"x_scale\":{\"id\":\"4762\"},\"y_range\":{\"id\":\"4755\"},\"y_scale\":{\"id\":\"4764\"}},\"id\":\"4757\",\"subtype\":\"Figure\",\"type\":\"Plot\"},{\"attributes\":{\"bottom\":{\"value\":0},\"fill_alpha\":{\"value\":1.0},\"fill_color\":{\"field\":\"Type\",\"transform\":{\"id\":\"4786\"}},\"hatch_alpha\":{\"value\":1.0},\"hatch_color\":{\"field\":\"Type\",\"transform\":{\"id\":\"4786\"}},\"hatch_scale\":{\"value\":12.0},\"hatch_weight\":{\"value\":1.0},\"line_alpha\":{\"value\":1.0},\"line_cap\":{\"value\":\"butt\"},\"line_color\":{\"value\":\"black\"},\"line_dash\":{\"value\":[]},\"line_dash_offset\":{\"value\":0},\"line_join\":{\"value\":\"bevel\"},\"line_width\":{\"value\":1},\"top\":{\"field\":\"Open_Int\"},\"width\":{\"value\":0.8},\"x\":{\"field\":\"xoffsets\"}},\"id\":\"4795\",\"type\":\"VBar\"},{\"attributes\":{\"children\":[{\"id\":\"4753\"},{\"id\":\"4757\"},{\"id\":\"4814\"}],\"margin\":[0,0,0,0],\"name\":\"Row06053\",\"tags\":[\"embedded\"]},\"id\":\"4752\",\"type\":\"Row\"},{\"attributes\":{},\"id\":\"4802\",\"type\":\"AllLabels\"},{\"attributes\":{},\"id\":\"4799\",\"type\":\"AllLabels\"},{\"attributes\":{},\"id\":\"4773\",\"type\":\"SaveTool\"},{\"attributes\":{\"margin\":[5,5,5,5],\"name\":\"HSpacer06057\",\"sizing_mode\":\"stretch_width\"},\"id\":\"4753\",\"type\":\"Spacer\"},{\"attributes\":{\"fill_alpha\":{\"value\":0.2},\"fill_color\":{\"field\":\"Type\",\"transform\":{\"id\":\"4786\"}},\"hatch_alpha\":{\"value\":0.2},\"hatch_color\":{\"field\":\"Type\",\"transform\":{\"id\":\"4786\"}},\"line_alpha\":{\"value\":0.2},\"top\":{\"field\":\"Open_Int\"},\"width\":{\"value\":0.8},\"x\":{\"field\":\"xoffsets\"}},\"id\":\"4792\",\"type\":\"VBar\"},{\"attributes\":{\"axis_label\":\"F\",\"coordinates\":null,\"formatter\":{\"id\":\"4798\"},\"group\":null,\"major_label_orientation\":1.5707963267948966,\"major_label_policy\":{\"id\":\"4799\"},\"ticker\":{\"id\":\"4767\"}},\"id\":\"4766\",\"type\":\"CategoricalAxis\"},{\"attributes\":{\"fill_alpha\":{\"value\":0.1},\"fill_color\":{\"field\":\"Type\",\"transform\":{\"id\":\"4786\"}},\"hatch_alpha\":{\"value\":0.1},\"hatch_color\":{\"field\":\"Type\",\"transform\":{\"id\":\"4786\"}},\"line_alpha\":{\"value\":0.1},\"top\":{\"field\":\"Open_Int\"},\"width\":{\"value\":0.8},\"x\":{\"field\":\"xoffsets\"}},\"id\":\"4791\",\"type\":\"VBar\"}],\"root_ids\":[\"4752\"]},\"title\":\"Bokeh Application\",\"version\":\"2.4.3\"}};\n",
       "    var render_items = [{\"docid\":\"d07c6bcd-60d4-4405-b560-0edbced7e22c\",\"root_ids\":[\"4752\"],\"roots\":{\"4752\":\"44f1c78a-df31-4d46-a5e7-b72a14113763\"}}];\n",
       "    root.Bokeh.embed.embed_items_notebook(docs_json, render_items);\n",
       "  }\n",
       "  if (root.Bokeh !== undefined && root.Bokeh.Panel !== undefined) {\n",
       "    embed_document(root);\n",
       "  } else {\n",
       "    var attempts = 0;\n",
       "    var timer = setInterval(function(root) {\n",
       "      if (root.Bokeh !== undefined && root.Bokeh.Panel !== undefined) {\n",
       "        clearInterval(timer);\n",
       "        embed_document(root);\n",
       "      } else if (document.readyState == \"complete\") {\n",
       "        attempts++;\n",
       "        if (attempts > 200) {\n",
       "          clearInterval(timer);\n",
       "          console.log(\"Bokeh: ERROR: Unable to run BokehJS code because BokehJS library is missing\");\n",
       "        }\n",
       "      }\n",
       "    }, 25, root)\n",
       "  }\n",
       "})(window);</script>"
      ],
      "text/plain": [
       ":Bars   [Strike,Type]   (Open Int)"
      ]
     },
     "metadata": {
      "application/vnd.holoviews_exec.v0+json": {
       "id": "4752"
      }
     },
     "output_type": "display_data"
    }
   ],
   "source": [
    "display(report)"
   ]
  },
  {
   "cell_type": "code",
   "execution_count": 71,
   "metadata": {},
   "outputs": [
    {
     "data": {},
     "metadata": {},
     "output_type": "display_data"
    },
    {
     "data": {
      "application/vnd.holoviews_exec.v0+json": "",
      "text/html": [
       "<div id='4861'>\n",
       "  <div class=\"bk-root\" id=\"83523552-5a76-4389-a905-2c405f9a4732\" data-root-id=\"4861\"></div>\n",
       "</div>\n",
       "<script type=\"application/javascript\">(function(root) {\n",
       "  function embed_document(root) {\n",
       "    var docs_json = {\"23fe4bd1-74a8-4e92-920b-0a0a9400f8af\":{\"defs\":[{\"extends\":null,\"module\":null,\"name\":\"ReactiveHTML1\",\"overrides\":[],\"properties\":[]},{\"extends\":null,\"module\":null,\"name\":\"FlexBox1\",\"overrides\":[],\"properties\":[{\"default\":\"flex-start\",\"kind\":null,\"name\":\"align_content\"},{\"default\":\"flex-start\",\"kind\":null,\"name\":\"align_items\"},{\"default\":\"row\",\"kind\":null,\"name\":\"flex_direction\"},{\"default\":\"wrap\",\"kind\":null,\"name\":\"flex_wrap\"},{\"default\":\"flex-start\",\"kind\":null,\"name\":\"justify_content\"}]},{\"extends\":null,\"module\":null,\"name\":\"GridStack1\",\"overrides\":[],\"properties\":[{\"default\":\"warn\",\"kind\":null,\"name\":\"mode\"},{\"default\":null,\"kind\":null,\"name\":\"ncols\"},{\"default\":null,\"kind\":null,\"name\":\"nrows\"},{\"default\":true,\"kind\":null,\"name\":\"allow_resize\"},{\"default\":true,\"kind\":null,\"name\":\"allow_drag\"},{\"default\":[],\"kind\":null,\"name\":\"state\"}]},{\"extends\":null,\"module\":null,\"name\":\"click1\",\"overrides\":[],\"properties\":[{\"default\":\"\",\"kind\":null,\"name\":\"terminal_output\"},{\"default\":\"\",\"kind\":null,\"name\":\"debug_name\"},{\"default\":0,\"kind\":null,\"name\":\"clears\"}]},{\"extends\":null,\"module\":null,\"name\":\"NotificationAreaBase1\",\"overrides\":[],\"properties\":[{\"default\":\"bottom-right\",\"kind\":null,\"name\":\"position\"},{\"default\":0,\"kind\":null,\"name\":\"_clear\"}]},{\"extends\":null,\"module\":null,\"name\":\"NotificationArea1\",\"overrides\":[],\"properties\":[{\"default\":[],\"kind\":null,\"name\":\"notifications\"},{\"default\":\"bottom-right\",\"kind\":null,\"name\":\"position\"},{\"default\":0,\"kind\":null,\"name\":\"_clear\"},{\"default\":[{\"background\":\"#ffc107\",\"icon\":{\"className\":\"fas fa-exclamation-triangle\",\"color\":\"white\",\"tagName\":\"i\"},\"type\":\"warning\"},{\"background\":\"#007bff\",\"icon\":{\"className\":\"fas fa-info-circle\",\"color\":\"white\",\"tagName\":\"i\"},\"type\":\"info\"}],\"kind\":null,\"name\":\"types\"}]},{\"extends\":null,\"module\":null,\"name\":\"Notification\",\"overrides\":[],\"properties\":[{\"default\":null,\"kind\":null,\"name\":\"background\"},{\"default\":3000,\"kind\":null,\"name\":\"duration\"},{\"default\":null,\"kind\":null,\"name\":\"icon\"},{\"default\":\"\",\"kind\":null,\"name\":\"message\"},{\"default\":null,\"kind\":null,\"name\":\"notification_type\"},{\"default\":false,\"kind\":null,\"name\":\"_destroyed\"}]},{\"extends\":null,\"module\":null,\"name\":\"TemplateActions1\",\"overrides\":[],\"properties\":[{\"default\":0,\"kind\":null,\"name\":\"open_modal\"},{\"default\":0,\"kind\":null,\"name\":\"close_modal\"}]},{\"extends\":null,\"module\":null,\"name\":\"MaterialTemplateActions1\",\"overrides\":[],\"properties\":[{\"default\":0,\"kind\":null,\"name\":\"open_modal\"},{\"default\":0,\"kind\":null,\"name\":\"close_modal\"}]}],\"roots\":{\"references\":[{\"attributes\":{},\"id\":\"4972\",\"type\":\"Selection\"},{\"attributes\":{},\"id\":\"4887\",\"type\":\"WheelZoomTool\"},{\"attributes\":{\"source\":{\"id\":\"4971\"}},\"id\":\"4978\",\"type\":\"CDSView\"},{\"attributes\":{\"months\":[0,4,8]},\"id\":\"4931\",\"type\":\"MonthsTicker\"},{\"attributes\":{\"label\":{\"value\":\"low\"},\"renderers\":[{\"id\":\"4977\"}]},\"id\":\"5005\",\"type\":\"LegendItem\"},{\"attributes\":{\"click_policy\":\"mute\",\"coordinates\":null,\"group\":null,\"items\":[{\"id\":\"4935\"},{\"id\":\"4969\"},{\"id\":\"5005\"}],\"location\":[0,0],\"title\":\"Variable\"},\"id\":\"4934\",\"type\":\"Legend\"},{\"attributes\":{},\"id\":\"4900\",\"type\":\"AllLabels\"},{\"attributes\":{\"days\":[1,4,7,10,13,16,19,22,25,28]},\"id\":\"4926\",\"type\":\"DaysTicker\"},{\"attributes\":{\"days\":[1,2,3,4,5,6,7,8,9,10,11,12,13,14,15,16,17,18,19,20,21,22,23,24,25,26,27,28,29,30,31]},\"id\":\"4925\",\"type\":\"DaysTicker\"},{\"attributes\":{},\"id\":\"4954\",\"type\":\"UnionRenderers\"},{\"attributes\":{},\"id\":\"4886\",\"type\":\"PanTool\"},{\"attributes\":{},\"id\":\"4905\",\"type\":\"Selection\"},{\"attributes\":{\"tools\":[{\"id\":\"4865\"},{\"id\":\"4885\"},{\"id\":\"4886\"},{\"id\":\"4887\"},{\"id\":\"4888\"},{\"id\":\"4889\"}]},\"id\":\"4891\",\"type\":\"Toolbar\"},{\"attributes\":{\"coordinates\":null,\"data_source\":{\"id\":\"4937\"},\"glyph\":{\"id\":\"4940\"},\"group\":null,\"hover_glyph\":null,\"muted_glyph\":{\"id\":\"4942\"},\"nonselection_glyph\":{\"id\":\"4941\"},\"selection_glyph\":{\"id\":\"4970\"},\"view\":{\"id\":\"4944\"}},\"id\":\"4943\",\"type\":\"GlyphRenderer\"},{\"attributes\":{\"end\":15.8695,\"reset_end\":15.8695,\"reset_start\":14.3155,\"start\":14.3155,\"tags\":[[[\"value\",\"value\",null]]]},\"id\":\"4864\",\"type\":\"Range1d\"},{\"attributes\":{\"months\":[0,2,4,6,8,10]},\"id\":\"4930\",\"type\":\"MonthsTicker\"},{\"attributes\":{\"overlay\":{\"id\":\"4890\"}},\"id\":\"4888\",\"type\":\"BoxZoomTool\"},{\"attributes\":{},\"id\":\"4938\",\"type\":\"Selection\"},{\"attributes\":{\"line_color\":\"#e5ae38\",\"line_width\":2,\"x\":{\"field\":\"timestamp\"},\"y\":{\"field\":\"value\"}},\"id\":\"5006\",\"type\":\"Line\"},{\"attributes\":{\"children\":[{\"id\":\"4862\"},{\"id\":\"4868\"},{\"id\":\"5033\"}],\"margin\":[0,0,0,0],\"name\":\"Row06145\",\"tags\":[\"embedded\"]},\"id\":\"4861\",\"type\":\"Row\"},{\"attributes\":{\"line_alpha\":0.2,\"line_color\":\"#e5ae38\",\"line_width\":2,\"x\":{\"field\":\"timestamp\"},\"y\":{\"field\":\"value\"}},\"id\":\"4976\",\"type\":\"Line\"},{\"attributes\":{\"months\":[0,6]},\"id\":\"4932\",\"type\":\"MonthsTicker\"},{\"attributes\":{\"coordinates\":null,\"group\":null,\"text_color\":\"black\",\"text_font_size\":\"12pt\"},\"id\":\"4869\",\"type\":\"Title\"},{\"attributes\":{\"data\":{\"Variable\":[\"low\",\"low\",\"low\",\"low\",\"low\"],\"timestamp\":{\"__ndarray__\":\"AADgqf0yeEIAAKAPUDN4QgAAYHWiM3hCAAAg2/QzeEIAAOBARzR4Qg==\",\"dtype\":\"float64\",\"order\":\"little\",\"shape\":[5]},\"value\":{\"__ndarray__\":\"ZmZmZmbmLkBmZmZmZmYtQKRwPQrX4yxAXI/C9ShcLUBxPQrXo/AsQA==\",\"dtype\":\"float64\",\"order\":\"little\",\"shape\":[5]}},\"selected\":{\"id\":\"4972\"},\"selection_policy\":{\"id\":\"4990\"}},\"id\":\"4971\",\"type\":\"ColumnDataSource\"},{\"attributes\":{\"line_alpha\":0.2,\"line_color\":\"#fc4f30\",\"line_width\":2,\"x\":{\"field\":\"timestamp\"},\"y\":{\"field\":\"value\"}},\"id\":\"4942\",\"type\":\"Line\"},{\"attributes\":{},\"id\":\"4933\",\"type\":\"YearsTicker\"},{\"attributes\":{\"below\":[{\"id\":\"4877\"}],\"center\":[{\"id\":\"4880\"},{\"id\":\"4884\"}],\"height\":300,\"left\":[{\"id\":\"4881\"}],\"margin\":[5,5,5,5],\"min_border_bottom\":10,\"min_border_left\":10,\"min_border_right\":10,\"min_border_top\":10,\"renderers\":[{\"id\":\"4910\"},{\"id\":\"4943\"},{\"id\":\"4977\"}],\"right\":[{\"id\":\"4934\"}],\"sizing_mode\":\"fixed\",\"title\":{\"id\":\"4869\"},\"toolbar\":{\"id\":\"4891\"},\"width\":700,\"x_range\":{\"id\":\"4863\"},\"x_scale\":{\"id\":\"4873\"},\"y_range\":{\"id\":\"4864\"},\"y_scale\":{\"id\":\"4875\"}},\"id\":\"4868\",\"subtype\":\"Figure\",\"type\":\"Plot\"},{\"attributes\":{\"line_color\":\"#e5ae38\",\"line_width\":2,\"x\":{\"field\":\"timestamp\"},\"y\":{\"field\":\"value\"}},\"id\":\"4974\",\"type\":\"Line\"},{\"attributes\":{\"coordinates\":null,\"data_source\":{\"id\":\"4971\"},\"glyph\":{\"id\":\"4974\"},\"group\":null,\"hover_glyph\":null,\"muted_glyph\":{\"id\":\"4976\"},\"nonselection_glyph\":{\"id\":\"4975\"},\"selection_glyph\":{\"id\":\"5006\"},\"view\":{\"id\":\"4978\"}},\"id\":\"4977\",\"type\":\"GlyphRenderer\"},{\"attributes\":{\"days\":[1,15]},\"id\":\"4928\",\"type\":\"DaysTicker\"},{\"attributes\":{\"end\":1663300800000.0,\"reset_end\":1663300800000.0,\"reset_start\":1662955200000.0,\"start\":1662955200000.0,\"tags\":[[[\"timestamp\",\"timestamp\",null]]]},\"id\":\"4863\",\"type\":\"Range1d\"},{\"attributes\":{\"line_alpha\":0.1,\"line_color\":\"#e5ae38\",\"line_width\":2,\"x\":{\"field\":\"timestamp\"},\"y\":{\"field\":\"value\"}},\"id\":\"4975\",\"type\":\"Line\"},{\"attributes\":{\"callback\":null,\"formatters\":{\"@{timestamp}\":\"datetime\"},\"renderers\":[{\"id\":\"4910\"},{\"id\":\"4943\"},{\"id\":\"4977\"}],\"tags\":[\"hv_created\"],\"tooltips\":[[\"Variable\",\"@{Variable}\"],[\"timestamp\",\"@{timestamp}{%F %T}\"],[\"value\",\"@{value}\"]]},\"id\":\"4865\",\"type\":\"HoverTool\"},{\"attributes\":{\"mantissas\":[1,2,5],\"max_interval\":500.0,\"num_minor_ticks\":0},\"id\":\"4922\",\"type\":\"AdaptiveTicker\"},{\"attributes\":{\"days\":[1,8,15,22]},\"id\":\"4927\",\"type\":\"DaysTicker\"},{\"attributes\":{\"source\":{\"id\":\"4904\"}},\"id\":\"4911\",\"type\":\"CDSView\"},{\"attributes\":{\"axis\":{\"id\":\"4881\"},\"coordinates\":null,\"dimension\":1,\"grid_line_color\":null,\"group\":null,\"ticker\":null},\"id\":\"4884\",\"type\":\"Grid\"},{\"attributes\":{\"line_alpha\":0.1,\"line_color\":\"#30a2da\",\"line_width\":2,\"x\":{\"field\":\"timestamp\"},\"y\":{\"field\":\"value\"}},\"id\":\"4908\",\"type\":\"Line\"},{\"attributes\":{},\"id\":\"4875\",\"type\":\"LinearScale\"},{\"attributes\":{\"num_minor_ticks\":5,\"tickers\":[{\"id\":\"4922\"},{\"id\":\"4923\"},{\"id\":\"4924\"},{\"id\":\"4925\"},{\"id\":\"4926\"},{\"id\":\"4927\"},{\"id\":\"4928\"},{\"id\":\"4929\"},{\"id\":\"4930\"},{\"id\":\"4931\"},{\"id\":\"4932\"},{\"id\":\"4933\"}]},\"id\":\"4878\",\"type\":\"DatetimeTicker\"},{\"attributes\":{\"coordinates\":null,\"data_source\":{\"id\":\"4904\"},\"glyph\":{\"id\":\"4907\"},\"group\":null,\"hover_glyph\":null,\"muted_glyph\":{\"id\":\"4909\"},\"nonselection_glyph\":{\"id\":\"4908\"},\"selection_glyph\":{\"id\":\"4936\"},\"view\":{\"id\":\"4911\"}},\"id\":\"4910\",\"type\":\"GlyphRenderer\"},{\"attributes\":{\"bottom_units\":\"screen\",\"coordinates\":null,\"fill_alpha\":0.5,\"fill_color\":\"lightgrey\",\"group\":null,\"left_units\":\"screen\",\"level\":\"overlay\",\"line_alpha\":1.0,\"line_color\":\"black\",\"line_dash\":[4,4],\"line_width\":2,\"right_units\":\"screen\",\"syncable\":false,\"top_units\":\"screen\"},\"id\":\"4890\",\"type\":\"BoxAnnotation\"},{\"attributes\":{\"months\":[0,1,2,3,4,5,6,7,8,9,10,11]},\"id\":\"4929\",\"type\":\"MonthsTicker\"},{\"attributes\":{\"margin\":[5,5,5,5],\"name\":\"HSpacer06150\",\"sizing_mode\":\"stretch_width\"},\"id\":\"5033\",\"type\":\"Spacer\"},{\"attributes\":{\"axis_label\":\"timestamp\",\"coordinates\":null,\"formatter\":{\"id\":\"4899\"},\"group\":null,\"major_label_policy\":{\"id\":\"4900\"},\"ticker\":{\"id\":\"4878\"}},\"id\":\"4877\",\"type\":\"DatetimeAxis\"},{\"attributes\":{\"base\":60,\"mantissas\":[1,2,5,10,15,20,30],\"max_interval\":1800000.0,\"min_interval\":1000.0,\"num_minor_ticks\":0},\"id\":\"4923\",\"type\":\"AdaptiveTicker\"},{\"attributes\":{},\"id\":\"4873\",\"type\":\"LinearScale\"},{\"attributes\":{\"line_color\":\"#fc4f30\",\"line_width\":2,\"x\":{\"field\":\"timestamp\"},\"y\":{\"field\":\"value\"}},\"id\":\"4970\",\"type\":\"Line\"},{\"attributes\":{\"line_color\":\"#30a2da\",\"line_width\":2,\"x\":{\"field\":\"timestamp\"},\"y\":{\"field\":\"value\"}},\"id\":\"4936\",\"type\":\"Line\"},{\"attributes\":{\"line_color\":\"#30a2da\",\"line_width\":2,\"x\":{\"field\":\"timestamp\"},\"y\":{\"field\":\"value\"}},\"id\":\"4907\",\"type\":\"Line\"},{\"attributes\":{},\"id\":\"4882\",\"type\":\"BasicTicker\"},{\"attributes\":{},\"id\":\"4919\",\"type\":\"UnionRenderers\"},{\"attributes\":{},\"id\":\"4889\",\"type\":\"ResetTool\"},{\"attributes\":{\"data\":{\"Variable\":[\"high\",\"high\",\"high\",\"high\",\"high\"],\"timestamp\":{\"__ndarray__\":\"AADgqf0yeEIAAKAPUDN4QgAAYHWiM3hCAAAg2/QzeEIAAOBARzR4Qg==\",\"dtype\":\"float64\",\"order\":\"little\",\"shape\":[5]},\"value\":{\"__ndarray__\":\"exSuR+F6L0DD9Shcj0IuQDMzMzMzsy1A7FG4HoVrLkB7FK5H4XotQA==\",\"dtype\":\"float64\",\"order\":\"little\",\"shape\":[5]}},\"selected\":{\"id\":\"4938\"},\"selection_policy\":{\"id\":\"4954\"}},\"id\":\"4937\",\"type\":\"ColumnDataSource\"},{\"attributes\":{\"data\":{\"Variable\":[\"close\",\"close\",\"close\",\"close\",\"close\"],\"timestamp\":{\"__ndarray__\":\"AADgqf0yeEIAAKAPUDN4QgAAYHWiM3hCAAAg2/QzeEIAAOBARzR4Qg==\",\"dtype\":\"float64\",\"order\":\"little\",\"shape\":[5]},\"value\":{\"__ndarray__\":\"FK5H4XoUL0B7FK5H4XotQFK4HoXrUS1ASOF6FK7HLUBxPQrXo3AtQA==\",\"dtype\":\"float64\",\"order\":\"little\",\"shape\":[5]}},\"selected\":{\"id\":\"4905\"},\"selection_policy\":{\"id\":\"4919\"}},\"id\":\"4904\",\"type\":\"ColumnDataSource\"},{\"attributes\":{\"line_color\":\"#fc4f30\",\"line_width\":2,\"x\":{\"field\":\"timestamp\"},\"y\":{\"field\":\"value\"}},\"id\":\"4940\",\"type\":\"Line\"},{\"attributes\":{},\"id\":\"4885\",\"type\":\"SaveTool\"},{\"attributes\":{\"label\":{\"value\":\"high\"},\"renderers\":[{\"id\":\"4943\"}]},\"id\":\"4969\",\"type\":\"LegendItem\"},{\"attributes\":{\"source\":{\"id\":\"4937\"}},\"id\":\"4944\",\"type\":\"CDSView\"},{\"attributes\":{\"axis\":{\"id\":\"4877\"},\"coordinates\":null,\"grid_line_color\":null,\"group\":null,\"ticker\":null},\"id\":\"4880\",\"type\":\"Grid\"},{\"attributes\":{},\"id\":\"4990\",\"type\":\"UnionRenderers\"},{\"attributes\":{\"base\":24,\"mantissas\":[1,2,4,6,8,12],\"max_interval\":43200000.0,\"min_interval\":3600000.0,\"num_minor_ticks\":0},\"id\":\"4924\",\"type\":\"AdaptiveTicker\"},{\"attributes\":{\"label\":{\"value\":\"close\"},\"renderers\":[{\"id\":\"4910\"}]},\"id\":\"4935\",\"type\":\"LegendItem\"},{\"attributes\":{\"margin\":[5,5,5,5],\"name\":\"HSpacer06149\",\"sizing_mode\":\"stretch_width\"},\"id\":\"4862\",\"type\":\"Spacer\"},{\"attributes\":{},\"id\":\"4903\",\"type\":\"AllLabels\"},{\"attributes\":{\"axis_label\":\"\",\"coordinates\":null,\"formatter\":{\"id\":\"4902\"},\"group\":null,\"major_label_policy\":{\"id\":\"4903\"},\"ticker\":{\"id\":\"4882\"}},\"id\":\"4881\",\"type\":\"LinearAxis\"},{\"attributes\":{\"line_alpha\":0.1,\"line_color\":\"#fc4f30\",\"line_width\":2,\"x\":{\"field\":\"timestamp\"},\"y\":{\"field\":\"value\"}},\"id\":\"4941\",\"type\":\"Line\"},{\"attributes\":{},\"id\":\"4899\",\"type\":\"DatetimeTickFormatter\"},{\"attributes\":{},\"id\":\"4902\",\"type\":\"BasicTickFormatter\"},{\"attributes\":{\"line_alpha\":0.2,\"line_color\":\"#30a2da\",\"line_width\":2,\"x\":{\"field\":\"timestamp\"},\"y\":{\"field\":\"value\"}},\"id\":\"4909\",\"type\":\"Line\"}],\"root_ids\":[\"4861\"]},\"title\":\"Bokeh Application\",\"version\":\"2.4.3\"}};\n",
       "    var render_items = [{\"docid\":\"23fe4bd1-74a8-4e92-920b-0a0a9400f8af\",\"root_ids\":[\"4861\"],\"roots\":{\"4861\":\"83523552-5a76-4389-a905-2c405f9a4732\"}}];\n",
       "    root.Bokeh.embed.embed_items_notebook(docs_json, render_items);\n",
       "  }\n",
       "  if (root.Bokeh !== undefined && root.Bokeh.Panel !== undefined) {\n",
       "    embed_document(root);\n",
       "  } else {\n",
       "    var attempts = 0;\n",
       "    var timer = setInterval(function(root) {\n",
       "      if (root.Bokeh !== undefined && root.Bokeh.Panel !== undefined) {\n",
       "        clearInterval(timer);\n",
       "        embed_document(root);\n",
       "      } else if (document.readyState == \"complete\") {\n",
       "        attempts++;\n",
       "        if (attempts > 200) {\n",
       "          clearInterval(timer);\n",
       "          console.log(\"Bokeh: ERROR: Unable to run BokehJS code because BokehJS library is missing\");\n",
       "        }\n",
       "      }\n",
       "    }, 25, root)\n",
       "  }\n",
       "})(window);</script>"
      ],
      "text/plain": [
       ":NdOverlay   [Variable]\n",
       "   :Curve   [timestamp]   (value)"
      ]
     },
     "metadata": {
      "application/vnd.holoviews_exec.v0+json": {
       "id": "4861"
      }
     },
     "output_type": "display_data"
    }
   ],
   "source": [
    "display(prices)"
   ]
  },
  {
   "cell_type": "markdown",
   "metadata": {},
   "source": [
    "# Stats"
   ]
  },
  {
   "cell_type": "code",
   "execution_count": 72,
   "metadata": {},
   "outputs": [
    {
     "data": {
      "text/html": [
       "<div>\n",
       "<style scoped>\n",
       "    .dataframe tbody tr th:only-of-type {\n",
       "        vertical-align: middle;\n",
       "    }\n",
       "\n",
       "    .dataframe tbody tr th {\n",
       "        vertical-align: top;\n",
       "    }\n",
       "\n",
       "    .dataframe thead th {\n",
       "        text-align: right;\n",
       "    }\n",
       "</style>\n",
       "<table border=\"1\" class=\"dataframe\">\n",
       "  <thead>\n",
       "    <tr style=\"text-align: right;\">\n",
       "      <th></th>\n",
       "      <th>Open Int</th>\n",
       "    </tr>\n",
       "  </thead>\n",
       "  <tbody>\n",
       "    <tr>\n",
       "      <th>count</th>\n",
       "      <td>97.000000</td>\n",
       "    </tr>\n",
       "    <tr>\n",
       "      <th>mean</th>\n",
       "      <td>16631.793814</td>\n",
       "    </tr>\n",
       "    <tr>\n",
       "      <th>std</th>\n",
       "      <td>20918.616662</td>\n",
       "    </tr>\n",
       "    <tr>\n",
       "      <th>min</th>\n",
       "      <td>1140.000000</td>\n",
       "    </tr>\n",
       "    <tr>\n",
       "      <th>25%</th>\n",
       "      <td>4764.000000</td>\n",
       "    </tr>\n",
       "    <tr>\n",
       "      <th>50%</th>\n",
       "      <td>10151.000000</td>\n",
       "    </tr>\n",
       "    <tr>\n",
       "      <th>75%</th>\n",
       "      <td>21497.000000</td>\n",
       "    </tr>\n",
       "    <tr>\n",
       "      <th>max</th>\n",
       "      <td>146857.000000</td>\n",
       "    </tr>\n",
       "  </tbody>\n",
       "</table>\n",
       "</div>"
      ],
      "text/plain": [
       "            Open Int\n",
       "count      97.000000\n",
       "mean    16631.793814\n",
       "std     20918.616662\n",
       "min      1140.000000\n",
       "25%      4764.000000\n",
       "50%     10151.000000\n",
       "75%     21497.000000\n",
       "max    146857.000000"
      ]
     },
     "execution_count": 72,
     "metadata": {},
     "output_type": "execute_result"
    }
   ],
   "source": [
    "call_stats(df)"
   ]
  },
  {
   "cell_type": "code",
   "execution_count": 73,
   "metadata": {},
   "outputs": [
    {
     "data": {
      "text/html": [
       "<div>\n",
       "<style scoped>\n",
       "    .dataframe tbody tr th:only-of-type {\n",
       "        vertical-align: middle;\n",
       "    }\n",
       "\n",
       "    .dataframe tbody tr th {\n",
       "        vertical-align: top;\n",
       "    }\n",
       "\n",
       "    .dataframe thead th {\n",
       "        text-align: right;\n",
       "    }\n",
       "</style>\n",
       "<table border=\"1\" class=\"dataframe\">\n",
       "  <thead>\n",
       "    <tr style=\"text-align: right;\">\n",
       "      <th></th>\n",
       "      <th>Open Int</th>\n",
       "    </tr>\n",
       "  </thead>\n",
       "  <tbody>\n",
       "    <tr>\n",
       "      <th>count</th>\n",
       "      <td>97.000000</td>\n",
       "    </tr>\n",
       "    <tr>\n",
       "      <th>mean</th>\n",
       "      <td>16631.793814</td>\n",
       "    </tr>\n",
       "    <tr>\n",
       "      <th>std</th>\n",
       "      <td>20918.616662</td>\n",
       "    </tr>\n",
       "    <tr>\n",
       "      <th>min</th>\n",
       "      <td>1140.000000</td>\n",
       "    </tr>\n",
       "    <tr>\n",
       "      <th>25%</th>\n",
       "      <td>4764.000000</td>\n",
       "    </tr>\n",
       "    <tr>\n",
       "      <th>50%</th>\n",
       "      <td>10151.000000</td>\n",
       "    </tr>\n",
       "    <tr>\n",
       "      <th>75%</th>\n",
       "      <td>21497.000000</td>\n",
       "    </tr>\n",
       "    <tr>\n",
       "      <th>max</th>\n",
       "      <td>146857.000000</td>\n",
       "    </tr>\n",
       "  </tbody>\n",
       "</table>\n",
       "</div>"
      ],
      "text/plain": [
       "            Open Int\n",
       "count      97.000000\n",
       "mean    16631.793814\n",
       "std     20918.616662\n",
       "min      1140.000000\n",
       "25%      4764.000000\n",
       "50%     10151.000000\n",
       "75%     21497.000000\n",
       "max    146857.000000"
      ]
     },
     "execution_count": 73,
     "metadata": {},
     "output_type": "execute_result"
    }
   ],
   "source": [
    "put_stats(df)"
   ]
  },
  {
   "cell_type": "code",
   "execution_count": null,
   "metadata": {},
   "outputs": [],
   "source": []
  },
  {
   "cell_type": "code",
   "execution_count": null,
   "metadata": {},
   "outputs": [],
   "source": []
  },
  {
   "cell_type": "markdown",
   "metadata": {},
   "source": [
    "# Testing"
   ]
  },
  {
   "cell_type": "code",
   "execution_count": null,
   "metadata": {},
   "outputs": [],
   "source": []
  },
  {
   "cell_type": "code",
   "execution_count": null,
   "metadata": {},
   "outputs": [],
   "source": []
  },
  {
   "cell_type": "code",
   "execution_count": null,
   "metadata": {},
   "outputs": [],
   "source": []
  },
  {
   "cell_type": "code",
   "execution_count": null,
   "metadata": {},
   "outputs": [],
   "source": []
  },
  {
   "cell_type": "code",
   "execution_count": null,
   "metadata": {},
   "outputs": [],
   "source": [
    "\n"
   ]
  },
  {
   "cell_type": "code",
   "execution_count": null,
   "metadata": {},
   "outputs": [],
   "source": [
    "\n",
    "\n"
   ]
  },
  {
   "cell_type": "code",
   "execution_count": null,
   "metadata": {},
   "outputs": [],
   "source": [
    "\n"
   ]
  }
 ],
 "metadata": {
  "kernelspec": {
   "display_name": "Python 3.7.13 ('dev')",
   "language": "python",
   "name": "python3"
  },
  "language_info": {
   "codemirror_mode": {
    "name": "ipython",
    "version": 3
   },
   "file_extension": ".py",
   "mimetype": "text/x-python",
   "name": "python",
   "nbconvert_exporter": "python",
   "pygments_lexer": "ipython3",
   "version": "3.7.13"
  },
  "orig_nbformat": 4,
  "vscode": {
   "interpreter": {
    "hash": "4396f389b93e7269692bd3bea4c62813bbe379469bde939b058805f538feec11"
   }
  }
 },
 "nbformat": 4,
 "nbformat_minor": 2
}
