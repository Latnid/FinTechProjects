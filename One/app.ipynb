{
 "cells": [
  {
   "cell_type": "code",
   "execution_count": 8,
   "metadata": {},
   "outputs": [],
   "source": [
    "import fire\n",
    "import os\n",
    "import requests\n",
    "import pandas as pd\n",
    "from dotenv import load_dotenv\n",
    "load_dotenv()\n",
    "import numpy as np\n",
    "import alpaca_trade_api as alpaca\n",
    "import questionary\n",
    "import hvplot.pandas\n",
    "\n",
    "from qualifier.utils.alpaca_api import alpaca_func\n",
    "from qualifier.utils.analysis import largest_25_OI\n",
    "from qualifier.utils.analysis import options_call_bar\n",
    "from qualifier.utils.analysis import options_put_bar\n",
    "from Modules.CleanData import get_data\n",
    "# from qualifier.utils.SQL import add_new_table\n",
    "\n",
    "# alpaca_func(key=alpaca_key, secret=alpaca_secret, START_DATE=START_DATE, END_DATE=END_DATE)\n",
    "# add_new_table(data=a)\n",
    "\n"
   ]
  },
  {
   "cell_type": "code",
   "execution_count": 9,
   "metadata": {},
   "outputs": [],
   "source": [
    "alpaca_key = os.getenv(\"ALPACA_API_KEY\")\n",
    "alpaca_secret = os.getenv(\"ALPACA_SECRET_KEY\")\n",
    "\n",
    "start_date = \"2022-01-01\"\n",
    "end_date = \"2022-05-30\"\n",
    "\n",
    "date = \"09-14-2022\""
   ]
  },
  {
   "cell_type": "code",
   "execution_count": 10,
   "metadata": {},
   "outputs": [
    {
     "name": "stdout",
     "output_type": "stream",
     "text": [
      "Successfully gathered data from API.\n"
     ]
    }
   ],
   "source": [
    "# Calling alpaca_func\n",
    "alpaca_func(alpaca_key, alpaca_secret, start_date, end_date)"
   ]
  },
  {
   "cell_type": "code",
   "execution_count": 11,
   "metadata": {},
   "outputs": [],
   "source": [
    "# Calling get_data()\n",
    "# From the query, SELECT *\n",
    "df = get_data(date)\n"
   ]
  },
  {
   "cell_type": "code",
   "execution_count": 12,
   "metadata": {},
   "outputs": [
    {
     "data": {},
     "metadata": {},
     "output_type": "display_data"
    },
    {
     "data": {
      "application/vnd.holoviews_exec.v0+json": "",
      "text/html": [
       "<div id='1329'>\n",
       "  <div class=\"bk-root\" id=\"c86db11e-b4d5-4230-a331-5c3d97d86508\" data-root-id=\"1329\"></div>\n",
       "</div>\n",
       "<script type=\"application/javascript\">(function(root) {\n",
       "  function embed_document(root) {\n",
       "    var docs_json = {\"4699f941-e0e6-4289-ae64-7b178933aff3\":{\"defs\":[{\"extends\":null,\"module\":null,\"name\":\"ReactiveHTML1\",\"overrides\":[],\"properties\":[]},{\"extends\":null,\"module\":null,\"name\":\"FlexBox1\",\"overrides\":[],\"properties\":[{\"default\":\"flex-start\",\"kind\":null,\"name\":\"align_content\"},{\"default\":\"flex-start\",\"kind\":null,\"name\":\"align_items\"},{\"default\":\"row\",\"kind\":null,\"name\":\"flex_direction\"},{\"default\":\"wrap\",\"kind\":null,\"name\":\"flex_wrap\"},{\"default\":\"flex-start\",\"kind\":null,\"name\":\"justify_content\"}]},{\"extends\":null,\"module\":null,\"name\":\"GridStack1\",\"overrides\":[],\"properties\":[{\"default\":\"warn\",\"kind\":null,\"name\":\"mode\"},{\"default\":null,\"kind\":null,\"name\":\"ncols\"},{\"default\":null,\"kind\":null,\"name\":\"nrows\"},{\"default\":true,\"kind\":null,\"name\":\"allow_resize\"},{\"default\":true,\"kind\":null,\"name\":\"allow_drag\"},{\"default\":[],\"kind\":null,\"name\":\"state\"}]},{\"extends\":null,\"module\":null,\"name\":\"click1\",\"overrides\":[],\"properties\":[{\"default\":\"\",\"kind\":null,\"name\":\"terminal_output\"},{\"default\":\"\",\"kind\":null,\"name\":\"debug_name\"},{\"default\":0,\"kind\":null,\"name\":\"clears\"}]},{\"extends\":null,\"module\":null,\"name\":\"NotificationAreaBase1\",\"overrides\":[],\"properties\":[{\"default\":\"bottom-right\",\"kind\":null,\"name\":\"position\"},{\"default\":0,\"kind\":null,\"name\":\"_clear\"}]},{\"extends\":null,\"module\":null,\"name\":\"NotificationArea1\",\"overrides\":[],\"properties\":[{\"default\":[],\"kind\":null,\"name\":\"notifications\"},{\"default\":\"bottom-right\",\"kind\":null,\"name\":\"position\"},{\"default\":0,\"kind\":null,\"name\":\"_clear\"},{\"default\":[{\"background\":\"#ffc107\",\"icon\":{\"className\":\"fas fa-exclamation-triangle\",\"color\":\"white\",\"tagName\":\"i\"},\"type\":\"warning\"},{\"background\":\"#007bff\",\"icon\":{\"className\":\"fas fa-info-circle\",\"color\":\"white\",\"tagName\":\"i\"},\"type\":\"info\"}],\"kind\":null,\"name\":\"types\"}]},{\"extends\":null,\"module\":null,\"name\":\"Notification\",\"overrides\":[],\"properties\":[{\"default\":null,\"kind\":null,\"name\":\"background\"},{\"default\":3000,\"kind\":null,\"name\":\"duration\"},{\"default\":null,\"kind\":null,\"name\":\"icon\"},{\"default\":\"\",\"kind\":null,\"name\":\"message\"},{\"default\":null,\"kind\":null,\"name\":\"notification_type\"},{\"default\":false,\"kind\":null,\"name\":\"_destroyed\"}]},{\"extends\":null,\"module\":null,\"name\":\"TemplateActions1\",\"overrides\":[],\"properties\":[{\"default\":0,\"kind\":null,\"name\":\"open_modal\"},{\"default\":0,\"kind\":null,\"name\":\"close_modal\"}]},{\"extends\":null,\"module\":null,\"name\":\"MaterialTemplateActions1\",\"overrides\":[],\"properties\":[{\"default\":0,\"kind\":null,\"name\":\"open_modal\"},{\"default\":0,\"kind\":null,\"name\":\"close_modal\"}]}],\"roots\":{\"references\":[{\"attributes\":{},\"id\":\"1341\",\"type\":\"LinearScale\"},{\"attributes\":{\"margin\":[5,5,5,5],\"name\":\"HSpacer01634\",\"sizing_mode\":\"stretch_width\"},\"id\":\"1330\",\"type\":\"Spacer\"},{\"attributes\":{\"fill_alpha\":{\"value\":0.2},\"fill_color\":{\"field\":\"Type\",\"transform\":{\"id\":\"1363\"}},\"hatch_alpha\":{\"value\":0.2},\"hatch_color\":{\"field\":\"Type\",\"transform\":{\"id\":\"1363\"}},\"line_alpha\":{\"value\":0.2},\"top\":{\"field\":\"Open_Int\"},\"width\":{\"value\":0.8},\"x\":{\"field\":\"xoffsets\"}},\"id\":\"1369\",\"type\":\"VBar\"},{\"attributes\":{\"overlay\":{\"id\":\"1355\"}},\"id\":\"1353\",\"type\":\"BoxZoomTool\"},{\"attributes\":{\"coordinates\":null,\"group\":null,\"text\":\"Tickers Call / Put Open Interests Comparison\",\"text_color\":\"black\",\"text_font_size\":\"12pt\"},\"id\":\"1335\",\"type\":\"Title\"},{\"attributes\":{\"format\":\"%0f\"},\"id\":\"1373\",\"type\":\"PrintfTickFormatter\"},{\"attributes\":{},\"id\":\"1347\",\"type\":\"BasicTicker\"},{\"attributes\":{\"axis_label\":\"Tickers by Call and Put\",\"coordinates\":null,\"formatter\":{\"id\":\"1375\"},\"group\":null,\"major_label_orientation\":1.5707963267948966,\"major_label_policy\":{\"id\":\"1376\"},\"ticker\":{\"id\":\"1344\"}},\"id\":\"1343\",\"type\":\"CategoricalAxis\"},{\"attributes\":{},\"id\":\"1352\",\"type\":\"WheelZoomTool\"},{\"attributes\":{},\"id\":\"1376\",\"type\":\"AllLabels\"},{\"attributes\":{\"fill_color\":{\"field\":\"Type\",\"transform\":{\"id\":\"1363\"}},\"hatch_color\":{\"field\":\"Type\",\"transform\":{\"id\":\"1363\"}},\"top\":{\"field\":\"Open_Int\"},\"width\":{\"value\":0.8},\"x\":{\"field\":\"xoffsets\"}},\"id\":\"1367\",\"type\":\"VBar\"},{\"attributes\":{\"factors\":[[\"AAPL\",\"Call\"],[\"AAPL\",\"Put\"],[\"TSLA\",\"Call\"],[\"TSLA\",\"Put\"],[\"AMZN\",\"Call\"],[\"AMZN\",\"Put\"],[\"F\",\"Call\"],[\"F\",\"Put\"],[\"META\",\"Call\"],[\"META\",\"Put\"],[\"GOOGL\",\"Call\"],[\"GOOGL\",\"Put\"],[\"AMD\",\"Call\"],[\"AMD\",\"Put\"],[\"TWTR\",\"Call\"],[\"TWTR\",\"Put\"],[\"NVDA\",\"Call\"],[\"NVDA\",\"Put\"],[\"UBER\",\"Call\"],[\"UBER\",\"Put\"],[\"MSFT\",\"Call\"],[\"MSFT\",\"Put\"],[\"CCJ\",\"Call\"],[\"CCJ\",\"Put\"],[\"SWN\",\"Call\"],[\"SWN\",\"Put\"],[\"DKNG\",\"Call\"],[\"DKNG\",\"Put\"],[\"BAC\",\"Call\"],[\"BAC\",\"Put\"],[\"NIO\",\"Call\"],[\"NIO\",\"Put\"],[\"GOOG\",\"Call\"],[\"GOOG\",\"Put\"],[\"BABA\",\"Call\"],[\"BABA\",\"Put\"],[\"T\",\"Call\"],[\"T\",\"Put\"],[\"INTC\",\"Call\"],[\"INTC\",\"Put\"],[\"XOM\",\"Call\"],[\"XOM\",\"Put\"],[\"CHPT\",\"Call\"],[\"CHPT\",\"Put\"],[\"OXY\",\"Call\"],[\"OXY\",\"Put\"],[\"SBUX\",\"Call\"],[\"SBUX\",\"Put\"],[\"BBBY\",\"Call\"],[\"BBBY\",\"Put\"],[\"GM\",\"Call\"],[\"GM\",\"Put\"],[\"PFE\",\"Call\"],[\"PFE\",\"Put\"],[\"SNAP\",\"Call\"],[\"SNAP\",\"Put\"],[\"NFLX\",\"Call\"],[\"NFLX\",\"Put\"],[\"JPM\",\"Call\"],[\"JPM\",\"Put\"],[\"PLUG\",\"Call\"],[\"PLUG\",\"Put\"],[\"LAZR\",\"Call\"],[\"LAZR\",\"Put\"],[\"CCL\",\"Call\"],[\"CCL\",\"Put\"],[\"WBD\",\"Call\"],[\"WBD\",\"Put\"],[\"DIS\",\"Call\"],[\"DIS\",\"Put\"],[\"SHOP\",\"Call\"],[\"SHOP\",\"Put\"],[\"AMC\",\"Call\"],[\"AMC\",\"Put\"],[\"ET\",\"Call\"],[\"ET\",\"Put\"],[\"LCID\",\"Call\"],[\"LCID\",\"Put\"],[\"MU\",\"Call\"],[\"MU\",\"Put\"]],\"tags\":[[[\"Symbol\",\"Symbol\",null],[\"Type\",\"Type\",null]]]},\"id\":\"1331\",\"type\":\"FactorRange\"},{\"attributes\":{\"axis_label\":\"Open Interests\",\"coordinates\":null,\"formatter\":{\"id\":\"1373\"},\"group\":null,\"major_label_policy\":{\"id\":\"1379\"},\"ticker\":{\"id\":\"1347\"}},\"id\":\"1346\",\"type\":\"LinearAxis\"},{\"attributes\":{},\"id\":\"1344\",\"type\":\"CategoricalTicker\"},{\"attributes\":{\"factors\":[\"Put\",\"Call\"],\"palette\":[\"#30a2da\",\"#fc4f30\"]},\"id\":\"1363\",\"type\":\"CategoricalColorMapper\"},{\"attributes\":{\"callback\":null,\"renderers\":[{\"id\":\"1370\"}],\"tags\":[\"hv_created\"],\"tooltips\":[[\"Symbol\",\"@{Symbol}\"],[\"Type\",\"@{Type}\"],[\"Open Int\",\"@{Open_Int}\"]]},\"id\":\"1333\",\"type\":\"HoverTool\"},{\"attributes\":{},\"id\":\"1351\",\"type\":\"PanTool\"},{\"attributes\":{},\"id\":\"1379\",\"type\":\"AllLabels\"},{\"attributes\":{},\"id\":\"1365\",\"type\":\"Selection\"},{\"attributes\":{\"fill_alpha\":{\"value\":0.1},\"fill_color\":{\"field\":\"Type\",\"transform\":{\"id\":\"1363\"}},\"hatch_alpha\":{\"value\":0.1},\"hatch_color\":{\"field\":\"Type\",\"transform\":{\"id\":\"1363\"}},\"line_alpha\":{\"value\":0.1},\"top\":{\"field\":\"Open_Int\"},\"width\":{\"value\":0.8},\"x\":{\"field\":\"xoffsets\"}},\"id\":\"1368\",\"type\":\"VBar\"},{\"attributes\":{\"children\":[{\"id\":\"1330\"},{\"id\":\"1334\"},{\"id\":\"1391\"}],\"margin\":[0,0,0,0],\"name\":\"Row01630\",\"tags\":[\"embedded\"]},\"id\":\"1329\",\"type\":\"Row\"},{\"attributes\":{\"coordinates\":null,\"data_source\":{\"id\":\"1364\"},\"glyph\":{\"id\":\"1367\"},\"group\":null,\"hover_glyph\":null,\"muted_glyph\":{\"id\":\"1369\"},\"nonselection_glyph\":{\"id\":\"1368\"},\"selection_glyph\":{\"id\":\"1372\"},\"view\":{\"id\":\"1371\"}},\"id\":\"1370\",\"type\":\"GlyphRenderer\"},{\"attributes\":{},\"id\":\"1350\",\"type\":\"SaveTool\"},{\"attributes\":{\"below\":[{\"id\":\"1343\"}],\"center\":[{\"id\":\"1345\"},{\"id\":\"1349\"}],\"height\":500,\"left\":[{\"id\":\"1346\"}],\"margin\":[5,5,5,5],\"min_border_bottom\":10,\"min_border_left\":10,\"min_border_right\":10,\"min_border_top\":10,\"renderers\":[{\"id\":\"1370\"}],\"sizing_mode\":\"fixed\",\"title\":{\"id\":\"1335\"},\"toolbar\":{\"id\":\"1356\"},\"width\":1300,\"x_range\":{\"id\":\"1331\"},\"x_scale\":{\"id\":\"1339\"},\"y_range\":{\"id\":\"1332\"},\"y_scale\":{\"id\":\"1341\"}},\"id\":\"1334\",\"subtype\":\"Figure\",\"type\":\"Plot\"},{\"attributes\":{\"end\":793622.4,\"reset_end\":793622.4,\"reset_start\":0.0,\"tags\":[[[\"Open Int\",\"Open Int\",null]]]},\"id\":\"1332\",\"type\":\"Range1d\"},{\"attributes\":{},\"id\":\"1354\",\"type\":\"ResetTool\"},{\"attributes\":{\"axis\":{\"id\":\"1346\"},\"coordinates\":null,\"dimension\":1,\"grid_line_color\":null,\"group\":null,\"ticker\":null},\"id\":\"1349\",\"type\":\"Grid\"},{\"attributes\":{\"bottom_units\":\"screen\",\"coordinates\":null,\"fill_alpha\":0.5,\"fill_color\":\"lightgrey\",\"group\":null,\"left_units\":\"screen\",\"level\":\"overlay\",\"line_alpha\":1.0,\"line_color\":\"black\",\"line_dash\":[4,4],\"line_width\":2,\"right_units\":\"screen\",\"syncable\":false,\"top_units\":\"screen\"},\"id\":\"1355\",\"type\":\"BoxAnnotation\"},{\"attributes\":{},\"id\":\"1339\",\"type\":\"CategoricalScale\"},{\"attributes\":{},\"id\":\"1375\",\"type\":\"CategoricalTickFormatter\"},{\"attributes\":{\"margin\":[5,5,5,5],\"name\":\"HSpacer01635\",\"sizing_mode\":\"stretch_width\"},\"id\":\"1391\",\"type\":\"Spacer\"},{\"attributes\":{\"data\":{\"Open_Int\":{\"__ndarray__\":\"AAAAANgcJkEAAAAAeFQgQQAAAAC8ahhBAAAAAGrwJEEAAAAAoE8GQQAAAADgjwJBAAAAAKDPAEEAAAAAoCf/QAAAAADgR/5AAAAAANAx+EAAAAAAUA7xQAAAAACQu/ZAAAAAACDQ7kAAAAAAgMrwQAAAAABQ7vtAAAAAAECL60AAAAAA0A30QAAAAACgqOVAAAAAAAAT7EAAAAAAIM70QAAAAACAuOBAAAAAAGrwJEEAAAAA2BwmQQAAAAB4VCBBAAAAALxqGEEAAAAAIFT7QAAAAABAXv5AAAAAAEDX9kAAAAAAkDH3QAAAAACQwvNAAAAAAFDu+0AAAAAAsKvwQAAAAABgx+9AAAAAAJAH80AAAAAAoE8GQQAAAABgYOpAAAAAACDO9EAAAAAAQOTrQAAAAADAS/JAAAAAAEBu8EAAAAAAYKDsQAAAAAAAg+lAAAAAAADV5UAAAAAA0A30QAAAAACAyetAAAAAAECb5UAAAAAAQNLkQAAAAACgceZAAAAAAOCPAkEAAAAAoM8AQQ==\",\"dtype\":\"float64\",\"order\":\"little\",\"shape\":[50]},\"Symbol\":[\"AAPL\",\"AMZN\",\"F\",\"TSLA\",\"META\",\"GOOGL\",\"AMD\",\"NVDA\",\"MSFT\",\"BAC\",\"GOOG\",\"BABA\",\"T\",\"INTC\",\"NIO\",\"PFE\",\"NFLX\",\"WBD\",\"SHOP\",\"BBBY\",\"MU\",\"TSLA\",\"AAPL\",\"AMZN\",\"F\",\"TWTR\",\"UBER\",\"CCJ\",\"SWN\",\"DKNG\",\"NIO\",\"XOM\",\"CHPT\",\"OXY\",\"META\",\"SBUX\",\"BBBY\",\"GM\",\"SNAP\",\"JPM\",\"PLUG\",\"LAZR\",\"CCL\",\"NFLX\",\"DIS\",\"AMC\",\"ET\",\"LCID\",\"GOOGL\",\"AMD\"],\"Type\":[\"Put\",\"Put\",\"Put\",\"Put\",\"Put\",\"Put\",\"Put\",\"Put\",\"Put\",\"Put\",\"Put\",\"Put\",\"Put\",\"Put\",\"Put\",\"Put\",\"Put\",\"Put\",\"Put\",\"Put\",\"Put\",\"Call\",\"Call\",\"Call\",\"Call\",\"Call\",\"Call\",\"Call\",\"Call\",\"Call\",\"Call\",\"Call\",\"Call\",\"Call\",\"Call\",\"Call\",\"Call\",\"Call\",\"Call\",\"Call\",\"Call\",\"Call\",\"Call\",\"Call\",\"Call\",\"Call\",\"Call\",\"Call\",\"Call\",\"Call\"],\"xoffsets\":[[\"AAPL\",\"Put\"],[\"AMZN\",\"Put\"],[\"F\",\"Put\"],[\"TSLA\",\"Put\"],[\"META\",\"Put\"],[\"GOOGL\",\"Put\"],[\"AMD\",\"Put\"],[\"NVDA\",\"Put\"],[\"MSFT\",\"Put\"],[\"BAC\",\"Put\"],[\"GOOG\",\"Put\"],[\"BABA\",\"Put\"],[\"T\",\"Put\"],[\"INTC\",\"Put\"],[\"NIO\",\"Put\"],[\"PFE\",\"Put\"],[\"NFLX\",\"Put\"],[\"WBD\",\"Put\"],[\"SHOP\",\"Put\"],[\"BBBY\",\"Put\"],[\"MU\",\"Put\"],[\"TSLA\",\"Call\"],[\"AAPL\",\"Call\"],[\"AMZN\",\"Call\"],[\"F\",\"Call\"],[\"TWTR\",\"Call\"],[\"UBER\",\"Call\"],[\"CCJ\",\"Call\"],[\"SWN\",\"Call\"],[\"DKNG\",\"Call\"],[\"NIO\",\"Call\"],[\"XOM\",\"Call\"],[\"CHPT\",\"Call\"],[\"OXY\",\"Call\"],[\"META\",\"Call\"],[\"SBUX\",\"Call\"],[\"BBBY\",\"Call\"],[\"GM\",\"Call\"],[\"SNAP\",\"Call\"],[\"JPM\",\"Call\"],[\"PLUG\",\"Call\"],[\"LAZR\",\"Call\"],[\"CCL\",\"Call\"],[\"NFLX\",\"Call\"],[\"DIS\",\"Call\"],[\"AMC\",\"Call\"],[\"ET\",\"Call\"],[\"LCID\",\"Call\"],[\"GOOGL\",\"Call\"],[\"AMD\",\"Call\"]]},\"selected\":{\"id\":\"1365\"},\"selection_policy\":{\"id\":\"1388\"}},\"id\":\"1364\",\"type\":\"ColumnDataSource\"},{\"attributes\":{},\"id\":\"1388\",\"type\":\"UnionRenderers\"},{\"attributes\":{\"tools\":[{\"id\":\"1333\"},{\"id\":\"1350\"},{\"id\":\"1351\"},{\"id\":\"1352\"},{\"id\":\"1353\"},{\"id\":\"1354\"}]},\"id\":\"1356\",\"type\":\"Toolbar\"},{\"attributes\":{\"source\":{\"id\":\"1364\"}},\"id\":\"1371\",\"type\":\"CDSView\"},{\"attributes\":{\"bottom\":{\"value\":0},\"fill_alpha\":{\"value\":1.0},\"fill_color\":{\"field\":\"Type\",\"transform\":{\"id\":\"1363\"}},\"hatch_alpha\":{\"value\":1.0},\"hatch_color\":{\"field\":\"Type\",\"transform\":{\"id\":\"1363\"}},\"hatch_scale\":{\"value\":12.0},\"hatch_weight\":{\"value\":1.0},\"line_alpha\":{\"value\":1.0},\"line_cap\":{\"value\":\"butt\"},\"line_color\":{\"value\":\"black\"},\"line_dash\":{\"value\":[]},\"line_dash_offset\":{\"value\":0},\"line_join\":{\"value\":\"bevel\"},\"line_width\":{\"value\":1},\"top\":{\"field\":\"Open_Int\"},\"width\":{\"value\":0.8},\"x\":{\"field\":\"xoffsets\"}},\"id\":\"1372\",\"type\":\"VBar\"},{\"attributes\":{\"axis\":{\"id\":\"1343\"},\"coordinates\":null,\"grid_line_color\":null,\"group\":null,\"ticker\":null},\"id\":\"1345\",\"type\":\"Grid\"}],\"root_ids\":[\"1329\"]},\"title\":\"Bokeh Application\",\"version\":\"2.4.3\"}};\n",
       "    var render_items = [{\"docid\":\"4699f941-e0e6-4289-ae64-7b178933aff3\",\"root_ids\":[\"1329\"],\"roots\":{\"1329\":\"c86db11e-b4d5-4230-a331-5c3d97d86508\"}}];\n",
       "    root.Bokeh.embed.embed_items_notebook(docs_json, render_items);\n",
       "  }\n",
       "  if (root.Bokeh !== undefined && root.Bokeh.Panel !== undefined) {\n",
       "    embed_document(root);\n",
       "  } else {\n",
       "    var attempts = 0;\n",
       "    var timer = setInterval(function(root) {\n",
       "      if (root.Bokeh !== undefined && root.Bokeh.Panel !== undefined) {\n",
       "        clearInterval(timer);\n",
       "        embed_document(root);\n",
       "      } else if (document.readyState == \"complete\") {\n",
       "        attempts++;\n",
       "        if (attempts > 200) {\n",
       "          clearInterval(timer);\n",
       "          console.log(\"Bokeh: ERROR: Unable to run BokehJS code because BokehJS library is missing\");\n",
       "        }\n",
       "      }\n",
       "    }, 25, root)\n",
       "  }\n",
       "})(window);</script>"
      ],
      "text/plain": [
       ":Bars   [Symbol,Type]   (Open Int)"
      ]
     },
     "execution_count": 12,
     "metadata": {
      "application/vnd.holoviews_exec.v0+json": {
       "id": "1329"
      }
     },
     "output_type": "execute_result"
    }
   ],
   "source": [
    "# Calling largest_25_OI\n",
    "largest_25_OI(df)"
   ]
  },
  {
   "cell_type": "code",
   "execution_count": 13,
   "metadata": {},
   "outputs": [
    {
     "data": {},
     "metadata": {},
     "output_type": "display_data"
    },
    {
     "data": {
      "application/vnd.holoviews_exec.v0+json": "",
      "text/html": [
       "<div id='1438'>\n",
       "  <div class=\"bk-root\" id=\"928d3f0d-ddaa-45ae-92b5-f04588470d37\" data-root-id=\"1438\"></div>\n",
       "</div>\n",
       "<script type=\"application/javascript\">(function(root) {\n",
       "  function embed_document(root) {\n",
       "    var docs_json = {\"1e8544c1-48c3-4b4e-a21b-eabf96292f2b\":{\"defs\":[{\"extends\":null,\"module\":null,\"name\":\"ReactiveHTML1\",\"overrides\":[],\"properties\":[]},{\"extends\":null,\"module\":null,\"name\":\"FlexBox1\",\"overrides\":[],\"properties\":[{\"default\":\"flex-start\",\"kind\":null,\"name\":\"align_content\"},{\"default\":\"flex-start\",\"kind\":null,\"name\":\"align_items\"},{\"default\":\"row\",\"kind\":null,\"name\":\"flex_direction\"},{\"default\":\"wrap\",\"kind\":null,\"name\":\"flex_wrap\"},{\"default\":\"flex-start\",\"kind\":null,\"name\":\"justify_content\"}]},{\"extends\":null,\"module\":null,\"name\":\"GridStack1\",\"overrides\":[],\"properties\":[{\"default\":\"warn\",\"kind\":null,\"name\":\"mode\"},{\"default\":null,\"kind\":null,\"name\":\"ncols\"},{\"default\":null,\"kind\":null,\"name\":\"nrows\"},{\"default\":true,\"kind\":null,\"name\":\"allow_resize\"},{\"default\":true,\"kind\":null,\"name\":\"allow_drag\"},{\"default\":[],\"kind\":null,\"name\":\"state\"}]},{\"extends\":null,\"module\":null,\"name\":\"click1\",\"overrides\":[],\"properties\":[{\"default\":\"\",\"kind\":null,\"name\":\"terminal_output\"},{\"default\":\"\",\"kind\":null,\"name\":\"debug_name\"},{\"default\":0,\"kind\":null,\"name\":\"clears\"}]},{\"extends\":null,\"module\":null,\"name\":\"NotificationAreaBase1\",\"overrides\":[],\"properties\":[{\"default\":\"bottom-right\",\"kind\":null,\"name\":\"position\"},{\"default\":0,\"kind\":null,\"name\":\"_clear\"}]},{\"extends\":null,\"module\":null,\"name\":\"NotificationArea1\",\"overrides\":[],\"properties\":[{\"default\":[],\"kind\":null,\"name\":\"notifications\"},{\"default\":\"bottom-right\",\"kind\":null,\"name\":\"position\"},{\"default\":0,\"kind\":null,\"name\":\"_clear\"},{\"default\":[{\"background\":\"#ffc107\",\"icon\":{\"className\":\"fas fa-exclamation-triangle\",\"color\":\"white\",\"tagName\":\"i\"},\"type\":\"warning\"},{\"background\":\"#007bff\",\"icon\":{\"className\":\"fas fa-info-circle\",\"color\":\"white\",\"tagName\":\"i\"},\"type\":\"info\"}],\"kind\":null,\"name\":\"types\"}]},{\"extends\":null,\"module\":null,\"name\":\"Notification\",\"overrides\":[],\"properties\":[{\"default\":null,\"kind\":null,\"name\":\"background\"},{\"default\":3000,\"kind\":null,\"name\":\"duration\"},{\"default\":null,\"kind\":null,\"name\":\"icon\"},{\"default\":\"\",\"kind\":null,\"name\":\"message\"},{\"default\":null,\"kind\":null,\"name\":\"notification_type\"},{\"default\":false,\"kind\":null,\"name\":\"_destroyed\"}]},{\"extends\":null,\"module\":null,\"name\":\"TemplateActions1\",\"overrides\":[],\"properties\":[{\"default\":0,\"kind\":null,\"name\":\"open_modal\"},{\"default\":0,\"kind\":null,\"name\":\"close_modal\"}]},{\"extends\":null,\"module\":null,\"name\":\"MaterialTemplateActions1\",\"overrides\":[],\"properties\":[{\"default\":0,\"kind\":null,\"name\":\"open_modal\"},{\"default\":0,\"kind\":null,\"name\":\"close_modal\"}]}],\"roots\":{\"references\":[{\"attributes\":{\"axis\":{\"id\":\"1455\"},\"coordinates\":null,\"dimension\":1,\"grid_line_color\":null,\"group\":null,\"ticker\":null},\"id\":\"1458\",\"type\":\"Grid\"},{\"attributes\":{\"data\":{\"Open_Int\":{\"__ndarray__\":\"AAAAAIC11EAAAAAAALPnQAAAAAAAgJhAAAAAAABS0UAAAAAAACikQAAAAADAj+dAAAAAAABzukAAAAAAgInbQAAAAAAAzrZAAAAAAACd9kAAAAAAQDHdQAAAAADAbtpAAAAAAECz9EAAAAAAAPyqQAAAAADAAtFAAAAAAAAdtkAAAAAAAGqxQAAAAADAfeRAAAAAAAA8ukAAAAAAgHbGQAAAAAAAuLlAAAAAAACUuUAAAAAAACG8QAAAAACAwMxAAAAAAABLw0AAAAAAAFyiQAAAAADAmd5AAAAAAABYtUAAAAAAAISxQAAAAAAA8sNAAAAAAACutkAAAAAAQOLQQAAAAAAAubdAAAAAAIDq1EAAAAAAgFfWQAAAAABAP9tAAAAAAMB43UAAAAAAAIauQAAAAAAACsBAAAAAAABJtEAAAAAAADrgQAAAAACApcpAAAAAAEDb10AAAAAAwC7ZQAAAAACA0ttAAAAAAAA2skAAAAAAAAq1QAAAAAAAqrtAAAAAAABIgUAAAAAAgOzAQAAAAAAA/cRAAAAAAMBu10AAAAAAgI3SQAAAAABANftAAAAAAIAj1EAAAAAAwKbZQAAAAADAFdVAAAAAAACnvkAAAAAAAEyRQAAAAAAA3bdAAAAAAACqyEAAAAAAAJChQAAAAAAAWrlAAAAAAADWwkAAAAAAgOzDQAAAAACAIs1AAAAAAIBswUAAAAAAAP+yQAAAAAAAlKRAAAAAAABAsEAAAAAAgEDCQAAAAAAAWKpAAAAAAAACrEAAAAAAQJrUQAAAAAAA5LBAAAAAAAAZt0AAAAAAABynQAAAAAAAIINAAAAAAADQnkAAAAAAAMC5QAAAAAAAUKBAAAAAAADkmEAAAAAAAHy5QAAAAACAbcxAAAAAAADkqUAAAAAAAAypQAAAAAAAiMdAAAAAAEDu0EAAAAAAAMarQAAAAADAktJAAAAAAADsskAAAAAAACiOQAAAAAAA7rNAAAAAAAA1ukAAAAAAoE7hQAAAAADAs+RAAAAAAADojEAAAAAAAPynQAAAAACAVsZAAAAAAED/1EAAAAAAAO/lQAAAAAAAPM9AAAAAAABvvUAAAAAAADXLQAAAAAAAaLpAAAAAAADIn0AAAAAAAESXQAAAAACADMNAAAAAAADqpkAAAAAAANqiQAAAAAAAyqpAAAAAAACTukAAAAAAAOilQAAAAAAAl8ZAAAAAAADyqUAAAAAAAOmyQAAAAADAUuRAAAAAAAAKvUAAAAAAgHDOQAAAAAAAR9VAAAAAAICLwUAAAAAAAMuyQAAAAADAOddAAAAAAADHu0AAAAAAAGvQQAAAAABA19dAAAAAAIBfzkAAAAAAAJ6qQAAAAACAE9BAAAAAAADBu0AAAAAAAE3DQAAAAABA/dJAAAAAAAC3wEAAAAAAoBzjQAAAAAAAX+BAAAAAAADiu0AAAAAAAHyhQAAAAAAA/tZAAAAAAACapEA=\",\"dtype\":\"float64\",\"order\":\"little\",\"shape\":[139]},\"Strike\":[\"140\",\"150\",\"150\",\"152.5\",\"152.5\",\"155\",\"155\",\"157.5\",\"157.5\",\"160\",\"160\",\"120\",\"120\",\"121\",\"125\",\"128\",\"129\",\"130\",\"131\",\"132\",\"132.5\",\"133\",\"134\",\"136\",\"7\",\"7\",\"8\",\"8\",\"8.5\",\"9\",\"9.5\",\"10\",\"10.5\",\"25\",\"30\",\"30\",\"30\",\"32\",\"32\",\"32\",\"33\",\"33\",\"18\",\"18\",\"18.5\",\"18.5\",\"19\",\"19\",\"19.5\",\"19.5\",\"17.5\",\"20\",\"20\",\"15\",\"38\",\"40\",\"40\",\"41\",\"41.5\",\"41.5\",\"115\",\"119\",\"162.5\",\"21\",\"22\",\"22.5\",\"23\",\"23.5\",\"66\",\"67\",\"67.5\",\"68\",\"69\",\"70\",\"71\",\"72\",\"27.5\",\"28.5\",\"30.5\",\"31\",\"31\",\"31.5\",\"31.5\",\"87.5\",\"88\",\"89\",\"90\",\"90\",\"91\",\"92.5\",\"92.5\",\"93\",\"95\",\"11.5\",\"12\",\"6\",\"6.5\",\"7.5\",\"233.33\",\"260\",\"266.67\",\"270\",\"280\",\"283.33\",\"285\",\"288.33\",\"289.17\",\"290\",\"290.83\",\"291.67\",\"292.5\",\"293.33\",\"294.17\",\"295\",\"295.83\",\"298.33\",\"300\",\"301.67\",\"303.33\",\"305\",\"306.67\",\"308.33\",\"310\",\"311.67\",\"315\",\"316.67\",\"320\",\"321.67\",\"325\",\"326.67\",\"330\",\"42\",\"42.5\",\"43\",\"32.5\",\"33.5\",\"97\",\"100\",\"101\"],\"Symbol\":[\"AAPL\",\"AAPL\",\"META\",\"AAPL\",\"META\",\"AAPL\",\"META\",\"AAPL\",\"META\",\"AAPL\",\"META\",\"JPM\",\"AMZN\",\"AMZN\",\"AMZN\",\"AMZN\",\"AMZN\",\"AMZN\",\"AMZN\",\"AMZN\",\"AMZN\",\"AMZN\",\"AMZN\",\"AMZN\",\"SWN\",\"BBBY\",\"SWN\",\"BBBY\",\"BBBY\",\"BBBY\",\"BBBY\",\"BBBY\",\"BBBY\",\"CCJ\",\"UBER\",\"PLUG\",\"CCJ\",\"PLUG\",\"UBER\",\"CCJ\",\"CCJ\",\"UBER\",\"CHPT\",\"DKNG\",\"CHPT\",\"DKNG\",\"CHPT\",\"DKNG\",\"CHPT\",\"DKNG\",\"DKNG\",\"DKNG\",\"NIO\",\"F\",\"GM\",\"TWTR\",\"GM\",\"GM\",\"GM\",\"TWTR\",\"JPM\",\"JPM\",\"META\",\"NIO\",\"NIO\",\"NIO\",\"NIO\",\"NIO\",\"OXY\",\"OXY\",\"OXY\",\"OXY\",\"OXY\",\"OXY\",\"OXY\",\"OXY\",\"PLUG\",\"PLUG\",\"PLUG\",\"UBER\",\"PLUG\",\"PLUG\",\"UBER\",\"SBUX\",\"SBUX\",\"SBUX\",\"XOM\",\"SBUX\",\"SBUX\",\"XOM\",\"SBUX\",\"SBUX\",\"SBUX\",\"SNAP\",\"SNAP\",\"SWN\",\"SWN\",\"SWN\",\"TSLA\",\"TSLA\",\"TSLA\",\"TSLA\",\"TSLA\",\"TSLA\",\"TSLA\",\"TSLA\",\"TSLA\",\"TSLA\",\"TSLA\",\"TSLA\",\"TSLA\",\"TSLA\",\"TSLA\",\"TSLA\",\"TSLA\",\"TSLA\",\"TSLA\",\"TSLA\",\"TSLA\",\"TSLA\",\"TSLA\",\"TSLA\",\"TSLA\",\"TSLA\",\"TSLA\",\"TSLA\",\"TSLA\",\"TSLA\",\"TSLA\",\"TSLA\",\"TSLA\",\"TWTR\",\"TWTR\",\"TWTR\",\"UBER\",\"UBER\",\"XOM\",\"XOM\",\"XOM\"],\"bottom\":{\"__ndarray__\":\"AAAAAAAAAAAAAAAAgLXUQAAAAAAAAAAAAAAAAOAG8UAAAAAAAICYQAAAAABgW/VAAAAAAAA0sEAAAAAAoJEAQQAAAACAU8VAAAAAANACBEEAAAAAQF3QQAAAAAAAAAAAAAAAAAAAAAAAAAAAQLP0QAAAAAAgi/VAAAAAANDL+UAAAAAAoC37QAAAAABARPxAAAAAAJBBA0EAAAAAcBMEQQAAAADYegVBAAAAAJhIBkEAAAAAOBUHQQAAAABA9gdBAAAAAAAAAAAAAAAAAAAAAAAAAAAAS8NAAAAAAABcokAAAAAAAIa+QAAAAAAABchAAAAAAID71UAAAAAAAKfbQAAAAACgROZAAAAAAAAAAAAAAAAAAAAAAAAAAAAAAAAAAAAAAIDq1EAAAAAAQD/bQAAAAACAV9ZAAAAAAKAx6UAAAAAAwLrrQAAAAACAXN5AAAAAAAAAAAAAAAAAAAAAAAAAAABA29dAAAAAAMAu2UAAAAAA4NbpQAAAAABAvN1AAAAAACB47EAAAAAAYFPiQAAAAACAjuZAAAAAAMDN60AAAAAAAAAAAAAAAAAAAAAAAAAAAAAAAAAAAAAAAAAAAAAAAACAI9RAAAAAAKCc5EAAAAAAgHHoQAAAAADAptlAAAAAAMBu2kAAAAAA4GHjQAAAAABAx+ZAAAAAAICN0kAAAAAAgPjbQAAAAABg9+JAAAAAAABA6kAAAAAAIJvuQAAAAAAAAAAAAAAAAACUpEAAAAAAAIq6QAAAAACAhc9AAAAAAMAN00AAAAAAAI7WQAAAAAAglOVAAAAAAKCw50AAAAAAABDfQAAAAADA+eBAAAAAAEBG4UAAAAAAoNflQAAAAADAPOJAAAAAAMBB40AAAAAAoA/pQAAAAAAAAAAAAAAAAIBtzEAAAAAAQHPRQAAAAAAAAAAAAAAAAMCU1EAAAAAAgMHiQAAAAAAAiMdAAAAAAOB95EAAAAAAYNvmQAAAAAAAVOdAAAAAAAAAAAAAAAAAADW6QAAAAACgH+RAAAAAALBp9EAAAAAAgKP0QAAAAAAAAAAAAAAAAIBWxkAAAAAAQBXgQAAAAAAgAvNAAAAAAKDp9kAAAAAAkMD4QAAAAAAwJ/xAAAAAALDN/UAAAAAA0Ez+QAAAAADgqf5AAAAAALiFAEEAAAAAYOEAQQAAAADILAFBAAAAAPCXAUEAAAAAiGwCQQAAAAAoxAJBAAAAAJgtBEEAAAAAYJUEQQAAAACoLAVBAAAAAFhBCkEAAAAAqCkLQQAAAACwEA1BAAAAAJC5D0EAAAAAJGkQQQAAAABQtBBBAAAAAOwnEkEAAAAACJcSQQAAAAC4nRNBAAAAACwbFUEAAAAAKA4WQQAAAABkQxZBAAAAAJxEF0EAAAAAoLMXQQAAAAAAnt9AAAAAAKBN6UAAAAAAYHvtQAAAAAAgP+xAAAAAABBP9kAAAAAAwFbeQAAAAAAgQ+BAAAAAACDC60A=\",\"dtype\":\"float64\",\"order\":\"little\",\"shape\":[139]},\"top\":{\"__ndarray__\":\"AAAAAIC11EAAAAAA4AbxQAAAAAAAgJhAAAAAAGBb9UAAAAAAADSwQAAAAACgkQBBAAAAAIBTxUAAAAAA0AIEQQAAAABAXdBAAAAAAFBRD0EAAAAAQMfmQAAAAADAbtpAAAAAAECz9EAAAAAAIIv1QAAAAADQy/lAAAAAAKAt+0AAAAAAQET8QAAAAACQQQNBAAAAAHATBEEAAAAA2HoFQQAAAACYSAZBAAAAADgVB0EAAAAAQPYHQQAAAABIwglBAAAAAABLw0AAAAAAAFyiQAAAAACgH+RAAAAAAACGvkAAAAAAAAXIQAAAAACA+9VAAAAAAACn20AAAAAAoETmQAAAAADAO+lAAAAAAIDq1EAAAAAAgFfWQAAAAABAP9tAAAAAAKAx6UAAAAAAABDfQAAAAACAXN5AAAAAAMC660AAAAAAYPr1QAAAAACg1+VAAAAAAEDb10AAAAAAwC7ZQAAAAADg1ulAAAAAAEC83UAAAAAAIHjsQAAAAABgU+JAAAAAAEC97EAAAAAAgI7mQAAAAADAzetAAAAAAJDC80AAAAAAgI3SQAAAAABANftAAAAAAIAj1EAAAAAAwKbZQAAAAACgnORAAAAAAIBx6EAAAAAA4PvoQAAAAAAAnt9AAAAAAOBh40AAAAAA4HrkQAAAAACA8ulAAAAAAID420AAAAAAYPfiQAAAAAAAQOpAAAAAACCb7kAAAAAAgH3wQAAAAAAAlKRAAAAAAACKukAAAAAAgIXPQAAAAADADdNAAAAAAACO1kAAAAAAIJTlQAAAAACgsOdAAAAAAMCT6kAAAAAAwPngQAAAAABARuFAAAAAAMA84kAAAAAAoA/pQAAAAADAQeNAAAAAAOAI5EAAAAAAID/sQAAAAACAbcxAAAAAAEBz0UAAAAAAwJTUQAAAAAAAiMdAAAAAAIDB4kAAAAAA4H3kQAAAAADAVt5AAAAAAGDb5kAAAAAAAFTnQAAAAADA0elAAAAAAAA1ukAAAAAAQJXkQAAAAACwafRAAAAAAICj9EAAAAAAYGP1QAAAAACAVsZAAAAAAEAV4EAAAAAAIALzQAAAAACg6fZAAAAAAJDA+EAAAAAAMCf8QAAAAACwzf1AAAAAANBM/kAAAAAA4Kn+QAAAAAC4hQBBAAAAAGDhAEEAAAAAyCwBQQAAAADwlwFBAAAAAIhsAkEAAAAAKMQCQQAAAACYLQRBAAAAAGCVBEEAAAAAqCwFQQAAAABYQQpBAAAAAKgpC0EAAAAAsBANQQAAAACQuQ9BAAAAACRpEEEAAAAAULQQQQAAAADsJxJBAAAAAAiXEkEAAAAAuJ0TQQAAAAAsGxVBAAAAACgOFkEAAAAAZEMWQQAAAACcRBdBAAAAAKCzF0EAAAAACE4YQQAAAACgTelAAAAAAGB77UAAAAAAAEz4QAAAAAAQT/ZAAAAAADAN+EAAAAAAIEPgQAAAAAAgwutAAAAAAMAL7UA=\",\"dtype\":\"float64\",\"order\":\"little\",\"shape\":[139]}},\"selected\":{\"id\":\"1474\"},\"selection_policy\":{\"id\":\"1497\"}},\"id\":\"1473\",\"type\":\"ColumnDataSource\"},{\"attributes\":{\"children\":[{\"id\":\"1439\"},{\"id\":\"1443\"},{\"id\":\"1500\"}],\"margin\":[0,0,0,0],\"name\":\"Row01970\",\"tags\":[\"embedded\"]},\"id\":\"1438\",\"type\":\"Row\"},{\"attributes\":{\"coordinates\":null,\"group\":null,\"text\":\"Call\",\"text_color\":\"black\",\"text_font_size\":\"12pt\"},\"id\":\"1444\",\"type\":\"Title\"},{\"attributes\":{},\"id\":\"1497\",\"type\":\"UnionRenderers\"},{\"attributes\":{\"source\":{\"id\":\"1473\"}},\"id\":\"1480\",\"type\":\"CDSView\"},{\"attributes\":{\"format\":\"%.0f\"},\"id\":\"1482\",\"type\":\"PrintfTickFormatter\"},{\"attributes\":{\"bottom\":{\"field\":\"bottom\"},\"fill_color\":{\"field\":\"Strike\",\"transform\":{\"id\":\"1472\"}},\"hatch_color\":{\"field\":\"Strike\",\"transform\":{\"id\":\"1472\"}},\"top\":{\"field\":\"top\"},\"width\":{\"value\":0.8},\"x\":{\"field\":\"Symbol\"}},\"id\":\"1476\",\"type\":\"VBar\"},{\"attributes\":{\"axis\":{\"id\":\"1452\"},\"coordinates\":null,\"grid_line_color\":null,\"group\":null,\"ticker\":null},\"id\":\"1454\",\"type\":\"Grid\"},{\"attributes\":{},\"id\":\"1474\",\"type\":\"Selection\"},{\"attributes\":{\"bottom\":{\"field\":\"bottom\"},\"fill_alpha\":{\"value\":0.2},\"fill_color\":{\"field\":\"Strike\",\"transform\":{\"id\":\"1472\"}},\"hatch_alpha\":{\"value\":0.2},\"hatch_color\":{\"field\":\"Strike\",\"transform\":{\"id\":\"1472\"}},\"line_alpha\":{\"value\":0.2},\"top\":{\"field\":\"top\"},\"width\":{\"value\":0.8},\"x\":{\"field\":\"Symbol\"}},\"id\":\"1478\",\"type\":\"VBar\"},{\"attributes\":{\"factors\":[\"140\",\"150\",\"152.5\",\"155\",\"157.5\",\"160\",\"120\",\"121\",\"125\",\"128\",\"129\",\"130\",\"131\",\"132\",\"132.5\",\"133\",\"134\",\"136\",\"7\",\"8\",\"8.5\",\"9\",\"9.5\",\"10\",\"10.5\",\"25\",\"30\",\"32\",\"33\",\"18\",\"18.5\",\"19\",\"19.5\",\"17.5\",\"20\",\"15\",\"38\",\"40\",\"41\",\"41.5\",\"115\",\"119\",\"162.5\",\"21\",\"22\",\"22.5\",\"23\",\"23.5\",\"66\",\"67\",\"67.5\",\"68\",\"69\",\"70\",\"71\",\"72\",\"27.5\",\"28.5\",\"30.5\",\"31\",\"31.5\",\"87.5\",\"88\",\"89\",\"90\",\"91\",\"92.5\",\"93\",\"95\",\"11.5\",\"12\",\"6\",\"6.5\",\"7.5\",\"233.33\",\"260\",\"266.67\",\"270\",\"280\",\"283.33\",\"285\",\"288.33\",\"289.17\",\"290\",\"290.83\",\"291.67\",\"292.5\",\"293.33\",\"294.17\",\"295\",\"295.83\",\"298.33\",\"300\",\"301.67\",\"303.33\",\"305\",\"306.67\",\"308.33\",\"310\",\"311.67\",\"315\",\"316.67\",\"320\",\"321.67\",\"325\",\"326.67\",\"330\",\"42\",\"42.5\",\"43\",\"32.5\",\"33.5\",\"97\",\"100\",\"101\"],\"palette\":[\"#259646\",\"#259646\",\"#259646\",\"#259646\",\"#259646\",\"#259646\",\"#259646\",\"#259646\",\"#259646\",\"#259646\",\"#259646\",\"#259646\",\"#259646\",\"#259646\",\"#259646\",\"#259646\",\"#259646\",\"#259646\",\"#259646\",\"#259646\",\"#259646\",\"#259646\",\"#259646\",\"#259646\",\"#259646\",\"#259646\",\"#259646\",\"#259646\",\"#259646\",\"#259646\",\"#259646\",\"#259646\",\"#259646\",\"#259646\",\"#259646\",\"#259646\",\"#259646\",\"#259646\",\"#259646\",\"#259646\",\"#259646\",\"#259646\",\"#259646\",\"#259646\",\"#259646\",\"#259646\",\"#259646\",\"#259646\",\"#259646\",\"#259646\",\"#259646\",\"#259646\",\"#259646\",\"#259646\",\"#259646\",\"#259646\",\"#259646\",\"#259646\",\"#259646\",\"#259646\",\"#259646\",\"#259646\",\"#259646\",\"#259646\",\"#259646\",\"#259646\",\"#259646\",\"#259646\",\"#259646\",\"#259646\",\"#259646\",\"#259646\",\"#259646\",\"#259646\",\"#259646\",\"#259646\",\"#259646\",\"#259646\",\"#259646\",\"#259646\",\"#259646\",\"#259646\",\"#259646\",\"#259646\",\"#259646\",\"#259646\",\"#259646\",\"#259646\",\"#259646\",\"#259646\",\"#259646\",\"#259646\",\"#259646\",\"#259646\",\"#259646\",\"#259646\",\"#259646\",\"#259646\",\"#259646\",\"#259646\",\"#259646\",\"#259646\",\"#259646\",\"#259646\",\"#259646\",\"#259646\",\"#259646\",\"#259646\",\"#259646\",\"#259646\",\"#259646\",\"#259646\",\"#259646\",\"#259646\",\"#259646\"]},\"id\":\"1472\",\"type\":\"CategoricalColorMapper\"},{\"attributes\":{\"margin\":[5,5,5,5],\"name\":\"HSpacer01975\",\"sizing_mode\":\"stretch_width\"},\"id\":\"1500\",\"type\":\"Spacer\"},{\"attributes\":{},\"id\":\"1450\",\"type\":\"LinearScale\"},{\"attributes\":{\"overlay\":{\"id\":\"1464\"}},\"id\":\"1462\",\"type\":\"BoxZoomTool\"},{\"attributes\":{},\"id\":\"1456\",\"type\":\"BasicTicker\"},{\"attributes\":{},\"id\":\"1485\",\"type\":\"AllLabels\"},{\"attributes\":{\"callback\":null,\"renderers\":[{\"id\":\"1479\"}],\"tags\":[\"hv_created\"],\"tooltips\":[[\"Symbol\",\"@{Symbol}\"],[\"Strike\",\"@{Strike}\"],[\"Open Int\",\"@{Open_Int}\"]]},\"id\":\"1442\",\"type\":\"HoverTool\"},{\"attributes\":{},\"id\":\"1463\",\"type\":\"ResetTool\"},{\"attributes\":{\"axis_label\":\"Open Int\",\"coordinates\":null,\"formatter\":{\"id\":\"1482\"},\"group\":null,\"major_label_policy\":{\"id\":\"1488\"},\"ticker\":{\"id\":\"1456\"}},\"id\":\"1455\",\"type\":\"LinearAxis\"},{\"attributes\":{},\"id\":\"1459\",\"type\":\"SaveTool\"},{\"attributes\":{\"bottom_units\":\"screen\",\"coordinates\":null,\"fill_alpha\":0.5,\"fill_color\":\"lightgrey\",\"group\":null,\"left_units\":\"screen\",\"level\":\"overlay\",\"line_alpha\":1.0,\"line_color\":\"black\",\"line_dash\":[4,4],\"line_width\":2,\"right_units\":\"screen\",\"syncable\":false,\"top_units\":\"screen\"},\"id\":\"1464\",\"type\":\"BoxAnnotation\"},{\"attributes\":{\"margin\":[5,5,5,5],\"name\":\"HSpacer01974\",\"sizing_mode\":\"stretch_width\"},\"id\":\"1439\",\"type\":\"Spacer\"},{\"attributes\":{\"end\":433927.9,\"reset_end\":433927.9,\"reset_start\":0.0,\"tags\":[[[\"Open Int\",\"Open Int\",null]]]},\"id\":\"1441\",\"type\":\"Range1d\"},{\"attributes\":{},\"id\":\"1488\",\"type\":\"AllLabels\"},{\"attributes\":{},\"id\":\"1453\",\"type\":\"CategoricalTicker\"},{\"attributes\":{\"tools\":[{\"id\":\"1442\"},{\"id\":\"1459\"},{\"id\":\"1460\"},{\"id\":\"1461\"},{\"id\":\"1462\"},{\"id\":\"1463\"}]},\"id\":\"1465\",\"type\":\"Toolbar\"},{\"attributes\":{},\"id\":\"1484\",\"type\":\"CategoricalTickFormatter\"},{\"attributes\":{\"factors\":[\"AAPL\",\"AMZN\",\"BBBY\",\"CCJ\",\"CHPT\",\"DKNG\",\"F\",\"GM\",\"JPM\",\"META\",\"NIO\",\"OXY\",\"PLUG\",\"SBUX\",\"SNAP\",\"SWN\",\"TSLA\",\"TWTR\",\"UBER\",\"XOM\"],\"tags\":[[[\"Symbol\",\"Symbol\",null]]]},\"id\":\"1440\",\"type\":\"FactorRange\"},{\"attributes\":{\"bottom\":{\"field\":\"bottom\"},\"fill_alpha\":{\"value\":1.0},\"fill_color\":{\"field\":\"Strike\",\"transform\":{\"id\":\"1472\"}},\"hatch_alpha\":{\"value\":1.0},\"hatch_color\":{\"field\":\"Strike\",\"transform\":{\"id\":\"1472\"}},\"hatch_scale\":{\"value\":12.0},\"hatch_weight\":{\"value\":1.0},\"line_alpha\":{\"value\":1.0},\"line_cap\":{\"value\":\"butt\"},\"line_color\":{\"value\":\"black\"},\"line_dash\":{\"value\":[]},\"line_dash_offset\":{\"value\":0},\"line_join\":{\"value\":\"bevel\"},\"line_width\":{\"value\":1},\"top\":{\"field\":\"top\"},\"width\":{\"value\":0.8},\"x\":{\"field\":\"Symbol\"}},\"id\":\"1481\",\"type\":\"VBar\"},{\"attributes\":{\"below\":[{\"id\":\"1452\"}],\"center\":[{\"id\":\"1454\"},{\"id\":\"1458\"}],\"height\":800,\"left\":[{\"id\":\"1455\"}],\"margin\":[5,5,5,5],\"min_border_bottom\":10,\"min_border_left\":10,\"min_border_right\":10,\"min_border_top\":10,\"renderers\":[{\"id\":\"1479\"}],\"sizing_mode\":\"fixed\",\"title\":{\"id\":\"1444\"},\"toolbar\":{\"id\":\"1465\"},\"width\":1000,\"x_range\":{\"id\":\"1440\"},\"x_scale\":{\"id\":\"1448\"},\"y_range\":{\"id\":\"1441\"},\"y_scale\":{\"id\":\"1450\"}},\"id\":\"1443\",\"subtype\":\"Figure\",\"type\":\"Plot\"},{\"attributes\":{},\"id\":\"1448\",\"type\":\"CategoricalScale\"},{\"attributes\":{},\"id\":\"1461\",\"type\":\"WheelZoomTool\"},{\"attributes\":{\"axis_label\":\"Symbol\",\"coordinates\":null,\"formatter\":{\"id\":\"1484\"},\"group\":null,\"major_label_orientation\":1.5707963267948966,\"major_label_policy\":{\"id\":\"1485\"},\"ticker\":{\"id\":\"1453\"}},\"id\":\"1452\",\"type\":\"CategoricalAxis\"},{\"attributes\":{\"coordinates\":null,\"data_source\":{\"id\":\"1473\"},\"glyph\":{\"id\":\"1476\"},\"group\":null,\"hover_glyph\":null,\"muted_glyph\":{\"id\":\"1478\"},\"nonselection_glyph\":{\"id\":\"1477\"},\"selection_glyph\":{\"id\":\"1481\"},\"view\":{\"id\":\"1480\"}},\"id\":\"1479\",\"type\":\"GlyphRenderer\"},{\"attributes\":{},\"id\":\"1460\",\"type\":\"PanTool\"},{\"attributes\":{\"bottom\":{\"field\":\"bottom\"},\"fill_alpha\":{\"value\":0.1},\"fill_color\":{\"field\":\"Strike\",\"transform\":{\"id\":\"1472\"}},\"hatch_alpha\":{\"value\":0.1},\"hatch_color\":{\"field\":\"Strike\",\"transform\":{\"id\":\"1472\"}},\"line_alpha\":{\"value\":0.1},\"top\":{\"field\":\"top\"},\"width\":{\"value\":0.8},\"x\":{\"field\":\"Symbol\"}},\"id\":\"1477\",\"type\":\"VBar\"}],\"root_ids\":[\"1438\"]},\"title\":\"Bokeh Application\",\"version\":\"2.4.3\"}};\n",
       "    var render_items = [{\"docid\":\"1e8544c1-48c3-4b4e-a21b-eabf96292f2b\",\"root_ids\":[\"1438\"],\"roots\":{\"1438\":\"928d3f0d-ddaa-45ae-92b5-f04588470d37\"}}];\n",
       "    root.Bokeh.embed.embed_items_notebook(docs_json, render_items);\n",
       "  }\n",
       "  if (root.Bokeh !== undefined && root.Bokeh.Panel !== undefined) {\n",
       "    embed_document(root);\n",
       "  } else {\n",
       "    var attempts = 0;\n",
       "    var timer = setInterval(function(root) {\n",
       "      if (root.Bokeh !== undefined && root.Bokeh.Panel !== undefined) {\n",
       "        clearInterval(timer);\n",
       "        embed_document(root);\n",
       "      } else if (document.readyState == \"complete\") {\n",
       "        attempts++;\n",
       "        if (attempts > 200) {\n",
       "          clearInterval(timer);\n",
       "          console.log(\"Bokeh: ERROR: Unable to run BokehJS code because BokehJS library is missing\");\n",
       "        }\n",
       "      }\n",
       "    }, 25, root)\n",
       "  }\n",
       "})(window);</script>"
      ],
      "text/plain": [
       ":Bars   [Symbol,Strike]   (Open Int)"
      ]
     },
     "execution_count": 13,
     "metadata": {
      "application/vnd.holoviews_exec.v0+json": {
       "id": "1438"
      }
     },
     "output_type": "execute_result"
    }
   ],
   "source": [
    "# Calling options_call_bar\n",
    "options_call_bar(df)"
   ]
  },
  {
   "cell_type": "code",
   "execution_count": 14,
   "metadata": {},
   "outputs": [
    {
     "data": {},
     "metadata": {},
     "output_type": "display_data"
    },
    {
     "data": {
      "application/vnd.holoviews_exec.v0+json": "",
      "text/html": [
       "<div id='1547'>\n",
       "  <div class=\"bk-root\" id=\"72e71879-580d-427c-8a9f-a23d650120ff\" data-root-id=\"1547\"></div>\n",
       "</div>\n",
       "<script type=\"application/javascript\">(function(root) {\n",
       "  function embed_document(root) {\n",
       "    var docs_json = {\"2dd4208d-bc3c-4ed0-bb20-e729d4983e2d\":{\"defs\":[{\"extends\":null,\"module\":null,\"name\":\"ReactiveHTML1\",\"overrides\":[],\"properties\":[]},{\"extends\":null,\"module\":null,\"name\":\"FlexBox1\",\"overrides\":[],\"properties\":[{\"default\":\"flex-start\",\"kind\":null,\"name\":\"align_content\"},{\"default\":\"flex-start\",\"kind\":null,\"name\":\"align_items\"},{\"default\":\"row\",\"kind\":null,\"name\":\"flex_direction\"},{\"default\":\"wrap\",\"kind\":null,\"name\":\"flex_wrap\"},{\"default\":\"flex-start\",\"kind\":null,\"name\":\"justify_content\"}]},{\"extends\":null,\"module\":null,\"name\":\"GridStack1\",\"overrides\":[],\"properties\":[{\"default\":\"warn\",\"kind\":null,\"name\":\"mode\"},{\"default\":null,\"kind\":null,\"name\":\"ncols\"},{\"default\":null,\"kind\":null,\"name\":\"nrows\"},{\"default\":true,\"kind\":null,\"name\":\"allow_resize\"},{\"default\":true,\"kind\":null,\"name\":\"allow_drag\"},{\"default\":[],\"kind\":null,\"name\":\"state\"}]},{\"extends\":null,\"module\":null,\"name\":\"click1\",\"overrides\":[],\"properties\":[{\"default\":\"\",\"kind\":null,\"name\":\"terminal_output\"},{\"default\":\"\",\"kind\":null,\"name\":\"debug_name\"},{\"default\":0,\"kind\":null,\"name\":\"clears\"}]},{\"extends\":null,\"module\":null,\"name\":\"NotificationAreaBase1\",\"overrides\":[],\"properties\":[{\"default\":\"bottom-right\",\"kind\":null,\"name\":\"position\"},{\"default\":0,\"kind\":null,\"name\":\"_clear\"}]},{\"extends\":null,\"module\":null,\"name\":\"NotificationArea1\",\"overrides\":[],\"properties\":[{\"default\":[],\"kind\":null,\"name\":\"notifications\"},{\"default\":\"bottom-right\",\"kind\":null,\"name\":\"position\"},{\"default\":0,\"kind\":null,\"name\":\"_clear\"},{\"default\":[{\"background\":\"#ffc107\",\"icon\":{\"className\":\"fas fa-exclamation-triangle\",\"color\":\"white\",\"tagName\":\"i\"},\"type\":\"warning\"},{\"background\":\"#007bff\",\"icon\":{\"className\":\"fas fa-info-circle\",\"color\":\"white\",\"tagName\":\"i\"},\"type\":\"info\"}],\"kind\":null,\"name\":\"types\"}]},{\"extends\":null,\"module\":null,\"name\":\"Notification\",\"overrides\":[],\"properties\":[{\"default\":null,\"kind\":null,\"name\":\"background\"},{\"default\":3000,\"kind\":null,\"name\":\"duration\"},{\"default\":null,\"kind\":null,\"name\":\"icon\"},{\"default\":\"\",\"kind\":null,\"name\":\"message\"},{\"default\":null,\"kind\":null,\"name\":\"notification_type\"},{\"default\":false,\"kind\":null,\"name\":\"_destroyed\"}]},{\"extends\":null,\"module\":null,\"name\":\"TemplateActions1\",\"overrides\":[],\"properties\":[{\"default\":0,\"kind\":null,\"name\":\"open_modal\"},{\"default\":0,\"kind\":null,\"name\":\"close_modal\"}]},{\"extends\":null,\"module\":null,\"name\":\"MaterialTemplateActions1\",\"overrides\":[],\"properties\":[{\"default\":0,\"kind\":null,\"name\":\"open_modal\"},{\"default\":0,\"kind\":null,\"name\":\"close_modal\"}]}],\"roots\":{\"references\":[{\"attributes\":{},\"id\":\"1593\",\"type\":\"CategoricalTickFormatter\"},{\"attributes\":{\"data\":{\"Open_Int\":{\"__ndarray__\":\"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\",\"dtype\":\"float64\",\"order\":\"little\",\"shape\":[200]},\"Strike\":[\"147\",\"148\",\"149\",\"149\",\"150\",\"150\",\"150\",\"152.5\",\"152.5\",\"152.5\",\"155\",\"155\",\"157.5\",\"157.5\",\"160\",\"160\",\"162.5\",\"162.5\",\"165\",\"170\",\"172.5\",\"175\",\"180\",\"185\",\"72\",\"73\",\"74\",\"75\",\"76\",\"77\",\"80\",\"81\",\"82.5\",\"85\",\"100\",\"100\",\"105\",\"105\",\"119\",\"119\",\"119\",\"120\",\"120\",\"120\",\"120\",\"120\",\"123\",\"123\",\"124\",\"124\",\"125\",\"125\",\"125\",\"125\",\"125\",\"126\",\"126\",\"127\",\"127\",\"128\",\"128\",\"129\",\"129\",\"130\",\"130\",\"130\",\"131\",\"132\",\"132\",\"135\",\"135\",\"140\",\"140\",\"140\",\"145\",\"145\",\"151\",\"166.5\",\"86\",\"87\",\"88\",\"89\",\"90\",\"110\",\"110\",\"115\",\"115\",\"33\",\"33\",\"33.5\",\"34.5\",\"35\",\"8\",\"9\",\"10\",\"14.5\",\"15\",\"16\",\"102\",\"102\",\"115.5\",\"116\",\"116.5\",\"117\",\"117.5\",\"118\",\"118.5\",\"119.5\",\"120.5\",\"103.25\",\"103.75\",\"104\",\"104.25\",\"104.5\",\"104.75\",\"107\",\"122.5\",\"122.5\",\"127.5\",\"28.5\",\"29\",\"29.5\",\"30\",\"37.5\",\"190\",\"195\",\"200\",\"215\",\"215\",\"237.5\",\"242.5\",\"245\",\"247.5\",\"250\",\"250\",\"252.5\",\"255\",\"257.5\",\"260\",\"260\",\"265\",\"265\",\"280\",\"280\",\"205\",\"210\",\"212.5\",\"222.5\",\"225\",\"227.5\",\"232.5\",\"20.5\",\"21\",\"21.5\",\"22\",\"22.5\",\"23\",\"121\",\"133\",\"134\",\"136\",\"45\",\"47\",\"31\",\"32\",\"32.5\",\"17\",\"17.5\",\"18\",\"271.67\",\"273.33\",\"275\",\"276.67\",\"278.33\",\"281.67\",\"283.33\",\"285\",\"286.67\",\"288.33\",\"289.17\",\"290\",\"290.83\",\"291.67\",\"292.5\",\"293.33\",\"294.17\",\"295\",\"295.83\",\"296.67\",\"298.33\",\"300\",\"301.67\",\"303.33\",\"306.67\",\"310\",\"313.33\",\"315\",\"333.33\",\"341.67\",\"12.5\"],\"Symbol\":[\"AAPL\",\"AAPL\",\"AMZN\",\"AAPL\",\"AAPL\",\"META\",\"AMZN\",\"AAPL\",\"META\",\"AMZN\",\"AAPL\",\"META\",\"AAPL\",\"META\",\"AAPL\",\"META\",\"META\",\"AAPL\",\"AAPL\",\"AAPL\",\"AAPL\",\"AAPL\",\"AAPL\",\"AAPL\",\"AMD\",\"AMD\",\"AMD\",\"AMD\",\"AMD\",\"AMD\",\"AMD\",\"AMD\",\"AMD\",\"AMD\",\"AMD\",\"GOOGL\",\"GOOGL\",\"AMD\",\"GOOG\",\"NVDA\",\"AMZN\",\"GOOGL\",\"NVDA\",\"GOOG\",\"BABA\",\"AMZN\",\"AMZN\",\"GOOGL\",\"NVDA\",\"AMZN\",\"GOOGL\",\"AMZN\",\"BABA\",\"GOOG\",\"NVDA\",\"NVDA\",\"AMZN\",\"NVDA\",\"AMZN\",\"NVDA\",\"AMZN\",\"AMZN\",\"NVDA\",\"GOOG\",\"NVDA\",\"AMZN\",\"AMZN\",\"AMZN\",\"NVDA\",\"NVDA\",\"AMZN\",\"META\",\"NVDA\",\"AMZN\",\"AMZN\",\"META\",\"AMZN\",\"AMZN\",\"BABA\",\"BABA\",\"BABA\",\"BABA\",\"BABA\",\"BABA\",\"GOOG\",\"BABA\",\"GOOG\",\"BAC\",\"SHOP\",\"BAC\",\"BAC\",\"BAC\",\"BBBY\",\"BBBY\",\"BBBY\",\"F\",\"F\",\"F\",\"GOOG\",\"GOOGL\",\"GOOG\",\"GOOG\",\"GOOG\",\"GOOG\",\"GOOG\",\"GOOG\",\"GOOG\",\"GOOG\",\"GOOG\",\"GOOGL\",\"GOOGL\",\"GOOGL\",\"GOOGL\",\"GOOGL\",\"GOOGL\",\"GOOGL\",\"GOOGL\",\"NVDA\",\"GOOGL\",\"INTC\",\"INTC\",\"INTC\",\"INTC\",\"INTC\",\"META\",\"META\",\"META\",\"META\",\"NFLX\",\"MSFT\",\"MSFT\",\"MSFT\",\"MSFT\",\"MSFT\",\"NFLX\",\"MSFT\",\"MSFT\",\"MSFT\",\"MSFT\",\"TSLA\",\"TSLA\",\"MSFT\",\"TSLA\",\"MSFT\",\"NFLX\",\"NFLX\",\"NFLX\",\"NFLX\",\"NFLX\",\"NFLX\",\"NFLX\",\"NIO\",\"NIO\",\"NIO\",\"NIO\",\"NIO\",\"NIO\",\"NVDA\",\"NVDA\",\"NVDA\",\"NVDA\",\"PFE\",\"PFE\",\"SHOP\",\"SHOP\",\"SHOP\",\"T\",\"T\",\"T\",\"TSLA\",\"TSLA\",\"TSLA\",\"TSLA\",\"TSLA\",\"TSLA\",\"TSLA\",\"TSLA\",\"TSLA\",\"TSLA\",\"TSLA\",\"TSLA\",\"TSLA\",\"TSLA\",\"TSLA\",\"TSLA\",\"TSLA\",\"TSLA\",\"TSLA\",\"TSLA\",\"TSLA\",\"TSLA\",\"TSLA\",\"TSLA\",\"TSLA\",\"TSLA\",\"TSLA\",\"TSLA\",\"TSLA\",\"TSLA\",\"WBD\"],\"bottom\":{\"__ndarray__\":\"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\",\"dtype\":\"float64\",\"order\":\"little\",\"shape\":[200]},\"top\":{\"__ndarray__\":\"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\",\"dtype\":\"float64\",\"order\":\"little\",\"shape\":[200]}},\"selected\":{\"id\":\"1583\"},\"selection_policy\":{\"id\":\"1606\"}},\"id\":\"1582\",\"type\":\"ColumnDataSource\"},{\"attributes\":{\"bottom\":{\"field\":\"bottom\"},\"fill_alpha\":{\"value\":1.0},\"fill_color\":{\"field\":\"Strike\",\"transform\":{\"id\":\"1581\"}},\"hatch_alpha\":{\"value\":1.0},\"hatch_color\":{\"field\":\"Strike\",\"transform\":{\"id\":\"1581\"}},\"hatch_scale\":{\"value\":12.0},\"hatch_weight\":{\"value\":1.0},\"line_alpha\":{\"value\":1.0},\"line_cap\":{\"value\":\"butt\"},\"line_color\":{\"value\":\"black\"},\"line_dash\":{\"value\":[]},\"line_dash_offset\":{\"value\":0},\"line_join\":{\"value\":\"bevel\"},\"line_width\":{\"value\":1},\"top\":{\"field\":\"top\"},\"width\":{\"value\":0.8},\"x\":{\"field\":\"Symbol\"}},\"id\":\"1590\",\"type\":\"VBar\"},{\"attributes\":{\"end\":511483.4,\"reset_end\":511483.4,\"reset_start\":0.0,\"tags\":[[[\"Open Int\",\"Open Int\",null]]]},\"id\":\"1550\",\"type\":\"Range1d\"},{\"attributes\":{\"tools\":[{\"id\":\"1551\"},{\"id\":\"1568\"},{\"id\":\"1569\"},{\"id\":\"1570\"},{\"id\":\"1571\"},{\"id\":\"1572\"}]},\"id\":\"1574\",\"type\":\"Toolbar\"},{\"attributes\":{\"axis_label\":\"Symbol\",\"coordinates\":null,\"formatter\":{\"id\":\"1593\"},\"group\":null,\"major_label_orientation\":1.5707963267948966,\"major_label_policy\":{\"id\":\"1594\"},\"ticker\":{\"id\":\"1562\"}},\"id\":\"1561\",\"type\":\"CategoricalAxis\"},{\"attributes\":{\"source\":{\"id\":\"1582\"}},\"id\":\"1589\",\"type\":\"CDSView\"},{\"attributes\":{},\"id\":\"1594\",\"type\":\"AllLabels\"},{\"attributes\":{\"bottom\":{\"field\":\"bottom\"},\"fill_alpha\":{\"value\":0.2},\"fill_color\":{\"field\":\"Strike\",\"transform\":{\"id\":\"1581\"}},\"hatch_alpha\":{\"value\":0.2},\"hatch_color\":{\"field\":\"Strike\",\"transform\":{\"id\":\"1581\"}},\"line_alpha\":{\"value\":0.2},\"top\":{\"field\":\"top\"},\"width\":{\"value\":0.8},\"x\":{\"field\":\"Symbol\"}},\"id\":\"1587\",\"type\":\"VBar\"},{\"attributes\":{\"bottom\":{\"field\":\"bottom\"},\"fill_alpha\":{\"value\":0.1},\"fill_color\":{\"field\":\"Strike\",\"transform\":{\"id\":\"1581\"}},\"hatch_alpha\":{\"value\":0.1},\"hatch_color\":{\"field\":\"Strike\",\"transform\":{\"id\":\"1581\"}},\"line_alpha\":{\"value\":0.1},\"top\":{\"field\":\"top\"},\"width\":{\"value\":0.8},\"x\":{\"field\":\"Symbol\"}},\"id\":\"1586\",\"type\":\"VBar\"},{\"attributes\":{},\"id\":\"1565\",\"type\":\"BasicTicker\"},{\"attributes\":{\"margin\":[5,5,5,5],\"name\":\"HSpacer02188\",\"sizing_mode\":\"stretch_width\"},\"id\":\"1548\",\"type\":\"Spacer\"},{\"attributes\":{},\"id\":\"1597\",\"type\":\"AllLabels\"},{\"attributes\":{\"axis\":{\"id\":\"1561\"},\"coordinates\":null,\"grid_line_color\":null,\"group\":null,\"ticker\":null},\"id\":\"1563\",\"type\":\"Grid\"},{\"attributes\":{\"callback\":null,\"renderers\":[{\"id\":\"1588\"}],\"tags\":[\"hv_created\"],\"tooltips\":[[\"Symbol\",\"@{Symbol}\"],[\"Strike\",\"@{Strike}\"],[\"Open Int\",\"@{Open_Int}\"]]},\"id\":\"1551\",\"type\":\"HoverTool\"},{\"attributes\":{},\"id\":\"1606\",\"type\":\"UnionRenderers\"},{\"attributes\":{},\"id\":\"1572\",\"type\":\"ResetTool\"},{\"attributes\":{\"format\":\"%.0f\"},\"id\":\"1591\",\"type\":\"PrintfTickFormatter\"},{\"attributes\":{\"coordinates\":null,\"data_source\":{\"id\":\"1582\"},\"glyph\":{\"id\":\"1585\"},\"group\":null,\"hover_glyph\":null,\"muted_glyph\":{\"id\":\"1587\"},\"nonselection_glyph\":{\"id\":\"1586\"},\"selection_glyph\":{\"id\":\"1590\"},\"view\":{\"id\":\"1589\"}},\"id\":\"1588\",\"type\":\"GlyphRenderer\"},{\"attributes\":{},\"id\":\"1562\",\"type\":\"CategoricalTicker\"},{\"attributes\":{\"bottom\":{\"field\":\"bottom\"},\"fill_color\":{\"field\":\"Strike\",\"transform\":{\"id\":\"1581\"}},\"hatch_color\":{\"field\":\"Strike\",\"transform\":{\"id\":\"1581\"}},\"top\":{\"field\":\"top\"},\"width\":{\"value\":0.8},\"x\":{\"field\":\"Symbol\"}},\"id\":\"1585\",\"type\":\"VBar\"},{\"attributes\":{\"factors\":[\"AAPL\",\"AMD\",\"AMZN\",\"BABA\",\"BAC\",\"BBBY\",\"F\",\"GOOG\",\"GOOGL\",\"INTC\",\"META\",\"MSFT\",\"NFLX\",\"NIO\",\"NVDA\",\"PFE\",\"SHOP\",\"T\",\"TSLA\",\"WBD\"],\"tags\":[[[\"Symbol\",\"Symbol\",null]]]},\"id\":\"1549\",\"type\":\"FactorRange\"},{\"attributes\":{},\"id\":\"1583\",\"type\":\"Selection\"},{\"attributes\":{\"overlay\":{\"id\":\"1573\"}},\"id\":\"1571\",\"type\":\"BoxZoomTool\"},{\"attributes\":{\"margin\":[5,5,5,5],\"name\":\"HSpacer02189\",\"sizing_mode\":\"stretch_width\"},\"id\":\"1609\",\"type\":\"Spacer\"},{\"attributes\":{\"below\":[{\"id\":\"1561\"}],\"center\":[{\"id\":\"1563\"},{\"id\":\"1567\"}],\"height\":800,\"left\":[{\"id\":\"1564\"}],\"margin\":[5,5,5,5],\"min_border_bottom\":10,\"min_border_left\":10,\"min_border_right\":10,\"min_border_top\":10,\"renderers\":[{\"id\":\"1588\"}],\"sizing_mode\":\"fixed\",\"title\":{\"id\":\"1553\"},\"toolbar\":{\"id\":\"1574\"},\"width\":1000,\"x_range\":{\"id\":\"1549\"},\"x_scale\":{\"id\":\"1557\"},\"y_range\":{\"id\":\"1550\"},\"y_scale\":{\"id\":\"1559\"}},\"id\":\"1552\",\"subtype\":\"Figure\",\"type\":\"Plot\"},{\"attributes\":{},\"id\":\"1570\",\"type\":\"WheelZoomTool\"},{\"attributes\":{},\"id\":\"1569\",\"type\":\"PanTool\"},{\"attributes\":{\"children\":[{\"id\":\"1548\"},{\"id\":\"1552\"},{\"id\":\"1609\"}],\"margin\":[0,0,0,0],\"name\":\"Row02184\",\"tags\":[\"embedded\"]},\"id\":\"1547\",\"type\":\"Row\"},{\"attributes\":{},\"id\":\"1568\",\"type\":\"SaveTool\"},{\"attributes\":{\"factors\":[\"147\",\"148\",\"149\",\"150\",\"152.5\",\"155\",\"157.5\",\"160\",\"162.5\",\"165\",\"170\",\"172.5\",\"175\",\"180\",\"185\",\"72\",\"73\",\"74\",\"75\",\"76\",\"77\",\"80\",\"81\",\"82.5\",\"85\",\"100\",\"105\",\"119\",\"120\",\"123\",\"124\",\"125\",\"126\",\"127\",\"128\",\"129\",\"130\",\"131\",\"132\",\"135\",\"140\",\"145\",\"151\",\"166.5\",\"86\",\"87\",\"88\",\"89\",\"90\",\"110\",\"115\",\"33\",\"33.5\",\"34.5\",\"35\",\"8\",\"9\",\"10\",\"14.5\",\"15\",\"16\",\"102\",\"115.5\",\"116\",\"116.5\",\"117\",\"117.5\",\"118\",\"118.5\",\"119.5\",\"120.5\",\"103.25\",\"103.75\",\"104\",\"104.25\",\"104.5\",\"104.75\",\"107\",\"122.5\",\"127.5\",\"28.5\",\"29\",\"29.5\",\"30\",\"37.5\",\"190\",\"195\",\"200\",\"215\",\"237.5\",\"242.5\",\"245\",\"247.5\",\"250\",\"252.5\",\"255\",\"257.5\",\"260\",\"265\",\"280\",\"205\",\"210\",\"212.5\",\"222.5\",\"225\",\"227.5\",\"232.5\",\"20.5\",\"21\",\"21.5\",\"22\",\"22.5\",\"23\",\"121\",\"133\",\"134\",\"136\",\"45\",\"47\",\"31\",\"32\",\"32.5\",\"17\",\"17.5\",\"18\",\"271.67\",\"273.33\",\"275\",\"276.67\",\"278.33\",\"281.67\",\"283.33\",\"285\",\"286.67\",\"288.33\",\"289.17\",\"290\",\"290.83\",\"291.67\",\"292.5\",\"293.33\",\"294.17\",\"295\",\"295.83\",\"296.67\",\"298.33\",\"300\",\"301.67\",\"303.33\",\"306.67\",\"310\",\"313.33\",\"315\",\"333.33\",\"341.67\",\"12.5\"],\"palette\":[\"#259646\",\"#259646\",\"#259646\",\"#259646\",\"#259646\",\"#259646\",\"#259646\",\"#259646\",\"#259646\",\"#259646\",\"#259646\",\"#259646\",\"#259646\",\"#259646\",\"#259646\",\"#259646\",\"#259646\",\"#259646\",\"#259646\",\"#259646\",\"#259646\",\"#259646\",\"#259646\",\"#259646\",\"#259646\",\"#259646\",\"#259646\",\"#259646\",\"#259646\",\"#259646\",\"#259646\",\"#259646\",\"#259646\",\"#259646\",\"#259646\",\"#259646\",\"#259646\",\"#259646\",\"#259646\",\"#259646\",\"#259646\",\"#259646\",\"#259646\",\"#259646\",\"#259646\",\"#259646\",\"#259646\",\"#259646\",\"#259646\",\"#259646\",\"#259646\",\"#259646\",\"#259646\",\"#259646\",\"#259646\",\"#259646\",\"#259646\",\"#259646\",\"#259646\",\"#259646\",\"#259646\",\"#259646\",\"#259646\",\"#259646\",\"#259646\",\"#259646\",\"#259646\",\"#259646\",\"#259646\",\"#259646\",\"#259646\",\"#259646\",\"#259646\",\"#259646\",\"#259646\",\"#259646\",\"#259646\",\"#259646\",\"#259646\",\"#259646\",\"#259646\",\"#259646\",\"#259646\",\"#259646\",\"#259646\",\"#259646\",\"#259646\",\"#259646\",\"#259646\",\"#259646\",\"#259646\",\"#259646\",\"#259646\",\"#259646\",\"#259646\",\"#259646\",\"#259646\",\"#259646\",\"#259646\",\"#259646\",\"#259646\",\"#259646\",\"#259646\",\"#259646\",\"#259646\",\"#259646\",\"#259646\",\"#259646\",\"#259646\",\"#259646\",\"#259646\",\"#259646\",\"#259646\",\"#259646\",\"#259646\",\"#259646\",\"#259646\",\"#259646\",\"#259646\",\"#259646\",\"#259646\",\"#259646\",\"#259646\",\"#259646\",\"#259646\",\"#259646\",\"#259646\",\"#259646\",\"#259646\",\"#259646\",\"#259646\",\"#259646\",\"#259646\",\"#259646\",\"#259646\",\"#259646\",\"#259646\",\"#259646\",\"#259646\",\"#259646\",\"#259646\",\"#259646\",\"#259646\",\"#259646\",\"#259646\",\"#259646\",\"#259646\",\"#259646\",\"#259646\",\"#259646\",\"#259646\",\"#259646\",\"#259646\",\"#259646\",\"#259646\",\"#259646\"]},\"id\":\"1581\",\"type\":\"CategoricalColorMapper\"},{\"attributes\":{\"bottom_units\":\"screen\",\"coordinates\":null,\"fill_alpha\":0.5,\"fill_color\":\"lightgrey\",\"group\":null,\"left_units\":\"screen\",\"level\":\"overlay\",\"line_alpha\":1.0,\"line_color\":\"black\",\"line_dash\":[4,4],\"line_width\":2,\"right_units\":\"screen\",\"syncable\":false,\"top_units\":\"screen\"},\"id\":\"1573\",\"type\":\"BoxAnnotation\"},{\"attributes\":{},\"id\":\"1557\",\"type\":\"CategoricalScale\"},{\"attributes\":{},\"id\":\"1559\",\"type\":\"LinearScale\"},{\"attributes\":{\"axis_label\":\"Open Int\",\"coordinates\":null,\"formatter\":{\"id\":\"1591\"},\"group\":null,\"major_label_policy\":{\"id\":\"1597\"},\"ticker\":{\"id\":\"1565\"}},\"id\":\"1564\",\"type\":\"LinearAxis\"},{\"attributes\":{\"axis\":{\"id\":\"1564\"},\"coordinates\":null,\"dimension\":1,\"grid_line_color\":null,\"group\":null,\"ticker\":null},\"id\":\"1567\",\"type\":\"Grid\"},{\"attributes\":{\"coordinates\":null,\"group\":null,\"text\":\"Puts\",\"text_color\":\"black\",\"text_font_size\":\"12pt\"},\"id\":\"1553\",\"type\":\"Title\"}],\"root_ids\":[\"1547\"]},\"title\":\"Bokeh Application\",\"version\":\"2.4.3\"}};\n",
       "    var render_items = [{\"docid\":\"2dd4208d-bc3c-4ed0-bb20-e729d4983e2d\",\"root_ids\":[\"1547\"],\"roots\":{\"1547\":\"72e71879-580d-427c-8a9f-a23d650120ff\"}}];\n",
       "    root.Bokeh.embed.embed_items_notebook(docs_json, render_items);\n",
       "  }\n",
       "  if (root.Bokeh !== undefined && root.Bokeh.Panel !== undefined) {\n",
       "    embed_document(root);\n",
       "  } else {\n",
       "    var attempts = 0;\n",
       "    var timer = setInterval(function(root) {\n",
       "      if (root.Bokeh !== undefined && root.Bokeh.Panel !== undefined) {\n",
       "        clearInterval(timer);\n",
       "        embed_document(root);\n",
       "      } else if (document.readyState == \"complete\") {\n",
       "        attempts++;\n",
       "        if (attempts > 200) {\n",
       "          clearInterval(timer);\n",
       "          console.log(\"Bokeh: ERROR: Unable to run BokehJS code because BokehJS library is missing\");\n",
       "        }\n",
       "      }\n",
       "    }, 25, root)\n",
       "  }\n",
       "})(window);</script>"
      ],
      "text/plain": [
       ":Bars   [Symbol,Strike]   (Open Int)"
      ]
     },
     "execution_count": 14,
     "metadata": {
      "application/vnd.holoviews_exec.v0+json": {
       "id": "1547"
      }
     },
     "output_type": "execute_result"
    }
   ],
   "source": [
    "# Calling options_put_bar\n",
    "options_put_bar(df)"
   ]
  },
  {
   "cell_type": "code",
   "execution_count": null,
   "metadata": {},
   "outputs": [],
   "source": []
  },
  {
   "cell_type": "code",
   "execution_count": 15,
   "metadata": {},
   "outputs": [
    {
     "data": {
      "text/html": [
       "<div>\n",
       "<style scoped>\n",
       "    .dataframe tbody tr th:only-of-type {\n",
       "        vertical-align: middle;\n",
       "    }\n",
       "\n",
       "    .dataframe tbody tr th {\n",
       "        vertical-align: top;\n",
       "    }\n",
       "\n",
       "    .dataframe thead th {\n",
       "        text-align: right;\n",
       "    }\n",
       "</style>\n",
       "<table border=\"1\" class=\"dataframe\">\n",
       "  <thead>\n",
       "    <tr style=\"text-align: right;\">\n",
       "      <th></th>\n",
       "      <th>Symbol</th>\n",
       "      <th>Type</th>\n",
       "      <th>Strike</th>\n",
       "      <th>Exp Date</th>\n",
       "      <th>DTE</th>\n",
       "      <th>Bid</th>\n",
       "      <th>Midpoint</th>\n",
       "      <th>Ask</th>\n",
       "      <th>Last</th>\n",
       "      <th>Volume</th>\n",
       "      <th>Open Int</th>\n",
       "      <th>OI Chg</th>\n",
       "      <th>IV</th>\n",
       "      <th>Time</th>\n",
       "    </tr>\n",
       "  </thead>\n",
       "  <tbody>\n",
       "    <tr>\n",
       "      <th>155</th>\n",
       "      <td>AAL</td>\n",
       "      <td>Call</td>\n",
       "      <td>14.0</td>\n",
       "      <td>2022-09-16</td>\n",
       "      <td>2.0</td>\n",
       "      <td>0.26</td>\n",
       "      <td>0.27</td>\n",
       "      <td>0.27</td>\n",
       "      <td>0.26</td>\n",
       "      <td>10637.0</td>\n",
       "      <td>22188.0</td>\n",
       "      <td>+2,212</td>\n",
       "      <td>58.91%</td>\n",
       "      <td>2022-09-14</td>\n",
       "    </tr>\n",
       "    <tr>\n",
       "      <th>1237</th>\n",
       "      <td>AAPL</td>\n",
       "      <td>Call</td>\n",
       "      <td>140.0</td>\n",
       "      <td>2022-09-16</td>\n",
       "      <td>2.0</td>\n",
       "      <td>15.25</td>\n",
       "      <td>15.40</td>\n",
       "      <td>15.55</td>\n",
       "      <td>15.54</td>\n",
       "      <td>674.0</td>\n",
       "      <td>21206.0</td>\n",
       "      <td>-399</td>\n",
       "      <td>75.41%</td>\n",
       "      <td>2022-09-14</td>\n",
       "    </tr>\n",
       "    <tr>\n",
       "      <th>1119</th>\n",
       "      <td>AAPL</td>\n",
       "      <td>Call</td>\n",
       "      <td>150.0</td>\n",
       "      <td>2022-09-16</td>\n",
       "      <td>2.0</td>\n",
       "      <td>5.45</td>\n",
       "      <td>5.65</td>\n",
       "      <td>5.85</td>\n",
       "      <td>5.80</td>\n",
       "      <td>3846.0</td>\n",
       "      <td>48536.0</td>\n",
       "      <td>-941</td>\n",
       "      <td>44.45%</td>\n",
       "      <td>2022-09-14</td>\n",
       "    </tr>\n",
       "    <tr>\n",
       "      <th>689</th>\n",
       "      <td>AAPL</td>\n",
       "      <td>Call</td>\n",
       "      <td>152.5</td>\n",
       "      <td>2022-09-16</td>\n",
       "      <td>2.0</td>\n",
       "      <td>3.50</td>\n",
       "      <td>3.58</td>\n",
       "      <td>3.65</td>\n",
       "      <td>3.60</td>\n",
       "      <td>9040.0</td>\n",
       "      <td>17736.0</td>\n",
       "      <td>+645</td>\n",
       "      <td>38.43%</td>\n",
       "      <td>2022-09-14</td>\n",
       "    </tr>\n",
       "    <tr>\n",
       "      <th>1142</th>\n",
       "      <td>AAPL</td>\n",
       "      <td>Call</td>\n",
       "      <td>155.0</td>\n",
       "      <td>2022-09-16</td>\n",
       "      <td>2.0</td>\n",
       "      <td>1.88</td>\n",
       "      <td>1.89</td>\n",
       "      <td>1.90</td>\n",
       "      <td>1.90</td>\n",
       "      <td>80360.0</td>\n",
       "      <td>48254.0</td>\n",
       "      <td>-773</td>\n",
       "      <td>36.40%</td>\n",
       "      <td>2022-09-14</td>\n",
       "    </tr>\n",
       "  </tbody>\n",
       "</table>\n",
       "</div>"
      ],
      "text/plain": [
       "     Symbol  Type  Strike    Exp Date  DTE    Bid  Midpoint    Ask   Last  \\\n",
       "155     AAL  Call    14.0  2022-09-16  2.0   0.26      0.27   0.27   0.26   \n",
       "1237   AAPL  Call   140.0  2022-09-16  2.0  15.25     15.40  15.55  15.54   \n",
       "1119   AAPL  Call   150.0  2022-09-16  2.0   5.45      5.65   5.85   5.80   \n",
       "689    AAPL  Call   152.5  2022-09-16  2.0   3.50      3.58   3.65   3.60   \n",
       "1142   AAPL  Call   155.0  2022-09-16  2.0   1.88      1.89   1.90   1.90   \n",
       "\n",
       "       Volume  Open Int  OI Chg      IV        Time  \n",
       "155   10637.0   22188.0  +2,212  58.91%  2022-09-14  \n",
       "1237    674.0   21206.0    -399  75.41%  2022-09-14  \n",
       "1119   3846.0   48536.0    -941  44.45%  2022-09-14  \n",
       "689    9040.0   17736.0    +645  38.43%  2022-09-14  \n",
       "1142  80360.0   48254.0    -773  36.40%  2022-09-14  "
      ]
     },
     "execution_count": 15,
     "metadata": {},
     "output_type": "execute_result"
    }
   ],
   "source": [
    "calls = df[df['Type'] == 'Call'].drop(columns='Price')\n",
    "calls.head()"
   ]
  },
  {
   "cell_type": "code",
   "execution_count": 16,
   "metadata": {},
   "outputs": [
    {
     "data": {
      "text/html": [
       "<div>\n",
       "<style scoped>\n",
       "    .dataframe tbody tr th:only-of-type {\n",
       "        vertical-align: middle;\n",
       "    }\n",
       "\n",
       "    .dataframe tbody tr th {\n",
       "        vertical-align: top;\n",
       "    }\n",
       "\n",
       "    .dataframe thead th {\n",
       "        text-align: right;\n",
       "    }\n",
       "</style>\n",
       "<table border=\"1\" class=\"dataframe\">\n",
       "  <thead>\n",
       "    <tr style=\"text-align: right;\">\n",
       "      <th></th>\n",
       "      <th>Symbol</th>\n",
       "      <th>Type</th>\n",
       "      <th>Strike</th>\n",
       "      <th>Exp Date</th>\n",
       "      <th>DTE</th>\n",
       "      <th>Bid</th>\n",
       "      <th>Midpoint</th>\n",
       "      <th>Ask</th>\n",
       "      <th>Last</th>\n",
       "      <th>Volume</th>\n",
       "      <th>Open Int</th>\n",
       "      <th>OI Chg</th>\n",
       "      <th>IV</th>\n",
       "      <th>Time</th>\n",
       "    </tr>\n",
       "  </thead>\n",
       "  <tbody>\n",
       "    <tr>\n",
       "      <th>1907</th>\n",
       "      <td>AA</td>\n",
       "      <td>Put</td>\n",
       "      <td>43.0</td>\n",
       "      <td>2022-09-16</td>\n",
       "      <td>2.0</td>\n",
       "      <td>0.40</td>\n",
       "      <td>0.43</td>\n",
       "      <td>0.45</td>\n",
       "      <td>0.41</td>\n",
       "      <td>600.0</td>\n",
       "      <td>188.0</td>\n",
       "      <td>-19</td>\n",
       "      <td>83.62%</td>\n",
       "      <td>2022-09-14</td>\n",
       "    </tr>\n",
       "    <tr>\n",
       "      <th>1839</th>\n",
       "      <td>AA</td>\n",
       "      <td>Put</td>\n",
       "      <td>45.0</td>\n",
       "      <td>2022-09-16</td>\n",
       "      <td>2.0</td>\n",
       "      <td>1.16</td>\n",
       "      <td>1.20</td>\n",
       "      <td>1.24</td>\n",
       "      <td>1.19</td>\n",
       "      <td>1360.0</td>\n",
       "      <td>2098.0</td>\n",
       "      <td>-27</td>\n",
       "      <td>82.53%</td>\n",
       "      <td>2022-09-14</td>\n",
       "    </tr>\n",
       "    <tr>\n",
       "      <th>159</th>\n",
       "      <td>AAL</td>\n",
       "      <td>Put</td>\n",
       "      <td>14.0</td>\n",
       "      <td>2022-09-16</td>\n",
       "      <td>2.0</td>\n",
       "      <td>0.23</td>\n",
       "      <td>0.24</td>\n",
       "      <td>0.25</td>\n",
       "      <td>0.24</td>\n",
       "      <td>1931.0</td>\n",
       "      <td>16516.0</td>\n",
       "      <td>+2,156</td>\n",
       "      <td>61.74%</td>\n",
       "      <td>2022-09-14</td>\n",
       "    </tr>\n",
       "    <tr>\n",
       "      <th>112</th>\n",
       "      <td>AAPL</td>\n",
       "      <td>Put</td>\n",
       "      <td>147.0</td>\n",
       "      <td>2022-09-16</td>\n",
       "      <td>2.0</td>\n",
       "      <td>0.10</td>\n",
       "      <td>0.11</td>\n",
       "      <td>0.11</td>\n",
       "      <td>0.11</td>\n",
       "      <td>25360.0</td>\n",
       "      <td>18623.0</td>\n",
       "      <td>+2,786</td>\n",
       "      <td>46.11%</td>\n",
       "      <td>2022-09-14</td>\n",
       "    </tr>\n",
       "    <tr>\n",
       "      <th>117</th>\n",
       "      <td>AAPL</td>\n",
       "      <td>Put</td>\n",
       "      <td>148.0</td>\n",
       "      <td>2022-09-16</td>\n",
       "      <td>2.0</td>\n",
       "      <td>0.14</td>\n",
       "      <td>0.15</td>\n",
       "      <td>0.15</td>\n",
       "      <td>0.14</td>\n",
       "      <td>10389.0</td>\n",
       "      <td>5922.0</td>\n",
       "      <td>+2,731</td>\n",
       "      <td>43.82%</td>\n",
       "      <td>2022-09-14</td>\n",
       "    </tr>\n",
       "  </tbody>\n",
       "</table>\n",
       "</div>"
      ],
      "text/plain": [
       "     Symbol Type  Strike    Exp Date  DTE   Bid  Midpoint   Ask  Last  \\\n",
       "1907     AA  Put    43.0  2022-09-16  2.0  0.40      0.43  0.45  0.41   \n",
       "1839     AA  Put    45.0  2022-09-16  2.0  1.16      1.20  1.24  1.19   \n",
       "159     AAL  Put    14.0  2022-09-16  2.0  0.23      0.24  0.25  0.24   \n",
       "112    AAPL  Put   147.0  2022-09-16  2.0  0.10      0.11  0.11  0.11   \n",
       "117    AAPL  Put   148.0  2022-09-16  2.0  0.14      0.15  0.15  0.14   \n",
       "\n",
       "       Volume  Open Int  OI Chg      IV        Time  \n",
       "1907    600.0     188.0     -19  83.62%  2022-09-14  \n",
       "1839   1360.0    2098.0     -27  82.53%  2022-09-14  \n",
       "159    1931.0   16516.0  +2,156  61.74%  2022-09-14  \n",
       "112   25360.0   18623.0  +2,786  46.11%  2022-09-14  \n",
       "117   10389.0    5922.0  +2,731  43.82%  2022-09-14  "
      ]
     },
     "execution_count": 16,
     "metadata": {},
     "output_type": "execute_result"
    }
   ],
   "source": [
    "puts = df[df['Type'] == 'Put'].drop(columns='Price')\n",
    "puts.head()"
   ]
  },
  {
   "cell_type": "code",
   "execution_count": null,
   "metadata": {},
   "outputs": [],
   "source": []
  },
  {
   "cell_type": "code",
   "execution_count": 17,
   "metadata": {},
   "outputs": [
    {
     "data": {},
     "metadata": {},
     "output_type": "display_data"
    },
    {
     "data": {
      "application/vnd.holoviews_exec.v0+json": "",
      "text/html": [
       "<div id='1656'>\n",
       "  <div class=\"bk-root\" id=\"c54ffa42-fe53-4b93-aefc-2c6f53ccd5db\" data-root-id=\"1656\"></div>\n",
       "</div>\n",
       "<script type=\"application/javascript\">(function(root) {\n",
       "  function embed_document(root) {\n",
       "    var docs_json = {\"b884fc89-9fc0-4197-9680-4a4f0400cf53\":{\"defs\":[{\"extends\":null,\"module\":null,\"name\":\"ReactiveHTML1\",\"overrides\":[],\"properties\":[]},{\"extends\":null,\"module\":null,\"name\":\"FlexBox1\",\"overrides\":[],\"properties\":[{\"default\":\"flex-start\",\"kind\":null,\"name\":\"align_content\"},{\"default\":\"flex-start\",\"kind\":null,\"name\":\"align_items\"},{\"default\":\"row\",\"kind\":null,\"name\":\"flex_direction\"},{\"default\":\"wrap\",\"kind\":null,\"name\":\"flex_wrap\"},{\"default\":\"flex-start\",\"kind\":null,\"name\":\"justify_content\"}]},{\"extends\":null,\"module\":null,\"name\":\"GridStack1\",\"overrides\":[],\"properties\":[{\"default\":\"warn\",\"kind\":null,\"name\":\"mode\"},{\"default\":null,\"kind\":null,\"name\":\"ncols\"},{\"default\":null,\"kind\":null,\"name\":\"nrows\"},{\"default\":true,\"kind\":null,\"name\":\"allow_resize\"},{\"default\":true,\"kind\":null,\"name\":\"allow_drag\"},{\"default\":[],\"kind\":null,\"name\":\"state\"}]},{\"extends\":null,\"module\":null,\"name\":\"click1\",\"overrides\":[],\"properties\":[{\"default\":\"\",\"kind\":null,\"name\":\"terminal_output\"},{\"default\":\"\",\"kind\":null,\"name\":\"debug_name\"},{\"default\":0,\"kind\":null,\"name\":\"clears\"}]},{\"extends\":null,\"module\":null,\"name\":\"NotificationAreaBase1\",\"overrides\":[],\"properties\":[{\"default\":\"bottom-right\",\"kind\":null,\"name\":\"position\"},{\"default\":0,\"kind\":null,\"name\":\"_clear\"}]},{\"extends\":null,\"module\":null,\"name\":\"NotificationArea1\",\"overrides\":[],\"properties\":[{\"default\":[],\"kind\":null,\"name\":\"notifications\"},{\"default\":\"bottom-right\",\"kind\":null,\"name\":\"position\"},{\"default\":0,\"kind\":null,\"name\":\"_clear\"},{\"default\":[{\"background\":\"#ffc107\",\"icon\":{\"className\":\"fas fa-exclamation-triangle\",\"color\":\"white\",\"tagName\":\"i\"},\"type\":\"warning\"},{\"background\":\"#007bff\",\"icon\":{\"className\":\"fas fa-info-circle\",\"color\":\"white\",\"tagName\":\"i\"},\"type\":\"info\"}],\"kind\":null,\"name\":\"types\"}]},{\"extends\":null,\"module\":null,\"name\":\"Notification\",\"overrides\":[],\"properties\":[{\"default\":null,\"kind\":null,\"name\":\"background\"},{\"default\":3000,\"kind\":null,\"name\":\"duration\"},{\"default\":null,\"kind\":null,\"name\":\"icon\"},{\"default\":\"\",\"kind\":null,\"name\":\"message\"},{\"default\":null,\"kind\":null,\"name\":\"notification_type\"},{\"default\":false,\"kind\":null,\"name\":\"_destroyed\"}]},{\"extends\":null,\"module\":null,\"name\":\"TemplateActions1\",\"overrides\":[],\"properties\":[{\"default\":0,\"kind\":null,\"name\":\"open_modal\"},{\"default\":0,\"kind\":null,\"name\":\"close_modal\"}]},{\"extends\":null,\"module\":null,\"name\":\"MaterialTemplateActions1\",\"overrides\":[],\"properties\":[{\"default\":0,\"kind\":null,\"name\":\"open_modal\"},{\"default\":0,\"kind\":null,\"name\":\"close_modal\"}]}],\"roots\":{\"references\":[{\"attributes\":{\"format\":\"%.0f\"},\"id\":\"1700\",\"type\":\"PrintfTickFormatter\"},{\"attributes\":{\"callback\":null,\"renderers\":[{\"id\":\"1697\"}],\"tags\":[\"hv_created\"],\"tooltips\":[[\"Symbol\",\"@{Symbol}\"],[\"Strike\",\"@{Strike}\"],[\"Open Int\",\"@{Open_Int}\"]]},\"id\":\"1660\",\"type\":\"HoverTool\"},{\"attributes\":{\"end\":433927.9,\"reset_end\":433927.9,\"reset_start\":0.0,\"tags\":[[[\"Open Int\",\"Open Int\",null]]]},\"id\":\"1659\",\"type\":\"Range1d\"},{\"attributes\":{},\"id\":\"1666\",\"type\":\"CategoricalScale\"},{\"attributes\":{\"axis_label\":\"Symbol\",\"coordinates\":null,\"formatter\":{\"id\":\"1702\"},\"group\":null,\"major_label_orientation\":1.5707963267948966,\"major_label_policy\":{\"id\":\"1703\"},\"ticker\":{\"id\":\"1671\"}},\"id\":\"1670\",\"type\":\"CategoricalAxis\"},{\"attributes\":{},\"id\":\"1692\",\"type\":\"Selection\"},{\"attributes\":{\"margin\":[5,5,5,5],\"name\":\"HSpacer02402\",\"sizing_mode\":\"stretch_width\"},\"id\":\"1657\",\"type\":\"Spacer\"},{\"attributes\":{\"margin\":[5,5,5,5],\"name\":\"HSpacer02403\",\"sizing_mode\":\"stretch_width\"},\"id\":\"1718\",\"type\":\"Spacer\"},{\"attributes\":{},\"id\":\"1668\",\"type\":\"LinearScale\"},{\"attributes\":{\"below\":[{\"id\":\"1670\"}],\"center\":[{\"id\":\"1672\"},{\"id\":\"1676\"}],\"height\":800,\"left\":[{\"id\":\"1673\"}],\"margin\":[5,5,5,5],\"min_border_bottom\":10,\"min_border_left\":10,\"min_border_right\":10,\"min_border_top\":10,\"renderers\":[{\"id\":\"1697\"}],\"sizing_mode\":\"fixed\",\"title\":{\"id\":\"1662\"},\"toolbar\":{\"id\":\"1683\"},\"width\":1000,\"x_range\":{\"id\":\"1658\"},\"x_scale\":{\"id\":\"1666\"},\"y_range\":{\"id\":\"1659\"},\"y_scale\":{\"id\":\"1668\"}},\"id\":\"1661\",\"subtype\":\"Figure\",\"type\":\"Plot\"},{\"attributes\":{\"axis\":{\"id\":\"1670\"},\"coordinates\":null,\"grid_line_color\":null,\"group\":null,\"ticker\":null},\"id\":\"1672\",\"type\":\"Grid\"},{\"attributes\":{\"bottom\":{\"field\":\"bottom\"},\"fill_alpha\":{\"value\":1.0},\"fill_color\":{\"field\":\"Strike\",\"transform\":{\"id\":\"1690\"}},\"hatch_alpha\":{\"value\":1.0},\"hatch_color\":{\"field\":\"Strike\",\"transform\":{\"id\":\"1690\"}},\"hatch_scale\":{\"value\":12.0},\"hatch_weight\":{\"value\":1.0},\"line_alpha\":{\"value\":1.0},\"line_cap\":{\"value\":\"butt\"},\"line_color\":{\"value\":\"black\"},\"line_dash\":{\"value\":[]},\"line_dash_offset\":{\"value\":0},\"line_join\":{\"value\":\"bevel\"},\"line_width\":{\"value\":1},\"top\":{\"field\":\"top\"},\"width\":{\"value\":0.8},\"x\":{\"field\":\"Symbol\"}},\"id\":\"1699\",\"type\":\"VBar\"},{\"attributes\":{\"bottom\":{\"field\":\"bottom\"},\"fill_alpha\":{\"value\":0.1},\"fill_color\":{\"field\":\"Strike\",\"transform\":{\"id\":\"1690\"}},\"hatch_alpha\":{\"value\":0.1},\"hatch_color\":{\"field\":\"Strike\",\"transform\":{\"id\":\"1690\"}},\"line_alpha\":{\"value\":0.1},\"top\":{\"field\":\"top\"},\"width\":{\"value\":0.8},\"x\":{\"field\":\"Symbol\"}},\"id\":\"1695\",\"type\":\"VBar\"},{\"attributes\":{},\"id\":\"1674\",\"type\":\"BasicTicker\"},{\"attributes\":{\"children\":[{\"id\":\"1657\"},{\"id\":\"1661\"},{\"id\":\"1718\"}],\"margin\":[0,0,0,0],\"name\":\"Row02398\",\"tags\":[\"embedded\"]},\"id\":\"1656\",\"type\":\"Row\"},{\"attributes\":{\"bottom_units\":\"screen\",\"coordinates\":null,\"fill_alpha\":0.5,\"fill_color\":\"lightgrey\",\"group\":null,\"left_units\":\"screen\",\"level\":\"overlay\",\"line_alpha\":1.0,\"line_color\":\"black\",\"line_dash\":[4,4],\"line_width\":2,\"right_units\":\"screen\",\"syncable\":false,\"top_units\":\"screen\"},\"id\":\"1682\",\"type\":\"BoxAnnotation\"},{\"attributes\":{\"factors\":[\"140\",\"150\",\"152.5\",\"155\",\"157.5\",\"160\",\"120\",\"121\",\"125\",\"128\",\"129\",\"130\",\"131\",\"132\",\"132.5\",\"133\",\"134\",\"136\",\"7\",\"8\",\"8.5\",\"9\",\"9.5\",\"10\",\"10.5\",\"25\",\"30\",\"32\",\"33\",\"18\",\"18.5\",\"19\",\"19.5\",\"17.5\",\"20\",\"15\",\"38\",\"40\",\"41\",\"41.5\",\"115\",\"119\",\"162.5\",\"21\",\"22\",\"22.5\",\"23\",\"23.5\",\"66\",\"67\",\"67.5\",\"68\",\"69\",\"70\",\"71\",\"72\",\"27.5\",\"28.5\",\"30.5\",\"31\",\"31.5\",\"87.5\",\"88\",\"89\",\"90\",\"91\",\"92.5\",\"93\",\"95\",\"11.5\",\"12\",\"6\",\"6.5\",\"7.5\",\"233.33\",\"260\",\"266.67\",\"270\",\"280\",\"283.33\",\"285\",\"288.33\",\"289.17\",\"290\",\"290.83\",\"291.67\",\"292.5\",\"293.33\",\"294.17\",\"295\",\"295.83\",\"298.33\",\"300\",\"301.67\",\"303.33\",\"305\",\"306.67\",\"308.33\",\"310\",\"311.67\",\"315\",\"316.67\",\"320\",\"321.67\",\"325\",\"326.67\",\"330\",\"42\",\"42.5\",\"43\",\"32.5\",\"33.5\",\"97\",\"100\",\"101\"],\"palette\":[\"#259646\",\"#259646\",\"#259646\",\"#259646\",\"#259646\",\"#259646\",\"#259646\",\"#259646\",\"#259646\",\"#259646\",\"#259646\",\"#259646\",\"#259646\",\"#259646\",\"#259646\",\"#259646\",\"#259646\",\"#259646\",\"#259646\",\"#259646\",\"#259646\",\"#259646\",\"#259646\",\"#259646\",\"#259646\",\"#259646\",\"#259646\",\"#259646\",\"#259646\",\"#259646\",\"#259646\",\"#259646\",\"#259646\",\"#259646\",\"#259646\",\"#259646\",\"#259646\",\"#259646\",\"#259646\",\"#259646\",\"#259646\",\"#259646\",\"#259646\",\"#259646\",\"#259646\",\"#259646\",\"#259646\",\"#259646\",\"#259646\",\"#259646\",\"#259646\",\"#259646\",\"#259646\",\"#259646\",\"#259646\",\"#259646\",\"#259646\",\"#259646\",\"#259646\",\"#259646\",\"#259646\",\"#259646\",\"#259646\",\"#259646\",\"#259646\",\"#259646\",\"#259646\",\"#259646\",\"#259646\",\"#259646\",\"#259646\",\"#259646\",\"#259646\",\"#259646\",\"#259646\",\"#259646\",\"#259646\",\"#259646\",\"#259646\",\"#259646\",\"#259646\",\"#259646\",\"#259646\",\"#259646\",\"#259646\",\"#259646\",\"#259646\",\"#259646\",\"#259646\",\"#259646\",\"#259646\",\"#259646\",\"#259646\",\"#259646\",\"#259646\",\"#259646\",\"#259646\",\"#259646\",\"#259646\",\"#259646\",\"#259646\",\"#259646\",\"#259646\",\"#259646\",\"#259646\",\"#259646\",\"#259646\",\"#259646\",\"#259646\",\"#259646\",\"#259646\",\"#259646\",\"#259646\",\"#259646\",\"#259646\"]},\"id\":\"1690\",\"type\":\"CategoricalColorMapper\"},{\"attributes\":{\"coordinates\":null,\"group\":null,\"text\":\"Call\",\"text_color\":\"black\",\"text_font_size\":\"12pt\"},\"id\":\"1662\",\"type\":\"Title\"},{\"attributes\":{\"source\":{\"id\":\"1691\"}},\"id\":\"1698\",\"type\":\"CDSView\"},{\"attributes\":{},\"id\":\"1671\",\"type\":\"CategoricalTicker\"},{\"attributes\":{\"bottom\":{\"field\":\"bottom\"},\"fill_color\":{\"field\":\"Strike\",\"transform\":{\"id\":\"1690\"}},\"hatch_color\":{\"field\":\"Strike\",\"transform\":{\"id\":\"1690\"}},\"top\":{\"field\":\"top\"},\"width\":{\"value\":0.8},\"x\":{\"field\":\"Symbol\"}},\"id\":\"1694\",\"type\":\"VBar\"},{\"attributes\":{\"coordinates\":null,\"data_source\":{\"id\":\"1691\"},\"glyph\":{\"id\":\"1694\"},\"group\":null,\"hover_glyph\":null,\"muted_glyph\":{\"id\":\"1696\"},\"nonselection_glyph\":{\"id\":\"1695\"},\"selection_glyph\":{\"id\":\"1699\"},\"view\":{\"id\":\"1698\"}},\"id\":\"1697\",\"type\":\"GlyphRenderer\"},{\"attributes\":{\"axis_label\":\"Open Int\",\"coordinates\":null,\"formatter\":{\"id\":\"1700\"},\"group\":null,\"major_label_policy\":{\"id\":\"1706\"},\"ticker\":{\"id\":\"1674\"}},\"id\":\"1673\",\"type\":\"LinearAxis\"},{\"attributes\":{},\"id\":\"1679\",\"type\":\"WheelZoomTool\"},{\"attributes\":{\"tools\":[{\"id\":\"1660\"},{\"id\":\"1677\"},{\"id\":\"1678\"},{\"id\":\"1679\"},{\"id\":\"1680\"},{\"id\":\"1681\"}]},\"id\":\"1683\",\"type\":\"Toolbar\"},{\"attributes\":{\"data\":{\"Open_Int\":{\"__ndarray__\":\"AAAAAIC11EAAAAAAALPnQAAAAAAAgJhAAAAAAABS0UAAAAAAACikQAAAAADAj+dAAAAAAABzukAAAAAAgInbQAAAAAAAzrZAAAAAAACd9kAAAAAAQDHdQAAAAADAbtpAAAAAAECz9EAAAAAAAPyqQAAAAADAAtFAAAAAAAAdtkAAAAAAAGqxQAAAAADAfeRAAAAAAAA8ukAAAAAAgHbGQAAAAAAAuLlAAAAAAACUuUAAAAAAACG8QAAAAACAwMxAAAAAAABLw0AAAAAAAFyiQAAAAADAmd5AAAAAAABYtUAAAAAAAISxQAAAAAAA8sNAAAAAAACutkAAAAAAQOLQQAAAAAAAubdAAAAAAIDq1EAAAAAAgFfWQAAAAABAP9tAAAAAAMB43UAAAAAAAIauQAAAAAAACsBAAAAAAABJtEAAAAAAADrgQAAAAACApcpAAAAAAEDb10AAAAAAwC7ZQAAAAACA0ttAAAAAAAA2skAAAAAAAAq1QAAAAAAAqrtAAAAAAABIgUAAAAAAgOzAQAAAAAAA/cRAAAAAAMBu10AAAAAAgI3SQAAAAABANftAAAAAAIAj1EAAAAAAwKbZQAAAAADAFdVAAAAAAACnvkAAAAAAAEyRQAAAAAAA3bdAAAAAAACqyEAAAAAAAJChQAAAAAAAWrlAAAAAAADWwkAAAAAAgOzDQAAAAACAIs1AAAAAAIBswUAAAAAAAP+yQAAAAAAAlKRAAAAAAABAsEAAAAAAgEDCQAAAAAAAWKpAAAAAAAACrEAAAAAAQJrUQAAAAAAA5LBAAAAAAAAZt0AAAAAAABynQAAAAAAAIINAAAAAAADQnkAAAAAAAMC5QAAAAAAAUKBAAAAAAADkmEAAAAAAAHy5QAAAAACAbcxAAAAAAADkqUAAAAAAAAypQAAAAAAAiMdAAAAAAEDu0EAAAAAAAMarQAAAAADAktJAAAAAAADsskAAAAAAACiOQAAAAAAA7rNAAAAAAAA1ukAAAAAAoE7hQAAAAADAs+RAAAAAAADojEAAAAAAAPynQAAAAACAVsZAAAAAAED/1EAAAAAAAO/lQAAAAAAAPM9AAAAAAABvvUAAAAAAADXLQAAAAAAAaLpAAAAAAADIn0AAAAAAAESXQAAAAACADMNAAAAAAADqpkAAAAAAANqiQAAAAAAAyqpAAAAAAACTukAAAAAAAOilQAAAAAAAl8ZAAAAAAADyqUAAAAAAAOmyQAAAAADAUuRAAAAAAAAKvUAAAAAAgHDOQAAAAAAAR9VAAAAAAICLwUAAAAAAAMuyQAAAAADAOddAAAAAAADHu0AAAAAAAGvQQAAAAABA19dAAAAAAIBfzkAAAAAAAJ6qQAAAAACAE9BAAAAAAADBu0AAAAAAAE3DQAAAAABA/dJAAAAAAAC3wEAAAAAAoBzjQAAAAAAAX+BAAAAAAADiu0AAAAAAAHyhQAAAAAAA/tZAAAAAAACapEA=\",\"dtype\":\"float64\",\"order\":\"little\",\"shape\":[139]},\"Strike\":[\"140\",\"150\",\"150\",\"152.5\",\"152.5\",\"155\",\"155\",\"157.5\",\"157.5\",\"160\",\"160\",\"120\",\"120\",\"121\",\"125\",\"128\",\"129\",\"130\",\"131\",\"132\",\"132.5\",\"133\",\"134\",\"136\",\"7\",\"7\",\"8\",\"8\",\"8.5\",\"9\",\"9.5\",\"10\",\"10.5\",\"25\",\"30\",\"30\",\"30\",\"32\",\"32\",\"32\",\"33\",\"33\",\"18\",\"18\",\"18.5\",\"18.5\",\"19\",\"19\",\"19.5\",\"19.5\",\"17.5\",\"20\",\"20\",\"15\",\"38\",\"40\",\"40\",\"41\",\"41.5\",\"41.5\",\"115\",\"119\",\"162.5\",\"21\",\"22\",\"22.5\",\"23\",\"23.5\",\"66\",\"67\",\"67.5\",\"68\",\"69\",\"70\",\"71\",\"72\",\"27.5\",\"28.5\",\"30.5\",\"31\",\"31\",\"31.5\",\"31.5\",\"87.5\",\"88\",\"89\",\"90\",\"90\",\"91\",\"92.5\",\"92.5\",\"93\",\"95\",\"11.5\",\"12\",\"6\",\"6.5\",\"7.5\",\"233.33\",\"260\",\"266.67\",\"270\",\"280\",\"283.33\",\"285\",\"288.33\",\"289.17\",\"290\",\"290.83\",\"291.67\",\"292.5\",\"293.33\",\"294.17\",\"295\",\"295.83\",\"298.33\",\"300\",\"301.67\",\"303.33\",\"305\",\"306.67\",\"308.33\",\"310\",\"311.67\",\"315\",\"316.67\",\"320\",\"321.67\",\"325\",\"326.67\",\"330\",\"42\",\"42.5\",\"43\",\"32.5\",\"33.5\",\"97\",\"100\",\"101\"],\"Symbol\":[\"AAPL\",\"AAPL\",\"META\",\"AAPL\",\"META\",\"AAPL\",\"META\",\"AAPL\",\"META\",\"AAPL\",\"META\",\"JPM\",\"AMZN\",\"AMZN\",\"AMZN\",\"AMZN\",\"AMZN\",\"AMZN\",\"AMZN\",\"AMZN\",\"AMZN\",\"AMZN\",\"AMZN\",\"AMZN\",\"SWN\",\"BBBY\",\"SWN\",\"BBBY\",\"BBBY\",\"BBBY\",\"BBBY\",\"BBBY\",\"BBBY\",\"CCJ\",\"UBER\",\"PLUG\",\"CCJ\",\"PLUG\",\"UBER\",\"CCJ\",\"CCJ\",\"UBER\",\"CHPT\",\"DKNG\",\"CHPT\",\"DKNG\",\"CHPT\",\"DKNG\",\"CHPT\",\"DKNG\",\"DKNG\",\"DKNG\",\"NIO\",\"F\",\"GM\",\"TWTR\",\"GM\",\"GM\",\"GM\",\"TWTR\",\"JPM\",\"JPM\",\"META\",\"NIO\",\"NIO\",\"NIO\",\"NIO\",\"NIO\",\"OXY\",\"OXY\",\"OXY\",\"OXY\",\"OXY\",\"OXY\",\"OXY\",\"OXY\",\"PLUG\",\"PLUG\",\"PLUG\",\"UBER\",\"PLUG\",\"PLUG\",\"UBER\",\"SBUX\",\"SBUX\",\"SBUX\",\"XOM\",\"SBUX\",\"SBUX\",\"XOM\",\"SBUX\",\"SBUX\",\"SBUX\",\"SNAP\",\"SNAP\",\"SWN\",\"SWN\",\"SWN\",\"TSLA\",\"TSLA\",\"TSLA\",\"TSLA\",\"TSLA\",\"TSLA\",\"TSLA\",\"TSLA\",\"TSLA\",\"TSLA\",\"TSLA\",\"TSLA\",\"TSLA\",\"TSLA\",\"TSLA\",\"TSLA\",\"TSLA\",\"TSLA\",\"TSLA\",\"TSLA\",\"TSLA\",\"TSLA\",\"TSLA\",\"TSLA\",\"TSLA\",\"TSLA\",\"TSLA\",\"TSLA\",\"TSLA\",\"TSLA\",\"TSLA\",\"TSLA\",\"TSLA\",\"TWTR\",\"TWTR\",\"TWTR\",\"UBER\",\"UBER\",\"XOM\",\"XOM\",\"XOM\"],\"bottom\":{\"__ndarray__\":\"AAAAAAAAAAAAAAAAgLXUQAAAAAAAAAAAAAAAAOAG8UAAAAAAAICYQAAAAABgW/VAAAAAAAA0sEAAAAAAoJEAQQAAAACAU8VAAAAAANACBEEAAAAAQF3QQAAAAAAAAAAAAAAAAAAAAAAAAAAAQLP0QAAAAAAgi/VAAAAAANDL+UAAAAAAoC37QAAAAABARPxAAAAAAJBBA0EAAAAAcBMEQQAAAADYegVBAAAAAJhIBkEAAAAAOBUHQQAAAABA9gdBAAAAAAAAAAAAAAAAAAAAAAAAAAAAS8NAAAAAAABcokAAAAAAAIa+QAAAAAAABchAAAAAAID71UAAAAAAAKfbQAAAAACgROZAAAAAAAAAAAAAAAAAAAAAAAAAAAAAAAAAAAAAAIDq1EAAAAAAQD/bQAAAAACAV9ZAAAAAAKAx6UAAAAAAwLrrQAAAAACAXN5AAAAAAAAAAAAAAAAAAAAAAAAAAABA29dAAAAAAMAu2UAAAAAA4NbpQAAAAABAvN1AAAAAACB47EAAAAAAYFPiQAAAAACAjuZAAAAAAMDN60AAAAAAAAAAAAAAAAAAAAAAAAAAAAAAAAAAAAAAAAAAAAAAAACAI9RAAAAAAKCc5EAAAAAAgHHoQAAAAADAptlAAAAAAMBu2kAAAAAA4GHjQAAAAABAx+ZAAAAAAICN0kAAAAAAgPjbQAAAAABg9+JAAAAAAABA6kAAAAAAIJvuQAAAAAAAAAAAAAAAAACUpEAAAAAAAIq6QAAAAACAhc9AAAAAAMAN00AAAAAAAI7WQAAAAAAglOVAAAAAAKCw50AAAAAAABDfQAAAAADA+eBAAAAAAEBG4UAAAAAAoNflQAAAAADAPOJAAAAAAMBB40AAAAAAoA/pQAAAAAAAAAAAAAAAAIBtzEAAAAAAQHPRQAAAAAAAAAAAAAAAAMCU1EAAAAAAgMHiQAAAAAAAiMdAAAAAAOB95EAAAAAAYNvmQAAAAAAAVOdAAAAAAAAAAAAAAAAAADW6QAAAAACgH+RAAAAAALBp9EAAAAAAgKP0QAAAAAAAAAAAAAAAAIBWxkAAAAAAQBXgQAAAAAAgAvNAAAAAAKDp9kAAAAAAkMD4QAAAAAAwJ/xAAAAAALDN/UAAAAAA0Ez+QAAAAADgqf5AAAAAALiFAEEAAAAAYOEAQQAAAADILAFBAAAAAPCXAUEAAAAAiGwCQQAAAAAoxAJBAAAAAJgtBEEAAAAAYJUEQQAAAACoLAVBAAAAAFhBCkEAAAAAqCkLQQAAAACwEA1BAAAAAJC5D0EAAAAAJGkQQQAAAABQtBBBAAAAAOwnEkEAAAAACJcSQQAAAAC4nRNBAAAAACwbFUEAAAAAKA4WQQAAAABkQxZBAAAAAJxEF0EAAAAAoLMXQQAAAAAAnt9AAAAAAKBN6UAAAAAAYHvtQAAAAAAgP+xAAAAAABBP9kAAAAAAwFbeQAAAAAAgQ+BAAAAAACDC60A=\",\"dtype\":\"float64\",\"order\":\"little\",\"shape\":[139]},\"top\":{\"__ndarray__\":\"AAAAAIC11EAAAAAA4AbxQAAAAAAAgJhAAAAAAGBb9UAAAAAAADSwQAAAAACgkQBBAAAAAIBTxUAAAAAA0AIEQQAAAABAXdBAAAAAAFBRD0EAAAAAQMfmQAAAAADAbtpAAAAAAECz9EAAAAAAIIv1QAAAAADQy/lAAAAAAKAt+0AAAAAAQET8QAAAAACQQQNBAAAAAHATBEEAAAAA2HoFQQAAAACYSAZBAAAAADgVB0EAAAAAQPYHQQAAAABIwglBAAAAAABLw0AAAAAAAFyiQAAAAACgH+RAAAAAAACGvkAAAAAAAAXIQAAAAACA+9VAAAAAAACn20AAAAAAoETmQAAAAADAO+lAAAAAAIDq1EAAAAAAgFfWQAAAAABAP9tAAAAAAKAx6UAAAAAAABDfQAAAAACAXN5AAAAAAMC660AAAAAAYPr1QAAAAACg1+VAAAAAAEDb10AAAAAAwC7ZQAAAAADg1ulAAAAAAEC83UAAAAAAIHjsQAAAAABgU+JAAAAAAEC97EAAAAAAgI7mQAAAAADAzetAAAAAAJDC80AAAAAAgI3SQAAAAABANftAAAAAAIAj1EAAAAAAwKbZQAAAAACgnORAAAAAAIBx6EAAAAAA4PvoQAAAAAAAnt9AAAAAAOBh40AAAAAA4HrkQAAAAACA8ulAAAAAAID420AAAAAAYPfiQAAAAAAAQOpAAAAAACCb7kAAAAAAgH3wQAAAAAAAlKRAAAAAAACKukAAAAAAgIXPQAAAAADADdNAAAAAAACO1kAAAAAAIJTlQAAAAACgsOdAAAAAAMCT6kAAAAAAwPngQAAAAABARuFAAAAAAMA84kAAAAAAoA/pQAAAAADAQeNAAAAAAOAI5EAAAAAAID/sQAAAAACAbcxAAAAAAEBz0UAAAAAAwJTUQAAAAAAAiMdAAAAAAIDB4kAAAAAA4H3kQAAAAADAVt5AAAAAAGDb5kAAAAAAAFTnQAAAAADA0elAAAAAAAA1ukAAAAAAQJXkQAAAAACwafRAAAAAAICj9EAAAAAAYGP1QAAAAACAVsZAAAAAAEAV4EAAAAAAIALzQAAAAACg6fZAAAAAAJDA+EAAAAAAMCf8QAAAAACwzf1AAAAAANBM/kAAAAAA4Kn+QAAAAAC4hQBBAAAAAGDhAEEAAAAAyCwBQQAAAADwlwFBAAAAAIhsAkEAAAAAKMQCQQAAAACYLQRBAAAAAGCVBEEAAAAAqCwFQQAAAABYQQpBAAAAAKgpC0EAAAAAsBANQQAAAACQuQ9BAAAAACRpEEEAAAAAULQQQQAAAADsJxJBAAAAAAiXEkEAAAAAuJ0TQQAAAAAsGxVBAAAAACgOFkEAAAAAZEMWQQAAAACcRBdBAAAAAKCzF0EAAAAACE4YQQAAAACgTelAAAAAAGB77UAAAAAAAEz4QAAAAAAQT/ZAAAAAADAN+EAAAAAAIEPgQAAAAAAgwutAAAAAAMAL7UA=\",\"dtype\":\"float64\",\"order\":\"little\",\"shape\":[139]}},\"selected\":{\"id\":\"1692\"},\"selection_policy\":{\"id\":\"1715\"}},\"id\":\"1691\",\"type\":\"ColumnDataSource\"},{\"attributes\":{},\"id\":\"1677\",\"type\":\"SaveTool\"},{\"attributes\":{},\"id\":\"1678\",\"type\":\"PanTool\"},{\"attributes\":{},\"id\":\"1715\",\"type\":\"UnionRenderers\"},{\"attributes\":{\"factors\":[\"AAPL\",\"AMZN\",\"BBBY\",\"CCJ\",\"CHPT\",\"DKNG\",\"F\",\"GM\",\"JPM\",\"META\",\"NIO\",\"OXY\",\"PLUG\",\"SBUX\",\"SNAP\",\"SWN\",\"TSLA\",\"TWTR\",\"UBER\",\"XOM\"],\"tags\":[[[\"Symbol\",\"Symbol\",null]]]},\"id\":\"1658\",\"type\":\"FactorRange\"},{\"attributes\":{\"overlay\":{\"id\":\"1682\"}},\"id\":\"1680\",\"type\":\"BoxZoomTool\"},{\"attributes\":{},\"id\":\"1706\",\"type\":\"AllLabels\"},{\"attributes\":{},\"id\":\"1703\",\"type\":\"AllLabels\"},{\"attributes\":{\"bottom\":{\"field\":\"bottom\"},\"fill_alpha\":{\"value\":0.2},\"fill_color\":{\"field\":\"Strike\",\"transform\":{\"id\":\"1690\"}},\"hatch_alpha\":{\"value\":0.2},\"hatch_color\":{\"field\":\"Strike\",\"transform\":{\"id\":\"1690\"}},\"line_alpha\":{\"value\":0.2},\"top\":{\"field\":\"top\"},\"width\":{\"value\":0.8},\"x\":{\"field\":\"Symbol\"}},\"id\":\"1696\",\"type\":\"VBar\"},{\"attributes\":{},\"id\":\"1681\",\"type\":\"ResetTool\"},{\"attributes\":{},\"id\":\"1702\",\"type\":\"CategoricalTickFormatter\"},{\"attributes\":{\"axis\":{\"id\":\"1673\"},\"coordinates\":null,\"dimension\":1,\"grid_line_color\":null,\"group\":null,\"ticker\":null},\"id\":\"1676\",\"type\":\"Grid\"}],\"root_ids\":[\"1656\"]},\"title\":\"Bokeh Application\",\"version\":\"2.4.3\"}};\n",
       "    var render_items = [{\"docid\":\"b884fc89-9fc0-4197-9680-4a4f0400cf53\",\"root_ids\":[\"1656\"],\"roots\":{\"1656\":\"c54ffa42-fe53-4b93-aefc-2c6f53ccd5db\"}}];\n",
       "    root.Bokeh.embed.embed_items_notebook(docs_json, render_items);\n",
       "  }\n",
       "  if (root.Bokeh !== undefined && root.Bokeh.Panel !== undefined) {\n",
       "    embed_document(root);\n",
       "  } else {\n",
       "    var attempts = 0;\n",
       "    var timer = setInterval(function(root) {\n",
       "      if (root.Bokeh !== undefined && root.Bokeh.Panel !== undefined) {\n",
       "        clearInterval(timer);\n",
       "        embed_document(root);\n",
       "      } else if (document.readyState == \"complete\") {\n",
       "        attempts++;\n",
       "        if (attempts > 200) {\n",
       "          clearInterval(timer);\n",
       "          console.log(\"Bokeh: ERROR: Unable to run BokehJS code because BokehJS library is missing\");\n",
       "        }\n",
       "      }\n",
       "    }, 25, root)\n",
       "  }\n",
       "})(window);</script>"
      ],
      "text/plain": [
       ":Bars   [Symbol,Strike]   (Open Int)"
      ]
     },
     "execution_count": 17,
     "metadata": {
      "application/vnd.holoviews_exec.v0+json": {
       "id": "1656"
      }
     },
     "output_type": "execute_result"
    }
   ],
   "source": [
    "df = get_data(date)\n",
    "\n",
    "\n",
    "calls = df[df['Type'] == 'Call'].drop(columns='Price')\n",
    "\n",
    "\n",
    "calls['CnP'] = calls.groupby('Symbol')['Open Int'].transform('sum')\n",
    "\n",
    "\n",
    "tmp = calls.sort_values(by= 'CnP', ascending=False)\n",
    "\n",
    "\n",
    "tmp_top20 = tmp.groupby('Symbol').agg({'Open Int':'sum'}).sort_values(by= 'Open Int', ascending= False).iloc[:20]\n",
    "\n",
    "\n",
    "top20_calls = tmp[tmp.Symbol.isin(tmp_top20.index)]\\\n",
    ".sort_values(['Symbol','Type','Strike','Open Int'])[['Symbol','Type','Strike','Open Int']]\\\n",
    ".set_index(['Symbol','Type','Strike'])\n",
    "\n",
    "#hvplot the call list\n",
    "options_call = top20_calls.hvplot.bar(\n",
    "    x= 'Symbol',\n",
    "    y='Open Int',\n",
    "    by='Strike',\n",
    "    width=1000,\n",
    "    height=800,\n",
    "    rot=90,\n",
    "    color='#259646',\n",
    "    legend=False,\n",
    "    label='Call',\n",
    "    stacked= True,\n",
    "    yformatter=\"%.0f\"\n",
    ")\n",
    "\n",
    "options_call"
   ]
  },
  {
   "cell_type": "code",
   "execution_count": null,
   "metadata": {},
   "outputs": [],
   "source": []
  },
  {
   "cell_type": "code",
   "execution_count": null,
   "metadata": {},
   "outputs": [],
   "source": []
  },
  {
   "cell_type": "code",
   "execution_count": null,
   "metadata": {},
   "outputs": [],
   "source": []
  }
 ],
 "metadata": {
  "kernelspec": {
   "display_name": "Python 3.7.13 ('dev')",
   "language": "python",
   "name": "python3"
  },
  "language_info": {
   "codemirror_mode": {
    "name": "ipython",
    "version": 3
   },
   "file_extension": ".py",
   "mimetype": "text/x-python",
   "name": "python",
   "nbconvert_exporter": "python",
   "pygments_lexer": "ipython3",
   "version": "3.7.13"
  },
  "orig_nbformat": 4,
  "vscode": {
   "interpreter": {
    "hash": "c15db3377afa3dcb659dfa4a45bef3fc6c9aec87eaa6dcb1828c53c173a1512b"
   }
  }
 },
 "nbformat": 4,
 "nbformat_minor": 2
}
