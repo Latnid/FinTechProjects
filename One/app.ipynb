{
 "cells": [
  {
   "cell_type": "code",
   "execution_count": 15,
   "metadata": {},
   "outputs": [],
   "source": [
    "import fire\n",
    "import os\n",
    "import requests\n",
    "import pandas as pd\n",
    "from dotenv import load_dotenv\n",
    "load_dotenv()\n",
    "import numpy as np\n",
    "import alpaca_trade_api as alpaca\n",
    "import questionary\n",
    "import hvplot.pandas\n",
    "\n",
    "from qualifier.utils.alpaca_api import alpaca_func\n",
    "\n",
    "from qualifier.utils.analysis import largest_20_OI\n",
    "from qualifier.utils.analysis import largest_20_OI_plot\n",
    "from qualifier.utils.analysis import options_call_bar\n",
    "from qualifier.utils.analysis import options_put_bar\n",
    "from qualifier.utils.analysis import put_stats\n",
    "from qualifier.utils.analysis import call_stats\n",
    "from qualifier.utils.analysis import ticker_report\n",
    "from qualifier.utils.analysis import option_change_top_20\n",
    "\n",
    "from Modules.CleanData import get_data\n",
    "from qualifier.utils.SQL import add_new_table"
   ]
  },
  {
   "cell_type": "markdown",
   "metadata": {},
   "source": [
    "# Alpaca API"
   ]
  },
  {
   "cell_type": "code",
   "execution_count": 16,
   "metadata": {},
   "outputs": [],
   "source": [
    "# Gets Alpaca key and secret from .env.\n",
    "alpaca_key = os.getenv(\"ALPACA_API_KEY\")\n",
    "alpaca_secret = os.getenv(\"ALPACA_SECRET_KEY\")\n",
    "\n",
    "# Specify dates for Alpaca API.\n",
    "start_date = \"2022-09-12\"\n",
    "end_date = \"2022-09-16\"\n",
    "\n",
    "# Specify ticker of stock to get info from Alpaca API.\n",
    "stock = \"AAPL\""
   ]
  },
  {
   "cell_type": "code",
   "execution_count": 17,
   "metadata": {},
   "outputs": [
    {
     "data": {
      "text/html": [
       "<div>\n",
       "<style scoped>\n",
       "    .dataframe tbody tr th:only-of-type {\n",
       "        vertical-align: middle;\n",
       "    }\n",
       "\n",
       "    .dataframe tbody tr th {\n",
       "        vertical-align: top;\n",
       "    }\n",
       "\n",
       "    .dataframe thead th {\n",
       "        text-align: right;\n",
       "    }\n",
       "</style>\n",
       "<table border=\"1\" class=\"dataframe\">\n",
       "  <thead>\n",
       "    <tr style=\"text-align: right;\">\n",
       "      <th></th>\n",
       "      <th>open</th>\n",
       "      <th>high</th>\n",
       "      <th>low</th>\n",
       "      <th>close</th>\n",
       "      <th>volume</th>\n",
       "      <th>trade_count</th>\n",
       "      <th>vwap</th>\n",
       "    </tr>\n",
       "    <tr>\n",
       "      <th>timestamp</th>\n",
       "      <th></th>\n",
       "      <th></th>\n",
       "      <th></th>\n",
       "      <th></th>\n",
       "      <th></th>\n",
       "      <th></th>\n",
       "      <th></th>\n",
       "    </tr>\n",
       "  </thead>\n",
       "  <tbody>\n",
       "    <tr>\n",
       "      <th>2022-09-12 04:00:00+00:00</th>\n",
       "      <td>159.57</td>\n",
       "      <td>164.26</td>\n",
       "      <td>159.3000</td>\n",
       "      <td>163.43</td>\n",
       "      <td>104955951</td>\n",
       "      <td>801510</td>\n",
       "      <td>162.476350</td>\n",
       "    </tr>\n",
       "    <tr>\n",
       "      <th>2022-09-13 04:00:00+00:00</th>\n",
       "      <td>160.00</td>\n",
       "      <td>160.54</td>\n",
       "      <td>153.3700</td>\n",
       "      <td>153.84</td>\n",
       "      <td>122534825</td>\n",
       "      <td>1016901</td>\n",
       "      <td>156.155955</td>\n",
       "    </tr>\n",
       "    <tr>\n",
       "      <th>2022-09-14 04:00:00+00:00</th>\n",
       "      <td>154.79</td>\n",
       "      <td>157.10</td>\n",
       "      <td>153.6106</td>\n",
       "      <td>155.31</td>\n",
       "      <td>87944110</td>\n",
       "      <td>715880</td>\n",
       "      <td>155.261313</td>\n",
       "    </tr>\n",
       "    <tr>\n",
       "      <th>2022-09-15 04:00:00+00:00</th>\n",
       "      <td>154.70</td>\n",
       "      <td>155.24</td>\n",
       "      <td>151.3800</td>\n",
       "      <td>152.37</td>\n",
       "      <td>90353619</td>\n",
       "      <td>740014</td>\n",
       "      <td>153.006880</td>\n",
       "    </tr>\n",
       "    <tr>\n",
       "      <th>2022-09-16 04:00:00+00:00</th>\n",
       "      <td>151.33</td>\n",
       "      <td>151.35</td>\n",
       "      <td>148.3700</td>\n",
       "      <td>150.70</td>\n",
       "      <td>163574426</td>\n",
       "      <td>850046</td>\n",
       "      <td>150.227405</td>\n",
       "    </tr>\n",
       "  </tbody>\n",
       "</table>\n",
       "</div>"
      ],
      "text/plain": [
       "                             open    high       low   close     volume  \\\n",
       "timestamp                                                                \n",
       "2022-09-12 04:00:00+00:00  159.57  164.26  159.3000  163.43  104955951   \n",
       "2022-09-13 04:00:00+00:00  160.00  160.54  153.3700  153.84  122534825   \n",
       "2022-09-14 04:00:00+00:00  154.79  157.10  153.6106  155.31   87944110   \n",
       "2022-09-15 04:00:00+00:00  154.70  155.24  151.3800  152.37   90353619   \n",
       "2022-09-16 04:00:00+00:00  151.33  151.35  148.3700  150.70  163574426   \n",
       "\n",
       "                           trade_count        vwap  \n",
       "timestamp                                           \n",
       "2022-09-12 04:00:00+00:00       801510  162.476350  \n",
       "2022-09-13 04:00:00+00:00      1016901  156.155955  \n",
       "2022-09-14 04:00:00+00:00       715880  155.261313  \n",
       "2022-09-15 04:00:00+00:00       740014  153.006880  \n",
       "2022-09-16 04:00:00+00:00       850046  150.227405  "
      ]
     },
     "execution_count": 17,
     "metadata": {},
     "output_type": "execute_result"
    }
   ],
   "source": [
    "# Calling alpaca_func\n",
    "alpaca_func(alpaca_key, alpaca_secret, start_date, end_date, stock)"
   ]
  },
  {
   "cell_type": "markdown",
   "metadata": {},
   "source": [
    "# Tao's Code"
   ]
  },
  {
   "cell_type": "code",
   "execution_count": 18,
   "metadata": {},
   "outputs": [],
   "source": [
    "# Specify date for Tao's code.\n",
    "# Tao's code takes year at the end.\n",
    "\n",
    "date = \"09-16-2022\""
   ]
  },
  {
   "cell_type": "code",
   "execution_count": 19,
   "metadata": {},
   "outputs": [],
   "source": [
    "# Calling get_data()\n",
    "df = get_data(date)\n"
   ]
  },
  {
   "cell_type": "code",
   "execution_count": 20,
   "metadata": {},
   "outputs": [
    {
     "data": {},
     "metadata": {},
     "output_type": "display_data"
    },
    {
     "data": {
      "application/vnd.holoviews_exec.v0+json": "",
      "text/html": [
       "<div id='1851'>\n",
       "  <div class=\"bk-root\" id=\"818756ea-9f88-4ea0-b90c-6d0cf4141174\" data-root-id=\"1851\"></div>\n",
       "</div>\n",
       "<script type=\"application/javascript\">(function(root) {\n",
       "  function embed_document(root) {\n",
       "    var docs_json = {\"fa31caf4-e450-4c2e-a5c3-977f7666245e\":{\"defs\":[{\"extends\":null,\"module\":null,\"name\":\"ReactiveHTML1\",\"overrides\":[],\"properties\":[]},{\"extends\":null,\"module\":null,\"name\":\"FlexBox1\",\"overrides\":[],\"properties\":[{\"default\":\"flex-start\",\"kind\":null,\"name\":\"align_content\"},{\"default\":\"flex-start\",\"kind\":null,\"name\":\"align_items\"},{\"default\":\"row\",\"kind\":null,\"name\":\"flex_direction\"},{\"default\":\"wrap\",\"kind\":null,\"name\":\"flex_wrap\"},{\"default\":\"flex-start\",\"kind\":null,\"name\":\"justify_content\"}]},{\"extends\":null,\"module\":null,\"name\":\"GridStack1\",\"overrides\":[],\"properties\":[{\"default\":\"warn\",\"kind\":null,\"name\":\"mode\"},{\"default\":null,\"kind\":null,\"name\":\"ncols\"},{\"default\":null,\"kind\":null,\"name\":\"nrows\"},{\"default\":true,\"kind\":null,\"name\":\"allow_resize\"},{\"default\":true,\"kind\":null,\"name\":\"allow_drag\"},{\"default\":[],\"kind\":null,\"name\":\"state\"}]},{\"extends\":null,\"module\":null,\"name\":\"click1\",\"overrides\":[],\"properties\":[{\"default\":\"\",\"kind\":null,\"name\":\"terminal_output\"},{\"default\":\"\",\"kind\":null,\"name\":\"debug_name\"},{\"default\":0,\"kind\":null,\"name\":\"clears\"}]},{\"extends\":null,\"module\":null,\"name\":\"NotificationAreaBase1\",\"overrides\":[],\"properties\":[{\"default\":\"bottom-right\",\"kind\":null,\"name\":\"position\"},{\"default\":0,\"kind\":null,\"name\":\"_clear\"}]},{\"extends\":null,\"module\":null,\"name\":\"NotificationArea1\",\"overrides\":[],\"properties\":[{\"default\":[],\"kind\":null,\"name\":\"notifications\"},{\"default\":\"bottom-right\",\"kind\":null,\"name\":\"position\"},{\"default\":0,\"kind\":null,\"name\":\"_clear\"},{\"default\":[{\"background\":\"#ffc107\",\"icon\":{\"className\":\"fas fa-exclamation-triangle\",\"color\":\"white\",\"tagName\":\"i\"},\"type\":\"warning\"},{\"background\":\"#007bff\",\"icon\":{\"className\":\"fas fa-info-circle\",\"color\":\"white\",\"tagName\":\"i\"},\"type\":\"info\"}],\"kind\":null,\"name\":\"types\"}]},{\"extends\":null,\"module\":null,\"name\":\"Notification\",\"overrides\":[],\"properties\":[{\"default\":null,\"kind\":null,\"name\":\"background\"},{\"default\":3000,\"kind\":null,\"name\":\"duration\"},{\"default\":null,\"kind\":null,\"name\":\"icon\"},{\"default\":\"\",\"kind\":null,\"name\":\"message\"},{\"default\":null,\"kind\":null,\"name\":\"notification_type\"},{\"default\":false,\"kind\":null,\"name\":\"_destroyed\"}]},{\"extends\":null,\"module\":null,\"name\":\"TemplateActions1\",\"overrides\":[],\"properties\":[{\"default\":0,\"kind\":null,\"name\":\"open_modal\"},{\"default\":0,\"kind\":null,\"name\":\"close_modal\"}]},{\"extends\":null,\"module\":null,\"name\":\"MaterialTemplateActions1\",\"overrides\":[],\"properties\":[{\"default\":0,\"kind\":null,\"name\":\"open_modal\"},{\"default\":0,\"kind\":null,\"name\":\"close_modal\"}]}],\"roots\":{\"references\":[{\"attributes\":{},\"id\":\"1897\",\"type\":\"CategoricalTickFormatter\"},{\"attributes\":{\"tools\":[{\"id\":\"1855\"},{\"id\":\"1872\"},{\"id\":\"1873\"},{\"id\":\"1874\"},{\"id\":\"1875\"},{\"id\":\"1876\"}]},\"id\":\"1878\",\"type\":\"Toolbar\"},{\"attributes\":{\"fill_alpha\":{\"value\":0.1},\"fill_color\":{\"field\":\"Type\",\"transform\":{\"id\":\"1885\"}},\"hatch_alpha\":{\"value\":0.1},\"hatch_color\":{\"field\":\"Type\",\"transform\":{\"id\":\"1885\"}},\"line_alpha\":{\"value\":0.1},\"top\":{\"field\":\"Open_Int\"},\"width\":{\"value\":0.8},\"x\":{\"field\":\"xoffsets\"}},\"id\":\"1890\",\"type\":\"VBar\"},{\"attributes\":{},\"id\":\"1901\",\"type\":\"AllLabels\"},{\"attributes\":{},\"id\":\"1866\",\"type\":\"CategoricalTicker\"},{\"attributes\":{\"axis\":{\"id\":\"1865\"},\"coordinates\":null,\"grid_line_color\":null,\"group\":null,\"ticker\":null},\"id\":\"1867\",\"type\":\"Grid\"},{\"attributes\":{},\"id\":\"1872\",\"type\":\"SaveTool\"},{\"attributes\":{},\"id\":\"1873\",\"type\":\"PanTool\"},{\"attributes\":{\"source\":{\"id\":\"1886\"}},\"id\":\"1893\",\"type\":\"CDSView\"},{\"attributes\":{\"bottom_units\":\"screen\",\"coordinates\":null,\"fill_alpha\":0.5,\"fill_color\":\"lightgrey\",\"group\":null,\"left_units\":\"screen\",\"level\":\"overlay\",\"line_alpha\":1.0,\"line_color\":\"black\",\"line_dash\":[4,4],\"line_width\":2,\"right_units\":\"screen\",\"syncable\":false,\"top_units\":\"screen\"},\"id\":\"1877\",\"type\":\"BoxAnnotation\"},{\"attributes\":{},\"id\":\"1874\",\"type\":\"WheelZoomTool\"},{\"attributes\":{\"end\":161520.5,\"reset_end\":161520.5,\"reset_start\":0.0,\"tags\":[[[\"Open Int\",\"Open Int\",null]]]},\"id\":\"1854\",\"type\":\"Range1d\"},{\"attributes\":{},\"id\":\"1876\",\"type\":\"ResetTool\"},{\"attributes\":{\"margin\":[5,5,5,5],\"name\":\"HSpacer04953\",\"sizing_mode\":\"stretch_width\"},\"id\":\"1852\",\"type\":\"Spacer\"},{\"attributes\":{},\"id\":\"1887\",\"type\":\"Selection\"},{\"attributes\":{\"factors\":[[\"F\",\"Call\"],[\"F\",\"Put\"],[\"AAPL\",\"Call\"],[\"AAPL\",\"Put\"],[\"AMZN\",\"Call\"],[\"AMZN\",\"Put\"],[\"TSLA\",\"Call\"],[\"TSLA\",\"Put\"],[\"META\",\"Call\"],[\"META\",\"Put\"],[\"AMD\",\"Call\"],[\"AMD\",\"Put\"],[\"BAC\",\"Call\"],[\"BAC\",\"Put\"],[\"AAL\",\"Call\"],[\"AAL\",\"Put\"],[\"NIO\",\"Call\"],[\"NIO\",\"Put\"],[\"MSFT\",\"Call\"],[\"MSFT\",\"Put\"],[\"GOOGL\",\"Call\"],[\"GOOGL\",\"Put\"],[\"NVDA\",\"Call\"],[\"NVDA\",\"Put\"],[\"INTC\",\"Call\"],[\"INTC\",\"Put\"],[\"T\",\"Call\"],[\"T\",\"Put\"],[\"BABA\",\"Call\"],[\"BABA\",\"Put\"],[\"TWTR\",\"Call\"],[\"TWTR\",\"Put\"],[\"UBER\",\"Call\"],[\"UBER\",\"Put\"],[\"CCL\",\"Call\"],[\"CCL\",\"Put\"],[\"SNAP\",\"Call\"],[\"SNAP\",\"Put\"],[\"SBUX\",\"Call\"],[\"SBUX\",\"Put\"]],\"tags\":[[[\"Symbol\",\"Symbol\",null],[\"Type\",\"Type\",null]]]},\"id\":\"1853\",\"type\":\"FactorRange\"},{\"attributes\":{},\"id\":\"1863\",\"type\":\"LinearScale\"},{\"attributes\":{\"overlay\":{\"id\":\"1877\"}},\"id\":\"1875\",\"type\":\"BoxZoomTool\"},{\"attributes\":{\"format\":\"%0f\"},\"id\":\"1895\",\"type\":\"PrintfTickFormatter\"},{\"attributes\":{\"coordinates\":null,\"data_source\":{\"id\":\"1886\"},\"glyph\":{\"id\":\"1889\"},\"group\":null,\"hover_glyph\":null,\"muted_glyph\":{\"id\":\"1891\"},\"nonselection_glyph\":{\"id\":\"1890\"},\"selection_glyph\":{\"id\":\"1894\"},\"view\":{\"id\":\"1893\"}},\"id\":\"1892\",\"type\":\"GlyphRenderer\"},{\"attributes\":{\"children\":[{\"id\":\"1852\"},{\"id\":\"1856\"},{\"id\":\"1913\"}],\"margin\":[0,0,0,0],\"name\":\"Row04949\",\"tags\":[\"embedded\"]},\"id\":\"1851\",\"type\":\"Row\"},{\"attributes\":{\"fill_alpha\":{\"value\":0.2},\"fill_color\":{\"field\":\"Type\",\"transform\":{\"id\":\"1885\"}},\"hatch_alpha\":{\"value\":0.2},\"hatch_color\":{\"field\":\"Type\",\"transform\":{\"id\":\"1885\"}},\"line_alpha\":{\"value\":0.2},\"top\":{\"field\":\"Open_Int\"},\"width\":{\"value\":0.8},\"x\":{\"field\":\"xoffsets\"}},\"id\":\"1891\",\"type\":\"VBar\"},{\"attributes\":{},\"id\":\"1869\",\"type\":\"BasicTicker\"},{\"attributes\":{\"coordinates\":null,\"group\":null,\"text\":\"Tickers Call / Put Open Interests comparison\",\"text_color\":\"black\",\"text_font_size\":\"12pt\"},\"id\":\"1857\",\"type\":\"Title\"},{\"attributes\":{\"axis\":{\"id\":\"1868\"},\"coordinates\":null,\"dimension\":1,\"grid_line_color\":null,\"group\":null,\"ticker\":null},\"id\":\"1871\",\"type\":\"Grid\"},{\"attributes\":{\"data\":{\"Open_Int\":{\"__ndarray__\":\"AAAAAEjtAUEAAAAAgCnCQAAAAACQePxAAAAAAABx30AAAAAAIJ3rQAAAAACAUcVAAAAAAEC840AAAAAAwJXTQAAAAABgFuFAAAAAAABk3kAAAAAAAOnmQAAAAADAsNNAAAAAAABTuEAAAAAAwPLWQAAAAAAA1rZAAAAAAABxtkAAAAAAwJzfQAAAAAAA1LVAAAAAAADXwEAAAAAAAN+3QAAAAAAAUb9AAAAAAAA6vUAAAAAAAK/TQAAAAAAA6b5AAAAAAABYoEAAAAAAAJyyQAAAAAAA2LhAAAAAAIAtxEAAAAAAgNbCQAAAAABAjNlAAAAAAABn30AAAAAAQEXaQAAAAAAAurlAAAAAAADSxUAAAAAAAAa5QAAAAABA/tRAAAAAAEBj3UAAAAAAAHnUQAAAAAAAc85AAAAAAABgqUAAAAAAAHivQAAAAAAA58BAAAAAAGCH4UAAAAAAANW8QAAAAACApOdAAAAAAABEoEAAAAAAAM/PQAAAAAAAYKpAAAAAAAAhxUAAAAAAgNPDQAAAAACAus1AAAAAAAAvz0AAAAAAALSiQAAAAABAQtJAAAAAAADDukAAAAAAAFWxQAAAAACA+8NAAAAAAAC2vUAAAAAAwHvXQAAAAABAV9FAAAAAAADepUAAAAAAAHPLQAAAAAAAPqhAAAAAAADonUAAAAAAACSTQAAAAACABMZAAAAAAACytUAAAAAAgOXDQAAAAACA7MdAAAAAAADMqkAAAAAAAA6oQAAAAAAA4J9AAAAAAMDN3EAAAAAAAB+xQAAAAAAARbZAAAAAAIDTykAAAAAAAKW1QAAAAADA0eJAAAAAAABomkAAAAAAgPjUQAAAAACAHNNAAAAAAAC4kkAAAAAAgM3bQAAAAAAAIKhAAAAAAABknkAAAAAAAHKkQAAAAACAbMZAAAAAAAB8pUAAAAAAQNnRQAAAAAAA4qlAAAAAAMBa1UAAAAAAADTDQAAAAAAAWJxAAAAAAABGokAAAAAAwKzcQAAAAADA9thAAAAAAIARyUAAAAAAABThQAAAAAAARMxAAAAAAAD500AAAAAAANK9QAAAAAAABMpAAAAAAECS1EAAAAAAAMexQAAAAAAQhvRAAAAAAAACpUAAAAAAgLjeQAAAAAAAwG1AAAAAAADKwkAAAAAAwLLgQAAAAAAAbLJAAAAAAACqq0AAAAAAABqnQAAAAACAvsRAAAAAAAC+o0AAAAAAAKW4QAAAAAAACKZAAAAAAAAuoEAAAAAAALalQAAAAAAAZMBAAAAAAACkn0AAAAAAADSzQAAAAAAASLdAAAAAAIBcykAAAAAAANy8QAAAAAAALrdAAAAAAAB4rkAAAAAAgAnDQAAAAABgR+FAAAAAAAC6zUAAAAAAADnhQAAAAAAAAqhAAAAAAKA+40AAAAAAAAiQQAAAAAAASrFAAAAAAAA6sUAAAAAAAOTSQAAAAAAA+KJAAAAAAIBlxUAAAAAAACrBQAAAAAAAIK9AAAAAAAC/wEAAAAAAAMPRQAAAAAAAVqNAAAAAAACSrUAAAAAAANSnQAAAAAAAkJBAAAAAAABgdUAAAAAAABqxQAAAAAAA8KZAAAAAAAB9tUAAAAAAAPCWQAAAAAAAJJFAAAAAAABIn0AAAAAAALSuQAAAAAAAyKBAAAAAAADAa0AAAAAAAOq7QAAAAAAA/s5AAAAAAEBj2UAAAAAAANy4QAAAAAAA+bhAAAAAAADB1UAAAAAAAIW5QAAAAAAgEeNAAAAAAIC1xUAAAAAAANCVQAAAAAAAwKxAAAAAAACYz0AAAAAAAPKlQAAAAAAAL8xA\",\"dtype\":\"float64\",\"order\":\"little\",\"shape\":[171]},\"Symbol\":[\"F\",\"F\",\"F\",\"AAPL\",\"AAPL\",\"AAPL\",\"AAPL\",\"AAPL\",\"AAPL\",\"AAPL\",\"AMZN\",\"AMZN\",\"AMZN\",\"AMZN\",\"AMZN\",\"AMZN\",\"AMZN\",\"AMZN\",\"AMZN\",\"AMZN\",\"AMZN\",\"AMZN\",\"AMZN\",\"AMZN\",\"TSLA\",\"TSLA\",\"TSLA\",\"TSLA\",\"TSLA\",\"META\",\"META\",\"META\",\"META\",\"META\",\"META\",\"META\",\"AMD\",\"AMD\",\"AMD\",\"AMD\",\"AMD\",\"AMD\",\"BAC\",\"BAC\",\"AAL\",\"AAL\",\"AAL\",\"NIO\",\"NIO\",\"NIO\",\"NIO\",\"MSFT\",\"MSFT\",\"MSFT\",\"MSFT\",\"MSFT\",\"MSFT\",\"MSFT\",\"GOOGL\",\"GOOGL\",\"GOOGL\",\"GOOGL\",\"GOOGL\",\"GOOGL\",\"GOOGL\",\"NVDA\",\"NVDA\",\"NVDA\",\"NVDA\",\"NVDA\",\"NVDA\",\"NVDA\",\"INTC\",\"INTC\",\"INTC\",\"INTC\",\"INTC\",\"T\",\"T\",\"T\",\"BABA\",\"BABA\",\"BABA\",\"BABA\",\"BABA\",\"TWTR\",\"TWTR\",\"TWTR\",\"UBER\",\"CCL\",\"SNAP\",\"SNAP\",\"SBUX\",\"F\",\"F\",\"F\",\"F\",\"AAPL\",\"AAPL\",\"AAPL\",\"AAPL\",\"AAPL\",\"AAPL\",\"AMZN\",\"AMZN\",\"AMZN\",\"AMZN\",\"AMZN\",\"TSLA\",\"TSLA\",\"TSLA\",\"TSLA\",\"TSLA\",\"TSLA\",\"TSLA\",\"TSLA\",\"TSLA\",\"TSLA\",\"TSLA\",\"TSLA\",\"TSLA\",\"TSLA\",\"TSLA\",\"TSLA\",\"TSLA\",\"TSLA\",\"TSLA\",\"TSLA\",\"TSLA\",\"TSLA\",\"TSLA\",\"TSLA\",\"TSLA\",\"META\",\"AMD\",\"AMD\",\"BAC\",\"BAC\",\"BAC\",\"BAC\",\"AAL\",\"AAL\",\"NIO\",\"NIO\",\"NIO\",\"NIO\",\"NIO\",\"GOOGL\",\"NVDA\",\"NVDA\",\"NVDA\",\"NVDA\",\"NVDA\",\"NVDA\",\"INTC\",\"INTC\",\"BABA\",\"BABA\",\"TWTR\",\"TWTR\",\"UBER\",\"UBER\",\"UBER\",\"CCL\",\"CCL\",\"SNAP\",\"SNAP\",\"SBUX\",\"SBUX\",\"SBUX\",\"SBUX\"],\"Type\":[\"Put\",\"Put\",\"Put\",\"Put\",\"Put\",\"Put\",\"Put\",\"Put\",\"Put\",\"Put\",\"Put\",\"Put\",\"Put\",\"Put\",\"Put\",\"Put\",\"Put\",\"Put\",\"Put\",\"Put\",\"Put\",\"Put\",\"Put\",\"Put\",\"Put\",\"Put\",\"Put\",\"Put\",\"Put\",\"Put\",\"Put\",\"Put\",\"Put\",\"Put\",\"Put\",\"Put\",\"Put\",\"Put\",\"Put\",\"Put\",\"Put\",\"Put\",\"Put\",\"Put\",\"Put\",\"Put\",\"Put\",\"Put\",\"Put\",\"Put\",\"Put\",\"Put\",\"Put\",\"Put\",\"Put\",\"Put\",\"Put\",\"Put\",\"Put\",\"Put\",\"Put\",\"Put\",\"Put\",\"Put\",\"Put\",\"Put\",\"Put\",\"Put\",\"Put\",\"Put\",\"Put\",\"Put\",\"Put\",\"Put\",\"Put\",\"Put\",\"Put\",\"Put\",\"Put\",\"Put\",\"Put\",\"Put\",\"Put\",\"Put\",\"Put\",\"Put\",\"Put\",\"Put\",\"Put\",\"Put\",\"Put\",\"Put\",\"Put\",\"Call\",\"Call\",\"Call\",\"Call\",\"Call\",\"Call\",\"Call\",\"Call\",\"Call\",\"Call\",\"Call\",\"Call\",\"Call\",\"Call\",\"Call\",\"Call\",\"Call\",\"Call\",\"Call\",\"Call\",\"Call\",\"Call\",\"Call\",\"Call\",\"Call\",\"Call\",\"Call\",\"Call\",\"Call\",\"Call\",\"Call\",\"Call\",\"Call\",\"Call\",\"Call\",\"Call\",\"Call\",\"Call\",\"Call\",\"Call\",\"Call\",\"Call\",\"Call\",\"Call\",\"Call\",\"Call\",\"Call\",\"Call\",\"Call\",\"Call\",\"Call\",\"Call\",\"Call\",\"Call\",\"Call\",\"Call\",\"Call\",\"Call\",\"Call\",\"Call\",\"Call\",\"Call\",\"Call\",\"Call\",\"Call\",\"Call\",\"Call\",\"Call\",\"Call\",\"Call\",\"Call\",\"Call\",\"Call\",\"Call\",\"Call\",\"Call\",\"Call\",\"Call\"],\"xoffsets\":[[\"F\",\"Put\"],[\"F\",\"Put\"],[\"F\",\"Put\"],[\"AAPL\",\"Put\"],[\"AAPL\",\"Put\"],[\"AAPL\",\"Put\"],[\"AAPL\",\"Put\"],[\"AAPL\",\"Put\"],[\"AAPL\",\"Put\"],[\"AAPL\",\"Put\"],[\"AMZN\",\"Put\"],[\"AMZN\",\"Put\"],[\"AMZN\",\"Put\"],[\"AMZN\",\"Put\"],[\"AMZN\",\"Put\"],[\"AMZN\",\"Put\"],[\"AMZN\",\"Put\"],[\"AMZN\",\"Put\"],[\"AMZN\",\"Put\"],[\"AMZN\",\"Put\"],[\"AMZN\",\"Put\"],[\"AMZN\",\"Put\"],[\"AMZN\",\"Put\"],[\"AMZN\",\"Put\"],[\"TSLA\",\"Put\"],[\"TSLA\",\"Put\"],[\"TSLA\",\"Put\"],[\"TSLA\",\"Put\"],[\"TSLA\",\"Put\"],[\"META\",\"Put\"],[\"META\",\"Put\"],[\"META\",\"Put\"],[\"META\",\"Put\"],[\"META\",\"Put\"],[\"META\",\"Put\"],[\"META\",\"Put\"],[\"AMD\",\"Put\"],[\"AMD\",\"Put\"],[\"AMD\",\"Put\"],[\"AMD\",\"Put\"],[\"AMD\",\"Put\"],[\"AMD\",\"Put\"],[\"BAC\",\"Put\"],[\"BAC\",\"Put\"],[\"AAL\",\"Put\"],[\"AAL\",\"Put\"],[\"AAL\",\"Put\"],[\"NIO\",\"Put\"],[\"NIO\",\"Put\"],[\"NIO\",\"Put\"],[\"NIO\",\"Put\"],[\"MSFT\",\"Put\"],[\"MSFT\",\"Put\"],[\"MSFT\",\"Put\"],[\"MSFT\",\"Put\"],[\"MSFT\",\"Put\"],[\"MSFT\",\"Put\"],[\"MSFT\",\"Put\"],[\"GOOGL\",\"Put\"],[\"GOOGL\",\"Put\"],[\"GOOGL\",\"Put\"],[\"GOOGL\",\"Put\"],[\"GOOGL\",\"Put\"],[\"GOOGL\",\"Put\"],[\"GOOGL\",\"Put\"],[\"NVDA\",\"Put\"],[\"NVDA\",\"Put\"],[\"NVDA\",\"Put\"],[\"NVDA\",\"Put\"],[\"NVDA\",\"Put\"],[\"NVDA\",\"Put\"],[\"NVDA\",\"Put\"],[\"INTC\",\"Put\"],[\"INTC\",\"Put\"],[\"INTC\",\"Put\"],[\"INTC\",\"Put\"],[\"INTC\",\"Put\"],[\"T\",\"Put\"],[\"T\",\"Put\"],[\"T\",\"Put\"],[\"BABA\",\"Put\"],[\"BABA\",\"Put\"],[\"BABA\",\"Put\"],[\"BABA\",\"Put\"],[\"BABA\",\"Put\"],[\"TWTR\",\"Put\"],[\"TWTR\",\"Put\"],[\"TWTR\",\"Put\"],[\"UBER\",\"Put\"],[\"CCL\",\"Put\"],[\"SNAP\",\"Put\"],[\"SNAP\",\"Put\"],[\"SBUX\",\"Put\"],[\"F\",\"Call\"],[\"F\",\"Call\"],[\"F\",\"Call\"],[\"F\",\"Call\"],[\"AAPL\",\"Call\"],[\"AAPL\",\"Call\"],[\"AAPL\",\"Call\"],[\"AAPL\",\"Call\"],[\"AAPL\",\"Call\"],[\"AAPL\",\"Call\"],[\"AMZN\",\"Call\"],[\"AMZN\",\"Call\"],[\"AMZN\",\"Call\"],[\"AMZN\",\"Call\"],[\"AMZN\",\"Call\"],[\"TSLA\",\"Call\"],[\"TSLA\",\"Call\"],[\"TSLA\",\"Call\"],[\"TSLA\",\"Call\"],[\"TSLA\",\"Call\"],[\"TSLA\",\"Call\"],[\"TSLA\",\"Call\"],[\"TSLA\",\"Call\"],[\"TSLA\",\"Call\"],[\"TSLA\",\"Call\"],[\"TSLA\",\"Call\"],[\"TSLA\",\"Call\"],[\"TSLA\",\"Call\"],[\"TSLA\",\"Call\"],[\"TSLA\",\"Call\"],[\"TSLA\",\"Call\"],[\"TSLA\",\"Call\"],[\"TSLA\",\"Call\"],[\"TSLA\",\"Call\"],[\"TSLA\",\"Call\"],[\"TSLA\",\"Call\"],[\"TSLA\",\"Call\"],[\"TSLA\",\"Call\"],[\"TSLA\",\"Call\"],[\"TSLA\",\"Call\"],[\"META\",\"Call\"],[\"AMD\",\"Call\"],[\"AMD\",\"Call\"],[\"BAC\",\"Call\"],[\"BAC\",\"Call\"],[\"BAC\",\"Call\"],[\"BAC\",\"Call\"],[\"AAL\",\"Call\"],[\"AAL\",\"Call\"],[\"NIO\",\"Call\"],[\"NIO\",\"Call\"],[\"NIO\",\"Call\"],[\"NIO\",\"Call\"],[\"NIO\",\"Call\"],[\"GOOGL\",\"Call\"],[\"NVDA\",\"Call\"],[\"NVDA\",\"Call\"],[\"NVDA\",\"Call\"],[\"NVDA\",\"Call\"],[\"NVDA\",\"Call\"],[\"NVDA\",\"Call\"],[\"INTC\",\"Call\"],[\"INTC\",\"Call\"],[\"BABA\",\"Call\"],[\"BABA\",\"Call\"],[\"TWTR\",\"Call\"],[\"TWTR\",\"Call\"],[\"UBER\",\"Call\"],[\"UBER\",\"Call\"],[\"UBER\",\"Call\"],[\"CCL\",\"Call\"],[\"CCL\",\"Call\"],[\"SNAP\",\"Call\"],[\"SNAP\",\"Call\"],[\"SBUX\",\"Call\"],[\"SBUX\",\"Call\"],[\"SBUX\",\"Call\"],[\"SBUX\",\"Call\"]]},\"selected\":{\"id\":\"1887\"},\"selection_policy\":{\"id\":\"1910\"}},\"id\":\"1886\",\"type\":\"ColumnDataSource\"},{\"attributes\":{\"axis_label\":\"Tickers by Call and Put\",\"coordinates\":null,\"formatter\":{\"id\":\"1897\"},\"group\":null,\"major_label_orientation\":0.7853981633974483,\"major_label_policy\":{\"id\":\"1898\"},\"ticker\":{\"id\":\"1866\"}},\"id\":\"1865\",\"type\":\"CategoricalAxis\"},{\"attributes\":{\"callback\":null,\"renderers\":[{\"id\":\"1892\"}],\"tags\":[\"hv_created\"],\"tooltips\":[[\"Symbol\",\"@{Symbol}\"],[\"Type\",\"@{Type}\"],[\"Open Int\",\"@{Open_Int}\"]]},\"id\":\"1855\",\"type\":\"HoverTool\"},{\"attributes\":{\"fill_color\":{\"field\":\"Type\",\"transform\":{\"id\":\"1885\"}},\"hatch_color\":{\"field\":\"Type\",\"transform\":{\"id\":\"1885\"}},\"top\":{\"field\":\"Open_Int\"},\"width\":{\"value\":0.8},\"x\":{\"field\":\"xoffsets\"}},\"id\":\"1889\",\"type\":\"VBar\"},{\"attributes\":{},\"id\":\"1898\",\"type\":\"AllLabels\"},{\"attributes\":{\"axis_label\":\"Open Interests\",\"coordinates\":null,\"formatter\":{\"id\":\"1895\"},\"group\":null,\"major_label_policy\":{\"id\":\"1901\"},\"ticker\":{\"id\":\"1869\"}},\"id\":\"1868\",\"type\":\"LinearAxis\"},{\"attributes\":{\"margin\":[5,5,5,5],\"name\":\"HSpacer04954\",\"sizing_mode\":\"stretch_width\"},\"id\":\"1913\",\"type\":\"Spacer\"},{\"attributes\":{\"below\":[{\"id\":\"1865\"}],\"center\":[{\"id\":\"1867\"},{\"id\":\"1871\"}],\"height\":500,\"left\":[{\"id\":\"1868\"}],\"margin\":[5,5,5,5],\"min_border_bottom\":10,\"min_border_left\":10,\"min_border_right\":10,\"min_border_top\":10,\"renderers\":[{\"id\":\"1892\"}],\"sizing_mode\":\"fixed\",\"title\":{\"id\":\"1857\"},\"toolbar\":{\"id\":\"1878\"},\"width\":1300,\"x_range\":{\"id\":\"1853\"},\"x_scale\":{\"id\":\"1861\"},\"y_range\":{\"id\":\"1854\"},\"y_scale\":{\"id\":\"1863\"}},\"id\":\"1856\",\"subtype\":\"Figure\",\"type\":\"Plot\"},{\"attributes\":{\"bottom\":{\"value\":0},\"fill_alpha\":{\"value\":1.0},\"fill_color\":{\"field\":\"Type\",\"transform\":{\"id\":\"1885\"}},\"hatch_alpha\":{\"value\":1.0},\"hatch_color\":{\"field\":\"Type\",\"transform\":{\"id\":\"1885\"}},\"hatch_scale\":{\"value\":12.0},\"hatch_weight\":{\"value\":1.0},\"line_alpha\":{\"value\":1.0},\"line_cap\":{\"value\":\"butt\"},\"line_color\":{\"value\":\"black\"},\"line_dash\":{\"value\":[]},\"line_dash_offset\":{\"value\":0},\"line_join\":{\"value\":\"bevel\"},\"line_width\":{\"value\":1},\"top\":{\"field\":\"Open_Int\"},\"width\":{\"value\":0.8},\"x\":{\"field\":\"xoffsets\"}},\"id\":\"1894\",\"type\":\"VBar\"},{\"attributes\":{},\"id\":\"1910\",\"type\":\"UnionRenderers\"},{\"attributes\":{\"factors\":[\"Put\",\"Call\"],\"palette\":[\"#30a2da\",\"#fc4f30\"]},\"id\":\"1885\",\"type\":\"CategoricalColorMapper\"},{\"attributes\":{},\"id\":\"1861\",\"type\":\"CategoricalScale\"}],\"root_ids\":[\"1851\"]},\"title\":\"Bokeh Application\",\"version\":\"2.4.3\"}};\n",
       "    var render_items = [{\"docid\":\"fa31caf4-e450-4c2e-a5c3-977f7666245e\",\"root_ids\":[\"1851\"],\"roots\":{\"1851\":\"818756ea-9f88-4ea0-b90c-6d0cf4141174\"}}];\n",
       "    root.Bokeh.embed.embed_items_notebook(docs_json, render_items);\n",
       "  }\n",
       "  if (root.Bokeh !== undefined && root.Bokeh.Panel !== undefined) {\n",
       "    embed_document(root);\n",
       "  } else {\n",
       "    var attempts = 0;\n",
       "    var timer = setInterval(function(root) {\n",
       "      if (root.Bokeh !== undefined && root.Bokeh.Panel !== undefined) {\n",
       "        clearInterval(timer);\n",
       "        embed_document(root);\n",
       "      } else if (document.readyState == \"complete\") {\n",
       "        attempts++;\n",
       "        if (attempts > 200) {\n",
       "          clearInterval(timer);\n",
       "          console.log(\"Bokeh: ERROR: Unable to run BokehJS code because BokehJS library is missing\");\n",
       "        }\n",
       "      }\n",
       "    }, 25, root)\n",
       "  }\n",
       "})(window);</script>"
      ],
      "text/plain": [
       ":Bars   [Symbol,Type]   (Open Int)"
      ]
     },
     "execution_count": 20,
     "metadata": {
      "application/vnd.holoviews_exec.v0+json": {
       "id": "1851"
      }
     },
     "output_type": "execute_result"
    }
   ],
   "source": [
    "# Calling largest_25_OI\n",
    "largest_20_OI_plot(df)"
   ]
  },
  {
   "cell_type": "code",
   "execution_count": 22,
   "metadata": {},
   "outputs": [
    {
     "data": {
      "text/html": [
       "<div>\n",
       "<style scoped>\n",
       "    .dataframe tbody tr th:only-of-type {\n",
       "        vertical-align: middle;\n",
       "    }\n",
       "\n",
       "    .dataframe tbody tr th {\n",
       "        vertical-align: top;\n",
       "    }\n",
       "\n",
       "    .dataframe thead th {\n",
       "        text-align: right;\n",
       "    }\n",
       "</style>\n",
       "<table border=\"1\" class=\"dataframe\">\n",
       "  <thead>\n",
       "    <tr style=\"text-align: right;\">\n",
       "      <th></th>\n",
       "      <th></th>\n",
       "      <th></th>\n",
       "      <th>Price</th>\n",
       "      <th>Exp Date</th>\n",
       "      <th>DTE</th>\n",
       "      <th>Bid</th>\n",
       "      <th>Midpoint</th>\n",
       "      <th>Ask</th>\n",
       "      <th>Last</th>\n",
       "      <th>Volume</th>\n",
       "      <th>Open Int</th>\n",
       "      <th>OI Chg</th>\n",
       "      <th>IV</th>\n",
       "      <th>Time</th>\n",
       "    </tr>\n",
       "    <tr>\n",
       "      <th>Symbol</th>\n",
       "      <th>Type</th>\n",
       "      <th>Strike</th>\n",
       "      <th></th>\n",
       "      <th></th>\n",
       "      <th></th>\n",
       "      <th></th>\n",
       "      <th></th>\n",
       "      <th></th>\n",
       "      <th></th>\n",
       "      <th></th>\n",
       "      <th></th>\n",
       "      <th></th>\n",
       "      <th></th>\n",
       "      <th></th>\n",
       "    </tr>\n",
       "  </thead>\n",
       "  <tbody>\n",
       "    <tr>\n",
       "      <th rowspan=\"5\" valign=\"top\">F</th>\n",
       "      <th rowspan=\"3\" valign=\"top\">Put</th>\n",
       "      <th>16.0</th>\n",
       "      <td>14.72</td>\n",
       "      <td>2022-09-16</td>\n",
       "      <td>0.0</td>\n",
       "      <td>1.25</td>\n",
       "      <td>1.29</td>\n",
       "      <td>1.33</td>\n",
       "      <td>1.32</td>\n",
       "      <td>1484.0</td>\n",
       "      <td>146857.0</td>\n",
       "      <td>-363.0</td>\n",
       "      <td>1.1944</td>\n",
       "      <td>2022-09-16</td>\n",
       "    </tr>\n",
       "    <tr>\n",
       "      <th>15.5</th>\n",
       "      <td>14.72</td>\n",
       "      <td>2022-09-16</td>\n",
       "      <td>0.0</td>\n",
       "      <td>0.75</td>\n",
       "      <td>0.78</td>\n",
       "      <td>0.82</td>\n",
       "      <td>0.78</td>\n",
       "      <td>1593.0</td>\n",
       "      <td>9299.0</td>\n",
       "      <td>-540.0</td>\n",
       "      <td>0.8476</td>\n",
       "      <td>2022-09-16</td>\n",
       "    </tr>\n",
       "    <tr>\n",
       "      <th>15.0</th>\n",
       "      <td>14.72</td>\n",
       "      <td>2022-09-16</td>\n",
       "      <td>0.0</td>\n",
       "      <td>0.27</td>\n",
       "      <td>0.31</td>\n",
       "      <td>0.34</td>\n",
       "      <td>0.28</td>\n",
       "      <td>53975.0</td>\n",
       "      <td>116617.0</td>\n",
       "      <td>-9042.0</td>\n",
       "      <td>0.5279</td>\n",
       "      <td>2022-09-16</td>\n",
       "    </tr>\n",
       "    <tr>\n",
       "      <th rowspan=\"2\" valign=\"top\">Call</th>\n",
       "      <th>14.5</th>\n",
       "      <td>14.72</td>\n",
       "      <td>2022-09-16</td>\n",
       "      <td>0.0</td>\n",
       "      <td>0.17</td>\n",
       "      <td>0.22</td>\n",
       "      <td>0.26</td>\n",
       "      <td>0.22</td>\n",
       "      <td>11530.0</td>\n",
       "      <td>2339.0</td>\n",
       "      <td>-857.0</td>\n",
       "      <td>0.3949</td>\n",
       "      <td>2022-09-16</td>\n",
       "    </tr>\n",
       "    <tr>\n",
       "      <th>14.0</th>\n",
       "      <td>14.72</td>\n",
       "      <td>2022-09-16</td>\n",
       "      <td>0.0</td>\n",
       "      <td>0.67</td>\n",
       "      <td>0.72</td>\n",
       "      <td>0.76</td>\n",
       "      <td>0.73</td>\n",
       "      <td>3157.0</td>\n",
       "      <td>29363.0</td>\n",
       "      <td>-485.0</td>\n",
       "      <td>0.6033</td>\n",
       "      <td>2022-09-16</td>\n",
       "    </tr>\n",
       "  </tbody>\n",
       "</table>\n",
       "</div>"
      ],
      "text/plain": [
       "                    Price    Exp Date  DTE   Bid  Midpoint   Ask  Last  \\\n",
       "Symbol Type Strike                                                       \n",
       "F      Put  16.0    14.72  2022-09-16  0.0  1.25      1.29  1.33  1.32   \n",
       "            15.5    14.72  2022-09-16  0.0  0.75      0.78  0.82  0.78   \n",
       "            15.0    14.72  2022-09-16  0.0  0.27      0.31  0.34  0.28   \n",
       "       Call 14.5    14.72  2022-09-16  0.0  0.17      0.22  0.26  0.22   \n",
       "            14.0    14.72  2022-09-16  0.0  0.67      0.72  0.76  0.73   \n",
       "\n",
       "                     Volume  Open Int  OI Chg      IV        Time  \n",
       "Symbol Type Strike                                                 \n",
       "F      Put  16.0     1484.0  146857.0  -363.0  1.1944  2022-09-16  \n",
       "            15.5     1593.0    9299.0  -540.0  0.8476  2022-09-16  \n",
       "            15.0    53975.0  116617.0 -9042.0  0.5279  2022-09-16  \n",
       "       Call 14.5    11530.0    2339.0  -857.0  0.3949  2022-09-16  \n",
       "            14.0     3157.0   29363.0  -485.0  0.6033  2022-09-16  "
      ]
     },
     "metadata": {},
     "output_type": "display_data"
    }
   ],
   "source": [
    "top_OI = largest_20_OI(df).head()\n",
    "display(top_OI)"
   ]
  },
  {
   "cell_type": "code",
   "execution_count": 36,
   "metadata": {},
   "outputs": [
    {
     "data": {},
     "metadata": {},
     "output_type": "display_data"
    },
    {
     "data": {
      "application/vnd.holoviews_exec.v0+json": "",
      "text/html": [
       "<div id='3526'>\n",
       "  <div class=\"bk-root\" id=\"56b7d75d-49c3-4d21-9c9f-9ef6234ee73d\" data-root-id=\"3526\"></div>\n",
       "</div>\n",
       "<script type=\"application/javascript\">(function(root) {\n",
       "  function embed_document(root) {\n",
       "    var docs_json = {\"5df452dd-abd5-4679-b569-c2420a45cee2\":{\"defs\":[{\"extends\":null,\"module\":null,\"name\":\"ReactiveHTML1\",\"overrides\":[],\"properties\":[]},{\"extends\":null,\"module\":null,\"name\":\"FlexBox1\",\"overrides\":[],\"properties\":[{\"default\":\"flex-start\",\"kind\":null,\"name\":\"align_content\"},{\"default\":\"flex-start\",\"kind\":null,\"name\":\"align_items\"},{\"default\":\"row\",\"kind\":null,\"name\":\"flex_direction\"},{\"default\":\"wrap\",\"kind\":null,\"name\":\"flex_wrap\"},{\"default\":\"flex-start\",\"kind\":null,\"name\":\"justify_content\"}]},{\"extends\":null,\"module\":null,\"name\":\"GridStack1\",\"overrides\":[],\"properties\":[{\"default\":\"warn\",\"kind\":null,\"name\":\"mode\"},{\"default\":null,\"kind\":null,\"name\":\"ncols\"},{\"default\":null,\"kind\":null,\"name\":\"nrows\"},{\"default\":true,\"kind\":null,\"name\":\"allow_resize\"},{\"default\":true,\"kind\":null,\"name\":\"allow_drag\"},{\"default\":[],\"kind\":null,\"name\":\"state\"}]},{\"extends\":null,\"module\":null,\"name\":\"click1\",\"overrides\":[],\"properties\":[{\"default\":\"\",\"kind\":null,\"name\":\"terminal_output\"},{\"default\":\"\",\"kind\":null,\"name\":\"debug_name\"},{\"default\":0,\"kind\":null,\"name\":\"clears\"}]},{\"extends\":null,\"module\":null,\"name\":\"NotificationAreaBase1\",\"overrides\":[],\"properties\":[{\"default\":\"bottom-right\",\"kind\":null,\"name\":\"position\"},{\"default\":0,\"kind\":null,\"name\":\"_clear\"}]},{\"extends\":null,\"module\":null,\"name\":\"NotificationArea1\",\"overrides\":[],\"properties\":[{\"default\":[],\"kind\":null,\"name\":\"notifications\"},{\"default\":\"bottom-right\",\"kind\":null,\"name\":\"position\"},{\"default\":0,\"kind\":null,\"name\":\"_clear\"},{\"default\":[{\"background\":\"#ffc107\",\"icon\":{\"className\":\"fas fa-exclamation-triangle\",\"color\":\"white\",\"tagName\":\"i\"},\"type\":\"warning\"},{\"background\":\"#007bff\",\"icon\":{\"className\":\"fas fa-info-circle\",\"color\":\"white\",\"tagName\":\"i\"},\"type\":\"info\"}],\"kind\":null,\"name\":\"types\"}]},{\"extends\":null,\"module\":null,\"name\":\"Notification\",\"overrides\":[],\"properties\":[{\"default\":null,\"kind\":null,\"name\":\"background\"},{\"default\":3000,\"kind\":null,\"name\":\"duration\"},{\"default\":null,\"kind\":null,\"name\":\"icon\"},{\"default\":\"\",\"kind\":null,\"name\":\"message\"},{\"default\":null,\"kind\":null,\"name\":\"notification_type\"},{\"default\":false,\"kind\":null,\"name\":\"_destroyed\"}]},{\"extends\":null,\"module\":null,\"name\":\"TemplateActions1\",\"overrides\":[],\"properties\":[{\"default\":0,\"kind\":null,\"name\":\"open_modal\"},{\"default\":0,\"kind\":null,\"name\":\"close_modal\"}]},{\"extends\":null,\"module\":null,\"name\":\"MaterialTemplateActions1\",\"overrides\":[],\"properties\":[{\"default\":0,\"kind\":null,\"name\":\"open_modal\"},{\"default\":0,\"kind\":null,\"name\":\"close_modal\"}]}],\"roots\":{\"references\":[{\"attributes\":{\"fill_alpha\":{\"value\":0.2},\"fill_color\":{\"field\":\"Type\",\"transform\":{\"id\":\"3560\"}},\"hatch_alpha\":{\"value\":0.2},\"hatch_color\":{\"field\":\"Type\",\"transform\":{\"id\":\"3560\"}},\"line_alpha\":{\"value\":0.2},\"top\":{\"field\":\"OI_Chg\"},\"width\":{\"value\":0.8},\"x\":{\"field\":\"xoffsets\"}},\"id\":\"3566\",\"type\":\"VBar\"},{\"attributes\":{},\"id\":\"3548\",\"type\":\"PanTool\"},{\"attributes\":{\"source\":{\"id\":\"3561\"}},\"id\":\"3568\",\"type\":\"CDSView\"},{\"attributes\":{\"below\":[{\"id\":\"3540\"}],\"center\":[{\"id\":\"3542\"},{\"id\":\"3546\"}],\"height\":500,\"left\":[{\"id\":\"3543\"}],\"margin\":[5,5,5,5],\"min_border_bottom\":10,\"min_border_left\":10,\"min_border_right\":10,\"min_border_top\":10,\"renderers\":[{\"id\":\"3567\"}],\"sizing_mode\":\"fixed\",\"title\":{\"id\":\"3532\"},\"toolbar\":{\"id\":\"3553\"},\"width\":1300,\"x_range\":{\"id\":\"3528\"},\"x_scale\":{\"id\":\"3536\"},\"y_range\":{\"id\":\"3529\"},\"y_scale\":{\"id\":\"3538\"}},\"id\":\"3531\",\"subtype\":\"Figure\",\"type\":\"Plot\"},{\"attributes\":{},\"id\":\"3549\",\"type\":\"WheelZoomTool\"},{\"attributes\":{\"tools\":[{\"id\":\"3530\"},{\"id\":\"3547\"},{\"id\":\"3548\"},{\"id\":\"3549\"},{\"id\":\"3550\"},{\"id\":\"3551\"}]},\"id\":\"3553\",\"type\":\"Toolbar\"},{\"attributes\":{},\"id\":\"3576\",\"type\":\"AllLabels\"},{\"attributes\":{},\"id\":\"3572\",\"type\":\"CategoricalTickFormatter\"},{\"attributes\":{},\"id\":\"3585\",\"type\":\"UnionRenderers\"},{\"attributes\":{\"margin\":[5,5,5,5],\"name\":\"HSpacer09990\",\"sizing_mode\":\"stretch_width\"},\"id\":\"3588\",\"type\":\"Spacer\"},{\"attributes\":{\"overlay\":{\"id\":\"3552\"}},\"id\":\"3550\",\"type\":\"BoxZoomTool\"},{\"attributes\":{},\"id\":\"3536\",\"type\":\"CategoricalScale\"},{\"attributes\":{\"coordinates\":null,\"group\":null,\"text\":\"Tickers Call / Put Open Interests comparison\",\"text_color\":\"black\",\"text_font_size\":\"12pt\"},\"id\":\"3532\",\"type\":\"Title\"},{\"attributes\":{\"children\":[{\"id\":\"3527\"},{\"id\":\"3531\"},{\"id\":\"3588\"}],\"margin\":[0,0,0,0],\"name\":\"Row09985\",\"tags\":[\"embedded\"]},\"id\":\"3526\",\"type\":\"Row\"},{\"attributes\":{\"data\":{\"OI_Chg\":{\"__ndarray__\":\"AAAAAACwdsAAAAAAAOCAwAAAAAAAqcHAAAAAAABAasAAAAAAALmzwAAAAAAAcIzAAAAAAAAus8AAAAAAABCowAAAAACAbNfAAAAAAACescAAAAAAAJSQwAAAAAAAtJXAAAAAAACwdsAAAAAAAGBkwAAAAAAA0IzAAAAAAAAgYcAAAAAAAEe2wAAAAAAAEIJAAAAAAACIlUAAAAAAACBwwAAAAAAA2IBAAAAAAABAj0AAAAAAANiHwAAAAAAAwF/AAAAAAAAANMAAAAAAAHiOQAAAAAAA2IdAAAAAAAD5skAAAAAAAP6wQAAAAAAAQGDAAAAAAAAgaMAAAAAAAOiHwAAAAAAAkHDAAAAAAADQkcAAAAAAAOB6wAAAAAAAQqnAAAAAAACATMAAAAAAAPCCwAAAAAAAKJXAAAAAAAAgecAAAAAAAFSTQAAAAAAAIIfAAAAAAAAAi8AAAAAAALiBQAAAAAAAYIHAAAAAAAA8kUAAAAAAAESQQAAAAAAAOIXAAAAAAAAAVsAAAAAAAMB1wAAAAAAAgI/AAAAAAADQfcAAAAAAALBywAAAAAAASIvAAAAAAABYi8AAAAAAAACGwAAAAAAACKHAAAAAAADAUsAAAAAAAEBawAAAAAAAgGfAAAAAAABQfsAAAAAAADCTwAAAAAAAYHXAAAAAAABgccAAAAAAAABwwAAAAAAAwIHAAAAAAADgccAAAAAAAJiEwAAAAAAAkJzAAAAAAADogcAAAAAAAEBfwAAAAAAAQFjAAAAAAAAEkMAAAAAAANB2wAAAAAAAwFLAAAAAAADMk8AAAAAAADiGQAAAAAAA8HjAAAAAAABgZcAAAAAAAMBVwAAAAAAAwF7AAAAAAADgdUAAAAAAAFiPwAAAAAAAIGfAAAAAAAAgZsAAAAAAAAAswAAAAAAAXJzAAAAAAADAfsAAAAAAAPBywAAAAAAAbqNAAAAAAAAAd0AAAAAAAHCQQAAAAAAAuINAAAAAAADIisAAAAAAAFB+wAAAAAAA0HfAAAAAAAAAaMAAAAAAgO3IwAAAAAAAwGHAAAAAAAAAbMAAAAAAAABbwAAAAAAAwGPAAAAAAABAXcAAAAAAAABfwAAAAAAAoHrAAAAAAAAAMsAAAAAAAOBkwAAAAAAAQFPAAAAAAAAwjcAAAAAAAOC6wAAAAAAAYI7AAAAAAAAwdsAAAAAAAEBzwAAAAAAAaJzAAAAAAACATcAAAAAAACBiwAAAAAAAoIjAAAAAAACAQ8AAAAAAAIBLwAAAAAAAZJDAAAAAAAAAOcAAAAAAAMBbwAAAAAAAEHXAAAAAAABAYsAAAAAAABB1wAAAAAAAAE7AAAAAAADwcMAAAAAAAMBSwAAAAAAAAGbAAAAAAAAAT8AAAAAAAIBfwAAAAAAAAFjAAAAAAACAYMAAAAAAABCOwAAAAAAAjK5AAAAAAAB4mkAAAAAAAF+2wAAAAAAAAFHAAAAAAAAeosAAAAAAABB8wAAAAAAAsHfAAAAAAAAAXsAAAAAAAJiDwAAAAAAAAEfAAAAAAACAR8AAAAAAAABNwAAAAAAAADvAAAAAAACAUsAAAAAAAEiiQAAAAAAAKJVAAAAAAACklkAAAAAAAHiCQAAAAAAA0IRAAAAAAAAAM8AAAAAAAJSYQAAAAAAADJFAAAAAAAAAMcAAAAAAALinwAAAAAAAIGDAAAAAAAAAMMAAAAAAAAAywAAAAAAAAE7AAAAAAABAesAAAAAAAMCUwAAAAAAAHJPAAAAAAABUlcAAAAAAAAAkwAAAAAAAAC7AAAAAAABAYsAAAAAAAAAywAAAAAAAAD3A\",\"dtype\":\"float64\",\"order\":\"little\",\"shape\":[171]},\"Symbol\":[\"F\",\"F\",\"F\",\"AAPL\",\"AAPL\",\"AAPL\",\"AAPL\",\"AAPL\",\"AAPL\",\"AAPL\",\"AMZN\",\"AMZN\",\"AMZN\",\"AMZN\",\"AMZN\",\"AMZN\",\"AMZN\",\"AMZN\",\"AMZN\",\"AMZN\",\"AMZN\",\"AMZN\",\"AMZN\",\"AMZN\",\"TSLA\",\"TSLA\",\"TSLA\",\"TSLA\",\"TSLA\",\"META\",\"META\",\"META\",\"META\",\"META\",\"META\",\"META\",\"AMD\",\"AMD\",\"AMD\",\"AMD\",\"AMD\",\"AMD\",\"BAC\",\"BAC\",\"AAL\",\"AAL\",\"AAL\",\"NIO\",\"NIO\",\"NIO\",\"NIO\",\"MSFT\",\"MSFT\",\"MSFT\",\"MSFT\",\"MSFT\",\"MSFT\",\"MSFT\",\"GOOGL\",\"GOOGL\",\"GOOGL\",\"GOOGL\",\"GOOGL\",\"GOOGL\",\"GOOGL\",\"NVDA\",\"NVDA\",\"NVDA\",\"NVDA\",\"NVDA\",\"NVDA\",\"NVDA\",\"INTC\",\"INTC\",\"INTC\",\"INTC\",\"INTC\",\"T\",\"T\",\"T\",\"BABA\",\"BABA\",\"BABA\",\"BABA\",\"BABA\",\"TWTR\",\"TWTR\",\"TWTR\",\"UBER\",\"CCL\",\"SNAP\",\"SNAP\",\"SBUX\",\"F\",\"F\",\"F\",\"F\",\"AAPL\",\"AAPL\",\"AAPL\",\"AAPL\",\"AAPL\",\"AAPL\",\"AMZN\",\"AMZN\",\"AMZN\",\"AMZN\",\"AMZN\",\"TSLA\",\"TSLA\",\"TSLA\",\"TSLA\",\"TSLA\",\"TSLA\",\"TSLA\",\"TSLA\",\"TSLA\",\"TSLA\",\"TSLA\",\"TSLA\",\"TSLA\",\"TSLA\",\"TSLA\",\"TSLA\",\"TSLA\",\"TSLA\",\"TSLA\",\"TSLA\",\"TSLA\",\"TSLA\",\"TSLA\",\"TSLA\",\"TSLA\",\"META\",\"AMD\",\"AMD\",\"BAC\",\"BAC\",\"BAC\",\"BAC\",\"AAL\",\"AAL\",\"NIO\",\"NIO\",\"NIO\",\"NIO\",\"NIO\",\"GOOGL\",\"NVDA\",\"NVDA\",\"NVDA\",\"NVDA\",\"NVDA\",\"NVDA\",\"INTC\",\"INTC\",\"BABA\",\"BABA\",\"TWTR\",\"TWTR\",\"UBER\",\"UBER\",\"UBER\",\"CCL\",\"CCL\",\"SNAP\",\"SNAP\",\"SBUX\",\"SBUX\",\"SBUX\",\"SBUX\"],\"Type\":[\"Put\",\"Put\",\"Put\",\"Put\",\"Put\",\"Put\",\"Put\",\"Put\",\"Put\",\"Put\",\"Put\",\"Put\",\"Put\",\"Put\",\"Put\",\"Put\",\"Put\",\"Put\",\"Put\",\"Put\",\"Put\",\"Put\",\"Put\",\"Put\",\"Put\",\"Put\",\"Put\",\"Put\",\"Put\",\"Put\",\"Put\",\"Put\",\"Put\",\"Put\",\"Put\",\"Put\",\"Put\",\"Put\",\"Put\",\"Put\",\"Put\",\"Put\",\"Put\",\"Put\",\"Put\",\"Put\",\"Put\",\"Put\",\"Put\",\"Put\",\"Put\",\"Put\",\"Put\",\"Put\",\"Put\",\"Put\",\"Put\",\"Put\",\"Put\",\"Put\",\"Put\",\"Put\",\"Put\",\"Put\",\"Put\",\"Put\",\"Put\",\"Put\",\"Put\",\"Put\",\"Put\",\"Put\",\"Put\",\"Put\",\"Put\",\"Put\",\"Put\",\"Put\",\"Put\",\"Put\",\"Put\",\"Put\",\"Put\",\"Put\",\"Put\",\"Put\",\"Put\",\"Put\",\"Put\",\"Put\",\"Put\",\"Put\",\"Put\",\"Call\",\"Call\",\"Call\",\"Call\",\"Call\",\"Call\",\"Call\",\"Call\",\"Call\",\"Call\",\"Call\",\"Call\",\"Call\",\"Call\",\"Call\",\"Call\",\"Call\",\"Call\",\"Call\",\"Call\",\"Call\",\"Call\",\"Call\",\"Call\",\"Call\",\"Call\",\"Call\",\"Call\",\"Call\",\"Call\",\"Call\",\"Call\",\"Call\",\"Call\",\"Call\",\"Call\",\"Call\",\"Call\",\"Call\",\"Call\",\"Call\",\"Call\",\"Call\",\"Call\",\"Call\",\"Call\",\"Call\",\"Call\",\"Call\",\"Call\",\"Call\",\"Call\",\"Call\",\"Call\",\"Call\",\"Call\",\"Call\",\"Call\",\"Call\",\"Call\",\"Call\",\"Call\",\"Call\",\"Call\",\"Call\",\"Call\",\"Call\",\"Call\",\"Call\",\"Call\",\"Call\",\"Call\",\"Call\",\"Call\",\"Call\",\"Call\",\"Call\",\"Call\"],\"xoffsets\":[[\"F\",\"Put\"],[\"F\",\"Put\"],[\"F\",\"Put\"],[\"AAPL\",\"Put\"],[\"AAPL\",\"Put\"],[\"AAPL\",\"Put\"],[\"AAPL\",\"Put\"],[\"AAPL\",\"Put\"],[\"AAPL\",\"Put\"],[\"AAPL\",\"Put\"],[\"AMZN\",\"Put\"],[\"AMZN\",\"Put\"],[\"AMZN\",\"Put\"],[\"AMZN\",\"Put\"],[\"AMZN\",\"Put\"],[\"AMZN\",\"Put\"],[\"AMZN\",\"Put\"],[\"AMZN\",\"Put\"],[\"AMZN\",\"Put\"],[\"AMZN\",\"Put\"],[\"AMZN\",\"Put\"],[\"AMZN\",\"Put\"],[\"AMZN\",\"Put\"],[\"AMZN\",\"Put\"],[\"TSLA\",\"Put\"],[\"TSLA\",\"Put\"],[\"TSLA\",\"Put\"],[\"TSLA\",\"Put\"],[\"TSLA\",\"Put\"],[\"META\",\"Put\"],[\"META\",\"Put\"],[\"META\",\"Put\"],[\"META\",\"Put\"],[\"META\",\"Put\"],[\"META\",\"Put\"],[\"META\",\"Put\"],[\"AMD\",\"Put\"],[\"AMD\",\"Put\"],[\"AMD\",\"Put\"],[\"AMD\",\"Put\"],[\"AMD\",\"Put\"],[\"AMD\",\"Put\"],[\"BAC\",\"Put\"],[\"BAC\",\"Put\"],[\"AAL\",\"Put\"],[\"AAL\",\"Put\"],[\"AAL\",\"Put\"],[\"NIO\",\"Put\"],[\"NIO\",\"Put\"],[\"NIO\",\"Put\"],[\"NIO\",\"Put\"],[\"MSFT\",\"Put\"],[\"MSFT\",\"Put\"],[\"MSFT\",\"Put\"],[\"MSFT\",\"Put\"],[\"MSFT\",\"Put\"],[\"MSFT\",\"Put\"],[\"MSFT\",\"Put\"],[\"GOOGL\",\"Put\"],[\"GOOGL\",\"Put\"],[\"GOOGL\",\"Put\"],[\"GOOGL\",\"Put\"],[\"GOOGL\",\"Put\"],[\"GOOGL\",\"Put\"],[\"GOOGL\",\"Put\"],[\"NVDA\",\"Put\"],[\"NVDA\",\"Put\"],[\"NVDA\",\"Put\"],[\"NVDA\",\"Put\"],[\"NVDA\",\"Put\"],[\"NVDA\",\"Put\"],[\"NVDA\",\"Put\"],[\"INTC\",\"Put\"],[\"INTC\",\"Put\"],[\"INTC\",\"Put\"],[\"INTC\",\"Put\"],[\"INTC\",\"Put\"],[\"T\",\"Put\"],[\"T\",\"Put\"],[\"T\",\"Put\"],[\"BABA\",\"Put\"],[\"BABA\",\"Put\"],[\"BABA\",\"Put\"],[\"BABA\",\"Put\"],[\"BABA\",\"Put\"],[\"TWTR\",\"Put\"],[\"TWTR\",\"Put\"],[\"TWTR\",\"Put\"],[\"UBER\",\"Put\"],[\"CCL\",\"Put\"],[\"SNAP\",\"Put\"],[\"SNAP\",\"Put\"],[\"SBUX\",\"Put\"],[\"F\",\"Call\"],[\"F\",\"Call\"],[\"F\",\"Call\"],[\"F\",\"Call\"],[\"AAPL\",\"Call\"],[\"AAPL\",\"Call\"],[\"AAPL\",\"Call\"],[\"AAPL\",\"Call\"],[\"AAPL\",\"Call\"],[\"AAPL\",\"Call\"],[\"AMZN\",\"Call\"],[\"AMZN\",\"Call\"],[\"AMZN\",\"Call\"],[\"AMZN\",\"Call\"],[\"AMZN\",\"Call\"],[\"TSLA\",\"Call\"],[\"TSLA\",\"Call\"],[\"TSLA\",\"Call\"],[\"TSLA\",\"Call\"],[\"TSLA\",\"Call\"],[\"TSLA\",\"Call\"],[\"TSLA\",\"Call\"],[\"TSLA\",\"Call\"],[\"TSLA\",\"Call\"],[\"TSLA\",\"Call\"],[\"TSLA\",\"Call\"],[\"TSLA\",\"Call\"],[\"TSLA\",\"Call\"],[\"TSLA\",\"Call\"],[\"TSLA\",\"Call\"],[\"TSLA\",\"Call\"],[\"TSLA\",\"Call\"],[\"TSLA\",\"Call\"],[\"TSLA\",\"Call\"],[\"TSLA\",\"Call\"],[\"TSLA\",\"Call\"],[\"TSLA\",\"Call\"],[\"TSLA\",\"Call\"],[\"TSLA\",\"Call\"],[\"TSLA\",\"Call\"],[\"META\",\"Call\"],[\"AMD\",\"Call\"],[\"AMD\",\"Call\"],[\"BAC\",\"Call\"],[\"BAC\",\"Call\"],[\"BAC\",\"Call\"],[\"BAC\",\"Call\"],[\"AAL\",\"Call\"],[\"AAL\",\"Call\"],[\"NIO\",\"Call\"],[\"NIO\",\"Call\"],[\"NIO\",\"Call\"],[\"NIO\",\"Call\"],[\"NIO\",\"Call\"],[\"GOOGL\",\"Call\"],[\"NVDA\",\"Call\"],[\"NVDA\",\"Call\"],[\"NVDA\",\"Call\"],[\"NVDA\",\"Call\"],[\"NVDA\",\"Call\"],[\"NVDA\",\"Call\"],[\"INTC\",\"Call\"],[\"INTC\",\"Call\"],[\"BABA\",\"Call\"],[\"BABA\",\"Call\"],[\"TWTR\",\"Call\"],[\"TWTR\",\"Call\"],[\"UBER\",\"Call\"],[\"UBER\",\"Call\"],[\"UBER\",\"Call\"],[\"CCL\",\"Call\"],[\"CCL\",\"Call\"],[\"SNAP\",\"Call\"],[\"SNAP\",\"Call\"],[\"SBUX\",\"Call\"],[\"SBUX\",\"Call\"],[\"SBUX\",\"Call\"],[\"SBUX\",\"Call\"]]},\"selected\":{\"id\":\"3562\"},\"selection_policy\":{\"id\":\"3585\"}},\"id\":\"3561\",\"type\":\"ColumnDataSource\"},{\"attributes\":{},\"id\":\"3551\",\"type\":\"ResetTool\"},{\"attributes\":{\"margin\":[5,5,5,5],\"name\":\"HSpacer09989\",\"sizing_mode\":\"stretch_width\"},\"id\":\"3527\",\"type\":\"Spacer\"},{\"attributes\":{\"coordinates\":null,\"data_source\":{\"id\":\"3561\"},\"glyph\":{\"id\":\"3564\"},\"group\":null,\"hover_glyph\":null,\"muted_glyph\":{\"id\":\"3566\"},\"nonselection_glyph\":{\"id\":\"3565\"},\"selection_glyph\":{\"id\":\"3569\"},\"view\":{\"id\":\"3568\"}},\"id\":\"3567\",\"type\":\"GlyphRenderer\"},{\"attributes\":{\"axis\":{\"id\":\"3543\"},\"coordinates\":null,\"dimension\":1,\"grid_line_color\":null,\"group\":null,\"ticker\":null},\"id\":\"3546\",\"type\":\"Grid\"},{\"attributes\":{\"factors\":[[\"F\",\"Call\"],[\"F\",\"Put\"],[\"AAPL\",\"Call\"],[\"AAPL\",\"Put\"],[\"AMZN\",\"Call\"],[\"AMZN\",\"Put\"],[\"TSLA\",\"Call\"],[\"TSLA\",\"Put\"],[\"META\",\"Call\"],[\"META\",\"Put\"],[\"AMD\",\"Call\"],[\"AMD\",\"Put\"],[\"BAC\",\"Call\"],[\"BAC\",\"Put\"],[\"AAL\",\"Call\"],[\"AAL\",\"Put\"],[\"NIO\",\"Call\"],[\"NIO\",\"Put\"],[\"MSFT\",\"Call\"],[\"MSFT\",\"Put\"],[\"GOOGL\",\"Call\"],[\"GOOGL\",\"Put\"],[\"NVDA\",\"Call\"],[\"NVDA\",\"Put\"],[\"INTC\",\"Call\"],[\"INTC\",\"Put\"],[\"T\",\"Call\"],[\"T\",\"Put\"],[\"BABA\",\"Call\"],[\"BABA\",\"Put\"],[\"TWTR\",\"Call\"],[\"TWTR\",\"Put\"],[\"UBER\",\"Call\"],[\"UBER\",\"Put\"],[\"CCL\",\"Call\"],[\"CCL\",\"Put\"],[\"SNAP\",\"Call\"],[\"SNAP\",\"Put\"],[\"SBUX\",\"Call\"],[\"SBUX\",\"Put\"]],\"tags\":[[[\"Symbol\",\"Symbol\",null],[\"Type\",\"Type\",null]]]},\"id\":\"3528\",\"type\":\"FactorRange\"},{\"attributes\":{},\"id\":\"3538\",\"type\":\"LinearScale\"},{\"attributes\":{\"bottom_units\":\"screen\",\"coordinates\":null,\"fill_alpha\":0.5,\"fill_color\":\"lightgrey\",\"group\":null,\"left_units\":\"screen\",\"level\":\"overlay\",\"line_alpha\":1.0,\"line_color\":\"black\",\"line_dash\":[4,4],\"line_width\":2,\"right_units\":\"screen\",\"syncable\":false,\"top_units\":\"screen\"},\"id\":\"3552\",\"type\":\"BoxAnnotation\"},{\"attributes\":{\"axis_label\":\"Tickers by Call and Put\",\"coordinates\":null,\"formatter\":{\"id\":\"3572\"},\"group\":null,\"major_label_orientation\":0.7853981633974483,\"major_label_policy\":{\"id\":\"3573\"},\"ticker\":{\"id\":\"3541\"}},\"id\":\"3540\",\"type\":\"CategoricalAxis\"},{\"attributes\":{},\"id\":\"3541\",\"type\":\"CategoricalTicker\"},{\"attributes\":{\"end\":7741.3,\"reset_end\":7741.3,\"reset_start\":-26870.3,\"start\":-26870.3,\"tags\":[[[\"OI Chg\",\"OI Chg\",null]]]},\"id\":\"3529\",\"type\":\"Range1d\"},{\"attributes\":{\"axis\":{\"id\":\"3540\"},\"coordinates\":null,\"grid_line_color\":null,\"group\":null,\"ticker\":null},\"id\":\"3542\",\"type\":\"Grid\"},{\"attributes\":{\"factors\":[\"Put\",\"Call\"],\"palette\":[\"#30a2da\",\"#fc4f30\"]},\"id\":\"3560\",\"type\":\"CategoricalColorMapper\"},{\"attributes\":{},\"id\":\"3544\",\"type\":\"BasicTicker\"},{\"attributes\":{\"axis_label\":\"Open Interest Change\",\"coordinates\":null,\"formatter\":{\"id\":\"3570\"},\"group\":null,\"major_label_policy\":{\"id\":\"3576\"},\"ticker\":{\"id\":\"3544\"}},\"id\":\"3543\",\"type\":\"LinearAxis\"},{\"attributes\":{\"bottom\":{\"value\":0},\"fill_alpha\":{\"value\":1.0},\"fill_color\":{\"field\":\"Type\",\"transform\":{\"id\":\"3560\"}},\"hatch_alpha\":{\"value\":1.0},\"hatch_color\":{\"field\":\"Type\",\"transform\":{\"id\":\"3560\"}},\"hatch_scale\":{\"value\":12.0},\"hatch_weight\":{\"value\":1.0},\"line_alpha\":{\"value\":1.0},\"line_cap\":{\"value\":\"butt\"},\"line_color\":{\"value\":\"black\"},\"line_dash\":{\"value\":[]},\"line_dash_offset\":{\"value\":0},\"line_join\":{\"value\":\"bevel\"},\"line_width\":{\"value\":1},\"top\":{\"field\":\"OI_Chg\"},\"width\":{\"value\":0.8},\"x\":{\"field\":\"xoffsets\"}},\"id\":\"3569\",\"type\":\"VBar\"},{\"attributes\":{},\"id\":\"3573\",\"type\":\"AllLabels\"},{\"attributes\":{},\"id\":\"3562\",\"type\":\"Selection\"},{\"attributes\":{\"fill_alpha\":{\"value\":0.1},\"fill_color\":{\"field\":\"Type\",\"transform\":{\"id\":\"3560\"}},\"hatch_alpha\":{\"value\":0.1},\"hatch_color\":{\"field\":\"Type\",\"transform\":{\"id\":\"3560\"}},\"line_alpha\":{\"value\":0.1},\"top\":{\"field\":\"OI_Chg\"},\"width\":{\"value\":0.8},\"x\":{\"field\":\"xoffsets\"}},\"id\":\"3565\",\"type\":\"VBar\"},{\"attributes\":{\"callback\":null,\"renderers\":[{\"id\":\"3567\"}],\"tags\":[\"hv_created\"],\"tooltips\":[[\"Symbol\",\"@{Symbol}\"],[\"Type\",\"@{Type}\"],[\"OI Chg\",\"@{OI_Chg}\"]]},\"id\":\"3530\",\"type\":\"HoverTool\"},{\"attributes\":{\"fill_color\":{\"field\":\"Type\",\"transform\":{\"id\":\"3560\"}},\"hatch_color\":{\"field\":\"Type\",\"transform\":{\"id\":\"3560\"}},\"top\":{\"field\":\"OI_Chg\"},\"width\":{\"value\":0.8},\"x\":{\"field\":\"xoffsets\"}},\"id\":\"3564\",\"type\":\"VBar\"},{\"attributes\":{\"format\":\"%0f\"},\"id\":\"3570\",\"type\":\"PrintfTickFormatter\"},{\"attributes\":{},\"id\":\"3547\",\"type\":\"SaveTool\"}],\"root_ids\":[\"3526\"]},\"title\":\"Bokeh Application\",\"version\":\"2.4.3\"}};\n",
       "    var render_items = [{\"docid\":\"5df452dd-abd5-4679-b569-c2420a45cee2\",\"root_ids\":[\"3526\"],\"roots\":{\"3526\":\"56b7d75d-49c3-4d21-9c9f-9ef6234ee73d\"}}];\n",
       "    root.Bokeh.embed.embed_items_notebook(docs_json, render_items);\n",
       "  }\n",
       "  if (root.Bokeh !== undefined && root.Bokeh.Panel !== undefined) {\n",
       "    embed_document(root);\n",
       "  } else {\n",
       "    var attempts = 0;\n",
       "    var timer = setInterval(function(root) {\n",
       "      if (root.Bokeh !== undefined && root.Bokeh.Panel !== undefined) {\n",
       "        clearInterval(timer);\n",
       "        embed_document(root);\n",
       "      } else if (document.readyState == \"complete\") {\n",
       "        attempts++;\n",
       "        if (attempts > 200) {\n",
       "          clearInterval(timer);\n",
       "          console.log(\"Bokeh: ERROR: Unable to run BokehJS code because BokehJS library is missing\");\n",
       "        }\n",
       "      }\n",
       "    }, 25, root)\n",
       "  }\n",
       "})(window);</script>"
      ],
      "text/plain": [
       ":Bars   [Symbol,Type]   (OI Chg)"
      ]
     },
     "execution_count": 36,
     "metadata": {
      "application/vnd.holoviews_exec.v0+json": {
       "id": "3526"
      }
     },
     "output_type": "execute_result"
    }
   ],
   "source": [
    "option_change_top_20(largest_20_OI(df))"
   ]
  },
  {
   "cell_type": "code",
   "execution_count": 23,
   "metadata": {},
   "outputs": [
    {
     "data": {},
     "metadata": {},
     "output_type": "display_data"
    },
    {
     "data": {
      "application/vnd.holoviews_exec.v0+json": "",
      "text/html": [
       "<div id='2069'>\n",
       "  <div class=\"bk-root\" id=\"12d7144d-c8b8-4eae-a894-6db175b9ce21\" data-root-id=\"2069\"></div>\n",
       "</div>\n",
       "<script type=\"application/javascript\">(function(root) {\n",
       "  function embed_document(root) {\n",
       "    var docs_json = {\"d50008b9-4417-4b00-8b30-a570282d46f6\":{\"defs\":[{\"extends\":null,\"module\":null,\"name\":\"ReactiveHTML1\",\"overrides\":[],\"properties\":[]},{\"extends\":null,\"module\":null,\"name\":\"FlexBox1\",\"overrides\":[],\"properties\":[{\"default\":\"flex-start\",\"kind\":null,\"name\":\"align_content\"},{\"default\":\"flex-start\",\"kind\":null,\"name\":\"align_items\"},{\"default\":\"row\",\"kind\":null,\"name\":\"flex_direction\"},{\"default\":\"wrap\",\"kind\":null,\"name\":\"flex_wrap\"},{\"default\":\"flex-start\",\"kind\":null,\"name\":\"justify_content\"}]},{\"extends\":null,\"module\":null,\"name\":\"GridStack1\",\"overrides\":[],\"properties\":[{\"default\":\"warn\",\"kind\":null,\"name\":\"mode\"},{\"default\":null,\"kind\":null,\"name\":\"ncols\"},{\"default\":null,\"kind\":null,\"name\":\"nrows\"},{\"default\":true,\"kind\":null,\"name\":\"allow_resize\"},{\"default\":true,\"kind\":null,\"name\":\"allow_drag\"},{\"default\":[],\"kind\":null,\"name\":\"state\"}]},{\"extends\":null,\"module\":null,\"name\":\"click1\",\"overrides\":[],\"properties\":[{\"default\":\"\",\"kind\":null,\"name\":\"terminal_output\"},{\"default\":\"\",\"kind\":null,\"name\":\"debug_name\"},{\"default\":0,\"kind\":null,\"name\":\"clears\"}]},{\"extends\":null,\"module\":null,\"name\":\"NotificationAreaBase1\",\"overrides\":[],\"properties\":[{\"default\":\"bottom-right\",\"kind\":null,\"name\":\"position\"},{\"default\":0,\"kind\":null,\"name\":\"_clear\"}]},{\"extends\":null,\"module\":null,\"name\":\"NotificationArea1\",\"overrides\":[],\"properties\":[{\"default\":[],\"kind\":null,\"name\":\"notifications\"},{\"default\":\"bottom-right\",\"kind\":null,\"name\":\"position\"},{\"default\":0,\"kind\":null,\"name\":\"_clear\"},{\"default\":[{\"background\":\"#ffc107\",\"icon\":{\"className\":\"fas fa-exclamation-triangle\",\"color\":\"white\",\"tagName\":\"i\"},\"type\":\"warning\"},{\"background\":\"#007bff\",\"icon\":{\"className\":\"fas fa-info-circle\",\"color\":\"white\",\"tagName\":\"i\"},\"type\":\"info\"}],\"kind\":null,\"name\":\"types\"}]},{\"extends\":null,\"module\":null,\"name\":\"Notification\",\"overrides\":[],\"properties\":[{\"default\":null,\"kind\":null,\"name\":\"background\"},{\"default\":3000,\"kind\":null,\"name\":\"duration\"},{\"default\":null,\"kind\":null,\"name\":\"icon\"},{\"default\":\"\",\"kind\":null,\"name\":\"message\"},{\"default\":null,\"kind\":null,\"name\":\"notification_type\"},{\"default\":false,\"kind\":null,\"name\":\"_destroyed\"}]},{\"extends\":null,\"module\":null,\"name\":\"TemplateActions1\",\"overrides\":[],\"properties\":[{\"default\":0,\"kind\":null,\"name\":\"open_modal\"},{\"default\":0,\"kind\":null,\"name\":\"close_modal\"}]},{\"extends\":null,\"module\":null,\"name\":\"MaterialTemplateActions1\",\"overrides\":[],\"properties\":[{\"default\":0,\"kind\":null,\"name\":\"open_modal\"},{\"default\":0,\"kind\":null,\"name\":\"close_modal\"}]}],\"roots\":{\"references\":[{\"attributes\":{\"coordinates\":null,\"group\":null,\"text\":\"Call\",\"text_color\":\"black\",\"text_font_size\":\"12pt\"},\"id\":\"2075\",\"type\":\"Title\"},{\"attributes\":{\"tools\":[{\"id\":\"2073\"},{\"id\":\"2090\"},{\"id\":\"2091\"},{\"id\":\"2092\"},{\"id\":\"2093\"},{\"id\":\"2094\"}]},\"id\":\"2096\",\"type\":\"Toolbar\"},{\"attributes\":{\"bottom\":{\"field\":\"bottom\"},\"fill_alpha\":{\"value\":0.2},\"fill_color\":{\"field\":\"Strike\",\"transform\":{\"id\":\"2103\"}},\"hatch_alpha\":{\"value\":0.2},\"hatch_color\":{\"field\":\"Strike\",\"transform\":{\"id\":\"2103\"}},\"line_alpha\":{\"value\":0.2},\"top\":{\"field\":\"top\"},\"width\":{\"value\":0.8},\"x\":{\"field\":\"Symbol\"}},\"id\":\"2109\",\"type\":\"VBar\"},{\"attributes\":{},\"id\":\"2087\",\"type\":\"BasicTicker\"},{\"attributes\":{},\"id\":\"2092\",\"type\":\"WheelZoomTool\"},{\"attributes\":{\"bottom_units\":\"screen\",\"coordinates\":null,\"fill_alpha\":0.5,\"fill_color\":\"lightgrey\",\"group\":null,\"left_units\":\"screen\",\"level\":\"overlay\",\"line_alpha\":1.0,\"line_color\":\"black\",\"line_dash\":[4,4],\"line_width\":2,\"right_units\":\"screen\",\"syncable\":false,\"top_units\":\"screen\"},\"id\":\"2095\",\"type\":\"BoxAnnotation\"},{\"attributes\":{\"source\":{\"id\":\"2104\"}},\"id\":\"2111\",\"type\":\"CDSView\"},{\"attributes\":{},\"id\":\"2084\",\"type\":\"CategoricalTicker\"},{\"attributes\":{},\"id\":\"2091\",\"type\":\"PanTool\"},{\"attributes\":{\"axis_label\":\"Symbol\",\"coordinates\":null,\"formatter\":{\"id\":\"2115\"},\"group\":null,\"major_label_orientation\":1.5707963267948966,\"major_label_policy\":{\"id\":\"2116\"},\"ticker\":{\"id\":\"2084\"}},\"id\":\"2083\",\"type\":\"CategoricalAxis\"},{\"attributes\":{\"data\":{\"Open_Int\":{\"__ndarray__\":\"AAAAAECS1EAAAAAAAEifQAAAAAAAfbVAAAAAAAAEykAAAAAAANK9QAAAAAAA+dNAAAAAAABEzEAAAAAAABThQAAAAACAFs1AAAAAAADAbUAAAAAAADLIQAAAAACAuN5AAAAAAACmpkAAAAAAAAKlQAAAAAAQhvRAAAAAAADHsUAAAAAAACrBQAAAAACAZcVAAAAAAAD4okAAAAAAAOTSQAAAAAAgEeNAAAAAAACFuUAAAAAAABG0QAAAAAAAkJBAAAAAAICxxEAAAAAAAP3DQAAAAAAAYcdAAAAAAADUp0AAAAAAAOSxQAAAAACAEclAAAAAAMD22EAAAAAAgDraQAAAAADArNxAAAAAAABGokAAAAAAADWyQAAAAAAAQIhAAAAAAAD90UAAAAAAgGrIQAAAAAAAIJFAAAAAAABIqUAAAAAAAKK8QAAAAAAAsJtAAAAAAAC3t0AAAAAAAJKtQAAAAAAAVqNAAAAAAADD0UAAAAAAACSRQAAAAAAA8JZAAAAAAADwpkAAAAAAABqxQAAAAAAAAMNAAAAAAACwxkAAAAAAAJjPQAAAAACAj9RAAAAAAABqpUAAAAAAALiSQAAAAAAAL8xAAAAAAADypUAAAAAAAMCsQAAAAACgPuNAAAAAAAACqEAAAAAAADnhQAAAAAAAus1AAAAAAGBH4UAAAAAAgAnDQAAAAAAAeK5AAAAAAAAut0AAAAAAANy8QAAAAACAXMpAAAAAAABIt0AAAAAAADSzQAAAAAAApJ9AAAAAAABkwEAAAAAAALalQAAAAAAALqBAAAAAAAAIpkAAAAAAAKW4QAAAAAAAvqNAAAAAAIC+xEAAAAAAABqnQAAAAAAAqqtAAAAAAABsskAAAAAAwLLgQAAAAAAAysJAAAAAAEBj2UAAAAAAAP7OQAAAAAAAwdVAAAAAAAD5uEAAAAAAANy4QA==\",\"dtype\":\"float64\",\"order\":\"little\",\"shape\":[89]},\"Strike\":[\"125\",\"125\",\"130\",\"130\",\"135\",\"140\",\"145\",\"150\",\"150\",\"70\",\"115\",\"115\",\"117\",\"117\",\"120\",\"123\",\"32\",\"33\",\"33.5\",\"34\",\"10\",\"10.5\",\"16\",\"17\",\"17\",\"17.5\",\"18\",\"18\",\"18.5\",\"12\",\"13\",\"13\",\"14\",\"14.5\",\"110\",\"116\",\"38\",\"225\",\"227.5\",\"230\",\"235\",\"237.5\",\"240\",\"19\",\"19.5\",\"20\",\"128\",\"129\",\"131\",\"132\",\"90\",\"90\",\"90\",\"92.5\",\"92.5\",\"94\",\"87.5\",\"88\",\"91\",\"166.67\",\"203.33\",\"250\",\"260\",\"266.67\",\"270\",\"275\",\"276.67\",\"280\",\"283.33\",\"285\",\"286.67\",\"288.33\",\"290\",\"290.83\",\"291.67\",\"292.5\",\"293.33\",\"294.17\",\"295\",\"295.83\",\"296.67\",\"298.33\",\"300\",\"301.67\",\"40\",\"41\",\"30\",\"31\",\"31.5\"],\"Symbol\":[\"AAPL\",\"NVDA\",\"NVDA\",\"AAPL\",\"AAPL\",\"AAPL\",\"AAPL\",\"AAPL\",\"AXP\",\"AMZN\",\"JPM\",\"AMZN\",\"JPM\",\"AMZN\",\"AMZN\",\"AMZN\",\"BAC\",\"BAC\",\"BAC\",\"BAC\",\"CCL\",\"CCL\",\"CHPT\",\"NIO\",\"CHPT\",\"DKNG\",\"DKNG\",\"NIO\",\"DKNG\",\"F\",\"F\",\"PCG\",\"F\",\"F\",\"JPM\",\"JPM\",\"LVS\",\"NFLX\",\"NFLX\",\"NFLX\",\"NFLX\",\"NFLX\",\"NFLX\",\"NIO\",\"NIO\",\"NIO\",\"NVDA\",\"NVDA\",\"NVDA\",\"NVDA\",\"XOM\",\"PYPL\",\"SBUX\",\"XOM\",\"PYPL\",\"PYPL\",\"SBUX\",\"SBUX\",\"SBUX\",\"TSLA\",\"TSLA\",\"TSLA\",\"TSLA\",\"TSLA\",\"TSLA\",\"TSLA\",\"TSLA\",\"TSLA\",\"TSLA\",\"TSLA\",\"TSLA\",\"TSLA\",\"TSLA\",\"TSLA\",\"TSLA\",\"TSLA\",\"TSLA\",\"TSLA\",\"TSLA\",\"TSLA\",\"TSLA\",\"TSLA\",\"TSLA\",\"TSLA\",\"TWTR\",\"TWTR\",\"UBER\",\"UBER\",\"UBER\"],\"bottom\":{\"__ndarray__\":\"AAAAAAAAAAAAAAAAAAAAAAAAAAAASJ9AAAAAAECS1EAAAAAAIMrgQAAAAABghORAAAAAAOCA7kAAAAAA8MjyQAAAAAAAAAAAAAAAAAAAAAAAAAAAAAAAAAAAAAAAwG1AAAAAAAAyyEAAAAAAAPTeQAAAAAAgyuBAAAAAACDr/EAAAAAAAAAAAAAAAAAAKsFAAAAAAMBH00AAAAAAwKbVQAAAAAAAAAAAAAAAACAR40AAAAAAAAAAAAAAAAAAAAAAAAAAAAARtEAAAAAAAAAAAAAAAAAA/cNAAAAAAACQkEAAAAAAAK/VQAAAAAAAAAAAAAAAAIARyUAAAAAAAAAAAAAAAADAv+JAAAAAABCL8EAAAAAAgNvNQAAAAAAAe9NAAAAAAAAAAAAAAAAAAAAAAAAAAACAashAAAAAAICOykAAAAAAQHDQQAAAAADAmNdAAAAAAMBT2UAAAAAAAA6wQAAAAAAA175AAAAAAABBxEAAAAAAAE+9QAAAAAAAzMBAAAAAAACqw0AAAAAAAGbJQAAAAAAAAAAAAAAAAAAAAAAAAAAAAAAAAAAAAAAAAMNAAAAAAACwxkAAAAAAgArMQAAAAAAAmM9AAAAAAIDj3UAAAAAA4FDgQAAAAAAAAAAAAAAAAKA+40AAAAAAwL7kQAAAAADg+/JAAAAAACCz9kAAAAAA0Fb/QAAAAAAA3ABBAAAAAOBVAUEAAAAAUA8CQQAAAAAw9gJBAAAAAPibBEEAAAAAOFYFQQAAAADY7wVBAAAAACAvBkEAAAAAYDUHQQAAAAA4jAdBAAAAAPDMB0EAAAAAECUIQQAAAAA46ghBAAAAADA5CUEAAAAAGIUKQQAAAACA4QpBAAAAAChQC0EAAAAAiOMLQQAAAAAcCBBBAAAAAAAAAAAAAAAAQGPZQAAAAAAAAAAAAAAAAADB1UAAAAAAQP/bQA==\",\"dtype\":\"float64\",\"order\":\"little\",\"shape\":[89]},\"top\":{\"__ndarray__\":\"AAAAAECS1EAAAAAAAEifQAAAAAAAT71AAAAAACDK4EAAAAAAYITkQAAAAADggO5AAAAAAPDI8kAAAAAA8FL7QAAAAACAFs1AAAAAAADAbUAAAAAAADLIQAAAAAAA9N5AAAAAAIDbzUAAAAAAIMrgQAAAAAAg6/xAAAAAAJAH/kAAAAAAACrBQAAAAADAR9NAAAAAAMCm1UAAAAAAYEXkQAAAAAAgEeNAAAAAAMBB5kAAAAAAABG0QAAAAAAAkJBAAAAAAAC6zkAAAAAAAP3DQAAAAAAAr9VAAAAAAAAOsEAAAAAAACjaQAAAAACAEclAAAAAAMC/4kAAAAAAgDraQAAAAAAQi/BAAAAAAEAd8UAAAAAAAHvTQAAAAAAAPdRAAAAAAAD90UAAAAAAgGrIQAAAAACAjspAAAAAAEBw0EAAAAAAwJjXQAAAAADAU9lAAAAAAIBB30AAAAAAANe+QAAAAAAAQcRAAAAAAIDj20AAAAAAAMzAQAAAAAAAqsNAAAAAAABmyUAAAAAAgPnQQAAAAAAAAMNAAAAAAACwxkAAAAAAAJjPQAAAAACAD95AAAAAAIAKzEAAAAAAgGHOQAAAAACA491AAAAAAOBQ4EAAAAAA4BziQAAAAACgPuNAAAAAAMC+5EAAAAAA4PvyQAAAAAAgs/ZAAAAAANBW/0AAAAAAANwAQQAAAADgVQFBAAAAAFAPAkEAAAAAMPYCQQAAAAD4mwRBAAAAADhWBUEAAAAA2O8FQQAAAAAgLwZBAAAAAGA1B0EAAAAAOIwHQQAAAADwzAdBAAAAABAlCEEAAAAAOOoIQQAAAAAwOQlBAAAAABiFCkEAAAAAgOEKQQAAAAAoUAtBAAAAAIjjC0EAAAAAHAgQQQAAAABsnhBBAAAAAEBj2UAAAAAAIHHkQAAAAAAAwdVAAAAAAED/20AAAAAAIBvhQA==\",\"dtype\":\"float64\",\"order\":\"little\",\"shape\":[89]}},\"selected\":{\"id\":\"2105\"},\"selection_policy\":{\"id\":\"2128\"}},\"id\":\"2104\",\"type\":\"ColumnDataSource\"},{\"attributes\":{\"overlay\":{\"id\":\"2095\"}},\"id\":\"2093\",\"type\":\"BoxZoomTool\"},{\"attributes\":{},\"id\":\"2119\",\"type\":\"AllLabels\"},{\"attributes\":{\"below\":[{\"id\":\"2083\"}],\"center\":[{\"id\":\"2085\"},{\"id\":\"2089\"}],\"height\":800,\"left\":[{\"id\":\"2086\"}],\"margin\":[5,5,5,5],\"min_border_bottom\":10,\"min_border_left\":10,\"min_border_right\":10,\"min_border_top\":10,\"renderers\":[{\"id\":\"2110\"}],\"sizing_mode\":\"fixed\",\"title\":{\"id\":\"2075\"},\"toolbar\":{\"id\":\"2096\"},\"width\":1000,\"x_range\":{\"id\":\"2071\"},\"x_scale\":{\"id\":\"2079\"},\"y_range\":{\"id\":\"2072\"},\"y_scale\":{\"id\":\"2081\"}},\"id\":\"2074\",\"subtype\":\"Figure\",\"type\":\"Plot\"},{\"attributes\":{\"margin\":[5,5,5,5],\"name\":\"HSpacer08220\",\"sizing_mode\":\"stretch_width\"},\"id\":\"2070\",\"type\":\"Spacer\"},{\"attributes\":{\"format\":\"%.0f\"},\"id\":\"2113\",\"type\":\"PrintfTickFormatter\"},{\"attributes\":{\"axis\":{\"id\":\"2086\"},\"coordinates\":null,\"dimension\":1,\"grid_line_color\":null,\"group\":null,\"ticker\":null},\"id\":\"2089\",\"type\":\"Grid\"},{\"attributes\":{\"bottom\":{\"field\":\"bottom\"},\"fill_alpha\":{\"value\":1.0},\"fill_color\":{\"field\":\"Strike\",\"transform\":{\"id\":\"2103\"}},\"hatch_alpha\":{\"value\":1.0},\"hatch_color\":{\"field\":\"Strike\",\"transform\":{\"id\":\"2103\"}},\"hatch_scale\":{\"value\":12.0},\"hatch_weight\":{\"value\":1.0},\"line_alpha\":{\"value\":1.0},\"line_cap\":{\"value\":\"butt\"},\"line_color\":{\"value\":\"black\"},\"line_dash\":{\"value\":[]},\"line_dash_offset\":{\"value\":0},\"line_join\":{\"value\":\"bevel\"},\"line_width\":{\"value\":1},\"top\":{\"field\":\"top\"},\"width\":{\"value\":0.8},\"x\":{\"field\":\"Symbol\"}},\"id\":\"2112\",\"type\":\"VBar\"},{\"attributes\":{\"bottom\":{\"field\":\"bottom\"},\"fill_alpha\":{\"value\":0.1},\"fill_color\":{\"field\":\"Strike\",\"transform\":{\"id\":\"2103\"}},\"hatch_alpha\":{\"value\":0.1},\"hatch_color\":{\"field\":\"Strike\",\"transform\":{\"id\":\"2103\"}},\"line_alpha\":{\"value\":0.1},\"top\":{\"field\":\"top\"},\"width\":{\"value\":0.8},\"x\":{\"field\":\"Symbol\"}},\"id\":\"2108\",\"type\":\"VBar\"},{\"attributes\":{\"children\":[{\"id\":\"2070\"},{\"id\":\"2074\"},{\"id\":\"2131\"}],\"margin\":[0,0,0,0],\"name\":\"Row08216\",\"tags\":[\"embedded\"]},\"id\":\"2069\",\"type\":\"Row\"},{\"attributes\":{},\"id\":\"2081\",\"type\":\"LinearScale\"},{\"attributes\":{\"factors\":[\"125\",\"130\",\"135\",\"140\",\"145\",\"150\",\"70\",\"115\",\"117\",\"120\",\"123\",\"32\",\"33\",\"33.5\",\"34\",\"10\",\"10.5\",\"16\",\"17\",\"17.5\",\"18\",\"18.5\",\"12\",\"13\",\"14\",\"14.5\",\"110\",\"116\",\"38\",\"225\",\"227.5\",\"230\",\"235\",\"237.5\",\"240\",\"19\",\"19.5\",\"20\",\"128\",\"129\",\"131\",\"132\",\"90\",\"92.5\",\"94\",\"87.5\",\"88\",\"91\",\"166.67\",\"203.33\",\"250\",\"260\",\"266.67\",\"270\",\"275\",\"276.67\",\"280\",\"283.33\",\"285\",\"286.67\",\"288.33\",\"290\",\"290.83\",\"291.67\",\"292.5\",\"293.33\",\"294.17\",\"295\",\"295.83\",\"296.67\",\"298.33\",\"300\",\"301.67\",\"40\",\"41\",\"30\",\"31\",\"31.5\"],\"palette\":[\"#259646\",\"#259646\",\"#259646\",\"#259646\",\"#259646\",\"#259646\",\"#259646\",\"#259646\",\"#259646\",\"#259646\",\"#259646\",\"#259646\",\"#259646\",\"#259646\",\"#259646\",\"#259646\",\"#259646\",\"#259646\",\"#259646\",\"#259646\",\"#259646\",\"#259646\",\"#259646\",\"#259646\",\"#259646\",\"#259646\",\"#259646\",\"#259646\",\"#259646\",\"#259646\",\"#259646\",\"#259646\",\"#259646\",\"#259646\",\"#259646\",\"#259646\",\"#259646\",\"#259646\",\"#259646\",\"#259646\",\"#259646\",\"#259646\",\"#259646\",\"#259646\",\"#259646\",\"#259646\",\"#259646\",\"#259646\",\"#259646\",\"#259646\",\"#259646\",\"#259646\",\"#259646\",\"#259646\",\"#259646\",\"#259646\",\"#259646\",\"#259646\",\"#259646\",\"#259646\",\"#259646\",\"#259646\",\"#259646\",\"#259646\",\"#259646\",\"#259646\",\"#259646\",\"#259646\",\"#259646\",\"#259646\",\"#259646\",\"#259646\",\"#259646\",\"#259646\",\"#259646\",\"#259646\",\"#259646\",\"#259646\"]},\"id\":\"2103\",\"type\":\"CategoricalColorMapper\"},{\"attributes\":{},\"id\":\"2115\",\"type\":\"CategoricalTickFormatter\"},{\"attributes\":{},\"id\":\"2079\",\"type\":\"CategoricalScale\"},{\"attributes\":{},\"id\":\"2090\",\"type\":\"SaveTool\"},{\"attributes\":{\"axis\":{\"id\":\"2083\"},\"coordinates\":null,\"grid_line_color\":null,\"group\":null,\"ticker\":null},\"id\":\"2085\",\"type\":\"Grid\"},{\"attributes\":{\"callback\":null,\"renderers\":[{\"id\":\"2110\"}],\"tags\":[\"hv_created\"],\"tooltips\":[[\"Symbol\",\"@{Symbol}\"],[\"Strike\",\"@{Strike}\"],[\"Open Int\",\"@{Open_Int}\"]]},\"id\":\"2073\",\"type\":\"HoverTool\"},{\"attributes\":{},\"id\":\"2094\",\"type\":\"ResetTool\"},{\"attributes\":{},\"id\":\"2116\",\"type\":\"AllLabels\"},{\"attributes\":{},\"id\":\"2105\",\"type\":\"Selection\"},{\"attributes\":{\"margin\":[5,5,5,5],\"name\":\"HSpacer08221\",\"sizing_mode\":\"stretch_width\"},\"id\":\"2131\",\"type\":\"Spacer\"},{\"attributes\":{\"coordinates\":null,\"data_source\":{\"id\":\"2104\"},\"glyph\":{\"id\":\"2107\"},\"group\":null,\"hover_glyph\":null,\"muted_glyph\":{\"id\":\"2109\"},\"nonselection_glyph\":{\"id\":\"2108\"},\"selection_glyph\":{\"id\":\"2112\"},\"view\":{\"id\":\"2111\"}},\"id\":\"2110\",\"type\":\"GlyphRenderer\"},{\"attributes\":{\"bottom\":{\"field\":\"bottom\"},\"fill_color\":{\"field\":\"Strike\",\"transform\":{\"id\":\"2103\"}},\"hatch_color\":{\"field\":\"Strike\",\"transform\":{\"id\":\"2103\"}},\"top\":{\"field\":\"top\"},\"width\":{\"value\":0.8},\"x\":{\"field\":\"Symbol\"}},\"id\":\"2107\",\"type\":\"VBar\"},{\"attributes\":{},\"id\":\"2128\",\"type\":\"UnionRenderers\"},{\"attributes\":{\"axis_label\":\"Open Int\",\"coordinates\":null,\"formatter\":{\"id\":\"2113\"},\"group\":null,\"major_label_policy\":{\"id\":\"2119\"},\"ticker\":{\"id\":\"2087\"}},\"id\":\"2086\",\"type\":\"LinearAxis\"},{\"attributes\":{\"factors\":[\"AAPL\",\"AMZN\",\"AXP\",\"BAC\",\"CCL\",\"CHPT\",\"DKNG\",\"F\",\"JPM\",\"LVS\",\"NFLX\",\"NIO\",\"NVDA\",\"PCG\",\"PYPL\",\"SBUX\",\"TSLA\",\"TWTR\",\"UBER\",\"XOM\"],\"tags\":[[[\"Symbol\",\"Symbol\",null]]]},\"id\":\"2071\",\"type\":\"FactorRange\"},{\"attributes\":{\"end\":298022.0,\"reset_end\":298022.0,\"reset_start\":0.0,\"tags\":[[[\"Open Int\",\"Open Int\",null]]]},\"id\":\"2072\",\"type\":\"Range1d\"}],\"root_ids\":[\"2069\"]},\"title\":\"Bokeh Application\",\"version\":\"2.4.3\"}};\n",
       "    var render_items = [{\"docid\":\"d50008b9-4417-4b00-8b30-a570282d46f6\",\"root_ids\":[\"2069\"],\"roots\":{\"2069\":\"12d7144d-c8b8-4eae-a894-6db175b9ce21\"}}];\n",
       "    root.Bokeh.embed.embed_items_notebook(docs_json, render_items);\n",
       "  }\n",
       "  if (root.Bokeh !== undefined && root.Bokeh.Panel !== undefined) {\n",
       "    embed_document(root);\n",
       "  } else {\n",
       "    var attempts = 0;\n",
       "    var timer = setInterval(function(root) {\n",
       "      if (root.Bokeh !== undefined && root.Bokeh.Panel !== undefined) {\n",
       "        clearInterval(timer);\n",
       "        embed_document(root);\n",
       "      } else if (document.readyState == \"complete\") {\n",
       "        attempts++;\n",
       "        if (attempts > 200) {\n",
       "          clearInterval(timer);\n",
       "          console.log(\"Bokeh: ERROR: Unable to run BokehJS code because BokehJS library is missing\");\n",
       "        }\n",
       "      }\n",
       "    }, 25, root)\n",
       "  }\n",
       "})(window);</script>"
      ],
      "text/plain": [
       ":Bars   [Symbol,Strike]   (Open Int)"
      ]
     },
     "execution_count": 23,
     "metadata": {
      "application/vnd.holoviews_exec.v0+json": {
       "id": "2069"
      }
     },
     "output_type": "execute_result"
    }
   ],
   "source": [
    "# Calling options_call_bar\n",
    "options_call_bar(df)"
   ]
  },
  {
   "cell_type": "code",
   "execution_count": 24,
   "metadata": {},
   "outputs": [
    {
     "data": {},
     "metadata": {},
     "output_type": "display_data"
    },
    {
     "data": {
      "application/vnd.holoviews_exec.v0+json": "",
      "text/html": [
       "<div id='2178'>\n",
       "  <div class=\"bk-root\" id=\"0c098c5e-c6f7-4199-a586-ae7cfa42edbd\" data-root-id=\"2178\"></div>\n",
       "</div>\n",
       "<script type=\"application/javascript\">(function(root) {\n",
       "  function embed_document(root) {\n",
       "    var docs_json = {\"6e3a643f-d3f5-476a-8d6f-5c935a263b9e\":{\"defs\":[{\"extends\":null,\"module\":null,\"name\":\"ReactiveHTML1\",\"overrides\":[],\"properties\":[]},{\"extends\":null,\"module\":null,\"name\":\"FlexBox1\",\"overrides\":[],\"properties\":[{\"default\":\"flex-start\",\"kind\":null,\"name\":\"align_content\"},{\"default\":\"flex-start\",\"kind\":null,\"name\":\"align_items\"},{\"default\":\"row\",\"kind\":null,\"name\":\"flex_direction\"},{\"default\":\"wrap\",\"kind\":null,\"name\":\"flex_wrap\"},{\"default\":\"flex-start\",\"kind\":null,\"name\":\"justify_content\"}]},{\"extends\":null,\"module\":null,\"name\":\"GridStack1\",\"overrides\":[],\"properties\":[{\"default\":\"warn\",\"kind\":null,\"name\":\"mode\"},{\"default\":null,\"kind\":null,\"name\":\"ncols\"},{\"default\":null,\"kind\":null,\"name\":\"nrows\"},{\"default\":true,\"kind\":null,\"name\":\"allow_resize\"},{\"default\":true,\"kind\":null,\"name\":\"allow_drag\"},{\"default\":[],\"kind\":null,\"name\":\"state\"}]},{\"extends\":null,\"module\":null,\"name\":\"click1\",\"overrides\":[],\"properties\":[{\"default\":\"\",\"kind\":null,\"name\":\"terminal_output\"},{\"default\":\"\",\"kind\":null,\"name\":\"debug_name\"},{\"default\":0,\"kind\":null,\"name\":\"clears\"}]},{\"extends\":null,\"module\":null,\"name\":\"NotificationAreaBase1\",\"overrides\":[],\"properties\":[{\"default\":\"bottom-right\",\"kind\":null,\"name\":\"position\"},{\"default\":0,\"kind\":null,\"name\":\"_clear\"}]},{\"extends\":null,\"module\":null,\"name\":\"NotificationArea1\",\"overrides\":[],\"properties\":[{\"default\":[],\"kind\":null,\"name\":\"notifications\"},{\"default\":\"bottom-right\",\"kind\":null,\"name\":\"position\"},{\"default\":0,\"kind\":null,\"name\":\"_clear\"},{\"default\":[{\"background\":\"#ffc107\",\"icon\":{\"className\":\"fas fa-exclamation-triangle\",\"color\":\"white\",\"tagName\":\"i\"},\"type\":\"warning\"},{\"background\":\"#007bff\",\"icon\":{\"className\":\"fas fa-info-circle\",\"color\":\"white\",\"tagName\":\"i\"},\"type\":\"info\"}],\"kind\":null,\"name\":\"types\"}]},{\"extends\":null,\"module\":null,\"name\":\"Notification\",\"overrides\":[],\"properties\":[{\"default\":null,\"kind\":null,\"name\":\"background\"},{\"default\":3000,\"kind\":null,\"name\":\"duration\"},{\"default\":null,\"kind\":null,\"name\":\"icon\"},{\"default\":\"\",\"kind\":null,\"name\":\"message\"},{\"default\":null,\"kind\":null,\"name\":\"notification_type\"},{\"default\":false,\"kind\":null,\"name\":\"_destroyed\"}]},{\"extends\":null,\"module\":null,\"name\":\"TemplateActions1\",\"overrides\":[],\"properties\":[{\"default\":0,\"kind\":null,\"name\":\"open_modal\"},{\"default\":0,\"kind\":null,\"name\":\"close_modal\"}]},{\"extends\":null,\"module\":null,\"name\":\"MaterialTemplateActions1\",\"overrides\":[],\"properties\":[{\"default\":0,\"kind\":null,\"name\":\"open_modal\"},{\"default\":0,\"kind\":null,\"name\":\"close_modal\"}]}],\"roots\":{\"references\":[{\"attributes\":{\"data\":{\"Open_Int\":{\"__ndarray__\":\"AAAAAADPz0AAAAAAAESgQAAAAACApOdAAAAAAJB4/EAAAAAAAGTeQAAAAAAABrlAAAAAAGAW4UAAAAAAANLFQAAAAAAAurlAAAAAAMCV00AAAAAAQEXaQAAAAABAvONAAAAAAIBRxUAAAAAAAGffQAAAAAAgnetAAAAAAECM2UAAAAAAAHHfQAAAAAAA58BAAAAAAAB4r0AAAAAAAGCpQAAAAAAAc85AAAAAAAB51EAAAAAAQGPdQAAAAACAzdtAAAAAAADpvkAAAAAAAK/TQAAAAAAAOr1AAAAAAABRv0AAAAAAAN+3QAAAAAAA18BAAAAAAADUtUAAAAAAwJzfQAAAAAAAcbZAAAAAAADWtkAAAAAAAOCfQAAAAADA8tZAAAAAAABTuEAAAAAAAA6oQAAAAACA7MdAAAAAAMCw00AAAAAAgOXDQAAAAAAA6eZAAAAAAMAa30AAAAAAAGSeQAAAAAAAIKhAAAAAAAC4kkAAAAAAgBzTQAAAAAAA1bxAAAAAAMDN3EAAAAAAYIfhQAAAAABA3N9AAAAAAIApwkAAAAAASO0BQQAAAAAAsKdAAAAAAEBX0UAAAAAAQNLcQAAAAAAAJJNAAAAAAADonUAAAAAAAD6oQAAAAAAAc8tAAAAAAADepUAAAAAAwHvXQAAAAAAApbVAAAAAAIDTykAAAAAAAEW2QAAAAAAAH7FAAAAAAIAExkAAAAAAQP7UQAAAAAAAtr1AAAAAAID7w0AAAAAAAFWxQAAAAAAAw7pAAAAAAEBC0kAAAAAAALSiQAAAAAAAL89AAAAAAIC6zUAAAAAAgNPDQAAAAAAAIcVAAAAAAABgqkAAAAAAAMyqQAAAAAAAsrVAAAAAAICNwkAAAAAAAJquQAAAAAAA0JFAAAAAAAD6pEAAAAAAAGqjQAAAAAAAxcVAAAAAAAA0w0AAAAAAwFrVQAAAAACA+NRAAAAAAABomkAAAAAAwNHiQAAAAACA1sJAAAAAAIAtxEAAAAAAANi4QAAAAAAAnLJAAAAAAABYoEA=\",\"dtype\":\"float64\",\"order\":\"little\",\"shape\":[97]},\"Strike\":[\"14\",\"14.5\",\"15\",\"15\",\"152.5\",\"152.5\",\"155\",\"155\",\"157.5\",\"157.5\",\"160\",\"160\",\"162.5\",\"165\",\"165\",\"170\",\"170\",\"77.5\",\"78\",\"79\",\"80\",\"85\",\"90\",\"90\",\"124\",\"125\",\"126\",\"127\",\"127.5\",\"128\",\"129\",\"130\",\"131\",\"132\",\"132\",\"132.5\",\"133\",\"133\",\"135\",\"135\",\"140\",\"140\",\"9\",\"88\",\"89\",\"91\",\"95\",\"34.5\",\"35\",\"35\",\"50\",\"15.5\",\"16\",\"108\",\"110\",\"110\",\"103.25\",\"103.5\",\"104.5\",\"105\",\"106\",\"115\",\"29.5\",\"30\",\"30.5\",\"32\",\"150\",\"150\",\"245\",\"250\",\"252.5\",\"255\",\"260\",\"262.5\",\"270\",\"20.5\",\"21\",\"21.5\",\"22\",\"134\",\"145\",\"40\",\"40.5\",\"41\",\"42\",\"43\",\"45\",\"11.5\",\"12\",\"17\",\"17.5\",\"18\",\"303.33\",\"305\",\"306.67\",\"310\",\"313.33\"],\"Symbol\":[\"AAL\",\"AAL\",\"AAL\",\"F\",\"AAPL\",\"META\",\"AAPL\",\"META\",\"META\",\"AAPL\",\"META\",\"AAPL\",\"AAPL\",\"META\",\"AAPL\",\"META\",\"AAPL\",\"AMD\",\"AMD\",\"AMD\",\"AMD\",\"AMD\",\"AMD\",\"BABA\",\"AMZN\",\"AMZN\",\"AMZN\",\"AMZN\",\"AMZN\",\"AMZN\",\"AMZN\",\"AMZN\",\"AMZN\",\"AMZN\",\"NVDA\",\"AMZN\",\"AMZN\",\"NVDA\",\"NVDA\",\"AMZN\",\"NVDA\",\"AMZN\",\"ATUS\",\"BABA\",\"BABA\",\"BABA\",\"BABA\",\"BAC\",\"INTC\",\"BAC\",\"C\",\"F\",\"F\",\"GOOG\",\"GOOGL\",\"GOOG\",\"GOOGL\",\"GOOGL\",\"GOOGL\",\"GOOGL\",\"GOOGL\",\"GOOGL\",\"INTC\",\"INTC\",\"INTC\",\"INTC\",\"NVDA\",\"META\",\"MSFT\",\"MSFT\",\"MSFT\",\"MSFT\",\"MSFT\",\"MSFT\",\"MSFT\",\"NIO\",\"NIO\",\"NIO\",\"NIO\",\"NVDA\",\"NVDA\",\"RBLX\",\"RBLX\",\"RBLX\",\"RBLX\",\"RBLX\",\"RBLX\",\"SNAP\",\"SNAP\",\"T\",\"T\",\"T\",\"TSLA\",\"TSLA\",\"TSLA\",\"TSLA\",\"TSLA\"],\"bottom\":{\"__ndarray__\":\"AAAAAAAAAAAAAAAAAM/PQAAAAAAA8NFAAAAAAAAAAAAAAAAAAAAAAAAAAAAAAAAAAAAAAABk3kAAAAAAAAa5QAAAAACAKtFAAAAAADAk8EAAAAAAAJnXQAAAAACgCfVAAAAAAMDn/kAAAAAAIO/oQAAAAAD4yABBAAAAAFBR9EAAAAAAQLAHQQAAAAAAAAAAAAAAAADnwEAAAAAAAMXIQAAAAAAAHc9AAAAAAADI3kAAAAAAgKDpQAAAAAAAAAAAAAAAAAAAAAAAAAAAAOm+QAAAAABAadtAAAAAAOBb4UAAAAAAAEblQAAAAADgQehAAAAAAKB37EAAAAAAIDLvQAAAAABAgPdAAAAAAFDn+EAAAAAAAAAAAAAAAACwVPpAAAAAALAIAEEAAAAAAOCfQAAAAAAA/7NAAAAAAEjLAEEAAAAAAPbQQAAAAABgQQNBAAAAAAAAAAAAAAAAgM3bQAAAAADAs91AAAAAAOBb4EAAAAAAoPHgQAAAAAAAAAAAAAAAAAAAAAAAAAAAANW8QAAAAAAAAAAAAAAAAJB4/EAAAAAAwL3+QAAAAAAAAAAAAAAAAAAAAAAAAAAAALCnQAAAAABAV9FAAAAAAICJ0kAAAAAAAGjUQAAAAADAb9dAAAAAAKCU4kAAAAAAgPLjQAAAAADAzdxAAAAAAIAb4UAAAAAAYNDnQAAAAAAAmepAAAAAAMDo2kAAAAAAYLT6QAAAAAAAAAAAAAAAAAC2vUAAAAAAQGvRQAAAAACAwNVAAAAAAEBx3EAAAAAAwFnnQAAAAAAAhehAAAAAAAAAAAAAAAAAgLrNQAAAAAAAx9hAAAAAAMCr4UAAAAAAgPXiQAAAAABAouRAAAAAAAAAAAAAAAAAgI3CQAAAAAAANMpAAAAAAABuzEAAAAAAQNbQQAAAAACAQ9NAAAAAAAAAAAAAAAAAADTDQAAAAAAAAAAAAAAAAID41EAAAAAAAJ/WQAAAAAAAAAAAAAAAAIDWwkAAAAAAAILTQAAAAAAAuNlAAAAAAABf3kA=\",\"dtype\":\"float64\",\"order\":\"little\",\"shape\":[97]},\"top\":{\"__ndarray__\":\"AAAAAADPz0AAAAAAAPDRQAAAAABATvBAAAAAAJB4/EAAAAAAAGTeQAAAAAAABrlAAAAAADAk8EAAAAAAgCrRQAAAAAAAmddAAAAAAKAJ9UAAAAAAIO/oQAAAAADA5/5AAAAAAPjIAEEAAAAAUFH0QAAAAABAsAdBAAAAAGC0+kAAAAAAYJ4LQQAAAAAA58BAAAAAAADFyEAAAAAAAB3PQAAAAAAAyN5AAAAAAICg6UAAAAAAECn0QAAAAACAzdtAAAAAAADpvkAAAAAAQGnbQAAAAADgW+FAAAAAAABG5UAAAAAA4EHoQAAAAACgd+xAAAAAACAy70AAAAAAQID3QAAAAABQ5/hAAAAAALBU+kAAAAAAAOCfQAAAAACwCABBAAAAAEjLAEEAAAAAAP+zQAAAAAAA9tBAAAAAAGBBA0EAAAAAwOjaQAAAAACg+whBAAAAAMAa30AAAAAAwLPdQAAAAADgW+BAAAAAAKDx4EAAAAAA4H/qQAAAAAAA1bxAAAAAAMDN3EAAAAAAACLlQAAAAABA3N9AAAAAAMC9/kAAAAAAFKYQQQAAAAAAsKdAAAAAAEBX0UAAAAAAQMjfQAAAAACAidJAAAAAAABo1EAAAAAAwG/XQAAAAACglOJAAAAAAIDy40AAAAAAYLDvQAAAAACAG+FAAAAAAGDQ50AAAAAAAJnqQAAAAADgvOxAAAAAAID14kAAAAAA8PP/QAAAAAAAtr1AAAAAAEBr0UAAAAAAgMDVQAAAAABAcdxAAAAAAMBZ50AAAAAAAIXoQAAAAABgKPBAAAAAAIC6zUAAAAAAAMfYQAAAAADAq+FAAAAAAMBR40AAAAAAQKLkQAAAAACAWOdAAAAAAICNwkAAAAAAADTKQAAAAAAAbsxAAAAAAEDW0EAAAAAAgEPTQAAAAAAAJt5AAAAAAAA0w0AAAAAAwPTeQAAAAACA+NRAAAAAAACf1kAAAAAAQCHuQAAAAACA1sJAAAAAAACC00AAAAAAALjZQAAAAAAAX95AAAAAAAA14EA=\",\"dtype\":\"float64\",\"order\":\"little\",\"shape\":[97]}},\"selected\":{\"id\":\"2214\"},\"selection_policy\":{\"id\":\"2237\"}},\"id\":\"2213\",\"type\":\"ColumnDataSource\"},{\"attributes\":{},\"id\":\"2225\",\"type\":\"AllLabels\"},{\"attributes\":{\"factors\":[\"AAL\",\"AAPL\",\"AMD\",\"AMZN\",\"ATUS\",\"BABA\",\"BAC\",\"C\",\"F\",\"GOOG\",\"GOOGL\",\"INTC\",\"META\",\"MSFT\",\"NIO\",\"NVDA\",\"RBLX\",\"SNAP\",\"T\",\"TSLA\"],\"tags\":[[[\"Symbol\",\"Symbol\",null]]]},\"id\":\"2180\",\"type\":\"FactorRange\"},{\"attributes\":{},\"id\":\"2228\",\"type\":\"AllLabels\"},{\"attributes\":{\"children\":[{\"id\":\"2179\"},{\"id\":\"2183\"},{\"id\":\"2240\"}],\"margin\":[0,0,0,0],\"name\":\"Row08430\",\"tags\":[\"embedded\"]},\"id\":\"2178\",\"type\":\"Row\"},{\"attributes\":{\"factors\":[\"14\",\"14.5\",\"15\",\"152.5\",\"155\",\"157.5\",\"160\",\"162.5\",\"165\",\"170\",\"77.5\",\"78\",\"79\",\"80\",\"85\",\"90\",\"124\",\"125\",\"126\",\"127\",\"127.5\",\"128\",\"129\",\"130\",\"131\",\"132\",\"132.5\",\"133\",\"135\",\"140\",\"9\",\"88\",\"89\",\"91\",\"95\",\"34.5\",\"35\",\"50\",\"15.5\",\"16\",\"108\",\"110\",\"103.25\",\"103.5\",\"104.5\",\"105\",\"106\",\"115\",\"29.5\",\"30\",\"30.5\",\"32\",\"150\",\"245\",\"250\",\"252.5\",\"255\",\"260\",\"262.5\",\"270\",\"20.5\",\"21\",\"21.5\",\"22\",\"134\",\"145\",\"40\",\"40.5\",\"41\",\"42\",\"43\",\"45\",\"11.5\",\"12\",\"17\",\"17.5\",\"18\",\"303.33\",\"305\",\"306.67\",\"310\",\"313.33\"],\"palette\":[\"#C01234\",\"#C01234\",\"#C01234\",\"#C01234\",\"#C01234\",\"#C01234\",\"#C01234\",\"#C01234\",\"#C01234\",\"#C01234\",\"#C01234\",\"#C01234\",\"#C01234\",\"#C01234\",\"#C01234\",\"#C01234\",\"#C01234\",\"#C01234\",\"#C01234\",\"#C01234\",\"#C01234\",\"#C01234\",\"#C01234\",\"#C01234\",\"#C01234\",\"#C01234\",\"#C01234\",\"#C01234\",\"#C01234\",\"#C01234\",\"#C01234\",\"#C01234\",\"#C01234\",\"#C01234\",\"#C01234\",\"#C01234\",\"#C01234\",\"#C01234\",\"#C01234\",\"#C01234\",\"#C01234\",\"#C01234\",\"#C01234\",\"#C01234\",\"#C01234\",\"#C01234\",\"#C01234\",\"#C01234\",\"#C01234\",\"#C01234\",\"#C01234\",\"#C01234\",\"#C01234\",\"#C01234\",\"#C01234\",\"#C01234\",\"#C01234\",\"#C01234\",\"#C01234\",\"#C01234\",\"#C01234\",\"#C01234\",\"#C01234\",\"#C01234\",\"#C01234\",\"#C01234\",\"#C01234\",\"#C01234\",\"#C01234\",\"#C01234\",\"#C01234\",\"#C01234\",\"#C01234\",\"#C01234\",\"#C01234\",\"#C01234\",\"#C01234\",\"#C01234\",\"#C01234\",\"#C01234\",\"#C01234\",\"#C01234\"]},\"id\":\"2212\",\"type\":\"CategoricalColorMapper\"},{\"attributes\":{\"source\":{\"id\":\"2213\"}},\"id\":\"2220\",\"type\":\"CDSView\"},{\"attributes\":{\"format\":\"%.0f\"},\"id\":\"2222\",\"type\":\"PrintfTickFormatter\"},{\"attributes\":{\"bottom_units\":\"screen\",\"coordinates\":null,\"fill_alpha\":0.5,\"fill_color\":\"lightgrey\",\"group\":null,\"left_units\":\"screen\",\"level\":\"overlay\",\"line_alpha\":1.0,\"line_color\":\"black\",\"line_dash\":[4,4],\"line_width\":2,\"right_units\":\"screen\",\"syncable\":false,\"top_units\":\"screen\"},\"id\":\"2204\",\"type\":\"BoxAnnotation\"},{\"attributes\":{\"coordinates\":null,\"group\":null,\"text\":\"Puts\",\"text_color\":\"black\",\"text_font_size\":\"12pt\"},\"id\":\"2184\",\"type\":\"Title\"},{\"attributes\":{\"below\":[{\"id\":\"2192\"}],\"center\":[{\"id\":\"2194\"},{\"id\":\"2198\"}],\"height\":800,\"left\":[{\"id\":\"2195\"}],\"margin\":[5,5,5,5],\"min_border_bottom\":10,\"min_border_left\":10,\"min_border_right\":10,\"min_border_top\":10,\"renderers\":[{\"id\":\"2219\"}],\"sizing_mode\":\"fixed\",\"title\":{\"id\":\"2184\"},\"toolbar\":{\"id\":\"2205\"},\"width\":1000,\"x_range\":{\"id\":\"2180\"},\"x_scale\":{\"id\":\"2188\"},\"y_range\":{\"id\":\"2181\"},\"y_scale\":{\"id\":\"2190\"}},\"id\":\"2183\",\"subtype\":\"Figure\",\"type\":\"Plot\"},{\"attributes\":{\"coordinates\":null,\"data_source\":{\"id\":\"2213\"},\"glyph\":{\"id\":\"2216\"},\"group\":null,\"hover_glyph\":null,\"muted_glyph\":{\"id\":\"2218\"},\"nonselection_glyph\":{\"id\":\"2217\"},\"selection_glyph\":{\"id\":\"2221\"},\"view\":{\"id\":\"2220\"}},\"id\":\"2219\",\"type\":\"GlyphRenderer\"},{\"attributes\":{},\"id\":\"2203\",\"type\":\"ResetTool\"},{\"attributes\":{},\"id\":\"2196\",\"type\":\"BasicTicker\"},{\"attributes\":{\"bottom\":{\"field\":\"bottom\"},\"fill_alpha\":{\"value\":0.1},\"fill_color\":{\"field\":\"Strike\",\"transform\":{\"id\":\"2212\"}},\"hatch_alpha\":{\"value\":0.1},\"hatch_color\":{\"field\":\"Strike\",\"transform\":{\"id\":\"2212\"}},\"line_alpha\":{\"value\":0.1},\"top\":{\"field\":\"top\"},\"width\":{\"value\":0.8},\"x\":{\"field\":\"Symbol\"}},\"id\":\"2217\",\"type\":\"VBar\"},{\"attributes\":{\"overlay\":{\"id\":\"2204\"}},\"id\":\"2202\",\"type\":\"BoxZoomTool\"},{\"attributes\":{\"bottom\":{\"field\":\"bottom\"},\"fill_alpha\":{\"value\":0.2},\"fill_color\":{\"field\":\"Strike\",\"transform\":{\"id\":\"2212\"}},\"hatch_alpha\":{\"value\":0.2},\"hatch_color\":{\"field\":\"Strike\",\"transform\":{\"id\":\"2212\"}},\"line_alpha\":{\"value\":0.2},\"top\":{\"field\":\"top\"},\"width\":{\"value\":0.8},\"x\":{\"field\":\"Symbol\"}},\"id\":\"2218\",\"type\":\"VBar\"},{\"attributes\":{\"axis_label\":\"Symbol\",\"coordinates\":null,\"formatter\":{\"id\":\"2224\"},\"group\":null,\"major_label_orientation\":1.5707963267948966,\"major_label_policy\":{\"id\":\"2225\"},\"ticker\":{\"id\":\"2193\"}},\"id\":\"2192\",\"type\":\"CategoricalAxis\"},{\"attributes\":{\"bottom\":{\"field\":\"bottom\"},\"fill_color\":{\"field\":\"Strike\",\"transform\":{\"id\":\"2212\"}},\"hatch_color\":{\"field\":\"Strike\",\"transform\":{\"id\":\"2212\"}},\"top\":{\"field\":\"top\"},\"width\":{\"value\":0.8},\"x\":{\"field\":\"Symbol\"}},\"id\":\"2216\",\"type\":\"VBar\"},{\"attributes\":{\"bottom\":{\"field\":\"bottom\"},\"fill_alpha\":{\"value\":1.0},\"fill_color\":{\"field\":\"Strike\",\"transform\":{\"id\":\"2212\"}},\"hatch_alpha\":{\"value\":1.0},\"hatch_color\":{\"field\":\"Strike\",\"transform\":{\"id\":\"2212\"}},\"hatch_scale\":{\"value\":12.0},\"hatch_weight\":{\"value\":1.0},\"line_alpha\":{\"value\":1.0},\"line_cap\":{\"value\":\"butt\"},\"line_color\":{\"value\":\"black\"},\"line_dash\":{\"value\":[]},\"line_dash_offset\":{\"value\":0},\"line_join\":{\"value\":\"bevel\"},\"line_width\":{\"value\":1},\"top\":{\"field\":\"top\"},\"width\":{\"value\":0.8},\"x\":{\"field\":\"Symbol\"}},\"id\":\"2221\",\"type\":\"VBar\"},{\"attributes\":{},\"id\":\"2200\",\"type\":\"PanTool\"},{\"attributes\":{},\"id\":\"2190\",\"type\":\"LinearScale\"},{\"attributes\":{\"axis\":{\"id\":\"2195\"},\"coordinates\":null,\"dimension\":1,\"grid_line_color\":null,\"group\":null,\"ticker\":null},\"id\":\"2198\",\"type\":\"Grid\"},{\"attributes\":{\"end\":296963.1,\"reset_end\":296963.1,\"reset_start\":0.0,\"tags\":[[[\"Open Int\",\"Open Int\",null]]]},\"id\":\"2181\",\"type\":\"Range1d\"},{\"attributes\":{\"tools\":[{\"id\":\"2182\"},{\"id\":\"2199\"},{\"id\":\"2200\"},{\"id\":\"2201\"},{\"id\":\"2202\"},{\"id\":\"2203\"}]},\"id\":\"2205\",\"type\":\"Toolbar\"},{\"attributes\":{},\"id\":\"2214\",\"type\":\"Selection\"},{\"attributes\":{\"margin\":[5,5,5,5],\"name\":\"HSpacer08435\",\"sizing_mode\":\"stretch_width\"},\"id\":\"2240\",\"type\":\"Spacer\"},{\"attributes\":{},\"id\":\"2201\",\"type\":\"WheelZoomTool\"},{\"attributes\":{\"margin\":[5,5,5,5],\"name\":\"HSpacer08434\",\"sizing_mode\":\"stretch_width\"},\"id\":\"2179\",\"type\":\"Spacer\"},{\"attributes\":{\"axis\":{\"id\":\"2192\"},\"coordinates\":null,\"grid_line_color\":null,\"group\":null,\"ticker\":null},\"id\":\"2194\",\"type\":\"Grid\"},{\"attributes\":{},\"id\":\"2188\",\"type\":\"CategoricalScale\"},{\"attributes\":{\"callback\":null,\"renderers\":[{\"id\":\"2219\"}],\"tags\":[\"hv_created\"],\"tooltips\":[[\"Symbol\",\"@{Symbol}\"],[\"Strike\",\"@{Strike}\"],[\"Open Int\",\"@{Open_Int}\"]]},\"id\":\"2182\",\"type\":\"HoverTool\"},{\"attributes\":{},\"id\":\"2224\",\"type\":\"CategoricalTickFormatter\"},{\"attributes\":{\"axis_label\":\"Open Int\",\"coordinates\":null,\"formatter\":{\"id\":\"2222\"},\"group\":null,\"major_label_policy\":{\"id\":\"2228\"},\"ticker\":{\"id\":\"2196\"}},\"id\":\"2195\",\"type\":\"LinearAxis\"},{\"attributes\":{},\"id\":\"2199\",\"type\":\"SaveTool\"},{\"attributes\":{},\"id\":\"2193\",\"type\":\"CategoricalTicker\"},{\"attributes\":{},\"id\":\"2237\",\"type\":\"UnionRenderers\"}],\"root_ids\":[\"2178\"]},\"title\":\"Bokeh Application\",\"version\":\"2.4.3\"}};\n",
       "    var render_items = [{\"docid\":\"6e3a643f-d3f5-476a-8d6f-5c935a263b9e\",\"root_ids\":[\"2178\"],\"roots\":{\"2178\":\"0c098c5e-c6f7-4199-a586-ae7cfa42edbd\"}}];\n",
       "    root.Bokeh.embed.embed_items_notebook(docs_json, render_items);\n",
       "  }\n",
       "  if (root.Bokeh !== undefined && root.Bokeh.Panel !== undefined) {\n",
       "    embed_document(root);\n",
       "  } else {\n",
       "    var attempts = 0;\n",
       "    var timer = setInterval(function(root) {\n",
       "      if (root.Bokeh !== undefined && root.Bokeh.Panel !== undefined) {\n",
       "        clearInterval(timer);\n",
       "        embed_document(root);\n",
       "      } else if (document.readyState == \"complete\") {\n",
       "        attempts++;\n",
       "        if (attempts > 200) {\n",
       "          clearInterval(timer);\n",
       "          console.log(\"Bokeh: ERROR: Unable to run BokehJS code because BokehJS library is missing\");\n",
       "        }\n",
       "      }\n",
       "    }, 25, root)\n",
       "  }\n",
       "})(window);</script>"
      ],
      "text/plain": [
       ":Bars   [Symbol,Strike]   (Open Int)"
      ]
     },
     "execution_count": 24,
     "metadata": {
      "application/vnd.holoviews_exec.v0+json": {
       "id": "2178"
      }
     },
     "output_type": "execute_result"
    }
   ],
   "source": [
    "# Calling options_put_bar\n",
    "options_put_bar(df)"
   ]
  },
  {
   "cell_type": "markdown",
   "metadata": {},
   "source": [
    "# Single Stock Report from DataFrame."
   ]
  },
  {
   "cell_type": "code",
   "execution_count": 28,
   "metadata": {},
   "outputs": [
    {
     "data": {},
     "metadata": {},
     "output_type": "display_data"
    },
    {
     "data": {
      "application/vnd.holoviews_exec.v0+json": "",
      "text/html": [
       "<div id='3113'>\n",
       "  <div class=\"bk-root\" id=\"5c1b4c33-5d5b-40f8-b124-8af3663d3d07\" data-root-id=\"3113\"></div>\n",
       "</div>\n",
       "<script type=\"application/javascript\">(function(root) {\n",
       "  function embed_document(root) {\n",
       "    var docs_json = {\"ad7d5bf0-9223-436a-afac-c7907916d749\":{\"defs\":[{\"extends\":null,\"module\":null,\"name\":\"ReactiveHTML1\",\"overrides\":[],\"properties\":[]},{\"extends\":null,\"module\":null,\"name\":\"FlexBox1\",\"overrides\":[],\"properties\":[{\"default\":\"flex-start\",\"kind\":null,\"name\":\"align_content\"},{\"default\":\"flex-start\",\"kind\":null,\"name\":\"align_items\"},{\"default\":\"row\",\"kind\":null,\"name\":\"flex_direction\"},{\"default\":\"wrap\",\"kind\":null,\"name\":\"flex_wrap\"},{\"default\":\"flex-start\",\"kind\":null,\"name\":\"justify_content\"}]},{\"extends\":null,\"module\":null,\"name\":\"GridStack1\",\"overrides\":[],\"properties\":[{\"default\":\"warn\",\"kind\":null,\"name\":\"mode\"},{\"default\":null,\"kind\":null,\"name\":\"ncols\"},{\"default\":null,\"kind\":null,\"name\":\"nrows\"},{\"default\":true,\"kind\":null,\"name\":\"allow_resize\"},{\"default\":true,\"kind\":null,\"name\":\"allow_drag\"},{\"default\":[],\"kind\":null,\"name\":\"state\"}]},{\"extends\":null,\"module\":null,\"name\":\"click1\",\"overrides\":[],\"properties\":[{\"default\":\"\",\"kind\":null,\"name\":\"terminal_output\"},{\"default\":\"\",\"kind\":null,\"name\":\"debug_name\"},{\"default\":0,\"kind\":null,\"name\":\"clears\"}]},{\"extends\":null,\"module\":null,\"name\":\"NotificationAreaBase1\",\"overrides\":[],\"properties\":[{\"default\":\"bottom-right\",\"kind\":null,\"name\":\"position\"},{\"default\":0,\"kind\":null,\"name\":\"_clear\"}]},{\"extends\":null,\"module\":null,\"name\":\"NotificationArea1\",\"overrides\":[],\"properties\":[{\"default\":[],\"kind\":null,\"name\":\"notifications\"},{\"default\":\"bottom-right\",\"kind\":null,\"name\":\"position\"},{\"default\":0,\"kind\":null,\"name\":\"_clear\"},{\"default\":[{\"background\":\"#ffc107\",\"icon\":{\"className\":\"fas fa-exclamation-triangle\",\"color\":\"white\",\"tagName\":\"i\"},\"type\":\"warning\"},{\"background\":\"#007bff\",\"icon\":{\"className\":\"fas fa-info-circle\",\"color\":\"white\",\"tagName\":\"i\"},\"type\":\"info\"}],\"kind\":null,\"name\":\"types\"}]},{\"extends\":null,\"module\":null,\"name\":\"Notification\",\"overrides\":[],\"properties\":[{\"default\":null,\"kind\":null,\"name\":\"background\"},{\"default\":3000,\"kind\":null,\"name\":\"duration\"},{\"default\":null,\"kind\":null,\"name\":\"icon\"},{\"default\":\"\",\"kind\":null,\"name\":\"message\"},{\"default\":null,\"kind\":null,\"name\":\"notification_type\"},{\"default\":false,\"kind\":null,\"name\":\"_destroyed\"}]},{\"extends\":null,\"module\":null,\"name\":\"TemplateActions1\",\"overrides\":[],\"properties\":[{\"default\":0,\"kind\":null,\"name\":\"open_modal\"},{\"default\":0,\"kind\":null,\"name\":\"close_modal\"}]},{\"extends\":null,\"module\":null,\"name\":\"MaterialTemplateActions1\",\"overrides\":[],\"properties\":[{\"default\":0,\"kind\":null,\"name\":\"open_modal\"},{\"default\":0,\"kind\":null,\"name\":\"close_modal\"}]}],\"roots\":{\"references\":[{\"attributes\":{\"source\":{\"id\":\"3148\"}},\"id\":\"3155\",\"type\":\"CDSView\"},{\"attributes\":{\"fill_alpha\":{\"value\":0.2},\"fill_color\":{\"field\":\"Type\",\"transform\":{\"id\":\"3147\"}},\"hatch_alpha\":{\"value\":0.2},\"hatch_color\":{\"field\":\"Type\",\"transform\":{\"id\":\"3147\"}},\"line_alpha\":{\"value\":0.2},\"top\":{\"field\":\"Open_Int\"},\"width\":{\"value\":0.8},\"x\":{\"field\":\"xoffsets\"}},\"id\":\"3153\",\"type\":\"VBar\"},{\"attributes\":{\"below\":[{\"id\":\"3127\"}],\"center\":[{\"id\":\"3129\"},{\"id\":\"3133\"}],\"height\":500,\"left\":[{\"id\":\"3130\"}],\"margin\":[5,5,5,5],\"min_border_bottom\":10,\"min_border_left\":10,\"min_border_right\":10,\"min_border_top\":10,\"renderers\":[{\"id\":\"3154\"}],\"sizing_mode\":\"fixed\",\"title\":{\"id\":\"3119\"},\"toolbar\":{\"id\":\"3140\"},\"width\":1300,\"x_range\":{\"id\":\"3115\"},\"x_scale\":{\"id\":\"3123\"},\"y_range\":{\"id\":\"3116\"},\"y_scale\":{\"id\":\"3125\"}},\"id\":\"3118\",\"subtype\":\"Figure\",\"type\":\"Plot\"},{\"attributes\":{\"coordinates\":null,\"data_source\":{\"id\":\"3148\"},\"glyph\":{\"id\":\"3151\"},\"group\":null,\"hover_glyph\":null,\"muted_glyph\":{\"id\":\"3153\"},\"nonselection_glyph\":{\"id\":\"3152\"},\"selection_glyph\":{\"id\":\"3156\"},\"view\":{\"id\":\"3155\"}},\"id\":\"3154\",\"type\":\"GlyphRenderer\"},{\"attributes\":{},\"id\":\"3136\",\"type\":\"WheelZoomTool\"},{\"attributes\":{\"tools\":[{\"id\":\"3117\"},{\"id\":\"3134\"},{\"id\":\"3135\"},{\"id\":\"3136\"},{\"id\":\"3137\"},{\"id\":\"3138\"}]},\"id\":\"3140\",\"type\":\"Toolbar\"},{\"attributes\":{},\"id\":\"3163\",\"type\":\"AllLabels\"},{\"attributes\":{\"margin\":[5,5,5,5],\"name\":\"HSpacer09746\",\"sizing_mode\":\"stretch_width\"},\"id\":\"3114\",\"type\":\"Spacer\"},{\"attributes\":{\"overlay\":{\"id\":\"3139\"}},\"id\":\"3137\",\"type\":\"BoxZoomTool\"},{\"attributes\":{},\"id\":\"3123\",\"type\":\"CategoricalScale\"},{\"attributes\":{\"coordinates\":null,\"group\":null,\"text\":\"Call / Put Open Interests Comparison\",\"text_color\":\"black\",\"text_font_size\":\"12pt\"},\"id\":\"3119\",\"type\":\"Title\"},{\"attributes\":{\"children\":[{\"id\":\"3114\"},{\"id\":\"3118\"},{\"id\":\"3175\"}],\"margin\":[0,0,0,0],\"name\":\"Row09742\",\"tags\":[\"embedded\"]},\"id\":\"3113\",\"type\":\"Row\"},{\"attributes\":{\"format\":\"%0f\"},\"id\":\"3157\",\"type\":\"PrintfTickFormatter\"},{\"attributes\":{\"factors\":[[\"12\",\"Call\"],[\"12\",\"Put\"],[\"13\",\"Call\"],[\"13\",\"Put\"],[\"14\",\"Call\"],[\"14\",\"Put\"],[\"14.5\",\"Call\"],[\"14.5\",\"Put\"],[\"15\",\"Call\"],[\"15\",\"Put\"],[\"15.5\",\"Call\"],[\"15.5\",\"Put\"],[\"16\",\"Call\"],[\"16\",\"Put\"]],\"tags\":[[[\"Strike\",\"Strike\",null],[\"Type\",\"Type\",null]]]},\"id\":\"3115\",\"type\":\"FactorRange\"},{\"attributes\":{\"margin\":[5,5,5,5],\"name\":\"HSpacer09747\",\"sizing_mode\":\"stretch_width\"},\"id\":\"3175\",\"type\":\"Spacer\"},{\"attributes\":{},\"id\":\"3159\",\"type\":\"CategoricalTickFormatter\"},{\"attributes\":{},\"id\":\"3138\",\"type\":\"ResetTool\"},{\"attributes\":{\"data\":{\"Open_Int\":{\"__ndarray__\":\"AAAAAIARyUAAAAAAwPbYQAAAAADArNxAAAAAAABGokAAAAAAkHj8QAAAAACAKcJAAAAAAEjtAUE=\",\"dtype\":\"float64\",\"order\":\"little\",\"shape\":[7]},\"Strike\":[\"12\",\"13\",\"14\",\"14.5\",\"15\",\"15.5\",\"16\"],\"Type\":[\"Call\",\"Call\",\"Call\",\"Call\",\"Put\",\"Put\",\"Put\"],\"xoffsets\":[[\"12\",\"Call\"],[\"13\",\"Call\"],[\"14\",\"Call\"],[\"14.5\",\"Call\"],[\"15\",\"Put\"],[\"15.5\",\"Put\"],[\"16\",\"Put\"]]},\"selected\":{\"id\":\"3149\"},\"selection_policy\":{\"id\":\"3172\"}},\"id\":\"3148\",\"type\":\"ColumnDataSource\"},{\"attributes\":{\"end\":161308.8,\"reset_end\":161308.8,\"reset_start\":0.0,\"tags\":[[[\"Open Int\",\"Open Int\",null]]]},\"id\":\"3116\",\"type\":\"Range1d\"},{\"attributes\":{\"axis\":{\"id\":\"3130\"},\"coordinates\":null,\"dimension\":1,\"grid_line_color\":null,\"group\":null,\"ticker\":null},\"id\":\"3133\",\"type\":\"Grid\"},{\"attributes\":{\"factors\":[\"Call\",\"Put\"],\"palette\":[\"#30a2da\",\"#fc4f30\"]},\"id\":\"3147\",\"type\":\"CategoricalColorMapper\"},{\"attributes\":{},\"id\":\"3125\",\"type\":\"LinearScale\"},{\"attributes\":{\"bottom_units\":\"screen\",\"coordinates\":null,\"fill_alpha\":0.5,\"fill_color\":\"lightgrey\",\"group\":null,\"left_units\":\"screen\",\"level\":\"overlay\",\"line_alpha\":1.0,\"line_color\":\"black\",\"line_dash\":[4,4],\"line_width\":2,\"right_units\":\"screen\",\"syncable\":false,\"top_units\":\"screen\"},\"id\":\"3139\",\"type\":\"BoxAnnotation\"},{\"attributes\":{\"axis_label\":\"F\",\"coordinates\":null,\"formatter\":{\"id\":\"3159\"},\"group\":null,\"major_label_orientation\":1.5707963267948966,\"major_label_policy\":{\"id\":\"3160\"},\"ticker\":{\"id\":\"3128\"}},\"id\":\"3127\",\"type\":\"CategoricalAxis\"},{\"attributes\":{},\"id\":\"3128\",\"type\":\"CategoricalTicker\"},{\"attributes\":{\"axis\":{\"id\":\"3127\"},\"coordinates\":null,\"grid_line_color\":null,\"group\":null,\"ticker\":null},\"id\":\"3129\",\"type\":\"Grid\"},{\"attributes\":{},\"id\":\"3131\",\"type\":\"BasicTicker\"},{\"attributes\":{\"axis_label\":\"Open Interests\",\"coordinates\":null,\"formatter\":{\"id\":\"3157\"},\"group\":null,\"major_label_policy\":{\"id\":\"3163\"},\"ticker\":{\"id\":\"3131\"}},\"id\":\"3130\",\"type\":\"LinearAxis\"},{\"attributes\":{},\"id\":\"3172\",\"type\":\"UnionRenderers\"},{\"attributes\":{\"fill_alpha\":{\"value\":0.1},\"fill_color\":{\"field\":\"Type\",\"transform\":{\"id\":\"3147\"}},\"hatch_alpha\":{\"value\":0.1},\"hatch_color\":{\"field\":\"Type\",\"transform\":{\"id\":\"3147\"}},\"line_alpha\":{\"value\":0.1},\"top\":{\"field\":\"Open_Int\"},\"width\":{\"value\":0.8},\"x\":{\"field\":\"xoffsets\"}},\"id\":\"3152\",\"type\":\"VBar\"},{\"attributes\":{},\"id\":\"3160\",\"type\":\"AllLabels\"},{\"attributes\":{\"fill_color\":{\"field\":\"Type\",\"transform\":{\"id\":\"3147\"}},\"hatch_color\":{\"field\":\"Type\",\"transform\":{\"id\":\"3147\"}},\"top\":{\"field\":\"Open_Int\"},\"width\":{\"value\":0.8},\"x\":{\"field\":\"xoffsets\"}},\"id\":\"3151\",\"type\":\"VBar\"},{\"attributes\":{\"callback\":null,\"renderers\":[{\"id\":\"3154\"}],\"tags\":[\"hv_created\"],\"tooltips\":[[\"Strike\",\"@{Strike}\"],[\"Type\",\"@{Type}\"],[\"Open Int\",\"@{Open_Int}\"]]},\"id\":\"3117\",\"type\":\"HoverTool\"},{\"attributes\":{},\"id\":\"3149\",\"type\":\"Selection\"},{\"attributes\":{},\"id\":\"3134\",\"type\":\"SaveTool\"},{\"attributes\":{\"bottom\":{\"value\":0},\"fill_alpha\":{\"value\":1.0},\"fill_color\":{\"field\":\"Type\",\"transform\":{\"id\":\"3147\"}},\"hatch_alpha\":{\"value\":1.0},\"hatch_color\":{\"field\":\"Type\",\"transform\":{\"id\":\"3147\"}},\"hatch_scale\":{\"value\":12.0},\"hatch_weight\":{\"value\":1.0},\"line_alpha\":{\"value\":1.0},\"line_cap\":{\"value\":\"butt\"},\"line_color\":{\"value\":\"black\"},\"line_dash\":{\"value\":[]},\"line_dash_offset\":{\"value\":0},\"line_join\":{\"value\":\"bevel\"},\"line_width\":{\"value\":1},\"top\":{\"field\":\"Open_Int\"},\"width\":{\"value\":0.8},\"x\":{\"field\":\"xoffsets\"}},\"id\":\"3156\",\"type\":\"VBar\"},{\"attributes\":{},\"id\":\"3135\",\"type\":\"PanTool\"}],\"root_ids\":[\"3113\"]},\"title\":\"Bokeh Application\",\"version\":\"2.4.3\"}};\n",
       "    var render_items = [{\"docid\":\"ad7d5bf0-9223-436a-afac-c7907916d749\",\"root_ids\":[\"3113\"],\"roots\":{\"3113\":\"5c1b4c33-5d5b-40f8-b124-8af3663d3d07\"}}];\n",
       "    root.Bokeh.embed.embed_items_notebook(docs_json, render_items);\n",
       "  }\n",
       "  if (root.Bokeh !== undefined && root.Bokeh.Panel !== undefined) {\n",
       "    embed_document(root);\n",
       "  } else {\n",
       "    var attempts = 0;\n",
       "    var timer = setInterval(function(root) {\n",
       "      if (root.Bokeh !== undefined && root.Bokeh.Panel !== undefined) {\n",
       "        clearInterval(timer);\n",
       "        embed_document(root);\n",
       "      } else if (document.readyState == \"complete\") {\n",
       "        attempts++;\n",
       "        if (attempts > 200) {\n",
       "          clearInterval(timer);\n",
       "          console.log(\"Bokeh: ERROR: Unable to run BokehJS code because BokehJS library is missing\");\n",
       "        }\n",
       "      }\n",
       "    }, 25, root)\n",
       "  }\n",
       "})(window);</script>"
      ],
      "text/plain": [
       ":Bars   [Strike,Type]   (Open Int)"
      ]
     },
     "metadata": {
      "application/vnd.holoviews_exec.v0+json": {
       "id": "3113"
      }
     },
     "output_type": "display_data"
    },
    {
     "data": {},
     "metadata": {},
     "output_type": "display_data"
    },
    {
     "data": {
      "application/vnd.holoviews_exec.v0+json": "",
      "text/html": [
       "<div id='3222'>\n",
       "  <div class=\"bk-root\" id=\"7d218f63-8673-45b5-bcef-9b6d3beacf80\" data-root-id=\"3222\"></div>\n",
       "</div>\n",
       "<script type=\"application/javascript\">(function(root) {\n",
       "  function embed_document(root) {\n",
       "    var docs_json = {\"2d7cc33e-1698-4502-a510-440b9b3182e8\":{\"defs\":[{\"extends\":null,\"module\":null,\"name\":\"ReactiveHTML1\",\"overrides\":[],\"properties\":[]},{\"extends\":null,\"module\":null,\"name\":\"FlexBox1\",\"overrides\":[],\"properties\":[{\"default\":\"flex-start\",\"kind\":null,\"name\":\"align_content\"},{\"default\":\"flex-start\",\"kind\":null,\"name\":\"align_items\"},{\"default\":\"row\",\"kind\":null,\"name\":\"flex_direction\"},{\"default\":\"wrap\",\"kind\":null,\"name\":\"flex_wrap\"},{\"default\":\"flex-start\",\"kind\":null,\"name\":\"justify_content\"}]},{\"extends\":null,\"module\":null,\"name\":\"GridStack1\",\"overrides\":[],\"properties\":[{\"default\":\"warn\",\"kind\":null,\"name\":\"mode\"},{\"default\":null,\"kind\":null,\"name\":\"ncols\"},{\"default\":null,\"kind\":null,\"name\":\"nrows\"},{\"default\":true,\"kind\":null,\"name\":\"allow_resize\"},{\"default\":true,\"kind\":null,\"name\":\"allow_drag\"},{\"default\":[],\"kind\":null,\"name\":\"state\"}]},{\"extends\":null,\"module\":null,\"name\":\"click1\",\"overrides\":[],\"properties\":[{\"default\":\"\",\"kind\":null,\"name\":\"terminal_output\"},{\"default\":\"\",\"kind\":null,\"name\":\"debug_name\"},{\"default\":0,\"kind\":null,\"name\":\"clears\"}]},{\"extends\":null,\"module\":null,\"name\":\"NotificationAreaBase1\",\"overrides\":[],\"properties\":[{\"default\":\"bottom-right\",\"kind\":null,\"name\":\"position\"},{\"default\":0,\"kind\":null,\"name\":\"_clear\"}]},{\"extends\":null,\"module\":null,\"name\":\"NotificationArea1\",\"overrides\":[],\"properties\":[{\"default\":[],\"kind\":null,\"name\":\"notifications\"},{\"default\":\"bottom-right\",\"kind\":null,\"name\":\"position\"},{\"default\":0,\"kind\":null,\"name\":\"_clear\"},{\"default\":[{\"background\":\"#ffc107\",\"icon\":{\"className\":\"fas fa-exclamation-triangle\",\"color\":\"white\",\"tagName\":\"i\"},\"type\":\"warning\"},{\"background\":\"#007bff\",\"icon\":{\"className\":\"fas fa-info-circle\",\"color\":\"white\",\"tagName\":\"i\"},\"type\":\"info\"}],\"kind\":null,\"name\":\"types\"}]},{\"extends\":null,\"module\":null,\"name\":\"Notification\",\"overrides\":[],\"properties\":[{\"default\":null,\"kind\":null,\"name\":\"background\"},{\"default\":3000,\"kind\":null,\"name\":\"duration\"},{\"default\":null,\"kind\":null,\"name\":\"icon\"},{\"default\":\"\",\"kind\":null,\"name\":\"message\"},{\"default\":null,\"kind\":null,\"name\":\"notification_type\"},{\"default\":false,\"kind\":null,\"name\":\"_destroyed\"}]},{\"extends\":null,\"module\":null,\"name\":\"TemplateActions1\",\"overrides\":[],\"properties\":[{\"default\":0,\"kind\":null,\"name\":\"open_modal\"},{\"default\":0,\"kind\":null,\"name\":\"close_modal\"}]},{\"extends\":null,\"module\":null,\"name\":\"MaterialTemplateActions1\",\"overrides\":[],\"properties\":[{\"default\":0,\"kind\":null,\"name\":\"open_modal\"},{\"default\":0,\"kind\":null,\"name\":\"close_modal\"}]}],\"roots\":{\"references\":[{\"attributes\":{\"axis\":{\"id\":\"3238\"},\"coordinates\":null,\"grid_line_color\":null,\"group\":null,\"ticker\":null},\"id\":\"3241\",\"type\":\"Grid\"},{\"attributes\":{},\"id\":\"3351\",\"type\":\"UnionRenderers\"},{\"attributes\":{\"days\":[1,15]},\"id\":\"3289\",\"type\":\"DaysTicker\"},{\"attributes\":{},\"id\":\"3243\",\"type\":\"BasicTicker\"},{\"attributes\":{\"months\":[0,1,2,3,4,5,6,7,8,9,10,11]},\"id\":\"3290\",\"type\":\"MonthsTicker\"},{\"attributes\":{\"axis\":{\"id\":\"3242\"},\"coordinates\":null,\"dimension\":1,\"grid_line_color\":null,\"group\":null,\"ticker\":null},\"id\":\"3245\",\"type\":\"Grid\"},{\"attributes\":{\"axis_label\":\"\",\"coordinates\":null,\"formatter\":{\"id\":\"3263\"},\"group\":null,\"major_label_policy\":{\"id\":\"3264\"},\"ticker\":{\"id\":\"3243\"}},\"id\":\"3242\",\"type\":\"LinearAxis\"},{\"attributes\":{\"months\":[0,2,4,6,8,10]},\"id\":\"3291\",\"type\":\"MonthsTicker\"},{\"attributes\":{\"line_color\":\"#e5ae38\",\"line_width\":2,\"x\":{\"field\":\"timestamp\"},\"y\":{\"field\":\"value\"}},\"id\":\"3367\",\"type\":\"Line\"},{\"attributes\":{\"months\":[0,4,8]},\"id\":\"3292\",\"type\":\"MonthsTicker\"},{\"attributes\":{\"base\":60,\"mantissas\":[1,2,5,10,15,20,30],\"max_interval\":1800000.0,\"min_interval\":1000.0,\"num_minor_ticks\":0},\"id\":\"3284\",\"type\":\"AdaptiveTicker\"},{\"attributes\":{\"months\":[0,6]},\"id\":\"3293\",\"type\":\"MonthsTicker\"},{\"attributes\":{},\"id\":\"3294\",\"type\":\"YearsTicker\"},{\"attributes\":{\"label\":{\"value\":\"high\"},\"renderers\":[{\"id\":\"3304\"}]},\"id\":\"3330\",\"type\":\"LegendItem\"},{\"attributes\":{},\"id\":\"3246\",\"type\":\"SaveTool\"},{\"attributes\":{},\"id\":\"3247\",\"type\":\"PanTool\"},{\"attributes\":{\"data\":{\"Variable\":[\"close\",\"close\",\"close\",\"close\",\"close\"],\"timestamp\":{\"__ndarray__\":\"AADgqf0yeEIAAKAPUDN4QgAAYHWiM3hCAAAg2/QzeEIAAOBARzR4Qg==\",\"dtype\":\"float64\",\"order\":\"little\",\"shape\":[5]},\"value\":{\"__ndarray__\":\"FK5H4XoUL0B7FK5H4XotQFK4HoXrUS1ASOF6FK7HLUBxPQrXo3AtQA==\",\"dtype\":\"float64\",\"order\":\"little\",\"shape\":[5]}},\"selected\":{\"id\":\"3266\"},\"selection_policy\":{\"id\":\"3280\"}},\"id\":\"3265\",\"type\":\"ColumnDataSource\"},{\"attributes\":{\"line_color\":\"#30a2da\",\"line_width\":2,\"x\":{\"field\":\"timestamp\"},\"y\":{\"field\":\"value\"}},\"id\":\"3297\",\"type\":\"Line\"},{\"attributes\":{},\"id\":\"3248\",\"type\":\"WheelZoomTool\"},{\"attributes\":{\"tools\":[{\"id\":\"3226\"},{\"id\":\"3246\"},{\"id\":\"3247\"},{\"id\":\"3248\"},{\"id\":\"3249\"},{\"id\":\"3250\"}]},\"id\":\"3252\",\"type\":\"Toolbar\"},{\"attributes\":{\"source\":{\"id\":\"3332\"}},\"id\":\"3339\",\"type\":\"CDSView\"},{\"attributes\":{\"overlay\":{\"id\":\"3251\"}},\"id\":\"3249\",\"type\":\"BoxZoomTool\"},{\"attributes\":{\"end\":15.8695,\"reset_end\":15.8695,\"reset_start\":14.3155,\"start\":14.3155,\"tags\":[[[\"value\",\"value\",null]]]},\"id\":\"3225\",\"type\":\"Range1d\"},{\"attributes\":{},\"id\":\"3264\",\"type\":\"AllLabels\"},{\"attributes\":{},\"id\":\"3299\",\"type\":\"Selection\"},{\"attributes\":{},\"id\":\"3250\",\"type\":\"ResetTool\"},{\"attributes\":{},\"id\":\"3333\",\"type\":\"Selection\"},{\"attributes\":{\"bottom_units\":\"screen\",\"coordinates\":null,\"fill_alpha\":0.5,\"fill_color\":\"lightgrey\",\"group\":null,\"left_units\":\"screen\",\"level\":\"overlay\",\"line_alpha\":1.0,\"line_color\":\"black\",\"line_dash\":[4,4],\"line_width\":2,\"right_units\":\"screen\",\"syncable\":false,\"top_units\":\"screen\"},\"id\":\"3251\",\"type\":\"BoxAnnotation\"},{\"attributes\":{\"callback\":null,\"formatters\":{\"@{timestamp}\":\"datetime\"},\"renderers\":[{\"id\":\"3271\"},{\"id\":\"3304\"},{\"id\":\"3338\"}],\"tags\":[\"hv_created\"],\"tooltips\":[[\"Variable\",\"@{Variable}\"],[\"timestamp\",\"@{timestamp}{%F %T}\"],[\"value\",\"@{value}\"]]},\"id\":\"3226\",\"type\":\"HoverTool\"},{\"attributes\":{\"line_color\":\"#fc4f30\",\"line_width\":2,\"x\":{\"field\":\"timestamp\"},\"y\":{\"field\":\"value\"}},\"id\":\"3301\",\"type\":\"Line\"},{\"attributes\":{\"margin\":[5,5,5,5],\"name\":\"HSpacer09838\",\"sizing_mode\":\"stretch_width\"},\"id\":\"3223\",\"type\":\"Spacer\"},{\"attributes\":{},\"id\":\"3266\",\"type\":\"Selection\"},{\"attributes\":{},\"id\":\"3263\",\"type\":\"BasicTickFormatter\"},{\"attributes\":{\"margin\":[5,5,5,5],\"name\":\"HSpacer09839\",\"sizing_mode\":\"stretch_width\"},\"id\":\"3394\",\"type\":\"Spacer\"},{\"attributes\":{\"data\":{\"Variable\":[\"high\",\"high\",\"high\",\"high\",\"high\"],\"timestamp\":{\"__ndarray__\":\"AADgqf0yeEIAAKAPUDN4QgAAYHWiM3hCAAAg2/QzeEIAAOBARzR4Qg==\",\"dtype\":\"float64\",\"order\":\"little\",\"shape\":[5]},\"value\":{\"__ndarray__\":\"exSuR+F6L0DD9Shcj0IuQDMzMzMzsy1A7FG4HoVrLkB7FK5H4XotQA==\",\"dtype\":\"float64\",\"order\":\"little\",\"shape\":[5]}},\"selected\":{\"id\":\"3299\"},\"selection_policy\":{\"id\":\"3315\"}},\"id\":\"3298\",\"type\":\"ColumnDataSource\"},{\"attributes\":{\"coordinates\":null,\"data_source\":{\"id\":\"3298\"},\"glyph\":{\"id\":\"3301\"},\"group\":null,\"hover_glyph\":null,\"muted_glyph\":{\"id\":\"3303\"},\"nonselection_glyph\":{\"id\":\"3302\"},\"selection_glyph\":{\"id\":\"3331\"},\"view\":{\"id\":\"3305\"}},\"id\":\"3304\",\"type\":\"GlyphRenderer\"},{\"attributes\":{\"days\":[1,8,15,22]},\"id\":\"3288\",\"type\":\"DaysTicker\"},{\"attributes\":{\"line_alpha\":0.2,\"line_color\":\"#fc4f30\",\"line_width\":2,\"x\":{\"field\":\"timestamp\"},\"y\":{\"field\":\"value\"}},\"id\":\"3303\",\"type\":\"Line\"},{\"attributes\":{\"below\":[{\"id\":\"3238\"}],\"center\":[{\"id\":\"3241\"},{\"id\":\"3245\"}],\"height\":300,\"left\":[{\"id\":\"3242\"}],\"margin\":[5,5,5,5],\"min_border_bottom\":10,\"min_border_left\":10,\"min_border_right\":10,\"min_border_top\":10,\"renderers\":[{\"id\":\"3271\"},{\"id\":\"3304\"},{\"id\":\"3338\"}],\"right\":[{\"id\":\"3295\"}],\"sizing_mode\":\"fixed\",\"title\":{\"id\":\"3230\"},\"toolbar\":{\"id\":\"3252\"},\"width\":700,\"x_range\":{\"id\":\"3224\"},\"x_scale\":{\"id\":\"3234\"},\"y_range\":{\"id\":\"3225\"},\"y_scale\":{\"id\":\"3236\"}},\"id\":\"3229\",\"subtype\":\"Figure\",\"type\":\"Plot\"},{\"attributes\":{\"line_alpha\":0.1,\"line_color\":\"#fc4f30\",\"line_width\":2,\"x\":{\"field\":\"timestamp\"},\"y\":{\"field\":\"value\"}},\"id\":\"3302\",\"type\":\"Line\"},{\"attributes\":{\"base\":24,\"mantissas\":[1,2,4,6,8,12],\"max_interval\":43200000.0,\"min_interval\":3600000.0,\"num_minor_ticks\":0},\"id\":\"3285\",\"type\":\"AdaptiveTicker\"},{\"attributes\":{},\"id\":\"3315\",\"type\":\"UnionRenderers\"},{\"attributes\":{\"children\":[{\"id\":\"3223\"},{\"id\":\"3229\"},{\"id\":\"3394\"}],\"margin\":[0,0,0,0],\"name\":\"Row09834\",\"tags\":[\"embedded\"]},\"id\":\"3222\",\"type\":\"Row\"},{\"attributes\":{\"source\":{\"id\":\"3298\"}},\"id\":\"3305\",\"type\":\"CDSView\"},{\"attributes\":{\"mantissas\":[1,2,5],\"max_interval\":500.0,\"num_minor_ticks\":0},\"id\":\"3283\",\"type\":\"AdaptiveTicker\"},{\"attributes\":{},\"id\":\"3261\",\"type\":\"AllLabels\"},{\"attributes\":{\"end\":1663300800000.0,\"reset_end\":1663300800000.0,\"reset_start\":1662955200000.0,\"start\":1662955200000.0,\"tags\":[[[\"timestamp\",\"timestamp\",null]]]},\"id\":\"3224\",\"type\":\"Range1d\"},{\"attributes\":{\"days\":[1,4,7,10,13,16,19,22,25,28]},\"id\":\"3287\",\"type\":\"DaysTicker\"},{\"attributes\":{\"line_color\":\"#30a2da\",\"line_width\":2,\"x\":{\"field\":\"timestamp\"},\"y\":{\"field\":\"value\"}},\"id\":\"3268\",\"type\":\"Line\"},{\"attributes\":{\"line_color\":\"#fc4f30\",\"line_width\":2,\"x\":{\"field\":\"timestamp\"},\"y\":{\"field\":\"value\"}},\"id\":\"3331\",\"type\":\"Line\"},{\"attributes\":{\"label\":{\"value\":\"close\"},\"renderers\":[{\"id\":\"3271\"}]},\"id\":\"3296\",\"type\":\"LegendItem\"},{\"attributes\":{},\"id\":\"3260\",\"type\":\"DatetimeTickFormatter\"},{\"attributes\":{},\"id\":\"3234\",\"type\":\"LinearScale\"},{\"attributes\":{\"coordinates\":null,\"data_source\":{\"id\":\"3265\"},\"glyph\":{\"id\":\"3268\"},\"group\":null,\"hover_glyph\":null,\"muted_glyph\":{\"id\":\"3270\"},\"nonselection_glyph\":{\"id\":\"3269\"},\"selection_glyph\":{\"id\":\"3297\"},\"view\":{\"id\":\"3272\"}},\"id\":\"3271\",\"type\":\"GlyphRenderer\"},{\"attributes\":{\"line_alpha\":0.2,\"line_color\":\"#30a2da\",\"line_width\":2,\"x\":{\"field\":\"timestamp\"},\"y\":{\"field\":\"value\"}},\"id\":\"3270\",\"type\":\"Line\"},{\"attributes\":{\"data\":{\"Variable\":[\"low\",\"low\",\"low\",\"low\",\"low\"],\"timestamp\":{\"__ndarray__\":\"AADgqf0yeEIAAKAPUDN4QgAAYHWiM3hCAAAg2/QzeEIAAOBARzR4Qg==\",\"dtype\":\"float64\",\"order\":\"little\",\"shape\":[5]},\"value\":{\"__ndarray__\":\"ZmZmZmbmLkBmZmZmZmYtQKRwPQrX4yxAXI/C9ShcLUBxPQrXo/AsQA==\",\"dtype\":\"float64\",\"order\":\"little\",\"shape\":[5]}},\"selected\":{\"id\":\"3333\"},\"selection_policy\":{\"id\":\"3351\"}},\"id\":\"3332\",\"type\":\"ColumnDataSource\"},{\"attributes\":{\"line_alpha\":0.1,\"line_color\":\"#30a2da\",\"line_width\":2,\"x\":{\"field\":\"timestamp\"},\"y\":{\"field\":\"value\"}},\"id\":\"3269\",\"type\":\"Line\"},{\"attributes\":{\"coordinates\":null,\"group\":null,\"text_color\":\"black\",\"text_font_size\":\"12pt\"},\"id\":\"3230\",\"type\":\"Title\"},{\"attributes\":{},\"id\":\"3280\",\"type\":\"UnionRenderers\"},{\"attributes\":{\"source\":{\"id\":\"3265\"}},\"id\":\"3272\",\"type\":\"CDSView\"},{\"attributes\":{\"num_minor_ticks\":5,\"tickers\":[{\"id\":\"3283\"},{\"id\":\"3284\"},{\"id\":\"3285\"},{\"id\":\"3286\"},{\"id\":\"3287\"},{\"id\":\"3288\"},{\"id\":\"3289\"},{\"id\":\"3290\"},{\"id\":\"3291\"},{\"id\":\"3292\"},{\"id\":\"3293\"},{\"id\":\"3294\"}]},\"id\":\"3239\",\"type\":\"DatetimeTicker\"},{\"attributes\":{\"coordinates\":null,\"data_source\":{\"id\":\"3332\"},\"glyph\":{\"id\":\"3335\"},\"group\":null,\"hover_glyph\":null,\"muted_glyph\":{\"id\":\"3337\"},\"nonselection_glyph\":{\"id\":\"3336\"},\"selection_glyph\":{\"id\":\"3367\"},\"view\":{\"id\":\"3339\"}},\"id\":\"3338\",\"type\":\"GlyphRenderer\"},{\"attributes\":{\"click_policy\":\"mute\",\"coordinates\":null,\"group\":null,\"items\":[{\"id\":\"3296\"},{\"id\":\"3330\"},{\"id\":\"3366\"}],\"location\":[0,0],\"title\":\"Variable\"},\"id\":\"3295\",\"type\":\"Legend\"},{\"attributes\":{\"line_alpha\":0.2,\"line_color\":\"#e5ae38\",\"line_width\":2,\"x\":{\"field\":\"timestamp\"},\"y\":{\"field\":\"value\"}},\"id\":\"3337\",\"type\":\"Line\"},{\"attributes\":{\"line_color\":\"#e5ae38\",\"line_width\":2,\"x\":{\"field\":\"timestamp\"},\"y\":{\"field\":\"value\"}},\"id\":\"3335\",\"type\":\"Line\"},{\"attributes\":{\"axis_label\":\"timestamp\",\"coordinates\":null,\"formatter\":{\"id\":\"3260\"},\"group\":null,\"major_label_policy\":{\"id\":\"3261\"},\"ticker\":{\"id\":\"3239\"}},\"id\":\"3238\",\"type\":\"DatetimeAxis\"},{\"attributes\":{\"days\":[1,2,3,4,5,6,7,8,9,10,11,12,13,14,15,16,17,18,19,20,21,22,23,24,25,26,27,28,29,30,31]},\"id\":\"3286\",\"type\":\"DaysTicker\"},{\"attributes\":{},\"id\":\"3236\",\"type\":\"LinearScale\"},{\"attributes\":{\"label\":{\"value\":\"low\"},\"renderers\":[{\"id\":\"3338\"}]},\"id\":\"3366\",\"type\":\"LegendItem\"},{\"attributes\":{\"line_alpha\":0.1,\"line_color\":\"#e5ae38\",\"line_width\":2,\"x\":{\"field\":\"timestamp\"},\"y\":{\"field\":\"value\"}},\"id\":\"3336\",\"type\":\"Line\"}],\"root_ids\":[\"3222\"]},\"title\":\"Bokeh Application\",\"version\":\"2.4.3\"}};\n",
       "    var render_items = [{\"docid\":\"2d7cc33e-1698-4502-a510-440b9b3182e8\",\"root_ids\":[\"3222\"],\"roots\":{\"3222\":\"7d218f63-8673-45b5-bcef-9b6d3beacf80\"}}];\n",
       "    root.Bokeh.embed.embed_items_notebook(docs_json, render_items);\n",
       "  }\n",
       "  if (root.Bokeh !== undefined && root.Bokeh.Panel !== undefined) {\n",
       "    embed_document(root);\n",
       "  } else {\n",
       "    var attempts = 0;\n",
       "    var timer = setInterval(function(root) {\n",
       "      if (root.Bokeh !== undefined && root.Bokeh.Panel !== undefined) {\n",
       "        clearInterval(timer);\n",
       "        embed_document(root);\n",
       "      } else if (document.readyState == \"complete\") {\n",
       "        attempts++;\n",
       "        if (attempts > 200) {\n",
       "          clearInterval(timer);\n",
       "          console.log(\"Bokeh: ERROR: Unable to run BokehJS code because BokehJS library is missing\");\n",
       "        }\n",
       "      }\n",
       "    }, 25, root)\n",
       "  }\n",
       "})(window);</script>"
      ],
      "text/plain": [
       ":NdOverlay   [Variable]\n",
       "   :Curve   [timestamp]   (value)"
      ]
     },
     "metadata": {
      "application/vnd.holoviews_exec.v0+json": {
       "id": "3222"
      }
     },
     "output_type": "display_data"
    },
    {
     "data": {
      "text/html": [
       "<div>\n",
       "<style scoped>\n",
       "    .dataframe tbody tr th:only-of-type {\n",
       "        vertical-align: middle;\n",
       "    }\n",
       "\n",
       "    .dataframe tbody tr th {\n",
       "        vertical-align: top;\n",
       "    }\n",
       "\n",
       "    .dataframe thead th {\n",
       "        text-align: right;\n",
       "    }\n",
       "</style>\n",
       "<table border=\"1\" class=\"dataframe\">\n",
       "  <thead>\n",
       "    <tr style=\"text-align: right;\">\n",
       "      <th></th>\n",
       "      <th>Open Int</th>\n",
       "    </tr>\n",
       "  </thead>\n",
       "  <tbody>\n",
       "    <tr>\n",
       "      <th>count</th>\n",
       "      <td>3.000000</td>\n",
       "    </tr>\n",
       "    <tr>\n",
       "      <th>mean</th>\n",
       "      <td>90924.333333</td>\n",
       "    </tr>\n",
       "    <tr>\n",
       "      <th>std</th>\n",
       "      <td>72288.558440</td>\n",
       "    </tr>\n",
       "    <tr>\n",
       "      <th>min</th>\n",
       "      <td>9299.000000</td>\n",
       "    </tr>\n",
       "    <tr>\n",
       "      <th>25%</th>\n",
       "      <td>62958.000000</td>\n",
       "    </tr>\n",
       "    <tr>\n",
       "      <th>50%</th>\n",
       "      <td>116617.000000</td>\n",
       "    </tr>\n",
       "    <tr>\n",
       "      <th>75%</th>\n",
       "      <td>131737.000000</td>\n",
       "    </tr>\n",
       "    <tr>\n",
       "      <th>max</th>\n",
       "      <td>146857.000000</td>\n",
       "    </tr>\n",
       "  </tbody>\n",
       "</table>\n",
       "</div>"
      ],
      "text/plain": [
       "            Open Int\n",
       "count       3.000000\n",
       "mean    90924.333333\n",
       "std     72288.558440\n",
       "min      9299.000000\n",
       "25%     62958.000000\n",
       "50%    116617.000000\n",
       "75%    131737.000000\n",
       "max    146857.000000"
      ]
     },
     "metadata": {},
     "output_type": "display_data"
    },
    {
     "data": {
      "text/html": [
       "<div>\n",
       "<style scoped>\n",
       "    .dataframe tbody tr th:only-of-type {\n",
       "        vertical-align: middle;\n",
       "    }\n",
       "\n",
       "    .dataframe tbody tr th {\n",
       "        vertical-align: top;\n",
       "    }\n",
       "\n",
       "    .dataframe thead th {\n",
       "        text-align: right;\n",
       "    }\n",
       "</style>\n",
       "<table border=\"1\" class=\"dataframe\">\n",
       "  <thead>\n",
       "    <tr style=\"text-align: right;\">\n",
       "      <th></th>\n",
       "      <th>Open Int</th>\n",
       "    </tr>\n",
       "  </thead>\n",
       "  <tbody>\n",
       "    <tr>\n",
       "      <th>count</th>\n",
       "      <td>3.000000</td>\n",
       "    </tr>\n",
       "    <tr>\n",
       "      <th>mean</th>\n",
       "      <td>90924.333333</td>\n",
       "    </tr>\n",
       "    <tr>\n",
       "      <th>std</th>\n",
       "      <td>72288.558440</td>\n",
       "    </tr>\n",
       "    <tr>\n",
       "      <th>min</th>\n",
       "      <td>9299.000000</td>\n",
       "    </tr>\n",
       "    <tr>\n",
       "      <th>25%</th>\n",
       "      <td>62958.000000</td>\n",
       "    </tr>\n",
       "    <tr>\n",
       "      <th>50%</th>\n",
       "      <td>116617.000000</td>\n",
       "    </tr>\n",
       "    <tr>\n",
       "      <th>75%</th>\n",
       "      <td>131737.000000</td>\n",
       "    </tr>\n",
       "    <tr>\n",
       "      <th>max</th>\n",
       "      <td>146857.000000</td>\n",
       "    </tr>\n",
       "  </tbody>\n",
       "</table>\n",
       "</div>"
      ],
      "text/plain": [
       "            Open Int\n",
       "count       3.000000\n",
       "mean    90924.333333\n",
       "std     72288.558440\n",
       "min      9299.000000\n",
       "25%     62958.000000\n",
       "50%    116617.000000\n",
       "75%    131737.000000\n",
       "max    146857.000000"
      ]
     },
     "metadata": {},
     "output_type": "display_data"
    }
   ],
   "source": [
    "# Specify dates for Alpaca API.\n",
    "start_date = \"2022-09-12\"\n",
    "end_date = \"2022-09-16\"\n",
    "\n",
    "# Specifies ticker from df above. Can single out any stock you like.\n",
    "ticker = \"F\"\n",
    "stock = ticker\n",
    "\n",
    "# Runs ticker report on single stock from data.\n",
    "report = ticker_report(ticker,df)\n",
    "\n",
    "# Creates ticker df from function\n",
    "ticker_df = alpaca_func(alpaca_key, alpaca_secret, start_date, end_date, stock)\n",
    "\n",
    "# Creates plot from prices\n",
    "prices = ticker_df.hvplot.line(x='timestamp', y=['close','high','low'])\n",
    "\n",
    "# Creates ticker call stats.\n",
    "calls = call_stats(ticker,df)\n",
    "\n",
    "# Creates ticker put stats.\n",
    "puts = put_stats(ticker,df)\n",
    "\n",
    "# Displays functions\n",
    "display(report)\n",
    "display(prices)\n",
    "display(calls)\n",
    "display(puts)"
   ]
  },
  {
   "cell_type": "code",
   "execution_count": null,
   "metadata": {},
   "outputs": [],
   "source": []
  },
  {
   "cell_type": "code",
   "execution_count": null,
   "metadata": {},
   "outputs": [],
   "source": []
  },
  {
   "cell_type": "code",
   "execution_count": null,
   "metadata": {},
   "outputs": [],
   "source": []
  }
 ],
 "metadata": {
  "kernelspec": {
   "display_name": "Python 3.7.13 ('dev')",
   "language": "python",
   "name": "python3"
  },
  "language_info": {
   "codemirror_mode": {
    "name": "ipython",
    "version": 3
   },
   "file_extension": ".py",
   "mimetype": "text/x-python",
   "name": "python",
   "nbconvert_exporter": "python",
   "pygments_lexer": "ipython3",
   "version": "3.7.13"
  },
  "orig_nbformat": 4,
  "vscode": {
   "interpreter": {
    "hash": "c15db3377afa3dcb659dfa4a45bef3fc6c9aec87eaa6dcb1828c53c173a1512b"
   }
  }
 },
 "nbformat": 4,
 "nbformat_minor": 2
}
