{
 "cells": [
  {
   "cell_type": "code",
   "execution_count": 13,
   "metadata": {},
   "outputs": [],
   "source": [
    "import fire\n",
    "import os\n",
    "import requests\n",
    "import pandas as pd\n",
    "from dotenv import load_dotenv\n",
    "load_dotenv()\n",
    "import numpy as np\n",
    "import alpaca_trade_api as alpaca\n",
    "import questionary\n",
    "import hvplot.pandas\n",
    "\n",
    "from qualifier.utils.alpaca_api import alpaca_func\n",
    "from qualifier.utils.analysis import largest_25_OI\n",
    "from qualifier.utils.analysis import options_call_bar\n",
    "from Modules.CleanData import get_data\n",
    "# from qualifier.utils.SQL import add_new_table\n",
    "\n",
    "# alpaca_func(key=alpaca_key, secret=alpaca_secret, START_DATE=START_DATE, END_DATE=END_DATE)\n",
    "# add_new_table(data=a)\n",
    "\n"
   ]
  },
  {
   "cell_type": "code",
   "execution_count": 14,
   "metadata": {},
   "outputs": [],
   "source": [
    "alpaca_key = os.getenv(\"ALPACA_API_KEY\")\n",
    "alpaca_secret = os.getenv(\"ALPACA_SECRET_KEY\")\n",
    "\n",
    "start_date = \"2022-01-01\"\n",
    "end_date = \"2022-05-30\"\n",
    "\n",
    "date = \"09-14-2022\""
   ]
  },
  {
   "cell_type": "code",
   "execution_count": 15,
   "metadata": {},
   "outputs": [
    {
     "name": "stdout",
     "output_type": "stream",
     "text": [
      "“PKYEM57E0UTY41POGUE5”\n",
      "“7F1ljPkun0zwy0oOIyDrEcqPamab0sFLECf2WHeg”\n"
     ]
    }
   ],
   "source": [
    "print(alpaca_key)\n",
    "print(alpaca_secret)"
   ]
  },
  {
   "cell_type": "code",
   "execution_count": 16,
   "metadata": {},
   "outputs": [
    {
     "ename": "UnicodeEncodeError",
     "evalue": "'latin-1' codec can't encode character '\\u201c' in position 0: ordinal not in range(256)",
     "output_type": "error",
     "traceback": [
      "\u001b[0;31m---------------------------------------------------------------------------\u001b[0m",
      "\u001b[0;31mUnicodeEncodeError\u001b[0m                        Traceback (most recent call last)",
      "\u001b[0;32m/var/folders/_f/j_14t_bj18vf6gn7f7zgmbkw0000gn/T/ipykernel_20011/3530037530.py\u001b[0m in \u001b[0;36m<module>\u001b[0;34m\u001b[0m\n\u001b[0;32m----> 1\u001b[0;31m \u001b[0malpaca_func\u001b[0m\u001b[0;34m(\u001b[0m\u001b[0malpaca_key\u001b[0m\u001b[0;34m,\u001b[0m \u001b[0malpaca_secret\u001b[0m\u001b[0;34m,\u001b[0m \u001b[0mstart_date\u001b[0m\u001b[0;34m,\u001b[0m \u001b[0mend_date\u001b[0m\u001b[0;34m)\u001b[0m\u001b[0;34m\u001b[0m\u001b[0;34m\u001b[0m\u001b[0m\n\u001b[0m",
      "\u001b[0;32m~/Desktop/FinTechProjects/One/qualifier/utils/alpaca_api.py\u001b[0m in \u001b[0;36malpaca_func\u001b[0;34m(alpaca_key, alpaca_secret, start_date, end_date)\u001b[0m\n\u001b[1;32m     19\u001b[0m     \u001b[0;31m# Specifies tickers to get from Alpaca API.\u001b[0m\u001b[0;34m\u001b[0m\u001b[0;34m\u001b[0m\u001b[0;34m\u001b[0m\u001b[0m\n\u001b[1;32m     20\u001b[0m     \u001b[0;31m# df = api_alpaca.get_bars(symbol=[\"FB\",\"MSFT\", \"AAPL\"], timeframe=\"1D\", start=\"2022-01-01\", end=\"2022-05-30\").df\u001b[0m\u001b[0;34m\u001b[0m\u001b[0;34m\u001b[0m\u001b[0;34m\u001b[0m\u001b[0m\n\u001b[0;32m---> 21\u001b[0;31m     \u001b[0mdf\u001b[0m \u001b[0;34m=\u001b[0m \u001b[0mapi_alpaca\u001b[0m\u001b[0;34m.\u001b[0m\u001b[0mget_bars\u001b[0m\u001b[0;34m(\u001b[0m\u001b[0msymbol\u001b[0m\u001b[0;34m=\u001b[0m\u001b[0;34m[\u001b[0m\u001b[0;34m\"FB\"\u001b[0m\u001b[0;34m,\u001b[0m\u001b[0;34m\"MSFT\"\u001b[0m\u001b[0;34m,\u001b[0m \u001b[0;34m\"AAPL\"\u001b[0m\u001b[0;34m]\u001b[0m\u001b[0;34m,\u001b[0m \u001b[0mtimeframe\u001b[0m\u001b[0;34m=\u001b[0m\u001b[0;34m\"1D\"\u001b[0m\u001b[0;34m,\u001b[0m \u001b[0mstart\u001b[0m\u001b[0;34m=\u001b[0m\u001b[0mstart_date\u001b[0m\u001b[0;34m,\u001b[0m \u001b[0mend\u001b[0m\u001b[0;34m=\u001b[0m\u001b[0mend_date\u001b[0m\u001b[0;34m)\u001b[0m\u001b[0;34m.\u001b[0m\u001b[0mdf\u001b[0m\u001b[0;34m\u001b[0m\u001b[0;34m\u001b[0m\u001b[0m\n\u001b[0m\u001b[1;32m     22\u001b[0m \u001b[0;34m\u001b[0m\u001b[0m\n\u001b[1;32m     23\u001b[0m     \u001b[0;31m# Specifies which companies to get data for.\u001b[0m\u001b[0;34m\u001b[0m\u001b[0;34m\u001b[0m\u001b[0;34m\u001b[0m\u001b[0m\n",
      "\u001b[0;32m~/opt/anaconda3/envs/FinTech/lib/python3.7/site-packages/alpaca_trade_api/rest.py\u001b[0m in \u001b[0;36mget_bars\u001b[0;34m(self, symbol, timeframe, start, end, adjustment, limit, feed, asof)\u001b[0m\n\u001b[1;32m    720\u001b[0m                                        \u001b[0mfeed\u001b[0m\u001b[0;34m=\u001b[0m\u001b[0mfeed\u001b[0m\u001b[0;34m,\u001b[0m\u001b[0;34m\u001b[0m\u001b[0;34m\u001b[0m\u001b[0m\n\u001b[1;32m    721\u001b[0m                                        \u001b[0masof\u001b[0m\u001b[0;34m=\u001b[0m\u001b[0masof\u001b[0m\u001b[0;34m,\u001b[0m\u001b[0;34m\u001b[0m\u001b[0;34m\u001b[0m\u001b[0m\n\u001b[0;32m--> 722\u001b[0;31m                                        raw=True))\n\u001b[0m\u001b[1;32m    723\u001b[0m         \u001b[0;32mreturn\u001b[0m \u001b[0mBarsV2\u001b[0m\u001b[0;34m(\u001b[0m\u001b[0mbars\u001b[0m\u001b[0;34m)\u001b[0m\u001b[0;34m\u001b[0m\u001b[0;34m\u001b[0m\u001b[0m\n\u001b[1;32m    724\u001b[0m \u001b[0;34m\u001b[0m\u001b[0m\n",
      "\u001b[0;32m~/opt/anaconda3/envs/FinTech/lib/python3.7/site-packages/alpaca_trade_api/rest.py\u001b[0m in \u001b[0;36mget_bars_iter\u001b[0;34m(self, symbol, timeframe, start, end, adjustment, limit, feed, asof, raw)\u001b[0m\n\u001b[1;32m    696\u001b[0m                               \u001b[0mfeed\u001b[0m\u001b[0;34m=\u001b[0m\u001b[0mfeed\u001b[0m\u001b[0;34m,\u001b[0m\u001b[0;34m\u001b[0m\u001b[0;34m\u001b[0m\u001b[0m\n\u001b[1;32m    697\u001b[0m                               asof=asof)\n\u001b[0;32m--> 698\u001b[0;31m         \u001b[0;32mfor\u001b[0m \u001b[0mbar\u001b[0m \u001b[0;32min\u001b[0m \u001b[0mbars\u001b[0m\u001b[0;34m:\u001b[0m\u001b[0;34m\u001b[0m\u001b[0;34m\u001b[0m\u001b[0m\n\u001b[0m\u001b[1;32m    699\u001b[0m             \u001b[0;32mif\u001b[0m \u001b[0mraw\u001b[0m\u001b[0;34m:\u001b[0m\u001b[0;34m\u001b[0m\u001b[0;34m\u001b[0m\u001b[0m\n\u001b[1;32m    700\u001b[0m                 \u001b[0;32myield\u001b[0m \u001b[0mbar\u001b[0m\u001b[0;34m\u001b[0m\u001b[0;34m\u001b[0m\u001b[0m\n",
      "\u001b[0;32m~/opt/anaconda3/envs/FinTech/lib/python3.7/site-packages/alpaca_trade_api/rest.py\u001b[0m in \u001b[0;36m_data_get\u001b[0;34m(self, endpoint, symbol_or_symbols, api_version, endpoint_base, resp_grouped_by_symbol, page_limit, feed, asof, **kwargs)\u001b[0m\n\u001b[1;32m    584\u001b[0m                 \u001b[0mpath\u001b[0m \u001b[0;34m+=\u001b[0m \u001b[0;34mf'/{endpoint}'\u001b[0m\u001b[0;34m\u001b[0m\u001b[0;34m\u001b[0m\u001b[0m\n\u001b[1;32m    585\u001b[0m             resp = self.data_get(path, data=data, feed=feed,\n\u001b[0;32m--> 586\u001b[0;31m                                  api_version=api_version)\n\u001b[0m\u001b[1;32m    587\u001b[0m             \u001b[0;32mif\u001b[0m \u001b[0;32mnot\u001b[0m \u001b[0mresp_grouped_by_symbol\u001b[0m\u001b[0;34m:\u001b[0m\u001b[0;34m\u001b[0m\u001b[0;34m\u001b[0m\u001b[0m\n\u001b[1;32m    588\u001b[0m                 \u001b[0mk\u001b[0m \u001b[0;34m=\u001b[0m \u001b[0mendpoint\u001b[0m \u001b[0;32mor\u001b[0m \u001b[0mendpoint_base\u001b[0m\u001b[0;34m\u001b[0m\u001b[0;34m\u001b[0m\u001b[0m\n",
      "\u001b[0;32m~/opt/anaconda3/envs/FinTech/lib/python3.7/site-packages/alpaca_trade_api/rest.py\u001b[0m in \u001b[0;36mdata_get\u001b[0;34m(self, path, data, feed, api_version)\u001b[0m\n\u001b[1;32m    269\u001b[0m             \u001b[0mdata\u001b[0m\u001b[0;34m[\u001b[0m\u001b[0;34m'feed'\u001b[0m\u001b[0;34m]\u001b[0m \u001b[0;34m=\u001b[0m \u001b[0mfeed\u001b[0m\u001b[0;34m\u001b[0m\u001b[0;34m\u001b[0m\u001b[0m\n\u001b[1;32m    270\u001b[0m         return self._request(\n\u001b[0;32m--> 271\u001b[0;31m             \u001b[0;34m'GET'\u001b[0m\u001b[0;34m,\u001b[0m \u001b[0mpath\u001b[0m\u001b[0;34m,\u001b[0m \u001b[0mdata\u001b[0m\u001b[0;34m,\u001b[0m \u001b[0mbase_url\u001b[0m\u001b[0;34m=\u001b[0m\u001b[0mbase_url\u001b[0m\u001b[0;34m,\u001b[0m \u001b[0mapi_version\u001b[0m\u001b[0;34m=\u001b[0m\u001b[0mapi_version\u001b[0m\u001b[0;34m,\u001b[0m\u001b[0;34m\u001b[0m\u001b[0;34m\u001b[0m\u001b[0m\n\u001b[0m\u001b[1;32m    272\u001b[0m         )\n\u001b[1;32m    273\u001b[0m \u001b[0;34m\u001b[0m\u001b[0m\n",
      "\u001b[0;32m~/opt/anaconda3/envs/FinTech/lib/python3.7/site-packages/alpaca_trade_api/rest.py\u001b[0m in \u001b[0;36m_request\u001b[0;34m(self, method, path, data, base_url, api_version)\u001b[0m\n\u001b[1;32m    211\u001b[0m         \u001b[0;32mwhile\u001b[0m \u001b[0mretry\u001b[0m \u001b[0;34m>=\u001b[0m \u001b[0;36m0\u001b[0m\u001b[0;34m:\u001b[0m\u001b[0;34m\u001b[0m\u001b[0;34m\u001b[0m\u001b[0m\n\u001b[1;32m    212\u001b[0m             \u001b[0;32mtry\u001b[0m\u001b[0;34m:\u001b[0m\u001b[0;34m\u001b[0m\u001b[0;34m\u001b[0m\u001b[0m\n\u001b[0;32m--> 213\u001b[0;31m                 \u001b[0;32mreturn\u001b[0m \u001b[0mself\u001b[0m\u001b[0;34m.\u001b[0m\u001b[0m_one_request\u001b[0m\u001b[0;34m(\u001b[0m\u001b[0mmethod\u001b[0m\u001b[0;34m,\u001b[0m \u001b[0murl\u001b[0m\u001b[0;34m,\u001b[0m \u001b[0mopts\u001b[0m\u001b[0;34m,\u001b[0m \u001b[0mretry\u001b[0m\u001b[0;34m)\u001b[0m\u001b[0;34m\u001b[0m\u001b[0;34m\u001b[0m\u001b[0m\n\u001b[0m\u001b[1;32m    214\u001b[0m             \u001b[0;32mexcept\u001b[0m \u001b[0mRetryException\u001b[0m\u001b[0;34m:\u001b[0m\u001b[0;34m\u001b[0m\u001b[0;34m\u001b[0m\u001b[0m\n\u001b[1;32m    215\u001b[0m                 \u001b[0mretry_wait\u001b[0m \u001b[0;34m=\u001b[0m \u001b[0mself\u001b[0m\u001b[0;34m.\u001b[0m\u001b[0m_retry_wait\u001b[0m\u001b[0;34m\u001b[0m\u001b[0;34m\u001b[0m\u001b[0m\n",
      "\u001b[0;32m~/opt/anaconda3/envs/FinTech/lib/python3.7/site-packages/alpaca_trade_api/rest.py\u001b[0m in \u001b[0;36m_one_request\u001b[0;34m(self, method, url, opts, retry)\u001b[0m\n\u001b[1;32m    230\u001b[0m         \"\"\"\n\u001b[1;32m    231\u001b[0m         \u001b[0mretry_codes\u001b[0m \u001b[0;34m=\u001b[0m \u001b[0mself\u001b[0m\u001b[0;34m.\u001b[0m\u001b[0m_retry_codes\u001b[0m\u001b[0;34m\u001b[0m\u001b[0;34m\u001b[0m\u001b[0m\n\u001b[0;32m--> 232\u001b[0;31m         \u001b[0mresp\u001b[0m \u001b[0;34m=\u001b[0m \u001b[0mself\u001b[0m\u001b[0;34m.\u001b[0m\u001b[0m_session\u001b[0m\u001b[0;34m.\u001b[0m\u001b[0mrequest\u001b[0m\u001b[0;34m(\u001b[0m\u001b[0mmethod\u001b[0m\u001b[0;34m,\u001b[0m \u001b[0murl\u001b[0m\u001b[0;34m,\u001b[0m \u001b[0;34m**\u001b[0m\u001b[0mopts\u001b[0m\u001b[0;34m)\u001b[0m\u001b[0;34m\u001b[0m\u001b[0;34m\u001b[0m\u001b[0m\n\u001b[0m\u001b[1;32m    233\u001b[0m         \u001b[0;32mtry\u001b[0m\u001b[0;34m:\u001b[0m\u001b[0;34m\u001b[0m\u001b[0;34m\u001b[0m\u001b[0m\n\u001b[1;32m    234\u001b[0m             \u001b[0mresp\u001b[0m\u001b[0;34m.\u001b[0m\u001b[0mraise_for_status\u001b[0m\u001b[0;34m(\u001b[0m\u001b[0;34m)\u001b[0m\u001b[0;34m\u001b[0m\u001b[0;34m\u001b[0m\u001b[0m\n",
      "\u001b[0;32m~/opt/anaconda3/envs/FinTech/lib/python3.7/site-packages/requests/sessions.py\u001b[0m in \u001b[0;36mrequest\u001b[0;34m(self, method, url, params, data, headers, cookies, files, auth, timeout, allow_redirects, proxies, hooks, stream, verify, cert, json)\u001b[0m\n\u001b[1;32m    585\u001b[0m         }\n\u001b[1;32m    586\u001b[0m         \u001b[0msend_kwargs\u001b[0m\u001b[0;34m.\u001b[0m\u001b[0mupdate\u001b[0m\u001b[0;34m(\u001b[0m\u001b[0msettings\u001b[0m\u001b[0;34m)\u001b[0m\u001b[0;34m\u001b[0m\u001b[0;34m\u001b[0m\u001b[0m\n\u001b[0;32m--> 587\u001b[0;31m         \u001b[0mresp\u001b[0m \u001b[0;34m=\u001b[0m \u001b[0mself\u001b[0m\u001b[0;34m.\u001b[0m\u001b[0msend\u001b[0m\u001b[0;34m(\u001b[0m\u001b[0mprep\u001b[0m\u001b[0;34m,\u001b[0m \u001b[0;34m**\u001b[0m\u001b[0msend_kwargs\u001b[0m\u001b[0;34m)\u001b[0m\u001b[0;34m\u001b[0m\u001b[0;34m\u001b[0m\u001b[0m\n\u001b[0m\u001b[1;32m    588\u001b[0m \u001b[0;34m\u001b[0m\u001b[0m\n\u001b[1;32m    589\u001b[0m         \u001b[0;32mreturn\u001b[0m \u001b[0mresp\u001b[0m\u001b[0;34m\u001b[0m\u001b[0;34m\u001b[0m\u001b[0m\n",
      "\u001b[0;32m~/opt/anaconda3/envs/FinTech/lib/python3.7/site-packages/requests/sessions.py\u001b[0m in \u001b[0;36msend\u001b[0;34m(self, request, **kwargs)\u001b[0m\n\u001b[1;32m    699\u001b[0m \u001b[0;34m\u001b[0m\u001b[0m\n\u001b[1;32m    700\u001b[0m         \u001b[0;31m# Send the request\u001b[0m\u001b[0;34m\u001b[0m\u001b[0;34m\u001b[0m\u001b[0;34m\u001b[0m\u001b[0m\n\u001b[0;32m--> 701\u001b[0;31m         \u001b[0mr\u001b[0m \u001b[0;34m=\u001b[0m \u001b[0madapter\u001b[0m\u001b[0;34m.\u001b[0m\u001b[0msend\u001b[0m\u001b[0;34m(\u001b[0m\u001b[0mrequest\u001b[0m\u001b[0;34m,\u001b[0m \u001b[0;34m**\u001b[0m\u001b[0mkwargs\u001b[0m\u001b[0;34m)\u001b[0m\u001b[0;34m\u001b[0m\u001b[0;34m\u001b[0m\u001b[0m\n\u001b[0m\u001b[1;32m    702\u001b[0m \u001b[0;34m\u001b[0m\u001b[0m\n\u001b[1;32m    703\u001b[0m         \u001b[0;31m# Total elapsed time of the request (approximately)\u001b[0m\u001b[0;34m\u001b[0m\u001b[0;34m\u001b[0m\u001b[0;34m\u001b[0m\u001b[0m\n",
      "\u001b[0;32m~/opt/anaconda3/envs/FinTech/lib/python3.7/site-packages/requests/adapters.py\u001b[0m in \u001b[0;36msend\u001b[0;34m(self, request, stream, timeout, verify, cert, proxies)\u001b[0m\n\u001b[1;32m    497\u001b[0m                     \u001b[0mdecode_content\u001b[0m\u001b[0;34m=\u001b[0m\u001b[0;32mFalse\u001b[0m\u001b[0;34m,\u001b[0m\u001b[0;34m\u001b[0m\u001b[0;34m\u001b[0m\u001b[0m\n\u001b[1;32m    498\u001b[0m                     \u001b[0mretries\u001b[0m\u001b[0;34m=\u001b[0m\u001b[0mself\u001b[0m\u001b[0;34m.\u001b[0m\u001b[0mmax_retries\u001b[0m\u001b[0;34m,\u001b[0m\u001b[0;34m\u001b[0m\u001b[0;34m\u001b[0m\u001b[0m\n\u001b[0;32m--> 499\u001b[0;31m                     \u001b[0mtimeout\u001b[0m\u001b[0;34m=\u001b[0m\u001b[0mtimeout\u001b[0m\u001b[0;34m,\u001b[0m\u001b[0;34m\u001b[0m\u001b[0;34m\u001b[0m\u001b[0m\n\u001b[0m\u001b[1;32m    500\u001b[0m                 )\n\u001b[1;32m    501\u001b[0m \u001b[0;34m\u001b[0m\u001b[0m\n",
      "\u001b[0;32m~/opt/anaconda3/envs/FinTech/lib/python3.7/site-packages/urllib3/connectionpool.py\u001b[0m in \u001b[0;36murlopen\u001b[0;34m(self, method, url, body, headers, retries, redirect, assert_same_host, timeout, pool_timeout, release_conn, chunked, body_pos, **response_kw)\u001b[0m\n\u001b[1;32m    708\u001b[0m                 \u001b[0mbody\u001b[0m\u001b[0;34m=\u001b[0m\u001b[0mbody\u001b[0m\u001b[0;34m,\u001b[0m\u001b[0;34m\u001b[0m\u001b[0;34m\u001b[0m\u001b[0m\n\u001b[1;32m    709\u001b[0m                 \u001b[0mheaders\u001b[0m\u001b[0;34m=\u001b[0m\u001b[0mheaders\u001b[0m\u001b[0;34m,\u001b[0m\u001b[0;34m\u001b[0m\u001b[0;34m\u001b[0m\u001b[0m\n\u001b[0;32m--> 710\u001b[0;31m                 \u001b[0mchunked\u001b[0m\u001b[0;34m=\u001b[0m\u001b[0mchunked\u001b[0m\u001b[0;34m,\u001b[0m\u001b[0;34m\u001b[0m\u001b[0;34m\u001b[0m\u001b[0m\n\u001b[0m\u001b[1;32m    711\u001b[0m             )\n\u001b[1;32m    712\u001b[0m \u001b[0;34m\u001b[0m\u001b[0m\n",
      "\u001b[0;32m~/opt/anaconda3/envs/FinTech/lib/python3.7/site-packages/urllib3/connectionpool.py\u001b[0m in \u001b[0;36m_make_request\u001b[0;34m(self, conn, method, url, timeout, chunked, **httplib_request_kw)\u001b[0m\n\u001b[1;32m    396\u001b[0m                 \u001b[0mconn\u001b[0m\u001b[0;34m.\u001b[0m\u001b[0mrequest_chunked\u001b[0m\u001b[0;34m(\u001b[0m\u001b[0mmethod\u001b[0m\u001b[0;34m,\u001b[0m \u001b[0murl\u001b[0m\u001b[0;34m,\u001b[0m \u001b[0;34m**\u001b[0m\u001b[0mhttplib_request_kw\u001b[0m\u001b[0;34m)\u001b[0m\u001b[0;34m\u001b[0m\u001b[0;34m\u001b[0m\u001b[0m\n\u001b[1;32m    397\u001b[0m             \u001b[0;32melse\u001b[0m\u001b[0;34m:\u001b[0m\u001b[0;34m\u001b[0m\u001b[0;34m\u001b[0m\u001b[0m\n\u001b[0;32m--> 398\u001b[0;31m                 \u001b[0mconn\u001b[0m\u001b[0;34m.\u001b[0m\u001b[0mrequest\u001b[0m\u001b[0;34m(\u001b[0m\u001b[0mmethod\u001b[0m\u001b[0;34m,\u001b[0m \u001b[0murl\u001b[0m\u001b[0;34m,\u001b[0m \u001b[0;34m**\u001b[0m\u001b[0mhttplib_request_kw\u001b[0m\u001b[0;34m)\u001b[0m\u001b[0;34m\u001b[0m\u001b[0;34m\u001b[0m\u001b[0m\n\u001b[0m\u001b[1;32m    399\u001b[0m \u001b[0;34m\u001b[0m\u001b[0m\n\u001b[1;32m    400\u001b[0m         \u001b[0;31m# We are swallowing BrokenPipeError (errno.EPIPE) since the server is\u001b[0m\u001b[0;34m\u001b[0m\u001b[0;34m\u001b[0m\u001b[0;34m\u001b[0m\u001b[0m\n",
      "\u001b[0;32m~/opt/anaconda3/envs/FinTech/lib/python3.7/site-packages/urllib3/connection.py\u001b[0m in \u001b[0;36mrequest\u001b[0;34m(self, method, url, body, headers)\u001b[0m\n\u001b[1;32m    237\u001b[0m         \u001b[0;32mif\u001b[0m \u001b[0;34m\"user-agent\"\u001b[0m \u001b[0;32mnot\u001b[0m \u001b[0;32min\u001b[0m \u001b[0;34m(\u001b[0m\u001b[0msix\u001b[0m\u001b[0;34m.\u001b[0m\u001b[0mensure_str\u001b[0m\u001b[0;34m(\u001b[0m\u001b[0mk\u001b[0m\u001b[0;34m.\u001b[0m\u001b[0mlower\u001b[0m\u001b[0;34m(\u001b[0m\u001b[0;34m)\u001b[0m\u001b[0;34m)\u001b[0m \u001b[0;32mfor\u001b[0m \u001b[0mk\u001b[0m \u001b[0;32min\u001b[0m \u001b[0mheaders\u001b[0m\u001b[0;34m)\u001b[0m\u001b[0;34m:\u001b[0m\u001b[0;34m\u001b[0m\u001b[0;34m\u001b[0m\u001b[0m\n\u001b[1;32m    238\u001b[0m             \u001b[0mheaders\u001b[0m\u001b[0;34m[\u001b[0m\u001b[0;34m\"User-Agent\"\u001b[0m\u001b[0;34m]\u001b[0m \u001b[0;34m=\u001b[0m \u001b[0m_get_default_user_agent\u001b[0m\u001b[0;34m(\u001b[0m\u001b[0;34m)\u001b[0m\u001b[0;34m\u001b[0m\u001b[0;34m\u001b[0m\u001b[0m\n\u001b[0;32m--> 239\u001b[0;31m         \u001b[0msuper\u001b[0m\u001b[0;34m(\u001b[0m\u001b[0mHTTPConnection\u001b[0m\u001b[0;34m,\u001b[0m \u001b[0mself\u001b[0m\u001b[0;34m)\u001b[0m\u001b[0;34m.\u001b[0m\u001b[0mrequest\u001b[0m\u001b[0;34m(\u001b[0m\u001b[0mmethod\u001b[0m\u001b[0;34m,\u001b[0m \u001b[0murl\u001b[0m\u001b[0;34m,\u001b[0m \u001b[0mbody\u001b[0m\u001b[0;34m=\u001b[0m\u001b[0mbody\u001b[0m\u001b[0;34m,\u001b[0m \u001b[0mheaders\u001b[0m\u001b[0;34m=\u001b[0m\u001b[0mheaders\u001b[0m\u001b[0;34m)\u001b[0m\u001b[0;34m\u001b[0m\u001b[0;34m\u001b[0m\u001b[0m\n\u001b[0m\u001b[1;32m    240\u001b[0m \u001b[0;34m\u001b[0m\u001b[0m\n\u001b[1;32m    241\u001b[0m     \u001b[0;32mdef\u001b[0m \u001b[0mrequest_chunked\u001b[0m\u001b[0;34m(\u001b[0m\u001b[0mself\u001b[0m\u001b[0;34m,\u001b[0m \u001b[0mmethod\u001b[0m\u001b[0;34m,\u001b[0m \u001b[0murl\u001b[0m\u001b[0;34m,\u001b[0m \u001b[0mbody\u001b[0m\u001b[0;34m=\u001b[0m\u001b[0;32mNone\u001b[0m\u001b[0;34m,\u001b[0m \u001b[0mheaders\u001b[0m\u001b[0;34m=\u001b[0m\u001b[0;32mNone\u001b[0m\u001b[0;34m)\u001b[0m\u001b[0;34m:\u001b[0m\u001b[0;34m\u001b[0m\u001b[0;34m\u001b[0m\u001b[0m\n",
      "\u001b[0;32m~/opt/anaconda3/envs/FinTech/lib/python3.7/http/client.py\u001b[0m in \u001b[0;36mrequest\u001b[0;34m(self, method, url, body, headers, encode_chunked)\u001b[0m\n\u001b[1;32m   1279\u001b[0m                 encode_chunked=False):\n\u001b[1;32m   1280\u001b[0m         \u001b[0;34m\"\"\"Send a complete request to the server.\"\"\"\u001b[0m\u001b[0;34m\u001b[0m\u001b[0;34m\u001b[0m\u001b[0m\n\u001b[0;32m-> 1281\u001b[0;31m         \u001b[0mself\u001b[0m\u001b[0;34m.\u001b[0m\u001b[0m_send_request\u001b[0m\u001b[0;34m(\u001b[0m\u001b[0mmethod\u001b[0m\u001b[0;34m,\u001b[0m \u001b[0murl\u001b[0m\u001b[0;34m,\u001b[0m \u001b[0mbody\u001b[0m\u001b[0;34m,\u001b[0m \u001b[0mheaders\u001b[0m\u001b[0;34m,\u001b[0m \u001b[0mencode_chunked\u001b[0m\u001b[0;34m)\u001b[0m\u001b[0;34m\u001b[0m\u001b[0;34m\u001b[0m\u001b[0m\n\u001b[0m\u001b[1;32m   1282\u001b[0m \u001b[0;34m\u001b[0m\u001b[0m\n\u001b[1;32m   1283\u001b[0m     \u001b[0;32mdef\u001b[0m \u001b[0m_send_request\u001b[0m\u001b[0;34m(\u001b[0m\u001b[0mself\u001b[0m\u001b[0;34m,\u001b[0m \u001b[0mmethod\u001b[0m\u001b[0;34m,\u001b[0m \u001b[0murl\u001b[0m\u001b[0;34m,\u001b[0m \u001b[0mbody\u001b[0m\u001b[0;34m,\u001b[0m \u001b[0mheaders\u001b[0m\u001b[0;34m,\u001b[0m \u001b[0mencode_chunked\u001b[0m\u001b[0;34m)\u001b[0m\u001b[0;34m:\u001b[0m\u001b[0;34m\u001b[0m\u001b[0;34m\u001b[0m\u001b[0m\n",
      "\u001b[0;32m~/opt/anaconda3/envs/FinTech/lib/python3.7/http/client.py\u001b[0m in \u001b[0;36m_send_request\u001b[0;34m(self, method, url, body, headers, encode_chunked)\u001b[0m\n\u001b[1;32m   1320\u001b[0m \u001b[0;34m\u001b[0m\u001b[0m\n\u001b[1;32m   1321\u001b[0m         \u001b[0;32mfor\u001b[0m \u001b[0mhdr\u001b[0m\u001b[0;34m,\u001b[0m \u001b[0mvalue\u001b[0m \u001b[0;32min\u001b[0m \u001b[0mheaders\u001b[0m\u001b[0;34m.\u001b[0m\u001b[0mitems\u001b[0m\u001b[0;34m(\u001b[0m\u001b[0;34m)\u001b[0m\u001b[0;34m:\u001b[0m\u001b[0;34m\u001b[0m\u001b[0;34m\u001b[0m\u001b[0m\n\u001b[0;32m-> 1322\u001b[0;31m             \u001b[0mself\u001b[0m\u001b[0;34m.\u001b[0m\u001b[0mputheader\u001b[0m\u001b[0;34m(\u001b[0m\u001b[0mhdr\u001b[0m\u001b[0;34m,\u001b[0m \u001b[0mvalue\u001b[0m\u001b[0;34m)\u001b[0m\u001b[0;34m\u001b[0m\u001b[0;34m\u001b[0m\u001b[0m\n\u001b[0m\u001b[1;32m   1323\u001b[0m         \u001b[0;32mif\u001b[0m \u001b[0misinstance\u001b[0m\u001b[0;34m(\u001b[0m\u001b[0mbody\u001b[0m\u001b[0;34m,\u001b[0m \u001b[0mstr\u001b[0m\u001b[0;34m)\u001b[0m\u001b[0;34m:\u001b[0m\u001b[0;34m\u001b[0m\u001b[0;34m\u001b[0m\u001b[0m\n\u001b[1;32m   1324\u001b[0m             \u001b[0;31m# RFC 2616 Section 3.7.1 says that text default has a\u001b[0m\u001b[0;34m\u001b[0m\u001b[0;34m\u001b[0m\u001b[0;34m\u001b[0m\u001b[0m\n",
      "\u001b[0;32m~/opt/anaconda3/envs/FinTech/lib/python3.7/site-packages/urllib3/connection.py\u001b[0m in \u001b[0;36mputheader\u001b[0;34m(self, header, *values)\u001b[0m\n\u001b[1;32m    222\u001b[0m         \u001b[0;34m\"\"\" \"\"\"\u001b[0m\u001b[0;34m\u001b[0m\u001b[0;34m\u001b[0m\u001b[0m\n\u001b[1;32m    223\u001b[0m         \u001b[0;32mif\u001b[0m \u001b[0;32mnot\u001b[0m \u001b[0many\u001b[0m\u001b[0;34m(\u001b[0m\u001b[0misinstance\u001b[0m\u001b[0;34m(\u001b[0m\u001b[0mv\u001b[0m\u001b[0;34m,\u001b[0m \u001b[0mstr\u001b[0m\u001b[0;34m)\u001b[0m \u001b[0;32mand\u001b[0m \u001b[0mv\u001b[0m \u001b[0;34m==\u001b[0m \u001b[0mSKIP_HEADER\u001b[0m \u001b[0;32mfor\u001b[0m \u001b[0mv\u001b[0m \u001b[0;32min\u001b[0m \u001b[0mvalues\u001b[0m\u001b[0;34m)\u001b[0m\u001b[0;34m:\u001b[0m\u001b[0;34m\u001b[0m\u001b[0;34m\u001b[0m\u001b[0m\n\u001b[0;32m--> 224\u001b[0;31m             \u001b[0m_HTTPConnection\u001b[0m\u001b[0;34m.\u001b[0m\u001b[0mputheader\u001b[0m\u001b[0;34m(\u001b[0m\u001b[0mself\u001b[0m\u001b[0;34m,\u001b[0m \u001b[0mheader\u001b[0m\u001b[0;34m,\u001b[0m \u001b[0;34m*\u001b[0m\u001b[0mvalues\u001b[0m\u001b[0;34m)\u001b[0m\u001b[0;34m\u001b[0m\u001b[0;34m\u001b[0m\u001b[0m\n\u001b[0m\u001b[1;32m    225\u001b[0m         \u001b[0;32melif\u001b[0m \u001b[0msix\u001b[0m\u001b[0;34m.\u001b[0m\u001b[0mensure_str\u001b[0m\u001b[0;34m(\u001b[0m\u001b[0mheader\u001b[0m\u001b[0;34m.\u001b[0m\u001b[0mlower\u001b[0m\u001b[0;34m(\u001b[0m\u001b[0;34m)\u001b[0m\u001b[0;34m)\u001b[0m \u001b[0;32mnot\u001b[0m \u001b[0;32min\u001b[0m \u001b[0mSKIPPABLE_HEADERS\u001b[0m\u001b[0;34m:\u001b[0m\u001b[0;34m\u001b[0m\u001b[0;34m\u001b[0m\u001b[0m\n\u001b[1;32m    226\u001b[0m             raise ValueError(\n",
      "\u001b[0;32m~/opt/anaconda3/envs/FinTech/lib/python3.7/http/client.py\u001b[0m in \u001b[0;36mputheader\u001b[0;34m(self, header, *values)\u001b[0m\n\u001b[1;32m   1252\u001b[0m         \u001b[0;32mfor\u001b[0m \u001b[0mi\u001b[0m\u001b[0;34m,\u001b[0m \u001b[0mone_value\u001b[0m \u001b[0;32min\u001b[0m \u001b[0menumerate\u001b[0m\u001b[0;34m(\u001b[0m\u001b[0mvalues\u001b[0m\u001b[0;34m)\u001b[0m\u001b[0;34m:\u001b[0m\u001b[0;34m\u001b[0m\u001b[0;34m\u001b[0m\u001b[0m\n\u001b[1;32m   1253\u001b[0m             \u001b[0;32mif\u001b[0m \u001b[0mhasattr\u001b[0m\u001b[0;34m(\u001b[0m\u001b[0mone_value\u001b[0m\u001b[0;34m,\u001b[0m \u001b[0;34m'encode'\u001b[0m\u001b[0;34m)\u001b[0m\u001b[0;34m:\u001b[0m\u001b[0;34m\u001b[0m\u001b[0;34m\u001b[0m\u001b[0m\n\u001b[0;32m-> 1254\u001b[0;31m                 \u001b[0mvalues\u001b[0m\u001b[0;34m[\u001b[0m\u001b[0mi\u001b[0m\u001b[0;34m]\u001b[0m \u001b[0;34m=\u001b[0m \u001b[0mone_value\u001b[0m\u001b[0;34m.\u001b[0m\u001b[0mencode\u001b[0m\u001b[0;34m(\u001b[0m\u001b[0;34m'latin-1'\u001b[0m\u001b[0;34m)\u001b[0m\u001b[0;34m\u001b[0m\u001b[0;34m\u001b[0m\u001b[0m\n\u001b[0m\u001b[1;32m   1255\u001b[0m             \u001b[0;32melif\u001b[0m \u001b[0misinstance\u001b[0m\u001b[0;34m(\u001b[0m\u001b[0mone_value\u001b[0m\u001b[0;34m,\u001b[0m \u001b[0mint\u001b[0m\u001b[0;34m)\u001b[0m\u001b[0;34m:\u001b[0m\u001b[0;34m\u001b[0m\u001b[0;34m\u001b[0m\u001b[0m\n\u001b[1;32m   1256\u001b[0m                 \u001b[0mvalues\u001b[0m\u001b[0;34m[\u001b[0m\u001b[0mi\u001b[0m\u001b[0;34m]\u001b[0m \u001b[0;34m=\u001b[0m \u001b[0mstr\u001b[0m\u001b[0;34m(\u001b[0m\u001b[0mone_value\u001b[0m\u001b[0;34m)\u001b[0m\u001b[0;34m.\u001b[0m\u001b[0mencode\u001b[0m\u001b[0;34m(\u001b[0m\u001b[0;34m'ascii'\u001b[0m\u001b[0;34m)\u001b[0m\u001b[0;34m\u001b[0m\u001b[0;34m\u001b[0m\u001b[0m\n",
      "\u001b[0;31mUnicodeEncodeError\u001b[0m: 'latin-1' codec can't encode character '\\u201c' in position 0: ordinal not in range(256)"
     ]
    }
   ],
   "source": [
    "alpaca_func(alpaca_key, alpaca_secret, start_date, end_date)"
   ]
  },
  {
   "cell_type": "code",
   "execution_count": 6,
   "metadata": {},
   "outputs": [],
   "source": [
    "# From the query, SELECT *\n",
    "df = get_data(date)\n"
   ]
  },
  {
   "cell_type": "code",
   "execution_count": 7,
   "metadata": {},
   "outputs": [
    {
     "data": {},
     "metadata": {},
     "output_type": "display_data"
    },
    {
     "data": {
      "application/vnd.holoviews_exec.v0+json": "",
      "text/html": [
       "<div id='1002'>\n",
       "  <div class=\"bk-root\" id=\"9807d203-d7b3-4863-b89c-ca9079435382\" data-root-id=\"1002\"></div>\n",
       "</div>\n",
       "<script type=\"application/javascript\">(function(root) {\n",
       "  function embed_document(root) {\n",
       "    var docs_json = {\"ca6c18de-06c0-407b-974b-4b0e3a01a687\":{\"defs\":[{\"extends\":null,\"module\":null,\"name\":\"ReactiveHTML1\",\"overrides\":[],\"properties\":[]},{\"extends\":null,\"module\":null,\"name\":\"FlexBox1\",\"overrides\":[],\"properties\":[{\"default\":\"flex-start\",\"kind\":null,\"name\":\"align_content\"},{\"default\":\"flex-start\",\"kind\":null,\"name\":\"align_items\"},{\"default\":\"row\",\"kind\":null,\"name\":\"flex_direction\"},{\"default\":\"wrap\",\"kind\":null,\"name\":\"flex_wrap\"},{\"default\":\"flex-start\",\"kind\":null,\"name\":\"justify_content\"}]},{\"extends\":null,\"module\":null,\"name\":\"GridStack1\",\"overrides\":[],\"properties\":[{\"default\":\"warn\",\"kind\":null,\"name\":\"mode\"},{\"default\":null,\"kind\":null,\"name\":\"ncols\"},{\"default\":null,\"kind\":null,\"name\":\"nrows\"},{\"default\":true,\"kind\":null,\"name\":\"allow_resize\"},{\"default\":true,\"kind\":null,\"name\":\"allow_drag\"},{\"default\":[],\"kind\":null,\"name\":\"state\"}]},{\"extends\":null,\"module\":null,\"name\":\"click1\",\"overrides\":[],\"properties\":[{\"default\":\"\",\"kind\":null,\"name\":\"terminal_output\"},{\"default\":\"\",\"kind\":null,\"name\":\"debug_name\"},{\"default\":0,\"kind\":null,\"name\":\"clears\"}]},{\"extends\":null,\"module\":null,\"name\":\"NotificationAreaBase1\",\"overrides\":[],\"properties\":[{\"default\":\"bottom-right\",\"kind\":null,\"name\":\"position\"},{\"default\":0,\"kind\":null,\"name\":\"_clear\"}]},{\"extends\":null,\"module\":null,\"name\":\"NotificationArea1\",\"overrides\":[],\"properties\":[{\"default\":[],\"kind\":null,\"name\":\"notifications\"},{\"default\":\"bottom-right\",\"kind\":null,\"name\":\"position\"},{\"default\":0,\"kind\":null,\"name\":\"_clear\"},{\"default\":[{\"background\":\"#ffc107\",\"icon\":{\"className\":\"fas fa-exclamation-triangle\",\"color\":\"white\",\"tagName\":\"i\"},\"type\":\"warning\"},{\"background\":\"#007bff\",\"icon\":{\"className\":\"fas fa-info-circle\",\"color\":\"white\",\"tagName\":\"i\"},\"type\":\"info\"}],\"kind\":null,\"name\":\"types\"}]},{\"extends\":null,\"module\":null,\"name\":\"Notification\",\"overrides\":[],\"properties\":[{\"default\":null,\"kind\":null,\"name\":\"background\"},{\"default\":3000,\"kind\":null,\"name\":\"duration\"},{\"default\":null,\"kind\":null,\"name\":\"icon\"},{\"default\":\"\",\"kind\":null,\"name\":\"message\"},{\"default\":null,\"kind\":null,\"name\":\"notification_type\"},{\"default\":false,\"kind\":null,\"name\":\"_destroyed\"}]},{\"extends\":null,\"module\":null,\"name\":\"TemplateActions1\",\"overrides\":[],\"properties\":[{\"default\":0,\"kind\":null,\"name\":\"open_modal\"},{\"default\":0,\"kind\":null,\"name\":\"close_modal\"}]},{\"extends\":null,\"module\":null,\"name\":\"MaterialTemplateActions1\",\"overrides\":[],\"properties\":[{\"default\":0,\"kind\":null,\"name\":\"open_modal\"},{\"default\":0,\"kind\":null,\"name\":\"close_modal\"}]}],\"roots\":{\"references\":[{\"attributes\":{\"children\":[{\"id\":\"1003\"},{\"id\":\"1007\"},{\"id\":\"1064\"}],\"margin\":[0,0,0,0],\"name\":\"Row00862\",\"tags\":[\"embedded\"]},\"id\":\"1002\",\"type\":\"Row\"},{\"attributes\":{\"axis\":{\"id\":\"1016\"},\"coordinates\":null,\"grid_line_color\":null,\"group\":null,\"ticker\":null},\"id\":\"1018\",\"type\":\"Grid\"},{\"attributes\":{},\"id\":\"1027\",\"type\":\"ResetTool\"},{\"attributes\":{\"tools\":[{\"id\":\"1006\"},{\"id\":\"1023\"},{\"id\":\"1024\"},{\"id\":\"1025\"},{\"id\":\"1026\"},{\"id\":\"1027\"}]},\"id\":\"1029\",\"type\":\"Toolbar\"},{\"attributes\":{},\"id\":\"1017\",\"type\":\"CategoricalTicker\"},{\"attributes\":{\"margin\":[5,5,5,5],\"name\":\"HSpacer00867\",\"sizing_mode\":\"stretch_width\"},\"id\":\"1064\",\"type\":\"Spacer\"},{\"attributes\":{\"axis_label\":\"Tickers by Call and Put\",\"coordinates\":null,\"formatter\":{\"id\":\"1048\"},\"group\":null,\"major_label_orientation\":1.5707963267948966,\"major_label_policy\":{\"id\":\"1049\"},\"ticker\":{\"id\":\"1017\"}},\"id\":\"1016\",\"type\":\"CategoricalAxis\"},{\"attributes\":{},\"id\":\"1049\",\"type\":\"AllLabels\"},{\"attributes\":{},\"id\":\"1038\",\"type\":\"Selection\"},{\"attributes\":{\"factors\":[[\"AAPL\",\"Call\"],[\"AAPL\",\"Put\"],[\"TSLA\",\"Call\"],[\"TSLA\",\"Put\"],[\"AMZN\",\"Call\"],[\"AMZN\",\"Put\"],[\"F\",\"Call\"],[\"F\",\"Put\"],[\"META\",\"Call\"],[\"META\",\"Put\"],[\"GOOGL\",\"Call\"],[\"GOOGL\",\"Put\"],[\"AMD\",\"Call\"],[\"AMD\",\"Put\"],[\"TWTR\",\"Call\"],[\"TWTR\",\"Put\"],[\"NVDA\",\"Call\"],[\"NVDA\",\"Put\"],[\"UBER\",\"Call\"],[\"UBER\",\"Put\"],[\"MSFT\",\"Call\"],[\"MSFT\",\"Put\"],[\"CCJ\",\"Call\"],[\"CCJ\",\"Put\"],[\"SWN\",\"Call\"],[\"SWN\",\"Put\"],[\"DKNG\",\"Call\"],[\"DKNG\",\"Put\"],[\"BAC\",\"Call\"],[\"BAC\",\"Put\"],[\"NIO\",\"Call\"],[\"NIO\",\"Put\"],[\"GOOG\",\"Call\"],[\"GOOG\",\"Put\"],[\"BABA\",\"Call\"],[\"BABA\",\"Put\"],[\"T\",\"Call\"],[\"T\",\"Put\"],[\"INTC\",\"Call\"],[\"INTC\",\"Put\"],[\"XOM\",\"Call\"],[\"XOM\",\"Put\"],[\"CHPT\",\"Call\"],[\"CHPT\",\"Put\"],[\"OXY\",\"Call\"],[\"OXY\",\"Put\"],[\"SBUX\",\"Call\"],[\"SBUX\",\"Put\"],[\"BBBY\",\"Call\"],[\"BBBY\",\"Put\"],[\"GM\",\"Call\"],[\"GM\",\"Put\"],[\"PFE\",\"Call\"],[\"PFE\",\"Put\"],[\"SNAP\",\"Call\"],[\"SNAP\",\"Put\"],[\"NFLX\",\"Call\"],[\"NFLX\",\"Put\"],[\"JPM\",\"Call\"],[\"JPM\",\"Put\"],[\"PLUG\",\"Call\"],[\"PLUG\",\"Put\"],[\"LAZR\",\"Call\"],[\"LAZR\",\"Put\"],[\"CCL\",\"Call\"],[\"CCL\",\"Put\"],[\"WBD\",\"Call\"],[\"WBD\",\"Put\"],[\"DIS\",\"Call\"],[\"DIS\",\"Put\"],[\"SHOP\",\"Call\"],[\"SHOP\",\"Put\"],[\"AMC\",\"Call\"],[\"AMC\",\"Put\"],[\"ET\",\"Call\"],[\"ET\",\"Put\"],[\"LCID\",\"Call\"],[\"LCID\",\"Put\"],[\"MU\",\"Call\"],[\"MU\",\"Put\"]],\"tags\":[[[\"Symbol\",\"Symbol\",null],[\"Type\",\"Type\",null]]]},\"id\":\"1004\",\"type\":\"FactorRange\"},{\"attributes\":{},\"id\":\"1052\",\"type\":\"AllLabels\"},{\"attributes\":{\"fill_alpha\":{\"value\":0.1},\"fill_color\":{\"field\":\"Type\",\"transform\":{\"id\":\"1036\"}},\"hatch_alpha\":{\"value\":0.1},\"hatch_color\":{\"field\":\"Type\",\"transform\":{\"id\":\"1036\"}},\"line_alpha\":{\"value\":0.1},\"top\":{\"field\":\"Open_Int\"},\"width\":{\"value\":0.8},\"x\":{\"field\":\"xoffsets\"}},\"id\":\"1041\",\"type\":\"VBar\"},{\"attributes\":{},\"id\":\"1014\",\"type\":\"LinearScale\"},{\"attributes\":{\"axis_label\":\"Open Interests\",\"coordinates\":null,\"formatter\":{\"id\":\"1046\"},\"group\":null,\"major_label_policy\":{\"id\":\"1052\"},\"ticker\":{\"id\":\"1020\"}},\"id\":\"1019\",\"type\":\"LinearAxis\"},{\"attributes\":{\"overlay\":{\"id\":\"1028\"}},\"id\":\"1026\",\"type\":\"BoxZoomTool\"},{\"attributes\":{\"coordinates\":null,\"data_source\":{\"id\":\"1037\"},\"glyph\":{\"id\":\"1040\"},\"group\":null,\"hover_glyph\":null,\"muted_glyph\":{\"id\":\"1042\"},\"nonselection_glyph\":{\"id\":\"1041\"},\"selection_glyph\":{\"id\":\"1045\"},\"view\":{\"id\":\"1044\"}},\"id\":\"1043\",\"type\":\"GlyphRenderer\"},{\"attributes\":{},\"id\":\"1025\",\"type\":\"WheelZoomTool\"},{\"attributes\":{\"format\":\"%0f\"},\"id\":\"1046\",\"type\":\"PrintfTickFormatter\"},{\"attributes\":{\"coordinates\":null,\"group\":null,\"text\":\"Tickers Call / Put Open Interests Comparison\",\"text_color\":\"black\",\"text_font_size\":\"12pt\"},\"id\":\"1008\",\"type\":\"Title\"},{\"attributes\":{},\"id\":\"1012\",\"type\":\"CategoricalScale\"},{\"attributes\":{\"bottom\":{\"value\":0},\"fill_alpha\":{\"value\":1.0},\"fill_color\":{\"field\":\"Type\",\"transform\":{\"id\":\"1036\"}},\"hatch_alpha\":{\"value\":1.0},\"hatch_color\":{\"field\":\"Type\",\"transform\":{\"id\":\"1036\"}},\"hatch_scale\":{\"value\":12.0},\"hatch_weight\":{\"value\":1.0},\"line_alpha\":{\"value\":1.0},\"line_cap\":{\"value\":\"butt\"},\"line_color\":{\"value\":\"black\"},\"line_dash\":{\"value\":[]},\"line_dash_offset\":{\"value\":0},\"line_join\":{\"value\":\"bevel\"},\"line_width\":{\"value\":1},\"top\":{\"field\":\"Open_Int\"},\"width\":{\"value\":0.8},\"x\":{\"field\":\"xoffsets\"}},\"id\":\"1045\",\"type\":\"VBar\"},{\"attributes\":{},\"id\":\"1061\",\"type\":\"UnionRenderers\"},{\"attributes\":{\"margin\":[5,5,5,5],\"name\":\"HSpacer00866\",\"sizing_mode\":\"stretch_width\"},\"id\":\"1003\",\"type\":\"Spacer\"},{\"attributes\":{\"end\":793622.4,\"reset_end\":793622.4,\"reset_start\":0.0,\"tags\":[[[\"Open Int\",\"Open Int\",null]]]},\"id\":\"1005\",\"type\":\"Range1d\"},{\"attributes\":{},\"id\":\"1024\",\"type\":\"PanTool\"},{\"attributes\":{\"below\":[{\"id\":\"1016\"}],\"center\":[{\"id\":\"1018\"},{\"id\":\"1022\"}],\"height\":500,\"left\":[{\"id\":\"1019\"}],\"margin\":[5,5,5,5],\"min_border_bottom\":10,\"min_border_left\":10,\"min_border_right\":10,\"min_border_top\":10,\"renderers\":[{\"id\":\"1043\"}],\"sizing_mode\":\"fixed\",\"title\":{\"id\":\"1008\"},\"toolbar\":{\"id\":\"1029\"},\"width\":1300,\"x_range\":{\"id\":\"1004\"},\"x_scale\":{\"id\":\"1012\"},\"y_range\":{\"id\":\"1005\"},\"y_scale\":{\"id\":\"1014\"}},\"id\":\"1007\",\"subtype\":\"Figure\",\"type\":\"Plot\"},{\"attributes\":{\"data\":{\"Open_Int\":{\"__ndarray__\":\"AAAAANgcJkEAAAAAeFQgQQAAAAC8ahhBAAAAAGrwJEEAAAAAoE8GQQAAAADgjwJBAAAAAKDPAEEAAAAAoCf/QAAAAADgR/5AAAAAANAx+EAAAAAAUA7xQAAAAACQu/ZAAAAAACDQ7kAAAAAAgMrwQAAAAABQ7vtAAAAAAECL60AAAAAA0A30QAAAAACgqOVAAAAAAAAT7EAAAAAAIM70QAAAAACAuOBAAAAAAGrwJEEAAAAA2BwmQQAAAAB4VCBBAAAAALxqGEEAAAAAIFT7QAAAAABAXv5AAAAAAEDX9kAAAAAAkDH3QAAAAACQwvNAAAAAAFDu+0AAAAAAsKvwQAAAAABgx+9AAAAAAJAH80AAAAAAoE8GQQAAAABgYOpAAAAAACDO9EAAAAAAQOTrQAAAAADAS/JAAAAAAEBu8EAAAAAAYKDsQAAAAAAAg+lAAAAAAADV5UAAAAAA0A30QAAAAACAyetAAAAAAECb5UAAAAAAQNLkQAAAAACgceZAAAAAAOCPAkEAAAAAoM8AQQ==\",\"dtype\":\"float64\",\"order\":\"little\",\"shape\":[50]},\"Symbol\":[\"AAPL\",\"AMZN\",\"F\",\"TSLA\",\"META\",\"GOOGL\",\"AMD\",\"NVDA\",\"MSFT\",\"BAC\",\"GOOG\",\"BABA\",\"T\",\"INTC\",\"NIO\",\"PFE\",\"NFLX\",\"WBD\",\"SHOP\",\"BBBY\",\"MU\",\"TSLA\",\"AAPL\",\"AMZN\",\"F\",\"TWTR\",\"UBER\",\"CCJ\",\"SWN\",\"DKNG\",\"NIO\",\"XOM\",\"CHPT\",\"OXY\",\"META\",\"SBUX\",\"BBBY\",\"GM\",\"SNAP\",\"JPM\",\"PLUG\",\"LAZR\",\"CCL\",\"NFLX\",\"DIS\",\"AMC\",\"ET\",\"LCID\",\"GOOGL\",\"AMD\"],\"Type\":[\"Put\",\"Put\",\"Put\",\"Put\",\"Put\",\"Put\",\"Put\",\"Put\",\"Put\",\"Put\",\"Put\",\"Put\",\"Put\",\"Put\",\"Put\",\"Put\",\"Put\",\"Put\",\"Put\",\"Put\",\"Put\",\"Call\",\"Call\",\"Call\",\"Call\",\"Call\",\"Call\",\"Call\",\"Call\",\"Call\",\"Call\",\"Call\",\"Call\",\"Call\",\"Call\",\"Call\",\"Call\",\"Call\",\"Call\",\"Call\",\"Call\",\"Call\",\"Call\",\"Call\",\"Call\",\"Call\",\"Call\",\"Call\",\"Call\",\"Call\"],\"xoffsets\":[[\"AAPL\",\"Put\"],[\"AMZN\",\"Put\"],[\"F\",\"Put\"],[\"TSLA\",\"Put\"],[\"META\",\"Put\"],[\"GOOGL\",\"Put\"],[\"AMD\",\"Put\"],[\"NVDA\",\"Put\"],[\"MSFT\",\"Put\"],[\"BAC\",\"Put\"],[\"GOOG\",\"Put\"],[\"BABA\",\"Put\"],[\"T\",\"Put\"],[\"INTC\",\"Put\"],[\"NIO\",\"Put\"],[\"PFE\",\"Put\"],[\"NFLX\",\"Put\"],[\"WBD\",\"Put\"],[\"SHOP\",\"Put\"],[\"BBBY\",\"Put\"],[\"MU\",\"Put\"],[\"TSLA\",\"Call\"],[\"AAPL\",\"Call\"],[\"AMZN\",\"Call\"],[\"F\",\"Call\"],[\"TWTR\",\"Call\"],[\"UBER\",\"Call\"],[\"CCJ\",\"Call\"],[\"SWN\",\"Call\"],[\"DKNG\",\"Call\"],[\"NIO\",\"Call\"],[\"XOM\",\"Call\"],[\"CHPT\",\"Call\"],[\"OXY\",\"Call\"],[\"META\",\"Call\"],[\"SBUX\",\"Call\"],[\"BBBY\",\"Call\"],[\"GM\",\"Call\"],[\"SNAP\",\"Call\"],[\"JPM\",\"Call\"],[\"PLUG\",\"Call\"],[\"LAZR\",\"Call\"],[\"CCL\",\"Call\"],[\"NFLX\",\"Call\"],[\"DIS\",\"Call\"],[\"AMC\",\"Call\"],[\"ET\",\"Call\"],[\"LCID\",\"Call\"],[\"GOOGL\",\"Call\"],[\"AMD\",\"Call\"]]},\"selected\":{\"id\":\"1038\"},\"selection_policy\":{\"id\":\"1061\"}},\"id\":\"1037\",\"type\":\"ColumnDataSource\"},{\"attributes\":{\"fill_color\":{\"field\":\"Type\",\"transform\":{\"id\":\"1036\"}},\"hatch_color\":{\"field\":\"Type\",\"transform\":{\"id\":\"1036\"}},\"top\":{\"field\":\"Open_Int\"},\"width\":{\"value\":0.8},\"x\":{\"field\":\"xoffsets\"}},\"id\":\"1040\",\"type\":\"VBar\"},{\"attributes\":{\"factors\":[\"Put\",\"Call\"],\"palette\":[\"#30a2da\",\"#fc4f30\"]},\"id\":\"1036\",\"type\":\"CategoricalColorMapper\"},{\"attributes\":{},\"id\":\"1023\",\"type\":\"SaveTool\"},{\"attributes\":{},\"id\":\"1048\",\"type\":\"CategoricalTickFormatter\"},{\"attributes\":{\"bottom_units\":\"screen\",\"coordinates\":null,\"fill_alpha\":0.5,\"fill_color\":\"lightgrey\",\"group\":null,\"left_units\":\"screen\",\"level\":\"overlay\",\"line_alpha\":1.0,\"line_color\":\"black\",\"line_dash\":[4,4],\"line_width\":2,\"right_units\":\"screen\",\"syncable\":false,\"top_units\":\"screen\"},\"id\":\"1028\",\"type\":\"BoxAnnotation\"},{\"attributes\":{\"axis\":{\"id\":\"1019\"},\"coordinates\":null,\"dimension\":1,\"grid_line_color\":null,\"group\":null,\"ticker\":null},\"id\":\"1022\",\"type\":\"Grid\"},{\"attributes\":{\"source\":{\"id\":\"1037\"}},\"id\":\"1044\",\"type\":\"CDSView\"},{\"attributes\":{\"callback\":null,\"renderers\":[{\"id\":\"1043\"}],\"tags\":[\"hv_created\"],\"tooltips\":[[\"Symbol\",\"@{Symbol}\"],[\"Type\",\"@{Type}\"],[\"Open Int\",\"@{Open_Int}\"]]},\"id\":\"1006\",\"type\":\"HoverTool\"},{\"attributes\":{},\"id\":\"1020\",\"type\":\"BasicTicker\"},{\"attributes\":{\"fill_alpha\":{\"value\":0.2},\"fill_color\":{\"field\":\"Type\",\"transform\":{\"id\":\"1036\"}},\"hatch_alpha\":{\"value\":0.2},\"hatch_color\":{\"field\":\"Type\",\"transform\":{\"id\":\"1036\"}},\"line_alpha\":{\"value\":0.2},\"top\":{\"field\":\"Open_Int\"},\"width\":{\"value\":0.8},\"x\":{\"field\":\"xoffsets\"}},\"id\":\"1042\",\"type\":\"VBar\"}],\"root_ids\":[\"1002\"]},\"title\":\"Bokeh Application\",\"version\":\"2.4.3\"}};\n",
       "    var render_items = [{\"docid\":\"ca6c18de-06c0-407b-974b-4b0e3a01a687\",\"root_ids\":[\"1002\"],\"roots\":{\"1002\":\"9807d203-d7b3-4863-b89c-ca9079435382\"}}];\n",
       "    root.Bokeh.embed.embed_items_notebook(docs_json, render_items);\n",
       "  }\n",
       "  if (root.Bokeh !== undefined && root.Bokeh.Panel !== undefined) {\n",
       "    embed_document(root);\n",
       "  } else {\n",
       "    var attempts = 0;\n",
       "    var timer = setInterval(function(root) {\n",
       "      if (root.Bokeh !== undefined && root.Bokeh.Panel !== undefined) {\n",
       "        clearInterval(timer);\n",
       "        embed_document(root);\n",
       "      } else if (document.readyState == \"complete\") {\n",
       "        attempts++;\n",
       "        if (attempts > 200) {\n",
       "          clearInterval(timer);\n",
       "          console.log(\"Bokeh: ERROR: Unable to run BokehJS code because BokehJS library is missing\");\n",
       "        }\n",
       "      }\n",
       "    }, 25, root)\n",
       "  }\n",
       "})(window);</script>"
      ],
      "text/plain": [
       ":Bars   [Symbol,Type]   (Open Int)"
      ]
     },
     "execution_count": 7,
     "metadata": {
      "application/vnd.holoviews_exec.v0+json": {
       "id": "1002"
      }
     },
     "output_type": "execute_result"
    }
   ],
   "source": [
    "largest_25_OI(df)"
   ]
  },
  {
   "cell_type": "code",
   "execution_count": 8,
   "metadata": {},
   "outputs": [
    {
     "data": {},
     "metadata": {},
     "output_type": "display_data"
    },
    {
     "data": {
      "application/vnd.holoviews_exec.v0+json": "",
      "text/html": [
       "<div id='1111'>\n",
       "  <div class=\"bk-root\" id=\"b5699b50-91d0-4b7d-a224-c6e7eb964d87\" data-root-id=\"1111\"></div>\n",
       "</div>\n",
       "<script type=\"application/javascript\">(function(root) {\n",
       "  function embed_document(root) {\n",
       "    var docs_json = {\"bda9dd35-068d-46ae-952e-bc1730e5a1b6\":{\"defs\":[{\"extends\":null,\"module\":null,\"name\":\"ReactiveHTML1\",\"overrides\":[],\"properties\":[]},{\"extends\":null,\"module\":null,\"name\":\"FlexBox1\",\"overrides\":[],\"properties\":[{\"default\":\"flex-start\",\"kind\":null,\"name\":\"align_content\"},{\"default\":\"flex-start\",\"kind\":null,\"name\":\"align_items\"},{\"default\":\"row\",\"kind\":null,\"name\":\"flex_direction\"},{\"default\":\"wrap\",\"kind\":null,\"name\":\"flex_wrap\"},{\"default\":\"flex-start\",\"kind\":null,\"name\":\"justify_content\"}]},{\"extends\":null,\"module\":null,\"name\":\"GridStack1\",\"overrides\":[],\"properties\":[{\"default\":\"warn\",\"kind\":null,\"name\":\"mode\"},{\"default\":null,\"kind\":null,\"name\":\"ncols\"},{\"default\":null,\"kind\":null,\"name\":\"nrows\"},{\"default\":true,\"kind\":null,\"name\":\"allow_resize\"},{\"default\":true,\"kind\":null,\"name\":\"allow_drag\"},{\"default\":[],\"kind\":null,\"name\":\"state\"}]},{\"extends\":null,\"module\":null,\"name\":\"click1\",\"overrides\":[],\"properties\":[{\"default\":\"\",\"kind\":null,\"name\":\"terminal_output\"},{\"default\":\"\",\"kind\":null,\"name\":\"debug_name\"},{\"default\":0,\"kind\":null,\"name\":\"clears\"}]},{\"extends\":null,\"module\":null,\"name\":\"NotificationAreaBase1\",\"overrides\":[],\"properties\":[{\"default\":\"bottom-right\",\"kind\":null,\"name\":\"position\"},{\"default\":0,\"kind\":null,\"name\":\"_clear\"}]},{\"extends\":null,\"module\":null,\"name\":\"NotificationArea1\",\"overrides\":[],\"properties\":[{\"default\":[],\"kind\":null,\"name\":\"notifications\"},{\"default\":\"bottom-right\",\"kind\":null,\"name\":\"position\"},{\"default\":0,\"kind\":null,\"name\":\"_clear\"},{\"default\":[{\"background\":\"#ffc107\",\"icon\":{\"className\":\"fas fa-exclamation-triangle\",\"color\":\"white\",\"tagName\":\"i\"},\"type\":\"warning\"},{\"background\":\"#007bff\",\"icon\":{\"className\":\"fas fa-info-circle\",\"color\":\"white\",\"tagName\":\"i\"},\"type\":\"info\"}],\"kind\":null,\"name\":\"types\"}]},{\"extends\":null,\"module\":null,\"name\":\"Notification\",\"overrides\":[],\"properties\":[{\"default\":null,\"kind\":null,\"name\":\"background\"},{\"default\":3000,\"kind\":null,\"name\":\"duration\"},{\"default\":null,\"kind\":null,\"name\":\"icon\"},{\"default\":\"\",\"kind\":null,\"name\":\"message\"},{\"default\":null,\"kind\":null,\"name\":\"notification_type\"},{\"default\":false,\"kind\":null,\"name\":\"_destroyed\"}]},{\"extends\":null,\"module\":null,\"name\":\"TemplateActions1\",\"overrides\":[],\"properties\":[{\"default\":0,\"kind\":null,\"name\":\"open_modal\"},{\"default\":0,\"kind\":null,\"name\":\"close_modal\"}]},{\"extends\":null,\"module\":null,\"name\":\"MaterialTemplateActions1\",\"overrides\":[],\"properties\":[{\"default\":0,\"kind\":null,\"name\":\"open_modal\"},{\"default\":0,\"kind\":null,\"name\":\"close_modal\"}]}],\"roots\":{\"references\":[{\"attributes\":{},\"id\":\"1147\",\"type\":\"Selection\"},{\"attributes\":{\"axis\":{\"id\":\"1128\"},\"coordinates\":null,\"dimension\":1,\"grid_line_color\":null,\"group\":null,\"ticker\":null},\"id\":\"1131\",\"type\":\"Grid\"},{\"attributes\":{\"tools\":[{\"id\":\"1115\"},{\"id\":\"1132\"},{\"id\":\"1133\"},{\"id\":\"1134\"},{\"id\":\"1135\"},{\"id\":\"1136\"}]},\"id\":\"1138\",\"type\":\"Toolbar\"},{\"attributes\":{\"data\":{\"Open_Int\":{\"__ndarray__\":\"AAAAAIC11EAAAAAAALPnQAAAAAAAgJhAAAAAAABS0UAAAAAAACikQAAAAADAj+dAAAAAAABzukAAAAAAgInbQAAAAAAAzrZAAAAAAACd9kAAAAAAQDHdQAAAAADAbtpAAAAAAECz9EAAAAAAAPyqQAAAAADAAtFAAAAAAAAdtkAAAAAAAGqxQAAAAADAfeRAAAAAAAA8ukAAAAAAgHbGQAAAAAAAuLlAAAAAAACUuUAAAAAAACG8QAAAAACAwMxAAAAAAABLw0AAAAAAAFyiQAAAAADAmd5AAAAAAABYtUAAAAAAAISxQAAAAAAA8sNAAAAAAACutkAAAAAAQOLQQAAAAAAAubdAAAAAAIDq1EAAAAAAgFfWQAAAAABAP9tAAAAAAMB43UAAAAAAAIauQAAAAAAACsBAAAAAAABJtEAAAAAAADrgQAAAAACApcpAAAAAAEDb10AAAAAAwC7ZQAAAAACA0ttAAAAAAAA2skAAAAAAAAq1QAAAAAAAqrtAAAAAAABIgUAAAAAAgOzAQAAAAAAA/cRAAAAAAMBu10AAAAAAgI3SQAAAAABANftAAAAAAIAj1EAAAAAAwKbZQAAAAADAFdVAAAAAAACnvkAAAAAAAEyRQAAAAAAA3bdAAAAAAACqyEAAAAAAAJChQAAAAAAAWrlAAAAAAADWwkAAAAAAgOzDQAAAAACAIs1AAAAAAIBswUAAAAAAAP+yQAAAAAAAlKRAAAAAAABAsEAAAAAAgEDCQAAAAAAAWKpAAAAAAAACrEAAAAAAQJrUQAAAAAAA5LBAAAAAAAAZt0AAAAAAABynQAAAAAAAIINAAAAAAADQnkAAAAAAAMC5QAAAAAAAUKBAAAAAAADkmEAAAAAAAHy5QAAAAACAbcxAAAAAAADkqUAAAAAAAAypQAAAAAAAiMdAAAAAAEDu0EAAAAAAAMarQAAAAADAktJAAAAAAADsskAAAAAAACiOQAAAAAAA7rNAAAAAAAA1ukAAAAAAoE7hQAAAAADAs+RAAAAAAADojEAAAAAAAPynQAAAAACAVsZAAAAAAED/1EAAAAAAAO/lQAAAAAAAPM9AAAAAAABvvUAAAAAAADXLQAAAAAAAaLpAAAAAAADIn0AAAAAAAESXQAAAAACADMNAAAAAAADqpkAAAAAAANqiQAAAAAAAyqpAAAAAAACTukAAAAAAAOilQAAAAAAAl8ZAAAAAAADyqUAAAAAAAOmyQAAAAADAUuRAAAAAAAAKvUAAAAAAgHDOQAAAAAAAR9VAAAAAAICLwUAAAAAAAMuyQAAAAADAOddAAAAAAADHu0AAAAAAAGvQQAAAAABA19dAAAAAAIBfzkAAAAAAAJ6qQAAAAACAE9BAAAAAAADBu0AAAAAAAE3DQAAAAABA/dJAAAAAAAC3wEAAAAAAoBzjQAAAAAAAX+BAAAAAAADiu0AAAAAAAHyhQAAAAAAA/tZAAAAAAACapEA=\",\"dtype\":\"float64\",\"order\":\"little\",\"shape\":[139]},\"Strike\":[\"140\",\"150\",\"150\",\"152.5\",\"152.5\",\"155\",\"155\",\"157.5\",\"157.5\",\"160\",\"160\",\"120\",\"120\",\"121\",\"125\",\"128\",\"129\",\"130\",\"131\",\"132\",\"132.5\",\"133\",\"134\",\"136\",\"7\",\"7\",\"8\",\"8\",\"8.5\",\"9\",\"9.5\",\"10\",\"10.5\",\"25\",\"30\",\"30\",\"30\",\"32\",\"32\",\"32\",\"33\",\"33\",\"18\",\"18\",\"18.5\",\"18.5\",\"19\",\"19\",\"19.5\",\"19.5\",\"17.5\",\"20\",\"20\",\"15\",\"38\",\"40\",\"40\",\"41\",\"41.5\",\"41.5\",\"115\",\"119\",\"162.5\",\"21\",\"22\",\"22.5\",\"23\",\"23.5\",\"66\",\"67\",\"67.5\",\"68\",\"69\",\"70\",\"71\",\"72\",\"27.5\",\"28.5\",\"30.5\",\"31\",\"31\",\"31.5\",\"31.5\",\"87.5\",\"88\",\"89\",\"90\",\"90\",\"91\",\"92.5\",\"92.5\",\"93\",\"95\",\"11.5\",\"12\",\"6\",\"6.5\",\"7.5\",\"233.33\",\"260\",\"266.67\",\"270\",\"280\",\"283.33\",\"285\",\"288.33\",\"289.17\",\"290\",\"290.83\",\"291.67\",\"292.5\",\"293.33\",\"294.17\",\"295\",\"295.83\",\"298.33\",\"300\",\"301.67\",\"303.33\",\"305\",\"306.67\",\"308.33\",\"310\",\"311.67\",\"315\",\"316.67\",\"320\",\"321.67\",\"325\",\"326.67\",\"330\",\"42\",\"42.5\",\"43\",\"32.5\",\"33.5\",\"97\",\"100\",\"101\"],\"Symbol\":[\"AAPL\",\"AAPL\",\"META\",\"AAPL\",\"META\",\"AAPL\",\"META\",\"AAPL\",\"META\",\"AAPL\",\"META\",\"JPM\",\"AMZN\",\"AMZN\",\"AMZN\",\"AMZN\",\"AMZN\",\"AMZN\",\"AMZN\",\"AMZN\",\"AMZN\",\"AMZN\",\"AMZN\",\"AMZN\",\"SWN\",\"BBBY\",\"SWN\",\"BBBY\",\"BBBY\",\"BBBY\",\"BBBY\",\"BBBY\",\"BBBY\",\"CCJ\",\"UBER\",\"PLUG\",\"CCJ\",\"PLUG\",\"UBER\",\"CCJ\",\"CCJ\",\"UBER\",\"CHPT\",\"DKNG\",\"CHPT\",\"DKNG\",\"CHPT\",\"DKNG\",\"CHPT\",\"DKNG\",\"DKNG\",\"DKNG\",\"NIO\",\"F\",\"GM\",\"TWTR\",\"GM\",\"GM\",\"GM\",\"TWTR\",\"JPM\",\"JPM\",\"META\",\"NIO\",\"NIO\",\"NIO\",\"NIO\",\"NIO\",\"OXY\",\"OXY\",\"OXY\",\"OXY\",\"OXY\",\"OXY\",\"OXY\",\"OXY\",\"PLUG\",\"PLUG\",\"PLUG\",\"UBER\",\"PLUG\",\"PLUG\",\"UBER\",\"SBUX\",\"SBUX\",\"SBUX\",\"XOM\",\"SBUX\",\"SBUX\",\"XOM\",\"SBUX\",\"SBUX\",\"SBUX\",\"SNAP\",\"SNAP\",\"SWN\",\"SWN\",\"SWN\",\"TSLA\",\"TSLA\",\"TSLA\",\"TSLA\",\"TSLA\",\"TSLA\",\"TSLA\",\"TSLA\",\"TSLA\",\"TSLA\",\"TSLA\",\"TSLA\",\"TSLA\",\"TSLA\",\"TSLA\",\"TSLA\",\"TSLA\",\"TSLA\",\"TSLA\",\"TSLA\",\"TSLA\",\"TSLA\",\"TSLA\",\"TSLA\",\"TSLA\",\"TSLA\",\"TSLA\",\"TSLA\",\"TSLA\",\"TSLA\",\"TSLA\",\"TSLA\",\"TSLA\",\"TWTR\",\"TWTR\",\"TWTR\",\"UBER\",\"UBER\",\"XOM\",\"XOM\",\"XOM\"],\"bottom\":{\"__ndarray__\":\"AAAAAAAAAAAAAAAAgLXUQAAAAAAAAAAAAAAAAOAG8UAAAAAAAICYQAAAAABgW/VAAAAAAAA0sEAAAAAAoJEAQQAAAACAU8VAAAAAANACBEEAAAAAQF3QQAAAAAAAAAAAAAAAAAAAAAAAAAAAQLP0QAAAAAAgi/VAAAAAANDL+UAAAAAAoC37QAAAAABARPxAAAAAAJBBA0EAAAAAcBMEQQAAAADYegVBAAAAAJhIBkEAAAAAOBUHQQAAAABA9gdBAAAAAAAAAAAAAAAAAAAAAAAAAAAAS8NAAAAAAABcokAAAAAAAIa+QAAAAAAABchAAAAAAID71UAAAAAAAKfbQAAAAACgROZAAAAAAAAAAAAAAAAAAAAAAAAAAAAAAAAAAAAAAIDq1EAAAAAAQD/bQAAAAACAV9ZAAAAAAKAx6UAAAAAAwLrrQAAAAACAXN5AAAAAAAAAAAAAAAAAAAAAAAAAAABA29dAAAAAAMAu2UAAAAAA4NbpQAAAAABAvN1AAAAAACB47EAAAAAAYFPiQAAAAACAjuZAAAAAAMDN60AAAAAAAAAAAAAAAAAAAAAAAAAAAAAAAAAAAAAAAAAAAAAAAACAI9RAAAAAAKCc5EAAAAAAgHHoQAAAAADAptlAAAAAAMBu2kAAAAAA4GHjQAAAAABAx+ZAAAAAAICN0kAAAAAAgPjbQAAAAABg9+JAAAAAAABA6kAAAAAAIJvuQAAAAAAAAAAAAAAAAACUpEAAAAAAAIq6QAAAAACAhc9AAAAAAMAN00AAAAAAAI7WQAAAAAAglOVAAAAAAKCw50AAAAAAABDfQAAAAADA+eBAAAAAAEBG4UAAAAAAoNflQAAAAADAPOJAAAAAAMBB40AAAAAAoA/pQAAAAAAAAAAAAAAAAIBtzEAAAAAAQHPRQAAAAAAAAAAAAAAAAMCU1EAAAAAAgMHiQAAAAAAAiMdAAAAAAOB95EAAAAAAYNvmQAAAAAAAVOdAAAAAAAAAAAAAAAAAADW6QAAAAACgH+RAAAAAALBp9EAAAAAAgKP0QAAAAAAAAAAAAAAAAIBWxkAAAAAAQBXgQAAAAAAgAvNAAAAAAKDp9kAAAAAAkMD4QAAAAAAwJ/xAAAAAALDN/UAAAAAA0Ez+QAAAAADgqf5AAAAAALiFAEEAAAAAYOEAQQAAAADILAFBAAAAAPCXAUEAAAAAiGwCQQAAAAAoxAJBAAAAAJgtBEEAAAAAYJUEQQAAAACoLAVBAAAAAFhBCkEAAAAAqCkLQQAAAACwEA1BAAAAAJC5D0EAAAAAJGkQQQAAAABQtBBBAAAAAOwnEkEAAAAACJcSQQAAAAC4nRNBAAAAACwbFUEAAAAAKA4WQQAAAABkQxZBAAAAAJxEF0EAAAAAoLMXQQAAAAAAnt9AAAAAAKBN6UAAAAAAYHvtQAAAAAAgP+xAAAAAABBP9kAAAAAAwFbeQAAAAAAgQ+BAAAAAACDC60A=\",\"dtype\":\"float64\",\"order\":\"little\",\"shape\":[139]},\"top\":{\"__ndarray__\":\"AAAAAIC11EAAAAAA4AbxQAAAAAAAgJhAAAAAAGBb9UAAAAAAADSwQAAAAACgkQBBAAAAAIBTxUAAAAAA0AIEQQAAAABAXdBAAAAAAFBRD0EAAAAAQMfmQAAAAADAbtpAAAAAAECz9EAAAAAAIIv1QAAAAADQy/lAAAAAAKAt+0AAAAAAQET8QAAAAACQQQNBAAAAAHATBEEAAAAA2HoFQQAAAACYSAZBAAAAADgVB0EAAAAAQPYHQQAAAABIwglBAAAAAABLw0AAAAAAAFyiQAAAAACgH+RAAAAAAACGvkAAAAAAAAXIQAAAAACA+9VAAAAAAACn20AAAAAAoETmQAAAAADAO+lAAAAAAIDq1EAAAAAAgFfWQAAAAABAP9tAAAAAAKAx6UAAAAAAABDfQAAAAACAXN5AAAAAAMC660AAAAAAYPr1QAAAAACg1+VAAAAAAEDb10AAAAAAwC7ZQAAAAADg1ulAAAAAAEC83UAAAAAAIHjsQAAAAABgU+JAAAAAAEC97EAAAAAAgI7mQAAAAADAzetAAAAAAJDC80AAAAAAgI3SQAAAAABANftAAAAAAIAj1EAAAAAAwKbZQAAAAACgnORAAAAAAIBx6EAAAAAA4PvoQAAAAAAAnt9AAAAAAOBh40AAAAAA4HrkQAAAAACA8ulAAAAAAID420AAAAAAYPfiQAAAAAAAQOpAAAAAACCb7kAAAAAAgH3wQAAAAAAAlKRAAAAAAACKukAAAAAAgIXPQAAAAADADdNAAAAAAACO1kAAAAAAIJTlQAAAAACgsOdAAAAAAMCT6kAAAAAAwPngQAAAAABARuFAAAAAAMA84kAAAAAAoA/pQAAAAADAQeNAAAAAAOAI5EAAAAAAID/sQAAAAACAbcxAAAAAAEBz0UAAAAAAwJTUQAAAAAAAiMdAAAAAAIDB4kAAAAAA4H3kQAAAAADAVt5AAAAAAGDb5kAAAAAAAFTnQAAAAADA0elAAAAAAAA1ukAAAAAAQJXkQAAAAACwafRAAAAAAICj9EAAAAAAYGP1QAAAAACAVsZAAAAAAEAV4EAAAAAAIALzQAAAAACg6fZAAAAAAJDA+EAAAAAAMCf8QAAAAACwzf1AAAAAANBM/kAAAAAA4Kn+QAAAAAC4hQBBAAAAAGDhAEEAAAAAyCwBQQAAAADwlwFBAAAAAIhsAkEAAAAAKMQCQQAAAACYLQRBAAAAAGCVBEEAAAAAqCwFQQAAAABYQQpBAAAAAKgpC0EAAAAAsBANQQAAAACQuQ9BAAAAACRpEEEAAAAAULQQQQAAAADsJxJBAAAAAAiXEkEAAAAAuJ0TQQAAAAAsGxVBAAAAACgOFkEAAAAAZEMWQQAAAACcRBdBAAAAAKCzF0EAAAAACE4YQQAAAACgTelAAAAAAGB77UAAAAAAAEz4QAAAAAAQT/ZAAAAAADAN+EAAAAAAIEPgQAAAAAAgwutAAAAAAMAL7UA=\",\"dtype\":\"float64\",\"order\":\"little\",\"shape\":[139]}},\"selected\":{\"id\":\"1147\"},\"selection_policy\":{\"id\":\"1170\"}},\"id\":\"1146\",\"type\":\"ColumnDataSource\"},{\"attributes\":{\"end\":433927.9,\"reset_end\":433927.9,\"reset_start\":0.0,\"tags\":[[[\"Open Int\",\"Open Int\",null]]]},\"id\":\"1114\",\"type\":\"Range1d\"},{\"attributes\":{\"axis_label\":\"Open Int\",\"coordinates\":null,\"formatter\":{\"id\":\"1155\"},\"group\":null,\"major_label_policy\":{\"id\":\"1161\"},\"ticker\":{\"id\":\"1129\"}},\"id\":\"1128\",\"type\":\"LinearAxis\"},{\"attributes\":{\"factors\":[\"140\",\"150\",\"152.5\",\"155\",\"157.5\",\"160\",\"120\",\"121\",\"125\",\"128\",\"129\",\"130\",\"131\",\"132\",\"132.5\",\"133\",\"134\",\"136\",\"7\",\"8\",\"8.5\",\"9\",\"9.5\",\"10\",\"10.5\",\"25\",\"30\",\"32\",\"33\",\"18\",\"18.5\",\"19\",\"19.5\",\"17.5\",\"20\",\"15\",\"38\",\"40\",\"41\",\"41.5\",\"115\",\"119\",\"162.5\",\"21\",\"22\",\"22.5\",\"23\",\"23.5\",\"66\",\"67\",\"67.5\",\"68\",\"69\",\"70\",\"71\",\"72\",\"27.5\",\"28.5\",\"30.5\",\"31\",\"31.5\",\"87.5\",\"88\",\"89\",\"90\",\"91\",\"92.5\",\"93\",\"95\",\"11.5\",\"12\",\"6\",\"6.5\",\"7.5\",\"233.33\",\"260\",\"266.67\",\"270\",\"280\",\"283.33\",\"285\",\"288.33\",\"289.17\",\"290\",\"290.83\",\"291.67\",\"292.5\",\"293.33\",\"294.17\",\"295\",\"295.83\",\"298.33\",\"300\",\"301.67\",\"303.33\",\"305\",\"306.67\",\"308.33\",\"310\",\"311.67\",\"315\",\"316.67\",\"320\",\"321.67\",\"325\",\"326.67\",\"330\",\"42\",\"42.5\",\"43\",\"32.5\",\"33.5\",\"97\",\"100\",\"101\"],\"palette\":[\"#259646\",\"#259646\",\"#259646\",\"#259646\",\"#259646\",\"#259646\",\"#259646\",\"#259646\",\"#259646\",\"#259646\",\"#259646\",\"#259646\",\"#259646\",\"#259646\",\"#259646\",\"#259646\",\"#259646\",\"#259646\",\"#259646\",\"#259646\",\"#259646\",\"#259646\",\"#259646\",\"#259646\",\"#259646\",\"#259646\",\"#259646\",\"#259646\",\"#259646\",\"#259646\",\"#259646\",\"#259646\",\"#259646\",\"#259646\",\"#259646\",\"#259646\",\"#259646\",\"#259646\",\"#259646\",\"#259646\",\"#259646\",\"#259646\",\"#259646\",\"#259646\",\"#259646\",\"#259646\",\"#259646\",\"#259646\",\"#259646\",\"#259646\",\"#259646\",\"#259646\",\"#259646\",\"#259646\",\"#259646\",\"#259646\",\"#259646\",\"#259646\",\"#259646\",\"#259646\",\"#259646\",\"#259646\",\"#259646\",\"#259646\",\"#259646\",\"#259646\",\"#259646\",\"#259646\",\"#259646\",\"#259646\",\"#259646\",\"#259646\",\"#259646\",\"#259646\",\"#259646\",\"#259646\",\"#259646\",\"#259646\",\"#259646\",\"#259646\",\"#259646\",\"#259646\",\"#259646\",\"#259646\",\"#259646\",\"#259646\",\"#259646\",\"#259646\",\"#259646\",\"#259646\",\"#259646\",\"#259646\",\"#259646\",\"#259646\",\"#259646\",\"#259646\",\"#259646\",\"#259646\",\"#259646\",\"#259646\",\"#259646\",\"#259646\",\"#259646\",\"#259646\",\"#259646\",\"#259646\",\"#259646\",\"#259646\",\"#259646\",\"#259646\",\"#259646\",\"#259646\",\"#259646\",\"#259646\",\"#259646\"]},\"id\":\"1145\",\"type\":\"CategoricalColorMapper\"},{\"attributes\":{},\"id\":\"1136\",\"type\":\"ResetTool\"},{\"attributes\":{\"factors\":[\"AAPL\",\"AMZN\",\"BBBY\",\"CCJ\",\"CHPT\",\"DKNG\",\"F\",\"GM\",\"JPM\",\"META\",\"NIO\",\"OXY\",\"PLUG\",\"SBUX\",\"SNAP\",\"SWN\",\"TSLA\",\"TWTR\",\"UBER\",\"XOM\"],\"tags\":[[[\"Symbol\",\"Symbol\",null]]]},\"id\":\"1113\",\"type\":\"FactorRange\"},{\"attributes\":{\"bottom\":{\"field\":\"bottom\"},\"fill_alpha\":{\"value\":1.0},\"fill_color\":{\"field\":\"Strike\",\"transform\":{\"id\":\"1145\"}},\"hatch_alpha\":{\"value\":1.0},\"hatch_color\":{\"field\":\"Strike\",\"transform\":{\"id\":\"1145\"}},\"hatch_scale\":{\"value\":12.0},\"hatch_weight\":{\"value\":1.0},\"line_alpha\":{\"value\":1.0},\"line_cap\":{\"value\":\"butt\"},\"line_color\":{\"value\":\"black\"},\"line_dash\":{\"value\":[]},\"line_dash_offset\":{\"value\":0},\"line_join\":{\"value\":\"bevel\"},\"line_width\":{\"value\":1},\"top\":{\"field\":\"top\"},\"width\":{\"value\":0.8},\"x\":{\"field\":\"Symbol\"}},\"id\":\"1154\",\"type\":\"VBar\"},{\"attributes\":{\"bottom\":{\"field\":\"bottom\"},\"fill_alpha\":{\"value\":0.1},\"fill_color\":{\"field\":\"Strike\",\"transform\":{\"id\":\"1145\"}},\"hatch_alpha\":{\"value\":0.1},\"hatch_color\":{\"field\":\"Strike\",\"transform\":{\"id\":\"1145\"}},\"line_alpha\":{\"value\":0.1},\"top\":{\"field\":\"top\"},\"width\":{\"value\":0.8},\"x\":{\"field\":\"Symbol\"}},\"id\":\"1150\",\"type\":\"VBar\"},{\"attributes\":{},\"id\":\"1129\",\"type\":\"BasicTicker\"},{\"attributes\":{\"margin\":[5,5,5,5],\"name\":\"HSpacer01206\",\"sizing_mode\":\"stretch_width\"},\"id\":\"1112\",\"type\":\"Spacer\"},{\"attributes\":{\"source\":{\"id\":\"1146\"}},\"id\":\"1153\",\"type\":\"CDSView\"},{\"attributes\":{\"children\":[{\"id\":\"1112\"},{\"id\":\"1116\"},{\"id\":\"1173\"}],\"margin\":[0,0,0,0],\"name\":\"Row01202\",\"tags\":[\"embedded\"]},\"id\":\"1111\",\"type\":\"Row\"},{\"attributes\":{\"callback\":null,\"renderers\":[{\"id\":\"1152\"}],\"tags\":[\"hv_created\"],\"tooltips\":[[\"Symbol\",\"@{Symbol}\"],[\"Strike\",\"@{Strike}\"],[\"Open Int\",\"@{Open_Int}\"]]},\"id\":\"1115\",\"type\":\"HoverTool\"},{\"attributes\":{\"coordinates\":null,\"data_source\":{\"id\":\"1146\"},\"glyph\":{\"id\":\"1149\"},\"group\":null,\"hover_glyph\":null,\"muted_glyph\":{\"id\":\"1151\"},\"nonselection_glyph\":{\"id\":\"1150\"},\"selection_glyph\":{\"id\":\"1154\"},\"view\":{\"id\":\"1153\"}},\"id\":\"1152\",\"type\":\"GlyphRenderer\"},{\"attributes\":{},\"id\":\"1121\",\"type\":\"CategoricalScale\"},{\"attributes\":{},\"id\":\"1170\",\"type\":\"UnionRenderers\"},{\"attributes\":{},\"id\":\"1133\",\"type\":\"PanTool\"},{\"attributes\":{},\"id\":\"1161\",\"type\":\"AllLabels\"},{\"attributes\":{\"format\":\"%.0f\"},\"id\":\"1155\",\"type\":\"PrintfTickFormatter\"},{\"attributes\":{},\"id\":\"1126\",\"type\":\"CategoricalTicker\"},{\"attributes\":{\"below\":[{\"id\":\"1125\"}],\"center\":[{\"id\":\"1127\"},{\"id\":\"1131\"}],\"height\":800,\"left\":[{\"id\":\"1128\"}],\"margin\":[5,5,5,5],\"min_border_bottom\":10,\"min_border_left\":10,\"min_border_right\":10,\"min_border_top\":10,\"renderers\":[{\"id\":\"1152\"}],\"sizing_mode\":\"fixed\",\"title\":{\"id\":\"1117\"},\"toolbar\":{\"id\":\"1138\"},\"width\":1000,\"x_range\":{\"id\":\"1113\"},\"x_scale\":{\"id\":\"1121\"},\"y_range\":{\"id\":\"1114\"},\"y_scale\":{\"id\":\"1123\"}},\"id\":\"1116\",\"subtype\":\"Figure\",\"type\":\"Plot\"},{\"attributes\":{\"coordinates\":null,\"group\":null,\"text\":\"Call\",\"text_color\":\"black\",\"text_font_size\":\"12pt\"},\"id\":\"1117\",\"type\":\"Title\"},{\"attributes\":{\"overlay\":{\"id\":\"1137\"}},\"id\":\"1135\",\"type\":\"BoxZoomTool\"},{\"attributes\":{\"axis\":{\"id\":\"1125\"},\"coordinates\":null,\"grid_line_color\":null,\"group\":null,\"ticker\":null},\"id\":\"1127\",\"type\":\"Grid\"},{\"attributes\":{},\"id\":\"1123\",\"type\":\"LinearScale\"},{\"attributes\":{},\"id\":\"1158\",\"type\":\"AllLabels\"},{\"attributes\":{\"margin\":[5,5,5,5],\"name\":\"HSpacer01207\",\"sizing_mode\":\"stretch_width\"},\"id\":\"1173\",\"type\":\"Spacer\"},{\"attributes\":{},\"id\":\"1157\",\"type\":\"CategoricalTickFormatter\"},{\"attributes\":{},\"id\":\"1134\",\"type\":\"WheelZoomTool\"},{\"attributes\":{\"bottom_units\":\"screen\",\"coordinates\":null,\"fill_alpha\":0.5,\"fill_color\":\"lightgrey\",\"group\":null,\"left_units\":\"screen\",\"level\":\"overlay\",\"line_alpha\":1.0,\"line_color\":\"black\",\"line_dash\":[4,4],\"line_width\":2,\"right_units\":\"screen\",\"syncable\":false,\"top_units\":\"screen\"},\"id\":\"1137\",\"type\":\"BoxAnnotation\"},{\"attributes\":{},\"id\":\"1132\",\"type\":\"SaveTool\"},{\"attributes\":{\"axis_label\":\"Symbol\",\"coordinates\":null,\"formatter\":{\"id\":\"1157\"},\"group\":null,\"major_label_orientation\":1.5707963267948966,\"major_label_policy\":{\"id\":\"1158\"},\"ticker\":{\"id\":\"1126\"}},\"id\":\"1125\",\"type\":\"CategoricalAxis\"},{\"attributes\":{\"bottom\":{\"field\":\"bottom\"},\"fill_color\":{\"field\":\"Strike\",\"transform\":{\"id\":\"1145\"}},\"hatch_color\":{\"field\":\"Strike\",\"transform\":{\"id\":\"1145\"}},\"top\":{\"field\":\"top\"},\"width\":{\"value\":0.8},\"x\":{\"field\":\"Symbol\"}},\"id\":\"1149\",\"type\":\"VBar\"},{\"attributes\":{\"bottom\":{\"field\":\"bottom\"},\"fill_alpha\":{\"value\":0.2},\"fill_color\":{\"field\":\"Strike\",\"transform\":{\"id\":\"1145\"}},\"hatch_alpha\":{\"value\":0.2},\"hatch_color\":{\"field\":\"Strike\",\"transform\":{\"id\":\"1145\"}},\"line_alpha\":{\"value\":0.2},\"top\":{\"field\":\"top\"},\"width\":{\"value\":0.8},\"x\":{\"field\":\"Symbol\"}},\"id\":\"1151\",\"type\":\"VBar\"}],\"root_ids\":[\"1111\"]},\"title\":\"Bokeh Application\",\"version\":\"2.4.3\"}};\n",
       "    var render_items = [{\"docid\":\"bda9dd35-068d-46ae-952e-bc1730e5a1b6\",\"root_ids\":[\"1111\"],\"roots\":{\"1111\":\"b5699b50-91d0-4b7d-a224-c6e7eb964d87\"}}];\n",
       "    root.Bokeh.embed.embed_items_notebook(docs_json, render_items);\n",
       "  }\n",
       "  if (root.Bokeh !== undefined && root.Bokeh.Panel !== undefined) {\n",
       "    embed_document(root);\n",
       "  } else {\n",
       "    var attempts = 0;\n",
       "    var timer = setInterval(function(root) {\n",
       "      if (root.Bokeh !== undefined && root.Bokeh.Panel !== undefined) {\n",
       "        clearInterval(timer);\n",
       "        embed_document(root);\n",
       "      } else if (document.readyState == \"complete\") {\n",
       "        attempts++;\n",
       "        if (attempts > 200) {\n",
       "          clearInterval(timer);\n",
       "          console.log(\"Bokeh: ERROR: Unable to run BokehJS code because BokehJS library is missing\");\n",
       "        }\n",
       "      }\n",
       "    }, 25, root)\n",
       "  }\n",
       "})(window);</script>"
      ],
      "text/plain": [
       ":Bars   [Symbol,Strike]   (Open Int)"
      ]
     },
     "execution_count": 8,
     "metadata": {
      "application/vnd.holoviews_exec.v0+json": {
       "id": "1111"
      }
     },
     "output_type": "execute_result"
    }
   ],
   "source": [
    "\n",
    "options_call_bar(df)"
   ]
  },
  {
   "cell_type": "code",
   "execution_count": null,
   "metadata": {},
   "outputs": [],
   "source": []
  },
  {
   "cell_type": "code",
   "execution_count": 9,
   "metadata": {},
   "outputs": [
    {
     "data": {
      "text/html": [
       "<div>\n",
       "<style scoped>\n",
       "    .dataframe tbody tr th:only-of-type {\n",
       "        vertical-align: middle;\n",
       "    }\n",
       "\n",
       "    .dataframe tbody tr th {\n",
       "        vertical-align: top;\n",
       "    }\n",
       "\n",
       "    .dataframe thead th {\n",
       "        text-align: right;\n",
       "    }\n",
       "</style>\n",
       "<table border=\"1\" class=\"dataframe\">\n",
       "  <thead>\n",
       "    <tr style=\"text-align: right;\">\n",
       "      <th></th>\n",
       "      <th>Symbol</th>\n",
       "      <th>Type</th>\n",
       "      <th>Strike</th>\n",
       "      <th>Exp Date</th>\n",
       "      <th>DTE</th>\n",
       "      <th>Bid</th>\n",
       "      <th>Midpoint</th>\n",
       "      <th>Ask</th>\n",
       "      <th>Last</th>\n",
       "      <th>Volume</th>\n",
       "      <th>Open Int</th>\n",
       "      <th>OI Chg</th>\n",
       "      <th>IV</th>\n",
       "      <th>Time</th>\n",
       "    </tr>\n",
       "  </thead>\n",
       "  <tbody>\n",
       "    <tr>\n",
       "      <th>155</th>\n",
       "      <td>AAL</td>\n",
       "      <td>Call</td>\n",
       "      <td>14.0</td>\n",
       "      <td>2022-09-16</td>\n",
       "      <td>2.0</td>\n",
       "      <td>0.26</td>\n",
       "      <td>0.27</td>\n",
       "      <td>0.27</td>\n",
       "      <td>0.26</td>\n",
       "      <td>10637.0</td>\n",
       "      <td>22188.0</td>\n",
       "      <td>+2,212</td>\n",
       "      <td>58.91%</td>\n",
       "      <td>2022-09-14</td>\n",
       "    </tr>\n",
       "    <tr>\n",
       "      <th>1237</th>\n",
       "      <td>AAPL</td>\n",
       "      <td>Call</td>\n",
       "      <td>140.0</td>\n",
       "      <td>2022-09-16</td>\n",
       "      <td>2.0</td>\n",
       "      <td>15.25</td>\n",
       "      <td>15.40</td>\n",
       "      <td>15.55</td>\n",
       "      <td>15.54</td>\n",
       "      <td>674.0</td>\n",
       "      <td>21206.0</td>\n",
       "      <td>-399</td>\n",
       "      <td>75.41%</td>\n",
       "      <td>2022-09-14</td>\n",
       "    </tr>\n",
       "    <tr>\n",
       "      <th>1119</th>\n",
       "      <td>AAPL</td>\n",
       "      <td>Call</td>\n",
       "      <td>150.0</td>\n",
       "      <td>2022-09-16</td>\n",
       "      <td>2.0</td>\n",
       "      <td>5.45</td>\n",
       "      <td>5.65</td>\n",
       "      <td>5.85</td>\n",
       "      <td>5.80</td>\n",
       "      <td>3846.0</td>\n",
       "      <td>48536.0</td>\n",
       "      <td>-941</td>\n",
       "      <td>44.45%</td>\n",
       "      <td>2022-09-14</td>\n",
       "    </tr>\n",
       "    <tr>\n",
       "      <th>689</th>\n",
       "      <td>AAPL</td>\n",
       "      <td>Call</td>\n",
       "      <td>152.5</td>\n",
       "      <td>2022-09-16</td>\n",
       "      <td>2.0</td>\n",
       "      <td>3.50</td>\n",
       "      <td>3.58</td>\n",
       "      <td>3.65</td>\n",
       "      <td>3.60</td>\n",
       "      <td>9040.0</td>\n",
       "      <td>17736.0</td>\n",
       "      <td>+645</td>\n",
       "      <td>38.43%</td>\n",
       "      <td>2022-09-14</td>\n",
       "    </tr>\n",
       "    <tr>\n",
       "      <th>1142</th>\n",
       "      <td>AAPL</td>\n",
       "      <td>Call</td>\n",
       "      <td>155.0</td>\n",
       "      <td>2022-09-16</td>\n",
       "      <td>2.0</td>\n",
       "      <td>1.88</td>\n",
       "      <td>1.89</td>\n",
       "      <td>1.90</td>\n",
       "      <td>1.90</td>\n",
       "      <td>80360.0</td>\n",
       "      <td>48254.0</td>\n",
       "      <td>-773</td>\n",
       "      <td>36.40%</td>\n",
       "      <td>2022-09-14</td>\n",
       "    </tr>\n",
       "  </tbody>\n",
       "</table>\n",
       "</div>"
      ],
      "text/plain": [
       "     Symbol  Type  Strike    Exp Date  DTE    Bid  Midpoint    Ask   Last  \\\n",
       "155     AAL  Call    14.0  2022-09-16  2.0   0.26      0.27   0.27   0.26   \n",
       "1237   AAPL  Call   140.0  2022-09-16  2.0  15.25     15.40  15.55  15.54   \n",
       "1119   AAPL  Call   150.0  2022-09-16  2.0   5.45      5.65   5.85   5.80   \n",
       "689    AAPL  Call   152.5  2022-09-16  2.0   3.50      3.58   3.65   3.60   \n",
       "1142   AAPL  Call   155.0  2022-09-16  2.0   1.88      1.89   1.90   1.90   \n",
       "\n",
       "       Volume  Open Int  OI Chg      IV        Time  \n",
       "155   10637.0   22188.0  +2,212  58.91%  2022-09-14  \n",
       "1237    674.0   21206.0    -399  75.41%  2022-09-14  \n",
       "1119   3846.0   48536.0    -941  44.45%  2022-09-14  \n",
       "689    9040.0   17736.0    +645  38.43%  2022-09-14  \n",
       "1142  80360.0   48254.0    -773  36.40%  2022-09-14  "
      ]
     },
     "execution_count": 9,
     "metadata": {},
     "output_type": "execute_result"
    }
   ],
   "source": [
    "calls = df[df['Type'] == 'Call'].drop(columns='Price')\n",
    "calls.head()"
   ]
  },
  {
   "cell_type": "code",
   "execution_count": 10,
   "metadata": {},
   "outputs": [
    {
     "data": {
      "text/html": [
       "<div>\n",
       "<style scoped>\n",
       "    .dataframe tbody tr th:only-of-type {\n",
       "        vertical-align: middle;\n",
       "    }\n",
       "\n",
       "    .dataframe tbody tr th {\n",
       "        vertical-align: top;\n",
       "    }\n",
       "\n",
       "    .dataframe thead th {\n",
       "        text-align: right;\n",
       "    }\n",
       "</style>\n",
       "<table border=\"1\" class=\"dataframe\">\n",
       "  <thead>\n",
       "    <tr style=\"text-align: right;\">\n",
       "      <th></th>\n",
       "      <th>Symbol</th>\n",
       "      <th>Type</th>\n",
       "      <th>Strike</th>\n",
       "      <th>Exp Date</th>\n",
       "      <th>DTE</th>\n",
       "      <th>Bid</th>\n",
       "      <th>Midpoint</th>\n",
       "      <th>Ask</th>\n",
       "      <th>Last</th>\n",
       "      <th>Volume</th>\n",
       "      <th>Open Int</th>\n",
       "      <th>OI Chg</th>\n",
       "      <th>IV</th>\n",
       "      <th>Time</th>\n",
       "    </tr>\n",
       "  </thead>\n",
       "  <tbody>\n",
       "    <tr>\n",
       "      <th>1907</th>\n",
       "      <td>AA</td>\n",
       "      <td>Put</td>\n",
       "      <td>43.0</td>\n",
       "      <td>2022-09-16</td>\n",
       "      <td>2.0</td>\n",
       "      <td>0.40</td>\n",
       "      <td>0.43</td>\n",
       "      <td>0.45</td>\n",
       "      <td>0.41</td>\n",
       "      <td>600.0</td>\n",
       "      <td>188.0</td>\n",
       "      <td>-19</td>\n",
       "      <td>83.62%</td>\n",
       "      <td>2022-09-14</td>\n",
       "    </tr>\n",
       "    <tr>\n",
       "      <th>1839</th>\n",
       "      <td>AA</td>\n",
       "      <td>Put</td>\n",
       "      <td>45.0</td>\n",
       "      <td>2022-09-16</td>\n",
       "      <td>2.0</td>\n",
       "      <td>1.16</td>\n",
       "      <td>1.20</td>\n",
       "      <td>1.24</td>\n",
       "      <td>1.19</td>\n",
       "      <td>1360.0</td>\n",
       "      <td>2098.0</td>\n",
       "      <td>-27</td>\n",
       "      <td>82.53%</td>\n",
       "      <td>2022-09-14</td>\n",
       "    </tr>\n",
       "    <tr>\n",
       "      <th>159</th>\n",
       "      <td>AAL</td>\n",
       "      <td>Put</td>\n",
       "      <td>14.0</td>\n",
       "      <td>2022-09-16</td>\n",
       "      <td>2.0</td>\n",
       "      <td>0.23</td>\n",
       "      <td>0.24</td>\n",
       "      <td>0.25</td>\n",
       "      <td>0.24</td>\n",
       "      <td>1931.0</td>\n",
       "      <td>16516.0</td>\n",
       "      <td>+2,156</td>\n",
       "      <td>61.74%</td>\n",
       "      <td>2022-09-14</td>\n",
       "    </tr>\n",
       "    <tr>\n",
       "      <th>112</th>\n",
       "      <td>AAPL</td>\n",
       "      <td>Put</td>\n",
       "      <td>147.0</td>\n",
       "      <td>2022-09-16</td>\n",
       "      <td>2.0</td>\n",
       "      <td>0.10</td>\n",
       "      <td>0.11</td>\n",
       "      <td>0.11</td>\n",
       "      <td>0.11</td>\n",
       "      <td>25360.0</td>\n",
       "      <td>18623.0</td>\n",
       "      <td>+2,786</td>\n",
       "      <td>46.11%</td>\n",
       "      <td>2022-09-14</td>\n",
       "    </tr>\n",
       "    <tr>\n",
       "      <th>117</th>\n",
       "      <td>AAPL</td>\n",
       "      <td>Put</td>\n",
       "      <td>148.0</td>\n",
       "      <td>2022-09-16</td>\n",
       "      <td>2.0</td>\n",
       "      <td>0.14</td>\n",
       "      <td>0.15</td>\n",
       "      <td>0.15</td>\n",
       "      <td>0.14</td>\n",
       "      <td>10389.0</td>\n",
       "      <td>5922.0</td>\n",
       "      <td>+2,731</td>\n",
       "      <td>43.82%</td>\n",
       "      <td>2022-09-14</td>\n",
       "    </tr>\n",
       "  </tbody>\n",
       "</table>\n",
       "</div>"
      ],
      "text/plain": [
       "     Symbol Type  Strike    Exp Date  DTE   Bid  Midpoint   Ask  Last  \\\n",
       "1907     AA  Put    43.0  2022-09-16  2.0  0.40      0.43  0.45  0.41   \n",
       "1839     AA  Put    45.0  2022-09-16  2.0  1.16      1.20  1.24  1.19   \n",
       "159     AAL  Put    14.0  2022-09-16  2.0  0.23      0.24  0.25  0.24   \n",
       "112    AAPL  Put   147.0  2022-09-16  2.0  0.10      0.11  0.11  0.11   \n",
       "117    AAPL  Put   148.0  2022-09-16  2.0  0.14      0.15  0.15  0.14   \n",
       "\n",
       "       Volume  Open Int  OI Chg      IV        Time  \n",
       "1907    600.0     188.0     -19  83.62%  2022-09-14  \n",
       "1839   1360.0    2098.0     -27  82.53%  2022-09-14  \n",
       "159    1931.0   16516.0  +2,156  61.74%  2022-09-14  \n",
       "112   25360.0   18623.0  +2,786  46.11%  2022-09-14  \n",
       "117   10389.0    5922.0  +2,731  43.82%  2022-09-14  "
      ]
     },
     "execution_count": 10,
     "metadata": {},
     "output_type": "execute_result"
    }
   ],
   "source": [
    "puts = df[df['Type'] == 'Put'].drop(columns='Price')\n",
    "puts.head()"
   ]
  },
  {
   "cell_type": "code",
   "execution_count": null,
   "metadata": {},
   "outputs": [],
   "source": []
  },
  {
   "cell_type": "code",
   "execution_count": 11,
   "metadata": {},
   "outputs": [
    {
     "data": {},
     "metadata": {},
     "output_type": "display_data"
    },
    {
     "data": {
      "application/vnd.holoviews_exec.v0+json": "",
      "text/html": [
       "<div id='1220'>\n",
       "  <div class=\"bk-root\" id=\"7b5933b0-fd1c-4cee-aeb0-2d30675342a4\" data-root-id=\"1220\"></div>\n",
       "</div>\n",
       "<script type=\"application/javascript\">(function(root) {\n",
       "  function embed_document(root) {\n",
       "    var docs_json = {\"0b420966-f8e0-41ff-b167-f1e09c19d390\":{\"defs\":[{\"extends\":null,\"module\":null,\"name\":\"ReactiveHTML1\",\"overrides\":[],\"properties\":[]},{\"extends\":null,\"module\":null,\"name\":\"FlexBox1\",\"overrides\":[],\"properties\":[{\"default\":\"flex-start\",\"kind\":null,\"name\":\"align_content\"},{\"default\":\"flex-start\",\"kind\":null,\"name\":\"align_items\"},{\"default\":\"row\",\"kind\":null,\"name\":\"flex_direction\"},{\"default\":\"wrap\",\"kind\":null,\"name\":\"flex_wrap\"},{\"default\":\"flex-start\",\"kind\":null,\"name\":\"justify_content\"}]},{\"extends\":null,\"module\":null,\"name\":\"GridStack1\",\"overrides\":[],\"properties\":[{\"default\":\"warn\",\"kind\":null,\"name\":\"mode\"},{\"default\":null,\"kind\":null,\"name\":\"ncols\"},{\"default\":null,\"kind\":null,\"name\":\"nrows\"},{\"default\":true,\"kind\":null,\"name\":\"allow_resize\"},{\"default\":true,\"kind\":null,\"name\":\"allow_drag\"},{\"default\":[],\"kind\":null,\"name\":\"state\"}]},{\"extends\":null,\"module\":null,\"name\":\"click1\",\"overrides\":[],\"properties\":[{\"default\":\"\",\"kind\":null,\"name\":\"terminal_output\"},{\"default\":\"\",\"kind\":null,\"name\":\"debug_name\"},{\"default\":0,\"kind\":null,\"name\":\"clears\"}]},{\"extends\":null,\"module\":null,\"name\":\"NotificationAreaBase1\",\"overrides\":[],\"properties\":[{\"default\":\"bottom-right\",\"kind\":null,\"name\":\"position\"},{\"default\":0,\"kind\":null,\"name\":\"_clear\"}]},{\"extends\":null,\"module\":null,\"name\":\"NotificationArea1\",\"overrides\":[],\"properties\":[{\"default\":[],\"kind\":null,\"name\":\"notifications\"},{\"default\":\"bottom-right\",\"kind\":null,\"name\":\"position\"},{\"default\":0,\"kind\":null,\"name\":\"_clear\"},{\"default\":[{\"background\":\"#ffc107\",\"icon\":{\"className\":\"fas fa-exclamation-triangle\",\"color\":\"white\",\"tagName\":\"i\"},\"type\":\"warning\"},{\"background\":\"#007bff\",\"icon\":{\"className\":\"fas fa-info-circle\",\"color\":\"white\",\"tagName\":\"i\"},\"type\":\"info\"}],\"kind\":null,\"name\":\"types\"}]},{\"extends\":null,\"module\":null,\"name\":\"Notification\",\"overrides\":[],\"properties\":[{\"default\":null,\"kind\":null,\"name\":\"background\"},{\"default\":3000,\"kind\":null,\"name\":\"duration\"},{\"default\":null,\"kind\":null,\"name\":\"icon\"},{\"default\":\"\",\"kind\":null,\"name\":\"message\"},{\"default\":null,\"kind\":null,\"name\":\"notification_type\"},{\"default\":false,\"kind\":null,\"name\":\"_destroyed\"}]},{\"extends\":null,\"module\":null,\"name\":\"TemplateActions1\",\"overrides\":[],\"properties\":[{\"default\":0,\"kind\":null,\"name\":\"open_modal\"},{\"default\":0,\"kind\":null,\"name\":\"close_modal\"}]},{\"extends\":null,\"module\":null,\"name\":\"MaterialTemplateActions1\",\"overrides\":[],\"properties\":[{\"default\":0,\"kind\":null,\"name\":\"open_modal\"},{\"default\":0,\"kind\":null,\"name\":\"close_modal\"}]}],\"roots\":{\"references\":[{\"attributes\":{\"bottom\":{\"field\":\"bottom\"},\"fill_alpha\":{\"value\":0.2},\"fill_color\":{\"field\":\"Strike\",\"transform\":{\"id\":\"1254\"}},\"hatch_alpha\":{\"value\":0.2},\"hatch_color\":{\"field\":\"Strike\",\"transform\":{\"id\":\"1254\"}},\"line_alpha\":{\"value\":0.2},\"top\":{\"field\":\"top\"},\"width\":{\"value\":0.8},\"x\":{\"field\":\"Symbol\"}},\"id\":\"1260\",\"type\":\"VBar\"},{\"attributes\":{},\"id\":\"1235\",\"type\":\"CategoricalTicker\"},{\"attributes\":{\"tools\":[{\"id\":\"1224\"},{\"id\":\"1241\"},{\"id\":\"1242\"},{\"id\":\"1243\"},{\"id\":\"1244\"},{\"id\":\"1245\"}]},\"id\":\"1247\",\"type\":\"Toolbar\"},{\"attributes\":{},\"id\":\"1245\",\"type\":\"ResetTool\"},{\"attributes\":{\"overlay\":{\"id\":\"1246\"}},\"id\":\"1244\",\"type\":\"BoxZoomTool\"},{\"attributes\":{\"axis\":{\"id\":\"1237\"},\"coordinates\":null,\"dimension\":1,\"grid_line_color\":null,\"group\":null,\"ticker\":null},\"id\":\"1240\",\"type\":\"Grid\"},{\"attributes\":{\"axis_label\":\"Symbol\",\"coordinates\":null,\"formatter\":{\"id\":\"1266\"},\"group\":null,\"major_label_orientation\":1.5707963267948966,\"major_label_policy\":{\"id\":\"1267\"},\"ticker\":{\"id\":\"1235\"}},\"id\":\"1234\",\"type\":\"CategoricalAxis\"},{\"attributes\":{},\"id\":\"1243\",\"type\":\"WheelZoomTool\"},{\"attributes\":{},\"id\":\"1270\",\"type\":\"AllLabels\"},{\"attributes\":{\"end\":433927.9,\"reset_end\":433927.9,\"reset_start\":0.0,\"tags\":[[[\"Open Int\",\"Open Int\",null]]]},\"id\":\"1223\",\"type\":\"Range1d\"},{\"attributes\":{},\"id\":\"1256\",\"type\":\"Selection\"},{\"attributes\":{},\"id\":\"1230\",\"type\":\"CategoricalScale\"},{\"attributes\":{},\"id\":\"1279\",\"type\":\"UnionRenderers\"},{\"attributes\":{\"bottom\":{\"field\":\"bottom\"},\"fill_color\":{\"field\":\"Strike\",\"transform\":{\"id\":\"1254\"}},\"hatch_color\":{\"field\":\"Strike\",\"transform\":{\"id\":\"1254\"}},\"top\":{\"field\":\"top\"},\"width\":{\"value\":0.8},\"x\":{\"field\":\"Symbol\"}},\"id\":\"1258\",\"type\":\"VBar\"},{\"attributes\":{},\"id\":\"1267\",\"type\":\"AllLabels\"},{\"attributes\":{\"bottom_units\":\"screen\",\"coordinates\":null,\"fill_alpha\":0.5,\"fill_color\":\"lightgrey\",\"group\":null,\"left_units\":\"screen\",\"level\":\"overlay\",\"line_alpha\":1.0,\"line_color\":\"black\",\"line_dash\":[4,4],\"line_width\":2,\"right_units\":\"screen\",\"syncable\":false,\"top_units\":\"screen\"},\"id\":\"1246\",\"type\":\"BoxAnnotation\"},{\"attributes\":{\"bottom\":{\"field\":\"bottom\"},\"fill_alpha\":{\"value\":0.1},\"fill_color\":{\"field\":\"Strike\",\"transform\":{\"id\":\"1254\"}},\"hatch_alpha\":{\"value\":0.1},\"hatch_color\":{\"field\":\"Strike\",\"transform\":{\"id\":\"1254\"}},\"line_alpha\":{\"value\":0.1},\"top\":{\"field\":\"top\"},\"width\":{\"value\":0.8},\"x\":{\"field\":\"Symbol\"}},\"id\":\"1259\",\"type\":\"VBar\"},{\"attributes\":{},\"id\":\"1242\",\"type\":\"PanTool\"},{\"attributes\":{\"source\":{\"id\":\"1255\"}},\"id\":\"1262\",\"type\":\"CDSView\"},{\"attributes\":{\"callback\":null,\"renderers\":[{\"id\":\"1261\"}],\"tags\":[\"hv_created\"],\"tooltips\":[[\"Symbol\",\"@{Symbol}\"],[\"Strike\",\"@{Strike}\"],[\"Open Int\",\"@{Open_Int}\"]]},\"id\":\"1224\",\"type\":\"HoverTool\"},{\"attributes\":{\"data\":{\"Open_Int\":{\"__ndarray__\":\"AAAAAIC11EAAAAAAALPnQAAAAAAAgJhAAAAAAABS0UAAAAAAACikQAAAAADAj+dAAAAAAABzukAAAAAAgInbQAAAAAAAzrZAAAAAAACd9kAAAAAAQDHdQAAAAADAbtpAAAAAAECz9EAAAAAAAPyqQAAAAADAAtFAAAAAAAAdtkAAAAAAAGqxQAAAAADAfeRAAAAAAAA8ukAAAAAAgHbGQAAAAAAAuLlAAAAAAACUuUAAAAAAACG8QAAAAACAwMxAAAAAAABLw0AAAAAAAFyiQAAAAADAmd5AAAAAAABYtUAAAAAAAISxQAAAAAAA8sNAAAAAAACutkAAAAAAQOLQQAAAAAAAubdAAAAAAIDq1EAAAAAAgFfWQAAAAABAP9tAAAAAAMB43UAAAAAAAIauQAAAAAAACsBAAAAAAABJtEAAAAAAADrgQAAAAACApcpAAAAAAEDb10AAAAAAwC7ZQAAAAACA0ttAAAAAAAA2skAAAAAAAAq1QAAAAAAAqrtAAAAAAABIgUAAAAAAgOzAQAAAAAAA/cRAAAAAAMBu10AAAAAAgI3SQAAAAABANftAAAAAAIAj1EAAAAAAwKbZQAAAAADAFdVAAAAAAACnvkAAAAAAAEyRQAAAAAAA3bdAAAAAAACqyEAAAAAAAJChQAAAAAAAWrlAAAAAAADWwkAAAAAAgOzDQAAAAACAIs1AAAAAAIBswUAAAAAAAP+yQAAAAAAAlKRAAAAAAABAsEAAAAAAgEDCQAAAAAAAWKpAAAAAAAACrEAAAAAAQJrUQAAAAAAA5LBAAAAAAAAZt0AAAAAAABynQAAAAAAAIINAAAAAAADQnkAAAAAAAMC5QAAAAAAAUKBAAAAAAADkmEAAAAAAAHy5QAAAAACAbcxAAAAAAADkqUAAAAAAAAypQAAAAAAAiMdAAAAAAEDu0EAAAAAAAMarQAAAAADAktJAAAAAAADsskAAAAAAACiOQAAAAAAA7rNAAAAAAAA1ukAAAAAAoE7hQAAAAADAs+RAAAAAAADojEAAAAAAAPynQAAAAACAVsZAAAAAAED/1EAAAAAAAO/lQAAAAAAAPM9AAAAAAABvvUAAAAAAADXLQAAAAAAAaLpAAAAAAADIn0AAAAAAAESXQAAAAACADMNAAAAAAADqpkAAAAAAANqiQAAAAAAAyqpAAAAAAACTukAAAAAAAOilQAAAAAAAl8ZAAAAAAADyqUAAAAAAAOmyQAAAAADAUuRAAAAAAAAKvUAAAAAAgHDOQAAAAAAAR9VAAAAAAICLwUAAAAAAAMuyQAAAAADAOddAAAAAAADHu0AAAAAAAGvQQAAAAABA19dAAAAAAIBfzkAAAAAAAJ6qQAAAAACAE9BAAAAAAADBu0AAAAAAAE3DQAAAAABA/dJAAAAAAAC3wEAAAAAAoBzjQAAAAAAAX+BAAAAAAADiu0AAAAAAAHyhQAAAAAAA/tZAAAAAAACapEA=\",\"dtype\":\"float64\",\"order\":\"little\",\"shape\":[139]},\"Strike\":[\"140\",\"150\",\"150\",\"152.5\",\"152.5\",\"155\",\"155\",\"157.5\",\"157.5\",\"160\",\"160\",\"120\",\"120\",\"121\",\"125\",\"128\",\"129\",\"130\",\"131\",\"132\",\"132.5\",\"133\",\"134\",\"136\",\"7\",\"7\",\"8\",\"8\",\"8.5\",\"9\",\"9.5\",\"10\",\"10.5\",\"25\",\"30\",\"30\",\"30\",\"32\",\"32\",\"32\",\"33\",\"33\",\"18\",\"18\",\"18.5\",\"18.5\",\"19\",\"19\",\"19.5\",\"19.5\",\"17.5\",\"20\",\"20\",\"15\",\"38\",\"40\",\"40\",\"41\",\"41.5\",\"41.5\",\"115\",\"119\",\"162.5\",\"21\",\"22\",\"22.5\",\"23\",\"23.5\",\"66\",\"67\",\"67.5\",\"68\",\"69\",\"70\",\"71\",\"72\",\"27.5\",\"28.5\",\"30.5\",\"31\",\"31\",\"31.5\",\"31.5\",\"87.5\",\"88\",\"89\",\"90\",\"90\",\"91\",\"92.5\",\"92.5\",\"93\",\"95\",\"11.5\",\"12\",\"6\",\"6.5\",\"7.5\",\"233.33\",\"260\",\"266.67\",\"270\",\"280\",\"283.33\",\"285\",\"288.33\",\"289.17\",\"290\",\"290.83\",\"291.67\",\"292.5\",\"293.33\",\"294.17\",\"295\",\"295.83\",\"298.33\",\"300\",\"301.67\",\"303.33\",\"305\",\"306.67\",\"308.33\",\"310\",\"311.67\",\"315\",\"316.67\",\"320\",\"321.67\",\"325\",\"326.67\",\"330\",\"42\",\"42.5\",\"43\",\"32.5\",\"33.5\",\"97\",\"100\",\"101\"],\"Symbol\":[\"AAPL\",\"AAPL\",\"META\",\"AAPL\",\"META\",\"AAPL\",\"META\",\"AAPL\",\"META\",\"AAPL\",\"META\",\"JPM\",\"AMZN\",\"AMZN\",\"AMZN\",\"AMZN\",\"AMZN\",\"AMZN\",\"AMZN\",\"AMZN\",\"AMZN\",\"AMZN\",\"AMZN\",\"AMZN\",\"SWN\",\"BBBY\",\"SWN\",\"BBBY\",\"BBBY\",\"BBBY\",\"BBBY\",\"BBBY\",\"BBBY\",\"CCJ\",\"UBER\",\"PLUG\",\"CCJ\",\"PLUG\",\"UBER\",\"CCJ\",\"CCJ\",\"UBER\",\"CHPT\",\"DKNG\",\"CHPT\",\"DKNG\",\"CHPT\",\"DKNG\",\"CHPT\",\"DKNG\",\"DKNG\",\"DKNG\",\"NIO\",\"F\",\"GM\",\"TWTR\",\"GM\",\"GM\",\"GM\",\"TWTR\",\"JPM\",\"JPM\",\"META\",\"NIO\",\"NIO\",\"NIO\",\"NIO\",\"NIO\",\"OXY\",\"OXY\",\"OXY\",\"OXY\",\"OXY\",\"OXY\",\"OXY\",\"OXY\",\"PLUG\",\"PLUG\",\"PLUG\",\"UBER\",\"PLUG\",\"PLUG\",\"UBER\",\"SBUX\",\"SBUX\",\"SBUX\",\"XOM\",\"SBUX\",\"SBUX\",\"XOM\",\"SBUX\",\"SBUX\",\"SBUX\",\"SNAP\",\"SNAP\",\"SWN\",\"SWN\",\"SWN\",\"TSLA\",\"TSLA\",\"TSLA\",\"TSLA\",\"TSLA\",\"TSLA\",\"TSLA\",\"TSLA\",\"TSLA\",\"TSLA\",\"TSLA\",\"TSLA\",\"TSLA\",\"TSLA\",\"TSLA\",\"TSLA\",\"TSLA\",\"TSLA\",\"TSLA\",\"TSLA\",\"TSLA\",\"TSLA\",\"TSLA\",\"TSLA\",\"TSLA\",\"TSLA\",\"TSLA\",\"TSLA\",\"TSLA\",\"TSLA\",\"TSLA\",\"TSLA\",\"TSLA\",\"TWTR\",\"TWTR\",\"TWTR\",\"UBER\",\"UBER\",\"XOM\",\"XOM\",\"XOM\"],\"bottom\":{\"__ndarray__\":\"AAAAAAAAAAAAAAAAgLXUQAAAAAAAAAAAAAAAAOAG8UAAAAAAAICYQAAAAABgW/VAAAAAAAA0sEAAAAAAoJEAQQAAAACAU8VAAAAAANACBEEAAAAAQF3QQAAAAAAAAAAAAAAAAAAAAAAAAAAAQLP0QAAAAAAgi/VAAAAAANDL+UAAAAAAoC37QAAAAABARPxAAAAAAJBBA0EAAAAAcBMEQQAAAADYegVBAAAAAJhIBkEAAAAAOBUHQQAAAABA9gdBAAAAAAAAAAAAAAAAAAAAAAAAAAAAS8NAAAAAAABcokAAAAAAAIa+QAAAAAAABchAAAAAAID71UAAAAAAAKfbQAAAAACgROZAAAAAAAAAAAAAAAAAAAAAAAAAAAAAAAAAAAAAAIDq1EAAAAAAQD/bQAAAAACAV9ZAAAAAAKAx6UAAAAAAwLrrQAAAAACAXN5AAAAAAAAAAAAAAAAAAAAAAAAAAABA29dAAAAAAMAu2UAAAAAA4NbpQAAAAABAvN1AAAAAACB47EAAAAAAYFPiQAAAAACAjuZAAAAAAMDN60AAAAAAAAAAAAAAAAAAAAAAAAAAAAAAAAAAAAAAAAAAAAAAAACAI9RAAAAAAKCc5EAAAAAAgHHoQAAAAADAptlAAAAAAMBu2kAAAAAA4GHjQAAAAABAx+ZAAAAAAICN0kAAAAAAgPjbQAAAAABg9+JAAAAAAABA6kAAAAAAIJvuQAAAAAAAAAAAAAAAAACUpEAAAAAAAIq6QAAAAACAhc9AAAAAAMAN00AAAAAAAI7WQAAAAAAglOVAAAAAAKCw50AAAAAAABDfQAAAAADA+eBAAAAAAEBG4UAAAAAAoNflQAAAAADAPOJAAAAAAMBB40AAAAAAoA/pQAAAAAAAAAAAAAAAAIBtzEAAAAAAQHPRQAAAAAAAAAAAAAAAAMCU1EAAAAAAgMHiQAAAAAAAiMdAAAAAAOB95EAAAAAAYNvmQAAAAAAAVOdAAAAAAAAAAAAAAAAAADW6QAAAAACgH+RAAAAAALBp9EAAAAAAgKP0QAAAAAAAAAAAAAAAAIBWxkAAAAAAQBXgQAAAAAAgAvNAAAAAAKDp9kAAAAAAkMD4QAAAAAAwJ/xAAAAAALDN/UAAAAAA0Ez+QAAAAADgqf5AAAAAALiFAEEAAAAAYOEAQQAAAADILAFBAAAAAPCXAUEAAAAAiGwCQQAAAAAoxAJBAAAAAJgtBEEAAAAAYJUEQQAAAACoLAVBAAAAAFhBCkEAAAAAqCkLQQAAAACwEA1BAAAAAJC5D0EAAAAAJGkQQQAAAABQtBBBAAAAAOwnEkEAAAAACJcSQQAAAAC4nRNBAAAAACwbFUEAAAAAKA4WQQAAAABkQxZBAAAAAJxEF0EAAAAAoLMXQQAAAAAAnt9AAAAAAKBN6UAAAAAAYHvtQAAAAAAgP+xAAAAAABBP9kAAAAAAwFbeQAAAAAAgQ+BAAAAAACDC60A=\",\"dtype\":\"float64\",\"order\":\"little\",\"shape\":[139]},\"top\":{\"__ndarray__\":\"AAAAAIC11EAAAAAA4AbxQAAAAAAAgJhAAAAAAGBb9UAAAAAAADSwQAAAAACgkQBBAAAAAIBTxUAAAAAA0AIEQQAAAABAXdBAAAAAAFBRD0EAAAAAQMfmQAAAAADAbtpAAAAAAECz9EAAAAAAIIv1QAAAAADQy/lAAAAAAKAt+0AAAAAAQET8QAAAAACQQQNBAAAAAHATBEEAAAAA2HoFQQAAAACYSAZBAAAAADgVB0EAAAAAQPYHQQAAAABIwglBAAAAAABLw0AAAAAAAFyiQAAAAACgH+RAAAAAAACGvkAAAAAAAAXIQAAAAACA+9VAAAAAAACn20AAAAAAoETmQAAAAADAO+lAAAAAAIDq1EAAAAAAgFfWQAAAAABAP9tAAAAAAKAx6UAAAAAAABDfQAAAAACAXN5AAAAAAMC660AAAAAAYPr1QAAAAACg1+VAAAAAAEDb10AAAAAAwC7ZQAAAAADg1ulAAAAAAEC83UAAAAAAIHjsQAAAAABgU+JAAAAAAEC97EAAAAAAgI7mQAAAAADAzetAAAAAAJDC80AAAAAAgI3SQAAAAABANftAAAAAAIAj1EAAAAAAwKbZQAAAAACgnORAAAAAAIBx6EAAAAAA4PvoQAAAAAAAnt9AAAAAAOBh40AAAAAA4HrkQAAAAACA8ulAAAAAAID420AAAAAAYPfiQAAAAAAAQOpAAAAAACCb7kAAAAAAgH3wQAAAAAAAlKRAAAAAAACKukAAAAAAgIXPQAAAAADADdNAAAAAAACO1kAAAAAAIJTlQAAAAACgsOdAAAAAAMCT6kAAAAAAwPngQAAAAABARuFAAAAAAMA84kAAAAAAoA/pQAAAAADAQeNAAAAAAOAI5EAAAAAAID/sQAAAAACAbcxAAAAAAEBz0UAAAAAAwJTUQAAAAAAAiMdAAAAAAIDB4kAAAAAA4H3kQAAAAADAVt5AAAAAAGDb5kAAAAAAAFTnQAAAAADA0elAAAAAAAA1ukAAAAAAQJXkQAAAAACwafRAAAAAAICj9EAAAAAAYGP1QAAAAACAVsZAAAAAAEAV4EAAAAAAIALzQAAAAACg6fZAAAAAAJDA+EAAAAAAMCf8QAAAAACwzf1AAAAAANBM/kAAAAAA4Kn+QAAAAAC4hQBBAAAAAGDhAEEAAAAAyCwBQQAAAADwlwFBAAAAAIhsAkEAAAAAKMQCQQAAAACYLQRBAAAAAGCVBEEAAAAAqCwFQQAAAABYQQpBAAAAAKgpC0EAAAAAsBANQQAAAACQuQ9BAAAAACRpEEEAAAAAULQQQQAAAADsJxJBAAAAAAiXEkEAAAAAuJ0TQQAAAAAsGxVBAAAAACgOFkEAAAAAZEMWQQAAAACcRBdBAAAAAKCzF0EAAAAACE4YQQAAAACgTelAAAAAAGB77UAAAAAAAEz4QAAAAAAQT/ZAAAAAADAN+EAAAAAAIEPgQAAAAAAgwutAAAAAAMAL7UA=\",\"dtype\":\"float64\",\"order\":\"little\",\"shape\":[139]}},\"selected\":{\"id\":\"1256\"},\"selection_policy\":{\"id\":\"1279\"}},\"id\":\"1255\",\"type\":\"ColumnDataSource\"},{\"attributes\":{},\"id\":\"1232\",\"type\":\"LinearScale\"},{\"attributes\":{\"margin\":[5,5,5,5],\"name\":\"HSpacer01421\",\"sizing_mode\":\"stretch_width\"},\"id\":\"1282\",\"type\":\"Spacer\"},{\"attributes\":{\"coordinates\":null,\"data_source\":{\"id\":\"1255\"},\"glyph\":{\"id\":\"1258\"},\"group\":null,\"hover_glyph\":null,\"muted_glyph\":{\"id\":\"1260\"},\"nonselection_glyph\":{\"id\":\"1259\"},\"selection_glyph\":{\"id\":\"1263\"},\"view\":{\"id\":\"1262\"}},\"id\":\"1261\",\"type\":\"GlyphRenderer\"},{\"attributes\":{},\"id\":\"1241\",\"type\":\"SaveTool\"},{\"attributes\":{\"format\":\"%.0f\"},\"id\":\"1264\",\"type\":\"PrintfTickFormatter\"},{\"attributes\":{},\"id\":\"1238\",\"type\":\"BasicTicker\"},{\"attributes\":{\"bottom\":{\"field\":\"bottom\"},\"fill_alpha\":{\"value\":1.0},\"fill_color\":{\"field\":\"Strike\",\"transform\":{\"id\":\"1254\"}},\"hatch_alpha\":{\"value\":1.0},\"hatch_color\":{\"field\":\"Strike\",\"transform\":{\"id\":\"1254\"}},\"hatch_scale\":{\"value\":12.0},\"hatch_weight\":{\"value\":1.0},\"line_alpha\":{\"value\":1.0},\"line_cap\":{\"value\":\"butt\"},\"line_color\":{\"value\":\"black\"},\"line_dash\":{\"value\":[]},\"line_dash_offset\":{\"value\":0},\"line_join\":{\"value\":\"bevel\"},\"line_width\":{\"value\":1},\"top\":{\"field\":\"top\"},\"width\":{\"value\":0.8},\"x\":{\"field\":\"Symbol\"}},\"id\":\"1263\",\"type\":\"VBar\"},{\"attributes\":{\"children\":[{\"id\":\"1221\"},{\"id\":\"1225\"},{\"id\":\"1282\"}],\"margin\":[0,0,0,0],\"name\":\"Row01416\",\"tags\":[\"embedded\"]},\"id\":\"1220\",\"type\":\"Row\"},{\"attributes\":{\"factors\":[\"140\",\"150\",\"152.5\",\"155\",\"157.5\",\"160\",\"120\",\"121\",\"125\",\"128\",\"129\",\"130\",\"131\",\"132\",\"132.5\",\"133\",\"134\",\"136\",\"7\",\"8\",\"8.5\",\"9\",\"9.5\",\"10\",\"10.5\",\"25\",\"30\",\"32\",\"33\",\"18\",\"18.5\",\"19\",\"19.5\",\"17.5\",\"20\",\"15\",\"38\",\"40\",\"41\",\"41.5\",\"115\",\"119\",\"162.5\",\"21\",\"22\",\"22.5\",\"23\",\"23.5\",\"66\",\"67\",\"67.5\",\"68\",\"69\",\"70\",\"71\",\"72\",\"27.5\",\"28.5\",\"30.5\",\"31\",\"31.5\",\"87.5\",\"88\",\"89\",\"90\",\"91\",\"92.5\",\"93\",\"95\",\"11.5\",\"12\",\"6\",\"6.5\",\"7.5\",\"233.33\",\"260\",\"266.67\",\"270\",\"280\",\"283.33\",\"285\",\"288.33\",\"289.17\",\"290\",\"290.83\",\"291.67\",\"292.5\",\"293.33\",\"294.17\",\"295\",\"295.83\",\"298.33\",\"300\",\"301.67\",\"303.33\",\"305\",\"306.67\",\"308.33\",\"310\",\"311.67\",\"315\",\"316.67\",\"320\",\"321.67\",\"325\",\"326.67\",\"330\",\"42\",\"42.5\",\"43\",\"32.5\",\"33.5\",\"97\",\"100\",\"101\"],\"palette\":[\"#259646\",\"#259646\",\"#259646\",\"#259646\",\"#259646\",\"#259646\",\"#259646\",\"#259646\",\"#259646\",\"#259646\",\"#259646\",\"#259646\",\"#259646\",\"#259646\",\"#259646\",\"#259646\",\"#259646\",\"#259646\",\"#259646\",\"#259646\",\"#259646\",\"#259646\",\"#259646\",\"#259646\",\"#259646\",\"#259646\",\"#259646\",\"#259646\",\"#259646\",\"#259646\",\"#259646\",\"#259646\",\"#259646\",\"#259646\",\"#259646\",\"#259646\",\"#259646\",\"#259646\",\"#259646\",\"#259646\",\"#259646\",\"#259646\",\"#259646\",\"#259646\",\"#259646\",\"#259646\",\"#259646\",\"#259646\",\"#259646\",\"#259646\",\"#259646\",\"#259646\",\"#259646\",\"#259646\",\"#259646\",\"#259646\",\"#259646\",\"#259646\",\"#259646\",\"#259646\",\"#259646\",\"#259646\",\"#259646\",\"#259646\",\"#259646\",\"#259646\",\"#259646\",\"#259646\",\"#259646\",\"#259646\",\"#259646\",\"#259646\",\"#259646\",\"#259646\",\"#259646\",\"#259646\",\"#259646\",\"#259646\",\"#259646\",\"#259646\",\"#259646\",\"#259646\",\"#259646\",\"#259646\",\"#259646\",\"#259646\",\"#259646\",\"#259646\",\"#259646\",\"#259646\",\"#259646\",\"#259646\",\"#259646\",\"#259646\",\"#259646\",\"#259646\",\"#259646\",\"#259646\",\"#259646\",\"#259646\",\"#259646\",\"#259646\",\"#259646\",\"#259646\",\"#259646\",\"#259646\",\"#259646\",\"#259646\",\"#259646\",\"#259646\",\"#259646\",\"#259646\",\"#259646\",\"#259646\",\"#259646\"]},\"id\":\"1254\",\"type\":\"CategoricalColorMapper\"},{\"attributes\":{\"axis_label\":\"Open Int\",\"coordinates\":null,\"formatter\":{\"id\":\"1264\"},\"group\":null,\"major_label_policy\":{\"id\":\"1270\"},\"ticker\":{\"id\":\"1238\"}},\"id\":\"1237\",\"type\":\"LinearAxis\"},{\"attributes\":{\"margin\":[5,5,5,5],\"name\":\"HSpacer01420\",\"sizing_mode\":\"stretch_width\"},\"id\":\"1221\",\"type\":\"Spacer\"},{\"attributes\":{\"factors\":[\"AAPL\",\"AMZN\",\"BBBY\",\"CCJ\",\"CHPT\",\"DKNG\",\"F\",\"GM\",\"JPM\",\"META\",\"NIO\",\"OXY\",\"PLUG\",\"SBUX\",\"SNAP\",\"SWN\",\"TSLA\",\"TWTR\",\"UBER\",\"XOM\"],\"tags\":[[[\"Symbol\",\"Symbol\",null]]]},\"id\":\"1222\",\"type\":\"FactorRange\"},{\"attributes\":{\"axis\":{\"id\":\"1234\"},\"coordinates\":null,\"grid_line_color\":null,\"group\":null,\"ticker\":null},\"id\":\"1236\",\"type\":\"Grid\"},{\"attributes\":{\"below\":[{\"id\":\"1234\"}],\"center\":[{\"id\":\"1236\"},{\"id\":\"1240\"}],\"height\":800,\"left\":[{\"id\":\"1237\"}],\"margin\":[5,5,5,5],\"min_border_bottom\":10,\"min_border_left\":10,\"min_border_right\":10,\"min_border_top\":10,\"renderers\":[{\"id\":\"1261\"}],\"sizing_mode\":\"fixed\",\"title\":{\"id\":\"1226\"},\"toolbar\":{\"id\":\"1247\"},\"width\":1000,\"x_range\":{\"id\":\"1222\"},\"x_scale\":{\"id\":\"1230\"},\"y_range\":{\"id\":\"1223\"},\"y_scale\":{\"id\":\"1232\"}},\"id\":\"1225\",\"subtype\":\"Figure\",\"type\":\"Plot\"},{\"attributes\":{},\"id\":\"1266\",\"type\":\"CategoricalTickFormatter\"},{\"attributes\":{\"coordinates\":null,\"group\":null,\"text\":\"Call\",\"text_color\":\"black\",\"text_font_size\":\"12pt\"},\"id\":\"1226\",\"type\":\"Title\"}],\"root_ids\":[\"1220\"]},\"title\":\"Bokeh Application\",\"version\":\"2.4.3\"}};\n",
       "    var render_items = [{\"docid\":\"0b420966-f8e0-41ff-b167-f1e09c19d390\",\"root_ids\":[\"1220\"],\"roots\":{\"1220\":\"7b5933b0-fd1c-4cee-aeb0-2d30675342a4\"}}];\n",
       "    root.Bokeh.embed.embed_items_notebook(docs_json, render_items);\n",
       "  }\n",
       "  if (root.Bokeh !== undefined && root.Bokeh.Panel !== undefined) {\n",
       "    embed_document(root);\n",
       "  } else {\n",
       "    var attempts = 0;\n",
       "    var timer = setInterval(function(root) {\n",
       "      if (root.Bokeh !== undefined && root.Bokeh.Panel !== undefined) {\n",
       "        clearInterval(timer);\n",
       "        embed_document(root);\n",
       "      } else if (document.readyState == \"complete\") {\n",
       "        attempts++;\n",
       "        if (attempts > 200) {\n",
       "          clearInterval(timer);\n",
       "          console.log(\"Bokeh: ERROR: Unable to run BokehJS code because BokehJS library is missing\");\n",
       "        }\n",
       "      }\n",
       "    }, 25, root)\n",
       "  }\n",
       "})(window);</script>"
      ],
      "text/plain": [
       ":Bars   [Symbol,Strike]   (Open Int)"
      ]
     },
     "execution_count": 11,
     "metadata": {
      "application/vnd.holoviews_exec.v0+json": {
       "id": "1220"
      }
     },
     "output_type": "execute_result"
    }
   ],
   "source": [
    "df = get_data(date)\n",
    "\n",
    "\n",
    "calls = df[df['Type'] == 'Call'].drop(columns='Price')\n",
    "\n",
    "\n",
    "calls['CnP'] = calls.groupby('Symbol')['Open Int'].transform('sum')\n",
    "\n",
    "\n",
    "tmp = calls.sort_values(by= 'CnP', ascending=False)\n",
    "\n",
    "\n",
    "tmp_top20 = tmp.groupby('Symbol').agg({'Open Int':'sum'}).sort_values(by= 'Open Int', ascending= False).iloc[:20]\n",
    "\n",
    "\n",
    "top20_calls = tmp[tmp.Symbol.isin(tmp_top20.index)]\\\n",
    ".sort_values(['Symbol','Type','Strike','Open Int'])[['Symbol','Type','Strike','Open Int']]\\\n",
    ".set_index(['Symbol','Type','Strike'])\n",
    "\n",
    "#hvplot the call list\n",
    "options_call = top20_calls.hvplot.bar(\n",
    "    x= 'Symbol',\n",
    "    y='Open Int',\n",
    "    by='Strike',\n",
    "    width=1000,\n",
    "    height=800,\n",
    "    rot=90,\n",
    "    color='#259646',\n",
    "    legend=False,\n",
    "    label='Call',\n",
    "    stacked= True,\n",
    "    yformatter=\"%.0f\"\n",
    ")\n",
    "\n",
    "options_call"
   ]
  },
  {
   "cell_type": "code",
   "execution_count": null,
   "metadata": {},
   "outputs": [],
   "source": []
  },
  {
   "cell_type": "code",
   "execution_count": null,
   "metadata": {},
   "outputs": [],
   "source": []
  },
  {
   "cell_type": "code",
   "execution_count": null,
   "metadata": {},
   "outputs": [],
   "source": []
  }
 ],
 "metadata": {
  "kernelspec": {
   "display_name": "Python 3 (ipykernel)",
   "language": "python",
   "name": "python3"
  },
  "language_info": {
   "codemirror_mode": {
    "name": "ipython",
    "version": 3
   },
   "file_extension": ".py",
   "mimetype": "text/x-python",
   "name": "python",
   "nbconvert_exporter": "python",
   "pygments_lexer": "ipython3",
   "version": "3.7.13"
  },
  "vscode": {
   "interpreter": {
    "hash": "c15db3377afa3dcb659dfa4a45bef3fc6c9aec87eaa6dcb1828c53c173a1512b"
   }
  }
 },
 "nbformat": 4,
 "nbformat_minor": 4
}
