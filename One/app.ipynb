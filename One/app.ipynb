{
 "cells": [
  {
   "cell_type": "code",
   "execution_count": 60,
   "metadata": {},
   "outputs": [],
   "source": [
    "import fire\n",
    "import os\n",
    "import requests\n",
    "import pandas as pd\n",
    "from dotenv import load_dotenv\n",
    "load_dotenv()\n",
    "import numpy as np\n",
    "import alpaca_trade_api as alpaca\n",
    "import questionary\n",
    "import hvplot.pandas\n",
    "\n",
    "from qualifier.utils.alpaca_api import alpaca_func\n",
    "from qualifier.utils.analysis import largest_25_OI\n",
    "from qualifier.utils.analysis import options_call_bar\n",
    "from qualifier.utils.analysis import options_put_bar\n",
    "from Modules.CleanData import get_data\n",
    "# from qualifier.utils.SQL import add_new_table\n",
    "\n",
    "# alpaca_func(key=alpaca_key, secret=alpaca_secret, START_DATE=START_DATE, END_DATE=END_DATE)\n",
    "# add_new_table(data=a)\n",
    "\n"
   ]
  },
  {
   "cell_type": "code",
   "execution_count": 61,
   "metadata": {},
   "outputs": [],
   "source": [
    "alpaca_key = os.getenv(\"ALPACA_API_KEY\")\n",
    "alpaca_secret = os.getenv(\"ALPACA_SECRET_KEY\")\n",
    "\n",
    "start_date = \"2022-01-01\"\n",
    "end_date = \"2022-05-30\"\n",
    "\n",
    "date = \"09-14-2022\""
   ]
  },
  {
   "cell_type": "code",
   "execution_count": 62,
   "metadata": {},
   "outputs": [
    {
     "name": "stdout",
     "output_type": "stream",
     "text": [
      "Successfully gathered data from API.\n"
     ]
    }
   ],
   "source": [
    "# Calling alpaca_func\n",
    "# alpaca_func(alpaca_key, alpaca_secret, start_date, end_date)"
   ]
  },
  {
   "cell_type": "code",
   "execution_count": 63,
   "metadata": {},
   "outputs": [],
   "source": [
    "# Calling get_data()\n",
    "# From the query, SELECT *\n",
    "df = get_data(date)\n"
   ]
  },
  {
   "cell_type": "code",
   "execution_count": 64,
   "metadata": {},
   "outputs": [
    {
     "data": {},
     "metadata": {},
     "output_type": "display_data"
    },
    {
     "data": {
      "application/vnd.holoviews_exec.v0+json": "",
      "text/html": [
       "<div id='3073'>\n",
       "  <div class=\"bk-root\" id=\"7a299cda-1862-453d-b3ea-69c97eb52659\" data-root-id=\"3073\"></div>\n",
       "</div>\n",
       "<script type=\"application/javascript\">(function(root) {\n",
       "  function embed_document(root) {\n",
       "    var docs_json = {\"61103915-ec2b-4b8c-aabc-a0617981de6b\":{\"defs\":[{\"extends\":null,\"module\":null,\"name\":\"ReactiveHTML1\",\"overrides\":[],\"properties\":[]},{\"extends\":null,\"module\":null,\"name\":\"FlexBox1\",\"overrides\":[],\"properties\":[{\"default\":\"flex-start\",\"kind\":null,\"name\":\"align_content\"},{\"default\":\"flex-start\",\"kind\":null,\"name\":\"align_items\"},{\"default\":\"row\",\"kind\":null,\"name\":\"flex_direction\"},{\"default\":\"wrap\",\"kind\":null,\"name\":\"flex_wrap\"},{\"default\":\"flex-start\",\"kind\":null,\"name\":\"justify_content\"}]},{\"extends\":null,\"module\":null,\"name\":\"GridStack1\",\"overrides\":[],\"properties\":[{\"default\":\"warn\",\"kind\":null,\"name\":\"mode\"},{\"default\":null,\"kind\":null,\"name\":\"ncols\"},{\"default\":null,\"kind\":null,\"name\":\"nrows\"},{\"default\":true,\"kind\":null,\"name\":\"allow_resize\"},{\"default\":true,\"kind\":null,\"name\":\"allow_drag\"},{\"default\":[],\"kind\":null,\"name\":\"state\"}]},{\"extends\":null,\"module\":null,\"name\":\"click1\",\"overrides\":[],\"properties\":[{\"default\":\"\",\"kind\":null,\"name\":\"terminal_output\"},{\"default\":\"\",\"kind\":null,\"name\":\"debug_name\"},{\"default\":0,\"kind\":null,\"name\":\"clears\"}]},{\"extends\":null,\"module\":null,\"name\":\"NotificationAreaBase1\",\"overrides\":[],\"properties\":[{\"default\":\"bottom-right\",\"kind\":null,\"name\":\"position\"},{\"default\":0,\"kind\":null,\"name\":\"_clear\"}]},{\"extends\":null,\"module\":null,\"name\":\"NotificationArea1\",\"overrides\":[],\"properties\":[{\"default\":[],\"kind\":null,\"name\":\"notifications\"},{\"default\":\"bottom-right\",\"kind\":null,\"name\":\"position\"},{\"default\":0,\"kind\":null,\"name\":\"_clear\"},{\"default\":[{\"background\":\"#ffc107\",\"icon\":{\"className\":\"fas fa-exclamation-triangle\",\"color\":\"white\",\"tagName\":\"i\"},\"type\":\"warning\"},{\"background\":\"#007bff\",\"icon\":{\"className\":\"fas fa-info-circle\",\"color\":\"white\",\"tagName\":\"i\"},\"type\":\"info\"}],\"kind\":null,\"name\":\"types\"}]},{\"extends\":null,\"module\":null,\"name\":\"Notification\",\"overrides\":[],\"properties\":[{\"default\":null,\"kind\":null,\"name\":\"background\"},{\"default\":3000,\"kind\":null,\"name\":\"duration\"},{\"default\":null,\"kind\":null,\"name\":\"icon\"},{\"default\":\"\",\"kind\":null,\"name\":\"message\"},{\"default\":null,\"kind\":null,\"name\":\"notification_type\"},{\"default\":false,\"kind\":null,\"name\":\"_destroyed\"}]},{\"extends\":null,\"module\":null,\"name\":\"TemplateActions1\",\"overrides\":[],\"properties\":[{\"default\":0,\"kind\":null,\"name\":\"open_modal\"},{\"default\":0,\"kind\":null,\"name\":\"close_modal\"}]},{\"extends\":null,\"module\":null,\"name\":\"MaterialTemplateActions1\",\"overrides\":[],\"properties\":[{\"default\":0,\"kind\":null,\"name\":\"open_modal\"},{\"default\":0,\"kind\":null,\"name\":\"close_modal\"}]}],\"roots\":{\"references\":[{\"attributes\":{},\"id\":\"3123\",\"type\":\"AllLabels\"},{\"attributes\":{},\"id\":\"3132\",\"type\":\"UnionRenderers\"},{\"attributes\":{\"children\":[{\"id\":\"3074\"},{\"id\":\"3078\"},{\"id\":\"3135\"}],\"margin\":[0,0,0,0],\"name\":\"Row05558\",\"tags\":[\"embedded\"]},\"id\":\"3073\",\"type\":\"Row\"},{\"attributes\":{},\"id\":\"3085\",\"type\":\"LinearScale\"},{\"attributes\":{\"callback\":null,\"renderers\":[{\"id\":\"3114\"}],\"tags\":[\"hv_created\"],\"tooltips\":[[\"Symbol\",\"@{Symbol}\"],[\"Type\",\"@{Type}\"],[\"Open Int\",\"@{Open_Int}\"]]},\"id\":\"3077\",\"type\":\"HoverTool\"},{\"attributes\":{},\"id\":\"3098\",\"type\":\"ResetTool\"},{\"attributes\":{\"coordinates\":null,\"group\":null,\"text\":\"Tickers Call / Put Open Interests Comparison\",\"text_color\":\"black\",\"text_font_size\":\"12pt\"},\"id\":\"3079\",\"type\":\"Title\"},{\"attributes\":{\"axis_label\":\"Open Interests\",\"coordinates\":null,\"formatter\":{\"id\":\"3117\"},\"group\":null,\"major_label_policy\":{\"id\":\"3123\"},\"ticker\":{\"id\":\"3091\"}},\"id\":\"3090\",\"type\":\"LinearAxis\"},{\"attributes\":{},\"id\":\"3083\",\"type\":\"CategoricalScale\"},{\"attributes\":{},\"id\":\"3091\",\"type\":\"BasicTicker\"},{\"attributes\":{\"axis\":{\"id\":\"3087\"},\"coordinates\":null,\"grid_line_color\":null,\"group\":null,\"ticker\":null},\"id\":\"3089\",\"type\":\"Grid\"},{\"attributes\":{\"overlay\":{\"id\":\"3099\"}},\"id\":\"3097\",\"type\":\"BoxZoomTool\"},{\"attributes\":{},\"id\":\"3120\",\"type\":\"AllLabels\"},{\"attributes\":{\"axis_label\":\"Tickers by Call and Put\",\"coordinates\":null,\"formatter\":{\"id\":\"3119\"},\"group\":null,\"major_label_orientation\":1.5707963267948966,\"major_label_policy\":{\"id\":\"3120\"},\"ticker\":{\"id\":\"3088\"}},\"id\":\"3087\",\"type\":\"CategoricalAxis\"},{\"attributes\":{\"fill_color\":{\"field\":\"Type\",\"transform\":{\"id\":\"3107\"}},\"hatch_color\":{\"field\":\"Type\",\"transform\":{\"id\":\"3107\"}},\"top\":{\"field\":\"Open_Int\"},\"width\":{\"value\":0.8},\"x\":{\"field\":\"xoffsets\"}},\"id\":\"3111\",\"type\":\"VBar\"},{\"attributes\":{\"tools\":[{\"id\":\"3077\"},{\"id\":\"3094\"},{\"id\":\"3095\"},{\"id\":\"3096\"},{\"id\":\"3097\"},{\"id\":\"3098\"}]},\"id\":\"3100\",\"type\":\"Toolbar\"},{\"attributes\":{\"fill_alpha\":{\"value\":0.2},\"fill_color\":{\"field\":\"Type\",\"transform\":{\"id\":\"3107\"}},\"hatch_alpha\":{\"value\":0.2},\"hatch_color\":{\"field\":\"Type\",\"transform\":{\"id\":\"3107\"}},\"line_alpha\":{\"value\":0.2},\"top\":{\"field\":\"Open_Int\"},\"width\":{\"value\":0.8},\"x\":{\"field\":\"xoffsets\"}},\"id\":\"3113\",\"type\":\"VBar\"},{\"attributes\":{\"margin\":[5,5,5,5],\"name\":\"HSpacer05562\",\"sizing_mode\":\"stretch_width\"},\"id\":\"3074\",\"type\":\"Spacer\"},{\"attributes\":{\"below\":[{\"id\":\"3087\"}],\"center\":[{\"id\":\"3089\"},{\"id\":\"3093\"}],\"height\":500,\"left\":[{\"id\":\"3090\"}],\"margin\":[5,5,5,5],\"min_border_bottom\":10,\"min_border_left\":10,\"min_border_right\":10,\"min_border_top\":10,\"renderers\":[{\"id\":\"3114\"}],\"sizing_mode\":\"fixed\",\"title\":{\"id\":\"3079\"},\"toolbar\":{\"id\":\"3100\"},\"width\":1300,\"x_range\":{\"id\":\"3075\"},\"x_scale\":{\"id\":\"3083\"},\"y_range\":{\"id\":\"3076\"},\"y_scale\":{\"id\":\"3085\"}},\"id\":\"3078\",\"subtype\":\"Figure\",\"type\":\"Plot\"},{\"attributes\":{\"fill_alpha\":{\"value\":0.1},\"fill_color\":{\"field\":\"Type\",\"transform\":{\"id\":\"3107\"}},\"hatch_alpha\":{\"value\":0.1},\"hatch_color\":{\"field\":\"Type\",\"transform\":{\"id\":\"3107\"}},\"line_alpha\":{\"value\":0.1},\"top\":{\"field\":\"Open_Int\"},\"width\":{\"value\":0.8},\"x\":{\"field\":\"xoffsets\"}},\"id\":\"3112\",\"type\":\"VBar\"},{\"attributes\":{},\"id\":\"3096\",\"type\":\"WheelZoomTool\"},{\"attributes\":{},\"id\":\"3095\",\"type\":\"PanTool\"},{\"attributes\":{},\"id\":\"3088\",\"type\":\"CategoricalTicker\"},{\"attributes\":{\"factors\":[[\"AAPL\",\"Call\"],[\"AAPL\",\"Put\"],[\"TSLA\",\"Call\"],[\"TSLA\",\"Put\"],[\"AMZN\",\"Call\"],[\"AMZN\",\"Put\"],[\"F\",\"Call\"],[\"F\",\"Put\"],[\"META\",\"Call\"],[\"META\",\"Put\"],[\"GOOGL\",\"Call\"],[\"GOOGL\",\"Put\"],[\"AMD\",\"Call\"],[\"AMD\",\"Put\"],[\"TWTR\",\"Call\"],[\"TWTR\",\"Put\"],[\"NVDA\",\"Call\"],[\"NVDA\",\"Put\"],[\"UBER\",\"Call\"],[\"UBER\",\"Put\"],[\"MSFT\",\"Call\"],[\"MSFT\",\"Put\"],[\"CCJ\",\"Call\"],[\"CCJ\",\"Put\"],[\"SWN\",\"Call\"],[\"SWN\",\"Put\"],[\"DKNG\",\"Call\"],[\"DKNG\",\"Put\"],[\"BAC\",\"Call\"],[\"BAC\",\"Put\"],[\"NIO\",\"Call\"],[\"NIO\",\"Put\"],[\"GOOG\",\"Call\"],[\"GOOG\",\"Put\"],[\"BABA\",\"Call\"],[\"BABA\",\"Put\"],[\"T\",\"Call\"],[\"T\",\"Put\"],[\"INTC\",\"Call\"],[\"INTC\",\"Put\"],[\"XOM\",\"Call\"],[\"XOM\",\"Put\"],[\"CHPT\",\"Call\"],[\"CHPT\",\"Put\"],[\"OXY\",\"Call\"],[\"OXY\",\"Put\"],[\"SBUX\",\"Call\"],[\"SBUX\",\"Put\"],[\"BBBY\",\"Call\"],[\"BBBY\",\"Put\"],[\"GM\",\"Call\"],[\"GM\",\"Put\"],[\"PFE\",\"Call\"],[\"PFE\",\"Put\"],[\"SNAP\",\"Call\"],[\"SNAP\",\"Put\"],[\"NFLX\",\"Call\"],[\"NFLX\",\"Put\"],[\"JPM\",\"Call\"],[\"JPM\",\"Put\"],[\"PLUG\",\"Call\"],[\"PLUG\",\"Put\"],[\"LAZR\",\"Call\"],[\"LAZR\",\"Put\"],[\"CCL\",\"Call\"],[\"CCL\",\"Put\"],[\"WBD\",\"Call\"],[\"WBD\",\"Put\"],[\"DIS\",\"Call\"],[\"DIS\",\"Put\"],[\"SHOP\",\"Call\"],[\"SHOP\",\"Put\"],[\"AMC\",\"Call\"],[\"AMC\",\"Put\"],[\"ET\",\"Call\"],[\"ET\",\"Put\"],[\"LCID\",\"Call\"],[\"LCID\",\"Put\"],[\"MU\",\"Call\"],[\"MU\",\"Put\"]],\"tags\":[[[\"Symbol\",\"Symbol\",null],[\"Type\",\"Type\",null]]]},\"id\":\"3075\",\"type\":\"FactorRange\"},{\"attributes\":{\"format\":\"%0f\"},\"id\":\"3117\",\"type\":\"PrintfTickFormatter\"},{\"attributes\":{},\"id\":\"3094\",\"type\":\"SaveTool\"},{\"attributes\":{\"factors\":[\"Put\",\"Call\"],\"palette\":[\"#30a2da\",\"#fc4f30\"]},\"id\":\"3107\",\"type\":\"CategoricalColorMapper\"},{\"attributes\":{\"axis\":{\"id\":\"3090\"},\"coordinates\":null,\"dimension\":1,\"grid_line_color\":null,\"group\":null,\"ticker\":null},\"id\":\"3093\",\"type\":\"Grid\"},{\"attributes\":{\"bottom\":{\"value\":0},\"fill_alpha\":{\"value\":1.0},\"fill_color\":{\"field\":\"Type\",\"transform\":{\"id\":\"3107\"}},\"hatch_alpha\":{\"value\":1.0},\"hatch_color\":{\"field\":\"Type\",\"transform\":{\"id\":\"3107\"}},\"hatch_scale\":{\"value\":12.0},\"hatch_weight\":{\"value\":1.0},\"line_alpha\":{\"value\":1.0},\"line_cap\":{\"value\":\"butt\"},\"line_color\":{\"value\":\"black\"},\"line_dash\":{\"value\":[]},\"line_dash_offset\":{\"value\":0},\"line_join\":{\"value\":\"bevel\"},\"line_width\":{\"value\":1},\"top\":{\"field\":\"Open_Int\"},\"width\":{\"value\":0.8},\"x\":{\"field\":\"xoffsets\"}},\"id\":\"3116\",\"type\":\"VBar\"},{\"attributes\":{},\"id\":\"3109\",\"type\":\"Selection\"},{\"attributes\":{\"bottom_units\":\"screen\",\"coordinates\":null,\"fill_alpha\":0.5,\"fill_color\":\"lightgrey\",\"group\":null,\"left_units\":\"screen\",\"level\":\"overlay\",\"line_alpha\":1.0,\"line_color\":\"black\",\"line_dash\":[4,4],\"line_width\":2,\"right_units\":\"screen\",\"syncable\":false,\"top_units\":\"screen\"},\"id\":\"3099\",\"type\":\"BoxAnnotation\"},{\"attributes\":{},\"id\":\"3119\",\"type\":\"CategoricalTickFormatter\"},{\"attributes\":{\"end\":793622.4,\"reset_end\":793622.4,\"reset_start\":0.0,\"tags\":[[[\"Open Int\",\"Open Int\",null]]]},\"id\":\"3076\",\"type\":\"Range1d\"},{\"attributes\":{\"coordinates\":null,\"data_source\":{\"id\":\"3108\"},\"glyph\":{\"id\":\"3111\"},\"group\":null,\"hover_glyph\":null,\"muted_glyph\":{\"id\":\"3113\"},\"nonselection_glyph\":{\"id\":\"3112\"},\"selection_glyph\":{\"id\":\"3116\"},\"view\":{\"id\":\"3115\"}},\"id\":\"3114\",\"type\":\"GlyphRenderer\"},{\"attributes\":{\"margin\":[5,5,5,5],\"name\":\"HSpacer05563\",\"sizing_mode\":\"stretch_width\"},\"id\":\"3135\",\"type\":\"Spacer\"},{\"attributes\":{\"source\":{\"id\":\"3108\"}},\"id\":\"3115\",\"type\":\"CDSView\"},{\"attributes\":{\"data\":{\"Open_Int\":{\"__ndarray__\":\"AAAAANgcJkEAAAAAeFQgQQAAAAC8ahhBAAAAAGrwJEEAAAAAoE8GQQAAAADgjwJBAAAAAKDPAEEAAAAAoCf/QAAAAADgR/5AAAAAANAx+EAAAAAAUA7xQAAAAACQu/ZAAAAAACDQ7kAAAAAAgMrwQAAAAABQ7vtAAAAAAECL60AAAAAA0A30QAAAAACgqOVAAAAAAAAT7EAAAAAAIM70QAAAAACAuOBAAAAAAGrwJEEAAAAA2BwmQQAAAAB4VCBBAAAAALxqGEEAAAAAIFT7QAAAAABAXv5AAAAAAEDX9kAAAAAAkDH3QAAAAACQwvNAAAAAAFDu+0AAAAAAsKvwQAAAAABgx+9AAAAAAJAH80AAAAAAoE8GQQAAAABgYOpAAAAAACDO9EAAAAAAQOTrQAAAAADAS/JAAAAAAEBu8EAAAAAAYKDsQAAAAAAAg+lAAAAAAADV5UAAAAAA0A30QAAAAACAyetAAAAAAECb5UAAAAAAQNLkQAAAAACgceZAAAAAAOCPAkEAAAAAoM8AQQ==\",\"dtype\":\"float64\",\"order\":\"little\",\"shape\":[50]},\"Symbol\":[\"AAPL\",\"AMZN\",\"F\",\"TSLA\",\"META\",\"GOOGL\",\"AMD\",\"NVDA\",\"MSFT\",\"BAC\",\"GOOG\",\"BABA\",\"T\",\"INTC\",\"NIO\",\"PFE\",\"NFLX\",\"WBD\",\"SHOP\",\"BBBY\",\"MU\",\"TSLA\",\"AAPL\",\"AMZN\",\"F\",\"TWTR\",\"UBER\",\"CCJ\",\"SWN\",\"DKNG\",\"NIO\",\"XOM\",\"CHPT\",\"OXY\",\"META\",\"SBUX\",\"BBBY\",\"GM\",\"SNAP\",\"JPM\",\"PLUG\",\"LAZR\",\"CCL\",\"NFLX\",\"DIS\",\"AMC\",\"ET\",\"LCID\",\"GOOGL\",\"AMD\"],\"Type\":[\"Put\",\"Put\",\"Put\",\"Put\",\"Put\",\"Put\",\"Put\",\"Put\",\"Put\",\"Put\",\"Put\",\"Put\",\"Put\",\"Put\",\"Put\",\"Put\",\"Put\",\"Put\",\"Put\",\"Put\",\"Put\",\"Call\",\"Call\",\"Call\",\"Call\",\"Call\",\"Call\",\"Call\",\"Call\",\"Call\",\"Call\",\"Call\",\"Call\",\"Call\",\"Call\",\"Call\",\"Call\",\"Call\",\"Call\",\"Call\",\"Call\",\"Call\",\"Call\",\"Call\",\"Call\",\"Call\",\"Call\",\"Call\",\"Call\",\"Call\"],\"xoffsets\":[[\"AAPL\",\"Put\"],[\"AMZN\",\"Put\"],[\"F\",\"Put\"],[\"TSLA\",\"Put\"],[\"META\",\"Put\"],[\"GOOGL\",\"Put\"],[\"AMD\",\"Put\"],[\"NVDA\",\"Put\"],[\"MSFT\",\"Put\"],[\"BAC\",\"Put\"],[\"GOOG\",\"Put\"],[\"BABA\",\"Put\"],[\"T\",\"Put\"],[\"INTC\",\"Put\"],[\"NIO\",\"Put\"],[\"PFE\",\"Put\"],[\"NFLX\",\"Put\"],[\"WBD\",\"Put\"],[\"SHOP\",\"Put\"],[\"BBBY\",\"Put\"],[\"MU\",\"Put\"],[\"TSLA\",\"Call\"],[\"AAPL\",\"Call\"],[\"AMZN\",\"Call\"],[\"F\",\"Call\"],[\"TWTR\",\"Call\"],[\"UBER\",\"Call\"],[\"CCJ\",\"Call\"],[\"SWN\",\"Call\"],[\"DKNG\",\"Call\"],[\"NIO\",\"Call\"],[\"XOM\",\"Call\"],[\"CHPT\",\"Call\"],[\"OXY\",\"Call\"],[\"META\",\"Call\"],[\"SBUX\",\"Call\"],[\"BBBY\",\"Call\"],[\"GM\",\"Call\"],[\"SNAP\",\"Call\"],[\"JPM\",\"Call\"],[\"PLUG\",\"Call\"],[\"LAZR\",\"Call\"],[\"CCL\",\"Call\"],[\"NFLX\",\"Call\"],[\"DIS\",\"Call\"],[\"AMC\",\"Call\"],[\"ET\",\"Call\"],[\"LCID\",\"Call\"],[\"GOOGL\",\"Call\"],[\"AMD\",\"Call\"]]},\"selected\":{\"id\":\"3109\"},\"selection_policy\":{\"id\":\"3132\"}},\"id\":\"3108\",\"type\":\"ColumnDataSource\"}],\"root_ids\":[\"3073\"]},\"title\":\"Bokeh Application\",\"version\":\"2.4.3\"}};\n",
       "    var render_items = [{\"docid\":\"61103915-ec2b-4b8c-aabc-a0617981de6b\",\"root_ids\":[\"3073\"],\"roots\":{\"3073\":\"7a299cda-1862-453d-b3ea-69c97eb52659\"}}];\n",
       "    root.Bokeh.embed.embed_items_notebook(docs_json, render_items);\n",
       "  }\n",
       "  if (root.Bokeh !== undefined && root.Bokeh.Panel !== undefined) {\n",
       "    embed_document(root);\n",
       "  } else {\n",
       "    var attempts = 0;\n",
       "    var timer = setInterval(function(root) {\n",
       "      if (root.Bokeh !== undefined && root.Bokeh.Panel !== undefined) {\n",
       "        clearInterval(timer);\n",
       "        embed_document(root);\n",
       "      } else if (document.readyState == \"complete\") {\n",
       "        attempts++;\n",
       "        if (attempts > 200) {\n",
       "          clearInterval(timer);\n",
       "          console.log(\"Bokeh: ERROR: Unable to run BokehJS code because BokehJS library is missing\");\n",
       "        }\n",
       "      }\n",
       "    }, 25, root)\n",
       "  }\n",
       "})(window);</script>"
      ],
      "text/plain": [
       ":Bars   [Symbol,Type]   (Open Int)"
      ]
     },
     "execution_count": 64,
     "metadata": {
      "application/vnd.holoviews_exec.v0+json": {
       "id": "3073"
      }
     },
     "output_type": "execute_result"
    }
   ],
   "source": [
    "# Calling largest_25_OI\n",
    "largest_25_OI(df)"
   ]
  },
  {
   "cell_type": "code",
   "execution_count": 65,
   "metadata": {},
   "outputs": [
    {
     "data": {},
     "metadata": {},
     "output_type": "display_data"
    },
    {
     "data": {
      "application/vnd.holoviews_exec.v0+json": "",
      "text/html": [
       "<div id='3182'>\n",
       "  <div class=\"bk-root\" id=\"11cc9a49-2fab-470c-9616-47f91683bbcd\" data-root-id=\"3182\"></div>\n",
       "</div>\n",
       "<script type=\"application/javascript\">(function(root) {\n",
       "  function embed_document(root) {\n",
       "    var docs_json = {\"5b0830fe-c4f2-4c5f-9f6b-256913cd0100\":{\"defs\":[{\"extends\":null,\"module\":null,\"name\":\"ReactiveHTML1\",\"overrides\":[],\"properties\":[]},{\"extends\":null,\"module\":null,\"name\":\"FlexBox1\",\"overrides\":[],\"properties\":[{\"default\":\"flex-start\",\"kind\":null,\"name\":\"align_content\"},{\"default\":\"flex-start\",\"kind\":null,\"name\":\"align_items\"},{\"default\":\"row\",\"kind\":null,\"name\":\"flex_direction\"},{\"default\":\"wrap\",\"kind\":null,\"name\":\"flex_wrap\"},{\"default\":\"flex-start\",\"kind\":null,\"name\":\"justify_content\"}]},{\"extends\":null,\"module\":null,\"name\":\"GridStack1\",\"overrides\":[],\"properties\":[{\"default\":\"warn\",\"kind\":null,\"name\":\"mode\"},{\"default\":null,\"kind\":null,\"name\":\"ncols\"},{\"default\":null,\"kind\":null,\"name\":\"nrows\"},{\"default\":true,\"kind\":null,\"name\":\"allow_resize\"},{\"default\":true,\"kind\":null,\"name\":\"allow_drag\"},{\"default\":[],\"kind\":null,\"name\":\"state\"}]},{\"extends\":null,\"module\":null,\"name\":\"click1\",\"overrides\":[],\"properties\":[{\"default\":\"\",\"kind\":null,\"name\":\"terminal_output\"},{\"default\":\"\",\"kind\":null,\"name\":\"debug_name\"},{\"default\":0,\"kind\":null,\"name\":\"clears\"}]},{\"extends\":null,\"module\":null,\"name\":\"NotificationAreaBase1\",\"overrides\":[],\"properties\":[{\"default\":\"bottom-right\",\"kind\":null,\"name\":\"position\"},{\"default\":0,\"kind\":null,\"name\":\"_clear\"}]},{\"extends\":null,\"module\":null,\"name\":\"NotificationArea1\",\"overrides\":[],\"properties\":[{\"default\":[],\"kind\":null,\"name\":\"notifications\"},{\"default\":\"bottom-right\",\"kind\":null,\"name\":\"position\"},{\"default\":0,\"kind\":null,\"name\":\"_clear\"},{\"default\":[{\"background\":\"#ffc107\",\"icon\":{\"className\":\"fas fa-exclamation-triangle\",\"color\":\"white\",\"tagName\":\"i\"},\"type\":\"warning\"},{\"background\":\"#007bff\",\"icon\":{\"className\":\"fas fa-info-circle\",\"color\":\"white\",\"tagName\":\"i\"},\"type\":\"info\"}],\"kind\":null,\"name\":\"types\"}]},{\"extends\":null,\"module\":null,\"name\":\"Notification\",\"overrides\":[],\"properties\":[{\"default\":null,\"kind\":null,\"name\":\"background\"},{\"default\":3000,\"kind\":null,\"name\":\"duration\"},{\"default\":null,\"kind\":null,\"name\":\"icon\"},{\"default\":\"\",\"kind\":null,\"name\":\"message\"},{\"default\":null,\"kind\":null,\"name\":\"notification_type\"},{\"default\":false,\"kind\":null,\"name\":\"_destroyed\"}]},{\"extends\":null,\"module\":null,\"name\":\"TemplateActions1\",\"overrides\":[],\"properties\":[{\"default\":0,\"kind\":null,\"name\":\"open_modal\"},{\"default\":0,\"kind\":null,\"name\":\"close_modal\"}]},{\"extends\":null,\"module\":null,\"name\":\"MaterialTemplateActions1\",\"overrides\":[],\"properties\":[{\"default\":0,\"kind\":null,\"name\":\"open_modal\"},{\"default\":0,\"kind\":null,\"name\":\"close_modal\"}]}],\"roots\":{\"references\":[{\"attributes\":{\"axis_label\":\"Symbol\",\"coordinates\":null,\"formatter\":{\"id\":\"3228\"},\"group\":null,\"major_label_orientation\":1.5707963267948966,\"major_label_policy\":{\"id\":\"3229\"},\"ticker\":{\"id\":\"3197\"}},\"id\":\"3196\",\"type\":\"CategoricalAxis\"},{\"attributes\":{},\"id\":\"3218\",\"type\":\"Selection\"},{\"attributes\":{\"children\":[{\"id\":\"3183\"},{\"id\":\"3187\"},{\"id\":\"3244\"}],\"margin\":[0,0,0,0],\"name\":\"Row05898\",\"tags\":[\"embedded\"]},\"id\":\"3182\",\"type\":\"Row\"},{\"attributes\":{\"margin\":[5,5,5,5],\"name\":\"HSpacer05903\",\"sizing_mode\":\"stretch_width\"},\"id\":\"3244\",\"type\":\"Spacer\"},{\"attributes\":{\"data\":{\"Open_Int\":{\"__ndarray__\":\"AAAAAIC11EAAAAAAALPnQAAAAAAAgJhAAAAAAABS0UAAAAAAACikQAAAAADAj+dAAAAAAABzukAAAAAAgInbQAAAAAAAzrZAAAAAAACd9kAAAAAAQDHdQAAAAADAbtpAAAAAAECz9EAAAAAAAPyqQAAAAADAAtFAAAAAAAAdtkAAAAAAAGqxQAAAAADAfeRAAAAAAAA8ukAAAAAAgHbGQAAAAAAAuLlAAAAAAACUuUAAAAAAACG8QAAAAACAwMxAAAAAAABLw0AAAAAAAFyiQAAAAADAmd5AAAAAAABYtUAAAAAAAISxQAAAAAAA8sNAAAAAAACutkAAAAAAQOLQQAAAAAAAubdAAAAAAIDq1EAAAAAAgFfWQAAAAABAP9tAAAAAAMB43UAAAAAAAIauQAAAAAAACsBAAAAAAABJtEAAAAAAADrgQAAAAACApcpAAAAAAEDb10AAAAAAwC7ZQAAAAACA0ttAAAAAAAA2skAAAAAAAAq1QAAAAAAAqrtAAAAAAABIgUAAAAAAgOzAQAAAAAAA/cRAAAAAAMBu10AAAAAAgI3SQAAAAABANftAAAAAAIAj1EAAAAAAwKbZQAAAAADAFdVAAAAAAACnvkAAAAAAAEyRQAAAAAAA3bdAAAAAAACqyEAAAAAAAJChQAAAAAAAWrlAAAAAAADWwkAAAAAAgOzDQAAAAACAIs1AAAAAAIBswUAAAAAAAP+yQAAAAAAAlKRAAAAAAABAsEAAAAAAgEDCQAAAAAAAWKpAAAAAAAACrEAAAAAAQJrUQAAAAAAA5LBAAAAAAAAZt0AAAAAAABynQAAAAAAAIINAAAAAAADQnkAAAAAAAMC5QAAAAAAAUKBAAAAAAADkmEAAAAAAAHy5QAAAAACAbcxAAAAAAADkqUAAAAAAAAypQAAAAAAAiMdAAAAAAEDu0EAAAAAAAMarQAAAAADAktJAAAAAAADsskAAAAAAACiOQAAAAAAA7rNAAAAAAAA1ukAAAAAAoE7hQAAAAADAs+RAAAAAAADojEAAAAAAAPynQAAAAACAVsZAAAAAAED/1EAAAAAAAO/lQAAAAAAAPM9AAAAAAABvvUAAAAAAADXLQAAAAAAAaLpAAAAAAADIn0AAAAAAAESXQAAAAACADMNAAAAAAADqpkAAAAAAANqiQAAAAAAAyqpAAAAAAACTukAAAAAAAOilQAAAAAAAl8ZAAAAAAADyqUAAAAAAAOmyQAAAAADAUuRAAAAAAAAKvUAAAAAAgHDOQAAAAAAAR9VAAAAAAICLwUAAAAAAAMuyQAAAAADAOddAAAAAAADHu0AAAAAAAGvQQAAAAABA19dAAAAAAIBfzkAAAAAAAJ6qQAAAAACAE9BAAAAAAADBu0AAAAAAAE3DQAAAAABA/dJAAAAAAAC3wEAAAAAAoBzjQAAAAAAAX+BAAAAAAADiu0AAAAAAAHyhQAAAAAAA/tZAAAAAAACapEA=\",\"dtype\":\"float64\",\"order\":\"little\",\"shape\":[139]},\"Strike\":[\"140\",\"150\",\"150\",\"152.5\",\"152.5\",\"155\",\"155\",\"157.5\",\"157.5\",\"160\",\"160\",\"120\",\"120\",\"121\",\"125\",\"128\",\"129\",\"130\",\"131\",\"132\",\"132.5\",\"133\",\"134\",\"136\",\"7\",\"7\",\"8\",\"8\",\"8.5\",\"9\",\"9.5\",\"10\",\"10.5\",\"25\",\"30\",\"30\",\"30\",\"32\",\"32\",\"32\",\"33\",\"33\",\"18\",\"18\",\"18.5\",\"18.5\",\"19\",\"19\",\"19.5\",\"19.5\",\"17.5\",\"20\",\"20\",\"15\",\"38\",\"40\",\"40\",\"41\",\"41.5\",\"41.5\",\"115\",\"119\",\"162.5\",\"21\",\"22\",\"22.5\",\"23\",\"23.5\",\"66\",\"67\",\"67.5\",\"68\",\"69\",\"70\",\"71\",\"72\",\"27.5\",\"28.5\",\"30.5\",\"31\",\"31\",\"31.5\",\"31.5\",\"87.5\",\"88\",\"89\",\"90\",\"90\",\"91\",\"92.5\",\"92.5\",\"93\",\"95\",\"11.5\",\"12\",\"6\",\"6.5\",\"7.5\",\"233.33\",\"260\",\"266.67\",\"270\",\"280\",\"283.33\",\"285\",\"288.33\",\"289.17\",\"290\",\"290.83\",\"291.67\",\"292.5\",\"293.33\",\"294.17\",\"295\",\"295.83\",\"298.33\",\"300\",\"301.67\",\"303.33\",\"305\",\"306.67\",\"308.33\",\"310\",\"311.67\",\"315\",\"316.67\",\"320\",\"321.67\",\"325\",\"326.67\",\"330\",\"42\",\"42.5\",\"43\",\"32.5\",\"33.5\",\"97\",\"100\",\"101\"],\"Symbol\":[\"AAPL\",\"AAPL\",\"META\",\"AAPL\",\"META\",\"AAPL\",\"META\",\"AAPL\",\"META\",\"AAPL\",\"META\",\"JPM\",\"AMZN\",\"AMZN\",\"AMZN\",\"AMZN\",\"AMZN\",\"AMZN\",\"AMZN\",\"AMZN\",\"AMZN\",\"AMZN\",\"AMZN\",\"AMZN\",\"SWN\",\"BBBY\",\"SWN\",\"BBBY\",\"BBBY\",\"BBBY\",\"BBBY\",\"BBBY\",\"BBBY\",\"CCJ\",\"UBER\",\"PLUG\",\"CCJ\",\"PLUG\",\"UBER\",\"CCJ\",\"CCJ\",\"UBER\",\"CHPT\",\"DKNG\",\"CHPT\",\"DKNG\",\"CHPT\",\"DKNG\",\"CHPT\",\"DKNG\",\"DKNG\",\"DKNG\",\"NIO\",\"F\",\"GM\",\"TWTR\",\"GM\",\"GM\",\"GM\",\"TWTR\",\"JPM\",\"JPM\",\"META\",\"NIO\",\"NIO\",\"NIO\",\"NIO\",\"NIO\",\"OXY\",\"OXY\",\"OXY\",\"OXY\",\"OXY\",\"OXY\",\"OXY\",\"OXY\",\"PLUG\",\"PLUG\",\"PLUG\",\"UBER\",\"PLUG\",\"PLUG\",\"UBER\",\"SBUX\",\"SBUX\",\"SBUX\",\"XOM\",\"SBUX\",\"SBUX\",\"XOM\",\"SBUX\",\"SBUX\",\"SBUX\",\"SNAP\",\"SNAP\",\"SWN\",\"SWN\",\"SWN\",\"TSLA\",\"TSLA\",\"TSLA\",\"TSLA\",\"TSLA\",\"TSLA\",\"TSLA\",\"TSLA\",\"TSLA\",\"TSLA\",\"TSLA\",\"TSLA\",\"TSLA\",\"TSLA\",\"TSLA\",\"TSLA\",\"TSLA\",\"TSLA\",\"TSLA\",\"TSLA\",\"TSLA\",\"TSLA\",\"TSLA\",\"TSLA\",\"TSLA\",\"TSLA\",\"TSLA\",\"TSLA\",\"TSLA\",\"TSLA\",\"TSLA\",\"TSLA\",\"TSLA\",\"TWTR\",\"TWTR\",\"TWTR\",\"UBER\",\"UBER\",\"XOM\",\"XOM\",\"XOM\"],\"bottom\":{\"__ndarray__\":\"AAAAAAAAAAAAAAAAgLXUQAAAAAAAAAAAAAAAAOAG8UAAAAAAAICYQAAAAABgW/VAAAAAAAA0sEAAAAAAoJEAQQAAAACAU8VAAAAAANACBEEAAAAAQF3QQAAAAAAAAAAAAAAAAAAAAAAAAAAAQLP0QAAAAAAgi/VAAAAAANDL+UAAAAAAoC37QAAAAABARPxAAAAAAJBBA0EAAAAAcBMEQQAAAADYegVBAAAAAJhIBkEAAAAAOBUHQQAAAABA9gdBAAAAAAAAAAAAAAAAAAAAAAAAAAAAS8NAAAAAAABcokAAAAAAAIa+QAAAAAAABchAAAAAAID71UAAAAAAAKfbQAAAAACgROZAAAAAAAAAAAAAAAAAAAAAAAAAAAAAAAAAAAAAAIDq1EAAAAAAQD/bQAAAAACAV9ZAAAAAAKAx6UAAAAAAwLrrQAAAAACAXN5AAAAAAAAAAAAAAAAAAAAAAAAAAABA29dAAAAAAMAu2UAAAAAA4NbpQAAAAABAvN1AAAAAACB47EAAAAAAYFPiQAAAAACAjuZAAAAAAMDN60AAAAAAAAAAAAAAAAAAAAAAAAAAAAAAAAAAAAAAAAAAAAAAAACAI9RAAAAAAKCc5EAAAAAAgHHoQAAAAADAptlAAAAAAMBu2kAAAAAA4GHjQAAAAABAx+ZAAAAAAICN0kAAAAAAgPjbQAAAAABg9+JAAAAAAABA6kAAAAAAIJvuQAAAAAAAAAAAAAAAAACUpEAAAAAAAIq6QAAAAACAhc9AAAAAAMAN00AAAAAAAI7WQAAAAAAglOVAAAAAAKCw50AAAAAAABDfQAAAAADA+eBAAAAAAEBG4UAAAAAAoNflQAAAAADAPOJAAAAAAMBB40AAAAAAoA/pQAAAAAAAAAAAAAAAAIBtzEAAAAAAQHPRQAAAAAAAAAAAAAAAAMCU1EAAAAAAgMHiQAAAAAAAiMdAAAAAAOB95EAAAAAAYNvmQAAAAAAAVOdAAAAAAAAAAAAAAAAAADW6QAAAAACgH+RAAAAAALBp9EAAAAAAgKP0QAAAAAAAAAAAAAAAAIBWxkAAAAAAQBXgQAAAAAAgAvNAAAAAAKDp9kAAAAAAkMD4QAAAAAAwJ/xAAAAAALDN/UAAAAAA0Ez+QAAAAADgqf5AAAAAALiFAEEAAAAAYOEAQQAAAADILAFBAAAAAPCXAUEAAAAAiGwCQQAAAAAoxAJBAAAAAJgtBEEAAAAAYJUEQQAAAACoLAVBAAAAAFhBCkEAAAAAqCkLQQAAAACwEA1BAAAAAJC5D0EAAAAAJGkQQQAAAABQtBBBAAAAAOwnEkEAAAAACJcSQQAAAAC4nRNBAAAAACwbFUEAAAAAKA4WQQAAAABkQxZBAAAAAJxEF0EAAAAAoLMXQQAAAAAAnt9AAAAAAKBN6UAAAAAAYHvtQAAAAAAgP+xAAAAAABBP9kAAAAAAwFbeQAAAAAAgQ+BAAAAAACDC60A=\",\"dtype\":\"float64\",\"order\":\"little\",\"shape\":[139]},\"top\":{\"__ndarray__\":\"AAAAAIC11EAAAAAA4AbxQAAAAAAAgJhAAAAAAGBb9UAAAAAAADSwQAAAAACgkQBBAAAAAIBTxUAAAAAA0AIEQQAAAABAXdBAAAAAAFBRD0EAAAAAQMfmQAAAAADAbtpAAAAAAECz9EAAAAAAIIv1QAAAAADQy/lAAAAAAKAt+0AAAAAAQET8QAAAAACQQQNBAAAAAHATBEEAAAAA2HoFQQAAAACYSAZBAAAAADgVB0EAAAAAQPYHQQAAAABIwglBAAAAAABLw0AAAAAAAFyiQAAAAACgH+RAAAAAAACGvkAAAAAAAAXIQAAAAACA+9VAAAAAAACn20AAAAAAoETmQAAAAADAO+lAAAAAAIDq1EAAAAAAgFfWQAAAAABAP9tAAAAAAKAx6UAAAAAAABDfQAAAAACAXN5AAAAAAMC660AAAAAAYPr1QAAAAACg1+VAAAAAAEDb10AAAAAAwC7ZQAAAAADg1ulAAAAAAEC83UAAAAAAIHjsQAAAAABgU+JAAAAAAEC97EAAAAAAgI7mQAAAAADAzetAAAAAAJDC80AAAAAAgI3SQAAAAABANftAAAAAAIAj1EAAAAAAwKbZQAAAAACgnORAAAAAAIBx6EAAAAAA4PvoQAAAAAAAnt9AAAAAAOBh40AAAAAA4HrkQAAAAACA8ulAAAAAAID420AAAAAAYPfiQAAAAAAAQOpAAAAAACCb7kAAAAAAgH3wQAAAAAAAlKRAAAAAAACKukAAAAAAgIXPQAAAAADADdNAAAAAAACO1kAAAAAAIJTlQAAAAACgsOdAAAAAAMCT6kAAAAAAwPngQAAAAABARuFAAAAAAMA84kAAAAAAoA/pQAAAAADAQeNAAAAAAOAI5EAAAAAAID/sQAAAAACAbcxAAAAAAEBz0UAAAAAAwJTUQAAAAAAAiMdAAAAAAIDB4kAAAAAA4H3kQAAAAADAVt5AAAAAAGDb5kAAAAAAAFTnQAAAAADA0elAAAAAAAA1ukAAAAAAQJXkQAAAAACwafRAAAAAAICj9EAAAAAAYGP1QAAAAACAVsZAAAAAAEAV4EAAAAAAIALzQAAAAACg6fZAAAAAAJDA+EAAAAAAMCf8QAAAAACwzf1AAAAAANBM/kAAAAAA4Kn+QAAAAAC4hQBBAAAAAGDhAEEAAAAAyCwBQQAAAADwlwFBAAAAAIhsAkEAAAAAKMQCQQAAAACYLQRBAAAAAGCVBEEAAAAAqCwFQQAAAABYQQpBAAAAAKgpC0EAAAAAsBANQQAAAACQuQ9BAAAAACRpEEEAAAAAULQQQQAAAADsJxJBAAAAAAiXEkEAAAAAuJ0TQQAAAAAsGxVBAAAAACgOFkEAAAAAZEMWQQAAAACcRBdBAAAAAKCzF0EAAAAACE4YQQAAAACgTelAAAAAAGB77UAAAAAAAEz4QAAAAAAQT/ZAAAAAADAN+EAAAAAAIEPgQAAAAAAgwutAAAAAAMAL7UA=\",\"dtype\":\"float64\",\"order\":\"little\",\"shape\":[139]}},\"selected\":{\"id\":\"3218\"},\"selection_policy\":{\"id\":\"3241\"}},\"id\":\"3217\",\"type\":\"ColumnDataSource\"},{\"attributes\":{},\"id\":\"3229\",\"type\":\"AllLabels\"},{\"attributes\":{},\"id\":\"3241\",\"type\":\"UnionRenderers\"},{\"attributes\":{\"coordinates\":null,\"group\":null,\"text\":\"Call\",\"text_color\":\"black\",\"text_font_size\":\"12pt\"},\"id\":\"3188\",\"type\":\"Title\"},{\"attributes\":{\"tools\":[{\"id\":\"3186\"},{\"id\":\"3203\"},{\"id\":\"3204\"},{\"id\":\"3205\"},{\"id\":\"3206\"},{\"id\":\"3207\"}]},\"id\":\"3209\",\"type\":\"Toolbar\"},{\"attributes\":{\"margin\":[5,5,5,5],\"name\":\"HSpacer05902\",\"sizing_mode\":\"stretch_width\"},\"id\":\"3183\",\"type\":\"Spacer\"},{\"attributes\":{},\"id\":\"3204\",\"type\":\"PanTool\"},{\"attributes\":{},\"id\":\"3200\",\"type\":\"BasicTicker\"},{\"attributes\":{\"bottom\":{\"field\":\"bottom\"},\"fill_alpha\":{\"value\":1.0},\"fill_color\":{\"field\":\"Strike\",\"transform\":{\"id\":\"3216\"}},\"hatch_alpha\":{\"value\":1.0},\"hatch_color\":{\"field\":\"Strike\",\"transform\":{\"id\":\"3216\"}},\"hatch_scale\":{\"value\":12.0},\"hatch_weight\":{\"value\":1.0},\"line_alpha\":{\"value\":1.0},\"line_cap\":{\"value\":\"butt\"},\"line_color\":{\"value\":\"black\"},\"line_dash\":{\"value\":[]},\"line_dash_offset\":{\"value\":0},\"line_join\":{\"value\":\"bevel\"},\"line_width\":{\"value\":1},\"top\":{\"field\":\"top\"},\"width\":{\"value\":0.8},\"x\":{\"field\":\"Symbol\"}},\"id\":\"3225\",\"type\":\"VBar\"},{\"attributes\":{\"axis\":{\"id\":\"3199\"},\"coordinates\":null,\"dimension\":1,\"grid_line_color\":null,\"group\":null,\"ticker\":null},\"id\":\"3202\",\"type\":\"Grid\"},{\"attributes\":{},\"id\":\"3228\",\"type\":\"CategoricalTickFormatter\"},{\"attributes\":{\"bottom\":{\"field\":\"bottom\"},\"fill_alpha\":{\"value\":0.1},\"fill_color\":{\"field\":\"Strike\",\"transform\":{\"id\":\"3216\"}},\"hatch_alpha\":{\"value\":0.1},\"hatch_color\":{\"field\":\"Strike\",\"transform\":{\"id\":\"3216\"}},\"line_alpha\":{\"value\":0.1},\"top\":{\"field\":\"top\"},\"width\":{\"value\":0.8},\"x\":{\"field\":\"Symbol\"}},\"id\":\"3221\",\"type\":\"VBar\"},{\"attributes\":{\"callback\":null,\"renderers\":[{\"id\":\"3223\"}],\"tags\":[\"hv_created\"],\"tooltips\":[[\"Symbol\",\"@{Symbol}\"],[\"Strike\",\"@{Strike}\"],[\"Open Int\",\"@{Open_Int}\"]]},\"id\":\"3186\",\"type\":\"HoverTool\"},{\"attributes\":{},\"id\":\"3232\",\"type\":\"AllLabels\"},{\"attributes\":{},\"id\":\"3192\",\"type\":\"CategoricalScale\"},{\"attributes\":{\"bottom_units\":\"screen\",\"coordinates\":null,\"fill_alpha\":0.5,\"fill_color\":\"lightgrey\",\"group\":null,\"left_units\":\"screen\",\"level\":\"overlay\",\"line_alpha\":1.0,\"line_color\":\"black\",\"line_dash\":[4,4],\"line_width\":2,\"right_units\":\"screen\",\"syncable\":false,\"top_units\":\"screen\"},\"id\":\"3208\",\"type\":\"BoxAnnotation\"},{\"attributes\":{\"axis\":{\"id\":\"3196\"},\"coordinates\":null,\"grid_line_color\":null,\"group\":null,\"ticker\":null},\"id\":\"3198\",\"type\":\"Grid\"},{\"attributes\":{\"source\":{\"id\":\"3217\"}},\"id\":\"3224\",\"type\":\"CDSView\"},{\"attributes\":{\"factors\":[\"AAPL\",\"AMZN\",\"BBBY\",\"CCJ\",\"CHPT\",\"DKNG\",\"F\",\"GM\",\"JPM\",\"META\",\"NIO\",\"OXY\",\"PLUG\",\"SBUX\",\"SNAP\",\"SWN\",\"TSLA\",\"TWTR\",\"UBER\",\"XOM\"],\"tags\":[[[\"Symbol\",\"Symbol\",null]]]},\"id\":\"3184\",\"type\":\"FactorRange\"},{\"attributes\":{},\"id\":\"3203\",\"type\":\"SaveTool\"},{\"attributes\":{\"factors\":[\"140\",\"150\",\"152.5\",\"155\",\"157.5\",\"160\",\"120\",\"121\",\"125\",\"128\",\"129\",\"130\",\"131\",\"132\",\"132.5\",\"133\",\"134\",\"136\",\"7\",\"8\",\"8.5\",\"9\",\"9.5\",\"10\",\"10.5\",\"25\",\"30\",\"32\",\"33\",\"18\",\"18.5\",\"19\",\"19.5\",\"17.5\",\"20\",\"15\",\"38\",\"40\",\"41\",\"41.5\",\"115\",\"119\",\"162.5\",\"21\",\"22\",\"22.5\",\"23\",\"23.5\",\"66\",\"67\",\"67.5\",\"68\",\"69\",\"70\",\"71\",\"72\",\"27.5\",\"28.5\",\"30.5\",\"31\",\"31.5\",\"87.5\",\"88\",\"89\",\"90\",\"91\",\"92.5\",\"93\",\"95\",\"11.5\",\"12\",\"6\",\"6.5\",\"7.5\",\"233.33\",\"260\",\"266.67\",\"270\",\"280\",\"283.33\",\"285\",\"288.33\",\"289.17\",\"290\",\"290.83\",\"291.67\",\"292.5\",\"293.33\",\"294.17\",\"295\",\"295.83\",\"298.33\",\"300\",\"301.67\",\"303.33\",\"305\",\"306.67\",\"308.33\",\"310\",\"311.67\",\"315\",\"316.67\",\"320\",\"321.67\",\"325\",\"326.67\",\"330\",\"42\",\"42.5\",\"43\",\"32.5\",\"33.5\",\"97\",\"100\",\"101\"],\"palette\":[\"#259646\",\"#259646\",\"#259646\",\"#259646\",\"#259646\",\"#259646\",\"#259646\",\"#259646\",\"#259646\",\"#259646\",\"#259646\",\"#259646\",\"#259646\",\"#259646\",\"#259646\",\"#259646\",\"#259646\",\"#259646\",\"#259646\",\"#259646\",\"#259646\",\"#259646\",\"#259646\",\"#259646\",\"#259646\",\"#259646\",\"#259646\",\"#259646\",\"#259646\",\"#259646\",\"#259646\",\"#259646\",\"#259646\",\"#259646\",\"#259646\",\"#259646\",\"#259646\",\"#259646\",\"#259646\",\"#259646\",\"#259646\",\"#259646\",\"#259646\",\"#259646\",\"#259646\",\"#259646\",\"#259646\",\"#259646\",\"#259646\",\"#259646\",\"#259646\",\"#259646\",\"#259646\",\"#259646\",\"#259646\",\"#259646\",\"#259646\",\"#259646\",\"#259646\",\"#259646\",\"#259646\",\"#259646\",\"#259646\",\"#259646\",\"#259646\",\"#259646\",\"#259646\",\"#259646\",\"#259646\",\"#259646\",\"#259646\",\"#259646\",\"#259646\",\"#259646\",\"#259646\",\"#259646\",\"#259646\",\"#259646\",\"#259646\",\"#259646\",\"#259646\",\"#259646\",\"#259646\",\"#259646\",\"#259646\",\"#259646\",\"#259646\",\"#259646\",\"#259646\",\"#259646\",\"#259646\",\"#259646\",\"#259646\",\"#259646\",\"#259646\",\"#259646\",\"#259646\",\"#259646\",\"#259646\",\"#259646\",\"#259646\",\"#259646\",\"#259646\",\"#259646\",\"#259646\",\"#259646\",\"#259646\",\"#259646\",\"#259646\",\"#259646\",\"#259646\",\"#259646\",\"#259646\",\"#259646\",\"#259646\"]},\"id\":\"3216\",\"type\":\"CategoricalColorMapper\"},{\"attributes\":{\"below\":[{\"id\":\"3196\"}],\"center\":[{\"id\":\"3198\"},{\"id\":\"3202\"}],\"height\":800,\"left\":[{\"id\":\"3199\"}],\"margin\":[5,5,5,5],\"min_border_bottom\":10,\"min_border_left\":10,\"min_border_right\":10,\"min_border_top\":10,\"renderers\":[{\"id\":\"3223\"}],\"sizing_mode\":\"fixed\",\"title\":{\"id\":\"3188\"},\"toolbar\":{\"id\":\"3209\"},\"width\":1000,\"x_range\":{\"id\":\"3184\"},\"x_scale\":{\"id\":\"3192\"},\"y_range\":{\"id\":\"3185\"},\"y_scale\":{\"id\":\"3194\"}},\"id\":\"3187\",\"subtype\":\"Figure\",\"type\":\"Plot\"},{\"attributes\":{\"end\":433927.9,\"reset_end\":433927.9,\"reset_start\":0.0,\"tags\":[[[\"Open Int\",\"Open Int\",null]]]},\"id\":\"3185\",\"type\":\"Range1d\"},{\"attributes\":{},\"id\":\"3207\",\"type\":\"ResetTool\"},{\"attributes\":{\"bottom\":{\"field\":\"bottom\"},\"fill_alpha\":{\"value\":0.2},\"fill_color\":{\"field\":\"Strike\",\"transform\":{\"id\":\"3216\"}},\"hatch_alpha\":{\"value\":0.2},\"hatch_color\":{\"field\":\"Strike\",\"transform\":{\"id\":\"3216\"}},\"line_alpha\":{\"value\":0.2},\"top\":{\"field\":\"top\"},\"width\":{\"value\":0.8},\"x\":{\"field\":\"Symbol\"}},\"id\":\"3222\",\"type\":\"VBar\"},{\"attributes\":{},\"id\":\"3194\",\"type\":\"LinearScale\"},{\"attributes\":{},\"id\":\"3205\",\"type\":\"WheelZoomTool\"},{\"attributes\":{\"format\":\"%.0f\"},\"id\":\"3226\",\"type\":\"PrintfTickFormatter\"},{\"attributes\":{\"overlay\":{\"id\":\"3208\"}},\"id\":\"3206\",\"type\":\"BoxZoomTool\"},{\"attributes\":{},\"id\":\"3197\",\"type\":\"CategoricalTicker\"},{\"attributes\":{\"axis_label\":\"Open Int\",\"coordinates\":null,\"formatter\":{\"id\":\"3226\"},\"group\":null,\"major_label_policy\":{\"id\":\"3232\"},\"ticker\":{\"id\":\"3200\"}},\"id\":\"3199\",\"type\":\"LinearAxis\"},{\"attributes\":{\"coordinates\":null,\"data_source\":{\"id\":\"3217\"},\"glyph\":{\"id\":\"3220\"},\"group\":null,\"hover_glyph\":null,\"muted_glyph\":{\"id\":\"3222\"},\"nonselection_glyph\":{\"id\":\"3221\"},\"selection_glyph\":{\"id\":\"3225\"},\"view\":{\"id\":\"3224\"}},\"id\":\"3223\",\"type\":\"GlyphRenderer\"},{\"attributes\":{\"bottom\":{\"field\":\"bottom\"},\"fill_color\":{\"field\":\"Strike\",\"transform\":{\"id\":\"3216\"}},\"hatch_color\":{\"field\":\"Strike\",\"transform\":{\"id\":\"3216\"}},\"top\":{\"field\":\"top\"},\"width\":{\"value\":0.8},\"x\":{\"field\":\"Symbol\"}},\"id\":\"3220\",\"type\":\"VBar\"}],\"root_ids\":[\"3182\"]},\"title\":\"Bokeh Application\",\"version\":\"2.4.3\"}};\n",
       "    var render_items = [{\"docid\":\"5b0830fe-c4f2-4c5f-9f6b-256913cd0100\",\"root_ids\":[\"3182\"],\"roots\":{\"3182\":\"11cc9a49-2fab-470c-9616-47f91683bbcd\"}}];\n",
       "    root.Bokeh.embed.embed_items_notebook(docs_json, render_items);\n",
       "  }\n",
       "  if (root.Bokeh !== undefined && root.Bokeh.Panel !== undefined) {\n",
       "    embed_document(root);\n",
       "  } else {\n",
       "    var attempts = 0;\n",
       "    var timer = setInterval(function(root) {\n",
       "      if (root.Bokeh !== undefined && root.Bokeh.Panel !== undefined) {\n",
       "        clearInterval(timer);\n",
       "        embed_document(root);\n",
       "      } else if (document.readyState == \"complete\") {\n",
       "        attempts++;\n",
       "        if (attempts > 200) {\n",
       "          clearInterval(timer);\n",
       "          console.log(\"Bokeh: ERROR: Unable to run BokehJS code because BokehJS library is missing\");\n",
       "        }\n",
       "      }\n",
       "    }, 25, root)\n",
       "  }\n",
       "})(window);</script>"
      ],
      "text/plain": [
       ":Bars   [Symbol,Strike]   (Open Int)"
      ]
     },
     "execution_count": 65,
     "metadata": {
      "application/vnd.holoviews_exec.v0+json": {
       "id": "3182"
      }
     },
     "output_type": "execute_result"
    }
   ],
   "source": [
    "# Calling options_call_bar\n",
    "options_call_bar(df)"
   ]
  },
  {
   "cell_type": "code",
   "execution_count": 66,
   "metadata": {},
   "outputs": [
    {
     "data": {},
     "metadata": {},
     "output_type": "display_data"
    },
    {
     "data": {
      "application/vnd.holoviews_exec.v0+json": "",
      "text/html": [
       "<div id='3291'>\n",
       "  <div class=\"bk-root\" id=\"b03b57b7-6c9a-4462-947b-1a755069da1e\" data-root-id=\"3291\"></div>\n",
       "</div>\n",
       "<script type=\"application/javascript\">(function(root) {\n",
       "  function embed_document(root) {\n",
       "    var docs_json = {\"48ebd959-80ba-4eb8-8b69-5774a627aa38\":{\"defs\":[{\"extends\":null,\"module\":null,\"name\":\"ReactiveHTML1\",\"overrides\":[],\"properties\":[]},{\"extends\":null,\"module\":null,\"name\":\"FlexBox1\",\"overrides\":[],\"properties\":[{\"default\":\"flex-start\",\"kind\":null,\"name\":\"align_content\"},{\"default\":\"flex-start\",\"kind\":null,\"name\":\"align_items\"},{\"default\":\"row\",\"kind\":null,\"name\":\"flex_direction\"},{\"default\":\"wrap\",\"kind\":null,\"name\":\"flex_wrap\"},{\"default\":\"flex-start\",\"kind\":null,\"name\":\"justify_content\"}]},{\"extends\":null,\"module\":null,\"name\":\"GridStack1\",\"overrides\":[],\"properties\":[{\"default\":\"warn\",\"kind\":null,\"name\":\"mode\"},{\"default\":null,\"kind\":null,\"name\":\"ncols\"},{\"default\":null,\"kind\":null,\"name\":\"nrows\"},{\"default\":true,\"kind\":null,\"name\":\"allow_resize\"},{\"default\":true,\"kind\":null,\"name\":\"allow_drag\"},{\"default\":[],\"kind\":null,\"name\":\"state\"}]},{\"extends\":null,\"module\":null,\"name\":\"click1\",\"overrides\":[],\"properties\":[{\"default\":\"\",\"kind\":null,\"name\":\"terminal_output\"},{\"default\":\"\",\"kind\":null,\"name\":\"debug_name\"},{\"default\":0,\"kind\":null,\"name\":\"clears\"}]},{\"extends\":null,\"module\":null,\"name\":\"NotificationAreaBase1\",\"overrides\":[],\"properties\":[{\"default\":\"bottom-right\",\"kind\":null,\"name\":\"position\"},{\"default\":0,\"kind\":null,\"name\":\"_clear\"}]},{\"extends\":null,\"module\":null,\"name\":\"NotificationArea1\",\"overrides\":[],\"properties\":[{\"default\":[],\"kind\":null,\"name\":\"notifications\"},{\"default\":\"bottom-right\",\"kind\":null,\"name\":\"position\"},{\"default\":0,\"kind\":null,\"name\":\"_clear\"},{\"default\":[{\"background\":\"#ffc107\",\"icon\":{\"className\":\"fas fa-exclamation-triangle\",\"color\":\"white\",\"tagName\":\"i\"},\"type\":\"warning\"},{\"background\":\"#007bff\",\"icon\":{\"className\":\"fas fa-info-circle\",\"color\":\"white\",\"tagName\":\"i\"},\"type\":\"info\"}],\"kind\":null,\"name\":\"types\"}]},{\"extends\":null,\"module\":null,\"name\":\"Notification\",\"overrides\":[],\"properties\":[{\"default\":null,\"kind\":null,\"name\":\"background\"},{\"default\":3000,\"kind\":null,\"name\":\"duration\"},{\"default\":null,\"kind\":null,\"name\":\"icon\"},{\"default\":\"\",\"kind\":null,\"name\":\"message\"},{\"default\":null,\"kind\":null,\"name\":\"notification_type\"},{\"default\":false,\"kind\":null,\"name\":\"_destroyed\"}]},{\"extends\":null,\"module\":null,\"name\":\"TemplateActions1\",\"overrides\":[],\"properties\":[{\"default\":0,\"kind\":null,\"name\":\"open_modal\"},{\"default\":0,\"kind\":null,\"name\":\"close_modal\"}]},{\"extends\":null,\"module\":null,\"name\":\"MaterialTemplateActions1\",\"overrides\":[],\"properties\":[{\"default\":0,\"kind\":null,\"name\":\"open_modal\"},{\"default\":0,\"kind\":null,\"name\":\"close_modal\"}]}],\"roots\":{\"references\":[{\"attributes\":{\"bottom\":{\"field\":\"bottom\"},\"fill_alpha\":{\"value\":0.2},\"fill_color\":{\"field\":\"Strike\",\"transform\":{\"id\":\"3325\"}},\"hatch_alpha\":{\"value\":0.2},\"hatch_color\":{\"field\":\"Strike\",\"transform\":{\"id\":\"3325\"}},\"line_alpha\":{\"value\":0.2},\"top\":{\"field\":\"top\"},\"width\":{\"value\":0.8},\"x\":{\"field\":\"Symbol\"}},\"id\":\"3331\",\"type\":\"VBar\"},{\"attributes\":{},\"id\":\"3312\",\"type\":\"SaveTool\"},{\"attributes\":{},\"id\":\"3337\",\"type\":\"CategoricalTickFormatter\"},{\"attributes\":{\"end\":511483.4,\"reset_end\":511483.4,\"reset_start\":0.0,\"tags\":[[[\"Open Int\",\"Open Int\",null]]]},\"id\":\"3294\",\"type\":\"Range1d\"},{\"attributes\":{},\"id\":\"3306\",\"type\":\"CategoricalTicker\"},{\"attributes\":{\"margin\":[5,5,5,5],\"name\":\"HSpacer06116\",\"sizing_mode\":\"stretch_width\"},\"id\":\"3292\",\"type\":\"Spacer\"},{\"attributes\":{\"tools\":[{\"id\":\"3295\"},{\"id\":\"3312\"},{\"id\":\"3313\"},{\"id\":\"3314\"},{\"id\":\"3315\"},{\"id\":\"3316\"}]},\"id\":\"3318\",\"type\":\"Toolbar\"},{\"attributes\":{\"data\":{\"Open_Int\":{\"__ndarray__\":\"AAAAAMAv0kAAAAAAACK3QAAAAAAAIKpAAAAAAACswEAAAAAAkMf4QAAAAACAstVAAAAAAICxx0AAAAAAgGbbQAAAAAAAqblAAAAAAAAslUAAAAAAAFTtQAAAAAAAa8pAAAAAAIBU1kAAAAAAALO8QAAAAABgp+ZAAAAAAIDg20AAAAAAACq7QAAAAACAKsdAAAAAALCZ8EAAAAAAAFXrQAAAAAAAYH9AAAAAAABW1EAAAAAAgAHNQAAAAAAAwK9AAAAAAAAIoUAAAAAAADalQAAAAAAADqVAAAAAAAA+yUAAAAAAADieQAAAAAAAiqpAAAAAAIA+00AAAAAAACqiQAAAAACARsFAAAAAAACa1UAAAAAAAKPUQAAAAAAAmuhAAAAAAIAczkAAAAAAANCwQAAAAAAA2JVAAAAAAADonkAAAAAAAFq7QAAAAACAis1AAAAAAAB1xUAAAAAAAGqqQAAAAAAAXLtAAAAAAKDq9kAAAAAAADDCQAAAAAAAPJZAAAAAAABkmEAAAAAAADm+QAAAAAAAHrpAAAAAAMCs1UAAAAAAABKlQAAAAAAAzJJAAAAAAACoxUAAAAAAAACgQAAAAAAALL9AAAAAAACCpEAAAAAAAGe8QAAAAAAA5qFAAAAAAACuv0AAAAAAAOqzQAAAAAAAXJtAAAAAAACglkAAAAAAAEfRQAAAAABAx+JAAAAAAADYt0AAAAAAAHK7QAAAAAAALKdAAAAAAICyzEAAAAAAgLPVQAAAAAAAuspAAAAAAIBTyEAAAAAAIF/oQAAAAAAAE8pAAAAAAACZ1UAAAAAAAJSRQAAAAAAAQH5AAAAAAAAKqUAAAAAAACieQAAAAAAAaqBAAAAAAAAqp0AAAAAAwMTcQAAAAAAAd8ZAAAAAAEBI3UAAAAAAACK1QAAAAADAJtFAAAAAAIDG2EAAAAAAgOjGQAAAAAAAPbVAAAAAAADMukAAAAAAAEHiQAAAAAAAbctAAAAAAIDMwUAAAAAAgEjEQAAAAACAiMNAAAAAAADu/0AAAAAAUAsCQQAAAAAA8JJAAAAAAAD2s0AAAAAAAOCLQAAAAAAAFJVAAAAAAADUkkAAAAAAAOCLQAAAAAAAQJ5AAAAAAABckUAAAAAAAEigQAAAAAAAwIBAAAAAAACgjkAAAAAAAHSRQAAAAAAA4JlAAAAAAAATsEAAAAAAAAydQAAAAAAAjKpAAAAAAADcmEAAAAAAAGCuQAAAAAAAHrNAAAAAAAD2tkAAAAAAAOSbQAAAAAAAjqFAAAAAAAB6rkAAAAAAAPiqQAAAAABARtBAAAAAAIDu4EAAAAAAANCeQAAAAAAAwqJAAAAAAABwkkAAAAAAAF6oQAAAAAAA/qxAAAAAAAD8n0AAAAAAAD6jQAAAAAAAybtAAAAAAAAKoEAAAAAAAGTGQAAAAACA3cNAAAAAAACQq0AAAAAAAHa/QAAAAAAAmKNAAAAAAACh00AAAAAAQOPdQAAAAACAiMpAAAAAAIBOyEAAAAAAAAbVQAAAAAAA8NJAAAAAAAA8tkAAAAAAAAGyQAAAAAAAJJ1AAAAAAABYi0AAAAAAADDJQAAAAAAAOI9AAAAAAADckUAAAAAAgL3PQAAAAAAARcRAAAAAAIAVwkAAAAAAANW0QAAAAAAAOLFAAAAAAABAk0AAAAAAABiaQAAAAAAACqlAAAAAAABqq0AAAAAAAFahQAAAAACApNpAAAAAAMCX0EAAAAAAgKXRQAAAAAAANbNAAAAAAADVskAAAAAAwCbVQAAAAAAAxqBAAAAAAGAw40AAAAAAAK6vQAAAAACAmMVAAAAAAAAvxEAAAAAAgKDJQAAAAAAALqtAAAAAAAAzsEAAAAAAwKTSQAAAAACAl8dAAAAAAABQxEAAAAAAAMuzQAAAAAAARLRAAAAAAEAA00AAAAAAAEarQAAAAAAApqhAAAAAAABRu0AAAAAAAGK7QAAAAAAAWqtAAAAAAAB2wkAAAAAAADiVQAAAAAAALqpAAAAAAACkr0AAAAAAwLjWQAAAAAAAMKRAAAAAAACks0AAAAAAAH20QAAAAAAABKtAAAAAAABIo0AAAAAAAGibQAAAAACAQNFAAAAAAAAYjEAAAAAAgIfjQA==\",\"dtype\":\"float64\",\"order\":\"little\",\"shape\":[200]},\"Strike\":[\"147\",\"148\",\"149\",\"149\",\"150\",\"150\",\"150\",\"152.5\",\"152.5\",\"152.5\",\"155\",\"155\",\"157.5\",\"157.5\",\"160\",\"160\",\"162.5\",\"162.5\",\"165\",\"170\",\"172.5\",\"175\",\"180\",\"185\",\"72\",\"73\",\"74\",\"75\",\"76\",\"77\",\"80\",\"81\",\"82.5\",\"85\",\"100\",\"100\",\"105\",\"105\",\"119\",\"119\",\"119\",\"120\",\"120\",\"120\",\"120\",\"120\",\"123\",\"123\",\"124\",\"124\",\"125\",\"125\",\"125\",\"125\",\"125\",\"126\",\"126\",\"127\",\"127\",\"128\",\"128\",\"129\",\"129\",\"130\",\"130\",\"130\",\"131\",\"132\",\"132\",\"135\",\"135\",\"140\",\"140\",\"140\",\"145\",\"145\",\"151\",\"166.5\",\"86\",\"87\",\"88\",\"89\",\"90\",\"110\",\"110\",\"115\",\"115\",\"33\",\"33\",\"33.5\",\"34.5\",\"35\",\"8\",\"9\",\"10\",\"14.5\",\"15\",\"16\",\"102\",\"102\",\"115.5\",\"116\",\"116.5\",\"117\",\"117.5\",\"118\",\"118.5\",\"119.5\",\"120.5\",\"103.25\",\"103.75\",\"104\",\"104.25\",\"104.5\",\"104.75\",\"107\",\"122.5\",\"122.5\",\"127.5\",\"28.5\",\"29\",\"29.5\",\"30\",\"37.5\",\"190\",\"195\",\"200\",\"215\",\"215\",\"237.5\",\"242.5\",\"245\",\"247.5\",\"250\",\"250\",\"252.5\",\"255\",\"257.5\",\"260\",\"260\",\"265\",\"265\",\"280\",\"280\",\"205\",\"210\",\"212.5\",\"222.5\",\"225\",\"227.5\",\"232.5\",\"20.5\",\"21\",\"21.5\",\"22\",\"22.5\",\"23\",\"121\",\"133\",\"134\",\"136\",\"45\",\"47\",\"31\",\"32\",\"32.5\",\"17\",\"17.5\",\"18\",\"271.67\",\"273.33\",\"275\",\"276.67\",\"278.33\",\"281.67\",\"283.33\",\"285\",\"286.67\",\"288.33\",\"289.17\",\"290\",\"290.83\",\"291.67\",\"292.5\",\"293.33\",\"294.17\",\"295\",\"295.83\",\"296.67\",\"298.33\",\"300\",\"301.67\",\"303.33\",\"306.67\",\"310\",\"313.33\",\"315\",\"333.33\",\"341.67\",\"12.5\"],\"Symbol\":[\"AAPL\",\"AAPL\",\"AMZN\",\"AAPL\",\"AAPL\",\"META\",\"AMZN\",\"AAPL\",\"META\",\"AMZN\",\"AAPL\",\"META\",\"AAPL\",\"META\",\"AAPL\",\"META\",\"META\",\"AAPL\",\"AAPL\",\"AAPL\",\"AAPL\",\"AAPL\",\"AAPL\",\"AAPL\",\"AMD\",\"AMD\",\"AMD\",\"AMD\",\"AMD\",\"AMD\",\"AMD\",\"AMD\",\"AMD\",\"AMD\",\"AMD\",\"GOOGL\",\"GOOGL\",\"AMD\",\"GOOG\",\"NVDA\",\"AMZN\",\"GOOGL\",\"NVDA\",\"GOOG\",\"BABA\",\"AMZN\",\"AMZN\",\"GOOGL\",\"NVDA\",\"AMZN\",\"GOOGL\",\"AMZN\",\"BABA\",\"GOOG\",\"NVDA\",\"NVDA\",\"AMZN\",\"NVDA\",\"AMZN\",\"NVDA\",\"AMZN\",\"AMZN\",\"NVDA\",\"GOOG\",\"NVDA\",\"AMZN\",\"AMZN\",\"AMZN\",\"NVDA\",\"NVDA\",\"AMZN\",\"META\",\"NVDA\",\"AMZN\",\"AMZN\",\"META\",\"AMZN\",\"AMZN\",\"BABA\",\"BABA\",\"BABA\",\"BABA\",\"BABA\",\"BABA\",\"GOOG\",\"BABA\",\"GOOG\",\"BAC\",\"SHOP\",\"BAC\",\"BAC\",\"BAC\",\"BBBY\",\"BBBY\",\"BBBY\",\"F\",\"F\",\"F\",\"GOOG\",\"GOOGL\",\"GOOG\",\"GOOG\",\"GOOG\",\"GOOG\",\"GOOG\",\"GOOG\",\"GOOG\",\"GOOG\",\"GOOG\",\"GOOGL\",\"GOOGL\",\"GOOGL\",\"GOOGL\",\"GOOGL\",\"GOOGL\",\"GOOGL\",\"GOOGL\",\"NVDA\",\"GOOGL\",\"INTC\",\"INTC\",\"INTC\",\"INTC\",\"INTC\",\"META\",\"META\",\"META\",\"META\",\"NFLX\",\"MSFT\",\"MSFT\",\"MSFT\",\"MSFT\",\"MSFT\",\"NFLX\",\"MSFT\",\"MSFT\",\"MSFT\",\"MSFT\",\"TSLA\",\"TSLA\",\"MSFT\",\"TSLA\",\"MSFT\",\"NFLX\",\"NFLX\",\"NFLX\",\"NFLX\",\"NFLX\",\"NFLX\",\"NFLX\",\"NIO\",\"NIO\",\"NIO\",\"NIO\",\"NIO\",\"NIO\",\"NVDA\",\"NVDA\",\"NVDA\",\"NVDA\",\"PFE\",\"PFE\",\"SHOP\",\"SHOP\",\"SHOP\",\"T\",\"T\",\"T\",\"TSLA\",\"TSLA\",\"TSLA\",\"TSLA\",\"TSLA\",\"TSLA\",\"TSLA\",\"TSLA\",\"TSLA\",\"TSLA\",\"TSLA\",\"TSLA\",\"TSLA\",\"TSLA\",\"TSLA\",\"TSLA\",\"TSLA\",\"TSLA\",\"TSLA\",\"TSLA\",\"TSLA\",\"TSLA\",\"TSLA\",\"TSLA\",\"TSLA\",\"TSLA\",\"TSLA\",\"TSLA\",\"TSLA\",\"TSLA\",\"WBD\"],\"bottom\":{\"__ndarray__\":\"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\",\"dtype\":\"float64\",\"order\":\"little\",\"shape\":[200]},\"top\":{\"__ndarray__\":\"AAAAAMAv0kAAAAAAQPjXQAAAAAAAIKpAAAAAACAn4EAAAAAAkG0AQQAAAACAstVAAAAAAIA5zkAAAAAAYNoDQQAAAADAHNxAAAAAAIBv0EAAAAAAYC8LQQAAAAAgqeRAAAAAAPD5DUEAAAAAgD/oQAAAAADk0RFBAAAAAOAX80AAAAAAgMr0QAAAAAA4ixJBAAAAAKSxFkEAAAAARBwaQQAAAAAcJBpBAAAAAHxpG0EAAAAAiFEcQQAAAAAIkRxBAAAAAAAIoUAAAAAAAB+zQAAAAAAApr1AAAAAAIAI1EAAAAAAAOzVQAAAAABAPdlAAAAAAOA95kAAAAAAgGDnQAAAAAAgsutAAAAAAJA/80AAAAAAUGj4QAAAAAAAmuhAAAAAAJAQ8EAAAAAAUHX5QAAAAAAA2JVAAAAAAADonkAAAAAAAEbXQAAAAADgwfNAAAAAAABSyUAAAAAAAKuyQAAAAAAAXLtAAAAAACC8/EAAAAAAIAL/QAAAAADQGvRAAAAAAIBezEAAAAAA2HIAQQAAAACwvPVAAAAAAHAoA0EAAAAAgPLCQAAAAAAAXrdAAAAAAEAD2UAAAAAAQAPbQAAAAADQIQRBAAAAAICT3UAAAAAACAUFQQAAAABA0N9AAAAAAHgCBkEAAAAAyKEGQQAAAAAAw+BAAAAAAAAGvUAAAAAAgGbpQAAAAACYUwtBAAAAAFgSDEEAAAAA6O0MQQAAAABA2epAAAAAAPAC8UAAAAAAWKQPQQAAAADAIfhAAAAAAGAN9EAAAAAAEN4SQQAAAACorhNBAAAAAACI/UAAAAAAPMATQQAAAADMxxNBAAAAAAA1yUAAAAAAAPrMQAAAAABAitBAAAAAAIBv00AAAAAAIBroQAAAAADgt+1AAAAAAOBE4kAAAAAAEC7wQAAAAABA2OpAAAAAAIDG2EAAAAAAgOjGQAAAAADAFd5AAAAAAGBk4kAAAAAAsFLyQAAAAAAAbctAAAAAAMCc1kAAAAAAgGDgQAAAAACAiMNAAAAAAIgvAUEAAAAAbJ0RQQAAAADAb+tAAAAAABD89kAAAAAAQN/rQAAAAADgh+xAAAAAAIAe7UAAAAAAAI7tQAAAAAAAgO5AAAAAAOAK70AAAAAAsAfwQAAAAAAwKfBAAAAAAHBm8EAAAAAA4EH3QAAAAABgqfdAAAAAAJCq+EAAAAAAwB75QAAAAAAg8/lAAAAAAJBW+kAAAAAAkEn7QAAAAABwe/xAAAAAAMB89UAAAAAAAOv8QAAAAAAAjqFAAAAAAAAEuEAAAAAAAMDCQAAAAABAptlAAAAAAKDB7UAAAAAAQAP+QAAAAABQmf5AAAAAABDj/kAAAAAAAKb/QAAAAAAA/qxAAAAAAAD8n0AAAAAAAJ6xQAAAAACAs8ZAAAAAAAC2ykAAAAAAAI3YQAAAAAAAHctAAAAAAAD/20AAAAAAQO7hQAAAAADAJ+NAAAAAAED47EAAAAAAQOPdQAAAAADAk+VAAAAAAPCF8UAAAAAAYAvwQAAAAADwQfZAAAAAAIAd00AAAAAAwJ3XQAAAAAAAcNlAAAAAAMBK2kAAAAAAYHHjQAAAAABA7uNAAAAAACB95EAAAAAAgL3PQAAAAABAAdpAAAAAAACG4UAAAAAAoCDkQAAAAACgR+ZAAAAAAKDh5kAAAAAAIOX1QAAAAABwrfZAAAAAAMCI90AAAAAAcBP4QAAAAACApNpAAAAAACCe5UAAAAAAwBndQAAAAACA8+BAAAAAACBO40AAAAAAwCbVQAAAAACAP9dAAAAAACDQ7kAAAAAA0AjxQAAAAADgu/NAAAAAAMBB9kAAAAAA0HX5QAAAAABAT/pAAAAAAHBS+0AAAAAAoPv/QAAAAABIdwFBAAAAAEi8AkEAAAAAoFoDQQAAAADA/ANBAAAAAMhcBkEAAAAA4MkGQQAAAAB4LAdBAAAAAAAHCEEAAAAAEOIIQQAAAAB4TwlBAAAAANh2CkEAAAAASKEKQQAAAAAACgtBAAAAAJCIC0EAAAAAqF8OQQAAAABosA5BAAAAAIhND0EAAAAAcPEPQQAAAADALhBBAAAAAFBVEEEAAAAAuHAQQQAAAADAhBFBAAAAAMySEUEAAAAAgIfjQA==\",\"dtype\":\"float64\",\"order\":\"little\",\"shape\":[200]}},\"selected\":{\"id\":\"3327\"},\"selection_policy\":{\"id\":\"3350\"}},\"id\":\"3326\",\"type\":\"ColumnDataSource\"},{\"attributes\":{\"bottom\":{\"field\":\"bottom\"},\"fill_alpha\":{\"value\":1.0},\"fill_color\":{\"field\":\"Strike\",\"transform\":{\"id\":\"3325\"}},\"hatch_alpha\":{\"value\":1.0},\"hatch_color\":{\"field\":\"Strike\",\"transform\":{\"id\":\"3325\"}},\"hatch_scale\":{\"value\":12.0},\"hatch_weight\":{\"value\":1.0},\"line_alpha\":{\"value\":1.0},\"line_cap\":{\"value\":\"butt\"},\"line_color\":{\"value\":\"black\"},\"line_dash\":{\"value\":[]},\"line_dash_offset\":{\"value\":0},\"line_join\":{\"value\":\"bevel\"},\"line_width\":{\"value\":1},\"top\":{\"field\":\"top\"},\"width\":{\"value\":0.8},\"x\":{\"field\":\"Symbol\"}},\"id\":\"3334\",\"type\":\"VBar\"},{\"attributes\":{},\"id\":\"3316\",\"type\":\"ResetTool\"},{\"attributes\":{\"axis_label\":\"Open Int\",\"coordinates\":null,\"formatter\":{\"id\":\"3335\"},\"group\":null,\"major_label_policy\":{\"id\":\"3341\"},\"ticker\":{\"id\":\"3309\"}},\"id\":\"3308\",\"type\":\"LinearAxis\"},{\"attributes\":{\"below\":[{\"id\":\"3305\"}],\"center\":[{\"id\":\"3307\"},{\"id\":\"3311\"}],\"height\":800,\"left\":[{\"id\":\"3308\"}],\"margin\":[5,5,5,5],\"min_border_bottom\":10,\"min_border_left\":10,\"min_border_right\":10,\"min_border_top\":10,\"renderers\":[{\"id\":\"3332\"}],\"sizing_mode\":\"fixed\",\"title\":{\"id\":\"3297\"},\"toolbar\":{\"id\":\"3318\"},\"width\":1000,\"x_range\":{\"id\":\"3293\"},\"x_scale\":{\"id\":\"3301\"},\"y_range\":{\"id\":\"3294\"},\"y_scale\":{\"id\":\"3303\"}},\"id\":\"3296\",\"subtype\":\"Figure\",\"type\":\"Plot\"},{\"attributes\":{\"callback\":null,\"renderers\":[{\"id\":\"3332\"}],\"tags\":[\"hv_created\"],\"tooltips\":[[\"Symbol\",\"@{Symbol}\"],[\"Strike\",\"@{Strike}\"],[\"Open Int\",\"@{Open_Int}\"]]},\"id\":\"3295\",\"type\":\"HoverTool\"},{\"attributes\":{},\"id\":\"3341\",\"type\":\"AllLabels\"},{\"attributes\":{},\"id\":\"3303\",\"type\":\"LinearScale\"},{\"attributes\":{},\"id\":\"3350\",\"type\":\"UnionRenderers\"},{\"attributes\":{\"bottom_units\":\"screen\",\"coordinates\":null,\"fill_alpha\":0.5,\"fill_color\":\"lightgrey\",\"group\":null,\"left_units\":\"screen\",\"level\":\"overlay\",\"line_alpha\":1.0,\"line_color\":\"black\",\"line_dash\":[4,4],\"line_width\":2,\"right_units\":\"screen\",\"syncable\":false,\"top_units\":\"screen\"},\"id\":\"3317\",\"type\":\"BoxAnnotation\"},{\"attributes\":{\"factors\":[\"147\",\"148\",\"149\",\"150\",\"152.5\",\"155\",\"157.5\",\"160\",\"162.5\",\"165\",\"170\",\"172.5\",\"175\",\"180\",\"185\",\"72\",\"73\",\"74\",\"75\",\"76\",\"77\",\"80\",\"81\",\"82.5\",\"85\",\"100\",\"105\",\"119\",\"120\",\"123\",\"124\",\"125\",\"126\",\"127\",\"128\",\"129\",\"130\",\"131\",\"132\",\"135\",\"140\",\"145\",\"151\",\"166.5\",\"86\",\"87\",\"88\",\"89\",\"90\",\"110\",\"115\",\"33\",\"33.5\",\"34.5\",\"35\",\"8\",\"9\",\"10\",\"14.5\",\"15\",\"16\",\"102\",\"115.5\",\"116\",\"116.5\",\"117\",\"117.5\",\"118\",\"118.5\",\"119.5\",\"120.5\",\"103.25\",\"103.75\",\"104\",\"104.25\",\"104.5\",\"104.75\",\"107\",\"122.5\",\"127.5\",\"28.5\",\"29\",\"29.5\",\"30\",\"37.5\",\"190\",\"195\",\"200\",\"215\",\"237.5\",\"242.5\",\"245\",\"247.5\",\"250\",\"252.5\",\"255\",\"257.5\",\"260\",\"265\",\"280\",\"205\",\"210\",\"212.5\",\"222.5\",\"225\",\"227.5\",\"232.5\",\"20.5\",\"21\",\"21.5\",\"22\",\"22.5\",\"23\",\"121\",\"133\",\"134\",\"136\",\"45\",\"47\",\"31\",\"32\",\"32.5\",\"17\",\"17.5\",\"18\",\"271.67\",\"273.33\",\"275\",\"276.67\",\"278.33\",\"281.67\",\"283.33\",\"285\",\"286.67\",\"288.33\",\"289.17\",\"290\",\"290.83\",\"291.67\",\"292.5\",\"293.33\",\"294.17\",\"295\",\"295.83\",\"296.67\",\"298.33\",\"300\",\"301.67\",\"303.33\",\"306.67\",\"310\",\"313.33\",\"315\",\"333.33\",\"341.67\",\"12.5\"],\"palette\":[\"#259646\",\"#259646\",\"#259646\",\"#259646\",\"#259646\",\"#259646\",\"#259646\",\"#259646\",\"#259646\",\"#259646\",\"#259646\",\"#259646\",\"#259646\",\"#259646\",\"#259646\",\"#259646\",\"#259646\",\"#259646\",\"#259646\",\"#259646\",\"#259646\",\"#259646\",\"#259646\",\"#259646\",\"#259646\",\"#259646\",\"#259646\",\"#259646\",\"#259646\",\"#259646\",\"#259646\",\"#259646\",\"#259646\",\"#259646\",\"#259646\",\"#259646\",\"#259646\",\"#259646\",\"#259646\",\"#259646\",\"#259646\",\"#259646\",\"#259646\",\"#259646\",\"#259646\",\"#259646\",\"#259646\",\"#259646\",\"#259646\",\"#259646\",\"#259646\",\"#259646\",\"#259646\",\"#259646\",\"#259646\",\"#259646\",\"#259646\",\"#259646\",\"#259646\",\"#259646\",\"#259646\",\"#259646\",\"#259646\",\"#259646\",\"#259646\",\"#259646\",\"#259646\",\"#259646\",\"#259646\",\"#259646\",\"#259646\",\"#259646\",\"#259646\",\"#259646\",\"#259646\",\"#259646\",\"#259646\",\"#259646\",\"#259646\",\"#259646\",\"#259646\",\"#259646\",\"#259646\",\"#259646\",\"#259646\",\"#259646\",\"#259646\",\"#259646\",\"#259646\",\"#259646\",\"#259646\",\"#259646\",\"#259646\",\"#259646\",\"#259646\",\"#259646\",\"#259646\",\"#259646\",\"#259646\",\"#259646\",\"#259646\",\"#259646\",\"#259646\",\"#259646\",\"#259646\",\"#259646\",\"#259646\",\"#259646\",\"#259646\",\"#259646\",\"#259646\",\"#259646\",\"#259646\",\"#259646\",\"#259646\",\"#259646\",\"#259646\",\"#259646\",\"#259646\",\"#259646\",\"#259646\",\"#259646\",\"#259646\",\"#259646\",\"#259646\",\"#259646\",\"#259646\",\"#259646\",\"#259646\",\"#259646\",\"#259646\",\"#259646\",\"#259646\",\"#259646\",\"#259646\",\"#259646\",\"#259646\",\"#259646\",\"#259646\",\"#259646\",\"#259646\",\"#259646\",\"#259646\",\"#259646\",\"#259646\",\"#259646\",\"#259646\",\"#259646\",\"#259646\",\"#259646\",\"#259646\",\"#259646\",\"#259646\",\"#259646\",\"#259646\",\"#259646\"]},\"id\":\"3325\",\"type\":\"CategoricalColorMapper\"},{\"attributes\":{\"axis\":{\"id\":\"3305\"},\"coordinates\":null,\"grid_line_color\":null,\"group\":null,\"ticker\":null},\"id\":\"3307\",\"type\":\"Grid\"},{\"attributes\":{\"children\":[{\"id\":\"3292\"},{\"id\":\"3296\"},{\"id\":\"3353\"}],\"margin\":[0,0,0,0],\"name\":\"Row06112\",\"tags\":[\"embedded\"]},\"id\":\"3291\",\"type\":\"Row\"},{\"attributes\":{\"bottom\":{\"field\":\"bottom\"},\"fill_color\":{\"field\":\"Strike\",\"transform\":{\"id\":\"3325\"}},\"hatch_color\":{\"field\":\"Strike\",\"transform\":{\"id\":\"3325\"}},\"top\":{\"field\":\"top\"},\"width\":{\"value\":0.8},\"x\":{\"field\":\"Symbol\"}},\"id\":\"3329\",\"type\":\"VBar\"},{\"attributes\":{},\"id\":\"3327\",\"type\":\"Selection\"},{\"attributes\":{\"format\":\"%.0f\"},\"id\":\"3335\",\"type\":\"PrintfTickFormatter\"},{\"attributes\":{\"factors\":[\"AAPL\",\"AMD\",\"AMZN\",\"BABA\",\"BAC\",\"BBBY\",\"F\",\"GOOG\",\"GOOGL\",\"INTC\",\"META\",\"MSFT\",\"NFLX\",\"NIO\",\"NVDA\",\"PFE\",\"SHOP\",\"T\",\"TSLA\",\"WBD\"],\"tags\":[[[\"Symbol\",\"Symbol\",null]]]},\"id\":\"3293\",\"type\":\"FactorRange\"},{\"attributes\":{\"axis_label\":\"Symbol\",\"coordinates\":null,\"formatter\":{\"id\":\"3337\"},\"group\":null,\"major_label_orientation\":1.5707963267948966,\"major_label_policy\":{\"id\":\"3338\"},\"ticker\":{\"id\":\"3306\"}},\"id\":\"3305\",\"type\":\"CategoricalAxis\"},{\"attributes\":{},\"id\":\"3309\",\"type\":\"BasicTicker\"},{\"attributes\":{\"coordinates\":null,\"data_source\":{\"id\":\"3326\"},\"glyph\":{\"id\":\"3329\"},\"group\":null,\"hover_glyph\":null,\"muted_glyph\":{\"id\":\"3331\"},\"nonselection_glyph\":{\"id\":\"3330\"},\"selection_glyph\":{\"id\":\"3334\"},\"view\":{\"id\":\"3333\"}},\"id\":\"3332\",\"type\":\"GlyphRenderer\"},{\"attributes\":{\"margin\":[5,5,5,5],\"name\":\"HSpacer06117\",\"sizing_mode\":\"stretch_width\"},\"id\":\"3353\",\"type\":\"Spacer\"},{\"attributes\":{},\"id\":\"3301\",\"type\":\"CategoricalScale\"},{\"attributes\":{\"axis\":{\"id\":\"3308\"},\"coordinates\":null,\"dimension\":1,\"grid_line_color\":null,\"group\":null,\"ticker\":null},\"id\":\"3311\",\"type\":\"Grid\"},{\"attributes\":{},\"id\":\"3313\",\"type\":\"PanTool\"},{\"attributes\":{},\"id\":\"3314\",\"type\":\"WheelZoomTool\"},{\"attributes\":{},\"id\":\"3338\",\"type\":\"AllLabels\"},{\"attributes\":{\"overlay\":{\"id\":\"3317\"}},\"id\":\"3315\",\"type\":\"BoxZoomTool\"},{\"attributes\":{\"source\":{\"id\":\"3326\"}},\"id\":\"3333\",\"type\":\"CDSView\"},{\"attributes\":{\"coordinates\":null,\"group\":null,\"text\":\"Puts\",\"text_color\":\"black\",\"text_font_size\":\"12pt\"},\"id\":\"3297\",\"type\":\"Title\"},{\"attributes\":{\"bottom\":{\"field\":\"bottom\"},\"fill_alpha\":{\"value\":0.1},\"fill_color\":{\"field\":\"Strike\",\"transform\":{\"id\":\"3325\"}},\"hatch_alpha\":{\"value\":0.1},\"hatch_color\":{\"field\":\"Strike\",\"transform\":{\"id\":\"3325\"}},\"line_alpha\":{\"value\":0.1},\"top\":{\"field\":\"top\"},\"width\":{\"value\":0.8},\"x\":{\"field\":\"Symbol\"}},\"id\":\"3330\",\"type\":\"VBar\"}],\"root_ids\":[\"3291\"]},\"title\":\"Bokeh Application\",\"version\":\"2.4.3\"}};\n",
       "    var render_items = [{\"docid\":\"48ebd959-80ba-4eb8-8b69-5774a627aa38\",\"root_ids\":[\"3291\"],\"roots\":{\"3291\":\"b03b57b7-6c9a-4462-947b-1a755069da1e\"}}];\n",
       "    root.Bokeh.embed.embed_items_notebook(docs_json, render_items);\n",
       "  }\n",
       "  if (root.Bokeh !== undefined && root.Bokeh.Panel !== undefined) {\n",
       "    embed_document(root);\n",
       "  } else {\n",
       "    var attempts = 0;\n",
       "    var timer = setInterval(function(root) {\n",
       "      if (root.Bokeh !== undefined && root.Bokeh.Panel !== undefined) {\n",
       "        clearInterval(timer);\n",
       "        embed_document(root);\n",
       "      } else if (document.readyState == \"complete\") {\n",
       "        attempts++;\n",
       "        if (attempts > 200) {\n",
       "          clearInterval(timer);\n",
       "          console.log(\"Bokeh: ERROR: Unable to run BokehJS code because BokehJS library is missing\");\n",
       "        }\n",
       "      }\n",
       "    }, 25, root)\n",
       "  }\n",
       "})(window);</script>"
      ],
      "text/plain": [
       ":Bars   [Symbol,Strike]   (Open Int)"
      ]
     },
     "execution_count": 66,
     "metadata": {
      "application/vnd.holoviews_exec.v0+json": {
       "id": "3291"
      }
     },
     "output_type": "execute_result"
    }
   ],
   "source": [
    "# Calling options_put_bar\n",
    "options_put_bar(df)"
   ]
  },
  {
   "cell_type": "code",
   "execution_count": null,
   "metadata": {},
   "outputs": [],
   "source": []
  },
  {
   "cell_type": "code",
   "execution_count": 67,
   "metadata": {},
   "outputs": [
    {
     "data": {
      "text/html": [
       "<div>\n",
       "<style scoped>\n",
       "    .dataframe tbody tr th:only-of-type {\n",
       "        vertical-align: middle;\n",
       "    }\n",
       "\n",
       "    .dataframe tbody tr th {\n",
       "        vertical-align: top;\n",
       "    }\n",
       "\n",
       "    .dataframe thead th {\n",
       "        text-align: right;\n",
       "    }\n",
       "</style>\n",
       "<table border=\"1\" class=\"dataframe\">\n",
       "  <thead>\n",
       "    <tr style=\"text-align: right;\">\n",
       "      <th></th>\n",
       "      <th>Symbol</th>\n",
       "      <th>Type</th>\n",
       "      <th>Strike</th>\n",
       "      <th>Exp Date</th>\n",
       "      <th>DTE</th>\n",
       "      <th>Bid</th>\n",
       "      <th>Midpoint</th>\n",
       "      <th>Ask</th>\n",
       "      <th>Last</th>\n",
       "      <th>Volume</th>\n",
       "      <th>Open Int</th>\n",
       "      <th>OI Chg</th>\n",
       "      <th>IV</th>\n",
       "      <th>Time</th>\n",
       "    </tr>\n",
       "  </thead>\n",
       "  <tbody>\n",
       "    <tr>\n",
       "      <th>155</th>\n",
       "      <td>AAL</td>\n",
       "      <td>Call</td>\n",
       "      <td>14.0</td>\n",
       "      <td>2022-09-16</td>\n",
       "      <td>2.0</td>\n",
       "      <td>0.26</td>\n",
       "      <td>0.27</td>\n",
       "      <td>0.27</td>\n",
       "      <td>0.26</td>\n",
       "      <td>10637.0</td>\n",
       "      <td>22188.0</td>\n",
       "      <td>+2,212</td>\n",
       "      <td>58.91%</td>\n",
       "      <td>2022-09-14</td>\n",
       "    </tr>\n",
       "    <tr>\n",
       "      <th>1237</th>\n",
       "      <td>AAPL</td>\n",
       "      <td>Call</td>\n",
       "      <td>140.0</td>\n",
       "      <td>2022-09-16</td>\n",
       "      <td>2.0</td>\n",
       "      <td>15.25</td>\n",
       "      <td>15.40</td>\n",
       "      <td>15.55</td>\n",
       "      <td>15.54</td>\n",
       "      <td>674.0</td>\n",
       "      <td>21206.0</td>\n",
       "      <td>-399</td>\n",
       "      <td>75.41%</td>\n",
       "      <td>2022-09-14</td>\n",
       "    </tr>\n",
       "    <tr>\n",
       "      <th>1119</th>\n",
       "      <td>AAPL</td>\n",
       "      <td>Call</td>\n",
       "      <td>150.0</td>\n",
       "      <td>2022-09-16</td>\n",
       "      <td>2.0</td>\n",
       "      <td>5.45</td>\n",
       "      <td>5.65</td>\n",
       "      <td>5.85</td>\n",
       "      <td>5.80</td>\n",
       "      <td>3846.0</td>\n",
       "      <td>48536.0</td>\n",
       "      <td>-941</td>\n",
       "      <td>44.45%</td>\n",
       "      <td>2022-09-14</td>\n",
       "    </tr>\n",
       "    <tr>\n",
       "      <th>689</th>\n",
       "      <td>AAPL</td>\n",
       "      <td>Call</td>\n",
       "      <td>152.5</td>\n",
       "      <td>2022-09-16</td>\n",
       "      <td>2.0</td>\n",
       "      <td>3.50</td>\n",
       "      <td>3.58</td>\n",
       "      <td>3.65</td>\n",
       "      <td>3.60</td>\n",
       "      <td>9040.0</td>\n",
       "      <td>17736.0</td>\n",
       "      <td>+645</td>\n",
       "      <td>38.43%</td>\n",
       "      <td>2022-09-14</td>\n",
       "    </tr>\n",
       "    <tr>\n",
       "      <th>1142</th>\n",
       "      <td>AAPL</td>\n",
       "      <td>Call</td>\n",
       "      <td>155.0</td>\n",
       "      <td>2022-09-16</td>\n",
       "      <td>2.0</td>\n",
       "      <td>1.88</td>\n",
       "      <td>1.89</td>\n",
       "      <td>1.90</td>\n",
       "      <td>1.90</td>\n",
       "      <td>80360.0</td>\n",
       "      <td>48254.0</td>\n",
       "      <td>-773</td>\n",
       "      <td>36.40%</td>\n",
       "      <td>2022-09-14</td>\n",
       "    </tr>\n",
       "  </tbody>\n",
       "</table>\n",
       "</div>"
      ],
      "text/plain": [
       "     Symbol  Type  Strike    Exp Date  DTE    Bid  Midpoint    Ask   Last  \\\n",
       "155     AAL  Call    14.0  2022-09-16  2.0   0.26      0.27   0.27   0.26   \n",
       "1237   AAPL  Call   140.0  2022-09-16  2.0  15.25     15.40  15.55  15.54   \n",
       "1119   AAPL  Call   150.0  2022-09-16  2.0   5.45      5.65   5.85   5.80   \n",
       "689    AAPL  Call   152.5  2022-09-16  2.0   3.50      3.58   3.65   3.60   \n",
       "1142   AAPL  Call   155.0  2022-09-16  2.0   1.88      1.89   1.90   1.90   \n",
       "\n",
       "       Volume  Open Int  OI Chg      IV        Time  \n",
       "155   10637.0   22188.0  +2,212  58.91%  2022-09-14  \n",
       "1237    674.0   21206.0    -399  75.41%  2022-09-14  \n",
       "1119   3846.0   48536.0    -941  44.45%  2022-09-14  \n",
       "689    9040.0   17736.0    +645  38.43%  2022-09-14  \n",
       "1142  80360.0   48254.0    -773  36.40%  2022-09-14  "
      ]
     },
     "execution_count": 67,
     "metadata": {},
     "output_type": "execute_result"
    }
   ],
   "source": [
    "calls = df[df['Type'] == 'Call'].drop(columns='Price')\n",
    "calls.head()"
   ]
  },
  {
   "cell_type": "code",
   "execution_count": 68,
   "metadata": {},
   "outputs": [
    {
     "data": {
      "text/html": [
       "<div>\n",
       "<style scoped>\n",
       "    .dataframe tbody tr th:only-of-type {\n",
       "        vertical-align: middle;\n",
       "    }\n",
       "\n",
       "    .dataframe tbody tr th {\n",
       "        vertical-align: top;\n",
       "    }\n",
       "\n",
       "    .dataframe thead th {\n",
       "        text-align: right;\n",
       "    }\n",
       "</style>\n",
       "<table border=\"1\" class=\"dataframe\">\n",
       "  <thead>\n",
       "    <tr style=\"text-align: right;\">\n",
       "      <th></th>\n",
       "      <th>Symbol</th>\n",
       "      <th>Type</th>\n",
       "      <th>Strike</th>\n",
       "      <th>Exp Date</th>\n",
       "      <th>DTE</th>\n",
       "      <th>Bid</th>\n",
       "      <th>Midpoint</th>\n",
       "      <th>Ask</th>\n",
       "      <th>Last</th>\n",
       "      <th>Volume</th>\n",
       "      <th>Open Int</th>\n",
       "      <th>OI Chg</th>\n",
       "      <th>IV</th>\n",
       "      <th>Time</th>\n",
       "    </tr>\n",
       "  </thead>\n",
       "  <tbody>\n",
       "    <tr>\n",
       "      <th>1907</th>\n",
       "      <td>AA</td>\n",
       "      <td>Put</td>\n",
       "      <td>43.0</td>\n",
       "      <td>2022-09-16</td>\n",
       "      <td>2.0</td>\n",
       "      <td>0.40</td>\n",
       "      <td>0.43</td>\n",
       "      <td>0.45</td>\n",
       "      <td>0.41</td>\n",
       "      <td>600.0</td>\n",
       "      <td>188.0</td>\n",
       "      <td>-19</td>\n",
       "      <td>83.62%</td>\n",
       "      <td>2022-09-14</td>\n",
       "    </tr>\n",
       "    <tr>\n",
       "      <th>1839</th>\n",
       "      <td>AA</td>\n",
       "      <td>Put</td>\n",
       "      <td>45.0</td>\n",
       "      <td>2022-09-16</td>\n",
       "      <td>2.0</td>\n",
       "      <td>1.16</td>\n",
       "      <td>1.20</td>\n",
       "      <td>1.24</td>\n",
       "      <td>1.19</td>\n",
       "      <td>1360.0</td>\n",
       "      <td>2098.0</td>\n",
       "      <td>-27</td>\n",
       "      <td>82.53%</td>\n",
       "      <td>2022-09-14</td>\n",
       "    </tr>\n",
       "    <tr>\n",
       "      <th>159</th>\n",
       "      <td>AAL</td>\n",
       "      <td>Put</td>\n",
       "      <td>14.0</td>\n",
       "      <td>2022-09-16</td>\n",
       "      <td>2.0</td>\n",
       "      <td>0.23</td>\n",
       "      <td>0.24</td>\n",
       "      <td>0.25</td>\n",
       "      <td>0.24</td>\n",
       "      <td>1931.0</td>\n",
       "      <td>16516.0</td>\n",
       "      <td>+2,156</td>\n",
       "      <td>61.74%</td>\n",
       "      <td>2022-09-14</td>\n",
       "    </tr>\n",
       "    <tr>\n",
       "      <th>112</th>\n",
       "      <td>AAPL</td>\n",
       "      <td>Put</td>\n",
       "      <td>147.0</td>\n",
       "      <td>2022-09-16</td>\n",
       "      <td>2.0</td>\n",
       "      <td>0.10</td>\n",
       "      <td>0.11</td>\n",
       "      <td>0.11</td>\n",
       "      <td>0.11</td>\n",
       "      <td>25360.0</td>\n",
       "      <td>18623.0</td>\n",
       "      <td>+2,786</td>\n",
       "      <td>46.11%</td>\n",
       "      <td>2022-09-14</td>\n",
       "    </tr>\n",
       "    <tr>\n",
       "      <th>117</th>\n",
       "      <td>AAPL</td>\n",
       "      <td>Put</td>\n",
       "      <td>148.0</td>\n",
       "      <td>2022-09-16</td>\n",
       "      <td>2.0</td>\n",
       "      <td>0.14</td>\n",
       "      <td>0.15</td>\n",
       "      <td>0.15</td>\n",
       "      <td>0.14</td>\n",
       "      <td>10389.0</td>\n",
       "      <td>5922.0</td>\n",
       "      <td>+2,731</td>\n",
       "      <td>43.82%</td>\n",
       "      <td>2022-09-14</td>\n",
       "    </tr>\n",
       "  </tbody>\n",
       "</table>\n",
       "</div>"
      ],
      "text/plain": [
       "     Symbol Type  Strike    Exp Date  DTE   Bid  Midpoint   Ask  Last  \\\n",
       "1907     AA  Put    43.0  2022-09-16  2.0  0.40      0.43  0.45  0.41   \n",
       "1839     AA  Put    45.0  2022-09-16  2.0  1.16      1.20  1.24  1.19   \n",
       "159     AAL  Put    14.0  2022-09-16  2.0  0.23      0.24  0.25  0.24   \n",
       "112    AAPL  Put   147.0  2022-09-16  2.0  0.10      0.11  0.11  0.11   \n",
       "117    AAPL  Put   148.0  2022-09-16  2.0  0.14      0.15  0.15  0.14   \n",
       "\n",
       "       Volume  Open Int  OI Chg      IV        Time  \n",
       "1907    600.0     188.0     -19  83.62%  2022-09-14  \n",
       "1839   1360.0    2098.0     -27  82.53%  2022-09-14  \n",
       "159    1931.0   16516.0  +2,156  61.74%  2022-09-14  \n",
       "112   25360.0   18623.0  +2,786  46.11%  2022-09-14  \n",
       "117   10389.0    5922.0  +2,731  43.82%  2022-09-14  "
      ]
     },
     "execution_count": 68,
     "metadata": {},
     "output_type": "execute_result"
    }
   ],
   "source": [
    "puts = df[df['Type'] == 'Put'].drop(columns='Price')\n",
    "puts.head()"
   ]
  },
  {
   "cell_type": "code",
   "execution_count": null,
   "metadata": {},
   "outputs": [],
   "source": []
  },
  {
   "cell_type": "code",
   "execution_count": 74,
   "metadata": {},
   "outputs": [],
   "source": [
    "df = get_data(date)\n",
    "\n",
    "\n",
    "calls = df[df['Type'] == 'Call'].drop(columns='Price')\n",
    "puts = df[df['Type'] == 'Put'].drop(columns='Price')\n"
   ]
  },
  {
   "cell_type": "code",
   "execution_count": null,
   "metadata": {},
   "outputs": [],
   "source": []
  },
  {
   "cell_type": "code",
   "execution_count": 70,
   "metadata": {},
   "outputs": [],
   "source": [
    "# Creates connection.\n",
    "api_alpaca = alpaca.REST(key_id=alpaca_key, secret_key=alpaca_secret, api_version=\"v2\")\n",
    "\n",
    "# Specifies tickers to get from Alpaca API.\n",
    "# df = api_alpaca.get_bars(symbol=[\"FB\",\"MSFT\", \"AAPL\"], timeframe=\"1D\", start=\"2022-01-01\", end=\"2022-05-30\").df\n",
    "df = api_alpaca.get_bars(symbol=[\"META\",\"MSFT\", \"AAPL\"], timeframe=\"1D\", start=start_date, end=end_date).df\n",
    "\n"
   ]
  },
  {
   "cell_type": "code",
   "execution_count": 71,
   "metadata": {},
   "outputs": [],
   "source": [
    "# Specifies which companies to get data for.\n",
    "meta_df = df[df[\"symbol\"]==\"META\"].drop(columns=\"symbol\",axis = 1)\n",
    "\n",
    "msft_df = df[df[\"symbol\"]==\"MSFT\"].drop(columns=\"symbol\",axis = 1)\n",
    "\n",
    "aapl_df = df[df[\"symbol\"]==\"AAPL\"].drop(columns=\"symbol\",axis = 1)\n",
    "\n"
   ]
  },
  {
   "cell_type": "code",
   "execution_count": 72,
   "metadata": {},
   "outputs": [],
   "source": [
    "# Concat data together.\n",
    "meta_msft_aapl_df = pd.concat([meta_df, msft_df, aapl_df], axis = 1, keys = [\"META\",\"MSFT\", \"AAPL\"])\n",
    "\n"
   ]
  },
  {
   "cell_type": "code",
   "execution_count": 73,
   "metadata": {},
   "outputs": [
    {
     "name": "stdout",
     "output_type": "stream",
     "text": [
      "Successfully gathered data from API.\n"
     ]
    },
    {
     "data": {
      "image/png": "[encoded data removed]",
      "text/plain": [
       "<Figure size 640x480 with 1 Axes>"
      ]
     },
     "metadata": {},
     "output_type": "display_data"
    }
   ],
   "source": [
    "# Plots the data frame.\n",
    "plot = meta_msft_aapl_df[\"AAPL\"][\"close\"].plot()\n",
    "\n",
    "# Prints a message.\n",
    "print(f\"Successfully gathered data from API.\")"
   ]
  }
 ],
 "metadata": {
  "kernelspec": {
   "display_name": "Python 3.7.13 ('dev')",
   "language": "python",
   "name": "python3"
  },
  "language_info": {
   "codemirror_mode": {
    "name": "ipython",
    "version": 3
   },
   "file_extension": ".py",
   "mimetype": "text/x-python",
   "name": "python",
   "nbconvert_exporter": "python",
   "pygments_lexer": "ipython3",
   "version": "3.7.13"
  },
  "orig_nbformat": 4,
  "vscode": {
   "interpreter": {
    "hash": "c15db3377afa3dcb659dfa4a45bef3fc6c9aec87eaa6dcb1828c53c173a1512b"
   }
  }
 },
 "nbformat": 4,
 "nbformat_minor": 2
}
